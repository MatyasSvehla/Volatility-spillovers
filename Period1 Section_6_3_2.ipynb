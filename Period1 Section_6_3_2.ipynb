{
 "cells": [
  {
   "cell_type": "markdown",
   "id": "80e44c61-62b3-45b1-9cc8-c4720562915c",
   "metadata": {},
   "source": [
    "# Chapter 6"
   ]
  },
  {
   "cell_type": "markdown",
   "id": "0cd0d235-afed-4cc0-871d-0f336a2c93c4",
   "metadata": {},
   "source": [
    "# Section 6.3.2: Subsample Analysis"
   ]
  },
  {
   "cell_type": "markdown",
   "id": "010b0060-aea8-4237-967f-e814d85ee684",
   "metadata": {},
   "source": [
    "# VAR-BEKK-GARCH model for Period 1 (2007/7 - 2011/9) (Section 6.3.2)"
   ]
  },
  {
   "cell_type": "code",
   "execution_count": 1,
   "id": "0efb695f-127a-4e6c-9f23-d2e02f4b6e9e",
   "metadata": {},
   "outputs": [
    {
     "name": "stderr",
     "output_type": "stream",
     "text": [
      "Loading required package: zoo\n",
      "\n",
      "\n",
      "Attaching package: ‘zoo’\n",
      "\n",
      "\n",
      "The following objects are masked from ‘package:base’:\n",
      "\n",
      "    as.Date, as.Date.numeric\n",
      "\n",
      "\n",
      "\n",
      "Attaching package: ‘MTS’\n",
      "\n",
      "\n",
      "The following object is masked from ‘package:BEKKs’:\n",
      "\n",
      "    backtest\n",
      "\n",
      "\n",
      "Loading required package: MASS\n",
      "\n",
      "Loading required package: strucchange\n",
      "\n",
      "Loading required package: sandwich\n",
      "\n",
      "Loading required package: urca\n",
      "\n",
      "Loading required package: lmtest\n",
      "\n",
      "\n",
      "Attaching package: ‘vars’\n",
      "\n",
      "\n",
      "The following object is masked from ‘package:MTS’:\n",
      "\n",
      "    VAR\n",
      "\n",
      "\n",
      "\n",
      "Please cite as: \n",
      "\n",
      "\n",
      " Hlavac, Marek (2022). stargazer: Well-Formatted Regression and Summary Statistics Tables.\n",
      "\n",
      " R package version 5.2.3. https://CRAN.R-project.org/package=stargazer \n",
      "\n",
      "\n",
      "── \u001b[1mAttaching core tidyverse packages\u001b[22m ──────────────────────── tidyverse 2.0.0 ──\n",
      "\u001b[32m✔\u001b[39m \u001b[34mdplyr    \u001b[39m 1.1.3     \u001b[32m✔\u001b[39m \u001b[34mreadr    \u001b[39m 2.1.4\n",
      "\u001b[32m✔\u001b[39m \u001b[34mforcats  \u001b[39m 1.0.0     \u001b[32m✔\u001b[39m \u001b[34mstringr  \u001b[39m 1.5.0\n",
      "\u001b[32m✔\u001b[39m \u001b[34mggplot2  \u001b[39m 3.4.4     \u001b[32m✔\u001b[39m \u001b[34mtibble   \u001b[39m 3.2.1\n",
      "\u001b[32m✔\u001b[39m \u001b[34mlubridate\u001b[39m 1.9.2     \u001b[32m✔\u001b[39m \u001b[34mtidyr    \u001b[39m 1.3.0\n",
      "\u001b[32m✔\u001b[39m \u001b[34mpurrr    \u001b[39m 1.0.2     \n",
      "── \u001b[1mConflicts\u001b[22m ────────────────────────────────────────── tidyverse_conflicts() ──\n",
      "\u001b[31m✖\u001b[39m \u001b[34mstringr\u001b[39m::\u001b[32mboundary()\u001b[39m masks \u001b[34mstrucchange\u001b[39m::boundary()\n",
      "\u001b[31m✖\u001b[39m \u001b[34mdplyr\u001b[39m::\u001b[32mfilter()\u001b[39m     masks \u001b[34mstats\u001b[39m::filter()\n",
      "\u001b[31m✖\u001b[39m \u001b[34mdplyr\u001b[39m::\u001b[32mfirst()\u001b[39m      masks \u001b[34mxts\u001b[39m::first()\n",
      "\u001b[31m✖\u001b[39m \u001b[34mdplyr\u001b[39m::\u001b[32mlag()\u001b[39m        masks \u001b[34mstats\u001b[39m::lag()\n",
      "\u001b[31m✖\u001b[39m \u001b[34mdplyr\u001b[39m::\u001b[32mlast()\u001b[39m       masks \u001b[34mxts\u001b[39m::last()\n",
      "\u001b[31m✖\u001b[39m \u001b[34mdplyr\u001b[39m::\u001b[32mselect()\u001b[39m     masks \u001b[34mMASS\u001b[39m::select()\n",
      "\u001b[36mℹ\u001b[39m Use the conflicted package (\u001b[3m\u001b[34m<http://conflicted.r-lib.org/>\u001b[39m\u001b[23m) to force all conflicts to become errors\n"
     ]
    }
   ],
   "source": [
    "library(xts)\n",
    "library(BEKKs)\n",
    "library(MTS)\n",
    "library(vars)\n",
    "library(stargazer)\n",
    "library(tidyverse)"
   ]
  },
  {
   "cell_type": "markdown",
   "id": "9aeeabf6-a093-4d40-ba3f-78faaf1119ee",
   "metadata": {},
   "source": [
    "# Dataset Preperation"
   ]
  },
  {
   "cell_type": "code",
   "execution_count": 2,
   "id": "4ce9688c-e4c4-42c6-9e2e-d25d2f5abb5d",
   "metadata": {},
   "outputs": [
    {
     "data": {
      "text/plain": [
       "                     usc           lc\n",
       "2007-07-06  0.0033026687  0.005272420\n",
       "2007-07-09 -0.0108928380 -0.013233541\n",
       "2007-07-10 -0.0378502241 -0.040784991\n",
       "2007-07-11  0.0210431058  0.019240172\n",
       "2007-07-12  0.0057943185  0.004526943\n",
       "2007-07-13 -0.0009633912 -0.004526943"
      ]
     },
     "metadata": {},
     "output_type": "display_data"
    },
    {
     "data": {
      "text/plain": [
       "                  eurusd        gbpusd        chfusd        usdgbp       eurgbp\n",
       "2007-07-06  2.240547e-03 -0.0004972527 -0.0003044418  0.0007037652  0.002659380\n",
       "2007-07-09  7.337565e-05  0.0022605055  0.0012172115 -0.0025157246 -0.001993871\n",
       "2007-07-10  8.584371e-03  0.0057647029  0.0115503355 -0.0056582954  0.002805051\n",
       "2007-07-11 -7.274844e-05  0.0027838359 -0.0029504763 -0.0026379885 -0.002952903\n",
       "2007-07-12  3.485969e-03 -0.0009845428  0.0028903495  0.0008124302  0.004573291\n",
       "2007-07-13 -7.252421e-04  0.0019435396  0.0000000000 -0.0020323145 -0.003391083\n",
       "                  chfgbp        ghsusd        ghsgbp\n",
       "2007-07-06  0.0001273483 -0.0033264938 -2.614079e-03\n",
       "2007-07-09 -0.0009873737  0.0040086898  1.236683e-03\n",
       "2007-07-10  0.0059364761 -0.0002705906 -5.801912e-03\n",
       "2007-07-11 -0.0057330414  0.0026887042  4.994937e-05\n",
       "2007-07-12  0.0037670817  0.0027212691  3.716576e-03\n",
       "2007-07-13 -0.0020261005 -0.0051426368 -7.210559e-03"
      ]
     },
     "metadata": {},
     "output_type": "display_data"
    }
   ],
   "source": [
    "fr_d <- readRDS(\"fr_d.Rds\")\n",
    "fp_d <- readRDS(\"fp_d.Rds\")\n",
    "cr_d <- readRDS(\"cr_d.Rds\")\n",
    "cp_d <- readRDS(\"cp_d.Rds\")\n",
    "head(cr_d)\n",
    "head(fr_d)\n",
    "us_d <- cr_d[,1]\n",
    "l_d <- cr_d[,2]"
   ]
  },
  {
   "cell_type": "code",
   "execution_count": 3,
   "id": "c8771c0b-0115-42aa-9552-c39e05b456fd",
   "metadata": {},
   "outputs": [
    {
     "data": {
      "text/plain": [
       "                  eurusd        gbpusd        chfusd        usdgbp       eurgbp\n",
       "2007-07-06  2.240547e-03 -0.0004972527 -0.0003044418  0.0007037652  0.002659380\n",
       "2007-07-09  7.337565e-05  0.0022605055  0.0012172115 -0.0025157246 -0.001993871\n",
       "2007-07-10  8.584371e-03  0.0057647029  0.0115503355 -0.0056582954  0.002805051\n",
       "2007-07-11 -7.274844e-05  0.0027838359 -0.0029504763 -0.0026379885 -0.002952903\n",
       "2007-07-12  3.485969e-03 -0.0009845428  0.0028903495  0.0008124302  0.004573291\n",
       "2007-07-13 -7.252421e-04  0.0019435396  0.0000000000 -0.0020323145 -0.003391083\n",
       "                  chfgbp        ghsusd        ghsgbp\n",
       "2007-07-06  0.0001273483 -0.0033264938 -2.614079e-03\n",
       "2007-07-09 -0.0009873737  0.0040086898  1.236683e-03\n",
       "2007-07-10  0.0059364761 -0.0002705906 -5.801912e-03\n",
       "2007-07-11 -0.0057330414  0.0026887042  4.994937e-05\n",
       "2007-07-12  0.0037670817  0.0027212691  3.716576e-03\n",
       "2007-07-13 -0.0020261005 -0.0051426368 -7.210559e-03"
      ]
     },
     "metadata": {},
     "output_type": "display_data"
    },
    {
     "data": {
      "text/plain": [
       "            eurusd  gbpusd  chfusd  usdgbp  eurgbp   chfgbp   ghsusd    ghsgbp\n",
       "2007-07-05 1.35975 2.01155 0.82130 0.49715 0.67595 0.408303 1.074838 0.5343465\n",
       "2007-07-06 1.36280 2.01055 0.82105 0.49750 0.67775 0.408355 1.071268 0.5329515\n",
       "2007-07-09 1.36290 2.01510 0.82205 0.49625 0.67640 0.407952 1.075571 0.5336110\n",
       "2007-07-10 1.37465 2.02675 0.83160 0.49345 0.67830 0.410381 1.075280 0.5305240\n",
       "2007-07-11 1.37455 2.03240 0.82915 0.49215 0.67630 0.408035 1.078175 0.5305505\n",
       "2007-07-12 1.37935 2.03040 0.83155 0.49255 0.67940 0.409575 1.081113 0.5325260"
      ]
     },
     "metadata": {},
     "output_type": "display_data"
    }
   ],
   "source": [
    "head(fr_d)\n",
    "head(fp_d)"
   ]
  },
  {
   "cell_type": "code",
   "execution_count": 4,
   "id": "803a0600-e639-4027-946f-3b08fb70596f",
   "metadata": {},
   "outputs": [
    {
     "data": {
      "text/plain": [
       "                US Cocoa London Cocoa        EURUSD        GBPUSD        CHFUSD\n",
       "2007-07-06  0.0033026687  0.005272420  2.240547e-03 -0.0004972527 -0.0003044418\n",
       "2007-07-09 -0.0108928380 -0.013233541  7.337565e-05  0.0022605055  0.0012172115\n",
       "2007-07-10 -0.0378502241 -0.040784991  8.584371e-03  0.0057647029  0.0115503355\n",
       "2007-07-11  0.0210431058  0.019240172 -7.274844e-05  0.0027838359 -0.0029504763\n",
       "2007-07-12  0.0057943185  0.004526943  3.485969e-03 -0.0009845428  0.0028903495\n",
       "2007-07-13 -0.0009633912 -0.004526943 -7.252421e-04  0.0019435396  0.0000000000\n",
       "                  USDGBP       EURGBP        CHFGBP        GHSUSD        GHSGBP\n",
       "2007-07-06  0.0007037652  0.002659380  0.0001273483 -0.0033264938 -2.614079e-03\n",
       "2007-07-09 -0.0025157246 -0.001993871 -0.0009873737  0.0040086898  1.236683e-03\n",
       "2007-07-10 -0.0056582954  0.002805051  0.0059364761 -0.0002705906 -5.801912e-03\n",
       "2007-07-11 -0.0026379885 -0.002952903 -0.0057330414  0.0026887042  4.994937e-05\n",
       "2007-07-12  0.0008124302  0.004573291  0.0037670817  0.0027212691  3.716576e-03\n",
       "2007-07-13 -0.0020323145 -0.003391083 -0.0020261005 -0.0051426368 -7.210559e-03"
      ]
     },
     "metadata": {},
     "output_type": "display_data"
    }
   ],
   "source": [
    "d <- na.omit(merge(cr_d,fr_d))\n",
    "colnames(d) <- c(\"US Cocoa\",\"London Cocoa\",\"EURUSD\",\"GBPUSD\",\"CHFUSD\",\"USDGBP\",\"EURGBP\",\"CHFGBP\",\"GHSUSD\",\"GHSGBP\")\n",
    "head(d)"
   ]
  },
  {
   "cell_type": "code",
   "execution_count": 5,
   "id": "773881f8-0ebc-40f8-a90a-d32a2d89364a",
   "metadata": {},
   "outputs": [
    {
     "data": {
      "text/plain": [
       "           US Cocoa London Cocoa  EURUSD  GBPUSD  CHFUSD  USDGBP  EURGBP\n",
       "2007-07-05     2116         1135 1.35975 2.01155 0.82130 0.49715 0.67595\n",
       "2007-07-06     2123         1141 1.36280 2.01055 0.82105 0.49750 0.67775\n",
       "2007-07-09     2100         1126 1.36290 2.01510 0.82205 0.49625 0.67640\n",
       "2007-07-10     2022         1081 1.37465 2.02675 0.83160 0.49345 0.67830\n",
       "2007-07-11     2065         1102 1.37455 2.03240 0.82915 0.49215 0.67630\n",
       "2007-07-12     2077         1107 1.37935 2.03040 0.83155 0.49255 0.67940\n",
       "             CHFGBP   GHSUSD    GHSGBP\n",
       "2007-07-05 0.408303 1.074838 0.5343465\n",
       "2007-07-06 0.408355 1.071268 0.5329515\n",
       "2007-07-09 0.407952 1.075571 0.5336110\n",
       "2007-07-10 0.410381 1.075280 0.5305240\n",
       "2007-07-11 0.408035 1.078175 0.5305505\n",
       "2007-07-12 0.409575 1.081113 0.5325260"
      ]
     },
     "metadata": {},
     "output_type": "display_data"
    },
    {
     "data": {
      "text/plain": [
       "           US Cocoa London Cocoa  EURUSD  GBPUSD  CHFUSD  USDGBP EURGBP  CHFGBP\n",
       "2024-04-26    10594         8979 1.06940 1.24910 1.09385 0.80055 0.8561 0.87570\n",
       "2024-04-29     8931         7678 1.07210 1.25630 1.09830 0.79600 0.8534 0.87425\n",
       "2024-04-30     9283         7929 1.06655 1.24910 1.08765 0.80055 0.8538 0.87070\n",
       "2024-05-01     8284         7250 1.07110 1.25270 1.09215 0.79830 0.8554 0.87190\n",
       "2024-05-02     7563         6555 1.07270 1.25340 1.09820 0.79780 0.8555 0.87620\n",
       "2024-05-03     8145         6887 1.07600 1.25465 1.10425 0.79705 0.8577 0.88010\n",
       "              GHSUSD    GHSGBP\n",
       "2024-04-26 0.0735850 0.0589105\n",
       "2024-04-29 0.0732610 0.0583150\n",
       "2024-04-30 0.0731535 0.0585630\n",
       "2024-05-01 0.0729935 0.0582690\n",
       "2024-05-02 0.0727285 0.0580250\n",
       "2024-05-03 0.0728340 0.0580515"
      ]
     },
     "metadata": {},
     "output_type": "display_data"
    },
    {
     "name": "stdout",
     "output_type": "stream",
     "text": [
      "An xts object on 2007-07-05 / 2024-05-03 containing: \n",
      "  Data:    double [4176, 10]\n",
      "  Columns: US Cocoa, London Cocoa, EURUSD, GBPUSD, CHFUSD ... with 5 more columns\n",
      "  Index:   Date [4176] (TZ: \"UTC\")\n",
      "  xts Attributes:\n",
      "    $ na.action: 'omit' int [1:216] 38 43 101 102 123 124 125 129 143 163 ...\n",
      "  ..- attr(*, \"index\")= num [1:216] 1.19e+09 1.19e+09 1.20e+09 1.20e+09 1.20e+09 ...\n"
     ]
    }
   ],
   "source": [
    "d_p <- na.omit(merge(cp_d,fp_d))\n",
    "colnames(d_p) <- c(\"US Cocoa\",\"London Cocoa\",\"EURUSD\",\"GBPUSD\",\"CHFUSD\",\"USDGBP\",\"EURGBP\",\"CHFGBP\",\"GHSUSD\",\"GHSGBP\")\n",
    "head(d_p)\n",
    "tail(d_p)\n",
    "str(d_p)"
   ]
  },
  {
   "cell_type": "markdown",
   "id": "67aa1217-48f0-4496-a483-4ef18f168fe0",
   "metadata": {},
   "source": [
    "# Period 1: Data 2007/7 - 2011/9"
   ]
  },
  {
   "cell_type": "code",
   "execution_count": 6,
   "id": "683eab69-48a8-4829-bfc3-e0cc0c8858f9",
   "metadata": {},
   "outputs": [
    {
     "name": "stdout",
     "output_type": "stream",
     "text": [
      "An xts object on 2007-07-06 / 2011-09-30 containing: \n",
      "  Data:    double [1049, 10]\n",
      "  Columns: US Cocoa, London Cocoa, EURUSD, GBPUSD, CHFUSD ... with 5 more columns\n",
      "  Index:   Date [1049] (TZ: \"UTC\")\n",
      "  xts Attributes:\n",
      "    $ na.action       : 'omit' int [1:216] 37 42 100 101 122 123 124 128 142 162 ...\n",
      "  ..- attr(*, \"index\")= num [1:216] 1.19e+09 1.19e+09 1.20e+09 1.20e+09 1.20e+09 ...\n",
      "    $ ret_type        : chr \"log\"\n",
      "    $ coredata_content: chr \"logReturn\"\n"
     ]
    },
    {
     "data": {
      "text/plain": [
       "                US Cocoa London Cocoa        EURUSD        GBPUSD        CHFUSD\n",
       "2007-07-06  0.0033026687  0.005272420  2.240547e-03 -0.0004972527 -0.0003044418\n",
       "2007-07-09 -0.0108928380 -0.013233541  7.337565e-05  0.0022605055  0.0012172115\n",
       "2007-07-10 -0.0378502241 -0.040784991  8.584371e-03  0.0057647029  0.0115503355\n",
       "2007-07-11  0.0210431058  0.019240172 -7.274844e-05  0.0027838359 -0.0029504763\n",
       "2007-07-12  0.0057943185  0.004526943  3.485969e-03 -0.0009845428  0.0028903495\n",
       "2007-07-13 -0.0009633912 -0.004526943 -7.252421e-04  0.0019435396  0.0000000000\n",
       "                  USDGBP       EURGBP        CHFGBP        GHSUSD        GHSGBP\n",
       "2007-07-06  0.0007037652  0.002659380  0.0001273483 -0.0033264938 -2.614079e-03\n",
       "2007-07-09 -0.0025157246 -0.001993871 -0.0009873737  0.0040086898  1.236683e-03\n",
       "2007-07-10 -0.0056582954  0.002805051  0.0059364761 -0.0002705906 -5.801912e-03\n",
       "2007-07-11 -0.0026379885 -0.002952903 -0.0057330414  0.0026887042  4.994937e-05\n",
       "2007-07-12  0.0008124302  0.004573291  0.0037670817  0.0027212691  3.716576e-03\n",
       "2007-07-13 -0.0020323145 -0.003391083 -0.0020261005 -0.0051426368 -7.210559e-03"
      ]
     },
     "metadata": {},
     "output_type": "display_data"
    },
    {
     "data": {
      "text/plain": [
       "              US Cocoa London Cocoa       EURUSD       GBPUSD       CHFUSD\n",
       "2011-09-23 -0.01739818 -0.022397353  0.002819098  0.008342714  0.002539799\n",
       "2011-09-26  0.01298479  0.006772035  0.003106626  0.006380326  0.004880042\n",
       "2011-09-27  0.01645075  0.006726483  0.003759403  0.004358981  0.005842713\n",
       "2011-09-28 -0.02014351 -0.016901811 -0.003611709 -0.003652562 -0.004491362\n",
       "2011-09-29  0.01103764  0.007923075  0.003758849  0.003236715  0.003235812\n",
       "2011-09-30 -0.03159527 -0.026272214 -0.015382353 -0.002755352 -0.011870781\n",
       "                 USDGBP        EURGBP        CHFGBP        GHSUSD       GHSGBP\n",
       "2011-09-23 -0.008394027 -0.0046255400 -0.0056419176 -0.0094318412 -0.017836194\n",
       "2011-09-26 -0.005816901 -0.0044170443 -0.0009013486 -0.0004104134 -0.006455727\n",
       "2011-09-27 -0.005068830 -0.0004025186  0.0008705228  0.0005667548 -0.004261738\n",
       "2011-09-28  0.004134978  0.0000000000 -0.0004106353  0.0000000000  0.004078864\n",
       "2011-09-29 -0.003197258  0.0006899328 -0.0004556802 -0.0049640488 -0.008178170\n",
       "2011-09-30  0.002418381 -0.0126668167 -0.0090966262 -0.0053142702 -0.002884669"
      ]
     },
     "metadata": {},
     "output_type": "display_data"
    }
   ],
   "source": [
    "d <- d[\"2007-7/2011-9\"]\n",
    "str(d)\n",
    "head(d)\n",
    "tail(d)"
   ]
  },
  {
   "cell_type": "markdown",
   "id": "09053544-2cc6-4999-a969-3f6e56fd3313",
   "metadata": {},
   "source": [
    "# VAR-BEKK Models for the subsample"
   ]
  },
  {
   "cell_type": "markdown",
   "id": "0d8564bf-f5de-46a0-a7fc-62654fd01007",
   "metadata": {},
   "source": [
    "#### The estimation of the VAR-BEKK model is conducted in two stages, VAR model is the model specification for the mean equation (first stage) and BEKK is the specification for the variance equation (second stage)."
   ]
  },
  {
   "cell_type": "markdown",
   "id": "a499abec-7aba-4c37-a92c-2cd5c98ff423",
   "metadata": {},
   "source": [
    "## (i) Spillover between US Cocoa and London Cocoa"
   ]
  },
  {
   "cell_type": "code",
   "execution_count": 7,
   "id": "aa6fee3e-0a9d-4828-bcee-0d03736e7f2d",
   "metadata": {},
   "outputs": [
    {
     "name": "stdout",
     "output_type": "stream",
     "text": [
      "An xts object on 2007-07-06 / 2011-09-30 containing: \n",
      "  Data:    double [1049, 2]\n",
      "  Columns: usc, lc\n",
      "  Index:   Date [1049] (TZ: \"UTC\")\n",
      "  xts Attributes:\n",
      "    $ na.action       : 'omit' int [1:159] 37 42 100 101 122 123 140 160 184 214 ...\n",
      "  ..- attr(*, \"index\")= num [1:159] 1.19e+09 1.19e+09 1.20e+09 1.20e+09 1.20e+09 ...\n",
      "    $ ret_type        : chr \"log\"\n",
      "    $ coredata_content: chr \"logReturn\"\n"
     ]
    }
   ],
   "source": [
    "cr_d <- cr_d[\"2007-7/2011-9\"]\n",
    "str(cr_d)"
   ]
  },
  {
   "cell_type": "code",
   "execution_count": 8,
   "id": "3db4e6ba-f6d4-4529-8dc9-d4a206733e62",
   "metadata": {},
   "outputs": [
    {
     "data": {
      "text/html": [
       "<dl>\n",
       "\t<dt>$selection</dt>\n",
       "\t\t<dd><style>\n",
       ".dl-inline {width: auto; margin:0; padding: 0}\n",
       ".dl-inline>dt, .dl-inline>dd {float: none; width: auto; display: inline-block}\n",
       ".dl-inline>dt::after {content: \":\\0020\"; padding-right: .5ex}\n",
       ".dl-inline>dt:not(:first-of-type) {padding-left: .5ex}\n",
       "</style><dl class=dl-inline><dt>AIC(n)</dt><dd>1</dd><dt>HQ(n)</dt><dd>1</dd><dt>SC(n)</dt><dd>1</dd><dt>FPE(n)</dt><dd>1</dd></dl>\n",
       "</dd>\n",
       "\t<dt>$criteria</dt>\n",
       "\t\t<dd><table class=\"dataframe\">\n",
       "<caption>A matrix: 4 × 10 of type dbl</caption>\n",
       "<thead>\n",
       "\t<tr><th></th><th scope=col>1</th><th scope=col>2</th><th scope=col>3</th><th scope=col>4</th><th scope=col>5</th><th scope=col>6</th><th scope=col>7</th><th scope=col>8</th><th scope=col>9</th><th scope=col>10</th></tr>\n",
       "</thead>\n",
       "<tbody>\n",
       "\t<tr><th scope=row>AIC(n)</th><td>-1.731155e+01</td><td>-1.730841e+01</td><td>-1.730374e+01</td><td>-1.729952e+01</td><td>-1.729371e+01</td><td>-1.728852e+01</td><td>-1.729191e+01</td><td>-1.728968e+01</td><td>-1.728789e+01</td><td>-1.728404e+01</td></tr>\n",
       "\t<tr><th scope=row>HQ(n)</th><td>-1.730071e+01</td><td>-1.729035e+01</td><td>-1.727846e+01</td><td>-1.726701e+01</td><td>-1.725399e+01</td><td>-1.724156e+01</td><td>-1.723773e+01</td><td>-1.722828e+01</td><td>-1.721927e+01</td><td>-1.720819e+01</td></tr>\n",
       "\t<tr><th scope=row>SC(n)</th><td>-1.728298e+01</td><td>-1.726081e+01</td><td>-1.723709e+01</td><td>-1.721383e+01</td><td>-1.718899e+01</td><td>-1.716475e+01</td><td>-1.714910e+01</td><td>-1.712783e+01</td><td>-1.710700e+01</td><td>-1.708410e+01</td></tr>\n",
       "\t<tr><th scope=row>FPE(n)</th><td> 3.031737e-08</td><td> 3.041259e-08</td><td> 3.055499e-08</td><td> 3.068420e-08</td><td> 3.086283e-08</td><td> 3.102369e-08</td><td> 3.091874e-08</td><td> 3.098762e-08</td><td> 3.104326e-08</td><td> 3.116331e-08</td></tr>\n",
       "</tbody>\n",
       "</table>\n",
       "</dd>\n",
       "</dl>\n"
      ],
      "text/latex": [
       "\\begin{description}\n",
       "\\item[\\$selection] \\begin{description*}\n",
       "\\item[AIC(n)] 1\n",
       "\\item[HQ(n)] 1\n",
       "\\item[SC(n)] 1\n",
       "\\item[FPE(n)] 1\n",
       "\\end{description*}\n",
       "\n",
       "\\item[\\$criteria] A matrix: 4 × 10 of type dbl\n",
       "\\begin{tabular}{r|llllllllll}\n",
       "  & 1 & 2 & 3 & 4 & 5 & 6 & 7 & 8 & 9 & 10\\\\\n",
       "\\hline\n",
       "\tAIC(n) & -1.731155e+01 & -1.730841e+01 & -1.730374e+01 & -1.729952e+01 & -1.729371e+01 & -1.728852e+01 & -1.729191e+01 & -1.728968e+01 & -1.728789e+01 & -1.728404e+01\\\\\n",
       "\tHQ(n) & -1.730071e+01 & -1.729035e+01 & -1.727846e+01 & -1.726701e+01 & -1.725399e+01 & -1.724156e+01 & -1.723773e+01 & -1.722828e+01 & -1.721927e+01 & -1.720819e+01\\\\\n",
       "\tSC(n) & -1.728298e+01 & -1.726081e+01 & -1.723709e+01 & -1.721383e+01 & -1.718899e+01 & -1.716475e+01 & -1.714910e+01 & -1.712783e+01 & -1.710700e+01 & -1.708410e+01\\\\\n",
       "\tFPE(n) &  3.031737e-08 &  3.041259e-08 &  3.055499e-08 &  3.068420e-08 &  3.086283e-08 &  3.102369e-08 &  3.091874e-08 &  3.098762e-08 &  3.104326e-08 &  3.116331e-08\\\\\n",
       "\\end{tabular}\n",
       "\n",
       "\\end{description}\n"
      ],
      "text/markdown": [
       "$selection\n",
       ":   AIC(n)\n",
       ":   1HQ(n)\n",
       ":   1SC(n)\n",
       ":   1FPE(n)\n",
       ":   1\n",
       "\n",
       "\n",
       "$criteria\n",
       ":   \n",
       "A matrix: 4 × 10 of type dbl\n",
       "\n",
       "| <!--/--> | 1 | 2 | 3 | 4 | 5 | 6 | 7 | 8 | 9 | 10 |\n",
       "|---|---|---|---|---|---|---|---|---|---|---|\n",
       "| AIC(n) | -1.731155e+01 | -1.730841e+01 | -1.730374e+01 | -1.729952e+01 | -1.729371e+01 | -1.728852e+01 | -1.729191e+01 | -1.728968e+01 | -1.728789e+01 | -1.728404e+01 |\n",
       "| HQ(n) | -1.730071e+01 | -1.729035e+01 | -1.727846e+01 | -1.726701e+01 | -1.725399e+01 | -1.724156e+01 | -1.723773e+01 | -1.722828e+01 | -1.721927e+01 | -1.720819e+01 |\n",
       "| SC(n) | -1.728298e+01 | -1.726081e+01 | -1.723709e+01 | -1.721383e+01 | -1.718899e+01 | -1.716475e+01 | -1.714910e+01 | -1.712783e+01 | -1.710700e+01 | -1.708410e+01 |\n",
       "| FPE(n) |  3.031737e-08 |  3.041259e-08 |  3.055499e-08 |  3.068420e-08 |  3.086283e-08 |  3.102369e-08 |  3.091874e-08 |  3.098762e-08 |  3.104326e-08 |  3.116331e-08 |\n",
       "\n",
       "\n",
       "\n",
       "\n"
      ],
      "text/plain": [
       "$selection\n",
       "AIC(n)  HQ(n)  SC(n) FPE(n) \n",
       "     1      1      1      1 \n",
       "\n",
       "$criteria\n",
       "                   1             2             3             4             5\n",
       "AIC(n) -1.731155e+01 -1.730841e+01 -1.730374e+01 -1.729952e+01 -1.729371e+01\n",
       "HQ(n)  -1.730071e+01 -1.729035e+01 -1.727846e+01 -1.726701e+01 -1.725399e+01\n",
       "SC(n)  -1.728298e+01 -1.726081e+01 -1.723709e+01 -1.721383e+01 -1.718899e+01\n",
       "FPE(n)  3.031737e-08  3.041259e-08  3.055499e-08  3.068420e-08  3.086283e-08\n",
       "                   6             7             8             9            10\n",
       "AIC(n) -1.728852e+01 -1.729191e+01 -1.728968e+01 -1.728789e+01 -1.728404e+01\n",
       "HQ(n)  -1.724156e+01 -1.723773e+01 -1.722828e+01 -1.721927e+01 -1.720819e+01\n",
       "SC(n)  -1.716475e+01 -1.714910e+01 -1.712783e+01 -1.710700e+01 -1.708410e+01\n",
       "FPE(n)  3.102369e-08  3.091874e-08  3.098762e-08  3.104326e-08  3.116331e-08\n"
      ]
     },
     "metadata": {},
     "output_type": "display_data"
    }
   ],
   "source": [
    "VARselect(cr_d)"
   ]
  },
  {
   "cell_type": "code",
   "execution_count": 9,
   "id": "8fe9e343-32fc-41b9-ab1c-7a45b148bb98",
   "metadata": {},
   "outputs": [
    {
     "data": {
      "text/plain": [
       "\n",
       "VAR Estimation Results:\n",
       "========================= \n",
       "Endogenous variables: usc, lc \n",
       "Deterministic variables: const \n",
       "Sample size: 1048 \n",
       "Log Likelihood: 6106.118 \n",
       "Roots of the characteristic polynomial:\n",
       "0.09387 0.009223\n",
       "Call:\n",
       "VAR(y = cr_d, p = 1, type = \"const\")\n",
       "\n",
       "\n",
       "Estimation results for equation usc: \n",
       "==================================== \n",
       "usc = usc.l1 + lc.l1 + const \n",
       "\n",
       "         Estimate Std. Error t value Pr(>|t|)   \n",
       "usc.l1 -0.1913250  0.0599077  -3.194  0.00145 **\n",
       "lc.l1   0.2349088  0.0726108   3.235  0.00125 **\n",
       "const   0.0001875  0.0006238   0.301  0.76378   \n",
       "---\n",
       "Signif. codes:  0 ‘***’ 0.001 ‘**’ 0.01 ‘*’ 0.05 ‘.’ 0.1 ‘ ’ 1\n",
       "\n",
       "\n",
       "Residual standard error: 0.02018 on 1045 degrees of freedom\n",
       "Multiple R-Squared: 0.01054,\tAdjusted R-squared: 0.008645 \n",
       "F-statistic: 5.565 on 2 and 1045 DF,  p-value: 0.003943 \n",
       "\n",
       "\n",
       "Estimation results for equation lc: \n",
       "=================================== \n",
       "lc = usc.l1 + lc.l1 + const \n",
       "\n",
       "         Estimate Std. Error t value Pr(>|t|)  \n",
       "usc.l1 -0.0831974  0.0496134  -1.677   0.0939 .\n",
       "lc.l1   0.1066748  0.0601336   1.774   0.0764 .\n",
       "const   0.0004335  0.0005166   0.839   0.4016  \n",
       "---\n",
       "Signif. codes:  0 ‘***’ 0.001 ‘**’ 0.01 ‘*’ 0.05 ‘.’ 0.1 ‘ ’ 1\n",
       "\n",
       "\n",
       "Residual standard error: 0.01671 on 1045 degrees of freedom\n",
       "Multiple R-Squared: 0.003089,\tAdjusted R-squared: 0.001181 \n",
       "F-statistic: 1.619 on 2 and 1045 DF,  p-value: 0.1986 \n",
       "\n",
       "\n",
       "\n",
       "Covariance matrix of residuals:\n",
       "          usc        lc\n",
       "usc 0.0004072 0.0002894\n",
       "lc  0.0002894 0.0002793\n",
       "\n",
       "Correlation matrix of residuals:\n",
       "       usc     lc\n",
       "usc 1.0000 0.8582\n",
       "lc  0.8582 1.0000\n",
       "\n"
      ]
     },
     "metadata": {},
     "output_type": "display_data"
    }
   ],
   "source": [
    "var_cr<-VAR(cr_d,p = 1,type = \"const\")\n",
    "summary(var_cr)\n",
    "res_cr <- residuals(var_cr)\n",
    "res_cr <- as.data.frame(res_cr)"
   ]
  },
  {
   "cell_type": "code",
   "execution_count": 10,
   "id": "8b4cb51a-4484-4673-9c38-0c844beab894",
   "metadata": {},
   "outputs": [
    {
     "name": "stdout",
     "output_type": "stream",
     "text": [
      " Date[1:1048], format: \"2007-07-09\" \"2007-07-10\" \"2007-07-11\" \"2007-07-12\" \"2007-07-13\" ...\n"
     ]
    }
   ],
   "source": [
    "ind_var <- index(cr_d)[-1]\n",
    "str(ind_var)"
   ]
  },
  {
   "cell_type": "code",
   "execution_count": 11,
   "id": "5da15d35-df29-4cfe-a10f-1f02fc03324b",
   "metadata": {},
   "outputs": [
    {
     "name": "stdout",
     "output_type": "stream",
     "text": [
      "An xts object on 2007-07-09 / 2011-09-30 containing: \n",
      "  Data:    double [1048, 2]\n",
      "  Columns: usc, lc\n",
      "  Index:   Date [1048] (TZ: \"UTC\")\n"
     ]
    },
    {
     "data": {
      "text/plain": [
       "                    usc           lc\n",
       "2007-07-09 -0.011686998 -0.013954682\n",
       "2007-07-10 -0.037013126 -0.040713042\n",
       "2007-07-11  0.023194659  0.020008381\n",
       "2007-07-12  0.005113200  0.003791754\n",
       "2007-07-13 -0.001105717 -0.004961262\n",
       "2007-07-16 -0.008993713 -0.009146555"
      ]
     },
     "metadata": {},
     "output_type": "display_data"
    }
   ],
   "source": [
    "res_cr <- xts(res_cr,order.by = ind_var)\n",
    "str(res_cr)\n",
    "head(res_cr)"
   ]
  },
  {
   "cell_type": "code",
   "execution_count": 12,
   "id": "821dace6-6ac3-47b6-8505-640d2b77005d",
   "metadata": {},
   "outputs": [],
   "source": [
    "bekk_spec <- bekk_spec(model = list(type = \"bekk\",asymmetric = F))\n",
    "bekk_fit <- bekk_fit(spec = bekk_spec,data = res_cr)"
   ]
  },
  {
   "cell_type": "code",
   "execution_count": 13,
   "id": "f445fa69-565b-4fe5-bad9-f9a097be5580",
   "metadata": {},
   "outputs": [
    {
     "data": {
      "text/html": [
       "<table class=\"dataframe\">\n",
       "<caption>A matrix: 2 × 2 of type dbl</caption>\n",
       "<tbody>\n",
       "\t<tr><td>1.588014e-05</td><td>-0.1617740</td></tr>\n",
       "\t<tr><td>1.654724e-01</td><td> 0.2621322</td></tr>\n",
       "</tbody>\n",
       "</table>\n"
      ],
      "text/latex": [
       "A matrix: 2 × 2 of type dbl\n",
       "\\begin{tabular}{ll}\n",
       "\t 1.588014e-05 & -0.1617740\\\\\n",
       "\t 1.654724e-01 &  0.2621322\\\\\n",
       "\\end{tabular}\n"
      ],
      "text/markdown": [
       "\n",
       "A matrix: 2 × 2 of type dbl\n",
       "\n",
       "| 1.588014e-05 | -0.1617740 |\n",
       "| 1.654724e-01 |  0.2621322 |\n",
       "\n"
      ],
      "text/plain": [
       "     [,1]         [,2]      \n",
       "[1,] 1.588014e-05 -0.1617740\n",
       "[2,] 1.654724e-01  0.2621322"
      ]
     },
     "metadata": {},
     "output_type": "display_data"
    },
    {
     "data": {
      "text/html": [
       "<table class=\"dataframe\">\n",
       "<caption>A matrix: 2 × 2 of type dbl</caption>\n",
       "<tbody>\n",
       "\t<tr><td>0.0004950053</td><td>-6.997709</td></tr>\n",
       "\t<tr><td>4.6312885724</td><td> 9.928989</td></tr>\n",
       "</tbody>\n",
       "</table>\n"
      ],
      "text/latex": [
       "A matrix: 2 × 2 of type dbl\n",
       "\\begin{tabular}{ll}\n",
       "\t 0.0004950053 & -6.997709\\\\\n",
       "\t 4.6312885724 &  9.928989\\\\\n",
       "\\end{tabular}\n"
      ],
      "text/markdown": [
       "\n",
       "A matrix: 2 × 2 of type dbl\n",
       "\n",
       "| 0.0004950053 | -6.997709 |\n",
       "| 4.6312885724 |  9.928989 |\n",
       "\n"
      ],
      "text/plain": [
       "     [,1]         [,2]     \n",
       "[1,] 0.0004950053 -6.997709\n",
       "[2,] 4.6312885724  9.928989"
      ]
     },
     "metadata": {},
     "output_type": "display_data"
    },
    {
     "data": {
      "text/html": [
       "<table class=\"dataframe\">\n",
       "<caption>A matrix: 2 × 2 of type dbl</caption>\n",
       "<tbody>\n",
       "\t<tr><td> 1.0001579</td><td>0.02303504</td></tr>\n",
       "\t<tr><td>-0.0187964</td><td>0.95841538</td></tr>\n",
       "</tbody>\n",
       "</table>\n"
      ],
      "text/latex": [
       "A matrix: 2 × 2 of type dbl\n",
       "\\begin{tabular}{ll}\n",
       "\t  1.0001579 & 0.02303504\\\\\n",
       "\t -0.0187964 & 0.95841538\\\\\n",
       "\\end{tabular}\n"
      ],
      "text/markdown": [
       "\n",
       "A matrix: 2 × 2 of type dbl\n",
       "\n",
       "|  1.0001579 | 0.02303504 |\n",
       "| -0.0187964 | 0.95841538 |\n",
       "\n"
      ],
      "text/plain": [
       "     [,1]       [,2]      \n",
       "[1,]  1.0001579 0.02303504\n",
       "[2,] -0.0187964 0.95841538"
      ]
     },
     "metadata": {},
     "output_type": "display_data"
    },
    {
     "data": {
      "text/html": [
       "<table class=\"dataframe\">\n",
       "<caption>A matrix: 2 × 2 of type dbl</caption>\n",
       "<tbody>\n",
       "\t<tr><td>121.87053</td><td>  3.345989</td></tr>\n",
       "\t<tr><td> -1.45236</td><td>103.129139</td></tr>\n",
       "</tbody>\n",
       "</table>\n"
      ],
      "text/latex": [
       "A matrix: 2 × 2 of type dbl\n",
       "\\begin{tabular}{ll}\n",
       "\t 121.87053 &   3.345989\\\\\n",
       "\t  -1.45236 & 103.129139\\\\\n",
       "\\end{tabular}\n"
      ],
      "text/markdown": [
       "\n",
       "A matrix: 2 × 2 of type dbl\n",
       "\n",
       "| 121.87053 |   3.345989 |\n",
       "|  -1.45236 | 103.129139 |\n",
       "\n"
      ],
      "text/plain": [
       "     [,1]      [,2]      \n",
       "[1,] 121.87053   3.345989\n",
       "[2,]  -1.45236 103.129139"
      ]
     },
     "metadata": {},
     "output_type": "display_data"
    }
   ],
   "source": [
    "bekk_fit$A\n",
    "bekk_fit$A_t\n",
    "bekk_fit$G\n",
    "bekk_fit$G_t"
   ]
  },
  {
   "cell_type": "markdown",
   "id": "35f47190-09ed-45be-8cd8-845e979c0c21",
   "metadata": {},
   "source": [
    "### VAR-BEKK Model Table for US Cocoa - London Cocoa"
   ]
  },
  {
   "cell_type": "code",
   "execution_count": 14,
   "id": "e8e171b0-147e-4ac8-900f-4e00ff84a9b8",
   "metadata": {},
   "outputs": [
    {
     "data": {
      "text/html": [
       "<table class=\"dataframe\">\n",
       "<caption>A data.frame: 14 × 5</caption>\n",
       "<thead>\n",
       "\t<tr><th scope=col>Parameters</th><th scope=col>Coefficient</th><th scope=col>Std_error</th><th scope=col>T_value</th><th scope=col>Significant_at_5p_level</th></tr>\n",
       "\t<tr><th scope=col>&lt;chr&gt;</th><th scope=col>&lt;dbl&gt;</th><th scope=col>&lt;dbl&gt;</th><th scope=col>&lt;dbl&gt;</th><th scope=col>&lt;chr&gt;</th></tr>\n",
       "</thead>\n",
       "<tbody>\n",
       "\t<tr><td>mu10 </td><td> 1.875052e-04</td><td>0.0006237624</td><td> 3.006035e-01</td><td>Not Statistically Significant</td></tr>\n",
       "\t<tr><td>mu20 </td><td> 4.334802e-04</td><td>0.0005165777</td><td> 8.391384e-01</td><td>Not Statistically Significant</td></tr>\n",
       "\t<tr><td>phi11</td><td>-1.913250e-01</td><td>0.0599077328</td><td>-3.193662e+00</td><td>Stat significant at 1%       </td></tr>\n",
       "\t<tr><td>phi12</td><td> 2.349088e-01</td><td>0.0726107528</td><td> 3.235179e+00</td><td>Stat significant at 1%       </td></tr>\n",
       "\t<tr><td>phi21</td><td>-8.319739e-02</td><td>0.0496134437</td><td>-1.676912e+00</td><td>Stat significant at 10%      </td></tr>\n",
       "\t<tr><td>phi22</td><td> 1.066748e-01</td><td>0.0601336310</td><td> 1.773962e+00</td><td>Stat significant at 10%      </td></tr>\n",
       "\t<tr><td>a11  </td><td> 1.588014e-05</td><td>0.0320807540</td><td> 4.950053e-04</td><td>Not Statistically Significant</td></tr>\n",
       "\t<tr><td>a12  </td><td>-1.617740e-01</td><td>0.0231181420</td><td>-6.997709e+00</td><td>Stat significant at 1%       </td></tr>\n",
       "\t<tr><td>a21  </td><td> 1.654724e-01</td><td>0.0357292259</td><td> 4.631289e+00</td><td>Stat significant at 1%       </td></tr>\n",
       "\t<tr><td>a22  </td><td> 2.621322e-01</td><td>0.0264006988</td><td> 9.928989e+00</td><td>Stat significant at 1%       </td></tr>\n",
       "\t<tr><td>g11  </td><td> 1.000158e+00</td><td>0.0082067253</td><td> 1.218705e+02</td><td>Stat significant at 1%       </td></tr>\n",
       "\t<tr><td>g12  </td><td> 2.303504e-02</td><td>0.0068843737</td><td> 3.345989e+00</td><td>Stat significant at 1%       </td></tr>\n",
       "\t<tr><td>g21  </td><td>-1.879640e-02</td><td>0.0129419703</td><td>-1.452360e+00</td><td>Not Statistically Significant</td></tr>\n",
       "\t<tr><td>g22  </td><td> 9.584154e-01</td><td>0.0092933518</td><td> 1.031291e+02</td><td>Stat significant at 1%       </td></tr>\n",
       "</tbody>\n",
       "</table>\n"
      ],
      "text/latex": [
       "A data.frame: 14 × 5\n",
       "\\begin{tabular}{lllll}\n",
       " Parameters & Coefficient & Std\\_error & T\\_value & Significant\\_at\\_5p\\_level\\\\\n",
       " <chr> & <dbl> & <dbl> & <dbl> & <chr>\\\\\n",
       "\\hline\n",
       "\t mu10  &  1.875052e-04 & 0.0006237624 &  3.006035e-01 & Not Statistically Significant\\\\\n",
       "\t mu20  &  4.334802e-04 & 0.0005165777 &  8.391384e-01 & Not Statistically Significant\\\\\n",
       "\t phi11 & -1.913250e-01 & 0.0599077328 & -3.193662e+00 & Stat significant at 1\\%       \\\\\n",
       "\t phi12 &  2.349088e-01 & 0.0726107528 &  3.235179e+00 & Stat significant at 1\\%       \\\\\n",
       "\t phi21 & -8.319739e-02 & 0.0496134437 & -1.676912e+00 & Stat significant at 10\\%      \\\\\n",
       "\t phi22 &  1.066748e-01 & 0.0601336310 &  1.773962e+00 & Stat significant at 10\\%      \\\\\n",
       "\t a11   &  1.588014e-05 & 0.0320807540 &  4.950053e-04 & Not Statistically Significant\\\\\n",
       "\t a12   & -1.617740e-01 & 0.0231181420 & -6.997709e+00 & Stat significant at 1\\%       \\\\\n",
       "\t a21   &  1.654724e-01 & 0.0357292259 &  4.631289e+00 & Stat significant at 1\\%       \\\\\n",
       "\t a22   &  2.621322e-01 & 0.0264006988 &  9.928989e+00 & Stat significant at 1\\%       \\\\\n",
       "\t g11   &  1.000158e+00 & 0.0082067253 &  1.218705e+02 & Stat significant at 1\\%       \\\\\n",
       "\t g12   &  2.303504e-02 & 0.0068843737 &  3.345989e+00 & Stat significant at 1\\%       \\\\\n",
       "\t g21   & -1.879640e-02 & 0.0129419703 & -1.452360e+00 & Not Statistically Significant\\\\\n",
       "\t g22   &  9.584154e-01 & 0.0092933518 &  1.031291e+02 & Stat significant at 1\\%       \\\\\n",
       "\\end{tabular}\n"
      ],
      "text/markdown": [
       "\n",
       "A data.frame: 14 × 5\n",
       "\n",
       "| Parameters &lt;chr&gt; | Coefficient &lt;dbl&gt; | Std_error &lt;dbl&gt; | T_value &lt;dbl&gt; | Significant_at_5p_level &lt;chr&gt; |\n",
       "|---|---|---|---|---|\n",
       "| mu10  |  1.875052e-04 | 0.0006237624 |  3.006035e-01 | Not Statistically Significant |\n",
       "| mu20  |  4.334802e-04 | 0.0005165777 |  8.391384e-01 | Not Statistically Significant |\n",
       "| phi11 | -1.913250e-01 | 0.0599077328 | -3.193662e+00 | Stat significant at 1%        |\n",
       "| phi12 |  2.349088e-01 | 0.0726107528 |  3.235179e+00 | Stat significant at 1%        |\n",
       "| phi21 | -8.319739e-02 | 0.0496134437 | -1.676912e+00 | Stat significant at 10%       |\n",
       "| phi22 |  1.066748e-01 | 0.0601336310 |  1.773962e+00 | Stat significant at 10%       |\n",
       "| a11   |  1.588014e-05 | 0.0320807540 |  4.950053e-04 | Not Statistically Significant |\n",
       "| a12   | -1.617740e-01 | 0.0231181420 | -6.997709e+00 | Stat significant at 1%        |\n",
       "| a21   |  1.654724e-01 | 0.0357292259 |  4.631289e+00 | Stat significant at 1%        |\n",
       "| a22   |  2.621322e-01 | 0.0264006988 |  9.928989e+00 | Stat significant at 1%        |\n",
       "| g11   |  1.000158e+00 | 0.0082067253 |  1.218705e+02 | Stat significant at 1%        |\n",
       "| g12   |  2.303504e-02 | 0.0068843737 |  3.345989e+00 | Stat significant at 1%        |\n",
       "| g21   | -1.879640e-02 | 0.0129419703 | -1.452360e+00 | Not Statistically Significant |\n",
       "| g22   |  9.584154e-01 | 0.0092933518 |  1.031291e+02 | Stat significant at 1%        |\n",
       "\n"
      ],
      "text/plain": [
       "   Parameters Coefficient   Std_error    T_value      \n",
       "1  mu10        1.875052e-04 0.0006237624  3.006035e-01\n",
       "2  mu20        4.334802e-04 0.0005165777  8.391384e-01\n",
       "3  phi11      -1.913250e-01 0.0599077328 -3.193662e+00\n",
       "4  phi12       2.349088e-01 0.0726107528  3.235179e+00\n",
       "5  phi21      -8.319739e-02 0.0496134437 -1.676912e+00\n",
       "6  phi22       1.066748e-01 0.0601336310  1.773962e+00\n",
       "7  a11         1.588014e-05 0.0320807540  4.950053e-04\n",
       "8  a12        -1.617740e-01 0.0231181420 -6.997709e+00\n",
       "9  a21         1.654724e-01 0.0357292259  4.631289e+00\n",
       "10 a22         2.621322e-01 0.0264006988  9.928989e+00\n",
       "11 g11         1.000158e+00 0.0082067253  1.218705e+02\n",
       "12 g12         2.303504e-02 0.0068843737  3.345989e+00\n",
       "13 g21        -1.879640e-02 0.0129419703 -1.452360e+00\n",
       "14 g22         9.584154e-01 0.0092933518  1.031291e+02\n",
       "   Significant_at_5p_level      \n",
       "1  Not Statistically Significant\n",
       "2  Not Statistically Significant\n",
       "3  Stat significant at 1%       \n",
       "4  Stat significant at 1%       \n",
       "5  Stat significant at 10%      \n",
       "6  Stat significant at 10%      \n",
       "7  Not Statistically Significant\n",
       "8  Stat significant at 1%       \n",
       "9  Stat significant at 1%       \n",
       "10 Stat significant at 1%       \n",
       "11 Stat significant at 1%       \n",
       "12 Stat significant at 1%       \n",
       "13 Not Statistically Significant\n",
       "14 Stat significant at 1%       "
      ]
     },
     "metadata": {},
     "output_type": "display_data"
    }
   ],
   "source": [
    "bekkc <- data.frame(Parameters = c(\"mu10\",\"mu20\",\"phi11\",\"phi12\",\"phi21\",\"phi22\",\"a11\",\"a12\",\"a21\",\"a22\",\"g11\",\"g12\",\"g21\",\"g22\"),\n",
    "                   Coefficient = c(summary(var_cr)$varresult$usc$coefficients[\"const\",\"Estimate\"],summary(var_cr)$varresult$lc$coefficients[\"const\",\"Estimate\"],\n",
    "                                   summary(var_cr)$varresult$usc$coefficients[\"usc.l1\",\"Estimate\"],summary(var_cr)$varresult$usc$coefficients[\"lc.l1\",\"Estimate\"],\n",
    "                                   summary(var_cr)$varresult$lc$coefficients[\"usc.l1\",\"Estimate\"],summary(var_cr)$varresult$lc$coefficients[\"lc.l1\",\"Estimate\"],\n",
    "                                   bekk_fit$A[1,1],bekk_fit$A[1,2],bekk_fit$A[2,1],bekk_fit$A[2,2],bekk_fit$G[1,1],bekk_fit$G[1,2],bekk_fit$G[2,1],bekk_fit$G[2,2]),\n",
    "                   Std_error = c(summary(var_cr)$varresult$usc$coefficients[\"const\",\"Std. Error\"],summary(var_cr)$varresult$lc$coefficients[\"const\",\"Std. Error\"],\n",
    "                               summary(var_cr)$varresult$usc$coefficients[\"usc.l1\",\"Std. Error\"],summary(var_cr)$varresult$usc$coefficients[\"lc.l1\",\"Std. Error\"],\n",
    "                                 summary(var_cr)$varresult$lc$coefficients[\"usc.l1\",\"Std. Error\"],summary(var_cr)$varresult$lc$coefficients[\"lc.l1\",\"Std. Error\"],\n",
    "                                 bekk_fit$A_sd[1,1],bekk_fit$A_sd[1,2],bekk_fit$A_sd[2,1],bekk_fit$A_sd[2,2],bekk_fit$G_sd[1,1],bekk_fit$G_sd[1,2],bekk_fit$G_sd[2,1],bekk_fit$G_sd[2,2]),\n",
    "                   T_value = c(summary(var_cr)$varresult$usc$coefficients[\"const\",\"t value\"],summary(var_cr)$varresult$lc$coefficients[\"const\",\"t value\"],\n",
    "                               summary(var_cr)$varresult$usc$coefficients[\"usc.l1\",\"t value\"],summary(var_cr)$varresult$usc$coefficients[\"lc.l1\",\"t value\"],\n",
    "                               summary(var_cr)$varresult$lc$coefficients[\"usc.l1\",\"t value\"],summary(var_cr)$varresult$lc$coefficients[\"lc.l1\",\"t value\"],\n",
    "                               bekk_fit$A_t[1,1],bekk_fit$A_t[1,2],bekk_fit$A_t[2,1],bekk_fit$A_t[2,2],bekk_fit$G_t[1,1],bekk_fit$G_t[1,2],\n",
    "                                 bekk_fit$G_t[2,1],bekk_fit$G_t[2,2]))\n",
    "\n",
    "bekkc$Significant_at_5p_level[abs(bekkc$T_value) >= 2.58 ] <- \"Stat significant at 1%\"\n",
    "bekkc$Significant_at_5p_level[abs(bekkc$T_value) > 1.96 & abs(bekkc$T_value) < 2.58] <- \"Stat significant at 5%\"\n",
    "bekkc$Significant_at_5p_level[abs(bekkc$T_value) > 1.645 & abs(bekkc$T_value) <= 1.96 ] <- \"Stat significant at 10%\"\n",
    "bekkc$Significant_at_5p_level[abs(bekkc$T_value) <= 1.645] <- \"Not Statistically Significant\"\n",
    "bekkc"
   ]
  },
  {
   "cell_type": "code",
   "execution_count": 15,
   "id": "f2ed6f04-cba2-45e4-b035-5130d9a2b4b6",
   "metadata": {},
   "outputs": [
    {
     "data": {
      "text/plain": [
       "\n",
       "\tGranger causality H0: usc do not Granger-cause lc\n",
       "\n",
       "data:  VAR object var_cr\n",
       "F-Test = 2.812, df1 = 1, df2 = 2090, p-value = 0.09371\n"
      ]
     },
     "metadata": {},
     "output_type": "display_data"
    },
    {
     "data": {
      "text/plain": [
       "\n",
       "\tGranger causality H0: lc do not Granger-cause usc\n",
       "\n",
       "data:  VAR object var_cr\n",
       "F-Test = 10.466, df1 = 1, df2 = 2090, p-value = 0.001235\n"
      ]
     },
     "metadata": {},
     "output_type": "display_data"
    }
   ],
   "source": [
    "causality(var_cr,cause = \"usc\")$Granger\n",
    "causality(var_cr,cause = \"lc\")$Granger"
   ]
  },
  {
   "cell_type": "markdown",
   "id": "51adcc46-feaf-4aa0-8d77-10310027b0c6",
   "metadata": {},
   "source": [
    "## (ii) VAR-BEKK Models for US Cocoa"
   ]
  },
  {
   "cell_type": "markdown",
   "id": "22e568fd-5fca-4b0f-a688-0ae5f50d928c",
   "metadata": {},
   "source": [
    "## (a) US Cocoa - EURUSD"
   ]
  },
  {
   "cell_type": "code",
   "execution_count": 16,
   "id": "34501d67-d345-4664-af13-e1934395e3cb",
   "metadata": {},
   "outputs": [
    {
     "name": "stdout",
     "output_type": "stream",
     "text": [
      "An xts object on 2007-07-06 / 2011-09-30 containing: \n",
      "  Data:    double [1049, 9]\n",
      "  Columns: usc, eurusd, gbpusd, chfusd, usdgbp ... with 4 more columns\n",
      "  Index:   Date [1049] (TZ: \"UTC\")\n",
      "  xts Attributes:\n",
      "    $ na.action       : 'omit' int [1:3342] 37 42 100 101 122 123 124 128 142 162 ...\n",
      "  ..- attr(*, \"index\")= num [1:3342] 1.19e+09 1.19e+09 1.20e+09 1.20e+09 1.20e+09 ...\n",
      "    $ ret_type        : chr \"log\"\n",
      "    $ coredata_content: chr \"logReturn\"\n"
     ]
    }
   ],
   "source": [
    "us_d <- na.omit(merge(cr_d[,1],fr_d))\n",
    "str(us_d)"
   ]
  },
  {
   "cell_type": "code",
   "execution_count": 17,
   "id": "bf679ceb-39ed-4cfc-a64f-0d5ab4737a14",
   "metadata": {},
   "outputs": [
    {
     "data": {
      "text/plain": [
       "                     usc        eurusd\n",
       "2007-07-06  0.0033026687  2.240547e-03\n",
       "2007-07-09 -0.0108928380  7.337565e-05\n",
       "2007-07-10 -0.0378502241  8.584371e-03\n",
       "2007-07-11  0.0210431058 -7.274844e-05\n",
       "2007-07-12  0.0057943185  3.485969e-03\n",
       "2007-07-13 -0.0009633912 -7.252421e-04"
      ]
     },
     "metadata": {},
     "output_type": "display_data"
    },
    {
     "data": {
      "text/plain": [
       "                   usc       eurusd\n",
       "2011-09-23 -0.01739818  0.002819098\n",
       "2011-09-26  0.01298479  0.003106626\n",
       "2011-09-27  0.01645075  0.003759403\n",
       "2011-09-28 -0.02014351 -0.003611709\n",
       "2011-09-29  0.01103764  0.003758849\n",
       "2011-09-30 -0.03159527 -0.015382353"
      ]
     },
     "metadata": {},
     "output_type": "display_data"
    },
    {
     "data": {
      "text/html": [
       "<dl>\n",
       "\t<dt>$selection</dt>\n",
       "\t\t<dd><style>\n",
       ".dl-inline {width: auto; margin:0; padding: 0}\n",
       ".dl-inline>dt, .dl-inline>dd {float: none; width: auto; display: inline-block}\n",
       ".dl-inline>dt::after {content: \":\\0020\"; padding-right: .5ex}\n",
       ".dl-inline>dt:not(:first-of-type) {padding-left: .5ex}\n",
       "</style><dl class=dl-inline><dt>AIC(n)</dt><dd>1</dd><dt>HQ(n)</dt><dd>1</dd><dt>SC(n)</dt><dd>1</dd><dt>FPE(n)</dt><dd>1</dd></dl>\n",
       "</dd>\n",
       "\t<dt>$criteria</dt>\n",
       "\t\t<dd><table class=\"dataframe\">\n",
       "<caption>A matrix: 4 × 10 of type dbl</caption>\n",
       "<thead>\n",
       "\t<tr><th></th><th scope=col>1</th><th scope=col>2</th><th scope=col>3</th><th scope=col>4</th><th scope=col>5</th><th scope=col>6</th><th scope=col>7</th><th scope=col>8</th><th scope=col>9</th><th scope=col>10</th></tr>\n",
       "</thead>\n",
       "<tbody>\n",
       "\t<tr><th scope=row>AIC(n)</th><td>-1.764232e+01</td><td>-1.763662e+01</td><td>-1.763501e+01</td><td>-1.763012e+01</td><td>-1.762463e+01</td><td>-1.762230e+01</td><td>-1.761690e+01</td><td>-1.761726e+01</td><td>-1.761754e+01</td><td>-1.761264e+01</td></tr>\n",
       "\t<tr><th scope=row>HQ(n)</th><td>-1.763148e+01</td><td>-1.761856e+01</td><td>-1.760973e+01</td><td>-1.759761e+01</td><td>-1.758490e+01</td><td>-1.757535e+01</td><td>-1.756272e+01</td><td>-1.755586e+01</td><td>-1.754892e+01</td><td>-1.753680e+01</td></tr>\n",
       "\t<tr><th scope=row>SC(n)</th><td>-1.761375e+01</td><td>-1.758901e+01</td><td>-1.756837e+01</td><td>-1.754443e+01</td><td>-1.751990e+01</td><td>-1.749853e+01</td><td>-1.747409e+01</td><td>-1.745541e+01</td><td>-1.743665e+01</td><td>-1.741271e+01</td></tr>\n",
       "\t<tr><th scope=row>FPE(n)</th><td> 2.177906e-08</td><td> 2.190353e-08</td><td> 2.193877e-08</td><td> 2.204643e-08</td><td> 2.216775e-08</td><td> 2.221949e-08</td><td> 2.233982e-08</td><td> 2.233177e-08</td><td> 2.232549e-08</td><td> 2.243524e-08</td></tr>\n",
       "</tbody>\n",
       "</table>\n",
       "</dd>\n",
       "</dl>\n"
      ],
      "text/latex": [
       "\\begin{description}\n",
       "\\item[\\$selection] \\begin{description*}\n",
       "\\item[AIC(n)] 1\n",
       "\\item[HQ(n)] 1\n",
       "\\item[SC(n)] 1\n",
       "\\item[FPE(n)] 1\n",
       "\\end{description*}\n",
       "\n",
       "\\item[\\$criteria] A matrix: 4 × 10 of type dbl\n",
       "\\begin{tabular}{r|llllllllll}\n",
       "  & 1 & 2 & 3 & 4 & 5 & 6 & 7 & 8 & 9 & 10\\\\\n",
       "\\hline\n",
       "\tAIC(n) & -1.764232e+01 & -1.763662e+01 & -1.763501e+01 & -1.763012e+01 & -1.762463e+01 & -1.762230e+01 & -1.761690e+01 & -1.761726e+01 & -1.761754e+01 & -1.761264e+01\\\\\n",
       "\tHQ(n) & -1.763148e+01 & -1.761856e+01 & -1.760973e+01 & -1.759761e+01 & -1.758490e+01 & -1.757535e+01 & -1.756272e+01 & -1.755586e+01 & -1.754892e+01 & -1.753680e+01\\\\\n",
       "\tSC(n) & -1.761375e+01 & -1.758901e+01 & -1.756837e+01 & -1.754443e+01 & -1.751990e+01 & -1.749853e+01 & -1.747409e+01 & -1.745541e+01 & -1.743665e+01 & -1.741271e+01\\\\\n",
       "\tFPE(n) &  2.177906e-08 &  2.190353e-08 &  2.193877e-08 &  2.204643e-08 &  2.216775e-08 &  2.221949e-08 &  2.233982e-08 &  2.233177e-08 &  2.232549e-08 &  2.243524e-08\\\\\n",
       "\\end{tabular}\n",
       "\n",
       "\\end{description}\n"
      ],
      "text/markdown": [
       "$selection\n",
       ":   AIC(n)\n",
       ":   1HQ(n)\n",
       ":   1SC(n)\n",
       ":   1FPE(n)\n",
       ":   1\n",
       "\n",
       "\n",
       "$criteria\n",
       ":   \n",
       "A matrix: 4 × 10 of type dbl\n",
       "\n",
       "| <!--/--> | 1 | 2 | 3 | 4 | 5 | 6 | 7 | 8 | 9 | 10 |\n",
       "|---|---|---|---|---|---|---|---|---|---|---|\n",
       "| AIC(n) | -1.764232e+01 | -1.763662e+01 | -1.763501e+01 | -1.763012e+01 | -1.762463e+01 | -1.762230e+01 | -1.761690e+01 | -1.761726e+01 | -1.761754e+01 | -1.761264e+01 |\n",
       "| HQ(n) | -1.763148e+01 | -1.761856e+01 | -1.760973e+01 | -1.759761e+01 | -1.758490e+01 | -1.757535e+01 | -1.756272e+01 | -1.755586e+01 | -1.754892e+01 | -1.753680e+01 |\n",
       "| SC(n) | -1.761375e+01 | -1.758901e+01 | -1.756837e+01 | -1.754443e+01 | -1.751990e+01 | -1.749853e+01 | -1.747409e+01 | -1.745541e+01 | -1.743665e+01 | -1.741271e+01 |\n",
       "| FPE(n) |  2.177906e-08 |  2.190353e-08 |  2.193877e-08 |  2.204643e-08 |  2.216775e-08 |  2.221949e-08 |  2.233982e-08 |  2.233177e-08 |  2.232549e-08 |  2.243524e-08 |\n",
       "\n",
       "\n",
       "\n",
       "\n"
      ],
      "text/plain": [
       "$selection\n",
       "AIC(n)  HQ(n)  SC(n) FPE(n) \n",
       "     1      1      1      1 \n",
       "\n",
       "$criteria\n",
       "                   1             2             3             4             5\n",
       "AIC(n) -1.764232e+01 -1.763662e+01 -1.763501e+01 -1.763012e+01 -1.762463e+01\n",
       "HQ(n)  -1.763148e+01 -1.761856e+01 -1.760973e+01 -1.759761e+01 -1.758490e+01\n",
       "SC(n)  -1.761375e+01 -1.758901e+01 -1.756837e+01 -1.754443e+01 -1.751990e+01\n",
       "FPE(n)  2.177906e-08  2.190353e-08  2.193877e-08  2.204643e-08  2.216775e-08\n",
       "                   6             7             8             9            10\n",
       "AIC(n) -1.762230e+01 -1.761690e+01 -1.761726e+01 -1.761754e+01 -1.761264e+01\n",
       "HQ(n)  -1.757535e+01 -1.756272e+01 -1.755586e+01 -1.754892e+01 -1.753680e+01\n",
       "SC(n)  -1.749853e+01 -1.747409e+01 -1.745541e+01 -1.743665e+01 -1.741271e+01\n",
       "FPE(n)  2.221949e-08  2.233982e-08  2.233177e-08  2.232549e-08  2.243524e-08\n"
      ]
     },
     "metadata": {},
     "output_type": "display_data"
    }
   ],
   "source": [
    "bekk1data <- us_d[,c(1:2)]\n",
    "head(bekk1data)\n",
    "tail(bekk1data)\n",
    "VARselect(bekk1data,type = \"const\")"
   ]
  },
  {
   "cell_type": "code",
   "execution_count": 18,
   "id": "bf98e01c-b415-4c20-aadf-247169943c9e",
   "metadata": {},
   "outputs": [],
   "source": [
    "var_bekk1<-VAR(bekk1data,p = 1,type = \"const\")\n",
    "res_bekk1 <- residuals(var_bekk1)\n",
    "res_bekk1 <- as.data.frame(res_bekk1)"
   ]
  },
  {
   "cell_type": "code",
   "execution_count": 19,
   "id": "8caa9586-8d17-4ece-bbfc-260060482e5a",
   "metadata": {},
   "outputs": [
    {
     "data": {
      "text/plain": [
       "\n",
       "VAR Estimation Results:\n",
       "========================= \n",
       "Endogenous variables: usc, eurusd \n",
       "Deterministic variables: const \n",
       "Sample size: 1048 \n",
       "Log Likelihood: 6279.888 \n",
       "Roots of the characteristic polynomial:\n",
       "0.07821 0.02982\n",
       "Call:\n",
       "VAR(y = bekk1data, p = 1, type = \"const\")\n",
       "\n",
       "\n",
       "Estimation results for equation usc: \n",
       "==================================== \n",
       "usc = usc.l1 + eurusd.l1 + const \n",
       "\n",
       "            Estimate Std. Error t value Pr(>|t|)    \n",
       "usc.l1    -0.0727378  0.0323668  -2.247   0.0248 *  \n",
       "eurusd.l1  0.3901174  0.0850842   4.585 5.09e-06 ***\n",
       "const      0.0002554  0.0006203   0.412   0.6806    \n",
       "---\n",
       "Signif. codes:  0 ‘***’ 0.001 ‘**’ 0.01 ‘*’ 0.05 ‘.’ 0.1 ‘ ’ 1\n",
       "\n",
       "\n",
       "Residual standard error: 0.02008 on 1045 degrees of freedom\n",
       "Multiple R-Squared: 0.02034,\tAdjusted R-squared: 0.01846 \n",
       "F-statistic: 10.85 on 2 and 1045 DF,  p-value: 2.175e-05 \n",
       "\n",
       "\n",
       "Estimation results for equation eurusd: \n",
       "======================================= \n",
       "eurusd = usc.l1 + eurusd.l1 + const \n",
       "\n",
       "           Estimate Std. Error t value Pr(>|t|)\n",
       "usc.l1    1.439e-03  1.244e-02   0.116    0.908\n",
       "eurusd.l1 2.434e-02  3.271e-02   0.744    0.457\n",
       "const     1.864e-05  2.385e-04   0.078    0.938\n",
       "\n",
       "\n",
       "Residual standard error: 0.00772 on 1045 degrees of freedom\n",
       "Multiple R-Squared: 0.0006635,\tAdjusted R-squared: -0.001249 \n",
       "F-statistic: 0.3469 on 2 and 1045 DF,  p-value: 0.707 \n",
       "\n",
       "\n",
       "\n",
       "Covariance matrix of residuals:\n",
       "             usc    eurusd\n",
       "usc    4.032e-04 5.014e-05\n",
       "eurusd 5.014e-05 5.960e-05\n",
       "\n",
       "Correlation matrix of residuals:\n",
       "          usc eurusd\n",
       "usc    1.0000 0.3234\n",
       "eurusd 0.3234 1.0000\n",
       "\n"
      ]
     },
     "metadata": {},
     "output_type": "display_data"
    }
   ],
   "source": [
    "summary(var_bekk1)"
   ]
  },
  {
   "cell_type": "code",
   "execution_count": 20,
   "id": "14d27bae-e28d-4c0b-b0b1-b348de85559f",
   "metadata": {},
   "outputs": [
    {
     "name": "stdout",
     "output_type": "stream",
     "text": [
      " Date[1:1048], format: \"2007-07-09\" \"2007-07-10\" \"2007-07-11\" \"2007-07-12\" \"2007-07-13\" ...\n"
     ]
    }
   ],
   "source": [
    "ind_var1 <- index(bekk1data)[-1]\n",
    "str(ind_var1)"
   ]
  },
  {
   "cell_type": "code",
   "execution_count": 21,
   "id": "13528011-73ab-4104-bd9b-03897a39996b",
   "metadata": {},
   "outputs": [],
   "source": [
    "res_bekk1 <- xts(res_bekk1,order.by = ind_var1)"
   ]
  },
  {
   "cell_type": "code",
   "execution_count": 22,
   "id": "db86c824-24ed-46a4-9c5e-48a749bc2359",
   "metadata": {},
   "outputs": [],
   "source": [
    "bekk_spec <- bekk_spec(model = list(type = \"bekk\",asymmetric = F))\n",
    "bekk1_fit <- bekk_fit(spec = bekk_spec,data = res_bekk1)"
   ]
  },
  {
   "cell_type": "code",
   "execution_count": 23,
   "id": "84b48fc1-0cd5-4efa-8983-cc92e2b6ccf2",
   "metadata": {},
   "outputs": [
    {
     "data": {
      "text/html": [
       "<table class=\"dataframe\">\n",
       "<caption>A matrix: 2 × 2 of type dbl</caption>\n",
       "<tbody>\n",
       "\t<tr><td>0.2047896</td><td>0.003000337</td></tr>\n",
       "\t<tr><td>0.2225896</td><td>0.176604054</td></tr>\n",
       "</tbody>\n",
       "</table>\n"
      ],
      "text/latex": [
       "A matrix: 2 × 2 of type dbl\n",
       "\\begin{tabular}{ll}\n",
       "\t 0.2047896 & 0.003000337\\\\\n",
       "\t 0.2225896 & 0.176604054\\\\\n",
       "\\end{tabular}\n"
      ],
      "text/markdown": [
       "\n",
       "A matrix: 2 × 2 of type dbl\n",
       "\n",
       "| 0.2047896 | 0.003000337 |\n",
       "| 0.2225896 | 0.176604054 |\n",
       "\n"
      ],
      "text/plain": [
       "     [,1]      [,2]       \n",
       "[1,] 0.2047896 0.003000337\n",
       "[2,] 0.2225896 0.176604054"
      ]
     },
     "metadata": {},
     "output_type": "display_data"
    },
    {
     "data": {
      "text/html": [
       "<table class=\"dataframe\">\n",
       "<caption>A matrix: 2 × 2 of type dbl</caption>\n",
       "<tbody>\n",
       "\t<tr><td>8.423957</td><td>0.210060</td></tr>\n",
       "\t<tr><td>3.267366</td><td>6.537797</td></tr>\n",
       "</tbody>\n",
       "</table>\n"
      ],
      "text/latex": [
       "A matrix: 2 × 2 of type dbl\n",
       "\\begin{tabular}{ll}\n",
       "\t 8.423957 & 0.210060\\\\\n",
       "\t 3.267366 & 6.537797\\\\\n",
       "\\end{tabular}\n"
      ],
      "text/markdown": [
       "\n",
       "A matrix: 2 × 2 of type dbl\n",
       "\n",
       "| 8.423957 | 0.210060 |\n",
       "| 3.267366 | 6.537797 |\n",
       "\n"
      ],
      "text/plain": [
       "     [,1]     [,2]    \n",
       "[1,] 8.423957 0.210060\n",
       "[2,] 3.267366 6.537797"
      ]
     },
     "metadata": {},
     "output_type": "display_data"
    },
    {
     "data": {
      "text/html": [
       "<table class=\"dataframe\">\n",
       "<caption>A matrix: 2 × 2 of type dbl</caption>\n",
       "<tbody>\n",
       "\t<tr><td> 0.9020282</td><td>0.006663802</td></tr>\n",
       "\t<tr><td>-0.0543896</td><td>0.979963429</td></tr>\n",
       "</tbody>\n",
       "</table>\n"
      ],
      "text/latex": [
       "A matrix: 2 × 2 of type dbl\n",
       "\\begin{tabular}{ll}\n",
       "\t  0.9020282 & 0.006663802\\\\\n",
       "\t -0.0543896 & 0.979963429\\\\\n",
       "\\end{tabular}\n"
      ],
      "text/markdown": [
       "\n",
       "A matrix: 2 × 2 of type dbl\n",
       "\n",
       "|  0.9020282 | 0.006663802 |\n",
       "| -0.0543896 | 0.979963429 |\n",
       "\n"
      ],
      "text/plain": [
       "     [,1]       [,2]       \n",
       "[1,]  0.9020282 0.006663802\n",
       "[2,] -0.0543896 0.979963429"
      ]
     },
     "metadata": {},
     "output_type": "display_data"
    },
    {
     "data": {
      "text/html": [
       "<table class=\"dataframe\">\n",
       "<caption>A matrix: 2 × 2 of type dbl</caption>\n",
       "<tbody>\n",
       "\t<tr><td>32.709882</td><td>  0.6858352</td></tr>\n",
       "\t<tr><td>-2.452691</td><td>209.4718720</td></tr>\n",
       "</tbody>\n",
       "</table>\n"
      ],
      "text/latex": [
       "A matrix: 2 × 2 of type dbl\n",
       "\\begin{tabular}{ll}\n",
       "\t 32.709882 &   0.6858352\\\\\n",
       "\t -2.452691 & 209.4718720\\\\\n",
       "\\end{tabular}\n"
      ],
      "text/markdown": [
       "\n",
       "A matrix: 2 × 2 of type dbl\n",
       "\n",
       "| 32.709882 |   0.6858352 |\n",
       "| -2.452691 | 209.4718720 |\n",
       "\n"
      ],
      "text/plain": [
       "     [,1]      [,2]       \n",
       "[1,] 32.709882   0.6858352\n",
       "[2,] -2.452691 209.4718720"
      ]
     },
     "metadata": {},
     "output_type": "display_data"
    }
   ],
   "source": [
    "bekk1_fit$A\n",
    "bekk1_fit$A_t\n",
    "bekk1_fit$G\n",
    "bekk1_fit$G_t"
   ]
  },
  {
   "cell_type": "markdown",
   "id": "c3bcdcdd-61d8-4b19-a4ac-188afd2d8725",
   "metadata": {},
   "source": [
    "### VAR-BEKK Model Table for US Cocoa - EURUSD"
   ]
  },
  {
   "cell_type": "code",
   "execution_count": 24,
   "id": "34a59e88-477d-411e-93f9-9b8d917b8c2b",
   "metadata": {},
   "outputs": [
    {
     "data": {
      "text/html": [
       "<table class=\"dataframe\">\n",
       "<caption>A data.frame: 14 × 5</caption>\n",
       "<thead>\n",
       "\t<tr><th scope=col>Parameters</th><th scope=col>Coefficient</th><th scope=col>Std_error</th><th scope=col>T_value</th><th scope=col>Significant_at_5p_level</th></tr>\n",
       "\t<tr><th scope=col>&lt;chr&gt;</th><th scope=col>&lt;dbl&gt;</th><th scope=col>&lt;dbl&gt;</th><th scope=col>&lt;dbl&gt;</th><th scope=col>&lt;chr&gt;</th></tr>\n",
       "</thead>\n",
       "<tbody>\n",
       "\t<tr><td>mu10 </td><td> 2.553914e-04</td><td>0.0006203057</td><td>  0.41171852</td><td>Not Statistically Significant</td></tr>\n",
       "\t<tr><td>mu20 </td><td> 1.863631e-05</td><td>0.0002384939</td><td>  0.07814165</td><td>Not Statistically Significant</td></tr>\n",
       "\t<tr><td>phi11</td><td>-7.273777e-02</td><td>0.0323667821</td><td> -2.24729679</td><td>Stat significant at 5%       </td></tr>\n",
       "\t<tr><td>phi12</td><td> 3.901174e-01</td><td>0.0850842186</td><td>  4.58507326</td><td>Stat significant at 1%       </td></tr>\n",
       "\t<tr><td>phi21</td><td> 1.438653e-03</td><td>0.0124443164</td><td>  0.11560724</td><td>Not Statistically Significant</td></tr>\n",
       "\t<tr><td>phi22</td><td> 2.434271e-02</td><td>0.0327130122</td><td>  0.74412918</td><td>Not Statistically Significant</td></tr>\n",
       "\t<tr><td>a11  </td><td> 2.047896e-01</td><td>0.0243103804</td><td>  8.42395667</td><td>Stat significant at 1%       </td></tr>\n",
       "\t<tr><td>a12  </td><td> 3.000337e-03</td><td>0.0142832358</td><td>  0.21006001</td><td>Not Statistically Significant</td></tr>\n",
       "\t<tr><td>a21  </td><td> 2.225896e-01</td><td>0.0681250929</td><td>  3.26736564</td><td>Stat significant at 1%       </td></tr>\n",
       "\t<tr><td>a22  </td><td> 1.766041e-01</td><td>0.0270127779</td><td>  6.53779682</td><td>Stat significant at 1%       </td></tr>\n",
       "\t<tr><td>g11  </td><td> 9.020282e-01</td><td>0.0275766253</td><td> 32.70988230</td><td>Stat significant at 1%       </td></tr>\n",
       "\t<tr><td>g12  </td><td> 6.663802e-03</td><td>0.0097163309</td><td>  0.68583524</td><td>Not Statistically Significant</td></tr>\n",
       "\t<tr><td>g21  </td><td>-5.438960e-02</td><td>0.0221754827</td><td> -2.45269077</td><td>Stat significant at 5%       </td></tr>\n",
       "\t<tr><td>g22  </td><td> 9.799634e-01</td><td>0.0046782578</td><td>209.47187203</td><td>Stat significant at 1%       </td></tr>\n",
       "</tbody>\n",
       "</table>\n"
      ],
      "text/latex": [
       "A data.frame: 14 × 5\n",
       "\\begin{tabular}{lllll}\n",
       " Parameters & Coefficient & Std\\_error & T\\_value & Significant\\_at\\_5p\\_level\\\\\n",
       " <chr> & <dbl> & <dbl> & <dbl> & <chr>\\\\\n",
       "\\hline\n",
       "\t mu10  &  2.553914e-04 & 0.0006203057 &   0.41171852 & Not Statistically Significant\\\\\n",
       "\t mu20  &  1.863631e-05 & 0.0002384939 &   0.07814165 & Not Statistically Significant\\\\\n",
       "\t phi11 & -7.273777e-02 & 0.0323667821 &  -2.24729679 & Stat significant at 5\\%       \\\\\n",
       "\t phi12 &  3.901174e-01 & 0.0850842186 &   4.58507326 & Stat significant at 1\\%       \\\\\n",
       "\t phi21 &  1.438653e-03 & 0.0124443164 &   0.11560724 & Not Statistically Significant\\\\\n",
       "\t phi22 &  2.434271e-02 & 0.0327130122 &   0.74412918 & Not Statistically Significant\\\\\n",
       "\t a11   &  2.047896e-01 & 0.0243103804 &   8.42395667 & Stat significant at 1\\%       \\\\\n",
       "\t a12   &  3.000337e-03 & 0.0142832358 &   0.21006001 & Not Statistically Significant\\\\\n",
       "\t a21   &  2.225896e-01 & 0.0681250929 &   3.26736564 & Stat significant at 1\\%       \\\\\n",
       "\t a22   &  1.766041e-01 & 0.0270127779 &   6.53779682 & Stat significant at 1\\%       \\\\\n",
       "\t g11   &  9.020282e-01 & 0.0275766253 &  32.70988230 & Stat significant at 1\\%       \\\\\n",
       "\t g12   &  6.663802e-03 & 0.0097163309 &   0.68583524 & Not Statistically Significant\\\\\n",
       "\t g21   & -5.438960e-02 & 0.0221754827 &  -2.45269077 & Stat significant at 5\\%       \\\\\n",
       "\t g22   &  9.799634e-01 & 0.0046782578 & 209.47187203 & Stat significant at 1\\%       \\\\\n",
       "\\end{tabular}\n"
      ],
      "text/markdown": [
       "\n",
       "A data.frame: 14 × 5\n",
       "\n",
       "| Parameters &lt;chr&gt; | Coefficient &lt;dbl&gt; | Std_error &lt;dbl&gt; | T_value &lt;dbl&gt; | Significant_at_5p_level &lt;chr&gt; |\n",
       "|---|---|---|---|---|\n",
       "| mu10  |  2.553914e-04 | 0.0006203057 |   0.41171852 | Not Statistically Significant |\n",
       "| mu20  |  1.863631e-05 | 0.0002384939 |   0.07814165 | Not Statistically Significant |\n",
       "| phi11 | -7.273777e-02 | 0.0323667821 |  -2.24729679 | Stat significant at 5%        |\n",
       "| phi12 |  3.901174e-01 | 0.0850842186 |   4.58507326 | Stat significant at 1%        |\n",
       "| phi21 |  1.438653e-03 | 0.0124443164 |   0.11560724 | Not Statistically Significant |\n",
       "| phi22 |  2.434271e-02 | 0.0327130122 |   0.74412918 | Not Statistically Significant |\n",
       "| a11   |  2.047896e-01 | 0.0243103804 |   8.42395667 | Stat significant at 1%        |\n",
       "| a12   |  3.000337e-03 | 0.0142832358 |   0.21006001 | Not Statistically Significant |\n",
       "| a21   |  2.225896e-01 | 0.0681250929 |   3.26736564 | Stat significant at 1%        |\n",
       "| a22   |  1.766041e-01 | 0.0270127779 |   6.53779682 | Stat significant at 1%        |\n",
       "| g11   |  9.020282e-01 | 0.0275766253 |  32.70988230 | Stat significant at 1%        |\n",
       "| g12   |  6.663802e-03 | 0.0097163309 |   0.68583524 | Not Statistically Significant |\n",
       "| g21   | -5.438960e-02 | 0.0221754827 |  -2.45269077 | Stat significant at 5%        |\n",
       "| g22   |  9.799634e-01 | 0.0046782578 | 209.47187203 | Stat significant at 1%        |\n",
       "\n"
      ],
      "text/plain": [
       "   Parameters Coefficient   Std_error    T_value     \n",
       "1  mu10        2.553914e-04 0.0006203057   0.41171852\n",
       "2  mu20        1.863631e-05 0.0002384939   0.07814165\n",
       "3  phi11      -7.273777e-02 0.0323667821  -2.24729679\n",
       "4  phi12       3.901174e-01 0.0850842186   4.58507326\n",
       "5  phi21       1.438653e-03 0.0124443164   0.11560724\n",
       "6  phi22       2.434271e-02 0.0327130122   0.74412918\n",
       "7  a11         2.047896e-01 0.0243103804   8.42395667\n",
       "8  a12         3.000337e-03 0.0142832358   0.21006001\n",
       "9  a21         2.225896e-01 0.0681250929   3.26736564\n",
       "10 a22         1.766041e-01 0.0270127779   6.53779682\n",
       "11 g11         9.020282e-01 0.0275766253  32.70988230\n",
       "12 g12         6.663802e-03 0.0097163309   0.68583524\n",
       "13 g21        -5.438960e-02 0.0221754827  -2.45269077\n",
       "14 g22         9.799634e-01 0.0046782578 209.47187203\n",
       "   Significant_at_5p_level      \n",
       "1  Not Statistically Significant\n",
       "2  Not Statistically Significant\n",
       "3  Stat significant at 5%       \n",
       "4  Stat significant at 1%       \n",
       "5  Not Statistically Significant\n",
       "6  Not Statistically Significant\n",
       "7  Stat significant at 1%       \n",
       "8  Not Statistically Significant\n",
       "9  Stat significant at 1%       \n",
       "10 Stat significant at 1%       \n",
       "11 Stat significant at 1%       \n",
       "12 Not Statistically Significant\n",
       "13 Stat significant at 5%       \n",
       "14 Stat significant at 1%       "
      ]
     },
     "metadata": {},
     "output_type": "display_data"
    }
   ],
   "source": [
    "bekk1 <- data.frame(Parameters = c(\"mu10\",\"mu20\",\"phi11\",\"phi12\",\"phi21\",\"phi22\",\"a11\",\"a12\",\"a21\",\"a22\",\"g11\",\"g12\",\"g21\",\"g22\"),\n",
    "                   Coefficient = c(summary(var_bekk1)$varresult$usc$coefficients[\"const\",\"Estimate\"],summary(var_bekk1)$varresult$eurusd$coefficients[\"const\",\"Estimate\"],\n",
    "                                   summary(var_bekk1)$varresult$usc$coefficients[\"usc.l1\",\"Estimate\"],summary(var_bekk1)$varresult$usc$coefficients[\"eurusd.l1\",\"Estimate\"],\n",
    "                                   summary(var_bekk1)$varresult$eurusd$coefficients[\"usc.l1\",\"Estimate\"],summary(var_bekk1)$varresult$eurusd$coefficients[\"eurusd.l1\",\"Estimate\"],\n",
    "                                   bekk1_fit$A[1,1],bekk1_fit$A[1,2],bekk1_fit$A[2,1],bekk1_fit$A[2,2],bekk1_fit$G[1,1],bekk1_fit$G[1,2],bekk1_fit$G[2,1],bekk1_fit$G[2,2]),\n",
    "                   Std_error = c(summary(var_bekk1)$varresult$usc$coefficients[\"const\",\"Std. Error\"],summary(var_bekk1)$varresult$eurusd$coefficients[\"const\",\"Std. Error\"],\n",
    "                                summary(var_bekk1)$varresult$usc$coefficients[\"usc.l1\",\"Std. Error\"],summary(var_bekk1)$varresult$usc$coefficients[\"eurusd.l1\",\"Std. Error\"],\n",
    "                                 summary(var_bekk1)$varresult$eurusd$coefficients[\"usc.l1\",\"Std. Error\"],summary(var_bekk1)$varresult$eurusd$coefficients[\"eurusd.l1\",\"Std. Error\"],\n",
    "                                 bekk1_fit$A_sd[1,1],bekk1_fit$A_sd[1,2],bekk1_fit$A_sd[2,1],bekk1_fit$A_sd[2,2],bekk1_fit$G_sd[1,1],bekk1_fit$G_sd[1,2],bekk1_fit$G_sd[2,1],bekk1_fit$G_sd[2,2]),\n",
    "                   T_value = c(summary(var_bekk1)$varresult$usc$coefficients[\"const\",\"t value\"],summary(var_bekk1)$varresult$eurusd$coefficients[\"const\",\"t value\"],\n",
    "                       summary(var_bekk1)$varresult$usc$coefficients[\"usc.l1\",\"t value\"],summary(var_bekk1)$varresult$usc$coefficients[\"eurusd.l1\",\"t value\"],\n",
    "                               summary(var_bekk1)$varresult$eurusd$coefficients[\"usc.l1\",\"t value\"],summary(var_bekk1)$varresult$eurusd$coefficients[\"eurusd.l1\",\"t value\"],\n",
    "                               bekk1_fit$A_t[1,1],bekk1_fit$A_t[1,2],bekk1_fit$A_t[2,1],bekk1_fit$A_t[2,2],bekk1_fit$G_t[1,1],bekk1_fit$G_t[1,2],bekk1_fit$G_t[2,1],bekk1_fit$G_t[2,2]))\n",
    "\n",
    "bekk1$Significant_at_5p_level[abs(bekk1$T_value) >= 2.58 ] <- \"Stat significant at 1%\"\n",
    "bekk1$Significant_at_5p_level[abs(bekk1$T_value) > 1.96 & abs(bekk1$T_value) < 2.58] <- \"Stat significant at 5%\"\n",
    "bekk1$Significant_at_5p_level[abs(bekk1$T_value) > 1.645 & abs(bekk1$T_value) <= 1.96 ] <- \"Stat significant at 10%\"\n",
    "bekk1$Significant_at_5p_level[abs(bekk1$T_value) <= 1.645] <- \"Not Statistically Significant\"\n",
    "bekk1"
   ]
  },
  {
   "cell_type": "code",
   "execution_count": 25,
   "id": "65d09c19-d78f-40a5-b1bc-ed0ba3737591",
   "metadata": {},
   "outputs": [
    {
     "data": {
      "text/plain": [
       "\n",
       "\tGranger causality H0: usc do not Granger-cause eurusd\n",
       "\n",
       "data:  VAR object var_bekk1\n",
       "F-Test = 0.013365, df1 = 1, df2 = 2090, p-value = 0.908\n"
      ]
     },
     "metadata": {},
     "output_type": "display_data"
    },
    {
     "data": {
      "text/plain": [
       "\n",
       "\tGranger causality H0: eurusd do not Granger-cause usc\n",
       "\n",
       "data:  VAR object var_bekk1\n",
       "F-Test = 21.023, df1 = 1, df2 = 2090, p-value = 4.807e-06\n"
      ]
     },
     "metadata": {},
     "output_type": "display_data"
    }
   ],
   "source": [
    "causality(var_bekk1,cause = \"usc\")$Granger\n",
    "causality(var_bekk1,cause = \"eurusd\")$Granger"
   ]
  },
  {
   "cell_type": "markdown",
   "id": "30b7a26d-f9e0-42c2-afc6-2809bb3e72ba",
   "metadata": {},
   "source": [
    "## (b) VAR-BEKK: US Cocoa-GBPUSD"
   ]
  },
  {
   "cell_type": "code",
   "execution_count": 26,
   "id": "ad653812-75f4-4c7e-b372-3db072ee2c42",
   "metadata": {},
   "outputs": [
    {
     "data": {
      "text/plain": [
       "                     usc        gbpusd\n",
       "2007-07-06  0.0033026687 -0.0004972527\n",
       "2007-07-09 -0.0108928380  0.0022605055\n",
       "2007-07-10 -0.0378502241  0.0057647029\n",
       "2007-07-11  0.0210431058  0.0027838359\n",
       "2007-07-12  0.0057943185 -0.0009845428\n",
       "2007-07-13 -0.0009633912  0.0019435396"
      ]
     },
     "metadata": {},
     "output_type": "display_data"
    }
   ],
   "source": [
    "bekk2data <- us_d[,c(1,3)]\n",
    "head(bekk2data)"
   ]
  },
  {
   "cell_type": "code",
   "execution_count": 27,
   "id": "98dc90d4-394e-4f70-8561-47c6fc7be106",
   "metadata": {},
   "outputs": [
    {
     "data": {
      "text/html": [
       "<dl>\n",
       "\t<dt>$selection</dt>\n",
       "\t\t<dd><style>\n",
       ".dl-inline {width: auto; margin:0; padding: 0}\n",
       ".dl-inline>dt, .dl-inline>dd {float: none; width: auto; display: inline-block}\n",
       ".dl-inline>dt::after {content: \":\\0020\"; padding-right: .5ex}\n",
       ".dl-inline>dt:not(:first-of-type) {padding-left: .5ex}\n",
       "</style><dl class=dl-inline><dt>AIC(n)</dt><dd>1</dd><dt>HQ(n)</dt><dd>1</dd><dt>SC(n)</dt><dd>1</dd><dt>FPE(n)</dt><dd>1</dd></dl>\n",
       "</dd>\n",
       "\t<dt>$criteria</dt>\n",
       "\t\t<dd><table class=\"dataframe\">\n",
       "<caption>A matrix: 4 × 10 of type dbl</caption>\n",
       "<thead>\n",
       "\t<tr><th></th><th scope=col>1</th><th scope=col>2</th><th scope=col>3</th><th scope=col>4</th><th scope=col>5</th><th scope=col>6</th><th scope=col>7</th><th scope=col>8</th><th scope=col>9</th><th scope=col>10</th></tr>\n",
       "</thead>\n",
       "<tbody>\n",
       "\t<tr><th scope=row>AIC(n)</th><td>-1.772074e+01</td><td>-1.771614e+01</td><td>-1.771309e+01</td><td>-1.770949e+01</td><td>-1.771180e+01</td><td>-1.770925e+01</td><td>-1.770708e+01</td><td>-1.770516e+01</td><td>-1.769957e+01</td><td>-1.770503e+01</td></tr>\n",
       "\t<tr><th scope=row>HQ(n)</th><td>-1.770990e+01</td><td>-1.769808e+01</td><td>-1.768781e+01</td><td>-1.767698e+01</td><td>-1.767207e+01</td><td>-1.766230e+01</td><td>-1.765290e+01</td><td>-1.764376e+01</td><td>-1.763095e+01</td><td>-1.762918e+01</td></tr>\n",
       "\t<tr><th scope=row>SC(n)</th><td>-1.769217e+01</td><td>-1.766854e+01</td><td>-1.764645e+01</td><td>-1.762380e+01</td><td>-1.760708e+01</td><td>-1.758548e+01</td><td>-1.756427e+01</td><td>-1.754331e+01</td><td>-1.751868e+01</td><td>-1.750509e+01</td></tr>\n",
       "\t<tr><th scope=row>FPE(n)</th><td> 2.013643e-08</td><td> 2.022918e-08</td><td> 2.029097e-08</td><td> 2.036419e-08</td><td> 2.031711e-08</td><td> 2.036901e-08</td><td> 2.041332e-08</td><td> 2.045262e-08</td><td> 2.056727e-08</td><td> 2.045548e-08</td></tr>\n",
       "</tbody>\n",
       "</table>\n",
       "</dd>\n",
       "</dl>\n"
      ],
      "text/latex": [
       "\\begin{description}\n",
       "\\item[\\$selection] \\begin{description*}\n",
       "\\item[AIC(n)] 1\n",
       "\\item[HQ(n)] 1\n",
       "\\item[SC(n)] 1\n",
       "\\item[FPE(n)] 1\n",
       "\\end{description*}\n",
       "\n",
       "\\item[\\$criteria] A matrix: 4 × 10 of type dbl\n",
       "\\begin{tabular}{r|llllllllll}\n",
       "  & 1 & 2 & 3 & 4 & 5 & 6 & 7 & 8 & 9 & 10\\\\\n",
       "\\hline\n",
       "\tAIC(n) & -1.772074e+01 & -1.771614e+01 & -1.771309e+01 & -1.770949e+01 & -1.771180e+01 & -1.770925e+01 & -1.770708e+01 & -1.770516e+01 & -1.769957e+01 & -1.770503e+01\\\\\n",
       "\tHQ(n) & -1.770990e+01 & -1.769808e+01 & -1.768781e+01 & -1.767698e+01 & -1.767207e+01 & -1.766230e+01 & -1.765290e+01 & -1.764376e+01 & -1.763095e+01 & -1.762918e+01\\\\\n",
       "\tSC(n) & -1.769217e+01 & -1.766854e+01 & -1.764645e+01 & -1.762380e+01 & -1.760708e+01 & -1.758548e+01 & -1.756427e+01 & -1.754331e+01 & -1.751868e+01 & -1.750509e+01\\\\\n",
       "\tFPE(n) &  2.013643e-08 &  2.022918e-08 &  2.029097e-08 &  2.036419e-08 &  2.031711e-08 &  2.036901e-08 &  2.041332e-08 &  2.045262e-08 &  2.056727e-08 &  2.045548e-08\\\\\n",
       "\\end{tabular}\n",
       "\n",
       "\\end{description}\n"
      ],
      "text/markdown": [
       "$selection\n",
       ":   AIC(n)\n",
       ":   1HQ(n)\n",
       ":   1SC(n)\n",
       ":   1FPE(n)\n",
       ":   1\n",
       "\n",
       "\n",
       "$criteria\n",
       ":   \n",
       "A matrix: 4 × 10 of type dbl\n",
       "\n",
       "| <!--/--> | 1 | 2 | 3 | 4 | 5 | 6 | 7 | 8 | 9 | 10 |\n",
       "|---|---|---|---|---|---|---|---|---|---|---|\n",
       "| AIC(n) | -1.772074e+01 | -1.771614e+01 | -1.771309e+01 | -1.770949e+01 | -1.771180e+01 | -1.770925e+01 | -1.770708e+01 | -1.770516e+01 | -1.769957e+01 | -1.770503e+01 |\n",
       "| HQ(n) | -1.770990e+01 | -1.769808e+01 | -1.768781e+01 | -1.767698e+01 | -1.767207e+01 | -1.766230e+01 | -1.765290e+01 | -1.764376e+01 | -1.763095e+01 | -1.762918e+01 |\n",
       "| SC(n) | -1.769217e+01 | -1.766854e+01 | -1.764645e+01 | -1.762380e+01 | -1.760708e+01 | -1.758548e+01 | -1.756427e+01 | -1.754331e+01 | -1.751868e+01 | -1.750509e+01 |\n",
       "| FPE(n) |  2.013643e-08 |  2.022918e-08 |  2.029097e-08 |  2.036419e-08 |  2.031711e-08 |  2.036901e-08 |  2.041332e-08 |  2.045262e-08 |  2.056727e-08 |  2.045548e-08 |\n",
       "\n",
       "\n",
       "\n",
       "\n"
      ],
      "text/plain": [
       "$selection\n",
       "AIC(n)  HQ(n)  SC(n) FPE(n) \n",
       "     1      1      1      1 \n",
       "\n",
       "$criteria\n",
       "                   1             2             3             4             5\n",
       "AIC(n) -1.772074e+01 -1.771614e+01 -1.771309e+01 -1.770949e+01 -1.771180e+01\n",
       "HQ(n)  -1.770990e+01 -1.769808e+01 -1.768781e+01 -1.767698e+01 -1.767207e+01\n",
       "SC(n)  -1.769217e+01 -1.766854e+01 -1.764645e+01 -1.762380e+01 -1.760708e+01\n",
       "FPE(n)  2.013643e-08  2.022918e-08  2.029097e-08  2.036419e-08  2.031711e-08\n",
       "                   6             7             8             9            10\n",
       "AIC(n) -1.770925e+01 -1.770708e+01 -1.770516e+01 -1.769957e+01 -1.770503e+01\n",
       "HQ(n)  -1.766230e+01 -1.765290e+01 -1.764376e+01 -1.763095e+01 -1.762918e+01\n",
       "SC(n)  -1.758548e+01 -1.756427e+01 -1.754331e+01 -1.751868e+01 -1.750509e+01\n",
       "FPE(n)  2.036901e-08  2.041332e-08  2.045262e-08  2.056727e-08  2.045548e-08\n"
      ]
     },
     "metadata": {},
     "output_type": "display_data"
    }
   ],
   "source": [
    "VARselect(bekk2data,type = \"const\")"
   ]
  },
  {
   "cell_type": "code",
   "execution_count": 28,
   "id": "55eab6a4-da74-48bd-b167-d88db45b0ef7",
   "metadata": {},
   "outputs": [],
   "source": [
    "var_bekk2<-VAR(bekk2data,p = 1,type = \"const\")\n",
    "res_bekk2 <- residuals(var_bekk2)\n",
    "res_bekk2 <- as.data.frame(res_bekk2)"
   ]
  },
  {
   "cell_type": "code",
   "execution_count": 29,
   "id": "32a286b2-8288-4f4c-bbac-dcfeb3b28a6c",
   "metadata": {},
   "outputs": [
    {
     "data": {
      "text/plain": [
       "\n",
       "VAR Estimation Results:\n",
       "========================= \n",
       "Endogenous variables: usc, gbpusd \n",
       "Deterministic variables: const \n",
       "Sample size: 1048 \n",
       "Log Likelihood: 6321.264 \n",
       "Roots of the characteristic polynomial:\n",
       "0.04121 0.03365\n",
       "Call:\n",
       "VAR(y = bekk2data, p = 1, type = \"const\")\n",
       "\n",
       "\n",
       "Estimation results for equation usc: \n",
       "==================================== \n",
       "usc = usc.l1 + gbpusd.l1 + const \n",
       "\n",
       "            Estimate Std. Error t value Pr(>|t|)    \n",
       "usc.l1    -0.0661593  0.0327138  -2.022 0.043393 *  \n",
       "gbpusd.l1  0.3284468  0.0890570   3.688 0.000238 ***\n",
       "const      0.0003234  0.0006227   0.519 0.603602    \n",
       "---\n",
       "Signif. codes:  0 ‘***’ 0.001 ‘**’ 0.01 ‘*’ 0.05 ‘.’ 0.1 ‘ ’ 1\n",
       "\n",
       "\n",
       "Residual standard error: 0.02015 on 1045 degrees of freedom\n",
       "Multiple R-Squared: 0.01347,\tAdjusted R-squared: 0.01158 \n",
       "F-statistic: 7.134 on 2 and 1045 DF,  p-value: 0.0008371 \n",
       "\n",
       "\n",
       "Estimation results for equation gbpusd: \n",
       "======================================= \n",
       "gbpusd = usc.l1 + gbpusd.l1 + const \n",
       "\n",
       "            Estimate Std. Error t value Pr(>|t|)  \n",
       "usc.l1    -0.0075810  0.0120668  -0.628   0.5300  \n",
       "gbpusd.l1  0.0585988  0.0328497   1.784   0.0747 .\n",
       "const     -0.0001593  0.0002297  -0.693   0.4882  \n",
       "---\n",
       "Signif. codes:  0 ‘***’ 0.001 ‘**’ 0.01 ‘*’ 0.05 ‘.’ 0.1 ‘ ’ 1\n",
       "\n",
       "\n",
       "Residual standard error: 0.007432 on 1045 degrees of freedom\n",
       "Multiple R-Squared: 0.003036,\tAdjusted R-squared: 0.001128 \n",
       "F-statistic: 1.591 on 2 and 1045 DF,  p-value: 0.2042 \n",
       "\n",
       "\n",
       "\n",
       "Covariance matrix of residuals:\n",
       "             usc    gbpusd\n",
       "usc    4.060e-04 5.046e-05\n",
       "gbpusd 5.046e-05 5.524e-05\n",
       "\n",
       "Correlation matrix of residuals:\n",
       "          usc gbpusd\n",
       "usc    1.0000 0.3369\n",
       "gbpusd 0.3369 1.0000\n",
       "\n"
      ]
     },
     "metadata": {},
     "output_type": "display_data"
    }
   ],
   "source": [
    "summary(var_bekk2)"
   ]
  },
  {
   "cell_type": "code",
   "execution_count": 30,
   "id": "a216b08a-20f3-468f-9dc0-556a07f506f0",
   "metadata": {},
   "outputs": [
    {
     "name": "stdout",
     "output_type": "stream",
     "text": [
      " Date[1:1048], format: \"2007-07-09\" \"2007-07-10\" \"2007-07-11\" \"2007-07-12\" \"2007-07-13\" ...\n"
     ]
    }
   ],
   "source": [
    "ind_var2 <- index(bekk2data)[-1]\n",
    "str(ind_var2)"
   ]
  },
  {
   "cell_type": "code",
   "execution_count": 31,
   "id": "06a6c402-01b9-4f1b-acbf-e393b53c3e49",
   "metadata": {},
   "outputs": [],
   "source": [
    "res_bekk2 <- xts(res_bekk2,order.by = ind_var2)"
   ]
  },
  {
   "cell_type": "code",
   "execution_count": 32,
   "id": "b765226c-4a0e-41b5-9110-5cf6ed5dfd70",
   "metadata": {},
   "outputs": [],
   "source": [
    "bekk_spec <- bekk_spec(model = list(type = \"bekk\",asymmetric = F))\n",
    "bekk2_fit <- bekk_fit(spec = bekk_spec,data = res_bekk2)"
   ]
  },
  {
   "cell_type": "code",
   "execution_count": 33,
   "id": "f700e484-df70-48de-aaac-1adfa2d19481",
   "metadata": {},
   "outputs": [
    {
     "data": {
      "text/html": [
       "<table class=\"dataframe\">\n",
       "<caption>A matrix: 2 × 2 of type dbl</caption>\n",
       "<tbody>\n",
       "\t<tr><td>0.2166136</td><td>-0.01206659</td></tr>\n",
       "\t<tr><td>0.2758726</td><td> 0.18008490</td></tr>\n",
       "</tbody>\n",
       "</table>\n"
      ],
      "text/latex": [
       "A matrix: 2 × 2 of type dbl\n",
       "\\begin{tabular}{ll}\n",
       "\t 0.2166136 & -0.01206659\\\\\n",
       "\t 0.2758726 &  0.18008490\\\\\n",
       "\\end{tabular}\n"
      ],
      "text/markdown": [
       "\n",
       "A matrix: 2 × 2 of type dbl\n",
       "\n",
       "| 0.2166136 | -0.01206659 |\n",
       "| 0.2758726 |  0.18008490 |\n",
       "\n"
      ],
      "text/plain": [
       "     [,1]      [,2]       \n",
       "[1,] 0.2166136 -0.01206659\n",
       "[2,] 0.2758726  0.18008490"
      ]
     },
     "metadata": {},
     "output_type": "display_data"
    },
    {
     "data": {
      "text/html": [
       "<table class=\"dataframe\">\n",
       "<caption>A matrix: 2 × 2 of type dbl</caption>\n",
       "<tbody>\n",
       "\t<tr><td>8.000065</td><td>-0.8584682</td></tr>\n",
       "\t<tr><td>5.085962</td><td> 4.9182747</td></tr>\n",
       "</tbody>\n",
       "</table>\n"
      ],
      "text/latex": [
       "A matrix: 2 × 2 of type dbl\n",
       "\\begin{tabular}{ll}\n",
       "\t 8.000065 & -0.8584682\\\\\n",
       "\t 5.085962 &  4.9182747\\\\\n",
       "\\end{tabular}\n"
      ],
      "text/markdown": [
       "\n",
       "A matrix: 2 × 2 of type dbl\n",
       "\n",
       "| 8.000065 | -0.8584682 |\n",
       "| 5.085962 |  4.9182747 |\n",
       "\n"
      ],
      "text/plain": [
       "     [,1]     [,2]      \n",
       "[1,] 8.000065 -0.8584682\n",
       "[2,] 5.085962  4.9182747"
      ]
     },
     "metadata": {},
     "output_type": "display_data"
    }
   ],
   "source": [
    "bekk2_fit$A\n",
    "bekk2_fit$A_t"
   ]
  },
  {
   "cell_type": "code",
   "execution_count": 34,
   "id": "74741d38-817d-467e-b049-02aeb3dd11a8",
   "metadata": {},
   "outputs": [
    {
     "data": {
      "text/html": [
       "<table class=\"dataframe\">\n",
       "<caption>A matrix: 2 × 2 of type dbl</caption>\n",
       "<tbody>\n",
       "\t<tr><td> 0.89764060</td><td>0.01933899</td></tr>\n",
       "\t<tr><td>-0.06027656</td><td>0.97123753</td></tr>\n",
       "</tbody>\n",
       "</table>\n"
      ],
      "text/latex": [
       "A matrix: 2 × 2 of type dbl\n",
       "\\begin{tabular}{ll}\n",
       "\t  0.89764060 & 0.01933899\\\\\n",
       "\t -0.06027656 & 0.97123753\\\\\n",
       "\\end{tabular}\n"
      ],
      "text/markdown": [
       "\n",
       "A matrix: 2 × 2 of type dbl\n",
       "\n",
       "|  0.89764060 | 0.01933899 |\n",
       "| -0.06027656 | 0.97123753 |\n",
       "\n"
      ],
      "text/plain": [
       "     [,1]        [,2]      \n",
       "[1,]  0.89764060 0.01933899\n",
       "[2,] -0.06027656 0.97123753"
      ]
     },
     "metadata": {},
     "output_type": "display_data"
    },
    {
     "data": {
      "text/html": [
       "<table class=\"dataframe\">\n",
       "<caption>A matrix: 2 × 2 of type dbl</caption>\n",
       "<tbody>\n",
       "\t<tr><td>36.336145</td><td>  1.791482</td></tr>\n",
       "\t<tr><td>-2.185385</td><td>121.467081</td></tr>\n",
       "</tbody>\n",
       "</table>\n"
      ],
      "text/latex": [
       "A matrix: 2 × 2 of type dbl\n",
       "\\begin{tabular}{ll}\n",
       "\t 36.336145 &   1.791482\\\\\n",
       "\t -2.185385 & 121.467081\\\\\n",
       "\\end{tabular}\n"
      ],
      "text/markdown": [
       "\n",
       "A matrix: 2 × 2 of type dbl\n",
       "\n",
       "| 36.336145 |   1.791482 |\n",
       "| -2.185385 | 121.467081 |\n",
       "\n"
      ],
      "text/plain": [
       "     [,1]      [,2]      \n",
       "[1,] 36.336145   1.791482\n",
       "[2,] -2.185385 121.467081"
      ]
     },
     "metadata": {},
     "output_type": "display_data"
    }
   ],
   "source": [
    "bekk2_fit$G\n",
    "bekk2_fit$G_t"
   ]
  },
  {
   "cell_type": "markdown",
   "id": "b15519db-5e76-4557-84e7-179f4cb014ec",
   "metadata": {},
   "source": [
    "### VAR-BEKK Model Table for US Cocoa - GBPUSD"
   ]
  },
  {
   "cell_type": "code",
   "execution_count": 35,
   "id": "2a5dd7aa-3d6f-4c3d-9443-56d1e9cf7be1",
   "metadata": {},
   "outputs": [
    {
     "data": {
      "text/html": [
       "<table class=\"dataframe\">\n",
       "<caption>A data.frame: 14 × 5</caption>\n",
       "<thead>\n",
       "\t<tr><th scope=col>Parameters</th><th scope=col>Coefficient</th><th scope=col>Std_error</th><th scope=col>T_value</th><th scope=col>Significant_at_5p_level</th></tr>\n",
       "\t<tr><th scope=col>&lt;chr&gt;</th><th scope=col>&lt;dbl&gt;</th><th scope=col>&lt;dbl&gt;</th><th scope=col>&lt;dbl&gt;</th><th scope=col>&lt;chr&gt;</th></tr>\n",
       "</thead>\n",
       "<tbody>\n",
       "\t<tr><td>mu10 </td><td> 0.0003234433</td><td>0.0006227426</td><td>  0.5193852</td><td>Not Statistically Significant</td></tr>\n",
       "\t<tr><td>mu20 </td><td>-0.0001592954</td><td>0.0002297055</td><td> -0.6934764</td><td>Not Statistically Significant</td></tr>\n",
       "\t<tr><td>phi11</td><td>-0.0661593197</td><td>0.0327137605</td><td> -2.0223698</td><td>Stat significant at 5%       </td></tr>\n",
       "\t<tr><td>phi12</td><td> 0.3284467681</td><td>0.0890570059</td><td>  3.6880509</td><td>Stat significant at 1%       </td></tr>\n",
       "\t<tr><td>phi21</td><td>-0.0075809821</td><td>0.0120668354</td><td> -0.6282494</td><td>Not Statistically Significant</td></tr>\n",
       "\t<tr><td>phi22</td><td> 0.0585987803</td><td>0.0328496699</td><td>  1.7838469</td><td>Stat significant at 10%      </td></tr>\n",
       "\t<tr><td>a11  </td><td> 0.2166136101</td><td>0.0270764799</td><td>  8.0000654</td><td>Stat significant at 1%       </td></tr>\n",
       "\t<tr><td>a12  </td><td>-0.0120665870</td><td>0.0140559508</td><td> -0.8584682</td><td>Not Statistically Significant</td></tr>\n",
       "\t<tr><td>a21  </td><td> 0.2758726146</td><td>0.0542419752</td><td>  5.0859618</td><td>Stat significant at 1%       </td></tr>\n",
       "\t<tr><td>a22  </td><td> 0.1800849049</td><td>0.0366154627</td><td>  4.9182747</td><td>Stat significant at 1%       </td></tr>\n",
       "\t<tr><td>g11  </td><td> 0.8976406011</td><td>0.0247037927</td><td> 36.3361453</td><td>Stat significant at 1%       </td></tr>\n",
       "\t<tr><td>g12  </td><td> 0.0193389937</td><td>0.0107949694</td><td>  1.7914820</td><td>Stat significant at 10%      </td></tr>\n",
       "\t<tr><td>g21  </td><td>-0.0602765551</td><td>0.0275816597</td><td> -2.1853854</td><td>Stat significant at 5%       </td></tr>\n",
       "\t<tr><td>g22  </td><td> 0.9712375326</td><td>0.0079958910</td><td>121.4670808</td><td>Stat significant at 1%       </td></tr>\n",
       "</tbody>\n",
       "</table>\n"
      ],
      "text/latex": [
       "A data.frame: 14 × 5\n",
       "\\begin{tabular}{lllll}\n",
       " Parameters & Coefficient & Std\\_error & T\\_value & Significant\\_at\\_5p\\_level\\\\\n",
       " <chr> & <dbl> & <dbl> & <dbl> & <chr>\\\\\n",
       "\\hline\n",
       "\t mu10  &  0.0003234433 & 0.0006227426 &   0.5193852 & Not Statistically Significant\\\\\n",
       "\t mu20  & -0.0001592954 & 0.0002297055 &  -0.6934764 & Not Statistically Significant\\\\\n",
       "\t phi11 & -0.0661593197 & 0.0327137605 &  -2.0223698 & Stat significant at 5\\%       \\\\\n",
       "\t phi12 &  0.3284467681 & 0.0890570059 &   3.6880509 & Stat significant at 1\\%       \\\\\n",
       "\t phi21 & -0.0075809821 & 0.0120668354 &  -0.6282494 & Not Statistically Significant\\\\\n",
       "\t phi22 &  0.0585987803 & 0.0328496699 &   1.7838469 & Stat significant at 10\\%      \\\\\n",
       "\t a11   &  0.2166136101 & 0.0270764799 &   8.0000654 & Stat significant at 1\\%       \\\\\n",
       "\t a12   & -0.0120665870 & 0.0140559508 &  -0.8584682 & Not Statistically Significant\\\\\n",
       "\t a21   &  0.2758726146 & 0.0542419752 &   5.0859618 & Stat significant at 1\\%       \\\\\n",
       "\t a22   &  0.1800849049 & 0.0366154627 &   4.9182747 & Stat significant at 1\\%       \\\\\n",
       "\t g11   &  0.8976406011 & 0.0247037927 &  36.3361453 & Stat significant at 1\\%       \\\\\n",
       "\t g12   &  0.0193389937 & 0.0107949694 &   1.7914820 & Stat significant at 10\\%      \\\\\n",
       "\t g21   & -0.0602765551 & 0.0275816597 &  -2.1853854 & Stat significant at 5\\%       \\\\\n",
       "\t g22   &  0.9712375326 & 0.0079958910 & 121.4670808 & Stat significant at 1\\%       \\\\\n",
       "\\end{tabular}\n"
      ],
      "text/markdown": [
       "\n",
       "A data.frame: 14 × 5\n",
       "\n",
       "| Parameters &lt;chr&gt; | Coefficient &lt;dbl&gt; | Std_error &lt;dbl&gt; | T_value &lt;dbl&gt; | Significant_at_5p_level &lt;chr&gt; |\n",
       "|---|---|---|---|---|\n",
       "| mu10  |  0.0003234433 | 0.0006227426 |   0.5193852 | Not Statistically Significant |\n",
       "| mu20  | -0.0001592954 | 0.0002297055 |  -0.6934764 | Not Statistically Significant |\n",
       "| phi11 | -0.0661593197 | 0.0327137605 |  -2.0223698 | Stat significant at 5%        |\n",
       "| phi12 |  0.3284467681 | 0.0890570059 |   3.6880509 | Stat significant at 1%        |\n",
       "| phi21 | -0.0075809821 | 0.0120668354 |  -0.6282494 | Not Statistically Significant |\n",
       "| phi22 |  0.0585987803 | 0.0328496699 |   1.7838469 | Stat significant at 10%       |\n",
       "| a11   |  0.2166136101 | 0.0270764799 |   8.0000654 | Stat significant at 1%        |\n",
       "| a12   | -0.0120665870 | 0.0140559508 |  -0.8584682 | Not Statistically Significant |\n",
       "| a21   |  0.2758726146 | 0.0542419752 |   5.0859618 | Stat significant at 1%        |\n",
       "| a22   |  0.1800849049 | 0.0366154627 |   4.9182747 | Stat significant at 1%        |\n",
       "| g11   |  0.8976406011 | 0.0247037927 |  36.3361453 | Stat significant at 1%        |\n",
       "| g12   |  0.0193389937 | 0.0107949694 |   1.7914820 | Stat significant at 10%       |\n",
       "| g21   | -0.0602765551 | 0.0275816597 |  -2.1853854 | Stat significant at 5%        |\n",
       "| g22   |  0.9712375326 | 0.0079958910 | 121.4670808 | Stat significant at 1%        |\n",
       "\n"
      ],
      "text/plain": [
       "   Parameters Coefficient   Std_error    T_value    \n",
       "1  mu10        0.0003234433 0.0006227426   0.5193852\n",
       "2  mu20       -0.0001592954 0.0002297055  -0.6934764\n",
       "3  phi11      -0.0661593197 0.0327137605  -2.0223698\n",
       "4  phi12       0.3284467681 0.0890570059   3.6880509\n",
       "5  phi21      -0.0075809821 0.0120668354  -0.6282494\n",
       "6  phi22       0.0585987803 0.0328496699   1.7838469\n",
       "7  a11         0.2166136101 0.0270764799   8.0000654\n",
       "8  a12        -0.0120665870 0.0140559508  -0.8584682\n",
       "9  a21         0.2758726146 0.0542419752   5.0859618\n",
       "10 a22         0.1800849049 0.0366154627   4.9182747\n",
       "11 g11         0.8976406011 0.0247037927  36.3361453\n",
       "12 g12         0.0193389937 0.0107949694   1.7914820\n",
       "13 g21        -0.0602765551 0.0275816597  -2.1853854\n",
       "14 g22         0.9712375326 0.0079958910 121.4670808\n",
       "   Significant_at_5p_level      \n",
       "1  Not Statistically Significant\n",
       "2  Not Statistically Significant\n",
       "3  Stat significant at 5%       \n",
       "4  Stat significant at 1%       \n",
       "5  Not Statistically Significant\n",
       "6  Stat significant at 10%      \n",
       "7  Stat significant at 1%       \n",
       "8  Not Statistically Significant\n",
       "9  Stat significant at 1%       \n",
       "10 Stat significant at 1%       \n",
       "11 Stat significant at 1%       \n",
       "12 Stat significant at 10%      \n",
       "13 Stat significant at 5%       \n",
       "14 Stat significant at 1%       "
      ]
     },
     "metadata": {},
     "output_type": "display_data"
    }
   ],
   "source": [
    "bekk2 <- data.frame(Parameters = c(\"mu10\",\"mu20\",\"phi11\",\"phi12\",\"phi21\",\"phi22\",\"a11\",\"a12\",\"a21\",\"a22\",\"g11\",\"g12\",\"g21\",\"g22\"),\n",
    "                   Coefficient = c(summary(var_bekk2)$varresult$usc$coefficients[\"const\",\"Estimate\"],summary(var_bekk2)$varresult$gbpusd$coefficients[\"const\",\"Estimate\"],\n",
    "                       summary(var_bekk2)$varresult$usc$coefficients[\"usc.l1\",\"Estimate\"],summary(var_bekk2)$varresult$usc$coefficients[\"gbpusd.l1\",\"Estimate\"],\n",
    "                                   summary(var_bekk2)$varresult$gbpusd$coefficients[\"usc.l1\",\"Estimate\"],summary(var_bekk2)$varresult$gbpusd$coefficients[\"gbpusd.l1\",\"Estimate\"],\n",
    "                                   bekk2_fit$A[1,1],bekk2_fit$A[1,2],bekk2_fit$A[2,1],bekk2_fit$A[2,2],bekk2_fit$G[1,1],bekk2_fit$G[1,2],bekk2_fit$G[2,1],bekk2_fit$G[2,2]),\n",
    "                   Std_error = c(summary(var_bekk2)$varresult$usc$coefficients[\"const\",\"Std. Error\"],summary(var_bekk2)$varresult$gbpusd$coefficients[\"const\",\"Std. Error\"],\n",
    "                       summary(var_bekk2)$varresult$usc$coefficients[\"usc.l1\",\"Std. Error\"],summary(var_bekk2)$varresult$usc$coefficients[\"gbpusd.l1\",\"Std. Error\"],\n",
    "                                 summary(var_bekk2)$varresult$gbpusd$coefficients[\"usc.l1\",\"Std. Error\"],summary(var_bekk2)$varresult$gbpusd$coefficients[\"gbpusd.l1\",\"Std. Error\"],\n",
    "                                 bekk2_fit$A_sd[1,1],bekk2_fit$A_sd[1,2],bekk2_fit$A_sd[2,1],bekk2_fit$A_sd[2,2],bekk2_fit$G_sd[1,1],bekk2_fit$G_sd[1,2],bekk2_fit$G_sd[2,1],bekk2_fit$G_sd[2,2]),\n",
    "                   T_value = c(summary(var_bekk2)$varresult$usc$coefficients[\"const\",\"t value\"],summary(var_bekk2)$varresult$gbpusd$coefficients[\"const\",\"t value\"],\n",
    "                       summary(var_bekk2)$varresult$usc$coefficients[\"usc.l1\",\"t value\"],summary(var_bekk2)$varresult$usc$coefficients[\"gbpusd.l1\",\"t value\"],\n",
    "                               summary(var_bekk2)$varresult$gbpusd$coefficients[\"usc.l1\",\"t value\"],summary(var_bekk2)$varresult$gbpusd$coefficients[\"gbpusd.l1\",\"t value\"],\n",
    "                               bekk2_fit$A_t[1,1],bekk2_fit$A_t[1,2],bekk2_fit$A_t[2,1],bekk2_fit$A_t[2,2],bekk2_fit$G_t[1,1],bekk2_fit$G_t[1,2],bekk2_fit$G_t[2,1],bekk2_fit$G_t[2,2]))\n",
    "\n",
    "bekk2$Significant_at_5p_level[abs(bekk2$T_value) >= 2.58 ] <- \"Stat significant at 1%\"\n",
    "bekk2$Significant_at_5p_level[abs(bekk2$T_value) > 1.96 & abs(bekk2$T_value) < 2.58] <- \"Stat significant at 5%\"\n",
    "bekk2$Significant_at_5p_level[abs(bekk2$T_value) > 1.645 & abs(bekk2$T_value) <= 1.96 ] <- \"Stat significant at 10%\"\n",
    "bekk2$Significant_at_5p_level[abs(bekk2$T_value) <= 1.645] <- \"Not Statistically Significant\"\n",
    "bekk2"
   ]
  },
  {
   "cell_type": "code",
   "execution_count": 36,
   "id": "0661de2d-db9b-4d3f-83a6-4032d27c20ac",
   "metadata": {},
   "outputs": [
    {
     "data": {
      "text/plain": [
       "\n",
       "\tGranger causality H0: usc do not Granger-cause gbpusd\n",
       "\n",
       "data:  VAR object var_bekk2\n",
       "F-Test = 0.3947, df1 = 1, df2 = 2090, p-value = 0.5299\n"
      ]
     },
     "metadata": {},
     "output_type": "display_data"
    },
    {
     "data": {
      "text/plain": [
       "\n",
       "\tGranger causality H0: gbpusd do not Granger-cause usc\n",
       "\n",
       "data:  VAR object var_bekk2\n",
       "F-Test = 13.602, df1 = 1, df2 = 2090, p-value = 0.0002317\n"
      ]
     },
     "metadata": {},
     "output_type": "display_data"
    }
   ],
   "source": [
    "causality(var_bekk2,cause = \"usc\")$Granger\n",
    "causality(var_bekk2,cause = \"gbpusd\")$Granger"
   ]
  },
  {
   "cell_type": "markdown",
   "id": "a3c14e89-d9ca-4038-ba6d-1f51024883d0",
   "metadata": {},
   "source": [
    "## (c) VAR-BEKK: US Cocoa-CHFUSD"
   ]
  },
  {
   "cell_type": "code",
   "execution_count": 37,
   "id": "1544ec4a-7453-4684-a869-96a10b65e42e",
   "metadata": {},
   "outputs": [
    {
     "data": {
      "text/plain": [
       "                     usc        chfusd\n",
       "2007-07-06  0.0033026687 -0.0003044418\n",
       "2007-07-09 -0.0108928380  0.0012172115\n",
       "2007-07-10 -0.0378502241  0.0115503355\n",
       "2007-07-11  0.0210431058 -0.0029504763\n",
       "2007-07-12  0.0057943185  0.0028903495\n",
       "2007-07-13 -0.0009633912  0.0000000000"
      ]
     },
     "metadata": {},
     "output_type": "display_data"
    },
    {
     "data": {
      "text/plain": [
       "                   usc       chfusd\n",
       "2011-09-23 -0.01739818  0.002539799\n",
       "2011-09-26  0.01298479  0.004880042\n",
       "2011-09-27  0.01645075  0.005842713\n",
       "2011-09-28 -0.02014351 -0.004491362\n",
       "2011-09-29  0.01103764  0.003235812\n",
       "2011-09-30 -0.03159527 -0.011870781"
      ]
     },
     "metadata": {},
     "output_type": "display_data"
    }
   ],
   "source": [
    "bekk3data <- us_d[,c(1,4)]\n",
    "head(bekk3data)\n",
    "tail(bekk3data)"
   ]
  },
  {
   "cell_type": "code",
   "execution_count": 38,
   "id": "14d9c2f9-c41a-473b-bc3b-aea9b689c6bc",
   "metadata": {},
   "outputs": [
    {
     "data": {
      "text/html": [
       "<dl>\n",
       "\t<dt>$selection</dt>\n",
       "\t\t<dd><style>\n",
       ".dl-inline {width: auto; margin:0; padding: 0}\n",
       ".dl-inline>dt, .dl-inline>dd {float: none; width: auto; display: inline-block}\n",
       ".dl-inline>dt::after {content: \":\\0020\"; padding-right: .5ex}\n",
       ".dl-inline>dt:not(:first-of-type) {padding-left: .5ex}\n",
       "</style><dl class=dl-inline><dt>AIC(n)</dt><dd>1</dd><dt>HQ(n)</dt><dd>1</dd><dt>SC(n)</dt><dd>1</dd><dt>FPE(n)</dt><dd>1</dd></dl>\n",
       "</dd>\n",
       "\t<dt>$criteria</dt>\n",
       "\t\t<dd><table class=\"dataframe\">\n",
       "<caption>A matrix: 4 × 10 of type dbl</caption>\n",
       "<thead>\n",
       "\t<tr><th></th><th scope=col>1</th><th scope=col>2</th><th scope=col>3</th><th scope=col>4</th><th scope=col>5</th><th scope=col>6</th><th scope=col>7</th><th scope=col>8</th><th scope=col>9</th><th scope=col>10</th></tr>\n",
       "</thead>\n",
       "<tbody>\n",
       "\t<tr><th scope=row>AIC(n)</th><td>-1.735801e+01</td><td>-1.735232e+01</td><td>-1.734964e+01</td><td>-1.734245e+01</td><td>-1.733744e+01</td><td>-1.733431e+01</td><td>-1.732832e+01</td><td>-1.732481e+01</td><td>-1.731947e+01</td><td>-1.731502e+01</td></tr>\n",
       "\t<tr><th scope=row>HQ(n)</th><td>-1.734718e+01</td><td>-1.733426e+01</td><td>-1.732435e+01</td><td>-1.730995e+01</td><td>-1.729771e+01</td><td>-1.728735e+01</td><td>-1.727414e+01</td><td>-1.726341e+01</td><td>-1.725085e+01</td><td>-1.723917e+01</td></tr>\n",
       "\t<tr><th scope=row>SC(n)</th><td>-1.732945e+01</td><td>-1.730471e+01</td><td>-1.728299e+01</td><td>-1.725677e+01</td><td>-1.723271e+01</td><td>-1.721054e+01</td><td>-1.718551e+01</td><td>-1.716295e+01</td><td>-1.713858e+01</td><td>-1.711509e+01</td></tr>\n",
       "\t<tr><th scope=row>FPE(n)</th><td> 2.894081e-08</td><td> 2.910617e-08</td><td> 2.918426e-08</td><td> 2.939471e-08</td><td> 2.954242e-08</td><td> 2.963520e-08</td><td> 2.981317e-08</td><td> 2.991815e-08</td><td> 3.007816e-08</td><td> 3.021252e-08</td></tr>\n",
       "</tbody>\n",
       "</table>\n",
       "</dd>\n",
       "</dl>\n"
      ],
      "text/latex": [
       "\\begin{description}\n",
       "\\item[\\$selection] \\begin{description*}\n",
       "\\item[AIC(n)] 1\n",
       "\\item[HQ(n)] 1\n",
       "\\item[SC(n)] 1\n",
       "\\item[FPE(n)] 1\n",
       "\\end{description*}\n",
       "\n",
       "\\item[\\$criteria] A matrix: 4 × 10 of type dbl\n",
       "\\begin{tabular}{r|llllllllll}\n",
       "  & 1 & 2 & 3 & 4 & 5 & 6 & 7 & 8 & 9 & 10\\\\\n",
       "\\hline\n",
       "\tAIC(n) & -1.735801e+01 & -1.735232e+01 & -1.734964e+01 & -1.734245e+01 & -1.733744e+01 & -1.733431e+01 & -1.732832e+01 & -1.732481e+01 & -1.731947e+01 & -1.731502e+01\\\\\n",
       "\tHQ(n) & -1.734718e+01 & -1.733426e+01 & -1.732435e+01 & -1.730995e+01 & -1.729771e+01 & -1.728735e+01 & -1.727414e+01 & -1.726341e+01 & -1.725085e+01 & -1.723917e+01\\\\\n",
       "\tSC(n) & -1.732945e+01 & -1.730471e+01 & -1.728299e+01 & -1.725677e+01 & -1.723271e+01 & -1.721054e+01 & -1.718551e+01 & -1.716295e+01 & -1.713858e+01 & -1.711509e+01\\\\\n",
       "\tFPE(n) &  2.894081e-08 &  2.910617e-08 &  2.918426e-08 &  2.939471e-08 &  2.954242e-08 &  2.963520e-08 &  2.981317e-08 &  2.991815e-08 &  3.007816e-08 &  3.021252e-08\\\\\n",
       "\\end{tabular}\n",
       "\n",
       "\\end{description}\n"
      ],
      "text/markdown": [
       "$selection\n",
       ":   AIC(n)\n",
       ":   1HQ(n)\n",
       ":   1SC(n)\n",
       ":   1FPE(n)\n",
       ":   1\n",
       "\n",
       "\n",
       "$criteria\n",
       ":   \n",
       "A matrix: 4 × 10 of type dbl\n",
       "\n",
       "| <!--/--> | 1 | 2 | 3 | 4 | 5 | 6 | 7 | 8 | 9 | 10 |\n",
       "|---|---|---|---|---|---|---|---|---|---|---|\n",
       "| AIC(n) | -1.735801e+01 | -1.735232e+01 | -1.734964e+01 | -1.734245e+01 | -1.733744e+01 | -1.733431e+01 | -1.732832e+01 | -1.732481e+01 | -1.731947e+01 | -1.731502e+01 |\n",
       "| HQ(n) | -1.734718e+01 | -1.733426e+01 | -1.732435e+01 | -1.730995e+01 | -1.729771e+01 | -1.728735e+01 | -1.727414e+01 | -1.726341e+01 | -1.725085e+01 | -1.723917e+01 |\n",
       "| SC(n) | -1.732945e+01 | -1.730471e+01 | -1.728299e+01 | -1.725677e+01 | -1.723271e+01 | -1.721054e+01 | -1.718551e+01 | -1.716295e+01 | -1.713858e+01 | -1.711509e+01 |\n",
       "| FPE(n) |  2.894081e-08 |  2.910617e-08 |  2.918426e-08 |  2.939471e-08 |  2.954242e-08 |  2.963520e-08 |  2.981317e-08 |  2.991815e-08 |  3.007816e-08 |  3.021252e-08 |\n",
       "\n",
       "\n",
       "\n",
       "\n"
      ],
      "text/plain": [
       "$selection\n",
       "AIC(n)  HQ(n)  SC(n) FPE(n) \n",
       "     1      1      1      1 \n",
       "\n",
       "$criteria\n",
       "                   1             2             3             4             5\n",
       "AIC(n) -1.735801e+01 -1.735232e+01 -1.734964e+01 -1.734245e+01 -1.733744e+01\n",
       "HQ(n)  -1.734718e+01 -1.733426e+01 -1.732435e+01 -1.730995e+01 -1.729771e+01\n",
       "SC(n)  -1.732945e+01 -1.730471e+01 -1.728299e+01 -1.725677e+01 -1.723271e+01\n",
       "FPE(n)  2.894081e-08  2.910617e-08  2.918426e-08  2.939471e-08  2.954242e-08\n",
       "                   6             7             8             9            10\n",
       "AIC(n) -1.733431e+01 -1.732832e+01 -1.732481e+01 -1.731947e+01 -1.731502e+01\n",
       "HQ(n)  -1.728735e+01 -1.727414e+01 -1.726341e+01 -1.725085e+01 -1.723917e+01\n",
       "SC(n)  -1.721054e+01 -1.718551e+01 -1.716295e+01 -1.713858e+01 -1.711509e+01\n",
       "FPE(n)  2.963520e-08  2.981317e-08  2.991815e-08  3.007816e-08  3.021252e-08\n"
      ]
     },
     "metadata": {},
     "output_type": "display_data"
    }
   ],
   "source": [
    "VARselect(bekk3data,type = \"const\")"
   ]
  },
  {
   "cell_type": "code",
   "execution_count": 39,
   "id": "ce8b3fed-5176-469b-9d41-3fd92065cba4",
   "metadata": {},
   "outputs": [],
   "source": [
    "var_bekk3<-VAR(bekk3data,p = 1,type = \"const\")\n",
    "res_bekk3 <- residuals(var_bekk3)\n",
    "res_bekk3 <- as.data.frame(res_bekk3)"
   ]
  },
  {
   "cell_type": "code",
   "execution_count": 40,
   "id": "a2742889-74c8-492e-a7d1-a45f192f702b",
   "metadata": {},
   "outputs": [
    {
     "data": {
      "text/plain": [
       "\n",
       "VAR Estimation Results:\n",
       "========================= \n",
       "Endogenous variables: usc, chfusd \n",
       "Deterministic variables: const \n",
       "Sample size: 1048 \n",
       "Log Likelihood: 6130.958 \n",
       "Roots of the characteristic polynomial:\n",
       "0.0663 0.01549\n",
       "Call:\n",
       "VAR(y = bekk3data, p = 1, type = \"const\")\n",
       "\n",
       "\n",
       "Estimation results for equation usc: \n",
       "==================================== \n",
       "usc = usc.l1 + chfusd.l1 + const \n",
       "\n",
       "            Estimate Std. Error t value Pr(>|t|)  \n",
       "usc.l1    -0.0362216  0.0315750  -1.147   0.2516  \n",
       "chfusd.l1  0.1300245  0.0750164   1.733   0.0833 .\n",
       "const      0.0002207  0.0006260   0.353   0.7245  \n",
       "---\n",
       "Signif. codes:  0 ‘***’ 0.001 ‘**’ 0.01 ‘*’ 0.05 ‘.’ 0.1 ‘ ’ 1\n",
       "\n",
       "\n",
       "Residual standard error: 0.02025 on 1045 degrees of freedom\n",
       "Multiple R-Squared: 0.003494,\tAdjusted R-squared: 0.001586 \n",
       "F-statistic: 1.832 on 2 and 1045 DF,  p-value: 0.1606 \n",
       "\n",
       "\n",
       "Estimation results for equation chfusd: \n",
       "======================================= \n",
       "chfusd = usc.l1 + chfusd.l1 + const \n",
       "\n",
       "            Estimate Std. Error t value Pr(>|t|)\n",
       "usc.l1     0.0119630  0.0133051   0.899    0.369\n",
       "chfusd.l1 -0.0145907  0.0316105  -0.462    0.644\n",
       "const      0.0002877  0.0002638   1.091    0.276\n",
       "\n",
       "\n",
       "Residual standard error: 0.008533 on 1045 degrees of freedom\n",
       "Multiple R-Squared: 0.0008505,\tAdjusted R-squared: -0.001062 \n",
       "F-statistic: 0.4448 on 2 and 1045 DF,  p-value: 0.6411 \n",
       "\n",
       "\n",
       "\n",
       "Covariance matrix of residuals:\n",
       "             usc    chfusd\n",
       "usc    4.101e-04 3.573e-05\n",
       "chfusd 3.573e-05 7.282e-05\n",
       "\n",
       "Correlation matrix of residuals:\n",
       "          usc chfusd\n",
       "usc    1.0000 0.2067\n",
       "chfusd 0.2067 1.0000\n",
       "\n"
      ]
     },
     "metadata": {},
     "output_type": "display_data"
    }
   ],
   "source": [
    "summary(var_bekk3)"
   ]
  },
  {
   "cell_type": "code",
   "execution_count": 41,
   "id": "32096083-054d-47eb-ae32-6d4b7a5e77ac",
   "metadata": {},
   "outputs": [
    {
     "name": "stdout",
     "output_type": "stream",
     "text": [
      " Date[1:1048], format: \"2007-07-09\" \"2007-07-10\" \"2007-07-11\" \"2007-07-12\" \"2007-07-13\" ...\n"
     ]
    }
   ],
   "source": [
    "ind_var3 <- index(bekk3data)[-1]\n",
    "str(ind_var3)"
   ]
  },
  {
   "cell_type": "code",
   "execution_count": 42,
   "id": "f6440ec4-5002-48ed-8e3e-a0a48140ba92",
   "metadata": {},
   "outputs": [],
   "source": [
    "res_bekk3 <- xts(res_bekk3,order.by = ind_var3)\n",
    "bekk_spec <- bekk_spec(model = list(type = \"bekk\",asymmetric = F))\n",
    "bekk3_fit <- bekk_fit(spec = bekk_spec,data = res_bekk3)"
   ]
  },
  {
   "cell_type": "code",
   "execution_count": 43,
   "id": "5ed0c7f3-4d65-4940-8bf5-07593cd530fb",
   "metadata": {},
   "outputs": [
    {
     "data": {
      "text/html": [
       "<table class=\"dataframe\">\n",
       "<caption>A matrix: 2 × 2 of type dbl</caption>\n",
       "<tbody>\n",
       "\t<tr><td> 0.1312116</td><td>0.02478097</td></tr>\n",
       "\t<tr><td>-0.1539834</td><td>0.23775846</td></tr>\n",
       "</tbody>\n",
       "</table>\n"
      ],
      "text/latex": [
       "A matrix: 2 × 2 of type dbl\n",
       "\\begin{tabular}{ll}\n",
       "\t  0.1312116 & 0.02478097\\\\\n",
       "\t -0.1539834 & 0.23775846\\\\\n",
       "\\end{tabular}\n"
      ],
      "text/markdown": [
       "\n",
       "A matrix: 2 × 2 of type dbl\n",
       "\n",
       "|  0.1312116 | 0.02478097 |\n",
       "| -0.1539834 | 0.23775846 |\n",
       "\n"
      ],
      "text/plain": [
       "     [,1]       [,2]      \n",
       "[1,]  0.1312116 0.02478097\n",
       "[2,] -0.1539834 0.23775846"
      ]
     },
     "metadata": {},
     "output_type": "display_data"
    },
    {
     "data": {
      "text/html": [
       "<table class=\"dataframe\">\n",
       "<caption>A matrix: 2 × 2 of type dbl</caption>\n",
       "<tbody>\n",
       "\t<tr><td> 7.121404</td><td> 2.843748</td></tr>\n",
       "\t<tr><td>-2.171163</td><td>12.636885</td></tr>\n",
       "</tbody>\n",
       "</table>\n"
      ],
      "text/latex": [
       "A matrix: 2 × 2 of type dbl\n",
       "\\begin{tabular}{ll}\n",
       "\t  7.121404 &  2.843748\\\\\n",
       "\t -2.171163 & 12.636885\\\\\n",
       "\\end{tabular}\n"
      ],
      "text/markdown": [
       "\n",
       "A matrix: 2 × 2 of type dbl\n",
       "\n",
       "|  7.121404 |  2.843748 |\n",
       "| -2.171163 | 12.636885 |\n",
       "\n"
      ],
      "text/plain": [
       "     [,1]      [,2]     \n",
       "[1,]  7.121404  2.843748\n",
       "[2,] -2.171163 12.636885"
      ]
     },
     "metadata": {},
     "output_type": "display_data"
    },
    {
     "data": {
      "text/html": [
       "<table class=\"dataframe\">\n",
       "<caption>A matrix: 2 × 2 of type dbl</caption>\n",
       "<tbody>\n",
       "\t<tr><td>0.98508938</td><td>-0.008244219</td></tr>\n",
       "\t<tr><td>0.08904694</td><td> 0.952021316</td></tr>\n",
       "</tbody>\n",
       "</table>\n"
      ],
      "text/latex": [
       "A matrix: 2 × 2 of type dbl\n",
       "\\begin{tabular}{ll}\n",
       "\t 0.98508938 & -0.008244219\\\\\n",
       "\t 0.08904694 &  0.952021316\\\\\n",
       "\\end{tabular}\n"
      ],
      "text/markdown": [
       "\n",
       "A matrix: 2 × 2 of type dbl\n",
       "\n",
       "| 0.98508938 | -0.008244219 |\n",
       "| 0.08904694 |  0.952021316 |\n",
       "\n"
      ],
      "text/plain": [
       "     [,1]       [,2]        \n",
       "[1,] 0.98508938 -0.008244219\n",
       "[2,] 0.08904694  0.952021316"
      ]
     },
     "metadata": {},
     "output_type": "display_data"
    },
    {
     "data": {
      "text/html": [
       "<table class=\"dataframe\">\n",
       "<caption>A matrix: 2 × 2 of type dbl</caption>\n",
       "<tbody>\n",
       "\t<tr><td>241.465645</td><td> -3.150029</td></tr>\n",
       "\t<tr><td>  3.070449</td><td>140.964275</td></tr>\n",
       "</tbody>\n",
       "</table>\n"
      ],
      "text/latex": [
       "A matrix: 2 × 2 of type dbl\n",
       "\\begin{tabular}{ll}\n",
       "\t 241.465645 &  -3.150029\\\\\n",
       "\t   3.070449 & 140.964275\\\\\n",
       "\\end{tabular}\n"
      ],
      "text/markdown": [
       "\n",
       "A matrix: 2 × 2 of type dbl\n",
       "\n",
       "| 241.465645 |  -3.150029 |\n",
       "|   3.070449 | 140.964275 |\n",
       "\n"
      ],
      "text/plain": [
       "     [,1]       [,2]      \n",
       "[1,] 241.465645  -3.150029\n",
       "[2,]   3.070449 140.964275"
      ]
     },
     "metadata": {},
     "output_type": "display_data"
    }
   ],
   "source": [
    "bekk3_fit$A\n",
    "bekk3_fit$A_t\n",
    "bekk3_fit$G\n",
    "bekk3_fit$G_t"
   ]
  },
  {
   "cell_type": "markdown",
   "id": "4717228a-d632-4546-a5c1-11e327aec8d2",
   "metadata": {},
   "source": [
    "### VAR-BEKK Model Table for US Cocoa - CHFUSD"
   ]
  },
  {
   "cell_type": "code",
   "execution_count": 44,
   "id": "09996930-f47c-4722-abd3-7c875fb411cb",
   "metadata": {},
   "outputs": [
    {
     "data": {
      "text/html": [
       "<table class=\"dataframe\">\n",
       "<caption>A data.frame: 14 × 5</caption>\n",
       "<thead>\n",
       "\t<tr><th scope=col>Parameters</th><th scope=col>Coefficient</th><th scope=col>Std_error</th><th scope=col>T_value</th><th scope=col>Significant_at_5p_level</th></tr>\n",
       "\t<tr><th scope=col>&lt;chr&gt;</th><th scope=col>&lt;dbl&gt;</th><th scope=col>&lt;dbl&gt;</th><th scope=col>&lt;dbl&gt;</th><th scope=col>&lt;chr&gt;</th></tr>\n",
       "</thead>\n",
       "<tbody>\n",
       "\t<tr><td>mu10 </td><td> 0.0002206973</td><td>0.0006259521</td><td>  0.3525785</td><td>Not Statistically Significant</td></tr>\n",
       "\t<tr><td>mu20 </td><td> 0.0002876954</td><td>0.0002637646</td><td>  1.0907278</td><td>Not Statistically Significant</td></tr>\n",
       "\t<tr><td>phi11</td><td>-0.0362215824</td><td>0.0315750074</td><td> -1.1471599</td><td>Not Statistically Significant</td></tr>\n",
       "\t<tr><td>phi12</td><td> 0.1300244541</td><td>0.0750163508</td><td>  1.7332815</td><td>Stat significant at 10%      </td></tr>\n",
       "\t<tr><td>phi21</td><td> 0.0119629977</td><td>0.0133051216</td><td>  0.8991273</td><td>Not Statistically Significant</td></tr>\n",
       "\t<tr><td>phi22</td><td>-0.0145906609</td><td>0.0316104969</td><td> -0.4615765</td><td>Not Statistically Significant</td></tr>\n",
       "\t<tr><td>a11  </td><td> 0.1312116256</td><td>0.0184249667</td><td>  7.1214037</td><td>Stat significant at 1%       </td></tr>\n",
       "\t<tr><td>a12  </td><td> 0.0247809691</td><td>0.0087141920</td><td>  2.8437483</td><td>Stat significant at 1%       </td></tr>\n",
       "\t<tr><td>a21  </td><td>-0.1539834494</td><td>0.0709221183</td><td> -2.1711626</td><td>Stat significant at 5%       </td></tr>\n",
       "\t<tr><td>a22  </td><td> 0.2377584601</td><td>0.0188146411</td><td> 12.6368852</td><td>Stat significant at 1%       </td></tr>\n",
       "\t<tr><td>g11  </td><td> 0.9850893755</td><td>0.0040796254</td><td>241.4656451</td><td>Stat significant at 1%       </td></tr>\n",
       "\t<tr><td>g12  </td><td>-0.0082442192</td><td>0.0026171886</td><td> -3.1500287</td><td>Stat significant at 1%       </td></tr>\n",
       "\t<tr><td>g21  </td><td> 0.0890469400</td><td>0.0290012800</td><td>  3.0704486</td><td>Stat significant at 1%       </td></tr>\n",
       "\t<tr><td>g22  </td><td> 0.9520213159</td><td>0.0067536354</td><td>140.9642746</td><td>Stat significant at 1%       </td></tr>\n",
       "</tbody>\n",
       "</table>\n"
      ],
      "text/latex": [
       "A data.frame: 14 × 5\n",
       "\\begin{tabular}{lllll}\n",
       " Parameters & Coefficient & Std\\_error & T\\_value & Significant\\_at\\_5p\\_level\\\\\n",
       " <chr> & <dbl> & <dbl> & <dbl> & <chr>\\\\\n",
       "\\hline\n",
       "\t mu10  &  0.0002206973 & 0.0006259521 &   0.3525785 & Not Statistically Significant\\\\\n",
       "\t mu20  &  0.0002876954 & 0.0002637646 &   1.0907278 & Not Statistically Significant\\\\\n",
       "\t phi11 & -0.0362215824 & 0.0315750074 &  -1.1471599 & Not Statistically Significant\\\\\n",
       "\t phi12 &  0.1300244541 & 0.0750163508 &   1.7332815 & Stat significant at 10\\%      \\\\\n",
       "\t phi21 &  0.0119629977 & 0.0133051216 &   0.8991273 & Not Statistically Significant\\\\\n",
       "\t phi22 & -0.0145906609 & 0.0316104969 &  -0.4615765 & Not Statistically Significant\\\\\n",
       "\t a11   &  0.1312116256 & 0.0184249667 &   7.1214037 & Stat significant at 1\\%       \\\\\n",
       "\t a12   &  0.0247809691 & 0.0087141920 &   2.8437483 & Stat significant at 1\\%       \\\\\n",
       "\t a21   & -0.1539834494 & 0.0709221183 &  -2.1711626 & Stat significant at 5\\%       \\\\\n",
       "\t a22   &  0.2377584601 & 0.0188146411 &  12.6368852 & Stat significant at 1\\%       \\\\\n",
       "\t g11   &  0.9850893755 & 0.0040796254 & 241.4656451 & Stat significant at 1\\%       \\\\\n",
       "\t g12   & -0.0082442192 & 0.0026171886 &  -3.1500287 & Stat significant at 1\\%       \\\\\n",
       "\t g21   &  0.0890469400 & 0.0290012800 &   3.0704486 & Stat significant at 1\\%       \\\\\n",
       "\t g22   &  0.9520213159 & 0.0067536354 & 140.9642746 & Stat significant at 1\\%       \\\\\n",
       "\\end{tabular}\n"
      ],
      "text/markdown": [
       "\n",
       "A data.frame: 14 × 5\n",
       "\n",
       "| Parameters &lt;chr&gt; | Coefficient &lt;dbl&gt; | Std_error &lt;dbl&gt; | T_value &lt;dbl&gt; | Significant_at_5p_level &lt;chr&gt; |\n",
       "|---|---|---|---|---|\n",
       "| mu10  |  0.0002206973 | 0.0006259521 |   0.3525785 | Not Statistically Significant |\n",
       "| mu20  |  0.0002876954 | 0.0002637646 |   1.0907278 | Not Statistically Significant |\n",
       "| phi11 | -0.0362215824 | 0.0315750074 |  -1.1471599 | Not Statistically Significant |\n",
       "| phi12 |  0.1300244541 | 0.0750163508 |   1.7332815 | Stat significant at 10%       |\n",
       "| phi21 |  0.0119629977 | 0.0133051216 |   0.8991273 | Not Statistically Significant |\n",
       "| phi22 | -0.0145906609 | 0.0316104969 |  -0.4615765 | Not Statistically Significant |\n",
       "| a11   |  0.1312116256 | 0.0184249667 |   7.1214037 | Stat significant at 1%        |\n",
       "| a12   |  0.0247809691 | 0.0087141920 |   2.8437483 | Stat significant at 1%        |\n",
       "| a21   | -0.1539834494 | 0.0709221183 |  -2.1711626 | Stat significant at 5%        |\n",
       "| a22   |  0.2377584601 | 0.0188146411 |  12.6368852 | Stat significant at 1%        |\n",
       "| g11   |  0.9850893755 | 0.0040796254 | 241.4656451 | Stat significant at 1%        |\n",
       "| g12   | -0.0082442192 | 0.0026171886 |  -3.1500287 | Stat significant at 1%        |\n",
       "| g21   |  0.0890469400 | 0.0290012800 |   3.0704486 | Stat significant at 1%        |\n",
       "| g22   |  0.9520213159 | 0.0067536354 | 140.9642746 | Stat significant at 1%        |\n",
       "\n"
      ],
      "text/plain": [
       "   Parameters Coefficient   Std_error    T_value    \n",
       "1  mu10        0.0002206973 0.0006259521   0.3525785\n",
       "2  mu20        0.0002876954 0.0002637646   1.0907278\n",
       "3  phi11      -0.0362215824 0.0315750074  -1.1471599\n",
       "4  phi12       0.1300244541 0.0750163508   1.7332815\n",
       "5  phi21       0.0119629977 0.0133051216   0.8991273\n",
       "6  phi22      -0.0145906609 0.0316104969  -0.4615765\n",
       "7  a11         0.1312116256 0.0184249667   7.1214037\n",
       "8  a12         0.0247809691 0.0087141920   2.8437483\n",
       "9  a21        -0.1539834494 0.0709221183  -2.1711626\n",
       "10 a22         0.2377584601 0.0188146411  12.6368852\n",
       "11 g11         0.9850893755 0.0040796254 241.4656451\n",
       "12 g12        -0.0082442192 0.0026171886  -3.1500287\n",
       "13 g21         0.0890469400 0.0290012800   3.0704486\n",
       "14 g22         0.9520213159 0.0067536354 140.9642746\n",
       "   Significant_at_5p_level      \n",
       "1  Not Statistically Significant\n",
       "2  Not Statistically Significant\n",
       "3  Not Statistically Significant\n",
       "4  Stat significant at 10%      \n",
       "5  Not Statistically Significant\n",
       "6  Not Statistically Significant\n",
       "7  Stat significant at 1%       \n",
       "8  Stat significant at 1%       \n",
       "9  Stat significant at 5%       \n",
       "10 Stat significant at 1%       \n",
       "11 Stat significant at 1%       \n",
       "12 Stat significant at 1%       \n",
       "13 Stat significant at 1%       \n",
       "14 Stat significant at 1%       "
      ]
     },
     "metadata": {},
     "output_type": "display_data"
    }
   ],
   "source": [
    "bekk3 <- data.frame(Parameters = c(\"mu10\",\"mu20\",\"phi11\",\"phi12\",\"phi21\",\"phi22\",\"a11\",\"a12\",\"a21\",\"a22\",\"g11\",\"g12\",\"g21\",\"g22\"),\n",
    "                   Coefficient = c(summary(var_bekk3)$varresult$usc$coefficients[\"const\",\"Estimate\"],summary(var_bekk3)$varresult$chfusd$coefficients[\"const\",\"Estimate\"],\n",
    "                       summary(var_bekk3)$varresult$usc$coefficients[\"usc.l1\",\"Estimate\"],summary(var_bekk3)$varresult$usc$coefficients[\"chfusd.l1\",\"Estimate\"],\n",
    "                                   summary(var_bekk3)$varresult$chfusd$coefficients[\"usc.l1\",\"Estimate\"],summary(var_bekk3)$varresult$chfusd$coefficients[\"chfusd.l1\",\"Estimate\"],\n",
    "                                   bekk3_fit$A[1,1],bekk3_fit$A[1,2],bekk3_fit$A[2,1],bekk3_fit$A[2,2],bekk3_fit$G[1,1],bekk3_fit$G[1,2],bekk3_fit$G[2,1],bekk3_fit$G[2,2]),\n",
    "                   Std_error = c(summary(var_bekk3)$varresult$usc$coefficients[\"const\",\"Std. Error\"],summary(var_bekk3)$varresult$chfusd$coefficients[\"const\",\"Std. Error\"],\n",
    "                       summary(var_bekk3)$varresult$usc$coefficients[\"usc.l1\",\"Std. Error\"],summary(var_bekk3)$varresult$usc$coefficients[\"chfusd.l1\",\"Std. Error\"],\n",
    "                                 summary(var_bekk3)$varresult$chfusd$coefficients[\"usc.l1\",\"Std. Error\"],summary(var_bekk3)$varresult$chfusd$coefficients[\"chfusd.l1\",\"Std. Error\"],\n",
    "                                 bekk3_fit$A_sd[1,1],bekk3_fit$A_sd[1,2],bekk3_fit$A_sd[2,1],bekk3_fit$A_sd[2,2],bekk3_fit$G_sd[1,1],bekk3_fit$G_sd[1,2],bekk3_fit$G_sd[2,1],bekk3_fit$G_sd[2,2]),\n",
    "                   T_value = c(summary(var_bekk3)$varresult$usc$coefficients[\"const\",\"t value\"],summary(var_bekk3)$varresult$chfusd$coefficients[\"const\",\"t value\"],\n",
    "                       summary(var_bekk3)$varresult$usc$coefficients[\"usc.l1\",\"t value\"],summary(var_bekk3)$varresult$usc$coefficients[\"chfusd.l1\",\"t value\"],\n",
    "                               summary(var_bekk3)$varresult$chfusd$coefficients[\"usc.l1\",\"t value\"],summary(var_bekk3)$varresult$chfusd$coefficients[\"chfusd.l1\",\"t value\"],\n",
    "                               bekk3_fit$A_t[1,1],bekk3_fit$A_t[1,2],bekk3_fit$A_t[2,1],bekk3_fit$A_t[2,2],bekk3_fit$G_t[1,1],bekk3_fit$G_t[1,2],bekk3_fit$G_t[2,1],bekk3_fit$G_t[2,2]))\n",
    "\n",
    "bekk3$Significant_at_5p_level[abs(bekk3$T_value) >= 2.58 ] <- \"Stat significant at 1%\"\n",
    "bekk3$Significant_at_5p_level[abs(bekk3$T_value) > 1.96 & abs(bekk3$T_value) < 2.58] <- \"Stat significant at 5%\"\n",
    "bekk3$Significant_at_5p_level[abs(bekk3$T_value) > 1.645 & abs(bekk3$T_value) <= 1.96 ] <- \"Stat significant at 10%\"\n",
    "bekk3$Significant_at_5p_level[abs(bekk3$T_value) <= 1.645] <- \"Not Statistically Significant\"\n",
    "bekk3"
   ]
  },
  {
   "cell_type": "code",
   "execution_count": 45,
   "id": "41bb2f8f-2556-4dd4-a112-8bc903ff4e7e",
   "metadata": {},
   "outputs": [
    {
     "data": {
      "text/plain": [
       "\n",
       "\tGranger causality H0: usc do not Granger-cause chfusd\n",
       "\n",
       "data:  VAR object var_bekk3\n",
       "F-Test = 0.80843, df1 = 1, df2 = 2090, p-value = 0.3687\n"
      ]
     },
     "metadata": {},
     "output_type": "display_data"
    },
    {
     "data": {
      "text/plain": [
       "\n",
       "\tGranger causality H0: chfusd do not Granger-cause usc\n",
       "\n",
       "data:  VAR object var_bekk3\n",
       "F-Test = 3.0043, df1 = 1, df2 = 2090, p-value = 0.08319\n"
      ]
     },
     "metadata": {},
     "output_type": "display_data"
    }
   ],
   "source": [
    "causality(var_bekk3,cause = \"usc\")$Granger\n",
    "causality(var_bekk3,cause = \"chfusd\")$Granger"
   ]
  },
  {
   "cell_type": "markdown",
   "id": "0edd0224-94cf-4f10-8b46-4ce7a7b4bebe",
   "metadata": {},
   "source": [
    "## (d) VAR-BEKK model for US Cocoa - GHSUSD"
   ]
  },
  {
   "cell_type": "code",
   "execution_count": 46,
   "id": "2c7e95ab-0595-4850-b679-49148f81a622",
   "metadata": {},
   "outputs": [
    {
     "data": {
      "text/plain": [
       "                     usc        ghsusd\n",
       "2007-07-06  0.0033026687 -0.0033264938\n",
       "2007-07-09 -0.0108928380  0.0040086898\n",
       "2007-07-10 -0.0378502241 -0.0002705906\n",
       "2007-07-11  0.0210431058  0.0026887042\n",
       "2007-07-12  0.0057943185  0.0027212691\n",
       "2007-07-13 -0.0009633912 -0.0051426368"
      ]
     },
     "metadata": {},
     "output_type": "display_data"
    },
    {
     "data": {
      "text/plain": [
       "                   usc        ghsusd\n",
       "2011-09-23 -0.01739818 -0.0094318412\n",
       "2011-09-26  0.01298479 -0.0004104134\n",
       "2011-09-27  0.01645075  0.0005667548\n",
       "2011-09-28 -0.02014351  0.0000000000\n",
       "2011-09-29  0.01103764 -0.0049640488\n",
       "2011-09-30 -0.03159527 -0.0053142702"
      ]
     },
     "metadata": {},
     "output_type": "display_data"
    }
   ],
   "source": [
    "bekk7data <- na.omit(merge(cr_d[,1],fr_d[,7]))\n",
    "head(bekk7data)\n",
    "tail(bekk7data)"
   ]
  },
  {
   "cell_type": "code",
   "execution_count": 47,
   "id": "50d45f6c-3216-4ebe-8b5a-fcc76e6e5e6a",
   "metadata": {},
   "outputs": [
    {
     "data": {
      "text/html": [
       "<dl>\n",
       "\t<dt>$selection</dt>\n",
       "\t\t<dd><style>\n",
       ".dl-inline {width: auto; margin:0; padding: 0}\n",
       ".dl-inline>dt, .dl-inline>dd {float: none; width: auto; display: inline-block}\n",
       ".dl-inline>dt::after {content: \":\\0020\"; padding-right: .5ex}\n",
       ".dl-inline>dt:not(:first-of-type) {padding-left: .5ex}\n",
       "</style><dl class=dl-inline><dt>AIC(n)</dt><dd>2</dd><dt>HQ(n)</dt><dd>2</dd><dt>SC(n)</dt><dd>2</dd><dt>FPE(n)</dt><dd>2</dd></dl>\n",
       "</dd>\n",
       "\t<dt>$criteria</dt>\n",
       "\t\t<dd><table class=\"dataframe\">\n",
       "<caption>A matrix: 4 × 10 of type dbl</caption>\n",
       "<thead>\n",
       "\t<tr><th></th><th scope=col>1</th><th scope=col>2</th><th scope=col>3</th><th scope=col>4</th><th scope=col>5</th><th scope=col>6</th><th scope=col>7</th><th scope=col>8</th><th scope=col>9</th><th scope=col>10</th></tr>\n",
       "</thead>\n",
       "<tbody>\n",
       "\t<tr><th scope=row>AIC(n)</th><td>-1.786316e+01</td><td>-1.792601e+01</td><td>-1.792038e+01</td><td>-1.792412e+01</td><td>-1.791841e+01</td><td>-1.791297e+01</td><td>-1.790885e+01</td><td>-1.790701e+01</td><td>-1.790330e+01</td><td>-1.789936e+01</td></tr>\n",
       "\t<tr><th scope=row>HQ(n)</th><td>-1.785232e+01</td><td>-1.790795e+01</td><td>-1.789510e+01</td><td>-1.789162e+01</td><td>-1.787868e+01</td><td>-1.786601e+01</td><td>-1.785468e+01</td><td>-1.784561e+01</td><td>-1.783468e+01</td><td>-1.782351e+01</td></tr>\n",
       "\t<tr><th scope=row>SC(n)</th><td>-1.783459e+01</td><td>-1.787841e+01</td><td>-1.785374e+01</td><td>-1.783844e+01</td><td>-1.781369e+01</td><td>-1.778920e+01</td><td>-1.776604e+01</td><td>-1.774516e+01</td><td>-1.772241e+01</td><td>-1.769943e+01</td></tr>\n",
       "\t<tr><th scope=row>FPE(n)</th><td> 1.746344e-08</td><td> 1.639953e-08</td><td> 1.649217e-08</td><td> 1.643055e-08</td><td> 1.652466e-08</td><td> 1.661495e-08</td><td> 1.668345e-08</td><td> 1.671419e-08</td><td> 1.677640e-08</td><td> 1.684268e-08</td></tr>\n",
       "</tbody>\n",
       "</table>\n",
       "</dd>\n",
       "</dl>\n"
      ],
      "text/latex": [
       "\\begin{description}\n",
       "\\item[\\$selection] \\begin{description*}\n",
       "\\item[AIC(n)] 2\n",
       "\\item[HQ(n)] 2\n",
       "\\item[SC(n)] 2\n",
       "\\item[FPE(n)] 2\n",
       "\\end{description*}\n",
       "\n",
       "\\item[\\$criteria] A matrix: 4 × 10 of type dbl\n",
       "\\begin{tabular}{r|llllllllll}\n",
       "  & 1 & 2 & 3 & 4 & 5 & 6 & 7 & 8 & 9 & 10\\\\\n",
       "\\hline\n",
       "\tAIC(n) & -1.786316e+01 & -1.792601e+01 & -1.792038e+01 & -1.792412e+01 & -1.791841e+01 & -1.791297e+01 & -1.790885e+01 & -1.790701e+01 & -1.790330e+01 & -1.789936e+01\\\\\n",
       "\tHQ(n) & -1.785232e+01 & -1.790795e+01 & -1.789510e+01 & -1.789162e+01 & -1.787868e+01 & -1.786601e+01 & -1.785468e+01 & -1.784561e+01 & -1.783468e+01 & -1.782351e+01\\\\\n",
       "\tSC(n) & -1.783459e+01 & -1.787841e+01 & -1.785374e+01 & -1.783844e+01 & -1.781369e+01 & -1.778920e+01 & -1.776604e+01 & -1.774516e+01 & -1.772241e+01 & -1.769943e+01\\\\\n",
       "\tFPE(n) &  1.746344e-08 &  1.639953e-08 &  1.649217e-08 &  1.643055e-08 &  1.652466e-08 &  1.661495e-08 &  1.668345e-08 &  1.671419e-08 &  1.677640e-08 &  1.684268e-08\\\\\n",
       "\\end{tabular}\n",
       "\n",
       "\\end{description}\n"
      ],
      "text/markdown": [
       "$selection\n",
       ":   AIC(n)\n",
       ":   2HQ(n)\n",
       ":   2SC(n)\n",
       ":   2FPE(n)\n",
       ":   2\n",
       "\n",
       "\n",
       "$criteria\n",
       ":   \n",
       "A matrix: 4 × 10 of type dbl\n",
       "\n",
       "| <!--/--> | 1 | 2 | 3 | 4 | 5 | 6 | 7 | 8 | 9 | 10 |\n",
       "|---|---|---|---|---|---|---|---|---|---|---|\n",
       "| AIC(n) | -1.786316e+01 | -1.792601e+01 | -1.792038e+01 | -1.792412e+01 | -1.791841e+01 | -1.791297e+01 | -1.790885e+01 | -1.790701e+01 | -1.790330e+01 | -1.789936e+01 |\n",
       "| HQ(n) | -1.785232e+01 | -1.790795e+01 | -1.789510e+01 | -1.789162e+01 | -1.787868e+01 | -1.786601e+01 | -1.785468e+01 | -1.784561e+01 | -1.783468e+01 | -1.782351e+01 |\n",
       "| SC(n) | -1.783459e+01 | -1.787841e+01 | -1.785374e+01 | -1.783844e+01 | -1.781369e+01 | -1.778920e+01 | -1.776604e+01 | -1.774516e+01 | -1.772241e+01 | -1.769943e+01 |\n",
       "| FPE(n) |  1.746344e-08 |  1.639953e-08 |  1.649217e-08 |  1.643055e-08 |  1.652466e-08 |  1.661495e-08 |  1.668345e-08 |  1.671419e-08 |  1.677640e-08 |  1.684268e-08 |\n",
       "\n",
       "\n",
       "\n",
       "\n"
      ],
      "text/plain": [
       "$selection\n",
       "AIC(n)  HQ(n)  SC(n) FPE(n) \n",
       "     2      2      2      2 \n",
       "\n",
       "$criteria\n",
       "                   1             2             3             4             5\n",
       "AIC(n) -1.786316e+01 -1.792601e+01 -1.792038e+01 -1.792412e+01 -1.791841e+01\n",
       "HQ(n)  -1.785232e+01 -1.790795e+01 -1.789510e+01 -1.789162e+01 -1.787868e+01\n",
       "SC(n)  -1.783459e+01 -1.787841e+01 -1.785374e+01 -1.783844e+01 -1.781369e+01\n",
       "FPE(n)  1.746344e-08  1.639953e-08  1.649217e-08  1.643055e-08  1.652466e-08\n",
       "                   6             7             8             9            10\n",
       "AIC(n) -1.791297e+01 -1.790885e+01 -1.790701e+01 -1.790330e+01 -1.789936e+01\n",
       "HQ(n)  -1.786601e+01 -1.785468e+01 -1.784561e+01 -1.783468e+01 -1.782351e+01\n",
       "SC(n)  -1.778920e+01 -1.776604e+01 -1.774516e+01 -1.772241e+01 -1.769943e+01\n",
       "FPE(n)  1.661495e-08  1.668345e-08  1.671419e-08  1.677640e-08  1.684268e-08\n"
      ]
     },
     "metadata": {},
     "output_type": "display_data"
    }
   ],
   "source": [
    "VARselect(bekk7data,type = \"const\")"
   ]
  },
  {
   "cell_type": "code",
   "execution_count": 48,
   "id": "a48b1656-dbe2-408e-8a95-7f5569016dd2",
   "metadata": {},
   "outputs": [],
   "source": [
    "var_bekk7<-VAR(bekk7data,p = 2,type = \"const\")\n",
    "res_bekk7 <- residuals(var_bekk7)\n",
    "res_bekk7 <- as.data.frame(res_bekk7)"
   ]
  },
  {
   "cell_type": "code",
   "execution_count": 49,
   "id": "34ed14c2-e4f0-4746-85c4-cd6dad4861a4",
   "metadata": {},
   "outputs": [
    {
     "data": {
      "text/plain": [
       "\n",
       "VAR Estimation Results:\n",
       "========================= \n",
       "Endogenous variables: usc, ghsusd \n",
       "Deterministic variables: const \n",
       "Sample size: 1047 \n",
       "Log Likelihood: 6426.799 \n",
       "Roots of the characteristic polynomial:\n",
       "0.5032 0.5032 0.2361 0.2137\n",
       "Call:\n",
       "VAR(y = bekk7data, p = 2, type = \"const\")\n",
       "\n",
       "\n",
       "Estimation results for equation usc: \n",
       "==================================== \n",
       "usc = usc.l1 + ghsusd.l1 + usc.l2 + ghsusd.l2 + const \n",
       "\n",
       "            Estimate Std. Error t value Pr(>|t|)\n",
       "usc.l1    -0.0246993  0.0309699  -0.798    0.425\n",
       "ghsusd.l1 -0.1398955  0.0968638  -1.444    0.149\n",
       "usc.l2     0.0436942  0.0309539   1.412    0.158\n",
       "ghsusd.l2 -0.0892564  0.0969434  -0.921    0.357\n",
       "const      0.0001561  0.0006301   0.248    0.804\n",
       "\n",
       "\n",
       "Residual standard error: 0.02026 on 1042 degrees of freedom\n",
       "Multiple R-Squared: 0.004691,\tAdjusted R-squared: 0.0008698 \n",
       "F-statistic: 1.228 on 4 and 1042 DF,  p-value: 0.2973 \n",
       "\n",
       "\n",
       "Estimation results for equation ghsusd: \n",
       "======================================= \n",
       "ghsusd = usc.l1 + ghsusd.l1 + usc.l2 + ghsusd.l2 + const \n",
       "\n",
       "            Estimate Std. Error t value Pr(>|t|)    \n",
       "usc.l1    -0.0003128  0.0095770  -0.033 0.973949    \n",
       "ghsusd.l1 -0.4007075  0.0299537 -13.378  < 2e-16 ***\n",
       "usc.l2    -0.0229001  0.0095721  -2.392 0.016915 *  \n",
       "ghsusd.l2 -0.2455997  0.0299784  -8.193 7.44e-16 ***\n",
       "const     -0.0007129  0.0001948  -3.659 0.000266 ***\n",
       "---\n",
       "Signif. codes:  0 ‘***’ 0.001 ‘**’ 0.01 ‘*’ 0.05 ‘.’ 0.1 ‘ ’ 1\n",
       "\n",
       "\n",
       "Residual standard error: 0.006267 on 1042 degrees of freedom\n",
       "Multiple R-Squared: 0.1626,\tAdjusted R-squared: 0.1594 \n",
       "F-statistic: 50.59 on 4 and 1042 DF,  p-value: < 2.2e-16 \n",
       "\n",
       "\n",
       "\n",
       "Covariance matrix of residuals:\n",
       "              usc     ghsusd\n",
       "usc     4.107e-04 -7.224e-07\n",
       "ghsusd -7.224e-07  3.927e-05\n",
       "\n",
       "Correlation matrix of residuals:\n",
       "             usc    ghsusd\n",
       "usc     1.000000 -0.005688\n",
       "ghsusd -0.005688  1.000000\n",
       "\n"
      ]
     },
     "metadata": {},
     "output_type": "display_data"
    }
   ],
   "source": [
    "summary(var_bekk7)"
   ]
  },
  {
   "cell_type": "code",
   "execution_count": 50,
   "id": "aa27a461-4381-4db7-b0e1-ca504d761e63",
   "metadata": {},
   "outputs": [
    {
     "name": "stdout",
     "output_type": "stream",
     "text": [
      " Date[1:1047], format: \"2007-07-10\" \"2007-07-11\" \"2007-07-12\" \"2007-07-13\" \"2007-07-16\" ...\n"
     ]
    }
   ],
   "source": [
    "ind_var7 <- index(bekk7data)[-c(1:2)]\n",
    "str(ind_var7)"
   ]
  },
  {
   "cell_type": "code",
   "execution_count": 51,
   "id": "9469f053-4315-4d02-afaa-e00b6dbb7a35",
   "metadata": {},
   "outputs": [],
   "source": [
    "res_bekk7 <- xts(res_bekk7,order.by = ind_var7)\n",
    "bekk_spec <- bekk_spec(model = list(type = \"bekk\",asymmetric = F))\n",
    "bekk7_fit <- bekk_fit(spec = bekk_spec,data = res_bekk7)"
   ]
  },
  {
   "cell_type": "code",
   "execution_count": 52,
   "id": "1ee535f2-efe3-4222-bba2-8e4048322a44",
   "metadata": {},
   "outputs": [
    {
     "data": {
      "text/html": [
       "<table class=\"dataframe\">\n",
       "<caption>A matrix: 2 × 2 of type dbl</caption>\n",
       "<tbody>\n",
       "\t<tr><td>0.17422800</td><td>0.01377806</td></tr>\n",
       "\t<tr><td>0.06760061</td><td>0.39084217</td></tr>\n",
       "</tbody>\n",
       "</table>\n"
      ],
      "text/latex": [
       "A matrix: 2 × 2 of type dbl\n",
       "\\begin{tabular}{ll}\n",
       "\t 0.17422800 & 0.01377806\\\\\n",
       "\t 0.06760061 & 0.39084217\\\\\n",
       "\\end{tabular}\n"
      ],
      "text/markdown": [
       "\n",
       "A matrix: 2 × 2 of type dbl\n",
       "\n",
       "| 0.17422800 | 0.01377806 |\n",
       "| 0.06760061 | 0.39084217 |\n",
       "\n"
      ],
      "text/plain": [
       "     [,1]       [,2]      \n",
       "[1,] 0.17422800 0.01377806\n",
       "[2,] 0.06760061 0.39084217"
      ]
     },
     "metadata": {},
     "output_type": "display_data"
    },
    {
     "data": {
      "text/html": [
       "<table class=\"dataframe\">\n",
       "<caption>A matrix: 2 × 2 of type dbl</caption>\n",
       "<tbody>\n",
       "\t<tr><td>7.0411230</td><td> 2.031696</td></tr>\n",
       "\t<tr><td>0.9447338</td><td>16.929950</td></tr>\n",
       "</tbody>\n",
       "</table>\n"
      ],
      "text/latex": [
       "A matrix: 2 × 2 of type dbl\n",
       "\\begin{tabular}{ll}\n",
       "\t 7.0411230 &  2.031696\\\\\n",
       "\t 0.9447338 & 16.929950\\\\\n",
       "\\end{tabular}\n"
      ],
      "text/markdown": [
       "\n",
       "A matrix: 2 × 2 of type dbl\n",
       "\n",
       "| 7.0411230 |  2.031696 |\n",
       "| 0.9447338 | 16.929950 |\n",
       "\n"
      ],
      "text/plain": [
       "     [,1]      [,2]     \n",
       "[1,] 7.0411230  2.031696\n",
       "[2,] 0.9447338 16.929950"
      ]
     },
     "metadata": {},
     "output_type": "display_data"
    },
    {
     "data": {
      "text/html": [
       "<table class=\"dataframe\">\n",
       "<caption>A matrix: 2 × 2 of type dbl</caption>\n",
       "<tbody>\n",
       "\t<tr><td> 0.87962614</td><td>0.02342983</td></tr>\n",
       "\t<tr><td>-0.03496488</td><td>0.91606089</td></tr>\n",
       "</tbody>\n",
       "</table>\n"
      ],
      "text/latex": [
       "A matrix: 2 × 2 of type dbl\n",
       "\\begin{tabular}{ll}\n",
       "\t  0.87962614 & 0.02342983\\\\\n",
       "\t -0.03496488 & 0.91606089\\\\\n",
       "\\end{tabular}\n"
      ],
      "text/markdown": [
       "\n",
       "A matrix: 2 × 2 of type dbl\n",
       "\n",
       "|  0.87962614 | 0.02342983 |\n",
       "| -0.03496488 | 0.91606089 |\n",
       "\n"
      ],
      "text/plain": [
       "     [,1]        [,2]      \n",
       "[1,]  0.87962614 0.02342983\n",
       "[2,] -0.03496488 0.91606089"
      ]
     },
     "metadata": {},
     "output_type": "display_data"
    },
    {
     "data": {
      "text/html": [
       "<table class=\"dataframe\">\n",
       "<caption>A matrix: 2 × 2 of type dbl</caption>\n",
       "<tbody>\n",
       "\t<tr><td>21.747205</td><td>  2.551369</td></tr>\n",
       "\t<tr><td>-1.064556</td><td>156.781230</td></tr>\n",
       "</tbody>\n",
       "</table>\n"
      ],
      "text/latex": [
       "A matrix: 2 × 2 of type dbl\n",
       "\\begin{tabular}{ll}\n",
       "\t 21.747205 &   2.551369\\\\\n",
       "\t -1.064556 & 156.781230\\\\\n",
       "\\end{tabular}\n"
      ],
      "text/markdown": [
       "\n",
       "A matrix: 2 × 2 of type dbl\n",
       "\n",
       "| 21.747205 |   2.551369 |\n",
       "| -1.064556 | 156.781230 |\n",
       "\n"
      ],
      "text/plain": [
       "     [,1]      [,2]      \n",
       "[1,] 21.747205   2.551369\n",
       "[2,] -1.064556 156.781230"
      ]
     },
     "metadata": {},
     "output_type": "display_data"
    }
   ],
   "source": [
    "bekk7_fit$A\n",
    "bekk7_fit$A_t\n",
    "bekk7_fit$G\n",
    "bekk7_fit$G_t"
   ]
  },
  {
   "cell_type": "markdown",
   "id": "d61285fc-7bb4-436c-b426-5b5dd1adaee4",
   "metadata": {},
   "source": [
    "### VAR-BEKK Model Table for US Cocoa - GHSUSD"
   ]
  },
  {
   "cell_type": "code",
   "execution_count": 53,
   "id": "c5d137b1-8c7b-4e58-8466-9c69567c8720",
   "metadata": {},
   "outputs": [
    {
     "data": {
      "text/html": [
       "<table class=\"dataframe\">\n",
       "<caption>A data.frame: 18 × 5</caption>\n",
       "<thead>\n",
       "\t<tr><th scope=col>Parameters</th><th scope=col>Coefficient</th><th scope=col>Std_error</th><th scope=col>T_value</th><th scope=col>Significant_at_5p_level</th></tr>\n",
       "\t<tr><th scope=col>&lt;chr&gt;</th><th scope=col>&lt;dbl&gt;</th><th scope=col>&lt;dbl&gt;</th><th scope=col>&lt;dbl&gt;</th><th scope=col>&lt;chr&gt;</th></tr>\n",
       "</thead>\n",
       "<tbody>\n",
       "\t<tr><td>mu10 </td><td> 0.0001560578</td><td>0.0006300652</td><td>  0.24768519</td><td>Not Statistically Significant</td></tr>\n",
       "\t<tr><td>mu20 </td><td>-0.0007128594</td><td>0.0001948386</td><td> -3.65871795</td><td>Stat significant at 1%       </td></tr>\n",
       "\t<tr><td>phi11</td><td>-0.0246993155</td><td>0.0309699096</td><td> -0.79752624</td><td>Not Statistically Significant</td></tr>\n",
       "\t<tr><td>phi12</td><td>-0.1398955216</td><td>0.0968637529</td><td> -1.44425048</td><td>Not Statistically Significant</td></tr>\n",
       "\t<tr><td>phi13</td><td> 0.0436941899</td><td>0.0309539348</td><td>  1.41158758</td><td>Not Statistically Significant</td></tr>\n",
       "\t<tr><td>phi14</td><td>-0.0892563935</td><td>0.0969434174</td><td> -0.92070608</td><td>Not Statistically Significant</td></tr>\n",
       "\t<tr><td>phi21</td><td>-0.0003128186</td><td>0.0095769979</td><td> -0.03266354</td><td>Not Statistically Significant</td></tr>\n",
       "\t<tr><td>phi22</td><td>-0.4007074723</td><td>0.0299537188</td><td>-13.37755340</td><td>Stat significant at 1%       </td></tr>\n",
       "\t<tr><td>phi23</td><td>-0.0229001324</td><td>0.0095720580</td><td> -2.39239383</td><td>Stat significant at 5%       </td></tr>\n",
       "\t<tr><td>phi24</td><td>-0.2455996640</td><td>0.0299783538</td><td> -8.19256672</td><td>Stat significant at 1%       </td></tr>\n",
       "\t<tr><td>a11  </td><td> 0.1742279965</td><td>0.0247443479</td><td>  7.04112298</td><td>Stat significant at 1%       </td></tr>\n",
       "\t<tr><td>a12  </td><td> 0.0137780603</td><td>0.0067815549</td><td>  2.03169633</td><td>Stat significant at 5%       </td></tr>\n",
       "\t<tr><td>a21  </td><td> 0.0676006104</td><td>0.0715551971</td><td>  0.94473376</td><td>Not Statistically Significant</td></tr>\n",
       "\t<tr><td>a22  </td><td> 0.3908421666</td><td>0.0230858425</td><td> 16.92995030</td><td>Stat significant at 1%       </td></tr>\n",
       "\t<tr><td>g11  </td><td> 0.8796261437</td><td>0.0404477793</td><td> 21.74720489</td><td>Stat significant at 1%       </td></tr>\n",
       "\t<tr><td>g12  </td><td> 0.0234298277</td><td>0.0091832384</td><td>  2.55136877</td><td>Stat significant at 5%       </td></tr>\n",
       "\t<tr><td>g21  </td><td>-0.0349648818</td><td>0.0328445648</td><td> -1.06455610</td><td>Not Statistically Significant</td></tr>\n",
       "\t<tr><td>g22  </td><td> 0.9160608949</td><td>0.0058429245</td><td>156.78122999</td><td>Stat significant at 1%       </td></tr>\n",
       "</tbody>\n",
       "</table>\n"
      ],
      "text/latex": [
       "A data.frame: 18 × 5\n",
       "\\begin{tabular}{lllll}\n",
       " Parameters & Coefficient & Std\\_error & T\\_value & Significant\\_at\\_5p\\_level\\\\\n",
       " <chr> & <dbl> & <dbl> & <dbl> & <chr>\\\\\n",
       "\\hline\n",
       "\t mu10  &  0.0001560578 & 0.0006300652 &   0.24768519 & Not Statistically Significant\\\\\n",
       "\t mu20  & -0.0007128594 & 0.0001948386 &  -3.65871795 & Stat significant at 1\\%       \\\\\n",
       "\t phi11 & -0.0246993155 & 0.0309699096 &  -0.79752624 & Not Statistically Significant\\\\\n",
       "\t phi12 & -0.1398955216 & 0.0968637529 &  -1.44425048 & Not Statistically Significant\\\\\n",
       "\t phi13 &  0.0436941899 & 0.0309539348 &   1.41158758 & Not Statistically Significant\\\\\n",
       "\t phi14 & -0.0892563935 & 0.0969434174 &  -0.92070608 & Not Statistically Significant\\\\\n",
       "\t phi21 & -0.0003128186 & 0.0095769979 &  -0.03266354 & Not Statistically Significant\\\\\n",
       "\t phi22 & -0.4007074723 & 0.0299537188 & -13.37755340 & Stat significant at 1\\%       \\\\\n",
       "\t phi23 & -0.0229001324 & 0.0095720580 &  -2.39239383 & Stat significant at 5\\%       \\\\\n",
       "\t phi24 & -0.2455996640 & 0.0299783538 &  -8.19256672 & Stat significant at 1\\%       \\\\\n",
       "\t a11   &  0.1742279965 & 0.0247443479 &   7.04112298 & Stat significant at 1\\%       \\\\\n",
       "\t a12   &  0.0137780603 & 0.0067815549 &   2.03169633 & Stat significant at 5\\%       \\\\\n",
       "\t a21   &  0.0676006104 & 0.0715551971 &   0.94473376 & Not Statistically Significant\\\\\n",
       "\t a22   &  0.3908421666 & 0.0230858425 &  16.92995030 & Stat significant at 1\\%       \\\\\n",
       "\t g11   &  0.8796261437 & 0.0404477793 &  21.74720489 & Stat significant at 1\\%       \\\\\n",
       "\t g12   &  0.0234298277 & 0.0091832384 &   2.55136877 & Stat significant at 5\\%       \\\\\n",
       "\t g21   & -0.0349648818 & 0.0328445648 &  -1.06455610 & Not Statistically Significant\\\\\n",
       "\t g22   &  0.9160608949 & 0.0058429245 & 156.78122999 & Stat significant at 1\\%       \\\\\n",
       "\\end{tabular}\n"
      ],
      "text/markdown": [
       "\n",
       "A data.frame: 18 × 5\n",
       "\n",
       "| Parameters &lt;chr&gt; | Coefficient &lt;dbl&gt; | Std_error &lt;dbl&gt; | T_value &lt;dbl&gt; | Significant_at_5p_level &lt;chr&gt; |\n",
       "|---|---|---|---|---|\n",
       "| mu10  |  0.0001560578 | 0.0006300652 |   0.24768519 | Not Statistically Significant |\n",
       "| mu20  | -0.0007128594 | 0.0001948386 |  -3.65871795 | Stat significant at 1%        |\n",
       "| phi11 | -0.0246993155 | 0.0309699096 |  -0.79752624 | Not Statistically Significant |\n",
       "| phi12 | -0.1398955216 | 0.0968637529 |  -1.44425048 | Not Statistically Significant |\n",
       "| phi13 |  0.0436941899 | 0.0309539348 |   1.41158758 | Not Statistically Significant |\n",
       "| phi14 | -0.0892563935 | 0.0969434174 |  -0.92070608 | Not Statistically Significant |\n",
       "| phi21 | -0.0003128186 | 0.0095769979 |  -0.03266354 | Not Statistically Significant |\n",
       "| phi22 | -0.4007074723 | 0.0299537188 | -13.37755340 | Stat significant at 1%        |\n",
       "| phi23 | -0.0229001324 | 0.0095720580 |  -2.39239383 | Stat significant at 5%        |\n",
       "| phi24 | -0.2455996640 | 0.0299783538 |  -8.19256672 | Stat significant at 1%        |\n",
       "| a11   |  0.1742279965 | 0.0247443479 |   7.04112298 | Stat significant at 1%        |\n",
       "| a12   |  0.0137780603 | 0.0067815549 |   2.03169633 | Stat significant at 5%        |\n",
       "| a21   |  0.0676006104 | 0.0715551971 |   0.94473376 | Not Statistically Significant |\n",
       "| a22   |  0.3908421666 | 0.0230858425 |  16.92995030 | Stat significant at 1%        |\n",
       "| g11   |  0.8796261437 | 0.0404477793 |  21.74720489 | Stat significant at 1%        |\n",
       "| g12   |  0.0234298277 | 0.0091832384 |   2.55136877 | Stat significant at 5%        |\n",
       "| g21   | -0.0349648818 | 0.0328445648 |  -1.06455610 | Not Statistically Significant |\n",
       "| g22   |  0.9160608949 | 0.0058429245 | 156.78122999 | Stat significant at 1%        |\n",
       "\n"
      ],
      "text/plain": [
       "   Parameters Coefficient   Std_error    T_value     \n",
       "1  mu10        0.0001560578 0.0006300652   0.24768519\n",
       "2  mu20       -0.0007128594 0.0001948386  -3.65871795\n",
       "3  phi11      -0.0246993155 0.0309699096  -0.79752624\n",
       "4  phi12      -0.1398955216 0.0968637529  -1.44425048\n",
       "5  phi13       0.0436941899 0.0309539348   1.41158758\n",
       "6  phi14      -0.0892563935 0.0969434174  -0.92070608\n",
       "7  phi21      -0.0003128186 0.0095769979  -0.03266354\n",
       "8  phi22      -0.4007074723 0.0299537188 -13.37755340\n",
       "9  phi23      -0.0229001324 0.0095720580  -2.39239383\n",
       "10 phi24      -0.2455996640 0.0299783538  -8.19256672\n",
       "11 a11         0.1742279965 0.0247443479   7.04112298\n",
       "12 a12         0.0137780603 0.0067815549   2.03169633\n",
       "13 a21         0.0676006104 0.0715551971   0.94473376\n",
       "14 a22         0.3908421666 0.0230858425  16.92995030\n",
       "15 g11         0.8796261437 0.0404477793  21.74720489\n",
       "16 g12         0.0234298277 0.0091832384   2.55136877\n",
       "17 g21        -0.0349648818 0.0328445648  -1.06455610\n",
       "18 g22         0.9160608949 0.0058429245 156.78122999\n",
       "   Significant_at_5p_level      \n",
       "1  Not Statistically Significant\n",
       "2  Stat significant at 1%       \n",
       "3  Not Statistically Significant\n",
       "4  Not Statistically Significant\n",
       "5  Not Statistically Significant\n",
       "6  Not Statistically Significant\n",
       "7  Not Statistically Significant\n",
       "8  Stat significant at 1%       \n",
       "9  Stat significant at 5%       \n",
       "10 Stat significant at 1%       \n",
       "11 Stat significant at 1%       \n",
       "12 Stat significant at 5%       \n",
       "13 Not Statistically Significant\n",
       "14 Stat significant at 1%       \n",
       "15 Stat significant at 1%       \n",
       "16 Stat significant at 5%       \n",
       "17 Not Statistically Significant\n",
       "18 Stat significant at 1%       "
      ]
     },
     "metadata": {},
     "output_type": "display_data"
    }
   ],
   "source": [
    "bekk7 <- data.frame(Parameters = c(\"mu10\",\"mu20\",\"phi11\",\"phi12\",\"phi13\",\"phi14\",\"phi21\",\"phi22\",\"phi23\",\"phi24\",\"a11\",\"a12\",\"a21\",\"a22\",\"g11\",\"g12\",\"g21\",\"g22\"),\n",
    "                   Coefficient = c(summary(var_bekk7)$varresult$usc$coefficients[\"const\",\"Estimate\"],summary(var_bekk7)$varresult$ghsusd$coefficients[\"const\",\"Estimate\"],\n",
    "                                   summary(var_bekk7)$varresult$usc$coefficients[\"usc.l1\",\"Estimate\"],summary(var_bekk7)$varresult$usc$coefficients[\"ghsusd.l1\",\"Estimate\"],\n",
    "                                   summary(var_bekk7)$varresult$usc$coefficients[\"usc.l2\",\"Estimate\"],summary(var_bekk7)$varresult$usc$coefficients[\"ghsusd.l2\",\"Estimate\"],\n",
    "                                   summary(var_bekk7)$varresult$ghsusd$coefficients[\"usc.l1\",\"Estimate\"],summary(var_bekk7)$varresult$ghsusd$coefficients[\"ghsusd.l1\",\"Estimate\"],\n",
    "                                   summary(var_bekk7)$varresult$ghsusd$coefficients[\"usc.l2\",\"Estimate\"],summary(var_bekk7)$varresult$ghsusd$coefficients[\"ghsusd.l2\",\"Estimate\"],\n",
    "                                   bekk7_fit$A[1,1],bekk7_fit$A[1,2],bekk7_fit$A[2,1],bekk7_fit$A[2,2],bekk7_fit$G[1,1],bekk7_fit$G[1,2],bekk7_fit$G[2,1],bekk7_fit$G[2,2]),\n",
    "                   Std_error = c(summary(var_bekk7)$varresult$usc$coefficients[\"const\",\"Std. Error\"],summary(var_bekk7)$varresult$ghsusd$coefficients[\"const\",\"Std. Error\"],\n",
    "                                   summary(var_bekk7)$varresult$usc$coefficients[\"usc.l1\",\"Std. Error\"],summary(var_bekk7)$varresult$usc$coefficients[\"ghsusd.l1\",\"Std. Error\"],\n",
    "                                   summary(var_bekk7)$varresult$usc$coefficients[\"usc.l2\",\"Std. Error\"],summary(var_bekk7)$varresult$usc$coefficients[\"ghsusd.l2\",\"Std. Error\"],\n",
    "                                   summary(var_bekk7)$varresult$ghsusd$coefficients[\"usc.l1\",\"Std. Error\"],summary(var_bekk7)$varresult$ghsusd$coefficients[\"ghsusd.l1\",\"Std. Error\"],\n",
    "                                   summary(var_bekk7)$varresult$ghsusd$coefficients[\"usc.l2\",\"Std. Error\"],summary(var_bekk7)$varresult$ghsusd$coefficients[\"ghsusd.l2\",\"Std. Error\"],\n",
    "                                   bekk7_fit$A_sd[1,1],bekk7_fit$A_sd[1,2],bekk7_fit$A_sd[2,1],bekk7_fit$A_sd[2,2],bekk7_fit$G_sd[1,1],bekk7_fit$G_sd[1,2],bekk7_fit$G_sd[2,1],bekk7_fit$G_sd[2,2]),\n",
    "                   T_value = c(summary(var_bekk7)$varresult$usc$coefficients[\"const\",\"t value\"],summary(var_bekk7)$varresult$ghsusd$coefficients[\"const\",\"t value\"],\n",
    "                                   summary(var_bekk7)$varresult$usc$coefficients[\"usc.l1\",\"t value\"],summary(var_bekk7)$varresult$usc$coefficients[\"ghsusd.l1\",\"t value\"],\n",
    "                                   summary(var_bekk7)$varresult$usc$coefficients[\"usc.l2\",\"t value\"],summary(var_bekk7)$varresult$usc$coefficients[\"ghsusd.l2\",\"t value\"],\n",
    "                                   summary(var_bekk7)$varresult$ghsusd$coefficients[\"usc.l1\",\"t value\"],summary(var_bekk7)$varresult$ghsusd$coefficients[\"ghsusd.l1\",\"t value\"],\n",
    "                                   summary(var_bekk7)$varresult$ghsusd$coefficients[\"usc.l2\",\"t value\"],summary(var_bekk7)$varresult$ghsusd$coefficients[\"ghsusd.l2\",\"t value\"],\n",
    "                                   bekk7_fit$A_t[1,1],bekk7_fit$A_t[1,2],bekk7_fit$A_t[2,1],bekk7_fit$A_t[2,2],bekk7_fit$G_t[1,1],bekk7_fit$G_t[1,2],bekk7_fit$G_t[2,1],bekk7_fit$G_t[2,2]))\n",
    "\n",
    "bekk7$Significant_at_5p_level[abs(bekk7$T_value) >= 2.58 ] <- \"Stat significant at 1%\"\n",
    "bekk7$Significant_at_5p_level[abs(bekk7$T_value) > 1.96 & abs(bekk7$T_value) < 2.58] <- \"Stat significant at 5%\"\n",
    "bekk7$Significant_at_5p_level[abs(bekk7$T_value) > 1.645 & abs(bekk7$T_value) <= 1.96 ] <- \"Stat significant at 10%\"\n",
    "bekk7$Significant_at_5p_level[abs(bekk7$T_value) <= 1.645] <- \"Not Statistically Significant\"\n",
    "bekk7"
   ]
  },
  {
   "cell_type": "code",
   "execution_count": 54,
   "id": "6eb4848b-c843-42b5-991c-e6caa568b48b",
   "metadata": {},
   "outputs": [
    {
     "data": {
      "text/plain": [
       "\n",
       "\tGranger causality H0: usc do not Granger-cause ghsusd\n",
       "\n",
       "data:  VAR object var_bekk7\n",
       "F-Test = 2.8621, df1 = 2, df2 = 2084, p-value = 0.05737\n"
      ]
     },
     "metadata": {},
     "output_type": "display_data"
    },
    {
     "data": {
      "text/plain": [
       "\n",
       "\tGranger causality H0: ghsusd do not Granger-cause usc\n",
       "\n",
       "data:  VAR object var_bekk7\n",
       "F-Test = 1.1583, df1 = 2, df2 = 2084, p-value = 0.3142\n"
      ]
     },
     "metadata": {},
     "output_type": "display_data"
    }
   ],
   "source": [
    "causality(var_bekk7,cause = \"usc\")$Granger\n",
    "causality(var_bekk7,cause = \"ghsusd\")$Granger"
   ]
  },
  {
   "cell_type": "markdown",
   "id": "9a7f53c5-bb45-4c01-9535-11418f99a29c",
   "metadata": {},
   "source": [
    "## (iii) VAR-BEKK Models for London Cocoa"
   ]
  },
  {
   "cell_type": "code",
   "execution_count": 55,
   "id": "c1b01299-f566-4ed6-9931-f74597e2e265",
   "metadata": {},
   "outputs": [
    {
     "name": "stdout",
     "output_type": "stream",
     "text": [
      "An xts object on 2007-07-06 / 2011-09-30 containing: \n",
      "  Data:    double [1049, 4]\n",
      "  Columns: lc, usdgbp, eurgbp, chfgbp\n",
      "  Index:   Date [1049] (TZ: \"UTC\")\n",
      "  xts Attributes:\n",
      "    $ na.action       : 'omit' int [1:3342] 37 42 100 101 122 123 124 128 142 162 ...\n",
      "  ..- attr(*, \"index\")= num [1:3342] 1.19e+09 1.19e+09 1.20e+09 1.20e+09 1.20e+09 ...\n",
      "    $ ret_type        : chr \"log\"\n",
      "    $ coredata_content: chr \"logReturn\"\n"
     ]
    },
    {
     "data": {
      "text/plain": [
       "                     lc        usdgbp       eurgbp        chfgbp\n",
       "2007-07-06  0.005272420  0.0007037652  0.002659380  0.0001273483\n",
       "2007-07-09 -0.013233541 -0.0025157246 -0.001993871 -0.0009873737\n",
       "2007-07-10 -0.040784991 -0.0056582954  0.002805051  0.0059364761\n",
       "2007-07-11  0.019240172 -0.0026379885 -0.002952903 -0.0057330414\n",
       "2007-07-12  0.004526943  0.0008124302  0.004573291  0.0037670817\n",
       "2007-07-13 -0.004526943 -0.0020323145 -0.003391083 -0.0020261005"
      ]
     },
     "metadata": {},
     "output_type": "display_data"
    },
    {
     "data": {
      "text/plain": [
       "                     lc       usdgbp        eurgbp        chfgbp\n",
       "2011-09-23 -0.022397353 -0.008394027 -0.0046255400 -0.0056419176\n",
       "2011-09-26  0.006772035 -0.005816901 -0.0044170443 -0.0009013486\n",
       "2011-09-27  0.006726483 -0.005068830 -0.0004025186  0.0008705228\n",
       "2011-09-28 -0.016901811  0.004134978  0.0000000000 -0.0004106353\n",
       "2011-09-29  0.007923075 -0.003197258  0.0006899328 -0.0004556802\n",
       "2011-09-30 -0.026272214  0.002418381 -0.0126668167 -0.0090966262"
      ]
     },
     "metadata": {},
     "output_type": "display_data"
    }
   ],
   "source": [
    "l_d <- na.omit(merge(cr_d[,2],fr_d[,c(4:6)]))\n",
    "str(l_d)\n",
    "head(l_d)\n",
    "tail(l_d)"
   ]
  },
  {
   "cell_type": "markdown",
   "id": "1b40df40-1d67-4661-814c-1c5a65c7832d",
   "metadata": {},
   "source": [
    "## (a) VAR-BEKK: London Cocoa-USDGBP"
   ]
  },
  {
   "cell_type": "code",
   "execution_count": 56,
   "id": "96ec90e3-19e6-4059-9979-29ab0d1a0dec",
   "metadata": {},
   "outputs": [
    {
     "data": {
      "text/plain": [
       "                     lc        usdgbp\n",
       "2007-07-06  0.005272420  0.0007037652\n",
       "2007-07-09 -0.013233541 -0.0025157246\n",
       "2007-07-10 -0.040784991 -0.0056582954\n",
       "2007-07-11  0.019240172 -0.0026379885\n",
       "2007-07-12  0.004526943  0.0008124302\n",
       "2007-07-13 -0.004526943 -0.0020323145"
      ]
     },
     "metadata": {},
     "output_type": "display_data"
    },
    {
     "data": {
      "text/plain": [
       "                     lc       usdgbp\n",
       "2011-09-23 -0.022397353 -0.008394027\n",
       "2011-09-26  0.006772035 -0.005816901\n",
       "2011-09-27  0.006726483 -0.005068830\n",
       "2011-09-28 -0.016901811  0.004134978\n",
       "2011-09-29  0.007923075 -0.003197258\n",
       "2011-09-30 -0.026272214  0.002418381"
      ]
     },
     "metadata": {},
     "output_type": "display_data"
    }
   ],
   "source": [
    "bekk4data <- l_d[,c(1,2)]\n",
    "head(bekk4data)\n",
    "tail(bekk4data)"
   ]
  },
  {
   "cell_type": "code",
   "execution_count": 57,
   "id": "f8660f61-30a4-4faf-86e2-8bb0674c05dd",
   "metadata": {},
   "outputs": [
    {
     "data": {
      "text/html": [
       "<dl>\n",
       "\t<dt>$selection</dt>\n",
       "\t\t<dd><style>\n",
       ".dl-inline {width: auto; margin:0; padding: 0}\n",
       ".dl-inline>dt, .dl-inline>dd {float: none; width: auto; display: inline-block}\n",
       ".dl-inline>dt::after {content: \":\\0020\"; padding-right: .5ex}\n",
       ".dl-inline>dt:not(:first-of-type) {padding-left: .5ex}\n",
       "</style><dl class=dl-inline><dt>AIC(n)</dt><dd>1</dd><dt>HQ(n)</dt><dd>1</dd><dt>SC(n)</dt><dd>1</dd><dt>FPE(n)</dt><dd>1</dd></dl>\n",
       "</dd>\n",
       "\t<dt>$criteria</dt>\n",
       "\t\t<dd><table class=\"dataframe\">\n",
       "<caption>A matrix: 4 × 10 of type dbl</caption>\n",
       "<thead>\n",
       "\t<tr><th></th><th scope=col>1</th><th scope=col>2</th><th scope=col>3</th><th scope=col>4</th><th scope=col>5</th><th scope=col>6</th><th scope=col>7</th><th scope=col>8</th><th scope=col>9</th><th scope=col>10</th></tr>\n",
       "</thead>\n",
       "<tbody>\n",
       "\t<tr><th scope=row>AIC(n)</th><td>-1.797082e+01</td><td>-1.796619e+01</td><td>-1.796135e+01</td><td>-1.795495e+01</td><td>-1.795469e+01</td><td>-1.795115e+01</td><td>-1.795054e+01</td><td>-1.794578e+01</td><td>-1.794096e+01</td><td>-1.794601e+01</td></tr>\n",
       "\t<tr><th scope=row>HQ(n)</th><td>-1.795999e+01</td><td>-1.794813e+01</td><td>-1.793606e+01</td><td>-1.792244e+01</td><td>-1.791496e+01</td><td>-1.790420e+01</td><td>-1.789636e+01</td><td>-1.788438e+01</td><td>-1.787234e+01</td><td>-1.787016e+01</td></tr>\n",
       "\t<tr><th scope=row>SC(n)</th><td>-1.794226e+01</td><td>-1.791859e+01</td><td>-1.789470e+01</td><td>-1.786926e+01</td><td>-1.784996e+01</td><td>-1.782738e+01</td><td>-1.780773e+01</td><td>-1.778393e+01</td><td>-1.776007e+01</td><td>-1.774607e+01</td></tr>\n",
       "\t<tr><th scope=row>FPE(n)</th><td> 1.568092e-08</td><td> 1.575370e-08</td><td> 1.583020e-08</td><td> 1.593187e-08</td><td> 1.593601e-08</td><td> 1.599245e-08</td><td> 1.600228e-08</td><td> 1.607866e-08</td><td> 1.615635e-08</td><td> 1.607508e-08</td></tr>\n",
       "</tbody>\n",
       "</table>\n",
       "</dd>\n",
       "</dl>\n"
      ],
      "text/latex": [
       "\\begin{description}\n",
       "\\item[\\$selection] \\begin{description*}\n",
       "\\item[AIC(n)] 1\n",
       "\\item[HQ(n)] 1\n",
       "\\item[SC(n)] 1\n",
       "\\item[FPE(n)] 1\n",
       "\\end{description*}\n",
       "\n",
       "\\item[\\$criteria] A matrix: 4 × 10 of type dbl\n",
       "\\begin{tabular}{r|llllllllll}\n",
       "  & 1 & 2 & 3 & 4 & 5 & 6 & 7 & 8 & 9 & 10\\\\\n",
       "\\hline\n",
       "\tAIC(n) & -1.797082e+01 & -1.796619e+01 & -1.796135e+01 & -1.795495e+01 & -1.795469e+01 & -1.795115e+01 & -1.795054e+01 & -1.794578e+01 & -1.794096e+01 & -1.794601e+01\\\\\n",
       "\tHQ(n) & -1.795999e+01 & -1.794813e+01 & -1.793606e+01 & -1.792244e+01 & -1.791496e+01 & -1.790420e+01 & -1.789636e+01 & -1.788438e+01 & -1.787234e+01 & -1.787016e+01\\\\\n",
       "\tSC(n) & -1.794226e+01 & -1.791859e+01 & -1.789470e+01 & -1.786926e+01 & -1.784996e+01 & -1.782738e+01 & -1.780773e+01 & -1.778393e+01 & -1.776007e+01 & -1.774607e+01\\\\\n",
       "\tFPE(n) &  1.568092e-08 &  1.575370e-08 &  1.583020e-08 &  1.593187e-08 &  1.593601e-08 &  1.599245e-08 &  1.600228e-08 &  1.607866e-08 &  1.615635e-08 &  1.607508e-08\\\\\n",
       "\\end{tabular}\n",
       "\n",
       "\\end{description}\n"
      ],
      "text/markdown": [
       "$selection\n",
       ":   AIC(n)\n",
       ":   1HQ(n)\n",
       ":   1SC(n)\n",
       ":   1FPE(n)\n",
       ":   1\n",
       "\n",
       "\n",
       "$criteria\n",
       ":   \n",
       "A matrix: 4 × 10 of type dbl\n",
       "\n",
       "| <!--/--> | 1 | 2 | 3 | 4 | 5 | 6 | 7 | 8 | 9 | 10 |\n",
       "|---|---|---|---|---|---|---|---|---|---|---|\n",
       "| AIC(n) | -1.797082e+01 | -1.796619e+01 | -1.796135e+01 | -1.795495e+01 | -1.795469e+01 | -1.795115e+01 | -1.795054e+01 | -1.794578e+01 | -1.794096e+01 | -1.794601e+01 |\n",
       "| HQ(n) | -1.795999e+01 | -1.794813e+01 | -1.793606e+01 | -1.792244e+01 | -1.791496e+01 | -1.790420e+01 | -1.789636e+01 | -1.788438e+01 | -1.787234e+01 | -1.787016e+01 |\n",
       "| SC(n) | -1.794226e+01 | -1.791859e+01 | -1.789470e+01 | -1.786926e+01 | -1.784996e+01 | -1.782738e+01 | -1.780773e+01 | -1.778393e+01 | -1.776007e+01 | -1.774607e+01 |\n",
       "| FPE(n) |  1.568092e-08 |  1.575370e-08 |  1.583020e-08 |  1.593187e-08 |  1.593601e-08 |  1.599245e-08 |  1.600228e-08 |  1.607866e-08 |  1.615635e-08 |  1.607508e-08 |\n",
       "\n",
       "\n",
       "\n",
       "\n"
      ],
      "text/plain": [
       "$selection\n",
       "AIC(n)  HQ(n)  SC(n) FPE(n) \n",
       "     1      1      1      1 \n",
       "\n",
       "$criteria\n",
       "                   1             2             3             4             5\n",
       "AIC(n) -1.797082e+01 -1.796619e+01 -1.796135e+01 -1.795495e+01 -1.795469e+01\n",
       "HQ(n)  -1.795999e+01 -1.794813e+01 -1.793606e+01 -1.792244e+01 -1.791496e+01\n",
       "SC(n)  -1.794226e+01 -1.791859e+01 -1.789470e+01 -1.786926e+01 -1.784996e+01\n",
       "FPE(n)  1.568092e-08  1.575370e-08  1.583020e-08  1.593187e-08  1.593601e-08\n",
       "                   6             7             8             9            10\n",
       "AIC(n) -1.795115e+01 -1.795054e+01 -1.794578e+01 -1.794096e+01 -1.794601e+01\n",
       "HQ(n)  -1.790420e+01 -1.789636e+01 -1.788438e+01 -1.787234e+01 -1.787016e+01\n",
       "SC(n)  -1.782738e+01 -1.780773e+01 -1.778393e+01 -1.776007e+01 -1.774607e+01\n",
       "FPE(n)  1.599245e-08  1.600228e-08  1.607866e-08  1.615635e-08  1.607508e-08\n"
      ]
     },
     "metadata": {},
     "output_type": "display_data"
    }
   ],
   "source": [
    "VARselect(bekk4data,type = \"const\")"
   ]
  },
  {
   "cell_type": "code",
   "execution_count": 58,
   "id": "b2f272c6-e672-47e9-889a-9179042a4d83",
   "metadata": {},
   "outputs": [],
   "source": [
    "var_bekk4<-VAR(bekk4data,p = 1,type = \"const\")\n",
    "res_bekk4 <- residuals(var_bekk4)\n",
    "res_bekk4 <- as.data.frame(res_bekk4)"
   ]
  },
  {
   "cell_type": "code",
   "execution_count": 59,
   "id": "50fe0e53-fbfb-430e-a4b9-d8fa73d083e5",
   "metadata": {},
   "outputs": [
    {
     "data": {
      "text/plain": [
       "\n",
       "VAR Estimation Results:\n",
       "========================= \n",
       "Endogenous variables: lc, usdgbp \n",
       "Deterministic variables: const \n",
       "Sample size: 1048 \n",
       "Log Likelihood: 6451.919 \n",
       "Roots of the characteristic polynomial:\n",
       "0.05064 0.01865\n",
       "Call:\n",
       "VAR(y = bekk4data, p = 1, type = \"const\")\n",
       "\n",
       "\n",
       "Estimation results for equation lc: \n",
       "=================================== \n",
       "lc = lc.l1 + usdgbp.l1 + const \n",
       "\n",
       "           Estimate Std. Error t value Pr(>|t|)\n",
       "lc.l1     0.0204368  0.0309972   0.659    0.510\n",
       "usdgbp.l1 0.0119853  0.0695077   0.172    0.863\n",
       "const     0.0004504  0.0005173   0.871    0.384\n",
       "\n",
       "\n",
       "Residual standard error: 0.01673 on 1045 degrees of freedom\n",
       "Multiple R-Squared: 0.0004351,\tAdjusted R-squared: -0.001478 \n",
       "F-statistic: 0.2275 on 2 and 1045 DF,  p-value: 0.7966 \n",
       "\n",
       "\n",
       "Estimation results for equation usdgbp: \n",
       "======================================= \n",
       "usdgbp = lc.l1 + usdgbp.l1 + const \n",
       "\n",
       "           Estimate Std. Error t value Pr(>|t|)\n",
       "lc.l1     0.0045102  0.0137936   0.327    0.744\n",
       "usdgbp.l1 0.0488479  0.0309307   1.579    0.115\n",
       "const     0.0001626  0.0002302   0.706    0.480\n",
       "\n",
       "\n",
       "Residual standard error: 0.007447 on 1045 degrees of freedom\n",
       "Multiple R-Squared: 0.002443,\tAdjusted R-squared: 0.0005335 \n",
       "F-statistic: 1.279 on 2 and 1045 DF,  p-value: 0.2786 \n",
       "\n",
       "\n",
       "\n",
       "Covariance matrix of residuals:\n",
       "               lc     usdgbp\n",
       "lc      2.800e-04 -5.849e-06\n",
       "usdgbp -5.849e-06  5.545e-05\n",
       "\n",
       "Correlation matrix of residuals:\n",
       "             lc   usdgbp\n",
       "lc      1.00000 -0.04694\n",
       "usdgbp -0.04694  1.00000\n",
       "\n"
      ]
     },
     "metadata": {},
     "output_type": "display_data"
    }
   ],
   "source": [
    "summary(var_bekk4)"
   ]
  },
  {
   "cell_type": "code",
   "execution_count": 60,
   "id": "c0284be8-0857-42dc-a231-517856aee2c3",
   "metadata": {},
   "outputs": [
    {
     "name": "stdout",
     "output_type": "stream",
     "text": [
      " Date[1:1048], format: \"2007-07-09\" \"2007-07-10\" \"2007-07-11\" \"2007-07-12\" \"2007-07-13\" ...\n"
     ]
    }
   ],
   "source": [
    "ind_var4 <- index(bekk4data)[-1]\n",
    "str(ind_var4)"
   ]
  },
  {
   "cell_type": "code",
   "execution_count": 61,
   "id": "63a98d71-3e86-4489-a1fd-aa38a272a6f5",
   "metadata": {},
   "outputs": [],
   "source": [
    "res_bekk4 <- xts(res_bekk4,order.by = ind_var4)\n",
    "bekk_spec <- bekk_spec(model = list(type = \"bekk\",asymmetric = F))\n",
    "bekk4_fit <- bekk_fit(spec = bekk_spec,data = res_bekk4)"
   ]
  },
  {
   "cell_type": "code",
   "execution_count": 62,
   "id": "72f553ca-3a2d-494b-92a5-b1a5e060486c",
   "metadata": {},
   "outputs": [
    {
     "data": {
      "text/html": [
       "<table class=\"dataframe\">\n",
       "<caption>A matrix: 2 × 2 of type dbl</caption>\n",
       "<tbody>\n",
       "\t<tr><td>0.1506586</td><td>-0.01197994</td></tr>\n",
       "\t<tr><td>0.1247712</td><td> 0.21502093</td></tr>\n",
       "</tbody>\n",
       "</table>\n"
      ],
      "text/latex": [
       "A matrix: 2 × 2 of type dbl\n",
       "\\begin{tabular}{ll}\n",
       "\t 0.1506586 & -0.01197994\\\\\n",
       "\t 0.1247712 &  0.21502093\\\\\n",
       "\\end{tabular}\n"
      ],
      "text/markdown": [
       "\n",
       "A matrix: 2 × 2 of type dbl\n",
       "\n",
       "| 0.1506586 | -0.01197994 |\n",
       "| 0.1247712 |  0.21502093 |\n",
       "\n"
      ],
      "text/plain": [
       "     [,1]      [,2]       \n",
       "[1,] 0.1506586 -0.01197994\n",
       "[2,] 0.1247712  0.21502093"
      ]
     },
     "metadata": {},
     "output_type": "display_data"
    },
    {
     "data": {
      "text/html": [
       "<table class=\"dataframe\">\n",
       "<caption>A matrix: 2 × 2 of type dbl</caption>\n",
       "<tbody>\n",
       "\t<tr><td>9.314731</td><td>-1.148244</td></tr>\n",
       "\t<tr><td>2.749649</td><td> 8.347270</td></tr>\n",
       "</tbody>\n",
       "</table>\n"
      ],
      "text/latex": [
       "A matrix: 2 × 2 of type dbl\n",
       "\\begin{tabular}{ll}\n",
       "\t 9.314731 & -1.148244\\\\\n",
       "\t 2.749649 &  8.347270\\\\\n",
       "\\end{tabular}\n"
      ],
      "text/markdown": [
       "\n",
       "A matrix: 2 × 2 of type dbl\n",
       "\n",
       "| 9.314731 | -1.148244 |\n",
       "| 2.749649 |  8.347270 |\n",
       "\n"
      ],
      "text/plain": [
       "     [,1]     [,2]     \n",
       "[1,] 9.314731 -1.148244\n",
       "[2,] 2.749649  8.347270"
      ]
     },
     "metadata": {},
     "output_type": "display_data"
    },
    {
     "data": {
      "text/html": [
       "<table class=\"dataframe\">\n",
       "<caption>A matrix: 2 × 2 of type dbl</caption>\n",
       "<tbody>\n",
       "\t<tr><td> 0.98096365</td><td>0.004287268</td></tr>\n",
       "\t<tr><td>-0.04368706</td><td>0.971184240</td></tr>\n",
       "</tbody>\n",
       "</table>\n"
      ],
      "text/latex": [
       "A matrix: 2 × 2 of type dbl\n",
       "\\begin{tabular}{ll}\n",
       "\t  0.98096365 & 0.004287268\\\\\n",
       "\t -0.04368706 & 0.971184240\\\\\n",
       "\\end{tabular}\n"
      ],
      "text/markdown": [
       "\n",
       "A matrix: 2 × 2 of type dbl\n",
       "\n",
       "|  0.98096365 | 0.004287268 |\n",
       "| -0.04368706 | 0.971184240 |\n",
       "\n"
      ],
      "text/plain": [
       "     [,1]        [,2]       \n",
       "[1,]  0.98096365 0.004287268\n",
       "[2,] -0.04368706 0.971184240"
      ]
     },
     "metadata": {},
     "output_type": "display_data"
    },
    {
     "data": {
      "text/html": [
       "<table class=\"dataframe\">\n",
       "<caption>A matrix: 2 × 2 of type dbl</caption>\n",
       "<tbody>\n",
       "\t<tr><td>221.296501</td><td>  1.303889</td></tr>\n",
       "\t<tr><td> -3.261958</td><td>130.352124</td></tr>\n",
       "</tbody>\n",
       "</table>\n"
      ],
      "text/latex": [
       "A matrix: 2 × 2 of type dbl\n",
       "\\begin{tabular}{ll}\n",
       "\t 221.296501 &   1.303889\\\\\n",
       "\t  -3.261958 & 130.352124\\\\\n",
       "\\end{tabular}\n"
      ],
      "text/markdown": [
       "\n",
       "A matrix: 2 × 2 of type dbl\n",
       "\n",
       "| 221.296501 |   1.303889 |\n",
       "|  -3.261958 | 130.352124 |\n",
       "\n"
      ],
      "text/plain": [
       "     [,1]       [,2]      \n",
       "[1,] 221.296501   1.303889\n",
       "[2,]  -3.261958 130.352124"
      ]
     },
     "metadata": {},
     "output_type": "display_data"
    }
   ],
   "source": [
    "bekk4_fit$A\n",
    "bekk4_fit$A_t\n",
    "bekk4_fit$G\n",
    "bekk4_fit$G_t"
   ]
  },
  {
   "cell_type": "markdown",
   "id": "bf3d71cf-3ae5-42b2-94de-0ecba38ec8dd",
   "metadata": {},
   "source": [
    "### VAR-BEKK Model Table for London Cocoa - USDGBP"
   ]
  },
  {
   "cell_type": "code",
   "execution_count": 63,
   "id": "7df7fee8-e90d-4252-a266-50d8c1eaa1bc",
   "metadata": {},
   "outputs": [
    {
     "data": {
      "text/html": [
       "<table class=\"dataframe\">\n",
       "<caption>A data.frame: 14 × 5</caption>\n",
       "<thead>\n",
       "\t<tr><th scope=col>Parameters</th><th scope=col>Coefficient</th><th scope=col>Std_error</th><th scope=col>T_value</th><th scope=col>Significant_at_5p_level</th></tr>\n",
       "\t<tr><th scope=col>&lt;chr&gt;</th><th scope=col>&lt;dbl&gt;</th><th scope=col>&lt;dbl&gt;</th><th scope=col>&lt;dbl&gt;</th><th scope=col>&lt;chr&gt;</th></tr>\n",
       "</thead>\n",
       "<tbody>\n",
       "\t<tr><td>mu10 </td><td> 0.0004504054</td><td>0.0005172933</td><td>  0.8706963</td><td>Not Statistically Significant</td></tr>\n",
       "\t<tr><td>mu20 </td><td> 0.0001626113</td><td>0.0002301935</td><td>  0.7064115</td><td>Not Statistically Significant</td></tr>\n",
       "\t<tr><td>phi11</td><td> 0.0204367884</td><td>0.0309971784</td><td>  0.6593112</td><td>Not Statistically Significant</td></tr>\n",
       "\t<tr><td>phi12</td><td> 0.0119852635</td><td>0.0695077075</td><td>  0.1724307</td><td>Not Statistically Significant</td></tr>\n",
       "\t<tr><td>phi21</td><td> 0.0045102190</td><td>0.0137936209</td><td>  0.3269786</td><td>Not Statistically Significant</td></tr>\n",
       "\t<tr><td>phi22</td><td> 0.0488478839</td><td>0.0309306530</td><td>  1.5792710</td><td>Not Statistically Significant</td></tr>\n",
       "\t<tr><td>a11  </td><td> 0.1506586105</td><td>0.0161742305</td><td>  9.3147313</td><td>Stat significant at 1%       </td></tr>\n",
       "\t<tr><td>a12  </td><td>-0.0119799417</td><td>0.0104332751</td><td> -1.1482436</td><td>Not Statistically Significant</td></tr>\n",
       "\t<tr><td>a21  </td><td> 0.1247711876</td><td>0.0453771261</td><td>  2.7496494</td><td>Stat significant at 1%       </td></tr>\n",
       "\t<tr><td>a22  </td><td> 0.2150209297</td><td>0.0257594314</td><td>  8.3472700</td><td>Stat significant at 1%       </td></tr>\n",
       "\t<tr><td>g11  </td><td> 0.9809636452</td><td>0.0044328023</td><td>221.2965014</td><td>Stat significant at 1%       </td></tr>\n",
       "\t<tr><td>g12  </td><td> 0.0042872683</td><td>0.0032880622</td><td>  1.3038891</td><td>Not Statistically Significant</td></tr>\n",
       "\t<tr><td>g21  </td><td>-0.0436870605</td><td>0.0133928929</td><td> -3.2619585</td><td>Stat significant at 1%       </td></tr>\n",
       "\t<tr><td>g22  </td><td> 0.9711842401</td><td>0.0074504673</td><td>130.3521235</td><td>Stat significant at 1%       </td></tr>\n",
       "</tbody>\n",
       "</table>\n"
      ],
      "text/latex": [
       "A data.frame: 14 × 5\n",
       "\\begin{tabular}{lllll}\n",
       " Parameters & Coefficient & Std\\_error & T\\_value & Significant\\_at\\_5p\\_level\\\\\n",
       " <chr> & <dbl> & <dbl> & <dbl> & <chr>\\\\\n",
       "\\hline\n",
       "\t mu10  &  0.0004504054 & 0.0005172933 &   0.8706963 & Not Statistically Significant\\\\\n",
       "\t mu20  &  0.0001626113 & 0.0002301935 &   0.7064115 & Not Statistically Significant\\\\\n",
       "\t phi11 &  0.0204367884 & 0.0309971784 &   0.6593112 & Not Statistically Significant\\\\\n",
       "\t phi12 &  0.0119852635 & 0.0695077075 &   0.1724307 & Not Statistically Significant\\\\\n",
       "\t phi21 &  0.0045102190 & 0.0137936209 &   0.3269786 & Not Statistically Significant\\\\\n",
       "\t phi22 &  0.0488478839 & 0.0309306530 &   1.5792710 & Not Statistically Significant\\\\\n",
       "\t a11   &  0.1506586105 & 0.0161742305 &   9.3147313 & Stat significant at 1\\%       \\\\\n",
       "\t a12   & -0.0119799417 & 0.0104332751 &  -1.1482436 & Not Statistically Significant\\\\\n",
       "\t a21   &  0.1247711876 & 0.0453771261 &   2.7496494 & Stat significant at 1\\%       \\\\\n",
       "\t a22   &  0.2150209297 & 0.0257594314 &   8.3472700 & Stat significant at 1\\%       \\\\\n",
       "\t g11   &  0.9809636452 & 0.0044328023 & 221.2965014 & Stat significant at 1\\%       \\\\\n",
       "\t g12   &  0.0042872683 & 0.0032880622 &   1.3038891 & Not Statistically Significant\\\\\n",
       "\t g21   & -0.0436870605 & 0.0133928929 &  -3.2619585 & Stat significant at 1\\%       \\\\\n",
       "\t g22   &  0.9711842401 & 0.0074504673 & 130.3521235 & Stat significant at 1\\%       \\\\\n",
       "\\end{tabular}\n"
      ],
      "text/markdown": [
       "\n",
       "A data.frame: 14 × 5\n",
       "\n",
       "| Parameters &lt;chr&gt; | Coefficient &lt;dbl&gt; | Std_error &lt;dbl&gt; | T_value &lt;dbl&gt; | Significant_at_5p_level &lt;chr&gt; |\n",
       "|---|---|---|---|---|\n",
       "| mu10  |  0.0004504054 | 0.0005172933 |   0.8706963 | Not Statistically Significant |\n",
       "| mu20  |  0.0001626113 | 0.0002301935 |   0.7064115 | Not Statistically Significant |\n",
       "| phi11 |  0.0204367884 | 0.0309971784 |   0.6593112 | Not Statistically Significant |\n",
       "| phi12 |  0.0119852635 | 0.0695077075 |   0.1724307 | Not Statistically Significant |\n",
       "| phi21 |  0.0045102190 | 0.0137936209 |   0.3269786 | Not Statistically Significant |\n",
       "| phi22 |  0.0488478839 | 0.0309306530 |   1.5792710 | Not Statistically Significant |\n",
       "| a11   |  0.1506586105 | 0.0161742305 |   9.3147313 | Stat significant at 1%        |\n",
       "| a12   | -0.0119799417 | 0.0104332751 |  -1.1482436 | Not Statistically Significant |\n",
       "| a21   |  0.1247711876 | 0.0453771261 |   2.7496494 | Stat significant at 1%        |\n",
       "| a22   |  0.2150209297 | 0.0257594314 |   8.3472700 | Stat significant at 1%        |\n",
       "| g11   |  0.9809636452 | 0.0044328023 | 221.2965014 | Stat significant at 1%        |\n",
       "| g12   |  0.0042872683 | 0.0032880622 |   1.3038891 | Not Statistically Significant |\n",
       "| g21   | -0.0436870605 | 0.0133928929 |  -3.2619585 | Stat significant at 1%        |\n",
       "| g22   |  0.9711842401 | 0.0074504673 | 130.3521235 | Stat significant at 1%        |\n",
       "\n"
      ],
      "text/plain": [
       "   Parameters Coefficient   Std_error    T_value    \n",
       "1  mu10        0.0004504054 0.0005172933   0.8706963\n",
       "2  mu20        0.0001626113 0.0002301935   0.7064115\n",
       "3  phi11       0.0204367884 0.0309971784   0.6593112\n",
       "4  phi12       0.0119852635 0.0695077075   0.1724307\n",
       "5  phi21       0.0045102190 0.0137936209   0.3269786\n",
       "6  phi22       0.0488478839 0.0309306530   1.5792710\n",
       "7  a11         0.1506586105 0.0161742305   9.3147313\n",
       "8  a12        -0.0119799417 0.0104332751  -1.1482436\n",
       "9  a21         0.1247711876 0.0453771261   2.7496494\n",
       "10 a22         0.2150209297 0.0257594314   8.3472700\n",
       "11 g11         0.9809636452 0.0044328023 221.2965014\n",
       "12 g12         0.0042872683 0.0032880622   1.3038891\n",
       "13 g21        -0.0436870605 0.0133928929  -3.2619585\n",
       "14 g22         0.9711842401 0.0074504673 130.3521235\n",
       "   Significant_at_5p_level      \n",
       "1  Not Statistically Significant\n",
       "2  Not Statistically Significant\n",
       "3  Not Statistically Significant\n",
       "4  Not Statistically Significant\n",
       "5  Not Statistically Significant\n",
       "6  Not Statistically Significant\n",
       "7  Stat significant at 1%       \n",
       "8  Not Statistically Significant\n",
       "9  Stat significant at 1%       \n",
       "10 Stat significant at 1%       \n",
       "11 Stat significant at 1%       \n",
       "12 Not Statistically Significant\n",
       "13 Stat significant at 1%       \n",
       "14 Stat significant at 1%       "
      ]
     },
     "metadata": {},
     "output_type": "display_data"
    }
   ],
   "source": [
    "bekk4 <- data.frame(Parameters = c(\"mu10\",\"mu20\",\"phi11\",\"phi12\",\"phi21\",\"phi22\",\"a11\",\"a12\",\"a21\",\"a22\",\"g11\",\"g12\",\"g21\",\"g22\"),\n",
    "                   Coefficient = c(summary(var_bekk4)$varresult$lc$coefficients[\"const\",\"Estimate\"],summary(var_bekk4)$varresult$usdgbp$coefficients[\"const\",\"Estimate\"],\n",
    "                                   summary(var_bekk4)$varresult$lc$coefficients[\"lc.l1\",\"Estimate\"],summary(var_bekk4)$varresult$lc$coefficients[\"usdgbp.l1\",\"Estimate\"],\n",
    "                                   summary(var_bekk4)$varresult$usdgbp$coefficients[\"lc.l1\",\"Estimate\"],summary(var_bekk4)$varresult$usdgbp$coefficients[\"usdgbp.l1\",\"Estimate\"],\n",
    "                                   bekk4_fit$A[1,1],bekk4_fit$A[1,2],bekk4_fit$A[2,1],bekk4_fit$A[2,2],bekk4_fit$G[1,1],bekk4_fit$G[1,2],bekk4_fit$G[2,1],bekk4_fit$G[2,2]),\n",
    "                   Std_error = c(summary(var_bekk4)$varresult$lc$coefficients[\"const\",\"Std. Error\"],summary(var_bekk4)$varresult$usdgbp$coefficients[\"const\",\"Std. Error\"],\n",
    "                                   summary(var_bekk4)$varresult$lc$coefficients[\"lc.l1\",\"Std. Error\"],summary(var_bekk4)$varresult$lc$coefficients[\"usdgbp.l1\",\"Std. Error\"],\n",
    "                                   summary(var_bekk4)$varresult$usdgbp$coefficients[\"lc.l1\",\"Std. Error\"],summary(var_bekk4)$varresult$usdgbp$coefficients[\"usdgbp.l1\",\"Std. Error\"],\n",
    "                                   bekk4_fit$A_sd[1,1],bekk4_fit$A_sd[1,2],bekk4_fit$A_sd[2,1],bekk4_fit$A_sd[2,2],bekk4_fit$G_sd[1,1],bekk4_fit$G_sd[1,2],bekk4_fit$G_sd[2,1],bekk4_fit$G_sd[2,2]),\n",
    "                   T_value = c(summary(var_bekk4)$varresult$lc$coefficients[\"const\",\"t value\"],summary(var_bekk4)$varresult$usdgbp$coefficients[\"const\",\"t value\"],\n",
    "                                   summary(var_bekk4)$varresult$lc$coefficients[\"lc.l1\",\"t value\"],summary(var_bekk4)$varresult$lc$coefficients[\"usdgbp.l1\",\"t value\"],\n",
    "                                   summary(var_bekk4)$varresult$usdgbp$coefficients[\"lc.l1\",\"t value\"],summary(var_bekk4)$varresult$usdgbp$coefficients[\"usdgbp.l1\",\"t value\"],\n",
    "                                   bekk4_fit$A_t[1,1],bekk4_fit$A_t[1,2],bekk4_fit$A_t[2,1],bekk4_fit$A_t[2,2],bekk4_fit$G_t[1,1],bekk4_fit$G_t[1,2],bekk4_fit$G_t[2,1],bekk4_fit$G_t[2,2]))\n",
    "\n",
    "bekk4$Significant_at_5p_level[abs(bekk4$T_value) >= 2.58 ] <- \"Stat significant at 1%\"\n",
    "bekk4$Significant_at_5p_level[abs(bekk4$T_value) > 1.96 & abs(bekk4$T_value) < 2.58] <- \"Stat significant at 5%\"\n",
    "bekk4$Significant_at_5p_level[abs(bekk4$T_value) > 1.645 & abs(bekk4$T_value) <= 1.96 ] <- \"Stat significant at 10%\"\n",
    "bekk4$Significant_at_5p_level[abs(bekk4$T_value) <= 1.645] <- \"Not Statistically Significant\"\n",
    "bekk4"
   ]
  },
  {
   "cell_type": "code",
   "execution_count": 64,
   "id": "da75f11f-474d-48d0-bb9b-fe4385c5adda",
   "metadata": {},
   "outputs": [
    {
     "data": {
      "text/plain": [
       "\n",
       "\tGranger causality H0: lc do not Granger-cause usdgbp\n",
       "\n",
       "data:  VAR object var_bekk4\n",
       "F-Test = 0.10692, df1 = 1, df2 = 2090, p-value = 0.7437\n"
      ]
     },
     "metadata": {},
     "output_type": "display_data"
    },
    {
     "data": {
      "text/plain": [
       "\n",
       "\tGranger causality H0: usdgbp do not Granger-cause lc\n",
       "\n",
       "data:  VAR object var_bekk4\n",
       "F-Test = 0.029732, df1 = 1, df2 = 2090, p-value = 0.8631\n"
      ]
     },
     "metadata": {},
     "output_type": "display_data"
    }
   ],
   "source": [
    "causality(var_bekk4,cause = \"lc\")$Granger\n",
    "causality(var_bekk4,cause = \"usdgbp\")$Granger"
   ]
  },
  {
   "cell_type": "markdown",
   "id": "3616a753-2e43-453a-b720-23cfe7a34fdf",
   "metadata": {},
   "source": [
    "## (b) VAR-BEKK: London Cocoa-EURGBP"
   ]
  },
  {
   "cell_type": "code",
   "execution_count": 65,
   "id": "d406d7dd-1546-4f65-94b5-4c3710d316c8",
   "metadata": {},
   "outputs": [
    {
     "data": {
      "text/plain": [
       "                     lc       eurgbp\n",
       "2007-07-06  0.005272420  0.002659380\n",
       "2007-07-09 -0.013233541 -0.001993871\n",
       "2007-07-10 -0.040784991  0.002805051\n",
       "2007-07-11  0.019240172 -0.002952903\n",
       "2007-07-12  0.004526943  0.004573291\n",
       "2007-07-13 -0.004526943 -0.003391083"
      ]
     },
     "metadata": {},
     "output_type": "display_data"
    }
   ],
   "source": [
    "bekk5data <- l_d[,c(1,3)]\n",
    "head(bekk5data)"
   ]
  },
  {
   "cell_type": "code",
   "execution_count": 66,
   "id": "a6f55822-6834-454c-b830-b357bba4f28a",
   "metadata": {},
   "outputs": [
    {
     "data": {
      "text/html": [
       "<dl>\n",
       "\t<dt>$selection</dt>\n",
       "\t\t<dd><style>\n",
       ".dl-inline {width: auto; margin:0; padding: 0}\n",
       ".dl-inline>dt, .dl-inline>dd {float: none; width: auto; display: inline-block}\n",
       ".dl-inline>dt::after {content: \":\\0020\"; padding-right: .5ex}\n",
       ".dl-inline>dt:not(:first-of-type) {padding-left: .5ex}\n",
       "</style><dl class=dl-inline><dt>AIC(n)</dt><dd>1</dd><dt>HQ(n)</dt><dd>1</dd><dt>SC(n)</dt><dd>1</dd><dt>FPE(n)</dt><dd>1</dd></dl>\n",
       "</dd>\n",
       "\t<dt>$criteria</dt>\n",
       "\t\t<dd><table class=\"dataframe\">\n",
       "<caption>A matrix: 4 × 10 of type dbl</caption>\n",
       "<thead>\n",
       "\t<tr><th></th><th scope=col>1</th><th scope=col>2</th><th scope=col>3</th><th scope=col>4</th><th scope=col>5</th><th scope=col>6</th><th scope=col>7</th><th scope=col>8</th><th scope=col>9</th><th scope=col>10</th></tr>\n",
       "</thead>\n",
       "<tbody>\n",
       "\t<tr><th scope=row>AIC(n)</th><td>-1.825475e+01</td><td>-1.825316e+01</td><td>-1.824960e+01</td><td>-1.824643e+01</td><td>-1.823900e+01</td><td>-1.823981e+01</td><td>-1.823737e+01</td><td>-1.823129e+01</td><td>-1.823430e+01</td><td>-1.822849e+01</td></tr>\n",
       "\t<tr><th scope=row>HQ(n)</th><td>-1.824391e+01</td><td>-1.823510e+01</td><td>-1.822431e+01</td><td>-1.821393e+01</td><td>-1.819927e+01</td><td>-1.819285e+01</td><td>-1.818319e+01</td><td>-1.816989e+01</td><td>-1.816568e+01</td><td>-1.815265e+01</td></tr>\n",
       "\t<tr><th scope=row>SC(n)</th><td>-1.822619e+01</td><td>-1.820556e+01</td><td>-1.818295e+01</td><td>-1.816074e+01</td><td>-1.813427e+01</td><td>-1.811604e+01</td><td>-1.809456e+01</td><td>-1.806944e+01</td><td>-1.805341e+01</td><td>-1.802856e+01</td></tr>\n",
       "\t<tr><th scope=row>FPE(n)</th><td> 1.180492e-08</td><td> 1.182369e-08</td><td> 1.186591e-08</td><td> 1.190353e-08</td><td> 1.199239e-08</td><td> 1.198268e-08</td><td> 1.201195e-08</td><td> 1.208515e-08</td><td> 1.204887e-08</td><td> 1.211910e-08</td></tr>\n",
       "</tbody>\n",
       "</table>\n",
       "</dd>\n",
       "</dl>\n"
      ],
      "text/latex": [
       "\\begin{description}\n",
       "\\item[\\$selection] \\begin{description*}\n",
       "\\item[AIC(n)] 1\n",
       "\\item[HQ(n)] 1\n",
       "\\item[SC(n)] 1\n",
       "\\item[FPE(n)] 1\n",
       "\\end{description*}\n",
       "\n",
       "\\item[\\$criteria] A matrix: 4 × 10 of type dbl\n",
       "\\begin{tabular}{r|llllllllll}\n",
       "  & 1 & 2 & 3 & 4 & 5 & 6 & 7 & 8 & 9 & 10\\\\\n",
       "\\hline\n",
       "\tAIC(n) & -1.825475e+01 & -1.825316e+01 & -1.824960e+01 & -1.824643e+01 & -1.823900e+01 & -1.823981e+01 & -1.823737e+01 & -1.823129e+01 & -1.823430e+01 & -1.822849e+01\\\\\n",
       "\tHQ(n) & -1.824391e+01 & -1.823510e+01 & -1.822431e+01 & -1.821393e+01 & -1.819927e+01 & -1.819285e+01 & -1.818319e+01 & -1.816989e+01 & -1.816568e+01 & -1.815265e+01\\\\\n",
       "\tSC(n) & -1.822619e+01 & -1.820556e+01 & -1.818295e+01 & -1.816074e+01 & -1.813427e+01 & -1.811604e+01 & -1.809456e+01 & -1.806944e+01 & -1.805341e+01 & -1.802856e+01\\\\\n",
       "\tFPE(n) &  1.180492e-08 &  1.182369e-08 &  1.186591e-08 &  1.190353e-08 &  1.199239e-08 &  1.198268e-08 &  1.201195e-08 &  1.208515e-08 &  1.204887e-08 &  1.211910e-08\\\\\n",
       "\\end{tabular}\n",
       "\n",
       "\\end{description}\n"
      ],
      "text/markdown": [
       "$selection\n",
       ":   AIC(n)\n",
       ":   1HQ(n)\n",
       ":   1SC(n)\n",
       ":   1FPE(n)\n",
       ":   1\n",
       "\n",
       "\n",
       "$criteria\n",
       ":   \n",
       "A matrix: 4 × 10 of type dbl\n",
       "\n",
       "| <!--/--> | 1 | 2 | 3 | 4 | 5 | 6 | 7 | 8 | 9 | 10 |\n",
       "|---|---|---|---|---|---|---|---|---|---|---|\n",
       "| AIC(n) | -1.825475e+01 | -1.825316e+01 | -1.824960e+01 | -1.824643e+01 | -1.823900e+01 | -1.823981e+01 | -1.823737e+01 | -1.823129e+01 | -1.823430e+01 | -1.822849e+01 |\n",
       "| HQ(n) | -1.824391e+01 | -1.823510e+01 | -1.822431e+01 | -1.821393e+01 | -1.819927e+01 | -1.819285e+01 | -1.818319e+01 | -1.816989e+01 | -1.816568e+01 | -1.815265e+01 |\n",
       "| SC(n) | -1.822619e+01 | -1.820556e+01 | -1.818295e+01 | -1.816074e+01 | -1.813427e+01 | -1.811604e+01 | -1.809456e+01 | -1.806944e+01 | -1.805341e+01 | -1.802856e+01 |\n",
       "| FPE(n) |  1.180492e-08 |  1.182369e-08 |  1.186591e-08 |  1.190353e-08 |  1.199239e-08 |  1.198268e-08 |  1.201195e-08 |  1.208515e-08 |  1.204887e-08 |  1.211910e-08 |\n",
       "\n",
       "\n",
       "\n",
       "\n"
      ],
      "text/plain": [
       "$selection\n",
       "AIC(n)  HQ(n)  SC(n) FPE(n) \n",
       "     1      1      1      1 \n",
       "\n",
       "$criteria\n",
       "                   1             2             3             4             5\n",
       "AIC(n) -1.825475e+01 -1.825316e+01 -1.824960e+01 -1.824643e+01 -1.823900e+01\n",
       "HQ(n)  -1.824391e+01 -1.823510e+01 -1.822431e+01 -1.821393e+01 -1.819927e+01\n",
       "SC(n)  -1.822619e+01 -1.820556e+01 -1.818295e+01 -1.816074e+01 -1.813427e+01\n",
       "FPE(n)  1.180492e-08  1.182369e-08  1.186591e-08  1.190353e-08  1.199239e-08\n",
       "                   6             7             8             9            10\n",
       "AIC(n) -1.823981e+01 -1.823737e+01 -1.823129e+01 -1.823430e+01 -1.822849e+01\n",
       "HQ(n)  -1.819285e+01 -1.818319e+01 -1.816989e+01 -1.816568e+01 -1.815265e+01\n",
       "SC(n)  -1.811604e+01 -1.809456e+01 -1.806944e+01 -1.805341e+01 -1.802856e+01\n",
       "FPE(n)  1.198268e-08  1.201195e-08  1.208515e-08  1.204887e-08  1.211910e-08\n"
      ]
     },
     "metadata": {},
     "output_type": "display_data"
    }
   ],
   "source": [
    "VARselect(bekk5data,type = \"const\")"
   ]
  },
  {
   "cell_type": "code",
   "execution_count": 67,
   "id": "17e98d16-2659-45cd-8814-b7143194d6e9",
   "metadata": {},
   "outputs": [],
   "source": [
    "var_bekk5<-VAR(bekk5data,p = 1,type = \"const\")\n",
    "res_bekk5 <- residuals(var_bekk5)\n",
    "res_bekk5 <- as.data.frame(res_bekk5)"
   ]
  },
  {
   "cell_type": "code",
   "execution_count": 68,
   "id": "c3ef05ad-d36a-4bed-85ff-3588c0d875d8",
   "metadata": {},
   "outputs": [
    {
     "data": {
      "text/plain": [
       "\n",
       "VAR Estimation Results:\n",
       "========================= \n",
       "Endogenous variables: lc, eurgbp \n",
       "Deterministic variables: const \n",
       "Sample size: 1048 \n",
       "Log Likelihood: 6600.438 \n",
       "Roots of the characteristic polynomial:\n",
       "0.08353 0.01067\n",
       "Call:\n",
       "VAR(y = bekk5data, p = 1, type = \"const\")\n",
       "\n",
       "\n",
       "Estimation results for equation lc: \n",
       "=================================== \n",
       "lc = lc.l1 + eurgbp.l1 + const \n",
       "\n",
       "           Estimate Std. Error t value Pr(>|t|)  \n",
       "lc.l1     0.0120302  0.0310939   0.387   0.6989  \n",
       "eurgbp.l1 0.1821257  0.0797708   2.283   0.0226 *\n",
       "const     0.0004179  0.0005161   0.810   0.4183  \n",
       "---\n",
       "Signif. codes:  0 ‘***’ 0.001 ‘**’ 0.01 ‘*’ 0.05 ‘.’ 0.1 ‘ ’ 1\n",
       "\n",
       "\n",
       "Residual standard error: 0.01669 on 1045 degrees of freedom\n",
       "Multiple R-Squared: 0.005368,\tAdjusted R-squared: 0.003464 \n",
       "F-statistic:  2.82 on 2 and 1045 DF,  p-value: 0.06006 \n",
       "\n",
       "\n",
       "Estimation results for equation eurgbp: \n",
       "======================================= \n",
       "eurgbp = lc.l1 + eurgbp.l1 + const \n",
       "\n",
       "           Estimate Std. Error t value Pr(>|t|)  \n",
       "lc.l1     0.0089112  0.0121327   0.734   0.4628  \n",
       "eurgbp.l1 0.0608307  0.0311261   1.954   0.0509 .\n",
       "const     0.0001807  0.0002014   0.897   0.3698  \n",
       "---\n",
       "Signif. codes:  0 ‘***’ 0.001 ‘**’ 0.01 ‘*’ 0.05 ‘.’ 0.1 ‘ ’ 1\n",
       "\n",
       "\n",
       "Residual standard error: 0.006513 on 1045 degrees of freedom\n",
       "Multiple R-Squared: 0.004526,\tAdjusted R-squared: 0.002621 \n",
       "F-statistic: 2.376 on 2 and 1045 DF,  p-value: 0.09344 \n",
       "\n",
       "\n",
       "\n",
       "Covariance matrix of residuals:\n",
       "              lc    eurgbp\n",
       "lc     2.786e-04 1.231e-05\n",
       "eurgbp 1.231e-05 4.242e-05\n",
       "\n",
       "Correlation matrix of residuals:\n",
       "           lc eurgbp\n",
       "lc     1.0000 0.1132\n",
       "eurgbp 0.1132 1.0000\n",
       "\n"
      ]
     },
     "metadata": {},
     "output_type": "display_data"
    }
   ],
   "source": [
    "summary(var_bekk5)"
   ]
  },
  {
   "cell_type": "code",
   "execution_count": 69,
   "id": "d1484a71-c72d-474e-8013-cd7682334e4e",
   "metadata": {},
   "outputs": [
    {
     "name": "stdout",
     "output_type": "stream",
     "text": [
      " Date[1:1048], format: \"2007-07-09\" \"2007-07-10\" \"2007-07-11\" \"2007-07-12\" \"2007-07-13\" ...\n"
     ]
    }
   ],
   "source": [
    "ind_var5 <- index(bekk5data)[-1]\n",
    "str(ind_var5)"
   ]
  },
  {
   "cell_type": "code",
   "execution_count": 70,
   "id": "cbfae9ef-1879-4b9d-badb-b41b11113090",
   "metadata": {},
   "outputs": [],
   "source": [
    "res_bekk5 <- xts(res_bekk5,order.by = ind_var5)\n",
    "bekk_spec <- bekk_spec(model = list(type = \"bekk\",asymmetric = F))\n",
    "bekk5_fit <- bekk_fit(spec = bekk_spec,data = res_bekk5)"
   ]
  },
  {
   "cell_type": "code",
   "execution_count": 71,
   "id": "fe7f9c22-fd83-4c65-9912-83513eb49915",
   "metadata": {},
   "outputs": [
    {
     "data": {
      "text/html": [
       "<table class=\"dataframe\">\n",
       "<caption>A matrix: 2 × 2 of type dbl</caption>\n",
       "<tbody>\n",
       "\t<tr><td>0.2474365</td><td>-0.03452528</td></tr>\n",
       "\t<tr><td>0.1418848</td><td> 0.22582982</td></tr>\n",
       "</tbody>\n",
       "</table>\n"
      ],
      "text/latex": [
       "A matrix: 2 × 2 of type dbl\n",
       "\\begin{tabular}{ll}\n",
       "\t 0.2474365 & -0.03452528\\\\\n",
       "\t 0.1418848 &  0.22582982\\\\\n",
       "\\end{tabular}\n"
      ],
      "text/markdown": [
       "\n",
       "A matrix: 2 × 2 of type dbl\n",
       "\n",
       "| 0.2474365 | -0.03452528 |\n",
       "| 0.1418848 |  0.22582982 |\n",
       "\n"
      ],
      "text/plain": [
       "     [,1]      [,2]       \n",
       "[1,] 0.2474365 -0.03452528\n",
       "[2,] 0.1418848  0.22582982"
      ]
     },
     "metadata": {},
     "output_type": "display_data"
    },
    {
     "data": {
      "text/html": [
       "<table class=\"dataframe\">\n",
       "<caption>A matrix: 2 × 2 of type dbl</caption>\n",
       "<tbody>\n",
       "\t<tr><td>9.162987</td><td>-2.736205</td></tr>\n",
       "\t<tr><td>1.755250</td><td> 8.116690</td></tr>\n",
       "</tbody>\n",
       "</table>\n"
      ],
      "text/latex": [
       "A matrix: 2 × 2 of type dbl\n",
       "\\begin{tabular}{ll}\n",
       "\t 9.162987 & -2.736205\\\\\n",
       "\t 1.755250 &  8.116690\\\\\n",
       "\\end{tabular}\n"
      ],
      "text/markdown": [
       "\n",
       "A matrix: 2 × 2 of type dbl\n",
       "\n",
       "| 9.162987 | -2.736205 |\n",
       "| 1.755250 |  8.116690 |\n",
       "\n"
      ],
      "text/plain": [
       "     [,1]     [,2]     \n",
       "[1,] 9.162987 -2.736205\n",
       "[2,] 1.755250  8.116690"
      ]
     },
     "metadata": {},
     "output_type": "display_data"
    },
    {
     "data": {
      "text/html": [
       "<table class=\"dataframe\">\n",
       "<caption>A matrix: 2 × 2 of type dbl</caption>\n",
       "<tbody>\n",
       "\t<tr><td> 0.89590950</td><td>0.01868497</td></tr>\n",
       "\t<tr><td>-0.03807764</td><td>0.96702481</td></tr>\n",
       "</tbody>\n",
       "</table>\n"
      ],
      "text/latex": [
       "A matrix: 2 × 2 of type dbl\n",
       "\\begin{tabular}{ll}\n",
       "\t  0.89590950 & 0.01868497\\\\\n",
       "\t -0.03807764 & 0.96702481\\\\\n",
       "\\end{tabular}\n"
      ],
      "text/markdown": [
       "\n",
       "A matrix: 2 × 2 of type dbl\n",
       "\n",
       "|  0.89590950 | 0.01868497 |\n",
       "| -0.03807764 | 0.96702481 |\n",
       "\n"
      ],
      "text/plain": [
       "     [,1]        [,2]      \n",
       "[1,]  0.89590950 0.01868497\n",
       "[2,] -0.03807764 0.96702481"
      ]
     },
     "metadata": {},
     "output_type": "display_data"
    },
    {
     "data": {
      "text/html": [
       "<table class=\"dataframe\">\n",
       "<caption>A matrix: 2 × 2 of type dbl</caption>\n",
       "<tbody>\n",
       "\t<tr><td>34.429514</td><td>  1.719434</td></tr>\n",
       "\t<tr><td>-1.289812</td><td>105.482591</td></tr>\n",
       "</tbody>\n",
       "</table>\n"
      ],
      "text/latex": [
       "A matrix: 2 × 2 of type dbl\n",
       "\\begin{tabular}{ll}\n",
       "\t 34.429514 &   1.719434\\\\\n",
       "\t -1.289812 & 105.482591\\\\\n",
       "\\end{tabular}\n"
      ],
      "text/markdown": [
       "\n",
       "A matrix: 2 × 2 of type dbl\n",
       "\n",
       "| 34.429514 |   1.719434 |\n",
       "| -1.289812 | 105.482591 |\n",
       "\n"
      ],
      "text/plain": [
       "     [,1]      [,2]      \n",
       "[1,] 34.429514   1.719434\n",
       "[2,] -1.289812 105.482591"
      ]
     },
     "metadata": {},
     "output_type": "display_data"
    }
   ],
   "source": [
    "bekk5_fit$A\n",
    "bekk5_fit$A_t\n",
    "bekk5_fit$G\n",
    "bekk5_fit$G_t"
   ]
  },
  {
   "cell_type": "markdown",
   "id": "4e86684d-0ecb-4e0e-9cc0-8dbb164c022b",
   "metadata": {},
   "source": [
    "### VAR-BEKK Model Table for London Cocoa-EURGBP"
   ]
  },
  {
   "cell_type": "code",
   "execution_count": 72,
   "id": "996485fc-3b1b-4ac8-9c9b-a80f8e021fdf",
   "metadata": {},
   "outputs": [
    {
     "data": {
      "text/html": [
       "<table class=\"dataframe\">\n",
       "<caption>A data.frame: 14 × 5</caption>\n",
       "<thead>\n",
       "\t<tr><th scope=col>Parameters</th><th scope=col>Coefficient</th><th scope=col>Std_error</th><th scope=col>T_value</th><th scope=col>Significant_at_5p_level</th></tr>\n",
       "\t<tr><th scope=col>&lt;chr&gt;</th><th scope=col>&lt;dbl&gt;</th><th scope=col>&lt;dbl&gt;</th><th scope=col>&lt;dbl&gt;</th><th scope=col>&lt;chr&gt;</th></tr>\n",
       "</thead>\n",
       "<tbody>\n",
       "\t<tr><td>mu10 </td><td> 0.0004178811</td><td>0.0005160854</td><td>  0.8097132</td><td>Not Statistically Significant</td></tr>\n",
       "\t<tr><td>mu20 </td><td> 0.0001806640</td><td>0.0002013737</td><td>  0.8971575</td><td>Not Statistically Significant</td></tr>\n",
       "\t<tr><td>phi11</td><td> 0.0120302248</td><td>0.0310939477</td><td>  0.3868992</td><td>Not Statistically Significant</td></tr>\n",
       "\t<tr><td>phi12</td><td> 0.1821256857</td><td>0.0797707815</td><td>  2.2831127</td><td>Stat significant at 5%       </td></tr>\n",
       "\t<tr><td>phi21</td><td> 0.0089112209</td><td>0.0121326918</td><td>  0.7344801</td><td>Not Statistically Significant</td></tr>\n",
       "\t<tr><td>phi22</td><td> 0.0608307014</td><td>0.0311261314</td><td>  1.9543290</td><td>Stat significant at 10%      </td></tr>\n",
       "\t<tr><td>a11  </td><td> 0.2474364737</td><td>0.0270039107</td><td>  9.1629867</td><td>Stat significant at 1%       </td></tr>\n",
       "\t<tr><td>a12  </td><td>-0.0345252811</td><td>0.0126179456</td><td> -2.7362046</td><td>Stat significant at 1%       </td></tr>\n",
       "\t<tr><td>a21  </td><td> 0.1418848309</td><td>0.0808345244</td><td>  1.7552504</td><td>Stat significant at 10%      </td></tr>\n",
       "\t<tr><td>a22  </td><td> 0.2258298203</td><td>0.0278228967</td><td>  8.1166897</td><td>Stat significant at 1%       </td></tr>\n",
       "\t<tr><td>g11  </td><td> 0.8959094951</td><td>0.0260215548</td><td> 34.4295143</td><td>Stat significant at 1%       </td></tr>\n",
       "\t<tr><td>g12  </td><td> 0.0186849661</td><td>0.0108669274</td><td>  1.7194342</td><td>Stat significant at 10%      </td></tr>\n",
       "\t<tr><td>g21  </td><td>-0.0380776406</td><td>0.0295218483</td><td> -1.2898122</td><td>Not Statistically Significant</td></tr>\n",
       "\t<tr><td>g22  </td><td> 0.9670248087</td><td>0.0091676247</td><td>105.4825907</td><td>Stat significant at 1%       </td></tr>\n",
       "</tbody>\n",
       "</table>\n"
      ],
      "text/latex": [
       "A data.frame: 14 × 5\n",
       "\\begin{tabular}{lllll}\n",
       " Parameters & Coefficient & Std\\_error & T\\_value & Significant\\_at\\_5p\\_level\\\\\n",
       " <chr> & <dbl> & <dbl> & <dbl> & <chr>\\\\\n",
       "\\hline\n",
       "\t mu10  &  0.0004178811 & 0.0005160854 &   0.8097132 & Not Statistically Significant\\\\\n",
       "\t mu20  &  0.0001806640 & 0.0002013737 &   0.8971575 & Not Statistically Significant\\\\\n",
       "\t phi11 &  0.0120302248 & 0.0310939477 &   0.3868992 & Not Statistically Significant\\\\\n",
       "\t phi12 &  0.1821256857 & 0.0797707815 &   2.2831127 & Stat significant at 5\\%       \\\\\n",
       "\t phi21 &  0.0089112209 & 0.0121326918 &   0.7344801 & Not Statistically Significant\\\\\n",
       "\t phi22 &  0.0608307014 & 0.0311261314 &   1.9543290 & Stat significant at 10\\%      \\\\\n",
       "\t a11   &  0.2474364737 & 0.0270039107 &   9.1629867 & Stat significant at 1\\%       \\\\\n",
       "\t a12   & -0.0345252811 & 0.0126179456 &  -2.7362046 & Stat significant at 1\\%       \\\\\n",
       "\t a21   &  0.1418848309 & 0.0808345244 &   1.7552504 & Stat significant at 10\\%      \\\\\n",
       "\t a22   &  0.2258298203 & 0.0278228967 &   8.1166897 & Stat significant at 1\\%       \\\\\n",
       "\t g11   &  0.8959094951 & 0.0260215548 &  34.4295143 & Stat significant at 1\\%       \\\\\n",
       "\t g12   &  0.0186849661 & 0.0108669274 &   1.7194342 & Stat significant at 10\\%      \\\\\n",
       "\t g21   & -0.0380776406 & 0.0295218483 &  -1.2898122 & Not Statistically Significant\\\\\n",
       "\t g22   &  0.9670248087 & 0.0091676247 & 105.4825907 & Stat significant at 1\\%       \\\\\n",
       "\\end{tabular}\n"
      ],
      "text/markdown": [
       "\n",
       "A data.frame: 14 × 5\n",
       "\n",
       "| Parameters &lt;chr&gt; | Coefficient &lt;dbl&gt; | Std_error &lt;dbl&gt; | T_value &lt;dbl&gt; | Significant_at_5p_level &lt;chr&gt; |\n",
       "|---|---|---|---|---|\n",
       "| mu10  |  0.0004178811 | 0.0005160854 |   0.8097132 | Not Statistically Significant |\n",
       "| mu20  |  0.0001806640 | 0.0002013737 |   0.8971575 | Not Statistically Significant |\n",
       "| phi11 |  0.0120302248 | 0.0310939477 |   0.3868992 | Not Statistically Significant |\n",
       "| phi12 |  0.1821256857 | 0.0797707815 |   2.2831127 | Stat significant at 5%        |\n",
       "| phi21 |  0.0089112209 | 0.0121326918 |   0.7344801 | Not Statistically Significant |\n",
       "| phi22 |  0.0608307014 | 0.0311261314 |   1.9543290 | Stat significant at 10%       |\n",
       "| a11   |  0.2474364737 | 0.0270039107 |   9.1629867 | Stat significant at 1%        |\n",
       "| a12   | -0.0345252811 | 0.0126179456 |  -2.7362046 | Stat significant at 1%        |\n",
       "| a21   |  0.1418848309 | 0.0808345244 |   1.7552504 | Stat significant at 10%       |\n",
       "| a22   |  0.2258298203 | 0.0278228967 |   8.1166897 | Stat significant at 1%        |\n",
       "| g11   |  0.8959094951 | 0.0260215548 |  34.4295143 | Stat significant at 1%        |\n",
       "| g12   |  0.0186849661 | 0.0108669274 |   1.7194342 | Stat significant at 10%       |\n",
       "| g21   | -0.0380776406 | 0.0295218483 |  -1.2898122 | Not Statistically Significant |\n",
       "| g22   |  0.9670248087 | 0.0091676247 | 105.4825907 | Stat significant at 1%        |\n",
       "\n"
      ],
      "text/plain": [
       "   Parameters Coefficient   Std_error    T_value    \n",
       "1  mu10        0.0004178811 0.0005160854   0.8097132\n",
       "2  mu20        0.0001806640 0.0002013737   0.8971575\n",
       "3  phi11       0.0120302248 0.0310939477   0.3868992\n",
       "4  phi12       0.1821256857 0.0797707815   2.2831127\n",
       "5  phi21       0.0089112209 0.0121326918   0.7344801\n",
       "6  phi22       0.0608307014 0.0311261314   1.9543290\n",
       "7  a11         0.2474364737 0.0270039107   9.1629867\n",
       "8  a12        -0.0345252811 0.0126179456  -2.7362046\n",
       "9  a21         0.1418848309 0.0808345244   1.7552504\n",
       "10 a22         0.2258298203 0.0278228967   8.1166897\n",
       "11 g11         0.8959094951 0.0260215548  34.4295143\n",
       "12 g12         0.0186849661 0.0108669274   1.7194342\n",
       "13 g21        -0.0380776406 0.0295218483  -1.2898122\n",
       "14 g22         0.9670248087 0.0091676247 105.4825907\n",
       "   Significant_at_5p_level      \n",
       "1  Not Statistically Significant\n",
       "2  Not Statistically Significant\n",
       "3  Not Statistically Significant\n",
       "4  Stat significant at 5%       \n",
       "5  Not Statistically Significant\n",
       "6  Stat significant at 10%      \n",
       "7  Stat significant at 1%       \n",
       "8  Stat significant at 1%       \n",
       "9  Stat significant at 10%      \n",
       "10 Stat significant at 1%       \n",
       "11 Stat significant at 1%       \n",
       "12 Stat significant at 10%      \n",
       "13 Not Statistically Significant\n",
       "14 Stat significant at 1%       "
      ]
     },
     "metadata": {},
     "output_type": "display_data"
    }
   ],
   "source": [
    "bekk5 <- data.frame(Parameters = c(\"mu10\",\"mu20\",\"phi11\",\"phi12\",\"phi21\",\"phi22\",\"a11\",\"a12\",\"a21\",\"a22\",\"g11\",\"g12\",\"g21\",\"g22\"),\n",
    "                   Coefficient = c(summary(var_bekk5)$varresult$lc$coefficients[\"const\",\"Estimate\"],summary(var_bekk5)$varresult$eurgbp$coefficients[\"const\",\"Estimate\"],\n",
    "                                   summary(var_bekk5)$varresult$lc$coefficients[\"lc.l1\",\"Estimate\"],summary(var_bekk5)$varresult$lc$coefficients[\"eurgbp.l1\",\"Estimate\"],\n",
    "                                   summary(var_bekk5)$varresult$eurgbp$coefficients[\"lc.l1\",\"Estimate\"],summary(var_bekk5)$varresult$eurgbp$coefficients[\"eurgbp.l1\",\"Estimate\"],\n",
    "                                   bekk5_fit$A[1,1],bekk5_fit$A[1,2],bekk5_fit$A[2,1],bekk5_fit$A[2,2],bekk5_fit$G[1,1],bekk5_fit$G[1,2],bekk5_fit$G[2,1],bekk5_fit$G[2,2]),\n",
    "                   Std_error = c(summary(var_bekk5)$varresult$lc$coefficients[\"const\",\"Std. Error\"],summary(var_bekk5)$varresult$eurgbp$coefficients[\"const\",\"Std. Error\"],\n",
    "                                   summary(var_bekk5)$varresult$lc$coefficients[\"lc.l1\",\"Std. Error\"],summary(var_bekk5)$varresult$lc$coefficients[\"eurgbp.l1\",\"Std. Error\"],\n",
    "                                   summary(var_bekk5)$varresult$eurgbp$coefficients[\"lc.l1\",\"Std. Error\"],summary(var_bekk5)$varresult$eurgbp$coefficients[\"eurgbp.l1\",\"Std. Error\"],\n",
    "                                   bekk5_fit$A_sd[1,1],bekk5_fit$A_sd[1,2],bekk5_fit$A_sd[2,1],bekk5_fit$A_sd[2,2],bekk5_fit$G_sd[1,1],bekk5_fit$G_sd[1,2],bekk5_fit$G_sd[2,1],bekk5_fit$G_sd[2,2]),\n",
    "                   T_value = c(summary(var_bekk5)$varresult$lc$coefficients[\"const\",\"t value\"],summary(var_bekk5)$varresult$eurgbp$coefficients[\"const\",\"t value\"],\n",
    "                                   summary(var_bekk5)$varresult$lc$coefficients[\"lc.l1\",\"t value\"],summary(var_bekk5)$varresult$lc$coefficients[\"eurgbp.l1\",\"t value\"],\n",
    "                                   summary(var_bekk5)$varresult$eurgbp$coefficients[\"lc.l1\",\"t value\"],summary(var_bekk5)$varresult$eurgbp$coefficients[\"eurgbp.l1\",\"t value\"],\n",
    "                                   bekk5_fit$A_t[1,1],bekk5_fit$A_t[1,2],bekk5_fit$A_t[2,1],bekk5_fit$A_t[2,2],bekk5_fit$G_t[1,1],bekk5_fit$G_t[1,2],bekk5_fit$G_t[2,1],bekk5_fit$G_t[2,2]))\n",
    "\n",
    "bekk5$Significant_at_5p_level[abs(bekk5$T_value) >= 2.58 ] <- \"Stat significant at 1%\"\n",
    "bekk5$Significant_at_5p_level[abs(bekk5$T_value) > 1.96 & abs(bekk5$T_value) < 2.58] <- \"Stat significant at 5%\"\n",
    "bekk5$Significant_at_5p_level[abs(bekk5$T_value) > 1.645 & abs(bekk5$T_value) <= 1.96 ] <- \"Stat significant at 10%\"\n",
    "bekk5$Significant_at_5p_level[abs(bekk5$T_value) <= 1.645] <- \"Not Statistically Significant\"\n",
    "bekk5"
   ]
  },
  {
   "cell_type": "code",
   "execution_count": 73,
   "id": "d5ef4fb9-f0b8-4991-99f2-c49e88546186",
   "metadata": {},
   "outputs": [
    {
     "data": {
      "text/plain": [
       "\n",
       "\tGranger causality H0: lc do not Granger-cause eurgbp\n",
       "\n",
       "data:  VAR object var_bekk5\n",
       "F-Test = 0.53946, df1 = 1, df2 = 2090, p-value = 0.4627\n"
      ]
     },
     "metadata": {},
     "output_type": "display_data"
    },
    {
     "data": {
      "text/plain": [
       "\n",
       "\tGranger causality H0: eurgbp do not Granger-cause lc\n",
       "\n",
       "data:  VAR object var_bekk5\n",
       "F-Test = 5.2126, df1 = 1, df2 = 2090, p-value = 0.02252\n"
      ]
     },
     "metadata": {},
     "output_type": "display_data"
    }
   ],
   "source": [
    "causality(var_bekk5,cause = \"lc\")$Granger\n",
    "causality(var_bekk5,cause = \"eurgbp\")$Granger"
   ]
  },
  {
   "cell_type": "markdown",
   "id": "34608bf8-8d5e-4d46-8dd6-00748af5b210",
   "metadata": {},
   "source": [
    "## (c) VAR-BEKK: London Cocoa-CHFGBP"
   ]
  },
  {
   "cell_type": "code",
   "execution_count": 74,
   "id": "15753655-76ae-49ff-802c-0d97c91f5be0",
   "metadata": {},
   "outputs": [
    {
     "data": {
      "text/plain": [
       "                     lc        chfgbp\n",
       "2007-07-06  0.005272420  0.0001273483\n",
       "2007-07-09 -0.013233541 -0.0009873737\n",
       "2007-07-10 -0.040784991  0.0059364761\n",
       "2007-07-11  0.019240172 -0.0057330414\n",
       "2007-07-12  0.004526943  0.0037670817\n",
       "2007-07-13 -0.004526943 -0.0020261005"
      ]
     },
     "metadata": {},
     "output_type": "display_data"
    },
    {
     "data": {
      "text/plain": [
       "                     lc        chfgbp\n",
       "2011-09-23 -0.022397353 -0.0056419176\n",
       "2011-09-26  0.006772035 -0.0009013486\n",
       "2011-09-27  0.006726483  0.0008705228\n",
       "2011-09-28 -0.016901811 -0.0004106353\n",
       "2011-09-29  0.007923075 -0.0004556802\n",
       "2011-09-30 -0.026272214 -0.0090966262"
      ]
     },
     "metadata": {},
     "output_type": "display_data"
    }
   ],
   "source": [
    "bekk6data <- l_d[,c(1,4)]\n",
    "head(bekk6data)\n",
    "tail(bekk6data)"
   ]
  },
  {
   "cell_type": "code",
   "execution_count": 75,
   "id": "5cdc9c04-a6f5-48b6-bfc8-48e5394d0aac",
   "metadata": {},
   "outputs": [
    {
     "data": {
      "text/html": [
       "<dl>\n",
       "\t<dt>$selection</dt>\n",
       "\t\t<dd><style>\n",
       ".dl-inline {width: auto; margin:0; padding: 0}\n",
       ".dl-inline>dt, .dl-inline>dd {float: none; width: auto; display: inline-block}\n",
       ".dl-inline>dt::after {content: \":\\0020\"; padding-right: .5ex}\n",
       ".dl-inline>dt:not(:first-of-type) {padding-left: .5ex}\n",
       "</style><dl class=dl-inline><dt>AIC(n)</dt><dd>1</dd><dt>HQ(n)</dt><dd>1</dd><dt>SC(n)</dt><dd>1</dd><dt>FPE(n)</dt><dd>1</dd></dl>\n",
       "</dd>\n",
       "\t<dt>$criteria</dt>\n",
       "\t\t<dd><table class=\"dataframe\">\n",
       "<caption>A matrix: 4 × 10 of type dbl</caption>\n",
       "<thead>\n",
       "\t<tr><th></th><th scope=col>1</th><th scope=col>2</th><th scope=col>3</th><th scope=col>4</th><th scope=col>5</th><th scope=col>6</th><th scope=col>7</th><th scope=col>8</th><th scope=col>9</th><th scope=col>10</th></tr>\n",
       "</thead>\n",
       "<tbody>\n",
       "\t<tr><th scope=row>AIC(n)</th><td>-1.760332e+01</td><td>-1.759807e+01</td><td>-1.759577e+01</td><td>-1.758893e+01</td><td>-1.758279e+01</td><td>-1.757816e+01</td><td>-1.757509e+01</td><td>-1.756959e+01</td><td>-1.756711e+01</td><td>-1.756666e+01</td></tr>\n",
       "\t<tr><th scope=row>HQ(n)</th><td>-1.759248e+01</td><td>-1.758001e+01</td><td>-1.757049e+01</td><td>-1.755642e+01</td><td>-1.754306e+01</td><td>-1.753120e+01</td><td>-1.752091e+01</td><td>-1.750819e+01</td><td>-1.749849e+01</td><td>-1.749081e+01</td></tr>\n",
       "\t<tr><th scope=row>SC(n)</th><td>-1.757475e+01</td><td>-1.755047e+01</td><td>-1.752913e+01</td><td>-1.750324e+01</td><td>-1.747806e+01</td><td>-1.745439e+01</td><td>-1.743228e+01</td><td>-1.740774e+01</td><td>-1.738622e+01</td><td>-1.736672e+01</td></tr>\n",
       "\t<tr><th scope=row>FPE(n)</th><td> 2.264526e-08</td><td> 2.276438e-08</td><td> 2.281673e-08</td><td> 2.297349e-08</td><td> 2.311497e-08</td><td> 2.322223e-08</td><td> 2.329361e-08</td><td> 2.342214e-08</td><td> 2.348025e-08</td><td> 2.349101e-08</td></tr>\n",
       "</tbody>\n",
       "</table>\n",
       "</dd>\n",
       "</dl>\n"
      ],
      "text/latex": [
       "\\begin{description}\n",
       "\\item[\\$selection] \\begin{description*}\n",
       "\\item[AIC(n)] 1\n",
       "\\item[HQ(n)] 1\n",
       "\\item[SC(n)] 1\n",
       "\\item[FPE(n)] 1\n",
       "\\end{description*}\n",
       "\n",
       "\\item[\\$criteria] A matrix: 4 × 10 of type dbl\n",
       "\\begin{tabular}{r|llllllllll}\n",
       "  & 1 & 2 & 3 & 4 & 5 & 6 & 7 & 8 & 9 & 10\\\\\n",
       "\\hline\n",
       "\tAIC(n) & -1.760332e+01 & -1.759807e+01 & -1.759577e+01 & -1.758893e+01 & -1.758279e+01 & -1.757816e+01 & -1.757509e+01 & -1.756959e+01 & -1.756711e+01 & -1.756666e+01\\\\\n",
       "\tHQ(n) & -1.759248e+01 & -1.758001e+01 & -1.757049e+01 & -1.755642e+01 & -1.754306e+01 & -1.753120e+01 & -1.752091e+01 & -1.750819e+01 & -1.749849e+01 & -1.749081e+01\\\\\n",
       "\tSC(n) & -1.757475e+01 & -1.755047e+01 & -1.752913e+01 & -1.750324e+01 & -1.747806e+01 & -1.745439e+01 & -1.743228e+01 & -1.740774e+01 & -1.738622e+01 & -1.736672e+01\\\\\n",
       "\tFPE(n) &  2.264526e-08 &  2.276438e-08 &  2.281673e-08 &  2.297349e-08 &  2.311497e-08 &  2.322223e-08 &  2.329361e-08 &  2.342214e-08 &  2.348025e-08 &  2.349101e-08\\\\\n",
       "\\end{tabular}\n",
       "\n",
       "\\end{description}\n"
      ],
      "text/markdown": [
       "$selection\n",
       ":   AIC(n)\n",
       ":   1HQ(n)\n",
       ":   1SC(n)\n",
       ":   1FPE(n)\n",
       ":   1\n",
       "\n",
       "\n",
       "$criteria\n",
       ":   \n",
       "A matrix: 4 × 10 of type dbl\n",
       "\n",
       "| <!--/--> | 1 | 2 | 3 | 4 | 5 | 6 | 7 | 8 | 9 | 10 |\n",
       "|---|---|---|---|---|---|---|---|---|---|---|\n",
       "| AIC(n) | -1.760332e+01 | -1.759807e+01 | -1.759577e+01 | -1.758893e+01 | -1.758279e+01 | -1.757816e+01 | -1.757509e+01 | -1.756959e+01 | -1.756711e+01 | -1.756666e+01 |\n",
       "| HQ(n) | -1.759248e+01 | -1.758001e+01 | -1.757049e+01 | -1.755642e+01 | -1.754306e+01 | -1.753120e+01 | -1.752091e+01 | -1.750819e+01 | -1.749849e+01 | -1.749081e+01 |\n",
       "| SC(n) | -1.757475e+01 | -1.755047e+01 | -1.752913e+01 | -1.750324e+01 | -1.747806e+01 | -1.745439e+01 | -1.743228e+01 | -1.740774e+01 | -1.738622e+01 | -1.736672e+01 |\n",
       "| FPE(n) |  2.264526e-08 |  2.276438e-08 |  2.281673e-08 |  2.297349e-08 |  2.311497e-08 |  2.322223e-08 |  2.329361e-08 |  2.342214e-08 |  2.348025e-08 |  2.349101e-08 |\n",
       "\n",
       "\n",
       "\n",
       "\n"
      ],
      "text/plain": [
       "$selection\n",
       "AIC(n)  HQ(n)  SC(n) FPE(n) \n",
       "     1      1      1      1 \n",
       "\n",
       "$criteria\n",
       "                   1             2             3             4             5\n",
       "AIC(n) -1.760332e+01 -1.759807e+01 -1.759577e+01 -1.758893e+01 -1.758279e+01\n",
       "HQ(n)  -1.759248e+01 -1.758001e+01 -1.757049e+01 -1.755642e+01 -1.754306e+01\n",
       "SC(n)  -1.757475e+01 -1.755047e+01 -1.752913e+01 -1.750324e+01 -1.747806e+01\n",
       "FPE(n)  2.264526e-08  2.276438e-08  2.281673e-08  2.297349e-08  2.311497e-08\n",
       "                   6             7             8             9            10\n",
       "AIC(n) -1.757816e+01 -1.757509e+01 -1.756959e+01 -1.756711e+01 -1.756666e+01\n",
       "HQ(n)  -1.753120e+01 -1.752091e+01 -1.750819e+01 -1.749849e+01 -1.749081e+01\n",
       "SC(n)  -1.745439e+01 -1.743228e+01 -1.740774e+01 -1.738622e+01 -1.736672e+01\n",
       "FPE(n)  2.322223e-08  2.329361e-08  2.342214e-08  2.348025e-08  2.349101e-08\n"
      ]
     },
     "metadata": {},
     "output_type": "display_data"
    }
   ],
   "source": [
    "VARselect(bekk6data,type = \"const\")"
   ]
  },
  {
   "cell_type": "code",
   "execution_count": 76,
   "id": "1f1c145b-5ea4-456e-86b2-59313ec57443",
   "metadata": {},
   "outputs": [],
   "source": [
    "var_bekk6<-VAR(bekk6data,p = 1,type = \"const\")\n",
    "res_bekk6 <- residuals(var_bekk6)\n",
    "res_bekk6 <- as.data.frame(res_bekk6)"
   ]
  },
  {
   "cell_type": "code",
   "execution_count": 77,
   "id": "7678d5e2-2134-4eca-881d-cae4d6cd38a6",
   "metadata": {},
   "outputs": [
    {
     "data": {
      "text/plain": [
       "\n",
       "VAR Estimation Results:\n",
       "========================= \n",
       "Endogenous variables: lc, chfgbp \n",
       "Deterministic variables: const \n",
       "Sample size: 1048 \n",
       "Log Likelihood: 6259.506 \n",
       "Roots of the characteristic polynomial:\n",
       "0.0505 0.01526\n",
       "Call:\n",
       "VAR(y = bekk6data, p = 1, type = \"const\")\n",
       "\n",
       "\n",
       "Estimation results for equation lc: \n",
       "=================================== \n",
       "lc = lc.l1 + chfgbp.l1 + const \n",
       "\n",
       "           Estimate Std. Error t value Pr(>|t|)\n",
       "lc.l1     0.0192093  0.0309526   0.621    0.535\n",
       "chfgbp.l1 0.0712497  0.0578372   1.232    0.218\n",
       "const     0.0004198  0.0005175   0.811    0.417\n",
       "\n",
       "\n",
       "Residual standard error: 0.01672 on 1045 degrees of freedom\n",
       "Multiple R-Squared: 0.001856,\tAdjusted R-squared: -5.409e-05 \n",
       "F-statistic: 0.9717 on 2 and 1045 DF,  p-value: 0.3788 \n",
       "\n",
       "\n",
       "Estimation results for equation chfgbp: \n",
       "======================================= \n",
       "chfgbp = lc.l1 + chfgbp.l1 + const \n",
       "\n",
       "           Estimate Std. Error t value Pr(>|t|)\n",
       "lc.l1     0.0151378  0.0165606   0.914    0.361\n",
       "chfgbp.l1 0.0160296  0.0309448   0.518    0.605\n",
       "const     0.0004427  0.0002769   1.599    0.110\n",
       "\n",
       "\n",
       "Residual standard error: 0.008947 on 1045 degrees of freedom\n",
       "Multiple R-Squared: 0.001079,\tAdjusted R-squared: -0.0008326 \n",
       "F-statistic: 0.5645 on 2 and 1045 DF,  p-value: 0.5688 \n",
       "\n",
       "\n",
       "\n",
       "Covariance matrix of residuals:\n",
       "              lc    chfgbp\n",
       "lc     2.796e-04 3.918e-06\n",
       "chfgbp 3.918e-06 8.005e-05\n",
       "\n",
       "Correlation matrix of residuals:\n",
       "            lc  chfgbp\n",
       "lc     1.00000 0.02619\n",
       "chfgbp 0.02619 1.00000\n",
       "\n"
      ]
     },
     "metadata": {},
     "output_type": "display_data"
    }
   ],
   "source": [
    "summary(var_bekk6)"
   ]
  },
  {
   "cell_type": "code",
   "execution_count": 78,
   "id": "b5b6ca40-20b1-4a91-9b7d-e37e6755c6e1",
   "metadata": {},
   "outputs": [
    {
     "name": "stdout",
     "output_type": "stream",
     "text": [
      " Date[1:1048], format: \"2007-07-09\" \"2007-07-10\" \"2007-07-11\" \"2007-07-12\" \"2007-07-13\" ...\n"
     ]
    }
   ],
   "source": [
    "ind_var6 <- index(bekk6data)[-1]\n",
    "str(ind_var6)"
   ]
  },
  {
   "cell_type": "code",
   "execution_count": 79,
   "id": "0e1dfeac-5ac6-479c-bf4e-f497d9b5fb2b",
   "metadata": {},
   "outputs": [],
   "source": [
    "res_bekk6 <- xts(res_bekk6,order.by = ind_var6)\n",
    "bekk_spec <- bekk_spec(model = list(type = \"bekk\",asymmetric = F))\n",
    "bekk6_fit <- bekk_fit(spec = bekk_spec,data = res_bekk6)"
   ]
  },
  {
   "cell_type": "code",
   "execution_count": 80,
   "id": "345ffb04-287f-49ab-bde4-1e9757e76669",
   "metadata": {},
   "outputs": [
    {
     "data": {
      "text/html": [
       "<table class=\"dataframe\">\n",
       "<caption>A matrix: 2 × 2 of type dbl</caption>\n",
       "<tbody>\n",
       "\t<tr><td>0.3150766</td><td>-0.02513636</td></tr>\n",
       "\t<tr><td>0.1619242</td><td> 0.31016499</td></tr>\n",
       "</tbody>\n",
       "</table>\n"
      ],
      "text/latex": [
       "A matrix: 2 × 2 of type dbl\n",
       "\\begin{tabular}{ll}\n",
       "\t 0.3150766 & -0.02513636\\\\\n",
       "\t 0.1619242 &  0.31016499\\\\\n",
       "\\end{tabular}\n"
      ],
      "text/markdown": [
       "\n",
       "A matrix: 2 × 2 of type dbl\n",
       "\n",
       "| 0.3150766 | -0.02513636 |\n",
       "| 0.1619242 |  0.31016499 |\n",
       "\n"
      ],
      "text/plain": [
       "     [,1]      [,2]       \n",
       "[1,] 0.3150766 -0.02513636\n",
       "[2,] 0.1619242  0.31016499"
      ]
     },
     "metadata": {},
     "output_type": "display_data"
    },
    {
     "data": {
      "text/html": [
       "<table class=\"dataframe\">\n",
       "<caption>A matrix: 2 × 2 of type dbl</caption>\n",
       "<tbody>\n",
       "\t<tr><td>6.865311</td><td>-1.139447</td></tr>\n",
       "\t<tr><td>2.003291</td><td>11.323514</td></tr>\n",
       "</tbody>\n",
       "</table>\n"
      ],
      "text/latex": [
       "A matrix: 2 × 2 of type dbl\n",
       "\\begin{tabular}{ll}\n",
       "\t 6.865311 & -1.139447\\\\\n",
       "\t 2.003291 & 11.323514\\\\\n",
       "\\end{tabular}\n"
      ],
      "text/markdown": [
       "\n",
       "A matrix: 2 × 2 of type dbl\n",
       "\n",
       "| 6.865311 | -1.139447 |\n",
       "| 2.003291 | 11.323514 |\n",
       "\n"
      ],
      "text/plain": [
       "     [,1]     [,2]     \n",
       "[1,] 6.865311 -1.139447\n",
       "[2,] 2.003291 11.323514"
      ]
     },
     "metadata": {},
     "output_type": "display_data"
    }
   ],
   "source": [
    "bekk6_fit$A\n",
    "bekk6_fit$A_t"
   ]
  },
  {
   "cell_type": "code",
   "execution_count": 81,
   "id": "250ecd03-a063-4f3e-874d-1008e7143d56",
   "metadata": {},
   "outputs": [
    {
     "data": {
      "text/html": [
       "<table class=\"dataframe\">\n",
       "<caption>A matrix: 2 × 2 of type dbl</caption>\n",
       "<tbody>\n",
       "\t<tr><td> 0.64332279</td><td>-0.05486202</td></tr>\n",
       "\t<tr><td>-0.02453976</td><td> 0.94284744</td></tr>\n",
       "</tbody>\n",
       "</table>\n"
      ],
      "text/latex": [
       "A matrix: 2 × 2 of type dbl\n",
       "\\begin{tabular}{ll}\n",
       "\t  0.64332279 & -0.05486202\\\\\n",
       "\t -0.02453976 &  0.94284744\\\\\n",
       "\\end{tabular}\n"
      ],
      "text/markdown": [
       "\n",
       "A matrix: 2 × 2 of type dbl\n",
       "\n",
       "|  0.64332279 | -0.05486202 |\n",
       "| -0.02453976 |  0.94284744 |\n",
       "\n"
      ],
      "text/plain": [
       "     [,1]        [,2]       \n",
       "[1,]  0.64332279 -0.05486202\n",
       "[2,] -0.02453976  0.94284744"
      ]
     },
     "metadata": {},
     "output_type": "display_data"
    },
    {
     "data": {
      "text/html": [
       "<table class=\"dataframe\">\n",
       "<caption>A matrix: 2 × 2 of type dbl</caption>\n",
       "<tbody>\n",
       "\t<tr><td> 7.6091071</td><td>-1.746292</td></tr>\n",
       "\t<tr><td>-0.5520533</td><td>96.390180</td></tr>\n",
       "</tbody>\n",
       "</table>\n"
      ],
      "text/latex": [
       "A matrix: 2 × 2 of type dbl\n",
       "\\begin{tabular}{ll}\n",
       "\t  7.6091071 & -1.746292\\\\\n",
       "\t -0.5520533 & 96.390180\\\\\n",
       "\\end{tabular}\n"
      ],
      "text/markdown": [
       "\n",
       "A matrix: 2 × 2 of type dbl\n",
       "\n",
       "|  7.6091071 | -1.746292 |\n",
       "| -0.5520533 | 96.390180 |\n",
       "\n"
      ],
      "text/plain": [
       "     [,1]       [,2]     \n",
       "[1,]  7.6091071 -1.746292\n",
       "[2,] -0.5520533 96.390180"
      ]
     },
     "metadata": {},
     "output_type": "display_data"
    }
   ],
   "source": [
    "bekk6_fit$G\n",
    "bekk6_fit$G_t"
   ]
  },
  {
   "cell_type": "markdown",
   "id": "03b0ebd9-790a-421e-b884-7faa0abe21de",
   "metadata": {},
   "source": [
    "### VAR-BEKK Model Table for London Cocoa-CHFGBP"
   ]
  },
  {
   "cell_type": "code",
   "execution_count": 82,
   "id": "2936654b-e9d3-4e4e-870f-b46605ce1f78",
   "metadata": {},
   "outputs": [
    {
     "data": {
      "text/html": [
       "<table class=\"dataframe\">\n",
       "<caption>A data.frame: 14 × 5</caption>\n",
       "<thead>\n",
       "\t<tr><th scope=col>Parameters</th><th scope=col>Coefficient</th><th scope=col>Std_error</th><th scope=col>T_value</th><th scope=col>Significant_at_5p_level</th></tr>\n",
       "\t<tr><th scope=col>&lt;chr&gt;</th><th scope=col>&lt;dbl&gt;</th><th scope=col>&lt;dbl&gt;</th><th scope=col>&lt;dbl&gt;</th><th scope=col>&lt;chr&gt;</th></tr>\n",
       "</thead>\n",
       "<tbody>\n",
       "\t<tr><td>mu10 </td><td> 0.0004198342</td><td>0.0005174547</td><td> 0.8113449</td><td>Not Statistically Significant</td></tr>\n",
       "\t<tr><td>mu20 </td><td> 0.0004426845</td><td>0.0002768553</td><td> 1.5989746</td><td>Not Statistically Significant</td></tr>\n",
       "\t<tr><td>phi11</td><td> 0.0192092597</td><td>0.0309525649</td><td> 0.6206032</td><td>Not Statistically Significant</td></tr>\n",
       "\t<tr><td>phi12</td><td> 0.0712496853</td><td>0.0578372495</td><td> 1.2318996</td><td>Not Statistically Significant</td></tr>\n",
       "\t<tr><td>phi21</td><td> 0.0151378133</td><td>0.0165606390</td><td> 0.9140839</td><td>Not Statistically Significant</td></tr>\n",
       "\t<tr><td>phi22</td><td> 0.0160296172</td><td>0.0309448283</td><td> 0.5180063</td><td>Not Statistically Significant</td></tr>\n",
       "\t<tr><td>a11  </td><td> 0.3150765591</td><td>0.0458939991</td><td> 6.8653106</td><td>Stat significant at 1%       </td></tr>\n",
       "\t<tr><td>a12  </td><td>-0.0251363602</td><td>0.0220601367</td><td>-1.1394472</td><td>Not Statistically Significant</td></tr>\n",
       "\t<tr><td>a21  </td><td> 0.1619242038</td><td>0.0808291149</td><td> 2.0032906</td><td>Stat significant at 5%       </td></tr>\n",
       "\t<tr><td>a22  </td><td> 0.3101649915</td><td>0.0273912320</td><td>11.3235137</td><td>Stat significant at 1%       </td></tr>\n",
       "\t<tr><td>g11  </td><td> 0.6433227914</td><td>0.0845464232</td><td> 7.6091071</td><td>Stat significant at 1%       </td></tr>\n",
       "\t<tr><td>g12  </td><td>-0.0548620249</td><td>0.0314162864</td><td>-1.7462925</td><td>Stat significant at 10%      </td></tr>\n",
       "\t<tr><td>g21  </td><td>-0.0245397624</td><td>0.0444517953</td><td>-0.5520533</td><td>Not Statistically Significant</td></tr>\n",
       "\t<tr><td>g22  </td><td> 0.9428474379</td><td>0.0097815715</td><td>96.3901796</td><td>Stat significant at 1%       </td></tr>\n",
       "</tbody>\n",
       "</table>\n"
      ],
      "text/latex": [
       "A data.frame: 14 × 5\n",
       "\\begin{tabular}{lllll}\n",
       " Parameters & Coefficient & Std\\_error & T\\_value & Significant\\_at\\_5p\\_level\\\\\n",
       " <chr> & <dbl> & <dbl> & <dbl> & <chr>\\\\\n",
       "\\hline\n",
       "\t mu10  &  0.0004198342 & 0.0005174547 &  0.8113449 & Not Statistically Significant\\\\\n",
       "\t mu20  &  0.0004426845 & 0.0002768553 &  1.5989746 & Not Statistically Significant\\\\\n",
       "\t phi11 &  0.0192092597 & 0.0309525649 &  0.6206032 & Not Statistically Significant\\\\\n",
       "\t phi12 &  0.0712496853 & 0.0578372495 &  1.2318996 & Not Statistically Significant\\\\\n",
       "\t phi21 &  0.0151378133 & 0.0165606390 &  0.9140839 & Not Statistically Significant\\\\\n",
       "\t phi22 &  0.0160296172 & 0.0309448283 &  0.5180063 & Not Statistically Significant\\\\\n",
       "\t a11   &  0.3150765591 & 0.0458939991 &  6.8653106 & Stat significant at 1\\%       \\\\\n",
       "\t a12   & -0.0251363602 & 0.0220601367 & -1.1394472 & Not Statistically Significant\\\\\n",
       "\t a21   &  0.1619242038 & 0.0808291149 &  2.0032906 & Stat significant at 5\\%       \\\\\n",
       "\t a22   &  0.3101649915 & 0.0273912320 & 11.3235137 & Stat significant at 1\\%       \\\\\n",
       "\t g11   &  0.6433227914 & 0.0845464232 &  7.6091071 & Stat significant at 1\\%       \\\\\n",
       "\t g12   & -0.0548620249 & 0.0314162864 & -1.7462925 & Stat significant at 10\\%      \\\\\n",
       "\t g21   & -0.0245397624 & 0.0444517953 & -0.5520533 & Not Statistically Significant\\\\\n",
       "\t g22   &  0.9428474379 & 0.0097815715 & 96.3901796 & Stat significant at 1\\%       \\\\\n",
       "\\end{tabular}\n"
      ],
      "text/markdown": [
       "\n",
       "A data.frame: 14 × 5\n",
       "\n",
       "| Parameters &lt;chr&gt; | Coefficient &lt;dbl&gt; | Std_error &lt;dbl&gt; | T_value &lt;dbl&gt; | Significant_at_5p_level &lt;chr&gt; |\n",
       "|---|---|---|---|---|\n",
       "| mu10  |  0.0004198342 | 0.0005174547 |  0.8113449 | Not Statistically Significant |\n",
       "| mu20  |  0.0004426845 | 0.0002768553 |  1.5989746 | Not Statistically Significant |\n",
       "| phi11 |  0.0192092597 | 0.0309525649 |  0.6206032 | Not Statistically Significant |\n",
       "| phi12 |  0.0712496853 | 0.0578372495 |  1.2318996 | Not Statistically Significant |\n",
       "| phi21 |  0.0151378133 | 0.0165606390 |  0.9140839 | Not Statistically Significant |\n",
       "| phi22 |  0.0160296172 | 0.0309448283 |  0.5180063 | Not Statistically Significant |\n",
       "| a11   |  0.3150765591 | 0.0458939991 |  6.8653106 | Stat significant at 1%        |\n",
       "| a12   | -0.0251363602 | 0.0220601367 | -1.1394472 | Not Statistically Significant |\n",
       "| a21   |  0.1619242038 | 0.0808291149 |  2.0032906 | Stat significant at 5%        |\n",
       "| a22   |  0.3101649915 | 0.0273912320 | 11.3235137 | Stat significant at 1%        |\n",
       "| g11   |  0.6433227914 | 0.0845464232 |  7.6091071 | Stat significant at 1%        |\n",
       "| g12   | -0.0548620249 | 0.0314162864 | -1.7462925 | Stat significant at 10%       |\n",
       "| g21   | -0.0245397624 | 0.0444517953 | -0.5520533 | Not Statistically Significant |\n",
       "| g22   |  0.9428474379 | 0.0097815715 | 96.3901796 | Stat significant at 1%        |\n",
       "\n"
      ],
      "text/plain": [
       "   Parameters Coefficient   Std_error    T_value   \n",
       "1  mu10        0.0004198342 0.0005174547  0.8113449\n",
       "2  mu20        0.0004426845 0.0002768553  1.5989746\n",
       "3  phi11       0.0192092597 0.0309525649  0.6206032\n",
       "4  phi12       0.0712496853 0.0578372495  1.2318996\n",
       "5  phi21       0.0151378133 0.0165606390  0.9140839\n",
       "6  phi22       0.0160296172 0.0309448283  0.5180063\n",
       "7  a11         0.3150765591 0.0458939991  6.8653106\n",
       "8  a12        -0.0251363602 0.0220601367 -1.1394472\n",
       "9  a21         0.1619242038 0.0808291149  2.0032906\n",
       "10 a22         0.3101649915 0.0273912320 11.3235137\n",
       "11 g11         0.6433227914 0.0845464232  7.6091071\n",
       "12 g12        -0.0548620249 0.0314162864 -1.7462925\n",
       "13 g21        -0.0245397624 0.0444517953 -0.5520533\n",
       "14 g22         0.9428474379 0.0097815715 96.3901796\n",
       "   Significant_at_5p_level      \n",
       "1  Not Statistically Significant\n",
       "2  Not Statistically Significant\n",
       "3  Not Statistically Significant\n",
       "4  Not Statistically Significant\n",
       "5  Not Statistically Significant\n",
       "6  Not Statistically Significant\n",
       "7  Stat significant at 1%       \n",
       "8  Not Statistically Significant\n",
       "9  Stat significant at 5%       \n",
       "10 Stat significant at 1%       \n",
       "11 Stat significant at 1%       \n",
       "12 Stat significant at 10%      \n",
       "13 Not Statistically Significant\n",
       "14 Stat significant at 1%       "
      ]
     },
     "metadata": {},
     "output_type": "display_data"
    }
   ],
   "source": [
    "bekk6 <- data.frame(Parameters = c(\"mu10\",\"mu20\",\"phi11\",\"phi12\",\"phi21\",\"phi22\",\"a11\",\"a12\",\"a21\",\"a22\",\"g11\",\"g12\",\"g21\",\"g22\"),\n",
    "                   Coefficient = c(summary(var_bekk6)$varresult$lc$coefficients[\"const\",\"Estimate\"],summary(var_bekk6)$varresult$chfgbp$coefficients[\"const\",\"Estimate\"],\n",
    "                                   summary(var_bekk6)$varresult$lc$coefficients[\"lc.l1\",\"Estimate\"],summary(var_bekk6)$varresult$lc$coefficients[\"chfgbp.l1\",\"Estimate\"],\n",
    "                                   summary(var_bekk6)$varresult$chfgbp$coefficients[\"lc.l1\",\"Estimate\"],summary(var_bekk6)$varresult$chfgbp$coefficients[\"chfgbp.l1\",\"Estimate\"],\n",
    "                                   bekk6_fit$A[1,1],bekk6_fit$A[1,2],bekk6_fit$A[2,1],bekk6_fit$A[2,2],bekk6_fit$G[1,1],bekk6_fit$G[1,2],bekk6_fit$G[2,1],bekk6_fit$G[2,2]),\n",
    "                   Std_error = c(summary(var_bekk6)$varresult$lc$coefficients[\"const\",\"Std. Error\"],summary(var_bekk6)$varresult$chfgbp$coefficients[\"const\",\"Std. Error\"],\n",
    "                                   summary(var_bekk6)$varresult$lc$coefficients[\"lc.l1\",\"Std. Error\"],summary(var_bekk6)$varresult$lc$coefficients[\"chfgbp.l1\",\"Std. Error\"],\n",
    "                                   summary(var_bekk6)$varresult$chfgbp$coefficients[\"lc.l1\",\"Std. Error\"],summary(var_bekk6)$varresult$chfgbp$coefficients[\"chfgbp.l1\",\"Std. Error\"],\n",
    "                                   bekk6_fit$A_sd[1,1],bekk6_fit$A_sd[1,2],bekk6_fit$A_sd[2,1],bekk6_fit$A_sd[2,2],bekk6_fit$G_sd[1,1],bekk6_fit$G_sd[1,2],bekk6_fit$G_sd[2,1],bekk6_fit$G_sd[2,2]),\n",
    "                   T_value = c(summary(var_bekk6)$varresult$lc$coefficients[\"const\",\"t value\"],summary(var_bekk6)$varresult$chfgbp$coefficients[\"const\",\"t value\"],\n",
    "                                   summary(var_bekk6)$varresult$lc$coefficients[\"lc.l1\",\"t value\"],summary(var_bekk6)$varresult$lc$coefficients[\"chfgbp.l1\",\"t value\"],\n",
    "                                   summary(var_bekk6)$varresult$chfgbp$coefficients[\"lc.l1\",\"t value\"],summary(var_bekk6)$varresult$chfgbp$coefficients[\"chfgbp.l1\",\"t value\"],\n",
    "                                   bekk6_fit$A_t[1,1],bekk6_fit$A_t[1,2],bekk6_fit$A_t[2,1],bekk6_fit$A_t[2,2],bekk6_fit$G_t[1,1],bekk6_fit$G_t[1,2],bekk6_fit$G_t[2,1],bekk6_fit$G_t[2,2]))\n",
    "\n",
    "bekk6$Significant_at_5p_level[abs(bekk6$T_value) >= 2.58 ] <- \"Stat significant at 1%\"\n",
    "bekk6$Significant_at_5p_level[abs(bekk6$T_value) > 1.96 & abs(bekk6$T_value) < 2.58] <- \"Stat significant at 5%\"\n",
    "bekk6$Significant_at_5p_level[abs(bekk6$T_value) > 1.645 & abs(bekk6$T_value) <= 1.96 ] <- \"Stat significant at 10%\"\n",
    "bekk6$Significant_at_5p_level[abs(bekk6$T_value) <= 1.645] <- \"Not Statistically Significant\"\n",
    "bekk6"
   ]
  },
  {
   "cell_type": "code",
   "execution_count": 83,
   "id": "2683a713-8603-4261-b356-c007e624de68",
   "metadata": {},
   "outputs": [
    {
     "data": {
      "text/plain": [
       "\n",
       "\tGranger causality H0: lc do not Granger-cause chfgbp\n",
       "\n",
       "data:  VAR object var_bekk6\n",
       "F-Test = 0.83555, df1 = 1, df2 = 2090, p-value = 0.3608\n"
      ]
     },
     "metadata": {},
     "output_type": "display_data"
    },
    {
     "data": {
      "text/plain": [
       "\n",
       "\tGranger causality H0: chfgbp do not Granger-cause lc\n",
       "\n",
       "data:  VAR object var_bekk6\n",
       "F-Test = 1.5176, df1 = 1, df2 = 2090, p-value = 0.2181\n"
      ]
     },
     "metadata": {},
     "output_type": "display_data"
    }
   ],
   "source": [
    "causality(var_bekk6,cause = \"lc\")$Granger\n",
    "causality(var_bekk6,cause = \"chfgbp\")$Granger"
   ]
  },
  {
   "cell_type": "markdown",
   "id": "5da8e1e4-9091-4536-a5d4-fe9994ff3e8b",
   "metadata": {},
   "source": [
    "## (d) VAR-BEKK Model for London Cocoa - GHSGBP"
   ]
  },
  {
   "cell_type": "code",
   "execution_count": 84,
   "id": "37fe29df-f190-47de-8946-952334ba0c80",
   "metadata": {},
   "outputs": [
    {
     "data": {
      "text/plain": [
       "                     lc        ghsgbp\n",
       "2007-07-06  0.005272420 -2.614079e-03\n",
       "2007-07-09 -0.013233541  1.236683e-03\n",
       "2007-07-10 -0.040784991 -5.801912e-03\n",
       "2007-07-11  0.019240172  4.994937e-05\n",
       "2007-07-12  0.004526943  3.716576e-03\n",
       "2007-07-13 -0.004526943 -7.210559e-03"
      ]
     },
     "metadata": {},
     "output_type": "display_data"
    },
    {
     "data": {
      "text/plain": [
       "                     lc       ghsgbp\n",
       "2011-09-23 -0.022397353 -0.017836194\n",
       "2011-09-26  0.006772035 -0.006455727\n",
       "2011-09-27  0.006726483 -0.004261738\n",
       "2011-09-28 -0.016901811  0.004078864\n",
       "2011-09-29  0.007923075 -0.008178170\n",
       "2011-09-30 -0.026272214 -0.002884669"
      ]
     },
     "metadata": {},
     "output_type": "display_data"
    }
   ],
   "source": [
    "bekk8data <- na.omit(merge(cr_d[,2],fr_d[,8]))\n",
    "head(bekk8data)\n",
    "tail(bekk8data)"
   ]
  },
  {
   "cell_type": "code",
   "execution_count": 85,
   "id": "23c58f59-6d2a-47c3-b0fc-772d867f7050",
   "metadata": {},
   "outputs": [
    {
     "data": {
      "text/html": [
       "<dl>\n",
       "\t<dt>$selection</dt>\n",
       "\t\t<dd><style>\n",
       ".dl-inline {width: auto; margin:0; padding: 0}\n",
       ".dl-inline>dt, .dl-inline>dd {float: none; width: auto; display: inline-block}\n",
       ".dl-inline>dt::after {content: \":\\0020\"; padding-right: .5ex}\n",
       ".dl-inline>dt:not(:first-of-type) {padding-left: .5ex}\n",
       "</style><dl class=dl-inline><dt>AIC(n)</dt><dd>2</dd><dt>HQ(n)</dt><dd>1</dd><dt>SC(n)</dt><dd>1</dd><dt>FPE(n)</dt><dd>2</dd></dl>\n",
       "</dd>\n",
       "\t<dt>$criteria</dt>\n",
       "\t\t<dd><table class=\"dataframe\">\n",
       "<caption>A matrix: 4 × 10 of type dbl</caption>\n",
       "<thead>\n",
       "\t<tr><th></th><th scope=col>1</th><th scope=col>2</th><th scope=col>3</th><th scope=col>4</th><th scope=col>5</th><th scope=col>6</th><th scope=col>7</th><th scope=col>8</th><th scope=col>9</th><th scope=col>10</th></tr>\n",
       "</thead>\n",
       "<tbody>\n",
       "\t<tr><th scope=row>AIC(n)</th><td>-1.736817e+01</td><td>-1.737000e+01</td><td>-1.736263e+01</td><td>-1.736016e+01</td><td>-1.736215e+01</td><td>-1.735870e+01</td><td>-1.735506e+01</td><td>-1.735085e+01</td><td>-1.734724e+01</td><td>-1.734239e+01</td></tr>\n",
       "\t<tr><th scope=row>HQ(n)</th><td>-1.735733e+01</td><td>-1.735194e+01</td><td>-1.733734e+01</td><td>-1.732766e+01</td><td>-1.732242e+01</td><td>-1.731175e+01</td><td>-1.730089e+01</td><td>-1.728944e+01</td><td>-1.727862e+01</td><td>-1.726654e+01</td></tr>\n",
       "\t<tr><th scope=row>SC(n)</th><td>-1.733960e+01</td><td>-1.732240e+01</td><td>-1.729598e+01</td><td>-1.727448e+01</td><td>-1.725742e+01</td><td>-1.723493e+01</td><td>-1.721225e+01</td><td>-1.718899e+01</td><td>-1.716635e+01</td><td>-1.714246e+01</td></tr>\n",
       "\t<tr><th scope=row>FPE(n)</th><td> 2.864849e-08</td><td> 2.859597e-08</td><td> 2.880762e-08</td><td> 2.887863e-08</td><td> 2.882144e-08</td><td> 2.892098e-08</td><td> 2.902643e-08</td><td> 2.914917e-08</td><td> 2.925439e-08</td><td> 2.939675e-08</td></tr>\n",
       "</tbody>\n",
       "</table>\n",
       "</dd>\n",
       "</dl>\n"
      ],
      "text/latex": [
       "\\begin{description}\n",
       "\\item[\\$selection] \\begin{description*}\n",
       "\\item[AIC(n)] 2\n",
       "\\item[HQ(n)] 1\n",
       "\\item[SC(n)] 1\n",
       "\\item[FPE(n)] 2\n",
       "\\end{description*}\n",
       "\n",
       "\\item[\\$criteria] A matrix: 4 × 10 of type dbl\n",
       "\\begin{tabular}{r|llllllllll}\n",
       "  & 1 & 2 & 3 & 4 & 5 & 6 & 7 & 8 & 9 & 10\\\\\n",
       "\\hline\n",
       "\tAIC(n) & -1.736817e+01 & -1.737000e+01 & -1.736263e+01 & -1.736016e+01 & -1.736215e+01 & -1.735870e+01 & -1.735506e+01 & -1.735085e+01 & -1.734724e+01 & -1.734239e+01\\\\\n",
       "\tHQ(n) & -1.735733e+01 & -1.735194e+01 & -1.733734e+01 & -1.732766e+01 & -1.732242e+01 & -1.731175e+01 & -1.730089e+01 & -1.728944e+01 & -1.727862e+01 & -1.726654e+01\\\\\n",
       "\tSC(n) & -1.733960e+01 & -1.732240e+01 & -1.729598e+01 & -1.727448e+01 & -1.725742e+01 & -1.723493e+01 & -1.721225e+01 & -1.718899e+01 & -1.716635e+01 & -1.714246e+01\\\\\n",
       "\tFPE(n) &  2.864849e-08 &  2.859597e-08 &  2.880762e-08 &  2.887863e-08 &  2.882144e-08 &  2.892098e-08 &  2.902643e-08 &  2.914917e-08 &  2.925439e-08 &  2.939675e-08\\\\\n",
       "\\end{tabular}\n",
       "\n",
       "\\end{description}\n"
      ],
      "text/markdown": [
       "$selection\n",
       ":   AIC(n)\n",
       ":   2HQ(n)\n",
       ":   1SC(n)\n",
       ":   1FPE(n)\n",
       ":   2\n",
       "\n",
       "\n",
       "$criteria\n",
       ":   \n",
       "A matrix: 4 × 10 of type dbl\n",
       "\n",
       "| <!--/--> | 1 | 2 | 3 | 4 | 5 | 6 | 7 | 8 | 9 | 10 |\n",
       "|---|---|---|---|---|---|---|---|---|---|---|\n",
       "| AIC(n) | -1.736817e+01 | -1.737000e+01 | -1.736263e+01 | -1.736016e+01 | -1.736215e+01 | -1.735870e+01 | -1.735506e+01 | -1.735085e+01 | -1.734724e+01 | -1.734239e+01 |\n",
       "| HQ(n) | -1.735733e+01 | -1.735194e+01 | -1.733734e+01 | -1.732766e+01 | -1.732242e+01 | -1.731175e+01 | -1.730089e+01 | -1.728944e+01 | -1.727862e+01 | -1.726654e+01 |\n",
       "| SC(n) | -1.733960e+01 | -1.732240e+01 | -1.729598e+01 | -1.727448e+01 | -1.725742e+01 | -1.723493e+01 | -1.721225e+01 | -1.718899e+01 | -1.716635e+01 | -1.714246e+01 |\n",
       "| FPE(n) |  2.864849e-08 |  2.859597e-08 |  2.880762e-08 |  2.887863e-08 |  2.882144e-08 |  2.892098e-08 |  2.902643e-08 |  2.914917e-08 |  2.925439e-08 |  2.939675e-08 |\n",
       "\n",
       "\n",
       "\n",
       "\n"
      ],
      "text/plain": [
       "$selection\n",
       "AIC(n)  HQ(n)  SC(n) FPE(n) \n",
       "     2      1      1      2 \n",
       "\n",
       "$criteria\n",
       "                   1             2             3             4             5\n",
       "AIC(n) -1.736817e+01 -1.737000e+01 -1.736263e+01 -1.736016e+01 -1.736215e+01\n",
       "HQ(n)  -1.735733e+01 -1.735194e+01 -1.733734e+01 -1.732766e+01 -1.732242e+01\n",
       "SC(n)  -1.733960e+01 -1.732240e+01 -1.729598e+01 -1.727448e+01 -1.725742e+01\n",
       "FPE(n)  2.864849e-08  2.859597e-08  2.880762e-08  2.887863e-08  2.882144e-08\n",
       "                   6             7             8             9            10\n",
       "AIC(n) -1.735870e+01 -1.735506e+01 -1.735085e+01 -1.734724e+01 -1.734239e+01\n",
       "HQ(n)  -1.731175e+01 -1.730089e+01 -1.728944e+01 -1.727862e+01 -1.726654e+01\n",
       "SC(n)  -1.723493e+01 -1.721225e+01 -1.718899e+01 -1.716635e+01 -1.714246e+01\n",
       "FPE(n)  2.892098e-08  2.902643e-08  2.914917e-08  2.925439e-08  2.939675e-08\n"
      ]
     },
     "metadata": {},
     "output_type": "display_data"
    }
   ],
   "source": [
    "VARselect(bekk8data,type = \"const\")"
   ]
  },
  {
   "cell_type": "code",
   "execution_count": 86,
   "id": "5bc6f047-9fff-4403-9ac0-0a26a7e70e1c",
   "metadata": {},
   "outputs": [],
   "source": [
    "var_bekk8<-VAR(bekk8data,p = 2,type = \"const\")\n",
    "res_bekk8 <- residuals(var_bekk8)\n",
    "res_bekk8 <- as.data.frame(res_bekk8)"
   ]
  },
  {
   "cell_type": "code",
   "execution_count": 87,
   "id": "246457d8-9666-472d-afc9-e09c14cc58d2",
   "metadata": {},
   "outputs": [
    {
     "data": {
      "text/plain": [
       "\n",
       "VAR Estimation Results:\n",
       "========================= \n",
       "Endogenous variables: lc, ghsgbp \n",
       "Deterministic variables: const \n",
       "Sample size: 1047 \n",
       "Log Likelihood: 6134.733 \n",
       "Roots of the characteristic polynomial:\n",
       "0.2701 0.2701 0.2156 0.1832\n",
       "Call:\n",
       "VAR(y = bekk8data, p = 2, type = \"const\")\n",
       "\n",
       "\n",
       "Estimation results for equation lc: \n",
       "=================================== \n",
       "lc = lc.l1 + ghsgbp.l1 + lc.l2 + ghsgbp.l2 + const \n",
       "\n",
       "            Estimate Std. Error t value Pr(>|t|)\n",
       "lc.l1      0.0190423  0.0310035   0.614    0.539\n",
       "ghsgbp.l1 -0.0269107  0.0514947  -0.523    0.601\n",
       "lc.l2      0.0442394  0.0309988   1.427    0.154\n",
       "ghsgbp.l2  0.0165855  0.0515080   0.322    0.748\n",
       "const      0.0004421  0.0005179   0.854    0.394\n",
       "\n",
       "\n",
       "Residual standard error: 0.01673 on 1042 degrees of freedom\n",
       "Multiple R-Squared: 0.002715,\tAdjusted R-squared: -0.001114 \n",
       "F-statistic: 0.7091 on 4 and 1042 DF,  p-value: 0.5858 \n",
       "\n",
       "\n",
       "Estimation results for equation ghsgbp: \n",
       "======================================= \n",
       "ghsgbp = lc.l1 + ghsgbp.l1 + lc.l2 + ghsgbp.l2 + const \n",
       "\n",
       "            Estimate Std. Error t value Pr(>|t|)    \n",
       "lc.l1      0.0068224  0.0185988   0.367   0.7138    \n",
       "ghsgbp.l1 -0.1269591  0.0308913  -4.110 4.27e-05 ***\n",
       "lc.l2     -0.0273992  0.0185959  -1.473   0.1409    \n",
       "ghsgbp.l2 -0.0754103  0.0308992  -2.441   0.0148 *  \n",
       "const     -0.0003064  0.0003107  -0.986   0.3243    \n",
       "---\n",
       "Signif. codes:  0 ‘***’ 0.001 ‘**’ 0.01 ‘*’ 0.05 ‘.’ 0.1 ‘ ’ 1\n",
       "\n",
       "\n",
       "Residual standard error: 0.01004 on 1042 degrees of freedom\n",
       "Multiple R-Squared: 0.02173,\tAdjusted R-squared: 0.01798 \n",
       "F-statistic: 5.788 on 4 and 1042 DF,  p-value: 0.0001314 \n",
       "\n",
       "\n",
       "\n",
       "Covariance matrix of residuals:\n",
       "               lc     ghsgbp\n",
       "lc      2.800e-04 -6.502e-06\n",
       "ghsgbp -6.502e-06  1.008e-04\n",
       "\n",
       "Correlation matrix of residuals:\n",
       "             lc   ghsgbp\n",
       "lc      1.00000 -0.03871\n",
       "ghsgbp -0.03871  1.00000\n",
       "\n"
      ]
     },
     "metadata": {},
     "output_type": "display_data"
    }
   ],
   "source": [
    "summary(var_bekk8)"
   ]
  },
  {
   "cell_type": "code",
   "execution_count": 88,
   "id": "1a89ec27-d3af-4492-b1ab-405565de5b4f",
   "metadata": {},
   "outputs": [
    {
     "name": "stdout",
     "output_type": "stream",
     "text": [
      " Date[1:1047], format: \"2007-07-10\" \"2007-07-11\" \"2007-07-12\" \"2007-07-13\" \"2007-07-16\" ...\n"
     ]
    }
   ],
   "source": [
    "ind_var8 <- index(bekk8data)[-c(1:2)]\n",
    "str(ind_var8)"
   ]
  },
  {
   "cell_type": "code",
   "execution_count": 89,
   "id": "72fd7a23-979a-4ff8-a603-05bf89f07a9c",
   "metadata": {},
   "outputs": [],
   "source": [
    "res_bekk8 <- xts(res_bekk8,order.by = ind_var8)\n",
    "bekk_spec <- bekk_spec(model = list(type = \"bekk\",asymmetric = F))\n",
    "bekk8_fit <- bekk_fit(spec = bekk_spec,data = res_bekk8)"
   ]
  },
  {
   "cell_type": "code",
   "execution_count": 90,
   "id": "2d5bd3ac-4287-4c13-9426-4ffb5b318c83",
   "metadata": {},
   "outputs": [
    {
     "data": {
      "text/html": [
       "<table class=\"dataframe\">\n",
       "<caption>A matrix: 2 × 2 of type dbl</caption>\n",
       "<tbody>\n",
       "\t<tr><td>0.09708700</td><td>-0.01752225</td></tr>\n",
       "\t<tr><td>0.08009023</td><td> 0.24840442</td></tr>\n",
       "</tbody>\n",
       "</table>\n"
      ],
      "text/latex": [
       "A matrix: 2 × 2 of type dbl\n",
       "\\begin{tabular}{ll}\n",
       "\t 0.09708700 & -0.01752225\\\\\n",
       "\t 0.08009023 &  0.24840442\\\\\n",
       "\\end{tabular}\n"
      ],
      "text/markdown": [
       "\n",
       "A matrix: 2 × 2 of type dbl\n",
       "\n",
       "| 0.09708700 | -0.01752225 |\n",
       "| 0.08009023 |  0.24840442 |\n",
       "\n"
      ],
      "text/plain": [
       "     [,1]       [,2]       \n",
       "[1,] 0.09708700 -0.01752225\n",
       "[2,] 0.08009023  0.24840442"
      ]
     },
     "metadata": {},
     "output_type": "display_data"
    },
    {
     "data": {
      "text/html": [
       "<table class=\"dataframe\">\n",
       "<caption>A matrix: 2 × 2 of type dbl</caption>\n",
       "<tbody>\n",
       "\t<tr><td>5.819492</td><td>-1.555887</td></tr>\n",
       "\t<tr><td>2.058909</td><td>11.790396</td></tr>\n",
       "</tbody>\n",
       "</table>\n"
      ],
      "text/latex": [
       "A matrix: 2 × 2 of type dbl\n",
       "\\begin{tabular}{ll}\n",
       "\t 5.819492 & -1.555887\\\\\n",
       "\t 2.058909 & 11.790396\\\\\n",
       "\\end{tabular}\n"
      ],
      "text/markdown": [
       "\n",
       "A matrix: 2 × 2 of type dbl\n",
       "\n",
       "| 5.819492 | -1.555887 |\n",
       "| 2.058909 | 11.790396 |\n",
       "\n"
      ],
      "text/plain": [
       "     [,1]     [,2]     \n",
       "[1,] 5.819492 -1.555887\n",
       "[2,] 2.058909 11.790396"
      ]
     },
     "metadata": {},
     "output_type": "display_data"
    },
    {
     "data": {
      "text/html": [
       "<table class=\"dataframe\">\n",
       "<caption>A matrix: 2 × 2 of type dbl</caption>\n",
       "<tbody>\n",
       "\t<tr><td> 0.99056985</td><td>0.01107886</td></tr>\n",
       "\t<tr><td>-0.03904157</td><td>0.96570266</td></tr>\n",
       "</tbody>\n",
       "</table>\n"
      ],
      "text/latex": [
       "A matrix: 2 × 2 of type dbl\n",
       "\\begin{tabular}{ll}\n",
       "\t  0.99056985 & 0.01107886\\\\\n",
       "\t -0.03904157 & 0.96570266\\\\\n",
       "\\end{tabular}\n"
      ],
      "text/markdown": [
       "\n",
       "A matrix: 2 × 2 of type dbl\n",
       "\n",
       "|  0.99056985 | 0.01107886 |\n",
       "| -0.03904157 | 0.96570266 |\n",
       "\n"
      ],
      "text/plain": [
       "     [,1]        [,2]      \n",
       "[1,]  0.99056985 0.01107886\n",
       "[2,] -0.03904157 0.96570266"
      ]
     },
     "metadata": {},
     "output_type": "display_data"
    },
    {
     "data": {
      "text/html": [
       "<table class=\"dataframe\">\n",
       "<caption>A matrix: 2 × 2 of type dbl</caption>\n",
       "<tbody>\n",
       "\t<tr><td>258.622676</td><td>  3.211535</td></tr>\n",
       "\t<tr><td> -4.158166</td><td>196.763462</td></tr>\n",
       "</tbody>\n",
       "</table>\n"
      ],
      "text/latex": [
       "A matrix: 2 × 2 of type dbl\n",
       "\\begin{tabular}{ll}\n",
       "\t 258.622676 &   3.211535\\\\\n",
       "\t  -4.158166 & 196.763462\\\\\n",
       "\\end{tabular}\n"
      ],
      "text/markdown": [
       "\n",
       "A matrix: 2 × 2 of type dbl\n",
       "\n",
       "| 258.622676 |   3.211535 |\n",
       "|  -4.158166 | 196.763462 |\n",
       "\n"
      ],
      "text/plain": [
       "     [,1]       [,2]      \n",
       "[1,] 258.622676   3.211535\n",
       "[2,]  -4.158166 196.763462"
      ]
     },
     "metadata": {},
     "output_type": "display_data"
    }
   ],
   "source": [
    "bekk8_fit$A\n",
    "bekk8_fit$A_t\n",
    "bekk8_fit$G\n",
    "bekk8_fit$G_t"
   ]
  },
  {
   "cell_type": "markdown",
   "id": "5c348996-db8d-45d4-b45e-0645603e21b5",
   "metadata": {},
   "source": [
    "### VAR-BEKK Model Table for London Cocoa - GHSGBP"
   ]
  },
  {
   "cell_type": "code",
   "execution_count": 91,
   "id": "860ca005-1871-4732-9595-3f41b4c0cb1c",
   "metadata": {},
   "outputs": [
    {
     "data": {
      "text/html": [
       "<table class=\"dataframe\">\n",
       "<caption>A data.frame: 18 × 5</caption>\n",
       "<thead>\n",
       "\t<tr><th scope=col>Parameters</th><th scope=col>Coefficient</th><th scope=col>Std_error</th><th scope=col>T_value</th><th scope=col>Significant_at_5p_level</th></tr>\n",
       "\t<tr><th scope=col>&lt;chr&gt;</th><th scope=col>&lt;dbl&gt;</th><th scope=col>&lt;dbl&gt;</th><th scope=col>&lt;dbl&gt;</th><th scope=col>&lt;chr&gt;</th></tr>\n",
       "</thead>\n",
       "<tbody>\n",
       "\t<tr><td>mu10 </td><td> 0.0004420629</td><td>0.0005179257</td><td>  0.8535257</td><td>Not Statistically Significant</td></tr>\n",
       "\t<tr><td>mu20 </td><td>-0.0003063797</td><td>0.0003106995</td><td> -0.9860966</td><td>Not Statistically Significant</td></tr>\n",
       "\t<tr><td>phi11</td><td> 0.0190423020</td><td>0.0310035480</td><td>  0.6141975</td><td>Not Statistically Significant</td></tr>\n",
       "\t<tr><td>phi12</td><td>-0.0269106816</td><td>0.0514947241</td><td> -0.5225910</td><td>Not Statistically Significant</td></tr>\n",
       "\t<tr><td>phi13</td><td> 0.0442393752</td><td>0.0309988178</td><td>  1.4271310</td><td>Not Statistically Significant</td></tr>\n",
       "\t<tr><td>phi14</td><td> 0.0165854726</td><td>0.0515080134</td><td>  0.3219979</td><td>Not Statistically Significant</td></tr>\n",
       "\t<tr><td>phi21</td><td> 0.0068223558</td><td>0.0185987814</td><td>  0.3668174</td><td>Not Statistically Significant</td></tr>\n",
       "\t<tr><td>phi22</td><td>-0.1269590670</td><td>0.0308912747</td><td> -4.1098682</td><td>Stat significant at 1%       </td></tr>\n",
       "\t<tr><td>phi23</td><td>-0.0273991763</td><td>0.0185959438</td><td> -1.4733953</td><td>Not Statistically Significant</td></tr>\n",
       "\t<tr><td>phi24</td><td>-0.0754103044</td><td>0.0308992468</td><td> -2.4405224</td><td>Stat significant at 5%       </td></tr>\n",
       "\t<tr><td>a11  </td><td> 0.0970870004</td><td>0.0166830725</td><td>  5.8194916</td><td>Stat significant at 1%       </td></tr>\n",
       "\t<tr><td>a12  </td><td>-0.0175222489</td><td>0.0112619003</td><td> -1.5558874</td><td>Not Statistically Significant</td></tr>\n",
       "\t<tr><td>a21  </td><td> 0.0800902270</td><td>0.0388993445</td><td>  2.0589094</td><td>Stat significant at 5%       </td></tr>\n",
       "\t<tr><td>a22  </td><td> 0.2484044163</td><td>0.0210683689</td><td> 11.7903962</td><td>Stat significant at 1%       </td></tr>\n",
       "\t<tr><td>g11  </td><td> 0.9905698544</td><td>0.0038301740</td><td>258.6226761</td><td>Stat significant at 1%       </td></tr>\n",
       "\t<tr><td>g12  </td><td> 0.0110788551</td><td>0.0034497072</td><td>  3.2115349</td><td>Stat significant at 1%       </td></tr>\n",
       "\t<tr><td>g21  </td><td>-0.0390415664</td><td>0.0093891318</td><td> -4.1581658</td><td>Stat significant at 1%       </td></tr>\n",
       "\t<tr><td>g22  </td><td> 0.9657026633</td><td>0.0049079369</td><td>196.7634617</td><td>Stat significant at 1%       </td></tr>\n",
       "</tbody>\n",
       "</table>\n"
      ],
      "text/latex": [
       "A data.frame: 18 × 5\n",
       "\\begin{tabular}{lllll}\n",
       " Parameters & Coefficient & Std\\_error & T\\_value & Significant\\_at\\_5p\\_level\\\\\n",
       " <chr> & <dbl> & <dbl> & <dbl> & <chr>\\\\\n",
       "\\hline\n",
       "\t mu10  &  0.0004420629 & 0.0005179257 &   0.8535257 & Not Statistically Significant\\\\\n",
       "\t mu20  & -0.0003063797 & 0.0003106995 &  -0.9860966 & Not Statistically Significant\\\\\n",
       "\t phi11 &  0.0190423020 & 0.0310035480 &   0.6141975 & Not Statistically Significant\\\\\n",
       "\t phi12 & -0.0269106816 & 0.0514947241 &  -0.5225910 & Not Statistically Significant\\\\\n",
       "\t phi13 &  0.0442393752 & 0.0309988178 &   1.4271310 & Not Statistically Significant\\\\\n",
       "\t phi14 &  0.0165854726 & 0.0515080134 &   0.3219979 & Not Statistically Significant\\\\\n",
       "\t phi21 &  0.0068223558 & 0.0185987814 &   0.3668174 & Not Statistically Significant\\\\\n",
       "\t phi22 & -0.1269590670 & 0.0308912747 &  -4.1098682 & Stat significant at 1\\%       \\\\\n",
       "\t phi23 & -0.0273991763 & 0.0185959438 &  -1.4733953 & Not Statistically Significant\\\\\n",
       "\t phi24 & -0.0754103044 & 0.0308992468 &  -2.4405224 & Stat significant at 5\\%       \\\\\n",
       "\t a11   &  0.0970870004 & 0.0166830725 &   5.8194916 & Stat significant at 1\\%       \\\\\n",
       "\t a12   & -0.0175222489 & 0.0112619003 &  -1.5558874 & Not Statistically Significant\\\\\n",
       "\t a21   &  0.0800902270 & 0.0388993445 &   2.0589094 & Stat significant at 5\\%       \\\\\n",
       "\t a22   &  0.2484044163 & 0.0210683689 &  11.7903962 & Stat significant at 1\\%       \\\\\n",
       "\t g11   &  0.9905698544 & 0.0038301740 & 258.6226761 & Stat significant at 1\\%       \\\\\n",
       "\t g12   &  0.0110788551 & 0.0034497072 &   3.2115349 & Stat significant at 1\\%       \\\\\n",
       "\t g21   & -0.0390415664 & 0.0093891318 &  -4.1581658 & Stat significant at 1\\%       \\\\\n",
       "\t g22   &  0.9657026633 & 0.0049079369 & 196.7634617 & Stat significant at 1\\%       \\\\\n",
       "\\end{tabular}\n"
      ],
      "text/markdown": [
       "\n",
       "A data.frame: 18 × 5\n",
       "\n",
       "| Parameters &lt;chr&gt; | Coefficient &lt;dbl&gt; | Std_error &lt;dbl&gt; | T_value &lt;dbl&gt; | Significant_at_5p_level &lt;chr&gt; |\n",
       "|---|---|---|---|---|\n",
       "| mu10  |  0.0004420629 | 0.0005179257 |   0.8535257 | Not Statistically Significant |\n",
       "| mu20  | -0.0003063797 | 0.0003106995 |  -0.9860966 | Not Statistically Significant |\n",
       "| phi11 |  0.0190423020 | 0.0310035480 |   0.6141975 | Not Statistically Significant |\n",
       "| phi12 | -0.0269106816 | 0.0514947241 |  -0.5225910 | Not Statistically Significant |\n",
       "| phi13 |  0.0442393752 | 0.0309988178 |   1.4271310 | Not Statistically Significant |\n",
       "| phi14 |  0.0165854726 | 0.0515080134 |   0.3219979 | Not Statistically Significant |\n",
       "| phi21 |  0.0068223558 | 0.0185987814 |   0.3668174 | Not Statistically Significant |\n",
       "| phi22 | -0.1269590670 | 0.0308912747 |  -4.1098682 | Stat significant at 1%        |\n",
       "| phi23 | -0.0273991763 | 0.0185959438 |  -1.4733953 | Not Statistically Significant |\n",
       "| phi24 | -0.0754103044 | 0.0308992468 |  -2.4405224 | Stat significant at 5%        |\n",
       "| a11   |  0.0970870004 | 0.0166830725 |   5.8194916 | Stat significant at 1%        |\n",
       "| a12   | -0.0175222489 | 0.0112619003 |  -1.5558874 | Not Statistically Significant |\n",
       "| a21   |  0.0800902270 | 0.0388993445 |   2.0589094 | Stat significant at 5%        |\n",
       "| a22   |  0.2484044163 | 0.0210683689 |  11.7903962 | Stat significant at 1%        |\n",
       "| g11   |  0.9905698544 | 0.0038301740 | 258.6226761 | Stat significant at 1%        |\n",
       "| g12   |  0.0110788551 | 0.0034497072 |   3.2115349 | Stat significant at 1%        |\n",
       "| g21   | -0.0390415664 | 0.0093891318 |  -4.1581658 | Stat significant at 1%        |\n",
       "| g22   |  0.9657026633 | 0.0049079369 | 196.7634617 | Stat significant at 1%        |\n",
       "\n"
      ],
      "text/plain": [
       "   Parameters Coefficient   Std_error    T_value    \n",
       "1  mu10        0.0004420629 0.0005179257   0.8535257\n",
       "2  mu20       -0.0003063797 0.0003106995  -0.9860966\n",
       "3  phi11       0.0190423020 0.0310035480   0.6141975\n",
       "4  phi12      -0.0269106816 0.0514947241  -0.5225910\n",
       "5  phi13       0.0442393752 0.0309988178   1.4271310\n",
       "6  phi14       0.0165854726 0.0515080134   0.3219979\n",
       "7  phi21       0.0068223558 0.0185987814   0.3668174\n",
       "8  phi22      -0.1269590670 0.0308912747  -4.1098682\n",
       "9  phi23      -0.0273991763 0.0185959438  -1.4733953\n",
       "10 phi24      -0.0754103044 0.0308992468  -2.4405224\n",
       "11 a11         0.0970870004 0.0166830725   5.8194916\n",
       "12 a12        -0.0175222489 0.0112619003  -1.5558874\n",
       "13 a21         0.0800902270 0.0388993445   2.0589094\n",
       "14 a22         0.2484044163 0.0210683689  11.7903962\n",
       "15 g11         0.9905698544 0.0038301740 258.6226761\n",
       "16 g12         0.0110788551 0.0034497072   3.2115349\n",
       "17 g21        -0.0390415664 0.0093891318  -4.1581658\n",
       "18 g22         0.9657026633 0.0049079369 196.7634617\n",
       "   Significant_at_5p_level      \n",
       "1  Not Statistically Significant\n",
       "2  Not Statistically Significant\n",
       "3  Not Statistically Significant\n",
       "4  Not Statistically Significant\n",
       "5  Not Statistically Significant\n",
       "6  Not Statistically Significant\n",
       "7  Not Statistically Significant\n",
       "8  Stat significant at 1%       \n",
       "9  Not Statistically Significant\n",
       "10 Stat significant at 5%       \n",
       "11 Stat significant at 1%       \n",
       "12 Not Statistically Significant\n",
       "13 Stat significant at 5%       \n",
       "14 Stat significant at 1%       \n",
       "15 Stat significant at 1%       \n",
       "16 Stat significant at 1%       \n",
       "17 Stat significant at 1%       \n",
       "18 Stat significant at 1%       "
      ]
     },
     "metadata": {},
     "output_type": "display_data"
    }
   ],
   "source": [
    "bekk8 <- data.frame(Parameters = c(\"mu10\",\"mu20\",\"phi11\",\"phi12\",\"phi13\",\"phi14\",\"phi21\",\"phi22\",\"phi23\",\"phi24\",\"a11\",\"a12\",\"a21\",\"a22\",\"g11\",\"g12\",\"g21\",\"g22\"),\n",
    "                   Coefficient = c(summary(var_bekk8)$varresult$lc$coefficients[\"const\",\"Estimate\"],summary(var_bekk8)$varresult$ghsgbp$coefficients[\"const\",\"Estimate\"],\n",
    "                                   summary(var_bekk8)$varresult$lc$coefficients[\"lc.l1\",\"Estimate\"],summary(var_bekk8)$varresult$lc$coefficients[\"ghsgbp.l1\",\"Estimate\"],\n",
    "                                   summary(var_bekk8)$varresult$lc$coefficients[\"lc.l2\",\"Estimate\"],summary(var_bekk8)$varresult$lc$coefficients[\"ghsgbp.l2\",\"Estimate\"],\n",
    "                                   summary(var_bekk8)$varresult$ghsgbp$coefficients[\"lc.l1\",\"Estimate\"],summary(var_bekk8)$varresult$ghsgbp$coefficients[\"ghsgbp.l1\",\"Estimate\"],\n",
    "                                   summary(var_bekk8)$varresult$ghsgbp$coefficients[\"lc.l2\",\"Estimate\"],summary(var_bekk8)$varresult$ghsgbp$coefficients[\"ghsgbp.l2\",\"Estimate\"],\n",
    "                                   bekk8_fit$A[1,1],bekk8_fit$A[1,2],bekk8_fit$A[2,1],bekk8_fit$A[2,2],bekk8_fit$G[1,1],bekk8_fit$G[1,2],bekk8_fit$G[2,1],bekk8_fit$G[2,2]),\n",
    "                   Std_error = c(summary(var_bekk8)$varresult$lc$coefficients[\"const\",\"Std. Error\"],summary(var_bekk8)$varresult$ghsgbp$coefficients[\"const\",\"Std. Error\"],\n",
    "                                   summary(var_bekk8)$varresult$lc$coefficients[\"lc.l1\",\"Std. Error\"],summary(var_bekk8)$varresult$lc$coefficients[\"ghsgbp.l1\",\"Std. Error\"],\n",
    "                                   summary(var_bekk8)$varresult$lc$coefficients[\"lc.l2\",\"Std. Error\"],summary(var_bekk8)$varresult$lc$coefficients[\"ghsgbp.l2\",\"Std. Error\"],\n",
    "                                   summary(var_bekk8)$varresult$ghsgbp$coefficients[\"lc.l1\",\"Std. Error\"],summary(var_bekk8)$varresult$ghsgbp$coefficients[\"ghsgbp.l1\",\"Std. Error\"],\n",
    "                                   summary(var_bekk8)$varresult$ghsgbp$coefficients[\"lc.l2\",\"Std. Error\"],summary(var_bekk8)$varresult$ghsgbp$coefficients[\"ghsgbp.l2\",\"Std. Error\"],\n",
    "                                   bekk8_fit$A_sd[1,1],bekk8_fit$A_sd[1,2],bekk8_fit$A_sd[2,1],bekk8_fit$A_sd[2,2],bekk8_fit$G_sd[1,1],bekk8_fit$G_sd[1,2],bekk8_fit$G_sd[2,1],bekk8_fit$G_sd[2,2]),\n",
    "                   T_value = c(summary(var_bekk8)$varresult$lc$coefficients[\"const\",\"t value\"],summary(var_bekk8)$varresult$ghsgbp$coefficients[\"const\",\"t value\"],\n",
    "                                   summary(var_bekk8)$varresult$lc$coefficients[\"lc.l1\",\"t value\"],summary(var_bekk8)$varresult$lc$coefficients[\"ghsgbp.l1\",\"t value\"],\n",
    "                                   summary(var_bekk8)$varresult$lc$coefficients[\"lc.l2\",\"t value\"],summary(var_bekk8)$varresult$lc$coefficients[\"ghsgbp.l2\",\"t value\"],\n",
    "                                   summary(var_bekk8)$varresult$ghsgbp$coefficients[\"lc.l1\",\"t value\"],summary(var_bekk8)$varresult$ghsgbp$coefficients[\"ghsgbp.l1\",\"t value\"],\n",
    "                                   summary(var_bekk8)$varresult$ghsgbp$coefficients[\"lc.l2\",\"t value\"],summary(var_bekk8)$varresult$ghsgbp$coefficients[\"ghsgbp.l2\",\"t value\"],\n",
    "                                   bekk8_fit$A_t[1,1],bekk8_fit$A_t[1,2],bekk8_fit$A_t[2,1],bekk8_fit$A_t[2,2],bekk8_fit$G_t[1,1],bekk8_fit$G_t[1,2],bekk8_fit$G_t[2,1],bekk8_fit$G_t[2,2]))\n",
    "\n",
    "bekk8$Significant_at_5p_level[abs(bekk8$T_value) >= 2.58 ] <- \"Stat significant at 1%\"\n",
    "bekk8$Significant_at_5p_level[abs(bekk8$T_value) > 1.96 & abs(bekk8$T_value) < 2.58] <- \"Stat significant at 5%\"\n",
    "bekk8$Significant_at_5p_level[abs(bekk8$T_value) > 1.645 & abs(bekk8$T_value) <= 1.96 ] <- \"Stat significant at 10%\"\n",
    "bekk8$Significant_at_5p_level[abs(bekk8$T_value) <= 1.645] <- \"Not Statistically Significant\"\n",
    "bekk8"
   ]
  },
  {
   "cell_type": "code",
   "execution_count": 92,
   "id": "f231e709-d7ea-4eed-bf70-1ccb1acf9b75",
   "metadata": {},
   "outputs": [
    {
     "data": {
      "text/plain": [
       "\n",
       "\tGranger causality H0: lc do not Granger-cause ghsgbp\n",
       "\n",
       "data:  VAR object var_bekk8\n",
       "F-Test = 1.142, df1 = 2, df2 = 2084, p-value = 0.3194\n"
      ]
     },
     "metadata": {},
     "output_type": "display_data"
    },
    {
     "data": {
      "text/plain": [
       "\n",
       "\tGranger causality H0: ghsgbp do not Granger-cause lc\n",
       "\n",
       "data:  VAR object var_bekk8\n",
       "F-Test = 0.21156, df1 = 2, df2 = 2084, p-value = 0.8093\n"
      ]
     },
     "metadata": {},
     "output_type": "display_data"
    }
   ],
   "source": [
    "causality(var_bekk8,cause = \"lc\")$Granger\n",
    "causality(var_bekk8,cause = \"ghsgbp\")$Granger"
   ]
  },
  {
   "cell_type": "markdown",
   "id": "3569f15d-b5b5-4eb9-bb1d-4820eb4ff6d5",
   "metadata": {},
   "source": [
    "# Summary of Period 1 models"
   ]
  },
  {
   "cell_type": "code",
   "execution_count": 93,
   "id": "35d605fc-2a58-49f7-9e94-1405864e6fd2",
   "metadata": {},
   "outputs": [],
   "source": [
    "bekk_c <- rep(NA,14)\n",
    "for(i in 1:14){\n",
    "    bekk_c[i] = paste0(round(bekkc[i,2],4),\" (\",round(bekkc[i,3],4),\")\")\n",
    "}\n",
    "\n",
    "bekk_1 <- rep(NA,14)\n",
    "for(i in 1:14){\n",
    "    bekk_1[i] = paste0(round(bekk1[i,2],4),\" (\",round(bekk1[i,3],4),\")\")\n",
    "}\n",
    "\n",
    "bekk_2 <- rep(NA,14)\n",
    "for(i in 1:14){\n",
    "    bekk_2[i] = paste0(round(bekk2[i,2],4),\" (\",round(bekk2[i,3],4),\")\")\n",
    "}\n",
    "\n",
    "bekk_3 <- rep(NA,14)\n",
    "for(i in 1:14){\n",
    "    bekk_3[i] = paste0(round(bekk3[i,2],4),\" (\",round(bekk3[i,3],4),\")\")\n",
    "}\n",
    "\n",
    "bekk_4 <- rep(NA,14)\n",
    "for(i in 1:14){\n",
    "    bekk_4[i] = paste0(round(bekk4[i,2],4),\" (\",round(bekk4[i,3],4),\")\")\n",
    "}\n",
    "\n",
    "bekk_5 <- rep(NA,14)\n",
    "for(i in 1:14){\n",
    "    bekk_5[i] = paste0(round(bekk5[i,2],4),\" (\",round(bekk5[i,3],4),\")\")\n",
    "}\n",
    "\n",
    "bekk_6 <- rep(NA,14)\n",
    "for(i in 1:14){\n",
    "    bekk_6[i] = paste0(round(bekk6[i,2],4),\" (\",round(bekk6[i,3],4),\")\")\n",
    "}\n",
    "\n",
    "bekk_7 <- rep(NA,18)\n",
    "for(i in 1:18){\n",
    "    bekk_7[i] = paste0(round(bekk7[i,2],4),\" (\",round(bekk7[i,3],4),\")\")\n",
    "}\n",
    "\n",
    "\n",
    "bekk_8 <- rep(NA,18)\n",
    "for(i in 1:18){\n",
    "    bekk_8[i] = paste0(round(bekk8[i,2],4),\" (\",round(bekk8[i,3],4),\")\")\n",
    "}\n"
   ]
  },
  {
   "cell_type": "code",
   "execution_count": 94,
   "id": "b4ec8426-e4f6-4291-b16d-0f7a515489e3",
   "metadata": {},
   "outputs": [],
   "source": [
    "parameters1 = c(\"mu10\",\"mu20\",\"phi11\",\"phi12\",\"phi21\",\"phi22\",\"a11\",\"a12\",\"a21\",\"a22\",\"g11\",\"g12\",\"g21\",\"g22\")\n",
    "parameters2 = c(\"mu10\",\"mu20\",\"phi11\",\"phi12\",\"phi13\",\"phi14\",\"phi21\",\"phi22\",\"phi23\",\"phi24\",\"a11\",\"a12\",\"a21\",\"a22\",\"g11\",\"g12\",\"g21\",\"g22\")"
   ]
  },
  {
   "cell_type": "code",
   "execution_count": 95,
   "id": "5f2257cd-1eed-4e42-a859-4f98dd9fceb8",
   "metadata": {},
   "outputs": [],
   "source": [
    "daily_bekk1 <- data.frame(\"Parameters\" = parameters1,\"BEKKC\" = bekk_c,\"BEKK1\" = bekk_1,\"BEKK2\" = bekk_2,\"BEKK3\" = bekk_3,\"BEKK4\" = bekk_4,\"BEKK5\" = bekk_5,\n",
    "                         \"BEKK6\" = bekk_6)\n",
    "daily_bekk2 <- data.frame(\"Parameters\" = parameters2,\"BEKK7\" = bekk_7,\"BEKK8\" = bekk_8)"
   ]
  },
  {
   "cell_type": "code",
   "execution_count": 96,
   "id": "fa124343-9b05-49a2-b159-17b89e0befa2",
   "metadata": {},
   "outputs": [
    {
     "data": {
      "text/html": [
       "<table class=\"dataframe\">\n",
       "<caption>A data.frame: 14 × 8</caption>\n",
       "<thead>\n",
       "\t<tr><th scope=col>Parameters</th><th scope=col>BEKKC</th><th scope=col>BEKK1</th><th scope=col>BEKK2</th><th scope=col>BEKK3</th><th scope=col>BEKK4</th><th scope=col>BEKK5</th><th scope=col>BEKK6</th></tr>\n",
       "\t<tr><th scope=col>&lt;chr&gt;</th><th scope=col>&lt;chr&gt;</th><th scope=col>&lt;chr&gt;</th><th scope=col>&lt;chr&gt;</th><th scope=col>&lt;chr&gt;</th><th scope=col>&lt;chr&gt;</th><th scope=col>&lt;chr&gt;</th><th scope=col>&lt;chr&gt;</th></tr>\n",
       "</thead>\n",
       "<tbody>\n",
       "\t<tr><td>mu10 </td><td>2e-04 (6e-04)   </td><td>3e-04 (6e-04)   </td><td>3e-04 (6e-04)   </td><td>2e-04 (6e-04)   </td><td>5e-04 (5e-04)   </td><td>4e-04 (5e-04)   </td><td>4e-04 (5e-04)   </td></tr>\n",
       "\t<tr><td>mu20 </td><td>4e-04 (5e-04)   </td><td>0 (2e-04)       </td><td>-2e-04 (2e-04)  </td><td>3e-04 (3e-04)   </td><td>2e-04 (2e-04)   </td><td>2e-04 (2e-04)   </td><td>4e-04 (3e-04)   </td></tr>\n",
       "\t<tr><td>phi11</td><td>-0.1913 (0.0599)</td><td>-0.0727 (0.0324)</td><td>-0.0662 (0.0327)</td><td>-0.0362 (0.0316)</td><td>0.0204 (0.031)  </td><td>0.012 (0.0311)  </td><td>0.0192 (0.031)  </td></tr>\n",
       "\t<tr><td>phi12</td><td>0.2349 (0.0726) </td><td>0.3901 (0.0851) </td><td>0.3284 (0.0891) </td><td>0.13 (0.075)    </td><td>0.012 (0.0695)  </td><td>0.1821 (0.0798) </td><td>0.0712 (0.0578) </td></tr>\n",
       "\t<tr><td>phi21</td><td>-0.0832 (0.0496)</td><td>0.0014 (0.0124) </td><td>-0.0076 (0.0121)</td><td>0.012 (0.0133)  </td><td>0.0045 (0.0138) </td><td>0.0089 (0.0121) </td><td>0.0151 (0.0166) </td></tr>\n",
       "\t<tr><td>phi22</td><td>0.1067 (0.0601) </td><td>0.0243 (0.0327) </td><td>0.0586 (0.0328) </td><td>-0.0146 (0.0316)</td><td>0.0488 (0.0309) </td><td>0.0608 (0.0311) </td><td>0.016 (0.0309)  </td></tr>\n",
       "\t<tr><td>a11  </td><td>0 (0.0321)      </td><td>0.2048 (0.0243) </td><td>0.2166 (0.0271) </td><td>0.1312 (0.0184) </td><td>0.1507 (0.0162) </td><td>0.2474 (0.027)  </td><td>0.3151 (0.0459) </td></tr>\n",
       "\t<tr><td>a12  </td><td>-0.1618 (0.0231)</td><td>0.003 (0.0143)  </td><td>-0.0121 (0.0141)</td><td>0.0248 (0.0087) </td><td>-0.012 (0.0104) </td><td>-0.0345 (0.0126)</td><td>-0.0251 (0.0221)</td></tr>\n",
       "\t<tr><td>a21  </td><td>0.1655 (0.0357) </td><td>0.2226 (0.0681) </td><td>0.2759 (0.0542) </td><td>-0.154 (0.0709) </td><td>0.1248 (0.0454) </td><td>0.1419 (0.0808) </td><td>0.1619 (0.0808) </td></tr>\n",
       "\t<tr><td>a22  </td><td>0.2621 (0.0264) </td><td>0.1766 (0.027)  </td><td>0.1801 (0.0366) </td><td>0.2378 (0.0188) </td><td>0.215 (0.0258)  </td><td>0.2258 (0.0278) </td><td>0.3102 (0.0274) </td></tr>\n",
       "\t<tr><td>g11  </td><td>1.0002 (0.0082) </td><td>0.902 (0.0276)  </td><td>0.8976 (0.0247) </td><td>0.9851 (0.0041) </td><td>0.981 (0.0044)  </td><td>0.8959 (0.026)  </td><td>0.6433 (0.0845) </td></tr>\n",
       "\t<tr><td>g12  </td><td>0.023 (0.0069)  </td><td>0.0067 (0.0097) </td><td>0.0193 (0.0108) </td><td>-0.0082 (0.0026)</td><td>0.0043 (0.0033) </td><td>0.0187 (0.0109) </td><td>-0.0549 (0.0314)</td></tr>\n",
       "\t<tr><td>g21  </td><td>-0.0188 (0.0129)</td><td>-0.0544 (0.0222)</td><td>-0.0603 (0.0276)</td><td>0.089 (0.029)   </td><td>-0.0437 (0.0134)</td><td>-0.0381 (0.0295)</td><td>-0.0245 (0.0445)</td></tr>\n",
       "\t<tr><td>g22  </td><td>0.9584 (0.0093) </td><td>0.98 (0.0047)   </td><td>0.9712 (0.008)  </td><td>0.952 (0.0068)  </td><td>0.9712 (0.0075) </td><td>0.967 (0.0092)  </td><td>0.9428 (0.0098) </td></tr>\n",
       "</tbody>\n",
       "</table>\n"
      ],
      "text/latex": [
       "A data.frame: 14 × 8\n",
       "\\begin{tabular}{llllllll}\n",
       " Parameters & BEKKC & BEKK1 & BEKK2 & BEKK3 & BEKK4 & BEKK5 & BEKK6\\\\\n",
       " <chr> & <chr> & <chr> & <chr> & <chr> & <chr> & <chr> & <chr>\\\\\n",
       "\\hline\n",
       "\t mu10  & 2e-04 (6e-04)    & 3e-04 (6e-04)    & 3e-04 (6e-04)    & 2e-04 (6e-04)    & 5e-04 (5e-04)    & 4e-04 (5e-04)    & 4e-04 (5e-04)   \\\\\n",
       "\t mu20  & 4e-04 (5e-04)    & 0 (2e-04)        & -2e-04 (2e-04)   & 3e-04 (3e-04)    & 2e-04 (2e-04)    & 2e-04 (2e-04)    & 4e-04 (3e-04)   \\\\\n",
       "\t phi11 & -0.1913 (0.0599) & -0.0727 (0.0324) & -0.0662 (0.0327) & -0.0362 (0.0316) & 0.0204 (0.031)   & 0.012 (0.0311)   & 0.0192 (0.031)  \\\\\n",
       "\t phi12 & 0.2349 (0.0726)  & 0.3901 (0.0851)  & 0.3284 (0.0891)  & 0.13 (0.075)     & 0.012 (0.0695)   & 0.1821 (0.0798)  & 0.0712 (0.0578) \\\\\n",
       "\t phi21 & -0.0832 (0.0496) & 0.0014 (0.0124)  & -0.0076 (0.0121) & 0.012 (0.0133)   & 0.0045 (0.0138)  & 0.0089 (0.0121)  & 0.0151 (0.0166) \\\\\n",
       "\t phi22 & 0.1067 (0.0601)  & 0.0243 (0.0327)  & 0.0586 (0.0328)  & -0.0146 (0.0316) & 0.0488 (0.0309)  & 0.0608 (0.0311)  & 0.016 (0.0309)  \\\\\n",
       "\t a11   & 0 (0.0321)       & 0.2048 (0.0243)  & 0.2166 (0.0271)  & 0.1312 (0.0184)  & 0.1507 (0.0162)  & 0.2474 (0.027)   & 0.3151 (0.0459) \\\\\n",
       "\t a12   & -0.1618 (0.0231) & 0.003 (0.0143)   & -0.0121 (0.0141) & 0.0248 (0.0087)  & -0.012 (0.0104)  & -0.0345 (0.0126) & -0.0251 (0.0221)\\\\\n",
       "\t a21   & 0.1655 (0.0357)  & 0.2226 (0.0681)  & 0.2759 (0.0542)  & -0.154 (0.0709)  & 0.1248 (0.0454)  & 0.1419 (0.0808)  & 0.1619 (0.0808) \\\\\n",
       "\t a22   & 0.2621 (0.0264)  & 0.1766 (0.027)   & 0.1801 (0.0366)  & 0.2378 (0.0188)  & 0.215 (0.0258)   & 0.2258 (0.0278)  & 0.3102 (0.0274) \\\\\n",
       "\t g11   & 1.0002 (0.0082)  & 0.902 (0.0276)   & 0.8976 (0.0247)  & 0.9851 (0.0041)  & 0.981 (0.0044)   & 0.8959 (0.026)   & 0.6433 (0.0845) \\\\\n",
       "\t g12   & 0.023 (0.0069)   & 0.0067 (0.0097)  & 0.0193 (0.0108)  & -0.0082 (0.0026) & 0.0043 (0.0033)  & 0.0187 (0.0109)  & -0.0549 (0.0314)\\\\\n",
       "\t g21   & -0.0188 (0.0129) & -0.0544 (0.0222) & -0.0603 (0.0276) & 0.089 (0.029)    & -0.0437 (0.0134) & -0.0381 (0.0295) & -0.0245 (0.0445)\\\\\n",
       "\t g22   & 0.9584 (0.0093)  & 0.98 (0.0047)    & 0.9712 (0.008)   & 0.952 (0.0068)   & 0.9712 (0.0075)  & 0.967 (0.0092)   & 0.9428 (0.0098) \\\\\n",
       "\\end{tabular}\n"
      ],
      "text/markdown": [
       "\n",
       "A data.frame: 14 × 8\n",
       "\n",
       "| Parameters &lt;chr&gt; | BEKKC &lt;chr&gt; | BEKK1 &lt;chr&gt; | BEKK2 &lt;chr&gt; | BEKK3 &lt;chr&gt; | BEKK4 &lt;chr&gt; | BEKK5 &lt;chr&gt; | BEKK6 &lt;chr&gt; |\n",
       "|---|---|---|---|---|---|---|---|\n",
       "| mu10  | 2e-04 (6e-04)    | 3e-04 (6e-04)    | 3e-04 (6e-04)    | 2e-04 (6e-04)    | 5e-04 (5e-04)    | 4e-04 (5e-04)    | 4e-04 (5e-04)    |\n",
       "| mu20  | 4e-04 (5e-04)    | 0 (2e-04)        | -2e-04 (2e-04)   | 3e-04 (3e-04)    | 2e-04 (2e-04)    | 2e-04 (2e-04)    | 4e-04 (3e-04)    |\n",
       "| phi11 | -0.1913 (0.0599) | -0.0727 (0.0324) | -0.0662 (0.0327) | -0.0362 (0.0316) | 0.0204 (0.031)   | 0.012 (0.0311)   | 0.0192 (0.031)   |\n",
       "| phi12 | 0.2349 (0.0726)  | 0.3901 (0.0851)  | 0.3284 (0.0891)  | 0.13 (0.075)     | 0.012 (0.0695)   | 0.1821 (0.0798)  | 0.0712 (0.0578)  |\n",
       "| phi21 | -0.0832 (0.0496) | 0.0014 (0.0124)  | -0.0076 (0.0121) | 0.012 (0.0133)   | 0.0045 (0.0138)  | 0.0089 (0.0121)  | 0.0151 (0.0166)  |\n",
       "| phi22 | 0.1067 (0.0601)  | 0.0243 (0.0327)  | 0.0586 (0.0328)  | -0.0146 (0.0316) | 0.0488 (0.0309)  | 0.0608 (0.0311)  | 0.016 (0.0309)   |\n",
       "| a11   | 0 (0.0321)       | 0.2048 (0.0243)  | 0.2166 (0.0271)  | 0.1312 (0.0184)  | 0.1507 (0.0162)  | 0.2474 (0.027)   | 0.3151 (0.0459)  |\n",
       "| a12   | -0.1618 (0.0231) | 0.003 (0.0143)   | -0.0121 (0.0141) | 0.0248 (0.0087)  | -0.012 (0.0104)  | -0.0345 (0.0126) | -0.0251 (0.0221) |\n",
       "| a21   | 0.1655 (0.0357)  | 0.2226 (0.0681)  | 0.2759 (0.0542)  | -0.154 (0.0709)  | 0.1248 (0.0454)  | 0.1419 (0.0808)  | 0.1619 (0.0808)  |\n",
       "| a22   | 0.2621 (0.0264)  | 0.1766 (0.027)   | 0.1801 (0.0366)  | 0.2378 (0.0188)  | 0.215 (0.0258)   | 0.2258 (0.0278)  | 0.3102 (0.0274)  |\n",
       "| g11   | 1.0002 (0.0082)  | 0.902 (0.0276)   | 0.8976 (0.0247)  | 0.9851 (0.0041)  | 0.981 (0.0044)   | 0.8959 (0.026)   | 0.6433 (0.0845)  |\n",
       "| g12   | 0.023 (0.0069)   | 0.0067 (0.0097)  | 0.0193 (0.0108)  | -0.0082 (0.0026) | 0.0043 (0.0033)  | 0.0187 (0.0109)  | -0.0549 (0.0314) |\n",
       "| g21   | -0.0188 (0.0129) | -0.0544 (0.0222) | -0.0603 (0.0276) | 0.089 (0.029)    | -0.0437 (0.0134) | -0.0381 (0.0295) | -0.0245 (0.0445) |\n",
       "| g22   | 0.9584 (0.0093)  | 0.98 (0.0047)    | 0.9712 (0.008)   | 0.952 (0.0068)   | 0.9712 (0.0075)  | 0.967 (0.0092)   | 0.9428 (0.0098)  |\n",
       "\n"
      ],
      "text/plain": [
       "   Parameters BEKKC            BEKK1            BEKK2           \n",
       "1  mu10       2e-04 (6e-04)    3e-04 (6e-04)    3e-04 (6e-04)   \n",
       "2  mu20       4e-04 (5e-04)    0 (2e-04)        -2e-04 (2e-04)  \n",
       "3  phi11      -0.1913 (0.0599) -0.0727 (0.0324) -0.0662 (0.0327)\n",
       "4  phi12      0.2349 (0.0726)  0.3901 (0.0851)  0.3284 (0.0891) \n",
       "5  phi21      -0.0832 (0.0496) 0.0014 (0.0124)  -0.0076 (0.0121)\n",
       "6  phi22      0.1067 (0.0601)  0.0243 (0.0327)  0.0586 (0.0328) \n",
       "7  a11        0 (0.0321)       0.2048 (0.0243)  0.2166 (0.0271) \n",
       "8  a12        -0.1618 (0.0231) 0.003 (0.0143)   -0.0121 (0.0141)\n",
       "9  a21        0.1655 (0.0357)  0.2226 (0.0681)  0.2759 (0.0542) \n",
       "10 a22        0.2621 (0.0264)  0.1766 (0.027)   0.1801 (0.0366) \n",
       "11 g11        1.0002 (0.0082)  0.902 (0.0276)   0.8976 (0.0247) \n",
       "12 g12        0.023 (0.0069)   0.0067 (0.0097)  0.0193 (0.0108) \n",
       "13 g21        -0.0188 (0.0129) -0.0544 (0.0222) -0.0603 (0.0276)\n",
       "14 g22        0.9584 (0.0093)  0.98 (0.0047)    0.9712 (0.008)  \n",
       "   BEKK3            BEKK4            BEKK5            BEKK6           \n",
       "1  2e-04 (6e-04)    5e-04 (5e-04)    4e-04 (5e-04)    4e-04 (5e-04)   \n",
       "2  3e-04 (3e-04)    2e-04 (2e-04)    2e-04 (2e-04)    4e-04 (3e-04)   \n",
       "3  -0.0362 (0.0316) 0.0204 (0.031)   0.012 (0.0311)   0.0192 (0.031)  \n",
       "4  0.13 (0.075)     0.012 (0.0695)   0.1821 (0.0798)  0.0712 (0.0578) \n",
       "5  0.012 (0.0133)   0.0045 (0.0138)  0.0089 (0.0121)  0.0151 (0.0166) \n",
       "6  -0.0146 (0.0316) 0.0488 (0.0309)  0.0608 (0.0311)  0.016 (0.0309)  \n",
       "7  0.1312 (0.0184)  0.1507 (0.0162)  0.2474 (0.027)   0.3151 (0.0459) \n",
       "8  0.0248 (0.0087)  -0.012 (0.0104)  -0.0345 (0.0126) -0.0251 (0.0221)\n",
       "9  -0.154 (0.0709)  0.1248 (0.0454)  0.1419 (0.0808)  0.1619 (0.0808) \n",
       "10 0.2378 (0.0188)  0.215 (0.0258)   0.2258 (0.0278)  0.3102 (0.0274) \n",
       "11 0.9851 (0.0041)  0.981 (0.0044)   0.8959 (0.026)   0.6433 (0.0845) \n",
       "12 -0.0082 (0.0026) 0.0043 (0.0033)  0.0187 (0.0109)  -0.0549 (0.0314)\n",
       "13 0.089 (0.029)    -0.0437 (0.0134) -0.0381 (0.0295) -0.0245 (0.0445)\n",
       "14 0.952 (0.0068)   0.9712 (0.0075)  0.967 (0.0092)   0.9428 (0.0098) "
      ]
     },
     "metadata": {},
     "output_type": "display_data"
    }
   ],
   "source": [
    "daily_bekk1"
   ]
  },
  {
   "cell_type": "code",
   "execution_count": 97,
   "id": "967f4c52-ec34-4497-a52a-69467cb080d6",
   "metadata": {},
   "outputs": [
    {
     "data": {
      "text/html": [
       "<table class=\"dataframe\">\n",
       "<caption>A data.frame: 18 × 3</caption>\n",
       "<thead>\n",
       "\t<tr><th scope=col>Parameters</th><th scope=col>BEKK7</th><th scope=col>BEKK8</th></tr>\n",
       "\t<tr><th scope=col>&lt;chr&gt;</th><th scope=col>&lt;chr&gt;</th><th scope=col>&lt;chr&gt;</th></tr>\n",
       "</thead>\n",
       "<tbody>\n",
       "\t<tr><td>mu10 </td><td>2e-04 (6e-04)   </td><td>4e-04 (5e-04)   </td></tr>\n",
       "\t<tr><td>mu20 </td><td>-7e-04 (2e-04)  </td><td>-3e-04 (3e-04)  </td></tr>\n",
       "\t<tr><td>phi11</td><td>-0.0247 (0.031) </td><td>0.019 (0.031)   </td></tr>\n",
       "\t<tr><td>phi12</td><td>-0.1399 (0.0969)</td><td>-0.0269 (0.0515)</td></tr>\n",
       "\t<tr><td>phi13</td><td>0.0437 (0.031)  </td><td>0.0442 (0.031)  </td></tr>\n",
       "\t<tr><td>phi14</td><td>-0.0893 (0.0969)</td><td>0.0166 (0.0515) </td></tr>\n",
       "\t<tr><td>phi21</td><td>-3e-04 (0.0096) </td><td>0.0068 (0.0186) </td></tr>\n",
       "\t<tr><td>phi22</td><td>-0.4007 (0.03)  </td><td>-0.127 (0.0309) </td></tr>\n",
       "\t<tr><td>phi23</td><td>-0.0229 (0.0096)</td><td>-0.0274 (0.0186)</td></tr>\n",
       "\t<tr><td>phi24</td><td>-0.2456 (0.03)  </td><td>-0.0754 (0.0309)</td></tr>\n",
       "\t<tr><td>a11  </td><td>0.1742 (0.0247) </td><td>0.0971 (0.0167) </td></tr>\n",
       "\t<tr><td>a12  </td><td>0.0138 (0.0068) </td><td>-0.0175 (0.0113)</td></tr>\n",
       "\t<tr><td>a21  </td><td>0.0676 (0.0716) </td><td>0.0801 (0.0389) </td></tr>\n",
       "\t<tr><td>a22  </td><td>0.3908 (0.0231) </td><td>0.2484 (0.0211) </td></tr>\n",
       "\t<tr><td>g11  </td><td>0.8796 (0.0404) </td><td>0.9906 (0.0038) </td></tr>\n",
       "\t<tr><td>g12  </td><td>0.0234 (0.0092) </td><td>0.0111 (0.0034) </td></tr>\n",
       "\t<tr><td>g21  </td><td>-0.035 (0.0328) </td><td>-0.039 (0.0094) </td></tr>\n",
       "\t<tr><td>g22  </td><td>0.9161 (0.0058) </td><td>0.9657 (0.0049) </td></tr>\n",
       "</tbody>\n",
       "</table>\n"
      ],
      "text/latex": [
       "A data.frame: 18 × 3\n",
       "\\begin{tabular}{lll}\n",
       " Parameters & BEKK7 & BEKK8\\\\\n",
       " <chr> & <chr> & <chr>\\\\\n",
       "\\hline\n",
       "\t mu10  & 2e-04 (6e-04)    & 4e-04 (5e-04)   \\\\\n",
       "\t mu20  & -7e-04 (2e-04)   & -3e-04 (3e-04)  \\\\\n",
       "\t phi11 & -0.0247 (0.031)  & 0.019 (0.031)   \\\\\n",
       "\t phi12 & -0.1399 (0.0969) & -0.0269 (0.0515)\\\\\n",
       "\t phi13 & 0.0437 (0.031)   & 0.0442 (0.031)  \\\\\n",
       "\t phi14 & -0.0893 (0.0969) & 0.0166 (0.0515) \\\\\n",
       "\t phi21 & -3e-04 (0.0096)  & 0.0068 (0.0186) \\\\\n",
       "\t phi22 & -0.4007 (0.03)   & -0.127 (0.0309) \\\\\n",
       "\t phi23 & -0.0229 (0.0096) & -0.0274 (0.0186)\\\\\n",
       "\t phi24 & -0.2456 (0.03)   & -0.0754 (0.0309)\\\\\n",
       "\t a11   & 0.1742 (0.0247)  & 0.0971 (0.0167) \\\\\n",
       "\t a12   & 0.0138 (0.0068)  & -0.0175 (0.0113)\\\\\n",
       "\t a21   & 0.0676 (0.0716)  & 0.0801 (0.0389) \\\\\n",
       "\t a22   & 0.3908 (0.0231)  & 0.2484 (0.0211) \\\\\n",
       "\t g11   & 0.8796 (0.0404)  & 0.9906 (0.0038) \\\\\n",
       "\t g12   & 0.0234 (0.0092)  & 0.0111 (0.0034) \\\\\n",
       "\t g21   & -0.035 (0.0328)  & -0.039 (0.0094) \\\\\n",
       "\t g22   & 0.9161 (0.0058)  & 0.9657 (0.0049) \\\\\n",
       "\\end{tabular}\n"
      ],
      "text/markdown": [
       "\n",
       "A data.frame: 18 × 3\n",
       "\n",
       "| Parameters &lt;chr&gt; | BEKK7 &lt;chr&gt; | BEKK8 &lt;chr&gt; |\n",
       "|---|---|---|\n",
       "| mu10  | 2e-04 (6e-04)    | 4e-04 (5e-04)    |\n",
       "| mu20  | -7e-04 (2e-04)   | -3e-04 (3e-04)   |\n",
       "| phi11 | -0.0247 (0.031)  | 0.019 (0.031)    |\n",
       "| phi12 | -0.1399 (0.0969) | -0.0269 (0.0515) |\n",
       "| phi13 | 0.0437 (0.031)   | 0.0442 (0.031)   |\n",
       "| phi14 | -0.0893 (0.0969) | 0.0166 (0.0515)  |\n",
       "| phi21 | -3e-04 (0.0096)  | 0.0068 (0.0186)  |\n",
       "| phi22 | -0.4007 (0.03)   | -0.127 (0.0309)  |\n",
       "| phi23 | -0.0229 (0.0096) | -0.0274 (0.0186) |\n",
       "| phi24 | -0.2456 (0.03)   | -0.0754 (0.0309) |\n",
       "| a11   | 0.1742 (0.0247)  | 0.0971 (0.0167)  |\n",
       "| a12   | 0.0138 (0.0068)  | -0.0175 (0.0113) |\n",
       "| a21   | 0.0676 (0.0716)  | 0.0801 (0.0389)  |\n",
       "| a22   | 0.3908 (0.0231)  | 0.2484 (0.0211)  |\n",
       "| g11   | 0.8796 (0.0404)  | 0.9906 (0.0038)  |\n",
       "| g12   | 0.0234 (0.0092)  | 0.0111 (0.0034)  |\n",
       "| g21   | -0.035 (0.0328)  | -0.039 (0.0094)  |\n",
       "| g22   | 0.9161 (0.0058)  | 0.9657 (0.0049)  |\n",
       "\n"
      ],
      "text/plain": [
       "   Parameters BEKK7            BEKK8           \n",
       "1  mu10       2e-04 (6e-04)    4e-04 (5e-04)   \n",
       "2  mu20       -7e-04 (2e-04)   -3e-04 (3e-04)  \n",
       "3  phi11      -0.0247 (0.031)  0.019 (0.031)   \n",
       "4  phi12      -0.1399 (0.0969) -0.0269 (0.0515)\n",
       "5  phi13      0.0437 (0.031)   0.0442 (0.031)  \n",
       "6  phi14      -0.0893 (0.0969) 0.0166 (0.0515) \n",
       "7  phi21      -3e-04 (0.0096)  0.0068 (0.0186) \n",
       "8  phi22      -0.4007 (0.03)   -0.127 (0.0309) \n",
       "9  phi23      -0.0229 (0.0096) -0.0274 (0.0186)\n",
       "10 phi24      -0.2456 (0.03)   -0.0754 (0.0309)\n",
       "11 a11        0.1742 (0.0247)  0.0971 (0.0167) \n",
       "12 a12        0.0138 (0.0068)  -0.0175 (0.0113)\n",
       "13 a21        0.0676 (0.0716)  0.0801 (0.0389) \n",
       "14 a22        0.3908 (0.0231)  0.2484 (0.0211) \n",
       "15 g11        0.8796 (0.0404)  0.9906 (0.0038) \n",
       "16 g12        0.0234 (0.0092)  0.0111 (0.0034) \n",
       "17 g21        -0.035 (0.0328)  -0.039 (0.0094) \n",
       "18 g22        0.9161 (0.0058)  0.9657 (0.0049) "
      ]
     },
     "metadata": {},
     "output_type": "display_data"
    }
   ],
   "source": [
    "daily_bekk2"
   ]
  },
  {
   "cell_type": "markdown",
   "id": "d4ad0211-d8b3-490c-8ae7-f6d86f0915f7",
   "metadata": {},
   "source": [
    "# Final VAR-BEKK Table for Period 1 (Table A.2)"
   ]
  },
  {
   "cell_type": "code",
   "execution_count": 98,
   "id": "04a709a5-a55d-4aeb-9591-4fc851552d7c",
   "metadata": {},
   "outputs": [
    {
     "data": {
      "text/html": [
       "<table class=\"dataframe\">\n",
       "<caption>A data.frame: 19 × 10</caption>\n",
       "<thead>\n",
       "\t<tr><th scope=col>Parameters</th><th scope=col>BEKKC</th><th scope=col>BEKK1</th><th scope=col>BEKK2</th><th scope=col>BEKK3</th><th scope=col>BEKK4</th><th scope=col>BEKK5</th><th scope=col>BEKK6</th><th scope=col>BEKK7</th><th scope=col>BEKK8</th></tr>\n",
       "\t<tr><th scope=col>&lt;chr&gt;</th><th scope=col>&lt;chr&gt;</th><th scope=col>&lt;chr&gt;</th><th scope=col>&lt;chr&gt;</th><th scope=col>&lt;chr&gt;</th><th scope=col>&lt;chr&gt;</th><th scope=col>&lt;chr&gt;</th><th scope=col>&lt;chr&gt;</th><th scope=col>&lt;chr&gt;</th><th scope=col>&lt;chr&gt;</th></tr>\n",
       "</thead>\n",
       "<tbody>\n",
       "\t<tr><td>mu10 </td><td>2e-04 (6e-04)    </td><td>3e-04 (6e-04)    </td><td>3e-04 (6e-04)    </td><td>2e-04 (6e-04)    </td><td>5e-04 (5e-04)    </td><td>4e-04 (5e-04)    </td><td>4e-04 (5e-04)    </td><td>2e-04 (6e-04)    </td><td>4e-04 (5e-04)    </td></tr>\n",
       "\t<tr><td>mu20 </td><td>4e-04 (5e-04)    </td><td>0 (2e-04)        </td><td>-2e-04 (2e-04)   </td><td>3e-04 (3e-04)    </td><td>2e-04 (2e-04)    </td><td>2e-04 (2e-04)    </td><td>4e-04 (3e-04)    </td><td>-7e-04 (2e-04)   </td><td>-3e-04 (3e-04)   </td></tr>\n",
       "\t<tr><td>phi11</td><td>-0.1913 (0.0599) </td><td>-0.0727 (0.0324) </td><td>-0.0662 (0.0327) </td><td>-0.0362 (0.0316) </td><td>0.0204 (0.031)   </td><td>0.012 (0.0311)   </td><td>0.0192 (0.031)   </td><td>-0.0247 (0.031)  </td><td>0.019 (0.031)    </td></tr>\n",
       "\t<tr><td>phi12</td><td>0.2349 (0.0726)  </td><td>0.3901 (0.0851)  </td><td>0.3284 (0.0891)  </td><td>0.13 (0.075)     </td><td>0.012 (0.0695)   </td><td>0.1821 (0.0798)  </td><td>0.0712 (0.0578)  </td><td>-0.1399 (0.0969) </td><td>-0.0269 (0.0515) </td></tr>\n",
       "\t<tr><td>phi13</td><td>NA               </td><td>NA               </td><td>NA               </td><td>NA               </td><td>NA               </td><td>NA               </td><td>NA               </td><td>0.0437 (0.031)   </td><td>0.0442 (0.031)   </td></tr>\n",
       "\t<tr><td>phi14</td><td>NA               </td><td>NA               </td><td>NA               </td><td>NA               </td><td>NA               </td><td>NA               </td><td>NA               </td><td>-0.0893 (0.0969) </td><td>0.0166 (0.0515)  </td></tr>\n",
       "\t<tr><td>phi21</td><td>-0.0832 (0.0496) </td><td>0.0014 (0.0124)  </td><td>-0.0076 (0.0121) </td><td>0.012 (0.0133)   </td><td>0.0045 (0.0138)  </td><td>0.0089 (0.0121)  </td><td>0.0151 (0.0166)  </td><td>-3e-04 (0.0096)  </td><td>0.0068 (0.0186)  </td></tr>\n",
       "\t<tr><td>phi22</td><td>0.1067 (0.0601)  </td><td>0.0243 (0.0327)  </td><td>0.0586 (0.0328)  </td><td>-0.0146 (0.0316) </td><td>0.0488 (0.0309)  </td><td>0.0608 (0.0311)  </td><td>0.016 (0.0309)   </td><td>-0.4007 (0.03)   </td><td>-0.127 (0.0309)  </td></tr>\n",
       "\t<tr><td>phi23</td><td>NA               </td><td>NA               </td><td>NA               </td><td>NA               </td><td>NA               </td><td>NA               </td><td>NA               </td><td>-0.0229 (0.0096) </td><td>-0.0274 (0.0186) </td></tr>\n",
       "\t<tr><td>phi24</td><td>NA               </td><td>NA               </td><td>NA               </td><td>NA               </td><td>NA               </td><td>NA               </td><td>NA               </td><td>-0.2456 (0.03)   </td><td>-0.0754 (0.0309) </td></tr>\n",
       "\t<tr><td>a11  </td><td>0 (0.0321)       </td><td>0.2048 (0.0243)  </td><td>0.2166 (0.0271)  </td><td>0.1312 (0.0184)  </td><td>0.1507 (0.0162)  </td><td>0.2474 (0.027)   </td><td>0.3151 (0.0459)  </td><td>0.1742 (0.0247)  </td><td>0.0971 (0.0167)  </td></tr>\n",
       "\t<tr><td>a12  </td><td>-0.1618 (0.0231) </td><td>0.003 (0.0143)   </td><td>-0.0121 (0.0141) </td><td>0.0248 (0.0087)  </td><td>-0.012 (0.0104)  </td><td>-0.0345 (0.0126) </td><td>-0.0251 (0.0221) </td><td>0.0138 (0.0068)  </td><td>-0.0175 (0.0113) </td></tr>\n",
       "\t<tr><td>a21  </td><td>0.1655 (0.0357)  </td><td>0.2226 (0.0681)  </td><td>0.2759 (0.0542)  </td><td>-0.154 (0.0709)  </td><td>0.1248 (0.0454)  </td><td>0.1419 (0.0808)  </td><td>0.1619 (0.0808)  </td><td>0.0676 (0.0716)  </td><td>0.0801 (0.0389)  </td></tr>\n",
       "\t<tr><td>a22  </td><td>0.2621 (0.0264)  </td><td>0.1766 (0.027)   </td><td>0.1801 (0.0366)  </td><td>0.2378 (0.0188)  </td><td>0.215 (0.0258)   </td><td>0.2258 (0.0278)  </td><td>0.3102 (0.0274)  </td><td>0.3908 (0.0231)  </td><td>0.2484 (0.0211)  </td></tr>\n",
       "\t<tr><td>g11  </td><td>1.0002 (0.0082)  </td><td>0.902 (0.0276)   </td><td>0.8976 (0.0247)  </td><td>0.9851 (0.0041)  </td><td>0.981 (0.0044)   </td><td>0.8959 (0.026)   </td><td>0.6433 (0.0845)  </td><td>0.8796 (0.0404)  </td><td>0.9906 (0.0038)  </td></tr>\n",
       "\t<tr><td>g12  </td><td>0.023 (0.0069)   </td><td>0.0067 (0.0097)  </td><td>0.0193 (0.0108)  </td><td>-0.0082 (0.0026) </td><td>0.0043 (0.0033)  </td><td>0.0187 (0.0109)  </td><td>-0.0549 (0.0314) </td><td>0.0234 (0.0092)  </td><td>0.0111 (0.0034)  </td></tr>\n",
       "\t<tr><td>g21  </td><td>-0.0188 (0.0129) </td><td>-0.0544 (0.0222) </td><td>-0.0603 (0.0276) </td><td>0.089 (0.029)    </td><td>-0.0437 (0.0134) </td><td>-0.0381 (0.0295) </td><td>-0.0245 (0.0445) </td><td>-0.035 (0.0328)  </td><td>-0.039 (0.0094)  </td></tr>\n",
       "\t<tr><td>g22  </td><td>0.9584 (0.0093)  </td><td>0.98 (0.0047)    </td><td>0.9712 (0.008)   </td><td>0.952 (0.0068)   </td><td>0.9712 (0.0075)  </td><td>0.967 (0.0092)   </td><td>0.9428 (0.0098)  </td><td>0.9161 (0.0058)  </td><td>0.9657 (0.0049)  </td></tr>\n",
       "\t<tr><td>Port </td><td>0.511483459159855</td><td>0.824596190237684</td><td>0.890967299888113</td><td>0.523482192521593</td><td>0.922435912594983</td><td>0.826177617769445</td><td>0.643441559748342</td><td>0.469395633560111</td><td>0.757924968901614</td></tr>\n",
       "</tbody>\n",
       "</table>\n"
      ],
      "text/latex": [
       "A data.frame: 19 × 10\n",
       "\\begin{tabular}{llllllllll}\n",
       " Parameters & BEKKC & BEKK1 & BEKK2 & BEKK3 & BEKK4 & BEKK5 & BEKK6 & BEKK7 & BEKK8\\\\\n",
       " <chr> & <chr> & <chr> & <chr> & <chr> & <chr> & <chr> & <chr> & <chr> & <chr>\\\\\n",
       "\\hline\n",
       "\t mu10  & 2e-04 (6e-04)     & 3e-04 (6e-04)     & 3e-04 (6e-04)     & 2e-04 (6e-04)     & 5e-04 (5e-04)     & 4e-04 (5e-04)     & 4e-04 (5e-04)     & 2e-04 (6e-04)     & 4e-04 (5e-04)    \\\\\n",
       "\t mu20  & 4e-04 (5e-04)     & 0 (2e-04)         & -2e-04 (2e-04)    & 3e-04 (3e-04)     & 2e-04 (2e-04)     & 2e-04 (2e-04)     & 4e-04 (3e-04)     & -7e-04 (2e-04)    & -3e-04 (3e-04)   \\\\\n",
       "\t phi11 & -0.1913 (0.0599)  & -0.0727 (0.0324)  & -0.0662 (0.0327)  & -0.0362 (0.0316)  & 0.0204 (0.031)    & 0.012 (0.0311)    & 0.0192 (0.031)    & -0.0247 (0.031)   & 0.019 (0.031)    \\\\\n",
       "\t phi12 & 0.2349 (0.0726)   & 0.3901 (0.0851)   & 0.3284 (0.0891)   & 0.13 (0.075)      & 0.012 (0.0695)    & 0.1821 (0.0798)   & 0.0712 (0.0578)   & -0.1399 (0.0969)  & -0.0269 (0.0515) \\\\\n",
       "\t phi13 & NA                & NA                & NA                & NA                & NA                & NA                & NA                & 0.0437 (0.031)    & 0.0442 (0.031)   \\\\\n",
       "\t phi14 & NA                & NA                & NA                & NA                & NA                & NA                & NA                & -0.0893 (0.0969)  & 0.0166 (0.0515)  \\\\\n",
       "\t phi21 & -0.0832 (0.0496)  & 0.0014 (0.0124)   & -0.0076 (0.0121)  & 0.012 (0.0133)    & 0.0045 (0.0138)   & 0.0089 (0.0121)   & 0.0151 (0.0166)   & -3e-04 (0.0096)   & 0.0068 (0.0186)  \\\\\n",
       "\t phi22 & 0.1067 (0.0601)   & 0.0243 (0.0327)   & 0.0586 (0.0328)   & -0.0146 (0.0316)  & 0.0488 (0.0309)   & 0.0608 (0.0311)   & 0.016 (0.0309)    & -0.4007 (0.03)    & -0.127 (0.0309)  \\\\\n",
       "\t phi23 & NA                & NA                & NA                & NA                & NA                & NA                & NA                & -0.0229 (0.0096)  & -0.0274 (0.0186) \\\\\n",
       "\t phi24 & NA                & NA                & NA                & NA                & NA                & NA                & NA                & -0.2456 (0.03)    & -0.0754 (0.0309) \\\\\n",
       "\t a11   & 0 (0.0321)        & 0.2048 (0.0243)   & 0.2166 (0.0271)   & 0.1312 (0.0184)   & 0.1507 (0.0162)   & 0.2474 (0.027)    & 0.3151 (0.0459)   & 0.1742 (0.0247)   & 0.0971 (0.0167)  \\\\\n",
       "\t a12   & -0.1618 (0.0231)  & 0.003 (0.0143)    & -0.0121 (0.0141)  & 0.0248 (0.0087)   & -0.012 (0.0104)   & -0.0345 (0.0126)  & -0.0251 (0.0221)  & 0.0138 (0.0068)   & -0.0175 (0.0113) \\\\\n",
       "\t a21   & 0.1655 (0.0357)   & 0.2226 (0.0681)   & 0.2759 (0.0542)   & -0.154 (0.0709)   & 0.1248 (0.0454)   & 0.1419 (0.0808)   & 0.1619 (0.0808)   & 0.0676 (0.0716)   & 0.0801 (0.0389)  \\\\\n",
       "\t a22   & 0.2621 (0.0264)   & 0.1766 (0.027)    & 0.1801 (0.0366)   & 0.2378 (0.0188)   & 0.215 (0.0258)    & 0.2258 (0.0278)   & 0.3102 (0.0274)   & 0.3908 (0.0231)   & 0.2484 (0.0211)  \\\\\n",
       "\t g11   & 1.0002 (0.0082)   & 0.902 (0.0276)    & 0.8976 (0.0247)   & 0.9851 (0.0041)   & 0.981 (0.0044)    & 0.8959 (0.026)    & 0.6433 (0.0845)   & 0.8796 (0.0404)   & 0.9906 (0.0038)  \\\\\n",
       "\t g12   & 0.023 (0.0069)    & 0.0067 (0.0097)   & 0.0193 (0.0108)   & -0.0082 (0.0026)  & 0.0043 (0.0033)   & 0.0187 (0.0109)   & -0.0549 (0.0314)  & 0.0234 (0.0092)   & 0.0111 (0.0034)  \\\\\n",
       "\t g21   & -0.0188 (0.0129)  & -0.0544 (0.0222)  & -0.0603 (0.0276)  & 0.089 (0.029)     & -0.0437 (0.0134)  & -0.0381 (0.0295)  & -0.0245 (0.0445)  & -0.035 (0.0328)   & -0.039 (0.0094)  \\\\\n",
       "\t g22   & 0.9584 (0.0093)   & 0.98 (0.0047)     & 0.9712 (0.008)    & 0.952 (0.0068)    & 0.9712 (0.0075)   & 0.967 (0.0092)    & 0.9428 (0.0098)   & 0.9161 (0.0058)   & 0.9657 (0.0049)  \\\\\n",
       "\t Port  & 0.511483459159855 & 0.824596190237684 & 0.890967299888113 & 0.523482192521593 & 0.922435912594983 & 0.826177617769445 & 0.643441559748342 & 0.469395633560111 & 0.757924968901614\\\\\n",
       "\\end{tabular}\n"
      ],
      "text/markdown": [
       "\n",
       "A data.frame: 19 × 10\n",
       "\n",
       "| Parameters &lt;chr&gt; | BEKKC &lt;chr&gt; | BEKK1 &lt;chr&gt; | BEKK2 &lt;chr&gt; | BEKK3 &lt;chr&gt; | BEKK4 &lt;chr&gt; | BEKK5 &lt;chr&gt; | BEKK6 &lt;chr&gt; | BEKK7 &lt;chr&gt; | BEKK8 &lt;chr&gt; |\n",
       "|---|---|---|---|---|---|---|---|---|---|\n",
       "| mu10  | 2e-04 (6e-04)     | 3e-04 (6e-04)     | 3e-04 (6e-04)     | 2e-04 (6e-04)     | 5e-04 (5e-04)     | 4e-04 (5e-04)     | 4e-04 (5e-04)     | 2e-04 (6e-04)     | 4e-04 (5e-04)     |\n",
       "| mu20  | 4e-04 (5e-04)     | 0 (2e-04)         | -2e-04 (2e-04)    | 3e-04 (3e-04)     | 2e-04 (2e-04)     | 2e-04 (2e-04)     | 4e-04 (3e-04)     | -7e-04 (2e-04)    | -3e-04 (3e-04)    |\n",
       "| phi11 | -0.1913 (0.0599)  | -0.0727 (0.0324)  | -0.0662 (0.0327)  | -0.0362 (0.0316)  | 0.0204 (0.031)    | 0.012 (0.0311)    | 0.0192 (0.031)    | -0.0247 (0.031)   | 0.019 (0.031)     |\n",
       "| phi12 | 0.2349 (0.0726)   | 0.3901 (0.0851)   | 0.3284 (0.0891)   | 0.13 (0.075)      | 0.012 (0.0695)    | 0.1821 (0.0798)   | 0.0712 (0.0578)   | -0.1399 (0.0969)  | -0.0269 (0.0515)  |\n",
       "| phi13 | NA                | NA                | NA                | NA                | NA                | NA                | NA                | 0.0437 (0.031)    | 0.0442 (0.031)    |\n",
       "| phi14 | NA                | NA                | NA                | NA                | NA                | NA                | NA                | -0.0893 (0.0969)  | 0.0166 (0.0515)   |\n",
       "| phi21 | -0.0832 (0.0496)  | 0.0014 (0.0124)   | -0.0076 (0.0121)  | 0.012 (0.0133)    | 0.0045 (0.0138)   | 0.0089 (0.0121)   | 0.0151 (0.0166)   | -3e-04 (0.0096)   | 0.0068 (0.0186)   |\n",
       "| phi22 | 0.1067 (0.0601)   | 0.0243 (0.0327)   | 0.0586 (0.0328)   | -0.0146 (0.0316)  | 0.0488 (0.0309)   | 0.0608 (0.0311)   | 0.016 (0.0309)    | -0.4007 (0.03)    | -0.127 (0.0309)   |\n",
       "| phi23 | NA                | NA                | NA                | NA                | NA                | NA                | NA                | -0.0229 (0.0096)  | -0.0274 (0.0186)  |\n",
       "| phi24 | NA                | NA                | NA                | NA                | NA                | NA                | NA                | -0.2456 (0.03)    | -0.0754 (0.0309)  |\n",
       "| a11   | 0 (0.0321)        | 0.2048 (0.0243)   | 0.2166 (0.0271)   | 0.1312 (0.0184)   | 0.1507 (0.0162)   | 0.2474 (0.027)    | 0.3151 (0.0459)   | 0.1742 (0.0247)   | 0.0971 (0.0167)   |\n",
       "| a12   | -0.1618 (0.0231)  | 0.003 (0.0143)    | -0.0121 (0.0141)  | 0.0248 (0.0087)   | -0.012 (0.0104)   | -0.0345 (0.0126)  | -0.0251 (0.0221)  | 0.0138 (0.0068)   | -0.0175 (0.0113)  |\n",
       "| a21   | 0.1655 (0.0357)   | 0.2226 (0.0681)   | 0.2759 (0.0542)   | -0.154 (0.0709)   | 0.1248 (0.0454)   | 0.1419 (0.0808)   | 0.1619 (0.0808)   | 0.0676 (0.0716)   | 0.0801 (0.0389)   |\n",
       "| a22   | 0.2621 (0.0264)   | 0.1766 (0.027)    | 0.1801 (0.0366)   | 0.2378 (0.0188)   | 0.215 (0.0258)    | 0.2258 (0.0278)   | 0.3102 (0.0274)   | 0.3908 (0.0231)   | 0.2484 (0.0211)   |\n",
       "| g11   | 1.0002 (0.0082)   | 0.902 (0.0276)    | 0.8976 (0.0247)   | 0.9851 (0.0041)   | 0.981 (0.0044)    | 0.8959 (0.026)    | 0.6433 (0.0845)   | 0.8796 (0.0404)   | 0.9906 (0.0038)   |\n",
       "| g12   | 0.023 (0.0069)    | 0.0067 (0.0097)   | 0.0193 (0.0108)   | -0.0082 (0.0026)  | 0.0043 (0.0033)   | 0.0187 (0.0109)   | -0.0549 (0.0314)  | 0.0234 (0.0092)   | 0.0111 (0.0034)   |\n",
       "| g21   | -0.0188 (0.0129)  | -0.0544 (0.0222)  | -0.0603 (0.0276)  | 0.089 (0.029)     | -0.0437 (0.0134)  | -0.0381 (0.0295)  | -0.0245 (0.0445)  | -0.035 (0.0328)   | -0.039 (0.0094)   |\n",
       "| g22   | 0.9584 (0.0093)   | 0.98 (0.0047)     | 0.9712 (0.008)    | 0.952 (0.0068)    | 0.9712 (0.0075)   | 0.967 (0.0092)    | 0.9428 (0.0098)   | 0.9161 (0.0058)   | 0.9657 (0.0049)   |\n",
       "| Port  | 0.511483459159855 | 0.824596190237684 | 0.890967299888113 | 0.523482192521593 | 0.922435912594983 | 0.826177617769445 | 0.643441559748342 | 0.469395633560111 | 0.757924968901614 |\n",
       "\n"
      ],
      "text/plain": [
       "   Parameters BEKKC             BEKK1             BEKK2            \n",
       "1  mu10       2e-04 (6e-04)     3e-04 (6e-04)     3e-04 (6e-04)    \n",
       "2  mu20       4e-04 (5e-04)     0 (2e-04)         -2e-04 (2e-04)   \n",
       "3  phi11      -0.1913 (0.0599)  -0.0727 (0.0324)  -0.0662 (0.0327) \n",
       "4  phi12      0.2349 (0.0726)   0.3901 (0.0851)   0.3284 (0.0891)  \n",
       "5  phi13      NA                NA                NA               \n",
       "6  phi14      NA                NA                NA               \n",
       "7  phi21      -0.0832 (0.0496)  0.0014 (0.0124)   -0.0076 (0.0121) \n",
       "8  phi22      0.1067 (0.0601)   0.0243 (0.0327)   0.0586 (0.0328)  \n",
       "9  phi23      NA                NA                NA               \n",
       "10 phi24      NA                NA                NA               \n",
       "11 a11        0 (0.0321)        0.2048 (0.0243)   0.2166 (0.0271)  \n",
       "12 a12        -0.1618 (0.0231)  0.003 (0.0143)    -0.0121 (0.0141) \n",
       "13 a21        0.1655 (0.0357)   0.2226 (0.0681)   0.2759 (0.0542)  \n",
       "14 a22        0.2621 (0.0264)   0.1766 (0.027)    0.1801 (0.0366)  \n",
       "15 g11        1.0002 (0.0082)   0.902 (0.0276)    0.8976 (0.0247)  \n",
       "16 g12        0.023 (0.0069)    0.0067 (0.0097)   0.0193 (0.0108)  \n",
       "17 g21        -0.0188 (0.0129)  -0.0544 (0.0222)  -0.0603 (0.0276) \n",
       "18 g22        0.9584 (0.0093)   0.98 (0.0047)     0.9712 (0.008)   \n",
       "19 Port       0.511483459159855 0.824596190237684 0.890967299888113\n",
       "   BEKK3             BEKK4             BEKK5             BEKK6            \n",
       "1  2e-04 (6e-04)     5e-04 (5e-04)     4e-04 (5e-04)     4e-04 (5e-04)    \n",
       "2  3e-04 (3e-04)     2e-04 (2e-04)     2e-04 (2e-04)     4e-04 (3e-04)    \n",
       "3  -0.0362 (0.0316)  0.0204 (0.031)    0.012 (0.0311)    0.0192 (0.031)   \n",
       "4  0.13 (0.075)      0.012 (0.0695)    0.1821 (0.0798)   0.0712 (0.0578)  \n",
       "5  NA                NA                NA                NA               \n",
       "6  NA                NA                NA                NA               \n",
       "7  0.012 (0.0133)    0.0045 (0.0138)   0.0089 (0.0121)   0.0151 (0.0166)  \n",
       "8  -0.0146 (0.0316)  0.0488 (0.0309)   0.0608 (0.0311)   0.016 (0.0309)   \n",
       "9  NA                NA                NA                NA               \n",
       "10 NA                NA                NA                NA               \n",
       "11 0.1312 (0.0184)   0.1507 (0.0162)   0.2474 (0.027)    0.3151 (0.0459)  \n",
       "12 0.0248 (0.0087)   -0.012 (0.0104)   -0.0345 (0.0126)  -0.0251 (0.0221) \n",
       "13 -0.154 (0.0709)   0.1248 (0.0454)   0.1419 (0.0808)   0.1619 (0.0808)  \n",
       "14 0.2378 (0.0188)   0.215 (0.0258)    0.2258 (0.0278)   0.3102 (0.0274)  \n",
       "15 0.9851 (0.0041)   0.981 (0.0044)    0.8959 (0.026)    0.6433 (0.0845)  \n",
       "16 -0.0082 (0.0026)  0.0043 (0.0033)   0.0187 (0.0109)   -0.0549 (0.0314) \n",
       "17 0.089 (0.029)     -0.0437 (0.0134)  -0.0381 (0.0295)  -0.0245 (0.0445) \n",
       "18 0.952 (0.0068)    0.9712 (0.0075)   0.967 (0.0092)    0.9428 (0.0098)  \n",
       "19 0.523482192521593 0.922435912594983 0.826177617769445 0.643441559748342\n",
       "   BEKK7             BEKK8            \n",
       "1  2e-04 (6e-04)     4e-04 (5e-04)    \n",
       "2  -7e-04 (2e-04)    -3e-04 (3e-04)   \n",
       "3  -0.0247 (0.031)   0.019 (0.031)    \n",
       "4  -0.1399 (0.0969)  -0.0269 (0.0515) \n",
       "5  0.0437 (0.031)    0.0442 (0.031)   \n",
       "6  -0.0893 (0.0969)  0.0166 (0.0515)  \n",
       "7  -3e-04 (0.0096)   0.0068 (0.0186)  \n",
       "8  -0.4007 (0.03)    -0.127 (0.0309)  \n",
       "9  -0.0229 (0.0096)  -0.0274 (0.0186) \n",
       "10 -0.2456 (0.03)    -0.0754 (0.0309) \n",
       "11 0.1742 (0.0247)   0.0971 (0.0167)  \n",
       "12 0.0138 (0.0068)   -0.0175 (0.0113) \n",
       "13 0.0676 (0.0716)   0.0801 (0.0389)  \n",
       "14 0.3908 (0.0231)   0.2484 (0.0211)  \n",
       "15 0.8796 (0.0404)   0.9906 (0.0038)  \n",
       "16 0.0234 (0.0092)   0.0111 (0.0034)  \n",
       "17 -0.035 (0.0328)   -0.039 (0.0094)  \n",
       "18 0.9161 (0.0058)   0.9657 (0.0049)  \n",
       "19 0.469395633560111 0.757924968901614"
      ]
     },
     "metadata": {},
     "output_type": "display_data"
    }
   ],
   "source": [
    "daily_bekk <- data.frame(\"Parameters\" = c(parameters2,\"Port\"),\n",
    "                         \"BEKKC\"=c(bekk_c[1:4],rep(NA,2),bekk_c[5:6],rep(NA,2),bekk_c[7:14],bekk_fit$Portmanteau.test$statistic),\n",
    "                         \"BEKK1\"=c(bekk_1[1:4],rep(NA,2),bekk_1[5:6],rep(NA,2),bekk_1[7:14],bekk1_fit$Portmanteau.test$statistic),\n",
    "                         \"BEKK2\"=c(bekk_2[1:4],rep(NA,2),bekk_2[5:6],rep(NA,2),bekk_2[7:14],bekk2_fit$Portmanteau.test$statistic),\n",
    "                          \"BEKK3\"=c(bekk_3[1:4],rep(NA,2),bekk_3[5:6],rep(NA,2),bekk_3[7:14],bekk3_fit$Portmanteau.test$statistic),\n",
    "                          \"BEKK4\"=c(bekk_4[1:4],rep(NA,2),bekk_4[5:6],rep(NA,2),bekk_4[7:14],bekk4_fit$Portmanteau.test$statistic),\n",
    "                         \"BEKK5\"=c(bekk_5[1:4],rep(NA,2),bekk_5[5:6],rep(NA,2),bekk_5[7:14],bekk5_fit$Portmanteau.test$statistic),\n",
    "                          \"BEKK6\"=c(bekk_6[1:4],rep(NA,2),bekk_6[5:6],rep(NA,2),bekk_6[7:14],bekk6_fit$Portmanteau.test$statistic),\n",
    "                         \"BEKK7\" = c(bekk_7,bekk7_fit$Portmanteau.test$statistic),\n",
    "                         \"BEKK8\" = c(bekk_8,bekk8_fit$Portmanteau.test$statistic))\n",
    "daily_bekk"
   ]
  },
  {
   "cell_type": "code",
   "execution_count": null,
   "id": "33d2b665-81c5-46b9-8042-23afb8a96a7f",
   "metadata": {},
   "outputs": [],
   "source": []
  }
 ],
 "metadata": {
  "kernelspec": {
   "display_name": "R",
   "language": "R",
   "name": "ir"
  },
  "language_info": {
   "codemirror_mode": "r",
   "file_extension": ".r",
   "mimetype": "text/x-r-source",
   "name": "R",
   "pygments_lexer": "r",
   "version": "4.3.3"
  }
 },
 "nbformat": 4,
 "nbformat_minor": 5
}
