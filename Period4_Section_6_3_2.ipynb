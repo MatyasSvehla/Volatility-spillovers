{
 "cells": [
  {
   "cell_type": "markdown",
   "id": "40fa13d1-954a-4c82-bfc4-d7d7bacb3821",
   "metadata": {},
   "source": [
    "# Chapter 6"
   ]
  },
  {
   "cell_type": "markdown",
   "id": "b631ce37-2f67-400f-8ca4-d8e83ab7d600",
   "metadata": {},
   "source": [
    "# Section 6.3.2 Subsample Analysis"
   ]
  },
  {
   "cell_type": "markdown",
   "id": "39d92efc-ce58-46fe-a385-e5ae775cc7cf",
   "metadata": {},
   "source": [
    "# VAR-BEKK-GARCH model for Period 4 (2020/2 - 2024/5) (Section 6.3.2)"
   ]
  },
  {
   "cell_type": "code",
   "execution_count": 1,
   "id": "ead11efc-4bef-4538-acf2-c26cc391ac13",
   "metadata": {},
   "outputs": [
    {
     "name": "stderr",
     "output_type": "stream",
     "text": [
      "Loading required package: zoo\n",
      "\n",
      "\n",
      "Attaching package: ‘zoo’\n",
      "\n",
      "\n",
      "The following objects are masked from ‘package:base’:\n",
      "\n",
      "    as.Date, as.Date.numeric\n",
      "\n",
      "\n",
      "\n",
      "Attaching package: ‘MTS’\n",
      "\n",
      "\n",
      "The following object is masked from ‘package:BEKKs’:\n",
      "\n",
      "    backtest\n",
      "\n",
      "\n",
      "Loading required package: MASS\n",
      "\n",
      "Loading required package: strucchange\n",
      "\n",
      "Loading required package: sandwich\n",
      "\n",
      "Loading required package: urca\n",
      "\n",
      "Loading required package: lmtest\n",
      "\n",
      "\n",
      "Attaching package: ‘vars’\n",
      "\n",
      "\n",
      "The following object is masked from ‘package:MTS’:\n",
      "\n",
      "    VAR\n",
      "\n",
      "\n",
      "\n",
      "Please cite as: \n",
      "\n",
      "\n",
      " Hlavac, Marek (2022). stargazer: Well-Formatted Regression and Summary Statistics Tables.\n",
      "\n",
      " R package version 5.2.3. https://CRAN.R-project.org/package=stargazer \n",
      "\n",
      "\n"
     ]
    }
   ],
   "source": [
    "library(xts)\n",
    "library(BEKKs)\n",
    "library(MTS)\n",
    "library(vars)\n",
    "library(stargazer)"
   ]
  },
  {
   "cell_type": "markdown",
   "id": "f2b22b27-979d-4165-b767-47ba408ad14f",
   "metadata": {},
   "source": [
    "# Dataset Preperation"
   ]
  },
  {
   "cell_type": "code",
   "execution_count": 2,
   "id": "50a613b1-53d1-4fcb-92bb-d53cede8160f",
   "metadata": {},
   "outputs": [
    {
     "data": {
      "text/plain": [
       "                     usc           lc\n",
       "2007-07-06  0.0033026687  0.005272420\n",
       "2007-07-09 -0.0108928380 -0.013233541\n",
       "2007-07-10 -0.0378502241 -0.040784991\n",
       "2007-07-11  0.0210431058  0.019240172\n",
       "2007-07-12  0.0057943185  0.004526943\n",
       "2007-07-13 -0.0009633912 -0.004526943"
      ]
     },
     "metadata": {},
     "output_type": "display_data"
    },
    {
     "data": {
      "text/plain": [
       "                  eurusd        gbpusd        chfusd        usdgbp       eurgbp\n",
       "2007-07-06  2.240547e-03 -0.0004972527 -0.0003044418  0.0007037652  0.002659380\n",
       "2007-07-09  7.337565e-05  0.0022605055  0.0012172115 -0.0025157246 -0.001993871\n",
       "2007-07-10  8.584371e-03  0.0057647029  0.0115503355 -0.0056582954  0.002805051\n",
       "2007-07-11 -7.274844e-05  0.0027838359 -0.0029504763 -0.0026379885 -0.002952903\n",
       "2007-07-12  3.485969e-03 -0.0009845428  0.0028903495  0.0008124302  0.004573291\n",
       "2007-07-13 -7.252421e-04  0.0019435396  0.0000000000 -0.0020323145 -0.003391083\n",
       "                  chfgbp        ghsusd        ghsgbp\n",
       "2007-07-06  0.0001273483 -0.0033264938 -2.614079e-03\n",
       "2007-07-09 -0.0009873737  0.0040086898  1.236683e-03\n",
       "2007-07-10  0.0059364761 -0.0002705906 -5.801912e-03\n",
       "2007-07-11 -0.0057330414  0.0026887042  4.994937e-05\n",
       "2007-07-12  0.0037670817  0.0027212691  3.716576e-03\n",
       "2007-07-13 -0.0020261005 -0.0051426368 -7.210559e-03"
      ]
     },
     "metadata": {},
     "output_type": "display_data"
    }
   ],
   "source": [
    "fr_d <- readRDS(\"fr_d.Rds\")\n",
    "fp_d <- readRDS(\"fp_d.Rds\")\n",
    "cr_d <- readRDS(\"cr_d.Rds\")\n",
    "cp_d <- readRDS(\"cp_d.Rds\")\n",
    "head(cr_d)\n",
    "head(fr_d)\n",
    "us_d <- cr_d[,1]\n",
    "l_d <- cr_d[,2]"
   ]
  },
  {
   "cell_type": "code",
   "execution_count": 3,
   "id": "9484800f-b3d2-48d4-9223-91a2faacad7d",
   "metadata": {},
   "outputs": [],
   "source": [
    "d <- na.omit(merge(cr_d,fr_d))\n",
    "colnames(d) <- c(\"US Cocoa\",\"London Cocoa\",\"EURUSD\",\"GBPUSD\",\"CHFUSD\",\"USDGBP\",\"EURGBP\",\"CHFGBP\",\"GHSUSD\",\"GHSGBP\")"
   ]
  },
  {
   "cell_type": "code",
   "execution_count": 4,
   "id": "d2fe46ae-439d-4546-8113-2f0e324dbe4f",
   "metadata": {},
   "outputs": [],
   "source": [
    "d_p <- na.omit(merge(cp_d,fp_d))\n",
    "colnames(d_p) <- c(\"US Cocoa\",\"London Cocoa\",\"EURUSD\",\"GBPUSD\",\"CHFUSD\",\"USDGBP\",\"EURGBP\",\"CHFGBP\",\"GHSUSD\",\"GHSGBP\")"
   ]
  },
  {
   "cell_type": "markdown",
   "id": "6b6f68a9-b49b-4f98-9310-7f8200cf763c",
   "metadata": {},
   "source": [
    "# Period 4: Data 2020/2 - 2024/5"
   ]
  },
  {
   "cell_type": "code",
   "execution_count": 5,
   "id": "00e076fc-7ece-462c-9d50-52f2b5186415",
   "metadata": {},
   "outputs": [
    {
     "name": "stdout",
     "output_type": "stream",
     "text": [
      "An xts object on 2020-02-03 / 2024-05-03 containing: \n",
      "  Data:    double [1049, 10]\n",
      "  Columns: US Cocoa, London Cocoa, EURUSD, GBPUSD, CHFUSD ... with 5 more columns\n",
      "  Index:   Date [1049] (TZ: \"UTC\")\n",
      "  xts Attributes:\n",
      "    $ na.action       : 'omit' int [1:216] 37 42 100 101 122 123 124 128 142 162 ...\n",
      "  ..- attr(*, \"index\")= num [1:216] 1.19e+09 1.19e+09 1.20e+09 1.20e+09 1.20e+09 ...\n",
      "    $ ret_type        : chr \"log\"\n",
      "    $ coredata_content: chr \"logReturn\"\n"
     ]
    },
    {
     "data": {
      "text/plain": [
       "               US Cocoa London Cocoa       EURUSD       GBPUSD        CHFUSD\n",
       "2020-02-03 -0.016196143 -0.005089070 -0.003069426 -0.015727916 -0.0027972046\n",
       "2020-02-04  0.009030222  0.000000000 -0.001447702  0.002728095 -0.0034833127\n",
       "2020-02-05  0.012151686  0.019202207 -0.004082934 -0.002189572 -0.0042739259\n",
       "2020-02-06  0.017606089  0.015889113 -0.001683387 -0.005552999 -0.0011687934\n",
       "2020-02-07  0.011452494  0.007361996 -0.003238241 -0.002904446 -0.0033679104\n",
       "2020-02-10 -0.006925235 -0.002447982 -0.003111276  0.001743680  0.0006354017\n",
       "                 USDGBP       EURGBP        CHFGBP       GHSUSD       GHSGBP\n",
       "2020-02-03  0.015717416  0.012889672  0.0129490487  0.009388869  0.025123068\n",
       "2020-02-04 -0.002732775 -0.004120804 -0.0062956642  0.008350745  0.005584836\n",
       "2020-02-05  0.002212822 -0.002007677 -0.0020230124 -0.003785183 -0.001560331\n",
       "2020-02-06  0.005575379  0.004129069  0.0043570302 -0.002762874  0.002799130\n",
       "2020-02-07  0.002905008  0.000000000 -0.0004411533  0.002075578  0.004971314\n",
       "2020-02-10 -0.001741992 -0.005311941 -0.0010721833  0.000589913 -0.001110366"
      ]
     },
     "metadata": {},
     "output_type": "display_data"
    },
    {
     "data": {
      "text/plain": [
       "              US Cocoa London Cocoa       EURUSD        GBPUSD       CHFUSD\n",
       "2024-04-26 -0.01962863  -0.02951879 -0.003314121 -0.0018396326 -0.002191682\n",
       "2024-04-29 -0.17075943  -0.15652942  0.002521598  0.0057476010  0.004059947\n",
       "2024-04-30  0.03865640   0.03216783 -0.005190202 -0.0057476010 -0.009744124\n",
       "2024-05-01 -0.11385883  -0.08952546  0.004257018  0.0028779299  0.004128825\n",
       "2024-05-02 -0.09105801  -0.10077335  0.001492677  0.0005586369  0.005524245\n",
       "2024-05-03  0.07413631   0.04940746  0.003071627  0.0009967904  0.005493896\n",
       "                  USDGBP        EURGBP        CHFGBP       GHSUSD        GHSGBP\n",
       "2024-04-26  0.0018128971 -0.0015173624 -0.0003996004 -0.003682821 -0.0018400829\n",
       "2024-04-29 -0.0056998056 -0.0031588210 -0.0016571906 -0.004412793 -0.0101599929\n",
       "2024-04-30  0.0056998056  0.0004686036 -0.0040688901 -0.001468434  0.0042437477\n",
       "2024-05-01 -0.0028145248  0.0018722215  0.0013772526 -0.002189577 -0.0050328783\n",
       "2024-05-02 -0.0006265272  0.0001168975  0.0049196369 -0.003637066 -0.0041962674\n",
       "2024-05-03 -0.0009405274  0.0025682947  0.0044411620  0.001449549  0.0004565954"
      ]
     },
     "metadata": {},
     "output_type": "display_data"
    }
   ],
   "source": [
    "d <- d[\"2020-2/2024-5\"]\n",
    "str(d)\n",
    "head(d)\n",
    "tail(d)"
   ]
  },
  {
   "cell_type": "markdown",
   "id": "ea03d186-9045-45c3-9cf5-0a23af8307b9",
   "metadata": {},
   "source": [
    "# VAR-BEKK Models for the subsample"
   ]
  },
  {
   "cell_type": "markdown",
   "id": "1f93681f-9a7d-4e26-8e1a-5cd1ac8c65d7",
   "metadata": {},
   "source": [
    "#### The estimation of the VAR-BEKK model is conducted in two stages, VAR model is the model specification for the mean equation (first stage) and BEKK is the specification for the variance equation (second stage)."
   ]
  },
  {
   "cell_type": "markdown",
   "id": "f99262dd-b5cf-464b-9ae6-a1b7b4c68914",
   "metadata": {},
   "source": [
    "## (i) Spillover between US Cocoa and London Cocoa"
   ]
  },
  {
   "cell_type": "code",
   "execution_count": 6,
   "id": "6c8278ef-72ee-4a73-bb4b-1b6a755241ac",
   "metadata": {},
   "outputs": [
    {
     "name": "stdout",
     "output_type": "stream",
     "text": [
      "An xts object on 2020-02-03 / 2024-05-03 containing: \n",
      "  Data:    double [1049, 2]\n",
      "  Columns: usc, lc\n",
      "  Index:   Date [1049] (TZ: \"UTC\")\n",
      "  xts Attributes:\n",
      "    $ na.action       : 'omit' int [1:159] 37 42 100 101 122 123 140 160 184 214 ...\n",
      "  ..- attr(*, \"index\")= num [1:159] 1.19e+09 1.19e+09 1.20e+09 1.20e+09 1.20e+09 ...\n",
      "    $ ret_type        : chr \"log\"\n",
      "    $ coredata_content: chr \"logReturn\"\n"
     ]
    },
    {
     "data": {
      "text/plain": [
       "                    usc           lc\n",
       "2020-02-03 -0.016196143 -0.005089070\n",
       "2020-02-04  0.009030222  0.000000000\n",
       "2020-02-05  0.012151686  0.019202207\n",
       "2020-02-06  0.017606089  0.015889113\n",
       "2020-02-07  0.011452494  0.007361996\n",
       "2020-02-10 -0.006925235 -0.002447982"
      ]
     },
     "metadata": {},
     "output_type": "display_data"
    },
    {
     "data": {
      "text/plain": [
       "                   usc          lc\n",
       "2024-04-26 -0.01962863 -0.02951879\n",
       "2024-04-29 -0.17075943 -0.15652942\n",
       "2024-04-30  0.03865640  0.03216783\n",
       "2024-05-01 -0.11385883 -0.08952546\n",
       "2024-05-02 -0.09105801 -0.10077335\n",
       "2024-05-03  0.07413631  0.04940746"
      ]
     },
     "metadata": {},
     "output_type": "display_data"
    }
   ],
   "source": [
    "cr_d <- cr_d[\"2020-2/2024-5\"]\n",
    "str(cr_d)\n",
    "head(cr_d)\n",
    "tail(cr_d)"
   ]
  },
  {
   "cell_type": "code",
   "execution_count": 7,
   "id": "f4cad327-c582-4955-b082-15d770fc6958",
   "metadata": {},
   "outputs": [
    {
     "data": {
      "text/html": [
       "<dl>\n",
       "\t<dt>$selection</dt>\n",
       "\t\t<dd><style>\n",
       ".dl-inline {width: auto; margin:0; padding: 0}\n",
       ".dl-inline>dt, .dl-inline>dd {float: none; width: auto; display: inline-block}\n",
       ".dl-inline>dt::after {content: \":\\0020\"; padding-right: .5ex}\n",
       ".dl-inline>dt:not(:first-of-type) {padding-left: .5ex}\n",
       "</style><dl class=dl-inline><dt>AIC(n)</dt><dd>1</dd><dt>HQ(n)</dt><dd>1</dd><dt>SC(n)</dt><dd>1</dd><dt>FPE(n)</dt><dd>1</dd></dl>\n",
       "</dd>\n",
       "\t<dt>$criteria</dt>\n",
       "\t\t<dd><table class=\"dataframe\">\n",
       "<caption>A matrix: 4 × 10 of type dbl</caption>\n",
       "<thead>\n",
       "\t<tr><th></th><th scope=col>1</th><th scope=col>2</th><th scope=col>3</th><th scope=col>4</th><th scope=col>5</th><th scope=col>6</th><th scope=col>7</th><th scope=col>8</th><th scope=col>9</th><th scope=col>10</th></tr>\n",
       "</thead>\n",
       "<tbody>\n",
       "\t<tr><th scope=row>AIC(n)</th><td>-1.776818e+01</td><td>-1.776224e+01</td><td>-1.775684e+01</td><td>-1.776088e+01</td><td>-1.775943e+01</td><td>-1.775837e+01</td><td>-1.775555e+01</td><td>-1.775300e+01</td><td>-1.775008e+01</td><td>-1.774590e+01</td></tr>\n",
       "\t<tr><th scope=row>HQ(n)</th><td>-1.775734e+01</td><td>-1.774418e+01</td><td>-1.773156e+01</td><td>-1.772837e+01</td><td>-1.771970e+01</td><td>-1.771142e+01</td><td>-1.770138e+01</td><td>-1.769160e+01</td><td>-1.768145e+01</td><td>-1.767005e+01</td></tr>\n",
       "\t<tr><th scope=row>SC(n)</th><td>-1.773962e+01</td><td>-1.771464e+01</td><td>-1.769020e+01</td><td>-1.767519e+01</td><td>-1.765471e+01</td><td>-1.763460e+01</td><td>-1.761274e+01</td><td>-1.759115e+01</td><td>-1.756918e+01</td><td>-1.754596e+01</td></tr>\n",
       "\t<tr><th scope=row>FPE(n)</th><td> 1.920341e-08</td><td> 1.931780e-08</td><td> 1.942237e-08</td><td> 1.934409e-08</td><td> 1.937208e-08</td><td> 1.939270e-08</td><td> 1.944747e-08</td><td> 1.949726e-08</td><td> 1.955430e-08</td><td> 1.963630e-08</td></tr>\n",
       "</tbody>\n",
       "</table>\n",
       "</dd>\n",
       "</dl>\n"
      ],
      "text/latex": [
       "\\begin{description}\n",
       "\\item[\\$selection] \\begin{description*}\n",
       "\\item[AIC(n)] 1\n",
       "\\item[HQ(n)] 1\n",
       "\\item[SC(n)] 1\n",
       "\\item[FPE(n)] 1\n",
       "\\end{description*}\n",
       "\n",
       "\\item[\\$criteria] A matrix: 4 × 10 of type dbl\n",
       "\\begin{tabular}{r|llllllllll}\n",
       "  & 1 & 2 & 3 & 4 & 5 & 6 & 7 & 8 & 9 & 10\\\\\n",
       "\\hline\n",
       "\tAIC(n) & -1.776818e+01 & -1.776224e+01 & -1.775684e+01 & -1.776088e+01 & -1.775943e+01 & -1.775837e+01 & -1.775555e+01 & -1.775300e+01 & -1.775008e+01 & -1.774590e+01\\\\\n",
       "\tHQ(n) & -1.775734e+01 & -1.774418e+01 & -1.773156e+01 & -1.772837e+01 & -1.771970e+01 & -1.771142e+01 & -1.770138e+01 & -1.769160e+01 & -1.768145e+01 & -1.767005e+01\\\\\n",
       "\tSC(n) & -1.773962e+01 & -1.771464e+01 & -1.769020e+01 & -1.767519e+01 & -1.765471e+01 & -1.763460e+01 & -1.761274e+01 & -1.759115e+01 & -1.756918e+01 & -1.754596e+01\\\\\n",
       "\tFPE(n) &  1.920341e-08 &  1.931780e-08 &  1.942237e-08 &  1.934409e-08 &  1.937208e-08 &  1.939270e-08 &  1.944747e-08 &  1.949726e-08 &  1.955430e-08 &  1.963630e-08\\\\\n",
       "\\end{tabular}\n",
       "\n",
       "\\end{description}\n"
      ],
      "text/markdown": [
       "$selection\n",
       ":   AIC(n)\n",
       ":   1HQ(n)\n",
       ":   1SC(n)\n",
       ":   1FPE(n)\n",
       ":   1\n",
       "\n",
       "\n",
       "$criteria\n",
       ":   \n",
       "A matrix: 4 × 10 of type dbl\n",
       "\n",
       "| <!--/--> | 1 | 2 | 3 | 4 | 5 | 6 | 7 | 8 | 9 | 10 |\n",
       "|---|---|---|---|---|---|---|---|---|---|---|\n",
       "| AIC(n) | -1.776818e+01 | -1.776224e+01 | -1.775684e+01 | -1.776088e+01 | -1.775943e+01 | -1.775837e+01 | -1.775555e+01 | -1.775300e+01 | -1.775008e+01 | -1.774590e+01 |\n",
       "| HQ(n) | -1.775734e+01 | -1.774418e+01 | -1.773156e+01 | -1.772837e+01 | -1.771970e+01 | -1.771142e+01 | -1.770138e+01 | -1.769160e+01 | -1.768145e+01 | -1.767005e+01 |\n",
       "| SC(n) | -1.773962e+01 | -1.771464e+01 | -1.769020e+01 | -1.767519e+01 | -1.765471e+01 | -1.763460e+01 | -1.761274e+01 | -1.759115e+01 | -1.756918e+01 | -1.754596e+01 |\n",
       "| FPE(n) |  1.920341e-08 |  1.931780e-08 |  1.942237e-08 |  1.934409e-08 |  1.937208e-08 |  1.939270e-08 |  1.944747e-08 |  1.949726e-08 |  1.955430e-08 |  1.963630e-08 |\n",
       "\n",
       "\n",
       "\n",
       "\n"
      ],
      "text/plain": [
       "$selection\n",
       "AIC(n)  HQ(n)  SC(n) FPE(n) \n",
       "     1      1      1      1 \n",
       "\n",
       "$criteria\n",
       "                   1             2             3             4             5\n",
       "AIC(n) -1.776818e+01 -1.776224e+01 -1.775684e+01 -1.776088e+01 -1.775943e+01\n",
       "HQ(n)  -1.775734e+01 -1.774418e+01 -1.773156e+01 -1.772837e+01 -1.771970e+01\n",
       "SC(n)  -1.773962e+01 -1.771464e+01 -1.769020e+01 -1.767519e+01 -1.765471e+01\n",
       "FPE(n)  1.920341e-08  1.931780e-08  1.942237e-08  1.934409e-08  1.937208e-08\n",
       "                   6             7             8             9            10\n",
       "AIC(n) -1.775837e+01 -1.775555e+01 -1.775300e+01 -1.775008e+01 -1.774590e+01\n",
       "HQ(n)  -1.771142e+01 -1.770138e+01 -1.769160e+01 -1.768145e+01 -1.767005e+01\n",
       "SC(n)  -1.763460e+01 -1.761274e+01 -1.759115e+01 -1.756918e+01 -1.754596e+01\n",
       "FPE(n)  1.939270e-08  1.944747e-08  1.949726e-08  1.955430e-08  1.963630e-08\n"
      ]
     },
     "metadata": {},
     "output_type": "display_data"
    }
   ],
   "source": [
    "VARselect(cr_d)"
   ]
  },
  {
   "cell_type": "code",
   "execution_count": 8,
   "id": "baac34f0-965c-4793-b81d-2a5ee2be9896",
   "metadata": {},
   "outputs": [
    {
     "data": {
      "text/plain": [
       "\n",
       "VAR Estimation Results:\n",
       "========================= \n",
       "Endogenous variables: usc, lc \n",
       "Deterministic variables: const \n",
       "Sample size: 1048 \n",
       "Log Likelihood: 6347.742 \n",
       "Roots of the characteristic polynomial:\n",
       "0.07616 0.0106\n",
       "Call:\n",
       "VAR(y = cr_d, p = 1, type = \"const\")\n",
       "\n",
       "\n",
       "Estimation results for equation usc: \n",
       "==================================== \n",
       "usc = usc.l1 + lc.l1 + const \n",
       "\n",
       "        Estimate Std. Error t value Pr(>|t|)  \n",
       "usc.l1 0.0319187  0.0672790   0.474   0.6353  \n",
       "lc.l1  0.0189529  0.0745933   0.254   0.7995  \n",
       "const  0.0010109  0.0005664   1.785   0.0746 .\n",
       "---\n",
       "Signif. codes:  0 ‘***’ 0.001 ‘**’ 0.01 ‘*’ 0.05 ‘.’ 0.1 ‘ ’ 1\n",
       "\n",
       "\n",
       "Residual standard error: 0.01829 on 1045 degrees of freedom\n",
       "Multiple R-Squared: 0.002246,\tAdjusted R-squared: 0.0003361 \n",
       "F-statistic: 1.176 on 2 and 1045 DF,  p-value: 0.3089 \n",
       "\n",
       "\n",
       "Estimation results for equation lc: \n",
       "=================================== \n",
       "lc = usc.l1 + lc.l1 + const \n",
       "\n",
       "        Estimate Std. Error t value Pr(>|t|)  \n",
       "usc.l1 0.0497612  0.0602129   0.826    0.409  \n",
       "lc.l1  0.0548441  0.0667590   0.822    0.412  \n",
       "const  0.0010172  0.0005069   2.007    0.045 *\n",
       "---\n",
       "Signif. codes:  0 ‘***’ 0.001 ‘**’ 0.01 ‘*’ 0.05 ‘.’ 0.1 ‘ ’ 1\n",
       "\n",
       "\n",
       "Residual standard error: 0.01637 on 1045 degrees of freedom\n",
       "Multiple R-Squared: 0.01132,\tAdjusted R-squared: 0.009432 \n",
       "F-statistic: 5.985 on 2 and 1045 DF,  p-value: 0.002604 \n",
       "\n",
       "\n",
       "\n",
       "Covariance matrix of residuals:\n",
       "          usc        lc\n",
       "usc 0.0003347 0.0002661\n",
       "lc  0.0002661 0.0002681\n",
       "\n",
       "Correlation matrix of residuals:\n",
       "       usc     lc\n",
       "usc 1.0000 0.8885\n",
       "lc  0.8885 1.0000\n",
       "\n"
      ]
     },
     "metadata": {},
     "output_type": "display_data"
    }
   ],
   "source": [
    "var_cr<-VAR(cr_d,p = 1,type = \"const\")\n",
    "summary(var_cr)\n",
    "res_cr <- residuals(var_cr)\n",
    "res_cr <- as.data.frame(res_cr)"
   ]
  },
  {
   "cell_type": "code",
   "execution_count": 9,
   "id": "2237673b-68ed-44b1-9964-513d99ee0ae4",
   "metadata": {},
   "outputs": [
    {
     "name": "stdout",
     "output_type": "stream",
     "text": [
      " Date[1:1048], format: \"2020-02-04\" \"2020-02-05\" \"2020-02-06\" \"2020-02-07\" \"2020-02-10\" ...\n"
     ]
    }
   ],
   "source": [
    "ind_var <- index(cr_d)[-1]\n",
    "str(ind_var)"
   ]
  },
  {
   "cell_type": "code",
   "execution_count": 10,
   "id": "48867095-4e6e-4c3a-8a23-1879308fe54a",
   "metadata": {},
   "outputs": [
    {
     "name": "stdout",
     "output_type": "stream",
     "text": [
      "An xts object on 2020-02-04 / 2024-05-03 containing: \n",
      "  Data:    double [1048, 2]\n",
      "  Columns: usc, lc\n",
      "  Index:   Date [1048] (TZ: \"UTC\")\n"
     ]
    },
    {
     "data": {
      "text/plain": [
       "                    usc            lc\n",
       "2020-02-04  0.008632741  6.788391e-05\n",
       "2020-02-05  0.010852560  1.773569e-02\n",
       "2020-02-06  0.015843392  1.321414e-02\n",
       "2020-02-07  0.009578492  4.597311e-03\n",
       "2020-02-10 -0.008441209 -4.438795e-03\n",
       "2020-02-11 -0.001438621 -2.992285e-03"
      ]
     },
     "metadata": {},
     "output_type": "display_data"
    }
   ],
   "source": [
    "res_cr <- xts(res_cr,order.by = ind_var)\n",
    "str(res_cr)\n",
    "head(res_cr)"
   ]
  },
  {
   "cell_type": "code",
   "execution_count": 11,
   "id": "7c41d7e5-5ccd-4220-a693-1ce2caf1cc3f",
   "metadata": {},
   "outputs": [],
   "source": [
    "bekk_spec <- bekk_spec(model = list(type = \"bekk\",asymmetric = F))\n",
    "bekk_fit <- bekk_fit(spec = bekk_spec,data = res_cr)"
   ]
  },
  {
   "cell_type": "code",
   "execution_count": 12,
   "id": "64ff8c44-58e5-414d-9e9b-205f77ab801f",
   "metadata": {},
   "outputs": [
    {
     "data": {
      "text/html": [
       "<table class=\"dataframe\">\n",
       "<caption>A matrix: 2 × 2 of type dbl</caption>\n",
       "<tbody>\n",
       "\t<tr><td>0.07167476</td><td>-0.08274346</td></tr>\n",
       "\t<tr><td>0.20230714</td><td> 0.41419341</td></tr>\n",
       "</tbody>\n",
       "</table>\n"
      ],
      "text/latex": [
       "A matrix: 2 × 2 of type dbl\n",
       "\\begin{tabular}{ll}\n",
       "\t 0.07167476 & -0.08274346\\\\\n",
       "\t 0.20230714 &  0.41419341\\\\\n",
       "\\end{tabular}\n"
      ],
      "text/markdown": [
       "\n",
       "A matrix: 2 × 2 of type dbl\n",
       "\n",
       "| 0.07167476 | -0.08274346 |\n",
       "| 0.20230714 |  0.41419341 |\n",
       "\n"
      ],
      "text/plain": [
       "     [,1]       [,2]       \n",
       "[1,] 0.07167476 -0.08274346\n",
       "[2,] 0.20230714  0.41419341"
      ]
     },
     "metadata": {},
     "output_type": "display_data"
    },
    {
     "data": {
      "text/html": [
       "<table class=\"dataframe\">\n",
       "<caption>A matrix: 2 × 2 of type dbl</caption>\n",
       "<tbody>\n",
       "\t<tr><td>1.412794</td><td>-1.841455</td></tr>\n",
       "\t<tr><td>3.009310</td><td> 7.312562</td></tr>\n",
       "</tbody>\n",
       "</table>\n"
      ],
      "text/latex": [
       "A matrix: 2 × 2 of type dbl\n",
       "\\begin{tabular}{ll}\n",
       "\t 1.412794 & -1.841455\\\\\n",
       "\t 3.009310 &  7.312562\\\\\n",
       "\\end{tabular}\n"
      ],
      "text/markdown": [
       "\n",
       "A matrix: 2 × 2 of type dbl\n",
       "\n",
       "| 1.412794 | -1.841455 |\n",
       "| 3.009310 |  7.312562 |\n",
       "\n"
      ],
      "text/plain": [
       "     [,1]     [,2]     \n",
       "[1,] 1.412794 -1.841455\n",
       "[2,] 3.009310  7.312562"
      ]
     },
     "metadata": {},
     "output_type": "display_data"
    },
    {
     "data": {
      "text/html": [
       "<table class=\"dataframe\">\n",
       "<caption>A matrix: 2 × 2 of type dbl</caption>\n",
       "<tbody>\n",
       "\t<tr><td> 1.0081234</td><td>0.03946405</td></tr>\n",
       "\t<tr><td>-0.0504013</td><td>0.88868695</td></tr>\n",
       "</tbody>\n",
       "</table>\n"
      ],
      "text/latex": [
       "A matrix: 2 × 2 of type dbl\n",
       "\\begin{tabular}{ll}\n",
       "\t  1.0081234 & 0.03946405\\\\\n",
       "\t -0.0504013 & 0.88868695\\\\\n",
       "\\end{tabular}\n"
      ],
      "text/markdown": [
       "\n",
       "A matrix: 2 × 2 of type dbl\n",
       "\n",
       "|  1.0081234 | 0.03946405 |\n",
       "| -0.0504013 | 0.88868695 |\n",
       "\n"
      ],
      "text/plain": [
       "     [,1]       [,2]      \n",
       "[1,]  1.0081234 0.03946405\n",
       "[2,] -0.0504013 0.88868695"
      ]
     },
     "metadata": {},
     "output_type": "display_data"
    },
    {
     "data": {
      "text/html": [
       "<table class=\"dataframe\">\n",
       "<caption>A matrix: 2 × 2 of type dbl</caption>\n",
       "<tbody>\n",
       "\t<tr><td>67.502756</td><td> 2.199507</td></tr>\n",
       "\t<tr><td>-2.063715</td><td>32.817876</td></tr>\n",
       "</tbody>\n",
       "</table>\n"
      ],
      "text/latex": [
       "A matrix: 2 × 2 of type dbl\n",
       "\\begin{tabular}{ll}\n",
       "\t 67.502756 &  2.199507\\\\\n",
       "\t -2.063715 & 32.817876\\\\\n",
       "\\end{tabular}\n"
      ],
      "text/markdown": [
       "\n",
       "A matrix: 2 × 2 of type dbl\n",
       "\n",
       "| 67.502756 |  2.199507 |\n",
       "| -2.063715 | 32.817876 |\n",
       "\n"
      ],
      "text/plain": [
       "     [,1]      [,2]     \n",
       "[1,] 67.502756  2.199507\n",
       "[2,] -2.063715 32.817876"
      ]
     },
     "metadata": {},
     "output_type": "display_data"
    }
   ],
   "source": [
    "bekk_fit$A\n",
    "bekk_fit$A_t\n",
    "bekk_fit$G\n",
    "bekk_fit$G_t"
   ]
  },
  {
   "cell_type": "markdown",
   "id": "ea2cfc45-9c71-41d7-be88-97300d3737f0",
   "metadata": {},
   "source": [
    "### VAR-BEKK Model Table for US Cocoa - London Cocoa"
   ]
  },
  {
   "cell_type": "code",
   "execution_count": 13,
   "id": "4113e676-f3ef-459f-8d2e-cc0255710ee3",
   "metadata": {},
   "outputs": [
    {
     "data": {
      "text/html": [
       "<table class=\"dataframe\">\n",
       "<caption>A data.frame: 14 × 5</caption>\n",
       "<thead>\n",
       "\t<tr><th scope=col>Parameters</th><th scope=col>Coefficient</th><th scope=col>Std_error</th><th scope=col>T_value</th><th scope=col>Significant_at_5p_level</th></tr>\n",
       "\t<tr><th scope=col>&lt;chr&gt;</th><th scope=col>&lt;dbl&gt;</th><th scope=col>&lt;dbl&gt;</th><th scope=col>&lt;dbl&gt;</th><th scope=col>&lt;chr&gt;</th></tr>\n",
       "</thead>\n",
       "<tbody>\n",
       "\t<tr><td>mu10 </td><td> 0.001010893</td><td>0.0005663626</td><td> 1.7848874</td><td>Stat significant at 10%      </td></tr>\n",
       "\t<tr><td>mu20 </td><td> 0.001017161</td><td>0.0005068792</td><td> 2.0067130</td><td>Stat significant at 5%       </td></tr>\n",
       "\t<tr><td>phi11</td><td> 0.031918692</td><td>0.0672789663</td><td> 0.4744230</td><td>Not Statistically Significant</td></tr>\n",
       "\t<tr><td>phi12</td><td> 0.018952908</td><td>0.0745933230</td><td> 0.2540832</td><td>Not Statistically Significant</td></tr>\n",
       "\t<tr><td>phi21</td><td> 0.049761215</td><td>0.0602128552</td><td> 0.8264218</td><td>Not Statistically Significant</td></tr>\n",
       "\t<tr><td>phi22</td><td> 0.054844064</td><td>0.0667590065</td><td> 0.8215231</td><td>Not Statistically Significant</td></tr>\n",
       "\t<tr><td>a11  </td><td> 0.071674760</td><td>0.0507326304</td><td> 1.4127941</td><td>Not Statistically Significant</td></tr>\n",
       "\t<tr><td>a12  </td><td>-0.082743458</td><td>0.0449337308</td><td>-1.8414553</td><td>Stat significant at 10%      </td></tr>\n",
       "\t<tr><td>a21  </td><td> 0.202307139</td><td>0.0672270790</td><td> 3.0093103</td><td>Stat significant at 1%       </td></tr>\n",
       "\t<tr><td>a22  </td><td> 0.414193409</td><td>0.0566413553</td><td> 7.3125618</td><td>Stat significant at 1%       </td></tr>\n",
       "\t<tr><td>g11  </td><td> 1.008123446</td><td>0.0149345523</td><td>67.5027562</td><td>Stat significant at 1%       </td></tr>\n",
       "\t<tr><td>g12  </td><td> 0.039464052</td><td>0.0179422243</td><td> 2.1995072</td><td>Stat significant at 5%       </td></tr>\n",
       "\t<tr><td>g21  </td><td>-0.050401304</td><td>0.0244226115</td><td>-2.0637148</td><td>Stat significant at 5%       </td></tr>\n",
       "\t<tr><td>g22  </td><td> 0.888686948</td><td>0.0270793562</td><td>32.8178758</td><td>Stat significant at 1%       </td></tr>\n",
       "</tbody>\n",
       "</table>\n"
      ],
      "text/latex": [
       "A data.frame: 14 × 5\n",
       "\\begin{tabular}{lllll}\n",
       " Parameters & Coefficient & Std\\_error & T\\_value & Significant\\_at\\_5p\\_level\\\\\n",
       " <chr> & <dbl> & <dbl> & <dbl> & <chr>\\\\\n",
       "\\hline\n",
       "\t mu10  &  0.001010893 & 0.0005663626 &  1.7848874 & Stat significant at 10\\%      \\\\\n",
       "\t mu20  &  0.001017161 & 0.0005068792 &  2.0067130 & Stat significant at 5\\%       \\\\\n",
       "\t phi11 &  0.031918692 & 0.0672789663 &  0.4744230 & Not Statistically Significant\\\\\n",
       "\t phi12 &  0.018952908 & 0.0745933230 &  0.2540832 & Not Statistically Significant\\\\\n",
       "\t phi21 &  0.049761215 & 0.0602128552 &  0.8264218 & Not Statistically Significant\\\\\n",
       "\t phi22 &  0.054844064 & 0.0667590065 &  0.8215231 & Not Statistically Significant\\\\\n",
       "\t a11   &  0.071674760 & 0.0507326304 &  1.4127941 & Not Statistically Significant\\\\\n",
       "\t a12   & -0.082743458 & 0.0449337308 & -1.8414553 & Stat significant at 10\\%      \\\\\n",
       "\t a21   &  0.202307139 & 0.0672270790 &  3.0093103 & Stat significant at 1\\%       \\\\\n",
       "\t a22   &  0.414193409 & 0.0566413553 &  7.3125618 & Stat significant at 1\\%       \\\\\n",
       "\t g11   &  1.008123446 & 0.0149345523 & 67.5027562 & Stat significant at 1\\%       \\\\\n",
       "\t g12   &  0.039464052 & 0.0179422243 &  2.1995072 & Stat significant at 5\\%       \\\\\n",
       "\t g21   & -0.050401304 & 0.0244226115 & -2.0637148 & Stat significant at 5\\%       \\\\\n",
       "\t g22   &  0.888686948 & 0.0270793562 & 32.8178758 & Stat significant at 1\\%       \\\\\n",
       "\\end{tabular}\n"
      ],
      "text/markdown": [
       "\n",
       "A data.frame: 14 × 5\n",
       "\n",
       "| Parameters &lt;chr&gt; | Coefficient &lt;dbl&gt; | Std_error &lt;dbl&gt; | T_value &lt;dbl&gt; | Significant_at_5p_level &lt;chr&gt; |\n",
       "|---|---|---|---|---|\n",
       "| mu10  |  0.001010893 | 0.0005663626 |  1.7848874 | Stat significant at 10%       |\n",
       "| mu20  |  0.001017161 | 0.0005068792 |  2.0067130 | Stat significant at 5%        |\n",
       "| phi11 |  0.031918692 | 0.0672789663 |  0.4744230 | Not Statistically Significant |\n",
       "| phi12 |  0.018952908 | 0.0745933230 |  0.2540832 | Not Statistically Significant |\n",
       "| phi21 |  0.049761215 | 0.0602128552 |  0.8264218 | Not Statistically Significant |\n",
       "| phi22 |  0.054844064 | 0.0667590065 |  0.8215231 | Not Statistically Significant |\n",
       "| a11   |  0.071674760 | 0.0507326304 |  1.4127941 | Not Statistically Significant |\n",
       "| a12   | -0.082743458 | 0.0449337308 | -1.8414553 | Stat significant at 10%       |\n",
       "| a21   |  0.202307139 | 0.0672270790 |  3.0093103 | Stat significant at 1%        |\n",
       "| a22   |  0.414193409 | 0.0566413553 |  7.3125618 | Stat significant at 1%        |\n",
       "| g11   |  1.008123446 | 0.0149345523 | 67.5027562 | Stat significant at 1%        |\n",
       "| g12   |  0.039464052 | 0.0179422243 |  2.1995072 | Stat significant at 5%        |\n",
       "| g21   | -0.050401304 | 0.0244226115 | -2.0637148 | Stat significant at 5%        |\n",
       "| g22   |  0.888686948 | 0.0270793562 | 32.8178758 | Stat significant at 1%        |\n",
       "\n"
      ],
      "text/plain": [
       "   Parameters Coefficient  Std_error    T_value   \n",
       "1  mu10        0.001010893 0.0005663626  1.7848874\n",
       "2  mu20        0.001017161 0.0005068792  2.0067130\n",
       "3  phi11       0.031918692 0.0672789663  0.4744230\n",
       "4  phi12       0.018952908 0.0745933230  0.2540832\n",
       "5  phi21       0.049761215 0.0602128552  0.8264218\n",
       "6  phi22       0.054844064 0.0667590065  0.8215231\n",
       "7  a11         0.071674760 0.0507326304  1.4127941\n",
       "8  a12        -0.082743458 0.0449337308 -1.8414553\n",
       "9  a21         0.202307139 0.0672270790  3.0093103\n",
       "10 a22         0.414193409 0.0566413553  7.3125618\n",
       "11 g11         1.008123446 0.0149345523 67.5027562\n",
       "12 g12         0.039464052 0.0179422243  2.1995072\n",
       "13 g21        -0.050401304 0.0244226115 -2.0637148\n",
       "14 g22         0.888686948 0.0270793562 32.8178758\n",
       "   Significant_at_5p_level      \n",
       "1  Stat significant at 10%      \n",
       "2  Stat significant at 5%       \n",
       "3  Not Statistically Significant\n",
       "4  Not Statistically Significant\n",
       "5  Not Statistically Significant\n",
       "6  Not Statistically Significant\n",
       "7  Not Statistically Significant\n",
       "8  Stat significant at 10%      \n",
       "9  Stat significant at 1%       \n",
       "10 Stat significant at 1%       \n",
       "11 Stat significant at 1%       \n",
       "12 Stat significant at 5%       \n",
       "13 Stat significant at 5%       \n",
       "14 Stat significant at 1%       "
      ]
     },
     "metadata": {},
     "output_type": "display_data"
    }
   ],
   "source": [
    "bekkc <- data.frame(Parameters = c(\"mu10\",\"mu20\",\"phi11\",\"phi12\",\"phi21\",\"phi22\",\"a11\",\"a12\",\"a21\",\"a22\",\"g11\",\"g12\",\"g21\",\"g22\"),\n",
    "                   Coefficient = c(summary(var_cr)$varresult$usc$coefficients[\"const\",\"Estimate\"],summary(var_cr)$varresult$lc$coefficients[\"const\",\"Estimate\"],\n",
    "                                   summary(var_cr)$varresult$usc$coefficients[\"usc.l1\",\"Estimate\"],summary(var_cr)$varresult$usc$coefficients[\"lc.l1\",\"Estimate\"],\n",
    "                                   summary(var_cr)$varresult$lc$coefficients[\"usc.l1\",\"Estimate\"],summary(var_cr)$varresult$lc$coefficients[\"lc.l1\",\"Estimate\"],\n",
    "                                   bekk_fit$A[1,1],bekk_fit$A[1,2],bekk_fit$A[2,1],bekk_fit$A[2,2],bekk_fit$G[1,1],bekk_fit$G[1,2],bekk_fit$G[2,1],bekk_fit$G[2,2]),\n",
    "                   Std_error = c(summary(var_cr)$varresult$usc$coefficients[\"const\",\"Std. Error\"],summary(var_cr)$varresult$lc$coefficients[\"const\",\"Std. Error\"],\n",
    "                               summary(var_cr)$varresult$usc$coefficients[\"usc.l1\",\"Std. Error\"],summary(var_cr)$varresult$usc$coefficients[\"lc.l1\",\"Std. Error\"],\n",
    "                                 summary(var_cr)$varresult$lc$coefficients[\"usc.l1\",\"Std. Error\"],summary(var_cr)$varresult$lc$coefficients[\"lc.l1\",\"Std. Error\"],\n",
    "                                 bekk_fit$A_sd[1,1],bekk_fit$A_sd[1,2],bekk_fit$A_sd[2,1],bekk_fit$A_sd[2,2],bekk_fit$G_sd[1,1],bekk_fit$G_sd[1,2],bekk_fit$G_sd[2,1],bekk_fit$G_sd[2,2]),\n",
    "                   T_value = c(summary(var_cr)$varresult$usc$coefficients[\"const\",\"t value\"],summary(var_cr)$varresult$lc$coefficients[\"const\",\"t value\"],\n",
    "                               summary(var_cr)$varresult$usc$coefficients[\"usc.l1\",\"t value\"],summary(var_cr)$varresult$usc$coefficients[\"lc.l1\",\"t value\"],\n",
    "                               summary(var_cr)$varresult$lc$coefficients[\"usc.l1\",\"t value\"],summary(var_cr)$varresult$lc$coefficients[\"lc.l1\",\"t value\"],\n",
    "                               bekk_fit$A_t[1,1],bekk_fit$A_t[1,2],bekk_fit$A_t[2,1],bekk_fit$A_t[2,2],bekk_fit$G_t[1,1],bekk_fit$G_t[1,2],\n",
    "                                 bekk_fit$G_t[2,1],bekk_fit$G_t[2,2]))\n",
    "\n",
    "bekkc$Significant_at_5p_level[abs(bekkc$T_value) >= 2.58 ] <- \"Stat significant at 1%\"\n",
    "bekkc$Significant_at_5p_level[abs(bekkc$T_value) > 1.96 & abs(bekkc$T_value) < 2.58] <- \"Stat significant at 5%\"\n",
    "bekkc$Significant_at_5p_level[abs(bekkc$T_value) > 1.645 & abs(bekkc$T_value) <= 1.96 ] <- \"Stat significant at 10%\"\n",
    "bekkc$Significant_at_5p_level[abs(bekkc$T_value) <= 1.645] <- \"Not Statistically Significant\"\n",
    "bekkc"
   ]
  },
  {
   "cell_type": "code",
   "execution_count": 14,
   "id": "1bb458b6-957a-4362-b35d-2664e997b30a",
   "metadata": {},
   "outputs": [
    {
     "data": {
      "text/plain": [
       "\n",
       "\tGranger causality H0: usc do not Granger-cause lc\n",
       "\n",
       "data:  VAR object var_cr\n",
       "F-Test = 0.68297, df1 = 1, df2 = 2090, p-value = 0.4087\n"
      ]
     },
     "metadata": {},
     "output_type": "display_data"
    },
    {
     "data": {
      "text/plain": [
       "\n",
       "\tGranger causality H0: lc do not Granger-cause usc\n",
       "\n",
       "data:  VAR object var_cr\n",
       "F-Test = 0.064558, df1 = 1, df2 = 2090, p-value = 0.7995\n"
      ]
     },
     "metadata": {},
     "output_type": "display_data"
    }
   ],
   "source": [
    "causality(var_cr,cause = \"usc\")$Granger\n",
    "causality(var_cr,cause = \"lc\")$Granger"
   ]
  },
  {
   "cell_type": "markdown",
   "id": "cd39f0b5-0ece-4e74-800f-aee9b05e479f",
   "metadata": {},
   "source": [
    "## (ii) VAR-BEKK Models for US Cocoa"
   ]
  },
  {
   "cell_type": "code",
   "execution_count": 15,
   "id": "04c91a1d-df4b-4ca6-9115-741baad7ccad",
   "metadata": {},
   "outputs": [
    {
     "name": "stdout",
     "output_type": "stream",
     "text": [
      "An xts object on 2020-02-03 / 2024-05-03 containing: \n",
      "  Data:    double [1049, 9]\n",
      "  Columns: usc, eurusd, gbpusd, chfusd, usdgbp ... with 4 more columns\n",
      "  Index:   Date [1049] (TZ: \"UTC\")\n",
      "  xts Attributes:\n",
      "    $ na.action       : 'omit' int [1:3342] 1 2 3 4 5 6 7 8 9 10 ...\n",
      "  ..- attr(*, \"index\")= num [1:3342] 1.18e+09 1.18e+09 1.18e+09 1.18e+09 1.18e+09 ...\n",
      "    $ ret_type        : chr \"log\"\n",
      "    $ coredata_content: chr \"logReturn\"\n"
     ]
    },
    {
     "data": {
      "text/plain": [
       "                    usc       eurusd       gbpusd        chfusd       usdgbp\n",
       "2020-02-03 -0.016196143 -0.003069426 -0.015727916 -0.0027972046  0.015717416\n",
       "2020-02-04  0.009030222 -0.001447702  0.002728095 -0.0034833127 -0.002732775\n",
       "2020-02-05  0.012151686 -0.004082934 -0.002189572 -0.0042739259  0.002212822\n",
       "2020-02-06  0.017606089 -0.001683387 -0.005552999 -0.0011687934  0.005575379\n",
       "2020-02-07  0.011452494 -0.003238241 -0.002904446 -0.0033679104  0.002905008\n",
       "2020-02-10 -0.006925235 -0.003111276  0.001743680  0.0006354017 -0.001741992\n",
       "                 eurgbp        chfgbp       ghsusd       ghsgbp\n",
       "2020-02-03  0.012889672  0.0129490487  0.009388869  0.025123068\n",
       "2020-02-04 -0.004120804 -0.0062956642  0.008350745  0.005584836\n",
       "2020-02-05 -0.002007677 -0.0020230124 -0.003785183 -0.001560331\n",
       "2020-02-06  0.004129069  0.0043570302 -0.002762874  0.002799130\n",
       "2020-02-07  0.000000000 -0.0004411533  0.002075578  0.004971314\n",
       "2020-02-10 -0.005311941 -0.0010721833  0.000589913 -0.001110366"
      ]
     },
     "metadata": {},
     "output_type": "display_data"
    },
    {
     "data": {
      "text/plain": [
       "                   usc       eurusd        gbpusd       chfusd        usdgbp\n",
       "2024-04-26 -0.01962863 -0.003314121 -0.0018396326 -0.002191682  0.0018128971\n",
       "2024-04-29 -0.17075943  0.002521598  0.0057476010  0.004059947 -0.0056998056\n",
       "2024-04-30  0.03865640 -0.005190202 -0.0057476010 -0.009744124  0.0056998056\n",
       "2024-05-01 -0.11385883  0.004257018  0.0028779299  0.004128825 -0.0028145248\n",
       "2024-05-02 -0.09105801  0.001492677  0.0005586369  0.005524245 -0.0006265272\n",
       "2024-05-03  0.07413631  0.003071627  0.0009967904  0.005493896 -0.0009405274\n",
       "                  eurgbp        chfgbp       ghsusd        ghsgbp\n",
       "2024-04-26 -0.0015173624 -0.0003996004 -0.003682821 -0.0018400829\n",
       "2024-04-29 -0.0031588210 -0.0016571906 -0.004412793 -0.0101599929\n",
       "2024-04-30  0.0004686036 -0.0040688901 -0.001468434  0.0042437477\n",
       "2024-05-01  0.0018722215  0.0013772526 -0.002189577 -0.0050328783\n",
       "2024-05-02  0.0001168975  0.0049196369 -0.003637066 -0.0041962674\n",
       "2024-05-03  0.0025682947  0.0044411620  0.001449549  0.0004565954"
      ]
     },
     "metadata": {},
     "output_type": "display_data"
    }
   ],
   "source": [
    "us_d <- na.omit(merge(cr_d[,1],fr_d))\n",
    "str(us_d)\n",
    "head(us_d)\n",
    "tail(us_d)"
   ]
  },
  {
   "cell_type": "markdown",
   "id": "e778874e-9976-457d-b4b8-a6db9ebbcd3b",
   "metadata": {},
   "source": [
    "## (a) US Cocoa - EURUSD"
   ]
  },
  {
   "cell_type": "code",
   "execution_count": 16,
   "id": "fd90c3f9-6e6e-435c-af40-df4d928a6608",
   "metadata": {},
   "outputs": [
    {
     "data": {
      "text/plain": [
       "                    usc       eurusd\n",
       "2020-02-03 -0.016196143 -0.003069426\n",
       "2020-02-04  0.009030222 -0.001447702\n",
       "2020-02-05  0.012151686 -0.004082934\n",
       "2020-02-06  0.017606089 -0.001683387\n",
       "2020-02-07  0.011452494 -0.003238241\n",
       "2020-02-10 -0.006925235 -0.003111276"
      ]
     },
     "metadata": {},
     "output_type": "display_data"
    },
    {
     "data": {
      "text/plain": [
       "                   usc       eurusd\n",
       "2024-04-26 -0.01962863 -0.003314121\n",
       "2024-04-29 -0.17075943  0.002521598\n",
       "2024-04-30  0.03865640 -0.005190202\n",
       "2024-05-01 -0.11385883  0.004257018\n",
       "2024-05-02 -0.09105801  0.001492677\n",
       "2024-05-03  0.07413631  0.003071627"
      ]
     },
     "metadata": {},
     "output_type": "display_data"
    },
    {
     "data": {
      "text/html": [
       "<dl>\n",
       "\t<dt>$selection</dt>\n",
       "\t\t<dd><style>\n",
       ".dl-inline {width: auto; margin:0; padding: 0}\n",
       ".dl-inline>dt, .dl-inline>dd {float: none; width: auto; display: inline-block}\n",
       ".dl-inline>dt::after {content: \":\\0020\"; padding-right: .5ex}\n",
       ".dl-inline>dt:not(:first-of-type) {padding-left: .5ex}\n",
       "</style><dl class=dl-inline><dt>AIC(n)</dt><dd>1</dd><dt>HQ(n)</dt><dd>1</dd><dt>SC(n)</dt><dd>1</dd><dt>FPE(n)</dt><dd>1</dd></dl>\n",
       "</dd>\n",
       "\t<dt>$criteria</dt>\n",
       "\t\t<dd><table class=\"dataframe\">\n",
       "<caption>A matrix: 4 × 10 of type dbl</caption>\n",
       "<thead>\n",
       "\t<tr><th></th><th scope=col>1</th><th scope=col>2</th><th scope=col>3</th><th scope=col>4</th><th scope=col>5</th><th scope=col>6</th><th scope=col>7</th><th scope=col>8</th><th scope=col>9</th><th scope=col>10</th></tr>\n",
       "</thead>\n",
       "<tbody>\n",
       "\t<tr><th scope=row>AIC(n)</th><td>-1.862758e+01</td><td>-1.862035e+01</td><td>-1.861588e+01</td><td>-1.861544e+01</td><td>-1.860836e+01</td><td>-1.862133e+01</td><td>-1.861815e+01</td><td>-1.861504e+01</td><td>-1.860781e+01</td><td>-1.860447e+01</td></tr>\n",
       "\t<tr><th scope=row>HQ(n)</th><td>-1.861674e+01</td><td>-1.860230e+01</td><td>-1.859060e+01</td><td>-1.858293e+01</td><td>-1.856863e+01</td><td>-1.857438e+01</td><td>-1.856397e+01</td><td>-1.855363e+01</td><td>-1.853919e+01</td><td>-1.852862e+01</td></tr>\n",
       "\t<tr><th scope=row>SC(n)</th><td>-1.859901e+01</td><td>-1.857275e+01</td><td>-1.854924e+01</td><td>-1.852975e+01</td><td>-1.850363e+01</td><td>-1.849756e+01</td><td>-1.847534e+01</td><td>-1.845318e+01</td><td>-1.842692e+01</td><td>-1.840454e+01</td></tr>\n",
       "\t<tr><th scope=row>FPE(n)</th><td> 8.131047e-09</td><td> 8.189981e-09</td><td> 8.226708e-09</td><td> 8.230375e-09</td><td> 8.288825e-09</td><td> 8.182013e-09</td><td> 8.208114e-09</td><td> 8.233704e-09</td><td> 8.293414e-09</td><td> 8.321196e-09</td></tr>\n",
       "</tbody>\n",
       "</table>\n",
       "</dd>\n",
       "</dl>\n"
      ],
      "text/latex": [
       "\\begin{description}\n",
       "\\item[\\$selection] \\begin{description*}\n",
       "\\item[AIC(n)] 1\n",
       "\\item[HQ(n)] 1\n",
       "\\item[SC(n)] 1\n",
       "\\item[FPE(n)] 1\n",
       "\\end{description*}\n",
       "\n",
       "\\item[\\$criteria] A matrix: 4 × 10 of type dbl\n",
       "\\begin{tabular}{r|llllllllll}\n",
       "  & 1 & 2 & 3 & 4 & 5 & 6 & 7 & 8 & 9 & 10\\\\\n",
       "\\hline\n",
       "\tAIC(n) & -1.862758e+01 & -1.862035e+01 & -1.861588e+01 & -1.861544e+01 & -1.860836e+01 & -1.862133e+01 & -1.861815e+01 & -1.861504e+01 & -1.860781e+01 & -1.860447e+01\\\\\n",
       "\tHQ(n) & -1.861674e+01 & -1.860230e+01 & -1.859060e+01 & -1.858293e+01 & -1.856863e+01 & -1.857438e+01 & -1.856397e+01 & -1.855363e+01 & -1.853919e+01 & -1.852862e+01\\\\\n",
       "\tSC(n) & -1.859901e+01 & -1.857275e+01 & -1.854924e+01 & -1.852975e+01 & -1.850363e+01 & -1.849756e+01 & -1.847534e+01 & -1.845318e+01 & -1.842692e+01 & -1.840454e+01\\\\\n",
       "\tFPE(n) &  8.131047e-09 &  8.189981e-09 &  8.226708e-09 &  8.230375e-09 &  8.288825e-09 &  8.182013e-09 &  8.208114e-09 &  8.233704e-09 &  8.293414e-09 &  8.321196e-09\\\\\n",
       "\\end{tabular}\n",
       "\n",
       "\\end{description}\n"
      ],
      "text/markdown": [
       "$selection\n",
       ":   AIC(n)\n",
       ":   1HQ(n)\n",
       ":   1SC(n)\n",
       ":   1FPE(n)\n",
       ":   1\n",
       "\n",
       "\n",
       "$criteria\n",
       ":   \n",
       "A matrix: 4 × 10 of type dbl\n",
       "\n",
       "| <!--/--> | 1 | 2 | 3 | 4 | 5 | 6 | 7 | 8 | 9 | 10 |\n",
       "|---|---|---|---|---|---|---|---|---|---|---|\n",
       "| AIC(n) | -1.862758e+01 | -1.862035e+01 | -1.861588e+01 | -1.861544e+01 | -1.860836e+01 | -1.862133e+01 | -1.861815e+01 | -1.861504e+01 | -1.860781e+01 | -1.860447e+01 |\n",
       "| HQ(n) | -1.861674e+01 | -1.860230e+01 | -1.859060e+01 | -1.858293e+01 | -1.856863e+01 | -1.857438e+01 | -1.856397e+01 | -1.855363e+01 | -1.853919e+01 | -1.852862e+01 |\n",
       "| SC(n) | -1.859901e+01 | -1.857275e+01 | -1.854924e+01 | -1.852975e+01 | -1.850363e+01 | -1.849756e+01 | -1.847534e+01 | -1.845318e+01 | -1.842692e+01 | -1.840454e+01 |\n",
       "| FPE(n) |  8.131047e-09 |  8.189981e-09 |  8.226708e-09 |  8.230375e-09 |  8.288825e-09 |  8.182013e-09 |  8.208114e-09 |  8.233704e-09 |  8.293414e-09 |  8.321196e-09 |\n",
       "\n",
       "\n",
       "\n",
       "\n"
      ],
      "text/plain": [
       "$selection\n",
       "AIC(n)  HQ(n)  SC(n) FPE(n) \n",
       "     1      1      1      1 \n",
       "\n",
       "$criteria\n",
       "                   1             2             3             4             5\n",
       "AIC(n) -1.862758e+01 -1.862035e+01 -1.861588e+01 -1.861544e+01 -1.860836e+01\n",
       "HQ(n)  -1.861674e+01 -1.860230e+01 -1.859060e+01 -1.858293e+01 -1.856863e+01\n",
       "SC(n)  -1.859901e+01 -1.857275e+01 -1.854924e+01 -1.852975e+01 -1.850363e+01\n",
       "FPE(n)  8.131047e-09  8.189981e-09  8.226708e-09  8.230375e-09  8.288825e-09\n",
       "                   6             7             8             9            10\n",
       "AIC(n) -1.862133e+01 -1.861815e+01 -1.861504e+01 -1.860781e+01 -1.860447e+01\n",
       "HQ(n)  -1.857438e+01 -1.856397e+01 -1.855363e+01 -1.853919e+01 -1.852862e+01\n",
       "SC(n)  -1.849756e+01 -1.847534e+01 -1.845318e+01 -1.842692e+01 -1.840454e+01\n",
       "FPE(n)  8.182013e-09  8.208114e-09  8.233704e-09  8.293414e-09  8.321196e-09\n"
      ]
     },
     "metadata": {},
     "output_type": "display_data"
    }
   ],
   "source": [
    "bekk1data <- us_d[,c(1:2)]\n",
    "head(bekk1data)\n",
    "tail(bekk1data)\n",
    "VARselect(bekk1data,type = \"const\")"
   ]
  },
  {
   "cell_type": "code",
   "execution_count": 17,
   "id": "9fbd446b-cb2e-42c8-8127-c4696e7d3cb1",
   "metadata": {},
   "outputs": [],
   "source": [
    "var_bekk1<-VAR(bekk1data,p = 1,type = \"const\")\n",
    "res_bekk1 <- residuals(var_bekk1)\n",
    "res_bekk1 <- as.data.frame(res_bekk1)"
   ]
  },
  {
   "cell_type": "code",
   "execution_count": 18,
   "id": "937e29c5-9fdc-4ee4-a7ec-9cb5dbcc4213",
   "metadata": {},
   "outputs": [
    {
     "data": {
      "text/plain": [
       "\n",
       "VAR Estimation Results:\n",
       "========================= \n",
       "Endogenous variables: usc, eurusd \n",
       "Deterministic variables: const \n",
       "Sample size: 1048 \n",
       "Log Likelihood: 6799.262 \n",
       "Roots of the characteristic polynomial:\n",
       "0.05156 0.02646\n",
       "Call:\n",
       "VAR(y = bekk1data, p = 1, type = \"const\")\n",
       "\n",
       "\n",
       "Estimation results for equation usc: \n",
       "==================================== \n",
       "usc = usc.l1 + eurusd.l1 + const \n",
       "\n",
       "           Estimate Std. Error t value Pr(>|t|)  \n",
       "usc.l1    0.0437889  0.0312342   1.402   0.1612  \n",
       "eurusd.l1 0.1341719  0.1156576   1.160   0.2463  \n",
       "const     0.0010234  0.0005656   1.809   0.0707 .\n",
       "---\n",
       "Signif. codes:  0 ‘***’ 0.001 ‘**’ 0.01 ‘*’ 0.05 ‘.’ 0.1 ‘ ’ 1\n",
       "\n",
       "\n",
       "Residual standard error: 0.01828 on 1045 degrees of freedom\n",
       "Multiple R-Squared: 0.003467,\tAdjusted R-squared: 0.00156 \n",
       "F-statistic: 1.818 on 2 and 1045 DF,  p-value: 0.1629 \n",
       "\n",
       "\n",
       "Estimation results for equation eurusd: \n",
       "======================================= \n",
       "eurusd = usc.l1 + eurusd.l1 + const \n",
       "\n",
       "            Estimate Std. Error t value Pr(>|t|)\n",
       "usc.l1     1.003e-03  8.384e-03   0.120    0.905\n",
       "eurusd.l1  3.423e-02  3.104e-02   1.103    0.270\n",
       "const     -2.228e-05  1.518e-04  -0.147    0.883\n",
       "\n",
       "\n",
       "Residual standard error: 0.004908 on 1045 degrees of freedom\n",
       "Multiple R-Squared: 0.001208,\tAdjusted R-squared: -0.0007032 \n",
       "F-statistic: 0.6321 on 2 and 1045 DF,  p-value: 0.5317 \n",
       "\n",
       "\n",
       "\n",
       "Covariance matrix of residuals:\n",
       "             usc    eurusd\n",
       "usc    3.343e-04 8.123e-06\n",
       "eurusd 8.123e-06 2.408e-05\n",
       "\n",
       "Correlation matrix of residuals:\n",
       "           usc  eurusd\n",
       "usc    1.00000 0.09053\n",
       "eurusd 0.09053 1.00000\n",
       "\n"
      ]
     },
     "metadata": {},
     "output_type": "display_data"
    }
   ],
   "source": [
    "summary(var_bekk1)"
   ]
  },
  {
   "cell_type": "code",
   "execution_count": 19,
   "id": "81082659-f314-47a1-be12-b4351efb1f8d",
   "metadata": {},
   "outputs": [
    {
     "name": "stdout",
     "output_type": "stream",
     "text": [
      " Date[1:1048], format: \"2020-02-04\" \"2020-02-05\" \"2020-02-06\" \"2020-02-07\" \"2020-02-10\" ...\n"
     ]
    }
   ],
   "source": [
    "ind_var1 <- index(bekk1data)[-1]\n",
    "str(ind_var1)"
   ]
  },
  {
   "cell_type": "code",
   "execution_count": 20,
   "id": "ce0d211d-e154-4c56-a91d-41b7502f38c6",
   "metadata": {},
   "outputs": [],
   "source": [
    "res_bekk1 <- xts(res_bekk1,order.by = ind_var1)"
   ]
  },
  {
   "cell_type": "code",
   "execution_count": 21,
   "id": "d36143ef-c530-4c58-bc83-027a51b485d4",
   "metadata": {},
   "outputs": [],
   "source": [
    "bekk_spec <- bekk_spec(model = list(type = \"bekk\",asymmetric = F))\n",
    "bekk1_fit <- bekk_fit(spec = bekk_spec,data = res_bekk1)"
   ]
  },
  {
   "cell_type": "code",
   "execution_count": 22,
   "id": "4e99f01e-b7e7-473b-836c-1a3f5503adc7",
   "metadata": {},
   "outputs": [
    {
     "data": {
      "text/html": [
       "<table class=\"dataframe\">\n",
       "<caption>A matrix: 2 × 2 of type dbl</caption>\n",
       "<tbody>\n",
       "\t<tr><td> 0.2178314</td><td>0.002855132</td></tr>\n",
       "\t<tr><td>-0.1101271</td><td>0.190915921</td></tr>\n",
       "</tbody>\n",
       "</table>\n"
      ],
      "text/latex": [
       "A matrix: 2 × 2 of type dbl\n",
       "\\begin{tabular}{ll}\n",
       "\t  0.2178314 & 0.002855132\\\\\n",
       "\t -0.1101271 & 0.190915921\\\\\n",
       "\\end{tabular}\n"
      ],
      "text/markdown": [
       "\n",
       "A matrix: 2 × 2 of type dbl\n",
       "\n",
       "|  0.2178314 | 0.002855132 |\n",
       "| -0.1101271 | 0.190915921 |\n",
       "\n"
      ],
      "text/plain": [
       "     [,1]       [,2]       \n",
       "[1,]  0.2178314 0.002855132\n",
       "[2,] -0.1101271 0.190915921"
      ]
     },
     "metadata": {},
     "output_type": "display_data"
    },
    {
     "data": {
      "text/html": [
       "<table class=\"dataframe\">\n",
       "<caption>A matrix: 2 × 2 of type dbl</caption>\n",
       "<tbody>\n",
       "\t<tr><td>10.498378</td><td>0.4307619</td></tr>\n",
       "\t<tr><td>-1.256734</td><td>8.4426248</td></tr>\n",
       "</tbody>\n",
       "</table>\n"
      ],
      "text/latex": [
       "A matrix: 2 × 2 of type dbl\n",
       "\\begin{tabular}{ll}\n",
       "\t 10.498378 & 0.4307619\\\\\n",
       "\t -1.256734 & 8.4426248\\\\\n",
       "\\end{tabular}\n"
      ],
      "text/markdown": [
       "\n",
       "A matrix: 2 × 2 of type dbl\n",
       "\n",
       "| 10.498378 | 0.4307619 |\n",
       "| -1.256734 | 8.4426248 |\n",
       "\n"
      ],
      "text/plain": [
       "     [,1]      [,2]     \n",
       "[1,] 10.498378 0.4307619\n",
       "[2,] -1.256734 8.4426248"
      ]
     },
     "metadata": {},
     "output_type": "display_data"
    },
    {
     "data": {
      "text/html": [
       "<table class=\"dataframe\">\n",
       "<caption>A matrix: 2 × 2 of type dbl</caption>\n",
       "<tbody>\n",
       "\t<tr><td>0.97469772</td><td>-0.00132217</td></tr>\n",
       "\t<tr><td>0.02361825</td><td> 0.97559551</td></tr>\n",
       "</tbody>\n",
       "</table>\n"
      ],
      "text/latex": [
       "A matrix: 2 × 2 of type dbl\n",
       "\\begin{tabular}{ll}\n",
       "\t 0.97469772 & -0.00132217\\\\\n",
       "\t 0.02361825 &  0.97559551\\\\\n",
       "\\end{tabular}\n"
      ],
      "text/markdown": [
       "\n",
       "A matrix: 2 × 2 of type dbl\n",
       "\n",
       "| 0.97469772 | -0.00132217 |\n",
       "| 0.02361825 |  0.97559551 |\n",
       "\n"
      ],
      "text/plain": [
       "     [,1]       [,2]       \n",
       "[1,] 0.97469772 -0.00132217\n",
       "[2,] 0.02361825  0.97559551"
      ]
     },
     "metadata": {},
     "output_type": "display_data"
    },
    {
     "data": {
      "text/html": [
       "<table class=\"dataframe\">\n",
       "<caption>A matrix: 2 × 2 of type dbl</caption>\n",
       "<tbody>\n",
       "\t<tr><td>143.7002302</td><td> -0.5611507</td></tr>\n",
       "\t<tr><td>  0.9517062</td><td>152.0906528</td></tr>\n",
       "</tbody>\n",
       "</table>\n"
      ],
      "text/latex": [
       "A matrix: 2 × 2 of type dbl\n",
       "\\begin{tabular}{ll}\n",
       "\t 143.7002302 &  -0.5611507\\\\\n",
       "\t   0.9517062 & 152.0906528\\\\\n",
       "\\end{tabular}\n"
      ],
      "text/markdown": [
       "\n",
       "A matrix: 2 × 2 of type dbl\n",
       "\n",
       "| 143.7002302 |  -0.5611507 |\n",
       "|   0.9517062 | 152.0906528 |\n",
       "\n"
      ],
      "text/plain": [
       "     [,1]        [,2]       \n",
       "[1,] 143.7002302  -0.5611507\n",
       "[2,]   0.9517062 152.0906528"
      ]
     },
     "metadata": {},
     "output_type": "display_data"
    }
   ],
   "source": [
    "bekk1_fit$A\n",
    "bekk1_fit$A_t\n",
    "bekk1_fit$G\n",
    "bekk1_fit$G_t"
   ]
  },
  {
   "cell_type": "markdown",
   "id": "f3dea742-3e09-439c-872b-f8ec8659874d",
   "metadata": {},
   "source": [
    "### VAR-BEKK Model Table for US Cocoa - EURUSD"
   ]
  },
  {
   "cell_type": "code",
   "execution_count": 23,
   "id": "8112d8c8-79d5-49b7-9474-1e4647d03bfb",
   "metadata": {},
   "outputs": [
    {
     "data": {
      "text/html": [
       "<table class=\"dataframe\">\n",
       "<caption>A data.frame: 14 × 5</caption>\n",
       "<thead>\n",
       "\t<tr><th scope=col>Parameters</th><th scope=col>Coefficient</th><th scope=col>Std_error</th><th scope=col>T_value</th><th scope=col>Significant_at_5p_level</th></tr>\n",
       "\t<tr><th scope=col>&lt;chr&gt;</th><th scope=col>&lt;dbl&gt;</th><th scope=col>&lt;dbl&gt;</th><th scope=col>&lt;dbl&gt;</th><th scope=col>&lt;chr&gt;</th></tr>\n",
       "</thead>\n",
       "<tbody>\n",
       "\t<tr><td>mu10 </td><td> 1.023408e-03</td><td>0.0005656291</td><td>  1.8093269</td><td>Stat significant at 10%      </td></tr>\n",
       "\t<tr><td>mu20 </td><td>-2.228401e-05</td><td>0.0001518210</td><td> -0.1467782</td><td>Not Statistically Significant</td></tr>\n",
       "\t<tr><td>phi11</td><td> 4.378894e-02</td><td>0.0312342110</td><td>  1.4019543</td><td>Not Statistically Significant</td></tr>\n",
       "\t<tr><td>phi12</td><td> 1.341719e-01</td><td>0.1156576082</td><td>  1.1600787</td><td>Not Statistically Significant</td></tr>\n",
       "\t<tr><td>phi21</td><td> 1.003319e-03</td><td>0.0083835999</td><td>  0.1196764</td><td>Not Statistically Significant</td></tr>\n",
       "\t<tr><td>phi22</td><td> 3.422702e-02</td><td>0.0310437524</td><td>  1.1025413</td><td>Not Statistically Significant</td></tr>\n",
       "\t<tr><td>a11  </td><td> 2.178314e-01</td><td>0.0207490484</td><td> 10.4983782</td><td>Stat significant at 1%       </td></tr>\n",
       "\t<tr><td>a12  </td><td> 2.855132e-03</td><td>0.0066280986</td><td>  0.4307619</td><td>Not Statistically Significant</td></tr>\n",
       "\t<tr><td>a21  </td><td>-1.101271e-01</td><td>0.0876296707</td><td> -1.2567335</td><td>Not Statistically Significant</td></tr>\n",
       "\t<tr><td>a22  </td><td> 1.909159e-01</td><td>0.0226133371</td><td>  8.4426248</td><td>Stat significant at 1%       </td></tr>\n",
       "\t<tr><td>g11  </td><td> 9.746977e-01</td><td>0.0067828543</td><td>143.7002302</td><td>Stat significant at 1%       </td></tr>\n",
       "\t<tr><td>g12  </td><td>-1.322170e-03</td><td>0.0023561765</td><td> -0.5611507</td><td>Not Statistically Significant</td></tr>\n",
       "\t<tr><td>g21  </td><td> 2.361825e-02</td><td>0.0248167501</td><td>  0.9517062</td><td>Not Statistically Significant</td></tr>\n",
       "\t<tr><td>g22  </td><td> 9.755955e-01</td><td>0.0064145658</td><td>152.0906528</td><td>Stat significant at 1%       </td></tr>\n",
       "</tbody>\n",
       "</table>\n"
      ],
      "text/latex": [
       "A data.frame: 14 × 5\n",
       "\\begin{tabular}{lllll}\n",
       " Parameters & Coefficient & Std\\_error & T\\_value & Significant\\_at\\_5p\\_level\\\\\n",
       " <chr> & <dbl> & <dbl> & <dbl> & <chr>\\\\\n",
       "\\hline\n",
       "\t mu10  &  1.023408e-03 & 0.0005656291 &   1.8093269 & Stat significant at 10\\%      \\\\\n",
       "\t mu20  & -2.228401e-05 & 0.0001518210 &  -0.1467782 & Not Statistically Significant\\\\\n",
       "\t phi11 &  4.378894e-02 & 0.0312342110 &   1.4019543 & Not Statistically Significant\\\\\n",
       "\t phi12 &  1.341719e-01 & 0.1156576082 &   1.1600787 & Not Statistically Significant\\\\\n",
       "\t phi21 &  1.003319e-03 & 0.0083835999 &   0.1196764 & Not Statistically Significant\\\\\n",
       "\t phi22 &  3.422702e-02 & 0.0310437524 &   1.1025413 & Not Statistically Significant\\\\\n",
       "\t a11   &  2.178314e-01 & 0.0207490484 &  10.4983782 & Stat significant at 1\\%       \\\\\n",
       "\t a12   &  2.855132e-03 & 0.0066280986 &   0.4307619 & Not Statistically Significant\\\\\n",
       "\t a21   & -1.101271e-01 & 0.0876296707 &  -1.2567335 & Not Statistically Significant\\\\\n",
       "\t a22   &  1.909159e-01 & 0.0226133371 &   8.4426248 & Stat significant at 1\\%       \\\\\n",
       "\t g11   &  9.746977e-01 & 0.0067828543 & 143.7002302 & Stat significant at 1\\%       \\\\\n",
       "\t g12   & -1.322170e-03 & 0.0023561765 &  -0.5611507 & Not Statistically Significant\\\\\n",
       "\t g21   &  2.361825e-02 & 0.0248167501 &   0.9517062 & Not Statistically Significant\\\\\n",
       "\t g22   &  9.755955e-01 & 0.0064145658 & 152.0906528 & Stat significant at 1\\%       \\\\\n",
       "\\end{tabular}\n"
      ],
      "text/markdown": [
       "\n",
       "A data.frame: 14 × 5\n",
       "\n",
       "| Parameters &lt;chr&gt; | Coefficient &lt;dbl&gt; | Std_error &lt;dbl&gt; | T_value &lt;dbl&gt; | Significant_at_5p_level &lt;chr&gt; |\n",
       "|---|---|---|---|---|\n",
       "| mu10  |  1.023408e-03 | 0.0005656291 |   1.8093269 | Stat significant at 10%       |\n",
       "| mu20  | -2.228401e-05 | 0.0001518210 |  -0.1467782 | Not Statistically Significant |\n",
       "| phi11 |  4.378894e-02 | 0.0312342110 |   1.4019543 | Not Statistically Significant |\n",
       "| phi12 |  1.341719e-01 | 0.1156576082 |   1.1600787 | Not Statistically Significant |\n",
       "| phi21 |  1.003319e-03 | 0.0083835999 |   0.1196764 | Not Statistically Significant |\n",
       "| phi22 |  3.422702e-02 | 0.0310437524 |   1.1025413 | Not Statistically Significant |\n",
       "| a11   |  2.178314e-01 | 0.0207490484 |  10.4983782 | Stat significant at 1%        |\n",
       "| a12   |  2.855132e-03 | 0.0066280986 |   0.4307619 | Not Statistically Significant |\n",
       "| a21   | -1.101271e-01 | 0.0876296707 |  -1.2567335 | Not Statistically Significant |\n",
       "| a22   |  1.909159e-01 | 0.0226133371 |   8.4426248 | Stat significant at 1%        |\n",
       "| g11   |  9.746977e-01 | 0.0067828543 | 143.7002302 | Stat significant at 1%        |\n",
       "| g12   | -1.322170e-03 | 0.0023561765 |  -0.5611507 | Not Statistically Significant |\n",
       "| g21   |  2.361825e-02 | 0.0248167501 |   0.9517062 | Not Statistically Significant |\n",
       "| g22   |  9.755955e-01 | 0.0064145658 | 152.0906528 | Stat significant at 1%        |\n",
       "\n"
      ],
      "text/plain": [
       "   Parameters Coefficient   Std_error    T_value    \n",
       "1  mu10        1.023408e-03 0.0005656291   1.8093269\n",
       "2  mu20       -2.228401e-05 0.0001518210  -0.1467782\n",
       "3  phi11       4.378894e-02 0.0312342110   1.4019543\n",
       "4  phi12       1.341719e-01 0.1156576082   1.1600787\n",
       "5  phi21       1.003319e-03 0.0083835999   0.1196764\n",
       "6  phi22       3.422702e-02 0.0310437524   1.1025413\n",
       "7  a11         2.178314e-01 0.0207490484  10.4983782\n",
       "8  a12         2.855132e-03 0.0066280986   0.4307619\n",
       "9  a21        -1.101271e-01 0.0876296707  -1.2567335\n",
       "10 a22         1.909159e-01 0.0226133371   8.4426248\n",
       "11 g11         9.746977e-01 0.0067828543 143.7002302\n",
       "12 g12        -1.322170e-03 0.0023561765  -0.5611507\n",
       "13 g21         2.361825e-02 0.0248167501   0.9517062\n",
       "14 g22         9.755955e-01 0.0064145658 152.0906528\n",
       "   Significant_at_5p_level      \n",
       "1  Stat significant at 10%      \n",
       "2  Not Statistically Significant\n",
       "3  Not Statistically Significant\n",
       "4  Not Statistically Significant\n",
       "5  Not Statistically Significant\n",
       "6  Not Statistically Significant\n",
       "7  Stat significant at 1%       \n",
       "8  Not Statistically Significant\n",
       "9  Not Statistically Significant\n",
       "10 Stat significant at 1%       \n",
       "11 Stat significant at 1%       \n",
       "12 Not Statistically Significant\n",
       "13 Not Statistically Significant\n",
       "14 Stat significant at 1%       "
      ]
     },
     "metadata": {},
     "output_type": "display_data"
    }
   ],
   "source": [
    "bekk1 <- data.frame(Parameters = c(\"mu10\",\"mu20\",\"phi11\",\"phi12\",\"phi21\",\"phi22\",\"a11\",\"a12\",\"a21\",\"a22\",\"g11\",\"g12\",\"g21\",\"g22\"),\n",
    "                   Coefficient = c(summary(var_bekk1)$varresult$usc$coefficients[\"const\",\"Estimate\"],summary(var_bekk1)$varresult$eurusd$coefficients[\"const\",\"Estimate\"],\n",
    "                                   summary(var_bekk1)$varresult$usc$coefficients[\"usc.l1\",\"Estimate\"],summary(var_bekk1)$varresult$usc$coefficients[\"eurusd.l1\",\"Estimate\"],\n",
    "                                   summary(var_bekk1)$varresult$eurusd$coefficients[\"usc.l1\",\"Estimate\"],summary(var_bekk1)$varresult$eurusd$coefficients[\"eurusd.l1\",\"Estimate\"],\n",
    "                                   bekk1_fit$A[1,1],bekk1_fit$A[1,2],bekk1_fit$A[2,1],bekk1_fit$A[2,2],bekk1_fit$G[1,1],bekk1_fit$G[1,2],bekk1_fit$G[2,1],bekk1_fit$G[2,2]),\n",
    "                   Std_error = c(summary(var_bekk1)$varresult$usc$coefficients[\"const\",\"Std. Error\"],summary(var_bekk1)$varresult$eurusd$coefficients[\"const\",\"Std. Error\"],\n",
    "                                summary(var_bekk1)$varresult$usc$coefficients[\"usc.l1\",\"Std. Error\"],summary(var_bekk1)$varresult$usc$coefficients[\"eurusd.l1\",\"Std. Error\"],\n",
    "                                 summary(var_bekk1)$varresult$eurusd$coefficients[\"usc.l1\",\"Std. Error\"],summary(var_bekk1)$varresult$eurusd$coefficients[\"eurusd.l1\",\"Std. Error\"],\n",
    "                                 bekk1_fit$A_sd[1,1],bekk1_fit$A_sd[1,2],bekk1_fit$A_sd[2,1],bekk1_fit$A_sd[2,2],bekk1_fit$G_sd[1,1],bekk1_fit$G_sd[1,2],bekk1_fit$G_sd[2,1],bekk1_fit$G_sd[2,2]),\n",
    "                   T_value = c(summary(var_bekk1)$varresult$usc$coefficients[\"const\",\"t value\"],summary(var_bekk1)$varresult$eurusd$coefficients[\"const\",\"t value\"],\n",
    "                       summary(var_bekk1)$varresult$usc$coefficients[\"usc.l1\",\"t value\"],summary(var_bekk1)$varresult$usc$coefficients[\"eurusd.l1\",\"t value\"],\n",
    "                               summary(var_bekk1)$varresult$eurusd$coefficients[\"usc.l1\",\"t value\"],summary(var_bekk1)$varresult$eurusd$coefficients[\"eurusd.l1\",\"t value\"],\n",
    "                               bekk1_fit$A_t[1,1],bekk1_fit$A_t[1,2],bekk1_fit$A_t[2,1],bekk1_fit$A_t[2,2],bekk1_fit$G_t[1,1],bekk1_fit$G_t[1,2],bekk1_fit$G_t[2,1],bekk1_fit$G_t[2,2]))\n",
    "\n",
    "bekk1$Significant_at_5p_level[abs(bekk1$T_value) >= 2.58 ] <- \"Stat significant at 1%\"\n",
    "bekk1$Significant_at_5p_level[abs(bekk1$T_value) > 1.96 & abs(bekk1$T_value) < 2.58] <- \"Stat significant at 5%\"\n",
    "bekk1$Significant_at_5p_level[abs(bekk1$T_value) > 1.645 & abs(bekk1$T_value) <= 1.96 ] <- \"Stat significant at 10%\"\n",
    "bekk1$Significant_at_5p_level[abs(bekk1$T_value) <= 1.645] <- \"Not Statistically Significant\"\n",
    "bekk1"
   ]
  },
  {
   "cell_type": "code",
   "execution_count": 24,
   "id": "bb7c2f13-018f-4927-a866-91c6d889d3a2",
   "metadata": {},
   "outputs": [
    {
     "data": {
      "text/plain": [
       "\n",
       "\tGranger causality H0: usc do not Granger-cause eurusd\n",
       "\n",
       "data:  VAR object var_bekk1\n",
       "F-Test = 0.014322, df1 = 1, df2 = 2090, p-value = 0.9048\n"
      ]
     },
     "metadata": {},
     "output_type": "display_data"
    },
    {
     "data": {
      "text/plain": [
       "\n",
       "\tGranger causality H0: eurusd do not Granger-cause usc\n",
       "\n",
       "data:  VAR object var_bekk1\n",
       "F-Test = 1.3458, df1 = 1, df2 = 2090, p-value = 0.2461\n"
      ]
     },
     "metadata": {},
     "output_type": "display_data"
    }
   ],
   "source": [
    "causality(var_bekk1,cause = \"usc\")$Granger\n",
    "causality(var_bekk1,cause = \"eurusd\")$Granger"
   ]
  },
  {
   "cell_type": "markdown",
   "id": "2f399572-222c-4f13-bdff-f8471b6f91bf",
   "metadata": {},
   "source": [
    "## (b) VAR-BEKK: US Cocoa-GBPUSD"
   ]
  },
  {
   "cell_type": "code",
   "execution_count": 25,
   "id": "b3866ccb-3e3c-42c6-8362-5a31ad637ebb",
   "metadata": {},
   "outputs": [
    {
     "data": {
      "text/plain": [
       "                    usc       gbpusd\n",
       "2020-02-03 -0.016196143 -0.015727916\n",
       "2020-02-04  0.009030222  0.002728095\n",
       "2020-02-05  0.012151686 -0.002189572\n",
       "2020-02-06  0.017606089 -0.005552999\n",
       "2020-02-07  0.011452494 -0.002904446\n",
       "2020-02-10 -0.006925235  0.001743680"
      ]
     },
     "metadata": {},
     "output_type": "display_data"
    },
    {
     "data": {
      "text/plain": [
       "                   usc        gbpusd\n",
       "2024-04-26 -0.01962863 -0.0018396326\n",
       "2024-04-29 -0.17075943  0.0057476010\n",
       "2024-04-30  0.03865640 -0.0057476010\n",
       "2024-05-01 -0.11385883  0.0028779299\n",
       "2024-05-02 -0.09105801  0.0005586369\n",
       "2024-05-03  0.07413631  0.0009967904"
      ]
     },
     "metadata": {},
     "output_type": "display_data"
    }
   ],
   "source": [
    "bekk2data <- us_d[,c(1,3)]\n",
    "head(bekk2data)\n",
    "tail(bekk2data)"
   ]
  },
  {
   "cell_type": "code",
   "execution_count": 26,
   "id": "74c7a286-72ae-441e-a9c0-2e1867e43cf5",
   "metadata": {},
   "outputs": [
    {
     "data": {
      "text/html": [
       "<dl>\n",
       "\t<dt>$selection</dt>\n",
       "\t\t<dd><style>\n",
       ".dl-inline {width: auto; margin:0; padding: 0}\n",
       ".dl-inline>dt, .dl-inline>dd {float: none; width: auto; display: inline-block}\n",
       ".dl-inline>dt::after {content: \":\\0020\"; padding-right: .5ex}\n",
       ".dl-inline>dt:not(:first-of-type) {padding-left: .5ex}\n",
       "</style><dl class=dl-inline><dt>AIC(n)</dt><dd>1</dd><dt>HQ(n)</dt><dd>1</dd><dt>SC(n)</dt><dd>1</dd><dt>FPE(n)</dt><dd>1</dd></dl>\n",
       "</dd>\n",
       "\t<dt>$criteria</dt>\n",
       "\t\t<dd><table class=\"dataframe\">\n",
       "<caption>A matrix: 4 × 10 of type dbl</caption>\n",
       "<thead>\n",
       "\t<tr><th></th><th scope=col>1</th><th scope=col>2</th><th scope=col>3</th><th scope=col>4</th><th scope=col>5</th><th scope=col>6</th><th scope=col>7</th><th scope=col>8</th><th scope=col>9</th><th scope=col>10</th></tr>\n",
       "</thead>\n",
       "<tbody>\n",
       "\t<tr><th scope=row>AIC(n)</th><td>-1.821374e+01</td><td>-1.820721e+01</td><td>-1.820097e+01</td><td>-1.819683e+01</td><td>-1.819579e+01</td><td>-1.819999e+01</td><td>-1.819692e+01</td><td>-1.819258e+01</td><td>-1.818790e+01</td><td>-1.818347e+01</td></tr>\n",
       "\t<tr><th scope=row>HQ(n)</th><td>-1.820291e+01</td><td>-1.818915e+01</td><td>-1.817568e+01</td><td>-1.816432e+01</td><td>-1.815606e+01</td><td>-1.815304e+01</td><td>-1.814274e+01</td><td>-1.813118e+01</td><td>-1.811928e+01</td><td>-1.810763e+01</td></tr>\n",
       "\t<tr><th scope=row>SC(n)</th><td>-1.818518e+01</td><td>-1.815960e+01</td><td>-1.813432e+01</td><td>-1.811114e+01</td><td>-1.809106e+01</td><td>-1.807622e+01</td><td>-1.805411e+01</td><td>-1.803073e+01</td><td>-1.800701e+01</td><td>-1.798354e+01</td></tr>\n",
       "\t<tr><th scope=row>FPE(n)</th><td> 1.229909e-08</td><td> 1.237972e-08</td><td> 1.245723e-08</td><td> 1.250886e-08</td><td> 1.252188e-08</td><td> 1.246936e-08</td><td> 1.250776e-08</td><td> 1.256213e-08</td><td> 1.262112e-08</td><td> 1.267716e-08</td></tr>\n",
       "</tbody>\n",
       "</table>\n",
       "</dd>\n",
       "</dl>\n"
      ],
      "text/latex": [
       "\\begin{description}\n",
       "\\item[\\$selection] \\begin{description*}\n",
       "\\item[AIC(n)] 1\n",
       "\\item[HQ(n)] 1\n",
       "\\item[SC(n)] 1\n",
       "\\item[FPE(n)] 1\n",
       "\\end{description*}\n",
       "\n",
       "\\item[\\$criteria] A matrix: 4 × 10 of type dbl\n",
       "\\begin{tabular}{r|llllllllll}\n",
       "  & 1 & 2 & 3 & 4 & 5 & 6 & 7 & 8 & 9 & 10\\\\\n",
       "\\hline\n",
       "\tAIC(n) & -1.821374e+01 & -1.820721e+01 & -1.820097e+01 & -1.819683e+01 & -1.819579e+01 & -1.819999e+01 & -1.819692e+01 & -1.819258e+01 & -1.818790e+01 & -1.818347e+01\\\\\n",
       "\tHQ(n) & -1.820291e+01 & -1.818915e+01 & -1.817568e+01 & -1.816432e+01 & -1.815606e+01 & -1.815304e+01 & -1.814274e+01 & -1.813118e+01 & -1.811928e+01 & -1.810763e+01\\\\\n",
       "\tSC(n) & -1.818518e+01 & -1.815960e+01 & -1.813432e+01 & -1.811114e+01 & -1.809106e+01 & -1.807622e+01 & -1.805411e+01 & -1.803073e+01 & -1.800701e+01 & -1.798354e+01\\\\\n",
       "\tFPE(n) &  1.229909e-08 &  1.237972e-08 &  1.245723e-08 &  1.250886e-08 &  1.252188e-08 &  1.246936e-08 &  1.250776e-08 &  1.256213e-08 &  1.262112e-08 &  1.267716e-08\\\\\n",
       "\\end{tabular}\n",
       "\n",
       "\\end{description}\n"
      ],
      "text/markdown": [
       "$selection\n",
       ":   AIC(n)\n",
       ":   1HQ(n)\n",
       ":   1SC(n)\n",
       ":   1FPE(n)\n",
       ":   1\n",
       "\n",
       "\n",
       "$criteria\n",
       ":   \n",
       "A matrix: 4 × 10 of type dbl\n",
       "\n",
       "| <!--/--> | 1 | 2 | 3 | 4 | 5 | 6 | 7 | 8 | 9 | 10 |\n",
       "|---|---|---|---|---|---|---|---|---|---|---|\n",
       "| AIC(n) | -1.821374e+01 | -1.820721e+01 | -1.820097e+01 | -1.819683e+01 | -1.819579e+01 | -1.819999e+01 | -1.819692e+01 | -1.819258e+01 | -1.818790e+01 | -1.818347e+01 |\n",
       "| HQ(n) | -1.820291e+01 | -1.818915e+01 | -1.817568e+01 | -1.816432e+01 | -1.815606e+01 | -1.815304e+01 | -1.814274e+01 | -1.813118e+01 | -1.811928e+01 | -1.810763e+01 |\n",
       "| SC(n) | -1.818518e+01 | -1.815960e+01 | -1.813432e+01 | -1.811114e+01 | -1.809106e+01 | -1.807622e+01 | -1.805411e+01 | -1.803073e+01 | -1.800701e+01 | -1.798354e+01 |\n",
       "| FPE(n) |  1.229909e-08 |  1.237972e-08 |  1.245723e-08 |  1.250886e-08 |  1.252188e-08 |  1.246936e-08 |  1.250776e-08 |  1.256213e-08 |  1.262112e-08 |  1.267716e-08 |\n",
       "\n",
       "\n",
       "\n",
       "\n"
      ],
      "text/plain": [
       "$selection\n",
       "AIC(n)  HQ(n)  SC(n) FPE(n) \n",
       "     1      1      1      1 \n",
       "\n",
       "$criteria\n",
       "                   1             2             3             4             5\n",
       "AIC(n) -1.821374e+01 -1.820721e+01 -1.820097e+01 -1.819683e+01 -1.819579e+01\n",
       "HQ(n)  -1.820291e+01 -1.818915e+01 -1.817568e+01 -1.816432e+01 -1.815606e+01\n",
       "SC(n)  -1.818518e+01 -1.815960e+01 -1.813432e+01 -1.811114e+01 -1.809106e+01\n",
       "FPE(n)  1.229909e-08  1.237972e-08  1.245723e-08  1.250886e-08  1.252188e-08\n",
       "                   6             7             8             9            10\n",
       "AIC(n) -1.819999e+01 -1.819692e+01 -1.819258e+01 -1.818790e+01 -1.818347e+01\n",
       "HQ(n)  -1.815304e+01 -1.814274e+01 -1.813118e+01 -1.811928e+01 -1.810763e+01\n",
       "SC(n)  -1.807622e+01 -1.805411e+01 -1.803073e+01 -1.800701e+01 -1.798354e+01\n",
       "FPE(n)  1.246936e-08  1.250776e-08  1.256213e-08  1.262112e-08  1.267716e-08\n"
      ]
     },
     "metadata": {},
     "output_type": "display_data"
    }
   ],
   "source": [
    "VARselect(bekk2data,type = \"const\")"
   ]
  },
  {
   "cell_type": "code",
   "execution_count": 27,
   "id": "e041adf1-b62b-4148-94cd-7aba9113cbbf",
   "metadata": {},
   "outputs": [],
   "source": [
    "var_bekk2<-VAR(bekk2data,p = 1,type = \"const\")\n",
    "res_bekk2 <- residuals(var_bekk2)\n",
    "res_bekk2 <- as.data.frame(res_bekk2)"
   ]
  },
  {
   "cell_type": "code",
   "execution_count": 28,
   "id": "9b6ab63d-15d9-42ff-9570-9111987610a8",
   "metadata": {},
   "outputs": [
    {
     "data": {
      "text/plain": [
       "\n",
       "VAR Estimation Results:\n",
       "========================= \n",
       "Endogenous variables: usc, gbpusd \n",
       "Deterministic variables: const \n",
       "Sample size: 1048 \n",
       "Log Likelihood: 6582.088 \n",
       "Roots of the characteristic polynomial:\n",
       "0.1047 0.01722\n",
       "Call:\n",
       "VAR(y = bekk2data, p = 1, type = \"const\")\n",
       "\n",
       "\n",
       "Estimation results for equation usc: \n",
       "==================================== \n",
       "usc = usc.l1 + gbpusd.l1 + const \n",
       "\n",
       "          Estimate Std. Error t value Pr(>|t|)  \n",
       "usc.l1    0.039438   0.031322   1.259   0.2083  \n",
       "gbpusd.l1 0.179818   0.093276   1.928   0.0542 .\n",
       "const     0.001030   0.000565   1.822   0.0687 .\n",
       "---\n",
       "Signif. codes:  0 ‘***’ 0.001 ‘**’ 0.01 ‘*’ 0.05 ‘.’ 0.1 ‘ ’ 1\n",
       "\n",
       "\n",
       "Residual standard error: 0.01826 on 1045 degrees of freedom\n",
       "Multiple R-Squared: 0.00572,\tAdjusted R-squared: 0.003817 \n",
       "F-statistic: 3.006 on 2 and 1045 DF,  p-value: 0.04992 \n",
       "\n",
       "\n",
       "Estimation results for equation gbpusd: \n",
       "======================================= \n",
       "gbpusd = usc.l1 + gbpusd.l1 + const \n",
       "\n",
       "            Estimate Std. Error t value Pr(>|t|)   \n",
       "usc.l1     8.061e-03  1.040e-02   0.775  0.43833   \n",
       "gbpusd.l1  8.248e-02  3.096e-02   2.664  0.00785 **\n",
       "const     -2.159e-05  1.876e-04  -0.115  0.90838   \n",
       "---\n",
       "Signif. codes:  0 ‘***’ 0.001 ‘**’ 0.01 ‘*’ 0.05 ‘.’ 0.1 ‘ ’ 1\n",
       "\n",
       "\n",
       "Residual standard error: 0.006062 on 1045 degrees of freedom\n",
       "Multiple R-Squared: 0.00793,\tAdjusted R-squared: 0.006031 \n",
       "F-statistic: 4.176 on 2 and 1045 DF,  p-value: 0.01561 \n",
       "\n",
       "\n",
       "\n",
       "Covariance matrix of residuals:\n",
       "             usc    gbpusd\n",
       "usc    3.335e-04 1.313e-05\n",
       "gbpusd 1.313e-05 3.675e-05\n",
       "\n",
       "Correlation matrix of residuals:\n",
       "          usc gbpusd\n",
       "usc    1.0000 0.1186\n",
       "gbpusd 0.1186 1.0000\n",
       "\n"
      ]
     },
     "metadata": {},
     "output_type": "display_data"
    }
   ],
   "source": [
    "summary(var_bekk2)"
   ]
  },
  {
   "cell_type": "code",
   "execution_count": 29,
   "id": "3a7843b2-118a-4cca-b43a-585ae96ff793",
   "metadata": {},
   "outputs": [
    {
     "name": "stdout",
     "output_type": "stream",
     "text": [
      " Date[1:1048], format: \"2020-02-04\" \"2020-02-05\" \"2020-02-06\" \"2020-02-07\" \"2020-02-10\" ...\n"
     ]
    }
   ],
   "source": [
    "ind_var2 <- index(bekk2data)[-1]\n",
    "str(ind_var2)"
   ]
  },
  {
   "cell_type": "code",
   "execution_count": 30,
   "id": "abb3200a-4c87-4127-9b78-20e88aca0b9c",
   "metadata": {},
   "outputs": [],
   "source": [
    "res_bekk2 <- xts(res_bekk2,order.by = ind_var2)"
   ]
  },
  {
   "cell_type": "code",
   "execution_count": 31,
   "id": "b72a02e1-e2dc-4ebc-9ba6-57f052ba3460",
   "metadata": {},
   "outputs": [],
   "source": [
    "bekk_spec <- bekk_spec(model = list(type = \"bekk\",asymmetric = F))\n",
    "bekk2_fit <- bekk_fit(spec = bekk_spec,data = res_bekk2)"
   ]
  },
  {
   "cell_type": "code",
   "execution_count": 32,
   "id": "0699ae61-05ec-42a3-a3c0-2142d5d6f983",
   "metadata": {},
   "outputs": [
    {
     "data": {
      "text/html": [
       "<table class=\"dataframe\">\n",
       "<caption>A matrix: 2 × 2 of type dbl</caption>\n",
       "<tbody>\n",
       "\t<tr><td> 0.19915716</td><td>0.003922008</td></tr>\n",
       "\t<tr><td>-0.02435078</td><td>0.286491245</td></tr>\n",
       "</tbody>\n",
       "</table>\n"
      ],
      "text/latex": [
       "A matrix: 2 × 2 of type dbl\n",
       "\\begin{tabular}{ll}\n",
       "\t  0.19915716 & 0.003922008\\\\\n",
       "\t -0.02435078 & 0.286491245\\\\\n",
       "\\end{tabular}\n"
      ],
      "text/markdown": [
       "\n",
       "A matrix: 2 × 2 of type dbl\n",
       "\n",
       "|  0.19915716 | 0.003922008 |\n",
       "| -0.02435078 | 0.286491245 |\n",
       "\n"
      ],
      "text/plain": [
       "     [,1]        [,2]       \n",
       "[1,]  0.19915716 0.003922008\n",
       "[2,] -0.02435078 0.286491245"
      ]
     },
     "metadata": {},
     "output_type": "display_data"
    },
    {
     "data": {
      "text/html": [
       "<table class=\"dataframe\">\n",
       "<caption>A matrix: 2 × 2 of type dbl</caption>\n",
       "<tbody>\n",
       "\t<tr><td>11.8517495</td><td> 0.4051778</td></tr>\n",
       "\t<tr><td>-0.3067693</td><td>12.2953591</td></tr>\n",
       "</tbody>\n",
       "</table>\n"
      ],
      "text/latex": [
       "A matrix: 2 × 2 of type dbl\n",
       "\\begin{tabular}{ll}\n",
       "\t 11.8517495 &  0.4051778\\\\\n",
       "\t -0.3067693 & 12.2953591\\\\\n",
       "\\end{tabular}\n"
      ],
      "text/markdown": [
       "\n",
       "A matrix: 2 × 2 of type dbl\n",
       "\n",
       "| 11.8517495 |  0.4051778 |\n",
       "| -0.3067693 | 12.2953591 |\n",
       "\n"
      ],
      "text/plain": [
       "     [,1]       [,2]      \n",
       "[1,] 11.8517495  0.4051778\n",
       "[2,] -0.3067693 12.2953591"
      ]
     },
     "metadata": {},
     "output_type": "display_data"
    },
    {
     "data": {
      "text/html": [
       "<table class=\"dataframe\">\n",
       "<caption>A matrix: 2 × 2 of type dbl</caption>\n",
       "<tbody>\n",
       "\t<tr><td> 0.979723666</td><td>-0.001557959</td></tr>\n",
       "\t<tr><td>-0.002154775</td><td> 0.939936593</td></tr>\n",
       "</tbody>\n",
       "</table>\n"
      ],
      "text/latex": [
       "A matrix: 2 × 2 of type dbl\n",
       "\\begin{tabular}{ll}\n",
       "\t  0.979723666 & -0.001557959\\\\\n",
       "\t -0.002154775 &  0.939936593\\\\\n",
       "\\end{tabular}\n"
      ],
      "text/markdown": [
       "\n",
       "A matrix: 2 × 2 of type dbl\n",
       "\n",
       "|  0.979723666 | -0.001557959 |\n",
       "| -0.002154775 |  0.939936593 |\n",
       "\n"
      ],
      "text/plain": [
       "     [,1]         [,2]        \n",
       "[1,]  0.979723666 -0.001557959\n",
       "[2,] -0.002154775  0.939936593"
      ]
     },
     "metadata": {},
     "output_type": "display_data"
    },
    {
     "data": {
      "text/html": [
       "<table class=\"dataframe\">\n",
       "<caption>A matrix: 2 × 2 of type dbl</caption>\n",
       "<tbody>\n",
       "\t<tr><td>194.1532020</td><td>-0.497345</td></tr>\n",
       "\t<tr><td> -0.0688213</td><td>89.104414</td></tr>\n",
       "</tbody>\n",
       "</table>\n"
      ],
      "text/latex": [
       "A matrix: 2 × 2 of type dbl\n",
       "\\begin{tabular}{ll}\n",
       "\t 194.1532020 & -0.497345\\\\\n",
       "\t  -0.0688213 & 89.104414\\\\\n",
       "\\end{tabular}\n"
      ],
      "text/markdown": [
       "\n",
       "A matrix: 2 × 2 of type dbl\n",
       "\n",
       "| 194.1532020 | -0.497345 |\n",
       "|  -0.0688213 | 89.104414 |\n",
       "\n"
      ],
      "text/plain": [
       "     [,1]        [,2]     \n",
       "[1,] 194.1532020 -0.497345\n",
       "[2,]  -0.0688213 89.104414"
      ]
     },
     "metadata": {},
     "output_type": "display_data"
    }
   ],
   "source": [
    "bekk2_fit$A\n",
    "bekk2_fit$A_t\n",
    "bekk2_fit$G\n",
    "bekk2_fit$G_t"
   ]
  },
  {
   "cell_type": "markdown",
   "id": "e54945d6-2974-43e1-8c26-e1caadb58337",
   "metadata": {},
   "source": [
    "### VAR-BEKK Model Table for US Cocoa - GBPUSD"
   ]
  },
  {
   "cell_type": "code",
   "execution_count": 33,
   "id": "ed793841-4396-4523-b19f-7178f46c863a",
   "metadata": {},
   "outputs": [
    {
     "data": {
      "text/html": [
       "<table class=\"dataframe\">\n",
       "<caption>A data.frame: 14 × 5</caption>\n",
       "<thead>\n",
       "\t<tr><th scope=col>Parameters</th><th scope=col>Coefficient</th><th scope=col>Std_error</th><th scope=col>T_value</th><th scope=col>Significant_at_5p_level</th></tr>\n",
       "\t<tr><th scope=col>&lt;chr&gt;</th><th scope=col>&lt;dbl&gt;</th><th scope=col>&lt;dbl&gt;</th><th scope=col>&lt;dbl&gt;</th><th scope=col>&lt;chr&gt;</th></tr>\n",
       "</thead>\n",
       "<tbody>\n",
       "\t<tr><td>mu10 </td><td> 0.0010296977</td><td>0.0005649994</td><td>  1.8224758</td><td>Stat significant at 10%      </td></tr>\n",
       "\t<tr><td>mu20 </td><td>-0.0000215884</td><td>0.0001875496</td><td> -0.1151077</td><td>Not Statistically Significant</td></tr>\n",
       "\t<tr><td>phi11</td><td> 0.0394380403</td><td>0.0313218660</td><td>  1.2591217</td><td>Not Statistically Significant</td></tr>\n",
       "\t<tr><td>phi12</td><td> 0.1798185232</td><td>0.0932765415</td><td>  1.9278001</td><td>Stat significant at 10%      </td></tr>\n",
       "\t<tr><td>phi21</td><td> 0.0080611493</td><td>0.0103971865</td><td>  0.7753203</td><td>Not Statistically Significant</td></tr>\n",
       "\t<tr><td>phi22</td><td> 0.0824784168</td><td>0.0309628296</td><td>  2.6637881</td><td>Stat significant at 1%       </td></tr>\n",
       "\t<tr><td>a11  </td><td> 0.1991571646</td><td>0.0168040309</td><td> 11.8517495</td><td>Stat significant at 1%       </td></tr>\n",
       "\t<tr><td>a12  </td><td> 0.0039220076</td><td>0.0096797205</td><td>  0.4051778</td><td>Not Statistically Significant</td></tr>\n",
       "\t<tr><td>a21  </td><td>-0.0243507771</td><td>0.0793781532</td><td> -0.3067693</td><td>Not Statistically Significant</td></tr>\n",
       "\t<tr><td>a22  </td><td> 0.2864912446</td><td>0.0233007628</td><td> 12.2953591</td><td>Stat significant at 1%       </td></tr>\n",
       "\t<tr><td>g11  </td><td> 0.9797236664</td><td>0.0050461371</td><td>194.1532020</td><td>Stat significant at 1%       </td></tr>\n",
       "\t<tr><td>g12  </td><td>-0.0015579588</td><td>0.0031325517</td><td> -0.4973450</td><td>Not Statistically Significant</td></tr>\n",
       "\t<tr><td>g21  </td><td>-0.0021547747</td><td>0.0313097071</td><td> -0.0688213</td><td>Not Statistically Significant</td></tr>\n",
       "\t<tr><td>g22  </td><td> 0.9399365933</td><td>0.0105487096</td><td> 89.1044144</td><td>Stat significant at 1%       </td></tr>\n",
       "</tbody>\n",
       "</table>\n"
      ],
      "text/latex": [
       "A data.frame: 14 × 5\n",
       "\\begin{tabular}{lllll}\n",
       " Parameters & Coefficient & Std\\_error & T\\_value & Significant\\_at\\_5p\\_level\\\\\n",
       " <chr> & <dbl> & <dbl> & <dbl> & <chr>\\\\\n",
       "\\hline\n",
       "\t mu10  &  0.0010296977 & 0.0005649994 &   1.8224758 & Stat significant at 10\\%      \\\\\n",
       "\t mu20  & -0.0000215884 & 0.0001875496 &  -0.1151077 & Not Statistically Significant\\\\\n",
       "\t phi11 &  0.0394380403 & 0.0313218660 &   1.2591217 & Not Statistically Significant\\\\\n",
       "\t phi12 &  0.1798185232 & 0.0932765415 &   1.9278001 & Stat significant at 10\\%      \\\\\n",
       "\t phi21 &  0.0080611493 & 0.0103971865 &   0.7753203 & Not Statistically Significant\\\\\n",
       "\t phi22 &  0.0824784168 & 0.0309628296 &   2.6637881 & Stat significant at 1\\%       \\\\\n",
       "\t a11   &  0.1991571646 & 0.0168040309 &  11.8517495 & Stat significant at 1\\%       \\\\\n",
       "\t a12   &  0.0039220076 & 0.0096797205 &   0.4051778 & Not Statistically Significant\\\\\n",
       "\t a21   & -0.0243507771 & 0.0793781532 &  -0.3067693 & Not Statistically Significant\\\\\n",
       "\t a22   &  0.2864912446 & 0.0233007628 &  12.2953591 & Stat significant at 1\\%       \\\\\n",
       "\t g11   &  0.9797236664 & 0.0050461371 & 194.1532020 & Stat significant at 1\\%       \\\\\n",
       "\t g12   & -0.0015579588 & 0.0031325517 &  -0.4973450 & Not Statistically Significant\\\\\n",
       "\t g21   & -0.0021547747 & 0.0313097071 &  -0.0688213 & Not Statistically Significant\\\\\n",
       "\t g22   &  0.9399365933 & 0.0105487096 &  89.1044144 & Stat significant at 1\\%       \\\\\n",
       "\\end{tabular}\n"
      ],
      "text/markdown": [
       "\n",
       "A data.frame: 14 × 5\n",
       "\n",
       "| Parameters &lt;chr&gt; | Coefficient &lt;dbl&gt; | Std_error &lt;dbl&gt; | T_value &lt;dbl&gt; | Significant_at_5p_level &lt;chr&gt; |\n",
       "|---|---|---|---|---|\n",
       "| mu10  |  0.0010296977 | 0.0005649994 |   1.8224758 | Stat significant at 10%       |\n",
       "| mu20  | -0.0000215884 | 0.0001875496 |  -0.1151077 | Not Statistically Significant |\n",
       "| phi11 |  0.0394380403 | 0.0313218660 |   1.2591217 | Not Statistically Significant |\n",
       "| phi12 |  0.1798185232 | 0.0932765415 |   1.9278001 | Stat significant at 10%       |\n",
       "| phi21 |  0.0080611493 | 0.0103971865 |   0.7753203 | Not Statistically Significant |\n",
       "| phi22 |  0.0824784168 | 0.0309628296 |   2.6637881 | Stat significant at 1%        |\n",
       "| a11   |  0.1991571646 | 0.0168040309 |  11.8517495 | Stat significant at 1%        |\n",
       "| a12   |  0.0039220076 | 0.0096797205 |   0.4051778 | Not Statistically Significant |\n",
       "| a21   | -0.0243507771 | 0.0793781532 |  -0.3067693 | Not Statistically Significant |\n",
       "| a22   |  0.2864912446 | 0.0233007628 |  12.2953591 | Stat significant at 1%        |\n",
       "| g11   |  0.9797236664 | 0.0050461371 | 194.1532020 | Stat significant at 1%        |\n",
       "| g12   | -0.0015579588 | 0.0031325517 |  -0.4973450 | Not Statistically Significant |\n",
       "| g21   | -0.0021547747 | 0.0313097071 |  -0.0688213 | Not Statistically Significant |\n",
       "| g22   |  0.9399365933 | 0.0105487096 |  89.1044144 | Stat significant at 1%        |\n",
       "\n"
      ],
      "text/plain": [
       "   Parameters Coefficient   Std_error    T_value    \n",
       "1  mu10        0.0010296977 0.0005649994   1.8224758\n",
       "2  mu20       -0.0000215884 0.0001875496  -0.1151077\n",
       "3  phi11       0.0394380403 0.0313218660   1.2591217\n",
       "4  phi12       0.1798185232 0.0932765415   1.9278001\n",
       "5  phi21       0.0080611493 0.0103971865   0.7753203\n",
       "6  phi22       0.0824784168 0.0309628296   2.6637881\n",
       "7  a11         0.1991571646 0.0168040309  11.8517495\n",
       "8  a12         0.0039220076 0.0096797205   0.4051778\n",
       "9  a21        -0.0243507771 0.0793781532  -0.3067693\n",
       "10 a22         0.2864912446 0.0233007628  12.2953591\n",
       "11 g11         0.9797236664 0.0050461371 194.1532020\n",
       "12 g12        -0.0015579588 0.0031325517  -0.4973450\n",
       "13 g21        -0.0021547747 0.0313097071  -0.0688213\n",
       "14 g22         0.9399365933 0.0105487096  89.1044144\n",
       "   Significant_at_5p_level      \n",
       "1  Stat significant at 10%      \n",
       "2  Not Statistically Significant\n",
       "3  Not Statistically Significant\n",
       "4  Stat significant at 10%      \n",
       "5  Not Statistically Significant\n",
       "6  Stat significant at 1%       \n",
       "7  Stat significant at 1%       \n",
       "8  Not Statistically Significant\n",
       "9  Not Statistically Significant\n",
       "10 Stat significant at 1%       \n",
       "11 Stat significant at 1%       \n",
       "12 Not Statistically Significant\n",
       "13 Not Statistically Significant\n",
       "14 Stat significant at 1%       "
      ]
     },
     "metadata": {},
     "output_type": "display_data"
    }
   ],
   "source": [
    "bekk2 <- data.frame(Parameters = c(\"mu10\",\"mu20\",\"phi11\",\"phi12\",\"phi21\",\"phi22\",\"a11\",\"a12\",\"a21\",\"a22\",\"g11\",\"g12\",\"g21\",\"g22\"),\n",
    "                   Coefficient = c(summary(var_bekk2)$varresult$usc$coefficients[\"const\",\"Estimate\"],summary(var_bekk2)$varresult$gbpusd$coefficients[\"const\",\"Estimate\"],\n",
    "                       summary(var_bekk2)$varresult$usc$coefficients[\"usc.l1\",\"Estimate\"],summary(var_bekk2)$varresult$usc$coefficients[\"gbpusd.l1\",\"Estimate\"],\n",
    "                                   summary(var_bekk2)$varresult$gbpusd$coefficients[\"usc.l1\",\"Estimate\"],summary(var_bekk2)$varresult$gbpusd$coefficients[\"gbpusd.l1\",\"Estimate\"],\n",
    "                                   bekk2_fit$A[1,1],bekk2_fit$A[1,2],bekk2_fit$A[2,1],bekk2_fit$A[2,2],bekk2_fit$G[1,1],bekk2_fit$G[1,2],bekk2_fit$G[2,1],bekk2_fit$G[2,2]),\n",
    "                   Std_error = c(summary(var_bekk2)$varresult$usc$coefficients[\"const\",\"Std. Error\"],summary(var_bekk2)$varresult$gbpusd$coefficients[\"const\",\"Std. Error\"],\n",
    "                       summary(var_bekk2)$varresult$usc$coefficients[\"usc.l1\",\"Std. Error\"],summary(var_bekk2)$varresult$usc$coefficients[\"gbpusd.l1\",\"Std. Error\"],\n",
    "                                 summary(var_bekk2)$varresult$gbpusd$coefficients[\"usc.l1\",\"Std. Error\"],summary(var_bekk2)$varresult$gbpusd$coefficients[\"gbpusd.l1\",\"Std. Error\"],\n",
    "                                 bekk2_fit$A_sd[1,1],bekk2_fit$A_sd[1,2],bekk2_fit$A_sd[2,1],bekk2_fit$A_sd[2,2],bekk2_fit$G_sd[1,1],bekk2_fit$G_sd[1,2],bekk2_fit$G_sd[2,1],bekk2_fit$G_sd[2,2]),\n",
    "                   T_value = c(summary(var_bekk2)$varresult$usc$coefficients[\"const\",\"t value\"],summary(var_bekk2)$varresult$gbpusd$coefficients[\"const\",\"t value\"],\n",
    "                       summary(var_bekk2)$varresult$usc$coefficients[\"usc.l1\",\"t value\"],summary(var_bekk2)$varresult$usc$coefficients[\"gbpusd.l1\",\"t value\"],\n",
    "                               summary(var_bekk2)$varresult$gbpusd$coefficients[\"usc.l1\",\"t value\"],summary(var_bekk2)$varresult$gbpusd$coefficients[\"gbpusd.l1\",\"t value\"],\n",
    "                               bekk2_fit$A_t[1,1],bekk2_fit$A_t[1,2],bekk2_fit$A_t[2,1],bekk2_fit$A_t[2,2],bekk2_fit$G_t[1,1],bekk2_fit$G_t[1,2],bekk2_fit$G_t[2,1],bekk2_fit$G_t[2,2]))\n",
    "\n",
    "bekk2$Significant_at_5p_level[abs(bekk2$T_value) >= 2.58 ] <- \"Stat significant at 1%\"\n",
    "bekk2$Significant_at_5p_level[abs(bekk2$T_value) > 1.96 & abs(bekk2$T_value) < 2.58] <- \"Stat significant at 5%\"\n",
    "bekk2$Significant_at_5p_level[abs(bekk2$T_value) > 1.645 & abs(bekk2$T_value) <= 1.96 ] <- \"Stat significant at 10%\"\n",
    "bekk2$Significant_at_5p_level[abs(bekk2$T_value) <= 1.645] <- \"Not Statistically Significant\"\n",
    "bekk2"
   ]
  },
  {
   "cell_type": "code",
   "execution_count": 34,
   "id": "b38d5071-78d3-4c1e-a41f-17b0d59ee2be",
   "metadata": {},
   "outputs": [
    {
     "data": {
      "text/plain": [
       "\n",
       "\tGranger causality H0: usc do not Granger-cause gbpusd\n",
       "\n",
       "data:  VAR object var_bekk2\n",
       "F-Test = 0.60112, df1 = 1, df2 = 2090, p-value = 0.4382\n"
      ]
     },
     "metadata": {},
     "output_type": "display_data"
    },
    {
     "data": {
      "text/plain": [
       "\n",
       "\tGranger causality H0: gbpusd do not Granger-cause usc\n",
       "\n",
       "data:  VAR object var_bekk2\n",
       "F-Test = 3.7164, df1 = 1, df2 = 2090, p-value = 0.05402\n"
      ]
     },
     "metadata": {},
     "output_type": "display_data"
    }
   ],
   "source": [
    "causality(var_bekk2,cause = \"usc\")$Granger\n",
    "causality(var_bekk2,cause = \"gbpusd\")$Granger"
   ]
  },
  {
   "cell_type": "markdown",
   "id": "f20e55b9-3d88-456f-9a3d-45cc5e00984d",
   "metadata": {},
   "source": [
    "## (c) VAR-BEKK: US Cocoa-CHFUSD"
   ]
  },
  {
   "cell_type": "code",
   "execution_count": 35,
   "id": "bea2f6e1-d9c5-47a3-aef2-6f676182280c",
   "metadata": {},
   "outputs": [
    {
     "data": {
      "text/plain": [
       "                    usc        chfusd\n",
       "2020-02-03 -0.016196143 -0.0027972046\n",
       "2020-02-04  0.009030222 -0.0034833127\n",
       "2020-02-05  0.012151686 -0.0042739259\n",
       "2020-02-06  0.017606089 -0.0011687934\n",
       "2020-02-07  0.011452494 -0.0033679104\n",
       "2020-02-10 -0.006925235  0.0006354017"
      ]
     },
     "metadata": {},
     "output_type": "display_data"
    },
    {
     "data": {
      "text/plain": [
       "                   usc       chfusd\n",
       "2024-04-26 -0.01962863 -0.002191682\n",
       "2024-04-29 -0.17075943  0.004059947\n",
       "2024-04-30  0.03865640 -0.009744124\n",
       "2024-05-01 -0.11385883  0.004128825\n",
       "2024-05-02 -0.09105801  0.005524245\n",
       "2024-05-03  0.07413631  0.005493896"
      ]
     },
     "metadata": {},
     "output_type": "display_data"
    }
   ],
   "source": [
    "bekk3data <- us_d[,c(1,4)]\n",
    "head(bekk3data)\n",
    "tail(bekk3data)"
   ]
  },
  {
   "cell_type": "code",
   "execution_count": 36,
   "id": "fa4262ee-9d4a-4f27-8cb0-064deb1ca669",
   "metadata": {},
   "outputs": [
    {
     "data": {
      "text/html": [
       "<dl>\n",
       "\t<dt>$selection</dt>\n",
       "\t\t<dd><style>\n",
       ".dl-inline {width: auto; margin:0; padding: 0}\n",
       ".dl-inline>dt, .dl-inline>dd {float: none; width: auto; display: inline-block}\n",
       ".dl-inline>dt::after {content: \":\\0020\"; padding-right: .5ex}\n",
       ".dl-inline>dt:not(:first-of-type) {padding-left: .5ex}\n",
       "</style><dl class=dl-inline><dt>AIC(n)</dt><dd>1</dd><dt>HQ(n)</dt><dd>1</dd><dt>SC(n)</dt><dd>1</dd><dt>FPE(n)</dt><dd>1</dd></dl>\n",
       "</dd>\n",
       "\t<dt>$criteria</dt>\n",
       "\t\t<dd><table class=\"dataframe\">\n",
       "<caption>A matrix: 4 × 10 of type dbl</caption>\n",
       "<thead>\n",
       "\t<tr><th></th><th scope=col>1</th><th scope=col>2</th><th scope=col>3</th><th scope=col>4</th><th scope=col>5</th><th scope=col>6</th><th scope=col>7</th><th scope=col>8</th><th scope=col>9</th><th scope=col>10</th></tr>\n",
       "</thead>\n",
       "<tbody>\n",
       "\t<tr><th scope=row>AIC(n)</th><td>-1.860795e+01</td><td>-1.860148e+01</td><td>-1.859630e+01</td><td>-1.859664e+01</td><td>-1.858946e+01</td><td>-1.858985e+01</td><td>-1.858582e+01</td><td>-1.858588e+01</td><td>-1.858155e+01</td><td>-1.858382e+01</td></tr>\n",
       "\t<tr><th scope=row>HQ(n)</th><td>-1.859711e+01</td><td>-1.858342e+01</td><td>-1.857101e+01</td><td>-1.856414e+01</td><td>-1.854973e+01</td><td>-1.854290e+01</td><td>-1.853165e+01</td><td>-1.852448e+01</td><td>-1.851293e+01</td><td>-1.850798e+01</td></tr>\n",
       "\t<tr><th scope=row>SC(n)</th><td>-1.857939e+01</td><td>-1.855388e+01</td><td>-1.852965e+01</td><td>-1.851096e+01</td><td>-1.848473e+01</td><td>-1.846608e+01</td><td>-1.844301e+01</td><td>-1.842403e+01</td><td>-1.840066e+01</td><td>-1.838389e+01</td></tr>\n",
       "\t<tr><th scope=row>FPE(n)</th><td> 8.292216e-09</td><td> 8.346024e-09</td><td> 8.389403e-09</td><td> 8.386498e-09</td><td> 8.446997e-09</td><td> 8.443691e-09</td><td> 8.477769e-09</td><td> 8.477292e-09</td><td> 8.514098e-09</td><td> 8.494788e-09</td></tr>\n",
       "</tbody>\n",
       "</table>\n",
       "</dd>\n",
       "</dl>\n"
      ],
      "text/latex": [
       "\\begin{description}\n",
       "\\item[\\$selection] \\begin{description*}\n",
       "\\item[AIC(n)] 1\n",
       "\\item[HQ(n)] 1\n",
       "\\item[SC(n)] 1\n",
       "\\item[FPE(n)] 1\n",
       "\\end{description*}\n",
       "\n",
       "\\item[\\$criteria] A matrix: 4 × 10 of type dbl\n",
       "\\begin{tabular}{r|llllllllll}\n",
       "  & 1 & 2 & 3 & 4 & 5 & 6 & 7 & 8 & 9 & 10\\\\\n",
       "\\hline\n",
       "\tAIC(n) & -1.860795e+01 & -1.860148e+01 & -1.859630e+01 & -1.859664e+01 & -1.858946e+01 & -1.858985e+01 & -1.858582e+01 & -1.858588e+01 & -1.858155e+01 & -1.858382e+01\\\\\n",
       "\tHQ(n) & -1.859711e+01 & -1.858342e+01 & -1.857101e+01 & -1.856414e+01 & -1.854973e+01 & -1.854290e+01 & -1.853165e+01 & -1.852448e+01 & -1.851293e+01 & -1.850798e+01\\\\\n",
       "\tSC(n) & -1.857939e+01 & -1.855388e+01 & -1.852965e+01 & -1.851096e+01 & -1.848473e+01 & -1.846608e+01 & -1.844301e+01 & -1.842403e+01 & -1.840066e+01 & -1.838389e+01\\\\\n",
       "\tFPE(n) &  8.292216e-09 &  8.346024e-09 &  8.389403e-09 &  8.386498e-09 &  8.446997e-09 &  8.443691e-09 &  8.477769e-09 &  8.477292e-09 &  8.514098e-09 &  8.494788e-09\\\\\n",
       "\\end{tabular}\n",
       "\n",
       "\\end{description}\n"
      ],
      "text/markdown": [
       "$selection\n",
       ":   AIC(n)\n",
       ":   1HQ(n)\n",
       ":   1SC(n)\n",
       ":   1FPE(n)\n",
       ":   1\n",
       "\n",
       "\n",
       "$criteria\n",
       ":   \n",
       "A matrix: 4 × 10 of type dbl\n",
       "\n",
       "| <!--/--> | 1 | 2 | 3 | 4 | 5 | 6 | 7 | 8 | 9 | 10 |\n",
       "|---|---|---|---|---|---|---|---|---|---|---|\n",
       "| AIC(n) | -1.860795e+01 | -1.860148e+01 | -1.859630e+01 | -1.859664e+01 | -1.858946e+01 | -1.858985e+01 | -1.858582e+01 | -1.858588e+01 | -1.858155e+01 | -1.858382e+01 |\n",
       "| HQ(n) | -1.859711e+01 | -1.858342e+01 | -1.857101e+01 | -1.856414e+01 | -1.854973e+01 | -1.854290e+01 | -1.853165e+01 | -1.852448e+01 | -1.851293e+01 | -1.850798e+01 |\n",
       "| SC(n) | -1.857939e+01 | -1.855388e+01 | -1.852965e+01 | -1.851096e+01 | -1.848473e+01 | -1.846608e+01 | -1.844301e+01 | -1.842403e+01 | -1.840066e+01 | -1.838389e+01 |\n",
       "| FPE(n) |  8.292216e-09 |  8.346024e-09 |  8.389403e-09 |  8.386498e-09 |  8.446997e-09 |  8.443691e-09 |  8.477769e-09 |  8.477292e-09 |  8.514098e-09 |  8.494788e-09 |\n",
       "\n",
       "\n",
       "\n",
       "\n"
      ],
      "text/plain": [
       "$selection\n",
       "AIC(n)  HQ(n)  SC(n) FPE(n) \n",
       "     1      1      1      1 \n",
       "\n",
       "$criteria\n",
       "                   1             2             3             4             5\n",
       "AIC(n) -1.860795e+01 -1.860148e+01 -1.859630e+01 -1.859664e+01 -1.858946e+01\n",
       "HQ(n)  -1.859711e+01 -1.858342e+01 -1.857101e+01 -1.856414e+01 -1.854973e+01\n",
       "SC(n)  -1.857939e+01 -1.855388e+01 -1.852965e+01 -1.851096e+01 -1.848473e+01\n",
       "FPE(n)  8.292216e-09  8.346024e-09  8.389403e-09  8.386498e-09  8.446997e-09\n",
       "                   6             7             8             9            10\n",
       "AIC(n) -1.858985e+01 -1.858582e+01 -1.858588e+01 -1.858155e+01 -1.858382e+01\n",
       "HQ(n)  -1.854290e+01 -1.853165e+01 -1.852448e+01 -1.851293e+01 -1.850798e+01\n",
       "SC(n)  -1.846608e+01 -1.844301e+01 -1.842403e+01 -1.840066e+01 -1.838389e+01\n",
       "FPE(n)  8.443691e-09  8.477769e-09  8.477292e-09  8.514098e-09  8.494788e-09\n"
      ]
     },
     "metadata": {},
     "output_type": "display_data"
    }
   ],
   "source": [
    "VARselect(bekk3data,type = \"const\")"
   ]
  },
  {
   "cell_type": "code",
   "execution_count": 37,
   "id": "4890faf4-1721-4f76-b65e-0cbfa7a7bab3",
   "metadata": {},
   "outputs": [],
   "source": [
    "var_bekk3<-VAR(bekk3data,p = 1,type = \"const\")\n",
    "res_bekk3 <- residuals(var_bekk3)\n",
    "res_bekk3 <- as.data.frame(res_bekk3)"
   ]
  },
  {
   "cell_type": "code",
   "execution_count": 38,
   "id": "4d10178a-0e9b-4cde-837a-32fbb0d53d82",
   "metadata": {},
   "outputs": [
    {
     "name": "stdout",
     "output_type": "stream",
     "text": [
      " Date[1:1048], format: \"2020-02-04\" \"2020-02-05\" \"2020-02-06\" \"2020-02-07\" \"2020-02-10\" ...\n"
     ]
    }
   ],
   "source": [
    "ind_var3 <- index(bekk3data)[-1]\n",
    "str(ind_var3)"
   ]
  },
  {
   "cell_type": "code",
   "execution_count": 39,
   "id": "fed3a274-3426-4419-bb8d-110a1f779be8",
   "metadata": {},
   "outputs": [],
   "source": [
    "res_bekk3 <- xts(res_bekk3,order.by = ind_var3)\n",
    "bekk_spec <- bekk_spec(model = list(type = \"bekk\",asymmetric = F))\n",
    "bekk3_fit <- bekk_fit(spec = bekk_spec,data = res_bekk3)"
   ]
  },
  {
   "cell_type": "code",
   "execution_count": 40,
   "id": "ceaf0362-9c5e-48a8-8343-8e0594577438",
   "metadata": {},
   "outputs": [
    {
     "data": {
      "text/html": [
       "<table class=\"dataframe\">\n",
       "<caption>A matrix: 2 × 2 of type dbl</caption>\n",
       "<tbody>\n",
       "\t<tr><td>0.20079749</td><td>0.01767605</td></tr>\n",
       "\t<tr><td>0.04667108</td><td>0.36211667</td></tr>\n",
       "</tbody>\n",
       "</table>\n"
      ],
      "text/latex": [
       "A matrix: 2 × 2 of type dbl\n",
       "\\begin{tabular}{ll}\n",
       "\t 0.20079749 & 0.01767605\\\\\n",
       "\t 0.04667108 & 0.36211667\\\\\n",
       "\\end{tabular}\n"
      ],
      "text/markdown": [
       "\n",
       "A matrix: 2 × 2 of type dbl\n",
       "\n",
       "| 0.20079749 | 0.01767605 |\n",
       "| 0.04667108 | 0.36211667 |\n",
       "\n"
      ],
      "text/plain": [
       "     [,1]       [,2]      \n",
       "[1,] 0.20079749 0.01767605\n",
       "[2,] 0.04667108 0.36211667"
      ]
     },
     "metadata": {},
     "output_type": "display_data"
    },
    {
     "data": {
      "text/html": [
       "<table class=\"dataframe\">\n",
       "<caption>A matrix: 2 × 2 of type dbl</caption>\n",
       "<tbody>\n",
       "\t<tr><td>10.5682638</td><td>1.658173</td></tr>\n",
       "\t<tr><td> 0.4706513</td><td>9.443012</td></tr>\n",
       "</tbody>\n",
       "</table>\n"
      ],
      "text/latex": [
       "A matrix: 2 × 2 of type dbl\n",
       "\\begin{tabular}{ll}\n",
       "\t 10.5682638 & 1.658173\\\\\n",
       "\t  0.4706513 & 9.443012\\\\\n",
       "\\end{tabular}\n"
      ],
      "text/markdown": [
       "\n",
       "A matrix: 2 × 2 of type dbl\n",
       "\n",
       "| 10.5682638 | 1.658173 |\n",
       "|  0.4706513 | 9.443012 |\n",
       "\n"
      ],
      "text/plain": [
       "     [,1]       [,2]    \n",
       "[1,] 10.5682638 1.658173\n",
       "[2,]  0.4706513 9.443012"
      ]
     },
     "metadata": {},
     "output_type": "display_data"
    },
    {
     "data": {
      "text/html": [
       "<table class=\"dataframe\">\n",
       "<caption>A matrix: 2 × 2 of type dbl</caption>\n",
       "<tbody>\n",
       "\t<tr><td> 0.97675873</td><td>-0.009952466</td></tr>\n",
       "\t<tr><td>-0.06977458</td><td> 0.812802742</td></tr>\n",
       "</tbody>\n",
       "</table>\n"
      ],
      "text/latex": [
       "A matrix: 2 × 2 of type dbl\n",
       "\\begin{tabular}{ll}\n",
       "\t  0.97675873 & -0.009952466\\\\\n",
       "\t -0.06977458 &  0.812802742\\\\\n",
       "\\end{tabular}\n"
      ],
      "text/markdown": [
       "\n",
       "A matrix: 2 × 2 of type dbl\n",
       "\n",
       "|  0.97675873 | -0.009952466 |\n",
       "| -0.06977458 |  0.812802742 |\n",
       "\n"
      ],
      "text/plain": [
       "     [,1]        [,2]        \n",
       "[1,]  0.97675873 -0.009952466\n",
       "[2,] -0.06977458  0.812802742"
      ]
     },
     "metadata": {},
     "output_type": "display_data"
    },
    {
     "data": {
      "text/html": [
       "<table class=\"dataframe\">\n",
       "<caption>A matrix: 2 × 2 of type dbl</caption>\n",
       "<tbody>\n",
       "\t<tr><td>138.1039604</td><td>-1.77721</td></tr>\n",
       "\t<tr><td> -0.8497755</td><td>20.68472</td></tr>\n",
       "</tbody>\n",
       "</table>\n"
      ],
      "text/latex": [
       "A matrix: 2 × 2 of type dbl\n",
       "\\begin{tabular}{ll}\n",
       "\t 138.1039604 & -1.77721\\\\\n",
       "\t  -0.8497755 & 20.68472\\\\\n",
       "\\end{tabular}\n"
      ],
      "text/markdown": [
       "\n",
       "A matrix: 2 × 2 of type dbl\n",
       "\n",
       "| 138.1039604 | -1.77721 |\n",
       "|  -0.8497755 | 20.68472 |\n",
       "\n"
      ],
      "text/plain": [
       "     [,1]        [,2]    \n",
       "[1,] 138.1039604 -1.77721\n",
       "[2,]  -0.8497755 20.68472"
      ]
     },
     "metadata": {},
     "output_type": "display_data"
    }
   ],
   "source": [
    "bekk3_fit$A\n",
    "bekk3_fit$A_t\n",
    "bekk3_fit$G\n",
    "bekk3_fit$G_t"
   ]
  },
  {
   "cell_type": "markdown",
   "id": "200d6235-3660-441d-986e-1e4a4392177f",
   "metadata": {},
   "source": [
    "### VAR-BEKK Model Table for US Cocoa - CHFUSD"
   ]
  },
  {
   "cell_type": "code",
   "execution_count": 41,
   "id": "5ce03715-a765-41b1-97fb-072eeeb284da",
   "metadata": {},
   "outputs": [
    {
     "data": {
      "text/html": [
       "<table class=\"dataframe\">\n",
       "<caption>A data.frame: 14 × 5</caption>\n",
       "<thead>\n",
       "\t<tr><th scope=col>Parameters</th><th scope=col>Coefficient</th><th scope=col>Std_error</th><th scope=col>T_value</th><th scope=col>Significant_at_5p_level</th></tr>\n",
       "\t<tr><th scope=col>&lt;chr&gt;</th><th scope=col>&lt;dbl&gt;</th><th scope=col>&lt;dbl&gt;</th><th scope=col>&lt;dbl&gt;</th><th scope=col>&lt;chr&gt;</th></tr>\n",
       "</thead>\n",
       "<tbody>\n",
       "\t<tr><td>mu10 </td><td> 1.012669e-03</td><td>0.0005659087</td><td>  1.7894572</td><td>Stat significant at 10%      </td></tr>\n",
       "\t<tr><td>mu20 </td><td> 6.465282e-05</td><td>0.0001526395</td><td>  0.4235655</td><td>Not Statistically Significant</td></tr>\n",
       "\t<tr><td>phi11</td><td> 4.662404e-02</td><td>0.0311304411</td><td>  1.4976992</td><td>Not Statistically Significant</td></tr>\n",
       "\t<tr><td>phi12</td><td> 6.601048e-02</td><td>0.1144900889</td><td>  0.5765606</td><td>Not Statistically Significant</td></tr>\n",
       "\t<tr><td>phi21</td><td> 2.492530e-03</td><td>0.0083966454</td><td>  0.2968483</td><td>Not Statistically Significant</td></tr>\n",
       "\t<tr><td>phi22</td><td> 6.931955e-02</td><td>0.0308807921</td><td>  2.2447464</td><td>Stat significant at 5%       </td></tr>\n",
       "\t<tr><td>a11  </td><td> 2.007975e-01</td><td>0.0190000455</td><td> 10.5682638</td><td>Stat significant at 1%       </td></tr>\n",
       "\t<tr><td>a12  </td><td> 1.767605e-02</td><td>0.0106599558</td><td>  1.6581732</td><td>Stat significant at 10%      </td></tr>\n",
       "\t<tr><td>a21  </td><td> 4.667108e-02</td><td>0.0991627569</td><td>  0.4706513</td><td>Not Statistically Significant</td></tr>\n",
       "\t<tr><td>a22  </td><td> 3.621167e-01</td><td>0.0383475803</td><td>  9.4430122</td><td>Stat significant at 1%       </td></tr>\n",
       "\t<tr><td>g11  </td><td> 9.767587e-01</td><td>0.0070726338</td><td>138.1039604</td><td>Stat significant at 1%       </td></tr>\n",
       "\t<tr><td>g12  </td><td>-9.952466e-03</td><td>0.0056000502</td><td> -1.7772102</td><td>Stat significant at 10%      </td></tr>\n",
       "\t<tr><td>g21  </td><td>-6.977458e-02</td><td>0.0821094261</td><td> -0.8497755</td><td>Not Statistically Significant</td></tr>\n",
       "\t<tr><td>g22  </td><td> 8.128027e-01</td><td>0.0392948425</td><td> 20.6847182</td><td>Stat significant at 1%       </td></tr>\n",
       "</tbody>\n",
       "</table>\n"
      ],
      "text/latex": [
       "A data.frame: 14 × 5\n",
       "\\begin{tabular}{lllll}\n",
       " Parameters & Coefficient & Std\\_error & T\\_value & Significant\\_at\\_5p\\_level\\\\\n",
       " <chr> & <dbl> & <dbl> & <dbl> & <chr>\\\\\n",
       "\\hline\n",
       "\t mu10  &  1.012669e-03 & 0.0005659087 &   1.7894572 & Stat significant at 10\\%      \\\\\n",
       "\t mu20  &  6.465282e-05 & 0.0001526395 &   0.4235655 & Not Statistically Significant\\\\\n",
       "\t phi11 &  4.662404e-02 & 0.0311304411 &   1.4976992 & Not Statistically Significant\\\\\n",
       "\t phi12 &  6.601048e-02 & 0.1144900889 &   0.5765606 & Not Statistically Significant\\\\\n",
       "\t phi21 &  2.492530e-03 & 0.0083966454 &   0.2968483 & Not Statistically Significant\\\\\n",
       "\t phi22 &  6.931955e-02 & 0.0308807921 &   2.2447464 & Stat significant at 5\\%       \\\\\n",
       "\t a11   &  2.007975e-01 & 0.0190000455 &  10.5682638 & Stat significant at 1\\%       \\\\\n",
       "\t a12   &  1.767605e-02 & 0.0106599558 &   1.6581732 & Stat significant at 10\\%      \\\\\n",
       "\t a21   &  4.667108e-02 & 0.0991627569 &   0.4706513 & Not Statistically Significant\\\\\n",
       "\t a22   &  3.621167e-01 & 0.0383475803 &   9.4430122 & Stat significant at 1\\%       \\\\\n",
       "\t g11   &  9.767587e-01 & 0.0070726338 & 138.1039604 & Stat significant at 1\\%       \\\\\n",
       "\t g12   & -9.952466e-03 & 0.0056000502 &  -1.7772102 & Stat significant at 10\\%      \\\\\n",
       "\t g21   & -6.977458e-02 & 0.0821094261 &  -0.8497755 & Not Statistically Significant\\\\\n",
       "\t g22   &  8.128027e-01 & 0.0392948425 &  20.6847182 & Stat significant at 1\\%       \\\\\n",
       "\\end{tabular}\n"
      ],
      "text/markdown": [
       "\n",
       "A data.frame: 14 × 5\n",
       "\n",
       "| Parameters &lt;chr&gt; | Coefficient &lt;dbl&gt; | Std_error &lt;dbl&gt; | T_value &lt;dbl&gt; | Significant_at_5p_level &lt;chr&gt; |\n",
       "|---|---|---|---|---|\n",
       "| mu10  |  1.012669e-03 | 0.0005659087 |   1.7894572 | Stat significant at 10%       |\n",
       "| mu20  |  6.465282e-05 | 0.0001526395 |   0.4235655 | Not Statistically Significant |\n",
       "| phi11 |  4.662404e-02 | 0.0311304411 |   1.4976992 | Not Statistically Significant |\n",
       "| phi12 |  6.601048e-02 | 0.1144900889 |   0.5765606 | Not Statistically Significant |\n",
       "| phi21 |  2.492530e-03 | 0.0083966454 |   0.2968483 | Not Statistically Significant |\n",
       "| phi22 |  6.931955e-02 | 0.0308807921 |   2.2447464 | Stat significant at 5%        |\n",
       "| a11   |  2.007975e-01 | 0.0190000455 |  10.5682638 | Stat significant at 1%        |\n",
       "| a12   |  1.767605e-02 | 0.0106599558 |   1.6581732 | Stat significant at 10%       |\n",
       "| a21   |  4.667108e-02 | 0.0991627569 |   0.4706513 | Not Statistically Significant |\n",
       "| a22   |  3.621167e-01 | 0.0383475803 |   9.4430122 | Stat significant at 1%        |\n",
       "| g11   |  9.767587e-01 | 0.0070726338 | 138.1039604 | Stat significant at 1%        |\n",
       "| g12   | -9.952466e-03 | 0.0056000502 |  -1.7772102 | Stat significant at 10%       |\n",
       "| g21   | -6.977458e-02 | 0.0821094261 |  -0.8497755 | Not Statistically Significant |\n",
       "| g22   |  8.128027e-01 | 0.0392948425 |  20.6847182 | Stat significant at 1%        |\n",
       "\n"
      ],
      "text/plain": [
       "   Parameters Coefficient   Std_error    T_value    \n",
       "1  mu10        1.012669e-03 0.0005659087   1.7894572\n",
       "2  mu20        6.465282e-05 0.0001526395   0.4235655\n",
       "3  phi11       4.662404e-02 0.0311304411   1.4976992\n",
       "4  phi12       6.601048e-02 0.1144900889   0.5765606\n",
       "5  phi21       2.492530e-03 0.0083966454   0.2968483\n",
       "6  phi22       6.931955e-02 0.0308807921   2.2447464\n",
       "7  a11         2.007975e-01 0.0190000455  10.5682638\n",
       "8  a12         1.767605e-02 0.0106599558   1.6581732\n",
       "9  a21         4.667108e-02 0.0991627569   0.4706513\n",
       "10 a22         3.621167e-01 0.0383475803   9.4430122\n",
       "11 g11         9.767587e-01 0.0070726338 138.1039604\n",
       "12 g12        -9.952466e-03 0.0056000502  -1.7772102\n",
       "13 g21        -6.977458e-02 0.0821094261  -0.8497755\n",
       "14 g22         8.128027e-01 0.0392948425  20.6847182\n",
       "   Significant_at_5p_level      \n",
       "1  Stat significant at 10%      \n",
       "2  Not Statistically Significant\n",
       "3  Not Statistically Significant\n",
       "4  Not Statistically Significant\n",
       "5  Not Statistically Significant\n",
       "6  Stat significant at 5%       \n",
       "7  Stat significant at 1%       \n",
       "8  Stat significant at 10%      \n",
       "9  Not Statistically Significant\n",
       "10 Stat significant at 1%       \n",
       "11 Stat significant at 1%       \n",
       "12 Stat significant at 10%      \n",
       "13 Not Statistically Significant\n",
       "14 Stat significant at 1%       "
      ]
     },
     "metadata": {},
     "output_type": "display_data"
    }
   ],
   "source": [
    "bekk3 <- data.frame(Parameters = c(\"mu10\",\"mu20\",\"phi11\",\"phi12\",\"phi21\",\"phi22\",\"a11\",\"a12\",\"a21\",\"a22\",\"g11\",\"g12\",\"g21\",\"g22\"),\n",
    "                   Coefficient = c(summary(var_bekk3)$varresult$usc$coefficients[\"const\",\"Estimate\"],summary(var_bekk3)$varresult$chfusd$coefficients[\"const\",\"Estimate\"],\n",
    "                       summary(var_bekk3)$varresult$usc$coefficients[\"usc.l1\",\"Estimate\"],summary(var_bekk3)$varresult$usc$coefficients[\"chfusd.l1\",\"Estimate\"],\n",
    "                                   summary(var_bekk3)$varresult$chfusd$coefficients[\"usc.l1\",\"Estimate\"],summary(var_bekk3)$varresult$chfusd$coefficients[\"chfusd.l1\",\"Estimate\"],\n",
    "                                   bekk3_fit$A[1,1],bekk3_fit$A[1,2],bekk3_fit$A[2,1],bekk3_fit$A[2,2],bekk3_fit$G[1,1],bekk3_fit$G[1,2],bekk3_fit$G[2,1],bekk3_fit$G[2,2]),\n",
    "                   Std_error = c(summary(var_bekk3)$varresult$usc$coefficients[\"const\",\"Std. Error\"],summary(var_bekk3)$varresult$chfusd$coefficients[\"const\",\"Std. Error\"],\n",
    "                       summary(var_bekk3)$varresult$usc$coefficients[\"usc.l1\",\"Std. Error\"],summary(var_bekk3)$varresult$usc$coefficients[\"chfusd.l1\",\"Std. Error\"],\n",
    "                                 summary(var_bekk3)$varresult$chfusd$coefficients[\"usc.l1\",\"Std. Error\"],summary(var_bekk3)$varresult$chfusd$coefficients[\"chfusd.l1\",\"Std. Error\"],\n",
    "                                 bekk3_fit$A_sd[1,1],bekk3_fit$A_sd[1,2],bekk3_fit$A_sd[2,1],bekk3_fit$A_sd[2,2],bekk3_fit$G_sd[1,1],bekk3_fit$G_sd[1,2],bekk3_fit$G_sd[2,1],bekk3_fit$G_sd[2,2]),\n",
    "                   T_value = c(summary(var_bekk3)$varresult$usc$coefficients[\"const\",\"t value\"],summary(var_bekk3)$varresult$chfusd$coefficients[\"const\",\"t value\"],\n",
    "                       summary(var_bekk3)$varresult$usc$coefficients[\"usc.l1\",\"t value\"],summary(var_bekk3)$varresult$usc$coefficients[\"chfusd.l1\",\"t value\"],\n",
    "                               summary(var_bekk3)$varresult$chfusd$coefficients[\"usc.l1\",\"t value\"],summary(var_bekk3)$varresult$chfusd$coefficients[\"chfusd.l1\",\"t value\"],\n",
    "                               bekk3_fit$A_t[1,1],bekk3_fit$A_t[1,2],bekk3_fit$A_t[2,1],bekk3_fit$A_t[2,2],bekk3_fit$G_t[1,1],bekk3_fit$G_t[1,2],bekk3_fit$G_t[2,1],bekk3_fit$G_t[2,2]))\n",
    "\n",
    "bekk3$Significant_at_5p_level[abs(bekk3$T_value) >= 2.58 ] <- \"Stat significant at 1%\"\n",
    "bekk3$Significant_at_5p_level[abs(bekk3$T_value) > 1.96 & abs(bekk3$T_value) < 2.58] <- \"Stat significant at 5%\"\n",
    "bekk3$Significant_at_5p_level[abs(bekk3$T_value) > 1.645 & abs(bekk3$T_value) <= 1.96 ] <- \"Stat significant at 10%\"\n",
    "bekk3$Significant_at_5p_level[abs(bekk3$T_value) <= 1.645] <- \"Not Statistically Significant\"\n",
    "bekk3"
   ]
  },
  {
   "cell_type": "code",
   "execution_count": 42,
   "id": "29814146-a210-4107-9111-168024874e60",
   "metadata": {},
   "outputs": [
    {
     "data": {
      "text/plain": [
       "\n",
       "\tGranger causality H0: usc do not Granger-cause chfusd\n",
       "\n",
       "data:  VAR object var_bekk3\n",
       "F-Test = 0.088119, df1 = 1, df2 = 2090, p-value = 0.7666\n"
      ]
     },
     "metadata": {},
     "output_type": "display_data"
    },
    {
     "data": {
      "text/plain": [
       "\n",
       "\tGranger causality H0: chfusd do not Granger-cause usc\n",
       "\n",
       "data:  VAR object var_bekk3\n",
       "F-Test = 0.33242, df1 = 1, df2 = 2090, p-value = 0.5643\n"
      ]
     },
     "metadata": {},
     "output_type": "display_data"
    }
   ],
   "source": [
    "causality(var_bekk3,cause = \"usc\")$Granger\n",
    "causality(var_bekk3,cause = \"chfusd\")$Granger"
   ]
  },
  {
   "cell_type": "markdown",
   "id": "fe4a7f7f-4a06-4a97-bc1c-7fc78639cf61",
   "metadata": {},
   "source": [
    "## (d) VAR-BEKK model for US Cocoa - GHSUSD"
   ]
  },
  {
   "cell_type": "code",
   "execution_count": 43,
   "id": "87215292-6890-4a4b-b661-a745a019c4e3",
   "metadata": {},
   "outputs": [
    {
     "data": {
      "text/plain": [
       "                    usc       ghsusd\n",
       "2020-02-03 -0.016196143  0.009388869\n",
       "2020-02-04  0.009030222  0.008350745\n",
       "2020-02-05  0.012151686 -0.003785183\n",
       "2020-02-06  0.017606089 -0.002762874\n",
       "2020-02-07  0.011452494  0.002075578\n",
       "2020-02-10 -0.006925235  0.000589913"
      ]
     },
     "metadata": {},
     "output_type": "display_data"
    },
    {
     "data": {
      "text/plain": [
       "                   usc       ghsusd\n",
       "2024-04-26 -0.01962863 -0.003682821\n",
       "2024-04-29 -0.17075943 -0.004412793\n",
       "2024-04-30  0.03865640 -0.001468434\n",
       "2024-05-01 -0.11385883 -0.002189577\n",
       "2024-05-02 -0.09105801 -0.003637066\n",
       "2024-05-03  0.07413631  0.001449549"
      ]
     },
     "metadata": {},
     "output_type": "display_data"
    }
   ],
   "source": [
    "bekk7data <- na.omit(merge(cr_d[,1],fr_d[,7]))\n",
    "head(bekk7data)\n",
    "tail(bekk7data)"
   ]
  },
  {
   "cell_type": "code",
   "execution_count": 44,
   "id": "e673d7bc-fa8c-4d25-a8b3-486d5234f152",
   "metadata": {},
   "outputs": [
    {
     "data": {
      "text/html": [
       "<dl>\n",
       "\t<dt>$selection</dt>\n",
       "\t\t<dd><style>\n",
       ".dl-inline {width: auto; margin:0; padding: 0}\n",
       ".dl-inline>dt, .dl-inline>dd {float: none; width: auto; display: inline-block}\n",
       ".dl-inline>dt::after {content: \":\\0020\"; padding-right: .5ex}\n",
       ".dl-inline>dt:not(:first-of-type) {padding-left: .5ex}\n",
       "</style><dl class=dl-inline><dt>AIC(n)</dt><dd>3</dd><dt>HQ(n)</dt><dd>2</dd><dt>SC(n)</dt><dd>2</dd><dt>FPE(n)</dt><dd>3</dd></dl>\n",
       "</dd>\n",
       "\t<dt>$criteria</dt>\n",
       "\t\t<dd><table class=\"dataframe\">\n",
       "<caption>A matrix: 4 × 10 of type dbl</caption>\n",
       "<thead>\n",
       "\t<tr><th></th><th scope=col>1</th><th scope=col>2</th><th scope=col>3</th><th scope=col>4</th><th scope=col>5</th><th scope=col>6</th><th scope=col>7</th><th scope=col>8</th><th scope=col>9</th><th scope=col>10</th></tr>\n",
       "</thead>\n",
       "<tbody>\n",
       "\t<tr><th scope=row>AIC(n)</th><td>-1.674036e+01</td><td>-1.676221e+01</td><td>-1.676807e+01</td><td>-1.676751e+01</td><td>-1.676154e+01</td><td>-1.675665e+01</td><td>-1.675276e+01</td><td>-1.675037e+01</td><td>-1.674375e+01</td><td>-1.674268e+01</td></tr>\n",
       "\t<tr><th scope=row>HQ(n)</th><td>-1.672952e+01</td><td>-1.674415e+01</td><td>-1.674279e+01</td><td>-1.673501e+01</td><td>-1.672181e+01</td><td>-1.670970e+01</td><td>-1.669859e+01</td><td>-1.668897e+01</td><td>-1.667513e+01</td><td>-1.666683e+01</td></tr>\n",
       "\t<tr><th scope=row>SC(n)</th><td>-1.671179e+01</td><td>-1.671460e+01</td><td>-1.670142e+01</td><td>-1.668183e+01</td><td>-1.665681e+01</td><td>-1.663288e+01</td><td>-1.660995e+01</td><td>-1.658852e+01</td><td>-1.656286e+01</td><td>-1.654275e+01</td></tr>\n",
       "\t<tr><th scope=row>FPE(n)</th><td> 5.367294e-08</td><td> 5.251300e-08</td><td> 5.220603e-08</td><td> 5.223498e-08</td><td> 5.254804e-08</td><td> 5.280574e-08</td><td> 5.301132e-08</td><td> 5.313856e-08</td><td> 5.349158e-08</td><td> 5.354898e-08</td></tr>\n",
       "</tbody>\n",
       "</table>\n",
       "</dd>\n",
       "</dl>\n"
      ],
      "text/latex": [
       "\\begin{description}\n",
       "\\item[\\$selection] \\begin{description*}\n",
       "\\item[AIC(n)] 3\n",
       "\\item[HQ(n)] 2\n",
       "\\item[SC(n)] 2\n",
       "\\item[FPE(n)] 3\n",
       "\\end{description*}\n",
       "\n",
       "\\item[\\$criteria] A matrix: 4 × 10 of type dbl\n",
       "\\begin{tabular}{r|llllllllll}\n",
       "  & 1 & 2 & 3 & 4 & 5 & 6 & 7 & 8 & 9 & 10\\\\\n",
       "\\hline\n",
       "\tAIC(n) & -1.674036e+01 & -1.676221e+01 & -1.676807e+01 & -1.676751e+01 & -1.676154e+01 & -1.675665e+01 & -1.675276e+01 & -1.675037e+01 & -1.674375e+01 & -1.674268e+01\\\\\n",
       "\tHQ(n) & -1.672952e+01 & -1.674415e+01 & -1.674279e+01 & -1.673501e+01 & -1.672181e+01 & -1.670970e+01 & -1.669859e+01 & -1.668897e+01 & -1.667513e+01 & -1.666683e+01\\\\\n",
       "\tSC(n) & -1.671179e+01 & -1.671460e+01 & -1.670142e+01 & -1.668183e+01 & -1.665681e+01 & -1.663288e+01 & -1.660995e+01 & -1.658852e+01 & -1.656286e+01 & -1.654275e+01\\\\\n",
       "\tFPE(n) &  5.367294e-08 &  5.251300e-08 &  5.220603e-08 &  5.223498e-08 &  5.254804e-08 &  5.280574e-08 &  5.301132e-08 &  5.313856e-08 &  5.349158e-08 &  5.354898e-08\\\\\n",
       "\\end{tabular}\n",
       "\n",
       "\\end{description}\n"
      ],
      "text/markdown": [
       "$selection\n",
       ":   AIC(n)\n",
       ":   3HQ(n)\n",
       ":   2SC(n)\n",
       ":   2FPE(n)\n",
       ":   3\n",
       "\n",
       "\n",
       "$criteria\n",
       ":   \n",
       "A matrix: 4 × 10 of type dbl\n",
       "\n",
       "| <!--/--> | 1 | 2 | 3 | 4 | 5 | 6 | 7 | 8 | 9 | 10 |\n",
       "|---|---|---|---|---|---|---|---|---|---|---|\n",
       "| AIC(n) | -1.674036e+01 | -1.676221e+01 | -1.676807e+01 | -1.676751e+01 | -1.676154e+01 | -1.675665e+01 | -1.675276e+01 | -1.675037e+01 | -1.674375e+01 | -1.674268e+01 |\n",
       "| HQ(n) | -1.672952e+01 | -1.674415e+01 | -1.674279e+01 | -1.673501e+01 | -1.672181e+01 | -1.670970e+01 | -1.669859e+01 | -1.668897e+01 | -1.667513e+01 | -1.666683e+01 |\n",
       "| SC(n) | -1.671179e+01 | -1.671460e+01 | -1.670142e+01 | -1.668183e+01 | -1.665681e+01 | -1.663288e+01 | -1.660995e+01 | -1.658852e+01 | -1.656286e+01 | -1.654275e+01 |\n",
       "| FPE(n) |  5.367294e-08 |  5.251300e-08 |  5.220603e-08 |  5.223498e-08 |  5.254804e-08 |  5.280574e-08 |  5.301132e-08 |  5.313856e-08 |  5.349158e-08 |  5.354898e-08 |\n",
       "\n",
       "\n",
       "\n",
       "\n"
      ],
      "text/plain": [
       "$selection\n",
       "AIC(n)  HQ(n)  SC(n) FPE(n) \n",
       "     3      2      2      3 \n",
       "\n",
       "$criteria\n",
       "                   1             2             3             4             5\n",
       "AIC(n) -1.674036e+01 -1.676221e+01 -1.676807e+01 -1.676751e+01 -1.676154e+01\n",
       "HQ(n)  -1.672952e+01 -1.674415e+01 -1.674279e+01 -1.673501e+01 -1.672181e+01\n",
       "SC(n)  -1.671179e+01 -1.671460e+01 -1.670142e+01 -1.668183e+01 -1.665681e+01\n",
       "FPE(n)  5.367294e-08  5.251300e-08  5.220603e-08  5.223498e-08  5.254804e-08\n",
       "                   6             7             8             9            10\n",
       "AIC(n) -1.675665e+01 -1.675276e+01 -1.675037e+01 -1.674375e+01 -1.674268e+01\n",
       "HQ(n)  -1.670970e+01 -1.669859e+01 -1.668897e+01 -1.667513e+01 -1.666683e+01\n",
       "SC(n)  -1.663288e+01 -1.660995e+01 -1.658852e+01 -1.656286e+01 -1.654275e+01\n",
       "FPE(n)  5.280574e-08  5.301132e-08  5.313856e-08  5.349158e-08  5.354898e-08\n"
      ]
     },
     "metadata": {},
     "output_type": "display_data"
    }
   ],
   "source": [
    "VARselect(bekk7data,type = \"const\")"
   ]
  },
  {
   "cell_type": "code",
   "execution_count": 45,
   "id": "385e00cf-26b7-4eb7-9b3b-d7280c0f2603",
   "metadata": {},
   "outputs": [],
   "source": [
    "var_bekk7<-VAR(bekk7data,p = 3,type = \"const\")\n",
    "res_bekk7 <- residuals(var_bekk7)\n",
    "res_bekk7 <- as.data.frame(res_bekk7)"
   ]
  },
  {
   "cell_type": "code",
   "execution_count": 46,
   "id": "78fd38b3-7397-48f9-88c1-0e7e567f4103",
   "metadata": {},
   "outputs": [
    {
     "data": {
      "text/plain": [
       "\n",
       "VAR Estimation Results:\n",
       "========================= \n",
       "Endogenous variables: usc, ghsusd \n",
       "Deterministic variables: const \n",
       "Sample size: 1046 \n",
       "Log Likelihood: 5820.953 \n",
       "Roots of the characteristic polynomial:\n",
       "0.6277 0.4218 0.4218 0.3185 0.3052 0.3052\n",
       "Call:\n",
       "VAR(y = bekk7data, p = 3, type = \"const\")\n",
       "\n",
       "\n",
       "Estimation results for equation usc: \n",
       "==================================== \n",
       "usc = usc.l1 + ghsusd.l1 + usc.l2 + ghsusd.l2 + usc.l3 + ghsusd.l3 + const \n",
       "\n",
       "            Estimate Std. Error t value Pr(>|t|)\n",
       "usc.l1     0.0467707  0.0312800   1.495    0.135\n",
       "ghsusd.l1 -0.0401381  0.0458489  -0.875    0.382\n",
       "usc.l2    -0.0084765  0.0316829  -0.268    0.789\n",
       "ghsusd.l2 -0.0304103  0.0455180  -0.668    0.504\n",
       "usc.l3     0.0308992  0.0322329   0.959    0.338\n",
       "ghsusd.l3  0.0232327  0.0458462   0.507    0.612\n",
       "const      0.0009274  0.0005726   1.620    0.106\n",
       "\n",
       "\n",
       "Residual standard error: 0.01832 on 1039 degrees of freedom\n",
       "Multiple R-Squared: 0.004477,\tAdjusted R-squared: -0.001272 \n",
       "F-statistic: 0.7787 on 6 and 1039 DF,  p-value: 0.5867 \n",
       "\n",
       "\n",
       "Estimation results for equation ghsusd: \n",
       "======================================= \n",
       "ghsusd = usc.l1 + ghsusd.l1 + usc.l2 + ghsusd.l2 + usc.l3 + ghsusd.l3 + const \n",
       "\n",
       "            Estimate Std. Error t value Pr(>|t|)    \n",
       "usc.l1     0.0103162  0.0210343   0.490 0.623922    \n",
       "ghsusd.l1  0.1000973  0.0308311   3.247 0.001205 ** \n",
       "usc.l2     0.0099669  0.0213052   0.468 0.640014    \n",
       "ghsusd.l2  0.1558879  0.0306086   5.093 4.18e-07 ***\n",
       "usc.l3     0.0048588  0.0216750   0.224 0.822671    \n",
       "ghsusd.l3  0.1109131  0.0308293   3.598 0.000336 ***\n",
       "const     -0.0006063  0.0003850  -1.575 0.115644    \n",
       "---\n",
       "Signif. codes:  0 ‘***’ 0.001 ‘**’ 0.01 ‘*’ 0.05 ‘.’ 0.1 ‘ ’ 1\n",
       "\n",
       "\n",
       "Residual standard error: 0.01232 on 1039 degrees of freedom\n",
       "Multiple R-Squared: 0.06037,\tAdjusted R-squared: 0.05495 \n",
       "F-statistic: 11.13 on 6 and 1039 DF,  p-value: 4.682e-12 \n",
       "\n",
       "\n",
       "\n",
       "Covariance matrix of residuals:\n",
       "              usc     ghsusd\n",
       "usc     3.357e-04 -8.450e-07\n",
       "ghsusd -8.450e-07  1.518e-04\n",
       "\n",
       "Correlation matrix of residuals:\n",
       "             usc    ghsusd\n",
       "usc     1.000000 -0.003743\n",
       "ghsusd -0.003743  1.000000\n",
       "\n"
      ]
     },
     "metadata": {},
     "output_type": "display_data"
    }
   ],
   "source": [
    "summary(var_bekk7)"
   ]
  },
  {
   "cell_type": "code",
   "execution_count": 47,
   "id": "eb350457-d442-44af-94ca-621ad7edc3ea",
   "metadata": {},
   "outputs": [
    {
     "name": "stdout",
     "output_type": "stream",
     "text": [
      " Date[1:1046], format: \"2020-02-06\" \"2020-02-07\" \"2020-02-10\" \"2020-02-11\" \"2020-02-12\" ...\n"
     ]
    }
   ],
   "source": [
    "ind_var7 <- index(bekk7data)[-c(1:3)]\n",
    "str(ind_var7)"
   ]
  },
  {
   "cell_type": "code",
   "execution_count": 48,
   "id": "972bbe72-ca13-42e1-bace-9c486ecbe6b3",
   "metadata": {},
   "outputs": [],
   "source": [
    "res_bekk7 <- xts(res_bekk7,order.by = ind_var7)\n",
    "bekk_spec <- bekk_spec(model = list(type = \"bekk\",asymmetric = F))\n",
    "bekk7_fit <- bekk_fit(spec = bekk_spec,data = res_bekk7)"
   ]
  },
  {
   "cell_type": "code",
   "execution_count": 49,
   "id": "264f023b-0eaf-4d0c-8d28-26be6e0adae3",
   "metadata": {},
   "outputs": [
    {
     "data": {
      "text/html": [
       "<table class=\"dataframe\">\n",
       "<caption>A matrix: 2 × 2 of type dbl</caption>\n",
       "<tbody>\n",
       "\t<tr><td>0.15046169</td><td>0.006030409</td></tr>\n",
       "\t<tr><td>0.03441847</td><td>0.397010034</td></tr>\n",
       "</tbody>\n",
       "</table>\n"
      ],
      "text/latex": [
       "A matrix: 2 × 2 of type dbl\n",
       "\\begin{tabular}{ll}\n",
       "\t 0.15046169 & 0.006030409\\\\\n",
       "\t 0.03441847 & 0.397010034\\\\\n",
       "\\end{tabular}\n"
      ],
      "text/markdown": [
       "\n",
       "A matrix: 2 × 2 of type dbl\n",
       "\n",
       "| 0.15046169 | 0.006030409 |\n",
       "| 0.03441847 | 0.397010034 |\n",
       "\n"
      ],
      "text/plain": [
       "     [,1]       [,2]       \n",
       "[1,] 0.15046169 0.006030409\n",
       "[2,] 0.03441847 0.397010034"
      ]
     },
     "metadata": {},
     "output_type": "display_data"
    },
    {
     "data": {
      "text/html": [
       "<table class=\"dataframe\">\n",
       "<caption>A matrix: 2 × 2 of type dbl</caption>\n",
       "<tbody>\n",
       "\t<tr><td>8.177057</td><td> 0.7703507</td></tr>\n",
       "\t<tr><td>1.274523</td><td>25.6869749</td></tr>\n",
       "</tbody>\n",
       "</table>\n"
      ],
      "text/latex": [
       "A matrix: 2 × 2 of type dbl\n",
       "\\begin{tabular}{ll}\n",
       "\t 8.177057 &  0.7703507\\\\\n",
       "\t 1.274523 & 25.6869749\\\\\n",
       "\\end{tabular}\n"
      ],
      "text/markdown": [
       "\n",
       "A matrix: 2 × 2 of type dbl\n",
       "\n",
       "| 8.177057 |  0.7703507 |\n",
       "| 1.274523 | 25.6869749 |\n",
       "\n"
      ],
      "text/plain": [
       "     [,1]     [,2]      \n",
       "[1,] 8.177057  0.7703507\n",
       "[2,] 1.274523 25.6869749"
      ]
     },
     "metadata": {},
     "output_type": "display_data"
    },
    {
     "data": {
      "text/html": [
       "<table class=\"dataframe\">\n",
       "<caption>A matrix: 2 × 2 of type dbl</caption>\n",
       "<tbody>\n",
       "\t<tr><td>0.91588739</td><td>-0.004879871</td></tr>\n",
       "\t<tr><td>0.03214397</td><td> 0.918783246</td></tr>\n",
       "</tbody>\n",
       "</table>\n"
      ],
      "text/latex": [
       "A matrix: 2 × 2 of type dbl\n",
       "\\begin{tabular}{ll}\n",
       "\t 0.91588739 & -0.004879871\\\\\n",
       "\t 0.03214397 &  0.918783246\\\\\n",
       "\\end{tabular}\n"
      ],
      "text/markdown": [
       "\n",
       "A matrix: 2 × 2 of type dbl\n",
       "\n",
       "| 0.91588739 | -0.004879871 |\n",
       "| 0.03214397 |  0.918783246 |\n",
       "\n"
      ],
      "text/plain": [
       "     [,1]       [,2]        \n",
       "[1,] 0.91588739 -0.004879871\n",
       "[2,] 0.03214397  0.918783246"
      ]
     },
     "metadata": {},
     "output_type": "display_data"
    },
    {
     "data": {
      "text/html": [
       "<table class=\"dataframe\">\n",
       "<caption>A matrix: 2 × 2 of type dbl</caption>\n",
       "<tbody>\n",
       "\t<tr><td>39.30338</td><td> -0.3862518</td></tr>\n",
       "\t<tr><td> 2.53961</td><td>120.8713615</td></tr>\n",
       "</tbody>\n",
       "</table>\n"
      ],
      "text/latex": [
       "A matrix: 2 × 2 of type dbl\n",
       "\\begin{tabular}{ll}\n",
       "\t 39.30338 &  -0.3862518\\\\\n",
       "\t  2.53961 & 120.8713615\\\\\n",
       "\\end{tabular}\n"
      ],
      "text/markdown": [
       "\n",
       "A matrix: 2 × 2 of type dbl\n",
       "\n",
       "| 39.30338 |  -0.3862518 |\n",
       "|  2.53961 | 120.8713615 |\n",
       "\n"
      ],
      "text/plain": [
       "     [,1]     [,2]       \n",
       "[1,] 39.30338  -0.3862518\n",
       "[2,]  2.53961 120.8713615"
      ]
     },
     "metadata": {},
     "output_type": "display_data"
    }
   ],
   "source": [
    "bekk7_fit$A\n",
    "bekk7_fit$A_t\n",
    "bekk7_fit$G\n",
    "bekk7_fit$G_t"
   ]
  },
  {
   "cell_type": "markdown",
   "id": "09bef605-c582-4705-b339-21acf234ed35",
   "metadata": {},
   "source": [
    "### VAR-BEKK Model Table for US Cocoa - GHSUSD"
   ]
  },
  {
   "cell_type": "code",
   "execution_count": 50,
   "id": "bed14781-4b2c-46b4-85aa-9cd91dc8442d",
   "metadata": {},
   "outputs": [
    {
     "data": {
      "text/html": [
       "<table class=\"dataframe\">\n",
       "<caption>A data.frame: 22 × 5</caption>\n",
       "<thead>\n",
       "\t<tr><th scope=col>Parameters</th><th scope=col>Coefficient</th><th scope=col>Std_error</th><th scope=col>T_value</th><th scope=col>Significant_at_5p_level</th></tr>\n",
       "\t<tr><th scope=col>&lt;chr&gt;</th><th scope=col>&lt;dbl&gt;</th><th scope=col>&lt;dbl&gt;</th><th scope=col>&lt;dbl&gt;</th><th scope=col>&lt;chr&gt;</th></tr>\n",
       "</thead>\n",
       "<tbody>\n",
       "\t<tr><td>mu10 </td><td> 0.0009274335</td><td>0.0005725617</td><td>  1.6197966</td><td>Not Statistically Significant</td></tr>\n",
       "\t<tr><td>mu20 </td><td>-0.0006062670</td><td>0.0003850192</td><td> -1.5746411</td><td>Not Statistically Significant</td></tr>\n",
       "\t<tr><td>phi11</td><td> 0.0467706681</td><td>0.0312800482</td><td>  1.4952237</td><td>Not Statistically Significant</td></tr>\n",
       "\t<tr><td>phi12</td><td>-0.0401381215</td><td>0.0458489301</td><td> -0.8754429</td><td>Not Statistically Significant</td></tr>\n",
       "\t<tr><td>phi13</td><td>-0.0084765177</td><td>0.0316828976</td><td> -0.2675424</td><td>Not Statistically Significant</td></tr>\n",
       "\t<tr><td>phi14</td><td>-0.0304103067</td><td>0.0455180031</td><td> -0.6680940</td><td>Not Statistically Significant</td></tr>\n",
       "\t<tr><td>phi15</td><td> 0.0308992290</td><td>0.0322328753</td><td>  0.9586247</td><td>Not Statistically Significant</td></tr>\n",
       "\t<tr><td>phi16</td><td> 0.0232326557</td><td>0.0458462250</td><td>  0.5067518</td><td>Not Statistically Significant</td></tr>\n",
       "\t<tr><td>phi21</td><td> 0.0103161699</td><td>0.0210342723</td><td>  0.4904458</td><td>Not Statistically Significant</td></tr>\n",
       "\t<tr><td>phi22</td><td> 0.1000973151</td><td>0.0308311187</td><td>  3.2466326</td><td>Stat significant at 1%       </td></tr>\n",
       "\t<tr><td>phi23</td><td> 0.0099669003</td><td>0.0213051684</td><td>  0.4678161</td><td>Not Statistically Significant</td></tr>\n",
       "\t<tr><td>phi24</td><td> 0.1558878808</td><td>0.0306085868</td><td>  5.0929460</td><td>Stat significant at 1%       </td></tr>\n",
       "\t<tr><td>phi25</td><td> 0.0048588191</td><td>0.0216750010</td><td>  0.2241670</td><td>Not Statistically Significant</td></tr>\n",
       "\t<tr><td>phi26</td><td> 0.1109131408</td><td>0.0308292997</td><td>  3.5976536</td><td>Stat significant at 1%       </td></tr>\n",
       "\t<tr><td>a11  </td><td> 0.1504616868</td><td>0.0184004692</td><td>  8.1770571</td><td>Stat significant at 1%       </td></tr>\n",
       "\t<tr><td>a12  </td><td> 0.0060304095</td><td>0.0078281350</td><td>  0.7703507</td><td>Not Statistically Significant</td></tr>\n",
       "\t<tr><td>a21  </td><td> 0.0344184694</td><td>0.0270049859</td><td>  1.2745228</td><td>Not Statistically Significant</td></tr>\n",
       "\t<tr><td>a22  </td><td> 0.3970100340</td><td>0.0154556944</td><td> 25.6869749</td><td>Stat significant at 1%       </td></tr>\n",
       "\t<tr><td>g11  </td><td> 0.9158873881</td><td>0.0233030201</td><td> 39.3033772</td><td>Stat significant at 1%       </td></tr>\n",
       "\t<tr><td>g12  </td><td>-0.0048798706</td><td>0.0126339109</td><td> -0.3862518</td><td>Not Statistically Significant</td></tr>\n",
       "\t<tr><td>g21  </td><td> 0.0321439720</td><td>0.0126570490</td><td>  2.5396103</td><td>Stat significant at 5%       </td></tr>\n",
       "\t<tr><td>g22  </td><td> 0.9187832463</td><td>0.0076013312</td><td>120.8713615</td><td>Stat significant at 1%       </td></tr>\n",
       "</tbody>\n",
       "</table>\n"
      ],
      "text/latex": [
       "A data.frame: 22 × 5\n",
       "\\begin{tabular}{lllll}\n",
       " Parameters & Coefficient & Std\\_error & T\\_value & Significant\\_at\\_5p\\_level\\\\\n",
       " <chr> & <dbl> & <dbl> & <dbl> & <chr>\\\\\n",
       "\\hline\n",
       "\t mu10  &  0.0009274335 & 0.0005725617 &   1.6197966 & Not Statistically Significant\\\\\n",
       "\t mu20  & -0.0006062670 & 0.0003850192 &  -1.5746411 & Not Statistically Significant\\\\\n",
       "\t phi11 &  0.0467706681 & 0.0312800482 &   1.4952237 & Not Statistically Significant\\\\\n",
       "\t phi12 & -0.0401381215 & 0.0458489301 &  -0.8754429 & Not Statistically Significant\\\\\n",
       "\t phi13 & -0.0084765177 & 0.0316828976 &  -0.2675424 & Not Statistically Significant\\\\\n",
       "\t phi14 & -0.0304103067 & 0.0455180031 &  -0.6680940 & Not Statistically Significant\\\\\n",
       "\t phi15 &  0.0308992290 & 0.0322328753 &   0.9586247 & Not Statistically Significant\\\\\n",
       "\t phi16 &  0.0232326557 & 0.0458462250 &   0.5067518 & Not Statistically Significant\\\\\n",
       "\t phi21 &  0.0103161699 & 0.0210342723 &   0.4904458 & Not Statistically Significant\\\\\n",
       "\t phi22 &  0.1000973151 & 0.0308311187 &   3.2466326 & Stat significant at 1\\%       \\\\\n",
       "\t phi23 &  0.0099669003 & 0.0213051684 &   0.4678161 & Not Statistically Significant\\\\\n",
       "\t phi24 &  0.1558878808 & 0.0306085868 &   5.0929460 & Stat significant at 1\\%       \\\\\n",
       "\t phi25 &  0.0048588191 & 0.0216750010 &   0.2241670 & Not Statistically Significant\\\\\n",
       "\t phi26 &  0.1109131408 & 0.0308292997 &   3.5976536 & Stat significant at 1\\%       \\\\\n",
       "\t a11   &  0.1504616868 & 0.0184004692 &   8.1770571 & Stat significant at 1\\%       \\\\\n",
       "\t a12   &  0.0060304095 & 0.0078281350 &   0.7703507 & Not Statistically Significant\\\\\n",
       "\t a21   &  0.0344184694 & 0.0270049859 &   1.2745228 & Not Statistically Significant\\\\\n",
       "\t a22   &  0.3970100340 & 0.0154556944 &  25.6869749 & Stat significant at 1\\%       \\\\\n",
       "\t g11   &  0.9158873881 & 0.0233030201 &  39.3033772 & Stat significant at 1\\%       \\\\\n",
       "\t g12   & -0.0048798706 & 0.0126339109 &  -0.3862518 & Not Statistically Significant\\\\\n",
       "\t g21   &  0.0321439720 & 0.0126570490 &   2.5396103 & Stat significant at 5\\%       \\\\\n",
       "\t g22   &  0.9187832463 & 0.0076013312 & 120.8713615 & Stat significant at 1\\%       \\\\\n",
       "\\end{tabular}\n"
      ],
      "text/markdown": [
       "\n",
       "A data.frame: 22 × 5\n",
       "\n",
       "| Parameters &lt;chr&gt; | Coefficient &lt;dbl&gt; | Std_error &lt;dbl&gt; | T_value &lt;dbl&gt; | Significant_at_5p_level &lt;chr&gt; |\n",
       "|---|---|---|---|---|\n",
       "| mu10  |  0.0009274335 | 0.0005725617 |   1.6197966 | Not Statistically Significant |\n",
       "| mu20  | -0.0006062670 | 0.0003850192 |  -1.5746411 | Not Statistically Significant |\n",
       "| phi11 |  0.0467706681 | 0.0312800482 |   1.4952237 | Not Statistically Significant |\n",
       "| phi12 | -0.0401381215 | 0.0458489301 |  -0.8754429 | Not Statistically Significant |\n",
       "| phi13 | -0.0084765177 | 0.0316828976 |  -0.2675424 | Not Statistically Significant |\n",
       "| phi14 | -0.0304103067 | 0.0455180031 |  -0.6680940 | Not Statistically Significant |\n",
       "| phi15 |  0.0308992290 | 0.0322328753 |   0.9586247 | Not Statistically Significant |\n",
       "| phi16 |  0.0232326557 | 0.0458462250 |   0.5067518 | Not Statistically Significant |\n",
       "| phi21 |  0.0103161699 | 0.0210342723 |   0.4904458 | Not Statistically Significant |\n",
       "| phi22 |  0.1000973151 | 0.0308311187 |   3.2466326 | Stat significant at 1%        |\n",
       "| phi23 |  0.0099669003 | 0.0213051684 |   0.4678161 | Not Statistically Significant |\n",
       "| phi24 |  0.1558878808 | 0.0306085868 |   5.0929460 | Stat significant at 1%        |\n",
       "| phi25 |  0.0048588191 | 0.0216750010 |   0.2241670 | Not Statistically Significant |\n",
       "| phi26 |  0.1109131408 | 0.0308292997 |   3.5976536 | Stat significant at 1%        |\n",
       "| a11   |  0.1504616868 | 0.0184004692 |   8.1770571 | Stat significant at 1%        |\n",
       "| a12   |  0.0060304095 | 0.0078281350 |   0.7703507 | Not Statistically Significant |\n",
       "| a21   |  0.0344184694 | 0.0270049859 |   1.2745228 | Not Statistically Significant |\n",
       "| a22   |  0.3970100340 | 0.0154556944 |  25.6869749 | Stat significant at 1%        |\n",
       "| g11   |  0.9158873881 | 0.0233030201 |  39.3033772 | Stat significant at 1%        |\n",
       "| g12   | -0.0048798706 | 0.0126339109 |  -0.3862518 | Not Statistically Significant |\n",
       "| g21   |  0.0321439720 | 0.0126570490 |   2.5396103 | Stat significant at 5%        |\n",
       "| g22   |  0.9187832463 | 0.0076013312 | 120.8713615 | Stat significant at 1%        |\n",
       "\n"
      ],
      "text/plain": [
       "   Parameters Coefficient   Std_error    T_value    \n",
       "1  mu10        0.0009274335 0.0005725617   1.6197966\n",
       "2  mu20       -0.0006062670 0.0003850192  -1.5746411\n",
       "3  phi11       0.0467706681 0.0312800482   1.4952237\n",
       "4  phi12      -0.0401381215 0.0458489301  -0.8754429\n",
       "5  phi13      -0.0084765177 0.0316828976  -0.2675424\n",
       "6  phi14      -0.0304103067 0.0455180031  -0.6680940\n",
       "7  phi15       0.0308992290 0.0322328753   0.9586247\n",
       "8  phi16       0.0232326557 0.0458462250   0.5067518\n",
       "9  phi21       0.0103161699 0.0210342723   0.4904458\n",
       "10 phi22       0.1000973151 0.0308311187   3.2466326\n",
       "11 phi23       0.0099669003 0.0213051684   0.4678161\n",
       "12 phi24       0.1558878808 0.0306085868   5.0929460\n",
       "13 phi25       0.0048588191 0.0216750010   0.2241670\n",
       "14 phi26       0.1109131408 0.0308292997   3.5976536\n",
       "15 a11         0.1504616868 0.0184004692   8.1770571\n",
       "16 a12         0.0060304095 0.0078281350   0.7703507\n",
       "17 a21         0.0344184694 0.0270049859   1.2745228\n",
       "18 a22         0.3970100340 0.0154556944  25.6869749\n",
       "19 g11         0.9158873881 0.0233030201  39.3033772\n",
       "20 g12        -0.0048798706 0.0126339109  -0.3862518\n",
       "21 g21         0.0321439720 0.0126570490   2.5396103\n",
       "22 g22         0.9187832463 0.0076013312 120.8713615\n",
       "   Significant_at_5p_level      \n",
       "1  Not Statistically Significant\n",
       "2  Not Statistically Significant\n",
       "3  Not Statistically Significant\n",
       "4  Not Statistically Significant\n",
       "5  Not Statistically Significant\n",
       "6  Not Statistically Significant\n",
       "7  Not Statistically Significant\n",
       "8  Not Statistically Significant\n",
       "9  Not Statistically Significant\n",
       "10 Stat significant at 1%       \n",
       "11 Not Statistically Significant\n",
       "12 Stat significant at 1%       \n",
       "13 Not Statistically Significant\n",
       "14 Stat significant at 1%       \n",
       "15 Stat significant at 1%       \n",
       "16 Not Statistically Significant\n",
       "17 Not Statistically Significant\n",
       "18 Stat significant at 1%       \n",
       "19 Stat significant at 1%       \n",
       "20 Not Statistically Significant\n",
       "21 Stat significant at 5%       \n",
       "22 Stat significant at 1%       "
      ]
     },
     "metadata": {},
     "output_type": "display_data"
    }
   ],
   "source": [
    "bekk7 <- data.frame(Parameters = c(\"mu10\",\"mu20\",\"phi11\",\"phi12\",\"phi13\",\"phi14\",\"phi15\",\"phi16\",\"phi21\",\"phi22\",\"phi23\",\"phi24\",\"phi25\",\"phi26\",\"a11\",\"a12\",\"a21\",\"a22\",\"g11\",\"g12\",\"g21\",\"g22\"),\n",
    "                   Coefficient = c(summary(var_bekk7)$varresult$usc$coefficients[\"const\",\"Estimate\"],summary(var_bekk7)$varresult$ghsusd$coefficients[\"const\",\"Estimate\"],\n",
    "                                   summary(var_bekk7)$varresult$usc$coefficients[\"usc.l1\",\"Estimate\"],summary(var_bekk7)$varresult$usc$coefficients[\"ghsusd.l1\",\"Estimate\"],\n",
    "                                   summary(var_bekk7)$varresult$usc$coefficients[\"usc.l2\",\"Estimate\"],summary(var_bekk7)$varresult$usc$coefficients[\"ghsusd.l2\",\"Estimate\"],\n",
    "                                   summary(var_bekk7)$varresult$usc$coefficients[\"usc.l3\",\"Estimate\"],summary(var_bekk7)$varresult$usc$coefficients[\"ghsusd.l3\",\"Estimate\"],\n",
    "                                   summary(var_bekk7)$varresult$ghsusd$coefficients[\"usc.l1\",\"Estimate\"],summary(var_bekk7)$varresult$ghsusd$coefficients[\"ghsusd.l1\",\"Estimate\"],\n",
    "                                   summary(var_bekk7)$varresult$ghsusd$coefficients[\"usc.l2\",\"Estimate\"],summary(var_bekk7)$varresult$ghsusd$coefficients[\"ghsusd.l2\",\"Estimate\"],\n",
    "                                   summary(var_bekk7)$varresult$ghsusd$coefficients[\"usc.l3\",\"Estimate\"],summary(var_bekk7)$varresult$ghsusd$coefficients[\"ghsusd.l3\",\"Estimate\"],\n",
    "                                   bekk7_fit$A[1,1],bekk7_fit$A[1,2],bekk7_fit$A[2,1],bekk7_fit$A[2,2],bekk7_fit$G[1,1],bekk7_fit$G[1,2],bekk7_fit$G[2,1],bekk7_fit$G[2,2]),\n",
    "                   Std_error = c(summary(var_bekk7)$varresult$usc$coefficients[\"const\",\"Std. Error\"],summary(var_bekk7)$varresult$ghsusd$coefficients[\"const\",\"Std. Error\"],\n",
    "                                   summary(var_bekk7)$varresult$usc$coefficients[\"usc.l1\",\"Std. Error\"],summary(var_bekk7)$varresult$usc$coefficients[\"ghsusd.l1\",\"Std. Error\"],\n",
    "                                   summary(var_bekk7)$varresult$usc$coefficients[\"usc.l2\",\"Std. Error\"],summary(var_bekk7)$varresult$usc$coefficients[\"ghsusd.l2\",\"Std. Error\"],\n",
    "                                   summary(var_bekk7)$varresult$usc$coefficients[\"usc.l3\",\"Std. Error\"],summary(var_bekk7)$varresult$usc$coefficients[\"ghsusd.l3\",\"Std. Error\"],\n",
    "                                   summary(var_bekk7)$varresult$ghsusd$coefficients[\"usc.l1\",\"Std. Error\"],summary(var_bekk7)$varresult$ghsusd$coefficients[\"ghsusd.l1\",\"Std. Error\"],\n",
    "                                   summary(var_bekk7)$varresult$ghsusd$coefficients[\"usc.l2\",\"Std. Error\"],summary(var_bekk7)$varresult$ghsusd$coefficients[\"ghsusd.l2\",\"Std. Error\"],\n",
    "                                   summary(var_bekk7)$varresult$ghsusd$coefficients[\"usc.l3\",\"Std. Error\"],summary(var_bekk7)$varresult$ghsusd$coefficients[\"ghsusd.l3\",\"Std. Error\"],\n",
    "                                   bekk7_fit$A_sd[1,1],bekk7_fit$A_sd[1,2],bekk7_fit$A_sd[2,1],bekk7_fit$A_sd[2,2],bekk7_fit$G_sd[1,1],bekk7_fit$G_sd[1,2],bekk7_fit$G_sd[2,1],bekk7_fit$G_sd[2,2]),\n",
    "                   T_value = c(summary(var_bekk7)$varresult$usc$coefficients[\"const\",\"t value\"],summary(var_bekk7)$varresult$ghsusd$coefficients[\"const\",\"t value\"],\n",
    "                                   summary(var_bekk7)$varresult$usc$coefficients[\"usc.l1\",\"t value\"],summary(var_bekk7)$varresult$usc$coefficients[\"ghsusd.l1\",\"t value\"],\n",
    "                                   summary(var_bekk7)$varresult$usc$coefficients[\"usc.l2\",\"t value\"],summary(var_bekk7)$varresult$usc$coefficients[\"ghsusd.l2\",\"t value\"],\n",
    "                                   summary(var_bekk7)$varresult$usc$coefficients[\"usc.l3\",\"t value\"],summary(var_bekk7)$varresult$usc$coefficients[\"ghsusd.l3\",\"t value\"],\n",
    "                                   summary(var_bekk7)$varresult$ghsusd$coefficients[\"usc.l1\",\"t value\"],summary(var_bekk7)$varresult$ghsusd$coefficients[\"ghsusd.l1\",\"t value\"],\n",
    "                                   summary(var_bekk7)$varresult$ghsusd$coefficients[\"usc.l2\",\"t value\"],summary(var_bekk7)$varresult$ghsusd$coefficients[\"ghsusd.l2\",\"t value\"],\n",
    "                                   summary(var_bekk7)$varresult$ghsusd$coefficients[\"usc.l3\",\"t value\"],summary(var_bekk7)$varresult$ghsusd$coefficients[\"ghsusd.l3\",\"t value\"],\n",
    "                                   bekk7_fit$A_t[1,1],bekk7_fit$A_t[1,2],bekk7_fit$A_t[2,1],bekk7_fit$A_t[2,2],bekk7_fit$G_t[1,1],bekk7_fit$G_t[1,2],bekk7_fit$G_t[2,1],bekk7_fit$G_t[2,2]))\n",
    "\n",
    "bekk7$Significant_at_5p_level[abs(bekk7$T_value) >= 2.58 ] <- \"Stat significant at 1%\"\n",
    "bekk7$Significant_at_5p_level[abs(bekk7$T_value) > 1.96 & abs(bekk7$T_value) < 2.58] <- \"Stat significant at 5%\"\n",
    "bekk7$Significant_at_5p_level[abs(bekk7$T_value) > 1.645 & abs(bekk7$T_value) <= 1.96 ] <- \"Stat significant at 10%\"\n",
    "bekk7$Significant_at_5p_level[abs(bekk7$T_value) <= 1.645] <- \"Not Statistically Significant\"\n",
    "bekk7"
   ]
  },
  {
   "cell_type": "code",
   "execution_count": 51,
   "id": "35ed6d88-37ff-4087-b1a9-65302683436d",
   "metadata": {},
   "outputs": [
    {
     "data": {
      "text/plain": [
       "\n",
       "\tGranger causality H0: usc do not Granger-cause ghsusd\n",
       "\n",
       "data:  VAR object var_bekk7\n",
       "F-Test = 0.18512, df1 = 3, df2 = 2078, p-value = 0.9066\n"
      ]
     },
     "metadata": {},
     "output_type": "display_data"
    },
    {
     "data": {
      "text/plain": [
       "\n",
       "\tGranger causality H0: ghsusd do not Granger-cause usc\n",
       "\n",
       "data:  VAR object var_bekk7\n",
       "F-Test = 0.47915, df1 = 3, df2 = 2078, p-value = 0.6968\n"
      ]
     },
     "metadata": {},
     "output_type": "display_data"
    }
   ],
   "source": [
    "causality(var_bekk7,cause = \"usc\")$Granger\n",
    "causality(var_bekk7,cause = \"ghsusd\")$Granger"
   ]
  },
  {
   "cell_type": "markdown",
   "id": "25456319-d907-4082-8623-6fc14f9db8a5",
   "metadata": {},
   "source": [
    "## (iii) VAR-BEKK Models for London Cocoa"
   ]
  },
  {
   "cell_type": "code",
   "execution_count": 52,
   "id": "a69dda96-cd1b-474b-852b-cb2e91bbe1e2",
   "metadata": {},
   "outputs": [
    {
     "name": "stdout",
     "output_type": "stream",
     "text": [
      "An xts object on 2020-02-03 / 2024-05-03 containing: \n",
      "  Data:    double [1049, 4]\n",
      "  Columns: lc, usdgbp, eurgbp, chfgbp\n",
      "  Index:   Date [1049] (TZ: \"UTC\")\n",
      "  xts Attributes:\n",
      "    $ na.action       : 'omit' int [1:3342] 1 2 3 4 5 6 7 8 9 10 ...\n",
      "  ..- attr(*, \"index\")= num [1:3342] 1.18e+09 1.18e+09 1.18e+09 1.18e+09 1.18e+09 ...\n",
      "    $ ret_type        : chr \"log\"\n",
      "    $ coredata_content: chr \"logReturn\"\n"
     ]
    },
    {
     "data": {
      "text/plain": [
       "                     lc       usdgbp       eurgbp        chfgbp\n",
       "2020-02-03 -0.005089070  0.015717416  0.012889672  0.0129490487\n",
       "2020-02-04  0.000000000 -0.002732775 -0.004120804 -0.0062956642\n",
       "2020-02-05  0.019202207  0.002212822 -0.002007677 -0.0020230124\n",
       "2020-02-06  0.015889113  0.005575379  0.004129069  0.0043570302\n",
       "2020-02-07  0.007361996  0.002905008  0.000000000 -0.0004411533\n",
       "2020-02-10 -0.002447982 -0.001741992 -0.005311941 -0.0010721833"
      ]
     },
     "metadata": {},
     "output_type": "display_data"
    },
    {
     "data": {
      "text/plain": [
       "                    lc        usdgbp        eurgbp        chfgbp\n",
       "2024-04-26 -0.02951879  0.0018128971 -0.0015173624 -0.0003996004\n",
       "2024-04-29 -0.15652942 -0.0056998056 -0.0031588210 -0.0016571906\n",
       "2024-04-30  0.03216783  0.0056998056  0.0004686036 -0.0040688901\n",
       "2024-05-01 -0.08952546 -0.0028145248  0.0018722215  0.0013772526\n",
       "2024-05-02 -0.10077335 -0.0006265272  0.0001168975  0.0049196369\n",
       "2024-05-03  0.04940746 -0.0009405274  0.0025682947  0.0044411620"
      ]
     },
     "metadata": {},
     "output_type": "display_data"
    }
   ],
   "source": [
    "l_d <- na.omit(merge(cr_d[,2],fr_d[,c(4:6)]))\n",
    "str(l_d)\n",
    "head(l_d)\n",
    "tail(l_d)"
   ]
  },
  {
   "cell_type": "markdown",
   "id": "9425773a-1996-4de4-85b3-5406a84b5660",
   "metadata": {},
   "source": [
    "## (a) VAR-BEKK: London-USDGBP"
   ]
  },
  {
   "cell_type": "code",
   "execution_count": 53,
   "id": "01dd8eb8-7705-446b-b17e-4fc2887c7365",
   "metadata": {},
   "outputs": [
    {
     "data": {
      "text/plain": [
       "                     lc       usdgbp\n",
       "2020-02-03 -0.005089070  0.015717416\n",
       "2020-02-04  0.000000000 -0.002732775\n",
       "2020-02-05  0.019202207  0.002212822\n",
       "2020-02-06  0.015889113  0.005575379\n",
       "2020-02-07  0.007361996  0.002905008\n",
       "2020-02-10 -0.002447982 -0.001741992"
      ]
     },
     "metadata": {},
     "output_type": "display_data"
    },
    {
     "data": {
      "text/plain": [
       "                    lc        usdgbp\n",
       "2024-04-26 -0.02951879  0.0018128971\n",
       "2024-04-29 -0.15652942 -0.0056998056\n",
       "2024-04-30  0.03216783  0.0056998056\n",
       "2024-05-01 -0.08952546 -0.0028145248\n",
       "2024-05-02 -0.10077335 -0.0006265272\n",
       "2024-05-03  0.04940746 -0.0009405274"
      ]
     },
     "metadata": {},
     "output_type": "display_data"
    }
   ],
   "source": [
    "bekk4data <- l_d[,c(1,2)]\n",
    "head(bekk4data)\n",
    "tail(bekk4data)"
   ]
  },
  {
   "cell_type": "code",
   "execution_count": 54,
   "id": "3470a11b-68ea-4b6b-9258-4a85c92b9cdb",
   "metadata": {},
   "outputs": [
    {
     "data": {
      "text/html": [
       "<dl>\n",
       "\t<dt>$selection</dt>\n",
       "\t\t<dd><style>\n",
       ".dl-inline {width: auto; margin:0; padding: 0}\n",
       ".dl-inline>dt, .dl-inline>dd {float: none; width: auto; display: inline-block}\n",
       ".dl-inline>dt::after {content: \":\\0020\"; padding-right: .5ex}\n",
       ".dl-inline>dt:not(:first-of-type) {padding-left: .5ex}\n",
       "</style><dl class=dl-inline><dt>AIC(n)</dt><dd>1</dd><dt>HQ(n)</dt><dd>1</dd><dt>SC(n)</dt><dd>1</dd><dt>FPE(n)</dt><dd>1</dd></dl>\n",
       "</dd>\n",
       "\t<dt>$criteria</dt>\n",
       "\t\t<dd><table class=\"dataframe\">\n",
       "<caption>A matrix: 4 × 10 of type dbl</caption>\n",
       "<thead>\n",
       "\t<tr><th></th><th scope=col>1</th><th scope=col>2</th><th scope=col>3</th><th scope=col>4</th><th scope=col>5</th><th scope=col>6</th><th scope=col>7</th><th scope=col>8</th><th scope=col>9</th><th scope=col>10</th></tr>\n",
       "</thead>\n",
       "<tbody>\n",
       "\t<tr><th scope=row>AIC(n)</th><td>-1.843614e+01</td><td>-1.842888e+01</td><td>-1.842457e+01</td><td>-1.842764e+01</td><td>-1.842448e+01</td><td>-1.842850e+01</td><td>-1.842345e+01</td><td>-1.841672e+01</td><td>-1.841391e+01</td><td>-1.841107e+01</td></tr>\n",
       "\t<tr><th scope=row>HQ(n)</th><td>-1.842530e+01</td><td>-1.841082e+01</td><td>-1.839929e+01</td><td>-1.839514e+01</td><td>-1.838475e+01</td><td>-1.838155e+01</td><td>-1.836928e+01</td><td>-1.835532e+01</td><td>-1.834528e+01</td><td>-1.833522e+01</td></tr>\n",
       "\t<tr><th scope=row>SC(n)</th><td>-1.840757e+01</td><td>-1.838128e+01</td><td>-1.835793e+01</td><td>-1.834196e+01</td><td>-1.831975e+01</td><td>-1.830473e+01</td><td>-1.828064e+01</td><td>-1.825487e+01</td><td>-1.823301e+01</td><td>-1.821113e+01</td></tr>\n",
       "\t<tr><th scope=row>FPE(n)</th><td> 9.846646e-09</td><td> 9.918352e-09</td><td> 9.961154e-09</td><td> 9.930619e-09</td><td> 9.962133e-09</td><td> 9.922096e-09</td><td> 9.972342e-09</td><td> 1.003975e-08</td><td> 1.006806e-08</td><td> 1.009669e-08</td></tr>\n",
       "</tbody>\n",
       "</table>\n",
       "</dd>\n",
       "</dl>\n"
      ],
      "text/latex": [
       "\\begin{description}\n",
       "\\item[\\$selection] \\begin{description*}\n",
       "\\item[AIC(n)] 1\n",
       "\\item[HQ(n)] 1\n",
       "\\item[SC(n)] 1\n",
       "\\item[FPE(n)] 1\n",
       "\\end{description*}\n",
       "\n",
       "\\item[\\$criteria] A matrix: 4 × 10 of type dbl\n",
       "\\begin{tabular}{r|llllllllll}\n",
       "  & 1 & 2 & 3 & 4 & 5 & 6 & 7 & 8 & 9 & 10\\\\\n",
       "\\hline\n",
       "\tAIC(n) & -1.843614e+01 & -1.842888e+01 & -1.842457e+01 & -1.842764e+01 & -1.842448e+01 & -1.842850e+01 & -1.842345e+01 & -1.841672e+01 & -1.841391e+01 & -1.841107e+01\\\\\n",
       "\tHQ(n) & -1.842530e+01 & -1.841082e+01 & -1.839929e+01 & -1.839514e+01 & -1.838475e+01 & -1.838155e+01 & -1.836928e+01 & -1.835532e+01 & -1.834528e+01 & -1.833522e+01\\\\\n",
       "\tSC(n) & -1.840757e+01 & -1.838128e+01 & -1.835793e+01 & -1.834196e+01 & -1.831975e+01 & -1.830473e+01 & -1.828064e+01 & -1.825487e+01 & -1.823301e+01 & -1.821113e+01\\\\\n",
       "\tFPE(n) &  9.846646e-09 &  9.918352e-09 &  9.961154e-09 &  9.930619e-09 &  9.962133e-09 &  9.922096e-09 &  9.972342e-09 &  1.003975e-08 &  1.006806e-08 &  1.009669e-08\\\\\n",
       "\\end{tabular}\n",
       "\n",
       "\\end{description}\n"
      ],
      "text/markdown": [
       "$selection\n",
       ":   AIC(n)\n",
       ":   1HQ(n)\n",
       ":   1SC(n)\n",
       ":   1FPE(n)\n",
       ":   1\n",
       "\n",
       "\n",
       "$criteria\n",
       ":   \n",
       "A matrix: 4 × 10 of type dbl\n",
       "\n",
       "| <!--/--> | 1 | 2 | 3 | 4 | 5 | 6 | 7 | 8 | 9 | 10 |\n",
       "|---|---|---|---|---|---|---|---|---|---|---|\n",
       "| AIC(n) | -1.843614e+01 | -1.842888e+01 | -1.842457e+01 | -1.842764e+01 | -1.842448e+01 | -1.842850e+01 | -1.842345e+01 | -1.841672e+01 | -1.841391e+01 | -1.841107e+01 |\n",
       "| HQ(n) | -1.842530e+01 | -1.841082e+01 | -1.839929e+01 | -1.839514e+01 | -1.838475e+01 | -1.838155e+01 | -1.836928e+01 | -1.835532e+01 | -1.834528e+01 | -1.833522e+01 |\n",
       "| SC(n) | -1.840757e+01 | -1.838128e+01 | -1.835793e+01 | -1.834196e+01 | -1.831975e+01 | -1.830473e+01 | -1.828064e+01 | -1.825487e+01 | -1.823301e+01 | -1.821113e+01 |\n",
       "| FPE(n) |  9.846646e-09 |  9.918352e-09 |  9.961154e-09 |  9.930619e-09 |  9.962133e-09 |  9.922096e-09 |  9.972342e-09 |  1.003975e-08 |  1.006806e-08 |  1.009669e-08 |\n",
       "\n",
       "\n",
       "\n",
       "\n"
      ],
      "text/plain": [
       "$selection\n",
       "AIC(n)  HQ(n)  SC(n) FPE(n) \n",
       "     1      1      1      1 \n",
       "\n",
       "$criteria\n",
       "                   1             2             3             4             5\n",
       "AIC(n) -1.843614e+01 -1.842888e+01 -1.842457e+01 -1.842764e+01 -1.842448e+01\n",
       "HQ(n)  -1.842530e+01 -1.841082e+01 -1.839929e+01 -1.839514e+01 -1.838475e+01\n",
       "SC(n)  -1.840757e+01 -1.838128e+01 -1.835793e+01 -1.834196e+01 -1.831975e+01\n",
       "FPE(n)  9.846646e-09  9.918352e-09  9.961154e-09  9.930619e-09  9.962133e-09\n",
       "                   6             7             8             9            10\n",
       "AIC(n) -1.842850e+01 -1.842345e+01 -1.841672e+01 -1.841391e+01 -1.841107e+01\n",
       "HQ(n)  -1.838155e+01 -1.836928e+01 -1.835532e+01 -1.834528e+01 -1.833522e+01\n",
       "SC(n)  -1.830473e+01 -1.828064e+01 -1.825487e+01 -1.823301e+01 -1.821113e+01\n",
       "FPE(n)  9.922096e-09  9.972342e-09  1.003975e-08  1.006806e-08  1.009669e-08\n"
      ]
     },
     "metadata": {},
     "output_type": "display_data"
    }
   ],
   "source": [
    "VARselect(bekk4data,type = \"const\")"
   ]
  },
  {
   "cell_type": "code",
   "execution_count": 55,
   "id": "f4d0cb77-a4e2-448c-b68f-fa898c3218dc",
   "metadata": {},
   "outputs": [],
   "source": [
    "var_bekk4<-VAR(bekk4data,p = 1,type = \"const\")\n",
    "res_bekk4 <- residuals(var_bekk4)\n",
    "res_bekk4 <- as.data.frame(res_bekk4)"
   ]
  },
  {
   "cell_type": "code",
   "execution_count": 56,
   "id": "139dc9ad-44c6-4e9d-9a84-f15f91b7794c",
   "metadata": {},
   "outputs": [
    {
     "data": {
      "text/plain": [
       "\n",
       "VAR Estimation Results:\n",
       "========================= \n",
       "Endogenous variables: lc, usdgbp \n",
       "Deterministic variables: const \n",
       "Sample size: 1048 \n",
       "Log Likelihood: 6698.532 \n",
       "Roots of the characteristic polynomial:\n",
       "0.1019 0.1019\n",
       "Call:\n",
       "VAR(y = bekk4data, p = 1, type = \"const\")\n",
       "\n",
       "\n",
       "Estimation results for equation lc: \n",
       "=================================== \n",
       "lc = lc.l1 + usdgbp.l1 + const \n",
       "\n",
       "           Estimate Std. Error t value Pr(>|t|)   \n",
       "lc.l1     0.1013236  0.0310904   3.259  0.00115 **\n",
       "usdgbp.l1 0.0573152  0.0835905   0.686  0.49308   \n",
       "const     0.0010140  0.0005069   2.000  0.04572 * \n",
       "---\n",
       "Signif. codes:  0 ‘***’ 0.001 ‘**’ 0.01 ‘*’ 0.05 ‘.’ 0.1 ‘ ’ 1\n",
       "\n",
       "\n",
       "Residual standard error: 0.01637 on 1045 degrees of freedom\n",
       "Multiple R-Squared: 0.01112,\tAdjusted R-squared: 0.00923 \n",
       "F-statistic: 5.877 on 2 and 1045 DF,  p-value: 0.002896 \n",
       "\n",
       "\n",
       "Estimation results for equation usdgbp: \n",
       "======================================= \n",
       "usdgbp = lc.l1 + usdgbp.l1 + const \n",
       "\n",
       "            Estimate Std. Error t value Pr(>|t|)   \n",
       "lc.l1     -1.925e-02  1.149e-02  -1.676  0.09405 . \n",
       "usdgbp.l1  9.153e-02  3.088e-02   2.964  0.00311 **\n",
       "const      3.495e-05  1.873e-04   0.187  0.85198   \n",
       "---\n",
       "Signif. codes:  0 ‘***’ 0.001 ‘**’ 0.01 ‘*’ 0.05 ‘.’ 0.1 ‘ ’ 1\n",
       "\n",
       "\n",
       "Residual standard error: 0.00605 on 1045 degrees of freedom\n",
       "Multiple R-Squared: 0.01004,\tAdjusted R-squared: 0.008144 \n",
       "F-statistic: 5.298 on 2 and 1045 DF,  p-value: 0.005135 \n",
       "\n",
       "\n",
       "\n",
       "Covariance matrix of residuals:\n",
       "              lc   usdgbp\n",
       "lc     0.0002681 1.17e-05\n",
       "usdgbp 0.0000117 3.66e-05\n",
       "\n",
       "Correlation matrix of residuals:\n",
       "           lc usdgbp\n",
       "lc     1.0000 0.1181\n",
       "usdgbp 0.1181 1.0000\n",
       "\n"
      ]
     },
     "metadata": {},
     "output_type": "display_data"
    }
   ],
   "source": [
    "summary(var_bekk4)"
   ]
  },
  {
   "cell_type": "code",
   "execution_count": 57,
   "id": "863459e5-24c1-4a31-976e-4b73ff91b5eb",
   "metadata": {},
   "outputs": [
    {
     "name": "stdout",
     "output_type": "stream",
     "text": [
      " Date[1:1048], format: \"2020-02-04\" \"2020-02-05\" \"2020-02-06\" \"2020-02-07\" \"2020-02-10\" ...\n"
     ]
    }
   ],
   "source": [
    "ind_var4 <- index(bekk4data)[-1]\n",
    "str(ind_var4)"
   ]
  },
  {
   "cell_type": "code",
   "execution_count": 58,
   "id": "1838dfa4-efb8-4415-b16b-83ccb7b2d5ce",
   "metadata": {},
   "outputs": [],
   "source": [
    "res_bekk4 <- xts(res_bekk4,order.by = ind_var4)\n",
    "bekk_spec <- bekk_spec(model = list(type = \"bekk\",asymmetric = F))\n",
    "bekk4_fit <- bekk_fit(spec = bekk_spec,data = res_bekk4)"
   ]
  },
  {
   "cell_type": "code",
   "execution_count": 59,
   "id": "adffb20d-5f9f-4ad4-b57c-a0e576d4dde3",
   "metadata": {},
   "outputs": [
    {
     "data": {
      "text/html": [
       "<table class=\"dataframe\">\n",
       "<caption>A matrix: 2 × 2 of type dbl</caption>\n",
       "<tbody>\n",
       "\t<tr><td>0.22468327</td><td>-0.004161311</td></tr>\n",
       "\t<tr><td>0.07440445</td><td> 0.282508812</td></tr>\n",
       "</tbody>\n",
       "</table>\n"
      ],
      "text/latex": [
       "A matrix: 2 × 2 of type dbl\n",
       "\\begin{tabular}{ll}\n",
       "\t 0.22468327 & -0.004161311\\\\\n",
       "\t 0.07440445 &  0.282508812\\\\\n",
       "\\end{tabular}\n"
      ],
      "text/markdown": [
       "\n",
       "A matrix: 2 × 2 of type dbl\n",
       "\n",
       "| 0.22468327 | -0.004161311 |\n",
       "| 0.07440445 |  0.282508812 |\n",
       "\n"
      ],
      "text/plain": [
       "     [,1]       [,2]        \n",
       "[1,] 0.22468327 -0.004161311\n",
       "[2,] 0.07440445  0.282508812"
      ]
     },
     "metadata": {},
     "output_type": "display_data"
    },
    {
     "data": {
      "text/html": [
       "<table class=\"dataframe\">\n",
       "<caption>A matrix: 2 × 2 of type dbl</caption>\n",
       "<tbody>\n",
       "\t<tr><td>13.155437</td><td>-0.4087771</td></tr>\n",
       "\t<tr><td> 1.337532</td><td>12.6719040</td></tr>\n",
       "</tbody>\n",
       "</table>\n"
      ],
      "text/latex": [
       "A matrix: 2 × 2 of type dbl\n",
       "\\begin{tabular}{ll}\n",
       "\t 13.155437 & -0.4087771\\\\\n",
       "\t  1.337532 & 12.6719040\\\\\n",
       "\\end{tabular}\n"
      ],
      "text/markdown": [
       "\n",
       "A matrix: 2 × 2 of type dbl\n",
       "\n",
       "| 13.155437 | -0.4087771 |\n",
       "|  1.337532 | 12.6719040 |\n",
       "\n"
      ],
      "text/plain": [
       "     [,1]      [,2]      \n",
       "[1,] 13.155437 -0.4087771\n",
       "[2,]  1.337532 12.6719040"
      ]
     },
     "metadata": {},
     "output_type": "display_data"
    },
    {
     "data": {
      "text/html": [
       "<table class=\"dataframe\">\n",
       "<caption>A matrix: 2 × 2 of type dbl</caption>\n",
       "<tbody>\n",
       "\t<tr><td> 0.97336166</td><td>0.002487647</td></tr>\n",
       "\t<tr><td>-0.02082044</td><td>0.939264696</td></tr>\n",
       "</tbody>\n",
       "</table>\n"
      ],
      "text/latex": [
       "A matrix: 2 × 2 of type dbl\n",
       "\\begin{tabular}{ll}\n",
       "\t  0.97336166 & 0.002487647\\\\\n",
       "\t -0.02082044 & 0.939264696\\\\\n",
       "\\end{tabular}\n"
      ],
      "text/markdown": [
       "\n",
       "A matrix: 2 × 2 of type dbl\n",
       "\n",
       "|  0.97336166 | 0.002487647 |\n",
       "| -0.02082044 | 0.939264696 |\n",
       "\n"
      ],
      "text/plain": [
       "     [,1]        [,2]       \n",
       "[1,]  0.97336166 0.002487647\n",
       "[2,] -0.02082044 0.939264696"
      ]
     },
     "metadata": {},
     "output_type": "display_data"
    },
    {
     "data": {
      "text/html": [
       "<table class=\"dataframe\">\n",
       "<caption>A matrix: 2 × 2 of type dbl</caption>\n",
       "<tbody>\n",
       "\t<tr><td>172.615305</td><td> 0.7203405</td></tr>\n",
       "\t<tr><td> -1.000403</td><td>88.7277750</td></tr>\n",
       "</tbody>\n",
       "</table>\n"
      ],
      "text/latex": [
       "A matrix: 2 × 2 of type dbl\n",
       "\\begin{tabular}{ll}\n",
       "\t 172.615305 &  0.7203405\\\\\n",
       "\t  -1.000403 & 88.7277750\\\\\n",
       "\\end{tabular}\n"
      ],
      "text/markdown": [
       "\n",
       "A matrix: 2 × 2 of type dbl\n",
       "\n",
       "| 172.615305 |  0.7203405 |\n",
       "|  -1.000403 | 88.7277750 |\n",
       "\n"
      ],
      "text/plain": [
       "     [,1]       [,2]      \n",
       "[1,] 172.615305  0.7203405\n",
       "[2,]  -1.000403 88.7277750"
      ]
     },
     "metadata": {},
     "output_type": "display_data"
    }
   ],
   "source": [
    "bekk4_fit$A\n",
    "bekk4_fit$A_t\n",
    "bekk4_fit$G\n",
    "bekk4_fit$G_t"
   ]
  },
  {
   "cell_type": "markdown",
   "id": "c341015f-9611-476f-aaa5-90bceb7b5760",
   "metadata": {},
   "source": [
    "### VAR-BEKK Model Table for London Cocoa - USDGBP"
   ]
  },
  {
   "cell_type": "code",
   "execution_count": 60,
   "id": "2c66ca65-44f9-4d9a-8b11-92fc2aaf7bd7",
   "metadata": {},
   "outputs": [
    {
     "data": {
      "text/html": [
       "<table class=\"dataframe\">\n",
       "<caption>A data.frame: 14 × 5</caption>\n",
       "<thead>\n",
       "\t<tr><th scope=col>Parameters</th><th scope=col>Coefficient</th><th scope=col>Std_error</th><th scope=col>T_value</th><th scope=col>Significant_at_5p_level</th></tr>\n",
       "\t<tr><th scope=col>&lt;chr&gt;</th><th scope=col>&lt;dbl&gt;</th><th scope=col>&lt;dbl&gt;</th><th scope=col>&lt;dbl&gt;</th><th scope=col>&lt;chr&gt;</th></tr>\n",
       "</thead>\n",
       "<tbody>\n",
       "\t<tr><td>mu10 </td><td> 1.013980e-03</td><td>0.0005069100</td><td>  2.0003149</td><td>Stat significant at 5%       </td></tr>\n",
       "\t<tr><td>mu20 </td><td> 3.495419e-05</td><td>0.0001872824</td><td>  0.1866390</td><td>Not Statistically Significant</td></tr>\n",
       "\t<tr><td>phi11</td><td> 1.013236e-01</td><td>0.0310903604</td><td>  3.2590036</td><td>Stat significant at 1%       </td></tr>\n",
       "\t<tr><td>phi12</td><td> 5.731523e-02</td><td>0.0835905471</td><td>  0.6856665</td><td>Not Statistically Significant</td></tr>\n",
       "\t<tr><td>phi21</td><td>-1.925055e-02</td><td>0.0114866062</td><td> -1.6759131</td><td>Stat significant at 10%      </td></tr>\n",
       "\t<tr><td>phi22</td><td> 9.152960e-02</td><td>0.0308832603</td><td>  2.9637286</td><td>Stat significant at 1%       </td></tr>\n",
       "\t<tr><td>a11  </td><td> 2.246833e-01</td><td>0.0170791196</td><td> 13.1554366</td><td>Stat significant at 1%       </td></tr>\n",
       "\t<tr><td>a12  </td><td>-4.161311e-03</td><td>0.0101799016</td><td> -0.4087771</td><td>Not Statistically Significant</td></tr>\n",
       "\t<tr><td>a21  </td><td> 7.440445e-02</td><td>0.0556281706</td><td>  1.3375318</td><td>Not Statistically Significant</td></tr>\n",
       "\t<tr><td>a22  </td><td> 2.825088e-01</td><td>0.0222941092</td><td> 12.6719040</td><td>Stat significant at 1%       </td></tr>\n",
       "\t<tr><td>g11  </td><td> 9.733617e-01</td><td>0.0056389071</td><td>172.6153045</td><td>Stat significant at 1%       </td></tr>\n",
       "\t<tr><td>g12  </td><td> 2.487647e-03</td><td>0.0034534325</td><td>  0.7203405</td><td>Not Statistically Significant</td></tr>\n",
       "\t<tr><td>g21  </td><td>-2.082044e-02</td><td>0.0208120448</td><td> -1.0004033</td><td>Not Statistically Significant</td></tr>\n",
       "\t<tr><td>g22  </td><td> 9.392647e-01</td><td>0.0105859151</td><td> 88.7277750</td><td>Stat significant at 1%       </td></tr>\n",
       "</tbody>\n",
       "</table>\n"
      ],
      "text/latex": [
       "A data.frame: 14 × 5\n",
       "\\begin{tabular}{lllll}\n",
       " Parameters & Coefficient & Std\\_error & T\\_value & Significant\\_at\\_5p\\_level\\\\\n",
       " <chr> & <dbl> & <dbl> & <dbl> & <chr>\\\\\n",
       "\\hline\n",
       "\t mu10  &  1.013980e-03 & 0.0005069100 &   2.0003149 & Stat significant at 5\\%       \\\\\n",
       "\t mu20  &  3.495419e-05 & 0.0001872824 &   0.1866390 & Not Statistically Significant\\\\\n",
       "\t phi11 &  1.013236e-01 & 0.0310903604 &   3.2590036 & Stat significant at 1\\%       \\\\\n",
       "\t phi12 &  5.731523e-02 & 0.0835905471 &   0.6856665 & Not Statistically Significant\\\\\n",
       "\t phi21 & -1.925055e-02 & 0.0114866062 &  -1.6759131 & Stat significant at 10\\%      \\\\\n",
       "\t phi22 &  9.152960e-02 & 0.0308832603 &   2.9637286 & Stat significant at 1\\%       \\\\\n",
       "\t a11   &  2.246833e-01 & 0.0170791196 &  13.1554366 & Stat significant at 1\\%       \\\\\n",
       "\t a12   & -4.161311e-03 & 0.0101799016 &  -0.4087771 & Not Statistically Significant\\\\\n",
       "\t a21   &  7.440445e-02 & 0.0556281706 &   1.3375318 & Not Statistically Significant\\\\\n",
       "\t a22   &  2.825088e-01 & 0.0222941092 &  12.6719040 & Stat significant at 1\\%       \\\\\n",
       "\t g11   &  9.733617e-01 & 0.0056389071 & 172.6153045 & Stat significant at 1\\%       \\\\\n",
       "\t g12   &  2.487647e-03 & 0.0034534325 &   0.7203405 & Not Statistically Significant\\\\\n",
       "\t g21   & -2.082044e-02 & 0.0208120448 &  -1.0004033 & Not Statistically Significant\\\\\n",
       "\t g22   &  9.392647e-01 & 0.0105859151 &  88.7277750 & Stat significant at 1\\%       \\\\\n",
       "\\end{tabular}\n"
      ],
      "text/markdown": [
       "\n",
       "A data.frame: 14 × 5\n",
       "\n",
       "| Parameters &lt;chr&gt; | Coefficient &lt;dbl&gt; | Std_error &lt;dbl&gt; | T_value &lt;dbl&gt; | Significant_at_5p_level &lt;chr&gt; |\n",
       "|---|---|---|---|---|\n",
       "| mu10  |  1.013980e-03 | 0.0005069100 |   2.0003149 | Stat significant at 5%        |\n",
       "| mu20  |  3.495419e-05 | 0.0001872824 |   0.1866390 | Not Statistically Significant |\n",
       "| phi11 |  1.013236e-01 | 0.0310903604 |   3.2590036 | Stat significant at 1%        |\n",
       "| phi12 |  5.731523e-02 | 0.0835905471 |   0.6856665 | Not Statistically Significant |\n",
       "| phi21 | -1.925055e-02 | 0.0114866062 |  -1.6759131 | Stat significant at 10%       |\n",
       "| phi22 |  9.152960e-02 | 0.0308832603 |   2.9637286 | Stat significant at 1%        |\n",
       "| a11   |  2.246833e-01 | 0.0170791196 |  13.1554366 | Stat significant at 1%        |\n",
       "| a12   | -4.161311e-03 | 0.0101799016 |  -0.4087771 | Not Statistically Significant |\n",
       "| a21   |  7.440445e-02 | 0.0556281706 |   1.3375318 | Not Statistically Significant |\n",
       "| a22   |  2.825088e-01 | 0.0222941092 |  12.6719040 | Stat significant at 1%        |\n",
       "| g11   |  9.733617e-01 | 0.0056389071 | 172.6153045 | Stat significant at 1%        |\n",
       "| g12   |  2.487647e-03 | 0.0034534325 |   0.7203405 | Not Statistically Significant |\n",
       "| g21   | -2.082044e-02 | 0.0208120448 |  -1.0004033 | Not Statistically Significant |\n",
       "| g22   |  9.392647e-01 | 0.0105859151 |  88.7277750 | Stat significant at 1%        |\n",
       "\n"
      ],
      "text/plain": [
       "   Parameters Coefficient   Std_error    T_value    \n",
       "1  mu10        1.013980e-03 0.0005069100   2.0003149\n",
       "2  mu20        3.495419e-05 0.0001872824   0.1866390\n",
       "3  phi11       1.013236e-01 0.0310903604   3.2590036\n",
       "4  phi12       5.731523e-02 0.0835905471   0.6856665\n",
       "5  phi21      -1.925055e-02 0.0114866062  -1.6759131\n",
       "6  phi22       9.152960e-02 0.0308832603   2.9637286\n",
       "7  a11         2.246833e-01 0.0170791196  13.1554366\n",
       "8  a12        -4.161311e-03 0.0101799016  -0.4087771\n",
       "9  a21         7.440445e-02 0.0556281706   1.3375318\n",
       "10 a22         2.825088e-01 0.0222941092  12.6719040\n",
       "11 g11         9.733617e-01 0.0056389071 172.6153045\n",
       "12 g12         2.487647e-03 0.0034534325   0.7203405\n",
       "13 g21        -2.082044e-02 0.0208120448  -1.0004033\n",
       "14 g22         9.392647e-01 0.0105859151  88.7277750\n",
       "   Significant_at_5p_level      \n",
       "1  Stat significant at 5%       \n",
       "2  Not Statistically Significant\n",
       "3  Stat significant at 1%       \n",
       "4  Not Statistically Significant\n",
       "5  Stat significant at 10%      \n",
       "6  Stat significant at 1%       \n",
       "7  Stat significant at 1%       \n",
       "8  Not Statistically Significant\n",
       "9  Not Statistically Significant\n",
       "10 Stat significant at 1%       \n",
       "11 Stat significant at 1%       \n",
       "12 Not Statistically Significant\n",
       "13 Not Statistically Significant\n",
       "14 Stat significant at 1%       "
      ]
     },
     "metadata": {},
     "output_type": "display_data"
    }
   ],
   "source": [
    "bekk4 <- data.frame(Parameters = c(\"mu10\",\"mu20\",\"phi11\",\"phi12\",\"phi21\",\"phi22\",\"a11\",\"a12\",\"a21\",\"a22\",\"g11\",\"g12\",\"g21\",\"g22\"),\n",
    "                   Coefficient = c(summary(var_bekk4)$varresult$lc$coefficients[\"const\",\"Estimate\"],summary(var_bekk4)$varresult$usdgbp$coefficients[\"const\",\"Estimate\"],\n",
    "                                   summary(var_bekk4)$varresult$lc$coefficients[\"lc.l1\",\"Estimate\"],summary(var_bekk4)$varresult$lc$coefficients[\"usdgbp.l1\",\"Estimate\"],\n",
    "                                   summary(var_bekk4)$varresult$usdgbp$coefficients[\"lc.l1\",\"Estimate\"],summary(var_bekk4)$varresult$usdgbp$coefficients[\"usdgbp.l1\",\"Estimate\"],\n",
    "                                   bekk4_fit$A[1,1],bekk4_fit$A[1,2],bekk4_fit$A[2,1],bekk4_fit$A[2,2],bekk4_fit$G[1,1],bekk4_fit$G[1,2],bekk4_fit$G[2,1],bekk4_fit$G[2,2]),\n",
    "                   Std_error = c(summary(var_bekk4)$varresult$lc$coefficients[\"const\",\"Std. Error\"],summary(var_bekk4)$varresult$usdgbp$coefficients[\"const\",\"Std. Error\"],\n",
    "                                   summary(var_bekk4)$varresult$lc$coefficients[\"lc.l1\",\"Std. Error\"],summary(var_bekk4)$varresult$lc$coefficients[\"usdgbp.l1\",\"Std. Error\"],\n",
    "                                   summary(var_bekk4)$varresult$usdgbp$coefficients[\"lc.l1\",\"Std. Error\"],summary(var_bekk4)$varresult$usdgbp$coefficients[\"usdgbp.l1\",\"Std. Error\"],\n",
    "                                   bekk4_fit$A_sd[1,1],bekk4_fit$A_sd[1,2],bekk4_fit$A_sd[2,1],bekk4_fit$A_sd[2,2],bekk4_fit$G_sd[1,1],bekk4_fit$G_sd[1,2],bekk4_fit$G_sd[2,1],bekk4_fit$G_sd[2,2]),\n",
    "                   T_value = c(summary(var_bekk4)$varresult$lc$coefficients[\"const\",\"t value\"],summary(var_bekk4)$varresult$usdgbp$coefficients[\"const\",\"t value\"],\n",
    "                                   summary(var_bekk4)$varresult$lc$coefficients[\"lc.l1\",\"t value\"],summary(var_bekk4)$varresult$lc$coefficients[\"usdgbp.l1\",\"t value\"],\n",
    "                                   summary(var_bekk4)$varresult$usdgbp$coefficients[\"lc.l1\",\"t value\"],summary(var_bekk4)$varresult$usdgbp$coefficients[\"usdgbp.l1\",\"t value\"],\n",
    "                                   bekk4_fit$A_t[1,1],bekk4_fit$A_t[1,2],bekk4_fit$A_t[2,1],bekk4_fit$A_t[2,2],bekk4_fit$G_t[1,1],bekk4_fit$G_t[1,2],bekk4_fit$G_t[2,1],bekk4_fit$G_t[2,2]))\n",
    "\n",
    "bekk4$Significant_at_5p_level[abs(bekk4$T_value) >= 2.58 ] <- \"Stat significant at 1%\"\n",
    "bekk4$Significant_at_5p_level[abs(bekk4$T_value) > 1.96 & abs(bekk4$T_value) < 2.58] <- \"Stat significant at 5%\"\n",
    "bekk4$Significant_at_5p_level[abs(bekk4$T_value) > 1.645 & abs(bekk4$T_value) <= 1.96 ] <- \"Stat significant at 10%\"\n",
    "bekk4$Significant_at_5p_level[abs(bekk4$T_value) <= 1.645] <- \"Not Statistically Significant\"\n",
    "bekk4"
   ]
  },
  {
   "cell_type": "code",
   "execution_count": 61,
   "id": "50095069-6d08-4dc7-8ac6-9333fcd4fa23",
   "metadata": {},
   "outputs": [
    {
     "data": {
      "text/plain": [
       "\n",
       "\tGranger causality H0: lc do not Granger-cause usdgbp\n",
       "\n",
       "data:  VAR object var_bekk4\n",
       "F-Test = 2.8087, df1 = 1, df2 = 2090, p-value = 0.0939\n"
      ]
     },
     "metadata": {},
     "output_type": "display_data"
    },
    {
     "data": {
      "text/plain": [
       "\n",
       "\tGranger causality H0: usdgbp do not Granger-cause lc\n",
       "\n",
       "data:  VAR object var_bekk4\n",
       "F-Test = 0.47014, df1 = 1, df2 = 2090, p-value = 0.493\n"
      ]
     },
     "metadata": {},
     "output_type": "display_data"
    }
   ],
   "source": [
    "causality(var_bekk4,cause = \"lc\")$Granger\n",
    "causality(var_bekk4,cause = \"usdgbp\")$Granger"
   ]
  },
  {
   "cell_type": "markdown",
   "id": "5c609dfa-edab-4b63-ac71-2d4ef5cb0be6",
   "metadata": {},
   "source": [
    "## (b) VAR-BEKK: London Cocoa-EURGBP"
   ]
  },
  {
   "cell_type": "code",
   "execution_count": 62,
   "id": "676d3973-6ed6-4629-91eb-42de680bea90",
   "metadata": {},
   "outputs": [
    {
     "data": {
      "text/plain": [
       "                     lc       eurgbp\n",
       "2020-02-03 -0.005089070  0.012889672\n",
       "2020-02-04  0.000000000 -0.004120804\n",
       "2020-02-05  0.019202207 -0.002007677\n",
       "2020-02-06  0.015889113  0.004129069\n",
       "2020-02-07  0.007361996  0.000000000\n",
       "2020-02-10 -0.002447982 -0.005311941"
      ]
     },
     "metadata": {},
     "output_type": "display_data"
    }
   ],
   "source": [
    "bekk5data <- l_d[,c(1,3)]\n",
    "head(bekk5data)"
   ]
  },
  {
   "cell_type": "code",
   "execution_count": 63,
   "id": "35b17f01-88bf-404d-a8e4-0ca7306e6000",
   "metadata": {},
   "outputs": [
    {
     "data": {
      "text/html": [
       "<dl>\n",
       "\t<dt>$selection</dt>\n",
       "\t\t<dd><style>\n",
       ".dl-inline {width: auto; margin:0; padding: 0}\n",
       ".dl-inline>dt, .dl-inline>dd {float: none; width: auto; display: inline-block}\n",
       ".dl-inline>dt::after {content: \":\\0020\"; padding-right: .5ex}\n",
       ".dl-inline>dt:not(:first-of-type) {padding-left: .5ex}\n",
       "</style><dl class=dl-inline><dt>AIC(n)</dt><dd>1</dd><dt>HQ(n)</dt><dd>1</dd><dt>SC(n)</dt><dd>1</dd><dt>FPE(n)</dt><dd>1</dd></dl>\n",
       "</dd>\n",
       "\t<dt>$criteria</dt>\n",
       "\t\t<dd><table class=\"dataframe\">\n",
       "<caption>A matrix: 4 × 10 of type dbl</caption>\n",
       "<thead>\n",
       "\t<tr><th></th><th scope=col>1</th><th scope=col>2</th><th scope=col>3</th><th scope=col>4</th><th scope=col>5</th><th scope=col>6</th><th scope=col>7</th><th scope=col>8</th><th scope=col>9</th><th scope=col>10</th></tr>\n",
       "</thead>\n",
       "<tbody>\n",
       "\t<tr><th scope=row>AIC(n)</th><td>-1.915257e+01</td><td>-1.914770e+01</td><td>-1.914531e+01</td><td>-1.915038e+01</td><td>-1.914921e+01</td><td>-1.914521e+01</td><td>-1.914097e+01</td><td>-1.913538e+01</td><td>-1.913148e+01</td><td>-1.912508e+01</td></tr>\n",
       "\t<tr><th scope=row>HQ(n)</th><td>-1.914173e+01</td><td>-1.912964e+01</td><td>-1.912003e+01</td><td>-1.911787e+01</td><td>-1.910948e+01</td><td>-1.909826e+01</td><td>-1.908679e+01</td><td>-1.907398e+01</td><td>-1.906286e+01</td><td>-1.904923e+01</td></tr>\n",
       "\t<tr><th scope=row>SC(n)</th><td>-1.912401e+01</td><td>-1.910009e+01</td><td>-1.907867e+01</td><td>-1.906469e+01</td><td>-1.904449e+01</td><td>-1.902144e+01</td><td>-1.899816e+01</td><td>-1.897353e+01</td><td>-1.895059e+01</td><td>-1.892515e+01</td></tr>\n",
       "\t<tr><th scope=row>FPE(n)</th><td> 4.809996e-09</td><td> 4.833498e-09</td><td> 4.845039e-09</td><td> 4.820555e-09</td><td> 4.826168e-09</td><td> 4.845528e-09</td><td> 4.866130e-09</td><td> 4.893407e-09</td><td> 4.912556e-09</td><td> 4.944104e-09</td></tr>\n",
       "</tbody>\n",
       "</table>\n",
       "</dd>\n",
       "</dl>\n"
      ],
      "text/latex": [
       "\\begin{description}\n",
       "\\item[\\$selection] \\begin{description*}\n",
       "\\item[AIC(n)] 1\n",
       "\\item[HQ(n)] 1\n",
       "\\item[SC(n)] 1\n",
       "\\item[FPE(n)] 1\n",
       "\\end{description*}\n",
       "\n",
       "\\item[\\$criteria] A matrix: 4 × 10 of type dbl\n",
       "\\begin{tabular}{r|llllllllll}\n",
       "  & 1 & 2 & 3 & 4 & 5 & 6 & 7 & 8 & 9 & 10\\\\\n",
       "\\hline\n",
       "\tAIC(n) & -1.915257e+01 & -1.914770e+01 & -1.914531e+01 & -1.915038e+01 & -1.914921e+01 & -1.914521e+01 & -1.914097e+01 & -1.913538e+01 & -1.913148e+01 & -1.912508e+01\\\\\n",
       "\tHQ(n) & -1.914173e+01 & -1.912964e+01 & -1.912003e+01 & -1.911787e+01 & -1.910948e+01 & -1.909826e+01 & -1.908679e+01 & -1.907398e+01 & -1.906286e+01 & -1.904923e+01\\\\\n",
       "\tSC(n) & -1.912401e+01 & -1.910009e+01 & -1.907867e+01 & -1.906469e+01 & -1.904449e+01 & -1.902144e+01 & -1.899816e+01 & -1.897353e+01 & -1.895059e+01 & -1.892515e+01\\\\\n",
       "\tFPE(n) &  4.809996e-09 &  4.833498e-09 &  4.845039e-09 &  4.820555e-09 &  4.826168e-09 &  4.845528e-09 &  4.866130e-09 &  4.893407e-09 &  4.912556e-09 &  4.944104e-09\\\\\n",
       "\\end{tabular}\n",
       "\n",
       "\\end{description}\n"
      ],
      "text/markdown": [
       "$selection\n",
       ":   AIC(n)\n",
       ":   1HQ(n)\n",
       ":   1SC(n)\n",
       ":   1FPE(n)\n",
       ":   1\n",
       "\n",
       "\n",
       "$criteria\n",
       ":   \n",
       "A matrix: 4 × 10 of type dbl\n",
       "\n",
       "| <!--/--> | 1 | 2 | 3 | 4 | 5 | 6 | 7 | 8 | 9 | 10 |\n",
       "|---|---|---|---|---|---|---|---|---|---|---|\n",
       "| AIC(n) | -1.915257e+01 | -1.914770e+01 | -1.914531e+01 | -1.915038e+01 | -1.914921e+01 | -1.914521e+01 | -1.914097e+01 | -1.913538e+01 | -1.913148e+01 | -1.912508e+01 |\n",
       "| HQ(n) | -1.914173e+01 | -1.912964e+01 | -1.912003e+01 | -1.911787e+01 | -1.910948e+01 | -1.909826e+01 | -1.908679e+01 | -1.907398e+01 | -1.906286e+01 | -1.904923e+01 |\n",
       "| SC(n) | -1.912401e+01 | -1.910009e+01 | -1.907867e+01 | -1.906469e+01 | -1.904449e+01 | -1.902144e+01 | -1.899816e+01 | -1.897353e+01 | -1.895059e+01 | -1.892515e+01 |\n",
       "| FPE(n) |  4.809996e-09 |  4.833498e-09 |  4.845039e-09 |  4.820555e-09 |  4.826168e-09 |  4.845528e-09 |  4.866130e-09 |  4.893407e-09 |  4.912556e-09 |  4.944104e-09 |\n",
       "\n",
       "\n",
       "\n",
       "\n"
      ],
      "text/plain": [
       "$selection\n",
       "AIC(n)  HQ(n)  SC(n) FPE(n) \n",
       "     1      1      1      1 \n",
       "\n",
       "$criteria\n",
       "                   1             2             3             4             5\n",
       "AIC(n) -1.915257e+01 -1.914770e+01 -1.914531e+01 -1.915038e+01 -1.914921e+01\n",
       "HQ(n)  -1.914173e+01 -1.912964e+01 -1.912003e+01 -1.911787e+01 -1.910948e+01\n",
       "SC(n)  -1.912401e+01 -1.910009e+01 -1.907867e+01 -1.906469e+01 -1.904449e+01\n",
       "FPE(n)  4.809996e-09  4.833498e-09  4.845039e-09  4.820555e-09  4.826168e-09\n",
       "                   6             7             8             9            10\n",
       "AIC(n) -1.914521e+01 -1.914097e+01 -1.913538e+01 -1.913148e+01 -1.912508e+01\n",
       "HQ(n)  -1.909826e+01 -1.908679e+01 -1.907398e+01 -1.906286e+01 -1.904923e+01\n",
       "SC(n)  -1.902144e+01 -1.899816e+01 -1.897353e+01 -1.895059e+01 -1.892515e+01\n",
       "FPE(n)  4.845528e-09  4.866130e-09  4.893407e-09  4.912556e-09  4.944104e-09\n"
      ]
     },
     "metadata": {},
     "output_type": "display_data"
    }
   ],
   "source": [
    "VARselect(bekk5data,type = \"const\")"
   ]
  },
  {
   "cell_type": "code",
   "execution_count": 64,
   "id": "7620458d-d3e1-4295-9b99-9fe5431cd650",
   "metadata": {},
   "outputs": [],
   "source": [
    "var_bekk5<-VAR(bekk5data,p = 1,type = \"const\")\n",
    "res_bekk5 <- residuals(var_bekk5)\n",
    "res_bekk5 <- as.data.frame(res_bekk5)"
   ]
  },
  {
   "cell_type": "code",
   "execution_count": 65,
   "id": "ffd89d78-42b8-480c-bf3b-42ad23e59a23",
   "metadata": {},
   "outputs": [
    {
     "data": {
      "text/plain": [
       "\n",
       "VAR Estimation Results:\n",
       "========================= \n",
       "Endogenous variables: lc, eurgbp \n",
       "Deterministic variables: const \n",
       "Sample size: 1048 \n",
       "Log Likelihood: 7070.065 \n",
       "Roots of the characteristic polynomial:\n",
       "0.1033 0.009415\n",
       "Call:\n",
       "VAR(y = bekk5data, p = 1, type = \"const\")\n",
       "\n",
       "\n",
       "Estimation results for equation lc: \n",
       "=================================== \n",
       "lc = lc.l1 + eurgbp.l1 + const \n",
       "\n",
       "          Estimate Std. Error t value Pr(>|t|)    \n",
       "lc.l1     0.103715   0.030958   3.350 0.000837 ***\n",
       "eurgbp.l1 0.002473   0.119457   0.021 0.983486    \n",
       "const     0.001013   0.000507   1.999 0.045919 *  \n",
       "---\n",
       "Signif. codes:  0 ‘***’ 0.001 ‘**’ 0.01 ‘*’ 0.05 ‘.’ 0.1 ‘ ’ 1\n",
       "\n",
       "\n",
       "Residual standard error: 0.01638 on 1045 degrees of freedom\n",
       "Multiple R-Squared: 0.01068,\tAdjusted R-squared: 0.008785 \n",
       "F-statistic:  5.64 on 2 and 1045 DF,  p-value: 0.003663 \n",
       "\n",
       "\n",
       "Estimation results for equation eurgbp: \n",
       "======================================= \n",
       "eurgbp = lc.l1 + eurgbp.l1 + const \n",
       "\n",
       "            Estimate Std. Error t value Pr(>|t|)  \n",
       "lc.l1     -1.514e-02  7.986e-03  -1.895   0.0583 .\n",
       "eurgbp.l1  9.018e-03  3.081e-02   0.293   0.7698  \n",
       "const      1.519e-05  1.308e-04   0.116   0.9076  \n",
       "---\n",
       "Signif. codes:  0 ‘***’ 0.001 ‘**’ 0.01 ‘*’ 0.05 ‘.’ 0.1 ‘ ’ 1\n",
       "\n",
       "\n",
       "Residual standard error: 0.004225 on 1045 degrees of freedom\n",
       "Multiple R-Squared: 0.003454,\tAdjusted R-squared: 0.001547 \n",
       "F-statistic: 1.811 on 2 and 1045 DF,  p-value: 0.164 \n",
       "\n",
       "\n",
       "\n",
       "Covariance matrix of residuals:\n",
       "              lc    eurgbp\n",
       "lc     2.683e-04 5.101e-06\n",
       "eurgbp 5.101e-06 1.785e-05\n",
       "\n",
       "Correlation matrix of residuals:\n",
       "            lc  eurgbp\n",
       "lc     1.00000 0.07371\n",
       "eurgbp 0.07371 1.00000\n",
       "\n"
      ]
     },
     "metadata": {},
     "output_type": "display_data"
    }
   ],
   "source": [
    "summary(var_bekk5)"
   ]
  },
  {
   "cell_type": "code",
   "execution_count": 66,
   "id": "f6c0fbb6-0649-42ee-8945-6b8d5ad81f90",
   "metadata": {},
   "outputs": [
    {
     "name": "stdout",
     "output_type": "stream",
     "text": [
      " Date[1:1048], format: \"2020-02-04\" \"2020-02-05\" \"2020-02-06\" \"2020-02-07\" \"2020-02-10\" ...\n"
     ]
    }
   ],
   "source": [
    "ind_var5 <- index(bekk5data)[-1]\n",
    "str(ind_var5)"
   ]
  },
  {
   "cell_type": "code",
   "execution_count": 67,
   "id": "3d9ec4e0-b52b-408f-aef3-5fafd4e3fbd5",
   "metadata": {},
   "outputs": [],
   "source": [
    "res_bekk5 <- xts(res_bekk5,order.by = ind_var5)\n",
    "bekk_spec <- bekk_spec(model = list(type = \"bekk\",asymmetric = F))\n",
    "bekk5_fit <- bekk_fit(spec = bekk_spec,data = res_bekk5)"
   ]
  },
  {
   "cell_type": "code",
   "execution_count": 68,
   "id": "01050f59-09ba-4e1f-b512-de1c58694cb1",
   "metadata": {},
   "outputs": [
    {
     "data": {
      "text/html": [
       "<table class=\"dataframe\">\n",
       "<caption>A matrix: 2 × 2 of type dbl</caption>\n",
       "<tbody>\n",
       "\t<tr><td>0.29906394</td><td>-0.004960049</td></tr>\n",
       "\t<tr><td>0.03741119</td><td> 0.193709073</td></tr>\n",
       "</tbody>\n",
       "</table>\n"
      ],
      "text/latex": [
       "A matrix: 2 × 2 of type dbl\n",
       "\\begin{tabular}{ll}\n",
       "\t 0.29906394 & -0.004960049\\\\\n",
       "\t 0.03741119 &  0.193709073\\\\\n",
       "\\end{tabular}\n"
      ],
      "text/markdown": [
       "\n",
       "A matrix: 2 × 2 of type dbl\n",
       "\n",
       "| 0.29906394 | -0.004960049 |\n",
       "| 0.03741119 |  0.193709073 |\n",
       "\n"
      ],
      "text/plain": [
       "     [,1]       [,2]        \n",
       "[1,] 0.29906394 -0.004960049\n",
       "[2,] 0.03741119  0.193709073"
      ]
     },
     "metadata": {},
     "output_type": "display_data"
    },
    {
     "data": {
      "text/html": [
       "<table class=\"dataframe\">\n",
       "<caption>A matrix: 2 × 2 of type dbl</caption>\n",
       "<tbody>\n",
       "\t<tr><td>12.6056768</td><td>-1.139831</td></tr>\n",
       "\t<tr><td> 0.5522428</td><td>13.223307</td></tr>\n",
       "</tbody>\n",
       "</table>\n"
      ],
      "text/latex": [
       "A matrix: 2 × 2 of type dbl\n",
       "\\begin{tabular}{ll}\n",
       "\t 12.6056768 & -1.139831\\\\\n",
       "\t  0.5522428 & 13.223307\\\\\n",
       "\\end{tabular}\n"
      ],
      "text/markdown": [
       "\n",
       "A matrix: 2 × 2 of type dbl\n",
       "\n",
       "| 12.6056768 | -1.139831 |\n",
       "|  0.5522428 | 13.223307 |\n",
       "\n"
      ],
      "text/plain": [
       "     [,1]       [,2]     \n",
       "[1,] 12.6056768 -1.139831\n",
       "[2,]  0.5522428 13.223307"
      ]
     },
     "metadata": {},
     "output_type": "display_data"
    },
    {
     "data": {
      "text/html": [
       "<table class=\"dataframe\">\n",
       "<caption>A matrix: 2 × 2 of type dbl</caption>\n",
       "<tbody>\n",
       "\t<tr><td> 0.945226175</td><td>0.002296879</td></tr>\n",
       "\t<tr><td>-0.003461547</td><td>0.978856263</td></tr>\n",
       "</tbody>\n",
       "</table>\n"
      ],
      "text/latex": [
       "A matrix: 2 × 2 of type dbl\n",
       "\\begin{tabular}{ll}\n",
       "\t  0.945226175 & 0.002296879\\\\\n",
       "\t -0.003461547 & 0.978856263\\\\\n",
       "\\end{tabular}\n"
      ],
      "text/markdown": [
       "\n",
       "A matrix: 2 × 2 of type dbl\n",
       "\n",
       "|  0.945226175 | 0.002296879 |\n",
       "| -0.003461547 | 0.978856263 |\n",
       "\n"
      ],
      "text/plain": [
       "     [,1]         [,2]       \n",
       "[1,]  0.945226175 0.002296879\n",
       "[2,] -0.003461547 0.978856263"
      ]
     },
     "metadata": {},
     "output_type": "display_data"
    },
    {
     "data": {
      "text/html": [
       "<table class=\"dataframe\">\n",
       "<caption>A matrix: 2 × 2 of type dbl</caption>\n",
       "<tbody>\n",
       "\t<tr><td>90.1543000</td><td>  1.907254</td></tr>\n",
       "\t<tr><td>-0.1819765</td><td>290.256557</td></tr>\n",
       "</tbody>\n",
       "</table>\n"
      ],
      "text/latex": [
       "A matrix: 2 × 2 of type dbl\n",
       "\\begin{tabular}{ll}\n",
       "\t 90.1543000 &   1.907254\\\\\n",
       "\t -0.1819765 & 290.256557\\\\\n",
       "\\end{tabular}\n"
      ],
      "text/markdown": [
       "\n",
       "A matrix: 2 × 2 of type dbl\n",
       "\n",
       "| 90.1543000 |   1.907254 |\n",
       "| -0.1819765 | 290.256557 |\n",
       "\n"
      ],
      "text/plain": [
       "     [,1]       [,2]      \n",
       "[1,] 90.1543000   1.907254\n",
       "[2,] -0.1819765 290.256557"
      ]
     },
     "metadata": {},
     "output_type": "display_data"
    }
   ],
   "source": [
    "bekk5_fit$A\n",
    "bekk5_fit$A_t\n",
    "bekk5_fit$G\n",
    "bekk5_fit$G_t"
   ]
  },
  {
   "cell_type": "markdown",
   "id": "676300a5-6a29-4eb8-8d89-48dab8d67c51",
   "metadata": {},
   "source": [
    "### VAR-BEKK Model Table for London-EURGBP"
   ]
  },
  {
   "cell_type": "code",
   "execution_count": 69,
   "id": "675b6da6-6c55-4443-8789-48826a45cf00",
   "metadata": {},
   "outputs": [
    {
     "data": {
      "text/html": [
       "<table class=\"dataframe\">\n",
       "<caption>A data.frame: 14 × 5</caption>\n",
       "<thead>\n",
       "\t<tr><th scope=col>Parameters</th><th scope=col>Coefficient</th><th scope=col>Std_error</th><th scope=col>T_value</th><th scope=col>Significant_at_5p_level</th></tr>\n",
       "\t<tr><th scope=col>&lt;chr&gt;</th><th scope=col>&lt;dbl&gt;</th><th scope=col>&lt;dbl&gt;</th><th scope=col>&lt;dbl&gt;</th><th scope=col>&lt;chr&gt;</th></tr>\n",
       "</thead>\n",
       "<tbody>\n",
       "\t<tr><td>mu10 </td><td> 1.013298e-03</td><td>0.0005070241</td><td>  1.99852091</td><td>Stat significant at 5%       </td></tr>\n",
       "\t<tr><td>mu20 </td><td> 1.519101e-05</td><td>0.0001307880</td><td>  0.11614993</td><td>Not Statistically Significant</td></tr>\n",
       "\t<tr><td>phi11</td><td> 1.037151e-01</td><td>0.0309584349</td><td>  3.35013943</td><td>Stat significant at 1%       </td></tr>\n",
       "\t<tr><td>phi12</td><td> 2.473222e-03</td><td>0.1194569348</td><td>  0.02070388</td><td>Not Statistically Significant</td></tr>\n",
       "\t<tr><td>phi21</td><td>-1.513695e-02</td><td>0.0079857952</td><td> -1.89548425</td><td>Stat significant at 10%      </td></tr>\n",
       "\t<tr><td>phi22</td><td> 9.017843e-03</td><td>0.0308141745</td><td>  0.29265242</td><td>Not Statistically Significant</td></tr>\n",
       "\t<tr><td>a11  </td><td> 2.990639e-01</td><td>0.0237245444</td><td> 12.60567679</td><td>Stat significant at 1%       </td></tr>\n",
       "\t<tr><td>a12  </td><td>-4.960049e-03</td><td>0.0043515661</td><td> -1.13983066</td><td>Not Statistically Significant</td></tr>\n",
       "\t<tr><td>a21  </td><td> 3.741119e-02</td><td>0.0677440980</td><td>  0.55224284</td><td>Not Statistically Significant</td></tr>\n",
       "\t<tr><td>a22  </td><td> 1.937091e-01</td><td>0.0146490642</td><td> 13.22330694</td><td>Stat significant at 1%       </td></tr>\n",
       "\t<tr><td>g11  </td><td> 9.452262e-01</td><td>0.0104845379</td><td> 90.15430000</td><td>Stat significant at 1%       </td></tr>\n",
       "\t<tr><td>g12  </td><td> 2.296879e-03</td><td>0.0012042862</td><td>  1.90725387</td><td>Stat significant at 10%      </td></tr>\n",
       "\t<tr><td>g21  </td><td>-3.461547e-03</td><td>0.0190219391</td><td> -0.18197655</td><td>Not Statistically Significant</td></tr>\n",
       "\t<tr><td>g22  </td><td> 9.788563e-01</td><td>0.0033723830</td><td>290.25655661</td><td>Stat significant at 1%       </td></tr>\n",
       "</tbody>\n",
       "</table>\n"
      ],
      "text/latex": [
       "A data.frame: 14 × 5\n",
       "\\begin{tabular}{lllll}\n",
       " Parameters & Coefficient & Std\\_error & T\\_value & Significant\\_at\\_5p\\_level\\\\\n",
       " <chr> & <dbl> & <dbl> & <dbl> & <chr>\\\\\n",
       "\\hline\n",
       "\t mu10  &  1.013298e-03 & 0.0005070241 &   1.99852091 & Stat significant at 5\\%       \\\\\n",
       "\t mu20  &  1.519101e-05 & 0.0001307880 &   0.11614993 & Not Statistically Significant\\\\\n",
       "\t phi11 &  1.037151e-01 & 0.0309584349 &   3.35013943 & Stat significant at 1\\%       \\\\\n",
       "\t phi12 &  2.473222e-03 & 0.1194569348 &   0.02070388 & Not Statistically Significant\\\\\n",
       "\t phi21 & -1.513695e-02 & 0.0079857952 &  -1.89548425 & Stat significant at 10\\%      \\\\\n",
       "\t phi22 &  9.017843e-03 & 0.0308141745 &   0.29265242 & Not Statistically Significant\\\\\n",
       "\t a11   &  2.990639e-01 & 0.0237245444 &  12.60567679 & Stat significant at 1\\%       \\\\\n",
       "\t a12   & -4.960049e-03 & 0.0043515661 &  -1.13983066 & Not Statistically Significant\\\\\n",
       "\t a21   &  3.741119e-02 & 0.0677440980 &   0.55224284 & Not Statistically Significant\\\\\n",
       "\t a22   &  1.937091e-01 & 0.0146490642 &  13.22330694 & Stat significant at 1\\%       \\\\\n",
       "\t g11   &  9.452262e-01 & 0.0104845379 &  90.15430000 & Stat significant at 1\\%       \\\\\n",
       "\t g12   &  2.296879e-03 & 0.0012042862 &   1.90725387 & Stat significant at 10\\%      \\\\\n",
       "\t g21   & -3.461547e-03 & 0.0190219391 &  -0.18197655 & Not Statistically Significant\\\\\n",
       "\t g22   &  9.788563e-01 & 0.0033723830 & 290.25655661 & Stat significant at 1\\%       \\\\\n",
       "\\end{tabular}\n"
      ],
      "text/markdown": [
       "\n",
       "A data.frame: 14 × 5\n",
       "\n",
       "| Parameters &lt;chr&gt; | Coefficient &lt;dbl&gt; | Std_error &lt;dbl&gt; | T_value &lt;dbl&gt; | Significant_at_5p_level &lt;chr&gt; |\n",
       "|---|---|---|---|---|\n",
       "| mu10  |  1.013298e-03 | 0.0005070241 |   1.99852091 | Stat significant at 5%        |\n",
       "| mu20  |  1.519101e-05 | 0.0001307880 |   0.11614993 | Not Statistically Significant |\n",
       "| phi11 |  1.037151e-01 | 0.0309584349 |   3.35013943 | Stat significant at 1%        |\n",
       "| phi12 |  2.473222e-03 | 0.1194569348 |   0.02070388 | Not Statistically Significant |\n",
       "| phi21 | -1.513695e-02 | 0.0079857952 |  -1.89548425 | Stat significant at 10%       |\n",
       "| phi22 |  9.017843e-03 | 0.0308141745 |   0.29265242 | Not Statistically Significant |\n",
       "| a11   |  2.990639e-01 | 0.0237245444 |  12.60567679 | Stat significant at 1%        |\n",
       "| a12   | -4.960049e-03 | 0.0043515661 |  -1.13983066 | Not Statistically Significant |\n",
       "| a21   |  3.741119e-02 | 0.0677440980 |   0.55224284 | Not Statistically Significant |\n",
       "| a22   |  1.937091e-01 | 0.0146490642 |  13.22330694 | Stat significant at 1%        |\n",
       "| g11   |  9.452262e-01 | 0.0104845379 |  90.15430000 | Stat significant at 1%        |\n",
       "| g12   |  2.296879e-03 | 0.0012042862 |   1.90725387 | Stat significant at 10%       |\n",
       "| g21   | -3.461547e-03 | 0.0190219391 |  -0.18197655 | Not Statistically Significant |\n",
       "| g22   |  9.788563e-01 | 0.0033723830 | 290.25655661 | Stat significant at 1%        |\n",
       "\n"
      ],
      "text/plain": [
       "   Parameters Coefficient   Std_error    T_value     \n",
       "1  mu10        1.013298e-03 0.0005070241   1.99852091\n",
       "2  mu20        1.519101e-05 0.0001307880   0.11614993\n",
       "3  phi11       1.037151e-01 0.0309584349   3.35013943\n",
       "4  phi12       2.473222e-03 0.1194569348   0.02070388\n",
       "5  phi21      -1.513695e-02 0.0079857952  -1.89548425\n",
       "6  phi22       9.017843e-03 0.0308141745   0.29265242\n",
       "7  a11         2.990639e-01 0.0237245444  12.60567679\n",
       "8  a12        -4.960049e-03 0.0043515661  -1.13983066\n",
       "9  a21         3.741119e-02 0.0677440980   0.55224284\n",
       "10 a22         1.937091e-01 0.0146490642  13.22330694\n",
       "11 g11         9.452262e-01 0.0104845379  90.15430000\n",
       "12 g12         2.296879e-03 0.0012042862   1.90725387\n",
       "13 g21        -3.461547e-03 0.0190219391  -0.18197655\n",
       "14 g22         9.788563e-01 0.0033723830 290.25655661\n",
       "   Significant_at_5p_level      \n",
       "1  Stat significant at 5%       \n",
       "2  Not Statistically Significant\n",
       "3  Stat significant at 1%       \n",
       "4  Not Statistically Significant\n",
       "5  Stat significant at 10%      \n",
       "6  Not Statistically Significant\n",
       "7  Stat significant at 1%       \n",
       "8  Not Statistically Significant\n",
       "9  Not Statistically Significant\n",
       "10 Stat significant at 1%       \n",
       "11 Stat significant at 1%       \n",
       "12 Stat significant at 10%      \n",
       "13 Not Statistically Significant\n",
       "14 Stat significant at 1%       "
      ]
     },
     "metadata": {},
     "output_type": "display_data"
    }
   ],
   "source": [
    "bekk5 <- data.frame(Parameters = c(\"mu10\",\"mu20\",\"phi11\",\"phi12\",\"phi21\",\"phi22\",\"a11\",\"a12\",\"a21\",\"a22\",\"g11\",\"g12\",\"g21\",\"g22\"),\n",
    "                   Coefficient = c(summary(var_bekk5)$varresult$lc$coefficients[\"const\",\"Estimate\"],summary(var_bekk5)$varresult$eurgbp$coefficients[\"const\",\"Estimate\"],\n",
    "                                   summary(var_bekk5)$varresult$lc$coefficients[\"lc.l1\",\"Estimate\"],summary(var_bekk5)$varresult$lc$coefficients[\"eurgbp.l1\",\"Estimate\"],\n",
    "                                   summary(var_bekk5)$varresult$eurgbp$coefficients[\"lc.l1\",\"Estimate\"],summary(var_bekk5)$varresult$eurgbp$coefficients[\"eurgbp.l1\",\"Estimate\"],\n",
    "                                   bekk5_fit$A[1,1],bekk5_fit$A[1,2],bekk5_fit$A[2,1],bekk5_fit$A[2,2],bekk5_fit$G[1,1],bekk5_fit$G[1,2],bekk5_fit$G[2,1],bekk5_fit$G[2,2]),\n",
    "                   Std_error = c(summary(var_bekk5)$varresult$lc$coefficients[\"const\",\"Std. Error\"],summary(var_bekk5)$varresult$eurgbp$coefficients[\"const\",\"Std. Error\"],\n",
    "                                   summary(var_bekk5)$varresult$lc$coefficients[\"lc.l1\",\"Std. Error\"],summary(var_bekk5)$varresult$lc$coefficients[\"eurgbp.l1\",\"Std. Error\"],\n",
    "                                   summary(var_bekk5)$varresult$eurgbp$coefficients[\"lc.l1\",\"Std. Error\"],summary(var_bekk5)$varresult$eurgbp$coefficients[\"eurgbp.l1\",\"Std. Error\"],\n",
    "                                   bekk5_fit$A_sd[1,1],bekk5_fit$A_sd[1,2],bekk5_fit$A_sd[2,1],bekk5_fit$A_sd[2,2],bekk5_fit$G_sd[1,1],bekk5_fit$G_sd[1,2],bekk5_fit$G_sd[2,1],bekk5_fit$G_sd[2,2]),\n",
    "                   T_value = c(summary(var_bekk5)$varresult$lc$coefficients[\"const\",\"t value\"],summary(var_bekk5)$varresult$eurgbp$coefficients[\"const\",\"t value\"],\n",
    "                                   summary(var_bekk5)$varresult$lc$coefficients[\"lc.l1\",\"t value\"],summary(var_bekk5)$varresult$lc$coefficients[\"eurgbp.l1\",\"t value\"],\n",
    "                                   summary(var_bekk5)$varresult$eurgbp$coefficients[\"lc.l1\",\"t value\"],summary(var_bekk5)$varresult$eurgbp$coefficients[\"eurgbp.l1\",\"t value\"],\n",
    "                                   bekk5_fit$A_t[1,1],bekk5_fit$A_t[1,2],bekk5_fit$A_t[2,1],bekk5_fit$A_t[2,2],bekk5_fit$G_t[1,1],bekk5_fit$G_t[1,2],bekk5_fit$G_t[2,1],bekk5_fit$G_t[2,2]))\n",
    "\n",
    "bekk5$Significant_at_5p_level[abs(bekk5$T_value) >= 2.58 ] <- \"Stat significant at 1%\"\n",
    "bekk5$Significant_at_5p_level[abs(bekk5$T_value) > 1.96 & abs(bekk5$T_value) < 2.58] <- \"Stat significant at 5%\"\n",
    "bekk5$Significant_at_5p_level[abs(bekk5$T_value) > 1.645 & abs(bekk5$T_value) <= 1.96 ] <- \"Stat significant at 10%\"\n",
    "bekk5$Significant_at_5p_level[abs(bekk5$T_value) <= 1.645] <- \"Not Statistically Significant\"\n",
    "bekk5"
   ]
  },
  {
   "cell_type": "code",
   "execution_count": 70,
   "id": "8ea38612-a15f-4b19-9665-02e37e174c04",
   "metadata": {},
   "outputs": [
    {
     "data": {
      "text/plain": [
       "\n",
       "\tGranger causality H0: lc do not Granger-cause eurgbp\n",
       "\n",
       "data:  VAR object var_bekk5\n",
       "F-Test = 3.5929, df1 = 1, df2 = 2090, p-value = 0.05817\n"
      ]
     },
     "metadata": {},
     "output_type": "display_data"
    },
    {
     "data": {
      "text/plain": [
       "\n",
       "\tGranger causality H0: eurgbp do not Granger-cause lc\n",
       "\n",
       "data:  VAR object var_bekk5\n",
       "F-Test = 0.00042865, df1 = 1, df2 = 2090, p-value = 0.9835\n"
      ]
     },
     "metadata": {},
     "output_type": "display_data"
    }
   ],
   "source": [
    "causality(var_bekk5,cause = \"lc\")$Granger\n",
    "causality(var_bekk5,cause = \"eurgbp\")$Granger"
   ]
  },
  {
   "cell_type": "markdown",
   "id": "ec9d7edc-e9be-412b-baca-842c01cf40f0",
   "metadata": {},
   "source": [
    "## (c) VAR-BEKK: London-CHFGBP"
   ]
  },
  {
   "cell_type": "code",
   "execution_count": 71,
   "id": "c453e4da-5653-4e26-9a7e-4829f83e0bf2",
   "metadata": {},
   "outputs": [
    {
     "data": {
      "text/plain": [
       "                     lc        chfgbp\n",
       "2020-02-03 -0.005089070  0.0129490487\n",
       "2020-02-04  0.000000000 -0.0062956642\n",
       "2020-02-05  0.019202207 -0.0020230124\n",
       "2020-02-06  0.015889113  0.0043570302\n",
       "2020-02-07  0.007361996 -0.0004411533\n",
       "2020-02-10 -0.002447982 -0.0010721833"
      ]
     },
     "metadata": {},
     "output_type": "display_data"
    },
    {
     "data": {
      "text/plain": [
       "                    lc        chfgbp\n",
       "2024-04-26 -0.02951879 -0.0003996004\n",
       "2024-04-29 -0.15652942 -0.0016571906\n",
       "2024-04-30  0.03216783 -0.0040688901\n",
       "2024-05-01 -0.08952546  0.0013772526\n",
       "2024-05-02 -0.10077335  0.0049196369\n",
       "2024-05-03  0.04940746  0.0044411620"
      ]
     },
     "metadata": {},
     "output_type": "display_data"
    }
   ],
   "source": [
    "bekk6data <- l_d[,c(1,4)]\n",
    "head(bekk6data)\n",
    "tail(bekk6data)"
   ]
  },
  {
   "cell_type": "code",
   "execution_count": 72,
   "id": "3b1a91d7-27c0-4956-a531-cd26b3ede230",
   "metadata": {},
   "outputs": [
    {
     "data": {
      "text/html": [
       "<dl>\n",
       "\t<dt>$selection</dt>\n",
       "\t\t<dd><style>\n",
       ".dl-inline {width: auto; margin:0; padding: 0}\n",
       ".dl-inline>dt, .dl-inline>dd {float: none; width: auto; display: inline-block}\n",
       ".dl-inline>dt::after {content: \":\\0020\"; padding-right: .5ex}\n",
       ".dl-inline>dt:not(:first-of-type) {padding-left: .5ex}\n",
       "</style><dl class=dl-inline><dt>AIC(n)</dt><dd>4</dd><dt>HQ(n)</dt><dd>1</dd><dt>SC(n)</dt><dd>1</dd><dt>FPE(n)</dt><dd>4</dd></dl>\n",
       "</dd>\n",
       "\t<dt>$criteria</dt>\n",
       "\t\t<dd><table class=\"dataframe\">\n",
       "<caption>A matrix: 4 × 10 of type dbl</caption>\n",
       "<thead>\n",
       "\t<tr><th></th><th scope=col>1</th><th scope=col>2</th><th scope=col>3</th><th scope=col>4</th><th scope=col>5</th><th scope=col>6</th><th scope=col>7</th><th scope=col>8</th><th scope=col>9</th><th scope=col>10</th></tr>\n",
       "</thead>\n",
       "<tbody>\n",
       "\t<tr><th scope=row>AIC(n)</th><td>-1.880232e+01</td><td>-1.879657e+01</td><td>-1.879627e+01</td><td>-1.880241e+01</td><td>-1.879846e+01</td><td>-1.879639e+01</td><td>-1.879069e+01</td><td>-1.878565e+01</td><td>-1.878404e+01</td><td>-1.878057e+01</td></tr>\n",
       "\t<tr><th scope=row>HQ(n)</th><td>-1.879148e+01</td><td>-1.877852e+01</td><td>-1.877099e+01</td><td>-1.876990e+01</td><td>-1.875873e+01</td><td>-1.874943e+01</td><td>-1.873651e+01</td><td>-1.872425e+01</td><td>-1.871542e+01</td><td>-1.870473e+01</td></tr>\n",
       "\t<tr><th scope=row>SC(n)</th><td>-1.877376e+01</td><td>-1.874897e+01</td><td>-1.872963e+01</td><td>-1.871672e+01</td><td>-1.869373e+01</td><td>-1.867262e+01</td><td>-1.864788e+01</td><td>-1.862380e+01</td><td>-1.860315e+01</td><td>-1.858064e+01</td></tr>\n",
       "\t<tr><th scope=row>FPE(n)</th><td> 6.827427e-09</td><td> 6.866757e-09</td><td> 6.868843e-09</td><td> 6.826800e-09</td><td> 6.853854e-09</td><td> 6.868055e-09</td><td> 6.907304e-09</td><td> 6.942208e-09</td><td> 6.953427e-09</td><td> 6.977590e-09</td></tr>\n",
       "</tbody>\n",
       "</table>\n",
       "</dd>\n",
       "</dl>\n"
      ],
      "text/latex": [
       "\\begin{description}\n",
       "\\item[\\$selection] \\begin{description*}\n",
       "\\item[AIC(n)] 4\n",
       "\\item[HQ(n)] 1\n",
       "\\item[SC(n)] 1\n",
       "\\item[FPE(n)] 4\n",
       "\\end{description*}\n",
       "\n",
       "\\item[\\$criteria] A matrix: 4 × 10 of type dbl\n",
       "\\begin{tabular}{r|llllllllll}\n",
       "  & 1 & 2 & 3 & 4 & 5 & 6 & 7 & 8 & 9 & 10\\\\\n",
       "\\hline\n",
       "\tAIC(n) & -1.880232e+01 & -1.879657e+01 & -1.879627e+01 & -1.880241e+01 & -1.879846e+01 & -1.879639e+01 & -1.879069e+01 & -1.878565e+01 & -1.878404e+01 & -1.878057e+01\\\\\n",
       "\tHQ(n) & -1.879148e+01 & -1.877852e+01 & -1.877099e+01 & -1.876990e+01 & -1.875873e+01 & -1.874943e+01 & -1.873651e+01 & -1.872425e+01 & -1.871542e+01 & -1.870473e+01\\\\\n",
       "\tSC(n) & -1.877376e+01 & -1.874897e+01 & -1.872963e+01 & -1.871672e+01 & -1.869373e+01 & -1.867262e+01 & -1.864788e+01 & -1.862380e+01 & -1.860315e+01 & -1.858064e+01\\\\\n",
       "\tFPE(n) &  6.827427e-09 &  6.866757e-09 &  6.868843e-09 &  6.826800e-09 &  6.853854e-09 &  6.868055e-09 &  6.907304e-09 &  6.942208e-09 &  6.953427e-09 &  6.977590e-09\\\\\n",
       "\\end{tabular}\n",
       "\n",
       "\\end{description}\n"
      ],
      "text/markdown": [
       "$selection\n",
       ":   AIC(n)\n",
       ":   4HQ(n)\n",
       ":   1SC(n)\n",
       ":   1FPE(n)\n",
       ":   4\n",
       "\n",
       "\n",
       "$criteria\n",
       ":   \n",
       "A matrix: 4 × 10 of type dbl\n",
       "\n",
       "| <!--/--> | 1 | 2 | 3 | 4 | 5 | 6 | 7 | 8 | 9 | 10 |\n",
       "|---|---|---|---|---|---|---|---|---|---|---|\n",
       "| AIC(n) | -1.880232e+01 | -1.879657e+01 | -1.879627e+01 | -1.880241e+01 | -1.879846e+01 | -1.879639e+01 | -1.879069e+01 | -1.878565e+01 | -1.878404e+01 | -1.878057e+01 |\n",
       "| HQ(n) | -1.879148e+01 | -1.877852e+01 | -1.877099e+01 | -1.876990e+01 | -1.875873e+01 | -1.874943e+01 | -1.873651e+01 | -1.872425e+01 | -1.871542e+01 | -1.870473e+01 |\n",
       "| SC(n) | -1.877376e+01 | -1.874897e+01 | -1.872963e+01 | -1.871672e+01 | -1.869373e+01 | -1.867262e+01 | -1.864788e+01 | -1.862380e+01 | -1.860315e+01 | -1.858064e+01 |\n",
       "| FPE(n) |  6.827427e-09 |  6.866757e-09 |  6.868843e-09 |  6.826800e-09 |  6.853854e-09 |  6.868055e-09 |  6.907304e-09 |  6.942208e-09 |  6.953427e-09 |  6.977590e-09 |\n",
       "\n",
       "\n",
       "\n",
       "\n"
      ],
      "text/plain": [
       "$selection\n",
       "AIC(n)  HQ(n)  SC(n) FPE(n) \n",
       "     4      1      1      4 \n",
       "\n",
       "$criteria\n",
       "                   1             2             3             4             5\n",
       "AIC(n) -1.880232e+01 -1.879657e+01 -1.879627e+01 -1.880241e+01 -1.879846e+01\n",
       "HQ(n)  -1.879148e+01 -1.877852e+01 -1.877099e+01 -1.876990e+01 -1.875873e+01\n",
       "SC(n)  -1.877376e+01 -1.874897e+01 -1.872963e+01 -1.871672e+01 -1.869373e+01\n",
       "FPE(n)  6.827427e-09  6.866757e-09  6.868843e-09  6.826800e-09  6.853854e-09\n",
       "                   6             7             8             9            10\n",
       "AIC(n) -1.879639e+01 -1.879069e+01 -1.878565e+01 -1.878404e+01 -1.878057e+01\n",
       "HQ(n)  -1.874943e+01 -1.873651e+01 -1.872425e+01 -1.871542e+01 -1.870473e+01\n",
       "SC(n)  -1.867262e+01 -1.864788e+01 -1.862380e+01 -1.860315e+01 -1.858064e+01\n",
       "FPE(n)  6.868055e-09  6.907304e-09  6.942208e-09  6.953427e-09  6.977590e-09\n"
      ]
     },
     "metadata": {},
     "output_type": "display_data"
    }
   ],
   "source": [
    "VARselect(bekk6data,type = \"const\")"
   ]
  },
  {
   "cell_type": "code",
   "execution_count": 73,
   "id": "0aac66e7-4087-4c6c-8227-002ca49dba7a",
   "metadata": {},
   "outputs": [],
   "source": [
    "var_bekk6<-VAR(bekk6data,p = 4,type = \"const\")\n",
    "res_bekk6 <- residuals(var_bekk6)\n",
    "res_bekk6 <- as.data.frame(res_bekk6)"
   ]
  },
  {
   "cell_type": "code",
   "execution_count": 74,
   "id": "38bf4411-d45a-4adc-b292-53a9d46c3b1e",
   "metadata": {},
   "outputs": [
    {
     "data": {
      "text/plain": [
       "\n",
       "VAR Estimation Results:\n",
       "========================= \n",
       "Endogenous variables: lc, chfgbp \n",
       "Deterministic variables: const \n",
       "Sample size: 1045 \n",
       "Log Likelihood: 6880.502 \n",
       "Roots of the characteristic polynomial:\n",
       "0.5785 0.5459 0.5459 0.5032 0.4784 0.4784 0.2883 0.2883\n",
       "Call:\n",
       "VAR(y = bekk6data, p = 4, type = \"const\")\n",
       "\n",
       "\n",
       "Estimation results for equation lc: \n",
       "=================================== \n",
       "lc = lc.l1 + chfgbp.l1 + lc.l2 + chfgbp.l2 + lc.l3 + chfgbp.l3 + lc.l4 + chfgbp.l4 + const \n",
       "\n",
       "            Estimate Std. Error t value Pr(>|t|)   \n",
       "lc.l1      0.1007954  0.0311369   3.237  0.00125 **\n",
       "chfgbp.l1 -0.0174823  0.1013595  -0.172  0.86310   \n",
       "lc.l2     -0.0114039  0.0318755  -0.358  0.72059   \n",
       "chfgbp.l2 -0.1015459  0.1011236  -1.004  0.31553   \n",
       "lc.l3      0.0305516  0.0322695   0.947  0.34398   \n",
       "chfgbp.l3  0.0791625  0.1011078   0.783  0.43383   \n",
       "lc.l4      0.0926807  0.0322501   2.874  0.00414 **\n",
       "chfgbp.l4  0.0395760  0.1008981   0.392  0.69496   \n",
       "const      0.0008487  0.0005106   1.662  0.09678 . \n",
       "---\n",
       "Signif. codes:  0 ‘***’ 0.001 ‘**’ 0.01 ‘*’ 0.05 ‘.’ 0.1 ‘ ’ 1\n",
       "\n",
       "\n",
       "Residual standard error: 0.01634 on 1036 degrees of freedom\n",
       "Multiple R-Squared: 0.0217,\tAdjusted R-squared: 0.01414 \n",
       "F-statistic: 2.872 on 8 and 1036 DF,  p-value: 0.003643 \n",
       "\n",
       "\n",
       "Estimation results for equation chfgbp: \n",
       "======================================= \n",
       "chfgbp = lc.l1 + chfgbp.l1 + lc.l2 + chfgbp.l2 + lc.l3 + chfgbp.l3 + lc.l4 + chfgbp.l4 + const \n",
       "\n",
       "            Estimate Std. Error t value Pr(>|t|)  \n",
       "lc.l1     -0.0163513  0.0095190  -1.718   0.0861 .\n",
       "chfgbp.l1  0.0251111  0.0309870   0.810   0.4179  \n",
       "lc.l2     -0.0025292  0.0097448  -0.260   0.7953  \n",
       "chfgbp.l2 -0.0282537  0.0309149  -0.914   0.3610  \n",
       "lc.l3     -0.0120562  0.0098652  -1.222   0.2220  \n",
       "chfgbp.l3  0.0568320  0.0309101   1.839   0.0663 .\n",
       "lc.l4     -0.0214805  0.0098593  -2.179   0.0296 *\n",
       "chfgbp.l4 -0.0269798  0.0308460  -0.875   0.3820  \n",
       "const      0.0001521  0.0001561   0.974   0.3301  \n",
       "---\n",
       "Signif. codes:  0 ‘***’ 0.001 ‘**’ 0.01 ‘*’ 0.05 ‘.’ 0.1 ‘ ’ 1\n",
       "\n",
       "\n",
       "Residual standard error: 0.004996 on 1036 degrees of freedom\n",
       "Multiple R-Squared: 0.0157,\tAdjusted R-squared: 0.008097 \n",
       "F-statistic: 2.065 on 8 and 1036 DF,  p-value: 0.03651 \n",
       "\n",
       "\n",
       "\n",
       "Covariance matrix of residuals:\n",
       "              lc    chfgbp\n",
       "lc     2.671e-04 2.008e-06\n",
       "chfgbp 2.008e-06 2.496e-05\n",
       "\n",
       "Correlation matrix of residuals:\n",
       "            lc  chfgbp\n",
       "lc     1.00000 0.02459\n",
       "chfgbp 0.02459 1.00000\n",
       "\n"
      ]
     },
     "metadata": {},
     "output_type": "display_data"
    }
   ],
   "source": [
    "summary(var_bekk6)"
   ]
  },
  {
   "cell_type": "code",
   "execution_count": 75,
   "id": "ffe1b6f7-de90-4dac-94c7-a6f32d90ddd2",
   "metadata": {},
   "outputs": [
    {
     "name": "stdout",
     "output_type": "stream",
     "text": [
      " Date[1:1045], format: \"2020-02-07\" \"2020-02-10\" \"2020-02-11\" \"2020-02-12\" \"2020-02-13\" ...\n"
     ]
    }
   ],
   "source": [
    "ind_var6 <- index(bekk6data)[-c(1:4)]\n",
    "str(ind_var6)"
   ]
  },
  {
   "cell_type": "code",
   "execution_count": 76,
   "id": "f44b7bef-c156-428d-a94d-702d8f95b571",
   "metadata": {},
   "outputs": [],
   "source": [
    "res_bekk6 <- xts(res_bekk6,order.by = ind_var6)\n",
    "bekk_spec <- bekk_spec(model = list(type = \"bekk\",asymmetric = F))\n",
    "bekk6_fit <- bekk_fit(spec = bekk_spec,data = res_bekk6)"
   ]
  },
  {
   "cell_type": "code",
   "execution_count": 77,
   "id": "c17996de-315d-4a6a-b4e0-1f2e8821a464",
   "metadata": {},
   "outputs": [
    {
     "data": {
      "text/html": [
       "<table class=\"dataframe\">\n",
       "<caption>A matrix: 2 × 2 of type dbl</caption>\n",
       "<tbody>\n",
       "\t<tr><td>0.23772798</td><td>-0.006151465</td></tr>\n",
       "\t<tr><td>0.06182434</td><td> 0.226850762</td></tr>\n",
       "</tbody>\n",
       "</table>\n"
      ],
      "text/latex": [
       "A matrix: 2 × 2 of type dbl\n",
       "\\begin{tabular}{ll}\n",
       "\t 0.23772798 & -0.006151465\\\\\n",
       "\t 0.06182434 &  0.226850762\\\\\n",
       "\\end{tabular}\n"
      ],
      "text/markdown": [
       "\n",
       "A matrix: 2 × 2 of type dbl\n",
       "\n",
       "| 0.23772798 | -0.006151465 |\n",
       "| 0.06182434 |  0.226850762 |\n",
       "\n"
      ],
      "text/plain": [
       "     [,1]       [,2]        \n",
       "[1,] 0.23772798 -0.006151465\n",
       "[2,] 0.06182434  0.226850762"
      ]
     },
     "metadata": {},
     "output_type": "display_data"
    },
    {
     "data": {
      "text/html": [
       "<table class=\"dataframe\">\n",
       "<caption>A matrix: 2 × 2 of type dbl</caption>\n",
       "<tbody>\n",
       "\t<tr><td>11.5843029</td><td>-0.7881537</td></tr>\n",
       "\t<tr><td> 0.9577618</td><td>13.7282100</td></tr>\n",
       "</tbody>\n",
       "</table>\n"
      ],
      "text/latex": [
       "A matrix: 2 × 2 of type dbl\n",
       "\\begin{tabular}{ll}\n",
       "\t 11.5843029 & -0.7881537\\\\\n",
       "\t  0.9577618 & 13.7282100\\\\\n",
       "\\end{tabular}\n"
      ],
      "text/markdown": [
       "\n",
       "A matrix: 2 × 2 of type dbl\n",
       "\n",
       "| 11.5843029 | -0.7881537 |\n",
       "|  0.9577618 | 13.7282100 |\n",
       "\n"
      ],
      "text/plain": [
       "     [,1]       [,2]      \n",
       "[1,] 11.5843029 -0.7881537\n",
       "[2,]  0.9577618 13.7282100"
      ]
     },
     "metadata": {},
     "output_type": "display_data"
    },
    {
     "data": {
      "text/html": [
       "<table class=\"dataframe\">\n",
       "<caption>A matrix: 2 × 2 of type dbl</caption>\n",
       "<tbody>\n",
       "\t<tr><td> 0.96976549</td><td>0.003340487</td></tr>\n",
       "\t<tr><td>-0.01993112</td><td>0.961299205</td></tr>\n",
       "</tbody>\n",
       "</table>\n"
      ],
      "text/latex": [
       "A matrix: 2 × 2 of type dbl\n",
       "\\begin{tabular}{ll}\n",
       "\t  0.96976549 & 0.003340487\\\\\n",
       "\t -0.01993112 & 0.961299205\\\\\n",
       "\\end{tabular}\n"
      ],
      "text/markdown": [
       "\n",
       "A matrix: 2 × 2 of type dbl\n",
       "\n",
       "|  0.96976549 | 0.003340487 |\n",
       "| -0.01993112 | 0.961299205 |\n",
       "\n"
      ],
      "text/plain": [
       "     [,1]        [,2]       \n",
       "[1,]  0.96976549 0.003340487\n",
       "[2,] -0.01993112 0.961299205"
      ]
     },
     "metadata": {},
     "output_type": "display_data"
    },
    {
     "data": {
      "text/html": [
       "<table class=\"dataframe\">\n",
       "<caption>A matrix: 2 × 2 of type dbl</caption>\n",
       "<tbody>\n",
       "\t<tr><td>137.086980</td><td>  1.162797</td></tr>\n",
       "\t<tr><td> -0.925166</td><td>147.991759</td></tr>\n",
       "</tbody>\n",
       "</table>\n"
      ],
      "text/latex": [
       "A matrix: 2 × 2 of type dbl\n",
       "\\begin{tabular}{ll}\n",
       "\t 137.086980 &   1.162797\\\\\n",
       "\t  -0.925166 & 147.991759\\\\\n",
       "\\end{tabular}\n"
      ],
      "text/markdown": [
       "\n",
       "A matrix: 2 × 2 of type dbl\n",
       "\n",
       "| 137.086980 |   1.162797 |\n",
       "|  -0.925166 | 147.991759 |\n",
       "\n"
      ],
      "text/plain": [
       "     [,1]       [,2]      \n",
       "[1,] 137.086980   1.162797\n",
       "[2,]  -0.925166 147.991759"
      ]
     },
     "metadata": {},
     "output_type": "display_data"
    }
   ],
   "source": [
    "bekk6_fit$A\n",
    "bekk6_fit$A_t\n",
    "bekk6_fit$G\n",
    "bekk6_fit$G_t"
   ]
  },
  {
   "cell_type": "markdown",
   "id": "47a05e8e-2fbb-4aa7-92e8-a5592e7735d8",
   "metadata": {},
   "source": [
    "### VAR-BEKK Model Table for London-CHFGBP"
   ]
  },
  {
   "cell_type": "code",
   "execution_count": 78,
   "id": "be3ff457-2928-4b32-8bd1-bb1020094b3d",
   "metadata": {},
   "outputs": [
    {
     "data": {
      "text/html": [
       "<table class=\"dataframe\">\n",
       "<caption>A data.frame: 26 × 5</caption>\n",
       "<thead>\n",
       "\t<tr><th scope=col>Parameters</th><th scope=col>Coefficient</th><th scope=col>Std_error</th><th scope=col>T_value</th><th scope=col>Significant_at_5p_level</th></tr>\n",
       "\t<tr><th scope=col>&lt;chr&gt;</th><th scope=col>&lt;dbl&gt;</th><th scope=col>&lt;dbl&gt;</th><th scope=col>&lt;dbl&gt;</th><th scope=col>&lt;chr&gt;</th></tr>\n",
       "</thead>\n",
       "<tbody>\n",
       "\t<tr><td>mu10 </td><td> 0.0008486502</td><td>0.0005105599</td><td>  1.6621951</td><td>Stat significant at 10%      </td></tr>\n",
       "\t<tr><td>mu20 </td><td> 0.0001521000</td><td>0.0001560854</td><td>  0.9744665</td><td>Not Statistically Significant</td></tr>\n",
       "\t<tr><td>phi11</td><td> 0.1007954464</td><td>0.0311369415</td><td>  3.2371659</td><td>Stat significant at 1%       </td></tr>\n",
       "\t<tr><td>phi12</td><td>-0.0174823344</td><td>0.1013595138</td><td> -0.1724785</td><td>Not Statistically Significant</td></tr>\n",
       "\t<tr><td>phi13</td><td>-0.0114038792</td><td>0.0318754566</td><td> -0.3577636</td><td>Not Statistically Significant</td></tr>\n",
       "\t<tr><td>phi14</td><td>-0.1015459238</td><td>0.1011235938</td><td> -1.0041764</td><td>Not Statistically Significant</td></tr>\n",
       "\t<tr><td>phi15</td><td> 0.0305516218</td><td>0.0322694738</td><td>  0.9467654</td><td>Not Statistically Significant</td></tr>\n",
       "\t<tr><td>phi16</td><td> 0.0791624625</td><td>0.1011077730</td><td>  0.7829513</td><td>Not Statistically Significant</td></tr>\n",
       "\t<tr><td>phi17</td><td> 0.0926806800</td><td>0.0322500932</td><td>  2.8738112</td><td>Stat significant at 1%       </td></tr>\n",
       "\t<tr><td>phi18</td><td> 0.0395759927</td><td>0.1008981206</td><td>  0.3922372</td><td>Not Statistically Significant</td></tr>\n",
       "\t<tr><td>phi21</td><td>-0.0163512669</td><td>0.0095190014</td><td> -1.7177502</td><td>Stat significant at 10%      </td></tr>\n",
       "\t<tr><td>phi22</td><td> 0.0251111464</td><td>0.0309870304</td><td>  0.8103760</td><td>Not Statistically Significant</td></tr>\n",
       "\t<tr><td>phi23</td><td>-0.0025291683</td><td>0.0097447759</td><td> -0.2595409</td><td>Not Statistically Significant</td></tr>\n",
       "\t<tr><td>phi24</td><td>-0.0282537001</td><td>0.0309149064</td><td> -0.9139183</td><td>Not Statistically Significant</td></tr>\n",
       "\t<tr><td>phi25</td><td>-0.0120561917</td><td>0.0098652325</td><td> -1.2220890</td><td>Not Statistically Significant</td></tr>\n",
       "\t<tr><td>phi26</td><td> 0.0568319935</td><td>0.0309100697</td><td>  1.8386239</td><td>Stat significant at 10%      </td></tr>\n",
       "\t<tr><td>phi27</td><td>-0.0214805273</td><td>0.0098593075</td><td> -2.1787055</td><td>Stat significant at 5%       </td></tr>\n",
       "\t<tr><td>phi28</td><td>-0.0269797604</td><td>0.0308459760</td><td> -0.8746606</td><td>Not Statistically Significant</td></tr>\n",
       "\t<tr><td>a11  </td><td> 0.2377279833</td><td>0.0205215613</td><td> 11.5843029</td><td>Stat significant at 1%       </td></tr>\n",
       "\t<tr><td>a12  </td><td>-0.0061514651</td><td>0.0078049051</td><td> -0.7881537</td><td>Not Statistically Significant</td></tr>\n",
       "\t<tr><td>a21  </td><td> 0.0618243354</td><td>0.0645508460</td><td>  0.9577618</td><td>Not Statistically Significant</td></tr>\n",
       "\t<tr><td>a22  </td><td> 0.2268507623</td><td>0.0165244240</td><td> 13.7282100</td><td>Stat significant at 1%       </td></tr>\n",
       "\t<tr><td>g11  </td><td> 0.9697654906</td><td>0.0070740890</td><td>137.0869799</td><td>Stat significant at 1%       </td></tr>\n",
       "\t<tr><td>g12  </td><td> 0.0033404869</td><td>0.0028728036</td><td>  1.1627968</td><td>Not Statistically Significant</td></tr>\n",
       "\t<tr><td>g21  </td><td>-0.0199311159</td><td>0.0215432864</td><td> -0.9251660</td><td>Not Statistically Significant</td></tr>\n",
       "\t<tr><td>g22  </td><td> 0.9612992052</td><td>0.0064956266</td><td>147.9917590</td><td>Stat significant at 1%       </td></tr>\n",
       "</tbody>\n",
       "</table>\n"
      ],
      "text/latex": [
       "A data.frame: 26 × 5\n",
       "\\begin{tabular}{lllll}\n",
       " Parameters & Coefficient & Std\\_error & T\\_value & Significant\\_at\\_5p\\_level\\\\\n",
       " <chr> & <dbl> & <dbl> & <dbl> & <chr>\\\\\n",
       "\\hline\n",
       "\t mu10  &  0.0008486502 & 0.0005105599 &   1.6621951 & Stat significant at 10\\%      \\\\\n",
       "\t mu20  &  0.0001521000 & 0.0001560854 &   0.9744665 & Not Statistically Significant\\\\\n",
       "\t phi11 &  0.1007954464 & 0.0311369415 &   3.2371659 & Stat significant at 1\\%       \\\\\n",
       "\t phi12 & -0.0174823344 & 0.1013595138 &  -0.1724785 & Not Statistically Significant\\\\\n",
       "\t phi13 & -0.0114038792 & 0.0318754566 &  -0.3577636 & Not Statistically Significant\\\\\n",
       "\t phi14 & -0.1015459238 & 0.1011235938 &  -1.0041764 & Not Statistically Significant\\\\\n",
       "\t phi15 &  0.0305516218 & 0.0322694738 &   0.9467654 & Not Statistically Significant\\\\\n",
       "\t phi16 &  0.0791624625 & 0.1011077730 &   0.7829513 & Not Statistically Significant\\\\\n",
       "\t phi17 &  0.0926806800 & 0.0322500932 &   2.8738112 & Stat significant at 1\\%       \\\\\n",
       "\t phi18 &  0.0395759927 & 0.1008981206 &   0.3922372 & Not Statistically Significant\\\\\n",
       "\t phi21 & -0.0163512669 & 0.0095190014 &  -1.7177502 & Stat significant at 10\\%      \\\\\n",
       "\t phi22 &  0.0251111464 & 0.0309870304 &   0.8103760 & Not Statistically Significant\\\\\n",
       "\t phi23 & -0.0025291683 & 0.0097447759 &  -0.2595409 & Not Statistically Significant\\\\\n",
       "\t phi24 & -0.0282537001 & 0.0309149064 &  -0.9139183 & Not Statistically Significant\\\\\n",
       "\t phi25 & -0.0120561917 & 0.0098652325 &  -1.2220890 & Not Statistically Significant\\\\\n",
       "\t phi26 &  0.0568319935 & 0.0309100697 &   1.8386239 & Stat significant at 10\\%      \\\\\n",
       "\t phi27 & -0.0214805273 & 0.0098593075 &  -2.1787055 & Stat significant at 5\\%       \\\\\n",
       "\t phi28 & -0.0269797604 & 0.0308459760 &  -0.8746606 & Not Statistically Significant\\\\\n",
       "\t a11   &  0.2377279833 & 0.0205215613 &  11.5843029 & Stat significant at 1\\%       \\\\\n",
       "\t a12   & -0.0061514651 & 0.0078049051 &  -0.7881537 & Not Statistically Significant\\\\\n",
       "\t a21   &  0.0618243354 & 0.0645508460 &   0.9577618 & Not Statistically Significant\\\\\n",
       "\t a22   &  0.2268507623 & 0.0165244240 &  13.7282100 & Stat significant at 1\\%       \\\\\n",
       "\t g11   &  0.9697654906 & 0.0070740890 & 137.0869799 & Stat significant at 1\\%       \\\\\n",
       "\t g12   &  0.0033404869 & 0.0028728036 &   1.1627968 & Not Statistically Significant\\\\\n",
       "\t g21   & -0.0199311159 & 0.0215432864 &  -0.9251660 & Not Statistically Significant\\\\\n",
       "\t g22   &  0.9612992052 & 0.0064956266 & 147.9917590 & Stat significant at 1\\%       \\\\\n",
       "\\end{tabular}\n"
      ],
      "text/markdown": [
       "\n",
       "A data.frame: 26 × 5\n",
       "\n",
       "| Parameters &lt;chr&gt; | Coefficient &lt;dbl&gt; | Std_error &lt;dbl&gt; | T_value &lt;dbl&gt; | Significant_at_5p_level &lt;chr&gt; |\n",
       "|---|---|---|---|---|\n",
       "| mu10  |  0.0008486502 | 0.0005105599 |   1.6621951 | Stat significant at 10%       |\n",
       "| mu20  |  0.0001521000 | 0.0001560854 |   0.9744665 | Not Statistically Significant |\n",
       "| phi11 |  0.1007954464 | 0.0311369415 |   3.2371659 | Stat significant at 1%        |\n",
       "| phi12 | -0.0174823344 | 0.1013595138 |  -0.1724785 | Not Statistically Significant |\n",
       "| phi13 | -0.0114038792 | 0.0318754566 |  -0.3577636 | Not Statistically Significant |\n",
       "| phi14 | -0.1015459238 | 0.1011235938 |  -1.0041764 | Not Statistically Significant |\n",
       "| phi15 |  0.0305516218 | 0.0322694738 |   0.9467654 | Not Statistically Significant |\n",
       "| phi16 |  0.0791624625 | 0.1011077730 |   0.7829513 | Not Statistically Significant |\n",
       "| phi17 |  0.0926806800 | 0.0322500932 |   2.8738112 | Stat significant at 1%        |\n",
       "| phi18 |  0.0395759927 | 0.1008981206 |   0.3922372 | Not Statistically Significant |\n",
       "| phi21 | -0.0163512669 | 0.0095190014 |  -1.7177502 | Stat significant at 10%       |\n",
       "| phi22 |  0.0251111464 | 0.0309870304 |   0.8103760 | Not Statistically Significant |\n",
       "| phi23 | -0.0025291683 | 0.0097447759 |  -0.2595409 | Not Statistically Significant |\n",
       "| phi24 | -0.0282537001 | 0.0309149064 |  -0.9139183 | Not Statistically Significant |\n",
       "| phi25 | -0.0120561917 | 0.0098652325 |  -1.2220890 | Not Statistically Significant |\n",
       "| phi26 |  0.0568319935 | 0.0309100697 |   1.8386239 | Stat significant at 10%       |\n",
       "| phi27 | -0.0214805273 | 0.0098593075 |  -2.1787055 | Stat significant at 5%        |\n",
       "| phi28 | -0.0269797604 | 0.0308459760 |  -0.8746606 | Not Statistically Significant |\n",
       "| a11   |  0.2377279833 | 0.0205215613 |  11.5843029 | Stat significant at 1%        |\n",
       "| a12   | -0.0061514651 | 0.0078049051 |  -0.7881537 | Not Statistically Significant |\n",
       "| a21   |  0.0618243354 | 0.0645508460 |   0.9577618 | Not Statistically Significant |\n",
       "| a22   |  0.2268507623 | 0.0165244240 |  13.7282100 | Stat significant at 1%        |\n",
       "| g11   |  0.9697654906 | 0.0070740890 | 137.0869799 | Stat significant at 1%        |\n",
       "| g12   |  0.0033404869 | 0.0028728036 |   1.1627968 | Not Statistically Significant |\n",
       "| g21   | -0.0199311159 | 0.0215432864 |  -0.9251660 | Not Statistically Significant |\n",
       "| g22   |  0.9612992052 | 0.0064956266 | 147.9917590 | Stat significant at 1%        |\n",
       "\n"
      ],
      "text/plain": [
       "   Parameters Coefficient   Std_error    T_value    \n",
       "1  mu10        0.0008486502 0.0005105599   1.6621951\n",
       "2  mu20        0.0001521000 0.0001560854   0.9744665\n",
       "3  phi11       0.1007954464 0.0311369415   3.2371659\n",
       "4  phi12      -0.0174823344 0.1013595138  -0.1724785\n",
       "5  phi13      -0.0114038792 0.0318754566  -0.3577636\n",
       "6  phi14      -0.1015459238 0.1011235938  -1.0041764\n",
       "7  phi15       0.0305516218 0.0322694738   0.9467654\n",
       "8  phi16       0.0791624625 0.1011077730   0.7829513\n",
       "9  phi17       0.0926806800 0.0322500932   2.8738112\n",
       "10 phi18       0.0395759927 0.1008981206   0.3922372\n",
       "11 phi21      -0.0163512669 0.0095190014  -1.7177502\n",
       "12 phi22       0.0251111464 0.0309870304   0.8103760\n",
       "13 phi23      -0.0025291683 0.0097447759  -0.2595409\n",
       "14 phi24      -0.0282537001 0.0309149064  -0.9139183\n",
       "15 phi25      -0.0120561917 0.0098652325  -1.2220890\n",
       "16 phi26       0.0568319935 0.0309100697   1.8386239\n",
       "17 phi27      -0.0214805273 0.0098593075  -2.1787055\n",
       "18 phi28      -0.0269797604 0.0308459760  -0.8746606\n",
       "19 a11         0.2377279833 0.0205215613  11.5843029\n",
       "20 a12        -0.0061514651 0.0078049051  -0.7881537\n",
       "21 a21         0.0618243354 0.0645508460   0.9577618\n",
       "22 a22         0.2268507623 0.0165244240  13.7282100\n",
       "23 g11         0.9697654906 0.0070740890 137.0869799\n",
       "24 g12         0.0033404869 0.0028728036   1.1627968\n",
       "25 g21        -0.0199311159 0.0215432864  -0.9251660\n",
       "26 g22         0.9612992052 0.0064956266 147.9917590\n",
       "   Significant_at_5p_level      \n",
       "1  Stat significant at 10%      \n",
       "2  Not Statistically Significant\n",
       "3  Stat significant at 1%       \n",
       "4  Not Statistically Significant\n",
       "5  Not Statistically Significant\n",
       "6  Not Statistically Significant\n",
       "7  Not Statistically Significant\n",
       "8  Not Statistically Significant\n",
       "9  Stat significant at 1%       \n",
       "10 Not Statistically Significant\n",
       "11 Stat significant at 10%      \n",
       "12 Not Statistically Significant\n",
       "13 Not Statistically Significant\n",
       "14 Not Statistically Significant\n",
       "15 Not Statistically Significant\n",
       "16 Stat significant at 10%      \n",
       "17 Stat significant at 5%       \n",
       "18 Not Statistically Significant\n",
       "19 Stat significant at 1%       \n",
       "20 Not Statistically Significant\n",
       "21 Not Statistically Significant\n",
       "22 Stat significant at 1%       \n",
       "23 Stat significant at 1%       \n",
       "24 Not Statistically Significant\n",
       "25 Not Statistically Significant\n",
       "26 Stat significant at 1%       "
      ]
     },
     "metadata": {},
     "output_type": "display_data"
    }
   ],
   "source": [
    "bekk6 <- data.frame(Parameters = c(\"mu10\",\"mu20\",\"phi11\",\"phi12\",\"phi13\",\"phi14\",\"phi15\",\"phi16\",\"phi17\",\"phi18\",\"phi21\",\"phi22\",\"phi23\",\"phi24\",\"phi25\",\"phi26\",\"phi27\",\"phi28\",\"a11\",\"a12\",\"a21\",\"a22\",\"g11\",\"g12\",\"g21\",\"g22\"),\n",
    "                   Coefficient = c(summary(var_bekk6)$varresult$lc$coefficients[\"const\",\"Estimate\"],summary(var_bekk6)$varresult$chfgbp$coefficients[\"const\",\"Estimate\"],\n",
    "                                   summary(var_bekk6)$varresult$lc$coefficients[\"lc.l1\",\"Estimate\"],summary(var_bekk6)$varresult$lc$coefficients[\"chfgbp.l1\",\"Estimate\"],\n",
    "                                   summary(var_bekk6)$varresult$lc$coefficients[\"lc.l2\",\"Estimate\"],summary(var_bekk6)$varresult$lc$coefficients[\"chfgbp.l2\",\"Estimate\"],\n",
    "                                   summary(var_bekk6)$varresult$lc$coefficients[\"lc.l3\",\"Estimate\"],summary(var_bekk6)$varresult$lc$coefficients[\"chfgbp.l3\",\"Estimate\"],\n",
    "                                   summary(var_bekk6)$varresult$lc$coefficients[\"lc.l4\",\"Estimate\"],summary(var_bekk6)$varresult$lc$coefficients[\"chfgbp.l4\",\"Estimate\"],\n",
    "                                   summary(var_bekk6)$varresult$chfgbp$coefficients[\"lc.l1\",\"Estimate\"],summary(var_bekk6)$varresult$chfgbp$coefficients[\"chfgbp.l1\",\"Estimate\"],\n",
    "                                   summary(var_bekk6)$varresult$chfgbp$coefficients[\"lc.l2\",\"Estimate\"],summary(var_bekk6)$varresult$chfgbp$coefficients[\"chfgbp.l2\",\"Estimate\"],\n",
    "                                   summary(var_bekk6)$varresult$chfgbp$coefficients[\"lc.l3\",\"Estimate\"],summary(var_bekk6)$varresult$chfgbp$coefficients[\"chfgbp.l3\",\"Estimate\"],\n",
    "                                   summary(var_bekk6)$varresult$chfgbp$coefficients[\"lc.l4\",\"Estimate\"],summary(var_bekk6)$varresult$chfgbp$coefficients[\"chfgbp.l4\",\"Estimate\"],\n",
    "                                   bekk6_fit$A[1,1],bekk6_fit$A[1,2],bekk6_fit$A[2,1],bekk6_fit$A[2,2],bekk6_fit$G[1,1],bekk6_fit$G[1,2],bekk6_fit$G[2,1],bekk6_fit$G[2,2]),\n",
    "                   Std_error = c(summary(var_bekk6)$varresult$lc$coefficients[\"const\",\"Std. Error\"],summary(var_bekk6)$varresult$chfgbp$coefficients[\"const\",\"Std. Error\"],\n",
    "                                   summary(var_bekk6)$varresult$lc$coefficients[\"lc.l1\",\"Std. Error\"],summary(var_bekk6)$varresult$lc$coefficients[\"chfgbp.l1\",\"Std. Error\"],\n",
    "                                   summary(var_bekk6)$varresult$lc$coefficients[\"lc.l2\",\"Std. Error\"],summary(var_bekk6)$varresult$lc$coefficients[\"chfgbp.l2\",\"Std. Error\"],\n",
    "                                   summary(var_bekk6)$varresult$lc$coefficients[\"lc.l3\",\"Std. Error\"],summary(var_bekk6)$varresult$lc$coefficients[\"chfgbp.l3\",\"Std. Error\"],\n",
    "                                   summary(var_bekk6)$varresult$lc$coefficients[\"lc.l4\",\"Std. Error\"],summary(var_bekk6)$varresult$lc$coefficients[\"chfgbp.l4\",\"Std. Error\"],\n",
    "                                   summary(var_bekk6)$varresult$chfgbp$coefficients[\"lc.l1\",\"Std. Error\"],summary(var_bekk6)$varresult$chfgbp$coefficients[\"chfgbp.l1\",\"Std. Error\"],\n",
    "                                   summary(var_bekk6)$varresult$chfgbp$coefficients[\"lc.l2\",\"Std. Error\"],summary(var_bekk6)$varresult$chfgbp$coefficients[\"chfgbp.l2\",\"Std. Error\"],\n",
    "                                   summary(var_bekk6)$varresult$chfgbp$coefficients[\"lc.l3\",\"Std. Error\"],summary(var_bekk6)$varresult$chfgbp$coefficients[\"chfgbp.l3\",\"Std. Error\"],\n",
    "                                   summary(var_bekk6)$varresult$chfgbp$coefficients[\"lc.l4\",\"Std. Error\"],summary(var_bekk6)$varresult$chfgbp$coefficients[\"chfgbp.l4\",\"Std. Error\"],\n",
    "                                   bekk6_fit$A_sd[1,1],bekk6_fit$A_sd[1,2],bekk6_fit$A_sd[2,1],bekk6_fit$A_sd[2,2],bekk6_fit$G_sd[1,1],bekk6_fit$G_sd[1,2],bekk6_fit$G_sd[2,1],bekk6_fit$G_sd[2,2]),\n",
    "                   T_value = c(summary(var_bekk6)$varresult$lc$coefficients[\"const\",\"t value\"],summary(var_bekk6)$varresult$chfgbp$coefficients[\"const\",\"t value\"],\n",
    "                                   summary(var_bekk6)$varresult$lc$coefficients[\"lc.l1\",\"t value\"],summary(var_bekk6)$varresult$lc$coefficients[\"chfgbp.l1\",\"t value\"],\n",
    "                                   summary(var_bekk6)$varresult$lc$coefficients[\"lc.l2\",\"t value\"],summary(var_bekk6)$varresult$lc$coefficients[\"chfgbp.l2\",\"t value\"],\n",
    "                                   summary(var_bekk6)$varresult$lc$coefficients[\"lc.l3\",\"t value\"],summary(var_bekk6)$varresult$lc$coefficients[\"chfgbp.l3\",\"t value\"],\n",
    "                                   summary(var_bekk6)$varresult$lc$coefficients[\"lc.l4\",\"t value\"],summary(var_bekk6)$varresult$lc$coefficients[\"chfgbp.l4\",\"t value\"],\n",
    "                                   summary(var_bekk6)$varresult$chfgbp$coefficients[\"lc.l1\",\"t value\"],summary(var_bekk6)$varresult$chfgbp$coefficients[\"chfgbp.l1\",\"t value\"],\n",
    "                                   summary(var_bekk6)$varresult$chfgbp$coefficients[\"lc.l2\",\"t value\"],summary(var_bekk6)$varresult$chfgbp$coefficients[\"chfgbp.l2\",\"t value\"],\n",
    "                                   summary(var_bekk6)$varresult$chfgbp$coefficients[\"lc.l3\",\"t value\"],summary(var_bekk6)$varresult$chfgbp$coefficients[\"chfgbp.l3\",\"t value\"],\n",
    "                                   summary(var_bekk6)$varresult$chfgbp$coefficients[\"lc.l4\",\"t value\"],summary(var_bekk6)$varresult$chfgbp$coefficients[\"chfgbp.l4\",\"t value\"],\n",
    "                                   bekk6_fit$A_t[1,1],bekk6_fit$A_t[1,2],bekk6_fit$A_t[2,1],bekk6_fit$A_t[2,2],bekk6_fit$G_t[1,1],bekk6_fit$G_t[1,2],bekk6_fit$G_t[2,1],bekk6_fit$G_t[2,2]))\n",
    "\n",
    "bekk6$Significant_at_5p_level[abs(bekk6$T_value) >= 2.58 ] <- \"Stat significant at 1%\"\n",
    "bekk6$Significant_at_5p_level[abs(bekk6$T_value) > 1.96 & abs(bekk6$T_value) < 2.58] <- \"Stat significant at 5%\"\n",
    "bekk6$Significant_at_5p_level[abs(bekk6$T_value) > 1.645 & abs(bekk6$T_value) <= 1.96 ] <- \"Stat significant at 10%\"\n",
    "bekk6$Significant_at_5p_level[abs(bekk6$T_value) <= 1.645] <- \"Not Statistically Significant\"\n",
    "bekk6"
   ]
  },
  {
   "cell_type": "code",
   "execution_count": 79,
   "id": "ba20d5e8-4d3e-4a76-a2de-4cdddda2994a",
   "metadata": {},
   "outputs": [
    {
     "data": {
      "text/plain": [
       "\n",
       "\tGranger causality H0: lc do not Granger-cause chfgbp\n",
       "\n",
       "data:  VAR object var_bekk6\n",
       "F-Test = 2.6352, df1 = 4, df2 = 2072, p-value = 0.03253\n"
      ]
     },
     "metadata": {},
     "output_type": "display_data"
    },
    {
     "data": {
      "text/plain": [
       "\n",
       "\tGranger causality H0: chfgbp do not Granger-cause lc\n",
       "\n",
       "data:  VAR object var_bekk6\n",
       "F-Test = 0.45244, df1 = 4, df2 = 2072, p-value = 0.7707\n"
      ]
     },
     "metadata": {},
     "output_type": "display_data"
    }
   ],
   "source": [
    "causality(var_bekk6,cause = \"lc\")$Granger\n",
    "causality(var_bekk6,cause = \"chfgbp\")$Granger"
   ]
  },
  {
   "cell_type": "markdown",
   "id": "bf4984da-5407-49e5-b547-0fc0e4f0514b",
   "metadata": {},
   "source": [
    "## (d) VAR-BEKK Model for London Cocoa - GHSGBP"
   ]
  },
  {
   "cell_type": "code",
   "execution_count": 80,
   "id": "8da7af79-1643-4209-baed-262826556fea",
   "metadata": {},
   "outputs": [
    {
     "data": {
      "text/plain": [
       "                     lc       ghsgbp\n",
       "2020-02-03 -0.005089070  0.025123068\n",
       "2020-02-04  0.000000000  0.005584836\n",
       "2020-02-05  0.019202207 -0.001560331\n",
       "2020-02-06  0.015889113  0.002799130\n",
       "2020-02-07  0.007361996  0.004971314\n",
       "2020-02-10 -0.002447982 -0.001110366"
      ]
     },
     "metadata": {},
     "output_type": "display_data"
    },
    {
     "data": {
      "text/plain": [
       "                    lc        ghsgbp\n",
       "2024-04-26 -0.02951879 -0.0018400829\n",
       "2024-04-29 -0.15652942 -0.0101599929\n",
       "2024-04-30  0.03216783  0.0042437477\n",
       "2024-05-01 -0.08952546 -0.0050328783\n",
       "2024-05-02 -0.10077335 -0.0041962674\n",
       "2024-05-03  0.04940746  0.0004565954"
      ]
     },
     "metadata": {},
     "output_type": "display_data"
    }
   ],
   "source": [
    "bekk8data <- na.omit(merge(cr_d[,2],fr_d[,8]))\n",
    "head(bekk8data)\n",
    "tail(bekk8data)"
   ]
  },
  {
   "cell_type": "code",
   "execution_count": 81,
   "id": "fd4f05a8-7678-429b-95e6-1225e724398c",
   "metadata": {},
   "outputs": [
    {
     "data": {
      "text/html": [
       "<dl>\n",
       "\t<dt>$selection</dt>\n",
       "\t\t<dd><style>\n",
       ".dl-inline {width: auto; margin:0; padding: 0}\n",
       ".dl-inline>dt, .dl-inline>dd {float: none; width: auto; display: inline-block}\n",
       ".dl-inline>dt::after {content: \":\\0020\"; padding-right: .5ex}\n",
       ".dl-inline>dt:not(:first-of-type) {padding-left: .5ex}\n",
       "</style><dl class=dl-inline><dt>AIC(n)</dt><dd>4</dd><dt>HQ(n)</dt><dd>4</dd><dt>SC(n)</dt><dd>2</dd><dt>FPE(n)</dt><dd>4</dd></dl>\n",
       "</dd>\n",
       "\t<dt>$criteria</dt>\n",
       "\t\t<dd><table class=\"dataframe\">\n",
       "<caption>A matrix: 4 × 10 of type dbl</caption>\n",
       "<thead>\n",
       "\t<tr><th></th><th scope=col>1</th><th scope=col>2</th><th scope=col>3</th><th scope=col>4</th><th scope=col>5</th><th scope=col>6</th><th scope=col>7</th><th scope=col>8</th><th scope=col>9</th><th scope=col>10</th></tr>\n",
       "</thead>\n",
       "<tbody>\n",
       "\t<tr><th scope=row>AIC(n)</th><td>-1.674173e+01</td><td>-1.676176e+01</td><td>-1.676749e+01</td><td>-1.677628e+01</td><td>-1.677246e+01</td><td>-1.677225e+01</td><td>-1.676726e+01</td><td>-1.676289e+01</td><td>-1.675728e+01</td><td>-1.675403e+01</td></tr>\n",
       "\t<tr><th scope=row>HQ(n)</th><td>-1.673090e+01</td><td>-1.674370e+01</td><td>-1.674221e+01</td><td>-1.674378e+01</td><td>-1.673273e+01</td><td>-1.672529e+01</td><td>-1.671308e+01</td><td>-1.670149e+01</td><td>-1.668865e+01</td><td>-1.667819e+01</td></tr>\n",
       "\t<tr><th scope=row>SC(n)</th><td>-1.671317e+01</td><td>-1.671415e+01</td><td>-1.670085e+01</td><td>-1.669060e+01</td><td>-1.666773e+01</td><td>-1.664848e+01</td><td>-1.662445e+01</td><td>-1.660104e+01</td><td>-1.657638e+01</td><td>-1.655410e+01</td></tr>\n",
       "\t<tr><th scope=row>FPE(n)</th><td> 5.359915e-08</td><td> 5.253654e-08</td><td> 5.223616e-08</td><td> 5.177885e-08</td><td> 5.197743e-08</td><td> 5.198852e-08</td><td> 5.224841e-08</td><td> 5.247710e-08</td><td> 5.277288e-08</td><td> 5.294445e-08</td></tr>\n",
       "</tbody>\n",
       "</table>\n",
       "</dd>\n",
       "</dl>\n"
      ],
      "text/latex": [
       "\\begin{description}\n",
       "\\item[\\$selection] \\begin{description*}\n",
       "\\item[AIC(n)] 4\n",
       "\\item[HQ(n)] 4\n",
       "\\item[SC(n)] 2\n",
       "\\item[FPE(n)] 4\n",
       "\\end{description*}\n",
       "\n",
       "\\item[\\$criteria] A matrix: 4 × 10 of type dbl\n",
       "\\begin{tabular}{r|llllllllll}\n",
       "  & 1 & 2 & 3 & 4 & 5 & 6 & 7 & 8 & 9 & 10\\\\\n",
       "\\hline\n",
       "\tAIC(n) & -1.674173e+01 & -1.676176e+01 & -1.676749e+01 & -1.677628e+01 & -1.677246e+01 & -1.677225e+01 & -1.676726e+01 & -1.676289e+01 & -1.675728e+01 & -1.675403e+01\\\\\n",
       "\tHQ(n) & -1.673090e+01 & -1.674370e+01 & -1.674221e+01 & -1.674378e+01 & -1.673273e+01 & -1.672529e+01 & -1.671308e+01 & -1.670149e+01 & -1.668865e+01 & -1.667819e+01\\\\\n",
       "\tSC(n) & -1.671317e+01 & -1.671415e+01 & -1.670085e+01 & -1.669060e+01 & -1.666773e+01 & -1.664848e+01 & -1.662445e+01 & -1.660104e+01 & -1.657638e+01 & -1.655410e+01\\\\\n",
       "\tFPE(n) &  5.359915e-08 &  5.253654e-08 &  5.223616e-08 &  5.177885e-08 &  5.197743e-08 &  5.198852e-08 &  5.224841e-08 &  5.247710e-08 &  5.277288e-08 &  5.294445e-08\\\\\n",
       "\\end{tabular}\n",
       "\n",
       "\\end{description}\n"
      ],
      "text/markdown": [
       "$selection\n",
       ":   AIC(n)\n",
       ":   4HQ(n)\n",
       ":   4SC(n)\n",
       ":   2FPE(n)\n",
       ":   4\n",
       "\n",
       "\n",
       "$criteria\n",
       ":   \n",
       "A matrix: 4 × 10 of type dbl\n",
       "\n",
       "| <!--/--> | 1 | 2 | 3 | 4 | 5 | 6 | 7 | 8 | 9 | 10 |\n",
       "|---|---|---|---|---|---|---|---|---|---|---|\n",
       "| AIC(n) | -1.674173e+01 | -1.676176e+01 | -1.676749e+01 | -1.677628e+01 | -1.677246e+01 | -1.677225e+01 | -1.676726e+01 | -1.676289e+01 | -1.675728e+01 | -1.675403e+01 |\n",
       "| HQ(n) | -1.673090e+01 | -1.674370e+01 | -1.674221e+01 | -1.674378e+01 | -1.673273e+01 | -1.672529e+01 | -1.671308e+01 | -1.670149e+01 | -1.668865e+01 | -1.667819e+01 |\n",
       "| SC(n) | -1.671317e+01 | -1.671415e+01 | -1.670085e+01 | -1.669060e+01 | -1.666773e+01 | -1.664848e+01 | -1.662445e+01 | -1.660104e+01 | -1.657638e+01 | -1.655410e+01 |\n",
       "| FPE(n) |  5.359915e-08 |  5.253654e-08 |  5.223616e-08 |  5.177885e-08 |  5.197743e-08 |  5.198852e-08 |  5.224841e-08 |  5.247710e-08 |  5.277288e-08 |  5.294445e-08 |\n",
       "\n",
       "\n",
       "\n",
       "\n"
      ],
      "text/plain": [
       "$selection\n",
       "AIC(n)  HQ(n)  SC(n) FPE(n) \n",
       "     4      4      2      4 \n",
       "\n",
       "$criteria\n",
       "                   1             2             3             4             5\n",
       "AIC(n) -1.674173e+01 -1.676176e+01 -1.676749e+01 -1.677628e+01 -1.677246e+01\n",
       "HQ(n)  -1.673090e+01 -1.674370e+01 -1.674221e+01 -1.674378e+01 -1.673273e+01\n",
       "SC(n)  -1.671317e+01 -1.671415e+01 -1.670085e+01 -1.669060e+01 -1.666773e+01\n",
       "FPE(n)  5.359915e-08  5.253654e-08  5.223616e-08  5.177885e-08  5.197743e-08\n",
       "                   6             7             8             9            10\n",
       "AIC(n) -1.677225e+01 -1.676726e+01 -1.676289e+01 -1.675728e+01 -1.675403e+01\n",
       "HQ(n)  -1.672529e+01 -1.671308e+01 -1.670149e+01 -1.668865e+01 -1.667819e+01\n",
       "SC(n)  -1.664848e+01 -1.662445e+01 -1.660104e+01 -1.657638e+01 -1.655410e+01\n",
       "FPE(n)  5.198852e-08  5.224841e-08  5.247710e-08  5.277288e-08  5.294445e-08\n"
      ]
     },
     "metadata": {},
     "output_type": "display_data"
    }
   ],
   "source": [
    "VARselect(bekk8data,type = \"const\")"
   ]
  },
  {
   "cell_type": "code",
   "execution_count": 82,
   "id": "c31af607-fefc-4fb1-b355-4d289aa107a8",
   "metadata": {},
   "outputs": [],
   "source": [
    "var_bekk8<-VAR(bekk8data,p = 4,type = \"const\")\n",
    "res_bekk8 <- residuals(var_bekk8)\n",
    "res_bekk8 <- as.data.frame(res_bekk8)"
   ]
  },
  {
   "cell_type": "code",
   "execution_count": 83,
   "id": "9a2d9540-4faa-43cd-9a4c-3e84e91e168d",
   "metadata": {},
   "outputs": [
    {
     "data": {
      "text/plain": [
       "\n",
       "VAR Estimation Results:\n",
       "========================= \n",
       "Endogenous variables: lc, ghsgbp \n",
       "Deterministic variables: const \n",
       "Sample size: 1045 \n",
       "Log Likelihood: 5822.864 \n",
       "Roots of the characteristic polynomial:\n",
       "0.5667 0.5667 0.5431 0.5431 0.5416 0.5416 0.505 0.286\n",
       "Call:\n",
       "VAR(y = bekk8data, p = 4, type = \"const\")\n",
       "\n",
       "\n",
       "Estimation results for equation lc: \n",
       "=================================== \n",
       "lc = lc.l1 + ghsgbp.l1 + lc.l2 + ghsgbp.l2 + lc.l3 + ghsgbp.l3 + lc.l4 + ghsgbp.l4 + const \n",
       "\n",
       "            Estimate Std. Error t value Pr(>|t|)   \n",
       "lc.l1      0.1000931  0.0310762   3.221  0.00132 **\n",
       "ghsgbp.l1 -0.0144869  0.0367237  -0.394  0.69330   \n",
       "lc.l2     -0.0101741  0.0318254  -0.320  0.74927   \n",
       "ghsgbp.l2 -0.0520419  0.0366424  -1.420  0.15583   \n",
       "lc.l3      0.0293684  0.0322470   0.911  0.36265   \n",
       "ghsgbp.l3  0.0290613  0.0366335   0.793  0.42779   \n",
       "lc.l4      0.0936026  0.0321913   2.908  0.00372 **\n",
       "ghsgbp.l4  0.0737984  0.0365911   2.017  0.04397 * \n",
       "const      0.0008778  0.0005116   1.716  0.08650 . \n",
       "---\n",
       "Signif. codes:  0 ‘***’ 0.001 ‘**’ 0.01 ‘*’ 0.05 ‘.’ 0.1 ‘ ’ 1\n",
       "\n",
       "\n",
       "Residual standard error: 0.01631 on 1036 degrees of freedom\n",
       "Multiple R-Squared: 0.02573,\tAdjusted R-squared: 0.0182 \n",
       "F-statistic:  3.42 on 8 and 1036 DF,  p-value: 0.0006851 \n",
       "\n",
       "\n",
       "Estimation results for equation ghsgbp: \n",
       "======================================= \n",
       "ghsgbp = lc.l1 + ghsgbp.l1 + lc.l2 + ghsgbp.l2 + lc.l3 + ghsgbp.l3 + lc.l4 + ghsgbp.l4 + const \n",
       "\n",
       "            Estimate Std. Error t value Pr(>|t|)    \n",
       "lc.l1     -0.0506843  0.0262569  -1.930 0.053840 .  \n",
       "ghsgbp.l1  0.0878059  0.0310286   2.830 0.004747 ** \n",
       "lc.l2      0.0231793  0.0268898   0.862 0.388882    \n",
       "ghsgbp.l2  0.1554678  0.0309599   5.022 6.03e-07 ***\n",
       "lc.l3     -0.0189518  0.0272461  -0.696 0.486848    \n",
       "ghsgbp.l3  0.1077686  0.0309524   3.482 0.000519 ***\n",
       "lc.l4     -0.0165946  0.0271991  -0.610 0.541918    \n",
       "ghsgbp.l4 -0.0559513  0.0309166  -1.810 0.070624 .  \n",
       "const     -0.0005617  0.0004323  -1.299 0.194106    \n",
       "---\n",
       "Signif. codes:  0 ‘***’ 0.001 ‘**’ 0.01 ‘*’ 0.05 ‘.’ 0.1 ‘ ’ 1\n",
       "\n",
       "\n",
       "Residual standard error: 0.01378 on 1036 degrees of freedom\n",
       "Multiple R-Squared: 0.05659,\tAdjusted R-squared: 0.0493 \n",
       "F-statistic: 7.768 on 8 and 1036 DF,  p-value: 3.677e-10 \n",
       "\n",
       "\n",
       "\n",
       "Covariance matrix of residuals:\n",
       "              lc    ghsgbp\n",
       "lc     2.660e-04 8.236e-06\n",
       "ghsgbp 8.236e-06 1.899e-04\n",
       "\n",
       "Correlation matrix of residuals:\n",
       "            lc  ghsgbp\n",
       "lc     1.00000 0.03665\n",
       "ghsgbp 0.03665 1.00000\n",
       "\n"
      ]
     },
     "metadata": {},
     "output_type": "display_data"
    }
   ],
   "source": [
    "summary(var_bekk8)"
   ]
  },
  {
   "cell_type": "code",
   "execution_count": 84,
   "id": "6befa843-dc69-47c2-aaa2-a1c01d29fc59",
   "metadata": {},
   "outputs": [
    {
     "name": "stdout",
     "output_type": "stream",
     "text": [
      " Date[1:1045], format: \"2020-02-07\" \"2020-02-10\" \"2020-02-11\" \"2020-02-12\" \"2020-02-13\" ...\n"
     ]
    }
   ],
   "source": [
    "ind_var8 <- index(bekk8data)[-c(1:4)]\n",
    "str(ind_var8)"
   ]
  },
  {
   "cell_type": "code",
   "execution_count": 85,
   "id": "4b15aed3-cbd8-41bd-91e6-d416e7c4da11",
   "metadata": {},
   "outputs": [],
   "source": [
    "res_bekk8 <- xts(res_bekk8,order.by = ind_var8)\n",
    "bekk_spec <- bekk_spec(model = list(type = \"bekk\",asymmetric = F))\n",
    "bekk8_fit <- bekk_fit(spec = bekk_spec,data = res_bekk8)"
   ]
  },
  {
   "cell_type": "code",
   "execution_count": 86,
   "id": "46351d25-e4da-4015-bfb8-158143202635",
   "metadata": {},
   "outputs": [
    {
     "data": {
      "text/html": [
       "<table class=\"dataframe\">\n",
       "<caption>A matrix: 2 × 2 of type dbl</caption>\n",
       "<tbody>\n",
       "\t<tr><td>0.190126213</td><td>-0.01399911</td></tr>\n",
       "\t<tr><td>0.006686038</td><td> 0.54046104</td></tr>\n",
       "</tbody>\n",
       "</table>\n"
      ],
      "text/latex": [
       "A matrix: 2 × 2 of type dbl\n",
       "\\begin{tabular}{ll}\n",
       "\t 0.190126213 & -0.01399911\\\\\n",
       "\t 0.006686038 &  0.54046104\\\\\n",
       "\\end{tabular}\n"
      ],
      "text/markdown": [
       "\n",
       "A matrix: 2 × 2 of type dbl\n",
       "\n",
       "| 0.190126213 | -0.01399911 |\n",
       "| 0.006686038 |  0.54046104 |\n",
       "\n"
      ],
      "text/plain": [
       "     [,1]        [,2]       \n",
       "[1,] 0.190126213 -0.01399911\n",
       "[2,] 0.006686038  0.54046104"
      ]
     },
     "metadata": {},
     "output_type": "display_data"
    },
    {
     "data": {
      "text/html": [
       "<table class=\"dataframe\">\n",
       "<caption>A matrix: 2 × 2 of type dbl</caption>\n",
       "<tbody>\n",
       "\t<tr><td>12.6954898</td><td>-1.042015</td></tr>\n",
       "\t<tr><td> 0.4191365</td><td>22.134929</td></tr>\n",
       "</tbody>\n",
       "</table>\n"
      ],
      "text/latex": [
       "A matrix: 2 × 2 of type dbl\n",
       "\\begin{tabular}{ll}\n",
       "\t 12.6954898 & -1.042015\\\\\n",
       "\t  0.4191365 & 22.134929\\\\\n",
       "\\end{tabular}\n"
      ],
      "text/markdown": [
       "\n",
       "A matrix: 2 × 2 of type dbl\n",
       "\n",
       "| 12.6954898 | -1.042015 |\n",
       "|  0.4191365 | 22.134929 |\n",
       "\n"
      ],
      "text/plain": [
       "     [,1]       [,2]     \n",
       "[1,] 12.6954898 -1.042015\n",
       "[2,]  0.4191365 22.134929"
      ]
     },
     "metadata": {},
     "output_type": "display_data"
    },
    {
     "data": {
      "text/html": [
       "<table class=\"dataframe\">\n",
       "<caption>A matrix: 2 × 2 of type dbl</caption>\n",
       "<tbody>\n",
       "\t<tr><td> 0.980505793</td><td>0.007636664</td></tr>\n",
       "\t<tr><td>-0.002062382</td><td>0.841371429</td></tr>\n",
       "</tbody>\n",
       "</table>\n"
      ],
      "text/latex": [
       "A matrix: 2 × 2 of type dbl\n",
       "\\begin{tabular}{ll}\n",
       "\t  0.980505793 & 0.007636664\\\\\n",
       "\t -0.002062382 & 0.841371429\\\\\n",
       "\\end{tabular}\n"
      ],
      "text/markdown": [
       "\n",
       "A matrix: 2 × 2 of type dbl\n",
       "\n",
       "|  0.980505793 | 0.007636664 |\n",
       "| -0.002062382 | 0.841371429 |\n",
       "\n"
      ],
      "text/plain": [
       "     [,1]         [,2]       \n",
       "[1,]  0.980505793 0.007636664\n",
       "[2,] -0.002062382 0.841371429"
      ]
     },
     "metadata": {},
     "output_type": "display_data"
    },
    {
     "data": {
      "text/html": [
       "<table class=\"dataframe\">\n",
       "<caption>A matrix: 2 × 2 of type dbl</caption>\n",
       "<tbody>\n",
       "\t<tr><td>211.8239750</td><td> 1.038077</td></tr>\n",
       "\t<tr><td> -0.2126507</td><td>72.375853</td></tr>\n",
       "</tbody>\n",
       "</table>\n"
      ],
      "text/latex": [
       "A matrix: 2 × 2 of type dbl\n",
       "\\begin{tabular}{ll}\n",
       "\t 211.8239750 &  1.038077\\\\\n",
       "\t  -0.2126507 & 72.375853\\\\\n",
       "\\end{tabular}\n"
      ],
      "text/markdown": [
       "\n",
       "A matrix: 2 × 2 of type dbl\n",
       "\n",
       "| 211.8239750 |  1.038077 |\n",
       "|  -0.2126507 | 72.375853 |\n",
       "\n"
      ],
      "text/plain": [
       "     [,1]        [,2]     \n",
       "[1,] 211.8239750  1.038077\n",
       "[2,]  -0.2126507 72.375853"
      ]
     },
     "metadata": {},
     "output_type": "display_data"
    }
   ],
   "source": [
    "bekk8_fit$A\n",
    "bekk8_fit$A_t\n",
    "bekk8_fit$G\n",
    "bekk8_fit$G_t"
   ]
  },
  {
   "cell_type": "markdown",
   "id": "f385eedd-b954-418c-a9ca-3013fd0da9c9",
   "metadata": {},
   "source": [
    "### VAR-BEKK Model Table for London Cocoa - GHSGBP"
   ]
  },
  {
   "cell_type": "code",
   "execution_count": 87,
   "id": "ec6ac25e-6fc4-4b16-9975-318f32ad450b",
   "metadata": {},
   "outputs": [
    {
     "data": {
      "text/html": [
       "<table class=\"dataframe\">\n",
       "<caption>A data.frame: 26 × 5</caption>\n",
       "<thead>\n",
       "\t<tr><th scope=col>Parameters</th><th scope=col>Coefficient</th><th scope=col>Std_error</th><th scope=col>T_value</th><th scope=col>Significant_at_5p_level</th></tr>\n",
       "\t<tr><th scope=col>&lt;chr&gt;</th><th scope=col>&lt;dbl&gt;</th><th scope=col>&lt;dbl&gt;</th><th scope=col>&lt;dbl&gt;</th><th scope=col>&lt;chr&gt;</th></tr>\n",
       "</thead>\n",
       "<tbody>\n",
       "\t<tr><td>mu10 </td><td> 0.0008777824</td><td>0.0005115890</td><td>  1.7157959</td><td>Stat significant at 10%      </td></tr>\n",
       "\t<tr><td>mu20 </td><td>-0.0005616539</td><td>0.0004322514</td><td> -1.2993687</td><td>Not Statistically Significant</td></tr>\n",
       "\t<tr><td>phi11</td><td> 0.1000931401</td><td>0.0310762436</td><td>  3.2208893</td><td>Stat significant at 1%       </td></tr>\n",
       "\t<tr><td>phi12</td><td>-0.0144869442</td><td>0.0367236960</td><td> -0.3944849</td><td>Not Statistically Significant</td></tr>\n",
       "\t<tr><td>phi13</td><td>-0.0101741202</td><td>0.0318253502</td><td> -0.3196860</td><td>Not Statistically Significant</td></tr>\n",
       "\t<tr><td>phi14</td><td>-0.0520419046</td><td>0.0366424478</td><td> -1.4202628</td><td>Not Statistically Significant</td></tr>\n",
       "\t<tr><td>phi15</td><td> 0.0293683519</td><td>0.0322469851</td><td>  0.9107317</td><td>Not Statistically Significant</td></tr>\n",
       "\t<tr><td>phi16</td><td> 0.0290613138</td><td>0.0366335487</td><td>  0.7932978</td><td>Not Statistically Significant</td></tr>\n",
       "\t<tr><td>phi17</td><td> 0.0936025694</td><td>0.0321913280</td><td>  2.9076952</td><td>Stat significant at 1%       </td></tr>\n",
       "\t<tr><td>phi18</td><td> 0.0737983535</td><td>0.0365911422</td><td>  2.0168366</td><td>Stat significant at 5%       </td></tr>\n",
       "\t<tr><td>phi21</td><td>-0.0506842828</td><td>0.0262569123</td><td> -1.9303215</td><td>Stat significant at 10%      </td></tr>\n",
       "\t<tr><td>phi22</td><td> 0.0878058754</td><td>0.0310285529</td><td>  2.8298411</td><td>Stat significant at 1%       </td></tr>\n",
       "\t<tr><td>phi23</td><td> 0.0231792835</td><td>0.0268898469</td><td>  0.8620088</td><td>Not Statistically Significant</td></tr>\n",
       "\t<tr><td>phi24</td><td> 0.1554677635</td><td>0.0309599048</td><td>  5.0215840</td><td>Stat significant at 1%       </td></tr>\n",
       "\t<tr><td>phi25</td><td>-0.0189518451</td><td>0.0272460943</td><td> -0.6955803</td><td>Not Statistically Significant</td></tr>\n",
       "\t<tr><td>phi26</td><td> 0.1077685994</td><td>0.0309523857</td><td>  3.4817542</td><td>Stat significant at 1%       </td></tr>\n",
       "\t<tr><td>phi27</td><td>-0.0165946040</td><td>0.0271990685</td><td> -0.6101166</td><td>Not Statistically Significant</td></tr>\n",
       "\t<tr><td>phi28</td><td>-0.0559513263</td><td>0.0309165556</td><td> -1.8097529</td><td>Stat significant at 10%      </td></tr>\n",
       "\t<tr><td>a11  </td><td> 0.1901262129</td><td>0.0149758864</td><td> 12.6954898</td><td>Stat significant at 1%       </td></tr>\n",
       "\t<tr><td>a12  </td><td>-0.0139991102</td><td>0.0134346530</td><td> -1.0420150</td><td>Not Statistically Significant</td></tr>\n",
       "\t<tr><td>a21  </td><td> 0.0066860382</td><td>0.0159519334</td><td>  0.4191365</td><td>Not Statistically Significant</td></tr>\n",
       "\t<tr><td>a22  </td><td> 0.5404610450</td><td>0.0244166606</td><td> 22.1349288</td><td>Stat significant at 1%       </td></tr>\n",
       "\t<tr><td>g11  </td><td> 0.9805057934</td><td>0.0046288707</td><td>211.8239750</td><td>Stat significant at 1%       </td></tr>\n",
       "\t<tr><td>g12  </td><td> 0.0076366637</td><td>0.0073565462</td><td>  1.0380773</td><td>Not Statistically Significant</td></tr>\n",
       "\t<tr><td>g21  </td><td>-0.0020623822</td><td>0.0096984489</td><td> -0.2126507</td><td>Not Statistically Significant</td></tr>\n",
       "\t<tr><td>g22  </td><td> 0.8413714289</td><td>0.0116250295</td><td> 72.3758534</td><td>Stat significant at 1%       </td></tr>\n",
       "</tbody>\n",
       "</table>\n"
      ],
      "text/latex": [
       "A data.frame: 26 × 5\n",
       "\\begin{tabular}{lllll}\n",
       " Parameters & Coefficient & Std\\_error & T\\_value & Significant\\_at\\_5p\\_level\\\\\n",
       " <chr> & <dbl> & <dbl> & <dbl> & <chr>\\\\\n",
       "\\hline\n",
       "\t mu10  &  0.0008777824 & 0.0005115890 &   1.7157959 & Stat significant at 10\\%      \\\\\n",
       "\t mu20  & -0.0005616539 & 0.0004322514 &  -1.2993687 & Not Statistically Significant\\\\\n",
       "\t phi11 &  0.1000931401 & 0.0310762436 &   3.2208893 & Stat significant at 1\\%       \\\\\n",
       "\t phi12 & -0.0144869442 & 0.0367236960 &  -0.3944849 & Not Statistically Significant\\\\\n",
       "\t phi13 & -0.0101741202 & 0.0318253502 &  -0.3196860 & Not Statistically Significant\\\\\n",
       "\t phi14 & -0.0520419046 & 0.0366424478 &  -1.4202628 & Not Statistically Significant\\\\\n",
       "\t phi15 &  0.0293683519 & 0.0322469851 &   0.9107317 & Not Statistically Significant\\\\\n",
       "\t phi16 &  0.0290613138 & 0.0366335487 &   0.7932978 & Not Statistically Significant\\\\\n",
       "\t phi17 &  0.0936025694 & 0.0321913280 &   2.9076952 & Stat significant at 1\\%       \\\\\n",
       "\t phi18 &  0.0737983535 & 0.0365911422 &   2.0168366 & Stat significant at 5\\%       \\\\\n",
       "\t phi21 & -0.0506842828 & 0.0262569123 &  -1.9303215 & Stat significant at 10\\%      \\\\\n",
       "\t phi22 &  0.0878058754 & 0.0310285529 &   2.8298411 & Stat significant at 1\\%       \\\\\n",
       "\t phi23 &  0.0231792835 & 0.0268898469 &   0.8620088 & Not Statistically Significant\\\\\n",
       "\t phi24 &  0.1554677635 & 0.0309599048 &   5.0215840 & Stat significant at 1\\%       \\\\\n",
       "\t phi25 & -0.0189518451 & 0.0272460943 &  -0.6955803 & Not Statistically Significant\\\\\n",
       "\t phi26 &  0.1077685994 & 0.0309523857 &   3.4817542 & Stat significant at 1\\%       \\\\\n",
       "\t phi27 & -0.0165946040 & 0.0271990685 &  -0.6101166 & Not Statistically Significant\\\\\n",
       "\t phi28 & -0.0559513263 & 0.0309165556 &  -1.8097529 & Stat significant at 10\\%      \\\\\n",
       "\t a11   &  0.1901262129 & 0.0149758864 &  12.6954898 & Stat significant at 1\\%       \\\\\n",
       "\t a12   & -0.0139991102 & 0.0134346530 &  -1.0420150 & Not Statistically Significant\\\\\n",
       "\t a21   &  0.0066860382 & 0.0159519334 &   0.4191365 & Not Statistically Significant\\\\\n",
       "\t a22   &  0.5404610450 & 0.0244166606 &  22.1349288 & Stat significant at 1\\%       \\\\\n",
       "\t g11   &  0.9805057934 & 0.0046288707 & 211.8239750 & Stat significant at 1\\%       \\\\\n",
       "\t g12   &  0.0076366637 & 0.0073565462 &   1.0380773 & Not Statistically Significant\\\\\n",
       "\t g21   & -0.0020623822 & 0.0096984489 &  -0.2126507 & Not Statistically Significant\\\\\n",
       "\t g22   &  0.8413714289 & 0.0116250295 &  72.3758534 & Stat significant at 1\\%       \\\\\n",
       "\\end{tabular}\n"
      ],
      "text/markdown": [
       "\n",
       "A data.frame: 26 × 5\n",
       "\n",
       "| Parameters &lt;chr&gt; | Coefficient &lt;dbl&gt; | Std_error &lt;dbl&gt; | T_value &lt;dbl&gt; | Significant_at_5p_level &lt;chr&gt; |\n",
       "|---|---|---|---|---|\n",
       "| mu10  |  0.0008777824 | 0.0005115890 |   1.7157959 | Stat significant at 10%       |\n",
       "| mu20  | -0.0005616539 | 0.0004322514 |  -1.2993687 | Not Statistically Significant |\n",
       "| phi11 |  0.1000931401 | 0.0310762436 |   3.2208893 | Stat significant at 1%        |\n",
       "| phi12 | -0.0144869442 | 0.0367236960 |  -0.3944849 | Not Statistically Significant |\n",
       "| phi13 | -0.0101741202 | 0.0318253502 |  -0.3196860 | Not Statistically Significant |\n",
       "| phi14 | -0.0520419046 | 0.0366424478 |  -1.4202628 | Not Statistically Significant |\n",
       "| phi15 |  0.0293683519 | 0.0322469851 |   0.9107317 | Not Statistically Significant |\n",
       "| phi16 |  0.0290613138 | 0.0366335487 |   0.7932978 | Not Statistically Significant |\n",
       "| phi17 |  0.0936025694 | 0.0321913280 |   2.9076952 | Stat significant at 1%        |\n",
       "| phi18 |  0.0737983535 | 0.0365911422 |   2.0168366 | Stat significant at 5%        |\n",
       "| phi21 | -0.0506842828 | 0.0262569123 |  -1.9303215 | Stat significant at 10%       |\n",
       "| phi22 |  0.0878058754 | 0.0310285529 |   2.8298411 | Stat significant at 1%        |\n",
       "| phi23 |  0.0231792835 | 0.0268898469 |   0.8620088 | Not Statistically Significant |\n",
       "| phi24 |  0.1554677635 | 0.0309599048 |   5.0215840 | Stat significant at 1%        |\n",
       "| phi25 | -0.0189518451 | 0.0272460943 |  -0.6955803 | Not Statistically Significant |\n",
       "| phi26 |  0.1077685994 | 0.0309523857 |   3.4817542 | Stat significant at 1%        |\n",
       "| phi27 | -0.0165946040 | 0.0271990685 |  -0.6101166 | Not Statistically Significant |\n",
       "| phi28 | -0.0559513263 | 0.0309165556 |  -1.8097529 | Stat significant at 10%       |\n",
       "| a11   |  0.1901262129 | 0.0149758864 |  12.6954898 | Stat significant at 1%        |\n",
       "| a12   | -0.0139991102 | 0.0134346530 |  -1.0420150 | Not Statistically Significant |\n",
       "| a21   |  0.0066860382 | 0.0159519334 |   0.4191365 | Not Statistically Significant |\n",
       "| a22   |  0.5404610450 | 0.0244166606 |  22.1349288 | Stat significant at 1%        |\n",
       "| g11   |  0.9805057934 | 0.0046288707 | 211.8239750 | Stat significant at 1%        |\n",
       "| g12   |  0.0076366637 | 0.0073565462 |   1.0380773 | Not Statistically Significant |\n",
       "| g21   | -0.0020623822 | 0.0096984489 |  -0.2126507 | Not Statistically Significant |\n",
       "| g22   |  0.8413714289 | 0.0116250295 |  72.3758534 | Stat significant at 1%        |\n",
       "\n"
      ],
      "text/plain": [
       "   Parameters Coefficient   Std_error    T_value    \n",
       "1  mu10        0.0008777824 0.0005115890   1.7157959\n",
       "2  mu20       -0.0005616539 0.0004322514  -1.2993687\n",
       "3  phi11       0.1000931401 0.0310762436   3.2208893\n",
       "4  phi12      -0.0144869442 0.0367236960  -0.3944849\n",
       "5  phi13      -0.0101741202 0.0318253502  -0.3196860\n",
       "6  phi14      -0.0520419046 0.0366424478  -1.4202628\n",
       "7  phi15       0.0293683519 0.0322469851   0.9107317\n",
       "8  phi16       0.0290613138 0.0366335487   0.7932978\n",
       "9  phi17       0.0936025694 0.0321913280   2.9076952\n",
       "10 phi18       0.0737983535 0.0365911422   2.0168366\n",
       "11 phi21      -0.0506842828 0.0262569123  -1.9303215\n",
       "12 phi22       0.0878058754 0.0310285529   2.8298411\n",
       "13 phi23       0.0231792835 0.0268898469   0.8620088\n",
       "14 phi24       0.1554677635 0.0309599048   5.0215840\n",
       "15 phi25      -0.0189518451 0.0272460943  -0.6955803\n",
       "16 phi26       0.1077685994 0.0309523857   3.4817542\n",
       "17 phi27      -0.0165946040 0.0271990685  -0.6101166\n",
       "18 phi28      -0.0559513263 0.0309165556  -1.8097529\n",
       "19 a11         0.1901262129 0.0149758864  12.6954898\n",
       "20 a12        -0.0139991102 0.0134346530  -1.0420150\n",
       "21 a21         0.0066860382 0.0159519334   0.4191365\n",
       "22 a22         0.5404610450 0.0244166606  22.1349288\n",
       "23 g11         0.9805057934 0.0046288707 211.8239750\n",
       "24 g12         0.0076366637 0.0073565462   1.0380773\n",
       "25 g21        -0.0020623822 0.0096984489  -0.2126507\n",
       "26 g22         0.8413714289 0.0116250295  72.3758534\n",
       "   Significant_at_5p_level      \n",
       "1  Stat significant at 10%      \n",
       "2  Not Statistically Significant\n",
       "3  Stat significant at 1%       \n",
       "4  Not Statistically Significant\n",
       "5  Not Statistically Significant\n",
       "6  Not Statistically Significant\n",
       "7  Not Statistically Significant\n",
       "8  Not Statistically Significant\n",
       "9  Stat significant at 1%       \n",
       "10 Stat significant at 5%       \n",
       "11 Stat significant at 10%      \n",
       "12 Stat significant at 1%       \n",
       "13 Not Statistically Significant\n",
       "14 Stat significant at 1%       \n",
       "15 Not Statistically Significant\n",
       "16 Stat significant at 1%       \n",
       "17 Not Statistically Significant\n",
       "18 Stat significant at 10%      \n",
       "19 Stat significant at 1%       \n",
       "20 Not Statistically Significant\n",
       "21 Not Statistically Significant\n",
       "22 Stat significant at 1%       \n",
       "23 Stat significant at 1%       \n",
       "24 Not Statistically Significant\n",
       "25 Not Statistically Significant\n",
       "26 Stat significant at 1%       "
      ]
     },
     "metadata": {},
     "output_type": "display_data"
    }
   ],
   "source": [
    "bekk8 <- data.frame(Parameters = c(\"mu10\",\"mu20\",\"phi11\",\"phi12\",\"phi13\",\"phi14\",\"phi15\",\"phi16\",\"phi17\",\"phi18\",\"phi21\",\"phi22\",\"phi23\",\"phi24\",\"phi25\",\"phi26\",\"phi27\",\"phi28\",\"a11\",\"a12\",\"a21\",\"a22\",\"g11\",\"g12\",\"g21\",\"g22\"),\n",
    "                   Coefficient = c(summary(var_bekk8)$varresult$lc$coefficients[\"const\",\"Estimate\"],summary(var_bekk8)$varresult$ghsgbp$coefficients[\"const\",\"Estimate\"],\n",
    "                                   summary(var_bekk8)$varresult$lc$coefficients[\"lc.l1\",\"Estimate\"],summary(var_bekk8)$varresult$lc$coefficients[\"ghsgbp.l1\",\"Estimate\"],\n",
    "                                   summary(var_bekk8)$varresult$lc$coefficients[\"lc.l2\",\"Estimate\"],summary(var_bekk8)$varresult$lc$coefficients[\"ghsgbp.l2\",\"Estimate\"],\n",
    "                                   summary(var_bekk8)$varresult$lc$coefficients[\"lc.l3\",\"Estimate\"],summary(var_bekk8)$varresult$lc$coefficients[\"ghsgbp.l3\",\"Estimate\"],\n",
    "                                   summary(var_bekk8)$varresult$lc$coefficients[\"lc.l4\",\"Estimate\"],summary(var_bekk8)$varresult$lc$coefficients[\"ghsgbp.l4\",\"Estimate\"],\n",
    "                                   summary(var_bekk8)$varresult$ghsgbp$coefficients[\"lc.l1\",\"Estimate\"],summary(var_bekk8)$varresult$ghsgbp$coefficients[\"ghsgbp.l1\",\"Estimate\"],\n",
    "                                   summary(var_bekk8)$varresult$ghsgbp$coefficients[\"lc.l2\",\"Estimate\"],summary(var_bekk8)$varresult$ghsgbp$coefficients[\"ghsgbp.l2\",\"Estimate\"],\n",
    "                                   summary(var_bekk8)$varresult$ghsgbp$coefficients[\"lc.l3\",\"Estimate\"],summary(var_bekk8)$varresult$ghsgbp$coefficients[\"ghsgbp.l3\",\"Estimate\"],\n",
    "                                   summary(var_bekk8)$varresult$ghsgbp$coefficients[\"lc.l4\",\"Estimate\"],summary(var_bekk8)$varresult$ghsgbp$coefficients[\"ghsgbp.l4\",\"Estimate\"],\n",
    "                                   bekk8_fit$A[1,1],bekk8_fit$A[1,2],bekk8_fit$A[2,1],bekk8_fit$A[2,2],bekk8_fit$G[1,1],bekk8_fit$G[1,2],bekk8_fit$G[2,1],bekk8_fit$G[2,2]),\n",
    "                   Std_error = c(summary(var_bekk8)$varresult$lc$coefficients[\"const\",\"Std. Error\"],summary(var_bekk8)$varresult$ghsgbp$coefficients[\"const\",\"Std. Error\"],\n",
    "                                   summary(var_bekk8)$varresult$lc$coefficients[\"lc.l1\",\"Std. Error\"],summary(var_bekk8)$varresult$lc$coefficients[\"ghsgbp.l1\",\"Std. Error\"],\n",
    "                                   summary(var_bekk8)$varresult$lc$coefficients[\"lc.l2\",\"Std. Error\"],summary(var_bekk8)$varresult$lc$coefficients[\"ghsgbp.l2\",\"Std. Error\"],\n",
    "                                   summary(var_bekk8)$varresult$lc$coefficients[\"lc.l3\",\"Std. Error\"],summary(var_bekk8)$varresult$lc$coefficients[\"ghsgbp.l3\",\"Std. Error\"],\n",
    "                                   summary(var_bekk8)$varresult$lc$coefficients[\"lc.l4\",\"Std. Error\"],summary(var_bekk8)$varresult$lc$coefficients[\"ghsgbp.l4\",\"Std. Error\"],\n",
    "                                   summary(var_bekk8)$varresult$ghsgbp$coefficients[\"lc.l1\",\"Std. Error\"],summary(var_bekk8)$varresult$ghsgbp$coefficients[\"ghsgbp.l1\",\"Std. Error\"],\n",
    "                                   summary(var_bekk8)$varresult$ghsgbp$coefficients[\"lc.l2\",\"Std. Error\"],summary(var_bekk8)$varresult$ghsgbp$coefficients[\"ghsgbp.l2\",\"Std. Error\"],\n",
    "                                   summary(var_bekk8)$varresult$ghsgbp$coefficients[\"lc.l3\",\"Std. Error\"],summary(var_bekk8)$varresult$ghsgbp$coefficients[\"ghsgbp.l3\",\"Std. Error\"],\n",
    "                                   summary(var_bekk8)$varresult$ghsgbp$coefficients[\"lc.l4\",\"Std. Error\"],summary(var_bekk8)$varresult$ghsgbp$coefficients[\"ghsgbp.l4\",\"Std. Error\"],\n",
    "                                   bekk8_fit$A_sd[1,1],bekk8_fit$A_sd[1,2],bekk8_fit$A_sd[2,1],bekk8_fit$A_sd[2,2],bekk8_fit$G_sd[1,1],bekk8_fit$G_sd[1,2],bekk8_fit$G_sd[2,1],bekk8_fit$G_sd[2,2]),\n",
    "                   T_value = c(summary(var_bekk8)$varresult$lc$coefficients[\"const\",\"t value\"],summary(var_bekk8)$varresult$ghsgbp$coefficients[\"const\",\"t value\"],\n",
    "                                   summary(var_bekk8)$varresult$lc$coefficients[\"lc.l1\",\"t value\"],summary(var_bekk8)$varresult$lc$coefficients[\"ghsgbp.l1\",\"t value\"],\n",
    "                                   summary(var_bekk8)$varresult$lc$coefficients[\"lc.l2\",\"t value\"],summary(var_bekk8)$varresult$lc$coefficients[\"ghsgbp.l2\",\"t value\"],\n",
    "                                   summary(var_bekk8)$varresult$lc$coefficients[\"lc.l3\",\"t value\"],summary(var_bekk8)$varresult$lc$coefficients[\"ghsgbp.l3\",\"t value\"],\n",
    "                                   summary(var_bekk8)$varresult$lc$coefficients[\"lc.l4\",\"t value\"],summary(var_bekk8)$varresult$lc$coefficients[\"ghsgbp.l4\",\"t value\"],\n",
    "                                   summary(var_bekk8)$varresult$ghsgbp$coefficients[\"lc.l1\",\"t value\"],summary(var_bekk8)$varresult$ghsgbp$coefficients[\"ghsgbp.l1\",\"t value\"],\n",
    "                                   summary(var_bekk8)$varresult$ghsgbp$coefficients[\"lc.l2\",\"t value\"],summary(var_bekk8)$varresult$ghsgbp$coefficients[\"ghsgbp.l2\",\"t value\"],\n",
    "                                   summary(var_bekk8)$varresult$ghsgbp$coefficients[\"lc.l3\",\"t value\"],summary(var_bekk8)$varresult$ghsgbp$coefficients[\"ghsgbp.l3\",\"t value\"],\n",
    "                                   summary(var_bekk8)$varresult$ghsgbp$coefficients[\"lc.l4\",\"t value\"],summary(var_bekk8)$varresult$ghsgbp$coefficients[\"ghsgbp.l4\",\"t value\"],\n",
    "                                   bekk8_fit$A_t[1,1],bekk8_fit$A_t[1,2],bekk8_fit$A_t[2,1],bekk8_fit$A_t[2,2],bekk8_fit$G_t[1,1],bekk8_fit$G_t[1,2],bekk8_fit$G_t[2,1],bekk8_fit$G_t[2,2]))\n",
    "\n",
    "bekk8$Significant_at_5p_level[abs(bekk8$T_value) >= 2.58 ] <- \"Stat significant at 1%\"\n",
    "bekk8$Significant_at_5p_level[abs(bekk8$T_value) > 1.96 & abs(bekk8$T_value) < 2.58] <- \"Stat significant at 5%\"\n",
    "bekk8$Significant_at_5p_level[abs(bekk8$T_value) > 1.645 & abs(bekk8$T_value) <= 1.96 ] <- \"Stat significant at 10%\"\n",
    "bekk8$Significant_at_5p_level[abs(bekk8$T_value) <= 1.645] <- \"Not Statistically Significant\"\n",
    "bekk8"
   ]
  },
  {
   "cell_type": "code",
   "execution_count": 88,
   "id": "95031772-e40f-4ba4-a7cc-25ef5b9eb439",
   "metadata": {},
   "outputs": [
    {
     "data": {
      "text/plain": [
       "\n",
       "\tGranger causality H0: lc do not Granger-cause ghsgbp\n",
       "\n",
       "data:  VAR object var_bekk8\n",
       "F-Test = 1.2699, df1 = 4, df2 = 2072, p-value = 0.2796\n"
      ]
     },
     "metadata": {},
     "output_type": "display_data"
    },
    {
     "data": {
      "text/plain": [
       "\n",
       "\tGranger causality H0: ghsgbp do not Granger-cause lc\n",
       "\n",
       "data:  VAR object var_bekk8\n",
       "F-Test = 1.5255, df1 = 4, df2 = 2072, p-value = 0.1921\n"
      ]
     },
     "metadata": {},
     "output_type": "display_data"
    }
   ],
   "source": [
    "causality(var_bekk8,cause = \"lc\")$Granger\n",
    "causality(var_bekk8,cause = \"ghsgbp\")$Granger"
   ]
  },
  {
   "cell_type": "markdown",
   "id": "89f1a1f1-fe77-4391-a382-8e73b2c974fc",
   "metadata": {},
   "source": [
    "# Summary of Period 4 models"
   ]
  },
  {
   "cell_type": "code",
   "execution_count": 89,
   "id": "e56d1183-bfb5-43d3-9579-493a9003d5ab",
   "metadata": {},
   "outputs": [],
   "source": [
    "bekk_c <- rep(NA,14)\n",
    "for(i in 1:14){\n",
    "    bekk_c[i] = paste0(round(bekkc[i,2],4),\" (\",round(bekkc[i,3],4),\")\")\n",
    "}\n",
    "\n",
    "bekk_1 <- rep(NA,14)\n",
    "for(i in 1:14){\n",
    "    bekk_1[i] = paste0(round(bekk1[i,2],4),\" (\",round(bekk1[i,3],4),\")\")\n",
    "}\n",
    "\n",
    "bekk_2 <- rep(NA,14)\n",
    "for(i in 1:14){\n",
    "    bekk_2[i] = paste0(round(bekk2[i,2],4),\" (\",round(bekk2[i,3],4),\")\")\n",
    "}\n",
    "\n",
    "bekk_3 <- rep(NA,14)\n",
    "for(i in 1:14){\n",
    "    bekk_3[i] = paste0(round(bekk3[i,2],4),\" (\",round(bekk3[i,3],4),\")\")\n",
    "}\n",
    "\n",
    "bekk_4 <- rep(NA,14)\n",
    "for(i in 1:14){\n",
    "    bekk_4[i] = paste0(round(bekk4[i,2],4),\" (\",round(bekk4[i,3],4),\")\")\n",
    "}\n",
    "\n",
    "bekk_5 <- rep(NA,14)\n",
    "for(i in 1:14){\n",
    "    bekk_5[i] = paste0(round(bekk5[i,2],4),\" (\",round(bekk5[i,3],4),\")\")\n",
    "}\n",
    "\n",
    "bekk_6 <- rep(NA,26)\n",
    "for(i in 1:26){\n",
    "    bekk_6[i] = paste0(round(bekk6[i,2],4),\" (\",round(bekk6[i,3],4),\")\")\n",
    "}\n",
    "\n",
    "bekk_7 <- rep(NA,22)\n",
    "for(i in 1:22){\n",
    "    bekk_7[i] = paste0(round(bekk7[i,2],4),\" (\",round(bekk7[i,3],4),\")\")\n",
    "}\n",
    "\n",
    "\n",
    "bekk_8 <- rep(NA,26)\n",
    "for(i in 1:26){\n",
    "    bekk_8[i] = paste0(round(bekk8[i,2],4),\" (\",round(bekk8[i,3],4),\")\")\n",
    "}"
   ]
  },
  {
   "cell_type": "code",
   "execution_count": 90,
   "id": "e776bbb3-f38f-4005-8bfa-ea5aa9934420",
   "metadata": {},
   "outputs": [],
   "source": [
    "parameters1 = c(\"mu10\",\"mu20\",\"phi11\",\"phi12\",\"phi21\",\"phi22\",\"a11\",\"a12\",\"a21\",\"a22\",\"g11\",\"g12\",\"g21\",\"g22\")\n",
    "parameters2 = c(\"mu10\",\"mu20\",\"phi11\",\"phi12\",\"phi13\",\"phi14\",\"phi15\",\"phi16\",\"phi21\",\"phi22\",\"phi23\",\"phi24\",\"phi25\",\"phi26\",\"a11\",\"a12\",\"a21\",\"a22\",\"g11\",\"g12\",\"g21\",\"g22\")\n",
    "parameters3 = c(\"mu10\",\"mu20\",\"phi11\",\"phi12\",\"phi13\",\"phi14\",\"phi15\",\"phi16\",\"phi17\",\"phi18\",\"phi21\",\"phi22\",\"phi23\",\"phi24\",\"phi25\",\"phi26\",\"phi27\",\"phi28\",\"a11\",\"a12\",\"a21\",\"a22\",\"g11\",\"g12\",\"g21\",\"g22\")"
   ]
  },
  {
   "cell_type": "code",
   "execution_count": 91,
   "id": "f0018039-f2b1-4b98-b9ac-2b1e30b593c8",
   "metadata": {},
   "outputs": [],
   "source": [
    "daily_bekk1 <- data.frame(\"Parameters\" = parameters1,\"BEKK1\" = bekk_1,\"BEKK3\" = bekk_3,\"BEKK4\" = bekk_4,\"BEKK5\" = bekk_5)\n",
    "daily_bekk2 <- data.frame(\"Parameters\" = parameters2,\"BEKK7\" = bekk_7)\n",
    "daily_bekk3 <- data.frame(\"Parameters\" = parameters3,\"BEKK6\" = bekk_6,\"BEKK8\" = bekk_8)"
   ]
  },
  {
   "cell_type": "code",
   "execution_count": 92,
   "id": "8549e54d-579e-4529-bf7c-88738e0fb4dc",
   "metadata": {},
   "outputs": [
    {
     "data": {
      "text/html": [
       "<table class=\"dataframe\">\n",
       "<caption>A data.frame: 14 × 5</caption>\n",
       "<thead>\n",
       "\t<tr><th scope=col>Parameters</th><th scope=col>BEKK1</th><th scope=col>BEKK3</th><th scope=col>BEKK4</th><th scope=col>BEKK5</th></tr>\n",
       "\t<tr><th scope=col>&lt;chr&gt;</th><th scope=col>&lt;chr&gt;</th><th scope=col>&lt;chr&gt;</th><th scope=col>&lt;chr&gt;</th><th scope=col>&lt;chr&gt;</th></tr>\n",
       "</thead>\n",
       "<tbody>\n",
       "\t<tr><td>mu10 </td><td>0.001 (6e-04)   </td><td>0.001 (6e-04)   </td><td>0.001 (5e-04)   </td><td>0.001 (5e-04)  </td></tr>\n",
       "\t<tr><td>mu20 </td><td>0 (2e-04)       </td><td>1e-04 (2e-04)   </td><td>0 (2e-04)       </td><td>0 (1e-04)      </td></tr>\n",
       "\t<tr><td>phi11</td><td>0.0438 (0.0312) </td><td>0.0466 (0.0311) </td><td>0.1013 (0.0311) </td><td>0.1037 (0.031) </td></tr>\n",
       "\t<tr><td>phi12</td><td>0.1342 (0.1157) </td><td>0.066 (0.1145)  </td><td>0.0573 (0.0836) </td><td>0.0025 (0.1195)</td></tr>\n",
       "\t<tr><td>phi21</td><td>0.001 (0.0084)  </td><td>0.0025 (0.0084) </td><td>-0.0193 (0.0115)</td><td>-0.0151 (0.008)</td></tr>\n",
       "\t<tr><td>phi22</td><td>0.0342 (0.031)  </td><td>0.0693 (0.0309) </td><td>0.0915 (0.0309) </td><td>0.009 (0.0308) </td></tr>\n",
       "\t<tr><td>a11  </td><td>0.2178 (0.0207) </td><td>0.2008 (0.019)  </td><td>0.2247 (0.0171) </td><td>0.2991 (0.0237)</td></tr>\n",
       "\t<tr><td>a12  </td><td>0.0029 (0.0066) </td><td>0.0177 (0.0107) </td><td>-0.0042 (0.0102)</td><td>-0.005 (0.0044)</td></tr>\n",
       "\t<tr><td>a21  </td><td>-0.1101 (0.0876)</td><td>0.0467 (0.0992) </td><td>0.0744 (0.0556) </td><td>0.0374 (0.0677)</td></tr>\n",
       "\t<tr><td>a22  </td><td>0.1909 (0.0226) </td><td>0.3621 (0.0383) </td><td>0.2825 (0.0223) </td><td>0.1937 (0.0146)</td></tr>\n",
       "\t<tr><td>g11  </td><td>0.9747 (0.0068) </td><td>0.9768 (0.0071) </td><td>0.9734 (0.0056) </td><td>0.9452 (0.0105)</td></tr>\n",
       "\t<tr><td>g12  </td><td>-0.0013 (0.0024)</td><td>-0.01 (0.0056)  </td><td>0.0025 (0.0035) </td><td>0.0023 (0.0012)</td></tr>\n",
       "\t<tr><td>g21  </td><td>0.0236 (0.0248) </td><td>-0.0698 (0.0821)</td><td>-0.0208 (0.0208)</td><td>-0.0035 (0.019)</td></tr>\n",
       "\t<tr><td>g22  </td><td>0.9756 (0.0064) </td><td>0.8128 (0.0393) </td><td>0.9393 (0.0106) </td><td>0.9789 (0.0034)</td></tr>\n",
       "</tbody>\n",
       "</table>\n"
      ],
      "text/latex": [
       "A data.frame: 14 × 5\n",
       "\\begin{tabular}{lllll}\n",
       " Parameters & BEKK1 & BEKK3 & BEKK4 & BEKK5\\\\\n",
       " <chr> & <chr> & <chr> & <chr> & <chr>\\\\\n",
       "\\hline\n",
       "\t mu10  & 0.001 (6e-04)    & 0.001 (6e-04)    & 0.001 (5e-04)    & 0.001 (5e-04)  \\\\\n",
       "\t mu20  & 0 (2e-04)        & 1e-04 (2e-04)    & 0 (2e-04)        & 0 (1e-04)      \\\\\n",
       "\t phi11 & 0.0438 (0.0312)  & 0.0466 (0.0311)  & 0.1013 (0.0311)  & 0.1037 (0.031) \\\\\n",
       "\t phi12 & 0.1342 (0.1157)  & 0.066 (0.1145)   & 0.0573 (0.0836)  & 0.0025 (0.1195)\\\\\n",
       "\t phi21 & 0.001 (0.0084)   & 0.0025 (0.0084)  & -0.0193 (0.0115) & -0.0151 (0.008)\\\\\n",
       "\t phi22 & 0.0342 (0.031)   & 0.0693 (0.0309)  & 0.0915 (0.0309)  & 0.009 (0.0308) \\\\\n",
       "\t a11   & 0.2178 (0.0207)  & 0.2008 (0.019)   & 0.2247 (0.0171)  & 0.2991 (0.0237)\\\\\n",
       "\t a12   & 0.0029 (0.0066)  & 0.0177 (0.0107)  & -0.0042 (0.0102) & -0.005 (0.0044)\\\\\n",
       "\t a21   & -0.1101 (0.0876) & 0.0467 (0.0992)  & 0.0744 (0.0556)  & 0.0374 (0.0677)\\\\\n",
       "\t a22   & 0.1909 (0.0226)  & 0.3621 (0.0383)  & 0.2825 (0.0223)  & 0.1937 (0.0146)\\\\\n",
       "\t g11   & 0.9747 (0.0068)  & 0.9768 (0.0071)  & 0.9734 (0.0056)  & 0.9452 (0.0105)\\\\\n",
       "\t g12   & -0.0013 (0.0024) & -0.01 (0.0056)   & 0.0025 (0.0035)  & 0.0023 (0.0012)\\\\\n",
       "\t g21   & 0.0236 (0.0248)  & -0.0698 (0.0821) & -0.0208 (0.0208) & -0.0035 (0.019)\\\\\n",
       "\t g22   & 0.9756 (0.0064)  & 0.8128 (0.0393)  & 0.9393 (0.0106)  & 0.9789 (0.0034)\\\\\n",
       "\\end{tabular}\n"
      ],
      "text/markdown": [
       "\n",
       "A data.frame: 14 × 5\n",
       "\n",
       "| Parameters &lt;chr&gt; | BEKK1 &lt;chr&gt; | BEKK3 &lt;chr&gt; | BEKK4 &lt;chr&gt; | BEKK5 &lt;chr&gt; |\n",
       "|---|---|---|---|---|\n",
       "| mu10  | 0.001 (6e-04)    | 0.001 (6e-04)    | 0.001 (5e-04)    | 0.001 (5e-04)   |\n",
       "| mu20  | 0 (2e-04)        | 1e-04 (2e-04)    | 0 (2e-04)        | 0 (1e-04)       |\n",
       "| phi11 | 0.0438 (0.0312)  | 0.0466 (0.0311)  | 0.1013 (0.0311)  | 0.1037 (0.031)  |\n",
       "| phi12 | 0.1342 (0.1157)  | 0.066 (0.1145)   | 0.0573 (0.0836)  | 0.0025 (0.1195) |\n",
       "| phi21 | 0.001 (0.0084)   | 0.0025 (0.0084)  | -0.0193 (0.0115) | -0.0151 (0.008) |\n",
       "| phi22 | 0.0342 (0.031)   | 0.0693 (0.0309)  | 0.0915 (0.0309)  | 0.009 (0.0308)  |\n",
       "| a11   | 0.2178 (0.0207)  | 0.2008 (0.019)   | 0.2247 (0.0171)  | 0.2991 (0.0237) |\n",
       "| a12   | 0.0029 (0.0066)  | 0.0177 (0.0107)  | -0.0042 (0.0102) | -0.005 (0.0044) |\n",
       "| a21   | -0.1101 (0.0876) | 0.0467 (0.0992)  | 0.0744 (0.0556)  | 0.0374 (0.0677) |\n",
       "| a22   | 0.1909 (0.0226)  | 0.3621 (0.0383)  | 0.2825 (0.0223)  | 0.1937 (0.0146) |\n",
       "| g11   | 0.9747 (0.0068)  | 0.9768 (0.0071)  | 0.9734 (0.0056)  | 0.9452 (0.0105) |\n",
       "| g12   | -0.0013 (0.0024) | -0.01 (0.0056)   | 0.0025 (0.0035)  | 0.0023 (0.0012) |\n",
       "| g21   | 0.0236 (0.0248)  | -0.0698 (0.0821) | -0.0208 (0.0208) | -0.0035 (0.019) |\n",
       "| g22   | 0.9756 (0.0064)  | 0.8128 (0.0393)  | 0.9393 (0.0106)  | 0.9789 (0.0034) |\n",
       "\n"
      ],
      "text/plain": [
       "   Parameters BEKK1            BEKK3            BEKK4           \n",
       "1  mu10       0.001 (6e-04)    0.001 (6e-04)    0.001 (5e-04)   \n",
       "2  mu20       0 (2e-04)        1e-04 (2e-04)    0 (2e-04)       \n",
       "3  phi11      0.0438 (0.0312)  0.0466 (0.0311)  0.1013 (0.0311) \n",
       "4  phi12      0.1342 (0.1157)  0.066 (0.1145)   0.0573 (0.0836) \n",
       "5  phi21      0.001 (0.0084)   0.0025 (0.0084)  -0.0193 (0.0115)\n",
       "6  phi22      0.0342 (0.031)   0.0693 (0.0309)  0.0915 (0.0309) \n",
       "7  a11        0.2178 (0.0207)  0.2008 (0.019)   0.2247 (0.0171) \n",
       "8  a12        0.0029 (0.0066)  0.0177 (0.0107)  -0.0042 (0.0102)\n",
       "9  a21        -0.1101 (0.0876) 0.0467 (0.0992)  0.0744 (0.0556) \n",
       "10 a22        0.1909 (0.0226)  0.3621 (0.0383)  0.2825 (0.0223) \n",
       "11 g11        0.9747 (0.0068)  0.9768 (0.0071)  0.9734 (0.0056) \n",
       "12 g12        -0.0013 (0.0024) -0.01 (0.0056)   0.0025 (0.0035) \n",
       "13 g21        0.0236 (0.0248)  -0.0698 (0.0821) -0.0208 (0.0208)\n",
       "14 g22        0.9756 (0.0064)  0.8128 (0.0393)  0.9393 (0.0106) \n",
       "   BEKK5          \n",
       "1  0.001 (5e-04)  \n",
       "2  0 (1e-04)      \n",
       "3  0.1037 (0.031) \n",
       "4  0.0025 (0.1195)\n",
       "5  -0.0151 (0.008)\n",
       "6  0.009 (0.0308) \n",
       "7  0.2991 (0.0237)\n",
       "8  -0.005 (0.0044)\n",
       "9  0.0374 (0.0677)\n",
       "10 0.1937 (0.0146)\n",
       "11 0.9452 (0.0105)\n",
       "12 0.0023 (0.0012)\n",
       "13 -0.0035 (0.019)\n",
       "14 0.9789 (0.0034)"
      ]
     },
     "metadata": {},
     "output_type": "display_data"
    }
   ],
   "source": [
    "daily_bekk1"
   ]
  },
  {
   "cell_type": "code",
   "execution_count": 93,
   "id": "9cf85eab-5947-46e2-ab19-3aa2220349aa",
   "metadata": {},
   "outputs": [
    {
     "data": {
      "text/html": [
       "<table class=\"dataframe\">\n",
       "<caption>A data.frame: 22 × 2</caption>\n",
       "<thead>\n",
       "\t<tr><th scope=col>Parameters</th><th scope=col>BEKK7</th></tr>\n",
       "\t<tr><th scope=col>&lt;chr&gt;</th><th scope=col>&lt;chr&gt;</th></tr>\n",
       "</thead>\n",
       "<tbody>\n",
       "\t<tr><td>mu10 </td><td>9e-04 (6e-04)   </td></tr>\n",
       "\t<tr><td>mu20 </td><td>-6e-04 (4e-04)  </td></tr>\n",
       "\t<tr><td>phi11</td><td>0.0468 (0.0313) </td></tr>\n",
       "\t<tr><td>phi12</td><td>-0.0401 (0.0458)</td></tr>\n",
       "\t<tr><td>phi13</td><td>-0.0085 (0.0317)</td></tr>\n",
       "\t<tr><td>phi14</td><td>-0.0304 (0.0455)</td></tr>\n",
       "\t<tr><td>phi15</td><td>0.0309 (0.0322) </td></tr>\n",
       "\t<tr><td>phi16</td><td>0.0232 (0.0458) </td></tr>\n",
       "\t<tr><td>phi21</td><td>0.0103 (0.021)  </td></tr>\n",
       "\t<tr><td>phi22</td><td>0.1001 (0.0308) </td></tr>\n",
       "\t<tr><td>phi23</td><td>0.01 (0.0213)   </td></tr>\n",
       "\t<tr><td>phi24</td><td>0.1559 (0.0306) </td></tr>\n",
       "\t<tr><td>phi25</td><td>0.0049 (0.0217) </td></tr>\n",
       "\t<tr><td>phi26</td><td>0.1109 (0.0308) </td></tr>\n",
       "\t<tr><td>a11  </td><td>0.1505 (0.0184) </td></tr>\n",
       "\t<tr><td>a12  </td><td>0.006 (0.0078)  </td></tr>\n",
       "\t<tr><td>a21  </td><td>0.0344 (0.027)  </td></tr>\n",
       "\t<tr><td>a22  </td><td>0.397 (0.0155)  </td></tr>\n",
       "\t<tr><td>g11  </td><td>0.9159 (0.0233) </td></tr>\n",
       "\t<tr><td>g12  </td><td>-0.0049 (0.0126)</td></tr>\n",
       "\t<tr><td>g21  </td><td>0.0321 (0.0127) </td></tr>\n",
       "\t<tr><td>g22  </td><td>0.9188 (0.0076) </td></tr>\n",
       "</tbody>\n",
       "</table>\n"
      ],
      "text/latex": [
       "A data.frame: 22 × 2\n",
       "\\begin{tabular}{ll}\n",
       " Parameters & BEKK7\\\\\n",
       " <chr> & <chr>\\\\\n",
       "\\hline\n",
       "\t mu10  & 9e-04 (6e-04)   \\\\\n",
       "\t mu20  & -6e-04 (4e-04)  \\\\\n",
       "\t phi11 & 0.0468 (0.0313) \\\\\n",
       "\t phi12 & -0.0401 (0.0458)\\\\\n",
       "\t phi13 & -0.0085 (0.0317)\\\\\n",
       "\t phi14 & -0.0304 (0.0455)\\\\\n",
       "\t phi15 & 0.0309 (0.0322) \\\\\n",
       "\t phi16 & 0.0232 (0.0458) \\\\\n",
       "\t phi21 & 0.0103 (0.021)  \\\\\n",
       "\t phi22 & 0.1001 (0.0308) \\\\\n",
       "\t phi23 & 0.01 (0.0213)   \\\\\n",
       "\t phi24 & 0.1559 (0.0306) \\\\\n",
       "\t phi25 & 0.0049 (0.0217) \\\\\n",
       "\t phi26 & 0.1109 (0.0308) \\\\\n",
       "\t a11   & 0.1505 (0.0184) \\\\\n",
       "\t a12   & 0.006 (0.0078)  \\\\\n",
       "\t a21   & 0.0344 (0.027)  \\\\\n",
       "\t a22   & 0.397 (0.0155)  \\\\\n",
       "\t g11   & 0.9159 (0.0233) \\\\\n",
       "\t g12   & -0.0049 (0.0126)\\\\\n",
       "\t g21   & 0.0321 (0.0127) \\\\\n",
       "\t g22   & 0.9188 (0.0076) \\\\\n",
       "\\end{tabular}\n"
      ],
      "text/markdown": [
       "\n",
       "A data.frame: 22 × 2\n",
       "\n",
       "| Parameters &lt;chr&gt; | BEKK7 &lt;chr&gt; |\n",
       "|---|---|\n",
       "| mu10  | 9e-04 (6e-04)    |\n",
       "| mu20  | -6e-04 (4e-04)   |\n",
       "| phi11 | 0.0468 (0.0313)  |\n",
       "| phi12 | -0.0401 (0.0458) |\n",
       "| phi13 | -0.0085 (0.0317) |\n",
       "| phi14 | -0.0304 (0.0455) |\n",
       "| phi15 | 0.0309 (0.0322)  |\n",
       "| phi16 | 0.0232 (0.0458)  |\n",
       "| phi21 | 0.0103 (0.021)   |\n",
       "| phi22 | 0.1001 (0.0308)  |\n",
       "| phi23 | 0.01 (0.0213)    |\n",
       "| phi24 | 0.1559 (0.0306)  |\n",
       "| phi25 | 0.0049 (0.0217)  |\n",
       "| phi26 | 0.1109 (0.0308)  |\n",
       "| a11   | 0.1505 (0.0184)  |\n",
       "| a12   | 0.006 (0.0078)   |\n",
       "| a21   | 0.0344 (0.027)   |\n",
       "| a22   | 0.397 (0.0155)   |\n",
       "| g11   | 0.9159 (0.0233)  |\n",
       "| g12   | -0.0049 (0.0126) |\n",
       "| g21   | 0.0321 (0.0127)  |\n",
       "| g22   | 0.9188 (0.0076)  |\n",
       "\n"
      ],
      "text/plain": [
       "   Parameters BEKK7           \n",
       "1  mu10       9e-04 (6e-04)   \n",
       "2  mu20       -6e-04 (4e-04)  \n",
       "3  phi11      0.0468 (0.0313) \n",
       "4  phi12      -0.0401 (0.0458)\n",
       "5  phi13      -0.0085 (0.0317)\n",
       "6  phi14      -0.0304 (0.0455)\n",
       "7  phi15      0.0309 (0.0322) \n",
       "8  phi16      0.0232 (0.0458) \n",
       "9  phi21      0.0103 (0.021)  \n",
       "10 phi22      0.1001 (0.0308) \n",
       "11 phi23      0.01 (0.0213)   \n",
       "12 phi24      0.1559 (0.0306) \n",
       "13 phi25      0.0049 (0.0217) \n",
       "14 phi26      0.1109 (0.0308) \n",
       "15 a11        0.1505 (0.0184) \n",
       "16 a12        0.006 (0.0078)  \n",
       "17 a21        0.0344 (0.027)  \n",
       "18 a22        0.397 (0.0155)  \n",
       "19 g11        0.9159 (0.0233) \n",
       "20 g12        -0.0049 (0.0126)\n",
       "21 g21        0.0321 (0.0127) \n",
       "22 g22        0.9188 (0.0076) "
      ]
     },
     "metadata": {},
     "output_type": "display_data"
    }
   ],
   "source": [
    "daily_bekk2"
   ]
  },
  {
   "cell_type": "code",
   "execution_count": 94,
   "id": "306a04cd-e1d7-450e-b95f-34eabc5de670",
   "metadata": {},
   "outputs": [
    {
     "data": {
      "text/html": [
       "<table class=\"dataframe\">\n",
       "<caption>A data.frame: 26 × 3</caption>\n",
       "<thead>\n",
       "\t<tr><th scope=col>Parameters</th><th scope=col>BEKK6</th><th scope=col>BEKK8</th></tr>\n",
       "\t<tr><th scope=col>&lt;chr&gt;</th><th scope=col>&lt;chr&gt;</th><th scope=col>&lt;chr&gt;</th></tr>\n",
       "</thead>\n",
       "<tbody>\n",
       "\t<tr><td>mu10 </td><td>8e-04 (5e-04)   </td><td>9e-04 (5e-04)   </td></tr>\n",
       "\t<tr><td>mu20 </td><td>2e-04 (2e-04)   </td><td>-6e-04 (4e-04)  </td></tr>\n",
       "\t<tr><td>phi11</td><td>0.1008 (0.0311) </td><td>0.1001 (0.0311) </td></tr>\n",
       "\t<tr><td>phi12</td><td>-0.0175 (0.1014)</td><td>-0.0145 (0.0367)</td></tr>\n",
       "\t<tr><td>phi13</td><td>-0.0114 (0.0319)</td><td>-0.0102 (0.0318)</td></tr>\n",
       "\t<tr><td>phi14</td><td>-0.1015 (0.1011)</td><td>-0.052 (0.0366) </td></tr>\n",
       "\t<tr><td>phi15</td><td>0.0306 (0.0323) </td><td>0.0294 (0.0322) </td></tr>\n",
       "\t<tr><td>phi16</td><td>0.0792 (0.1011) </td><td>0.0291 (0.0366) </td></tr>\n",
       "\t<tr><td>phi17</td><td>0.0927 (0.0323) </td><td>0.0936 (0.0322) </td></tr>\n",
       "\t<tr><td>phi18</td><td>0.0396 (0.1009) </td><td>0.0738 (0.0366) </td></tr>\n",
       "\t<tr><td>phi21</td><td>-0.0164 (0.0095)</td><td>-0.0507 (0.0263)</td></tr>\n",
       "\t<tr><td>phi22</td><td>0.0251 (0.031)  </td><td>0.0878 (0.031)  </td></tr>\n",
       "\t<tr><td>phi23</td><td>-0.0025 (0.0097)</td><td>0.0232 (0.0269) </td></tr>\n",
       "\t<tr><td>phi24</td><td>-0.0283 (0.0309)</td><td>0.1555 (0.031)  </td></tr>\n",
       "\t<tr><td>phi25</td><td>-0.0121 (0.0099)</td><td>-0.019 (0.0272) </td></tr>\n",
       "\t<tr><td>phi26</td><td>0.0568 (0.0309) </td><td>0.1078 (0.031)  </td></tr>\n",
       "\t<tr><td>phi27</td><td>-0.0215 (0.0099)</td><td>-0.0166 (0.0272)</td></tr>\n",
       "\t<tr><td>phi28</td><td>-0.027 (0.0308) </td><td>-0.056 (0.0309) </td></tr>\n",
       "\t<tr><td>a11  </td><td>0.2377 (0.0205) </td><td>0.1901 (0.015)  </td></tr>\n",
       "\t<tr><td>a12  </td><td>-0.0062 (0.0078)</td><td>-0.014 (0.0134) </td></tr>\n",
       "\t<tr><td>a21  </td><td>0.0618 (0.0646) </td><td>0.0067 (0.016)  </td></tr>\n",
       "\t<tr><td>a22  </td><td>0.2269 (0.0165) </td><td>0.5405 (0.0244) </td></tr>\n",
       "\t<tr><td>g11  </td><td>0.9698 (0.0071) </td><td>0.9805 (0.0046) </td></tr>\n",
       "\t<tr><td>g12  </td><td>0.0033 (0.0029) </td><td>0.0076 (0.0074) </td></tr>\n",
       "\t<tr><td>g21  </td><td>-0.0199 (0.0215)</td><td>-0.0021 (0.0097)</td></tr>\n",
       "\t<tr><td>g22  </td><td>0.9613 (0.0065) </td><td>0.8414 (0.0116) </td></tr>\n",
       "</tbody>\n",
       "</table>\n"
      ],
      "text/latex": [
       "A data.frame: 26 × 3\n",
       "\\begin{tabular}{lll}\n",
       " Parameters & BEKK6 & BEKK8\\\\\n",
       " <chr> & <chr> & <chr>\\\\\n",
       "\\hline\n",
       "\t mu10  & 8e-04 (5e-04)    & 9e-04 (5e-04)   \\\\\n",
       "\t mu20  & 2e-04 (2e-04)    & -6e-04 (4e-04)  \\\\\n",
       "\t phi11 & 0.1008 (0.0311)  & 0.1001 (0.0311) \\\\\n",
       "\t phi12 & -0.0175 (0.1014) & -0.0145 (0.0367)\\\\\n",
       "\t phi13 & -0.0114 (0.0319) & -0.0102 (0.0318)\\\\\n",
       "\t phi14 & -0.1015 (0.1011) & -0.052 (0.0366) \\\\\n",
       "\t phi15 & 0.0306 (0.0323)  & 0.0294 (0.0322) \\\\\n",
       "\t phi16 & 0.0792 (0.1011)  & 0.0291 (0.0366) \\\\\n",
       "\t phi17 & 0.0927 (0.0323)  & 0.0936 (0.0322) \\\\\n",
       "\t phi18 & 0.0396 (0.1009)  & 0.0738 (0.0366) \\\\\n",
       "\t phi21 & -0.0164 (0.0095) & -0.0507 (0.0263)\\\\\n",
       "\t phi22 & 0.0251 (0.031)   & 0.0878 (0.031)  \\\\\n",
       "\t phi23 & -0.0025 (0.0097) & 0.0232 (0.0269) \\\\\n",
       "\t phi24 & -0.0283 (0.0309) & 0.1555 (0.031)  \\\\\n",
       "\t phi25 & -0.0121 (0.0099) & -0.019 (0.0272) \\\\\n",
       "\t phi26 & 0.0568 (0.0309)  & 0.1078 (0.031)  \\\\\n",
       "\t phi27 & -0.0215 (0.0099) & -0.0166 (0.0272)\\\\\n",
       "\t phi28 & -0.027 (0.0308)  & -0.056 (0.0309) \\\\\n",
       "\t a11   & 0.2377 (0.0205)  & 0.1901 (0.015)  \\\\\n",
       "\t a12   & -0.0062 (0.0078) & -0.014 (0.0134) \\\\\n",
       "\t a21   & 0.0618 (0.0646)  & 0.0067 (0.016)  \\\\\n",
       "\t a22   & 0.2269 (0.0165)  & 0.5405 (0.0244) \\\\\n",
       "\t g11   & 0.9698 (0.0071)  & 0.9805 (0.0046) \\\\\n",
       "\t g12   & 0.0033 (0.0029)  & 0.0076 (0.0074) \\\\\n",
       "\t g21   & -0.0199 (0.0215) & -0.0021 (0.0097)\\\\\n",
       "\t g22   & 0.9613 (0.0065)  & 0.8414 (0.0116) \\\\\n",
       "\\end{tabular}\n"
      ],
      "text/markdown": [
       "\n",
       "A data.frame: 26 × 3\n",
       "\n",
       "| Parameters &lt;chr&gt; | BEKK6 &lt;chr&gt; | BEKK8 &lt;chr&gt; |\n",
       "|---|---|---|\n",
       "| mu10  | 8e-04 (5e-04)    | 9e-04 (5e-04)    |\n",
       "| mu20  | 2e-04 (2e-04)    | -6e-04 (4e-04)   |\n",
       "| phi11 | 0.1008 (0.0311)  | 0.1001 (0.0311)  |\n",
       "| phi12 | -0.0175 (0.1014) | -0.0145 (0.0367) |\n",
       "| phi13 | -0.0114 (0.0319) | -0.0102 (0.0318) |\n",
       "| phi14 | -0.1015 (0.1011) | -0.052 (0.0366)  |\n",
       "| phi15 | 0.0306 (0.0323)  | 0.0294 (0.0322)  |\n",
       "| phi16 | 0.0792 (0.1011)  | 0.0291 (0.0366)  |\n",
       "| phi17 | 0.0927 (0.0323)  | 0.0936 (0.0322)  |\n",
       "| phi18 | 0.0396 (0.1009)  | 0.0738 (0.0366)  |\n",
       "| phi21 | -0.0164 (0.0095) | -0.0507 (0.0263) |\n",
       "| phi22 | 0.0251 (0.031)   | 0.0878 (0.031)   |\n",
       "| phi23 | -0.0025 (0.0097) | 0.0232 (0.0269)  |\n",
       "| phi24 | -0.0283 (0.0309) | 0.1555 (0.031)   |\n",
       "| phi25 | -0.0121 (0.0099) | -0.019 (0.0272)  |\n",
       "| phi26 | 0.0568 (0.0309)  | 0.1078 (0.031)   |\n",
       "| phi27 | -0.0215 (0.0099) | -0.0166 (0.0272) |\n",
       "| phi28 | -0.027 (0.0308)  | -0.056 (0.0309)  |\n",
       "| a11   | 0.2377 (0.0205)  | 0.1901 (0.015)   |\n",
       "| a12   | -0.0062 (0.0078) | -0.014 (0.0134)  |\n",
       "| a21   | 0.0618 (0.0646)  | 0.0067 (0.016)   |\n",
       "| a22   | 0.2269 (0.0165)  | 0.5405 (0.0244)  |\n",
       "| g11   | 0.9698 (0.0071)  | 0.9805 (0.0046)  |\n",
       "| g12   | 0.0033 (0.0029)  | 0.0076 (0.0074)  |\n",
       "| g21   | -0.0199 (0.0215) | -0.0021 (0.0097) |\n",
       "| g22   | 0.9613 (0.0065)  | 0.8414 (0.0116)  |\n",
       "\n"
      ],
      "text/plain": [
       "   Parameters BEKK6            BEKK8           \n",
       "1  mu10       8e-04 (5e-04)    9e-04 (5e-04)   \n",
       "2  mu20       2e-04 (2e-04)    -6e-04 (4e-04)  \n",
       "3  phi11      0.1008 (0.0311)  0.1001 (0.0311) \n",
       "4  phi12      -0.0175 (0.1014) -0.0145 (0.0367)\n",
       "5  phi13      -0.0114 (0.0319) -0.0102 (0.0318)\n",
       "6  phi14      -0.1015 (0.1011) -0.052 (0.0366) \n",
       "7  phi15      0.0306 (0.0323)  0.0294 (0.0322) \n",
       "8  phi16      0.0792 (0.1011)  0.0291 (0.0366) \n",
       "9  phi17      0.0927 (0.0323)  0.0936 (0.0322) \n",
       "10 phi18      0.0396 (0.1009)  0.0738 (0.0366) \n",
       "11 phi21      -0.0164 (0.0095) -0.0507 (0.0263)\n",
       "12 phi22      0.0251 (0.031)   0.0878 (0.031)  \n",
       "13 phi23      -0.0025 (0.0097) 0.0232 (0.0269) \n",
       "14 phi24      -0.0283 (0.0309) 0.1555 (0.031)  \n",
       "15 phi25      -0.0121 (0.0099) -0.019 (0.0272) \n",
       "16 phi26      0.0568 (0.0309)  0.1078 (0.031)  \n",
       "17 phi27      -0.0215 (0.0099) -0.0166 (0.0272)\n",
       "18 phi28      -0.027 (0.0308)  -0.056 (0.0309) \n",
       "19 a11        0.2377 (0.0205)  0.1901 (0.015)  \n",
       "20 a12        -0.0062 (0.0078) -0.014 (0.0134) \n",
       "21 a21        0.0618 (0.0646)  0.0067 (0.016)  \n",
       "22 a22        0.2269 (0.0165)  0.5405 (0.0244) \n",
       "23 g11        0.9698 (0.0071)  0.9805 (0.0046) \n",
       "24 g12        0.0033 (0.0029)  0.0076 (0.0074) \n",
       "25 g21        -0.0199 (0.0215) -0.0021 (0.0097)\n",
       "26 g22        0.9613 (0.0065)  0.8414 (0.0116) "
      ]
     },
     "metadata": {},
     "output_type": "display_data"
    }
   ],
   "source": [
    "daily_bekk3"
   ]
  },
  {
   "cell_type": "markdown",
   "id": "e14ecfe3-39b3-4202-a79f-7abe2613d857",
   "metadata": {},
   "source": [
    "# Final VAR-BEKK Table for Period 2 (Table A.5)"
   ]
  },
  {
   "cell_type": "code",
   "execution_count": 95,
   "id": "01215be1-cb5a-41b4-b419-659d27ef3829",
   "metadata": {},
   "outputs": [
    {
     "data": {
      "text/html": [
       "<table class=\"dataframe\">\n",
       "<caption>A data.frame: 26 × 10</caption>\n",
       "<thead>\n",
       "\t<tr><th scope=col>Parameters</th><th scope=col>BEKKC</th><th scope=col>BEKK1</th><th scope=col>BEKK2</th><th scope=col>BEKK3</th><th scope=col>BEKK4</th><th scope=col>BEKK5</th><th scope=col>BEKK6</th><th scope=col>BEKK7</th><th scope=col>BEKK8</th></tr>\n",
       "\t<tr><th scope=col>&lt;chr&gt;</th><th scope=col>&lt;chr&gt;</th><th scope=col>&lt;chr&gt;</th><th scope=col>&lt;chr&gt;</th><th scope=col>&lt;chr&gt;</th><th scope=col>&lt;chr&gt;</th><th scope=col>&lt;chr&gt;</th><th scope=col>&lt;chr&gt;</th><th scope=col>&lt;chr&gt;</th><th scope=col>&lt;chr&gt;</th></tr>\n",
       "</thead>\n",
       "<tbody>\n",
       "\t<tr><td>mu10 </td><td>0.001 (6e-04)   </td><td>0.001 (6e-04)   </td><td>0.001 (6e-04)   </td><td>0.001 (6e-04)   </td><td>0.001 (5e-04)   </td><td>0.001 (5e-04)  </td><td>8e-04 (5e-04)   </td><td>9e-04 (6e-04)   </td><td>9e-04 (5e-04)   </td></tr>\n",
       "\t<tr><td>mu20 </td><td>0.001 (5e-04)   </td><td>0 (2e-04)       </td><td>0 (2e-04)       </td><td>1e-04 (2e-04)   </td><td>0 (2e-04)       </td><td>0 (1e-04)      </td><td>2e-04 (2e-04)   </td><td>-6e-04 (4e-04)  </td><td>-6e-04 (4e-04)  </td></tr>\n",
       "\t<tr><td>phi11</td><td>0.0319 (0.0673) </td><td>0.0438 (0.0312) </td><td>0.0394 (0.0313) </td><td>0.0466 (0.0311) </td><td>0.1013 (0.0311) </td><td>0.1037 (0.031) </td><td>0.1008 (0.0311) </td><td>0.0468 (0.0313) </td><td>0.1001 (0.0311) </td></tr>\n",
       "\t<tr><td>phi12</td><td>0.019 (0.0746)  </td><td>0.1342 (0.1157) </td><td>0.1798 (0.0933) </td><td>0.066 (0.1145)  </td><td>0.0573 (0.0836) </td><td>0.0025 (0.1195)</td><td>-0.0175 (0.1014)</td><td>-0.0401 (0.0458)</td><td>-0.0145 (0.0367)</td></tr>\n",
       "\t<tr><td>phi13</td><td>NA              </td><td>NA              </td><td>NA              </td><td>NA              </td><td>NA              </td><td>NA             </td><td>-0.0114 (0.0319)</td><td>-0.0085 (0.0317)</td><td>-0.0102 (0.0318)</td></tr>\n",
       "\t<tr><td>phi14</td><td>NA              </td><td>NA              </td><td>NA              </td><td>NA              </td><td>NA              </td><td>NA             </td><td>-0.1015 (0.1011)</td><td>-0.0304 (0.0455)</td><td>-0.052 (0.0366) </td></tr>\n",
       "\t<tr><td>phi15</td><td>NA              </td><td>NA              </td><td>NA              </td><td>NA              </td><td>NA              </td><td>NA             </td><td>0.0306 (0.0323) </td><td>0.0309 (0.0322) </td><td>0.0294 (0.0322) </td></tr>\n",
       "\t<tr><td>phi16</td><td>NA              </td><td>NA              </td><td>NA              </td><td>NA              </td><td>NA              </td><td>NA             </td><td>0.0792 (0.1011) </td><td>0.0232 (0.0458) </td><td>0.0291 (0.0366) </td></tr>\n",
       "\t<tr><td>phi17</td><td>NA              </td><td>NA              </td><td>NA              </td><td>NA              </td><td>NA              </td><td>NA             </td><td>0.0927 (0.0323) </td><td>NA              </td><td>0.0936 (0.0322) </td></tr>\n",
       "\t<tr><td>phi18</td><td>NA              </td><td>NA              </td><td>NA              </td><td>NA              </td><td>NA              </td><td>NA             </td><td>0.0396 (0.1009) </td><td>NA              </td><td>0.0738 (0.0366) </td></tr>\n",
       "\t<tr><td>phi21</td><td>0.0498 (0.0602) </td><td>0.001 (0.0084)  </td><td>0.0081 (0.0104) </td><td>0.0025 (0.0084) </td><td>-0.0193 (0.0115)</td><td>-0.0151 (0.008)</td><td>-0.0164 (0.0095)</td><td>0.0103 (0.021)  </td><td>-0.0507 (0.0263)</td></tr>\n",
       "\t<tr><td>phi22</td><td>0.0548 (0.0668) </td><td>0.0342 (0.031)  </td><td>0.0825 (0.031)  </td><td>0.0693 (0.0309) </td><td>0.0915 (0.0309) </td><td>0.009 (0.0308) </td><td>0.0251 (0.031)  </td><td>0.1001 (0.0308) </td><td>0.0878 (0.031)  </td></tr>\n",
       "\t<tr><td>phi23</td><td>NA              </td><td>NA              </td><td>NA              </td><td>NA              </td><td>NA              </td><td>NA             </td><td>-0.0025 (0.0097)</td><td>0.01 (0.0213)   </td><td>0.0232 (0.0269) </td></tr>\n",
       "\t<tr><td>phi24</td><td>NA              </td><td>NA              </td><td>NA              </td><td>NA              </td><td>NA              </td><td>NA             </td><td>-0.0283 (0.0309)</td><td>0.1559 (0.0306) </td><td>0.1555 (0.031)  </td></tr>\n",
       "\t<tr><td>phi25</td><td>NA              </td><td>NA              </td><td>NA              </td><td>NA              </td><td>NA              </td><td>NA             </td><td>-0.0121 (0.0099)</td><td>0.0049 (0.0217) </td><td>-0.019 (0.0272) </td></tr>\n",
       "\t<tr><td>phi26</td><td>NA              </td><td>NA              </td><td>NA              </td><td>NA              </td><td>NA              </td><td>NA             </td><td>0.0568 (0.0309) </td><td>0.1109 (0.0308) </td><td>0.1078 (0.031)  </td></tr>\n",
       "\t<tr><td>phi27</td><td>NA              </td><td>NA              </td><td>NA              </td><td>NA              </td><td>NA              </td><td>NA             </td><td>-0.0215 (0.0099)</td><td>NA              </td><td>-0.0166 (0.0272)</td></tr>\n",
       "\t<tr><td>phi28</td><td>NA              </td><td>NA              </td><td>NA              </td><td>NA              </td><td>NA              </td><td>NA             </td><td>-0.027 (0.0308) </td><td>NA              </td><td>-0.056 (0.0309) </td></tr>\n",
       "\t<tr><td>a11  </td><td>0.0717 (0.0507) </td><td>0.2178 (0.0207) </td><td>0.1992 (0.0168) </td><td>0.2008 (0.019)  </td><td>0.2247 (0.0171) </td><td>0.2991 (0.0237)</td><td>0.2377 (0.0205) </td><td>0.1505 (0.0184) </td><td>0.1901 (0.015)  </td></tr>\n",
       "\t<tr><td>a12  </td><td>-0.0827 (0.0449)</td><td>0.0029 (0.0066) </td><td>0.0039 (0.0097) </td><td>0.0177 (0.0107) </td><td>-0.0042 (0.0102)</td><td>-0.005 (0.0044)</td><td>-0.0062 (0.0078)</td><td>0.006 (0.0078)  </td><td>-0.014 (0.0134) </td></tr>\n",
       "\t<tr><td>a21  </td><td>0.2023 (0.0672) </td><td>-0.1101 (0.0876)</td><td>-0.0244 (0.0794)</td><td>0.0467 (0.0992) </td><td>0.0744 (0.0556) </td><td>0.0374 (0.0677)</td><td>0.0618 (0.0646) </td><td>0.0344 (0.027)  </td><td>0.0067 (0.016)  </td></tr>\n",
       "\t<tr><td>a22  </td><td>0.4142 (0.0566) </td><td>0.1909 (0.0226) </td><td>0.2865 (0.0233) </td><td>0.3621 (0.0383) </td><td>0.2825 (0.0223) </td><td>0.1937 (0.0146)</td><td>0.2269 (0.0165) </td><td>0.397 (0.0155)  </td><td>0.5405 (0.0244) </td></tr>\n",
       "\t<tr><td>g11  </td><td>1.0081 (0.0149) </td><td>0.9747 (0.0068) </td><td>0.9797 (0.005)  </td><td>0.9768 (0.0071) </td><td>0.9734 (0.0056) </td><td>0.9452 (0.0105)</td><td>0.9698 (0.0071) </td><td>0.9159 (0.0233) </td><td>0.9805 (0.0046) </td></tr>\n",
       "\t<tr><td>g12  </td><td>0.0395 (0.0179) </td><td>-0.0013 (0.0024)</td><td>-0.0016 (0.0031)</td><td>-0.01 (0.0056)  </td><td>0.0025 (0.0035) </td><td>0.0023 (0.0012)</td><td>0.0033 (0.0029) </td><td>-0.0049 (0.0126)</td><td>0.0076 (0.0074) </td></tr>\n",
       "\t<tr><td>g21  </td><td>-0.0504 (0.0244)</td><td>0.0236 (0.0248) </td><td>-0.0022 (0.0313)</td><td>-0.0698 (0.0821)</td><td>-0.0208 (0.0208)</td><td>-0.0035 (0.019)</td><td>-0.0199 (0.0215)</td><td>0.0321 (0.0127) </td><td>-0.0021 (0.0097)</td></tr>\n",
       "\t<tr><td>g22  </td><td>0.8887 (0.0271) </td><td>0.9756 (0.0064) </td><td>0.9399 (0.0105) </td><td>0.8128 (0.0393) </td><td>0.9393 (0.0106) </td><td>0.9789 (0.0034)</td><td>0.9613 (0.0065) </td><td>0.9188 (0.0076) </td><td>0.8414 (0.0116) </td></tr>\n",
       "</tbody>\n",
       "</table>\n"
      ],
      "text/latex": [
       "A data.frame: 26 × 10\n",
       "\\begin{tabular}{llllllllll}\n",
       " Parameters & BEKKC & BEKK1 & BEKK2 & BEKK3 & BEKK4 & BEKK5 & BEKK6 & BEKK7 & BEKK8\\\\\n",
       " <chr> & <chr> & <chr> & <chr> & <chr> & <chr> & <chr> & <chr> & <chr> & <chr>\\\\\n",
       "\\hline\n",
       "\t mu10  & 0.001 (6e-04)    & 0.001 (6e-04)    & 0.001 (6e-04)    & 0.001 (6e-04)    & 0.001 (5e-04)    & 0.001 (5e-04)   & 8e-04 (5e-04)    & 9e-04 (6e-04)    & 9e-04 (5e-04)   \\\\\n",
       "\t mu20  & 0.001 (5e-04)    & 0 (2e-04)        & 0 (2e-04)        & 1e-04 (2e-04)    & 0 (2e-04)        & 0 (1e-04)       & 2e-04 (2e-04)    & -6e-04 (4e-04)   & -6e-04 (4e-04)  \\\\\n",
       "\t phi11 & 0.0319 (0.0673)  & 0.0438 (0.0312)  & 0.0394 (0.0313)  & 0.0466 (0.0311)  & 0.1013 (0.0311)  & 0.1037 (0.031)  & 0.1008 (0.0311)  & 0.0468 (0.0313)  & 0.1001 (0.0311) \\\\\n",
       "\t phi12 & 0.019 (0.0746)   & 0.1342 (0.1157)  & 0.1798 (0.0933)  & 0.066 (0.1145)   & 0.0573 (0.0836)  & 0.0025 (0.1195) & -0.0175 (0.1014) & -0.0401 (0.0458) & -0.0145 (0.0367)\\\\\n",
       "\t phi13 & NA               & NA               & NA               & NA               & NA               & NA              & -0.0114 (0.0319) & -0.0085 (0.0317) & -0.0102 (0.0318)\\\\\n",
       "\t phi14 & NA               & NA               & NA               & NA               & NA               & NA              & -0.1015 (0.1011) & -0.0304 (0.0455) & -0.052 (0.0366) \\\\\n",
       "\t phi15 & NA               & NA               & NA               & NA               & NA               & NA              & 0.0306 (0.0323)  & 0.0309 (0.0322)  & 0.0294 (0.0322) \\\\\n",
       "\t phi16 & NA               & NA               & NA               & NA               & NA               & NA              & 0.0792 (0.1011)  & 0.0232 (0.0458)  & 0.0291 (0.0366) \\\\\n",
       "\t phi17 & NA               & NA               & NA               & NA               & NA               & NA              & 0.0927 (0.0323)  & NA               & 0.0936 (0.0322) \\\\\n",
       "\t phi18 & NA               & NA               & NA               & NA               & NA               & NA              & 0.0396 (0.1009)  & NA               & 0.0738 (0.0366) \\\\\n",
       "\t phi21 & 0.0498 (0.0602)  & 0.001 (0.0084)   & 0.0081 (0.0104)  & 0.0025 (0.0084)  & -0.0193 (0.0115) & -0.0151 (0.008) & -0.0164 (0.0095) & 0.0103 (0.021)   & -0.0507 (0.0263)\\\\\n",
       "\t phi22 & 0.0548 (0.0668)  & 0.0342 (0.031)   & 0.0825 (0.031)   & 0.0693 (0.0309)  & 0.0915 (0.0309)  & 0.009 (0.0308)  & 0.0251 (0.031)   & 0.1001 (0.0308)  & 0.0878 (0.031)  \\\\\n",
       "\t phi23 & NA               & NA               & NA               & NA               & NA               & NA              & -0.0025 (0.0097) & 0.01 (0.0213)    & 0.0232 (0.0269) \\\\\n",
       "\t phi24 & NA               & NA               & NA               & NA               & NA               & NA              & -0.0283 (0.0309) & 0.1559 (0.0306)  & 0.1555 (0.031)  \\\\\n",
       "\t phi25 & NA               & NA               & NA               & NA               & NA               & NA              & -0.0121 (0.0099) & 0.0049 (0.0217)  & -0.019 (0.0272) \\\\\n",
       "\t phi26 & NA               & NA               & NA               & NA               & NA               & NA              & 0.0568 (0.0309)  & 0.1109 (0.0308)  & 0.1078 (0.031)  \\\\\n",
       "\t phi27 & NA               & NA               & NA               & NA               & NA               & NA              & -0.0215 (0.0099) & NA               & -0.0166 (0.0272)\\\\\n",
       "\t phi28 & NA               & NA               & NA               & NA               & NA               & NA              & -0.027 (0.0308)  & NA               & -0.056 (0.0309) \\\\\n",
       "\t a11   & 0.0717 (0.0507)  & 0.2178 (0.0207)  & 0.1992 (0.0168)  & 0.2008 (0.019)   & 0.2247 (0.0171)  & 0.2991 (0.0237) & 0.2377 (0.0205)  & 0.1505 (0.0184)  & 0.1901 (0.015)  \\\\\n",
       "\t a12   & -0.0827 (0.0449) & 0.0029 (0.0066)  & 0.0039 (0.0097)  & 0.0177 (0.0107)  & -0.0042 (0.0102) & -0.005 (0.0044) & -0.0062 (0.0078) & 0.006 (0.0078)   & -0.014 (0.0134) \\\\\n",
       "\t a21   & 0.2023 (0.0672)  & -0.1101 (0.0876) & -0.0244 (0.0794) & 0.0467 (0.0992)  & 0.0744 (0.0556)  & 0.0374 (0.0677) & 0.0618 (0.0646)  & 0.0344 (0.027)   & 0.0067 (0.016)  \\\\\n",
       "\t a22   & 0.4142 (0.0566)  & 0.1909 (0.0226)  & 0.2865 (0.0233)  & 0.3621 (0.0383)  & 0.2825 (0.0223)  & 0.1937 (0.0146) & 0.2269 (0.0165)  & 0.397 (0.0155)   & 0.5405 (0.0244) \\\\\n",
       "\t g11   & 1.0081 (0.0149)  & 0.9747 (0.0068)  & 0.9797 (0.005)   & 0.9768 (0.0071)  & 0.9734 (0.0056)  & 0.9452 (0.0105) & 0.9698 (0.0071)  & 0.9159 (0.0233)  & 0.9805 (0.0046) \\\\\n",
       "\t g12   & 0.0395 (0.0179)  & -0.0013 (0.0024) & -0.0016 (0.0031) & -0.01 (0.0056)   & 0.0025 (0.0035)  & 0.0023 (0.0012) & 0.0033 (0.0029)  & -0.0049 (0.0126) & 0.0076 (0.0074) \\\\\n",
       "\t g21   & -0.0504 (0.0244) & 0.0236 (0.0248)  & -0.0022 (0.0313) & -0.0698 (0.0821) & -0.0208 (0.0208) & -0.0035 (0.019) & -0.0199 (0.0215) & 0.0321 (0.0127)  & -0.0021 (0.0097)\\\\\n",
       "\t g22   & 0.8887 (0.0271)  & 0.9756 (0.0064)  & 0.9399 (0.0105)  & 0.8128 (0.0393)  & 0.9393 (0.0106)  & 0.9789 (0.0034) & 0.9613 (0.0065)  & 0.9188 (0.0076)  & 0.8414 (0.0116) \\\\\n",
       "\\end{tabular}\n"
      ],
      "text/markdown": [
       "\n",
       "A data.frame: 26 × 10\n",
       "\n",
       "| Parameters &lt;chr&gt; | BEKKC &lt;chr&gt; | BEKK1 &lt;chr&gt; | BEKK2 &lt;chr&gt; | BEKK3 &lt;chr&gt; | BEKK4 &lt;chr&gt; | BEKK5 &lt;chr&gt; | BEKK6 &lt;chr&gt; | BEKK7 &lt;chr&gt; | BEKK8 &lt;chr&gt; |\n",
       "|---|---|---|---|---|---|---|---|---|---|\n",
       "| mu10  | 0.001 (6e-04)    | 0.001 (6e-04)    | 0.001 (6e-04)    | 0.001 (6e-04)    | 0.001 (5e-04)    | 0.001 (5e-04)   | 8e-04 (5e-04)    | 9e-04 (6e-04)    | 9e-04 (5e-04)    |\n",
       "| mu20  | 0.001 (5e-04)    | 0 (2e-04)        | 0 (2e-04)        | 1e-04 (2e-04)    | 0 (2e-04)        | 0 (1e-04)       | 2e-04 (2e-04)    | -6e-04 (4e-04)   | -6e-04 (4e-04)   |\n",
       "| phi11 | 0.0319 (0.0673)  | 0.0438 (0.0312)  | 0.0394 (0.0313)  | 0.0466 (0.0311)  | 0.1013 (0.0311)  | 0.1037 (0.031)  | 0.1008 (0.0311)  | 0.0468 (0.0313)  | 0.1001 (0.0311)  |\n",
       "| phi12 | 0.019 (0.0746)   | 0.1342 (0.1157)  | 0.1798 (0.0933)  | 0.066 (0.1145)   | 0.0573 (0.0836)  | 0.0025 (0.1195) | -0.0175 (0.1014) | -0.0401 (0.0458) | -0.0145 (0.0367) |\n",
       "| phi13 | NA               | NA               | NA               | NA               | NA               | NA              | -0.0114 (0.0319) | -0.0085 (0.0317) | -0.0102 (0.0318) |\n",
       "| phi14 | NA               | NA               | NA               | NA               | NA               | NA              | -0.1015 (0.1011) | -0.0304 (0.0455) | -0.052 (0.0366)  |\n",
       "| phi15 | NA               | NA               | NA               | NA               | NA               | NA              | 0.0306 (0.0323)  | 0.0309 (0.0322)  | 0.0294 (0.0322)  |\n",
       "| phi16 | NA               | NA               | NA               | NA               | NA               | NA              | 0.0792 (0.1011)  | 0.0232 (0.0458)  | 0.0291 (0.0366)  |\n",
       "| phi17 | NA               | NA               | NA               | NA               | NA               | NA              | 0.0927 (0.0323)  | NA               | 0.0936 (0.0322)  |\n",
       "| phi18 | NA               | NA               | NA               | NA               | NA               | NA              | 0.0396 (0.1009)  | NA               | 0.0738 (0.0366)  |\n",
       "| phi21 | 0.0498 (0.0602)  | 0.001 (0.0084)   | 0.0081 (0.0104)  | 0.0025 (0.0084)  | -0.0193 (0.0115) | -0.0151 (0.008) | -0.0164 (0.0095) | 0.0103 (0.021)   | -0.0507 (0.0263) |\n",
       "| phi22 | 0.0548 (0.0668)  | 0.0342 (0.031)   | 0.0825 (0.031)   | 0.0693 (0.0309)  | 0.0915 (0.0309)  | 0.009 (0.0308)  | 0.0251 (0.031)   | 0.1001 (0.0308)  | 0.0878 (0.031)   |\n",
       "| phi23 | NA               | NA               | NA               | NA               | NA               | NA              | -0.0025 (0.0097) | 0.01 (0.0213)    | 0.0232 (0.0269)  |\n",
       "| phi24 | NA               | NA               | NA               | NA               | NA               | NA              | -0.0283 (0.0309) | 0.1559 (0.0306)  | 0.1555 (0.031)   |\n",
       "| phi25 | NA               | NA               | NA               | NA               | NA               | NA              | -0.0121 (0.0099) | 0.0049 (0.0217)  | -0.019 (0.0272)  |\n",
       "| phi26 | NA               | NA               | NA               | NA               | NA               | NA              | 0.0568 (0.0309)  | 0.1109 (0.0308)  | 0.1078 (0.031)   |\n",
       "| phi27 | NA               | NA               | NA               | NA               | NA               | NA              | -0.0215 (0.0099) | NA               | -0.0166 (0.0272) |\n",
       "| phi28 | NA               | NA               | NA               | NA               | NA               | NA              | -0.027 (0.0308)  | NA               | -0.056 (0.0309)  |\n",
       "| a11   | 0.0717 (0.0507)  | 0.2178 (0.0207)  | 0.1992 (0.0168)  | 0.2008 (0.019)   | 0.2247 (0.0171)  | 0.2991 (0.0237) | 0.2377 (0.0205)  | 0.1505 (0.0184)  | 0.1901 (0.015)   |\n",
       "| a12   | -0.0827 (0.0449) | 0.0029 (0.0066)  | 0.0039 (0.0097)  | 0.0177 (0.0107)  | -0.0042 (0.0102) | -0.005 (0.0044) | -0.0062 (0.0078) | 0.006 (0.0078)   | -0.014 (0.0134)  |\n",
       "| a21   | 0.2023 (0.0672)  | -0.1101 (0.0876) | -0.0244 (0.0794) | 0.0467 (0.0992)  | 0.0744 (0.0556)  | 0.0374 (0.0677) | 0.0618 (0.0646)  | 0.0344 (0.027)   | 0.0067 (0.016)   |\n",
       "| a22   | 0.4142 (0.0566)  | 0.1909 (0.0226)  | 0.2865 (0.0233)  | 0.3621 (0.0383)  | 0.2825 (0.0223)  | 0.1937 (0.0146) | 0.2269 (0.0165)  | 0.397 (0.0155)   | 0.5405 (0.0244)  |\n",
       "| g11   | 1.0081 (0.0149)  | 0.9747 (0.0068)  | 0.9797 (0.005)   | 0.9768 (0.0071)  | 0.9734 (0.0056)  | 0.9452 (0.0105) | 0.9698 (0.0071)  | 0.9159 (0.0233)  | 0.9805 (0.0046)  |\n",
       "| g12   | 0.0395 (0.0179)  | -0.0013 (0.0024) | -0.0016 (0.0031) | -0.01 (0.0056)   | 0.0025 (0.0035)  | 0.0023 (0.0012) | 0.0033 (0.0029)  | -0.0049 (0.0126) | 0.0076 (0.0074)  |\n",
       "| g21   | -0.0504 (0.0244) | 0.0236 (0.0248)  | -0.0022 (0.0313) | -0.0698 (0.0821) | -0.0208 (0.0208) | -0.0035 (0.019) | -0.0199 (0.0215) | 0.0321 (0.0127)  | -0.0021 (0.0097) |\n",
       "| g22   | 0.8887 (0.0271)  | 0.9756 (0.0064)  | 0.9399 (0.0105)  | 0.8128 (0.0393)  | 0.9393 (0.0106)  | 0.9789 (0.0034) | 0.9613 (0.0065)  | 0.9188 (0.0076)  | 0.8414 (0.0116)  |\n",
       "\n"
      ],
      "text/plain": [
       "   Parameters BEKKC            BEKK1            BEKK2           \n",
       "1  mu10       0.001 (6e-04)    0.001 (6e-04)    0.001 (6e-04)   \n",
       "2  mu20       0.001 (5e-04)    0 (2e-04)        0 (2e-04)       \n",
       "3  phi11      0.0319 (0.0673)  0.0438 (0.0312)  0.0394 (0.0313) \n",
       "4  phi12      0.019 (0.0746)   0.1342 (0.1157)  0.1798 (0.0933) \n",
       "5  phi13      NA               NA               NA              \n",
       "6  phi14      NA               NA               NA              \n",
       "7  phi15      NA               NA               NA              \n",
       "8  phi16      NA               NA               NA              \n",
       "9  phi17      NA               NA               NA              \n",
       "10 phi18      NA               NA               NA              \n",
       "11 phi21      0.0498 (0.0602)  0.001 (0.0084)   0.0081 (0.0104) \n",
       "12 phi22      0.0548 (0.0668)  0.0342 (0.031)   0.0825 (0.031)  \n",
       "13 phi23      NA               NA               NA              \n",
       "14 phi24      NA               NA               NA              \n",
       "15 phi25      NA               NA               NA              \n",
       "16 phi26      NA               NA               NA              \n",
       "17 phi27      NA               NA               NA              \n",
       "18 phi28      NA               NA               NA              \n",
       "19 a11        0.0717 (0.0507)  0.2178 (0.0207)  0.1992 (0.0168) \n",
       "20 a12        -0.0827 (0.0449) 0.0029 (0.0066)  0.0039 (0.0097) \n",
       "21 a21        0.2023 (0.0672)  -0.1101 (0.0876) -0.0244 (0.0794)\n",
       "22 a22        0.4142 (0.0566)  0.1909 (0.0226)  0.2865 (0.0233) \n",
       "23 g11        1.0081 (0.0149)  0.9747 (0.0068)  0.9797 (0.005)  \n",
       "24 g12        0.0395 (0.0179)  -0.0013 (0.0024) -0.0016 (0.0031)\n",
       "25 g21        -0.0504 (0.0244) 0.0236 (0.0248)  -0.0022 (0.0313)\n",
       "26 g22        0.8887 (0.0271)  0.9756 (0.0064)  0.9399 (0.0105) \n",
       "   BEKK3            BEKK4            BEKK5           BEKK6           \n",
       "1  0.001 (6e-04)    0.001 (5e-04)    0.001 (5e-04)   8e-04 (5e-04)   \n",
       "2  1e-04 (2e-04)    0 (2e-04)        0 (1e-04)       2e-04 (2e-04)   \n",
       "3  0.0466 (0.0311)  0.1013 (0.0311)  0.1037 (0.031)  0.1008 (0.0311) \n",
       "4  0.066 (0.1145)   0.0573 (0.0836)  0.0025 (0.1195) -0.0175 (0.1014)\n",
       "5  NA               NA               NA              -0.0114 (0.0319)\n",
       "6  NA               NA               NA              -0.1015 (0.1011)\n",
       "7  NA               NA               NA              0.0306 (0.0323) \n",
       "8  NA               NA               NA              0.0792 (0.1011) \n",
       "9  NA               NA               NA              0.0927 (0.0323) \n",
       "10 NA               NA               NA              0.0396 (0.1009) \n",
       "11 0.0025 (0.0084)  -0.0193 (0.0115) -0.0151 (0.008) -0.0164 (0.0095)\n",
       "12 0.0693 (0.0309)  0.0915 (0.0309)  0.009 (0.0308)  0.0251 (0.031)  \n",
       "13 NA               NA               NA              -0.0025 (0.0097)\n",
       "14 NA               NA               NA              -0.0283 (0.0309)\n",
       "15 NA               NA               NA              -0.0121 (0.0099)\n",
       "16 NA               NA               NA              0.0568 (0.0309) \n",
       "17 NA               NA               NA              -0.0215 (0.0099)\n",
       "18 NA               NA               NA              -0.027 (0.0308) \n",
       "19 0.2008 (0.019)   0.2247 (0.0171)  0.2991 (0.0237) 0.2377 (0.0205) \n",
       "20 0.0177 (0.0107)  -0.0042 (0.0102) -0.005 (0.0044) -0.0062 (0.0078)\n",
       "21 0.0467 (0.0992)  0.0744 (0.0556)  0.0374 (0.0677) 0.0618 (0.0646) \n",
       "22 0.3621 (0.0383)  0.2825 (0.0223)  0.1937 (0.0146) 0.2269 (0.0165) \n",
       "23 0.9768 (0.0071)  0.9734 (0.0056)  0.9452 (0.0105) 0.9698 (0.0071) \n",
       "24 -0.01 (0.0056)   0.0025 (0.0035)  0.0023 (0.0012) 0.0033 (0.0029) \n",
       "25 -0.0698 (0.0821) -0.0208 (0.0208) -0.0035 (0.019) -0.0199 (0.0215)\n",
       "26 0.8128 (0.0393)  0.9393 (0.0106)  0.9789 (0.0034) 0.9613 (0.0065) \n",
       "   BEKK7            BEKK8           \n",
       "1  9e-04 (6e-04)    9e-04 (5e-04)   \n",
       "2  -6e-04 (4e-04)   -6e-04 (4e-04)  \n",
       "3  0.0468 (0.0313)  0.1001 (0.0311) \n",
       "4  -0.0401 (0.0458) -0.0145 (0.0367)\n",
       "5  -0.0085 (0.0317) -0.0102 (0.0318)\n",
       "6  -0.0304 (0.0455) -0.052 (0.0366) \n",
       "7  0.0309 (0.0322)  0.0294 (0.0322) \n",
       "8  0.0232 (0.0458)  0.0291 (0.0366) \n",
       "9  NA               0.0936 (0.0322) \n",
       "10 NA               0.0738 (0.0366) \n",
       "11 0.0103 (0.021)   -0.0507 (0.0263)\n",
       "12 0.1001 (0.0308)  0.0878 (0.031)  \n",
       "13 0.01 (0.0213)    0.0232 (0.0269) \n",
       "14 0.1559 (0.0306)  0.1555 (0.031)  \n",
       "15 0.0049 (0.0217)  -0.019 (0.0272) \n",
       "16 0.1109 (0.0308)  0.1078 (0.031)  \n",
       "17 NA               -0.0166 (0.0272)\n",
       "18 NA               -0.056 (0.0309) \n",
       "19 0.1505 (0.0184)  0.1901 (0.015)  \n",
       "20 0.006 (0.0078)   -0.014 (0.0134) \n",
       "21 0.0344 (0.027)   0.0067 (0.016)  \n",
       "22 0.397 (0.0155)   0.5405 (0.0244) \n",
       "23 0.9159 (0.0233)  0.9805 (0.0046) \n",
       "24 -0.0049 (0.0126) 0.0076 (0.0074) \n",
       "25 0.0321 (0.0127)  -0.0021 (0.0097)\n",
       "26 0.9188 (0.0076)  0.8414 (0.0116) "
      ]
     },
     "metadata": {},
     "output_type": "display_data"
    }
   ],
   "source": [
    "daily_bekk <- data.frame(\"Parameters\" = parameters3,\n",
    "                         \"BEKKC\"=c(bekk_c[1:4],rep(NA,6),bekk_c[5:6],rep(NA,6),bekk_c[7:14]),\n",
    "                         \"BEKK1\"=c(bekk_1[1:4],rep(NA,6),bekk_1[5:6],rep(NA,6),bekk_1[7:14]),\n",
    "                         \"BEKK2\"=c(bekk_2[1:4],rep(NA,6),bekk_2[5:6],rep(NA,6),bekk_2[7:14]),\n",
    "                          \"BEKK3\"=c(bekk_3[1:4],rep(NA,6),bekk_3[5:6],rep(NA,6),bekk_3[7:14]),\n",
    "                          \"BEKK4\"=c(bekk_4[1:4],rep(NA,6),bekk_4[5:6],rep(NA,6),bekk_4[7:14]),\n",
    "                         \"BEKK5\"=c(bekk_5[1:4],rep(NA,6),bekk_5[5:6],rep(NA,6),bekk_5[7:14]),\n",
    "                          \"BEKK6\"=bekk_6,\n",
    "                         \"BEKK7\" = c(bekk_7[1:8],rep(NA,2),bekk_7[9:14],rep(NA,2),bekk_7[15:22]),\n",
    "                         \"BEKK8\" = bekk_8)\n",
    "daily_bekk"
   ]
  },
  {
   "cell_type": "code",
   "execution_count": null,
   "id": "e3bd8e97-2632-402d-8aff-e6e79bab0196",
   "metadata": {},
   "outputs": [],
   "source": []
  }
 ],
 "metadata": {
  "kernelspec": {
   "display_name": "R",
   "language": "R",
   "name": "ir"
  },
  "language_info": {
   "codemirror_mode": "r",
   "file_extension": ".r",
   "mimetype": "text/x-r-source",
   "name": "R",
   "pygments_lexer": "r",
   "version": "4.3.3"
  }
 },
 "nbformat": 4,
 "nbformat_minor": 5
}
