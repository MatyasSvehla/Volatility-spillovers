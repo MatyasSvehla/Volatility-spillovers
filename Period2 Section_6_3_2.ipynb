{
 "cells": [
  {
   "cell_type": "markdown",
   "id": "95c515b7-c3f6-4f0c-a333-fcb31dd7622a",
   "metadata": {},
   "source": [
    "# Chapter 6"
   ]
  },
  {
   "cell_type": "markdown",
   "id": "7d31e555-0bee-4b8c-acaf-0177b7241a83",
   "metadata": {},
   "source": [
    "# Section 6.3.2 Subsample Analysis"
   ]
  },
  {
   "cell_type": "markdown",
   "id": "aa51549d-8131-4166-964a-b979e8ed1602",
   "metadata": {},
   "source": [
    "# VAR-BEKK-GARCH model for Period 2 (2011/10 - 2015/11) (Section 6.3.2)"
   ]
  },
  {
   "cell_type": "code",
   "execution_count": 1,
   "id": "8ddee11c-167c-4610-89f9-9f8608ec9265",
   "metadata": {},
   "outputs": [
    {
     "name": "stderr",
     "output_type": "stream",
     "text": [
      "Loading required package: zoo\n",
      "\n",
      "\n",
      "Attaching package: ‘zoo’\n",
      "\n",
      "\n",
      "The following objects are masked from ‘package:base’:\n",
      "\n",
      "    as.Date, as.Date.numeric\n",
      "\n",
      "\n",
      "\n",
      "Attaching package: ‘MTS’\n",
      "\n",
      "\n",
      "The following object is masked from ‘package:BEKKs’:\n",
      "\n",
      "    backtest\n",
      "\n",
      "\n",
      "Loading required package: MASS\n",
      "\n",
      "Loading required package: strucchange\n",
      "\n",
      "Loading required package: sandwich\n",
      "\n",
      "Loading required package: urca\n",
      "\n",
      "Loading required package: lmtest\n",
      "\n",
      "\n",
      "Attaching package: ‘vars’\n",
      "\n",
      "\n",
      "The following object is masked from ‘package:MTS’:\n",
      "\n",
      "    VAR\n",
      "\n",
      "\n",
      "\n",
      "Please cite as: \n",
      "\n",
      "\n",
      " Hlavac, Marek (2022). stargazer: Well-Formatted Regression and Summary Statistics Tables.\n",
      "\n",
      " R package version 5.2.3. https://CRAN.R-project.org/package=stargazer \n",
      "\n",
      "\n"
     ]
    }
   ],
   "source": [
    "library(xts)\n",
    "library(BEKKs)\n",
    "library(MTS)\n",
    "library(vars)\n",
    "library(stargazer)"
   ]
  },
  {
   "cell_type": "markdown",
   "id": "11fec923-e073-4ddd-9b9d-ea95f0342b4a",
   "metadata": {},
   "source": [
    "# Dataset Preperation"
   ]
  },
  {
   "cell_type": "code",
   "execution_count": 2,
   "id": "781d425a-f780-4a44-9983-2f9bcad838e9",
   "metadata": {},
   "outputs": [
    {
     "data": {
      "text/plain": [
       "                     usc           lc\n",
       "2007-07-06  0.0033026687  0.005272420\n",
       "2007-07-09 -0.0108928380 -0.013233541\n",
       "2007-07-10 -0.0378502241 -0.040784991\n",
       "2007-07-11  0.0210431058  0.019240172\n",
       "2007-07-12  0.0057943185  0.004526943\n",
       "2007-07-13 -0.0009633912 -0.004526943"
      ]
     },
     "metadata": {},
     "output_type": "display_data"
    },
    {
     "data": {
      "text/plain": [
       "                  eurusd        gbpusd        chfusd        usdgbp       eurgbp\n",
       "2007-07-06  2.240547e-03 -0.0004972527 -0.0003044418  0.0007037652  0.002659380\n",
       "2007-07-09  7.337565e-05  0.0022605055  0.0012172115 -0.0025157246 -0.001993871\n",
       "2007-07-10  8.584371e-03  0.0057647029  0.0115503355 -0.0056582954  0.002805051\n",
       "2007-07-11 -7.274844e-05  0.0027838359 -0.0029504763 -0.0026379885 -0.002952903\n",
       "2007-07-12  3.485969e-03 -0.0009845428  0.0028903495  0.0008124302  0.004573291\n",
       "2007-07-13 -7.252421e-04  0.0019435396  0.0000000000 -0.0020323145 -0.003391083\n",
       "                  chfgbp        ghsusd        ghsgbp\n",
       "2007-07-06  0.0001273483 -0.0033264938 -2.614079e-03\n",
       "2007-07-09 -0.0009873737  0.0040086898  1.236683e-03\n",
       "2007-07-10  0.0059364761 -0.0002705906 -5.801912e-03\n",
       "2007-07-11 -0.0057330414  0.0026887042  4.994937e-05\n",
       "2007-07-12  0.0037670817  0.0027212691  3.716576e-03\n",
       "2007-07-13 -0.0020261005 -0.0051426368 -7.210559e-03"
      ]
     },
     "metadata": {},
     "output_type": "display_data"
    }
   ],
   "source": [
    "fr_d <- readRDS(\"fr_d.Rds\")\n",
    "fp_d <- readRDS(\"fp_d.Rds\")\n",
    "cr_d <- readRDS(\"cr_d.Rds\")\n",
    "cp_d <- readRDS(\"cp_d.Rds\")\n",
    "head(cr_d)\n",
    "head(fr_d)\n",
    "us_d <- cr_d[,1]\n",
    "l_d <- cr_d[,2]"
   ]
  },
  {
   "cell_type": "code",
   "execution_count": 3,
   "id": "47a2b129-a98e-48fa-92c5-430aac45fcec",
   "metadata": {},
   "outputs": [
    {
     "data": {
      "text/plain": [
       "                  eurusd        gbpusd        chfusd        usdgbp       eurgbp\n",
       "2007-07-06  2.240547e-03 -0.0004972527 -0.0003044418  0.0007037652  0.002659380\n",
       "2007-07-09  7.337565e-05  0.0022605055  0.0012172115 -0.0025157246 -0.001993871\n",
       "2007-07-10  8.584371e-03  0.0057647029  0.0115503355 -0.0056582954  0.002805051\n",
       "2007-07-11 -7.274844e-05  0.0027838359 -0.0029504763 -0.0026379885 -0.002952903\n",
       "2007-07-12  3.485969e-03 -0.0009845428  0.0028903495  0.0008124302  0.004573291\n",
       "2007-07-13 -7.252421e-04  0.0019435396  0.0000000000 -0.0020323145 -0.003391083\n",
       "                  chfgbp        ghsusd        ghsgbp\n",
       "2007-07-06  0.0001273483 -0.0033264938 -2.614079e-03\n",
       "2007-07-09 -0.0009873737  0.0040086898  1.236683e-03\n",
       "2007-07-10  0.0059364761 -0.0002705906 -5.801912e-03\n",
       "2007-07-11 -0.0057330414  0.0026887042  4.994937e-05\n",
       "2007-07-12  0.0037670817  0.0027212691  3.716576e-03\n",
       "2007-07-13 -0.0020261005 -0.0051426368 -7.210559e-03"
      ]
     },
     "metadata": {},
     "output_type": "display_data"
    },
    {
     "data": {
      "text/plain": [
       "            eurusd  gbpusd  chfusd  usdgbp  eurgbp   chfgbp   ghsusd    ghsgbp\n",
       "2007-07-05 1.35975 2.01155 0.82130 0.49715 0.67595 0.408303 1.074838 0.5343465\n",
       "2007-07-06 1.36280 2.01055 0.82105 0.49750 0.67775 0.408355 1.071268 0.5329515\n",
       "2007-07-09 1.36290 2.01510 0.82205 0.49625 0.67640 0.407952 1.075571 0.5336110\n",
       "2007-07-10 1.37465 2.02675 0.83160 0.49345 0.67830 0.410381 1.075280 0.5305240\n",
       "2007-07-11 1.37455 2.03240 0.82915 0.49215 0.67630 0.408035 1.078175 0.5305505\n",
       "2007-07-12 1.37935 2.03040 0.83155 0.49255 0.67940 0.409575 1.081113 0.5325260"
      ]
     },
     "metadata": {},
     "output_type": "display_data"
    }
   ],
   "source": [
    "head(fr_d)\n",
    "head(fp_d)"
   ]
  },
  {
   "cell_type": "code",
   "execution_count": 4,
   "id": "87840651-929e-4517-bf36-ff04f45d06f3",
   "metadata": {},
   "outputs": [],
   "source": [
    "d <- na.omit(merge(cr_d,fr_d))\n",
    "colnames(d) <- c(\"US Cocoa\",\"London Cocoa\",\"EURUSD\",\"GBPUSD\",\"CHFUSD\",\"USDGBP\",\"EURGBP\",\"CHFGBP\",\"GHSUSD\",\"GHSGBP\")"
   ]
  },
  {
   "cell_type": "code",
   "execution_count": 5,
   "id": "50d4db92-d42b-4d09-a484-543c0a75ff9a",
   "metadata": {},
   "outputs": [],
   "source": [
    "d_p <- na.omit(merge(cp_d,fp_d))\n",
    "colnames(d_p) <- c(\"US Cocoa\",\"London Cocoa\",\"EURUSD\",\"GBPUSD\",\"CHFUSD\",\"USDGBP\",\"EURGBP\",\"CHFGBP\",\"GHSUSD\",\"GHSGBP\")"
   ]
  },
  {
   "cell_type": "markdown",
   "id": "43378fae-14d9-49cc-974c-e5c9fc5a902a",
   "metadata": {},
   "source": [
    "# Period 2: Data 2011/10 - 2015/11"
   ]
  },
  {
   "cell_type": "code",
   "execution_count": 6,
   "id": "07015571-6c6c-466f-ae29-77377fe33e62",
   "metadata": {},
   "outputs": [
    {
     "name": "stdout",
     "output_type": "stream",
     "text": [
      "An xts object on 2011-10-03 / 2015-11-30 containing: \n",
      "  Data:    double [1038, 10]\n",
      "  Columns: US Cocoa, London Cocoa, EURUSD, GBPUSD, CHFUSD ... with 5 more columns\n",
      "  Index:   Date [1038] (TZ: \"UTC\")\n",
      "  xts Attributes:\n",
      "    $ na.action       : 'omit' int [1:216] 37 42 100 101 122 123 124 128 142 162 ...\n",
      "  ..- attr(*, \"index\")= num [1:216] 1.19e+09 1.19e+09 1.20e+09 1.20e+09 1.20e+09 ...\n",
      "    $ ret_type        : chr \"log\"\n",
      "    $ coredata_content: chr \"logReturn\"\n"
     ]
    },
    {
     "data": {
      "text/plain": [
       "               US Cocoa London Cocoa        EURUSD        GBPUSD       CHFUSD\n",
       "2011-10-03 -0.013688427 -0.006386088 -0.0163058347 -0.0102872608 -0.014451912\n",
       "2011-10-04  0.004202489  0.008698228  0.0128634905  0.0038499538  0.005695927\n",
       "2011-10-05  0.011749235  0.006330956  0.0005995204 -0.0009045389 -0.007909542\n",
       "2011-10-06  0.011985162  0.011409137  0.0063105827 -0.0020705951  0.002582074\n",
       "2011-10-07 -0.002609508 -0.009689446 -0.0041029524  0.0078712623 -0.006606783\n",
       "2011-10-10  0.001864629 -0.006320044  0.0196890265  0.0065017444  0.025220459\n",
       "                 USDGBP       EURGBP       CHFGBP       GHSUSD       GHSGBP\n",
       "2011-10-03  0.010386885 -0.005954831 -0.003981877 -0.004038530  0.006329860\n",
       "2011-10-04 -0.004327673  0.008802925  0.001101991 -0.002488911 -0.006611036\n",
       "2011-10-05  0.001393081  0.001565899 -0.006433088 -0.002783981 -0.001618611\n",
       "2011-10-06  0.002008809  0.008425233  0.004402835  0.002164014  0.004302178\n",
       "2011-10-07 -0.007981754 -0.012315498 -0.014256235 -0.001545939 -0.009539931\n",
       "2011-10-10 -0.006478577  0.013177096  0.018730388 -0.006775137 -0.013299207"
      ]
     },
     "metadata": {},
     "output_type": "display_data"
    },
    {
     "data": {
      "text/plain": [
       "               US Cocoa London Cocoa        EURUSD       GBPUSD        CHFUSD\n",
       "2015-11-20 -0.002668645  0.003061450 -0.0082320390 -0.006462959 -0.0058403965\n",
       "2015-11-23 -0.018580097 -0.014515320 -0.0009397614 -0.004420115  0.0001527923\n",
       "2015-11-24  0.009632826  0.013641576  0.0004699911 -0.002482500  0.0017300162\n",
       "2015-11-25 -0.010237970 -0.011428696 -0.0013635831  0.002713885 -0.0045349241\n",
       "2015-11-27  0.001814334  0.004409178 -0.0016506713 -0.004280104 -0.0069339501\n",
       "2015-11-30  0.008723172  0.003513398 -0.0026940817  0.001262710  0.0020595209\n",
       "                 USDGBP       EURGBP        CHFGBP       GHSUSD       GHSGBP\n",
       "2015-11-20  0.006476953 -0.001568292  0.0006966214 -0.017947345 -0.011455044\n",
       "2015-11-23  0.004395611  0.003418563  0.0045547614  0.007486908  0.011913969\n",
       "2015-11-24  0.002416920  0.003194324  0.0041506593 -0.009952284 -0.007469305\n",
       "2015-11-25 -0.002643806 -0.004830927 -0.0071591084  0.028716393  0.025993562\n",
       "2015-11-27  0.004370439  0.002984653 -0.0024769732 -0.013235890 -0.008861253\n",
       "2015-11-30 -0.001203732 -0.003482962  0.0007747134  0.010970661  0.009705294"
      ]
     },
     "metadata": {},
     "output_type": "display_data"
    }
   ],
   "source": [
    "d <- d[\"2011-10/2015-11\"]\n",
    "str(d)\n",
    "head(d)\n",
    "tail(d)"
   ]
  },
  {
   "cell_type": "markdown",
   "id": "d0fb1d11-0bcc-4550-bf80-e8c95e2f126e",
   "metadata": {},
   "source": [
    "# VAR-BEKK Models for the subsample"
   ]
  },
  {
   "cell_type": "markdown",
   "id": "9079fb19-884c-4e60-ab75-2a7b1c287f6f",
   "metadata": {},
   "source": [
    "#### The estimation of the VAR-BEKK model is conducted in two stages, VAR model is the model specification for the mean equation (first stage) and BEKK is the specification for the variance equation (second stage)."
   ]
  },
  {
   "cell_type": "markdown",
   "id": "b44329d2-368b-4065-bca7-bf51ea2983c1",
   "metadata": {},
   "source": [
    "## (i) Spillover between New York and London"
   ]
  },
  {
   "cell_type": "code",
   "execution_count": 7,
   "id": "4b7c936d-5726-4540-9829-e962d98baa63",
   "metadata": {},
   "outputs": [
    {
     "name": "stdout",
     "output_type": "stream",
     "text": [
      "An xts object on 2011-10-03 / 2015-11-30 containing: \n",
      "  Data:    double [1038, 2]\n",
      "  Columns: usc, lc\n",
      "  Index:   Date [1038] (TZ: \"UTC\")\n",
      "  xts Attributes:\n",
      "    $ na.action       : 'omit' int [1:159] 37 42 100 101 122 123 140 160 184 214 ...\n",
      "  ..- attr(*, \"index\")= num [1:159] 1.19e+09 1.19e+09 1.20e+09 1.20e+09 1.20e+09 ...\n",
      "    $ ret_type        : chr \"log\"\n",
      "    $ coredata_content: chr \"logReturn\"\n"
     ]
    },
    {
     "data": {
      "text/plain": [
       "                    usc           lc\n",
       "2011-10-03 -0.013688427 -0.006386088\n",
       "2011-10-04  0.004202489  0.008698228\n",
       "2011-10-05  0.011749235  0.006330956\n",
       "2011-10-06  0.011985162  0.011409137\n",
       "2011-10-07 -0.002609508 -0.009689446\n",
       "2011-10-10  0.001864629 -0.006320044"
      ]
     },
     "metadata": {},
     "output_type": "display_data"
    }
   ],
   "source": [
    "cr_d <- cr_d[\"2011-10/2015-11\"]\n",
    "str(cr_d)\n",
    "head(cr_d)"
   ]
  },
  {
   "cell_type": "code",
   "execution_count": 8,
   "id": "31d85925-f192-40e4-baf4-0cee96adf050",
   "metadata": {},
   "outputs": [
    {
     "data": {
      "text/html": [
       "<dl>\n",
       "\t<dt>$selection</dt>\n",
       "\t\t<dd><style>\n",
       ".dl-inline {width: auto; margin:0; padding: 0}\n",
       ".dl-inline>dt, .dl-inline>dd {float: none; width: auto; display: inline-block}\n",
       ".dl-inline>dt::after {content: \":\\0020\"; padding-right: .5ex}\n",
       ".dl-inline>dt:not(:first-of-type) {padding-left: .5ex}\n",
       "</style><dl class=dl-inline><dt>AIC(n)</dt><dd>4</dd><dt>HQ(n)</dt><dd>2</dd><dt>SC(n)</dt><dd>1</dd><dt>FPE(n)</dt><dd>4</dd></dl>\n",
       "</dd>\n",
       "\t<dt>$criteria</dt>\n",
       "\t\t<dd><table class=\"dataframe\">\n",
       "<caption>A matrix: 4 × 10 of type dbl</caption>\n",
       "<thead>\n",
       "\t<tr><th></th><th scope=col>1</th><th scope=col>2</th><th scope=col>3</th><th scope=col>4</th><th scope=col>5</th><th scope=col>6</th><th scope=col>7</th><th scope=col>8</th><th scope=col>9</th><th scope=col>10</th></tr>\n",
       "</thead>\n",
       "<tbody>\n",
       "\t<tr><th scope=row>AIC(n)</th><td>-1.906779e+01</td><td>-1.907550e+01</td><td>-1.907534e+01</td><td>-1.908523e+01</td><td>-1.908502e+01</td><td>-1.907875e+01</td><td>-1.908267e+01</td><td>-1.907815e+01</td><td>-1.907644e+01</td><td>-1.907729e+01</td></tr>\n",
       "\t<tr><th scope=row>HQ(n)</th><td>-1.905686e+01</td><td>-1.905728e+01</td><td>-1.904983e+01</td><td>-1.905243e+01</td><td>-1.904493e+01</td><td>-1.903137e+01</td><td>-1.902801e+01</td><td>-1.901619e+01</td><td>-1.900720e+01</td><td>-1.900076e+01</td></tr>\n",
       "\t<tr><th scope=row>SC(n)</th><td>-1.903899e+01</td><td>-1.902749e+01</td><td>-1.900813e+01</td><td>-1.899881e+01</td><td>-1.897940e+01</td><td>-1.895392e+01</td><td>-1.893865e+01</td><td>-1.891491e+01</td><td>-1.889401e+01</td><td>-1.887566e+01</td></tr>\n",
       "\t<tr><th scope=row>FPE(n)</th><td> 5.235555e-09</td><td> 5.195344e-09</td><td> 5.196184e-09</td><td> 5.145074e-09</td><td> 5.146150e-09</td><td> 5.178520e-09</td><td> 5.158240e-09</td><td> 5.181658e-09</td><td> 5.190502e-09</td><td> 5.186102e-09</td></tr>\n",
       "</tbody>\n",
       "</table>\n",
       "</dd>\n",
       "</dl>\n"
      ],
      "text/latex": [
       "\\begin{description}\n",
       "\\item[\\$selection] \\begin{description*}\n",
       "\\item[AIC(n)] 4\n",
       "\\item[HQ(n)] 2\n",
       "\\item[SC(n)] 1\n",
       "\\item[FPE(n)] 4\n",
       "\\end{description*}\n",
       "\n",
       "\\item[\\$criteria] A matrix: 4 × 10 of type dbl\n",
       "\\begin{tabular}{r|llllllllll}\n",
       "  & 1 & 2 & 3 & 4 & 5 & 6 & 7 & 8 & 9 & 10\\\\\n",
       "\\hline\n",
       "\tAIC(n) & -1.906779e+01 & -1.907550e+01 & -1.907534e+01 & -1.908523e+01 & -1.908502e+01 & -1.907875e+01 & -1.908267e+01 & -1.907815e+01 & -1.907644e+01 & -1.907729e+01\\\\\n",
       "\tHQ(n) & -1.905686e+01 & -1.905728e+01 & -1.904983e+01 & -1.905243e+01 & -1.904493e+01 & -1.903137e+01 & -1.902801e+01 & -1.901619e+01 & -1.900720e+01 & -1.900076e+01\\\\\n",
       "\tSC(n) & -1.903899e+01 & -1.902749e+01 & -1.900813e+01 & -1.899881e+01 & -1.897940e+01 & -1.895392e+01 & -1.893865e+01 & -1.891491e+01 & -1.889401e+01 & -1.887566e+01\\\\\n",
       "\tFPE(n) &  5.235555e-09 &  5.195344e-09 &  5.196184e-09 &  5.145074e-09 &  5.146150e-09 &  5.178520e-09 &  5.158240e-09 &  5.181658e-09 &  5.190502e-09 &  5.186102e-09\\\\\n",
       "\\end{tabular}\n",
       "\n",
       "\\end{description}\n"
      ],
      "text/markdown": [
       "$selection\n",
       ":   AIC(n)\n",
       ":   4HQ(n)\n",
       ":   2SC(n)\n",
       ":   1FPE(n)\n",
       ":   4\n",
       "\n",
       "\n",
       "$criteria\n",
       ":   \n",
       "A matrix: 4 × 10 of type dbl\n",
       "\n",
       "| <!--/--> | 1 | 2 | 3 | 4 | 5 | 6 | 7 | 8 | 9 | 10 |\n",
       "|---|---|---|---|---|---|---|---|---|---|---|\n",
       "| AIC(n) | -1.906779e+01 | -1.907550e+01 | -1.907534e+01 | -1.908523e+01 | -1.908502e+01 | -1.907875e+01 | -1.908267e+01 | -1.907815e+01 | -1.907644e+01 | -1.907729e+01 |\n",
       "| HQ(n) | -1.905686e+01 | -1.905728e+01 | -1.904983e+01 | -1.905243e+01 | -1.904493e+01 | -1.903137e+01 | -1.902801e+01 | -1.901619e+01 | -1.900720e+01 | -1.900076e+01 |\n",
       "| SC(n) | -1.903899e+01 | -1.902749e+01 | -1.900813e+01 | -1.899881e+01 | -1.897940e+01 | -1.895392e+01 | -1.893865e+01 | -1.891491e+01 | -1.889401e+01 | -1.887566e+01 |\n",
       "| FPE(n) |  5.235555e-09 |  5.195344e-09 |  5.196184e-09 |  5.145074e-09 |  5.146150e-09 |  5.178520e-09 |  5.158240e-09 |  5.181658e-09 |  5.190502e-09 |  5.186102e-09 |\n",
       "\n",
       "\n",
       "\n",
       "\n"
      ],
      "text/plain": [
       "$selection\n",
       "AIC(n)  HQ(n)  SC(n) FPE(n) \n",
       "     4      2      1      4 \n",
       "\n",
       "$criteria\n",
       "                   1             2             3             4             5\n",
       "AIC(n) -1.906779e+01 -1.907550e+01 -1.907534e+01 -1.908523e+01 -1.908502e+01\n",
       "HQ(n)  -1.905686e+01 -1.905728e+01 -1.904983e+01 -1.905243e+01 -1.904493e+01\n",
       "SC(n)  -1.903899e+01 -1.902749e+01 -1.900813e+01 -1.899881e+01 -1.897940e+01\n",
       "FPE(n)  5.235555e-09  5.195344e-09  5.196184e-09  5.145074e-09  5.146150e-09\n",
       "                   6             7             8             9            10\n",
       "AIC(n) -1.907875e+01 -1.908267e+01 -1.907815e+01 -1.907644e+01 -1.907729e+01\n",
       "HQ(n)  -1.903137e+01 -1.902801e+01 -1.901619e+01 -1.900720e+01 -1.900076e+01\n",
       "SC(n)  -1.895392e+01 -1.893865e+01 -1.891491e+01 -1.889401e+01 -1.887566e+01\n",
       "FPE(n)  5.178520e-09  5.158240e-09  5.181658e-09  5.190502e-09  5.186102e-09\n"
      ]
     },
     "metadata": {},
     "output_type": "display_data"
    }
   ],
   "source": [
    "VARselect(cr_d)"
   ]
  },
  {
   "cell_type": "code",
   "execution_count": 9,
   "id": "8e35437e-e4fc-4fcf-a01e-3d658c66c709",
   "metadata": {},
   "outputs": [
    {
     "data": {
      "text/plain": [
       "\n",
       "VAR Estimation Results:\n",
       "========================= \n",
       "Endogenous variables: usc, lc \n",
       "Deterministic variables: const \n",
       "Sample size: 1034 \n",
       "Log Likelihood: 6949.637 \n",
       "Roots of the characteristic polynomial:\n",
       "0.5842 0.5842 0.5832 0.5832 0.491 0.433 0.433 0.3079\n",
       "Call:\n",
       "VAR(y = cr_d, p = 4, type = \"const\")\n",
       "\n",
       "\n",
       "Estimation results for equation usc: \n",
       "==================================== \n",
       "usc = usc.l1 + lc.l1 + usc.l2 + lc.l2 + usc.l3 + lc.l3 + usc.l4 + lc.l4 + const \n",
       "\n",
       "         Estimate Std. Error t value Pr(>|t|)  \n",
       "usc.l1  0.0387999  0.0762677   0.509   0.6110  \n",
       "lc.l1   0.0196678  0.0861448   0.228   0.8195  \n",
       "usc.l2 -0.0721081  0.0765240  -0.942   0.3463  \n",
       "lc.l2   0.0620786  0.0862009   0.720   0.4716  \n",
       "usc.l3  0.1358778  0.0761094   1.785   0.0745 .\n",
       "lc.l3  -0.1658952  0.0857692  -1.934   0.0534 .\n",
       "usc.l4 -0.0020958  0.0760928  -0.028   0.9780  \n",
       "lc.l4  -0.1411454  0.0857832  -1.645   0.1002  \n",
       "const   0.0001967  0.0004370   0.450   0.6527  \n",
       "---\n",
       "Signif. codes:  0 ‘***’ 0.001 ‘**’ 0.01 ‘*’ 0.05 ‘.’ 0.1 ‘ ’ 1\n",
       "\n",
       "\n",
       "Residual standard error: 0.01401 on 1025 degrees of freedom\n",
       "Multiple R-Squared: 0.0252,\tAdjusted R-squared: 0.01759 \n",
       "F-statistic: 3.312 on 8 and 1025 DF,  p-value: 0.0009557 \n",
       "\n",
       "\n",
       "Estimation results for equation lc: \n",
       "=================================== \n",
       "lc = usc.l1 + lc.l1 + usc.l2 + lc.l2 + usc.l3 + lc.l3 + usc.l4 + lc.l4 + const \n",
       "\n",
       "         Estimate Std. Error t value Pr(>|t|)  \n",
       "usc.l1  1.083e-01  6.767e-02   1.600   0.1099  \n",
       "lc.l1  -4.865e-02  7.644e-02  -0.636   0.5246  \n",
       "usc.l2 -5.477e-02  6.790e-02  -0.807   0.4201  \n",
       "lc.l2   6.197e-05  7.649e-02   0.001   0.9994  \n",
       "usc.l3  1.513e-01  6.753e-02   2.241   0.0252 *\n",
       "lc.l3  -1.895e-01  7.610e-02  -2.490   0.0129 *\n",
       "usc.l4 -2.450e-02  6.752e-02  -0.363   0.7168  \n",
       "lc.l4  -8.012e-02  7.612e-02  -1.053   0.2928  \n",
       "const   3.375e-04  3.877e-04   0.870   0.3843  \n",
       "---\n",
       "Signif. codes:  0 ‘***’ 0.001 ‘**’ 0.01 ‘*’ 0.05 ‘.’ 0.1 ‘ ’ 1\n",
       "\n",
       "\n",
       "Residual standard error: 0.01244 on 1025 degrees of freedom\n",
       "Multiple R-Squared: 0.02734,\tAdjusted R-squared: 0.01975 \n",
       "F-statistic: 3.602 on 8 and 1025 DF,  p-value: 0.0003879 \n",
       "\n",
       "\n",
       "\n",
       "Covariance matrix of residuals:\n",
       "          usc        lc\n",
       "usc 0.0001964 0.0001591\n",
       "lc  0.0001591 0.0001546\n",
       "\n",
       "Correlation matrix of residuals:\n",
       "       usc     lc\n",
       "usc 1.0000 0.9128\n",
       "lc  0.9128 1.0000\n",
       "\n"
      ]
     },
     "metadata": {},
     "output_type": "display_data"
    }
   ],
   "source": [
    "var_cr<-VAR(cr_d,p = 4,type = \"const\")\n",
    "summary(var_cr)\n",
    "res_cr <- residuals(var_cr)\n",
    "res_cr <- as.data.frame(res_cr)"
   ]
  },
  {
   "cell_type": "code",
   "execution_count": 10,
   "id": "6d5aaa55-fc80-4871-a83a-d368ce29a9c7",
   "metadata": {},
   "outputs": [
    {
     "name": "stdout",
     "output_type": "stream",
     "text": [
      " Date[1:1034], format: \"2011-10-07\" \"2011-10-10\" \"2011-10-11\" \"2011-10-12\" \"2011-10-13\" ...\n"
     ]
    }
   ],
   "source": [
    "ind_var <- index(cr_d)[-c(1:4)]\n",
    "str(ind_var)"
   ]
  },
  {
   "cell_type": "code",
   "execution_count": 11,
   "id": "ea905033-c161-4e05-aa38-c89a66259a4b",
   "metadata": {},
   "outputs": [
    {
     "name": "stdout",
     "output_type": "stream",
     "text": [
      "An xts object on 2011-10-07 / 2015-11-30 containing: \n",
      "  Data:    double [1034, 2]\n",
      "  Columns: usc, lc\n",
      "  Index:   Date [1034] (TZ: \"UTC\")\n"
     ]
    },
    {
     "data": {
      "text/plain": [
       "                    usc           lc\n",
       "2011-10-07 -0.003099505 -0.009961389\n",
       "2011-10-10  0.002806055 -0.005969513\n",
       "2011-10-11 -0.018113194 -0.013191439\n",
       "2011-10-12  0.011940364 -0.001338381\n",
       "2011-10-13 -0.004180043 -0.006704783\n",
       "2011-10-14  0.015967754  0.010650408"
      ]
     },
     "metadata": {},
     "output_type": "display_data"
    }
   ],
   "source": [
    "res_cr <- xts(res_cr,order.by = ind_var)\n",
    "str(res_cr)\n",
    "head(res_cr)"
   ]
  },
  {
   "cell_type": "code",
   "execution_count": 12,
   "id": "339397bb-5147-4890-b99a-3abdfa1aae48",
   "metadata": {},
   "outputs": [],
   "source": [
    "bekk_spec <- bekk_spec(model = list(type = \"bekk\",asymmetric = F))\n",
    "bekk_fit <- bekk_fit(spec = bekk_spec,data = res_cr)"
   ]
  },
  {
   "cell_type": "code",
   "execution_count": 13,
   "id": "630942da-8e23-4aff-89c9-5374b7a5a95e",
   "metadata": {},
   "outputs": [
    {
     "data": {
      "text/html": [
       "<table class=\"dataframe\">\n",
       "<caption>A matrix: 2 × 2 of type dbl</caption>\n",
       "<tbody>\n",
       "\t<tr><td>0.17463723</td><td>0.08501612</td></tr>\n",
       "\t<tr><td>0.01718164</td><td>0.12228524</td></tr>\n",
       "</tbody>\n",
       "</table>\n"
      ],
      "text/latex": [
       "A matrix: 2 × 2 of type dbl\n",
       "\\begin{tabular}{ll}\n",
       "\t 0.17463723 & 0.08501612\\\\\n",
       "\t 0.01718164 & 0.12228524\\\\\n",
       "\\end{tabular}\n"
      ],
      "text/markdown": [
       "\n",
       "A matrix: 2 × 2 of type dbl\n",
       "\n",
       "| 0.17463723 | 0.08501612 |\n",
       "| 0.01718164 | 0.12228524 |\n",
       "\n"
      ],
      "text/plain": [
       "     [,1]       [,2]      \n",
       "[1,] 0.17463723 0.08501612\n",
       "[2,] 0.01718164 0.12228524"
      ]
     },
     "metadata": {},
     "output_type": "display_data"
    },
    {
     "data": {
      "text/html": [
       "<table class=\"dataframe\">\n",
       "<caption>A matrix: 2 × 2 of type dbl</caption>\n",
       "<tbody>\n",
       "\t<tr><td>3.9910162</td><td>2.080773</td></tr>\n",
       "\t<tr><td>0.3454919</td><td>2.775230</td></tr>\n",
       "</tbody>\n",
       "</table>\n"
      ],
      "text/latex": [
       "A matrix: 2 × 2 of type dbl\n",
       "\\begin{tabular}{ll}\n",
       "\t 3.9910162 & 2.080773\\\\\n",
       "\t 0.3454919 & 2.775230\\\\\n",
       "\\end{tabular}\n"
      ],
      "text/markdown": [
       "\n",
       "A matrix: 2 × 2 of type dbl\n",
       "\n",
       "| 3.9910162 | 2.080773 |\n",
       "| 0.3454919 | 2.775230 |\n",
       "\n"
      ],
      "text/plain": [
       "     [,1]      [,2]    \n",
       "[1,] 3.9910162 2.080773\n",
       "[2,] 0.3454919 2.775230"
      ]
     },
     "metadata": {},
     "output_type": "display_data"
    },
    {
     "data": {
      "text/html": [
       "<table class=\"dataframe\">\n",
       "<caption>A matrix: 2 × 2 of type dbl</caption>\n",
       "<tbody>\n",
       "\t<tr><td>0.94803092</td><td>-0.04378561</td></tr>\n",
       "\t<tr><td>0.03630114</td><td> 1.01897621</td></tr>\n",
       "</tbody>\n",
       "</table>\n"
      ],
      "text/latex": [
       "A matrix: 2 × 2 of type dbl\n",
       "\\begin{tabular}{ll}\n",
       "\t 0.94803092 & -0.04378561\\\\\n",
       "\t 0.03630114 &  1.01897621\\\\\n",
       "\\end{tabular}\n"
      ],
      "text/markdown": [
       "\n",
       "A matrix: 2 × 2 of type dbl\n",
       "\n",
       "| 0.94803092 | -0.04378561 |\n",
       "| 0.03630114 |  1.01897621 |\n",
       "\n"
      ],
      "text/plain": [
       "     [,1]       [,2]       \n",
       "[1,] 0.94803092 -0.04378561\n",
       "[2,] 0.03630114  1.01897621"
      ]
     },
     "metadata": {},
     "output_type": "display_data"
    },
    {
     "data": {
      "text/html": [
       "<table class=\"dataframe\">\n",
       "<caption>A matrix: 2 × 2 of type dbl</caption>\n",
       "<tbody>\n",
       "\t<tr><td>86.416001</td><td>-4.547753</td></tr>\n",
       "\t<tr><td> 2.641211</td><td>88.814276</td></tr>\n",
       "</tbody>\n",
       "</table>\n"
      ],
      "text/latex": [
       "A matrix: 2 × 2 of type dbl\n",
       "\\begin{tabular}{ll}\n",
       "\t 86.416001 & -4.547753\\\\\n",
       "\t  2.641211 & 88.814276\\\\\n",
       "\\end{tabular}\n"
      ],
      "text/markdown": [
       "\n",
       "A matrix: 2 × 2 of type dbl\n",
       "\n",
       "| 86.416001 | -4.547753 |\n",
       "|  2.641211 | 88.814276 |\n",
       "\n"
      ],
      "text/plain": [
       "     [,1]      [,2]     \n",
       "[1,] 86.416001 -4.547753\n",
       "[2,]  2.641211 88.814276"
      ]
     },
     "metadata": {},
     "output_type": "display_data"
    }
   ],
   "source": [
    "bekk_fit$A\n",
    "bekk_fit$A_t\n",
    "bekk_fit$G\n",
    "bekk_fit$G_t"
   ]
  },
  {
   "cell_type": "markdown",
   "id": "31bca0aa-3d77-4a60-b687-e0ae76658761",
   "metadata": {},
   "source": [
    "### VAR-BEKK Model Table for US Cocoa - London Cocoa"
   ]
  },
  {
   "cell_type": "code",
   "execution_count": 14,
   "id": "82968120-5087-4625-a09c-f3489ef5c8c1",
   "metadata": {},
   "outputs": [
    {
     "data": {
      "text/html": [
       "<table class=\"dataframe\">\n",
       "<caption>A data.frame: 26 × 5</caption>\n",
       "<thead>\n",
       "\t<tr><th scope=col>Parameters</th><th scope=col>Coefficient</th><th scope=col>Std_error</th><th scope=col>T_value</th><th scope=col>Significant_at_5p_level</th></tr>\n",
       "\t<tr><th scope=col>&lt;chr&gt;</th><th scope=col>&lt;dbl&gt;</th><th scope=col>&lt;dbl&gt;</th><th scope=col>&lt;dbl&gt;</th><th scope=col>&lt;chr&gt;</th></tr>\n",
       "</thead>\n",
       "<tbody>\n",
       "\t<tr><td>mu10 </td><td> 1.966947e-04</td><td>0.0004369523</td><td> 0.4501514120</td><td>Not Statistically Significant</td></tr>\n",
       "\t<tr><td>mu20 </td><td> 3.374724e-04</td><td>0.0003877170</td><td> 0.8704089794</td><td>Not Statistically Significant</td></tr>\n",
       "\t<tr><td>phi11</td><td> 3.879991e-02</td><td>0.0762677210</td><td> 0.5087330948</td><td>Not Statistically Significant</td></tr>\n",
       "\t<tr><td>phi12</td><td> 1.966779e-02</td><td>0.0861448442</td><td> 0.2283106766</td><td>Not Statistically Significant</td></tr>\n",
       "\t<tr><td>phi13</td><td>-7.210814e-02</td><td>0.0765240343</td><td>-0.9422939693</td><td>Not Statistically Significant</td></tr>\n",
       "\t<tr><td>phi14</td><td> 6.207856e-02</td><td>0.0862009482</td><td> 0.7201610411</td><td>Not Statistically Significant</td></tr>\n",
       "\t<tr><td>phi15</td><td> 1.358778e-01</td><td>0.0761094187</td><td> 1.7852948118</td><td>Stat significant at 10%      </td></tr>\n",
       "\t<tr><td>phi16</td><td>-1.658952e-01</td><td>0.0857691987</td><td>-1.9342043760</td><td>Stat significant at 10%      </td></tr>\n",
       "\t<tr><td>phi17</td><td>-2.095771e-03</td><td>0.0760927524</td><td>-0.0275423246</td><td>Not Statistically Significant</td></tr>\n",
       "\t<tr><td>phi18</td><td>-1.411454e-01</td><td>0.0857831830</td><td>-1.6453735825</td><td>Stat significant at 10%      </td></tr>\n",
       "\t<tr><td>phi21</td><td> 1.082683e-01</td><td>0.0676739675</td><td> 1.5998512971</td><td>Not Statistically Significant</td></tr>\n",
       "\t<tr><td>phi22</td><td>-4.865056e-02</td><td>0.0764381485</td><td>-0.6364696755</td><td>Not Statistically Significant</td></tr>\n",
       "\t<tr><td>phi23</td><td>-5.476530e-02</td><td>0.0679013997</td><td>-0.8065415567</td><td>Not Statistically Significant</td></tr>\n",
       "\t<tr><td>phi24</td><td> 6.196582e-05</td><td>0.0764879307</td><td> 0.0008101386</td><td>Not Statistically Significant</td></tr>\n",
       "\t<tr><td>phi25</td><td> 1.513437e-01</td><td>0.0675335025</td><td> 2.2410169400</td><td>Stat significant at 5%       </td></tr>\n",
       "\t<tr><td>phi26</td><td>-1.894666e-01</td><td>0.0761048303</td><td>-2.4895475961</td><td>Stat significant at 5%       </td></tr>\n",
       "\t<tr><td>phi27</td><td>-2.449524e-02</td><td>0.0675187141</td><td>-0.3627918846</td><td>Not Statistically Significant</td></tr>\n",
       "\t<tr><td>phi28</td><td>-8.012397e-02</td><td>0.0761172388</td><td>-1.0526389372</td><td>Not Statistically Significant</td></tr>\n",
       "\t<tr><td>a11  </td><td> 1.746372e-01</td><td>0.0437575838</td><td> 3.9910162339</td><td>Stat significant at 1%       </td></tr>\n",
       "\t<tr><td>a12  </td><td> 8.501612e-02</td><td>0.0408579470</td><td> 2.0807730548</td><td>Stat significant at 5%       </td></tr>\n",
       "\t<tr><td>a21  </td><td> 1.718164e-02</td><td>0.0497309500</td><td> 0.3454918940</td><td>Not Statistically Significant</td></tr>\n",
       "\t<tr><td>a22  </td><td> 1.222852e-01</td><td>0.0440631086</td><td> 2.7752295067</td><td>Stat significant at 1%       </td></tr>\n",
       "\t<tr><td>g11  </td><td> 9.480309e-01</td><td>0.0109705483</td><td>86.4160009192</td><td>Stat significant at 1%       </td></tr>\n",
       "\t<tr><td>g12  </td><td>-4.378561e-02</td><td>0.0096279650</td><td>-4.5477534723</td><td>Stat significant at 1%       </td></tr>\n",
       "\t<tr><td>g21  </td><td> 3.630114e-02</td><td>0.0137441247</td><td> 2.6412113236</td><td>Stat significant at 1%       </td></tr>\n",
       "\t<tr><td>g22  </td><td> 1.018976e+00</td><td>0.0114731129</td><td>88.8142756616</td><td>Stat significant at 1%       </td></tr>\n",
       "</tbody>\n",
       "</table>\n"
      ],
      "text/latex": [
       "A data.frame: 26 × 5\n",
       "\\begin{tabular}{lllll}\n",
       " Parameters & Coefficient & Std\\_error & T\\_value & Significant\\_at\\_5p\\_level\\\\\n",
       " <chr> & <dbl> & <dbl> & <dbl> & <chr>\\\\\n",
       "\\hline\n",
       "\t mu10  &  1.966947e-04 & 0.0004369523 &  0.4501514120 & Not Statistically Significant\\\\\n",
       "\t mu20  &  3.374724e-04 & 0.0003877170 &  0.8704089794 & Not Statistically Significant\\\\\n",
       "\t phi11 &  3.879991e-02 & 0.0762677210 &  0.5087330948 & Not Statistically Significant\\\\\n",
       "\t phi12 &  1.966779e-02 & 0.0861448442 &  0.2283106766 & Not Statistically Significant\\\\\n",
       "\t phi13 & -7.210814e-02 & 0.0765240343 & -0.9422939693 & Not Statistically Significant\\\\\n",
       "\t phi14 &  6.207856e-02 & 0.0862009482 &  0.7201610411 & Not Statistically Significant\\\\\n",
       "\t phi15 &  1.358778e-01 & 0.0761094187 &  1.7852948118 & Stat significant at 10\\%      \\\\\n",
       "\t phi16 & -1.658952e-01 & 0.0857691987 & -1.9342043760 & Stat significant at 10\\%      \\\\\n",
       "\t phi17 & -2.095771e-03 & 0.0760927524 & -0.0275423246 & Not Statistically Significant\\\\\n",
       "\t phi18 & -1.411454e-01 & 0.0857831830 & -1.6453735825 & Stat significant at 10\\%      \\\\\n",
       "\t phi21 &  1.082683e-01 & 0.0676739675 &  1.5998512971 & Not Statistically Significant\\\\\n",
       "\t phi22 & -4.865056e-02 & 0.0764381485 & -0.6364696755 & Not Statistically Significant\\\\\n",
       "\t phi23 & -5.476530e-02 & 0.0679013997 & -0.8065415567 & Not Statistically Significant\\\\\n",
       "\t phi24 &  6.196582e-05 & 0.0764879307 &  0.0008101386 & Not Statistically Significant\\\\\n",
       "\t phi25 &  1.513437e-01 & 0.0675335025 &  2.2410169400 & Stat significant at 5\\%       \\\\\n",
       "\t phi26 & -1.894666e-01 & 0.0761048303 & -2.4895475961 & Stat significant at 5\\%       \\\\\n",
       "\t phi27 & -2.449524e-02 & 0.0675187141 & -0.3627918846 & Not Statistically Significant\\\\\n",
       "\t phi28 & -8.012397e-02 & 0.0761172388 & -1.0526389372 & Not Statistically Significant\\\\\n",
       "\t a11   &  1.746372e-01 & 0.0437575838 &  3.9910162339 & Stat significant at 1\\%       \\\\\n",
       "\t a12   &  8.501612e-02 & 0.0408579470 &  2.0807730548 & Stat significant at 5\\%       \\\\\n",
       "\t a21   &  1.718164e-02 & 0.0497309500 &  0.3454918940 & Not Statistically Significant\\\\\n",
       "\t a22   &  1.222852e-01 & 0.0440631086 &  2.7752295067 & Stat significant at 1\\%       \\\\\n",
       "\t g11   &  9.480309e-01 & 0.0109705483 & 86.4160009192 & Stat significant at 1\\%       \\\\\n",
       "\t g12   & -4.378561e-02 & 0.0096279650 & -4.5477534723 & Stat significant at 1\\%       \\\\\n",
       "\t g21   &  3.630114e-02 & 0.0137441247 &  2.6412113236 & Stat significant at 1\\%       \\\\\n",
       "\t g22   &  1.018976e+00 & 0.0114731129 & 88.8142756616 & Stat significant at 1\\%       \\\\\n",
       "\\end{tabular}\n"
      ],
      "text/markdown": [
       "\n",
       "A data.frame: 26 × 5\n",
       "\n",
       "| Parameters &lt;chr&gt; | Coefficient &lt;dbl&gt; | Std_error &lt;dbl&gt; | T_value &lt;dbl&gt; | Significant_at_5p_level &lt;chr&gt; |\n",
       "|---|---|---|---|---|\n",
       "| mu10  |  1.966947e-04 | 0.0004369523 |  0.4501514120 | Not Statistically Significant |\n",
       "| mu20  |  3.374724e-04 | 0.0003877170 |  0.8704089794 | Not Statistically Significant |\n",
       "| phi11 |  3.879991e-02 | 0.0762677210 |  0.5087330948 | Not Statistically Significant |\n",
       "| phi12 |  1.966779e-02 | 0.0861448442 |  0.2283106766 | Not Statistically Significant |\n",
       "| phi13 | -7.210814e-02 | 0.0765240343 | -0.9422939693 | Not Statistically Significant |\n",
       "| phi14 |  6.207856e-02 | 0.0862009482 |  0.7201610411 | Not Statistically Significant |\n",
       "| phi15 |  1.358778e-01 | 0.0761094187 |  1.7852948118 | Stat significant at 10%       |\n",
       "| phi16 | -1.658952e-01 | 0.0857691987 | -1.9342043760 | Stat significant at 10%       |\n",
       "| phi17 | -2.095771e-03 | 0.0760927524 | -0.0275423246 | Not Statistically Significant |\n",
       "| phi18 | -1.411454e-01 | 0.0857831830 | -1.6453735825 | Stat significant at 10%       |\n",
       "| phi21 |  1.082683e-01 | 0.0676739675 |  1.5998512971 | Not Statistically Significant |\n",
       "| phi22 | -4.865056e-02 | 0.0764381485 | -0.6364696755 | Not Statistically Significant |\n",
       "| phi23 | -5.476530e-02 | 0.0679013997 | -0.8065415567 | Not Statistically Significant |\n",
       "| phi24 |  6.196582e-05 | 0.0764879307 |  0.0008101386 | Not Statistically Significant |\n",
       "| phi25 |  1.513437e-01 | 0.0675335025 |  2.2410169400 | Stat significant at 5%        |\n",
       "| phi26 | -1.894666e-01 | 0.0761048303 | -2.4895475961 | Stat significant at 5%        |\n",
       "| phi27 | -2.449524e-02 | 0.0675187141 | -0.3627918846 | Not Statistically Significant |\n",
       "| phi28 | -8.012397e-02 | 0.0761172388 | -1.0526389372 | Not Statistically Significant |\n",
       "| a11   |  1.746372e-01 | 0.0437575838 |  3.9910162339 | Stat significant at 1%        |\n",
       "| a12   |  8.501612e-02 | 0.0408579470 |  2.0807730548 | Stat significant at 5%        |\n",
       "| a21   |  1.718164e-02 | 0.0497309500 |  0.3454918940 | Not Statistically Significant |\n",
       "| a22   |  1.222852e-01 | 0.0440631086 |  2.7752295067 | Stat significant at 1%        |\n",
       "| g11   |  9.480309e-01 | 0.0109705483 | 86.4160009192 | Stat significant at 1%        |\n",
       "| g12   | -4.378561e-02 | 0.0096279650 | -4.5477534723 | Stat significant at 1%        |\n",
       "| g21   |  3.630114e-02 | 0.0137441247 |  2.6412113236 | Stat significant at 1%        |\n",
       "| g22   |  1.018976e+00 | 0.0114731129 | 88.8142756616 | Stat significant at 1%        |\n",
       "\n"
      ],
      "text/plain": [
       "   Parameters Coefficient   Std_error    T_value      \n",
       "1  mu10        1.966947e-04 0.0004369523  0.4501514120\n",
       "2  mu20        3.374724e-04 0.0003877170  0.8704089794\n",
       "3  phi11       3.879991e-02 0.0762677210  0.5087330948\n",
       "4  phi12       1.966779e-02 0.0861448442  0.2283106766\n",
       "5  phi13      -7.210814e-02 0.0765240343 -0.9422939693\n",
       "6  phi14       6.207856e-02 0.0862009482  0.7201610411\n",
       "7  phi15       1.358778e-01 0.0761094187  1.7852948118\n",
       "8  phi16      -1.658952e-01 0.0857691987 -1.9342043760\n",
       "9  phi17      -2.095771e-03 0.0760927524 -0.0275423246\n",
       "10 phi18      -1.411454e-01 0.0857831830 -1.6453735825\n",
       "11 phi21       1.082683e-01 0.0676739675  1.5998512971\n",
       "12 phi22      -4.865056e-02 0.0764381485 -0.6364696755\n",
       "13 phi23      -5.476530e-02 0.0679013997 -0.8065415567\n",
       "14 phi24       6.196582e-05 0.0764879307  0.0008101386\n",
       "15 phi25       1.513437e-01 0.0675335025  2.2410169400\n",
       "16 phi26      -1.894666e-01 0.0761048303 -2.4895475961\n",
       "17 phi27      -2.449524e-02 0.0675187141 -0.3627918846\n",
       "18 phi28      -8.012397e-02 0.0761172388 -1.0526389372\n",
       "19 a11         1.746372e-01 0.0437575838  3.9910162339\n",
       "20 a12         8.501612e-02 0.0408579470  2.0807730548\n",
       "21 a21         1.718164e-02 0.0497309500  0.3454918940\n",
       "22 a22         1.222852e-01 0.0440631086  2.7752295067\n",
       "23 g11         9.480309e-01 0.0109705483 86.4160009192\n",
       "24 g12        -4.378561e-02 0.0096279650 -4.5477534723\n",
       "25 g21         3.630114e-02 0.0137441247  2.6412113236\n",
       "26 g22         1.018976e+00 0.0114731129 88.8142756616\n",
       "   Significant_at_5p_level      \n",
       "1  Not Statistically Significant\n",
       "2  Not Statistically Significant\n",
       "3  Not Statistically Significant\n",
       "4  Not Statistically Significant\n",
       "5  Not Statistically Significant\n",
       "6  Not Statistically Significant\n",
       "7  Stat significant at 10%      \n",
       "8  Stat significant at 10%      \n",
       "9  Not Statistically Significant\n",
       "10 Stat significant at 10%      \n",
       "11 Not Statistically Significant\n",
       "12 Not Statistically Significant\n",
       "13 Not Statistically Significant\n",
       "14 Not Statistically Significant\n",
       "15 Stat significant at 5%       \n",
       "16 Stat significant at 5%       \n",
       "17 Not Statistically Significant\n",
       "18 Not Statistically Significant\n",
       "19 Stat significant at 1%       \n",
       "20 Stat significant at 5%       \n",
       "21 Not Statistically Significant\n",
       "22 Stat significant at 1%       \n",
       "23 Stat significant at 1%       \n",
       "24 Stat significant at 1%       \n",
       "25 Stat significant at 1%       \n",
       "26 Stat significant at 1%       "
      ]
     },
     "metadata": {},
     "output_type": "display_data"
    }
   ],
   "source": [
    "bekkc <- data.frame(Parameters = c(\"mu10\",\"mu20\",\"phi11\",\"phi12\",\"phi13\",\"phi14\",\"phi15\",\"phi16\",\"phi17\",\"phi18\",\"phi21\",\"phi22\",\"phi23\",\"phi24\",\"phi25\",\"phi26\",\"phi27\",\"phi28\",\"a11\",\"a12\",\"a21\",\"a22\",\"g11\",\"g12\",\"g21\",\"g22\"),\n",
    "                   Coefficient = c(summary(var_cr)$varresult$usc$coefficients[\"const\",\"Estimate\"],summary(var_cr)$varresult$lc$coefficients[\"const\",\"Estimate\"],\n",
    "                                   summary(var_cr)$varresult$usc$coefficients[\"usc.l1\",\"Estimate\"],summary(var_cr)$varresult$usc$coefficients[\"lc.l1\",\"Estimate\"],\n",
    "                                   summary(var_cr)$varresult$usc$coefficients[\"usc.l2\",\"Estimate\"],summary(var_cr)$varresult$usc$coefficients[\"lc.l2\",\"Estimate\"],\n",
    "                                   summary(var_cr)$varresult$usc$coefficients[\"usc.l3\",\"Estimate\"],summary(var_cr)$varresult$usc$coefficients[\"lc.l3\",\"Estimate\"],\n",
    "                                   summary(var_cr)$varresult$usc$coefficients[\"usc.l4\",\"Estimate\"],summary(var_cr)$varresult$usc$coefficients[\"lc.l4\",\"Estimate\"],\n",
    "                                   summary(var_cr)$varresult$lc$coefficients[\"usc.l1\",\"Estimate\"],summary(var_cr)$varresult$lc$coefficients[\"lc.l1\",\"Estimate\"],\n",
    "                                   summary(var_cr)$varresult$lc$coefficients[\"usc.l2\",\"Estimate\"],summary(var_cr)$varresult$lc$coefficients[\"lc.l2\",\"Estimate\"],\n",
    "                                   summary(var_cr)$varresult$lc$coefficients[\"usc.l3\",\"Estimate\"],summary(var_cr)$varresult$lc$coefficients[\"lc.l3\",\"Estimate\"],\n",
    "                                   summary(var_cr)$varresult$lc$coefficients[\"usc.l4\",\"Estimate\"],summary(var_cr)$varresult$lc$coefficients[\"lc.l4\",\"Estimate\"],\n",
    "                                   bekk_fit$A[1,1],bekk_fit$A[1,2],bekk_fit$A[2,1],bekk_fit$A[2,2],bekk_fit$G[1,1],bekk_fit$G[1,2],bekk_fit$G[2,1],bekk_fit$G[2,2]),\n",
    "                   Std_error = c(summary(var_cr)$varresult$usc$coefficients[\"const\",\"Std. Error\"],summary(var_cr)$varresult$lc$coefficients[\"const\",\"Std. Error\"],\n",
    "                                   summary(var_cr)$varresult$usc$coefficients[\"usc.l1\",\"Std. Error\"],summary(var_cr)$varresult$usc$coefficients[\"lc.l1\",\"Std. Error\"],\n",
    "                                   summary(var_cr)$varresult$usc$coefficients[\"usc.l2\",\"Std. Error\"],summary(var_cr)$varresult$usc$coefficients[\"lc.l2\",\"Std. Error\"],\n",
    "                                   summary(var_cr)$varresult$usc$coefficients[\"usc.l3\",\"Std. Error\"],summary(var_cr)$varresult$usc$coefficients[\"lc.l3\",\"Std. Error\"],\n",
    "                                   summary(var_cr)$varresult$usc$coefficients[\"usc.l4\",\"Std. Error\"],summary(var_cr)$varresult$usc$coefficients[\"lc.l4\",\"Std. Error\"],\n",
    "                                   summary(var_cr)$varresult$lc$coefficients[\"usc.l1\",\"Std. Error\"],summary(var_cr)$varresult$lc$coefficients[\"lc.l1\",\"Std. Error\"],\n",
    "                                   summary(var_cr)$varresult$lc$coefficients[\"usc.l2\",\"Std. Error\"],summary(var_cr)$varresult$lc$coefficients[\"lc.l2\",\"Std. Error\"],\n",
    "                                   summary(var_cr)$varresult$lc$coefficients[\"usc.l3\",\"Std. Error\"],summary(var_cr)$varresult$lc$coefficients[\"lc.l3\",\"Std. Error\"],\n",
    "                                   summary(var_cr)$varresult$lc$coefficients[\"usc.l4\",\"Std. Error\"],summary(var_cr)$varresult$lc$coefficients[\"lc.l4\",\"Std. Error\"],\n",
    "                                   bekk_fit$A_sd[1,1],bekk_fit$A_sd[1,2],bekk_fit$A_sd[2,1],bekk_fit$A_sd[2,2],bekk_fit$G_sd[1,1],bekk_fit$G_sd[1,2],bekk_fit$G_sd[2,1],bekk_fit$G_sd[2,2]),\n",
    "                   T_value = c(summary(var_cr)$varresult$usc$coefficients[\"const\",\"t value\"],summary(var_cr)$varresult$lc$coefficients[\"const\",\"t value\"],\n",
    "                                   summary(var_cr)$varresult$usc$coefficients[\"usc.l1\",\"t value\"],summary(var_cr)$varresult$usc$coefficients[\"lc.l1\",\"t value\"],\n",
    "                                   summary(var_cr)$varresult$usc$coefficients[\"usc.l2\",\"t value\"],summary(var_cr)$varresult$usc$coefficients[\"lc.l2\",\"t value\"],\n",
    "                                   summary(var_cr)$varresult$usc$coefficients[\"usc.l3\",\"t value\"],summary(var_cr)$varresult$usc$coefficients[\"lc.l3\",\"t value\"],\n",
    "                                   summary(var_cr)$varresult$usc$coefficients[\"usc.l4\",\"t value\"],summary(var_cr)$varresult$usc$coefficients[\"lc.l4\",\"t value\"],\n",
    "                                   summary(var_cr)$varresult$lc$coefficients[\"usc.l1\",\"t value\"],summary(var_cr)$varresult$lc$coefficients[\"lc.l1\",\"t value\"],\n",
    "                                   summary(var_cr)$varresult$lc$coefficients[\"usc.l2\",\"t value\"],summary(var_cr)$varresult$lc$coefficients[\"lc.l2\",\"t value\"],\n",
    "                                   summary(var_cr)$varresult$lc$coefficients[\"usc.l3\",\"t value\"],summary(var_cr)$varresult$lc$coefficients[\"lc.l3\",\"t value\"],\n",
    "                                   summary(var_cr)$varresult$lc$coefficients[\"usc.l4\",\"t value\"],summary(var_cr)$varresult$lc$coefficients[\"lc.l4\",\"t value\"],\n",
    "                                   bekk_fit$A_t[1,1],bekk_fit$A_t[1,2],bekk_fit$A_t[2,1],bekk_fit$A_t[2,2],bekk_fit$G_t[1,1],bekk_fit$G_t[1,2],bekk_fit$G_t[2,1],bekk_fit$G_t[2,2]))\n",
    "\n",
    "bekkc$Significant_at_5p_level[abs(bekkc$T_value) >= 2.58 ] <- \"Stat significant at 1%\"\n",
    "bekkc$Significant_at_5p_level[abs(bekkc$T_value) > 1.96 & abs(bekkc$T_value) < 2.58] <- \"Stat significant at 5%\"\n",
    "bekkc$Significant_at_5p_level[abs(bekkc$T_value) > 1.645 & abs(bekkc$T_value) <= 1.96 ] <- \"Stat significant at 10%\"\n",
    "bekkc$Significant_at_5p_level[abs(bekkc$T_value) <= 1.645] <- \"Not Statistically Significant\"\n",
    "bekkc"
   ]
  },
  {
   "cell_type": "code",
   "execution_count": 15,
   "id": "f4b634c3-c54f-4c0d-abae-2f604f58e57a",
   "metadata": {},
   "outputs": [
    {
     "data": {
      "text/plain": [
       "\n",
       "\tGranger causality H0: usc do not Granger-cause lc\n",
       "\n",
       "data:  VAR object var_cr\n",
       "F-Test = 2.2149, df1 = 4, df2 = 2050, p-value = 0.0651\n"
      ]
     },
     "metadata": {},
     "output_type": "display_data"
    },
    {
     "data": {
      "text/plain": [
       "\n",
       "\tGranger causality H0: lc do not Granger-cause usc\n",
       "\n",
       "data:  VAR object var_cr\n",
       "F-Test = 1.7589, df1 = 4, df2 = 2050, p-value = 0.1345\n"
      ]
     },
     "metadata": {},
     "output_type": "display_data"
    }
   ],
   "source": [
    "causality(var_cr,cause = \"usc\")$Granger\n",
    "causality(var_cr,cause = \"lc\")$Granger"
   ]
  },
  {
   "cell_type": "markdown",
   "id": "6617ba68-303f-4594-9afd-8e4fe38e7256",
   "metadata": {},
   "source": [
    "## (ii) VAR-BEKK Models for NY Cocoa"
   ]
  },
  {
   "cell_type": "code",
   "execution_count": 16,
   "id": "c0fc5381-3fc5-482d-95dd-547df603f0c6",
   "metadata": {},
   "outputs": [
    {
     "name": "stdout",
     "output_type": "stream",
     "text": [
      "An xts object on 2011-10-03 / 2015-11-30 containing: \n",
      "  Data:    double [1038, 9]\n",
      "  Columns: usc, eurusd, gbpusd, chfusd, usdgbp ... with 4 more columns\n",
      "  Index:   Date [1038] (TZ: \"UTC\")\n",
      "  xts Attributes:\n",
      "    $ na.action       : 'omit' int [1:3353] 1 2 3 4 5 6 7 8 9 10 ...\n",
      "  ..- attr(*, \"index\")= num [1:3353] 1.18e+09 1.18e+09 1.18e+09 1.18e+09 1.18e+09 ...\n",
      "    $ ret_type        : chr \"log\"\n",
      "    $ coredata_content: chr \"logReturn\"\n"
     ]
    }
   ],
   "source": [
    "us_d <- na.omit(merge(cr_d[,1],fr_d))\n",
    "str(us_d)"
   ]
  },
  {
   "cell_type": "markdown",
   "id": "f0bf6c6a-ca71-463a-9ea2-220df63318b8",
   "metadata": {},
   "source": [
    "## (a) US Cocoa - EURUSD"
   ]
  },
  {
   "cell_type": "code",
   "execution_count": 17,
   "id": "47cde9ab-0281-46d0-ba3d-8de5b9ddf528",
   "metadata": {},
   "outputs": [
    {
     "data": {
      "text/plain": [
       "                    usc        eurusd\n",
       "2011-10-03 -0.013688427 -0.0163058347\n",
       "2011-10-04  0.004202489  0.0128634905\n",
       "2011-10-05  0.011749235  0.0005995204\n",
       "2011-10-06  0.011985162  0.0063105827\n",
       "2011-10-07 -0.002609508 -0.0041029524\n",
       "2011-10-10  0.001864629  0.0196890265"
      ]
     },
     "metadata": {},
     "output_type": "display_data"
    },
    {
     "data": {
      "text/plain": [
       "                    usc        eurusd\n",
       "2015-11-20 -0.002668645 -0.0082320390\n",
       "2015-11-23 -0.018580097 -0.0009397614\n",
       "2015-11-24  0.009632826  0.0004699911\n",
       "2015-11-25 -0.010237970 -0.0013635831\n",
       "2015-11-27  0.001814334 -0.0016506713\n",
       "2015-11-30  0.008723172 -0.0026940817"
      ]
     },
     "metadata": {},
     "output_type": "display_data"
    },
    {
     "data": {
      "text/html": [
       "<dl>\n",
       "\t<dt>$selection</dt>\n",
       "\t\t<dd><style>\n",
       ".dl-inline {width: auto; margin:0; padding: 0}\n",
       ".dl-inline>dt, .dl-inline>dd {float: none; width: auto; display: inline-block}\n",
       ".dl-inline>dt::after {content: \":\\0020\"; padding-right: .5ex}\n",
       ".dl-inline>dt:not(:first-of-type) {padding-left: .5ex}\n",
       "</style><dl class=dl-inline><dt>AIC(n)</dt><dd>1</dd><dt>HQ(n)</dt><dd>1</dd><dt>SC(n)</dt><dd>1</dd><dt>FPE(n)</dt><dd>1</dd></dl>\n",
       "</dd>\n",
       "\t<dt>$criteria</dt>\n",
       "\t\t<dd><table class=\"dataframe\">\n",
       "<caption>A matrix: 4 × 10 of type dbl</caption>\n",
       "<thead>\n",
       "\t<tr><th></th><th scope=col>1</th><th scope=col>2</th><th scope=col>3</th><th scope=col>4</th><th scope=col>5</th><th scope=col>6</th><th scope=col>7</th><th scope=col>8</th><th scope=col>9</th><th scope=col>10</th></tr>\n",
       "</thead>\n",
       "<tbody>\n",
       "\t<tr><th scope=row>AIC(n)</th><td>-1.890708e+01</td><td>-1.889991e+01</td><td>-1.889369e+01</td><td>-1.890350e+01</td><td>-1.889956e+01</td><td>-1.889832e+01</td><td>-1.889408e+01</td><td>-1.888834e+01</td><td>-1.888289e+01</td><td>-1.887922e+01</td></tr>\n",
       "\t<tr><th scope=row>HQ(n)</th><td>-1.889614e+01</td><td>-1.888169e+01</td><td>-1.886818e+01</td><td>-1.887070e+01</td><td>-1.885947e+01</td><td>-1.885094e+01</td><td>-1.883942e+01</td><td>-1.882639e+01</td><td>-1.881364e+01</td><td>-1.880269e+01</td></tr>\n",
       "\t<tr><th scope=row>SC(n)</th><td>-1.887827e+01</td><td>-1.885190e+01</td><td>-1.882648e+01</td><td>-1.881708e+01</td><td>-1.879393e+01</td><td>-1.877349e+01</td><td>-1.875006e+01</td><td>-1.872511e+01</td><td>-1.870045e+01</td><td>-1.867758e+01</td></tr>\n",
       "\t<tr><th scope=row>FPE(n)</th><td> 6.148390e-09</td><td> 6.192613e-09</td><td> 6.231228e-09</td><td> 6.170445e-09</td><td> 6.194811e-09</td><td> 6.202480e-09</td><td> 6.228809e-09</td><td> 6.264694e-09</td><td> 6.298979e-09</td><td> 6.322120e-09</td></tr>\n",
       "</tbody>\n",
       "</table>\n",
       "</dd>\n",
       "</dl>\n"
      ],
      "text/latex": [
       "\\begin{description}\n",
       "\\item[\\$selection] \\begin{description*}\n",
       "\\item[AIC(n)] 1\n",
       "\\item[HQ(n)] 1\n",
       "\\item[SC(n)] 1\n",
       "\\item[FPE(n)] 1\n",
       "\\end{description*}\n",
       "\n",
       "\\item[\\$criteria] A matrix: 4 × 10 of type dbl\n",
       "\\begin{tabular}{r|llllllllll}\n",
       "  & 1 & 2 & 3 & 4 & 5 & 6 & 7 & 8 & 9 & 10\\\\\n",
       "\\hline\n",
       "\tAIC(n) & -1.890708e+01 & -1.889991e+01 & -1.889369e+01 & -1.890350e+01 & -1.889956e+01 & -1.889832e+01 & -1.889408e+01 & -1.888834e+01 & -1.888289e+01 & -1.887922e+01\\\\\n",
       "\tHQ(n) & -1.889614e+01 & -1.888169e+01 & -1.886818e+01 & -1.887070e+01 & -1.885947e+01 & -1.885094e+01 & -1.883942e+01 & -1.882639e+01 & -1.881364e+01 & -1.880269e+01\\\\\n",
       "\tSC(n) & -1.887827e+01 & -1.885190e+01 & -1.882648e+01 & -1.881708e+01 & -1.879393e+01 & -1.877349e+01 & -1.875006e+01 & -1.872511e+01 & -1.870045e+01 & -1.867758e+01\\\\\n",
       "\tFPE(n) &  6.148390e-09 &  6.192613e-09 &  6.231228e-09 &  6.170445e-09 &  6.194811e-09 &  6.202480e-09 &  6.228809e-09 &  6.264694e-09 &  6.298979e-09 &  6.322120e-09\\\\\n",
       "\\end{tabular}\n",
       "\n",
       "\\end{description}\n"
      ],
      "text/markdown": [
       "$selection\n",
       ":   AIC(n)\n",
       ":   1HQ(n)\n",
       ":   1SC(n)\n",
       ":   1FPE(n)\n",
       ":   1\n",
       "\n",
       "\n",
       "$criteria\n",
       ":   \n",
       "A matrix: 4 × 10 of type dbl\n",
       "\n",
       "| <!--/--> | 1 | 2 | 3 | 4 | 5 | 6 | 7 | 8 | 9 | 10 |\n",
       "|---|---|---|---|---|---|---|---|---|---|---|\n",
       "| AIC(n) | -1.890708e+01 | -1.889991e+01 | -1.889369e+01 | -1.890350e+01 | -1.889956e+01 | -1.889832e+01 | -1.889408e+01 | -1.888834e+01 | -1.888289e+01 | -1.887922e+01 |\n",
       "| HQ(n) | -1.889614e+01 | -1.888169e+01 | -1.886818e+01 | -1.887070e+01 | -1.885947e+01 | -1.885094e+01 | -1.883942e+01 | -1.882639e+01 | -1.881364e+01 | -1.880269e+01 |\n",
       "| SC(n) | -1.887827e+01 | -1.885190e+01 | -1.882648e+01 | -1.881708e+01 | -1.879393e+01 | -1.877349e+01 | -1.875006e+01 | -1.872511e+01 | -1.870045e+01 | -1.867758e+01 |\n",
       "| FPE(n) |  6.148390e-09 |  6.192613e-09 |  6.231228e-09 |  6.170445e-09 |  6.194811e-09 |  6.202480e-09 |  6.228809e-09 |  6.264694e-09 |  6.298979e-09 |  6.322120e-09 |\n",
       "\n",
       "\n",
       "\n",
       "\n"
      ],
      "text/plain": [
       "$selection\n",
       "AIC(n)  HQ(n)  SC(n) FPE(n) \n",
       "     1      1      1      1 \n",
       "\n",
       "$criteria\n",
       "                   1             2             3             4             5\n",
       "AIC(n) -1.890708e+01 -1.889991e+01 -1.889369e+01 -1.890350e+01 -1.889956e+01\n",
       "HQ(n)  -1.889614e+01 -1.888169e+01 -1.886818e+01 -1.887070e+01 -1.885947e+01\n",
       "SC(n)  -1.887827e+01 -1.885190e+01 -1.882648e+01 -1.881708e+01 -1.879393e+01\n",
       "FPE(n)  6.148390e-09  6.192613e-09  6.231228e-09  6.170445e-09  6.194811e-09\n",
       "                   6             7             8             9            10\n",
       "AIC(n) -1.889832e+01 -1.889408e+01 -1.888834e+01 -1.888289e+01 -1.887922e+01\n",
       "HQ(n)  -1.885094e+01 -1.883942e+01 -1.882639e+01 -1.881364e+01 -1.880269e+01\n",
       "SC(n)  -1.877349e+01 -1.875006e+01 -1.872511e+01 -1.870045e+01 -1.867758e+01\n",
       "FPE(n)  6.202480e-09  6.228809e-09  6.264694e-09  6.298979e-09  6.322120e-09\n"
      ]
     },
     "metadata": {},
     "output_type": "display_data"
    }
   ],
   "source": [
    "bekk1data <- us_d[,c(1:2)]\n",
    "head(bekk1data)\n",
    "tail(bekk1data)\n",
    "VARselect(bekk1data,type = \"const\")"
   ]
  },
  {
   "cell_type": "code",
   "execution_count": 18,
   "id": "2463ee59-55ba-4b8c-acaa-d964dd525b87",
   "metadata": {},
   "outputs": [],
   "source": [
    "var_bekk1<-VAR(bekk1data,p = 1,type = \"const\")\n",
    "res_bekk1 <- residuals(var_bekk1)\n",
    "res_bekk1 <- as.data.frame(res_bekk1)"
   ]
  },
  {
   "cell_type": "code",
   "execution_count": 19,
   "id": "39cd28ab-dc08-4ed4-91b0-737f095fcf17",
   "metadata": {},
   "outputs": [
    {
     "data": {
      "text/plain": [
       "\n",
       "VAR Estimation Results:\n",
       "========================= \n",
       "Endogenous variables: usc, eurusd \n",
       "Deterministic variables: const \n",
       "Sample size: 1037 \n",
       "Log Likelihood: 6860.875 \n",
       "Roots of the characteristic polynomial:\n",
       "0.05546 0.03929\n",
       "Call:\n",
       "VAR(y = bekk1data, p = 1, type = \"const\")\n",
       "\n",
       "\n",
       "Estimation results for equation usc: \n",
       "==================================== \n",
       "usc = usc.l1 + eurusd.l1 + const \n",
       "\n",
       "            Estimate Std. Error t value Pr(>|t|)  \n",
       "usc.l1     0.0568165  0.0315972   1.798   0.0724 .\n",
       "eurusd.l1 -0.0111731  0.0785496  -0.142   0.8869  \n",
       "const      0.0001624  0.0004390   0.370   0.7115  \n",
       "---\n",
       "Signif. codes:  0 ‘***’ 0.001 ‘**’ 0.01 ‘*’ 0.05 ‘.’ 0.1 ‘ ’ 1\n",
       "\n",
       "\n",
       "Residual standard error: 0.01412 on 1034 degrees of freedom\n",
       "Multiple R-Squared: 0.003155,\tAdjusted R-squared: 0.001227 \n",
       "F-statistic: 1.636 on 2 and 1034 DF,  p-value: 0.1952 \n",
       "\n",
       "\n",
       "Estimation results for equation eurusd: \n",
       "======================================= \n",
       "eurusd = usc.l1 + eurusd.l1 + const \n",
       "\n",
       "            Estimate Std. Error t value Pr(>|t|)\n",
       "usc.l1     0.0116717  0.0126728   0.921    0.357\n",
       "eurusd.l1 -0.0406495  0.0315041  -1.290    0.197\n",
       "const     -0.0002380  0.0001761  -1.352    0.177\n",
       "\n",
       "\n",
       "Residual standard error: 0.005663 on 1034 degrees of freedom\n",
       "Multiple R-Squared: 0.002069,\tAdjusted R-squared: 0.0001388 \n",
       "F-statistic: 1.072 on 2 and 1034 DF,  p-value: 0.3427 \n",
       "\n",
       "\n",
       "\n",
       "Covariance matrix of residuals:\n",
       "             usc    eurusd\n",
       "usc    0.0001994 1.470e-05\n",
       "eurusd 0.0000147 3.207e-05\n",
       "\n",
       "Correlation matrix of residuals:\n",
       "          usc eurusd\n",
       "usc    1.0000 0.1838\n",
       "eurusd 0.1838 1.0000\n",
       "\n"
      ]
     },
     "metadata": {},
     "output_type": "display_data"
    }
   ],
   "source": [
    "summary(var_bekk1)"
   ]
  },
  {
   "cell_type": "code",
   "execution_count": 20,
   "id": "6170afef-8575-4122-a24c-8ad28a19e344",
   "metadata": {},
   "outputs": [
    {
     "name": "stdout",
     "output_type": "stream",
     "text": [
      " Date[1:1037], format: \"2011-10-04\" \"2011-10-05\" \"2011-10-06\" \"2011-10-07\" \"2011-10-10\" ...\n"
     ]
    }
   ],
   "source": [
    "ind_var1 <- index(bekk1data)[-1]\n",
    "str(ind_var1)"
   ]
  },
  {
   "cell_type": "code",
   "execution_count": 21,
   "id": "44f737ab-908d-45a7-871a-78343b6f20ad",
   "metadata": {},
   "outputs": [],
   "source": [
    "res_bekk1 <- xts(res_bekk1,order.by = ind_var1)"
   ]
  },
  {
   "cell_type": "code",
   "execution_count": 22,
   "id": "7403c807-5077-463a-a8ac-bbc3ac533527",
   "metadata": {},
   "outputs": [],
   "source": [
    "bekk_spec <- bekk_spec(model = list(type = \"bekk\",asymmetric = F))\n",
    "bekk1_fit <- bekk_fit(spec = bekk_spec,data = res_bekk1)"
   ]
  },
  {
   "cell_type": "code",
   "execution_count": 23,
   "id": "2cd9197c-306d-4e86-8536-8ee1526a12ef",
   "metadata": {},
   "outputs": [
    {
     "data": {
      "text/html": [
       "<table class=\"dataframe\">\n",
       "<caption>A matrix: 2 × 2 of type dbl</caption>\n",
       "<tbody>\n",
       "\t<tr><td>0.17560725</td><td>-0.01096661</td></tr>\n",
       "\t<tr><td>0.04247344</td><td> 0.19635118</td></tr>\n",
       "</tbody>\n",
       "</table>\n"
      ],
      "text/latex": [
       "A matrix: 2 × 2 of type dbl\n",
       "\\begin{tabular}{ll}\n",
       "\t 0.17560725 & -0.01096661\\\\\n",
       "\t 0.04247344 &  0.19635118\\\\\n",
       "\\end{tabular}\n"
      ],
      "text/markdown": [
       "\n",
       "A matrix: 2 × 2 of type dbl\n",
       "\n",
       "| 0.17560725 | -0.01096661 |\n",
       "| 0.04247344 |  0.19635118 |\n",
       "\n"
      ],
      "text/plain": [
       "     [,1]       [,2]       \n",
       "[1,] 0.17560725 -0.01096661\n",
       "[2,] 0.04247344  0.19635118"
      ]
     },
     "metadata": {},
     "output_type": "display_data"
    },
    {
     "data": {
      "text/html": [
       "<table class=\"dataframe\">\n",
       "<caption>A matrix: 2 × 2 of type dbl</caption>\n",
       "<tbody>\n",
       "\t<tr><td>9.1689528</td><td>-1.003648</td></tr>\n",
       "\t<tr><td>0.8529682</td><td> 9.239717</td></tr>\n",
       "</tbody>\n",
       "</table>\n"
      ],
      "text/latex": [
       "A matrix: 2 × 2 of type dbl\n",
       "\\begin{tabular}{ll}\n",
       "\t 9.1689528 & -1.003648\\\\\n",
       "\t 0.8529682 &  9.239717\\\\\n",
       "\\end{tabular}\n"
      ],
      "text/markdown": [
       "\n",
       "A matrix: 2 × 2 of type dbl\n",
       "\n",
       "| 9.1689528 | -1.003648 |\n",
       "| 0.8529682 |  9.239717 |\n",
       "\n"
      ],
      "text/plain": [
       "     [,1]      [,2]     \n",
       "[1,] 9.1689528 -1.003648\n",
       "[2,] 0.8529682  9.239717"
      ]
     },
     "metadata": {},
     "output_type": "display_data"
    },
    {
     "data": {
      "text/html": [
       "<table class=\"dataframe\">\n",
       "<caption>A matrix: 2 × 2 of type dbl</caption>\n",
       "<tbody>\n",
       "\t<tr><td> 0.981017489</td><td>0.002705376</td></tr>\n",
       "\t<tr><td>-0.007741824</td><td>0.977067781</td></tr>\n",
       "</tbody>\n",
       "</table>\n"
      ],
      "text/latex": [
       "A matrix: 2 × 2 of type dbl\n",
       "\\begin{tabular}{ll}\n",
       "\t  0.981017489 & 0.002705376\\\\\n",
       "\t -0.007741824 & 0.977067781\\\\\n",
       "\\end{tabular}\n"
      ],
      "text/markdown": [
       "\n",
       "A matrix: 2 × 2 of type dbl\n",
       "\n",
       "|  0.981017489 | 0.002705376 |\n",
       "| -0.007741824 | 0.977067781 |\n",
       "\n"
      ],
      "text/plain": [
       "     [,1]         [,2]       \n",
       "[1,]  0.981017489 0.002705376\n",
       "[2,] -0.007741824 0.977067781"
      ]
     },
     "metadata": {},
     "output_type": "display_data"
    },
    {
     "data": {
      "text/html": [
       "<table class=\"dataframe\">\n",
       "<caption>A matrix: 2 × 2 of type dbl</caption>\n",
       "<tbody>\n",
       "\t<tr><td>211.3085697</td><td>  1.239057</td></tr>\n",
       "\t<tr><td> -0.5863854</td><td>199.781122</td></tr>\n",
       "</tbody>\n",
       "</table>\n"
      ],
      "text/latex": [
       "A matrix: 2 × 2 of type dbl\n",
       "\\begin{tabular}{ll}\n",
       "\t 211.3085697 &   1.239057\\\\\n",
       "\t  -0.5863854 & 199.781122\\\\\n",
       "\\end{tabular}\n"
      ],
      "text/markdown": [
       "\n",
       "A matrix: 2 × 2 of type dbl\n",
       "\n",
       "| 211.3085697 |   1.239057 |\n",
       "|  -0.5863854 | 199.781122 |\n",
       "\n"
      ],
      "text/plain": [
       "     [,1]        [,2]      \n",
       "[1,] 211.3085697   1.239057\n",
       "[2,]  -0.5863854 199.781122"
      ]
     },
     "metadata": {},
     "output_type": "display_data"
    }
   ],
   "source": [
    "bekk1_fit$A\n",
    "bekk1_fit$A_t\n",
    "bekk1_fit$G\n",
    "bekk1_fit$G_t"
   ]
  },
  {
   "cell_type": "markdown",
   "id": "637c3083-591f-4e4b-afaa-f9859228b0b7",
   "metadata": {},
   "source": [
    "### VAR-BEKK Model Table for US Cocoa - EURUSD"
   ]
  },
  {
   "cell_type": "code",
   "execution_count": 24,
   "id": "7265ed00-2f54-4d3a-b509-e0459eafdae4",
   "metadata": {},
   "outputs": [
    {
     "data": {
      "text/html": [
       "<table class=\"dataframe\">\n",
       "<caption>A data.frame: 14 × 5</caption>\n",
       "<thead>\n",
       "\t<tr><th scope=col>Parameters</th><th scope=col>Coefficient</th><th scope=col>Std_error</th><th scope=col>T_value</th><th scope=col>Significant_at_5p_level</th></tr>\n",
       "\t<tr><th scope=col>&lt;chr&gt;</th><th scope=col>&lt;dbl&gt;</th><th scope=col>&lt;dbl&gt;</th><th scope=col>&lt;dbl&gt;</th><th scope=col>&lt;chr&gt;</th></tr>\n",
       "</thead>\n",
       "<tbody>\n",
       "\t<tr><td>mu10 </td><td> 0.0001623897</td><td>0.0004389579</td><td>  0.3699437</td><td>Not Statistically Significant</td></tr>\n",
       "\t<tr><td>mu20 </td><td>-0.0002380453</td><td>0.0001760540</td><td> -1.3521157</td><td>Not Statistically Significant</td></tr>\n",
       "\t<tr><td>phi11</td><td> 0.0568164766</td><td>0.0315971946</td><td>  1.7981494</td><td>Stat significant at 10%      </td></tr>\n",
       "\t<tr><td>phi12</td><td>-0.0111730937</td><td>0.0785496388</td><td> -0.1422425</td><td>Not Statistically Significant</td></tr>\n",
       "\t<tr><td>phi21</td><td> 0.0116716508</td><td>0.0126727682</td><td>  0.9210025</td><td>Not Statistically Significant</td></tr>\n",
       "\t<tr><td>phi22</td><td>-0.0406494670</td><td>0.0315041059</td><td> -1.2902911</td><td>Not Statistically Significant</td></tr>\n",
       "\t<tr><td>a11  </td><td> 0.1756072529</td><td>0.0191523784</td><td>  9.1689528</td><td>Stat significant at 1%       </td></tr>\n",
       "\t<tr><td>a12  </td><td>-0.0109666091</td><td>0.0109267514</td><td> -1.0036477</td><td>Not Statistically Significant</td></tr>\n",
       "\t<tr><td>a21  </td><td> 0.0424734435</td><td>0.0497948705</td><td>  0.8529682</td><td>Not Statistically Significant</td></tr>\n",
       "\t<tr><td>a22  </td><td> 0.1963511814</td><td>0.0212507794</td><td>  9.2397167</td><td>Stat significant at 1%       </td></tr>\n",
       "\t<tr><td>g11  </td><td> 0.9810174889</td><td>0.0046425826</td><td>211.3085697</td><td>Stat significant at 1%       </td></tr>\n",
       "\t<tr><td>g12  </td><td> 0.0027053758</td><td>0.0021834144</td><td>  1.2390574</td><td>Not Statistically Significant</td></tr>\n",
       "\t<tr><td>g21  </td><td>-0.0077418243</td><td>0.0132026205</td><td> -0.5863854</td><td>Not Statistically Significant</td></tr>\n",
       "\t<tr><td>g22  </td><td> 0.9770677810</td><td>0.0048906912</td><td>199.7811225</td><td>Stat significant at 1%       </td></tr>\n",
       "</tbody>\n",
       "</table>\n"
      ],
      "text/latex": [
       "A data.frame: 14 × 5\n",
       "\\begin{tabular}{lllll}\n",
       " Parameters & Coefficient & Std\\_error & T\\_value & Significant\\_at\\_5p\\_level\\\\\n",
       " <chr> & <dbl> & <dbl> & <dbl> & <chr>\\\\\n",
       "\\hline\n",
       "\t mu10  &  0.0001623897 & 0.0004389579 &   0.3699437 & Not Statistically Significant\\\\\n",
       "\t mu20  & -0.0002380453 & 0.0001760540 &  -1.3521157 & Not Statistically Significant\\\\\n",
       "\t phi11 &  0.0568164766 & 0.0315971946 &   1.7981494 & Stat significant at 10\\%      \\\\\n",
       "\t phi12 & -0.0111730937 & 0.0785496388 &  -0.1422425 & Not Statistically Significant\\\\\n",
       "\t phi21 &  0.0116716508 & 0.0126727682 &   0.9210025 & Not Statistically Significant\\\\\n",
       "\t phi22 & -0.0406494670 & 0.0315041059 &  -1.2902911 & Not Statistically Significant\\\\\n",
       "\t a11   &  0.1756072529 & 0.0191523784 &   9.1689528 & Stat significant at 1\\%       \\\\\n",
       "\t a12   & -0.0109666091 & 0.0109267514 &  -1.0036477 & Not Statistically Significant\\\\\n",
       "\t a21   &  0.0424734435 & 0.0497948705 &   0.8529682 & Not Statistically Significant\\\\\n",
       "\t a22   &  0.1963511814 & 0.0212507794 &   9.2397167 & Stat significant at 1\\%       \\\\\n",
       "\t g11   &  0.9810174889 & 0.0046425826 & 211.3085697 & Stat significant at 1\\%       \\\\\n",
       "\t g12   &  0.0027053758 & 0.0021834144 &   1.2390574 & Not Statistically Significant\\\\\n",
       "\t g21   & -0.0077418243 & 0.0132026205 &  -0.5863854 & Not Statistically Significant\\\\\n",
       "\t g22   &  0.9770677810 & 0.0048906912 & 199.7811225 & Stat significant at 1\\%       \\\\\n",
       "\\end{tabular}\n"
      ],
      "text/markdown": [
       "\n",
       "A data.frame: 14 × 5\n",
       "\n",
       "| Parameters &lt;chr&gt; | Coefficient &lt;dbl&gt; | Std_error &lt;dbl&gt; | T_value &lt;dbl&gt; | Significant_at_5p_level &lt;chr&gt; |\n",
       "|---|---|---|---|---|\n",
       "| mu10  |  0.0001623897 | 0.0004389579 |   0.3699437 | Not Statistically Significant |\n",
       "| mu20  | -0.0002380453 | 0.0001760540 |  -1.3521157 | Not Statistically Significant |\n",
       "| phi11 |  0.0568164766 | 0.0315971946 |   1.7981494 | Stat significant at 10%       |\n",
       "| phi12 | -0.0111730937 | 0.0785496388 |  -0.1422425 | Not Statistically Significant |\n",
       "| phi21 |  0.0116716508 | 0.0126727682 |   0.9210025 | Not Statistically Significant |\n",
       "| phi22 | -0.0406494670 | 0.0315041059 |  -1.2902911 | Not Statistically Significant |\n",
       "| a11   |  0.1756072529 | 0.0191523784 |   9.1689528 | Stat significant at 1%        |\n",
       "| a12   | -0.0109666091 | 0.0109267514 |  -1.0036477 | Not Statistically Significant |\n",
       "| a21   |  0.0424734435 | 0.0497948705 |   0.8529682 | Not Statistically Significant |\n",
       "| a22   |  0.1963511814 | 0.0212507794 |   9.2397167 | Stat significant at 1%        |\n",
       "| g11   |  0.9810174889 | 0.0046425826 | 211.3085697 | Stat significant at 1%        |\n",
       "| g12   |  0.0027053758 | 0.0021834144 |   1.2390574 | Not Statistically Significant |\n",
       "| g21   | -0.0077418243 | 0.0132026205 |  -0.5863854 | Not Statistically Significant |\n",
       "| g22   |  0.9770677810 | 0.0048906912 | 199.7811225 | Stat significant at 1%        |\n",
       "\n"
      ],
      "text/plain": [
       "   Parameters Coefficient   Std_error    T_value    \n",
       "1  mu10        0.0001623897 0.0004389579   0.3699437\n",
       "2  mu20       -0.0002380453 0.0001760540  -1.3521157\n",
       "3  phi11       0.0568164766 0.0315971946   1.7981494\n",
       "4  phi12      -0.0111730937 0.0785496388  -0.1422425\n",
       "5  phi21       0.0116716508 0.0126727682   0.9210025\n",
       "6  phi22      -0.0406494670 0.0315041059  -1.2902911\n",
       "7  a11         0.1756072529 0.0191523784   9.1689528\n",
       "8  a12        -0.0109666091 0.0109267514  -1.0036477\n",
       "9  a21         0.0424734435 0.0497948705   0.8529682\n",
       "10 a22         0.1963511814 0.0212507794   9.2397167\n",
       "11 g11         0.9810174889 0.0046425826 211.3085697\n",
       "12 g12         0.0027053758 0.0021834144   1.2390574\n",
       "13 g21        -0.0077418243 0.0132026205  -0.5863854\n",
       "14 g22         0.9770677810 0.0048906912 199.7811225\n",
       "   Significant_at_5p_level      \n",
       "1  Not Statistically Significant\n",
       "2  Not Statistically Significant\n",
       "3  Stat significant at 10%      \n",
       "4  Not Statistically Significant\n",
       "5  Not Statistically Significant\n",
       "6  Not Statistically Significant\n",
       "7  Stat significant at 1%       \n",
       "8  Not Statistically Significant\n",
       "9  Not Statistically Significant\n",
       "10 Stat significant at 1%       \n",
       "11 Stat significant at 1%       \n",
       "12 Not Statistically Significant\n",
       "13 Not Statistically Significant\n",
       "14 Stat significant at 1%       "
      ]
     },
     "metadata": {},
     "output_type": "display_data"
    }
   ],
   "source": [
    "bekk1 <- data.frame(Parameters = c(\"mu10\",\"mu20\",\"phi11\",\"phi12\",\"phi21\",\"phi22\",\"a11\",\"a12\",\"a21\",\"a22\",\"g11\",\"g12\",\"g21\",\"g22\"),\n",
    "                   Coefficient = c(summary(var_bekk1)$varresult$usc$coefficients[\"const\",\"Estimate\"],summary(var_bekk1)$varresult$eurusd$coefficients[\"const\",\"Estimate\"],\n",
    "                                   summary(var_bekk1)$varresult$usc$coefficients[\"usc.l1\",\"Estimate\"],summary(var_bekk1)$varresult$usc$coefficients[\"eurusd.l1\",\"Estimate\"],\n",
    "                                   summary(var_bekk1)$varresult$eurusd$coefficients[\"usc.l1\",\"Estimate\"],summary(var_bekk1)$varresult$eurusd$coefficients[\"eurusd.l1\",\"Estimate\"],\n",
    "                                   bekk1_fit$A[1,1],bekk1_fit$A[1,2],bekk1_fit$A[2,1],bekk1_fit$A[2,2],bekk1_fit$G[1,1],bekk1_fit$G[1,2],bekk1_fit$G[2,1],bekk1_fit$G[2,2]),\n",
    "                   Std_error = c(summary(var_bekk1)$varresult$usc$coefficients[\"const\",\"Std. Error\"],summary(var_bekk1)$varresult$eurusd$coefficients[\"const\",\"Std. Error\"],\n",
    "                                summary(var_bekk1)$varresult$usc$coefficients[\"usc.l1\",\"Std. Error\"],summary(var_bekk1)$varresult$usc$coefficients[\"eurusd.l1\",\"Std. Error\"],\n",
    "                                 summary(var_bekk1)$varresult$eurusd$coefficients[\"usc.l1\",\"Std. Error\"],summary(var_bekk1)$varresult$eurusd$coefficients[\"eurusd.l1\",\"Std. Error\"],\n",
    "                                 bekk1_fit$A_sd[1,1],bekk1_fit$A_sd[1,2],bekk1_fit$A_sd[2,1],bekk1_fit$A_sd[2,2],bekk1_fit$G_sd[1,1],bekk1_fit$G_sd[1,2],bekk1_fit$G_sd[2,1],bekk1_fit$G_sd[2,2]),\n",
    "                   T_value = c(summary(var_bekk1)$varresult$usc$coefficients[\"const\",\"t value\"],summary(var_bekk1)$varresult$eurusd$coefficients[\"const\",\"t value\"],\n",
    "                       summary(var_bekk1)$varresult$usc$coefficients[\"usc.l1\",\"t value\"],summary(var_bekk1)$varresult$usc$coefficients[\"eurusd.l1\",\"t value\"],\n",
    "                               summary(var_bekk1)$varresult$eurusd$coefficients[\"usc.l1\",\"t value\"],summary(var_bekk1)$varresult$eurusd$coefficients[\"eurusd.l1\",\"t value\"],\n",
    "                               bekk1_fit$A_t[1,1],bekk1_fit$A_t[1,2],bekk1_fit$A_t[2,1],bekk1_fit$A_t[2,2],bekk1_fit$G_t[1,1],bekk1_fit$G_t[1,2],bekk1_fit$G_t[2,1],bekk1_fit$G_t[2,2]))\n",
    "\n",
    "bekk1$Significant_at_5p_level[abs(bekk1$T_value) >= 2.58 ] <- \"Stat significant at 1%\"\n",
    "bekk1$Significant_at_5p_level[abs(bekk1$T_value) > 1.96 & abs(bekk1$T_value) < 2.58] <- \"Stat significant at 5%\"\n",
    "bekk1$Significant_at_5p_level[abs(bekk1$T_value) > 1.645 & abs(bekk1$T_value) <= 1.96 ] <- \"Stat significant at 10%\"\n",
    "bekk1$Significant_at_5p_level[abs(bekk1$T_value) <= 1.645] <- \"Not Statistically Significant\"\n",
    "bekk1"
   ]
  },
  {
   "cell_type": "code",
   "execution_count": 25,
   "id": "44a32eca-2079-4ada-b53a-6d71cadccb23",
   "metadata": {},
   "outputs": [
    {
     "data": {
      "text/plain": [
       "\n",
       "\tGranger causality H0: usc do not Granger-cause eurusd\n",
       "\n",
       "data:  VAR object var_bekk1\n",
       "F-Test = 0.84825, df1 = 1, df2 = 2068, p-value = 0.3572\n"
      ]
     },
     "metadata": {},
     "output_type": "display_data"
    },
    {
     "data": {
      "text/plain": [
       "\n",
       "\tGranger causality H0: eurusd do not Granger-cause usc\n",
       "\n",
       "data:  VAR object var_bekk1\n",
       "F-Test = 0.020233, df1 = 1, df2 = 2068, p-value = 0.8869\n"
      ]
     },
     "metadata": {},
     "output_type": "display_data"
    }
   ],
   "source": [
    "causality(var_bekk1,cause = \"usc\")$Granger\n",
    "causality(var_bekk1,cause = \"eurusd\")$Granger"
   ]
  },
  {
   "cell_type": "markdown",
   "id": "ed979bab-87d0-4613-b07d-8f809b0444bd",
   "metadata": {},
   "source": [
    "## (b) VAR-BEKK: US Cocoa-GBPUSD"
   ]
  },
  {
   "cell_type": "code",
   "execution_count": 26,
   "id": "b19130e3-54c2-4996-b964-6f9fd08d22d3",
   "metadata": {},
   "outputs": [
    {
     "data": {
      "text/plain": [
       "                    usc        gbpusd\n",
       "2011-10-03 -0.013688427 -0.0102872608\n",
       "2011-10-04  0.004202489  0.0038499538\n",
       "2011-10-05  0.011749235 -0.0009045389\n",
       "2011-10-06  0.011985162 -0.0020705951\n",
       "2011-10-07 -0.002609508  0.0078712623\n",
       "2011-10-10  0.001864629  0.0065017444"
      ]
     },
     "metadata": {},
     "output_type": "display_data"
    },
    {
     "data": {
      "text/plain": [
       "                    usc       gbpusd\n",
       "2015-11-20 -0.002668645 -0.006462959\n",
       "2015-11-23 -0.018580097 -0.004420115\n",
       "2015-11-24  0.009632826 -0.002482500\n",
       "2015-11-25 -0.010237970  0.002713885\n",
       "2015-11-27  0.001814334 -0.004280104\n",
       "2015-11-30  0.008723172  0.001262710"
      ]
     },
     "metadata": {},
     "output_type": "display_data"
    }
   ],
   "source": [
    "bekk2data <- us_d[,c(1,3)]\n",
    "head(bekk2data)\n",
    "tail(bekk2data)"
   ]
  },
  {
   "cell_type": "code",
   "execution_count": 27,
   "id": "2f9a0a07-8ae8-441d-a12a-b3ea011c6e64",
   "metadata": {},
   "outputs": [
    {
     "data": {
      "text/html": [
       "<dl>\n",
       "\t<dt>$selection</dt>\n",
       "\t\t<dd><style>\n",
       ".dl-inline {width: auto; margin:0; padding: 0}\n",
       ".dl-inline>dt, .dl-inline>dd {float: none; width: auto; display: inline-block}\n",
       ".dl-inline>dt::after {content: \":\\0020\"; padding-right: .5ex}\n",
       ".dl-inline>dt:not(:first-of-type) {padding-left: .5ex}\n",
       "</style><dl class=dl-inline><dt>AIC(n)</dt><dd>4</dd><dt>HQ(n)</dt><dd>1</dd><dt>SC(n)</dt><dd>1</dd><dt>FPE(n)</dt><dd>4</dd></dl>\n",
       "</dd>\n",
       "\t<dt>$criteria</dt>\n",
       "\t\t<dd><table class=\"dataframe\">\n",
       "<caption>A matrix: 4 × 10 of type dbl</caption>\n",
       "<thead>\n",
       "\t<tr><th></th><th scope=col>1</th><th scope=col>2</th><th scope=col>3</th><th scope=col>4</th><th scope=col>5</th><th scope=col>6</th><th scope=col>7</th><th scope=col>8</th><th scope=col>9</th><th scope=col>10</th></tr>\n",
       "</thead>\n",
       "<tbody>\n",
       "\t<tr><th scope=row>AIC(n)</th><td>-1.936788e+01</td><td>-1.936286e+01</td><td>-1.935796e+01</td><td>-1.936902e+01</td><td>-1.936419e+01</td><td>-1.935931e+01</td><td>-1.935972e+01</td><td>-1.935684e+01</td><td>-1.935292e+01</td><td>-1.934704e+01</td></tr>\n",
       "\t<tr><th scope=row>HQ(n)</th><td>-1.935695e+01</td><td>-1.934463e+01</td><td>-1.933245e+01</td><td>-1.933622e+01</td><td>-1.932410e+01</td><td>-1.931193e+01</td><td>-1.930505e+01</td><td>-1.929488e+01</td><td>-1.928367e+01</td><td>-1.927051e+01</td></tr>\n",
       "\t<tr><th scope=row>SC(n)</th><td>-1.933908e+01</td><td>-1.931485e+01</td><td>-1.929074e+01</td><td>-1.928260e+01</td><td>-1.925857e+01</td><td>-1.923449e+01</td><td>-1.921569e+01</td><td>-1.919361e+01</td><td>-1.917048e+01</td><td>-1.914541e+01</td></tr>\n",
       "\t<tr><th scope=row>FPE(n)</th><td> 3.878253e-09</td><td> 3.897792e-09</td><td> 3.916936e-09</td><td> 3.873844e-09</td><td> 3.892587e-09</td><td> 3.911639e-09</td><td> 3.910046e-09</td><td> 3.921336e-09</td><td> 3.936751e-09</td><td> 3.959954e-09</td></tr>\n",
       "</tbody>\n",
       "</table>\n",
       "</dd>\n",
       "</dl>\n"
      ],
      "text/latex": [
       "\\begin{description}\n",
       "\\item[\\$selection] \\begin{description*}\n",
       "\\item[AIC(n)] 4\n",
       "\\item[HQ(n)] 1\n",
       "\\item[SC(n)] 1\n",
       "\\item[FPE(n)] 4\n",
       "\\end{description*}\n",
       "\n",
       "\\item[\\$criteria] A matrix: 4 × 10 of type dbl\n",
       "\\begin{tabular}{r|llllllllll}\n",
       "  & 1 & 2 & 3 & 4 & 5 & 6 & 7 & 8 & 9 & 10\\\\\n",
       "\\hline\n",
       "\tAIC(n) & -1.936788e+01 & -1.936286e+01 & -1.935796e+01 & -1.936902e+01 & -1.936419e+01 & -1.935931e+01 & -1.935972e+01 & -1.935684e+01 & -1.935292e+01 & -1.934704e+01\\\\\n",
       "\tHQ(n) & -1.935695e+01 & -1.934463e+01 & -1.933245e+01 & -1.933622e+01 & -1.932410e+01 & -1.931193e+01 & -1.930505e+01 & -1.929488e+01 & -1.928367e+01 & -1.927051e+01\\\\\n",
       "\tSC(n) & -1.933908e+01 & -1.931485e+01 & -1.929074e+01 & -1.928260e+01 & -1.925857e+01 & -1.923449e+01 & -1.921569e+01 & -1.919361e+01 & -1.917048e+01 & -1.914541e+01\\\\\n",
       "\tFPE(n) &  3.878253e-09 &  3.897792e-09 &  3.916936e-09 &  3.873844e-09 &  3.892587e-09 &  3.911639e-09 &  3.910046e-09 &  3.921336e-09 &  3.936751e-09 &  3.959954e-09\\\\\n",
       "\\end{tabular}\n",
       "\n",
       "\\end{description}\n"
      ],
      "text/markdown": [
       "$selection\n",
       ":   AIC(n)\n",
       ":   4HQ(n)\n",
       ":   1SC(n)\n",
       ":   1FPE(n)\n",
       ":   4\n",
       "\n",
       "\n",
       "$criteria\n",
       ":   \n",
       "A matrix: 4 × 10 of type dbl\n",
       "\n",
       "| <!--/--> | 1 | 2 | 3 | 4 | 5 | 6 | 7 | 8 | 9 | 10 |\n",
       "|---|---|---|---|---|---|---|---|---|---|---|\n",
       "| AIC(n) | -1.936788e+01 | -1.936286e+01 | -1.935796e+01 | -1.936902e+01 | -1.936419e+01 | -1.935931e+01 | -1.935972e+01 | -1.935684e+01 | -1.935292e+01 | -1.934704e+01 |\n",
       "| HQ(n) | -1.935695e+01 | -1.934463e+01 | -1.933245e+01 | -1.933622e+01 | -1.932410e+01 | -1.931193e+01 | -1.930505e+01 | -1.929488e+01 | -1.928367e+01 | -1.927051e+01 |\n",
       "| SC(n) | -1.933908e+01 | -1.931485e+01 | -1.929074e+01 | -1.928260e+01 | -1.925857e+01 | -1.923449e+01 | -1.921569e+01 | -1.919361e+01 | -1.917048e+01 | -1.914541e+01 |\n",
       "| FPE(n) |  3.878253e-09 |  3.897792e-09 |  3.916936e-09 |  3.873844e-09 |  3.892587e-09 |  3.911639e-09 |  3.910046e-09 |  3.921336e-09 |  3.936751e-09 |  3.959954e-09 |\n",
       "\n",
       "\n",
       "\n",
       "\n"
      ],
      "text/plain": [
       "$selection\n",
       "AIC(n)  HQ(n)  SC(n) FPE(n) \n",
       "     4      1      1      4 \n",
       "\n",
       "$criteria\n",
       "                   1             2             3             4             5\n",
       "AIC(n) -1.936788e+01 -1.936286e+01 -1.935796e+01 -1.936902e+01 -1.936419e+01\n",
       "HQ(n)  -1.935695e+01 -1.934463e+01 -1.933245e+01 -1.933622e+01 -1.932410e+01\n",
       "SC(n)  -1.933908e+01 -1.931485e+01 -1.929074e+01 -1.928260e+01 -1.925857e+01\n",
       "FPE(n)  3.878253e-09  3.897792e-09  3.916936e-09  3.873844e-09  3.892587e-09\n",
       "                   6             7             8             9            10\n",
       "AIC(n) -1.935931e+01 -1.935972e+01 -1.935684e+01 -1.935292e+01 -1.934704e+01\n",
       "HQ(n)  -1.931193e+01 -1.930505e+01 -1.929488e+01 -1.928367e+01 -1.927051e+01\n",
       "SC(n)  -1.923449e+01 -1.921569e+01 -1.919361e+01 -1.917048e+01 -1.914541e+01\n",
       "FPE(n)  3.911639e-09  3.910046e-09  3.921336e-09  3.936751e-09  3.959954e-09\n"
      ]
     },
     "metadata": {},
     "output_type": "display_data"
    }
   ],
   "source": [
    "VARselect(bekk2data,type = \"const\")"
   ]
  },
  {
   "cell_type": "code",
   "execution_count": 28,
   "id": "833c37da-040a-4425-9a63-e08da1f16fa6",
   "metadata": {},
   "outputs": [],
   "source": [
    "var_bekk2<-VAR(bekk2data,p = 4,type = \"const\")\n",
    "res_bekk2 <- residuals(var_bekk2)\n",
    "res_bekk2 <- as.data.frame(res_bekk2)"
   ]
  },
  {
   "cell_type": "code",
   "execution_count": 29,
   "id": "d7b86978-eb03-4dc1-95a9-95b1e827791e",
   "metadata": {},
   "outputs": [
    {
     "data": {
      "text/plain": [
       "\n",
       "VAR Estimation Results:\n",
       "========================= \n",
       "Endogenous variables: usc, gbpusd \n",
       "Deterministic variables: const \n",
       "Sample size: 1034 \n",
       "Log Likelihood: 7095.965 \n",
       "Roots of the characteristic polynomial:\n",
       "0.6166 0.6166 0.5895 0.5895 0.4041 0.4041 0.3726 0.3726\n",
       "Call:\n",
       "VAR(y = bekk2data, p = 4, type = \"const\")\n",
       "\n",
       "\n",
       "Estimation results for equation usc: \n",
       "==================================== \n",
       "usc = usc.l1 + gbpusd.l1 + usc.l2 + gbpusd.l2 + usc.l3 + gbpusd.l3 + usc.l4 + gbpusd.l4 + const \n",
       "\n",
       "            Estimate Std. Error t value Pr(>|t|)    \n",
       "usc.l1     0.0504436  0.0317734   1.588    0.113    \n",
       "gbpusd.l1  0.0486842  0.0995051   0.489    0.625    \n",
       "usc.l2    -0.0330083  0.0317977  -1.038    0.299    \n",
       "gbpusd.l2  0.1023854  0.0995311   1.029    0.304    \n",
       "usc.l3    -0.0053477  0.0318191  -0.168    0.867    \n",
       "gbpusd.l3  0.0834164  0.0994776   0.839    0.402    \n",
       "usc.l4    -0.1339567  0.0318026  -4.212 2.75e-05 ***\n",
       "gbpusd.l4  0.1330584  0.0992844   1.340    0.180    \n",
       "const      0.0001716  0.0004367   0.393    0.694    \n",
       "---\n",
       "Signif. codes:  0 ‘***’ 0.001 ‘**’ 0.01 ‘*’ 0.05 ‘.’ 0.1 ‘ ’ 1\n",
       "\n",
       "\n",
       "Residual standard error: 0.01404 on 1025 degrees of freedom\n",
       "Multiple R-Squared: 0.02197,\tAdjusted R-squared: 0.01433 \n",
       "F-statistic: 2.878 on 8 and 1025 DF,  p-value: 0.003585 \n",
       "\n",
       "\n",
       "Estimation results for equation gbpusd: \n",
       "======================================= \n",
       "gbpusd = usc.l1 + gbpusd.l1 + usc.l2 + gbpusd.l2 + usc.l3 + gbpusd.l3 + usc.l4 + gbpusd.l4 + const \n",
       "\n",
       "            Estimate Std. Error t value Pr(>|t|)\n",
       "usc.l1     1.027e-02  1.023e-02   1.003    0.316\n",
       "gbpusd.l1 -3.686e-02  3.204e-02  -1.150    0.250\n",
       "usc.l2     9.393e-03  1.024e-02   0.917    0.359\n",
       "gbpusd.l2  1.855e-02  3.205e-02   0.579    0.563\n",
       "usc.l3     1.079e-02  1.025e-02   1.053    0.293\n",
       "gbpusd.l3 -2.910e-02  3.203e-02  -0.909    0.364\n",
       "usc.l4     4.520e-04  1.024e-02   0.044    0.965\n",
       "gbpusd.l4 -2.281e-02  3.197e-02  -0.713    0.476\n",
       "const     -1.855e-05  1.406e-04  -0.132    0.895\n",
       "\n",
       "\n",
       "Residual standard error: 0.00452 on 1025 degrees of freedom\n",
       "Multiple R-Squared: 0.005334,\tAdjusted R-squared: -0.00243 \n",
       "F-statistic: 0.687 on 8 and 1025 DF,  p-value: 0.7033 \n",
       "\n",
       "\n",
       "\n",
       "Covariance matrix of residuals:\n",
       "             usc    gbpusd\n",
       "usc    1.971e-04 1.446e-05\n",
       "gbpusd 1.446e-05 2.043e-05\n",
       "\n",
       "Correlation matrix of residuals:\n",
       "          usc gbpusd\n",
       "usc    1.0000 0.2278\n",
       "gbpusd 0.2278 1.0000\n",
       "\n"
      ]
     },
     "metadata": {},
     "output_type": "display_data"
    }
   ],
   "source": [
    "summary(var_bekk2)"
   ]
  },
  {
   "cell_type": "code",
   "execution_count": 30,
   "id": "6447ef7b-d3c7-474f-9200-6a4c8497988f",
   "metadata": {},
   "outputs": [
    {
     "name": "stdout",
     "output_type": "stream",
     "text": [
      " Date[1:1034], format: \"2011-10-07\" \"2011-10-10\" \"2011-10-11\" \"2011-10-12\" \"2011-10-13\" ...\n"
     ]
    }
   ],
   "source": [
    "ind_var2 <- index(bekk2data)[-c(1:4)]\n",
    "str(ind_var2)"
   ]
  },
  {
   "cell_type": "code",
   "execution_count": 31,
   "id": "98e70d8b-71ab-49c4-bf62-47347cbc33ba",
   "metadata": {},
   "outputs": [],
   "source": [
    "res_bekk2 <- xts(res_bekk2,order.by = ind_var2)"
   ]
  },
  {
   "cell_type": "code",
   "execution_count": 32,
   "id": "6ae79625-48d0-43e7-be3b-b36ea44c8bb8",
   "metadata": {},
   "outputs": [],
   "source": [
    "bekk_spec <- bekk_spec(model = list(type = \"bekk\",asymmetric = F))\n",
    "bekk2_fit <- bekk_fit(spec = bekk_spec,data = res_bekk2)"
   ]
  },
  {
   "cell_type": "code",
   "execution_count": 33,
   "id": "596c3ec9-a8d0-4e2d-a727-7f2e635bab24",
   "metadata": {},
   "outputs": [
    {
     "data": {
      "text/html": [
       "<table class=\"dataframe\">\n",
       "<caption>A matrix: 2 × 2 of type dbl</caption>\n",
       "<tbody>\n",
       "\t<tr><td>0.17796530</td><td>0.002667489</td></tr>\n",
       "\t<tr><td>0.07139057</td><td>0.167325921</td></tr>\n",
       "</tbody>\n",
       "</table>\n"
      ],
      "text/latex": [
       "A matrix: 2 × 2 of type dbl\n",
       "\\begin{tabular}{ll}\n",
       "\t 0.17796530 & 0.002667489\\\\\n",
       "\t 0.07139057 & 0.167325921\\\\\n",
       "\\end{tabular}\n"
      ],
      "text/markdown": [
       "\n",
       "A matrix: 2 × 2 of type dbl\n",
       "\n",
       "| 0.17796530 | 0.002667489 |\n",
       "| 0.07139057 | 0.167325921 |\n",
       "\n"
      ],
      "text/plain": [
       "     [,1]       [,2]       \n",
       "[1,] 0.17796530 0.002667489\n",
       "[2,] 0.07139057 0.167325921"
      ]
     },
     "metadata": {},
     "output_type": "display_data"
    },
    {
     "data": {
      "text/html": [
       "<table class=\"dataframe\">\n",
       "<caption>A matrix: 2 × 2 of type dbl</caption>\n",
       "<tbody>\n",
       "\t<tr><td>8.3329607</td><td>0.3047656</td></tr>\n",
       "\t<tr><td>0.8970658</td><td>7.2639282</td></tr>\n",
       "</tbody>\n",
       "</table>\n"
      ],
      "text/latex": [
       "A matrix: 2 × 2 of type dbl\n",
       "\\begin{tabular}{ll}\n",
       "\t 8.3329607 & 0.3047656\\\\\n",
       "\t 0.8970658 & 7.2639282\\\\\n",
       "\\end{tabular}\n"
      ],
      "text/markdown": [
       "\n",
       "A matrix: 2 × 2 of type dbl\n",
       "\n",
       "| 8.3329607 | 0.3047656 |\n",
       "| 0.8970658 | 7.2639282 |\n",
       "\n"
      ],
      "text/plain": [
       "     [,1]      [,2]     \n",
       "[1,] 8.3329607 0.3047656\n",
       "[2,] 0.8970658 7.2639282"
      ]
     },
     "metadata": {},
     "output_type": "display_data"
    }
   ],
   "source": [
    "bekk2_fit$A\n",
    "bekk2_fit$A_t"
   ]
  },
  {
   "cell_type": "code",
   "execution_count": 34,
   "id": "c63be466-31aa-450b-b45b-7f028b56ba02",
   "metadata": {},
   "outputs": [
    {
     "data": {
      "text/html": [
       "<table class=\"dataframe\">\n",
       "<caption>A matrix: 2 × 2 of type dbl</caption>\n",
       "<tbody>\n",
       "\t<tr><td> 0.980419392</td><td>-0.0004792078</td></tr>\n",
       "\t<tr><td>-0.007178679</td><td> 0.9803108872</td></tr>\n",
       "</tbody>\n",
       "</table>\n"
      ],
      "text/latex": [
       "A matrix: 2 × 2 of type dbl\n",
       "\\begin{tabular}{ll}\n",
       "\t  0.980419392 & -0.0004792078\\\\\n",
       "\t -0.007178679 &  0.9803108872\\\\\n",
       "\\end{tabular}\n"
      ],
      "text/markdown": [
       "\n",
       "A matrix: 2 × 2 of type dbl\n",
       "\n",
       "|  0.980419392 | -0.0004792078 |\n",
       "| -0.007178679 |  0.9803108872 |\n",
       "\n"
      ],
      "text/plain": [
       "     [,1]         [,2]         \n",
       "[1,]  0.980419392 -0.0004792078\n",
       "[2,] -0.007178679  0.9803108872"
      ]
     },
     "metadata": {},
     "output_type": "display_data"
    },
    {
     "data": {
      "text/html": [
       "<table class=\"dataframe\">\n",
       "<caption>A matrix: 2 × 2 of type dbl</caption>\n",
       "<tbody>\n",
       "\t<tr><td>199.5229768</td><td> -0.2400574</td></tr>\n",
       "\t<tr><td> -0.3255008</td><td>175.3300042</td></tr>\n",
       "</tbody>\n",
       "</table>\n"
      ],
      "text/latex": [
       "A matrix: 2 × 2 of type dbl\n",
       "\\begin{tabular}{ll}\n",
       "\t 199.5229768 &  -0.2400574\\\\\n",
       "\t  -0.3255008 & 175.3300042\\\\\n",
       "\\end{tabular}\n"
      ],
      "text/markdown": [
       "\n",
       "A matrix: 2 × 2 of type dbl\n",
       "\n",
       "| 199.5229768 |  -0.2400574 |\n",
       "|  -0.3255008 | 175.3300042 |\n",
       "\n"
      ],
      "text/plain": [
       "     [,1]        [,2]       \n",
       "[1,] 199.5229768  -0.2400574\n",
       "[2,]  -0.3255008 175.3300042"
      ]
     },
     "metadata": {},
     "output_type": "display_data"
    }
   ],
   "source": [
    "bekk2_fit$G\n",
    "bekk2_fit$G_t"
   ]
  },
  {
   "cell_type": "markdown",
   "id": "c47b8123-5e1a-4ca2-9744-e73995069776",
   "metadata": {},
   "source": [
    "### VAR-BEKK Model Table for US Cocoa - GBPUSD"
   ]
  },
  {
   "cell_type": "code",
   "execution_count": 35,
   "id": "9fa77462-fa43-452c-a532-21d41251d4a4",
   "metadata": {},
   "outputs": [
    {
     "data": {
      "text/html": [
       "<table class=\"dataframe\">\n",
       "<caption>A data.frame: 26 × 5</caption>\n",
       "<thead>\n",
       "\t<tr><th scope=col>Parameters</th><th scope=col>Coefficient</th><th scope=col>Std_error</th><th scope=col>T_value</th><th scope=col>Significant_at_5p_level</th></tr>\n",
       "\t<tr><th scope=col>&lt;chr&gt;</th><th scope=col>&lt;dbl&gt;</th><th scope=col>&lt;dbl&gt;</th><th scope=col>&lt;dbl&gt;</th><th scope=col>&lt;chr&gt;</th></tr>\n",
       "</thead>\n",
       "<tbody>\n",
       "\t<tr><td>mu10 </td><td> 1.715850e-04</td><td>0.0004367043</td><td>  0.39290878</td><td>Not Statistically Significant</td></tr>\n",
       "\t<tr><td>mu20 </td><td>-1.855121e-05</td><td>0.0001406271</td><td> -0.13191778</td><td>Not Statistically Significant</td></tr>\n",
       "\t<tr><td>phi11</td><td> 5.044359e-02</td><td>0.0317733517</td><td>  1.58760687</td><td>Not Statistically Significant</td></tr>\n",
       "\t<tr><td>phi12</td><td> 4.868423e-02</td><td>0.0995051011</td><td>  0.48926368</td><td>Not Statistically Significant</td></tr>\n",
       "\t<tr><td>phi13</td><td>-3.300827e-02</td><td>0.0317977282</td><td> -1.03807013</td><td>Not Statistically Significant</td></tr>\n",
       "\t<tr><td>phi14</td><td> 1.023854e-01</td><td>0.0995311328</td><td>  1.02867696</td><td>Not Statistically Significant</td></tr>\n",
       "\t<tr><td>phi15</td><td>-5.347705e-03</td><td>0.0318191187</td><td> -0.16806577</td><td>Not Statistically Significant</td></tr>\n",
       "\t<tr><td>phi16</td><td> 8.341641e-02</td><td>0.0994776203</td><td>  0.83854451</td><td>Not Statistically Significant</td></tr>\n",
       "\t<tr><td>phi17</td><td>-1.339567e-01</td><td>0.0318025778</td><td> -4.21213350</td><td>Stat significant at 1%       </td></tr>\n",
       "\t<tr><td>phi18</td><td> 1.330584e-01</td><td>0.0992844014</td><td>  1.34017465</td><td>Not Statistically Significant</td></tr>\n",
       "\t<tr><td>phi21</td><td> 1.026587e-02</td><td>0.0102316227</td><td>  1.00334757</td><td>Not Statistically Significant</td></tr>\n",
       "\t<tr><td>phi22</td><td>-3.686278e-02</td><td>0.0320425324</td><td> -1.15043284</td><td>Not Statistically Significant</td></tr>\n",
       "\t<tr><td>phi23</td><td> 9.393489e-03</td><td>0.0102394724</td><td>  0.91738019</td><td>Not Statistically Significant</td></tr>\n",
       "\t<tr><td>phi24</td><td> 1.855199e-02</td><td>0.0320509151</td><td>  0.57882863</td><td>Not Statistically Significant</td></tr>\n",
       "\t<tr><td>phi25</td><td> 1.078869e-02</td><td>0.0102463605</td><td>  1.05292904</td><td>Not Statistically Significant</td></tr>\n",
       "\t<tr><td>phi26</td><td>-2.910428e-02</td><td>0.0320336830</td><td> -0.90855242</td><td>Not Statistically Significant</td></tr>\n",
       "\t<tr><td>phi27</td><td> 4.519944e-04</td><td>0.0102410340</td><td>  0.04413562</td><td>Not Statistically Significant</td></tr>\n",
       "\t<tr><td>phi28</td><td>-2.280957e-02</td><td>0.0319714629</td><td> -0.71343517</td><td>Not Statistically Significant</td></tr>\n",
       "\t<tr><td>a11  </td><td> 1.779653e-01</td><td>0.0213567907</td><td>  8.33296065</td><td>Stat significant at 1%       </td></tr>\n",
       "\t<tr><td>a12  </td><td> 2.667489e-03</td><td>0.0087525902</td><td>  0.30476561</td><td>Not Statistically Significant</td></tr>\n",
       "\t<tr><td>a21  </td><td> 7.139057e-02</td><td>0.0795823151</td><td>  0.89706577</td><td>Not Statistically Significant</td></tr>\n",
       "\t<tr><td>a22  </td><td> 1.673259e-01</td><td>0.0230351839</td><td>  7.26392816</td><td>Stat significant at 1%       </td></tr>\n",
       "\t<tr><td>g11  </td><td> 9.804194e-01</td><td>0.0049138170</td><td>199.52297683</td><td>Stat significant at 1%       </td></tr>\n",
       "\t<tr><td>g12  </td><td>-4.792078e-04</td><td>0.0019962217</td><td> -0.24005738</td><td>Not Statistically Significant</td></tr>\n",
       "\t<tr><td>g21  </td><td>-7.178679e-03</td><td>0.0220542621</td><td> -0.32550078</td><td>Not Statistically Significant</td></tr>\n",
       "\t<tr><td>g22  </td><td> 9.803109e-01</td><td>0.0055912329</td><td>175.33000416</td><td>Stat significant at 1%       </td></tr>\n",
       "</tbody>\n",
       "</table>\n"
      ],
      "text/latex": [
       "A data.frame: 26 × 5\n",
       "\\begin{tabular}{lllll}\n",
       " Parameters & Coefficient & Std\\_error & T\\_value & Significant\\_at\\_5p\\_level\\\\\n",
       " <chr> & <dbl> & <dbl> & <dbl> & <chr>\\\\\n",
       "\\hline\n",
       "\t mu10  &  1.715850e-04 & 0.0004367043 &   0.39290878 & Not Statistically Significant\\\\\n",
       "\t mu20  & -1.855121e-05 & 0.0001406271 &  -0.13191778 & Not Statistically Significant\\\\\n",
       "\t phi11 &  5.044359e-02 & 0.0317733517 &   1.58760687 & Not Statistically Significant\\\\\n",
       "\t phi12 &  4.868423e-02 & 0.0995051011 &   0.48926368 & Not Statistically Significant\\\\\n",
       "\t phi13 & -3.300827e-02 & 0.0317977282 &  -1.03807013 & Not Statistically Significant\\\\\n",
       "\t phi14 &  1.023854e-01 & 0.0995311328 &   1.02867696 & Not Statistically Significant\\\\\n",
       "\t phi15 & -5.347705e-03 & 0.0318191187 &  -0.16806577 & Not Statistically Significant\\\\\n",
       "\t phi16 &  8.341641e-02 & 0.0994776203 &   0.83854451 & Not Statistically Significant\\\\\n",
       "\t phi17 & -1.339567e-01 & 0.0318025778 &  -4.21213350 & Stat significant at 1\\%       \\\\\n",
       "\t phi18 &  1.330584e-01 & 0.0992844014 &   1.34017465 & Not Statistically Significant\\\\\n",
       "\t phi21 &  1.026587e-02 & 0.0102316227 &   1.00334757 & Not Statistically Significant\\\\\n",
       "\t phi22 & -3.686278e-02 & 0.0320425324 &  -1.15043284 & Not Statistically Significant\\\\\n",
       "\t phi23 &  9.393489e-03 & 0.0102394724 &   0.91738019 & Not Statistically Significant\\\\\n",
       "\t phi24 &  1.855199e-02 & 0.0320509151 &   0.57882863 & Not Statistically Significant\\\\\n",
       "\t phi25 &  1.078869e-02 & 0.0102463605 &   1.05292904 & Not Statistically Significant\\\\\n",
       "\t phi26 & -2.910428e-02 & 0.0320336830 &  -0.90855242 & Not Statistically Significant\\\\\n",
       "\t phi27 &  4.519944e-04 & 0.0102410340 &   0.04413562 & Not Statistically Significant\\\\\n",
       "\t phi28 & -2.280957e-02 & 0.0319714629 &  -0.71343517 & Not Statistically Significant\\\\\n",
       "\t a11   &  1.779653e-01 & 0.0213567907 &   8.33296065 & Stat significant at 1\\%       \\\\\n",
       "\t a12   &  2.667489e-03 & 0.0087525902 &   0.30476561 & Not Statistically Significant\\\\\n",
       "\t a21   &  7.139057e-02 & 0.0795823151 &   0.89706577 & Not Statistically Significant\\\\\n",
       "\t a22   &  1.673259e-01 & 0.0230351839 &   7.26392816 & Stat significant at 1\\%       \\\\\n",
       "\t g11   &  9.804194e-01 & 0.0049138170 & 199.52297683 & Stat significant at 1\\%       \\\\\n",
       "\t g12   & -4.792078e-04 & 0.0019962217 &  -0.24005738 & Not Statistically Significant\\\\\n",
       "\t g21   & -7.178679e-03 & 0.0220542621 &  -0.32550078 & Not Statistically Significant\\\\\n",
       "\t g22   &  9.803109e-01 & 0.0055912329 & 175.33000416 & Stat significant at 1\\%       \\\\\n",
       "\\end{tabular}\n"
      ],
      "text/markdown": [
       "\n",
       "A data.frame: 26 × 5\n",
       "\n",
       "| Parameters &lt;chr&gt; | Coefficient &lt;dbl&gt; | Std_error &lt;dbl&gt; | T_value &lt;dbl&gt; | Significant_at_5p_level &lt;chr&gt; |\n",
       "|---|---|---|---|---|\n",
       "| mu10  |  1.715850e-04 | 0.0004367043 |   0.39290878 | Not Statistically Significant |\n",
       "| mu20  | -1.855121e-05 | 0.0001406271 |  -0.13191778 | Not Statistically Significant |\n",
       "| phi11 |  5.044359e-02 | 0.0317733517 |   1.58760687 | Not Statistically Significant |\n",
       "| phi12 |  4.868423e-02 | 0.0995051011 |   0.48926368 | Not Statistically Significant |\n",
       "| phi13 | -3.300827e-02 | 0.0317977282 |  -1.03807013 | Not Statistically Significant |\n",
       "| phi14 |  1.023854e-01 | 0.0995311328 |   1.02867696 | Not Statistically Significant |\n",
       "| phi15 | -5.347705e-03 | 0.0318191187 |  -0.16806577 | Not Statistically Significant |\n",
       "| phi16 |  8.341641e-02 | 0.0994776203 |   0.83854451 | Not Statistically Significant |\n",
       "| phi17 | -1.339567e-01 | 0.0318025778 |  -4.21213350 | Stat significant at 1%        |\n",
       "| phi18 |  1.330584e-01 | 0.0992844014 |   1.34017465 | Not Statistically Significant |\n",
       "| phi21 |  1.026587e-02 | 0.0102316227 |   1.00334757 | Not Statistically Significant |\n",
       "| phi22 | -3.686278e-02 | 0.0320425324 |  -1.15043284 | Not Statistically Significant |\n",
       "| phi23 |  9.393489e-03 | 0.0102394724 |   0.91738019 | Not Statistically Significant |\n",
       "| phi24 |  1.855199e-02 | 0.0320509151 |   0.57882863 | Not Statistically Significant |\n",
       "| phi25 |  1.078869e-02 | 0.0102463605 |   1.05292904 | Not Statistically Significant |\n",
       "| phi26 | -2.910428e-02 | 0.0320336830 |  -0.90855242 | Not Statistically Significant |\n",
       "| phi27 |  4.519944e-04 | 0.0102410340 |   0.04413562 | Not Statistically Significant |\n",
       "| phi28 | -2.280957e-02 | 0.0319714629 |  -0.71343517 | Not Statistically Significant |\n",
       "| a11   |  1.779653e-01 | 0.0213567907 |   8.33296065 | Stat significant at 1%        |\n",
       "| a12   |  2.667489e-03 | 0.0087525902 |   0.30476561 | Not Statistically Significant |\n",
       "| a21   |  7.139057e-02 | 0.0795823151 |   0.89706577 | Not Statistically Significant |\n",
       "| a22   |  1.673259e-01 | 0.0230351839 |   7.26392816 | Stat significant at 1%        |\n",
       "| g11   |  9.804194e-01 | 0.0049138170 | 199.52297683 | Stat significant at 1%        |\n",
       "| g12   | -4.792078e-04 | 0.0019962217 |  -0.24005738 | Not Statistically Significant |\n",
       "| g21   | -7.178679e-03 | 0.0220542621 |  -0.32550078 | Not Statistically Significant |\n",
       "| g22   |  9.803109e-01 | 0.0055912329 | 175.33000416 | Stat significant at 1%        |\n",
       "\n"
      ],
      "text/plain": [
       "   Parameters Coefficient   Std_error    T_value     \n",
       "1  mu10        1.715850e-04 0.0004367043   0.39290878\n",
       "2  mu20       -1.855121e-05 0.0001406271  -0.13191778\n",
       "3  phi11       5.044359e-02 0.0317733517   1.58760687\n",
       "4  phi12       4.868423e-02 0.0995051011   0.48926368\n",
       "5  phi13      -3.300827e-02 0.0317977282  -1.03807013\n",
       "6  phi14       1.023854e-01 0.0995311328   1.02867696\n",
       "7  phi15      -5.347705e-03 0.0318191187  -0.16806577\n",
       "8  phi16       8.341641e-02 0.0994776203   0.83854451\n",
       "9  phi17      -1.339567e-01 0.0318025778  -4.21213350\n",
       "10 phi18       1.330584e-01 0.0992844014   1.34017465\n",
       "11 phi21       1.026587e-02 0.0102316227   1.00334757\n",
       "12 phi22      -3.686278e-02 0.0320425324  -1.15043284\n",
       "13 phi23       9.393489e-03 0.0102394724   0.91738019\n",
       "14 phi24       1.855199e-02 0.0320509151   0.57882863\n",
       "15 phi25       1.078869e-02 0.0102463605   1.05292904\n",
       "16 phi26      -2.910428e-02 0.0320336830  -0.90855242\n",
       "17 phi27       4.519944e-04 0.0102410340   0.04413562\n",
       "18 phi28      -2.280957e-02 0.0319714629  -0.71343517\n",
       "19 a11         1.779653e-01 0.0213567907   8.33296065\n",
       "20 a12         2.667489e-03 0.0087525902   0.30476561\n",
       "21 a21         7.139057e-02 0.0795823151   0.89706577\n",
       "22 a22         1.673259e-01 0.0230351839   7.26392816\n",
       "23 g11         9.804194e-01 0.0049138170 199.52297683\n",
       "24 g12        -4.792078e-04 0.0019962217  -0.24005738\n",
       "25 g21        -7.178679e-03 0.0220542621  -0.32550078\n",
       "26 g22         9.803109e-01 0.0055912329 175.33000416\n",
       "   Significant_at_5p_level      \n",
       "1  Not Statistically Significant\n",
       "2  Not Statistically Significant\n",
       "3  Not Statistically Significant\n",
       "4  Not Statistically Significant\n",
       "5  Not Statistically Significant\n",
       "6  Not Statistically Significant\n",
       "7  Not Statistically Significant\n",
       "8  Not Statistically Significant\n",
       "9  Stat significant at 1%       \n",
       "10 Not Statistically Significant\n",
       "11 Not Statistically Significant\n",
       "12 Not Statistically Significant\n",
       "13 Not Statistically Significant\n",
       "14 Not Statistically Significant\n",
       "15 Not Statistically Significant\n",
       "16 Not Statistically Significant\n",
       "17 Not Statistically Significant\n",
       "18 Not Statistically Significant\n",
       "19 Stat significant at 1%       \n",
       "20 Not Statistically Significant\n",
       "21 Not Statistically Significant\n",
       "22 Stat significant at 1%       \n",
       "23 Stat significant at 1%       \n",
       "24 Not Statistically Significant\n",
       "25 Not Statistically Significant\n",
       "26 Stat significant at 1%       "
      ]
     },
     "metadata": {},
     "output_type": "display_data"
    }
   ],
   "source": [
    "bekk2 <- data.frame(Parameters = c(\"mu10\",\"mu20\",\"phi11\",\"phi12\",\"phi13\",\"phi14\",\"phi15\",\"phi16\",\"phi17\",\"phi18\",\"phi21\",\"phi22\",\"phi23\",\"phi24\",\"phi25\",\"phi26\",\"phi27\",\"phi28\",\"a11\",\"a12\",\"a21\",\"a22\",\"g11\",\"g12\",\"g21\",\"g22\"),\n",
    "                   Coefficient = c(summary(var_bekk2)$varresult$usc$coefficients[\"const\",\"Estimate\"],summary(var_bekk2)$varresult$gbpusd$coefficients[\"const\",\"Estimate\"],\n",
    "                                   summary(var_bekk2)$varresult$usc$coefficients[\"usc.l1\",\"Estimate\"],summary(var_bekk2)$varresult$usc$coefficients[\"gbpusd.l1\",\"Estimate\"],\n",
    "                                   summary(var_bekk2)$varresult$usc$coefficients[\"usc.l2\",\"Estimate\"],summary(var_bekk2)$varresult$usc$coefficients[\"gbpusd.l2\",\"Estimate\"],\n",
    "                                   summary(var_bekk2)$varresult$usc$coefficients[\"usc.l3\",\"Estimate\"],summary(var_bekk2)$varresult$usc$coefficients[\"gbpusd.l3\",\"Estimate\"],\n",
    "                                   summary(var_bekk2)$varresult$usc$coefficients[\"usc.l4\",\"Estimate\"],summary(var_bekk2)$varresult$usc$coefficients[\"gbpusd.l4\",\"Estimate\"],\n",
    "                                   summary(var_bekk2)$varresult$gbpusd$coefficients[\"usc.l1\",\"Estimate\"],summary(var_bekk2)$varresult$gbpusd$coefficients[\"gbpusd.l1\",\"Estimate\"],\n",
    "                                   summary(var_bekk2)$varresult$gbpusd$coefficients[\"usc.l2\",\"Estimate\"],summary(var_bekk2)$varresult$gbpusd$coefficients[\"gbpusd.l2\",\"Estimate\"],\n",
    "                                   summary(var_bekk2)$varresult$gbpusd$coefficients[\"usc.l3\",\"Estimate\"],summary(var_bekk2)$varresult$gbpusd$coefficients[\"gbpusd.l3\",\"Estimate\"],\n",
    "                                   summary(var_bekk2)$varresult$gbpusd$coefficients[\"usc.l4\",\"Estimate\"],summary(var_bekk2)$varresult$gbpusd$coefficients[\"gbpusd.l4\",\"Estimate\"],\n",
    "                                   bekk2_fit$A[1,1],bekk2_fit$A[1,2],bekk2_fit$A[2,1],bekk2_fit$A[2,2],bekk2_fit$G[1,1],bekk2_fit$G[1,2],bekk2_fit$G[2,1],bekk2_fit$G[2,2]),\n",
    "                   Std_error = c(summary(var_bekk2)$varresult$usc$coefficients[\"const\",\"Std. Error\"],summary(var_bekk2)$varresult$gbpusd$coefficients[\"const\",\"Std. Error\"],\n",
    "                                   summary(var_bekk2)$varresult$usc$coefficients[\"usc.l1\",\"Std. Error\"],summary(var_bekk2)$varresult$usc$coefficients[\"gbpusd.l1\",\"Std. Error\"],\n",
    "                                   summary(var_bekk2)$varresult$usc$coefficients[\"usc.l2\",\"Std. Error\"],summary(var_bekk2)$varresult$usc$coefficients[\"gbpusd.l2\",\"Std. Error\"],\n",
    "                                   summary(var_bekk2)$varresult$usc$coefficients[\"usc.l3\",\"Std. Error\"],summary(var_bekk2)$varresult$usc$coefficients[\"gbpusd.l3\",\"Std. Error\"],\n",
    "                                   summary(var_bekk2)$varresult$usc$coefficients[\"usc.l4\",\"Std. Error\"],summary(var_bekk2)$varresult$usc$coefficients[\"gbpusd.l4\",\"Std. Error\"],\n",
    "                                   summary(var_bekk2)$varresult$gbpusd$coefficients[\"usc.l1\",\"Std. Error\"],summary(var_bekk2)$varresult$gbpusd$coefficients[\"gbpusd.l1\",\"Std. Error\"],\n",
    "                                   summary(var_bekk2)$varresult$gbpusd$coefficients[\"usc.l2\",\"Std. Error\"],summary(var_bekk2)$varresult$gbpusd$coefficients[\"gbpusd.l2\",\"Std. Error\"],\n",
    "                                   summary(var_bekk2)$varresult$gbpusd$coefficients[\"usc.l3\",\"Std. Error\"],summary(var_bekk2)$varresult$gbpusd$coefficients[\"gbpusd.l3\",\"Std. Error\"],\n",
    "                                   summary(var_bekk2)$varresult$gbpusd$coefficients[\"usc.l4\",\"Std. Error\"],summary(var_bekk2)$varresult$gbpusd$coefficients[\"gbpusd.l4\",\"Std. Error\"],\n",
    "                                   bekk2_fit$A_sd[1,1],bekk2_fit$A_sd[1,2],bekk2_fit$A_sd[2,1],bekk2_fit$A_sd[2,2],bekk2_fit$G_sd[1,1],bekk2_fit$G_sd[1,2],bekk2_fit$G_sd[2,1],bekk2_fit$G_sd[2,2]),\n",
    "                   T_value = c(summary(var_bekk2)$varresult$usc$coefficients[\"const\",\"t value\"],summary(var_bekk2)$varresult$gbpusd$coefficients[\"const\",\"t value\"],\n",
    "                                   summary(var_bekk2)$varresult$usc$coefficients[\"usc.l1\",\"t value\"],summary(var_bekk2)$varresult$usc$coefficients[\"gbpusd.l1\",\"t value\"],\n",
    "                                   summary(var_bekk2)$varresult$usc$coefficients[\"usc.l2\",\"t value\"],summary(var_bekk2)$varresult$usc$coefficients[\"gbpusd.l2\",\"t value\"],\n",
    "                                   summary(var_bekk2)$varresult$usc$coefficients[\"usc.l3\",\"t value\"],summary(var_bekk2)$varresult$usc$coefficients[\"gbpusd.l3\",\"t value\"],\n",
    "                                   summary(var_bekk2)$varresult$usc$coefficients[\"usc.l4\",\"t value\"],summary(var_bekk2)$varresult$usc$coefficients[\"gbpusd.l4\",\"t value\"],\n",
    "                                   summary(var_bekk2)$varresult$gbpusd$coefficients[\"usc.l1\",\"t value\"],summary(var_bekk2)$varresult$gbpusd$coefficients[\"gbpusd.l1\",\"t value\"],\n",
    "                                   summary(var_bekk2)$varresult$gbpusd$coefficients[\"usc.l2\",\"t value\"],summary(var_bekk2)$varresult$gbpusd$coefficients[\"gbpusd.l2\",\"t value\"],\n",
    "                                   summary(var_bekk2)$varresult$gbpusd$coefficients[\"usc.l3\",\"t value\"],summary(var_bekk2)$varresult$gbpusd$coefficients[\"gbpusd.l3\",\"t value\"],\n",
    "                                   summary(var_bekk2)$varresult$gbpusd$coefficients[\"usc.l4\",\"t value\"],summary(var_bekk2)$varresult$gbpusd$coefficients[\"gbpusd.l4\",\"t value\"],\n",
    "                                   bekk2_fit$A_t[1,1],bekk2_fit$A_t[1,2],bekk2_fit$A_t[2,1],bekk2_fit$A_t[2,2],bekk2_fit$G_t[1,1],bekk2_fit$G_t[1,2],bekk2_fit$G_t[2,1],bekk2_fit$G_t[2,2]))\n",
    "\n",
    "bekk2$Significant_at_5p_level[abs(bekk2$T_value) >= 2.58 ] <- \"Stat significant at 1%\"\n",
    "bekk2$Significant_at_5p_level[abs(bekk2$T_value) > 1.96 & abs(bekk2$T_value) < 2.58] <- \"Stat significant at 5%\"\n",
    "bekk2$Significant_at_5p_level[abs(bekk2$T_value) > 1.645 & abs(bekk2$T_value) <= 1.96 ] <- \"Stat significant at 10%\"\n",
    "bekk2$Significant_at_5p_level[abs(bekk2$T_value) <= 1.645] <- \"Not Statistically Significant\"\n",
    "bekk2"
   ]
  },
  {
   "cell_type": "code",
   "execution_count": 36,
   "id": "388c0811-3961-4b1e-bc9d-a43bb86d31b5",
   "metadata": {},
   "outputs": [
    {
     "data": {
      "text/plain": [
       "\n",
       "\tGranger causality H0: usc do not Granger-cause gbpusd\n",
       "\n",
       "data:  VAR object var_bekk2\n",
       "F-Test = 0.76941, df1 = 4, df2 = 2050, p-value = 0.5451\n"
      ]
     },
     "metadata": {},
     "output_type": "display_data"
    },
    {
     "data": {
      "text/plain": [
       "\n",
       "\tGranger causality H0: gbpusd do not Granger-cause usc\n",
       "\n",
       "data:  VAR object var_bekk2\n",
       "F-Test = 0.90549, df1 = 4, df2 = 2050, p-value = 0.4598\n"
      ]
     },
     "metadata": {},
     "output_type": "display_data"
    }
   ],
   "source": [
    "causality(var_bekk2,cause = \"usc\")$Granger\n",
    "causality(var_bekk2,cause = \"gbpusd\")$Granger"
   ]
  },
  {
   "cell_type": "markdown",
   "id": "9f1f0933-3945-4626-84be-a24c17350c4c",
   "metadata": {},
   "source": [
    "## (c) VAR-BEKK: US Cocoa-CHFUSD"
   ]
  },
  {
   "cell_type": "code",
   "execution_count": 37,
   "id": "8267eff7-790b-4011-89c2-3d5022edbb8e",
   "metadata": {},
   "outputs": [
    {
     "data": {
      "text/plain": [
       "                    usc       chfusd\n",
       "2011-10-03 -0.013688427 -0.014451912\n",
       "2011-10-04  0.004202489  0.005695927\n",
       "2011-10-05  0.011749235 -0.007909542\n",
       "2011-10-06  0.011985162  0.002582074\n",
       "2011-10-07 -0.002609508 -0.006606783\n",
       "2011-10-10  0.001864629  0.025220459"
      ]
     },
     "metadata": {},
     "output_type": "display_data"
    },
    {
     "data": {
      "text/plain": [
       "                    usc        chfusd\n",
       "2015-11-20 -0.002668645 -0.0058403965\n",
       "2015-11-23 -0.018580097  0.0001527923\n",
       "2015-11-24  0.009632826  0.0017300162\n",
       "2015-11-25 -0.010237970 -0.0045349241\n",
       "2015-11-27  0.001814334 -0.0069339501\n",
       "2015-11-30  0.008723172  0.0020595209"
      ]
     },
     "metadata": {},
     "output_type": "display_data"
    }
   ],
   "source": [
    "bekk3data <- us_d[,c(1,4)]\n",
    "head(bekk3data)\n",
    "tail(bekk3data)"
   ]
  },
  {
   "cell_type": "code",
   "execution_count": 38,
   "id": "f554394a-e77a-4916-a415-c8af2280eda4",
   "metadata": {},
   "outputs": [
    {
     "data": {
      "text/html": [
       "<dl>\n",
       "\t<dt>$selection</dt>\n",
       "\t\t<dd><style>\n",
       ".dl-inline {width: auto; margin:0; padding: 0}\n",
       ".dl-inline>dt, .dl-inline>dd {float: none; width: auto; display: inline-block}\n",
       ".dl-inline>dt::after {content: \":\\0020\"; padding-right: .5ex}\n",
       ".dl-inline>dt:not(:first-of-type) {padding-left: .5ex}\n",
       "</style><dl class=dl-inline><dt>AIC(n)</dt><dd>1</dd><dt>HQ(n)</dt><dd>1</dd><dt>SC(n)</dt><dd>1</dd><dt>FPE(n)</dt><dd>1</dd></dl>\n",
       "</dd>\n",
       "\t<dt>$criteria</dt>\n",
       "\t\t<dd><table class=\"dataframe\">\n",
       "<caption>A matrix: 4 × 4 of type dbl</caption>\n",
       "<thead>\n",
       "\t<tr><th></th><th scope=col>1</th><th scope=col>2</th><th scope=col>3</th><th scope=col>4</th></tr>\n",
       "</thead>\n",
       "<tbody>\n",
       "\t<tr><th scope=row>AIC(n)</th><td>-1.820923e+01</td><td>-1.820239e+01</td><td>-1.819960e+01</td><td>-1.820688e+01</td></tr>\n",
       "\t<tr><th scope=row>HQ(n)</th><td>-1.819835e+01</td><td>-1.818426e+01</td><td>-1.817421e+01</td><td>-1.817424e+01</td></tr>\n",
       "\t<tr><th scope=row>SC(n)</th><td>-1.818056e+01</td><td>-1.815461e+01</td><td>-1.813270e+01</td><td>-1.812086e+01</td></tr>\n",
       "\t<tr><th scope=row>FPE(n)</th><td> 1.235470e-08</td><td> 1.243943e-08</td><td> 1.247427e-08</td><td> 1.238381e-08</td></tr>\n",
       "</tbody>\n",
       "</table>\n",
       "</dd>\n",
       "</dl>\n"
      ],
      "text/latex": [
       "\\begin{description}\n",
       "\\item[\\$selection] \\begin{description*}\n",
       "\\item[AIC(n)] 1\n",
       "\\item[HQ(n)] 1\n",
       "\\item[SC(n)] 1\n",
       "\\item[FPE(n)] 1\n",
       "\\end{description*}\n",
       "\n",
       "\\item[\\$criteria] A matrix: 4 × 4 of type dbl\n",
       "\\begin{tabular}{r|llll}\n",
       "  & 1 & 2 & 3 & 4\\\\\n",
       "\\hline\n",
       "\tAIC(n) & -1.820923e+01 & -1.820239e+01 & -1.819960e+01 & -1.820688e+01\\\\\n",
       "\tHQ(n) & -1.819835e+01 & -1.818426e+01 & -1.817421e+01 & -1.817424e+01\\\\\n",
       "\tSC(n) & -1.818056e+01 & -1.815461e+01 & -1.813270e+01 & -1.812086e+01\\\\\n",
       "\tFPE(n) &  1.235470e-08 &  1.243943e-08 &  1.247427e-08 &  1.238381e-08\\\\\n",
       "\\end{tabular}\n",
       "\n",
       "\\end{description}\n"
      ],
      "text/markdown": [
       "$selection\n",
       ":   AIC(n)\n",
       ":   1HQ(n)\n",
       ":   1SC(n)\n",
       ":   1FPE(n)\n",
       ":   1\n",
       "\n",
       "\n",
       "$criteria\n",
       ":   \n",
       "A matrix: 4 × 4 of type dbl\n",
       "\n",
       "| <!--/--> | 1 | 2 | 3 | 4 |\n",
       "|---|---|---|---|---|\n",
       "| AIC(n) | -1.820923e+01 | -1.820239e+01 | -1.819960e+01 | -1.820688e+01 |\n",
       "| HQ(n) | -1.819835e+01 | -1.818426e+01 | -1.817421e+01 | -1.817424e+01 |\n",
       "| SC(n) | -1.818056e+01 | -1.815461e+01 | -1.813270e+01 | -1.812086e+01 |\n",
       "| FPE(n) |  1.235470e-08 |  1.243943e-08 |  1.247427e-08 |  1.238381e-08 |\n",
       "\n",
       "\n",
       "\n",
       "\n"
      ],
      "text/plain": [
       "$selection\n",
       "AIC(n)  HQ(n)  SC(n) FPE(n) \n",
       "     1      1      1      1 \n",
       "\n",
       "$criteria\n",
       "                   1             2             3             4\n",
       "AIC(n) -1.820923e+01 -1.820239e+01 -1.819960e+01 -1.820688e+01\n",
       "HQ(n)  -1.819835e+01 -1.818426e+01 -1.817421e+01 -1.817424e+01\n",
       "SC(n)  -1.818056e+01 -1.815461e+01 -1.813270e+01 -1.812086e+01\n",
       "FPE(n)  1.235470e-08  1.243943e-08  1.247427e-08  1.238381e-08\n"
      ]
     },
     "metadata": {},
     "output_type": "display_data"
    }
   ],
   "source": [
    "VARselect(bekk3data,type = \"const\",lag.max = 4)"
   ]
  },
  {
   "cell_type": "code",
   "execution_count": 39,
   "id": "be385751-1fed-45b9-bca2-4706ebd87fbc",
   "metadata": {},
   "outputs": [],
   "source": [
    "var_bekk3<-VAR(bekk3data,p = 1,type = \"const\")\n",
    "res_bekk3 <- residuals(var_bekk3)\n",
    "res_bekk3 <- as.data.frame(res_bekk3)"
   ]
  },
  {
   "cell_type": "code",
   "execution_count": 40,
   "id": "7f9c687d-0e3b-4f2f-aec9-1fa3227133ff",
   "metadata": {},
   "outputs": [
    {
     "name": "stdout",
     "output_type": "stream",
     "text": [
      " Date[1:1037], format: \"2011-10-04\" \"2011-10-05\" \"2011-10-06\" \"2011-10-07\" \"2011-10-10\" ...\n"
     ]
    }
   ],
   "source": [
    "ind_var3 <- index(bekk3data)[-1]\n",
    "str(ind_var3)"
   ]
  },
  {
   "cell_type": "code",
   "execution_count": 41,
   "id": "aaaad3db-7dfd-4e53-9ef8-32f3d0e20431",
   "metadata": {},
   "outputs": [],
   "source": [
    "res_bekk3 <- xts(res_bekk3,order.by = ind_var3)\n",
    "bekk_spec <- bekk_spec(model = list(type = \"bekk\",asymmetric = F))\n",
    "bekk3_fit <- bekk_fit(spec = bekk_spec,data = res_bekk3)"
   ]
  },
  {
   "cell_type": "code",
   "execution_count": 42,
   "id": "86ed7b20-2884-4c64-ae44-a4054452e814",
   "metadata": {},
   "outputs": [
    {
     "data": {
      "text/html": [
       "<table class=\"dataframe\">\n",
       "<caption>A matrix: 2 × 2 of type dbl</caption>\n",
       "<tbody>\n",
       "\t<tr><td>0.19122012</td><td>-0.006424693</td></tr>\n",
       "\t<tr><td>0.02615948</td><td> 0.062678378</td></tr>\n",
       "</tbody>\n",
       "</table>\n"
      ],
      "text/latex": [
       "A matrix: 2 × 2 of type dbl\n",
       "\\begin{tabular}{ll}\n",
       "\t 0.19122012 & -0.006424693\\\\\n",
       "\t 0.02615948 &  0.062678378\\\\\n",
       "\\end{tabular}\n"
      ],
      "text/markdown": [
       "\n",
       "A matrix: 2 × 2 of type dbl\n",
       "\n",
       "| 0.19122012 | -0.006424693 |\n",
       "| 0.02615948 |  0.062678378 |\n",
       "\n"
      ],
      "text/plain": [
       "     [,1]       [,2]        \n",
       "[1,] 0.19122012 -0.006424693\n",
       "[2,] 0.02615948  0.062678378"
      ]
     },
     "metadata": {},
     "output_type": "display_data"
    },
    {
     "data": {
      "text/html": [
       "<table class=\"dataframe\">\n",
       "<caption>A matrix: 2 × 2 of type dbl</caption>\n",
       "<tbody>\n",
       "\t<tr><td>7.7235957</td><td>-0.1342102</td></tr>\n",
       "\t<tr><td>0.6611992</td><td> 1.2619372</td></tr>\n",
       "</tbody>\n",
       "</table>\n"
      ],
      "text/latex": [
       "A matrix: 2 × 2 of type dbl\n",
       "\\begin{tabular}{ll}\n",
       "\t 7.7235957 & -0.1342102\\\\\n",
       "\t 0.6611992 &  1.2619372\\\\\n",
       "\\end{tabular}\n"
      ],
      "text/markdown": [
       "\n",
       "A matrix: 2 × 2 of type dbl\n",
       "\n",
       "| 7.7235957 | -0.1342102 |\n",
       "| 0.6611992 |  1.2619372 |\n",
       "\n"
      ],
      "text/plain": [
       "     [,1]      [,2]      \n",
       "[1,] 7.7235957 -0.1342102\n",
       "[2,] 0.6611992  1.2619372"
      ]
     },
     "metadata": {},
     "output_type": "display_data"
    },
    {
     "data": {
      "text/html": [
       "<table class=\"dataframe\">\n",
       "<caption>A matrix: 2 × 2 of type dbl</caption>\n",
       "<tbody>\n",
       "\t<tr><td>0.978185476</td><td>0.008429576</td></tr>\n",
       "\t<tr><td>0.002041117</td><td>0.890281454</td></tr>\n",
       "</tbody>\n",
       "</table>\n"
      ],
      "text/latex": [
       "A matrix: 2 × 2 of type dbl\n",
       "\\begin{tabular}{ll}\n",
       "\t 0.978185476 & 0.008429576\\\\\n",
       "\t 0.002041117 & 0.890281454\\\\\n",
       "\\end{tabular}\n"
      ],
      "text/markdown": [
       "\n",
       "A matrix: 2 × 2 of type dbl\n",
       "\n",
       "| 0.978185476 | 0.008429576 |\n",
       "| 0.002041117 | 0.890281454 |\n",
       "\n"
      ],
      "text/plain": [
       "     [,1]        [,2]       \n",
       "[1,] 0.978185476 0.008429576\n",
       "[2,] 0.002041117 0.890281454"
      ]
     },
     "metadata": {},
     "output_type": "display_data"
    },
    {
     "data": {
      "text/html": [
       "<table class=\"dataframe\">\n",
       "<caption>A matrix: 2 × 2 of type dbl</caption>\n",
       "<tbody>\n",
       "\t<tr><td>86.9989447</td><td>0.5454431</td></tr>\n",
       "\t<tr><td> 0.0171078</td><td>7.0050058</td></tr>\n",
       "</tbody>\n",
       "</table>\n"
      ],
      "text/latex": [
       "A matrix: 2 × 2 of type dbl\n",
       "\\begin{tabular}{ll}\n",
       "\t 86.9989447 & 0.5454431\\\\\n",
       "\t  0.0171078 & 7.0050058\\\\\n",
       "\\end{tabular}\n"
      ],
      "text/markdown": [
       "\n",
       "A matrix: 2 × 2 of type dbl\n",
       "\n",
       "| 86.9989447 | 0.5454431 |\n",
       "|  0.0171078 | 7.0050058 |\n",
       "\n"
      ],
      "text/plain": [
       "     [,1]       [,2]     \n",
       "[1,] 86.9989447 0.5454431\n",
       "[2,]  0.0171078 7.0050058"
      ]
     },
     "metadata": {},
     "output_type": "display_data"
    }
   ],
   "source": [
    "bekk3_fit$A\n",
    "bekk3_fit$A_t\n",
    "bekk3_fit$G\n",
    "bekk3_fit$G_t"
   ]
  },
  {
   "cell_type": "markdown",
   "id": "3d4fca33-c84e-4073-abef-585c12e1606e",
   "metadata": {},
   "source": [
    "### VAR-BEKK Model Table for US Cocoa - CHFUSD"
   ]
  },
  {
   "cell_type": "code",
   "execution_count": 43,
   "id": "b2b0f75d-56de-4301-94f2-3165290e832d",
   "metadata": {},
   "outputs": [
    {
     "data": {
      "text/html": [
       "<table class=\"dataframe\">\n",
       "<caption>A data.frame: 14 × 5</caption>\n",
       "<thead>\n",
       "\t<tr><th scope=col>Parameters</th><th scope=col>Coefficient</th><th scope=col>Std_error</th><th scope=col>T_value</th><th scope=col>Significant_at_5p_level</th></tr>\n",
       "\t<tr><th scope=col>&lt;chr&gt;</th><th scope=col>&lt;dbl&gt;</th><th scope=col>&lt;dbl&gt;</th><th scope=col>&lt;dbl&gt;</th><th scope=col>&lt;chr&gt;</th></tr>\n",
       "</thead>\n",
       "<tbody>\n",
       "\t<tr><td>mu10 </td><td> 1.628155e-04</td><td>0.0004385261</td><td> 0.3712789</td><td>Not Statistically Significant</td></tr>\n",
       "\t<tr><td>mu20 </td><td>-8.504709e-05</td><td>0.0002448254</td><td>-0.3473785</td><td>Not Statistically Significant</td></tr>\n",
       "\t<tr><td>phi11</td><td> 5.732398e-02</td><td>0.0312226015</td><td> 1.8359772</td><td>Stat significant at 10%      </td></tr>\n",
       "\t<tr><td>phi12</td><td>-2.225693e-02</td><td>0.0559296609</td><td>-0.3979450</td><td>Not Statistically Significant</td></tr>\n",
       "\t<tr><td>phi21</td><td> 1.058377e-02</td><td>0.0174313175</td><td> 0.6071699</td><td>Not Statistically Significant</td></tr>\n",
       "\t<tr><td>phi22</td><td>-1.688320e-02</td><td>0.0312250623</td><td>-0.5406938</td><td>Not Statistically Significant</td></tr>\n",
       "\t<tr><td>a11  </td><td> 1.912201e-01</td><td>0.0247579146</td><td> 7.7235957</td><td>Stat significant at 1%       </td></tr>\n",
       "\t<tr><td>a12  </td><td>-6.424693e-03</td><td>0.0478703630</td><td>-0.1342102</td><td>Not Statistically Significant</td></tr>\n",
       "\t<tr><td>a21  </td><td> 2.615948e-02</td><td>0.0395636922</td><td> 0.6611992</td><td>Not Statistically Significant</td></tr>\n",
       "\t<tr><td>a22  </td><td> 6.267838e-02</td><td>0.0496683822</td><td> 1.2619372</td><td>Not Statistically Significant</td></tr>\n",
       "\t<tr><td>g11  </td><td> 9.781855e-01</td><td>0.0112436476</td><td>86.9989447</td><td>Stat significant at 1%       </td></tr>\n",
       "\t<tr><td>g12  </td><td> 8.429576e-03</td><td>0.0154545457</td><td> 0.5454431</td><td>Not Statistically Significant</td></tr>\n",
       "\t<tr><td>g21  </td><td> 2.041117e-03</td><td>0.1193091313</td><td> 0.0171078</td><td>Not Statistically Significant</td></tr>\n",
       "\t<tr><td>g22  </td><td> 8.902815e-01</td><td>0.1270921801</td><td> 7.0050058</td><td>Stat significant at 1%       </td></tr>\n",
       "</tbody>\n",
       "</table>\n"
      ],
      "text/latex": [
       "A data.frame: 14 × 5\n",
       "\\begin{tabular}{lllll}\n",
       " Parameters & Coefficient & Std\\_error & T\\_value & Significant\\_at\\_5p\\_level\\\\\n",
       " <chr> & <dbl> & <dbl> & <dbl> & <chr>\\\\\n",
       "\\hline\n",
       "\t mu10  &  1.628155e-04 & 0.0004385261 &  0.3712789 & Not Statistically Significant\\\\\n",
       "\t mu20  & -8.504709e-05 & 0.0002448254 & -0.3473785 & Not Statistically Significant\\\\\n",
       "\t phi11 &  5.732398e-02 & 0.0312226015 &  1.8359772 & Stat significant at 10\\%      \\\\\n",
       "\t phi12 & -2.225693e-02 & 0.0559296609 & -0.3979450 & Not Statistically Significant\\\\\n",
       "\t phi21 &  1.058377e-02 & 0.0174313175 &  0.6071699 & Not Statistically Significant\\\\\n",
       "\t phi22 & -1.688320e-02 & 0.0312250623 & -0.5406938 & Not Statistically Significant\\\\\n",
       "\t a11   &  1.912201e-01 & 0.0247579146 &  7.7235957 & Stat significant at 1\\%       \\\\\n",
       "\t a12   & -6.424693e-03 & 0.0478703630 & -0.1342102 & Not Statistically Significant\\\\\n",
       "\t a21   &  2.615948e-02 & 0.0395636922 &  0.6611992 & Not Statistically Significant\\\\\n",
       "\t a22   &  6.267838e-02 & 0.0496683822 &  1.2619372 & Not Statistically Significant\\\\\n",
       "\t g11   &  9.781855e-01 & 0.0112436476 & 86.9989447 & Stat significant at 1\\%       \\\\\n",
       "\t g12   &  8.429576e-03 & 0.0154545457 &  0.5454431 & Not Statistically Significant\\\\\n",
       "\t g21   &  2.041117e-03 & 0.1193091313 &  0.0171078 & Not Statistically Significant\\\\\n",
       "\t g22   &  8.902815e-01 & 0.1270921801 &  7.0050058 & Stat significant at 1\\%       \\\\\n",
       "\\end{tabular}\n"
      ],
      "text/markdown": [
       "\n",
       "A data.frame: 14 × 5\n",
       "\n",
       "| Parameters &lt;chr&gt; | Coefficient &lt;dbl&gt; | Std_error &lt;dbl&gt; | T_value &lt;dbl&gt; | Significant_at_5p_level &lt;chr&gt; |\n",
       "|---|---|---|---|---|\n",
       "| mu10  |  1.628155e-04 | 0.0004385261 |  0.3712789 | Not Statistically Significant |\n",
       "| mu20  | -8.504709e-05 | 0.0002448254 | -0.3473785 | Not Statistically Significant |\n",
       "| phi11 |  5.732398e-02 | 0.0312226015 |  1.8359772 | Stat significant at 10%       |\n",
       "| phi12 | -2.225693e-02 | 0.0559296609 | -0.3979450 | Not Statistically Significant |\n",
       "| phi21 |  1.058377e-02 | 0.0174313175 |  0.6071699 | Not Statistically Significant |\n",
       "| phi22 | -1.688320e-02 | 0.0312250623 | -0.5406938 | Not Statistically Significant |\n",
       "| a11   |  1.912201e-01 | 0.0247579146 |  7.7235957 | Stat significant at 1%        |\n",
       "| a12   | -6.424693e-03 | 0.0478703630 | -0.1342102 | Not Statistically Significant |\n",
       "| a21   |  2.615948e-02 | 0.0395636922 |  0.6611992 | Not Statistically Significant |\n",
       "| a22   |  6.267838e-02 | 0.0496683822 |  1.2619372 | Not Statistically Significant |\n",
       "| g11   |  9.781855e-01 | 0.0112436476 | 86.9989447 | Stat significant at 1%        |\n",
       "| g12   |  8.429576e-03 | 0.0154545457 |  0.5454431 | Not Statistically Significant |\n",
       "| g21   |  2.041117e-03 | 0.1193091313 |  0.0171078 | Not Statistically Significant |\n",
       "| g22   |  8.902815e-01 | 0.1270921801 |  7.0050058 | Stat significant at 1%        |\n",
       "\n"
      ],
      "text/plain": [
       "   Parameters Coefficient   Std_error    T_value   \n",
       "1  mu10        1.628155e-04 0.0004385261  0.3712789\n",
       "2  mu20       -8.504709e-05 0.0002448254 -0.3473785\n",
       "3  phi11       5.732398e-02 0.0312226015  1.8359772\n",
       "4  phi12      -2.225693e-02 0.0559296609 -0.3979450\n",
       "5  phi21       1.058377e-02 0.0174313175  0.6071699\n",
       "6  phi22      -1.688320e-02 0.0312250623 -0.5406938\n",
       "7  a11         1.912201e-01 0.0247579146  7.7235957\n",
       "8  a12        -6.424693e-03 0.0478703630 -0.1342102\n",
       "9  a21         2.615948e-02 0.0395636922  0.6611992\n",
       "10 a22         6.267838e-02 0.0496683822  1.2619372\n",
       "11 g11         9.781855e-01 0.0112436476 86.9989447\n",
       "12 g12         8.429576e-03 0.0154545457  0.5454431\n",
       "13 g21         2.041117e-03 0.1193091313  0.0171078\n",
       "14 g22         8.902815e-01 0.1270921801  7.0050058\n",
       "   Significant_at_5p_level      \n",
       "1  Not Statistically Significant\n",
       "2  Not Statistically Significant\n",
       "3  Stat significant at 10%      \n",
       "4  Not Statistically Significant\n",
       "5  Not Statistically Significant\n",
       "6  Not Statistically Significant\n",
       "7  Stat significant at 1%       \n",
       "8  Not Statistically Significant\n",
       "9  Not Statistically Significant\n",
       "10 Not Statistically Significant\n",
       "11 Stat significant at 1%       \n",
       "12 Not Statistically Significant\n",
       "13 Not Statistically Significant\n",
       "14 Stat significant at 1%       "
      ]
     },
     "metadata": {},
     "output_type": "display_data"
    }
   ],
   "source": [
    "bekk3 <- data.frame(Parameters = c(\"mu10\",\"mu20\",\"phi11\",\"phi12\",\"phi21\",\"phi22\",\"a11\",\"a12\",\"a21\",\"a22\",\"g11\",\"g12\",\"g21\",\"g22\"),\n",
    "                   Coefficient = c(summary(var_bekk3)$varresult$usc$coefficients[\"const\",\"Estimate\"],summary(var_bekk3)$varresult$chfusd$coefficients[\"const\",\"Estimate\"],\n",
    "                       summary(var_bekk3)$varresult$usc$coefficients[\"usc.l1\",\"Estimate\"],summary(var_bekk3)$varresult$usc$coefficients[\"chfusd.l1\",\"Estimate\"],\n",
    "                                   summary(var_bekk3)$varresult$chfusd$coefficients[\"usc.l1\",\"Estimate\"],summary(var_bekk3)$varresult$chfusd$coefficients[\"chfusd.l1\",\"Estimate\"],\n",
    "                                   bekk3_fit$A[1,1],bekk3_fit$A[1,2],bekk3_fit$A[2,1],bekk3_fit$A[2,2],bekk3_fit$G[1,1],bekk3_fit$G[1,2],bekk3_fit$G[2,1],bekk3_fit$G[2,2]),\n",
    "                   Std_error = c(summary(var_bekk3)$varresult$usc$coefficients[\"const\",\"Std. Error\"],summary(var_bekk3)$varresult$chfusd$coefficients[\"const\",\"Std. Error\"],\n",
    "                       summary(var_bekk3)$varresult$usc$coefficients[\"usc.l1\",\"Std. Error\"],summary(var_bekk3)$varresult$usc$coefficients[\"chfusd.l1\",\"Std. Error\"],\n",
    "                                 summary(var_bekk3)$varresult$chfusd$coefficients[\"usc.l1\",\"Std. Error\"],summary(var_bekk3)$varresult$chfusd$coefficients[\"chfusd.l1\",\"Std. Error\"],\n",
    "                                 bekk3_fit$A_sd[1,1],bekk3_fit$A_sd[1,2],bekk3_fit$A_sd[2,1],bekk3_fit$A_sd[2,2],bekk3_fit$G_sd[1,1],bekk3_fit$G_sd[1,2],bekk3_fit$G_sd[2,1],bekk3_fit$G_sd[2,2]),\n",
    "                   T_value = c(summary(var_bekk3)$varresult$usc$coefficients[\"const\",\"t value\"],summary(var_bekk3)$varresult$chfusd$coefficients[\"const\",\"t value\"],\n",
    "                       summary(var_bekk3)$varresult$usc$coefficients[\"usc.l1\",\"t value\"],summary(var_bekk3)$varresult$usc$coefficients[\"chfusd.l1\",\"t value\"],\n",
    "                               summary(var_bekk3)$varresult$chfusd$coefficients[\"usc.l1\",\"t value\"],summary(var_bekk3)$varresult$chfusd$coefficients[\"chfusd.l1\",\"t value\"],\n",
    "                               bekk3_fit$A_t[1,1],bekk3_fit$A_t[1,2],bekk3_fit$A_t[2,1],bekk3_fit$A_t[2,2],bekk3_fit$G_t[1,1],bekk3_fit$G_t[1,2],bekk3_fit$G_t[2,1],bekk3_fit$G_t[2,2]))\n",
    "\n",
    "bekk3$Significant_at_5p_level[abs(bekk3$T_value) >= 2.58 ] <- \"Stat significant at 1%\"\n",
    "bekk3$Significant_at_5p_level[abs(bekk3$T_value) > 1.96 & abs(bekk3$T_value) < 2.58] <- \"Stat significant at 5%\"\n",
    "bekk3$Significant_at_5p_level[abs(bekk3$T_value) > 1.645 & abs(bekk3$T_value) <= 1.96 ] <- \"Stat significant at 10%\"\n",
    "bekk3$Significant_at_5p_level[abs(bekk3$T_value) <= 1.645] <- \"Not Statistically Significant\"\n",
    "bekk3"
   ]
  },
  {
   "cell_type": "code",
   "execution_count": 44,
   "id": "5856fb78-9824-4cbc-b3b2-57d7546583af",
   "metadata": {},
   "outputs": [
    {
     "data": {
      "text/plain": [
       "\n",
       "\tGranger causality H0: usc do not Granger-cause chfusd\n",
       "\n",
       "data:  VAR object var_bekk3\n",
       "F-Test = 0.36866, df1 = 1, df2 = 2068, p-value = 0.5438\n"
      ]
     },
     "metadata": {},
     "output_type": "display_data"
    },
    {
     "data": {
      "text/plain": [
       "\n",
       "\tGranger causality H0: chfusd do not Granger-cause usc\n",
       "\n",
       "data:  VAR object var_bekk3\n",
       "F-Test = 0.15836, df1 = 1, df2 = 2068, p-value = 0.6907\n"
      ]
     },
     "metadata": {},
     "output_type": "display_data"
    }
   ],
   "source": [
    "causality(var_bekk3,cause = \"usc\")$Granger\n",
    "causality(var_bekk3,cause = \"chfusd\")$Granger"
   ]
  },
  {
   "cell_type": "markdown",
   "id": "d35e619e-f2c8-46c0-84c1-043bbe116deb",
   "metadata": {},
   "source": [
    "## (d) VAR-BEKK model for US Cocoa - GHSUSD"
   ]
  },
  {
   "cell_type": "code",
   "execution_count": 45,
   "id": "10298bf2-a3b4-4971-bd9d-530201b90553",
   "metadata": {},
   "outputs": [
    {
     "data": {
      "text/plain": [
       "                    usc       ghsusd\n",
       "2011-10-03 -0.013688427 -0.004038530\n",
       "2011-10-04  0.004202489 -0.002488911\n",
       "2011-10-05  0.011749235 -0.002783981\n",
       "2011-10-06  0.011985162  0.002164014\n",
       "2011-10-07 -0.002609508 -0.001545939\n",
       "2011-10-10  0.001864629 -0.006775137"
      ]
     },
     "metadata": {},
     "output_type": "display_data"
    },
    {
     "data": {
      "text/plain": [
       "                    usc       ghsusd\n",
       "2015-11-20 -0.002668645 -0.017947345\n",
       "2015-11-23 -0.018580097  0.007486908\n",
       "2015-11-24  0.009632826 -0.009952284\n",
       "2015-11-25 -0.010237970  0.028716393\n",
       "2015-11-27  0.001814334 -0.013235890\n",
       "2015-11-30  0.008723172  0.010970661"
      ]
     },
     "metadata": {},
     "output_type": "display_data"
    }
   ],
   "source": [
    "bekk7data <- na.omit(merge(cr_d[,1],fr_d[,7]))\n",
    "head(bekk7data)\n",
    "tail(bekk7data)"
   ]
  },
  {
   "cell_type": "code",
   "execution_count": 46,
   "id": "284feb33-da94-4f09-aeb1-c14171e9edf6",
   "metadata": {},
   "outputs": [
    {
     "data": {
      "text/html": [
       "<dl>\n",
       "\t<dt>$selection</dt>\n",
       "\t\t<dd><style>\n",
       ".dl-inline {width: auto; margin:0; padding: 0}\n",
       ".dl-inline>dt, .dl-inline>dd {float: none; width: auto; display: inline-block}\n",
       ".dl-inline>dt::after {content: \":\\0020\"; padding-right: .5ex}\n",
       ".dl-inline>dt:not(:first-of-type) {padding-left: .5ex}\n",
       "</style><dl class=dl-inline><dt>AIC(n)</dt><dd>4</dd><dt>HQ(n)</dt><dd>1</dd><dt>SC(n)</dt><dd>1</dd><dt>FPE(n)</dt><dd>4</dd></dl>\n",
       "</dd>\n",
       "\t<dt>$criteria</dt>\n",
       "\t\t<dd><table class=\"dataframe\">\n",
       "<caption>A matrix: 4 × 4 of type dbl</caption>\n",
       "<thead>\n",
       "\t<tr><th></th><th scope=col>1</th><th scope=col>2</th><th scope=col>3</th><th scope=col>4</th></tr>\n",
       "</thead>\n",
       "<tbody>\n",
       "\t<tr><th scope=row>AIC(n)</th><td>-1.750642e+01</td><td>-1.749959e+01</td><td>-1.750401e+01</td><td>-1.751157e+01</td></tr>\n",
       "\t<tr><th scope=row>HQ(n)</th><td>-1.749554e+01</td><td>-1.748146e+01</td><td>-1.747862e+01</td><td>-1.747893e+01</td></tr>\n",
       "\t<tr><th scope=row>SC(n)</th><td>-1.747775e+01</td><td>-1.745180e+01</td><td>-1.743711e+01</td><td>-1.742555e+01</td></tr>\n",
       "\t<tr><th scope=row>FPE(n)</th><td> 2.494924e-08</td><td> 2.512033e-08</td><td> 2.500958e-08</td><td> 2.482117e-08</td></tr>\n",
       "</tbody>\n",
       "</table>\n",
       "</dd>\n",
       "</dl>\n"
      ],
      "text/latex": [
       "\\begin{description}\n",
       "\\item[\\$selection] \\begin{description*}\n",
       "\\item[AIC(n)] 4\n",
       "\\item[HQ(n)] 1\n",
       "\\item[SC(n)] 1\n",
       "\\item[FPE(n)] 4\n",
       "\\end{description*}\n",
       "\n",
       "\\item[\\$criteria] A matrix: 4 × 4 of type dbl\n",
       "\\begin{tabular}{r|llll}\n",
       "  & 1 & 2 & 3 & 4\\\\\n",
       "\\hline\n",
       "\tAIC(n) & -1.750642e+01 & -1.749959e+01 & -1.750401e+01 & -1.751157e+01\\\\\n",
       "\tHQ(n) & -1.749554e+01 & -1.748146e+01 & -1.747862e+01 & -1.747893e+01\\\\\n",
       "\tSC(n) & -1.747775e+01 & -1.745180e+01 & -1.743711e+01 & -1.742555e+01\\\\\n",
       "\tFPE(n) &  2.494924e-08 &  2.512033e-08 &  2.500958e-08 &  2.482117e-08\\\\\n",
       "\\end{tabular}\n",
       "\n",
       "\\end{description}\n"
      ],
      "text/markdown": [
       "$selection\n",
       ":   AIC(n)\n",
       ":   4HQ(n)\n",
       ":   1SC(n)\n",
       ":   1FPE(n)\n",
       ":   4\n",
       "\n",
       "\n",
       "$criteria\n",
       ":   \n",
       "A matrix: 4 × 4 of type dbl\n",
       "\n",
       "| <!--/--> | 1 | 2 | 3 | 4 |\n",
       "|---|---|---|---|---|\n",
       "| AIC(n) | -1.750642e+01 | -1.749959e+01 | -1.750401e+01 | -1.751157e+01 |\n",
       "| HQ(n) | -1.749554e+01 | -1.748146e+01 | -1.747862e+01 | -1.747893e+01 |\n",
       "| SC(n) | -1.747775e+01 | -1.745180e+01 | -1.743711e+01 | -1.742555e+01 |\n",
       "| FPE(n) |  2.494924e-08 |  2.512033e-08 |  2.500958e-08 |  2.482117e-08 |\n",
       "\n",
       "\n",
       "\n",
       "\n"
      ],
      "text/plain": [
       "$selection\n",
       "AIC(n)  HQ(n)  SC(n) FPE(n) \n",
       "     4      1      1      4 \n",
       "\n",
       "$criteria\n",
       "                   1             2             3             4\n",
       "AIC(n) -1.750642e+01 -1.749959e+01 -1.750401e+01 -1.751157e+01\n",
       "HQ(n)  -1.749554e+01 -1.748146e+01 -1.747862e+01 -1.747893e+01\n",
       "SC(n)  -1.747775e+01 -1.745180e+01 -1.743711e+01 -1.742555e+01\n",
       "FPE(n)  2.494924e-08  2.512033e-08  2.500958e-08  2.482117e-08\n"
      ]
     },
     "metadata": {},
     "output_type": "display_data"
    }
   ],
   "source": [
    "VARselect(bekk7data,type = \"const\",lag.max = 4)"
   ]
  },
  {
   "cell_type": "code",
   "execution_count": 47,
   "id": "e16445b4-641e-4536-9880-fdbe3a9a1abf",
   "metadata": {},
   "outputs": [],
   "source": [
    "var_bekk7<-VAR(bekk7data,p = 4,type = \"const\")\n",
    "res_bekk7 <- residuals(var_bekk7)\n",
    "res_bekk7 <- as.data.frame(res_bekk7)"
   ]
  },
  {
   "cell_type": "code",
   "execution_count": 48,
   "id": "4db67d50-f9e6-44e6-92f1-96d4edc6a6de",
   "metadata": {},
   "outputs": [
    {
     "data": {
      "text/plain": [
       "\n",
       "VAR Estimation Results:\n",
       "========================= \n",
       "Endogenous variables: usc, ghsusd \n",
       "Deterministic variables: const \n",
       "Sample size: 1034 \n",
       "Log Likelihood: 6137.117 \n",
       "Roots of the characteristic polynomial:\n",
       "0.6004 0.6004 0.5828 0.5828 0.4839 0.4839 0.462 0.07612\n",
       "Call:\n",
       "VAR(y = bekk7data, p = 4, type = \"const\")\n",
       "\n",
       "\n",
       "Estimation results for equation usc: \n",
       "==================================== \n",
       "usc = usc.l1 + ghsusd.l1 + usc.l2 + ghsusd.l2 + usc.l3 + ghsusd.l3 + usc.l4 + ghsusd.l4 + const \n",
       "\n",
       "            Estimate Std. Error t value Pr(>|t|)    \n",
       "usc.l1     0.0588163  0.0310203   1.896   0.0582 .  \n",
       "ghsusd.l1  0.0616269  0.0394488   1.562   0.1185    \n",
       "usc.l2    -0.0256425  0.0310629  -0.826   0.4093    \n",
       "ghsusd.l2 -0.0077847  0.0399392  -0.195   0.8455    \n",
       "usc.l3     0.0020055  0.0310684   0.065   0.9485    \n",
       "ghsusd.l3  0.0129984  0.0400368   0.325   0.7455    \n",
       "usc.l4    -0.1228635  0.0309866  -3.965 7.85e-05 ***\n",
       "ghsusd.l4 -0.0119384  0.0396284  -0.301   0.7633    \n",
       "const      0.0002061  0.0004427   0.466   0.6416    \n",
       "---\n",
       "Signif. codes:  0 ‘***’ 0.001 ‘**’ 0.01 ‘*’ 0.05 ‘.’ 0.1 ‘ ’ 1\n",
       "\n",
       "\n",
       "Residual standard error: 0.01404 on 1025 degrees of freedom\n",
       "Multiple R-Squared: 0.02131,\tAdjusted R-squared: 0.01367 \n",
       "F-statistic: 2.789 on 8 and 1025 DF,  p-value: 0.004663 \n",
       "\n",
       "\n",
       "Estimation results for equation ghsusd: \n",
       "======================================= \n",
       "ghsusd = usc.l1 + ghsusd.l1 + usc.l2 + ghsusd.l2 + usc.l3 + ghsusd.l3 + usc.l4 + ghsusd.l4 + const \n",
       "\n",
       "            Estimate Std. Error t value Pr(>|t|)    \n",
       "usc.l1    -0.0050984  0.0245886  -0.207 0.835778    \n",
       "ghsusd.l1 -0.1888334  0.0312695  -6.039 2.17e-09 ***\n",
       "usc.l2     0.0103242  0.0246224   0.419 0.675085    \n",
       "ghsusd.l2  0.0214427  0.0316582   0.677 0.498357    \n",
       "usc.l3     0.0094985  0.0246267   0.386 0.699800    \n",
       "ghsusd.l3  0.1105923  0.0317356   3.485 0.000513 ***\n",
       "usc.l4     0.0039265  0.0245619   0.160 0.873021    \n",
       "ghsusd.l4  0.0085893  0.0314119   0.273 0.784569    \n",
       "const     -0.0008561  0.0003509  -2.439 0.014880 *  \n",
       "---\n",
       "Signif. codes:  0 ‘***’ 0.001 ‘**’ 0.01 ‘*’ 0.05 ‘.’ 0.1 ‘ ’ 1\n",
       "\n",
       "\n",
       "Residual standard error: 0.01113 on 1025 degrees of freedom\n",
       "Multiple R-Squared: 0.04706,\tAdjusted R-squared: 0.03962 \n",
       "F-statistic: 6.327 on 8 and 1025 DF,  p-value: 4.984e-08 \n",
       "\n",
       "\n",
       "\n",
       "Covariance matrix of residuals:\n",
       "              usc     ghsusd\n",
       "usc     1.972e-04 -6.199e-06\n",
       "ghsusd -6.199e-06  1.239e-04\n",
       "\n",
       "Correlation matrix of residuals:\n",
       "            usc   ghsusd\n",
       "usc     1.00000 -0.03966\n",
       "ghsusd -0.03966  1.00000\n",
       "\n"
      ]
     },
     "metadata": {},
     "output_type": "display_data"
    }
   ],
   "source": [
    "summary(var_bekk7)"
   ]
  },
  {
   "cell_type": "code",
   "execution_count": 49,
   "id": "f8535421-0374-4ef8-84f4-d143250d695f",
   "metadata": {},
   "outputs": [
    {
     "name": "stdout",
     "output_type": "stream",
     "text": [
      " Date[1:1034], format: \"2011-10-07\" \"2011-10-10\" \"2011-10-11\" \"2011-10-12\" \"2011-10-13\" ...\n"
     ]
    }
   ],
   "source": [
    "ind_var7 <- index(bekk7data)[-c(1:4)]\n",
    "str(ind_var7)"
   ]
  },
  {
   "cell_type": "code",
   "execution_count": 50,
   "id": "0f2f8238-172e-4432-8722-87e0da2ac7d8",
   "metadata": {},
   "outputs": [],
   "source": [
    "res_bekk7 <- xts(res_bekk7,order.by = ind_var7)\n",
    "bekk_spec <- bekk_spec(model = list(type = \"bekk\",asymmetric = F))\n",
    "bekk7_fit <- bekk_fit(spec = bekk_spec,data = res_bekk7)"
   ]
  },
  {
   "cell_type": "code",
   "execution_count": 51,
   "id": "f53c4a59-6377-416a-a51c-baba8ca71a56",
   "metadata": {},
   "outputs": [
    {
     "data": {
      "text/html": [
       "<table class=\"dataframe\">\n",
       "<caption>A matrix: 2 × 2 of type dbl</caption>\n",
       "<tbody>\n",
       "\t<tr><td> 0.19101642</td><td>0.03264131</td></tr>\n",
       "\t<tr><td>-0.01862777</td><td>0.46305949</td></tr>\n",
       "</tbody>\n",
       "</table>\n"
      ],
      "text/latex": [
       "A matrix: 2 × 2 of type dbl\n",
       "\\begin{tabular}{ll}\n",
       "\t  0.19101642 & 0.03264131\\\\\n",
       "\t -0.01862777 & 0.46305949\\\\\n",
       "\\end{tabular}\n"
      ],
      "text/markdown": [
       "\n",
       "A matrix: 2 × 2 of type dbl\n",
       "\n",
       "|  0.19101642 | 0.03264131 |\n",
       "| -0.01862777 | 0.46305949 |\n",
       "\n"
      ],
      "text/plain": [
       "     [,1]        [,2]      \n",
       "[1,]  0.19101642 0.03264131\n",
       "[2,] -0.01862777 0.46305949"
      ]
     },
     "metadata": {},
     "output_type": "display_data"
    },
    {
     "data": {
      "text/html": [
       "<table class=\"dataframe\">\n",
       "<caption>A matrix: 2 × 2 of type dbl</caption>\n",
       "<tbody>\n",
       "\t<tr><td> 6.650071</td><td> 3.183828</td></tr>\n",
       "\t<tr><td>-0.546213</td><td>21.841993</td></tr>\n",
       "</tbody>\n",
       "</table>\n"
      ],
      "text/latex": [
       "A matrix: 2 × 2 of type dbl\n",
       "\\begin{tabular}{ll}\n",
       "\t  6.650071 &  3.183828\\\\\n",
       "\t -0.546213 & 21.841993\\\\\n",
       "\\end{tabular}\n"
      ],
      "text/markdown": [
       "\n",
       "A matrix: 2 × 2 of type dbl\n",
       "\n",
       "|  6.650071 |  3.183828 |\n",
       "| -0.546213 | 21.841993 |\n",
       "\n"
      ],
      "text/plain": [
       "     [,1]      [,2]     \n",
       "[1,]  6.650071  3.183828\n",
       "[2,] -0.546213 21.841993"
      ]
     },
     "metadata": {},
     "output_type": "display_data"
    },
    {
     "data": {
      "text/html": [
       "<table class=\"dataframe\">\n",
       "<caption>A matrix: 2 × 2 of type dbl</caption>\n",
       "<tbody>\n",
       "\t<tr><td>0.962074146</td><td>-0.01410582</td></tr>\n",
       "\t<tr><td>0.001370805</td><td> 0.88668733</td></tr>\n",
       "</tbody>\n",
       "</table>\n"
      ],
      "text/latex": [
       "A matrix: 2 × 2 of type dbl\n",
       "\\begin{tabular}{ll}\n",
       "\t 0.962074146 & -0.01410582\\\\\n",
       "\t 0.001370805 &  0.88668733\\\\\n",
       "\\end{tabular}\n"
      ],
      "text/markdown": [
       "\n",
       "A matrix: 2 × 2 of type dbl\n",
       "\n",
       "| 0.962074146 | -0.01410582 |\n",
       "| 0.001370805 |  0.88668733 |\n",
       "\n"
      ],
      "text/plain": [
       "     [,1]        [,2]       \n",
       "[1,] 0.962074146 -0.01410582\n",
       "[2,] 0.001370805  0.88668733"
      ]
     },
     "metadata": {},
     "output_type": "display_data"
    },
    {
     "data": {
      "text/html": [
       "<table class=\"dataframe\">\n",
       "<caption>A matrix: 2 × 2 of type dbl</caption>\n",
       "<tbody>\n",
       "\t<tr><td>79.95625378</td><td> -2.145975</td></tr>\n",
       "\t<tr><td> 0.08816172</td><td>103.601112</td></tr>\n",
       "</tbody>\n",
       "</table>\n"
      ],
      "text/latex": [
       "A matrix: 2 × 2 of type dbl\n",
       "\\begin{tabular}{ll}\n",
       "\t 79.95625378 &  -2.145975\\\\\n",
       "\t  0.08816172 & 103.601112\\\\\n",
       "\\end{tabular}\n"
      ],
      "text/markdown": [
       "\n",
       "A matrix: 2 × 2 of type dbl\n",
       "\n",
       "| 79.95625378 |  -2.145975 |\n",
       "|  0.08816172 | 103.601112 |\n",
       "\n"
      ],
      "text/plain": [
       "     [,1]        [,2]      \n",
       "[1,] 79.95625378  -2.145975\n",
       "[2,]  0.08816172 103.601112"
      ]
     },
     "metadata": {},
     "output_type": "display_data"
    }
   ],
   "source": [
    "bekk7_fit$A\n",
    "bekk7_fit$A_t\n",
    "bekk7_fit$G\n",
    "bekk7_fit$G_t"
   ]
  },
  {
   "cell_type": "markdown",
   "id": "8514adb8-67d0-4733-9173-8197883b63ee",
   "metadata": {},
   "source": [
    "### VAR-BEKK Model Table for US Cocoa - GHSUSD"
   ]
  },
  {
   "cell_type": "code",
   "execution_count": 52,
   "id": "e9babfb0-b890-4d74-bd6a-1d86dec0e3d2",
   "metadata": {},
   "outputs": [
    {
     "data": {
      "text/html": [
       "<table class=\"dataframe\">\n",
       "<caption>A data.frame: 26 × 5</caption>\n",
       "<thead>\n",
       "\t<tr><th scope=col>Parameters</th><th scope=col>Coefficient</th><th scope=col>Std_error</th><th scope=col>T_value</th><th scope=col>Significant_at_5p_level</th></tr>\n",
       "\t<tr><th scope=col>&lt;chr&gt;</th><th scope=col>&lt;dbl&gt;</th><th scope=col>&lt;dbl&gt;</th><th scope=col>&lt;dbl&gt;</th><th scope=col>&lt;chr&gt;</th></tr>\n",
       "</thead>\n",
       "<tbody>\n",
       "\t<tr><td>mu10 </td><td> 0.0002061023</td><td>0.0004427242</td><td>  0.46553204</td><td>Not Statistically Significant</td></tr>\n",
       "\t<tr><td>mu20 </td><td>-0.0008560649</td><td>0.0003509303</td><td> -2.43941590</td><td>Stat significant at 5%       </td></tr>\n",
       "\t<tr><td>phi11</td><td> 0.0588162648</td><td>0.0310202741</td><td>  1.89605884</td><td>Stat significant at 10%      </td></tr>\n",
       "\t<tr><td>phi12</td><td> 0.0616268975</td><td>0.0394488111</td><td>  1.56219911</td><td>Not Statistically Significant</td></tr>\n",
       "\t<tr><td>phi13</td><td>-0.0256424838</td><td>0.0310629342</td><td> -0.82550102</td><td>Not Statistically Significant</td></tr>\n",
       "\t<tr><td>phi14</td><td>-0.0077847167</td><td>0.0399391958</td><td> -0.19491421</td><td>Not Statistically Significant</td></tr>\n",
       "\t<tr><td>phi15</td><td> 0.0020054571</td><td>0.0310684164</td><td>  0.06454970</td><td>Not Statistically Significant</td></tr>\n",
       "\t<tr><td>phi16</td><td> 0.0129984123</td><td>0.0400367945</td><td>  0.32466166</td><td>Not Statistically Significant</td></tr>\n",
       "\t<tr><td>phi17</td><td>-0.1228634751</td><td>0.0309866068</td><td> -3.96505096</td><td>Stat significant at 1%       </td></tr>\n",
       "\t<tr><td>phi18</td><td>-0.0119383697</td><td>0.0396283547</td><td> -0.30125827</td><td>Not Statistically Significant</td></tr>\n",
       "\t<tr><td>phi21</td><td>-0.0050984425</td><td>0.0245885664</td><td> -0.20735013</td><td>Not Statistically Significant</td></tr>\n",
       "\t<tr><td>phi22</td><td>-0.1888334355</td><td>0.0312695403</td><td> -6.03889388</td><td>Stat significant at 1%       </td></tr>\n",
       "\t<tr><td>phi23</td><td> 0.0103241666</td><td>0.0246223814</td><td>  0.41930008</td><td>Not Statistically Significant</td></tr>\n",
       "\t<tr><td>phi24</td><td> 0.0214427043</td><td>0.0316582492</td><td>  0.67731807</td><td>Not Statistically Significant</td></tr>\n",
       "\t<tr><td>phi25</td><td> 0.0094985013</td><td>0.0246267269</td><td>  0.38569889</td><td>Not Statistically Significant</td></tr>\n",
       "\t<tr><td>phi26</td><td> 0.1105923147</td><td>0.0317356119</td><td>  3.48480171</td><td>Stat significant at 1%       </td></tr>\n",
       "\t<tr><td>phi27</td><td> 0.0039265099</td><td>0.0245618797</td><td>  0.15986195</td><td>Not Statistically Significant</td></tr>\n",
       "\t<tr><td>phi28</td><td> 0.0085893089</td><td>0.0314118576</td><td>  0.27344161</td><td>Not Statistically Significant</td></tr>\n",
       "\t<tr><td>a11  </td><td> 0.1910164187</td><td>0.0287239669</td><td>  6.65007098</td><td>Stat significant at 1%       </td></tr>\n",
       "\t<tr><td>a12  </td><td> 0.0326413067</td><td>0.0102522202</td><td>  3.18382810</td><td>Stat significant at 1%       </td></tr>\n",
       "\t<tr><td>a21  </td><td>-0.0186277739</td><td>0.0341034964</td><td> -0.54621302</td><td>Not Statistically Significant</td></tr>\n",
       "\t<tr><td>a22  </td><td> 0.4630594916</td><td>0.0212004228</td><td> 21.84199321</td><td>Stat significant at 1%       </td></tr>\n",
       "\t<tr><td>g11  </td><td> 0.9620741459</td><td>0.0120325065</td><td> 79.95625378</td><td>Stat significant at 1%       </td></tr>\n",
       "\t<tr><td>g12  </td><td>-0.0141058191</td><td>0.0065731505</td><td> -2.14597536</td><td>Stat significant at 5%       </td></tr>\n",
       "\t<tr><td>g21  </td><td> 0.0013708053</td><td>0.0155487582</td><td>  0.08816172</td><td>Not Statistically Significant</td></tr>\n",
       "\t<tr><td>g22  </td><td> 0.8866873281</td><td>0.0085586661</td><td>103.60111193</td><td>Stat significant at 1%       </td></tr>\n",
       "</tbody>\n",
       "</table>\n"
      ],
      "text/latex": [
       "A data.frame: 26 × 5\n",
       "\\begin{tabular}{lllll}\n",
       " Parameters & Coefficient & Std\\_error & T\\_value & Significant\\_at\\_5p\\_level\\\\\n",
       " <chr> & <dbl> & <dbl> & <dbl> & <chr>\\\\\n",
       "\\hline\n",
       "\t mu10  &  0.0002061023 & 0.0004427242 &   0.46553204 & Not Statistically Significant\\\\\n",
       "\t mu20  & -0.0008560649 & 0.0003509303 &  -2.43941590 & Stat significant at 5\\%       \\\\\n",
       "\t phi11 &  0.0588162648 & 0.0310202741 &   1.89605884 & Stat significant at 10\\%      \\\\\n",
       "\t phi12 &  0.0616268975 & 0.0394488111 &   1.56219911 & Not Statistically Significant\\\\\n",
       "\t phi13 & -0.0256424838 & 0.0310629342 &  -0.82550102 & Not Statistically Significant\\\\\n",
       "\t phi14 & -0.0077847167 & 0.0399391958 &  -0.19491421 & Not Statistically Significant\\\\\n",
       "\t phi15 &  0.0020054571 & 0.0310684164 &   0.06454970 & Not Statistically Significant\\\\\n",
       "\t phi16 &  0.0129984123 & 0.0400367945 &   0.32466166 & Not Statistically Significant\\\\\n",
       "\t phi17 & -0.1228634751 & 0.0309866068 &  -3.96505096 & Stat significant at 1\\%       \\\\\n",
       "\t phi18 & -0.0119383697 & 0.0396283547 &  -0.30125827 & Not Statistically Significant\\\\\n",
       "\t phi21 & -0.0050984425 & 0.0245885664 &  -0.20735013 & Not Statistically Significant\\\\\n",
       "\t phi22 & -0.1888334355 & 0.0312695403 &  -6.03889388 & Stat significant at 1\\%       \\\\\n",
       "\t phi23 &  0.0103241666 & 0.0246223814 &   0.41930008 & Not Statistically Significant\\\\\n",
       "\t phi24 &  0.0214427043 & 0.0316582492 &   0.67731807 & Not Statistically Significant\\\\\n",
       "\t phi25 &  0.0094985013 & 0.0246267269 &   0.38569889 & Not Statistically Significant\\\\\n",
       "\t phi26 &  0.1105923147 & 0.0317356119 &   3.48480171 & Stat significant at 1\\%       \\\\\n",
       "\t phi27 &  0.0039265099 & 0.0245618797 &   0.15986195 & Not Statistically Significant\\\\\n",
       "\t phi28 &  0.0085893089 & 0.0314118576 &   0.27344161 & Not Statistically Significant\\\\\n",
       "\t a11   &  0.1910164187 & 0.0287239669 &   6.65007098 & Stat significant at 1\\%       \\\\\n",
       "\t a12   &  0.0326413067 & 0.0102522202 &   3.18382810 & Stat significant at 1\\%       \\\\\n",
       "\t a21   & -0.0186277739 & 0.0341034964 &  -0.54621302 & Not Statistically Significant\\\\\n",
       "\t a22   &  0.4630594916 & 0.0212004228 &  21.84199321 & Stat significant at 1\\%       \\\\\n",
       "\t g11   &  0.9620741459 & 0.0120325065 &  79.95625378 & Stat significant at 1\\%       \\\\\n",
       "\t g12   & -0.0141058191 & 0.0065731505 &  -2.14597536 & Stat significant at 5\\%       \\\\\n",
       "\t g21   &  0.0013708053 & 0.0155487582 &   0.08816172 & Not Statistically Significant\\\\\n",
       "\t g22   &  0.8866873281 & 0.0085586661 & 103.60111193 & Stat significant at 1\\%       \\\\\n",
       "\\end{tabular}\n"
      ],
      "text/markdown": [
       "\n",
       "A data.frame: 26 × 5\n",
       "\n",
       "| Parameters &lt;chr&gt; | Coefficient &lt;dbl&gt; | Std_error &lt;dbl&gt; | T_value &lt;dbl&gt; | Significant_at_5p_level &lt;chr&gt; |\n",
       "|---|---|---|---|---|\n",
       "| mu10  |  0.0002061023 | 0.0004427242 |   0.46553204 | Not Statistically Significant |\n",
       "| mu20  | -0.0008560649 | 0.0003509303 |  -2.43941590 | Stat significant at 5%        |\n",
       "| phi11 |  0.0588162648 | 0.0310202741 |   1.89605884 | Stat significant at 10%       |\n",
       "| phi12 |  0.0616268975 | 0.0394488111 |   1.56219911 | Not Statistically Significant |\n",
       "| phi13 | -0.0256424838 | 0.0310629342 |  -0.82550102 | Not Statistically Significant |\n",
       "| phi14 | -0.0077847167 | 0.0399391958 |  -0.19491421 | Not Statistically Significant |\n",
       "| phi15 |  0.0020054571 | 0.0310684164 |   0.06454970 | Not Statistically Significant |\n",
       "| phi16 |  0.0129984123 | 0.0400367945 |   0.32466166 | Not Statistically Significant |\n",
       "| phi17 | -0.1228634751 | 0.0309866068 |  -3.96505096 | Stat significant at 1%        |\n",
       "| phi18 | -0.0119383697 | 0.0396283547 |  -0.30125827 | Not Statistically Significant |\n",
       "| phi21 | -0.0050984425 | 0.0245885664 |  -0.20735013 | Not Statistically Significant |\n",
       "| phi22 | -0.1888334355 | 0.0312695403 |  -6.03889388 | Stat significant at 1%        |\n",
       "| phi23 |  0.0103241666 | 0.0246223814 |   0.41930008 | Not Statistically Significant |\n",
       "| phi24 |  0.0214427043 | 0.0316582492 |   0.67731807 | Not Statistically Significant |\n",
       "| phi25 |  0.0094985013 | 0.0246267269 |   0.38569889 | Not Statistically Significant |\n",
       "| phi26 |  0.1105923147 | 0.0317356119 |   3.48480171 | Stat significant at 1%        |\n",
       "| phi27 |  0.0039265099 | 0.0245618797 |   0.15986195 | Not Statistically Significant |\n",
       "| phi28 |  0.0085893089 | 0.0314118576 |   0.27344161 | Not Statistically Significant |\n",
       "| a11   |  0.1910164187 | 0.0287239669 |   6.65007098 | Stat significant at 1%        |\n",
       "| a12   |  0.0326413067 | 0.0102522202 |   3.18382810 | Stat significant at 1%        |\n",
       "| a21   | -0.0186277739 | 0.0341034964 |  -0.54621302 | Not Statistically Significant |\n",
       "| a22   |  0.4630594916 | 0.0212004228 |  21.84199321 | Stat significant at 1%        |\n",
       "| g11   |  0.9620741459 | 0.0120325065 |  79.95625378 | Stat significant at 1%        |\n",
       "| g12   | -0.0141058191 | 0.0065731505 |  -2.14597536 | Stat significant at 5%        |\n",
       "| g21   |  0.0013708053 | 0.0155487582 |   0.08816172 | Not Statistically Significant |\n",
       "| g22   |  0.8866873281 | 0.0085586661 | 103.60111193 | Stat significant at 1%        |\n",
       "\n"
      ],
      "text/plain": [
       "   Parameters Coefficient   Std_error    T_value     \n",
       "1  mu10        0.0002061023 0.0004427242   0.46553204\n",
       "2  mu20       -0.0008560649 0.0003509303  -2.43941590\n",
       "3  phi11       0.0588162648 0.0310202741   1.89605884\n",
       "4  phi12       0.0616268975 0.0394488111   1.56219911\n",
       "5  phi13      -0.0256424838 0.0310629342  -0.82550102\n",
       "6  phi14      -0.0077847167 0.0399391958  -0.19491421\n",
       "7  phi15       0.0020054571 0.0310684164   0.06454970\n",
       "8  phi16       0.0129984123 0.0400367945   0.32466166\n",
       "9  phi17      -0.1228634751 0.0309866068  -3.96505096\n",
       "10 phi18      -0.0119383697 0.0396283547  -0.30125827\n",
       "11 phi21      -0.0050984425 0.0245885664  -0.20735013\n",
       "12 phi22      -0.1888334355 0.0312695403  -6.03889388\n",
       "13 phi23       0.0103241666 0.0246223814   0.41930008\n",
       "14 phi24       0.0214427043 0.0316582492   0.67731807\n",
       "15 phi25       0.0094985013 0.0246267269   0.38569889\n",
       "16 phi26       0.1105923147 0.0317356119   3.48480171\n",
       "17 phi27       0.0039265099 0.0245618797   0.15986195\n",
       "18 phi28       0.0085893089 0.0314118576   0.27344161\n",
       "19 a11         0.1910164187 0.0287239669   6.65007098\n",
       "20 a12         0.0326413067 0.0102522202   3.18382810\n",
       "21 a21        -0.0186277739 0.0341034964  -0.54621302\n",
       "22 a22         0.4630594916 0.0212004228  21.84199321\n",
       "23 g11         0.9620741459 0.0120325065  79.95625378\n",
       "24 g12        -0.0141058191 0.0065731505  -2.14597536\n",
       "25 g21         0.0013708053 0.0155487582   0.08816172\n",
       "26 g22         0.8866873281 0.0085586661 103.60111193\n",
       "   Significant_at_5p_level      \n",
       "1  Not Statistically Significant\n",
       "2  Stat significant at 5%       \n",
       "3  Stat significant at 10%      \n",
       "4  Not Statistically Significant\n",
       "5  Not Statistically Significant\n",
       "6  Not Statistically Significant\n",
       "7  Not Statistically Significant\n",
       "8  Not Statistically Significant\n",
       "9  Stat significant at 1%       \n",
       "10 Not Statistically Significant\n",
       "11 Not Statistically Significant\n",
       "12 Stat significant at 1%       \n",
       "13 Not Statistically Significant\n",
       "14 Not Statistically Significant\n",
       "15 Not Statistically Significant\n",
       "16 Stat significant at 1%       \n",
       "17 Not Statistically Significant\n",
       "18 Not Statistically Significant\n",
       "19 Stat significant at 1%       \n",
       "20 Stat significant at 1%       \n",
       "21 Not Statistically Significant\n",
       "22 Stat significant at 1%       \n",
       "23 Stat significant at 1%       \n",
       "24 Stat significant at 5%       \n",
       "25 Not Statistically Significant\n",
       "26 Stat significant at 1%       "
      ]
     },
     "metadata": {},
     "output_type": "display_data"
    }
   ],
   "source": [
    "bekk7 <- data.frame(Parameters = c(\"mu10\",\"mu20\",\"phi11\",\"phi12\",\"phi13\",\"phi14\",\"phi15\",\"phi16\",\"phi17\",\"phi18\",\"phi21\",\"phi22\",\"phi23\",\"phi24\",\"phi25\",\"phi26\",\"phi27\",\"phi28\",\"a11\",\"a12\",\"a21\",\"a22\",\"g11\",\"g12\",\"g21\",\"g22\"),\n",
    "                   Coefficient = c(summary(var_bekk7)$varresult$usc$coefficients[\"const\",\"Estimate\"],summary(var_bekk7)$varresult$ghsusd$coefficients[\"const\",\"Estimate\"],\n",
    "                                   summary(var_bekk7)$varresult$usc$coefficients[\"usc.l1\",\"Estimate\"],summary(var_bekk7)$varresult$usc$coefficients[\"ghsusd.l1\",\"Estimate\"],\n",
    "                                   summary(var_bekk7)$varresult$usc$coefficients[\"usc.l2\",\"Estimate\"],summary(var_bekk7)$varresult$usc$coefficients[\"ghsusd.l2\",\"Estimate\"],\n",
    "                                   summary(var_bekk7)$varresult$usc$coefficients[\"usc.l3\",\"Estimate\"],summary(var_bekk7)$varresult$usc$coefficients[\"ghsusd.l3\",\"Estimate\"],\n",
    "                                   summary(var_bekk7)$varresult$usc$coefficients[\"usc.l4\",\"Estimate\"],summary(var_bekk7)$varresult$usc$coefficients[\"ghsusd.l4\",\"Estimate\"],\n",
    "                                   summary(var_bekk7)$varresult$ghsusd$coefficients[\"usc.l1\",\"Estimate\"],summary(var_bekk7)$varresult$ghsusd$coefficients[\"ghsusd.l1\",\"Estimate\"],\n",
    "                                   summary(var_bekk7)$varresult$ghsusd$coefficients[\"usc.l2\",\"Estimate\"],summary(var_bekk7)$varresult$ghsusd$coefficients[\"ghsusd.l2\",\"Estimate\"],\n",
    "                                   summary(var_bekk7)$varresult$ghsusd$coefficients[\"usc.l3\",\"Estimate\"],summary(var_bekk7)$varresult$ghsusd$coefficients[\"ghsusd.l3\",\"Estimate\"],\n",
    "                                   summary(var_bekk7)$varresult$ghsusd$coefficients[\"usc.l4\",\"Estimate\"],summary(var_bekk7)$varresult$ghsusd$coefficients[\"ghsusd.l4\",\"Estimate\"],\n",
    "                                   bekk7_fit$A[1,1],bekk7_fit$A[1,2],bekk7_fit$A[2,1],bekk7_fit$A[2,2],bekk7_fit$G[1,1],bekk7_fit$G[1,2],bekk7_fit$G[2,1],bekk7_fit$G[2,2]),\n",
    "                   Std_error = c(summary(var_bekk7)$varresult$usc$coefficients[\"const\",\"Std. Error\"],summary(var_bekk7)$varresult$ghsusd$coefficients[\"const\",\"Std. Error\"],\n",
    "                                   summary(var_bekk7)$varresult$usc$coefficients[\"usc.l1\",\"Std. Error\"],summary(var_bekk7)$varresult$usc$coefficients[\"ghsusd.l1\",\"Std. Error\"],\n",
    "                                   summary(var_bekk7)$varresult$usc$coefficients[\"usc.l2\",\"Std. Error\"],summary(var_bekk7)$varresult$usc$coefficients[\"ghsusd.l2\",\"Std. Error\"],\n",
    "                                   summary(var_bekk7)$varresult$usc$coefficients[\"usc.l3\",\"Std. Error\"],summary(var_bekk7)$varresult$usc$coefficients[\"ghsusd.l3\",\"Std. Error\"],\n",
    "                                   summary(var_bekk7)$varresult$usc$coefficients[\"usc.l4\",\"Std. Error\"],summary(var_bekk7)$varresult$usc$coefficients[\"ghsusd.l4\",\"Std. Error\"],\n",
    "                                   summary(var_bekk7)$varresult$ghsusd$coefficients[\"usc.l1\",\"Std. Error\"],summary(var_bekk7)$varresult$ghsusd$coefficients[\"ghsusd.l1\",\"Std. Error\"],\n",
    "                                   summary(var_bekk7)$varresult$ghsusd$coefficients[\"usc.l2\",\"Std. Error\"],summary(var_bekk7)$varresult$ghsusd$coefficients[\"ghsusd.l2\",\"Std. Error\"],\n",
    "                                   summary(var_bekk7)$varresult$ghsusd$coefficients[\"usc.l3\",\"Std. Error\"],summary(var_bekk7)$varresult$ghsusd$coefficients[\"ghsusd.l3\",\"Std. Error\"],\n",
    "                                   summary(var_bekk7)$varresult$ghsusd$coefficients[\"usc.l4\",\"Std. Error\"],summary(var_bekk7)$varresult$ghsusd$coefficients[\"ghsusd.l4\",\"Std. Error\"],\n",
    "                                   bekk7_fit$A_sd[1,1],bekk7_fit$A_sd[1,2],bekk7_fit$A_sd[2,1],bekk7_fit$A_sd[2,2],bekk7_fit$G_sd[1,1],bekk7_fit$G_sd[1,2],bekk7_fit$G_sd[2,1],bekk7_fit$G_sd[2,2]),\n",
    "                   T_value = c(summary(var_bekk7)$varresult$usc$coefficients[\"const\",\"t value\"],summary(var_bekk7)$varresult$ghsusd$coefficients[\"const\",\"t value\"],\n",
    "                                   summary(var_bekk7)$varresult$usc$coefficients[\"usc.l1\",\"t value\"],summary(var_bekk7)$varresult$usc$coefficients[\"ghsusd.l1\",\"t value\"],\n",
    "                                   summary(var_bekk7)$varresult$usc$coefficients[\"usc.l2\",\"t value\"],summary(var_bekk7)$varresult$usc$coefficients[\"ghsusd.l2\",\"t value\"],\n",
    "                                   summary(var_bekk7)$varresult$usc$coefficients[\"usc.l3\",\"t value\"],summary(var_bekk7)$varresult$usc$coefficients[\"ghsusd.l3\",\"t value\"],\n",
    "                                   summary(var_bekk7)$varresult$usc$coefficients[\"usc.l4\",\"t value\"],summary(var_bekk7)$varresult$usc$coefficients[\"ghsusd.l4\",\"t value\"],\n",
    "                                   summary(var_bekk7)$varresult$ghsusd$coefficients[\"usc.l1\",\"t value\"],summary(var_bekk7)$varresult$ghsusd$coefficients[\"ghsusd.l1\",\"t value\"],\n",
    "                                   summary(var_bekk7)$varresult$ghsusd$coefficients[\"usc.l2\",\"t value\"],summary(var_bekk7)$varresult$ghsusd$coefficients[\"ghsusd.l2\",\"t value\"],\n",
    "                                   summary(var_bekk7)$varresult$ghsusd$coefficients[\"usc.l3\",\"t value\"],summary(var_bekk7)$varresult$ghsusd$coefficients[\"ghsusd.l3\",\"t value\"],\n",
    "                                   summary(var_bekk7)$varresult$ghsusd$coefficients[\"usc.l4\",\"t value\"],summary(var_bekk7)$varresult$ghsusd$coefficients[\"ghsusd.l4\",\"t value\"],\n",
    "                                   bekk7_fit$A_t[1,1],bekk7_fit$A_t[1,2],bekk7_fit$A_t[2,1],bekk7_fit$A_t[2,2],bekk7_fit$G_t[1,1],bekk7_fit$G_t[1,2],bekk7_fit$G_t[2,1],bekk7_fit$G_t[2,2]))\n",
    "\n",
    "bekk7$Significant_at_5p_level[abs(bekk7$T_value) >= 2.58 ] <- \"Stat significant at 1%\"\n",
    "bekk7$Significant_at_5p_level[abs(bekk7$T_value) > 1.96 & abs(bekk7$T_value) < 2.58] <- \"Stat significant at 5%\"\n",
    "bekk7$Significant_at_5p_level[abs(bekk7$T_value) > 1.645 & abs(bekk7$T_value) <= 1.96 ] <- \"Stat significant at 10%\"\n",
    "bekk7$Significant_at_5p_level[abs(bekk7$T_value) <= 1.645] <- \"Not Statistically Significant\"\n",
    "bekk7"
   ]
  },
  {
   "cell_type": "code",
   "execution_count": 53,
   "id": "2a8cfda6-2d06-4dc5-9ffa-dd7c93babdb0",
   "metadata": {},
   "outputs": [
    {
     "data": {
      "text/plain": [
       "\n",
       "\tGranger causality H0: usc do not Granger-cause ghsusd\n",
       "\n",
       "data:  VAR object var_bekk7\n",
       "F-Test = 0.10326, df1 = 4, df2 = 2050, p-value = 0.9814\n"
      ]
     },
     "metadata": {},
     "output_type": "display_data"
    },
    {
     "data": {
      "text/plain": [
       "\n",
       "\tGranger causality H0: ghsusd do not Granger-cause usc\n",
       "\n",
       "data:  VAR object var_bekk7\n",
       "F-Test = 0.7321, df1 = 4, df2 = 2050, p-value = 0.57\n"
      ]
     },
     "metadata": {},
     "output_type": "display_data"
    }
   ],
   "source": [
    "causality(var_bekk7,cause = \"usc\")$Granger\n",
    "causality(var_bekk7,cause = \"ghsusd\")$Granger"
   ]
  },
  {
   "cell_type": "markdown",
   "id": "2b3f76b7-7083-4ade-9bc6-1b9699210471",
   "metadata": {},
   "source": [
    "# (iii) VAR-BEKK Models for London Cocoa"
   ]
  },
  {
   "cell_type": "code",
   "execution_count": 54,
   "id": "43007f32-866f-4992-b37d-f96d7b252408",
   "metadata": {},
   "outputs": [
    {
     "name": "stdout",
     "output_type": "stream",
     "text": [
      "An xts object on 2011-10-03 / 2015-11-30 containing: \n",
      "  Data:    double [1038, 4]\n",
      "  Columns: lc, usdgbp, eurgbp, chfgbp\n",
      "  Index:   Date [1038] (TZ: \"UTC\")\n",
      "  xts Attributes:\n",
      "    $ na.action       : 'omit' int [1:3353] 1 2 3 4 5 6 7 8 9 10 ...\n",
      "  ..- attr(*, \"index\")= num [1:3353] 1.18e+09 1.18e+09 1.18e+09 1.18e+09 1.18e+09 ...\n",
      "    $ ret_type        : chr \"log\"\n",
      "    $ coredata_content: chr \"logReturn\"\n"
     ]
    },
    {
     "data": {
      "text/plain": [
       "                     lc       usdgbp       eurgbp       chfgbp\n",
       "2011-10-03 -0.006386088  0.010386885 -0.005954831 -0.003981877\n",
       "2011-10-04  0.008698228 -0.004327673  0.008802925  0.001101991\n",
       "2011-10-05  0.006330956  0.001393081  0.001565899 -0.006433088\n",
       "2011-10-06  0.011409137  0.002008809  0.008425233  0.004402835\n",
       "2011-10-07 -0.009689446 -0.007981754 -0.012315498 -0.014256235\n",
       "2011-10-10 -0.006320044 -0.006478577  0.013177096  0.018730388"
      ]
     },
     "metadata": {},
     "output_type": "display_data"
    },
    {
     "data": {
      "text/plain": [
       "                     lc       usdgbp       eurgbp        chfgbp\n",
       "2015-11-20  0.003061450  0.006476953 -0.001568292  0.0006966214\n",
       "2015-11-23 -0.014515320  0.004395611  0.003418563  0.0045547614\n",
       "2015-11-24  0.013641576  0.002416920  0.003194324  0.0041506593\n",
       "2015-11-25 -0.011428696 -0.002643806 -0.004830927 -0.0071591084\n",
       "2015-11-27  0.004409178  0.004370439  0.002984653 -0.0024769732\n",
       "2015-11-30  0.003513398 -0.001203732 -0.003482962  0.0007747134"
      ]
     },
     "metadata": {},
     "output_type": "display_data"
    }
   ],
   "source": [
    "l_d <- na.omit(merge(cr_d[,2],fr_d[,c(4:6)]))\n",
    "str(l_d)\n",
    "head(l_d)\n",
    "tail(l_d)"
   ]
  },
  {
   "cell_type": "markdown",
   "id": "b1fdcad8-c3ac-430f-8621-6d13a505ea96",
   "metadata": {},
   "source": [
    "## (a) VAR-BEKK: London-USDGBP"
   ]
  },
  {
   "cell_type": "code",
   "execution_count": 55,
   "id": "d9d51640-5981-40f8-9db0-e0bbbaecd57b",
   "metadata": {},
   "outputs": [
    {
     "data": {
      "text/plain": [
       "                     lc       usdgbp\n",
       "2011-10-03 -0.006386088  0.010386885\n",
       "2011-10-04  0.008698228 -0.004327673\n",
       "2011-10-05  0.006330956  0.001393081\n",
       "2011-10-06  0.011409137  0.002008809\n",
       "2011-10-07 -0.009689446 -0.007981754\n",
       "2011-10-10 -0.006320044 -0.006478577"
      ]
     },
     "metadata": {},
     "output_type": "display_data"
    },
    {
     "data": {
      "text/plain": [
       "                     lc       usdgbp\n",
       "2015-11-20  0.003061450  0.006476953\n",
       "2015-11-23 -0.014515320  0.004395611\n",
       "2015-11-24  0.013641576  0.002416920\n",
       "2015-11-25 -0.011428696 -0.002643806\n",
       "2015-11-27  0.004409178  0.004370439\n",
       "2015-11-30  0.003513398 -0.001203732"
      ]
     },
     "metadata": {},
     "output_type": "display_data"
    }
   ],
   "source": [
    "bekk4data <- l_d[,c(1,2)]\n",
    "head(bekk4data)\n",
    "tail(bekk4data)"
   ]
  },
  {
   "cell_type": "code",
   "execution_count": 56,
   "id": "d8b273c7-9965-4913-84df-ffedf0a30d30",
   "metadata": {},
   "outputs": [
    {
     "data": {
      "text/html": [
       "<dl>\n",
       "\t<dt>$selection</dt>\n",
       "\t\t<dd><style>\n",
       ".dl-inline {width: auto; margin:0; padding: 0}\n",
       ".dl-inline>dt, .dl-inline>dd {float: none; width: auto; display: inline-block}\n",
       ".dl-inline>dt::after {content: \":\\0020\"; padding-right: .5ex}\n",
       ".dl-inline>dt:not(:first-of-type) {padding-left: .5ex}\n",
       "</style><dl class=dl-inline><dt>AIC(n)</dt><dd>1</dd><dt>HQ(n)</dt><dd>1</dd><dt>SC(n)</dt><dd>1</dd><dt>FPE(n)</dt><dd>1</dd></dl>\n",
       "</dd>\n",
       "\t<dt>$criteria</dt>\n",
       "\t\t<dd><table class=\"dataframe\">\n",
       "<caption>A matrix: 4 × 10 of type dbl</caption>\n",
       "<thead>\n",
       "\t<tr><th></th><th scope=col>1</th><th scope=col>2</th><th scope=col>3</th><th scope=col>4</th><th scope=col>5</th><th scope=col>6</th><th scope=col>7</th><th scope=col>8</th><th scope=col>9</th><th scope=col>10</th></tr>\n",
       "</thead>\n",
       "<tbody>\n",
       "\t<tr><th scope=row>AIC(n)</th><td>-1.955705e+01</td><td>-1.955317e+01</td><td>-1.955122e+01</td><td>-1.955564e+01</td><td>-1.955290e+01</td><td>-1.954856e+01</td><td>-1.954860e+01</td><td>-1.954328e+01</td><td>-1.953866e+01</td><td>-1.953584e+01</td></tr>\n",
       "\t<tr><th scope=row>HQ(n)</th><td>-1.954612e+01</td><td>-1.953494e+01</td><td>-1.952571e+01</td><td>-1.952284e+01</td><td>-1.951281e+01</td><td>-1.950118e+01</td><td>-1.949394e+01</td><td>-1.948132e+01</td><td>-1.946941e+01</td><td>-1.945931e+01</td></tr>\n",
       "\t<tr><th scope=row>SC(n)</th><td>-1.952824e+01</td><td>-1.950516e+01</td><td>-1.948401e+01</td><td>-1.946922e+01</td><td>-1.944728e+01</td><td>-1.942373e+01</td><td>-1.940458e+01</td><td>-1.938005e+01</td><td>-1.935622e+01</td><td>-1.933420e+01</td></tr>\n",
       "\t<tr><th scope=row>FPE(n)</th><td> 3.209823e-09</td><td> 3.222311e-09</td><td> 3.228580e-09</td><td> 3.214355e-09</td><td> 3.223190e-09</td><td> 3.237202e-09</td><td> 3.237060e-09</td><td> 3.254349e-09</td><td> 3.269431e-09</td><td> 3.278660e-09</td></tr>\n",
       "</tbody>\n",
       "</table>\n",
       "</dd>\n",
       "</dl>\n"
      ],
      "text/latex": [
       "\\begin{description}\n",
       "\\item[\\$selection] \\begin{description*}\n",
       "\\item[AIC(n)] 1\n",
       "\\item[HQ(n)] 1\n",
       "\\item[SC(n)] 1\n",
       "\\item[FPE(n)] 1\n",
       "\\end{description*}\n",
       "\n",
       "\\item[\\$criteria] A matrix: 4 × 10 of type dbl\n",
       "\\begin{tabular}{r|llllllllll}\n",
       "  & 1 & 2 & 3 & 4 & 5 & 6 & 7 & 8 & 9 & 10\\\\\n",
       "\\hline\n",
       "\tAIC(n) & -1.955705e+01 & -1.955317e+01 & -1.955122e+01 & -1.955564e+01 & -1.955290e+01 & -1.954856e+01 & -1.954860e+01 & -1.954328e+01 & -1.953866e+01 & -1.953584e+01\\\\\n",
       "\tHQ(n) & -1.954612e+01 & -1.953494e+01 & -1.952571e+01 & -1.952284e+01 & -1.951281e+01 & -1.950118e+01 & -1.949394e+01 & -1.948132e+01 & -1.946941e+01 & -1.945931e+01\\\\\n",
       "\tSC(n) & -1.952824e+01 & -1.950516e+01 & -1.948401e+01 & -1.946922e+01 & -1.944728e+01 & -1.942373e+01 & -1.940458e+01 & -1.938005e+01 & -1.935622e+01 & -1.933420e+01\\\\\n",
       "\tFPE(n) &  3.209823e-09 &  3.222311e-09 &  3.228580e-09 &  3.214355e-09 &  3.223190e-09 &  3.237202e-09 &  3.237060e-09 &  3.254349e-09 &  3.269431e-09 &  3.278660e-09\\\\\n",
       "\\end{tabular}\n",
       "\n",
       "\\end{description}\n"
      ],
      "text/markdown": [
       "$selection\n",
       ":   AIC(n)\n",
       ":   1HQ(n)\n",
       ":   1SC(n)\n",
       ":   1FPE(n)\n",
       ":   1\n",
       "\n",
       "\n",
       "$criteria\n",
       ":   \n",
       "A matrix: 4 × 10 of type dbl\n",
       "\n",
       "| <!--/--> | 1 | 2 | 3 | 4 | 5 | 6 | 7 | 8 | 9 | 10 |\n",
       "|---|---|---|---|---|---|---|---|---|---|---|\n",
       "| AIC(n) | -1.955705e+01 | -1.955317e+01 | -1.955122e+01 | -1.955564e+01 | -1.955290e+01 | -1.954856e+01 | -1.954860e+01 | -1.954328e+01 | -1.953866e+01 | -1.953584e+01 |\n",
       "| HQ(n) | -1.954612e+01 | -1.953494e+01 | -1.952571e+01 | -1.952284e+01 | -1.951281e+01 | -1.950118e+01 | -1.949394e+01 | -1.948132e+01 | -1.946941e+01 | -1.945931e+01 |\n",
       "| SC(n) | -1.952824e+01 | -1.950516e+01 | -1.948401e+01 | -1.946922e+01 | -1.944728e+01 | -1.942373e+01 | -1.940458e+01 | -1.938005e+01 | -1.935622e+01 | -1.933420e+01 |\n",
       "| FPE(n) |  3.209823e-09 |  3.222311e-09 |  3.228580e-09 |  3.214355e-09 |  3.223190e-09 |  3.237202e-09 |  3.237060e-09 |  3.254349e-09 |  3.269431e-09 |  3.278660e-09 |\n",
       "\n",
       "\n",
       "\n",
       "\n"
      ],
      "text/plain": [
       "$selection\n",
       "AIC(n)  HQ(n)  SC(n) FPE(n) \n",
       "     1      1      1      1 \n",
       "\n",
       "$criteria\n",
       "                   1             2             3             4             5\n",
       "AIC(n) -1.955705e+01 -1.955317e+01 -1.955122e+01 -1.955564e+01 -1.955290e+01\n",
       "HQ(n)  -1.954612e+01 -1.953494e+01 -1.952571e+01 -1.952284e+01 -1.951281e+01\n",
       "SC(n)  -1.952824e+01 -1.950516e+01 -1.948401e+01 -1.946922e+01 -1.944728e+01\n",
       "FPE(n)  3.209823e-09  3.222311e-09  3.228580e-09  3.214355e-09  3.223190e-09\n",
       "                   6             7             8             9            10\n",
       "AIC(n) -1.954856e+01 -1.954860e+01 -1.954328e+01 -1.953866e+01 -1.953584e+01\n",
       "HQ(n)  -1.950118e+01 -1.949394e+01 -1.948132e+01 -1.946941e+01 -1.945931e+01\n",
       "SC(n)  -1.942373e+01 -1.940458e+01 -1.938005e+01 -1.935622e+01 -1.933420e+01\n",
       "FPE(n)  3.237202e-09  3.237060e-09  3.254349e-09  3.269431e-09  3.278660e-09\n"
      ]
     },
     "metadata": {},
     "output_type": "display_data"
    }
   ],
   "source": [
    "VARselect(bekk4data,type = \"const\")"
   ]
  },
  {
   "cell_type": "code",
   "execution_count": 57,
   "id": "3ec9b5a2-a1c0-4b08-b9ba-c89484a62bf1",
   "metadata": {},
   "outputs": [],
   "source": [
    "var_bekk4<-VAR(bekk4data,p = 1,type = \"const\")\n",
    "res_bekk4 <- residuals(var_bekk4)\n",
    "res_bekk4 <- as.data.frame(res_bekk4)"
   ]
  },
  {
   "cell_type": "code",
   "execution_count": 58,
   "id": "3064868b-ff47-41f7-a08b-e984aaa4e30e",
   "metadata": {},
   "outputs": [
    {
     "data": {
      "text/plain": [
       "\n",
       "VAR Estimation Results:\n",
       "========================= \n",
       "Endogenous variables: lc, usdgbp \n",
       "Deterministic variables: const \n",
       "Sample size: 1037 \n",
       "Log Likelihood: 7203.87 \n",
       "Roots of the characteristic polynomial:\n",
       "0.05663 0.02508\n",
       "Call:\n",
       "VAR(y = bekk4data, p = 1, type = \"const\")\n",
       "\n",
       "\n",
       "Estimation results for equation lc: \n",
       "=================================== \n",
       "lc = lc.l1 + usdgbp.l1 + const \n",
       "\n",
       "           Estimate Std. Error t value Pr(>|t|)  \n",
       "lc.l1     0.0605578  0.0310255   1.952   0.0512 .\n",
       "usdgbp.l1 0.0805609  0.0862641   0.934   0.3506  \n",
       "const     0.0002792  0.0003894   0.717   0.4735  \n",
       "---\n",
       "Signif. codes:  0 ‘***’ 0.001 ‘**’ 0.01 ‘*’ 0.05 ‘.’ 0.1 ‘ ’ 1\n",
       "\n",
       "\n",
       "Residual standard error: 0.01253 on 1034 degrees of freedom\n",
       "Multiple R-Squared: 0.004532,\tAdjusted R-squared: 0.002606 \n",
       "F-statistic: 2.354 on 2 and 1034 DF,  p-value: 0.09553 \n",
       "\n",
       "\n",
       "Estimation results for equation usdgbp: \n",
       "======================================= \n",
       "usdgbp = lc.l1 + usdgbp.l1 + const \n",
       "\n",
       "            Estimate Std. Error t value Pr(>|t|)\n",
       "lc.l1     -4.173e-03  1.115e-02  -0.374    0.708\n",
       "usdgbp.l1 -2.901e-02  3.101e-02  -0.936    0.350\n",
       "const      1.415e-05  1.399e-04   0.101    0.919\n",
       "\n",
       "\n",
       "Residual standard error: 0.004505 on 1034 degrees of freedom\n",
       "Multiple R-Squared: 0.0009857,\tAdjusted R-squared: -0.0009466 \n",
       "F-statistic: 0.5101 on 2 and 1034 DF,  p-value: 0.6006 \n",
       "\n",
       "\n",
       "\n",
       "Covariance matrix of residuals:\n",
       "              lc    usdgbp\n",
       "lc     1.571e-04 5.418e-07\n",
       "usdgbp 5.418e-07 2.030e-05\n",
       "\n",
       "Correlation matrix of residuals:\n",
       "             lc   usdgbp\n",
       "lc     1.000000 0.009594\n",
       "usdgbp 0.009594 1.000000\n",
       "\n"
      ]
     },
     "metadata": {},
     "output_type": "display_data"
    }
   ],
   "source": [
    "summary(var_bekk4)"
   ]
  },
  {
   "cell_type": "code",
   "execution_count": 59,
   "id": "2815372f-4ccd-4e09-84a8-dd49bc448289",
   "metadata": {},
   "outputs": [
    {
     "name": "stdout",
     "output_type": "stream",
     "text": [
      " Date[1:1037], format: \"2011-10-04\" \"2011-10-05\" \"2011-10-06\" \"2011-10-07\" \"2011-10-10\" ...\n"
     ]
    }
   ],
   "source": [
    "ind_var4 <- index(bekk4data)[-1]\n",
    "str(ind_var4)"
   ]
  },
  {
   "cell_type": "code",
   "execution_count": 60,
   "id": "6278fde5-c2d5-4884-b1d0-d32532989c89",
   "metadata": {},
   "outputs": [],
   "source": [
    "res_bekk4 <- xts(res_bekk4,order.by = ind_var4)\n",
    "bekk_spec <- bekk_spec(model = list(type = \"bekk\",asymmetric = F))\n",
    "bekk4_fit <- bekk_fit(spec = bekk_spec,data = res_bekk4)"
   ]
  },
  {
   "cell_type": "code",
   "execution_count": 61,
   "id": "212392ad-5603-4859-b196-4932df25b38e",
   "metadata": {},
   "outputs": [
    {
     "data": {
      "text/html": [
       "<table class=\"dataframe\">\n",
       "<caption>A matrix: 2 × 2 of type dbl</caption>\n",
       "<tbody>\n",
       "\t<tr><td> 0.20079299</td><td>-0.002165827</td></tr>\n",
       "\t<tr><td>-0.01633836</td><td> 0.170094668</td></tr>\n",
       "</tbody>\n",
       "</table>\n"
      ],
      "text/latex": [
       "A matrix: 2 × 2 of type dbl\n",
       "\\begin{tabular}{ll}\n",
       "\t  0.20079299 & -0.002165827\\\\\n",
       "\t -0.01633836 &  0.170094668\\\\\n",
       "\\end{tabular}\n"
      ],
      "text/markdown": [
       "\n",
       "A matrix: 2 × 2 of type dbl\n",
       "\n",
       "|  0.20079299 | -0.002165827 |\n",
       "| -0.01633836 |  0.170094668 |\n",
       "\n"
      ],
      "text/plain": [
       "     [,1]        [,2]        \n",
       "[1,]  0.20079299 -0.002165827\n",
       "[2,] -0.01633836  0.170094668"
      ]
     },
     "metadata": {},
     "output_type": "display_data"
    },
    {
     "data": {
      "text/html": [
       "<table class=\"dataframe\">\n",
       "<caption>A matrix: 2 × 2 of type dbl</caption>\n",
       "<tbody>\n",
       "\t<tr><td>12.4218252</td><td>-0.2356423</td></tr>\n",
       "\t<tr><td>-0.2576083</td><td> 8.0632943</td></tr>\n",
       "</tbody>\n",
       "</table>\n"
      ],
      "text/latex": [
       "A matrix: 2 × 2 of type dbl\n",
       "\\begin{tabular}{ll}\n",
       "\t 12.4218252 & -0.2356423\\\\\n",
       "\t -0.2576083 &  8.0632943\\\\\n",
       "\\end{tabular}\n"
      ],
      "text/markdown": [
       "\n",
       "A matrix: 2 × 2 of type dbl\n",
       "\n",
       "| 12.4218252 | -0.2356423 |\n",
       "| -0.2576083 |  8.0632943 |\n",
       "\n"
      ],
      "text/plain": [
       "     [,1]       [,2]      \n",
       "[1,] 12.4218252 -0.2356423\n",
       "[2,] -0.2576083  8.0632943"
      ]
     },
     "metadata": {},
     "output_type": "display_data"
    },
    {
     "data": {
      "text/html": [
       "<table class=\"dataframe\">\n",
       "<caption>A matrix: 2 × 2 of type dbl</caption>\n",
       "<tbody>\n",
       "\t<tr><td> 0.976326030</td><td>9.228426e-05</td></tr>\n",
       "\t<tr><td>-0.001271311</td><td>9.799915e-01</td></tr>\n",
       "</tbody>\n",
       "</table>\n"
      ],
      "text/latex": [
       "A matrix: 2 × 2 of type dbl\n",
       "\\begin{tabular}{ll}\n",
       "\t  0.976326030 & 9.228426e-05\\\\\n",
       "\t -0.001271311 & 9.799915e-01\\\\\n",
       "\\end{tabular}\n"
      ],
      "text/markdown": [
       "\n",
       "A matrix: 2 × 2 of type dbl\n",
       "\n",
       "|  0.976326030 | 9.228426e-05 |\n",
       "| -0.001271311 | 9.799915e-01 |\n",
       "\n"
      ],
      "text/plain": [
       "     [,1]         [,2]        \n",
       "[1,]  0.976326030 9.228426e-05\n",
       "[2,] -0.001271311 9.799915e-01"
      ]
     },
     "metadata": {},
     "output_type": "display_data"
    },
    {
     "data": {
      "text/html": [
       "<table class=\"dataframe\">\n",
       "<caption>A matrix: 2 × 2 of type dbl</caption>\n",
       "<tbody>\n",
       "\t<tr><td>253.43536269</td><td>  0.04301071</td></tr>\n",
       "\t<tr><td> -0.07265386</td><td>201.42945915</td></tr>\n",
       "</tbody>\n",
       "</table>\n"
      ],
      "text/latex": [
       "A matrix: 2 × 2 of type dbl\n",
       "\\begin{tabular}{ll}\n",
       "\t 253.43536269 &   0.04301071\\\\\n",
       "\t  -0.07265386 & 201.42945915\\\\\n",
       "\\end{tabular}\n"
      ],
      "text/markdown": [
       "\n",
       "A matrix: 2 × 2 of type dbl\n",
       "\n",
       "| 253.43536269 |   0.04301071 |\n",
       "|  -0.07265386 | 201.42945915 |\n",
       "\n"
      ],
      "text/plain": [
       "     [,1]         [,2]        \n",
       "[1,] 253.43536269   0.04301071\n",
       "[2,]  -0.07265386 201.42945915"
      ]
     },
     "metadata": {},
     "output_type": "display_data"
    }
   ],
   "source": [
    "bekk4_fit$A\n",
    "bekk4_fit$A_t\n",
    "bekk4_fit$G\n",
    "bekk4_fit$G_t"
   ]
  },
  {
   "cell_type": "markdown",
   "id": "ead68200-8cab-4276-a785-711904886614",
   "metadata": {},
   "source": [
    "### VAR-BEKK Model Table for London Cocoa - USDGBP"
   ]
  },
  {
   "cell_type": "code",
   "execution_count": 62,
   "id": "49bc2efc-682c-4310-a86f-d8b3ae3e2ec8",
   "metadata": {},
   "outputs": [
    {
     "data": {
      "text/html": [
       "<table class=\"dataframe\">\n",
       "<caption>A data.frame: 14 × 5</caption>\n",
       "<thead>\n",
       "\t<tr><th scope=col>Parameters</th><th scope=col>Coefficient</th><th scope=col>Std_error</th><th scope=col>T_value</th><th scope=col>Significant_at_5p_level</th></tr>\n",
       "\t<tr><th scope=col>&lt;chr&gt;</th><th scope=col>&lt;dbl&gt;</th><th scope=col>&lt;dbl&gt;</th><th scope=col>&lt;dbl&gt;</th><th scope=col>&lt;chr&gt;</th></tr>\n",
       "</thead>\n",
       "<tbody>\n",
       "\t<tr><td>mu10 </td><td> 2.791595e-04</td><td>0.0003893501</td><td>  0.71698837</td><td>Not Statistically Significant</td></tr>\n",
       "\t<tr><td>mu20 </td><td> 1.414698e-05</td><td>0.0001399436</td><td>  0.10109061</td><td>Not Statistically Significant</td></tr>\n",
       "\t<tr><td>phi11</td><td> 6.055778e-02</td><td>0.0310254511</td><td>  1.95187422</td><td>Stat significant at 10%      </td></tr>\n",
       "\t<tr><td>phi12</td><td> 8.056091e-02</td><td>0.0862640631</td><td>  0.93388727</td><td>Not Statistically Significant</td></tr>\n",
       "\t<tr><td>phi21</td><td>-4.172686e-03</td><td>0.0111514385</td><td> -0.37418364</td><td>Not Statistically Significant</td></tr>\n",
       "\t<tr><td>phi22</td><td>-2.900926e-02</td><td>0.0310057826</td><td> -0.93560793</td><td>Not Statistically Significant</td></tr>\n",
       "\t<tr><td>a11  </td><td> 2.007930e-01</td><td>0.0161645315</td><td> 12.42182521</td><td>Stat significant at 1%       </td></tr>\n",
       "\t<tr><td>a12  </td><td>-2.165827e-03</td><td>0.0091911641</td><td> -0.23564230</td><td>Not Statistically Significant</td></tr>\n",
       "\t<tr><td>a21  </td><td>-1.633836e-02</td><td>0.0634232673</td><td> -0.25760831</td><td>Not Statistically Significant</td></tr>\n",
       "\t<tr><td>a22  </td><td> 1.700947e-01</td><td>0.0210949349</td><td>  8.06329428</td><td>Stat significant at 1%       </td></tr>\n",
       "\t<tr><td>g11  </td><td> 9.763260e-01</td><td>0.0038523670</td><td>253.43536269</td><td>Stat significant at 1%       </td></tr>\n",
       "\t<tr><td>g12  </td><td> 9.228426e-05</td><td>0.0021456114</td><td>  0.04301071</td><td>Not Statistically Significant</td></tr>\n",
       "\t<tr><td>g21  </td><td>-1.271311e-03</td><td>0.0174981895</td><td> -0.07265386</td><td>Not Statistically Significant</td></tr>\n",
       "\t<tr><td>g22  </td><td> 9.799915e-01</td><td>0.0048651846</td><td>201.42945915</td><td>Stat significant at 1%       </td></tr>\n",
       "</tbody>\n",
       "</table>\n"
      ],
      "text/latex": [
       "A data.frame: 14 × 5\n",
       "\\begin{tabular}{lllll}\n",
       " Parameters & Coefficient & Std\\_error & T\\_value & Significant\\_at\\_5p\\_level\\\\\n",
       " <chr> & <dbl> & <dbl> & <dbl> & <chr>\\\\\n",
       "\\hline\n",
       "\t mu10  &  2.791595e-04 & 0.0003893501 &   0.71698837 & Not Statistically Significant\\\\\n",
       "\t mu20  &  1.414698e-05 & 0.0001399436 &   0.10109061 & Not Statistically Significant\\\\\n",
       "\t phi11 &  6.055778e-02 & 0.0310254511 &   1.95187422 & Stat significant at 10\\%      \\\\\n",
       "\t phi12 &  8.056091e-02 & 0.0862640631 &   0.93388727 & Not Statistically Significant\\\\\n",
       "\t phi21 & -4.172686e-03 & 0.0111514385 &  -0.37418364 & Not Statistically Significant\\\\\n",
       "\t phi22 & -2.900926e-02 & 0.0310057826 &  -0.93560793 & Not Statistically Significant\\\\\n",
       "\t a11   &  2.007930e-01 & 0.0161645315 &  12.42182521 & Stat significant at 1\\%       \\\\\n",
       "\t a12   & -2.165827e-03 & 0.0091911641 &  -0.23564230 & Not Statistically Significant\\\\\n",
       "\t a21   & -1.633836e-02 & 0.0634232673 &  -0.25760831 & Not Statistically Significant\\\\\n",
       "\t a22   &  1.700947e-01 & 0.0210949349 &   8.06329428 & Stat significant at 1\\%       \\\\\n",
       "\t g11   &  9.763260e-01 & 0.0038523670 & 253.43536269 & Stat significant at 1\\%       \\\\\n",
       "\t g12   &  9.228426e-05 & 0.0021456114 &   0.04301071 & Not Statistically Significant\\\\\n",
       "\t g21   & -1.271311e-03 & 0.0174981895 &  -0.07265386 & Not Statistically Significant\\\\\n",
       "\t g22   &  9.799915e-01 & 0.0048651846 & 201.42945915 & Stat significant at 1\\%       \\\\\n",
       "\\end{tabular}\n"
      ],
      "text/markdown": [
       "\n",
       "A data.frame: 14 × 5\n",
       "\n",
       "| Parameters &lt;chr&gt; | Coefficient &lt;dbl&gt; | Std_error &lt;dbl&gt; | T_value &lt;dbl&gt; | Significant_at_5p_level &lt;chr&gt; |\n",
       "|---|---|---|---|---|\n",
       "| mu10  |  2.791595e-04 | 0.0003893501 |   0.71698837 | Not Statistically Significant |\n",
       "| mu20  |  1.414698e-05 | 0.0001399436 |   0.10109061 | Not Statistically Significant |\n",
       "| phi11 |  6.055778e-02 | 0.0310254511 |   1.95187422 | Stat significant at 10%       |\n",
       "| phi12 |  8.056091e-02 | 0.0862640631 |   0.93388727 | Not Statistically Significant |\n",
       "| phi21 | -4.172686e-03 | 0.0111514385 |  -0.37418364 | Not Statistically Significant |\n",
       "| phi22 | -2.900926e-02 | 0.0310057826 |  -0.93560793 | Not Statistically Significant |\n",
       "| a11   |  2.007930e-01 | 0.0161645315 |  12.42182521 | Stat significant at 1%        |\n",
       "| a12   | -2.165827e-03 | 0.0091911641 |  -0.23564230 | Not Statistically Significant |\n",
       "| a21   | -1.633836e-02 | 0.0634232673 |  -0.25760831 | Not Statistically Significant |\n",
       "| a22   |  1.700947e-01 | 0.0210949349 |   8.06329428 | Stat significant at 1%        |\n",
       "| g11   |  9.763260e-01 | 0.0038523670 | 253.43536269 | Stat significant at 1%        |\n",
       "| g12   |  9.228426e-05 | 0.0021456114 |   0.04301071 | Not Statistically Significant |\n",
       "| g21   | -1.271311e-03 | 0.0174981895 |  -0.07265386 | Not Statistically Significant |\n",
       "| g22   |  9.799915e-01 | 0.0048651846 | 201.42945915 | Stat significant at 1%        |\n",
       "\n"
      ],
      "text/plain": [
       "   Parameters Coefficient   Std_error    T_value     \n",
       "1  mu10        2.791595e-04 0.0003893501   0.71698837\n",
       "2  mu20        1.414698e-05 0.0001399436   0.10109061\n",
       "3  phi11       6.055778e-02 0.0310254511   1.95187422\n",
       "4  phi12       8.056091e-02 0.0862640631   0.93388727\n",
       "5  phi21      -4.172686e-03 0.0111514385  -0.37418364\n",
       "6  phi22      -2.900926e-02 0.0310057826  -0.93560793\n",
       "7  a11         2.007930e-01 0.0161645315  12.42182521\n",
       "8  a12        -2.165827e-03 0.0091911641  -0.23564230\n",
       "9  a21        -1.633836e-02 0.0634232673  -0.25760831\n",
       "10 a22         1.700947e-01 0.0210949349   8.06329428\n",
       "11 g11         9.763260e-01 0.0038523670 253.43536269\n",
       "12 g12         9.228426e-05 0.0021456114   0.04301071\n",
       "13 g21        -1.271311e-03 0.0174981895  -0.07265386\n",
       "14 g22         9.799915e-01 0.0048651846 201.42945915\n",
       "   Significant_at_5p_level      \n",
       "1  Not Statistically Significant\n",
       "2  Not Statistically Significant\n",
       "3  Stat significant at 10%      \n",
       "4  Not Statistically Significant\n",
       "5  Not Statistically Significant\n",
       "6  Not Statistically Significant\n",
       "7  Stat significant at 1%       \n",
       "8  Not Statistically Significant\n",
       "9  Not Statistically Significant\n",
       "10 Stat significant at 1%       \n",
       "11 Stat significant at 1%       \n",
       "12 Not Statistically Significant\n",
       "13 Not Statistically Significant\n",
       "14 Stat significant at 1%       "
      ]
     },
     "metadata": {},
     "output_type": "display_data"
    }
   ],
   "source": [
    "bekk4 <- data.frame(Parameters = c(\"mu10\",\"mu20\",\"phi11\",\"phi12\",\"phi21\",\"phi22\",\"a11\",\"a12\",\"a21\",\"a22\",\"g11\",\"g12\",\"g21\",\"g22\"),\n",
    "                   Coefficient = c(summary(var_bekk4)$varresult$lc$coefficients[\"const\",\"Estimate\"],summary(var_bekk4)$varresult$usdgbp$coefficients[\"const\",\"Estimate\"],\n",
    "                                   summary(var_bekk4)$varresult$lc$coefficients[\"lc.l1\",\"Estimate\"],summary(var_bekk4)$varresult$lc$coefficients[\"usdgbp.l1\",\"Estimate\"],\n",
    "                                   summary(var_bekk4)$varresult$usdgbp$coefficients[\"lc.l1\",\"Estimate\"],summary(var_bekk4)$varresult$usdgbp$coefficients[\"usdgbp.l1\",\"Estimate\"],\n",
    "                                   bekk4_fit$A[1,1],bekk4_fit$A[1,2],bekk4_fit$A[2,1],bekk4_fit$A[2,2],bekk4_fit$G[1,1],bekk4_fit$G[1,2],bekk4_fit$G[2,1],bekk4_fit$G[2,2]),\n",
    "                   Std_error = c(summary(var_bekk4)$varresult$lc$coefficients[\"const\",\"Std. Error\"],summary(var_bekk4)$varresult$usdgbp$coefficients[\"const\",\"Std. Error\"],\n",
    "                                   summary(var_bekk4)$varresult$lc$coefficients[\"lc.l1\",\"Std. Error\"],summary(var_bekk4)$varresult$lc$coefficients[\"usdgbp.l1\",\"Std. Error\"],\n",
    "                                   summary(var_bekk4)$varresult$usdgbp$coefficients[\"lc.l1\",\"Std. Error\"],summary(var_bekk4)$varresult$usdgbp$coefficients[\"usdgbp.l1\",\"Std. Error\"],\n",
    "                                   bekk4_fit$A_sd[1,1],bekk4_fit$A_sd[1,2],bekk4_fit$A_sd[2,1],bekk4_fit$A_sd[2,2],bekk4_fit$G_sd[1,1],bekk4_fit$G_sd[1,2],bekk4_fit$G_sd[2,1],bekk4_fit$G_sd[2,2]),\n",
    "                   T_value = c(summary(var_bekk4)$varresult$lc$coefficients[\"const\",\"t value\"],summary(var_bekk4)$varresult$usdgbp$coefficients[\"const\",\"t value\"],\n",
    "                                   summary(var_bekk4)$varresult$lc$coefficients[\"lc.l1\",\"t value\"],summary(var_bekk4)$varresult$lc$coefficients[\"usdgbp.l1\",\"t value\"],\n",
    "                                   summary(var_bekk4)$varresult$usdgbp$coefficients[\"lc.l1\",\"t value\"],summary(var_bekk4)$varresult$usdgbp$coefficients[\"usdgbp.l1\",\"t value\"],\n",
    "                                   bekk4_fit$A_t[1,1],bekk4_fit$A_t[1,2],bekk4_fit$A_t[2,1],bekk4_fit$A_t[2,2],bekk4_fit$G_t[1,1],bekk4_fit$G_t[1,2],bekk4_fit$G_t[2,1],bekk4_fit$G_t[2,2]))\n",
    "\n",
    "bekk4$Significant_at_5p_level[abs(bekk4$T_value) >= 2.58 ] <- \"Stat significant at 1%\"\n",
    "bekk4$Significant_at_5p_level[abs(bekk4$T_value) > 1.96 & abs(bekk4$T_value) < 2.58] <- \"Stat significant at 5%\"\n",
    "bekk4$Significant_at_5p_level[abs(bekk4$T_value) > 1.645 & abs(bekk4$T_value) <= 1.96 ] <- \"Stat significant at 10%\"\n",
    "bekk4$Significant_at_5p_level[abs(bekk4$T_value) <= 1.645] <- \"Not Statistically Significant\"\n",
    "bekk4"
   ]
  },
  {
   "cell_type": "code",
   "execution_count": 63,
   "id": "c0f839ca-fa50-49d3-8250-594b4db6ea2e",
   "metadata": {},
   "outputs": [
    {
     "data": {
      "text/plain": [
       "\n",
       "\tGranger causality H0: lc do not Granger-cause usdgbp\n",
       "\n",
       "data:  VAR object var_bekk4\n",
       "F-Test = 0.14001, df1 = 1, df2 = 2068, p-value = 0.7083\n"
      ]
     },
     "metadata": {},
     "output_type": "display_data"
    },
    {
     "data": {
      "text/plain": [
       "\n",
       "\tGranger causality H0: usdgbp do not Granger-cause lc\n",
       "\n",
       "data:  VAR object var_bekk4\n",
       "F-Test = 0.87215, df1 = 1, df2 = 2068, p-value = 0.3505\n"
      ]
     },
     "metadata": {},
     "output_type": "display_data"
    }
   ],
   "source": [
    "causality(var_bekk4,cause = \"lc\")$Granger\n",
    "causality(var_bekk4,cause = \"usdgbp\")$Granger"
   ]
  },
  {
   "cell_type": "markdown",
   "id": "06aeae92-a814-4f13-8b8f-e38ef0ab654d",
   "metadata": {},
   "source": [
    "# (b) VAR-BEKK: London Cocoa-EURGBP"
   ]
  },
  {
   "cell_type": "code",
   "execution_count": 64,
   "id": "82340aae-0c01-456a-afdb-29f61e408bd9",
   "metadata": {},
   "outputs": [
    {
     "data": {
      "text/plain": [
       "                     lc       eurgbp\n",
       "2011-10-03 -0.006386088 -0.005954831\n",
       "2011-10-04  0.008698228  0.008802925\n",
       "2011-10-05  0.006330956  0.001565899\n",
       "2011-10-06  0.011409137  0.008425233\n",
       "2011-10-07 -0.009689446 -0.012315498\n",
       "2011-10-10 -0.006320044  0.013177096"
      ]
     },
     "metadata": {},
     "output_type": "display_data"
    }
   ],
   "source": [
    "bekk5data <- l_d[,c(1,3)]\n",
    "head(bekk5data)"
   ]
  },
  {
   "cell_type": "code",
   "execution_count": 65,
   "id": "5709d7e5-6f6f-4cc8-8f0e-d0d78bba39d6",
   "metadata": {},
   "outputs": [
    {
     "data": {
      "text/html": [
       "<dl>\n",
       "\t<dt>$selection</dt>\n",
       "\t\t<dd><style>\n",
       ".dl-inline {width: auto; margin:0; padding: 0}\n",
       ".dl-inline>dt, .dl-inline>dd {float: none; width: auto; display: inline-block}\n",
       ".dl-inline>dt::after {content: \":\\0020\"; padding-right: .5ex}\n",
       ".dl-inline>dt:not(:first-of-type) {padding-left: .5ex}\n",
       "</style><dl class=dl-inline><dt>AIC(n)</dt><dd>1</dd><dt>HQ(n)</dt><dd>1</dd><dt>SC(n)</dt><dd>1</dd><dt>FPE(n)</dt><dd>1</dd></dl>\n",
       "</dd>\n",
       "\t<dt>$criteria</dt>\n",
       "\t\t<dd><table class=\"dataframe\">\n",
       "<caption>A matrix: 4 × 10 of type dbl</caption>\n",
       "<thead>\n",
       "\t<tr><th></th><th scope=col>1</th><th scope=col>2</th><th scope=col>3</th><th scope=col>4</th><th scope=col>5</th><th scope=col>6</th><th scope=col>7</th><th scope=col>8</th><th scope=col>9</th><th scope=col>10</th></tr>\n",
       "</thead>\n",
       "<tbody>\n",
       "\t<tr><th scope=row>AIC(n)</th><td>-1.951219e+01</td><td>-1.950849e+01</td><td>-1.950714e+01</td><td>-1.951198e+01</td><td>-1.951121e+01</td><td>-1.950796e+01</td><td>-1.950621e+01</td><td>-1.950083e+01</td><td>-1.949606e+01</td><td>-1.949335e+01</td></tr>\n",
       "\t<tr><th scope=row>HQ(n)</th><td>-1.950126e+01</td><td>-1.949027e+01</td><td>-1.948163e+01</td><td>-1.947918e+01</td><td>-1.947112e+01</td><td>-1.946058e+01</td><td>-1.945155e+01</td><td>-1.943887e+01</td><td>-1.942681e+01</td><td>-1.941682e+01</td></tr>\n",
       "\t<tr><th scope=row>SC(n)</th><td>-1.948338e+01</td><td>-1.946048e+01</td><td>-1.943993e+01</td><td>-1.942556e+01</td><td>-1.940559e+01</td><td>-1.938313e+01</td><td>-1.936219e+01</td><td>-1.933759e+01</td><td>-1.931362e+01</td><td>-1.929171e+01</td></tr>\n",
       "\t<tr><th scope=row>FPE(n)</th><td> 3.357095e-09</td><td> 3.369541e-09</td><td> 3.374086e-09</td><td> 3.357807e-09</td><td> 3.360380e-09</td><td> 3.371344e-09</td><td> 3.377232e-09</td><td> 3.395483e-09</td><td> 3.411712e-09</td><td> 3.420973e-09</td></tr>\n",
       "</tbody>\n",
       "</table>\n",
       "</dd>\n",
       "</dl>\n"
      ],
      "text/latex": [
       "\\begin{description}\n",
       "\\item[\\$selection] \\begin{description*}\n",
       "\\item[AIC(n)] 1\n",
       "\\item[HQ(n)] 1\n",
       "\\item[SC(n)] 1\n",
       "\\item[FPE(n)] 1\n",
       "\\end{description*}\n",
       "\n",
       "\\item[\\$criteria] A matrix: 4 × 10 of type dbl\n",
       "\\begin{tabular}{r|llllllllll}\n",
       "  & 1 & 2 & 3 & 4 & 5 & 6 & 7 & 8 & 9 & 10\\\\\n",
       "\\hline\n",
       "\tAIC(n) & -1.951219e+01 & -1.950849e+01 & -1.950714e+01 & -1.951198e+01 & -1.951121e+01 & -1.950796e+01 & -1.950621e+01 & -1.950083e+01 & -1.949606e+01 & -1.949335e+01\\\\\n",
       "\tHQ(n) & -1.950126e+01 & -1.949027e+01 & -1.948163e+01 & -1.947918e+01 & -1.947112e+01 & -1.946058e+01 & -1.945155e+01 & -1.943887e+01 & -1.942681e+01 & -1.941682e+01\\\\\n",
       "\tSC(n) & -1.948338e+01 & -1.946048e+01 & -1.943993e+01 & -1.942556e+01 & -1.940559e+01 & -1.938313e+01 & -1.936219e+01 & -1.933759e+01 & -1.931362e+01 & -1.929171e+01\\\\\n",
       "\tFPE(n) &  3.357095e-09 &  3.369541e-09 &  3.374086e-09 &  3.357807e-09 &  3.360380e-09 &  3.371344e-09 &  3.377232e-09 &  3.395483e-09 &  3.411712e-09 &  3.420973e-09\\\\\n",
       "\\end{tabular}\n",
       "\n",
       "\\end{description}\n"
      ],
      "text/markdown": [
       "$selection\n",
       ":   AIC(n)\n",
       ":   1HQ(n)\n",
       ":   1SC(n)\n",
       ":   1FPE(n)\n",
       ":   1\n",
       "\n",
       "\n",
       "$criteria\n",
       ":   \n",
       "A matrix: 4 × 10 of type dbl\n",
       "\n",
       "| <!--/--> | 1 | 2 | 3 | 4 | 5 | 6 | 7 | 8 | 9 | 10 |\n",
       "|---|---|---|---|---|---|---|---|---|---|---|\n",
       "| AIC(n) | -1.951219e+01 | -1.950849e+01 | -1.950714e+01 | -1.951198e+01 | -1.951121e+01 | -1.950796e+01 | -1.950621e+01 | -1.950083e+01 | -1.949606e+01 | -1.949335e+01 |\n",
       "| HQ(n) | -1.950126e+01 | -1.949027e+01 | -1.948163e+01 | -1.947918e+01 | -1.947112e+01 | -1.946058e+01 | -1.945155e+01 | -1.943887e+01 | -1.942681e+01 | -1.941682e+01 |\n",
       "| SC(n) | -1.948338e+01 | -1.946048e+01 | -1.943993e+01 | -1.942556e+01 | -1.940559e+01 | -1.938313e+01 | -1.936219e+01 | -1.933759e+01 | -1.931362e+01 | -1.929171e+01 |\n",
       "| FPE(n) |  3.357095e-09 |  3.369541e-09 |  3.374086e-09 |  3.357807e-09 |  3.360380e-09 |  3.371344e-09 |  3.377232e-09 |  3.395483e-09 |  3.411712e-09 |  3.420973e-09 |\n",
       "\n",
       "\n",
       "\n",
       "\n"
      ],
      "text/plain": [
       "$selection\n",
       "AIC(n)  HQ(n)  SC(n) FPE(n) \n",
       "     1      1      1      1 \n",
       "\n",
       "$criteria\n",
       "                   1             2             3             4             5\n",
       "AIC(n) -1.951219e+01 -1.950849e+01 -1.950714e+01 -1.951198e+01 -1.951121e+01\n",
       "HQ(n)  -1.950126e+01 -1.949027e+01 -1.948163e+01 -1.947918e+01 -1.947112e+01\n",
       "SC(n)  -1.948338e+01 -1.946048e+01 -1.943993e+01 -1.942556e+01 -1.940559e+01\n",
       "FPE(n)  3.357095e-09  3.369541e-09  3.374086e-09  3.357807e-09  3.360380e-09\n",
       "                   6             7             8             9            10\n",
       "AIC(n) -1.950796e+01 -1.950621e+01 -1.950083e+01 -1.949606e+01 -1.949335e+01\n",
       "HQ(n)  -1.946058e+01 -1.945155e+01 -1.943887e+01 -1.942681e+01 -1.941682e+01\n",
       "SC(n)  -1.938313e+01 -1.936219e+01 -1.933759e+01 -1.931362e+01 -1.929171e+01\n",
       "FPE(n)  3.371344e-09  3.377232e-09  3.395483e-09  3.411712e-09  3.420973e-09\n"
      ]
     },
     "metadata": {},
     "output_type": "display_data"
    }
   ],
   "source": [
    "VARselect(bekk5data,type = \"const\")"
   ]
  },
  {
   "cell_type": "code",
   "execution_count": 66,
   "id": "ae86cff7-6f39-471d-9068-a1b5eaf7ac86",
   "metadata": {},
   "outputs": [],
   "source": [
    "var_bekk5<-VAR(bekk5data,p = 1,type = \"const\")\n",
    "res_bekk5 <- residuals(var_bekk5)\n",
    "res_bekk5 <- as.data.frame(res_bekk5)"
   ]
  },
  {
   "cell_type": "code",
   "execution_count": 67,
   "id": "fc1d298b-0aa8-4eb2-8138-a8ce33d33eaf",
   "metadata": {},
   "outputs": [
    {
     "data": {
      "text/plain": [
       "\n",
       "VAR Estimation Results:\n",
       "========================= \n",
       "Endogenous variables: lc, eurgbp \n",
       "Deterministic variables: const \n",
       "Sample size: 1037 \n",
       "Log Likelihood: 7174.914 \n",
       "Roots of the characteristic polynomial:\n",
       "0.06398 0.01277\n",
       "Call:\n",
       "VAR(y = bekk5data, p = 1, type = \"const\")\n",
       "\n",
       "\n",
       "Estimation results for equation lc: \n",
       "=================================== \n",
       "lc = lc.l1 + eurgbp.l1 + const \n",
       "\n",
       "            Estimate Std. Error t value Pr(>|t|)  \n",
       "lc.l1      0.0616629  0.0311012   1.983   0.0477 *\n",
       "eurgbp.l1 -0.0375431  0.0841442  -0.446   0.6556  \n",
       "const      0.0002728  0.0003899   0.700   0.4844  \n",
       "---\n",
       "Signif. codes:  0 ‘***’ 0.001 ‘**’ 0.01 ‘*’ 0.05 ‘.’ 0.1 ‘ ’ 1\n",
       "\n",
       "\n",
       "Residual standard error: 0.01254 on 1034 degrees of freedom\n",
       "Multiple R-Squared: 0.003884,\tAdjusted R-squared: 0.001957 \n",
       "F-statistic: 2.016 on 2 and 1034 DF,  p-value: 0.1337 \n",
       "\n",
       "\n",
       "Estimation results for equation eurgbp: \n",
       "======================================= \n",
       "eurgbp = lc.l1 + eurgbp.l1 + const \n",
       "\n",
       "            Estimate Std. Error t value Pr(>|t|)\n",
       "lc.l1     -0.0045890  0.0115118  -0.399    0.690\n",
       "eurgbp.l1 -0.0104559  0.0311451  -0.336    0.737\n",
       "const     -0.0002108  0.0001443  -1.460    0.144\n",
       "\n",
       "\n",
       "Residual standard error: 0.004641 on 1034 degrees of freedom\n",
       "Multiple R-Squared: 0.0002807,\tAdjusted R-squared: -0.001653 \n",
       "F-statistic: 0.1452 on 2 and 1034 DF,  p-value: 0.8649 \n",
       "\n",
       "\n",
       "\n",
       "Covariance matrix of residuals:\n",
       "              lc    eurgbp\n",
       "lc     0.0001572 3.800e-06\n",
       "eurgbp 0.0000038 2.154e-05\n",
       "\n",
       "Correlation matrix of residuals:\n",
       "           lc eurgbp\n",
       "lc     1.0000 0.0653\n",
       "eurgbp 0.0653 1.0000\n",
       "\n"
      ]
     },
     "metadata": {},
     "output_type": "display_data"
    }
   ],
   "source": [
    "summary(var_bekk5)"
   ]
  },
  {
   "cell_type": "code",
   "execution_count": 68,
   "id": "0e6cc288-5b64-435d-8160-b1ac82994fc2",
   "metadata": {},
   "outputs": [
    {
     "name": "stdout",
     "output_type": "stream",
     "text": [
      " Date[1:1037], format: \"2011-10-04\" \"2011-10-05\" \"2011-10-06\" \"2011-10-07\" \"2011-10-10\" ...\n"
     ]
    }
   ],
   "source": [
    "ind_var5 <- index(bekk5data)[-1]\n",
    "str(ind_var5)"
   ]
  },
  {
   "cell_type": "code",
   "execution_count": 69,
   "id": "e7020a39-b74b-4b45-9e73-31788825dd67",
   "metadata": {},
   "outputs": [],
   "source": [
    "res_bekk5 <- xts(res_bekk5,order.by = ind_var5)\n",
    "bekk_spec <- bekk_spec(model = list(type = \"bekk\",asymmetric = F))\n",
    "bekk5_fit <- bekk_fit(spec = bekk_spec,data = res_bekk5)"
   ]
  },
  {
   "cell_type": "code",
   "execution_count": 70,
   "id": "6be6e27f-ffc8-4db4-bce1-ae597ef1c406",
   "metadata": {},
   "outputs": [
    {
     "data": {
      "text/html": [
       "<table class=\"dataframe\">\n",
       "<caption>A matrix: 2 × 2 of type dbl</caption>\n",
       "<tbody>\n",
       "\t<tr><td> 0.1920985</td><td>-0.0100027</td></tr>\n",
       "\t<tr><td>-0.0261573</td><td> 0.2175253</td></tr>\n",
       "</tbody>\n",
       "</table>\n"
      ],
      "text/latex": [
       "A matrix: 2 × 2 of type dbl\n",
       "\\begin{tabular}{ll}\n",
       "\t  0.1920985 & -0.0100027\\\\\n",
       "\t -0.0261573 &  0.2175253\\\\\n",
       "\\end{tabular}\n"
      ],
      "text/markdown": [
       "\n",
       "A matrix: 2 × 2 of type dbl\n",
       "\n",
       "|  0.1920985 | -0.0100027 |\n",
       "| -0.0261573 |  0.2175253 |\n",
       "\n"
      ],
      "text/plain": [
       "     [,1]       [,2]      \n",
       "[1,]  0.1920985 -0.0100027\n",
       "[2,] -0.0261573  0.2175253"
      ]
     },
     "metadata": {},
     "output_type": "display_data"
    },
    {
     "data": {
      "text/html": [
       "<table class=\"dataframe\">\n",
       "<caption>A matrix: 2 × 2 of type dbl</caption>\n",
       "<tbody>\n",
       "\t<tr><td>13.0015694</td><td>-1.210912</td></tr>\n",
       "\t<tr><td>-0.4387909</td><td> 9.606109</td></tr>\n",
       "</tbody>\n",
       "</table>\n"
      ],
      "text/latex": [
       "A matrix: 2 × 2 of type dbl\n",
       "\\begin{tabular}{ll}\n",
       "\t 13.0015694 & -1.210912\\\\\n",
       "\t -0.4387909 &  9.606109\\\\\n",
       "\\end{tabular}\n"
      ],
      "text/markdown": [
       "\n",
       "A matrix: 2 × 2 of type dbl\n",
       "\n",
       "| 13.0015694 | -1.210912 |\n",
       "| -0.4387909 |  9.606109 |\n",
       "\n"
      ],
      "text/plain": [
       "     [,1]       [,2]     \n",
       "[1,] 13.0015694 -1.210912\n",
       "[2,] -0.4387909  9.606109"
      ]
     },
     "metadata": {},
     "output_type": "display_data"
    },
    {
     "data": {
      "text/html": [
       "<table class=\"dataframe\">\n",
       "<caption>A matrix: 2 × 2 of type dbl</caption>\n",
       "<tbody>\n",
       "\t<tr><td>0.97854646</td><td>0.002217767</td></tr>\n",
       "\t<tr><td>0.01236922</td><td>0.968611908</td></tr>\n",
       "</tbody>\n",
       "</table>\n"
      ],
      "text/latex": [
       "A matrix: 2 × 2 of type dbl\n",
       "\\begin{tabular}{ll}\n",
       "\t 0.97854646 & 0.002217767\\\\\n",
       "\t 0.01236922 & 0.968611908\\\\\n",
       "\\end{tabular}\n"
      ],
      "text/markdown": [
       "\n",
       "A matrix: 2 × 2 of type dbl\n",
       "\n",
       "| 0.97854646 | 0.002217767 |\n",
       "| 0.01236922 | 0.968611908 |\n",
       "\n"
      ],
      "text/plain": [
       "     [,1]       [,2]       \n",
       "[1,] 0.97854646 0.002217767\n",
       "[2,] 0.01236922 0.968611908"
      ]
     },
     "metadata": {},
     "output_type": "display_data"
    },
    {
     "data": {
      "text/html": [
       "<table class=\"dataframe\">\n",
       "<caption>A matrix: 2 × 2 of type dbl</caption>\n",
       "<tbody>\n",
       "\t<tr><td>307.4284724</td><td>  1.189389</td></tr>\n",
       "\t<tr><td>  0.7152718</td><td>143.626812</td></tr>\n",
       "</tbody>\n",
       "</table>\n"
      ],
      "text/latex": [
       "A matrix: 2 × 2 of type dbl\n",
       "\\begin{tabular}{ll}\n",
       "\t 307.4284724 &   1.189389\\\\\n",
       "\t   0.7152718 & 143.626812\\\\\n",
       "\\end{tabular}\n"
      ],
      "text/markdown": [
       "\n",
       "A matrix: 2 × 2 of type dbl\n",
       "\n",
       "| 307.4284724 |   1.189389 |\n",
       "|   0.7152718 | 143.626812 |\n",
       "\n"
      ],
      "text/plain": [
       "     [,1]        [,2]      \n",
       "[1,] 307.4284724   1.189389\n",
       "[2,]   0.7152718 143.626812"
      ]
     },
     "metadata": {},
     "output_type": "display_data"
    }
   ],
   "source": [
    "bekk5_fit$A\n",
    "bekk5_fit$A_t\n",
    "bekk5_fit$G\n",
    "bekk5_fit$G_t"
   ]
  },
  {
   "cell_type": "markdown",
   "id": "21532ab9-3187-4abe-9511-240a01d47bc6",
   "metadata": {},
   "source": [
    "### VAR-BEKK Model Table for London-EURGBP"
   ]
  },
  {
   "cell_type": "code",
   "execution_count": 71,
   "id": "1215bc3d-6e4e-4ef6-ada1-f87f30ef624d",
   "metadata": {},
   "outputs": [
    {
     "data": {
      "text/html": [
       "<table class=\"dataframe\">\n",
       "<caption>A data.frame: 14 × 5</caption>\n",
       "<thead>\n",
       "\t<tr><th scope=col>Parameters</th><th scope=col>Coefficient</th><th scope=col>Std_error</th><th scope=col>T_value</th><th scope=col>Significant_at_5p_level</th></tr>\n",
       "\t<tr><th scope=col>&lt;chr&gt;</th><th scope=col>&lt;dbl&gt;</th><th scope=col>&lt;dbl&gt;</th><th scope=col>&lt;dbl&gt;</th><th scope=col>&lt;chr&gt;</th></tr>\n",
       "</thead>\n",
       "<tbody>\n",
       "\t<tr><td>mu10 </td><td> 0.0002727597</td><td>0.0003899084</td><td>  0.6995482</td><td>Not Statistically Significant</td></tr>\n",
       "\t<tr><td>mu20 </td><td>-0.0002107604</td><td>0.0001443204</td><td> -1.4603649</td><td>Not Statistically Significant</td></tr>\n",
       "\t<tr><td>phi11</td><td> 0.0616628715</td><td>0.0311011662</td><td>  1.9826546</td><td>Stat significant at 5%       </td></tr>\n",
       "\t<tr><td>phi12</td><td>-0.0375431314</td><td>0.0841442074</td><td> -0.4461761</td><td>Not Statistically Significant</td></tr>\n",
       "\t<tr><td>phi21</td><td>-0.0045889714</td><td>0.0115117581</td><td> -0.3986334</td><td>Not Statistically Significant</td></tr>\n",
       "\t<tr><td>phi22</td><td>-0.0104558744</td><td>0.0311450624</td><td> -0.3357153</td><td>Not Statistically Significant</td></tr>\n",
       "\t<tr><td>a11  </td><td> 0.1920984848</td><td>0.0147750228</td><td> 13.0015694</td><td>Stat significant at 1%       </td></tr>\n",
       "\t<tr><td>a12  </td><td>-0.0100027031</td><td>0.0082604680</td><td> -1.2109124</td><td>Not Statistically Significant</td></tr>\n",
       "\t<tr><td>a21  </td><td>-0.0261573036</td><td>0.0596122312</td><td> -0.4387909</td><td>Not Statistically Significant</td></tr>\n",
       "\t<tr><td>a22  </td><td> 0.2175253059</td><td>0.0226444759</td><td>  9.6061091</td><td>Stat significant at 1%       </td></tr>\n",
       "\t<tr><td>g11  </td><td> 0.9785464614</td><td>0.0031830053</td><td>307.4284724</td><td>Stat significant at 1%       </td></tr>\n",
       "\t<tr><td>g12  </td><td> 0.0022177670</td><td>0.0018646266</td><td>  1.1893894</td><td>Not Statistically Significant</td></tr>\n",
       "\t<tr><td>g21  </td><td> 0.0123692183</td><td>0.0172930329</td><td>  0.7152718</td><td>Not Statistically Significant</td></tr>\n",
       "\t<tr><td>g22  </td><td> 0.9686119080</td><td>0.0067439491</td><td>143.6268119</td><td>Stat significant at 1%       </td></tr>\n",
       "</tbody>\n",
       "</table>\n"
      ],
      "text/latex": [
       "A data.frame: 14 × 5\n",
       "\\begin{tabular}{lllll}\n",
       " Parameters & Coefficient & Std\\_error & T\\_value & Significant\\_at\\_5p\\_level\\\\\n",
       " <chr> & <dbl> & <dbl> & <dbl> & <chr>\\\\\n",
       "\\hline\n",
       "\t mu10  &  0.0002727597 & 0.0003899084 &   0.6995482 & Not Statistically Significant\\\\\n",
       "\t mu20  & -0.0002107604 & 0.0001443204 &  -1.4603649 & Not Statistically Significant\\\\\n",
       "\t phi11 &  0.0616628715 & 0.0311011662 &   1.9826546 & Stat significant at 5\\%       \\\\\n",
       "\t phi12 & -0.0375431314 & 0.0841442074 &  -0.4461761 & Not Statistically Significant\\\\\n",
       "\t phi21 & -0.0045889714 & 0.0115117581 &  -0.3986334 & Not Statistically Significant\\\\\n",
       "\t phi22 & -0.0104558744 & 0.0311450624 &  -0.3357153 & Not Statistically Significant\\\\\n",
       "\t a11   &  0.1920984848 & 0.0147750228 &  13.0015694 & Stat significant at 1\\%       \\\\\n",
       "\t a12   & -0.0100027031 & 0.0082604680 &  -1.2109124 & Not Statistically Significant\\\\\n",
       "\t a21   & -0.0261573036 & 0.0596122312 &  -0.4387909 & Not Statistically Significant\\\\\n",
       "\t a22   &  0.2175253059 & 0.0226444759 &   9.6061091 & Stat significant at 1\\%       \\\\\n",
       "\t g11   &  0.9785464614 & 0.0031830053 & 307.4284724 & Stat significant at 1\\%       \\\\\n",
       "\t g12   &  0.0022177670 & 0.0018646266 &   1.1893894 & Not Statistically Significant\\\\\n",
       "\t g21   &  0.0123692183 & 0.0172930329 &   0.7152718 & Not Statistically Significant\\\\\n",
       "\t g22   &  0.9686119080 & 0.0067439491 & 143.6268119 & Stat significant at 1\\%       \\\\\n",
       "\\end{tabular}\n"
      ],
      "text/markdown": [
       "\n",
       "A data.frame: 14 × 5\n",
       "\n",
       "| Parameters &lt;chr&gt; | Coefficient &lt;dbl&gt; | Std_error &lt;dbl&gt; | T_value &lt;dbl&gt; | Significant_at_5p_level &lt;chr&gt; |\n",
       "|---|---|---|---|---|\n",
       "| mu10  |  0.0002727597 | 0.0003899084 |   0.6995482 | Not Statistically Significant |\n",
       "| mu20  | -0.0002107604 | 0.0001443204 |  -1.4603649 | Not Statistically Significant |\n",
       "| phi11 |  0.0616628715 | 0.0311011662 |   1.9826546 | Stat significant at 5%        |\n",
       "| phi12 | -0.0375431314 | 0.0841442074 |  -0.4461761 | Not Statistically Significant |\n",
       "| phi21 | -0.0045889714 | 0.0115117581 |  -0.3986334 | Not Statistically Significant |\n",
       "| phi22 | -0.0104558744 | 0.0311450624 |  -0.3357153 | Not Statistically Significant |\n",
       "| a11   |  0.1920984848 | 0.0147750228 |  13.0015694 | Stat significant at 1%        |\n",
       "| a12   | -0.0100027031 | 0.0082604680 |  -1.2109124 | Not Statistically Significant |\n",
       "| a21   | -0.0261573036 | 0.0596122312 |  -0.4387909 | Not Statistically Significant |\n",
       "| a22   |  0.2175253059 | 0.0226444759 |   9.6061091 | Stat significant at 1%        |\n",
       "| g11   |  0.9785464614 | 0.0031830053 | 307.4284724 | Stat significant at 1%        |\n",
       "| g12   |  0.0022177670 | 0.0018646266 |   1.1893894 | Not Statistically Significant |\n",
       "| g21   |  0.0123692183 | 0.0172930329 |   0.7152718 | Not Statistically Significant |\n",
       "| g22   |  0.9686119080 | 0.0067439491 | 143.6268119 | Stat significant at 1%        |\n",
       "\n"
      ],
      "text/plain": [
       "   Parameters Coefficient   Std_error    T_value    \n",
       "1  mu10        0.0002727597 0.0003899084   0.6995482\n",
       "2  mu20       -0.0002107604 0.0001443204  -1.4603649\n",
       "3  phi11       0.0616628715 0.0311011662   1.9826546\n",
       "4  phi12      -0.0375431314 0.0841442074  -0.4461761\n",
       "5  phi21      -0.0045889714 0.0115117581  -0.3986334\n",
       "6  phi22      -0.0104558744 0.0311450624  -0.3357153\n",
       "7  a11         0.1920984848 0.0147750228  13.0015694\n",
       "8  a12        -0.0100027031 0.0082604680  -1.2109124\n",
       "9  a21        -0.0261573036 0.0596122312  -0.4387909\n",
       "10 a22         0.2175253059 0.0226444759   9.6061091\n",
       "11 g11         0.9785464614 0.0031830053 307.4284724\n",
       "12 g12         0.0022177670 0.0018646266   1.1893894\n",
       "13 g21         0.0123692183 0.0172930329   0.7152718\n",
       "14 g22         0.9686119080 0.0067439491 143.6268119\n",
       "   Significant_at_5p_level      \n",
       "1  Not Statistically Significant\n",
       "2  Not Statistically Significant\n",
       "3  Stat significant at 5%       \n",
       "4  Not Statistically Significant\n",
       "5  Not Statistically Significant\n",
       "6  Not Statistically Significant\n",
       "7  Stat significant at 1%       \n",
       "8  Not Statistically Significant\n",
       "9  Not Statistically Significant\n",
       "10 Stat significant at 1%       \n",
       "11 Stat significant at 1%       \n",
       "12 Not Statistically Significant\n",
       "13 Not Statistically Significant\n",
       "14 Stat significant at 1%       "
      ]
     },
     "metadata": {},
     "output_type": "display_data"
    }
   ],
   "source": [
    "bekk5 <- data.frame(Parameters = c(\"mu10\",\"mu20\",\"phi11\",\"phi12\",\"phi21\",\"phi22\",\"a11\",\"a12\",\"a21\",\"a22\",\"g11\",\"g12\",\"g21\",\"g22\"),\n",
    "                   Coefficient = c(summary(var_bekk5)$varresult$lc$coefficients[\"const\",\"Estimate\"],summary(var_bekk5)$varresult$eurgbp$coefficients[\"const\",\"Estimate\"],\n",
    "                                   summary(var_bekk5)$varresult$lc$coefficients[\"lc.l1\",\"Estimate\"],summary(var_bekk5)$varresult$lc$coefficients[\"eurgbp.l1\",\"Estimate\"],\n",
    "                                   summary(var_bekk5)$varresult$eurgbp$coefficients[\"lc.l1\",\"Estimate\"],summary(var_bekk5)$varresult$eurgbp$coefficients[\"eurgbp.l1\",\"Estimate\"],\n",
    "                                   bekk5_fit$A[1,1],bekk5_fit$A[1,2],bekk5_fit$A[2,1],bekk5_fit$A[2,2],bekk5_fit$G[1,1],bekk5_fit$G[1,2],bekk5_fit$G[2,1],bekk5_fit$G[2,2]),\n",
    "                   Std_error = c(summary(var_bekk5)$varresult$lc$coefficients[\"const\",\"Std. Error\"],summary(var_bekk5)$varresult$eurgbp$coefficients[\"const\",\"Std. Error\"],\n",
    "                                   summary(var_bekk5)$varresult$lc$coefficients[\"lc.l1\",\"Std. Error\"],summary(var_bekk5)$varresult$lc$coefficients[\"eurgbp.l1\",\"Std. Error\"],\n",
    "                                   summary(var_bekk5)$varresult$eurgbp$coefficients[\"lc.l1\",\"Std. Error\"],summary(var_bekk5)$varresult$eurgbp$coefficients[\"eurgbp.l1\",\"Std. Error\"],\n",
    "                                   bekk5_fit$A_sd[1,1],bekk5_fit$A_sd[1,2],bekk5_fit$A_sd[2,1],bekk5_fit$A_sd[2,2],bekk5_fit$G_sd[1,1],bekk5_fit$G_sd[1,2],bekk5_fit$G_sd[2,1],bekk5_fit$G_sd[2,2]),\n",
    "                   T_value = c(summary(var_bekk5)$varresult$lc$coefficients[\"const\",\"t value\"],summary(var_bekk5)$varresult$eurgbp$coefficients[\"const\",\"t value\"],\n",
    "                                   summary(var_bekk5)$varresult$lc$coefficients[\"lc.l1\",\"t value\"],summary(var_bekk5)$varresult$lc$coefficients[\"eurgbp.l1\",\"t value\"],\n",
    "                                   summary(var_bekk5)$varresult$eurgbp$coefficients[\"lc.l1\",\"t value\"],summary(var_bekk5)$varresult$eurgbp$coefficients[\"eurgbp.l1\",\"t value\"],\n",
    "                                   bekk5_fit$A_t[1,1],bekk5_fit$A_t[1,2],bekk5_fit$A_t[2,1],bekk5_fit$A_t[2,2],bekk5_fit$G_t[1,1],bekk5_fit$G_t[1,2],bekk5_fit$G_t[2,1],bekk5_fit$G_t[2,2]))\n",
    "\n",
    "bekk5$Significant_at_5p_level[abs(bekk5$T_value) >= 2.58 ] <- \"Stat significant at 1%\"\n",
    "bekk5$Significant_at_5p_level[abs(bekk5$T_value) > 1.96 & abs(bekk5$T_value) < 2.58] <- \"Stat significant at 5%\"\n",
    "bekk5$Significant_at_5p_level[abs(bekk5$T_value) > 1.645 & abs(bekk5$T_value) <= 1.96 ] <- \"Stat significant at 10%\"\n",
    "bekk5$Significant_at_5p_level[abs(bekk5$T_value) <= 1.645] <- \"Not Statistically Significant\"\n",
    "bekk5"
   ]
  },
  {
   "cell_type": "code",
   "execution_count": 72,
   "id": "c9f6c45e-0841-49ac-b669-27d7733d3a9d",
   "metadata": {},
   "outputs": [
    {
     "data": {
      "text/plain": [
       "\n",
       "\tGranger causality H0: lc do not Granger-cause eurgbp\n",
       "\n",
       "data:  VAR object var_bekk5\n",
       "F-Test = 0.15891, df1 = 1, df2 = 2068, p-value = 0.6902\n"
      ]
     },
     "metadata": {},
     "output_type": "display_data"
    },
    {
     "data": {
      "text/plain": [
       "\n",
       "\tGranger causality H0: eurgbp do not Granger-cause lc\n",
       "\n",
       "data:  VAR object var_bekk5\n",
       "F-Test = 0.19907, df1 = 1, df2 = 2068, p-value = 0.6555\n"
      ]
     },
     "metadata": {},
     "output_type": "display_data"
    }
   ],
   "source": [
    "causality(var_bekk5,cause = \"lc\")$Granger\n",
    "causality(var_bekk5,cause = \"eurgbp\")$Granger"
   ]
  },
  {
   "cell_type": "markdown",
   "id": "7f7b4060-f32d-490a-8fd1-ce28e1ab67b6",
   "metadata": {},
   "source": [
    "## (c) VAR-BEKK: London-CHFGBP"
   ]
  },
  {
   "cell_type": "code",
   "execution_count": 73,
   "id": "cd89dace-d90b-4c6f-bcb0-1048e1f3d1dd",
   "metadata": {},
   "outputs": [
    {
     "data": {
      "text/plain": [
       "                     lc       chfgbp\n",
       "2011-10-03 -0.006386088 -0.003981877\n",
       "2011-10-04  0.008698228  0.001101991\n",
       "2011-10-05  0.006330956 -0.006433088\n",
       "2011-10-06  0.011409137  0.004402835\n",
       "2011-10-07 -0.009689446 -0.014256235\n",
       "2011-10-10 -0.006320044  0.018730388"
      ]
     },
     "metadata": {},
     "output_type": "display_data"
    },
    {
     "data": {
      "text/plain": [
       "                     lc        chfgbp\n",
       "2015-11-20  0.003061450  0.0006966214\n",
       "2015-11-23 -0.014515320  0.0045547614\n",
       "2015-11-24  0.013641576  0.0041506593\n",
       "2015-11-25 -0.011428696 -0.0071591084\n",
       "2015-11-27  0.004409178 -0.0024769732\n",
       "2015-11-30  0.003513398  0.0007747134"
      ]
     },
     "metadata": {},
     "output_type": "display_data"
    }
   ],
   "source": [
    "bekk6data <- l_d[,c(1,4)]\n",
    "head(bekk6data)\n",
    "tail(bekk6data)"
   ]
  },
  {
   "cell_type": "code",
   "execution_count": 74,
   "id": "a7d3073f-6333-4356-8fb7-446c6e21953a",
   "metadata": {},
   "outputs": [
    {
     "data": {
      "text/html": [
       "<dl>\n",
       "\t<dt>$selection</dt>\n",
       "\t\t<dd><style>\n",
       ".dl-inline {width: auto; margin:0; padding: 0}\n",
       ".dl-inline>dt, .dl-inline>dd {float: none; width: auto; display: inline-block}\n",
       ".dl-inline>dt::after {content: \":\\0020\"; padding-right: .5ex}\n",
       ".dl-inline>dt:not(:first-of-type) {padding-left: .5ex}\n",
       "</style><dl class=dl-inline><dt>AIC(n)</dt><dd>1</dd><dt>HQ(n)</dt><dd>1</dd><dt>SC(n)</dt><dd>1</dd><dt>FPE(n)</dt><dd>1</dd></dl>\n",
       "</dd>\n",
       "\t<dt>$criteria</dt>\n",
       "\t\t<dd><table class=\"dataframe\">\n",
       "<caption>A matrix: 4 × 4 of type dbl</caption>\n",
       "<thead>\n",
       "\t<tr><th></th><th scope=col>1</th><th scope=col>2</th><th scope=col>3</th><th scope=col>4</th></tr>\n",
       "</thead>\n",
       "<tbody>\n",
       "\t<tr><th scope=row>AIC(n)</th><td>-1.857683e+01</td><td>-1.857177e+01</td><td>-1.857069e+01</td><td>-1.857497e+01</td></tr>\n",
       "\t<tr><th scope=row>HQ(n)</th><td>-1.856595e+01</td><td>-1.855363e+01</td><td>-1.854530e+01</td><td>-1.854233e+01</td></tr>\n",
       "\t<tr><th scope=row>SC(n)</th><td>-1.854815e+01</td><td>-1.852398e+01</td><td>-1.850378e+01</td><td>-1.848895e+01</td></tr>\n",
       "\t<tr><th scope=row>FPE(n)</th><td> 8.554352e-09</td><td> 8.597732e-09</td><td> 8.607036e-09</td><td> 8.570253e-09</td></tr>\n",
       "</tbody>\n",
       "</table>\n",
       "</dd>\n",
       "</dl>\n"
      ],
      "text/latex": [
       "\\begin{description}\n",
       "\\item[\\$selection] \\begin{description*}\n",
       "\\item[AIC(n)] 1\n",
       "\\item[HQ(n)] 1\n",
       "\\item[SC(n)] 1\n",
       "\\item[FPE(n)] 1\n",
       "\\end{description*}\n",
       "\n",
       "\\item[\\$criteria] A matrix: 4 × 4 of type dbl\n",
       "\\begin{tabular}{r|llll}\n",
       "  & 1 & 2 & 3 & 4\\\\\n",
       "\\hline\n",
       "\tAIC(n) & -1.857683e+01 & -1.857177e+01 & -1.857069e+01 & -1.857497e+01\\\\\n",
       "\tHQ(n) & -1.856595e+01 & -1.855363e+01 & -1.854530e+01 & -1.854233e+01\\\\\n",
       "\tSC(n) & -1.854815e+01 & -1.852398e+01 & -1.850378e+01 & -1.848895e+01\\\\\n",
       "\tFPE(n) &  8.554352e-09 &  8.597732e-09 &  8.607036e-09 &  8.570253e-09\\\\\n",
       "\\end{tabular}\n",
       "\n",
       "\\end{description}\n"
      ],
      "text/markdown": [
       "$selection\n",
       ":   AIC(n)\n",
       ":   1HQ(n)\n",
       ":   1SC(n)\n",
       ":   1FPE(n)\n",
       ":   1\n",
       "\n",
       "\n",
       "$criteria\n",
       ":   \n",
       "A matrix: 4 × 4 of type dbl\n",
       "\n",
       "| <!--/--> | 1 | 2 | 3 | 4 |\n",
       "|---|---|---|---|---|\n",
       "| AIC(n) | -1.857683e+01 | -1.857177e+01 | -1.857069e+01 | -1.857497e+01 |\n",
       "| HQ(n) | -1.856595e+01 | -1.855363e+01 | -1.854530e+01 | -1.854233e+01 |\n",
       "| SC(n) | -1.854815e+01 | -1.852398e+01 | -1.850378e+01 | -1.848895e+01 |\n",
       "| FPE(n) |  8.554352e-09 |  8.597732e-09 |  8.607036e-09 |  8.570253e-09 |\n",
       "\n",
       "\n",
       "\n",
       "\n"
      ],
      "text/plain": [
       "$selection\n",
       "AIC(n)  HQ(n)  SC(n) FPE(n) \n",
       "     1      1      1      1 \n",
       "\n",
       "$criteria\n",
       "                   1             2             3             4\n",
       "AIC(n) -1.857683e+01 -1.857177e+01 -1.857069e+01 -1.857497e+01\n",
       "HQ(n)  -1.856595e+01 -1.855363e+01 -1.854530e+01 -1.854233e+01\n",
       "SC(n)  -1.854815e+01 -1.852398e+01 -1.850378e+01 -1.848895e+01\n",
       "FPE(n)  8.554352e-09  8.597732e-09  8.607036e-09  8.570253e-09\n"
      ]
     },
     "metadata": {},
     "output_type": "display_data"
    }
   ],
   "source": [
    "VARselect(bekk6data,type = \"const\",lag.max = 4)"
   ]
  },
  {
   "cell_type": "code",
   "execution_count": 75,
   "id": "c41d2ba5-6b5e-46cb-80d8-97d98492d94a",
   "metadata": {},
   "outputs": [],
   "source": [
    "var_bekk6<-VAR(bekk6data,p = 1,type = \"const\")\n",
    "res_bekk6 <- residuals(var_bekk6)\n",
    "res_bekk6 <- as.data.frame(res_bekk6)"
   ]
  },
  {
   "cell_type": "code",
   "execution_count": 76,
   "id": "2ea6b2e4-b7de-40d5-912c-cfbf380671e8",
   "metadata": {},
   "outputs": [
    {
     "data": {
      "text/plain": [
       "\n",
       "VAR Estimation Results:\n",
       "========================= \n",
       "Endogenous variables: lc, chfgbp \n",
       "Deterministic variables: const \n",
       "Sample size: 1037 \n",
       "Log Likelihood: 6696.958 \n",
       "Roots of the characteristic polynomial:\n",
       "0.06165 0.01178\n",
       "Call:\n",
       "VAR(y = bekk6data, p = 1, type = \"const\")\n",
       "\n",
       "\n",
       "Estimation results for equation lc: \n",
       "=================================== \n",
       "lc = lc.l1 + chfgbp.l1 + const \n",
       "\n",
       "            Estimate Std. Error t value Pr(>|t|)  \n",
       "lc.l1      0.0608727  0.0310442   1.961   0.0502 .\n",
       "chfgbp.l1 -0.0094478  0.0531001  -0.178   0.8588  \n",
       "const      0.0002802  0.0003895   0.719   0.4721  \n",
       "---\n",
       "Signif. codes:  0 ‘***’ 0.001 ‘**’ 0.01 ‘*’ 0.05 ‘.’ 0.1 ‘ ’ 1\n",
       "\n",
       "\n",
       "Residual standard error: 0.01254 on 1034 degrees of freedom\n",
       "Multiple R-Squared: 0.003723,\tAdjusted R-squared: 0.001796 \n",
       "F-statistic: 1.932 on 2 and 1034 DF,  p-value: 0.1454 \n",
       "\n",
       "\n",
       "Estimation results for equation chfgbp: \n",
       "======================================= \n",
       "chfgbp = lc.l1 + chfgbp.l1 + const \n",
       "\n",
       "            Estimate Std. Error t value Pr(>|t|)\n",
       "lc.l1     -5.968e-03  1.818e-02  -0.328    0.743\n",
       "chfgbp.l1 -1.101e-02  3.110e-02  -0.354    0.723\n",
       "const     -7.161e-05  2.281e-04  -0.314    0.754\n",
       "\n",
       "\n",
       "Residual standard error: 0.007344 on 1034 degrees of freedom\n",
       "Multiple R-Squared: 0.0002302,\tAdjusted R-squared: -0.001704 \n",
       "F-statistic: 0.119 on 2 and 1034 DF,  p-value: 0.8878 \n",
       "\n",
       "\n",
       "\n",
       "Covariance matrix of residuals:\n",
       "              lc    chfgbp\n",
       "lc     1.572e-04 1.966e-06\n",
       "chfgbp 1.966e-06 5.393e-05\n",
       "\n",
       "Correlation matrix of residuals:\n",
       "            lc  chfgbp\n",
       "lc     1.00000 0.02135\n",
       "chfgbp 0.02135 1.00000\n",
       "\n"
      ]
     },
     "metadata": {},
     "output_type": "display_data"
    }
   ],
   "source": [
    "summary(var_bekk6)"
   ]
  },
  {
   "cell_type": "code",
   "execution_count": 77,
   "id": "9ceb8bd6-104e-4f21-b2c5-b4a82f3c80f2",
   "metadata": {},
   "outputs": [
    {
     "name": "stdout",
     "output_type": "stream",
     "text": [
      " Date[1:1037], format: \"2011-10-04\" \"2011-10-05\" \"2011-10-06\" \"2011-10-07\" \"2011-10-10\" ...\n"
     ]
    }
   ],
   "source": [
    "ind_var6 <- index(bekk6data)[-1]\n",
    "str(ind_var6)"
   ]
  },
  {
   "cell_type": "code",
   "execution_count": 78,
   "id": "d4b62b5c-abc5-42e8-b72a-101dbb553f33",
   "metadata": {},
   "outputs": [],
   "source": [
    "res_bekk6 <- xts(res_bekk6,order.by = ind_var6)\n",
    "bekk_spec <- bekk_spec(model = list(type = \"bekk\",asymmetric = F))\n",
    "bekk6_fit <- bekk_fit(spec = bekk_spec,data = res_bekk6)"
   ]
  },
  {
   "cell_type": "code",
   "execution_count": 79,
   "id": "64e1959b-b7d4-4538-b649-7f0be177e336",
   "metadata": {},
   "outputs": [
    {
     "data": {
      "text/html": [
       "<table class=\"dataframe\">\n",
       "<caption>A matrix: 2 × 2 of type dbl</caption>\n",
       "<tbody>\n",
       "\t<tr><td> 0.23824939</td><td>-0.01149037</td></tr>\n",
       "\t<tr><td>-0.01242868</td><td> 0.06340421</td></tr>\n",
       "</tbody>\n",
       "</table>\n"
      ],
      "text/latex": [
       "A matrix: 2 × 2 of type dbl\n",
       "\\begin{tabular}{ll}\n",
       "\t  0.23824939 & -0.01149037\\\\\n",
       "\t -0.01242868 &  0.06340421\\\\\n",
       "\\end{tabular}\n"
      ],
      "text/markdown": [
       "\n",
       "A matrix: 2 × 2 of type dbl\n",
       "\n",
       "|  0.23824939 | -0.01149037 |\n",
       "| -0.01242868 |  0.06340421 |\n",
       "\n"
      ],
      "text/plain": [
       "     [,1]        [,2]       \n",
       "[1,]  0.23824939 -0.01149037\n",
       "[2,] -0.01242868  0.06340421"
      ]
     },
     "metadata": {},
     "output_type": "display_data"
    },
    {
     "data": {
      "text/html": [
       "<table class=\"dataframe\">\n",
       "<caption>A matrix: 2 × 2 of type dbl</caption>\n",
       "<tbody>\n",
       "\t<tr><td> 7.7431954</td><td>-0.2260017</td></tr>\n",
       "\t<tr><td>-0.3554904</td><td> 1.2534802</td></tr>\n",
       "</tbody>\n",
       "</table>\n"
      ],
      "text/latex": [
       "A matrix: 2 × 2 of type dbl\n",
       "\\begin{tabular}{ll}\n",
       "\t  7.7431954 & -0.2260017\\\\\n",
       "\t -0.3554904 &  1.2534802\\\\\n",
       "\\end{tabular}\n"
      ],
      "text/markdown": [
       "\n",
       "A matrix: 2 × 2 of type dbl\n",
       "\n",
       "|  7.7431954 | -0.2260017 |\n",
       "| -0.3554904 |  1.2534802 |\n",
       "\n"
      ],
      "text/plain": [
       "     [,1]       [,2]      \n",
       "[1,]  7.7431954 -0.2260017\n",
       "[2,] -0.3554904  1.2534802"
      ]
     },
     "metadata": {},
     "output_type": "display_data"
    },
    {
     "data": {
      "text/html": [
       "<table class=\"dataframe\">\n",
       "<caption>A matrix: 2 × 2 of type dbl</caption>\n",
       "<tbody>\n",
       "\t<tr><td>0.96500780</td><td>0.002437849</td></tr>\n",
       "\t<tr><td>0.08224647</td><td>0.879923299</td></tr>\n",
       "</tbody>\n",
       "</table>\n"
      ],
      "text/latex": [
       "A matrix: 2 × 2 of type dbl\n",
       "\\begin{tabular}{ll}\n",
       "\t 0.96500780 & 0.002437849\\\\\n",
       "\t 0.08224647 & 0.879923299\\\\\n",
       "\\end{tabular}\n"
      ],
      "text/markdown": [
       "\n",
       "A matrix: 2 × 2 of type dbl\n",
       "\n",
       "| 0.96500780 | 0.002437849 |\n",
       "| 0.08224647 | 0.879923299 |\n",
       "\n"
      ],
      "text/plain": [
       "     [,1]       [,2]       \n",
       "[1,] 0.96500780 0.002437849\n",
       "[2,] 0.08224647 0.879923299"
      ]
     },
     "metadata": {},
     "output_type": "display_data"
    },
    {
     "data": {
      "text/html": [
       "<table class=\"dataframe\">\n",
       "<caption>A matrix: 2 × 2 of type dbl</caption>\n",
       "<tbody>\n",
       "\t<tr><td>79.1370746</td><td>0.1389408</td></tr>\n",
       "\t<tr><td> 0.7090937</td><td>5.5732605</td></tr>\n",
       "</tbody>\n",
       "</table>\n"
      ],
      "text/latex": [
       "A matrix: 2 × 2 of type dbl\n",
       "\\begin{tabular}{ll}\n",
       "\t 79.1370746 & 0.1389408\\\\\n",
       "\t  0.7090937 & 5.5732605\\\\\n",
       "\\end{tabular}\n"
      ],
      "text/markdown": [
       "\n",
       "A matrix: 2 × 2 of type dbl\n",
       "\n",
       "| 79.1370746 | 0.1389408 |\n",
       "|  0.7090937 | 5.5732605 |\n",
       "\n"
      ],
      "text/plain": [
       "     [,1]       [,2]     \n",
       "[1,] 79.1370746 0.1389408\n",
       "[2,]  0.7090937 5.5732605"
      ]
     },
     "metadata": {},
     "output_type": "display_data"
    }
   ],
   "source": [
    "bekk6_fit$A\n",
    "bekk6_fit$A_t\n",
    "bekk6_fit$G\n",
    "bekk6_fit$G_t"
   ]
  },
  {
   "cell_type": "markdown",
   "id": "df025f37-ddcc-42ea-b8cb-d5610012b575",
   "metadata": {},
   "source": [
    "### VAR-BEKK Model Table for London-CHFGBP"
   ]
  },
  {
   "cell_type": "code",
   "execution_count": 80,
   "id": "b8581957-2576-4303-a6d9-de9ef26992b7",
   "metadata": {},
   "outputs": [
    {
     "data": {
      "text/html": [
       "<table class=\"dataframe\">\n",
       "<caption>A data.frame: 14 × 5</caption>\n",
       "<thead>\n",
       "\t<tr><th scope=col>Parameters</th><th scope=col>Coefficient</th><th scope=col>Std_error</th><th scope=col>T_value</th><th scope=col>Significant_at_5p_level</th></tr>\n",
       "\t<tr><th scope=col>&lt;chr&gt;</th><th scope=col>&lt;dbl&gt;</th><th scope=col>&lt;dbl&gt;</th><th scope=col>&lt;dbl&gt;</th><th scope=col>&lt;chr&gt;</th></tr>\n",
       "</thead>\n",
       "<tbody>\n",
       "\t<tr><td>mu10 </td><td> 0.0002802285</td><td>0.0003895269</td><td> 0.7194074</td><td>Not Statistically Significant</td></tr>\n",
       "\t<tr><td>mu20 </td><td>-0.0000716071</td><td>0.0002281238</td><td>-0.3138958</td><td>Not Statistically Significant</td></tr>\n",
       "\t<tr><td>phi11</td><td> 0.0608727477</td><td>0.0310441525</td><td> 1.9608442</td><td>Stat significant at 5%       </td></tr>\n",
       "\t<tr><td>phi12</td><td>-0.0094478373</td><td>0.0531001216</td><td>-0.1779250</td><td>Not Statistically Significant</td></tr>\n",
       "\t<tr><td>phi21</td><td>-0.0059682110</td><td>0.0181807984</td><td>-0.3282700</td><td>Not Statistically Significant</td></tr>\n",
       "\t<tr><td>phi22</td><td>-0.0110085053</td><td>0.0310977279</td><td>-0.3539971</td><td>Not Statistically Significant</td></tr>\n",
       "\t<tr><td>a11  </td><td> 0.2382493879</td><td>0.0307688720</td><td> 7.7431954</td><td>Stat significant at 1%       </td></tr>\n",
       "\t<tr><td>a12  </td><td>-0.0114903671</td><td>0.0508419452</td><td>-0.2260017</td><td>Not Statistically Significant</td></tr>\n",
       "\t<tr><td>a21  </td><td>-0.0124286791</td><td>0.0349620680</td><td>-0.3554904</td><td>Not Statistically Significant</td></tr>\n",
       "\t<tr><td>a22  </td><td> 0.0634042138</td><td>0.0505825431</td><td> 1.2534802</td><td>Not Statistically Significant</td></tr>\n",
       "\t<tr><td>g11  </td><td> 0.9650078024</td><td>0.0121941303</td><td>79.1370746</td><td>Stat significant at 1%       </td></tr>\n",
       "\t<tr><td>g12  </td><td> 0.0024378494</td><td>0.0175459547</td><td> 0.1389408</td><td>Not Statistically Significant</td></tr>\n",
       "\t<tr><td>g21  </td><td> 0.0822464720</td><td>0.1159881529</td><td> 0.7090937</td><td>Not Statistically Significant</td></tr>\n",
       "\t<tr><td>g22  </td><td> 0.8799232992</td><td>0.1578830388</td><td> 5.5732605</td><td>Stat significant at 1%       </td></tr>\n",
       "</tbody>\n",
       "</table>\n"
      ],
      "text/latex": [
       "A data.frame: 14 × 5\n",
       "\\begin{tabular}{lllll}\n",
       " Parameters & Coefficient & Std\\_error & T\\_value & Significant\\_at\\_5p\\_level\\\\\n",
       " <chr> & <dbl> & <dbl> & <dbl> & <chr>\\\\\n",
       "\\hline\n",
       "\t mu10  &  0.0002802285 & 0.0003895269 &  0.7194074 & Not Statistically Significant\\\\\n",
       "\t mu20  & -0.0000716071 & 0.0002281238 & -0.3138958 & Not Statistically Significant\\\\\n",
       "\t phi11 &  0.0608727477 & 0.0310441525 &  1.9608442 & Stat significant at 5\\%       \\\\\n",
       "\t phi12 & -0.0094478373 & 0.0531001216 & -0.1779250 & Not Statistically Significant\\\\\n",
       "\t phi21 & -0.0059682110 & 0.0181807984 & -0.3282700 & Not Statistically Significant\\\\\n",
       "\t phi22 & -0.0110085053 & 0.0310977279 & -0.3539971 & Not Statistically Significant\\\\\n",
       "\t a11   &  0.2382493879 & 0.0307688720 &  7.7431954 & Stat significant at 1\\%       \\\\\n",
       "\t a12   & -0.0114903671 & 0.0508419452 & -0.2260017 & Not Statistically Significant\\\\\n",
       "\t a21   & -0.0124286791 & 0.0349620680 & -0.3554904 & Not Statistically Significant\\\\\n",
       "\t a22   &  0.0634042138 & 0.0505825431 &  1.2534802 & Not Statistically Significant\\\\\n",
       "\t g11   &  0.9650078024 & 0.0121941303 & 79.1370746 & Stat significant at 1\\%       \\\\\n",
       "\t g12   &  0.0024378494 & 0.0175459547 &  0.1389408 & Not Statistically Significant\\\\\n",
       "\t g21   &  0.0822464720 & 0.1159881529 &  0.7090937 & Not Statistically Significant\\\\\n",
       "\t g22   &  0.8799232992 & 0.1578830388 &  5.5732605 & Stat significant at 1\\%       \\\\\n",
       "\\end{tabular}\n"
      ],
      "text/markdown": [
       "\n",
       "A data.frame: 14 × 5\n",
       "\n",
       "| Parameters &lt;chr&gt; | Coefficient &lt;dbl&gt; | Std_error &lt;dbl&gt; | T_value &lt;dbl&gt; | Significant_at_5p_level &lt;chr&gt; |\n",
       "|---|---|---|---|---|\n",
       "| mu10  |  0.0002802285 | 0.0003895269 |  0.7194074 | Not Statistically Significant |\n",
       "| mu20  | -0.0000716071 | 0.0002281238 | -0.3138958 | Not Statistically Significant |\n",
       "| phi11 |  0.0608727477 | 0.0310441525 |  1.9608442 | Stat significant at 5%        |\n",
       "| phi12 | -0.0094478373 | 0.0531001216 | -0.1779250 | Not Statistically Significant |\n",
       "| phi21 | -0.0059682110 | 0.0181807984 | -0.3282700 | Not Statistically Significant |\n",
       "| phi22 | -0.0110085053 | 0.0310977279 | -0.3539971 | Not Statistically Significant |\n",
       "| a11   |  0.2382493879 | 0.0307688720 |  7.7431954 | Stat significant at 1%        |\n",
       "| a12   | -0.0114903671 | 0.0508419452 | -0.2260017 | Not Statistically Significant |\n",
       "| a21   | -0.0124286791 | 0.0349620680 | -0.3554904 | Not Statistically Significant |\n",
       "| a22   |  0.0634042138 | 0.0505825431 |  1.2534802 | Not Statistically Significant |\n",
       "| g11   |  0.9650078024 | 0.0121941303 | 79.1370746 | Stat significant at 1%        |\n",
       "| g12   |  0.0024378494 | 0.0175459547 |  0.1389408 | Not Statistically Significant |\n",
       "| g21   |  0.0822464720 | 0.1159881529 |  0.7090937 | Not Statistically Significant |\n",
       "| g22   |  0.8799232992 | 0.1578830388 |  5.5732605 | Stat significant at 1%        |\n",
       "\n"
      ],
      "text/plain": [
       "   Parameters Coefficient   Std_error    T_value   \n",
       "1  mu10        0.0002802285 0.0003895269  0.7194074\n",
       "2  mu20       -0.0000716071 0.0002281238 -0.3138958\n",
       "3  phi11       0.0608727477 0.0310441525  1.9608442\n",
       "4  phi12      -0.0094478373 0.0531001216 -0.1779250\n",
       "5  phi21      -0.0059682110 0.0181807984 -0.3282700\n",
       "6  phi22      -0.0110085053 0.0310977279 -0.3539971\n",
       "7  a11         0.2382493879 0.0307688720  7.7431954\n",
       "8  a12        -0.0114903671 0.0508419452 -0.2260017\n",
       "9  a21        -0.0124286791 0.0349620680 -0.3554904\n",
       "10 a22         0.0634042138 0.0505825431  1.2534802\n",
       "11 g11         0.9650078024 0.0121941303 79.1370746\n",
       "12 g12         0.0024378494 0.0175459547  0.1389408\n",
       "13 g21         0.0822464720 0.1159881529  0.7090937\n",
       "14 g22         0.8799232992 0.1578830388  5.5732605\n",
       "   Significant_at_5p_level      \n",
       "1  Not Statistically Significant\n",
       "2  Not Statistically Significant\n",
       "3  Stat significant at 5%       \n",
       "4  Not Statistically Significant\n",
       "5  Not Statistically Significant\n",
       "6  Not Statistically Significant\n",
       "7  Stat significant at 1%       \n",
       "8  Not Statistically Significant\n",
       "9  Not Statistically Significant\n",
       "10 Not Statistically Significant\n",
       "11 Stat significant at 1%       \n",
       "12 Not Statistically Significant\n",
       "13 Not Statistically Significant\n",
       "14 Stat significant at 1%       "
      ]
     },
     "metadata": {},
     "output_type": "display_data"
    }
   ],
   "source": [
    "bekk6 <- data.frame(Parameters = c(\"mu10\",\"mu20\",\"phi11\",\"phi12\",\"phi21\",\"phi22\",\"a11\",\"a12\",\"a21\",\"a22\",\"g11\",\"g12\",\"g21\",\"g22\"),\n",
    "                   Coefficient = c(summary(var_bekk6)$varresult$lc$coefficients[\"const\",\"Estimate\"],summary(var_bekk6)$varresult$chfgbp$coefficients[\"const\",\"Estimate\"],\n",
    "                                   summary(var_bekk6)$varresult$lc$coefficients[\"lc.l1\",\"Estimate\"],summary(var_bekk6)$varresult$lc$coefficients[\"chfgbp.l1\",\"Estimate\"],\n",
    "                                   summary(var_bekk6)$varresult$chfgbp$coefficients[\"lc.l1\",\"Estimate\"],summary(var_bekk6)$varresult$chfgbp$coefficients[\"chfgbp.l1\",\"Estimate\"],\n",
    "                                   bekk6_fit$A[1,1],bekk6_fit$A[1,2],bekk6_fit$A[2,1],bekk6_fit$A[2,2],bekk6_fit$G[1,1],bekk6_fit$G[1,2],bekk6_fit$G[2,1],bekk6_fit$G[2,2]),\n",
    "                   Std_error = c(summary(var_bekk6)$varresult$lc$coefficients[\"const\",\"Std. Error\"],summary(var_bekk6)$varresult$chfgbp$coefficients[\"const\",\"Std. Error\"],\n",
    "                                   summary(var_bekk6)$varresult$lc$coefficients[\"lc.l1\",\"Std. Error\"],summary(var_bekk6)$varresult$lc$coefficients[\"chfgbp.l1\",\"Std. Error\"],\n",
    "                                   summary(var_bekk6)$varresult$chfgbp$coefficients[\"lc.l1\",\"Std. Error\"],summary(var_bekk6)$varresult$chfgbp$coefficients[\"chfgbp.l1\",\"Std. Error\"],\n",
    "                                   bekk6_fit$A_sd[1,1],bekk6_fit$A_sd[1,2],bekk6_fit$A_sd[2,1],bekk6_fit$A_sd[2,2],bekk6_fit$G_sd[1,1],bekk6_fit$G_sd[1,2],bekk6_fit$G_sd[2,1],bekk6_fit$G_sd[2,2]),\n",
    "                   T_value = c(summary(var_bekk6)$varresult$lc$coefficients[\"const\",\"t value\"],summary(var_bekk6)$varresult$chfgbp$coefficients[\"const\",\"t value\"],\n",
    "                                   summary(var_bekk6)$varresult$lc$coefficients[\"lc.l1\",\"t value\"],summary(var_bekk6)$varresult$lc$coefficients[\"chfgbp.l1\",\"t value\"],\n",
    "                                   summary(var_bekk6)$varresult$chfgbp$coefficients[\"lc.l1\",\"t value\"],summary(var_bekk6)$varresult$chfgbp$coefficients[\"chfgbp.l1\",\"t value\"],\n",
    "                                   bekk6_fit$A_t[1,1],bekk6_fit$A_t[1,2],bekk6_fit$A_t[2,1],bekk6_fit$A_t[2,2],bekk6_fit$G_t[1,1],bekk6_fit$G_t[1,2],bekk6_fit$G_t[2,1],bekk6_fit$G_t[2,2]))\n",
    "\n",
    "bekk6$Significant_at_5p_level[abs(bekk6$T_value) >= 2.58 ] <- \"Stat significant at 1%\"\n",
    "bekk6$Significant_at_5p_level[abs(bekk6$T_value) > 1.96 & abs(bekk6$T_value) < 2.58] <- \"Stat significant at 5%\"\n",
    "bekk6$Significant_at_5p_level[abs(bekk6$T_value) > 1.645 & abs(bekk6$T_value) <= 1.96 ] <- \"Stat significant at 10%\"\n",
    "bekk6$Significant_at_5p_level[abs(bekk6$T_value) <= 1.645] <- \"Not Statistically Significant\"\n",
    "bekk6"
   ]
  },
  {
   "cell_type": "code",
   "execution_count": 81,
   "id": "a912dacb-5485-442c-a133-8dd58bfa7a95",
   "metadata": {},
   "outputs": [
    {
     "data": {
      "text/plain": [
       "\n",
       "\tGranger causality H0: lc do not Granger-cause chfgbp\n",
       "\n",
       "data:  VAR object var_bekk6\n",
       "F-Test = 0.10776, df1 = 1, df2 = 2068, p-value = 0.7427\n"
      ]
     },
     "metadata": {},
     "output_type": "display_data"
    },
    {
     "data": {
      "text/plain": [
       "\n",
       "\tGranger causality H0: chfgbp do not Granger-cause lc\n",
       "\n",
       "data:  VAR object var_bekk6\n",
       "F-Test = 0.031657, df1 = 1, df2 = 2068, p-value = 0.8588\n"
      ]
     },
     "metadata": {},
     "output_type": "display_data"
    }
   ],
   "source": [
    "causality(var_bekk6,cause = \"lc\")$Granger\n",
    "causality(var_bekk6,cause = \"chfgbp\")$Granger"
   ]
  },
  {
   "cell_type": "markdown",
   "id": "30973ed6-03c3-4859-8787-5b5dffa29514",
   "metadata": {},
   "source": [
    "## (d) VAR-BEKK Model for London Cocoa - GHSGBP"
   ]
  },
  {
   "cell_type": "code",
   "execution_count": 82,
   "id": "3af83ca4-0a79-4813-aaca-a56a5a3e1358",
   "metadata": {},
   "outputs": [
    {
     "data": {
      "text/plain": [
       "                     lc       ghsgbp\n",
       "2011-10-03 -0.006386088  0.006329860\n",
       "2011-10-04  0.008698228 -0.006611036\n",
       "2011-10-05  0.006330956 -0.001618611\n",
       "2011-10-06  0.011409137  0.004302178\n",
       "2011-10-07 -0.009689446 -0.009539931\n",
       "2011-10-10 -0.006320044 -0.013299207"
      ]
     },
     "metadata": {},
     "output_type": "display_data"
    },
    {
     "data": {
      "text/plain": [
       "                     lc       ghsgbp\n",
       "2015-11-20  0.003061450 -0.011455044\n",
       "2015-11-23 -0.014515320  0.011913969\n",
       "2015-11-24  0.013641576 -0.007469305\n",
       "2015-11-25 -0.011428696  0.025993562\n",
       "2015-11-27  0.004409178 -0.008861253\n",
       "2015-11-30  0.003513398  0.009705294"
      ]
     },
     "metadata": {},
     "output_type": "display_data"
    }
   ],
   "source": [
    "bekk8data <- na.omit(merge(cr_d[,2],fr_d[,8]))\n",
    "head(bekk8data)\n",
    "tail(bekk8data)"
   ]
  },
  {
   "cell_type": "code",
   "execution_count": 83,
   "id": "084c129b-a483-4ff3-8c41-4196e58b543b",
   "metadata": {},
   "outputs": [
    {
     "data": {
      "text/html": [
       "<dl>\n",
       "\t<dt>$selection</dt>\n",
       "\t\t<dd><style>\n",
       ".dl-inline {width: auto; margin:0; padding: 0}\n",
       ".dl-inline>dt, .dl-inline>dd {float: none; width: auto; display: inline-block}\n",
       ".dl-inline>dt::after {content: \":\\0020\"; padding-right: .5ex}\n",
       ".dl-inline>dt:not(:first-of-type) {padding-left: .5ex}\n",
       "</style><dl class=dl-inline><dt>AIC(n)</dt><dd>4</dd><dt>HQ(n)</dt><dd>1</dd><dt>SC(n)</dt><dd>1</dd><dt>FPE(n)</dt><dd>4</dd></dl>\n",
       "</dd>\n",
       "\t<dt>$criteria</dt>\n",
       "\t\t<dd><table class=\"dataframe\">\n",
       "<caption>A matrix: 4 × 4 of type dbl</caption>\n",
       "<thead>\n",
       "\t<tr><th></th><th scope=col>1</th><th scope=col>2</th><th scope=col>3</th><th scope=col>4</th></tr>\n",
       "</thead>\n",
       "<tbody>\n",
       "\t<tr><th scope=row>AIC(n)</th><td>-1.752666e+01</td><td>-1.752156e+01</td><td>-1.753316e+01</td><td>-1.753737e+01</td></tr>\n",
       "\t<tr><th scope=row>HQ(n)</th><td>-1.751578e+01</td><td>-1.750343e+01</td><td>-1.750777e+01</td><td>-1.750473e+01</td></tr>\n",
       "\t<tr><th scope=row>SC(n)</th><td>-1.749799e+01</td><td>-1.747378e+01</td><td>-1.746625e+01</td><td>-1.745135e+01</td></tr>\n",
       "\t<tr><th scope=row>FPE(n)</th><td> 2.444941e-08</td><td> 2.457433e-08</td><td> 2.429113e-08</td><td> 2.418897e-08</td></tr>\n",
       "</tbody>\n",
       "</table>\n",
       "</dd>\n",
       "</dl>\n"
      ],
      "text/latex": [
       "\\begin{description}\n",
       "\\item[\\$selection] \\begin{description*}\n",
       "\\item[AIC(n)] 4\n",
       "\\item[HQ(n)] 1\n",
       "\\item[SC(n)] 1\n",
       "\\item[FPE(n)] 4\n",
       "\\end{description*}\n",
       "\n",
       "\\item[\\$criteria] A matrix: 4 × 4 of type dbl\n",
       "\\begin{tabular}{r|llll}\n",
       "  & 1 & 2 & 3 & 4\\\\\n",
       "\\hline\n",
       "\tAIC(n) & -1.752666e+01 & -1.752156e+01 & -1.753316e+01 & -1.753737e+01\\\\\n",
       "\tHQ(n) & -1.751578e+01 & -1.750343e+01 & -1.750777e+01 & -1.750473e+01\\\\\n",
       "\tSC(n) & -1.749799e+01 & -1.747378e+01 & -1.746625e+01 & -1.745135e+01\\\\\n",
       "\tFPE(n) &  2.444941e-08 &  2.457433e-08 &  2.429113e-08 &  2.418897e-08\\\\\n",
       "\\end{tabular}\n",
       "\n",
       "\\end{description}\n"
      ],
      "text/markdown": [
       "$selection\n",
       ":   AIC(n)\n",
       ":   4HQ(n)\n",
       ":   1SC(n)\n",
       ":   1FPE(n)\n",
       ":   4\n",
       "\n",
       "\n",
       "$criteria\n",
       ":   \n",
       "A matrix: 4 × 4 of type dbl\n",
       "\n",
       "| <!--/--> | 1 | 2 | 3 | 4 |\n",
       "|---|---|---|---|---|\n",
       "| AIC(n) | -1.752666e+01 | -1.752156e+01 | -1.753316e+01 | -1.753737e+01 |\n",
       "| HQ(n) | -1.751578e+01 | -1.750343e+01 | -1.750777e+01 | -1.750473e+01 |\n",
       "| SC(n) | -1.749799e+01 | -1.747378e+01 | -1.746625e+01 | -1.745135e+01 |\n",
       "| FPE(n) |  2.444941e-08 |  2.457433e-08 |  2.429113e-08 |  2.418897e-08 |\n",
       "\n",
       "\n",
       "\n",
       "\n"
      ],
      "text/plain": [
       "$selection\n",
       "AIC(n)  HQ(n)  SC(n) FPE(n) \n",
       "     4      1      1      4 \n",
       "\n",
       "$criteria\n",
       "                   1             2             3             4\n",
       "AIC(n) -1.752666e+01 -1.752156e+01 -1.753316e+01 -1.753737e+01\n",
       "HQ(n)  -1.751578e+01 -1.750343e+01 -1.750777e+01 -1.750473e+01\n",
       "SC(n)  -1.749799e+01 -1.747378e+01 -1.746625e+01 -1.745135e+01\n",
       "FPE(n)  2.444941e-08  2.457433e-08  2.429113e-08  2.418897e-08\n"
      ]
     },
     "metadata": {},
     "output_type": "display_data"
    }
   ],
   "source": [
    "VARselect(bekk8data,type = \"const\",lag.max = 4)"
   ]
  },
  {
   "cell_type": "code",
   "execution_count": 84,
   "id": "6e596a17-bccc-4275-8745-8e2d18751fdc",
   "metadata": {},
   "outputs": [],
   "source": [
    "var_bekk8<-VAR(bekk8data,p = 4,type = \"const\")\n",
    "res_bekk8 <- residuals(var_bekk8)\n",
    "res_bekk8 <- as.data.frame(res_bekk8)"
   ]
  },
  {
   "cell_type": "code",
   "execution_count": 85,
   "id": "cc67976a-94f3-4add-9932-a7eb44071a8a",
   "metadata": {},
   "outputs": [
    {
     "data": {
      "text/plain": [
       "\n",
       "VAR Estimation Results:\n",
       "========================= \n",
       "Endogenous variables: lc, ghsgbp \n",
       "Deterministic variables: const \n",
       "Sample size: 1034 \n",
       "Log Likelihood: 6150.455 \n",
       "Roots of the characteristic polynomial:\n",
       "0.6004 0.6004 0.5442 0.5442 0.5187 0.5187 0.5062 0.06012\n",
       "Call:\n",
       "VAR(y = bekk8data, p = 4, type = \"const\")\n",
       "\n",
       "\n",
       "Estimation results for equation lc: \n",
       "=================================== \n",
       "lc = lc.l1 + ghsgbp.l1 + lc.l2 + ghsgbp.l2 + lc.l3 + ghsgbp.l3 + lc.l4 + ghsgbp.l4 + const \n",
       "\n",
       "            Estimate Std. Error t value Pr(>|t|)    \n",
       "lc.l1      0.0589115  0.0310446   1.898 0.058024 .  \n",
       "ghsgbp.l1  0.0473016  0.0315292   1.500 0.133858    \n",
       "lc.l2     -0.0538713  0.0310893  -1.733 0.083433 .  \n",
       "ghsgbp.l2 -0.0036507  0.0314624  -0.116 0.907649    \n",
       "lc.l3     -0.0285148  0.0310963  -0.917 0.359368    \n",
       "ghsgbp.l3 -0.0006405  0.0315207  -0.020 0.983792    \n",
       "lc.l4     -0.1072677  0.0310407  -3.456 0.000571 ***\n",
       "ghsgbp.l4 -0.0184237  0.0316171  -0.583 0.560214    \n",
       "const      0.0003304  0.0003917   0.843 0.399221    \n",
       "---\n",
       "Signif. codes:  0 ‘***’ 0.001 ‘**’ 0.01 ‘*’ 0.05 ‘.’ 0.1 ‘ ’ 1\n",
       "\n",
       "\n",
       "Residual standard error: 0.01247 on 1025 degrees of freedom\n",
       "Multiple R-Squared: 0.0213,\tAdjusted R-squared: 0.01367 \n",
       "F-statistic: 2.789 on 8 and 1025 DF,  p-value: 0.004666 \n",
       "\n",
       "\n",
       "Estimation results for equation ghsgbp: \n",
       "======================================= \n",
       "ghsgbp = lc.l1 + ghsgbp.l1 + lc.l2 + ghsgbp.l2 + lc.l3 + ghsgbp.l3 + lc.l4 + ghsgbp.l4 + const \n",
       "\n",
       "            Estimate Std. Error t value Pr(>|t|)    \n",
       "lc.l1      0.0177573  0.0307661   0.577 0.563951    \n",
       "ghsgbp.l1 -0.1096068  0.0312463  -3.508 0.000471 ***\n",
       "lc.l2     -0.0066959  0.0308104  -0.217 0.827996    \n",
       "ghsgbp.l2  0.0107383  0.0311801   0.344 0.730620    \n",
       "lc.l3     -0.0116668  0.0308173  -0.379 0.705080    \n",
       "ghsgbp.l3  0.1341799  0.0312379   4.295 1.91e-05 ***\n",
       "lc.l4      0.0068688  0.0307622   0.223 0.823357    \n",
       "ghsgbp.l4  0.0093300  0.0313334   0.298 0.765942    \n",
       "const     -0.0007317  0.0003882  -1.885 0.059763 .  \n",
       "---\n",
       "Signif. codes:  0 ‘***’ 0.001 ‘**’ 0.01 ‘*’ 0.05 ‘.’ 0.1 ‘ ’ 1\n",
       "\n",
       "\n",
       "Residual standard error: 0.01236 on 1025 degrees of freedom\n",
       "Multiple R-Squared: 0.02998,\tAdjusted R-squared: 0.02241 \n",
       "F-statistic:  3.96 on 8 and 1025 DF,  p-value: 0.0001247 \n",
       "\n",
       "\n",
       "\n",
       "Covariance matrix of residuals:\n",
       "               lc     ghsgbp\n",
       "lc      1.556e-04 -2.569e-06\n",
       "ghsgbp -2.569e-06  1.528e-04\n",
       "\n",
       "Correlation matrix of residuals:\n",
       "             lc   ghsgbp\n",
       "lc      1.00000 -0.01666\n",
       "ghsgbp -0.01666  1.00000\n",
       "\n"
      ]
     },
     "metadata": {},
     "output_type": "display_data"
    }
   ],
   "source": [
    "summary(var_bekk8)"
   ]
  },
  {
   "cell_type": "code",
   "execution_count": 86,
   "id": "a1f33d47-d4d9-4c09-925e-c70b28e96ea8",
   "metadata": {},
   "outputs": [
    {
     "name": "stdout",
     "output_type": "stream",
     "text": [
      " Date[1:1034], format: \"2011-10-07\" \"2011-10-10\" \"2011-10-11\" \"2011-10-12\" \"2011-10-13\" ...\n"
     ]
    }
   ],
   "source": [
    "ind_var8 <- index(bekk8data)[-c(1:4)]\n",
    "str(ind_var8)"
   ]
  },
  {
   "cell_type": "code",
   "execution_count": 87,
   "id": "73c7e694-051c-4426-b889-91a30e9642a8",
   "metadata": {},
   "outputs": [],
   "source": [
    "res_bekk8 <- xts(res_bekk8,order.by = ind_var8)\n",
    "bekk_spec <- bekk_spec(model = list(type = \"bekk\",asymmetric = F))\n",
    "bekk8_fit <- bekk_fit(spec = bekk_spec,data = res_bekk8)"
   ]
  },
  {
   "cell_type": "code",
   "execution_count": 88,
   "id": "0a2fbc82-cc7e-443f-9b61-01f220d34d9d",
   "metadata": {},
   "outputs": [
    {
     "data": {
      "text/html": [
       "<table class=\"dataframe\">\n",
       "<caption>A matrix: 2 × 2 of type dbl</caption>\n",
       "<tbody>\n",
       "\t<tr><td> 0.17973529</td><td>-0.009087744</td></tr>\n",
       "\t<tr><td>-0.02104631</td><td> 0.367401610</td></tr>\n",
       "</tbody>\n",
       "</table>\n"
      ],
      "text/latex": [
       "A matrix: 2 × 2 of type dbl\n",
       "\\begin{tabular}{ll}\n",
       "\t  0.17973529 & -0.009087744\\\\\n",
       "\t -0.02104631 &  0.367401610\\\\\n",
       "\\end{tabular}\n"
      ],
      "text/markdown": [
       "\n",
       "A matrix: 2 × 2 of type dbl\n",
       "\n",
       "|  0.17973529 | -0.009087744 |\n",
       "| -0.02104631 |  0.367401610 |\n",
       "\n"
      ],
      "text/plain": [
       "     [,1]        [,2]        \n",
       "[1,]  0.17973529 -0.009087744\n",
       "[2,] -0.02104631  0.367401610"
      ]
     },
     "metadata": {},
     "output_type": "display_data"
    },
    {
     "data": {
      "text/html": [
       "<table class=\"dataframe\">\n",
       "<caption>A matrix: 2 × 2 of type dbl</caption>\n",
       "<tbody>\n",
       "\t<tr><td>12.581586</td><td>-0.4741811</td></tr>\n",
       "\t<tr><td>-1.508474</td><td>15.5363396</td></tr>\n",
       "</tbody>\n",
       "</table>\n"
      ],
      "text/latex": [
       "A matrix: 2 × 2 of type dbl\n",
       "\\begin{tabular}{ll}\n",
       "\t 12.581586 & -0.4741811\\\\\n",
       "\t -1.508474 & 15.5363396\\\\\n",
       "\\end{tabular}\n"
      ],
      "text/markdown": [
       "\n",
       "A matrix: 2 × 2 of type dbl\n",
       "\n",
       "| 12.581586 | -0.4741811 |\n",
       "| -1.508474 | 15.5363396 |\n",
       "\n"
      ],
      "text/plain": [
       "     [,1]      [,2]      \n",
       "[1,] 12.581586 -0.4741811\n",
       "[2,] -1.508474 15.5363396"
      ]
     },
     "metadata": {},
     "output_type": "display_data"
    },
    {
     "data": {
      "text/html": [
       "<table class=\"dataframe\">\n",
       "<caption>A matrix: 2 × 2 of type dbl</caption>\n",
       "<tbody>\n",
       "\t<tr><td>0.98193051</td><td>0.0001966072</td></tr>\n",
       "\t<tr><td>0.01057014</td><td>0.9275021583</td></tr>\n",
       "</tbody>\n",
       "</table>\n"
      ],
      "text/latex": [
       "A matrix: 2 × 2 of type dbl\n",
       "\\begin{tabular}{ll}\n",
       "\t 0.98193051 & 0.0001966072\\\\\n",
       "\t 0.01057014 & 0.9275021583\\\\\n",
       "\\end{tabular}\n"
      ],
      "text/markdown": [
       "\n",
       "A matrix: 2 × 2 of type dbl\n",
       "\n",
       "| 0.98193051 | 0.0001966072 |\n",
       "| 0.01057014 | 0.9275021583 |\n",
       "\n"
      ],
      "text/plain": [
       "     [,1]       [,2]        \n",
       "[1,] 0.98193051 0.0001966072\n",
       "[2,] 0.01057014 0.9275021583"
      ]
     },
     "metadata": {},
     "output_type": "display_data"
    },
    {
     "data": {
      "text/html": [
       "<table class=\"dataframe\">\n",
       "<caption>A matrix: 2 × 2 of type dbl</caption>\n",
       "<tbody>\n",
       "\t<tr><td>328.892758</td><td>  0.03951398</td></tr>\n",
       "\t<tr><td>  2.572061</td><td>127.27829271</td></tr>\n",
       "</tbody>\n",
       "</table>\n"
      ],
      "text/latex": [
       "A matrix: 2 × 2 of type dbl\n",
       "\\begin{tabular}{ll}\n",
       "\t 328.892758 &   0.03951398\\\\\n",
       "\t   2.572061 & 127.27829271\\\\\n",
       "\\end{tabular}\n"
      ],
      "text/markdown": [
       "\n",
       "A matrix: 2 × 2 of type dbl\n",
       "\n",
       "| 328.892758 |   0.03951398 |\n",
       "|   2.572061 | 127.27829271 |\n",
       "\n"
      ],
      "text/plain": [
       "     [,1]       [,2]        \n",
       "[1,] 328.892758   0.03951398\n",
       "[2,]   2.572061 127.27829271"
      ]
     },
     "metadata": {},
     "output_type": "display_data"
    }
   ],
   "source": [
    "bekk8_fit$A\n",
    "bekk8_fit$A_t\n",
    "bekk8_fit$G\n",
    "bekk8_fit$G_t"
   ]
  },
  {
   "cell_type": "markdown",
   "id": "507f69af-4b08-49eb-ba3f-0ee819dc2e00",
   "metadata": {},
   "source": [
    "### VAR-BEKK Model Table for London Cocoa - GHSGBP"
   ]
  },
  {
   "cell_type": "code",
   "execution_count": 89,
   "id": "0626afbc-1b00-407a-a462-106365b0066b",
   "metadata": {},
   "outputs": [
    {
     "data": {
      "text/html": [
       "<table class=\"dataframe\">\n",
       "<caption>A data.frame: 26 × 5</caption>\n",
       "<thead>\n",
       "\t<tr><th scope=col>Parameters</th><th scope=col>Coefficient</th><th scope=col>Std_error</th><th scope=col>T_value</th><th scope=col>Significant_at_5p_level</th></tr>\n",
       "\t<tr><th scope=col>&lt;chr&gt;</th><th scope=col>&lt;dbl&gt;</th><th scope=col>&lt;dbl&gt;</th><th scope=col>&lt;dbl&gt;</th><th scope=col>&lt;chr&gt;</th></tr>\n",
       "</thead>\n",
       "<tbody>\n",
       "\t<tr><td>mu10 </td><td> 0.0003303802</td><td>0.0003917407</td><td>  0.84336462</td><td>Not Statistically Significant</td></tr>\n",
       "\t<tr><td>mu20 </td><td>-0.0007316616</td><td>0.0003882260</td><td> -1.88462829</td><td>Stat significant at 10%      </td></tr>\n",
       "\t<tr><td>phi11</td><td> 0.0589114998</td><td>0.0310446044</td><td>  1.89764054</td><td>Stat significant at 10%      </td></tr>\n",
       "\t<tr><td>phi12</td><td> 0.0473015874</td><td>0.0315291557</td><td>  1.50024910</td><td>Not Statistically Significant</td></tr>\n",
       "\t<tr><td>phi13</td><td>-0.0538713024</td><td>0.0310893014</td><td> -1.73279231</td><td>Stat significant at 10%      </td></tr>\n",
       "\t<tr><td>phi14</td><td>-0.0036506784</td><td>0.0314623734</td><td> -0.11603315</td><td>Not Statistically Significant</td></tr>\n",
       "\t<tr><td>phi15</td><td>-0.0285147761</td><td>0.0310963438</td><td> -0.91698163</td><td>Not Statistically Significant</td></tr>\n",
       "\t<tr><td>phi16</td><td>-0.0006405135</td><td>0.0315207336</td><td> -0.02032039</td><td>Not Statistically Significant</td></tr>\n",
       "\t<tr><td>phi17</td><td>-0.1072677197</td><td>0.0310407437</td><td> -3.45570714</td><td>Stat significant at 1%       </td></tr>\n",
       "\t<tr><td>phi18</td><td>-0.0184237029</td><td>0.0316170657</td><td> -0.58271388</td><td>Not Statistically Significant</td></tr>\n",
       "\t<tr><td>phi21</td><td> 0.0177572763</td><td>0.0307660686</td><td>  0.57717080</td><td>Not Statistically Significant</td></tr>\n",
       "\t<tr><td>phi22</td><td>-0.1096067541</td><td>0.0312462725</td><td> -3.50783455</td><td>Stat significant at 1%       </td></tr>\n",
       "\t<tr><td>phi23</td><td>-0.0066959412</td><td>0.0308103646</td><td> -0.21732755</td><td>Not Statistically Significant</td></tr>\n",
       "\t<tr><td>phi24</td><td> 0.0107382657</td><td>0.0311800893</td><td>  0.34439496</td><td>Not Statistically Significant</td></tr>\n",
       "\t<tr><td>phi25</td><td>-0.0116667645</td><td>0.0308173439</td><td> -0.37857787</td><td>Not Statistically Significant</td></tr>\n",
       "\t<tr><td>phi26</td><td> 0.1341799029</td><td>0.0312379260</td><td>  4.29541650</td><td>Stat significant at 1%       </td></tr>\n",
       "\t<tr><td>phi27</td><td> 0.0068687779</td><td>0.0307622426</td><td>  0.22328599</td><td>Not Statistically Significant</td></tr>\n",
       "\t<tr><td>phi28</td><td> 0.0093300097</td><td>0.0313333937</td><td>  0.29776569</td><td>Not Statistically Significant</td></tr>\n",
       "\t<tr><td>a11  </td><td> 0.1797352851</td><td>0.0142855820</td><td> 12.58158642</td><td>Stat significant at 1%       </td></tr>\n",
       "\t<tr><td>a12  </td><td>-0.0090877441</td><td>0.0191651350</td><td> -0.47418107</td><td>Not Statistically Significant</td></tr>\n",
       "\t<tr><td>a21  </td><td>-0.0210463132</td><td>0.0139520536</td><td> -1.50847422</td><td>Not Statistically Significant</td></tr>\n",
       "\t<tr><td>a22  </td><td> 0.3674016097</td><td>0.0236478874</td><td> 15.53633964</td><td>Stat significant at 1%       </td></tr>\n",
       "\t<tr><td>g11  </td><td> 0.9819305144</td><td>0.0029855644</td><td>328.89275773</td><td>Stat significant at 1%       </td></tr>\n",
       "\t<tr><td>g12  </td><td> 0.0001966072</td><td>0.0049756362</td><td>  0.03951398</td><td>Not Statistically Significant</td></tr>\n",
       "\t<tr><td>g21  </td><td> 0.0105701356</td><td>0.0041095977</td><td>  2.57206093</td><td>Stat significant at 5%       </td></tr>\n",
       "\t<tr><td>g22  </td><td> 0.9275021583</td><td>0.0072871983</td><td>127.27829271</td><td>Stat significant at 1%       </td></tr>\n",
       "</tbody>\n",
       "</table>\n"
      ],
      "text/latex": [
       "A data.frame: 26 × 5\n",
       "\\begin{tabular}{lllll}\n",
       " Parameters & Coefficient & Std\\_error & T\\_value & Significant\\_at\\_5p\\_level\\\\\n",
       " <chr> & <dbl> & <dbl> & <dbl> & <chr>\\\\\n",
       "\\hline\n",
       "\t mu10  &  0.0003303802 & 0.0003917407 &   0.84336462 & Not Statistically Significant\\\\\n",
       "\t mu20  & -0.0007316616 & 0.0003882260 &  -1.88462829 & Stat significant at 10\\%      \\\\\n",
       "\t phi11 &  0.0589114998 & 0.0310446044 &   1.89764054 & Stat significant at 10\\%      \\\\\n",
       "\t phi12 &  0.0473015874 & 0.0315291557 &   1.50024910 & Not Statistically Significant\\\\\n",
       "\t phi13 & -0.0538713024 & 0.0310893014 &  -1.73279231 & Stat significant at 10\\%      \\\\\n",
       "\t phi14 & -0.0036506784 & 0.0314623734 &  -0.11603315 & Not Statistically Significant\\\\\n",
       "\t phi15 & -0.0285147761 & 0.0310963438 &  -0.91698163 & Not Statistically Significant\\\\\n",
       "\t phi16 & -0.0006405135 & 0.0315207336 &  -0.02032039 & Not Statistically Significant\\\\\n",
       "\t phi17 & -0.1072677197 & 0.0310407437 &  -3.45570714 & Stat significant at 1\\%       \\\\\n",
       "\t phi18 & -0.0184237029 & 0.0316170657 &  -0.58271388 & Not Statistically Significant\\\\\n",
       "\t phi21 &  0.0177572763 & 0.0307660686 &   0.57717080 & Not Statistically Significant\\\\\n",
       "\t phi22 & -0.1096067541 & 0.0312462725 &  -3.50783455 & Stat significant at 1\\%       \\\\\n",
       "\t phi23 & -0.0066959412 & 0.0308103646 &  -0.21732755 & Not Statistically Significant\\\\\n",
       "\t phi24 &  0.0107382657 & 0.0311800893 &   0.34439496 & Not Statistically Significant\\\\\n",
       "\t phi25 & -0.0116667645 & 0.0308173439 &  -0.37857787 & Not Statistically Significant\\\\\n",
       "\t phi26 &  0.1341799029 & 0.0312379260 &   4.29541650 & Stat significant at 1\\%       \\\\\n",
       "\t phi27 &  0.0068687779 & 0.0307622426 &   0.22328599 & Not Statistically Significant\\\\\n",
       "\t phi28 &  0.0093300097 & 0.0313333937 &   0.29776569 & Not Statistically Significant\\\\\n",
       "\t a11   &  0.1797352851 & 0.0142855820 &  12.58158642 & Stat significant at 1\\%       \\\\\n",
       "\t a12   & -0.0090877441 & 0.0191651350 &  -0.47418107 & Not Statistically Significant\\\\\n",
       "\t a21   & -0.0210463132 & 0.0139520536 &  -1.50847422 & Not Statistically Significant\\\\\n",
       "\t a22   &  0.3674016097 & 0.0236478874 &  15.53633964 & Stat significant at 1\\%       \\\\\n",
       "\t g11   &  0.9819305144 & 0.0029855644 & 328.89275773 & Stat significant at 1\\%       \\\\\n",
       "\t g12   &  0.0001966072 & 0.0049756362 &   0.03951398 & Not Statistically Significant\\\\\n",
       "\t g21   &  0.0105701356 & 0.0041095977 &   2.57206093 & Stat significant at 5\\%       \\\\\n",
       "\t g22   &  0.9275021583 & 0.0072871983 & 127.27829271 & Stat significant at 1\\%       \\\\\n",
       "\\end{tabular}\n"
      ],
      "text/markdown": [
       "\n",
       "A data.frame: 26 × 5\n",
       "\n",
       "| Parameters &lt;chr&gt; | Coefficient &lt;dbl&gt; | Std_error &lt;dbl&gt; | T_value &lt;dbl&gt; | Significant_at_5p_level &lt;chr&gt; |\n",
       "|---|---|---|---|---|\n",
       "| mu10  |  0.0003303802 | 0.0003917407 |   0.84336462 | Not Statistically Significant |\n",
       "| mu20  | -0.0007316616 | 0.0003882260 |  -1.88462829 | Stat significant at 10%       |\n",
       "| phi11 |  0.0589114998 | 0.0310446044 |   1.89764054 | Stat significant at 10%       |\n",
       "| phi12 |  0.0473015874 | 0.0315291557 |   1.50024910 | Not Statistically Significant |\n",
       "| phi13 | -0.0538713024 | 0.0310893014 |  -1.73279231 | Stat significant at 10%       |\n",
       "| phi14 | -0.0036506784 | 0.0314623734 |  -0.11603315 | Not Statistically Significant |\n",
       "| phi15 | -0.0285147761 | 0.0310963438 |  -0.91698163 | Not Statistically Significant |\n",
       "| phi16 | -0.0006405135 | 0.0315207336 |  -0.02032039 | Not Statistically Significant |\n",
       "| phi17 | -0.1072677197 | 0.0310407437 |  -3.45570714 | Stat significant at 1%        |\n",
       "| phi18 | -0.0184237029 | 0.0316170657 |  -0.58271388 | Not Statistically Significant |\n",
       "| phi21 |  0.0177572763 | 0.0307660686 |   0.57717080 | Not Statistically Significant |\n",
       "| phi22 | -0.1096067541 | 0.0312462725 |  -3.50783455 | Stat significant at 1%        |\n",
       "| phi23 | -0.0066959412 | 0.0308103646 |  -0.21732755 | Not Statistically Significant |\n",
       "| phi24 |  0.0107382657 | 0.0311800893 |   0.34439496 | Not Statistically Significant |\n",
       "| phi25 | -0.0116667645 | 0.0308173439 |  -0.37857787 | Not Statistically Significant |\n",
       "| phi26 |  0.1341799029 | 0.0312379260 |   4.29541650 | Stat significant at 1%        |\n",
       "| phi27 |  0.0068687779 | 0.0307622426 |   0.22328599 | Not Statistically Significant |\n",
       "| phi28 |  0.0093300097 | 0.0313333937 |   0.29776569 | Not Statistically Significant |\n",
       "| a11   |  0.1797352851 | 0.0142855820 |  12.58158642 | Stat significant at 1%        |\n",
       "| a12   | -0.0090877441 | 0.0191651350 |  -0.47418107 | Not Statistically Significant |\n",
       "| a21   | -0.0210463132 | 0.0139520536 |  -1.50847422 | Not Statistically Significant |\n",
       "| a22   |  0.3674016097 | 0.0236478874 |  15.53633964 | Stat significant at 1%        |\n",
       "| g11   |  0.9819305144 | 0.0029855644 | 328.89275773 | Stat significant at 1%        |\n",
       "| g12   |  0.0001966072 | 0.0049756362 |   0.03951398 | Not Statistically Significant |\n",
       "| g21   |  0.0105701356 | 0.0041095977 |   2.57206093 | Stat significant at 5%        |\n",
       "| g22   |  0.9275021583 | 0.0072871983 | 127.27829271 | Stat significant at 1%        |\n",
       "\n"
      ],
      "text/plain": [
       "   Parameters Coefficient   Std_error    T_value     \n",
       "1  mu10        0.0003303802 0.0003917407   0.84336462\n",
       "2  mu20       -0.0007316616 0.0003882260  -1.88462829\n",
       "3  phi11       0.0589114998 0.0310446044   1.89764054\n",
       "4  phi12       0.0473015874 0.0315291557   1.50024910\n",
       "5  phi13      -0.0538713024 0.0310893014  -1.73279231\n",
       "6  phi14      -0.0036506784 0.0314623734  -0.11603315\n",
       "7  phi15      -0.0285147761 0.0310963438  -0.91698163\n",
       "8  phi16      -0.0006405135 0.0315207336  -0.02032039\n",
       "9  phi17      -0.1072677197 0.0310407437  -3.45570714\n",
       "10 phi18      -0.0184237029 0.0316170657  -0.58271388\n",
       "11 phi21       0.0177572763 0.0307660686   0.57717080\n",
       "12 phi22      -0.1096067541 0.0312462725  -3.50783455\n",
       "13 phi23      -0.0066959412 0.0308103646  -0.21732755\n",
       "14 phi24       0.0107382657 0.0311800893   0.34439496\n",
       "15 phi25      -0.0116667645 0.0308173439  -0.37857787\n",
       "16 phi26       0.1341799029 0.0312379260   4.29541650\n",
       "17 phi27       0.0068687779 0.0307622426   0.22328599\n",
       "18 phi28       0.0093300097 0.0313333937   0.29776569\n",
       "19 a11         0.1797352851 0.0142855820  12.58158642\n",
       "20 a12        -0.0090877441 0.0191651350  -0.47418107\n",
       "21 a21        -0.0210463132 0.0139520536  -1.50847422\n",
       "22 a22         0.3674016097 0.0236478874  15.53633964\n",
       "23 g11         0.9819305144 0.0029855644 328.89275773\n",
       "24 g12         0.0001966072 0.0049756362   0.03951398\n",
       "25 g21         0.0105701356 0.0041095977   2.57206093\n",
       "26 g22         0.9275021583 0.0072871983 127.27829271\n",
       "   Significant_at_5p_level      \n",
       "1  Not Statistically Significant\n",
       "2  Stat significant at 10%      \n",
       "3  Stat significant at 10%      \n",
       "4  Not Statistically Significant\n",
       "5  Stat significant at 10%      \n",
       "6  Not Statistically Significant\n",
       "7  Not Statistically Significant\n",
       "8  Not Statistically Significant\n",
       "9  Stat significant at 1%       \n",
       "10 Not Statistically Significant\n",
       "11 Not Statistically Significant\n",
       "12 Stat significant at 1%       \n",
       "13 Not Statistically Significant\n",
       "14 Not Statistically Significant\n",
       "15 Not Statistically Significant\n",
       "16 Stat significant at 1%       \n",
       "17 Not Statistically Significant\n",
       "18 Not Statistically Significant\n",
       "19 Stat significant at 1%       \n",
       "20 Not Statistically Significant\n",
       "21 Not Statistically Significant\n",
       "22 Stat significant at 1%       \n",
       "23 Stat significant at 1%       \n",
       "24 Not Statistically Significant\n",
       "25 Stat significant at 5%       \n",
       "26 Stat significant at 1%       "
      ]
     },
     "metadata": {},
     "output_type": "display_data"
    }
   ],
   "source": [
    "bekk8 <- data.frame(Parameters = c(\"mu10\",\"mu20\",\"phi11\",\"phi12\",\"phi13\",\"phi14\",\"phi15\",\"phi16\",\"phi17\",\"phi18\",\"phi21\",\"phi22\",\"phi23\",\"phi24\",\"phi25\",\"phi26\",\"phi27\",\"phi28\",\"a11\",\"a12\",\"a21\",\"a22\",\"g11\",\"g12\",\"g21\",\"g22\"),\n",
    "                   Coefficient = c(summary(var_bekk8)$varresult$lc$coefficients[\"const\",\"Estimate\"],summary(var_bekk8)$varresult$ghsgbp$coefficients[\"const\",\"Estimate\"],\n",
    "                                   summary(var_bekk8)$varresult$lc$coefficients[\"lc.l1\",\"Estimate\"],summary(var_bekk8)$varresult$lc$coefficients[\"ghsgbp.l1\",\"Estimate\"],\n",
    "                                   summary(var_bekk8)$varresult$lc$coefficients[\"lc.l2\",\"Estimate\"],summary(var_bekk8)$varresult$lc$coefficients[\"ghsgbp.l2\",\"Estimate\"],\n",
    "                                   summary(var_bekk8)$varresult$lc$coefficients[\"lc.l3\",\"Estimate\"],summary(var_bekk8)$varresult$lc$coefficients[\"ghsgbp.l3\",\"Estimate\"],\n",
    "                                   summary(var_bekk8)$varresult$lc$coefficients[\"lc.l4\",\"Estimate\"],summary(var_bekk8)$varresult$lc$coefficients[\"ghsgbp.l4\",\"Estimate\"],\n",
    "                                   summary(var_bekk8)$varresult$ghsgbp$coefficients[\"lc.l1\",\"Estimate\"],summary(var_bekk8)$varresult$ghsgbp$coefficients[\"ghsgbp.l1\",\"Estimate\"],\n",
    "                                   summary(var_bekk8)$varresult$ghsgbp$coefficients[\"lc.l2\",\"Estimate\"],summary(var_bekk8)$varresult$ghsgbp$coefficients[\"ghsgbp.l2\",\"Estimate\"],\n",
    "                                   summary(var_bekk8)$varresult$ghsgbp$coefficients[\"lc.l3\",\"Estimate\"],summary(var_bekk8)$varresult$ghsgbp$coefficients[\"ghsgbp.l3\",\"Estimate\"],\n",
    "                                   summary(var_bekk8)$varresult$ghsgbp$coefficients[\"lc.l4\",\"Estimate\"],summary(var_bekk8)$varresult$ghsgbp$coefficients[\"ghsgbp.l4\",\"Estimate\"],\n",
    "                                   bekk8_fit$A[1,1],bekk8_fit$A[1,2],bekk8_fit$A[2,1],bekk8_fit$A[2,2],bekk8_fit$G[1,1],bekk8_fit$G[1,2],bekk8_fit$G[2,1],bekk8_fit$G[2,2]),\n",
    "                   Std_error = c(summary(var_bekk8)$varresult$lc$coefficients[\"const\",\"Std. Error\"],summary(var_bekk8)$varresult$ghsgbp$coefficients[\"const\",\"Std. Error\"],\n",
    "                                   summary(var_bekk8)$varresult$lc$coefficients[\"lc.l1\",\"Std. Error\"],summary(var_bekk8)$varresult$lc$coefficients[\"ghsgbp.l1\",\"Std. Error\"],\n",
    "                                   summary(var_bekk8)$varresult$lc$coefficients[\"lc.l2\",\"Std. Error\"],summary(var_bekk8)$varresult$lc$coefficients[\"ghsgbp.l2\",\"Std. Error\"],\n",
    "                                   summary(var_bekk8)$varresult$lc$coefficients[\"lc.l3\",\"Std. Error\"],summary(var_bekk8)$varresult$lc$coefficients[\"ghsgbp.l3\",\"Std. Error\"],\n",
    "                                   summary(var_bekk8)$varresult$lc$coefficients[\"lc.l4\",\"Std. Error\"],summary(var_bekk8)$varresult$lc$coefficients[\"ghsgbp.l4\",\"Std. Error\"],\n",
    "                                   summary(var_bekk8)$varresult$ghsgbp$coefficients[\"lc.l1\",\"Std. Error\"],summary(var_bekk8)$varresult$ghsgbp$coefficients[\"ghsgbp.l1\",\"Std. Error\"],\n",
    "                                   summary(var_bekk8)$varresult$ghsgbp$coefficients[\"lc.l2\",\"Std. Error\"],summary(var_bekk8)$varresult$ghsgbp$coefficients[\"ghsgbp.l2\",\"Std. Error\"],\n",
    "                                   summary(var_bekk8)$varresult$ghsgbp$coefficients[\"lc.l3\",\"Std. Error\"],summary(var_bekk8)$varresult$ghsgbp$coefficients[\"ghsgbp.l3\",\"Std. Error\"],\n",
    "                                   summary(var_bekk8)$varresult$ghsgbp$coefficients[\"lc.l4\",\"Std. Error\"],summary(var_bekk8)$varresult$ghsgbp$coefficients[\"ghsgbp.l4\",\"Std. Error\"],\n",
    "                                   bekk8_fit$A_sd[1,1],bekk8_fit$A_sd[1,2],bekk8_fit$A_sd[2,1],bekk8_fit$A_sd[2,2],bekk8_fit$G_sd[1,1],bekk8_fit$G_sd[1,2],bekk8_fit$G_sd[2,1],bekk8_fit$G_sd[2,2]),\n",
    "                   T_value = c(summary(var_bekk8)$varresult$lc$coefficients[\"const\",\"t value\"],summary(var_bekk8)$varresult$ghsgbp$coefficients[\"const\",\"t value\"],\n",
    "                                   summary(var_bekk8)$varresult$lc$coefficients[\"lc.l1\",\"t value\"],summary(var_bekk8)$varresult$lc$coefficients[\"ghsgbp.l1\",\"t value\"],\n",
    "                                   summary(var_bekk8)$varresult$lc$coefficients[\"lc.l2\",\"t value\"],summary(var_bekk8)$varresult$lc$coefficients[\"ghsgbp.l2\",\"t value\"],\n",
    "                                   summary(var_bekk8)$varresult$lc$coefficients[\"lc.l3\",\"t value\"],summary(var_bekk8)$varresult$lc$coefficients[\"ghsgbp.l3\",\"t value\"],\n",
    "                                   summary(var_bekk8)$varresult$lc$coefficients[\"lc.l4\",\"t value\"],summary(var_bekk8)$varresult$lc$coefficients[\"ghsgbp.l4\",\"t value\"],\n",
    "                                   summary(var_bekk8)$varresult$ghsgbp$coefficients[\"lc.l1\",\"t value\"],summary(var_bekk8)$varresult$ghsgbp$coefficients[\"ghsgbp.l1\",\"t value\"],\n",
    "                                   summary(var_bekk8)$varresult$ghsgbp$coefficients[\"lc.l2\",\"t value\"],summary(var_bekk8)$varresult$ghsgbp$coefficients[\"ghsgbp.l2\",\"t value\"],\n",
    "                                   summary(var_bekk8)$varresult$ghsgbp$coefficients[\"lc.l3\",\"t value\"],summary(var_bekk8)$varresult$ghsgbp$coefficients[\"ghsgbp.l3\",\"t value\"],\n",
    "                                   summary(var_bekk8)$varresult$ghsgbp$coefficients[\"lc.l4\",\"t value\"],summary(var_bekk8)$varresult$ghsgbp$coefficients[\"ghsgbp.l4\",\"t value\"],\n",
    "                                   bekk8_fit$A_t[1,1],bekk8_fit$A_t[1,2],bekk8_fit$A_t[2,1],bekk8_fit$A_t[2,2],bekk8_fit$G_t[1,1],bekk8_fit$G_t[1,2],bekk8_fit$G_t[2,1],bekk8_fit$G_t[2,2]))\n",
    "\n",
    "bekk8$Significant_at_5p_level[abs(bekk8$T_value) >= 2.58 ] <- \"Stat significant at 1%\"\n",
    "bekk8$Significant_at_5p_level[abs(bekk8$T_value) > 1.96 & abs(bekk8$T_value) < 2.58] <- \"Stat significant at 5%\"\n",
    "bekk8$Significant_at_5p_level[abs(bekk8$T_value) > 1.645 & abs(bekk8$T_value) <= 1.96 ] <- \"Stat significant at 10%\"\n",
    "bekk8$Significant_at_5p_level[abs(bekk8$T_value) <= 1.645] <- \"Not Statistically Significant\"\n",
    "bekk8"
   ]
  },
  {
   "cell_type": "code",
   "execution_count": 90,
   "id": "10044e30-580c-46ac-a36c-946491135844",
   "metadata": {},
   "outputs": [
    {
     "data": {
      "text/plain": [
       "\n",
       "\tGranger causality H0: lc do not Granger-cause ghsgbp\n",
       "\n",
       "data:  VAR object var_bekk8\n",
       "F-Test = 0.14407, df1 = 4, df2 = 2050, p-value = 0.9656\n"
      ]
     },
     "metadata": {},
     "output_type": "display_data"
    },
    {
     "data": {
      "text/plain": [
       "\n",
       "\tGranger causality H0: ghsgbp do not Granger-cause lc\n",
       "\n",
       "data:  VAR object var_bekk8\n",
       "F-Test = 0.62016, df1 = 4, df2 = 2050, p-value = 0.6482\n"
      ]
     },
     "metadata": {},
     "output_type": "display_data"
    }
   ],
   "source": [
    "causality(var_bekk8,cause = \"lc\")$Granger\n",
    "causality(var_bekk8,cause = \"ghsgbp\")$Granger"
   ]
  },
  {
   "cell_type": "markdown",
   "id": "7a7669b4-ee65-41ae-9fbb-f38833c65f89",
   "metadata": {},
   "source": [
    "# Summary of Period 2 models"
   ]
  },
  {
   "cell_type": "code",
   "execution_count": 91,
   "id": "9941fb95-a8f2-4c07-84f8-e69e08fee138",
   "metadata": {},
   "outputs": [],
   "source": [
    "bekk_c <- rep(NA,26)\n",
    "for(i in 1:26){\n",
    "    bekk_c[i] = paste0(round(bekkc[i,2],4),\" (\",round(bekkc[i,3],4),\")\")\n",
    "}\n",
    "\n",
    "bekk_1 <- rep(NA,14)\n",
    "for(i in 1:14){\n",
    "    bekk_1[i] = paste0(round(bekk1[i,2],4),\" (\",round(bekk1[i,3],4),\")\")\n",
    "}\n",
    "\n",
    "bekk_2 <- rep(NA,26)\n",
    "for(i in 1:26){\n",
    "    bekk_2[i] = paste0(round(bekk2[i,2],4),\" (\",round(bekk2[i,3],4),\")\")\n",
    "}\n",
    "\n",
    "bekk_3 <- rep(NA,14)\n",
    "for(i in 1:14){\n",
    "    bekk_3[i] = paste0(round(bekk3[i,2],4),\" (\",round(bekk3[i,3],4),\")\")\n",
    "}\n",
    "\n",
    "bekk_4 <- rep(NA,14)\n",
    "for(i in 1:14){\n",
    "    bekk_4[i] = paste0(round(bekk4[i,2],4),\" (\",round(bekk4[i,3],4),\")\")\n",
    "}\n",
    "\n",
    "bekk_5 <- rep(NA,14)\n",
    "for(i in 1:14){\n",
    "    bekk_5[i] = paste0(round(bekk5[i,2],4),\" (\",round(bekk5[i,3],4),\")\")\n",
    "}\n",
    "\n",
    "bekk_6 <- rep(NA,14)\n",
    "for(i in 1:14){\n",
    "    bekk_6[i] = paste0(round(bekk6[i,2],4),\" (\",round(bekk6[i,3],4),\")\")\n",
    "}\n",
    "\n",
    "bekk_7 <- rep(NA,26)\n",
    "for(i in 1:26){\n",
    "    bekk_7[i] = paste0(round(bekk7[i,2],4),\" (\",round(bekk7[i,3],4),\")\")\n",
    "}\n",
    "\n",
    "\n",
    "bekk_8 <- rep(NA,26)\n",
    "for(i in 1:26){\n",
    "    bekk_8[i] = paste0(round(bekk8[i,2],4),\" (\",round(bekk8[i,3],4),\")\")\n",
    "}\n"
   ]
  },
  {
   "cell_type": "code",
   "execution_count": 92,
   "id": "75271607-9253-464c-af58-186ba45ad791",
   "metadata": {},
   "outputs": [],
   "source": [
    "parameters1 = c(\"mu10\",\"mu20\",\"phi11\",\"phi12\",\"phi21\",\"phi22\",\"a11\",\"a12\",\"a21\",\"a22\",\"g11\",\"g12\",\"g21\",\"g22\")\n",
    "parameters2 = c(\"mu10\",\"mu20\",\"phi11\",\"phi12\",\"phi13\",\"phi14\",\"phi15\",\"phi16\",\"phi17\",\"phi18\",\"phi21\",\"phi22\",\"phi23\",\"phi24\",\"phi25\",\"phi26\",\"phi27\",\"phi28\",\"a11\",\"a12\",\"a21\",\"a22\",\"g11\",\"g12\",\"g21\",\"g22\")"
   ]
  },
  {
   "cell_type": "code",
   "execution_count": 93,
   "id": "c27320b4-0e83-45be-b570-96feb92835dd",
   "metadata": {},
   "outputs": [],
   "source": [
    "daily_bekk1 <- data.frame(\"Parameters\" = parameters1,\"BEKK1\" = bekk_1,\"BEKK3\" = bekk_3,\"BEKK4\" = bekk_4,\"BEKK5\" = bekk_5,\n",
    "                         \"BEKK6\" = bekk_6)\n",
    "daily_bekk2 <- data.frame(\"Parameters\" = parameters2,\"BEKKC\" = bekk_c,\"BEKK2\" = bekk_2,\"BEKK7\" = bekk_7,\"BEKK8\" = bekk_8)"
   ]
  },
  {
   "cell_type": "code",
   "execution_count": 94,
   "id": "79b1363f-1bd2-44c4-a0d0-6594e70d8225",
   "metadata": {},
   "outputs": [
    {
     "data": {
      "text/html": [
       "<table class=\"dataframe\">\n",
       "<caption>A data.frame: 14 × 6</caption>\n",
       "<thead>\n",
       "\t<tr><th scope=col>Parameters</th><th scope=col>BEKK1</th><th scope=col>BEKK3</th><th scope=col>BEKK4</th><th scope=col>BEKK5</th><th scope=col>BEKK6</th></tr>\n",
       "\t<tr><th scope=col>&lt;chr&gt;</th><th scope=col>&lt;chr&gt;</th><th scope=col>&lt;chr&gt;</th><th scope=col>&lt;chr&gt;</th><th scope=col>&lt;chr&gt;</th><th scope=col>&lt;chr&gt;</th></tr>\n",
       "</thead>\n",
       "<tbody>\n",
       "\t<tr><td>mu10 </td><td>2e-04 (4e-04)   </td><td>2e-04 (4e-04)   </td><td>3e-04 (4e-04)   </td><td>3e-04 (4e-04)   </td><td>3e-04 (4e-04)   </td></tr>\n",
       "\t<tr><td>mu20 </td><td>-2e-04 (2e-04)  </td><td>-1e-04 (2e-04)  </td><td>0 (1e-04)       </td><td>-2e-04 (1e-04)  </td><td>-1e-04 (2e-04)  </td></tr>\n",
       "\t<tr><td>phi11</td><td>0.0568 (0.0316) </td><td>0.0573 (0.0312) </td><td>0.0606 (0.031)  </td><td>0.0617 (0.0311) </td><td>0.0609 (0.031)  </td></tr>\n",
       "\t<tr><td>phi12</td><td>-0.0112 (0.0785)</td><td>-0.0223 (0.0559)</td><td>0.0806 (0.0863) </td><td>-0.0375 (0.0841)</td><td>-0.0094 (0.0531)</td></tr>\n",
       "\t<tr><td>phi21</td><td>0.0117 (0.0127) </td><td>0.0106 (0.0174) </td><td>-0.0042 (0.0112)</td><td>-0.0046 (0.0115)</td><td>-0.006 (0.0182) </td></tr>\n",
       "\t<tr><td>phi22</td><td>-0.0406 (0.0315)</td><td>-0.0169 (0.0312)</td><td>-0.029 (0.031)  </td><td>-0.0105 (0.0311)</td><td>-0.011 (0.0311) </td></tr>\n",
       "\t<tr><td>a11  </td><td>0.1756 (0.0192) </td><td>0.1912 (0.0248) </td><td>0.2008 (0.0162) </td><td>0.1921 (0.0148) </td><td>0.2382 (0.0308) </td></tr>\n",
       "\t<tr><td>a12  </td><td>-0.011 (0.0109) </td><td>-0.0064 (0.0479)</td><td>-0.0022 (0.0092)</td><td>-0.01 (0.0083)  </td><td>-0.0115 (0.0508)</td></tr>\n",
       "\t<tr><td>a21  </td><td>0.0425 (0.0498) </td><td>0.0262 (0.0396) </td><td>-0.0163 (0.0634)</td><td>-0.0262 (0.0596)</td><td>-0.0124 (0.035) </td></tr>\n",
       "\t<tr><td>a22  </td><td>0.1964 (0.0213) </td><td>0.0627 (0.0497) </td><td>0.1701 (0.0211) </td><td>0.2175 (0.0226) </td><td>0.0634 (0.0506) </td></tr>\n",
       "\t<tr><td>g11  </td><td>0.981 (0.0046)  </td><td>0.9782 (0.0112) </td><td>0.9763 (0.0039) </td><td>0.9785 (0.0032) </td><td>0.965 (0.0122)  </td></tr>\n",
       "\t<tr><td>g12  </td><td>0.0027 (0.0022) </td><td>0.0084 (0.0155) </td><td>1e-04 (0.0021)  </td><td>0.0022 (0.0019) </td><td>0.0024 (0.0175) </td></tr>\n",
       "\t<tr><td>g21  </td><td>-0.0077 (0.0132)</td><td>0.002 (0.1193)  </td><td>-0.0013 (0.0175)</td><td>0.0124 (0.0173) </td><td>0.0822 (0.116)  </td></tr>\n",
       "\t<tr><td>g22  </td><td>0.9771 (0.0049) </td><td>0.8903 (0.1271) </td><td>0.98 (0.0049)   </td><td>0.9686 (0.0067) </td><td>0.8799 (0.1579) </td></tr>\n",
       "</tbody>\n",
       "</table>\n"
      ],
      "text/latex": [
       "A data.frame: 14 × 6\n",
       "\\begin{tabular}{llllll}\n",
       " Parameters & BEKK1 & BEKK3 & BEKK4 & BEKK5 & BEKK6\\\\\n",
       " <chr> & <chr> & <chr> & <chr> & <chr> & <chr>\\\\\n",
       "\\hline\n",
       "\t mu10  & 2e-04 (4e-04)    & 2e-04 (4e-04)    & 3e-04 (4e-04)    & 3e-04 (4e-04)    & 3e-04 (4e-04)   \\\\\n",
       "\t mu20  & -2e-04 (2e-04)   & -1e-04 (2e-04)   & 0 (1e-04)        & -2e-04 (1e-04)   & -1e-04 (2e-04)  \\\\\n",
       "\t phi11 & 0.0568 (0.0316)  & 0.0573 (0.0312)  & 0.0606 (0.031)   & 0.0617 (0.0311)  & 0.0609 (0.031)  \\\\\n",
       "\t phi12 & -0.0112 (0.0785) & -0.0223 (0.0559) & 0.0806 (0.0863)  & -0.0375 (0.0841) & -0.0094 (0.0531)\\\\\n",
       "\t phi21 & 0.0117 (0.0127)  & 0.0106 (0.0174)  & -0.0042 (0.0112) & -0.0046 (0.0115) & -0.006 (0.0182) \\\\\n",
       "\t phi22 & -0.0406 (0.0315) & -0.0169 (0.0312) & -0.029 (0.031)   & -0.0105 (0.0311) & -0.011 (0.0311) \\\\\n",
       "\t a11   & 0.1756 (0.0192)  & 0.1912 (0.0248)  & 0.2008 (0.0162)  & 0.1921 (0.0148)  & 0.2382 (0.0308) \\\\\n",
       "\t a12   & -0.011 (0.0109)  & -0.0064 (0.0479) & -0.0022 (0.0092) & -0.01 (0.0083)   & -0.0115 (0.0508)\\\\\n",
       "\t a21   & 0.0425 (0.0498)  & 0.0262 (0.0396)  & -0.0163 (0.0634) & -0.0262 (0.0596) & -0.0124 (0.035) \\\\\n",
       "\t a22   & 0.1964 (0.0213)  & 0.0627 (0.0497)  & 0.1701 (0.0211)  & 0.2175 (0.0226)  & 0.0634 (0.0506) \\\\\n",
       "\t g11   & 0.981 (0.0046)   & 0.9782 (0.0112)  & 0.9763 (0.0039)  & 0.9785 (0.0032)  & 0.965 (0.0122)  \\\\\n",
       "\t g12   & 0.0027 (0.0022)  & 0.0084 (0.0155)  & 1e-04 (0.0021)   & 0.0022 (0.0019)  & 0.0024 (0.0175) \\\\\n",
       "\t g21   & -0.0077 (0.0132) & 0.002 (0.1193)   & -0.0013 (0.0175) & 0.0124 (0.0173)  & 0.0822 (0.116)  \\\\\n",
       "\t g22   & 0.9771 (0.0049)  & 0.8903 (0.1271)  & 0.98 (0.0049)    & 0.9686 (0.0067)  & 0.8799 (0.1579) \\\\\n",
       "\\end{tabular}\n"
      ],
      "text/markdown": [
       "\n",
       "A data.frame: 14 × 6\n",
       "\n",
       "| Parameters &lt;chr&gt; | BEKK1 &lt;chr&gt; | BEKK3 &lt;chr&gt; | BEKK4 &lt;chr&gt; | BEKK5 &lt;chr&gt; | BEKK6 &lt;chr&gt; |\n",
       "|---|---|---|---|---|---|\n",
       "| mu10  | 2e-04 (4e-04)    | 2e-04 (4e-04)    | 3e-04 (4e-04)    | 3e-04 (4e-04)    | 3e-04 (4e-04)    |\n",
       "| mu20  | -2e-04 (2e-04)   | -1e-04 (2e-04)   | 0 (1e-04)        | -2e-04 (1e-04)   | -1e-04 (2e-04)   |\n",
       "| phi11 | 0.0568 (0.0316)  | 0.0573 (0.0312)  | 0.0606 (0.031)   | 0.0617 (0.0311)  | 0.0609 (0.031)   |\n",
       "| phi12 | -0.0112 (0.0785) | -0.0223 (0.0559) | 0.0806 (0.0863)  | -0.0375 (0.0841) | -0.0094 (0.0531) |\n",
       "| phi21 | 0.0117 (0.0127)  | 0.0106 (0.0174)  | -0.0042 (0.0112) | -0.0046 (0.0115) | -0.006 (0.0182)  |\n",
       "| phi22 | -0.0406 (0.0315) | -0.0169 (0.0312) | -0.029 (0.031)   | -0.0105 (0.0311) | -0.011 (0.0311)  |\n",
       "| a11   | 0.1756 (0.0192)  | 0.1912 (0.0248)  | 0.2008 (0.0162)  | 0.1921 (0.0148)  | 0.2382 (0.0308)  |\n",
       "| a12   | -0.011 (0.0109)  | -0.0064 (0.0479) | -0.0022 (0.0092) | -0.01 (0.0083)   | -0.0115 (0.0508) |\n",
       "| a21   | 0.0425 (0.0498)  | 0.0262 (0.0396)  | -0.0163 (0.0634) | -0.0262 (0.0596) | -0.0124 (0.035)  |\n",
       "| a22   | 0.1964 (0.0213)  | 0.0627 (0.0497)  | 0.1701 (0.0211)  | 0.2175 (0.0226)  | 0.0634 (0.0506)  |\n",
       "| g11   | 0.981 (0.0046)   | 0.9782 (0.0112)  | 0.9763 (0.0039)  | 0.9785 (0.0032)  | 0.965 (0.0122)   |\n",
       "| g12   | 0.0027 (0.0022)  | 0.0084 (0.0155)  | 1e-04 (0.0021)   | 0.0022 (0.0019)  | 0.0024 (0.0175)  |\n",
       "| g21   | -0.0077 (0.0132) | 0.002 (0.1193)   | -0.0013 (0.0175) | 0.0124 (0.0173)  | 0.0822 (0.116)   |\n",
       "| g22   | 0.9771 (0.0049)  | 0.8903 (0.1271)  | 0.98 (0.0049)    | 0.9686 (0.0067)  | 0.8799 (0.1579)  |\n",
       "\n"
      ],
      "text/plain": [
       "   Parameters BEKK1            BEKK3            BEKK4           \n",
       "1  mu10       2e-04 (4e-04)    2e-04 (4e-04)    3e-04 (4e-04)   \n",
       "2  mu20       -2e-04 (2e-04)   -1e-04 (2e-04)   0 (1e-04)       \n",
       "3  phi11      0.0568 (0.0316)  0.0573 (0.0312)  0.0606 (0.031)  \n",
       "4  phi12      -0.0112 (0.0785) -0.0223 (0.0559) 0.0806 (0.0863) \n",
       "5  phi21      0.0117 (0.0127)  0.0106 (0.0174)  -0.0042 (0.0112)\n",
       "6  phi22      -0.0406 (0.0315) -0.0169 (0.0312) -0.029 (0.031)  \n",
       "7  a11        0.1756 (0.0192)  0.1912 (0.0248)  0.2008 (0.0162) \n",
       "8  a12        -0.011 (0.0109)  -0.0064 (0.0479) -0.0022 (0.0092)\n",
       "9  a21        0.0425 (0.0498)  0.0262 (0.0396)  -0.0163 (0.0634)\n",
       "10 a22        0.1964 (0.0213)  0.0627 (0.0497)  0.1701 (0.0211) \n",
       "11 g11        0.981 (0.0046)   0.9782 (0.0112)  0.9763 (0.0039) \n",
       "12 g12        0.0027 (0.0022)  0.0084 (0.0155)  1e-04 (0.0021)  \n",
       "13 g21        -0.0077 (0.0132) 0.002 (0.1193)   -0.0013 (0.0175)\n",
       "14 g22        0.9771 (0.0049)  0.8903 (0.1271)  0.98 (0.0049)   \n",
       "   BEKK5            BEKK6           \n",
       "1  3e-04 (4e-04)    3e-04 (4e-04)   \n",
       "2  -2e-04 (1e-04)   -1e-04 (2e-04)  \n",
       "3  0.0617 (0.0311)  0.0609 (0.031)  \n",
       "4  -0.0375 (0.0841) -0.0094 (0.0531)\n",
       "5  -0.0046 (0.0115) -0.006 (0.0182) \n",
       "6  -0.0105 (0.0311) -0.011 (0.0311) \n",
       "7  0.1921 (0.0148)  0.2382 (0.0308) \n",
       "8  -0.01 (0.0083)   -0.0115 (0.0508)\n",
       "9  -0.0262 (0.0596) -0.0124 (0.035) \n",
       "10 0.2175 (0.0226)  0.0634 (0.0506) \n",
       "11 0.9785 (0.0032)  0.965 (0.0122)  \n",
       "12 0.0022 (0.0019)  0.0024 (0.0175) \n",
       "13 0.0124 (0.0173)  0.0822 (0.116)  \n",
       "14 0.9686 (0.0067)  0.8799 (0.1579) "
      ]
     },
     "metadata": {},
     "output_type": "display_data"
    }
   ],
   "source": [
    "daily_bekk1"
   ]
  },
  {
   "cell_type": "code",
   "execution_count": 95,
   "id": "2873e944-c0fd-46ac-8916-1744ad875383",
   "metadata": {},
   "outputs": [
    {
     "data": {
      "text/html": [
       "<table class=\"dataframe\">\n",
       "<caption>A data.frame: 26 × 5</caption>\n",
       "<thead>\n",
       "\t<tr><th scope=col>Parameters</th><th scope=col>BEKKC</th><th scope=col>BEKK2</th><th scope=col>BEKK7</th><th scope=col>BEKK8</th></tr>\n",
       "\t<tr><th scope=col>&lt;chr&gt;</th><th scope=col>&lt;chr&gt;</th><th scope=col>&lt;chr&gt;</th><th scope=col>&lt;chr&gt;</th><th scope=col>&lt;chr&gt;</th></tr>\n",
       "</thead>\n",
       "<tbody>\n",
       "\t<tr><td>mu10 </td><td>2e-04 (4e-04)   </td><td>2e-04 (4e-04)   </td><td>2e-04 (4e-04)   </td><td>3e-04 (4e-04)   </td></tr>\n",
       "\t<tr><td>mu20 </td><td>3e-04 (4e-04)   </td><td>0 (1e-04)       </td><td>-9e-04 (4e-04)  </td><td>-7e-04 (4e-04)  </td></tr>\n",
       "\t<tr><td>phi11</td><td>0.0388 (0.0763) </td><td>0.0504 (0.0318) </td><td>0.0588 (0.031)  </td><td>0.0589 (0.031)  </td></tr>\n",
       "\t<tr><td>phi12</td><td>0.0197 (0.0861) </td><td>0.0487 (0.0995) </td><td>0.0616 (0.0394) </td><td>0.0473 (0.0315) </td></tr>\n",
       "\t<tr><td>phi13</td><td>-0.0721 (0.0765)</td><td>-0.033 (0.0318) </td><td>-0.0256 (0.0311)</td><td>-0.0539 (0.0311)</td></tr>\n",
       "\t<tr><td>phi14</td><td>0.0621 (0.0862) </td><td>0.1024 (0.0995) </td><td>-0.0078 (0.0399)</td><td>-0.0037 (0.0315)</td></tr>\n",
       "\t<tr><td>phi15</td><td>0.1359 (0.0761) </td><td>-0.0053 (0.0318)</td><td>0.002 (0.0311)  </td><td>-0.0285 (0.0311)</td></tr>\n",
       "\t<tr><td>phi16</td><td>-0.1659 (0.0858)</td><td>0.0834 (0.0995) </td><td>0.013 (0.04)    </td><td>-6e-04 (0.0315) </td></tr>\n",
       "\t<tr><td>phi17</td><td>-0.0021 (0.0761)</td><td>-0.134 (0.0318) </td><td>-0.1229 (0.031) </td><td>-0.1073 (0.031) </td></tr>\n",
       "\t<tr><td>phi18</td><td>-0.1411 (0.0858)</td><td>0.1331 (0.0993) </td><td>-0.0119 (0.0396)</td><td>-0.0184 (0.0316)</td></tr>\n",
       "\t<tr><td>phi21</td><td>0.1083 (0.0677) </td><td>0.0103 (0.0102) </td><td>-0.0051 (0.0246)</td><td>0.0178 (0.0308) </td></tr>\n",
       "\t<tr><td>phi22</td><td>-0.0487 (0.0764)</td><td>-0.0369 (0.032) </td><td>-0.1888 (0.0313)</td><td>-0.1096 (0.0312)</td></tr>\n",
       "\t<tr><td>phi23</td><td>-0.0548 (0.0679)</td><td>0.0094 (0.0102) </td><td>0.0103 (0.0246) </td><td>-0.0067 (0.0308)</td></tr>\n",
       "\t<tr><td>phi24</td><td>1e-04 (0.0765)  </td><td>0.0186 (0.0321) </td><td>0.0214 (0.0317) </td><td>0.0107 (0.0312) </td></tr>\n",
       "\t<tr><td>phi25</td><td>0.1513 (0.0675) </td><td>0.0108 (0.0102) </td><td>0.0095 (0.0246) </td><td>-0.0117 (0.0308)</td></tr>\n",
       "\t<tr><td>phi26</td><td>-0.1895 (0.0761)</td><td>-0.0291 (0.032) </td><td>0.1106 (0.0317) </td><td>0.1342 (0.0312) </td></tr>\n",
       "\t<tr><td>phi27</td><td>-0.0245 (0.0675)</td><td>5e-04 (0.0102)  </td><td>0.0039 (0.0246) </td><td>0.0069 (0.0308) </td></tr>\n",
       "\t<tr><td>phi28</td><td>-0.0801 (0.0761)</td><td>-0.0228 (0.032) </td><td>0.0086 (0.0314) </td><td>0.0093 (0.0313) </td></tr>\n",
       "\t<tr><td>a11  </td><td>0.1746 (0.0438) </td><td>0.178 (0.0214)  </td><td>0.191 (0.0287)  </td><td>0.1797 (0.0143) </td></tr>\n",
       "\t<tr><td>a12  </td><td>0.085 (0.0409)  </td><td>0.0027 (0.0088) </td><td>0.0326 (0.0103) </td><td>-0.0091 (0.0192)</td></tr>\n",
       "\t<tr><td>a21  </td><td>0.0172 (0.0497) </td><td>0.0714 (0.0796) </td><td>-0.0186 (0.0341)</td><td>-0.021 (0.014)  </td></tr>\n",
       "\t<tr><td>a22  </td><td>0.1223 (0.0441) </td><td>0.1673 (0.023)  </td><td>0.4631 (0.0212) </td><td>0.3674 (0.0236) </td></tr>\n",
       "\t<tr><td>g11  </td><td>0.948 (0.011)   </td><td>0.9804 (0.0049) </td><td>0.9621 (0.012)  </td><td>0.9819 (0.003)  </td></tr>\n",
       "\t<tr><td>g12  </td><td>-0.0438 (0.0096)</td><td>-5e-04 (0.002)  </td><td>-0.0141 (0.0066)</td><td>2e-04 (0.005)   </td></tr>\n",
       "\t<tr><td>g21  </td><td>0.0363 (0.0137) </td><td>-0.0072 (0.0221)</td><td>0.0014 (0.0155) </td><td>0.0106 (0.0041) </td></tr>\n",
       "\t<tr><td>g22  </td><td>1.019 (0.0115)  </td><td>0.9803 (0.0056) </td><td>0.8867 (0.0086) </td><td>0.9275 (0.0073) </td></tr>\n",
       "</tbody>\n",
       "</table>\n"
      ],
      "text/latex": [
       "A data.frame: 26 × 5\n",
       "\\begin{tabular}{lllll}\n",
       " Parameters & BEKKC & BEKK2 & BEKK7 & BEKK8\\\\\n",
       " <chr> & <chr> & <chr> & <chr> & <chr>\\\\\n",
       "\\hline\n",
       "\t mu10  & 2e-04 (4e-04)    & 2e-04 (4e-04)    & 2e-04 (4e-04)    & 3e-04 (4e-04)   \\\\\n",
       "\t mu20  & 3e-04 (4e-04)    & 0 (1e-04)        & -9e-04 (4e-04)   & -7e-04 (4e-04)  \\\\\n",
       "\t phi11 & 0.0388 (0.0763)  & 0.0504 (0.0318)  & 0.0588 (0.031)   & 0.0589 (0.031)  \\\\\n",
       "\t phi12 & 0.0197 (0.0861)  & 0.0487 (0.0995)  & 0.0616 (0.0394)  & 0.0473 (0.0315) \\\\\n",
       "\t phi13 & -0.0721 (0.0765) & -0.033 (0.0318)  & -0.0256 (0.0311) & -0.0539 (0.0311)\\\\\n",
       "\t phi14 & 0.0621 (0.0862)  & 0.1024 (0.0995)  & -0.0078 (0.0399) & -0.0037 (0.0315)\\\\\n",
       "\t phi15 & 0.1359 (0.0761)  & -0.0053 (0.0318) & 0.002 (0.0311)   & -0.0285 (0.0311)\\\\\n",
       "\t phi16 & -0.1659 (0.0858) & 0.0834 (0.0995)  & 0.013 (0.04)     & -6e-04 (0.0315) \\\\\n",
       "\t phi17 & -0.0021 (0.0761) & -0.134 (0.0318)  & -0.1229 (0.031)  & -0.1073 (0.031) \\\\\n",
       "\t phi18 & -0.1411 (0.0858) & 0.1331 (0.0993)  & -0.0119 (0.0396) & -0.0184 (0.0316)\\\\\n",
       "\t phi21 & 0.1083 (0.0677)  & 0.0103 (0.0102)  & -0.0051 (0.0246) & 0.0178 (0.0308) \\\\\n",
       "\t phi22 & -0.0487 (0.0764) & -0.0369 (0.032)  & -0.1888 (0.0313) & -0.1096 (0.0312)\\\\\n",
       "\t phi23 & -0.0548 (0.0679) & 0.0094 (0.0102)  & 0.0103 (0.0246)  & -0.0067 (0.0308)\\\\\n",
       "\t phi24 & 1e-04 (0.0765)   & 0.0186 (0.0321)  & 0.0214 (0.0317)  & 0.0107 (0.0312) \\\\\n",
       "\t phi25 & 0.1513 (0.0675)  & 0.0108 (0.0102)  & 0.0095 (0.0246)  & -0.0117 (0.0308)\\\\\n",
       "\t phi26 & -0.1895 (0.0761) & -0.0291 (0.032)  & 0.1106 (0.0317)  & 0.1342 (0.0312) \\\\\n",
       "\t phi27 & -0.0245 (0.0675) & 5e-04 (0.0102)   & 0.0039 (0.0246)  & 0.0069 (0.0308) \\\\\n",
       "\t phi28 & -0.0801 (0.0761) & -0.0228 (0.032)  & 0.0086 (0.0314)  & 0.0093 (0.0313) \\\\\n",
       "\t a11   & 0.1746 (0.0438)  & 0.178 (0.0214)   & 0.191 (0.0287)   & 0.1797 (0.0143) \\\\\n",
       "\t a12   & 0.085 (0.0409)   & 0.0027 (0.0088)  & 0.0326 (0.0103)  & -0.0091 (0.0192)\\\\\n",
       "\t a21   & 0.0172 (0.0497)  & 0.0714 (0.0796)  & -0.0186 (0.0341) & -0.021 (0.014)  \\\\\n",
       "\t a22   & 0.1223 (0.0441)  & 0.1673 (0.023)   & 0.4631 (0.0212)  & 0.3674 (0.0236) \\\\\n",
       "\t g11   & 0.948 (0.011)    & 0.9804 (0.0049)  & 0.9621 (0.012)   & 0.9819 (0.003)  \\\\\n",
       "\t g12   & -0.0438 (0.0096) & -5e-04 (0.002)   & -0.0141 (0.0066) & 2e-04 (0.005)   \\\\\n",
       "\t g21   & 0.0363 (0.0137)  & -0.0072 (0.0221) & 0.0014 (0.0155)  & 0.0106 (0.0041) \\\\\n",
       "\t g22   & 1.019 (0.0115)   & 0.9803 (0.0056)  & 0.8867 (0.0086)  & 0.9275 (0.0073) \\\\\n",
       "\\end{tabular}\n"
      ],
      "text/markdown": [
       "\n",
       "A data.frame: 26 × 5\n",
       "\n",
       "| Parameters &lt;chr&gt; | BEKKC &lt;chr&gt; | BEKK2 &lt;chr&gt; | BEKK7 &lt;chr&gt; | BEKK8 &lt;chr&gt; |\n",
       "|---|---|---|---|---|\n",
       "| mu10  | 2e-04 (4e-04)    | 2e-04 (4e-04)    | 2e-04 (4e-04)    | 3e-04 (4e-04)    |\n",
       "| mu20  | 3e-04 (4e-04)    | 0 (1e-04)        | -9e-04 (4e-04)   | -7e-04 (4e-04)   |\n",
       "| phi11 | 0.0388 (0.0763)  | 0.0504 (0.0318)  | 0.0588 (0.031)   | 0.0589 (0.031)   |\n",
       "| phi12 | 0.0197 (0.0861)  | 0.0487 (0.0995)  | 0.0616 (0.0394)  | 0.0473 (0.0315)  |\n",
       "| phi13 | -0.0721 (0.0765) | -0.033 (0.0318)  | -0.0256 (0.0311) | -0.0539 (0.0311) |\n",
       "| phi14 | 0.0621 (0.0862)  | 0.1024 (0.0995)  | -0.0078 (0.0399) | -0.0037 (0.0315) |\n",
       "| phi15 | 0.1359 (0.0761)  | -0.0053 (0.0318) | 0.002 (0.0311)   | -0.0285 (0.0311) |\n",
       "| phi16 | -0.1659 (0.0858) | 0.0834 (0.0995)  | 0.013 (0.04)     | -6e-04 (0.0315)  |\n",
       "| phi17 | -0.0021 (0.0761) | -0.134 (0.0318)  | -0.1229 (0.031)  | -0.1073 (0.031)  |\n",
       "| phi18 | -0.1411 (0.0858) | 0.1331 (0.0993)  | -0.0119 (0.0396) | -0.0184 (0.0316) |\n",
       "| phi21 | 0.1083 (0.0677)  | 0.0103 (0.0102)  | -0.0051 (0.0246) | 0.0178 (0.0308)  |\n",
       "| phi22 | -0.0487 (0.0764) | -0.0369 (0.032)  | -0.1888 (0.0313) | -0.1096 (0.0312) |\n",
       "| phi23 | -0.0548 (0.0679) | 0.0094 (0.0102)  | 0.0103 (0.0246)  | -0.0067 (0.0308) |\n",
       "| phi24 | 1e-04 (0.0765)   | 0.0186 (0.0321)  | 0.0214 (0.0317)  | 0.0107 (0.0312)  |\n",
       "| phi25 | 0.1513 (0.0675)  | 0.0108 (0.0102)  | 0.0095 (0.0246)  | -0.0117 (0.0308) |\n",
       "| phi26 | -0.1895 (0.0761) | -0.0291 (0.032)  | 0.1106 (0.0317)  | 0.1342 (0.0312)  |\n",
       "| phi27 | -0.0245 (0.0675) | 5e-04 (0.0102)   | 0.0039 (0.0246)  | 0.0069 (0.0308)  |\n",
       "| phi28 | -0.0801 (0.0761) | -0.0228 (0.032)  | 0.0086 (0.0314)  | 0.0093 (0.0313)  |\n",
       "| a11   | 0.1746 (0.0438)  | 0.178 (0.0214)   | 0.191 (0.0287)   | 0.1797 (0.0143)  |\n",
       "| a12   | 0.085 (0.0409)   | 0.0027 (0.0088)  | 0.0326 (0.0103)  | -0.0091 (0.0192) |\n",
       "| a21   | 0.0172 (0.0497)  | 0.0714 (0.0796)  | -0.0186 (0.0341) | -0.021 (0.014)   |\n",
       "| a22   | 0.1223 (0.0441)  | 0.1673 (0.023)   | 0.4631 (0.0212)  | 0.3674 (0.0236)  |\n",
       "| g11   | 0.948 (0.011)    | 0.9804 (0.0049)  | 0.9621 (0.012)   | 0.9819 (0.003)   |\n",
       "| g12   | -0.0438 (0.0096) | -5e-04 (0.002)   | -0.0141 (0.0066) | 2e-04 (0.005)    |\n",
       "| g21   | 0.0363 (0.0137)  | -0.0072 (0.0221) | 0.0014 (0.0155)  | 0.0106 (0.0041)  |\n",
       "| g22   | 1.019 (0.0115)   | 0.9803 (0.0056)  | 0.8867 (0.0086)  | 0.9275 (0.0073)  |\n",
       "\n"
      ],
      "text/plain": [
       "   Parameters BEKKC            BEKK2            BEKK7           \n",
       "1  mu10       2e-04 (4e-04)    2e-04 (4e-04)    2e-04 (4e-04)   \n",
       "2  mu20       3e-04 (4e-04)    0 (1e-04)        -9e-04 (4e-04)  \n",
       "3  phi11      0.0388 (0.0763)  0.0504 (0.0318)  0.0588 (0.031)  \n",
       "4  phi12      0.0197 (0.0861)  0.0487 (0.0995)  0.0616 (0.0394) \n",
       "5  phi13      -0.0721 (0.0765) -0.033 (0.0318)  -0.0256 (0.0311)\n",
       "6  phi14      0.0621 (0.0862)  0.1024 (0.0995)  -0.0078 (0.0399)\n",
       "7  phi15      0.1359 (0.0761)  -0.0053 (0.0318) 0.002 (0.0311)  \n",
       "8  phi16      -0.1659 (0.0858) 0.0834 (0.0995)  0.013 (0.04)    \n",
       "9  phi17      -0.0021 (0.0761) -0.134 (0.0318)  -0.1229 (0.031) \n",
       "10 phi18      -0.1411 (0.0858) 0.1331 (0.0993)  -0.0119 (0.0396)\n",
       "11 phi21      0.1083 (0.0677)  0.0103 (0.0102)  -0.0051 (0.0246)\n",
       "12 phi22      -0.0487 (0.0764) -0.0369 (0.032)  -0.1888 (0.0313)\n",
       "13 phi23      -0.0548 (0.0679) 0.0094 (0.0102)  0.0103 (0.0246) \n",
       "14 phi24      1e-04 (0.0765)   0.0186 (0.0321)  0.0214 (0.0317) \n",
       "15 phi25      0.1513 (0.0675)  0.0108 (0.0102)  0.0095 (0.0246) \n",
       "16 phi26      -0.1895 (0.0761) -0.0291 (0.032)  0.1106 (0.0317) \n",
       "17 phi27      -0.0245 (0.0675) 5e-04 (0.0102)   0.0039 (0.0246) \n",
       "18 phi28      -0.0801 (0.0761) -0.0228 (0.032)  0.0086 (0.0314) \n",
       "19 a11        0.1746 (0.0438)  0.178 (0.0214)   0.191 (0.0287)  \n",
       "20 a12        0.085 (0.0409)   0.0027 (0.0088)  0.0326 (0.0103) \n",
       "21 a21        0.0172 (0.0497)  0.0714 (0.0796)  -0.0186 (0.0341)\n",
       "22 a22        0.1223 (0.0441)  0.1673 (0.023)   0.4631 (0.0212) \n",
       "23 g11        0.948 (0.011)    0.9804 (0.0049)  0.9621 (0.012)  \n",
       "24 g12        -0.0438 (0.0096) -5e-04 (0.002)   -0.0141 (0.0066)\n",
       "25 g21        0.0363 (0.0137)  -0.0072 (0.0221) 0.0014 (0.0155) \n",
       "26 g22        1.019 (0.0115)   0.9803 (0.0056)  0.8867 (0.0086) \n",
       "   BEKK8           \n",
       "1  3e-04 (4e-04)   \n",
       "2  -7e-04 (4e-04)  \n",
       "3  0.0589 (0.031)  \n",
       "4  0.0473 (0.0315) \n",
       "5  -0.0539 (0.0311)\n",
       "6  -0.0037 (0.0315)\n",
       "7  -0.0285 (0.0311)\n",
       "8  -6e-04 (0.0315) \n",
       "9  -0.1073 (0.031) \n",
       "10 -0.0184 (0.0316)\n",
       "11 0.0178 (0.0308) \n",
       "12 -0.1096 (0.0312)\n",
       "13 -0.0067 (0.0308)\n",
       "14 0.0107 (0.0312) \n",
       "15 -0.0117 (0.0308)\n",
       "16 0.1342 (0.0312) \n",
       "17 0.0069 (0.0308) \n",
       "18 0.0093 (0.0313) \n",
       "19 0.1797 (0.0143) \n",
       "20 -0.0091 (0.0192)\n",
       "21 -0.021 (0.014)  \n",
       "22 0.3674 (0.0236) \n",
       "23 0.9819 (0.003)  \n",
       "24 2e-04 (0.005)   \n",
       "25 0.0106 (0.0041) \n",
       "26 0.9275 (0.0073) "
      ]
     },
     "metadata": {},
     "output_type": "display_data"
    }
   ],
   "source": [
    "daily_bekk2"
   ]
  },
  {
   "cell_type": "markdown",
   "id": "5b33dba6-bf11-4842-bcda-f696a84a6eab",
   "metadata": {},
   "source": [
    "# Final VAR-BEKK Table for Period 2 (Table A.3)"
   ]
  },
  {
   "cell_type": "code",
   "execution_count": 96,
   "id": "82864bed-5f12-441d-b437-3608c55fe515",
   "metadata": {},
   "outputs": [
    {
     "data": {
      "text/html": [
       "<table class=\"dataframe\">\n",
       "<caption>A data.frame: 26 × 10</caption>\n",
       "<thead>\n",
       "\t<tr><th scope=col>Parameters</th><th scope=col>BEKKC</th><th scope=col>BEKK1</th><th scope=col>BEKK2</th><th scope=col>BEKK3</th><th scope=col>BEKK4</th><th scope=col>BEKK5</th><th scope=col>BEKK6</th><th scope=col>BEKK7</th><th scope=col>BEKK8</th></tr>\n",
       "\t<tr><th scope=col>&lt;chr&gt;</th><th scope=col>&lt;chr&gt;</th><th scope=col>&lt;chr&gt;</th><th scope=col>&lt;chr&gt;</th><th scope=col>&lt;chr&gt;</th><th scope=col>&lt;chr&gt;</th><th scope=col>&lt;chr&gt;</th><th scope=col>&lt;chr&gt;</th><th scope=col>&lt;chr&gt;</th><th scope=col>&lt;chr&gt;</th></tr>\n",
       "</thead>\n",
       "<tbody>\n",
       "\t<tr><td>mu10 </td><td>2e-04 (4e-04)   </td><td>2e-04 (4e-04)   </td><td>2e-04 (4e-04)   </td><td>2e-04 (4e-04)   </td><td>3e-04 (4e-04)   </td><td>3e-04 (4e-04)   </td><td>3e-04 (4e-04)   </td><td>2e-04 (4e-04)   </td><td>3e-04 (4e-04)   </td></tr>\n",
       "\t<tr><td>mu20 </td><td>3e-04 (4e-04)   </td><td>-2e-04 (2e-04)  </td><td>0 (1e-04)       </td><td>-1e-04 (2e-04)  </td><td>0 (1e-04)       </td><td>-2e-04 (1e-04)  </td><td>-1e-04 (2e-04)  </td><td>-9e-04 (4e-04)  </td><td>-7e-04 (4e-04)  </td></tr>\n",
       "\t<tr><td>phi11</td><td>0.0388 (0.0763) </td><td>0.0568 (0.0316) </td><td>0.0504 (0.0318) </td><td>0.0573 (0.0312) </td><td>0.0606 (0.031)  </td><td>0.0617 (0.0311) </td><td>0.0609 (0.031)  </td><td>0.0588 (0.031)  </td><td>0.0589 (0.031)  </td></tr>\n",
       "\t<tr><td>phi12</td><td>0.0197 (0.0861) </td><td>-0.0112 (0.0785)</td><td>0.0487 (0.0995) </td><td>-0.0223 (0.0559)</td><td>0.0806 (0.0863) </td><td>-0.0375 (0.0841)</td><td>-0.0094 (0.0531)</td><td>0.0616 (0.0394) </td><td>0.0473 (0.0315) </td></tr>\n",
       "\t<tr><td>phi13</td><td>-0.0721 (0.0765)</td><td>NA              </td><td>-0.033 (0.0318) </td><td>NA              </td><td>NA              </td><td>NA              </td><td>NA              </td><td>-0.0256 (0.0311)</td><td>-0.0539 (0.0311)</td></tr>\n",
       "\t<tr><td>phi14</td><td>0.0621 (0.0862) </td><td>NA              </td><td>0.1024 (0.0995) </td><td>NA              </td><td>NA              </td><td>NA              </td><td>NA              </td><td>-0.0078 (0.0399)</td><td>-0.0037 (0.0315)</td></tr>\n",
       "\t<tr><td>phi15</td><td>0.1359 (0.0761) </td><td>NA              </td><td>-0.0053 (0.0318)</td><td>NA              </td><td>NA              </td><td>NA              </td><td>NA              </td><td>0.002 (0.0311)  </td><td>-0.0285 (0.0311)</td></tr>\n",
       "\t<tr><td>phi16</td><td>-0.1659 (0.0858)</td><td>NA              </td><td>0.0834 (0.0995) </td><td>NA              </td><td>NA              </td><td>NA              </td><td>NA              </td><td>0.013 (0.04)    </td><td>-6e-04 (0.0315) </td></tr>\n",
       "\t<tr><td>phi17</td><td>-0.0021 (0.0761)</td><td>NA              </td><td>-0.134 (0.0318) </td><td>NA              </td><td>NA              </td><td>NA              </td><td>NA              </td><td>-0.1229 (0.031) </td><td>-0.1073 (0.031) </td></tr>\n",
       "\t<tr><td>phi18</td><td>-0.1411 (0.0858)</td><td>NA              </td><td>0.1331 (0.0993) </td><td>NA              </td><td>NA              </td><td>NA              </td><td>NA              </td><td>-0.0119 (0.0396)</td><td>-0.0184 (0.0316)</td></tr>\n",
       "\t<tr><td>phi21</td><td>0.1083 (0.0677) </td><td>0.0117 (0.0127) </td><td>0.0103 (0.0102) </td><td>0.0106 (0.0174) </td><td>-0.0042 (0.0112)</td><td>-0.0046 (0.0115)</td><td>-0.006 (0.0182) </td><td>-0.0051 (0.0246)</td><td>0.0178 (0.0308) </td></tr>\n",
       "\t<tr><td>phi22</td><td>-0.0487 (0.0764)</td><td>-0.0406 (0.0315)</td><td>-0.0369 (0.032) </td><td>-0.0169 (0.0312)</td><td>-0.029 (0.031)  </td><td>-0.0105 (0.0311)</td><td>-0.011 (0.0311) </td><td>-0.1888 (0.0313)</td><td>-0.1096 (0.0312)</td></tr>\n",
       "\t<tr><td>phi23</td><td>-0.0548 (0.0679)</td><td>NA              </td><td>0.0094 (0.0102) </td><td>NA              </td><td>NA              </td><td>NA              </td><td>NA              </td><td>0.0103 (0.0246) </td><td>-0.0067 (0.0308)</td></tr>\n",
       "\t<tr><td>phi24</td><td>1e-04 (0.0765)  </td><td>NA              </td><td>0.0186 (0.0321) </td><td>NA              </td><td>NA              </td><td>NA              </td><td>NA              </td><td>0.0214 (0.0317) </td><td>0.0107 (0.0312) </td></tr>\n",
       "\t<tr><td>phi25</td><td>0.1513 (0.0675) </td><td>NA              </td><td>0.0108 (0.0102) </td><td>NA              </td><td>NA              </td><td>NA              </td><td>NA              </td><td>0.0095 (0.0246) </td><td>-0.0117 (0.0308)</td></tr>\n",
       "\t<tr><td>phi26</td><td>-0.1895 (0.0761)</td><td>NA              </td><td>-0.0291 (0.032) </td><td>NA              </td><td>NA              </td><td>NA              </td><td>NA              </td><td>0.1106 (0.0317) </td><td>0.1342 (0.0312) </td></tr>\n",
       "\t<tr><td>phi27</td><td>-0.0245 (0.0675)</td><td>NA              </td><td>5e-04 (0.0102)  </td><td>NA              </td><td>NA              </td><td>NA              </td><td>NA              </td><td>0.0039 (0.0246) </td><td>0.0069 (0.0308) </td></tr>\n",
       "\t<tr><td>phi28</td><td>-0.0801 (0.0761)</td><td>NA              </td><td>-0.0228 (0.032) </td><td>NA              </td><td>NA              </td><td>NA              </td><td>NA              </td><td>0.0086 (0.0314) </td><td>0.0093 (0.0313) </td></tr>\n",
       "\t<tr><td>a11  </td><td>0.1746 (0.0438) </td><td>0.1756 (0.0192) </td><td>0.178 (0.0214)  </td><td>0.1912 (0.0248) </td><td>0.2008 (0.0162) </td><td>0.1921 (0.0148) </td><td>0.2382 (0.0308) </td><td>0.191 (0.0287)  </td><td>0.1797 (0.0143) </td></tr>\n",
       "\t<tr><td>a12  </td><td>0.085 (0.0409)  </td><td>-0.011 (0.0109) </td><td>0.0027 (0.0088) </td><td>-0.0064 (0.0479)</td><td>-0.0022 (0.0092)</td><td>-0.01 (0.0083)  </td><td>-0.0115 (0.0508)</td><td>0.0326 (0.0103) </td><td>-0.0091 (0.0192)</td></tr>\n",
       "\t<tr><td>a21  </td><td>0.0172 (0.0497) </td><td>0.0425 (0.0498) </td><td>0.0714 (0.0796) </td><td>0.0262 (0.0396) </td><td>-0.0163 (0.0634)</td><td>-0.0262 (0.0596)</td><td>-0.0124 (0.035) </td><td>-0.0186 (0.0341)</td><td>-0.021 (0.014)  </td></tr>\n",
       "\t<tr><td>a22  </td><td>0.1223 (0.0441) </td><td>0.1964 (0.0213) </td><td>0.1673 (0.023)  </td><td>0.0627 (0.0497) </td><td>0.1701 (0.0211) </td><td>0.2175 (0.0226) </td><td>0.0634 (0.0506) </td><td>0.4631 (0.0212) </td><td>0.3674 (0.0236) </td></tr>\n",
       "\t<tr><td>g11  </td><td>0.948 (0.011)   </td><td>0.981 (0.0046)  </td><td>0.9804 (0.0049) </td><td>0.9782 (0.0112) </td><td>0.9763 (0.0039) </td><td>0.9785 (0.0032) </td><td>0.965 (0.0122)  </td><td>0.9621 (0.012)  </td><td>0.9819 (0.003)  </td></tr>\n",
       "\t<tr><td>g12  </td><td>-0.0438 (0.0096)</td><td>0.0027 (0.0022) </td><td>-5e-04 (0.002)  </td><td>0.0084 (0.0155) </td><td>1e-04 (0.0021)  </td><td>0.0022 (0.0019) </td><td>0.0024 (0.0175) </td><td>-0.0141 (0.0066)</td><td>2e-04 (0.005)   </td></tr>\n",
       "\t<tr><td>g21  </td><td>0.0363 (0.0137) </td><td>-0.0077 (0.0132)</td><td>-0.0072 (0.0221)</td><td>0.002 (0.1193)  </td><td>-0.0013 (0.0175)</td><td>0.0124 (0.0173) </td><td>0.0822 (0.116)  </td><td>0.0014 (0.0155) </td><td>0.0106 (0.0041) </td></tr>\n",
       "\t<tr><td>g22  </td><td>1.019 (0.0115)  </td><td>0.9771 (0.0049) </td><td>0.9803 (0.0056) </td><td>0.8903 (0.1271) </td><td>0.98 (0.0049)   </td><td>0.9686 (0.0067) </td><td>0.8799 (0.1579) </td><td>0.8867 (0.0086) </td><td>0.9275 (0.0073) </td></tr>\n",
       "</tbody>\n",
       "</table>\n"
      ],
      "text/latex": [
       "A data.frame: 26 × 10\n",
       "\\begin{tabular}{llllllllll}\n",
       " Parameters & BEKKC & BEKK1 & BEKK2 & BEKK3 & BEKK4 & BEKK5 & BEKK6 & BEKK7 & BEKK8\\\\\n",
       " <chr> & <chr> & <chr> & <chr> & <chr> & <chr> & <chr> & <chr> & <chr> & <chr>\\\\\n",
       "\\hline\n",
       "\t mu10  & 2e-04 (4e-04)    & 2e-04 (4e-04)    & 2e-04 (4e-04)    & 2e-04 (4e-04)    & 3e-04 (4e-04)    & 3e-04 (4e-04)    & 3e-04 (4e-04)    & 2e-04 (4e-04)    & 3e-04 (4e-04)   \\\\\n",
       "\t mu20  & 3e-04 (4e-04)    & -2e-04 (2e-04)   & 0 (1e-04)        & -1e-04 (2e-04)   & 0 (1e-04)        & -2e-04 (1e-04)   & -1e-04 (2e-04)   & -9e-04 (4e-04)   & -7e-04 (4e-04)  \\\\\n",
       "\t phi11 & 0.0388 (0.0763)  & 0.0568 (0.0316)  & 0.0504 (0.0318)  & 0.0573 (0.0312)  & 0.0606 (0.031)   & 0.0617 (0.0311)  & 0.0609 (0.031)   & 0.0588 (0.031)   & 0.0589 (0.031)  \\\\\n",
       "\t phi12 & 0.0197 (0.0861)  & -0.0112 (0.0785) & 0.0487 (0.0995)  & -0.0223 (0.0559) & 0.0806 (0.0863)  & -0.0375 (0.0841) & -0.0094 (0.0531) & 0.0616 (0.0394)  & 0.0473 (0.0315) \\\\\n",
       "\t phi13 & -0.0721 (0.0765) & NA               & -0.033 (0.0318)  & NA               & NA               & NA               & NA               & -0.0256 (0.0311) & -0.0539 (0.0311)\\\\\n",
       "\t phi14 & 0.0621 (0.0862)  & NA               & 0.1024 (0.0995)  & NA               & NA               & NA               & NA               & -0.0078 (0.0399) & -0.0037 (0.0315)\\\\\n",
       "\t phi15 & 0.1359 (0.0761)  & NA               & -0.0053 (0.0318) & NA               & NA               & NA               & NA               & 0.002 (0.0311)   & -0.0285 (0.0311)\\\\\n",
       "\t phi16 & -0.1659 (0.0858) & NA               & 0.0834 (0.0995)  & NA               & NA               & NA               & NA               & 0.013 (0.04)     & -6e-04 (0.0315) \\\\\n",
       "\t phi17 & -0.0021 (0.0761) & NA               & -0.134 (0.0318)  & NA               & NA               & NA               & NA               & -0.1229 (0.031)  & -0.1073 (0.031) \\\\\n",
       "\t phi18 & -0.1411 (0.0858) & NA               & 0.1331 (0.0993)  & NA               & NA               & NA               & NA               & -0.0119 (0.0396) & -0.0184 (0.0316)\\\\\n",
       "\t phi21 & 0.1083 (0.0677)  & 0.0117 (0.0127)  & 0.0103 (0.0102)  & 0.0106 (0.0174)  & -0.0042 (0.0112) & -0.0046 (0.0115) & -0.006 (0.0182)  & -0.0051 (0.0246) & 0.0178 (0.0308) \\\\\n",
       "\t phi22 & -0.0487 (0.0764) & -0.0406 (0.0315) & -0.0369 (0.032)  & -0.0169 (0.0312) & -0.029 (0.031)   & -0.0105 (0.0311) & -0.011 (0.0311)  & -0.1888 (0.0313) & -0.1096 (0.0312)\\\\\n",
       "\t phi23 & -0.0548 (0.0679) & NA               & 0.0094 (0.0102)  & NA               & NA               & NA               & NA               & 0.0103 (0.0246)  & -0.0067 (0.0308)\\\\\n",
       "\t phi24 & 1e-04 (0.0765)   & NA               & 0.0186 (0.0321)  & NA               & NA               & NA               & NA               & 0.0214 (0.0317)  & 0.0107 (0.0312) \\\\\n",
       "\t phi25 & 0.1513 (0.0675)  & NA               & 0.0108 (0.0102)  & NA               & NA               & NA               & NA               & 0.0095 (0.0246)  & -0.0117 (0.0308)\\\\\n",
       "\t phi26 & -0.1895 (0.0761) & NA               & -0.0291 (0.032)  & NA               & NA               & NA               & NA               & 0.1106 (0.0317)  & 0.1342 (0.0312) \\\\\n",
       "\t phi27 & -0.0245 (0.0675) & NA               & 5e-04 (0.0102)   & NA               & NA               & NA               & NA               & 0.0039 (0.0246)  & 0.0069 (0.0308) \\\\\n",
       "\t phi28 & -0.0801 (0.0761) & NA               & -0.0228 (0.032)  & NA               & NA               & NA               & NA               & 0.0086 (0.0314)  & 0.0093 (0.0313) \\\\\n",
       "\t a11   & 0.1746 (0.0438)  & 0.1756 (0.0192)  & 0.178 (0.0214)   & 0.1912 (0.0248)  & 0.2008 (0.0162)  & 0.1921 (0.0148)  & 0.2382 (0.0308)  & 0.191 (0.0287)   & 0.1797 (0.0143) \\\\\n",
       "\t a12   & 0.085 (0.0409)   & -0.011 (0.0109)  & 0.0027 (0.0088)  & -0.0064 (0.0479) & -0.0022 (0.0092) & -0.01 (0.0083)   & -0.0115 (0.0508) & 0.0326 (0.0103)  & -0.0091 (0.0192)\\\\\n",
       "\t a21   & 0.0172 (0.0497)  & 0.0425 (0.0498)  & 0.0714 (0.0796)  & 0.0262 (0.0396)  & -0.0163 (0.0634) & -0.0262 (0.0596) & -0.0124 (0.035)  & -0.0186 (0.0341) & -0.021 (0.014)  \\\\\n",
       "\t a22   & 0.1223 (0.0441)  & 0.1964 (0.0213)  & 0.1673 (0.023)   & 0.0627 (0.0497)  & 0.1701 (0.0211)  & 0.2175 (0.0226)  & 0.0634 (0.0506)  & 0.4631 (0.0212)  & 0.3674 (0.0236) \\\\\n",
       "\t g11   & 0.948 (0.011)    & 0.981 (0.0046)   & 0.9804 (0.0049)  & 0.9782 (0.0112)  & 0.9763 (0.0039)  & 0.9785 (0.0032)  & 0.965 (0.0122)   & 0.9621 (0.012)   & 0.9819 (0.003)  \\\\\n",
       "\t g12   & -0.0438 (0.0096) & 0.0027 (0.0022)  & -5e-04 (0.002)   & 0.0084 (0.0155)  & 1e-04 (0.0021)   & 0.0022 (0.0019)  & 0.0024 (0.0175)  & -0.0141 (0.0066) & 2e-04 (0.005)   \\\\\n",
       "\t g21   & 0.0363 (0.0137)  & -0.0077 (0.0132) & -0.0072 (0.0221) & 0.002 (0.1193)   & -0.0013 (0.0175) & 0.0124 (0.0173)  & 0.0822 (0.116)   & 0.0014 (0.0155)  & 0.0106 (0.0041) \\\\\n",
       "\t g22   & 1.019 (0.0115)   & 0.9771 (0.0049)  & 0.9803 (0.0056)  & 0.8903 (0.1271)  & 0.98 (0.0049)    & 0.9686 (0.0067)  & 0.8799 (0.1579)  & 0.8867 (0.0086)  & 0.9275 (0.0073) \\\\\n",
       "\\end{tabular}\n"
      ],
      "text/markdown": [
       "\n",
       "A data.frame: 26 × 10\n",
       "\n",
       "| Parameters &lt;chr&gt; | BEKKC &lt;chr&gt; | BEKK1 &lt;chr&gt; | BEKK2 &lt;chr&gt; | BEKK3 &lt;chr&gt; | BEKK4 &lt;chr&gt; | BEKK5 &lt;chr&gt; | BEKK6 &lt;chr&gt; | BEKK7 &lt;chr&gt; | BEKK8 &lt;chr&gt; |\n",
       "|---|---|---|---|---|---|---|---|---|---|\n",
       "| mu10  | 2e-04 (4e-04)    | 2e-04 (4e-04)    | 2e-04 (4e-04)    | 2e-04 (4e-04)    | 3e-04 (4e-04)    | 3e-04 (4e-04)    | 3e-04 (4e-04)    | 2e-04 (4e-04)    | 3e-04 (4e-04)    |\n",
       "| mu20  | 3e-04 (4e-04)    | -2e-04 (2e-04)   | 0 (1e-04)        | -1e-04 (2e-04)   | 0 (1e-04)        | -2e-04 (1e-04)   | -1e-04 (2e-04)   | -9e-04 (4e-04)   | -7e-04 (4e-04)   |\n",
       "| phi11 | 0.0388 (0.0763)  | 0.0568 (0.0316)  | 0.0504 (0.0318)  | 0.0573 (0.0312)  | 0.0606 (0.031)   | 0.0617 (0.0311)  | 0.0609 (0.031)   | 0.0588 (0.031)   | 0.0589 (0.031)   |\n",
       "| phi12 | 0.0197 (0.0861)  | -0.0112 (0.0785) | 0.0487 (0.0995)  | -0.0223 (0.0559) | 0.0806 (0.0863)  | -0.0375 (0.0841) | -0.0094 (0.0531) | 0.0616 (0.0394)  | 0.0473 (0.0315)  |\n",
       "| phi13 | -0.0721 (0.0765) | NA               | -0.033 (0.0318)  | NA               | NA               | NA               | NA               | -0.0256 (0.0311) | -0.0539 (0.0311) |\n",
       "| phi14 | 0.0621 (0.0862)  | NA               | 0.1024 (0.0995)  | NA               | NA               | NA               | NA               | -0.0078 (0.0399) | -0.0037 (0.0315) |\n",
       "| phi15 | 0.1359 (0.0761)  | NA               | -0.0053 (0.0318) | NA               | NA               | NA               | NA               | 0.002 (0.0311)   | -0.0285 (0.0311) |\n",
       "| phi16 | -0.1659 (0.0858) | NA               | 0.0834 (0.0995)  | NA               | NA               | NA               | NA               | 0.013 (0.04)     | -6e-04 (0.0315)  |\n",
       "| phi17 | -0.0021 (0.0761) | NA               | -0.134 (0.0318)  | NA               | NA               | NA               | NA               | -0.1229 (0.031)  | -0.1073 (0.031)  |\n",
       "| phi18 | -0.1411 (0.0858) | NA               | 0.1331 (0.0993)  | NA               | NA               | NA               | NA               | -0.0119 (0.0396) | -0.0184 (0.0316) |\n",
       "| phi21 | 0.1083 (0.0677)  | 0.0117 (0.0127)  | 0.0103 (0.0102)  | 0.0106 (0.0174)  | -0.0042 (0.0112) | -0.0046 (0.0115) | -0.006 (0.0182)  | -0.0051 (0.0246) | 0.0178 (0.0308)  |\n",
       "| phi22 | -0.0487 (0.0764) | -0.0406 (0.0315) | -0.0369 (0.032)  | -0.0169 (0.0312) | -0.029 (0.031)   | -0.0105 (0.0311) | -0.011 (0.0311)  | -0.1888 (0.0313) | -0.1096 (0.0312) |\n",
       "| phi23 | -0.0548 (0.0679) | NA               | 0.0094 (0.0102)  | NA               | NA               | NA               | NA               | 0.0103 (0.0246)  | -0.0067 (0.0308) |\n",
       "| phi24 | 1e-04 (0.0765)   | NA               | 0.0186 (0.0321)  | NA               | NA               | NA               | NA               | 0.0214 (0.0317)  | 0.0107 (0.0312)  |\n",
       "| phi25 | 0.1513 (0.0675)  | NA               | 0.0108 (0.0102)  | NA               | NA               | NA               | NA               | 0.0095 (0.0246)  | -0.0117 (0.0308) |\n",
       "| phi26 | -0.1895 (0.0761) | NA               | -0.0291 (0.032)  | NA               | NA               | NA               | NA               | 0.1106 (0.0317)  | 0.1342 (0.0312)  |\n",
       "| phi27 | -0.0245 (0.0675) | NA               | 5e-04 (0.0102)   | NA               | NA               | NA               | NA               | 0.0039 (0.0246)  | 0.0069 (0.0308)  |\n",
       "| phi28 | -0.0801 (0.0761) | NA               | -0.0228 (0.032)  | NA               | NA               | NA               | NA               | 0.0086 (0.0314)  | 0.0093 (0.0313)  |\n",
       "| a11   | 0.1746 (0.0438)  | 0.1756 (0.0192)  | 0.178 (0.0214)   | 0.1912 (0.0248)  | 0.2008 (0.0162)  | 0.1921 (0.0148)  | 0.2382 (0.0308)  | 0.191 (0.0287)   | 0.1797 (0.0143)  |\n",
       "| a12   | 0.085 (0.0409)   | -0.011 (0.0109)  | 0.0027 (0.0088)  | -0.0064 (0.0479) | -0.0022 (0.0092) | -0.01 (0.0083)   | -0.0115 (0.0508) | 0.0326 (0.0103)  | -0.0091 (0.0192) |\n",
       "| a21   | 0.0172 (0.0497)  | 0.0425 (0.0498)  | 0.0714 (0.0796)  | 0.0262 (0.0396)  | -0.0163 (0.0634) | -0.0262 (0.0596) | -0.0124 (0.035)  | -0.0186 (0.0341) | -0.021 (0.014)   |\n",
       "| a22   | 0.1223 (0.0441)  | 0.1964 (0.0213)  | 0.1673 (0.023)   | 0.0627 (0.0497)  | 0.1701 (0.0211)  | 0.2175 (0.0226)  | 0.0634 (0.0506)  | 0.4631 (0.0212)  | 0.3674 (0.0236)  |\n",
       "| g11   | 0.948 (0.011)    | 0.981 (0.0046)   | 0.9804 (0.0049)  | 0.9782 (0.0112)  | 0.9763 (0.0039)  | 0.9785 (0.0032)  | 0.965 (0.0122)   | 0.9621 (0.012)   | 0.9819 (0.003)   |\n",
       "| g12   | -0.0438 (0.0096) | 0.0027 (0.0022)  | -5e-04 (0.002)   | 0.0084 (0.0155)  | 1e-04 (0.0021)   | 0.0022 (0.0019)  | 0.0024 (0.0175)  | -0.0141 (0.0066) | 2e-04 (0.005)    |\n",
       "| g21   | 0.0363 (0.0137)  | -0.0077 (0.0132) | -0.0072 (0.0221) | 0.002 (0.1193)   | -0.0013 (0.0175) | 0.0124 (0.0173)  | 0.0822 (0.116)   | 0.0014 (0.0155)  | 0.0106 (0.0041)  |\n",
       "| g22   | 1.019 (0.0115)   | 0.9771 (0.0049)  | 0.9803 (0.0056)  | 0.8903 (0.1271)  | 0.98 (0.0049)    | 0.9686 (0.0067)  | 0.8799 (0.1579)  | 0.8867 (0.0086)  | 0.9275 (0.0073)  |\n",
       "\n"
      ],
      "text/plain": [
       "   Parameters BEKKC            BEKK1            BEKK2           \n",
       "1  mu10       2e-04 (4e-04)    2e-04 (4e-04)    2e-04 (4e-04)   \n",
       "2  mu20       3e-04 (4e-04)    -2e-04 (2e-04)   0 (1e-04)       \n",
       "3  phi11      0.0388 (0.0763)  0.0568 (0.0316)  0.0504 (0.0318) \n",
       "4  phi12      0.0197 (0.0861)  -0.0112 (0.0785) 0.0487 (0.0995) \n",
       "5  phi13      -0.0721 (0.0765) NA               -0.033 (0.0318) \n",
       "6  phi14      0.0621 (0.0862)  NA               0.1024 (0.0995) \n",
       "7  phi15      0.1359 (0.0761)  NA               -0.0053 (0.0318)\n",
       "8  phi16      -0.1659 (0.0858) NA               0.0834 (0.0995) \n",
       "9  phi17      -0.0021 (0.0761) NA               -0.134 (0.0318) \n",
       "10 phi18      -0.1411 (0.0858) NA               0.1331 (0.0993) \n",
       "11 phi21      0.1083 (0.0677)  0.0117 (0.0127)  0.0103 (0.0102) \n",
       "12 phi22      -0.0487 (0.0764) -0.0406 (0.0315) -0.0369 (0.032) \n",
       "13 phi23      -0.0548 (0.0679) NA               0.0094 (0.0102) \n",
       "14 phi24      1e-04 (0.0765)   NA               0.0186 (0.0321) \n",
       "15 phi25      0.1513 (0.0675)  NA               0.0108 (0.0102) \n",
       "16 phi26      -0.1895 (0.0761) NA               -0.0291 (0.032) \n",
       "17 phi27      -0.0245 (0.0675) NA               5e-04 (0.0102)  \n",
       "18 phi28      -0.0801 (0.0761) NA               -0.0228 (0.032) \n",
       "19 a11        0.1746 (0.0438)  0.1756 (0.0192)  0.178 (0.0214)  \n",
       "20 a12        0.085 (0.0409)   -0.011 (0.0109)  0.0027 (0.0088) \n",
       "21 a21        0.0172 (0.0497)  0.0425 (0.0498)  0.0714 (0.0796) \n",
       "22 a22        0.1223 (0.0441)  0.1964 (0.0213)  0.1673 (0.023)  \n",
       "23 g11        0.948 (0.011)    0.981 (0.0046)   0.9804 (0.0049) \n",
       "24 g12        -0.0438 (0.0096) 0.0027 (0.0022)  -5e-04 (0.002)  \n",
       "25 g21        0.0363 (0.0137)  -0.0077 (0.0132) -0.0072 (0.0221)\n",
       "26 g22        1.019 (0.0115)   0.9771 (0.0049)  0.9803 (0.0056) \n",
       "   BEKK3            BEKK4            BEKK5            BEKK6           \n",
       "1  2e-04 (4e-04)    3e-04 (4e-04)    3e-04 (4e-04)    3e-04 (4e-04)   \n",
       "2  -1e-04 (2e-04)   0 (1e-04)        -2e-04 (1e-04)   -1e-04 (2e-04)  \n",
       "3  0.0573 (0.0312)  0.0606 (0.031)   0.0617 (0.0311)  0.0609 (0.031)  \n",
       "4  -0.0223 (0.0559) 0.0806 (0.0863)  -0.0375 (0.0841) -0.0094 (0.0531)\n",
       "5  NA               NA               NA               NA              \n",
       "6  NA               NA               NA               NA              \n",
       "7  NA               NA               NA               NA              \n",
       "8  NA               NA               NA               NA              \n",
       "9  NA               NA               NA               NA              \n",
       "10 NA               NA               NA               NA              \n",
       "11 0.0106 (0.0174)  -0.0042 (0.0112) -0.0046 (0.0115) -0.006 (0.0182) \n",
       "12 -0.0169 (0.0312) -0.029 (0.031)   -0.0105 (0.0311) -0.011 (0.0311) \n",
       "13 NA               NA               NA               NA              \n",
       "14 NA               NA               NA               NA              \n",
       "15 NA               NA               NA               NA              \n",
       "16 NA               NA               NA               NA              \n",
       "17 NA               NA               NA               NA              \n",
       "18 NA               NA               NA               NA              \n",
       "19 0.1912 (0.0248)  0.2008 (0.0162)  0.1921 (0.0148)  0.2382 (0.0308) \n",
       "20 -0.0064 (0.0479) -0.0022 (0.0092) -0.01 (0.0083)   -0.0115 (0.0508)\n",
       "21 0.0262 (0.0396)  -0.0163 (0.0634) -0.0262 (0.0596) -0.0124 (0.035) \n",
       "22 0.0627 (0.0497)  0.1701 (0.0211)  0.2175 (0.0226)  0.0634 (0.0506) \n",
       "23 0.9782 (0.0112)  0.9763 (0.0039)  0.9785 (0.0032)  0.965 (0.0122)  \n",
       "24 0.0084 (0.0155)  1e-04 (0.0021)   0.0022 (0.0019)  0.0024 (0.0175) \n",
       "25 0.002 (0.1193)   -0.0013 (0.0175) 0.0124 (0.0173)  0.0822 (0.116)  \n",
       "26 0.8903 (0.1271)  0.98 (0.0049)    0.9686 (0.0067)  0.8799 (0.1579) \n",
       "   BEKK7            BEKK8           \n",
       "1  2e-04 (4e-04)    3e-04 (4e-04)   \n",
       "2  -9e-04 (4e-04)   -7e-04 (4e-04)  \n",
       "3  0.0588 (0.031)   0.0589 (0.031)  \n",
       "4  0.0616 (0.0394)  0.0473 (0.0315) \n",
       "5  -0.0256 (0.0311) -0.0539 (0.0311)\n",
       "6  -0.0078 (0.0399) -0.0037 (0.0315)\n",
       "7  0.002 (0.0311)   -0.0285 (0.0311)\n",
       "8  0.013 (0.04)     -6e-04 (0.0315) \n",
       "9  -0.1229 (0.031)  -0.1073 (0.031) \n",
       "10 -0.0119 (0.0396) -0.0184 (0.0316)\n",
       "11 -0.0051 (0.0246) 0.0178 (0.0308) \n",
       "12 -0.1888 (0.0313) -0.1096 (0.0312)\n",
       "13 0.0103 (0.0246)  -0.0067 (0.0308)\n",
       "14 0.0214 (0.0317)  0.0107 (0.0312) \n",
       "15 0.0095 (0.0246)  -0.0117 (0.0308)\n",
       "16 0.1106 (0.0317)  0.1342 (0.0312) \n",
       "17 0.0039 (0.0246)  0.0069 (0.0308) \n",
       "18 0.0086 (0.0314)  0.0093 (0.0313) \n",
       "19 0.191 (0.0287)   0.1797 (0.0143) \n",
       "20 0.0326 (0.0103)  -0.0091 (0.0192)\n",
       "21 -0.0186 (0.0341) -0.021 (0.014)  \n",
       "22 0.4631 (0.0212)  0.3674 (0.0236) \n",
       "23 0.9621 (0.012)   0.9819 (0.003)  \n",
       "24 -0.0141 (0.0066) 2e-04 (0.005)   \n",
       "25 0.0014 (0.0155)  0.0106 (0.0041) \n",
       "26 0.8867 (0.0086)  0.9275 (0.0073) "
      ]
     },
     "metadata": {},
     "output_type": "display_data"
    }
   ],
   "source": [
    "daily_bekk <- data.frame(\"Parameters\" = parameters2,\n",
    "                         \"BEKKC\"=bekk_c,\n",
    "                         \"BEKK1\"=c(bekk_1[1:4],rep(NA,6),bekk_1[5:6],rep(NA,6),bekk_1[7:14]),\n",
    "                         \"BEKK2\"=bekk_2,\n",
    "                          \"BEKK3\"=c(bekk_3[1:4],rep(NA,6),bekk_3[5:6],rep(NA,6),bekk_3[7:14]),\n",
    "                          \"BEKK4\"=c(bekk_4[1:4],rep(NA,6),bekk_4[5:6],rep(NA,6),bekk_4[7:14]),\n",
    "                         \"BEKK5\"=c(bekk_5[1:4],rep(NA,6),bekk_5[5:6],rep(NA,6),bekk_5[7:14]),\n",
    "                          \"BEKK6\"=c(bekk_6[1:4],rep(NA,6),bekk_6[5:6],rep(NA,6),bekk_6[7:14]),\n",
    "                         \"BEKK7\" = bekk_7,\n",
    "                         \"BEKK8\" = bekk_8)\n",
    "daily_bekk"
   ]
  },
  {
   "cell_type": "code",
   "execution_count": null,
   "id": "3587e0c4-651a-4369-9e0d-8338d6ff0cfb",
   "metadata": {},
   "outputs": [],
   "source": []
  }
 ],
 "metadata": {
  "kernelspec": {
   "display_name": "R",
   "language": "R",
   "name": "ir"
  },
  "language_info": {
   "codemirror_mode": "r",
   "file_extension": ".r",
   "mimetype": "text/x-r-source",
   "name": "R",
   "pygments_lexer": "r",
   "version": "4.3.3"
  }
 },
 "nbformat": 4,
 "nbformat_minor": 5
}
