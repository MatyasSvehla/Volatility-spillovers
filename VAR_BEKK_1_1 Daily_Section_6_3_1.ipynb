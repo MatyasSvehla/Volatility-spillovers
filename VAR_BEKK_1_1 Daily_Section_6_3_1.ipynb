{
 "cells": [
  {
   "cell_type": "markdown",
   "id": "f8a27e59-79e8-4eec-bffb-c673c38494ff",
   "metadata": {},
   "source": [
    "# Chapter 6"
   ]
  },
  {
   "cell_type": "markdown",
   "id": "e7cde358-70fc-45e0-b045-50ee36c37e15",
   "metadata": {},
   "source": [
    "# Section 6.3.2: Full Sample Analysis(daily data)"
   ]
  },
  {
   "cell_type": "markdown",
   "id": "e1b84590-1da3-4cef-9cc7-5ea3ef1b5150",
   "metadata": {},
   "source": [
    "# VAR-BEKK Model for daily data (Section 6.3.1)"
   ]
  },
  {
   "cell_type": "code",
   "execution_count": 1,
   "id": "4a8710cd-d995-4ea2-ba52-cdb67fc385d2",
   "metadata": {},
   "outputs": [
    {
     "name": "stderr",
     "output_type": "stream",
     "text": [
      "Loading required package: zoo\n",
      "\n",
      "\n",
      "Attaching package: ‘zoo’\n",
      "\n",
      "\n",
      "The following objects are masked from ‘package:base’:\n",
      "\n",
      "    as.Date, as.Date.numeric\n",
      "\n",
      "\n",
      "\n",
      "Attaching package: ‘MTS’\n",
      "\n",
      "\n",
      "The following object is masked from ‘package:BEKKs’:\n",
      "\n",
      "    backtest\n",
      "\n",
      "\n",
      "Loading required package: MASS\n",
      "\n",
      "Loading required package: strucchange\n",
      "\n",
      "Loading required package: sandwich\n",
      "\n",
      "Loading required package: urca\n",
      "\n",
      "Loading required package: lmtest\n",
      "\n",
      "\n",
      "Attaching package: ‘vars’\n",
      "\n",
      "\n",
      "The following object is masked from ‘package:MTS’:\n",
      "\n",
      "    VAR\n",
      "\n",
      "\n",
      "\n",
      "Please cite as: \n",
      "\n",
      "\n",
      " Hlavac, Marek (2022). stargazer: Well-Formatted Regression and Summary Statistics Tables.\n",
      "\n",
      " R package version 5.2.3. https://CRAN.R-project.org/package=stargazer \n",
      "\n",
      "\n"
     ]
    }
   ],
   "source": [
    "library(xts)\n",
    "library(BEKKs)\n",
    "library(MTS)\n",
    "library(vars)\n",
    "library(stargazer)\n",
    "options(repr.plot.width = 20)"
   ]
  },
  {
   "cell_type": "markdown",
   "id": "04c89f94-5c38-41a4-b0ae-819eeceafdb1",
   "metadata": {},
   "source": [
    "# Dataset preperation"
   ]
  },
  {
   "cell_type": "code",
   "execution_count": 2,
   "id": "f1af395b-cb13-411b-9e5d-aa41ad3f3d0b",
   "metadata": {},
   "outputs": [],
   "source": [
    "fr_d <- readRDS(\"fr_d.Rds\")\n",
    "fp_d <- readRDS(\"fp_d.Rds\")\n",
    "cr_d <- readRDS(\"cr_d.Rds\")\n",
    "cp_d <- readRDS(\"cp_d.Rds\")"
   ]
  },
  {
   "cell_type": "code",
   "execution_count": 3,
   "id": "83900b8b-4a02-430b-beb5-d8dccce8870c",
   "metadata": {},
   "outputs": [
    {
     "name": "stdout",
     "output_type": "stream",
     "text": [
      "An xts object on 2007-07-06 / 2024-05-03 containing: \n",
      "  Data:    double [4175, 10]\n",
      "  Columns: US Cocoa, London Cocoa, EURUSD, GBPUSD, CHFUSD ... with 5 more columns\n",
      "  Index:   Date [4175] (TZ: \"UTC\")\n",
      "  xts Attributes:\n",
      "    $ na.action       : 'omit' int [1:216] 37 42 100 101 122 123 124 128 142 162 ...\n",
      "  ..- attr(*, \"index\")= num [1:216] 1.19e+09 1.19e+09 1.20e+09 1.20e+09 1.20e+09 ...\n",
      "    $ ret_type        : chr \"log\"\n",
      "    $ coredata_content: chr \"logReturn\"\n"
     ]
    }
   ],
   "source": [
    "d <- na.omit(merge(cr_d,fr_d))\n",
    "colnames(d) <- c(\"US Cocoa\",\"London Cocoa\",\"EURUSD\",\"GBPUSD\",\"CHFUSD\",\"USDGBP\",\"EURGBP\",\"CHFGBP\",\"GHSUSD\",\"GHSGBP\")\n",
    "str(d)"
   ]
  },
  {
   "cell_type": "code",
   "execution_count": 4,
   "id": "13a94fde-1497-4647-932c-541fddaf092a",
   "metadata": {},
   "outputs": [
    {
     "name": "stdout",
     "output_type": "stream",
     "text": [
      "An xts object on 2007-07-05 / 2024-05-03 containing: \n",
      "  Data:    double [4176, 10]\n",
      "  Columns: US Cocoa, London Cocoa, EURUSD, GBPUSD, CHFUSD ... with 5 more columns\n",
      "  Index:   Date [4176] (TZ: \"UTC\")\n",
      "  xts Attributes:\n",
      "    $ na.action: 'omit' int [1:216] 38 43 101 102 123 124 125 129 143 163 ...\n",
      "  ..- attr(*, \"index\")= num [1:216] 1.19e+09 1.19e+09 1.20e+09 1.20e+09 1.20e+09 ...\n"
     ]
    }
   ],
   "source": [
    "d_p <- na.omit(merge(cp_d,fp_d))\n",
    "colnames(d_p) <- c(\"US Cocoa\",\"London Cocoa\",\"EURUSD\",\"GBPUSD\",\"CHFUSD\",\"USDGBP\",\"EURGBP\",\"CHFGBP\",\"GHSUSD\",\"GHSGBP\")\n",
    "str(d_p)"
   ]
  },
  {
   "cell_type": "markdown",
   "id": "0cf173b1-8871-4a59-a77b-84f8dfc88c24",
   "metadata": {},
   "source": [
    "# VAR-BEKK model estimation"
   ]
  },
  {
   "cell_type": "markdown",
   "id": "4613c104-47ff-495f-9120-cc45dad0364c",
   "metadata": {},
   "source": [
    "#### The estimation is conducted in two stages. Since the VAR model is used as the mean equation, it consitutes the first stage of the estimation process. The variance specification is the BEKK model, therefore, it is used as the second stage of the model. This procedure is followed in each case."
   ]
  },
  {
   "cell_type": "markdown",
   "id": "5cc38400-bcba-46c3-aed1-1af5b5c5a7e3",
   "metadata": {},
   "source": [
    "# (i) Spillover between US Cocoa and London Cocoa"
   ]
  },
  {
   "cell_type": "markdown",
   "id": "df35d9ba-9b96-4247-a2d7-64f5bda79a6d",
   "metadata": {},
   "source": [
    "## VAR"
   ]
  },
  {
   "cell_type": "code",
   "execution_count": 5,
   "id": "5f3695f4-9cc1-4141-abc6-098119eea935",
   "metadata": {},
   "outputs": [
    {
     "data": {
      "text/html": [
       "<dl>\n",
       "\t<dt>$selection</dt>\n",
       "\t\t<dd><style>\n",
       ".dl-inline {width: auto; margin:0; padding: 0}\n",
       ".dl-inline>dt, .dl-inline>dd {float: none; width: auto; display: inline-block}\n",
       ".dl-inline>dt::after {content: \":\\0020\"; padding-right: .5ex}\n",
       ".dl-inline>dt:not(:first-of-type) {padding-left: .5ex}\n",
       "</style><dl class=dl-inline><dt>AIC(n)</dt><dd>1</dd><dt>HQ(n)</dt><dd>1</dd><dt>SC(n)</dt><dd>1</dd><dt>FPE(n)</dt><dd>1</dd></dl>\n",
       "</dd>\n",
       "\t<dt>$criteria</dt>\n",
       "\t\t<dd><table class=\"dataframe\">\n",
       "<caption>A matrix: 4 × 10 of type dbl</caption>\n",
       "<thead>\n",
       "\t<tr><th></th><th scope=col>1</th><th scope=col>2</th><th scope=col>3</th><th scope=col>4</th><th scope=col>5</th><th scope=col>6</th><th scope=col>7</th><th scope=col>8</th><th scope=col>9</th><th scope=col>10</th></tr>\n",
       "</thead>\n",
       "<tbody>\n",
       "\t<tr><th scope=row>AIC(n)</th><td>-1.795536e+01</td><td>-1.795359e+01</td><td>-1.795223e+01</td><td>-1.795198e+01</td><td>-1.795099e+01</td><td>-1.795014e+01</td><td>-1.795026e+01</td><td>-1.794890e+01</td><td>-1.794835e+01</td><td>-1.794712e+01</td></tr>\n",
       "\t<tr><th scope=row>HQ(n)</th><td>-1.795213e+01</td><td>-1.794821e+01</td><td>-1.794470e+01</td><td>-1.794229e+01</td><td>-1.793915e+01</td><td>-1.793615e+01</td><td>-1.793412e+01</td><td>-1.793061e+01</td><td>-1.792790e+01</td><td>-1.792452e+01</td></tr>\n",
       "\t<tr><th scope=row>SC(n)</th><td>-1.794624e+01</td><td>-1.793838e+01</td><td>-1.793094e+01</td><td>-1.792460e+01</td><td>-1.791753e+01</td><td>-1.791059e+01</td><td>-1.790463e+01</td><td>-1.789719e+01</td><td>-1.789055e+01</td><td>-1.788324e+01</td></tr>\n",
       "\t<tr><th scope=row>FPE(n)</th><td> 1.592521e-08</td><td> 1.595341e-08</td><td> 1.597520e-08</td><td> 1.597922e-08</td><td> 1.599505e-08</td><td> 1.600866e-08</td><td> 1.600669e-08</td><td> 1.602844e-08</td><td> 1.603732e-08</td><td> 1.605707e-08</td></tr>\n",
       "</tbody>\n",
       "</table>\n",
       "</dd>\n",
       "</dl>\n"
      ],
      "text/latex": [
       "\\begin{description}\n",
       "\\item[\\$selection] \\begin{description*}\n",
       "\\item[AIC(n)] 1\n",
       "\\item[HQ(n)] 1\n",
       "\\item[SC(n)] 1\n",
       "\\item[FPE(n)] 1\n",
       "\\end{description*}\n",
       "\n",
       "\\item[\\$criteria] A matrix: 4 × 10 of type dbl\n",
       "\\begin{tabular}{r|llllllllll}\n",
       "  & 1 & 2 & 3 & 4 & 5 & 6 & 7 & 8 & 9 & 10\\\\\n",
       "\\hline\n",
       "\tAIC(n) & -1.795536e+01 & -1.795359e+01 & -1.795223e+01 & -1.795198e+01 & -1.795099e+01 & -1.795014e+01 & -1.795026e+01 & -1.794890e+01 & -1.794835e+01 & -1.794712e+01\\\\\n",
       "\tHQ(n) & -1.795213e+01 & -1.794821e+01 & -1.794470e+01 & -1.794229e+01 & -1.793915e+01 & -1.793615e+01 & -1.793412e+01 & -1.793061e+01 & -1.792790e+01 & -1.792452e+01\\\\\n",
       "\tSC(n) & -1.794624e+01 & -1.793838e+01 & -1.793094e+01 & -1.792460e+01 & -1.791753e+01 & -1.791059e+01 & -1.790463e+01 & -1.789719e+01 & -1.789055e+01 & -1.788324e+01\\\\\n",
       "\tFPE(n) &  1.592521e-08 &  1.595341e-08 &  1.597520e-08 &  1.597922e-08 &  1.599505e-08 &  1.600866e-08 &  1.600669e-08 &  1.602844e-08 &  1.603732e-08 &  1.605707e-08\\\\\n",
       "\\end{tabular}\n",
       "\n",
       "\\end{description}\n"
      ],
      "text/markdown": [
       "$selection\n",
       ":   AIC(n)\n",
       ":   1HQ(n)\n",
       ":   1SC(n)\n",
       ":   1FPE(n)\n",
       ":   1\n",
       "\n",
       "\n",
       "$criteria\n",
       ":   \n",
       "A matrix: 4 × 10 of type dbl\n",
       "\n",
       "| <!--/--> | 1 | 2 | 3 | 4 | 5 | 6 | 7 | 8 | 9 | 10 |\n",
       "|---|---|---|---|---|---|---|---|---|---|---|\n",
       "| AIC(n) | -1.795536e+01 | -1.795359e+01 | -1.795223e+01 | -1.795198e+01 | -1.795099e+01 | -1.795014e+01 | -1.795026e+01 | -1.794890e+01 | -1.794835e+01 | -1.794712e+01 |\n",
       "| HQ(n) | -1.795213e+01 | -1.794821e+01 | -1.794470e+01 | -1.794229e+01 | -1.793915e+01 | -1.793615e+01 | -1.793412e+01 | -1.793061e+01 | -1.792790e+01 | -1.792452e+01 |\n",
       "| SC(n) | -1.794624e+01 | -1.793838e+01 | -1.793094e+01 | -1.792460e+01 | -1.791753e+01 | -1.791059e+01 | -1.790463e+01 | -1.789719e+01 | -1.789055e+01 | -1.788324e+01 |\n",
       "| FPE(n) |  1.592521e-08 |  1.595341e-08 |  1.597520e-08 |  1.597922e-08 |  1.599505e-08 |  1.600866e-08 |  1.600669e-08 |  1.602844e-08 |  1.603732e-08 |  1.605707e-08 |\n",
       "\n",
       "\n",
       "\n",
       "\n"
      ],
      "text/plain": [
       "$selection\n",
       "AIC(n)  HQ(n)  SC(n) FPE(n) \n",
       "     1      1      1      1 \n",
       "\n",
       "$criteria\n",
       "                   1             2             3             4             5\n",
       "AIC(n) -1.795536e+01 -1.795359e+01 -1.795223e+01 -1.795198e+01 -1.795099e+01\n",
       "HQ(n)  -1.795213e+01 -1.794821e+01 -1.794470e+01 -1.794229e+01 -1.793915e+01\n",
       "SC(n)  -1.794624e+01 -1.793838e+01 -1.793094e+01 -1.792460e+01 -1.791753e+01\n",
       "FPE(n)  1.592521e-08  1.595341e-08  1.597520e-08  1.597922e-08  1.599505e-08\n",
       "                   6             7             8             9            10\n",
       "AIC(n) -1.795014e+01 -1.795026e+01 -1.794890e+01 -1.794835e+01 -1.794712e+01\n",
       "HQ(n)  -1.793615e+01 -1.793412e+01 -1.793061e+01 -1.792790e+01 -1.792452e+01\n",
       "SC(n)  -1.791059e+01 -1.790463e+01 -1.789719e+01 -1.789055e+01 -1.788324e+01\n",
       "FPE(n)  1.600866e-08  1.600669e-08  1.602844e-08  1.603732e-08  1.605707e-08\n"
      ]
     },
     "metadata": {},
     "output_type": "display_data"
    }
   ],
   "source": [
    "VARselect(cr_d)"
   ]
  },
  {
   "cell_type": "code",
   "execution_count": 6,
   "id": "4f2e1a49-83c8-4f8e-87a8-9790615d2dd7",
   "metadata": {},
   "outputs": [
    {
     "data": {
      "text/plain": [
       "\n",
       "VAR Estimation Results:\n",
       "========================= \n",
       "Endogenous variables: usc, lc \n",
       "Deterministic variables: const \n",
       "Sample size: 4174 \n",
       "Log Likelihood: 25634.81 \n",
       "Roots of the characteristic polynomial:\n",
       "0.0621 0.04954\n",
       "Call:\n",
       "VAR(y = cr_d, p = 1, type = \"const\")\n",
       "\n",
       "\n",
       "Estimation results for equation usc: \n",
       "==================================== \n",
       "usc = usc.l1 + lc.l1 + const \n",
       "\n",
       "         Estimate Std. Error t value Pr(>|t|)   \n",
       "usc.l1 -0.0804047  0.0325046  -2.474  0.01341 * \n",
       "lc.l1   0.1158541  0.0377888   3.066  0.00218 **\n",
       "const   0.0002905  0.0002719   1.069  0.28535   \n",
       "---\n",
       "Signif. codes:  0 ‘***’ 0.001 ‘**’ 0.01 ‘*’ 0.05 ‘.’ 0.1 ‘ ’ 1\n",
       "\n",
       "\n",
       "Residual standard error: 0.01756 on 4171 degrees of freedom\n",
       "Multiple R-Squared: 0.0023,\tAdjusted R-squared: 0.001821 \n",
       "F-statistic: 4.807 on 2 and 4171 DF,  p-value: 0.008215 \n",
       "\n",
       "\n",
       "Estimation results for equation lc: \n",
       "=================================== \n",
       "lc = usc.l1 + lc.l1 + const \n",
       "\n",
       "         Estimate Std. Error t value Pr(>|t|)  \n",
       "usc.l1 -0.0205289  0.0279348  -0.735   0.4625  \n",
       "lc.l1   0.0678400  0.0324761   2.089   0.0368 *\n",
       "const   0.0004146  0.0002337   1.774   0.0761 .\n",
       "---\n",
       "Signif. codes:  0 ‘***’ 0.001 ‘**’ 0.01 ‘*’ 0.05 ‘.’ 0.1 ‘ ’ 1\n",
       "\n",
       "\n",
       "Residual standard error: 0.01509 on 4171 degrees of freedom\n",
       "Multiple R-Squared: 0.00232,\tAdjusted R-squared: 0.001841 \n",
       "F-statistic: 4.849 on 2 and 4171 DF,  p-value: 0.007881 \n",
       "\n",
       "\n",
       "\n",
       "Covariance matrix of residuals:\n",
       "          usc        lc\n",
       "usc 0.0003083 0.0002330\n",
       "lc  0.0002330 0.0002277\n",
       "\n",
       "Correlation matrix of residuals:\n",
       "       usc     lc\n",
       "usc 1.0000 0.8795\n",
       "lc  0.8795 1.0000\n",
       "\n"
      ]
     },
     "metadata": {},
     "output_type": "display_data"
    }
   ],
   "source": [
    "var_cr<-VAR(cr_d,p = 1,type = \"const\")\n",
    "summary(var_cr)\n",
    "res_cr <- residuals(var_cr)\n",
    "res_cr <- as.data.frame(res_cr)"
   ]
  },
  {
   "cell_type": "code",
   "execution_count": 7,
   "id": "2cb36986-cc00-4481-bb51-5ec426d3c51b",
   "metadata": {},
   "outputs": [
    {
     "name": "stdout",
     "output_type": "stream",
     "text": [
      " Date[1:4174], format: \"2007-07-09\" \"2007-07-10\" \"2007-07-11\" \"2007-07-12\" \"2007-07-13\" ...\n"
     ]
    }
   ],
   "source": [
    "ind_var <- index(cr_d)[-1]\n",
    "str(ind_var)"
   ]
  },
  {
   "cell_type": "code",
   "execution_count": 8,
   "id": "8856e567-7d86-430d-819e-30e3ef8b9f4c",
   "metadata": {},
   "outputs": [
    {
     "name": "stdout",
     "output_type": "stream",
     "text": [
      "An xts object on 2007-07-09 / 2024-05-03 containing: \n",
      "  Data:    double [4174, 2]\n",
      "  Columns: usc, lc\n",
      "  Index:   Date [4174] (TZ: \"UTC\")\n"
     ]
    },
    {
     "data": {
      "text/plain": [
       "                    usc           lc\n",
       "2007-07-09 -0.011528662 -0.013937989\n",
       "2007-07-10 -0.037483442 -0.040525413\n",
       "2007-07-11  0.022434337  0.020815434\n",
       "2007-07-12  0.004966687  0.003239114\n",
       "2007-07-13 -0.001312509 -0.005129667\n",
       "2007-07-16 -0.009528845 -0.009243071"
      ]
     },
     "metadata": {},
     "output_type": "display_data"
    }
   ],
   "source": [
    "res_cr <- xts(res_cr,order.by = ind_var)\n",
    "str(res_cr)\n",
    "head(res_cr)"
   ]
  },
  {
   "cell_type": "markdown",
   "id": "083ea677-2a75-4a41-99b5-76325f76e913",
   "metadata": {},
   "source": [
    "## BEKK"
   ]
  },
  {
   "cell_type": "code",
   "execution_count": 9,
   "id": "c6810509-1a12-42e7-9a70-ced24bab6776",
   "metadata": {},
   "outputs": [],
   "source": [
    "bekk_spec <- bekk_spec(model = list(type = \"bekk\",asymmetric = F))\n",
    "bekk_fit <- bekk_fit(spec = bekk_spec,data = res_cr)"
   ]
  },
  {
   "cell_type": "code",
   "execution_count": 10,
   "id": "d8b2ea21-cc14-4f63-872a-149eb2c2e18e",
   "metadata": {},
   "outputs": [
    {
     "data": {
      "text/html": [
       "<table class=\"dataframe\">\n",
       "<caption>A matrix: 2 × 2 of type dbl</caption>\n",
       "<tbody>\n",
       "\t<tr><td>0.17039168</td><td>-0.001807353</td></tr>\n",
       "\t<tr><td>0.02850488</td><td> 0.213457357</td></tr>\n",
       "</tbody>\n",
       "</table>\n"
      ],
      "text/latex": [
       "A matrix: 2 × 2 of type dbl\n",
       "\\begin{tabular}{ll}\n",
       "\t 0.17039168 & -0.001807353\\\\\n",
       "\t 0.02850488 &  0.213457357\\\\\n",
       "\\end{tabular}\n"
      ],
      "text/markdown": [
       "\n",
       "A matrix: 2 × 2 of type dbl\n",
       "\n",
       "| 0.17039168 | -0.001807353 |\n",
       "| 0.02850488 |  0.213457357 |\n",
       "\n"
      ],
      "text/plain": [
       "     [,1]       [,2]        \n",
       "[1,] 0.17039168 -0.001807353\n",
       "[2,] 0.02850488  0.213457357"
      ]
     },
     "metadata": {},
     "output_type": "display_data"
    },
    {
     "data": {
      "text/html": [
       "<table class=\"dataframe\">\n",
       "<caption>A matrix: 2 × 2 of type dbl</caption>\n",
       "<tbody>\n",
       "\t<tr><td>11.599179</td><td>-0.1374393</td></tr>\n",
       "\t<tr><td> 1.546442</td><td>13.7217288</td></tr>\n",
       "</tbody>\n",
       "</table>\n"
      ],
      "text/latex": [
       "A matrix: 2 × 2 of type dbl\n",
       "\\begin{tabular}{ll}\n",
       "\t 11.599179 & -0.1374393\\\\\n",
       "\t  1.546442 & 13.7217288\\\\\n",
       "\\end{tabular}\n"
      ],
      "text/markdown": [
       "\n",
       "A matrix: 2 × 2 of type dbl\n",
       "\n",
       "| 11.599179 | -0.1374393 |\n",
       "|  1.546442 | 13.7217288 |\n",
       "\n"
      ],
      "text/plain": [
       "     [,1]      [,2]      \n",
       "[1,] 11.599179 -0.1374393\n",
       "[2,]  1.546442 13.7217288"
      ]
     },
     "metadata": {},
     "output_type": "display_data"
    }
   ],
   "source": [
    "bekk_fit$A\n",
    "bekk_fit$A_t"
   ]
  },
  {
   "cell_type": "code",
   "execution_count": 11,
   "id": "7d31dd5e-91c6-46a9-8ea3-06979b1b3bc3",
   "metadata": {},
   "outputs": [
    {
     "data": {
      "text/html": [
       "<table class=\"dataframe\">\n",
       "<caption>A matrix: 2 × 2 of type dbl</caption>\n",
       "<tbody>\n",
       "\t<tr><td>0.972220313</td><td>-0.01038412</td></tr>\n",
       "\t<tr><td>0.009970938</td><td> 0.98444285</td></tr>\n",
       "</tbody>\n",
       "</table>\n"
      ],
      "text/latex": [
       "A matrix: 2 × 2 of type dbl\n",
       "\\begin{tabular}{ll}\n",
       "\t 0.972220313 & -0.01038412\\\\\n",
       "\t 0.009970938 &  0.98444285\\\\\n",
       "\\end{tabular}\n"
      ],
      "text/markdown": [
       "\n",
       "A matrix: 2 × 2 of type dbl\n",
       "\n",
       "| 0.972220313 | -0.01038412 |\n",
       "| 0.009970938 |  0.98444285 |\n",
       "\n"
      ],
      "text/plain": [
       "     [,1]        [,2]       \n",
       "[1,] 0.972220313 -0.01038412\n",
       "[2,] 0.009970938  0.98444285"
      ]
     },
     "metadata": {},
     "output_type": "display_data"
    },
    {
     "data": {
      "text/html": [
       "<table class=\"dataframe\">\n",
       "<caption>A matrix: 2 × 2 of type dbl</caption>\n",
       "<tbody>\n",
       "\t<tr><td>308.478434</td><td> -3.567761</td></tr>\n",
       "\t<tr><td>  2.294206</td><td>273.067805</td></tr>\n",
       "</tbody>\n",
       "</table>\n"
      ],
      "text/latex": [
       "A matrix: 2 × 2 of type dbl\n",
       "\\begin{tabular}{ll}\n",
       "\t 308.478434 &  -3.567761\\\\\n",
       "\t   2.294206 & 273.067805\\\\\n",
       "\\end{tabular}\n"
      ],
      "text/markdown": [
       "\n",
       "A matrix: 2 × 2 of type dbl\n",
       "\n",
       "| 308.478434 |  -3.567761 |\n",
       "|   2.294206 | 273.067805 |\n",
       "\n"
      ],
      "text/plain": [
       "     [,1]       [,2]      \n",
       "[1,] 308.478434  -3.567761\n",
       "[2,]   2.294206 273.067805"
      ]
     },
     "metadata": {},
     "output_type": "display_data"
    }
   ],
   "source": [
    "bekk_fit$G\n",
    "bekk_fit$G_t"
   ]
  },
  {
   "cell_type": "code",
   "execution_count": 12,
   "id": "08919092-ccc2-49bf-b007-8993432a4278",
   "metadata": {},
   "outputs": [
    {
     "data": {
      "text/plain": [
       "\n",
       "VAR Estimation Results:\n",
       "========================= \n",
       "Endogenous variables: usc, lc \n",
       "Deterministic variables: const \n",
       "Sample size: 4174 \n",
       "Log Likelihood: 25634.81 \n",
       "Roots of the characteristic polynomial:\n",
       "0.0621 0.04954\n",
       "Call:\n",
       "VAR(y = cr_d, p = 1, type = \"const\")\n",
       "\n",
       "\n",
       "Estimation results for equation usc: \n",
       "==================================== \n",
       "usc = usc.l1 + lc.l1 + const \n",
       "\n",
       "         Estimate Std. Error t value Pr(>|t|)   \n",
       "usc.l1 -0.0804047  0.0325046  -2.474  0.01341 * \n",
       "lc.l1   0.1158541  0.0377888   3.066  0.00218 **\n",
       "const   0.0002905  0.0002719   1.069  0.28535   \n",
       "---\n",
       "Signif. codes:  0 ‘***’ 0.001 ‘**’ 0.01 ‘*’ 0.05 ‘.’ 0.1 ‘ ’ 1\n",
       "\n",
       "\n",
       "Residual standard error: 0.01756 on 4171 degrees of freedom\n",
       "Multiple R-Squared: 0.0023,\tAdjusted R-squared: 0.001821 \n",
       "F-statistic: 4.807 on 2 and 4171 DF,  p-value: 0.008215 \n",
       "\n",
       "\n",
       "Estimation results for equation lc: \n",
       "=================================== \n",
       "lc = usc.l1 + lc.l1 + const \n",
       "\n",
       "         Estimate Std. Error t value Pr(>|t|)  \n",
       "usc.l1 -0.0205289  0.0279348  -0.735   0.4625  \n",
       "lc.l1   0.0678400  0.0324761   2.089   0.0368 *\n",
       "const   0.0004146  0.0002337   1.774   0.0761 .\n",
       "---\n",
       "Signif. codes:  0 ‘***’ 0.001 ‘**’ 0.01 ‘*’ 0.05 ‘.’ 0.1 ‘ ’ 1\n",
       "\n",
       "\n",
       "Residual standard error: 0.01509 on 4171 degrees of freedom\n",
       "Multiple R-Squared: 0.00232,\tAdjusted R-squared: 0.001841 \n",
       "F-statistic: 4.849 on 2 and 4171 DF,  p-value: 0.007881 \n",
       "\n",
       "\n",
       "\n",
       "Covariance matrix of residuals:\n",
       "          usc        lc\n",
       "usc 0.0003083 0.0002330\n",
       "lc  0.0002330 0.0002277\n",
       "\n",
       "Correlation matrix of residuals:\n",
       "       usc     lc\n",
       "usc 1.0000 0.8795\n",
       "lc  0.8795 1.0000\n",
       "\n"
      ]
     },
     "metadata": {},
     "output_type": "display_data"
    },
    {
     "data": {
      "text/plain": [
       "\n",
       "VAR Estimation Results:\n",
       "======================= \n",
       "\n",
       "Estimated coefficients for equation usc: \n",
       "======================================== \n",
       "Call:\n",
       "usc = usc.l1 + lc.l1 + const \n",
       "\n",
       "       usc.l1         lc.l1         const \n",
       "-0.0804047181  0.1158541497  0.0002905429 \n",
       "\n",
       "\n",
       "Estimated coefficients for equation lc: \n",
       "======================================= \n",
       "Call:\n",
       "lc = usc.l1 + lc.l1 + const \n",
       "\n",
       "       usc.l1         lc.l1         const \n",
       "-0.0205288827  0.0678399616  0.0004145675 \n",
       "\n"
      ]
     },
     "metadata": {},
     "output_type": "display_data"
    }
   ],
   "source": [
    "summary(var_cr)\n",
    "var_cr"
   ]
  },
  {
   "cell_type": "code",
   "execution_count": 13,
   "id": "f6e3a6df-06d7-4a18-94e5-46e542dfa159",
   "metadata": {},
   "outputs": [
    {
     "data": {
      "text/html": [
       "<table class=\"dataframe\">\n",
       "<caption>A matrix: 3 × 4 of type dbl</caption>\n",
       "<thead>\n",
       "\t<tr><th></th><th scope=col>Estimate</th><th scope=col>Std. Error</th><th scope=col>t value</th><th scope=col>Pr(&gt;|t|)</th></tr>\n",
       "</thead>\n",
       "<tbody>\n",
       "\t<tr><th scope=row>usc.l1</th><td>-0.0205288827</td><td>0.0279348044</td><td>-0.7348855</td><td>0.46245054</td></tr>\n",
       "\t<tr><th scope=row>lc.l1</th><td> 0.0678399616</td><td>0.0324761059</td><td> 2.0889192</td><td>0.03677547</td></tr>\n",
       "\t<tr><th scope=row>const</th><td> 0.0004145675</td><td>0.0002336872</td><td> 1.7740272</td><td>0.07613159</td></tr>\n",
       "</tbody>\n",
       "</table>\n"
      ],
      "text/latex": [
       "A matrix: 3 × 4 of type dbl\n",
       "\\begin{tabular}{r|llll}\n",
       "  & Estimate & Std. Error & t value & Pr(>\\textbar{}t\\textbar{})\\\\\n",
       "\\hline\n",
       "\tusc.l1 & -0.0205288827 & 0.0279348044 & -0.7348855 & 0.46245054\\\\\n",
       "\tlc.l1 &  0.0678399616 & 0.0324761059 &  2.0889192 & 0.03677547\\\\\n",
       "\tconst &  0.0004145675 & 0.0002336872 &  1.7740272 & 0.07613159\\\\\n",
       "\\end{tabular}\n"
      ],
      "text/markdown": [
       "\n",
       "A matrix: 3 × 4 of type dbl\n",
       "\n",
       "| <!--/--> | Estimate | Std. Error | t value | Pr(&gt;|t|) |\n",
       "|---|---|---|---|---|\n",
       "| usc.l1 | -0.0205288827 | 0.0279348044 | -0.7348855 | 0.46245054 |\n",
       "| lc.l1 |  0.0678399616 | 0.0324761059 |  2.0889192 | 0.03677547 |\n",
       "| const |  0.0004145675 | 0.0002336872 |  1.7740272 | 0.07613159 |\n",
       "\n"
      ],
      "text/plain": [
       "       Estimate      Std. Error   t value    Pr(>|t|)  \n",
       "usc.l1 -0.0205288827 0.0279348044 -0.7348855 0.46245054\n",
       "lc.l1   0.0678399616 0.0324761059  2.0889192 0.03677547\n",
       "const   0.0004145675 0.0002336872  1.7740272 0.07613159"
      ]
     },
     "metadata": {},
     "output_type": "display_data"
    }
   ],
   "source": [
    "summary(var_cr)$varresult$lc$coefficients"
   ]
  },
  {
   "cell_type": "code",
   "execution_count": 14,
   "id": "a05972dc-d050-4c14-a9d2-976152591c3b",
   "metadata": {},
   "outputs": [
    {
     "data": {
      "text/html": [
       "-0.0205288827115312"
      ],
      "text/latex": [
       "-0.0205288827115312"
      ],
      "text/markdown": [
       "-0.0205288827115312"
      ],
      "text/plain": [
       "[1] -0.02052888"
      ]
     },
     "metadata": {},
     "output_type": "display_data"
    }
   ],
   "source": [
    "summary(var_cr)$varresult$lc$coefficients[\"usc.l1\",\"Estimate\"]"
   ]
  },
  {
   "cell_type": "markdown",
   "id": "bd54c55f-08dc-4cce-aa03-45a38ff77b6a",
   "metadata": {},
   "source": [
    "## Table summarizing the results of the VAR-BEKK model for US Cocoa - London Cocoa "
   ]
  },
  {
   "cell_type": "code",
   "execution_count": 15,
   "id": "57c7f754-dd13-4999-8522-8a6531fe282e",
   "metadata": {},
   "outputs": [
    {
     "data": {
      "text/html": [
       "<table class=\"dataframe\">\n",
       "<caption>A data.frame: 14 × 5</caption>\n",
       "<thead>\n",
       "\t<tr><th scope=col>Parameters</th><th scope=col>Coefficient</th><th scope=col>Std_error</th><th scope=col>T_value</th><th scope=col>Significant_at_5p_level</th></tr>\n",
       "\t<tr><th scope=col>&lt;chr&gt;</th><th scope=col>&lt;dbl&gt;</th><th scope=col>&lt;dbl&gt;</th><th scope=col>&lt;dbl&gt;</th><th scope=col>&lt;chr&gt;</th></tr>\n",
       "</thead>\n",
       "<tbody>\n",
       "\t<tr><td>mu10 </td><td> 0.0002905429</td><td>0.0002719155</td><td>  1.0685045</td><td>Not Statistically Significant</td></tr>\n",
       "\t<tr><td>mu20 </td><td> 0.0004145675</td><td>0.0002336872</td><td>  1.7740272</td><td>Stat significant at 10%      </td></tr>\n",
       "\t<tr><td>phi11</td><td>-0.0804047181</td><td>0.0325045819</td><td> -2.4736426</td><td>Stat significant at 5%       </td></tr>\n",
       "\t<tr><td>phi12</td><td> 0.1158541497</td><td>0.0377887824</td><td>  3.0658344</td><td>Stat significant at 1%       </td></tr>\n",
       "\t<tr><td>phi21</td><td>-0.0205288827</td><td>0.0279348044</td><td> -0.7348855</td><td>Not Statistically Significant</td></tr>\n",
       "\t<tr><td>phi22</td><td> 0.0678399616</td><td>0.0324761059</td><td>  2.0889192</td><td>Stat significant at 5%       </td></tr>\n",
       "\t<tr><td>a11  </td><td> 0.1703916834</td><td>0.0146899780</td><td> 11.5991789</td><td>Stat significant at 1%       </td></tr>\n",
       "\t<tr><td>a12  </td><td>-0.0018073527</td><td>0.0131501882</td><td> -0.1374393</td><td>Not Statistically Significant</td></tr>\n",
       "\t<tr><td>a21  </td><td> 0.0285048760</td><td>0.0184325569</td><td>  1.5464418</td><td>Not Statistically Significant</td></tr>\n",
       "\t<tr><td>a22  </td><td> 0.2134573568</td><td>0.0155561563</td><td> 13.7217288</td><td>Stat significant at 1%       </td></tr>\n",
       "\t<tr><td>g11  </td><td> 0.9722203131</td><td>0.0031516638</td><td>308.4784340</td><td>Stat significant at 1%       </td></tr>\n",
       "\t<tr><td>g12  </td><td>-0.0103841184</td><td>0.0029105422</td><td> -3.5677608</td><td>Stat significant at 1%       </td></tr>\n",
       "\t<tr><td>g21  </td><td> 0.0099709379</td><td>0.0043461381</td><td>  2.2942064</td><td>Stat significant at 5%       </td></tr>\n",
       "\t<tr><td>g22  </td><td> 0.9844428517</td><td>0.0036051224</td><td>273.0678053</td><td>Stat significant at 1%       </td></tr>\n",
       "</tbody>\n",
       "</table>\n"
      ],
      "text/latex": [
       "A data.frame: 14 × 5\n",
       "\\begin{tabular}{lllll}\n",
       " Parameters & Coefficient & Std\\_error & T\\_value & Significant\\_at\\_5p\\_level\\\\\n",
       " <chr> & <dbl> & <dbl> & <dbl> & <chr>\\\\\n",
       "\\hline\n",
       "\t mu10  &  0.0002905429 & 0.0002719155 &   1.0685045 & Not Statistically Significant\\\\\n",
       "\t mu20  &  0.0004145675 & 0.0002336872 &   1.7740272 & Stat significant at 10\\%      \\\\\n",
       "\t phi11 & -0.0804047181 & 0.0325045819 &  -2.4736426 & Stat significant at 5\\%       \\\\\n",
       "\t phi12 &  0.1158541497 & 0.0377887824 &   3.0658344 & Stat significant at 1\\%       \\\\\n",
       "\t phi21 & -0.0205288827 & 0.0279348044 &  -0.7348855 & Not Statistically Significant\\\\\n",
       "\t phi22 &  0.0678399616 & 0.0324761059 &   2.0889192 & Stat significant at 5\\%       \\\\\n",
       "\t a11   &  0.1703916834 & 0.0146899780 &  11.5991789 & Stat significant at 1\\%       \\\\\n",
       "\t a12   & -0.0018073527 & 0.0131501882 &  -0.1374393 & Not Statistically Significant\\\\\n",
       "\t a21   &  0.0285048760 & 0.0184325569 &   1.5464418 & Not Statistically Significant\\\\\n",
       "\t a22   &  0.2134573568 & 0.0155561563 &  13.7217288 & Stat significant at 1\\%       \\\\\n",
       "\t g11   &  0.9722203131 & 0.0031516638 & 308.4784340 & Stat significant at 1\\%       \\\\\n",
       "\t g12   & -0.0103841184 & 0.0029105422 &  -3.5677608 & Stat significant at 1\\%       \\\\\n",
       "\t g21   &  0.0099709379 & 0.0043461381 &   2.2942064 & Stat significant at 5\\%       \\\\\n",
       "\t g22   &  0.9844428517 & 0.0036051224 & 273.0678053 & Stat significant at 1\\%       \\\\\n",
       "\\end{tabular}\n"
      ],
      "text/markdown": [
       "\n",
       "A data.frame: 14 × 5\n",
       "\n",
       "| Parameters &lt;chr&gt; | Coefficient &lt;dbl&gt; | Std_error &lt;dbl&gt; | T_value &lt;dbl&gt; | Significant_at_5p_level &lt;chr&gt; |\n",
       "|---|---|---|---|---|\n",
       "| mu10  |  0.0002905429 | 0.0002719155 |   1.0685045 | Not Statistically Significant |\n",
       "| mu20  |  0.0004145675 | 0.0002336872 |   1.7740272 | Stat significant at 10%       |\n",
       "| phi11 | -0.0804047181 | 0.0325045819 |  -2.4736426 | Stat significant at 5%        |\n",
       "| phi12 |  0.1158541497 | 0.0377887824 |   3.0658344 | Stat significant at 1%        |\n",
       "| phi21 | -0.0205288827 | 0.0279348044 |  -0.7348855 | Not Statistically Significant |\n",
       "| phi22 |  0.0678399616 | 0.0324761059 |   2.0889192 | Stat significant at 5%        |\n",
       "| a11   |  0.1703916834 | 0.0146899780 |  11.5991789 | Stat significant at 1%        |\n",
       "| a12   | -0.0018073527 | 0.0131501882 |  -0.1374393 | Not Statistically Significant |\n",
       "| a21   |  0.0285048760 | 0.0184325569 |   1.5464418 | Not Statistically Significant |\n",
       "| a22   |  0.2134573568 | 0.0155561563 |  13.7217288 | Stat significant at 1%        |\n",
       "| g11   |  0.9722203131 | 0.0031516638 | 308.4784340 | Stat significant at 1%        |\n",
       "| g12   | -0.0103841184 | 0.0029105422 |  -3.5677608 | Stat significant at 1%        |\n",
       "| g21   |  0.0099709379 | 0.0043461381 |   2.2942064 | Stat significant at 5%        |\n",
       "| g22   |  0.9844428517 | 0.0036051224 | 273.0678053 | Stat significant at 1%        |\n",
       "\n"
      ],
      "text/plain": [
       "   Parameters Coefficient   Std_error    T_value    \n",
       "1  mu10        0.0002905429 0.0002719155   1.0685045\n",
       "2  mu20        0.0004145675 0.0002336872   1.7740272\n",
       "3  phi11      -0.0804047181 0.0325045819  -2.4736426\n",
       "4  phi12       0.1158541497 0.0377887824   3.0658344\n",
       "5  phi21      -0.0205288827 0.0279348044  -0.7348855\n",
       "6  phi22       0.0678399616 0.0324761059   2.0889192\n",
       "7  a11         0.1703916834 0.0146899780  11.5991789\n",
       "8  a12        -0.0018073527 0.0131501882  -0.1374393\n",
       "9  a21         0.0285048760 0.0184325569   1.5464418\n",
       "10 a22         0.2134573568 0.0155561563  13.7217288\n",
       "11 g11         0.9722203131 0.0031516638 308.4784340\n",
       "12 g12        -0.0103841184 0.0029105422  -3.5677608\n",
       "13 g21         0.0099709379 0.0043461381   2.2942064\n",
       "14 g22         0.9844428517 0.0036051224 273.0678053\n",
       "   Significant_at_5p_level      \n",
       "1  Not Statistically Significant\n",
       "2  Stat significant at 10%      \n",
       "3  Stat significant at 5%       \n",
       "4  Stat significant at 1%       \n",
       "5  Not Statistically Significant\n",
       "6  Stat significant at 5%       \n",
       "7  Stat significant at 1%       \n",
       "8  Not Statistically Significant\n",
       "9  Not Statistically Significant\n",
       "10 Stat significant at 1%       \n",
       "11 Stat significant at 1%       \n",
       "12 Stat significant at 1%       \n",
       "13 Stat significant at 5%       \n",
       "14 Stat significant at 1%       "
      ]
     },
     "metadata": {},
     "output_type": "display_data"
    }
   ],
   "source": [
    "bekkc <- data.frame(Parameters = c(\"mu10\",\"mu20\",\"phi11\",\"phi12\",\"phi21\",\"phi22\",\"a11\",\"a12\",\"a21\",\"a22\",\"g11\",\"g12\",\"g21\",\"g22\"),\n",
    "                   Coefficient = c(summary(var_cr)$varresult$usc$coefficients[\"const\",\"Estimate\"],summary(var_cr)$varresult$lc$coefficients[\"const\",\"Estimate\"],\n",
    "                                   summary(var_cr)$varresult$usc$coefficients[\"usc.l1\",\"Estimate\"],summary(var_cr)$varresult$usc$coefficients[\"lc.l1\",\"Estimate\"],\n",
    "                                   summary(var_cr)$varresult$lc$coefficients[\"usc.l1\",\"Estimate\"],summary(var_cr)$varresult$lc$coefficients[\"lc.l1\",\"Estimate\"],\n",
    "                                   bekk_fit$A[1,1],bekk_fit$A[1,2],bekk_fit$A[2,1],bekk_fit$A[2,2],bekk_fit$G[1,1],bekk_fit$G[1,2],bekk_fit$G[2,1],bekk_fit$G[2,2]),\n",
    "                   Std_error = c(summary(var_cr)$varresult$usc$coefficients[\"const\",\"Std. Error\"],summary(var_cr)$varresult$lc$coefficients[\"const\",\"Std. Error\"],\n",
    "                               summary(var_cr)$varresult$usc$coefficients[\"usc.l1\",\"Std. Error\"],summary(var_cr)$varresult$usc$coefficients[\"lc.l1\",\"Std. Error\"],\n",
    "                                 summary(var_cr)$varresult$lc$coefficients[\"usc.l1\",\"Std. Error\"],summary(var_cr)$varresult$lc$coefficients[\"lc.l1\",\"Std. Error\"],\n",
    "                                 bekk_fit$A_sd[1,1],bekk_fit$A_sd[1,2],bekk_fit$A_sd[2,1],bekk_fit$A_sd[2,2],bekk_fit$G_sd[1,1],bekk_fit$G_sd[1,2],bekk_fit$G_sd[2,1],bekk_fit$G_sd[2,2]),\n",
    "                   T_value = c(summary(var_cr)$varresult$usc$coefficients[\"const\",\"t value\"],summary(var_cr)$varresult$lc$coefficients[\"const\",\"t value\"],\n",
    "                               summary(var_cr)$varresult$usc$coefficients[\"usc.l1\",\"t value\"],summary(var_cr)$varresult$usc$coefficients[\"lc.l1\",\"t value\"],\n",
    "                               summary(var_cr)$varresult$lc$coefficients[\"usc.l1\",\"t value\"],summary(var_cr)$varresult$lc$coefficients[\"lc.l1\",\"t value\"],\n",
    "                               bekk_fit$A_t[1,1],bekk_fit$A_t[1,2],bekk_fit$A_t[2,1],bekk_fit$A_t[2,2],bekk_fit$G_t[1,1],bekk_fit$G_t[1,2],\n",
    "                                 bekk_fit$G_t[2,1],bekk_fit$G_t[2,2]))\n",
    "\n",
    "bekkc$Significant_at_5p_level[abs(bekkc$T_value) >= 2.58 ] <- \"Stat significant at 1%\"\n",
    "bekkc$Significant_at_5p_level[abs(bekkc$T_value) > 1.96 & abs(bekkc$T_value) < 2.58] <- \"Stat significant at 5%\"\n",
    "bekkc$Significant_at_5p_level[abs(bekkc$T_value) > 1.645 & abs(bekkc$T_value) <= 1.96 ] <- \"Stat significant at 10%\"\n",
    "bekkc$Significant_at_5p_level[abs(bekkc$T_value) <= 1.645] <- \"Not Statistically Significant\"\n",
    "bekkc"
   ]
  },
  {
   "cell_type": "code",
   "execution_count": 16,
   "id": "258788f7-fec4-4d91-a8b6-d729cc39f5e4",
   "metadata": {},
   "outputs": [
    {
     "data": {
      "text/plain": [
       "\n",
       "\tGranger causality H0: usc do not Granger-cause lc\n",
       "\n",
       "data:  VAR object var_cr\n",
       "F-Test = 0.54006, df1 = 1, df2 = 8342, p-value = 0.4624\n"
      ]
     },
     "metadata": {},
     "output_type": "display_data"
    },
    {
     "data": {
      "text/plain": [
       "\n",
       "\tGranger causality H0: lc do not Granger-cause usc\n",
       "\n",
       "data:  VAR object var_cr\n",
       "F-Test = 9.3993, df1 = 1, df2 = 8342, p-value = 0.002178\n"
      ]
     },
     "metadata": {},
     "output_type": "display_data"
    }
   ],
   "source": [
    "causality(var_cr,cause = \"usc\")$Granger\n",
    "causality(var_cr,cause = \"lc\")$Granger"
   ]
  },
  {
   "cell_type": "markdown",
   "id": "9be2a06e-136c-4f3f-8c83-a939a20708bd",
   "metadata": {},
   "source": [
    "## Summary for US Cocoa-London Cocoa transmission mechanism"
   ]
  },
  {
   "cell_type": "markdown",
   "id": "72022c32-36ff-4f2e-b192-2b597b1e5d0a",
   "metadata": {},
   "source": [
    "- Return spillover from London Cocoa to New York Cocoa(lag of London cocoa is significant for US cocoa)\n",
    "- no shock spillover\n",
    "- volatility spillover significant in both directions"
   ]
  },
  {
   "cell_type": "markdown",
   "id": "b502b88c-6345-4ae3-bf16-c1a3dc2b52cf",
   "metadata": {},
   "source": [
    "## (ii) VAR-BEKK Models for US Cocoa"
   ]
  },
  {
   "cell_type": "code",
   "execution_count": 17,
   "id": "53ed9b37-a605-4e49-9444-173d63f13894",
   "metadata": {},
   "outputs": [
    {
     "name": "stdout",
     "output_type": "stream",
     "text": [
      "An xts object on 2007-07-06 / 2024-05-03 containing: \n",
      "  Data:    double [4175, 9]\n",
      "  Columns: usc, eurusd, gbpusd, chfusd, usdgbp ... with 4 more columns\n",
      "  Index:   Date [4175] (TZ: \"UTC\")\n",
      "  xts Attributes:\n",
      "    $ na.action       : 'omit' int [1:216] 37 42 100 101 122 123 124 128 142 162 ...\n",
      "  ..- attr(*, \"index\")= num [1:216] 1.19e+09 1.19e+09 1.20e+09 1.20e+09 1.20e+09 ...\n",
      "    $ ret_type        : chr \"log\"\n",
      "    $ coredata_content: chr \"logReturn\"\n"
     ]
    }
   ],
   "source": [
    "us_d <- na.omit(merge(cr_d[,1],fr_d))\n",
    "str(us_d)"
   ]
  },
  {
   "cell_type": "markdown",
   "id": "081a9235-9f46-4b22-b969-7ab49838144e",
   "metadata": {},
   "source": [
    "## (a) US Cocoa - EURUSD"
   ]
  },
  {
   "cell_type": "code",
   "execution_count": 18,
   "id": "964aa522-6d45-4674-99ce-9065c5b48695",
   "metadata": {},
   "outputs": [],
   "source": [
    "bekk1data <- us_d[,c(1:2)]"
   ]
  },
  {
   "cell_type": "code",
   "execution_count": 19,
   "id": "9a38f17f-ddbd-483c-a30f-3cebab1accd9",
   "metadata": {},
   "outputs": [
    {
     "data": {
      "text/html": [
       "<dl>\n",
       "\t<dt>$selection</dt>\n",
       "\t\t<dd><style>\n",
       ".dl-inline {width: auto; margin:0; padding: 0}\n",
       ".dl-inline>dt, .dl-inline>dd {float: none; width: auto; display: inline-block}\n",
       ".dl-inline>dt::after {content: \":\\0020\"; padding-right: .5ex}\n",
       ".dl-inline>dt:not(:first-of-type) {padding-left: .5ex}\n",
       "</style><dl class=dl-inline><dt>AIC(n)</dt><dd>1</dd><dt>HQ(n)</dt><dd>1</dd><dt>SC(n)</dt><dd>1</dd><dt>FPE(n)</dt><dd>1</dd></dl>\n",
       "</dd>\n",
       "\t<dt>$criteria</dt>\n",
       "\t\t<dd><table class=\"dataframe\">\n",
       "<caption>A matrix: 4 × 10 of type dbl</caption>\n",
       "<thead>\n",
       "\t<tr><th></th><th scope=col>1</th><th scope=col>2</th><th scope=col>3</th><th scope=col>4</th><th scope=col>5</th><th scope=col>6</th><th scope=col>7</th><th scope=col>8</th><th scope=col>9</th><th scope=col>10</th></tr>\n",
       "</thead>\n",
       "<tbody>\n",
       "\t<tr><th scope=row>AIC(n)</th><td>-1.841409e+01</td><td>-1.841235e+01</td><td>-1.841183e+01</td><td>-1.841152e+01</td><td>-1.840997e+01</td><td>-1.840982e+01</td><td>-1.840985e+01</td><td>-1.840819e+01</td><td>-1.840882e+01</td><td>-1.840902e+01</td></tr>\n",
       "\t<tr><th scope=row>HQ(n)</th><td>-1.841086e+01</td><td>-1.840697e+01</td><td>-1.840430e+01</td><td>-1.840183e+01</td><td>-1.839814e+01</td><td>-1.839583e+01</td><td>-1.839371e+01</td><td>-1.838989e+01</td><td>-1.838837e+01</td><td>-1.838642e+01</td></tr>\n",
       "\t<tr><th scope=row>SC(n)</th><td>-1.840496e+01</td><td>-1.839714e+01</td><td>-1.839054e+01</td><td>-1.838414e+01</td><td>-1.837651e+01</td><td>-1.837027e+01</td><td>-1.836422e+01</td><td>-1.835648e+01</td><td>-1.835103e+01</td><td>-1.834514e+01</td></tr>\n",
       "\t<tr><th scope=row>FPE(n)</th><td> 1.006616e-08</td><td> 1.008362e-08</td><td> 1.008891e-08</td><td> 1.009204e-08</td><td> 1.010767e-08</td><td> 1.010923e-08</td><td> 1.010890e-08</td><td> 1.012574e-08</td><td> 1.011932e-08</td><td> 1.011732e-08</td></tr>\n",
       "</tbody>\n",
       "</table>\n",
       "</dd>\n",
       "</dl>\n"
      ],
      "text/latex": [
       "\\begin{description}\n",
       "\\item[\\$selection] \\begin{description*}\n",
       "\\item[AIC(n)] 1\n",
       "\\item[HQ(n)] 1\n",
       "\\item[SC(n)] 1\n",
       "\\item[FPE(n)] 1\n",
       "\\end{description*}\n",
       "\n",
       "\\item[\\$criteria] A matrix: 4 × 10 of type dbl\n",
       "\\begin{tabular}{r|llllllllll}\n",
       "  & 1 & 2 & 3 & 4 & 5 & 6 & 7 & 8 & 9 & 10\\\\\n",
       "\\hline\n",
       "\tAIC(n) & -1.841409e+01 & -1.841235e+01 & -1.841183e+01 & -1.841152e+01 & -1.840997e+01 & -1.840982e+01 & -1.840985e+01 & -1.840819e+01 & -1.840882e+01 & -1.840902e+01\\\\\n",
       "\tHQ(n) & -1.841086e+01 & -1.840697e+01 & -1.840430e+01 & -1.840183e+01 & -1.839814e+01 & -1.839583e+01 & -1.839371e+01 & -1.838989e+01 & -1.838837e+01 & -1.838642e+01\\\\\n",
       "\tSC(n) & -1.840496e+01 & -1.839714e+01 & -1.839054e+01 & -1.838414e+01 & -1.837651e+01 & -1.837027e+01 & -1.836422e+01 & -1.835648e+01 & -1.835103e+01 & -1.834514e+01\\\\\n",
       "\tFPE(n) &  1.006616e-08 &  1.008362e-08 &  1.008891e-08 &  1.009204e-08 &  1.010767e-08 &  1.010923e-08 &  1.010890e-08 &  1.012574e-08 &  1.011932e-08 &  1.011732e-08\\\\\n",
       "\\end{tabular}\n",
       "\n",
       "\\end{description}\n"
      ],
      "text/markdown": [
       "$selection\n",
       ":   AIC(n)\n",
       ":   1HQ(n)\n",
       ":   1SC(n)\n",
       ":   1FPE(n)\n",
       ":   1\n",
       "\n",
       "\n",
       "$criteria\n",
       ":   \n",
       "A matrix: 4 × 10 of type dbl\n",
       "\n",
       "| <!--/--> | 1 | 2 | 3 | 4 | 5 | 6 | 7 | 8 | 9 | 10 |\n",
       "|---|---|---|---|---|---|---|---|---|---|---|\n",
       "| AIC(n) | -1.841409e+01 | -1.841235e+01 | -1.841183e+01 | -1.841152e+01 | -1.840997e+01 | -1.840982e+01 | -1.840985e+01 | -1.840819e+01 | -1.840882e+01 | -1.840902e+01 |\n",
       "| HQ(n) | -1.841086e+01 | -1.840697e+01 | -1.840430e+01 | -1.840183e+01 | -1.839814e+01 | -1.839583e+01 | -1.839371e+01 | -1.838989e+01 | -1.838837e+01 | -1.838642e+01 |\n",
       "| SC(n) | -1.840496e+01 | -1.839714e+01 | -1.839054e+01 | -1.838414e+01 | -1.837651e+01 | -1.837027e+01 | -1.836422e+01 | -1.835648e+01 | -1.835103e+01 | -1.834514e+01 |\n",
       "| FPE(n) |  1.006616e-08 |  1.008362e-08 |  1.008891e-08 |  1.009204e-08 |  1.010767e-08 |  1.010923e-08 |  1.010890e-08 |  1.012574e-08 |  1.011932e-08 |  1.011732e-08 |\n",
       "\n",
       "\n",
       "\n",
       "\n"
      ],
      "text/plain": [
       "$selection\n",
       "AIC(n)  HQ(n)  SC(n) FPE(n) \n",
       "     1      1      1      1 \n",
       "\n",
       "$criteria\n",
       "                   1             2             3             4             5\n",
       "AIC(n) -1.841409e+01 -1.841235e+01 -1.841183e+01 -1.841152e+01 -1.840997e+01\n",
       "HQ(n)  -1.841086e+01 -1.840697e+01 -1.840430e+01 -1.840183e+01 -1.839814e+01\n",
       "SC(n)  -1.840496e+01 -1.839714e+01 -1.839054e+01 -1.838414e+01 -1.837651e+01\n",
       "FPE(n)  1.006616e-08  1.008362e-08  1.008891e-08  1.009204e-08  1.010767e-08\n",
       "                   6             7             8             9            10\n",
       "AIC(n) -1.840982e+01 -1.840985e+01 -1.840819e+01 -1.840882e+01 -1.840902e+01\n",
       "HQ(n)  -1.839583e+01 -1.839371e+01 -1.838989e+01 -1.838837e+01 -1.838642e+01\n",
       "SC(n)  -1.837027e+01 -1.836422e+01 -1.835648e+01 -1.835103e+01 -1.834514e+01\n",
       "FPE(n)  1.010923e-08  1.010890e-08  1.012574e-08  1.011932e-08  1.011732e-08\n"
      ]
     },
     "metadata": {},
     "output_type": "display_data"
    }
   ],
   "source": [
    "VARselect(bekk1data,type = \"const\")"
   ]
  },
  {
   "cell_type": "code",
   "execution_count": 20,
   "id": "1f3ac6c7-6467-478e-b207-a3e113604686",
   "metadata": {},
   "outputs": [],
   "source": [
    "var_bekk1<-VAR(bekk1data,p = 1,type = \"const\")\n",
    "res_bekk1 <- residuals(var_bekk1)\n",
    "res_bekk1 <- as.data.frame(res_bekk1)"
   ]
  },
  {
   "cell_type": "code",
   "execution_count": 21,
   "id": "eb049cd9-61b1-4295-89da-7e3ce997c6d0",
   "metadata": {},
   "outputs": [
    {
     "data": {
      "text/plain": [
       "\n",
       "VAR Estimation Results:\n",
       "========================= \n",
       "Endogenous variables: usc, eurusd \n",
       "Deterministic variables: const \n",
       "Sample size: 4174 \n",
       "Log Likelihood: 26592.686 \n",
       "Roots of the characteristic polynomial:\n",
       "0.04047 0.03375\n",
       "Call:\n",
       "VAR(y = bekk1data, p = 1, type = \"const\")\n",
       "\n",
       "\n",
       "Estimation results for equation usc: \n",
       "==================================== \n",
       "usc = usc.l1 + eurusd.l1 + const \n",
       "\n",
       "            Estimate Std. Error t value Pr(>|t|)    \n",
       "usc.l1    -0.0067353  0.0158285  -0.426    0.670    \n",
       "eurusd.l1  0.2012112  0.0475218   4.234 2.34e-05 ***\n",
       "const      0.0003281  0.0002716   1.208    0.227    \n",
       "---\n",
       "Signif. codes:  0 ‘***’ 0.001 ‘**’ 0.01 ‘*’ 0.05 ‘.’ 0.1 ‘ ’ 1\n",
       "\n",
       "\n",
       "Residual standard error: 0.01754 on 4171 degrees of freedom\n",
       "Multiple R-Squared: 0.004331,\tAdjusted R-squared: 0.003854 \n",
       "F-statistic: 9.072 on 2 and 4171 DF,  p-value: 0.0001172 \n",
       "\n",
       "\n",
       "Estimation results for equation eurusd: \n",
       "======================================= \n",
       "eurusd = usc.l1 + eurusd.l1 + const \n",
       "\n",
       "            Estimate Std. Error t value Pr(>|t|)\n",
       "usc.l1     6.788e-03  5.271e-03   1.288    0.198\n",
       "eurusd.l1  1.315e-05  1.583e-02   0.001    0.999\n",
       "const     -5.233e-05  9.044e-05  -0.579    0.563\n",
       "\n",
       "\n",
       "Residual standard error: 0.005841 on 4171 degrees of freedom\n",
       "Multiple R-Squared: 0.0004154,\tAdjusted R-squared: -6.388e-05 \n",
       "F-statistic: 0.8667 on 2 and 4171 DF,  p-value: 0.4204 \n",
       "\n",
       "\n",
       "\n",
       "Covariance matrix of residuals:\n",
       "             usc    eurusd\n",
       "usc    3.077e-04 2.133e-05\n",
       "eurusd 2.133e-05 3.412e-05\n",
       "\n",
       "Correlation matrix of residuals:\n",
       "          usc eurusd\n",
       "usc    1.0000 0.2082\n",
       "eurusd 0.2082 1.0000\n",
       "\n"
      ]
     },
     "metadata": {},
     "output_type": "display_data"
    }
   ],
   "source": [
    "summary(var_bekk1)"
   ]
  },
  {
   "cell_type": "code",
   "execution_count": 22,
   "id": "09ddb76e-000b-49aa-842b-b0501c798d51",
   "metadata": {},
   "outputs": [
    {
     "name": "stdout",
     "output_type": "stream",
     "text": [
      " Date[1:4174], format: \"2007-07-09\" \"2007-07-10\" \"2007-07-11\" \"2007-07-12\" \"2007-07-13\" ...\n"
     ]
    }
   ],
   "source": [
    "ind_var1 <- index(bekk1data)[-1]\n",
    "str(ind_var1)"
   ]
  },
  {
   "cell_type": "code",
   "execution_count": 23,
   "id": "21599bb9-72d9-435d-a5c8-77d3ee3d135a",
   "metadata": {},
   "outputs": [],
   "source": [
    "res_bekk1 <- xts(res_bekk1,order.by = ind_var1)"
   ]
  },
  {
   "cell_type": "code",
   "execution_count": 24,
   "id": "944a0d4c-851c-4d61-b151-0f003663b825",
   "metadata": {},
   "outputs": [],
   "source": [
    "bekk_spec <- bekk_spec(model = list(type = \"bekk\",asymmetric = F))\n",
    "bekk1_fit <- bekk_fit(spec = bekk_spec,data = res_bekk1)"
   ]
  },
  {
   "cell_type": "code",
   "execution_count": 25,
   "id": "e31900dd-57cc-458a-9b75-35c51d5000e0",
   "metadata": {},
   "outputs": [
    {
     "data": {
      "text/html": [
       "<table class=\"dataframe\">\n",
       "<caption>A matrix: 2 × 2 of type dbl</caption>\n",
       "<tbody>\n",
       "\t<tr><td> 0.18050952</td><td>0.0006069877</td></tr>\n",
       "\t<tr><td>-0.05557997</td><td>0.1860307476</td></tr>\n",
       "</tbody>\n",
       "</table>\n"
      ],
      "text/latex": [
       "A matrix: 2 × 2 of type dbl\n",
       "\\begin{tabular}{ll}\n",
       "\t  0.18050952 & 0.0006069877\\\\\n",
       "\t -0.05557997 & 0.1860307476\\\\\n",
       "\\end{tabular}\n"
      ],
      "text/markdown": [
       "\n",
       "A matrix: 2 × 2 of type dbl\n",
       "\n",
       "|  0.18050952 | 0.0006069877 |\n",
       "| -0.05557997 | 0.1860307476 |\n",
       "\n"
      ],
      "text/plain": [
       "     [,1]        [,2]        \n",
       "[1,]  0.18050952 0.0006069877\n",
       "[2,] -0.05557997 0.1860307476"
      ]
     },
     "metadata": {},
     "output_type": "display_data"
    },
    {
     "data": {
      "text/html": [
       "<table class=\"dataframe\">\n",
       "<caption>A matrix: 2 × 2 of type dbl</caption>\n",
       "<tbody>\n",
       "\t<tr><td>23.41175</td><td> 0.1885821</td></tr>\n",
       "\t<tr><td>-1.89342</td><td>20.4414776</td></tr>\n",
       "</tbody>\n",
       "</table>\n"
      ],
      "text/latex": [
       "A matrix: 2 × 2 of type dbl\n",
       "\\begin{tabular}{ll}\n",
       "\t 23.41175 &  0.1885821\\\\\n",
       "\t -1.89342 & 20.4414776\\\\\n",
       "\\end{tabular}\n"
      ],
      "text/markdown": [
       "\n",
       "A matrix: 2 × 2 of type dbl\n",
       "\n",
       "| 23.41175 |  0.1885821 |\n",
       "| -1.89342 | 20.4414776 |\n",
       "\n"
      ],
      "text/plain": [
       "     [,1]     [,2]      \n",
       "[1,] 23.41175  0.1885821\n",
       "[2,] -1.89342 20.4414776"
      ]
     },
     "metadata": {},
     "output_type": "display_data"
    }
   ],
   "source": [
    "bekk1_fit$A\n",
    "bekk1_fit$A_t"
   ]
  },
  {
   "cell_type": "code",
   "execution_count": 26,
   "id": "c0adf5d4-c351-45fa-ab97-ff029c83a379",
   "metadata": {},
   "outputs": [
    {
     "data": {
      "text/html": [
       "<table class=\"dataframe\">\n",
       "<caption>A matrix: 2 × 2 of type dbl</caption>\n",
       "<tbody>\n",
       "\t<tr><td>0.9818318</td><td>2.718258e-05</td></tr>\n",
       "\t<tr><td>0.0129997</td><td>9.805130e-01</td></tr>\n",
       "</tbody>\n",
       "</table>\n"
      ],
      "text/latex": [
       "A matrix: 2 × 2 of type dbl\n",
       "\\begin{tabular}{ll}\n",
       "\t 0.9818318 & 2.718258e-05\\\\\n",
       "\t 0.0129997 & 9.805130e-01\\\\\n",
       "\\end{tabular}\n"
      ],
      "text/markdown": [
       "\n",
       "A matrix: 2 × 2 of type dbl\n",
       "\n",
       "| 0.9818318 | 2.718258e-05 |\n",
       "| 0.0129997 | 9.805130e-01 |\n",
       "\n"
      ],
      "text/plain": [
       "     [,1]      [,2]        \n",
       "[1,] 0.9818318 2.718258e-05\n",
       "[2,] 0.0129997 9.805130e-01"
      ]
     },
     "metadata": {},
     "output_type": "display_data"
    },
    {
     "data": {
      "text/html": [
       "<table class=\"dataframe\">\n",
       "<caption>A matrix: 2 × 2 of type dbl</caption>\n",
       "<tbody>\n",
       "\t<tr><td>593.502908</td><td>  0.03431991</td></tr>\n",
       "\t<tr><td>  1.970149</td><td>543.33516967</td></tr>\n",
       "</tbody>\n",
       "</table>\n"
      ],
      "text/latex": [
       "A matrix: 2 × 2 of type dbl\n",
       "\\begin{tabular}{ll}\n",
       "\t 593.502908 &   0.03431991\\\\\n",
       "\t   1.970149 & 543.33516967\\\\\n",
       "\\end{tabular}\n"
      ],
      "text/markdown": [
       "\n",
       "A matrix: 2 × 2 of type dbl\n",
       "\n",
       "| 593.502908 |   0.03431991 |\n",
       "|   1.970149 | 543.33516967 |\n",
       "\n"
      ],
      "text/plain": [
       "     [,1]       [,2]        \n",
       "[1,] 593.502908   0.03431991\n",
       "[2,]   1.970149 543.33516967"
      ]
     },
     "metadata": {},
     "output_type": "display_data"
    }
   ],
   "source": [
    "bekk1_fit$G\n",
    "bekk1_fit$G_t"
   ]
  },
  {
   "cell_type": "markdown",
   "id": "51bfeee5-1d9b-4edd-a416-ab04969c22bc",
   "metadata": {},
   "source": [
    "- There is return spillover from EUR to US Cocoa,(significant lagged EURUSD for usc equation)\n",
    "- There is a shock spillover from EUR to US Cocoa (only significant at 5% level)\n",
    "- There is volatility spillover from EUR to US Cocoa significant at 5% level"
   ]
  },
  {
   "cell_type": "markdown",
   "id": "3e4dfbfe-3cb7-4c0f-8fa7-553015ba5aa1",
   "metadata": {},
   "source": [
    "### Table summarizing the results of the VAR-BEKK model for US Cocoa - EURUSD"
   ]
  },
  {
   "cell_type": "code",
   "execution_count": 27,
   "id": "3f8907ed-2db9-4303-a12e-377d1571ffa4",
   "metadata": {},
   "outputs": [
    {
     "data": {
      "text/html": [
       "<table class=\"dataframe\">\n",
       "<caption>A data.frame: 14 × 5</caption>\n",
       "<thead>\n",
       "\t<tr><th scope=col>Parameters</th><th scope=col>Coefficient</th><th scope=col>Std_error</th><th scope=col>T_value</th><th scope=col>Significant_at_5p_level</th></tr>\n",
       "\t<tr><th scope=col>&lt;chr&gt;</th><th scope=col>&lt;dbl&gt;</th><th scope=col>&lt;dbl&gt;</th><th scope=col>&lt;dbl&gt;</th><th scope=col>&lt;chr&gt;</th></tr>\n",
       "</thead>\n",
       "<tbody>\n",
       "\t<tr><td>mu10 </td><td> 3.281255e-04</td><td>2.715539e-04</td><td> 1.208326e+00</td><td>Not Statistically Significant</td></tr>\n",
       "\t<tr><td>mu20 </td><td>-5.232695e-05</td><td>9.043657e-05</td><td>-5.786039e-01</td><td>Not Statistically Significant</td></tr>\n",
       "\t<tr><td>phi11</td><td>-6.735266e-03</td><td>1.582854e-02</td><td>-4.255142e-01</td><td>Not Statistically Significant</td></tr>\n",
       "\t<tr><td>phi12</td><td> 2.012112e-01</td><td>4.752181e-02</td><td> 4.234081e+00</td><td>Stat significant at 1%       </td></tr>\n",
       "\t<tr><td>phi21</td><td> 6.787967e-03</td><td>5.271435e-03</td><td> 1.287689e+00</td><td>Not Statistically Significant</td></tr>\n",
       "\t<tr><td>phi22</td><td> 1.315031e-05</td><td>1.582636e-02</td><td> 8.309116e-04</td><td>Not Statistically Significant</td></tr>\n",
       "\t<tr><td>a11  </td><td> 1.805095e-01</td><td>7.710209e-03</td><td> 2.341175e+01</td><td>Stat significant at 1%       </td></tr>\n",
       "\t<tr><td>a12  </td><td> 6.069877e-04</td><td>3.218691e-03</td><td> 1.885821e-01</td><td>Not Statistically Significant</td></tr>\n",
       "\t<tr><td>a21  </td><td>-5.557997e-02</td><td>2.935427e-02</td><td>-1.893420e+00</td><td>Stat significant at 10%      </td></tr>\n",
       "\t<tr><td>a22  </td><td> 1.860307e-01</td><td>9.100651e-03</td><td> 2.044148e+01</td><td>Stat significant at 1%       </td></tr>\n",
       "\t<tr><td>g11  </td><td> 9.818318e-01</td><td>1.654300e-03</td><td> 5.935029e+02</td><td>Stat significant at 1%       </td></tr>\n",
       "\t<tr><td>g12  </td><td> 2.718258e-05</td><td>7.920353e-04</td><td> 3.431991e-02</td><td>Not Statistically Significant</td></tr>\n",
       "\t<tr><td>g21  </td><td> 1.299970e-02</td><td>6.598336e-03</td><td> 1.970149e+00</td><td>Stat significant at 5%       </td></tr>\n",
       "\t<tr><td>g22  </td><td> 9.805130e-01</td><td>1.804619e-03</td><td> 5.433352e+02</td><td>Stat significant at 1%       </td></tr>\n",
       "</tbody>\n",
       "</table>\n"
      ],
      "text/latex": [
       "A data.frame: 14 × 5\n",
       "\\begin{tabular}{lllll}\n",
       " Parameters & Coefficient & Std\\_error & T\\_value & Significant\\_at\\_5p\\_level\\\\\n",
       " <chr> & <dbl> & <dbl> & <dbl> & <chr>\\\\\n",
       "\\hline\n",
       "\t mu10  &  3.281255e-04 & 2.715539e-04 &  1.208326e+00 & Not Statistically Significant\\\\\n",
       "\t mu20  & -5.232695e-05 & 9.043657e-05 & -5.786039e-01 & Not Statistically Significant\\\\\n",
       "\t phi11 & -6.735266e-03 & 1.582854e-02 & -4.255142e-01 & Not Statistically Significant\\\\\n",
       "\t phi12 &  2.012112e-01 & 4.752181e-02 &  4.234081e+00 & Stat significant at 1\\%       \\\\\n",
       "\t phi21 &  6.787967e-03 & 5.271435e-03 &  1.287689e+00 & Not Statistically Significant\\\\\n",
       "\t phi22 &  1.315031e-05 & 1.582636e-02 &  8.309116e-04 & Not Statistically Significant\\\\\n",
       "\t a11   &  1.805095e-01 & 7.710209e-03 &  2.341175e+01 & Stat significant at 1\\%       \\\\\n",
       "\t a12   &  6.069877e-04 & 3.218691e-03 &  1.885821e-01 & Not Statistically Significant\\\\\n",
       "\t a21   & -5.557997e-02 & 2.935427e-02 & -1.893420e+00 & Stat significant at 10\\%      \\\\\n",
       "\t a22   &  1.860307e-01 & 9.100651e-03 &  2.044148e+01 & Stat significant at 1\\%       \\\\\n",
       "\t g11   &  9.818318e-01 & 1.654300e-03 &  5.935029e+02 & Stat significant at 1\\%       \\\\\n",
       "\t g12   &  2.718258e-05 & 7.920353e-04 &  3.431991e-02 & Not Statistically Significant\\\\\n",
       "\t g21   &  1.299970e-02 & 6.598336e-03 &  1.970149e+00 & Stat significant at 5\\%       \\\\\n",
       "\t g22   &  9.805130e-01 & 1.804619e-03 &  5.433352e+02 & Stat significant at 1\\%       \\\\\n",
       "\\end{tabular}\n"
      ],
      "text/markdown": [
       "\n",
       "A data.frame: 14 × 5\n",
       "\n",
       "| Parameters &lt;chr&gt; | Coefficient &lt;dbl&gt; | Std_error &lt;dbl&gt; | T_value &lt;dbl&gt; | Significant_at_5p_level &lt;chr&gt; |\n",
       "|---|---|---|---|---|\n",
       "| mu10  |  3.281255e-04 | 2.715539e-04 |  1.208326e+00 | Not Statistically Significant |\n",
       "| mu20  | -5.232695e-05 | 9.043657e-05 | -5.786039e-01 | Not Statistically Significant |\n",
       "| phi11 | -6.735266e-03 | 1.582854e-02 | -4.255142e-01 | Not Statistically Significant |\n",
       "| phi12 |  2.012112e-01 | 4.752181e-02 |  4.234081e+00 | Stat significant at 1%        |\n",
       "| phi21 |  6.787967e-03 | 5.271435e-03 |  1.287689e+00 | Not Statistically Significant |\n",
       "| phi22 |  1.315031e-05 | 1.582636e-02 |  8.309116e-04 | Not Statistically Significant |\n",
       "| a11   |  1.805095e-01 | 7.710209e-03 |  2.341175e+01 | Stat significant at 1%        |\n",
       "| a12   |  6.069877e-04 | 3.218691e-03 |  1.885821e-01 | Not Statistically Significant |\n",
       "| a21   | -5.557997e-02 | 2.935427e-02 | -1.893420e+00 | Stat significant at 10%       |\n",
       "| a22   |  1.860307e-01 | 9.100651e-03 |  2.044148e+01 | Stat significant at 1%        |\n",
       "| g11   |  9.818318e-01 | 1.654300e-03 |  5.935029e+02 | Stat significant at 1%        |\n",
       "| g12   |  2.718258e-05 | 7.920353e-04 |  3.431991e-02 | Not Statistically Significant |\n",
       "| g21   |  1.299970e-02 | 6.598336e-03 |  1.970149e+00 | Stat significant at 5%        |\n",
       "| g22   |  9.805130e-01 | 1.804619e-03 |  5.433352e+02 | Stat significant at 1%        |\n",
       "\n"
      ],
      "text/plain": [
       "   Parameters Coefficient   Std_error    T_value      \n",
       "1  mu10        3.281255e-04 2.715539e-04  1.208326e+00\n",
       "2  mu20       -5.232695e-05 9.043657e-05 -5.786039e-01\n",
       "3  phi11      -6.735266e-03 1.582854e-02 -4.255142e-01\n",
       "4  phi12       2.012112e-01 4.752181e-02  4.234081e+00\n",
       "5  phi21       6.787967e-03 5.271435e-03  1.287689e+00\n",
       "6  phi22       1.315031e-05 1.582636e-02  8.309116e-04\n",
       "7  a11         1.805095e-01 7.710209e-03  2.341175e+01\n",
       "8  a12         6.069877e-04 3.218691e-03  1.885821e-01\n",
       "9  a21        -5.557997e-02 2.935427e-02 -1.893420e+00\n",
       "10 a22         1.860307e-01 9.100651e-03  2.044148e+01\n",
       "11 g11         9.818318e-01 1.654300e-03  5.935029e+02\n",
       "12 g12         2.718258e-05 7.920353e-04  3.431991e-02\n",
       "13 g21         1.299970e-02 6.598336e-03  1.970149e+00\n",
       "14 g22         9.805130e-01 1.804619e-03  5.433352e+02\n",
       "   Significant_at_5p_level      \n",
       "1  Not Statistically Significant\n",
       "2  Not Statistically Significant\n",
       "3  Not Statistically Significant\n",
       "4  Stat significant at 1%       \n",
       "5  Not Statistically Significant\n",
       "6  Not Statistically Significant\n",
       "7  Stat significant at 1%       \n",
       "8  Not Statistically Significant\n",
       "9  Stat significant at 10%      \n",
       "10 Stat significant at 1%       \n",
       "11 Stat significant at 1%       \n",
       "12 Not Statistically Significant\n",
       "13 Stat significant at 5%       \n",
       "14 Stat significant at 1%       "
      ]
     },
     "metadata": {},
     "output_type": "display_data"
    }
   ],
   "source": [
    "bekk1 <- data.frame(Parameters = c(\"mu10\",\"mu20\",\"phi11\",\"phi12\",\"phi21\",\"phi22\",\"a11\",\"a12\",\"a21\",\"a22\",\"g11\",\"g12\",\"g21\",\"g22\"),\n",
    "                   Coefficient = c(summary(var_bekk1)$varresult$usc$coefficients[\"const\",\"Estimate\"],summary(var_bekk1)$varresult$eurusd$coefficients[\"const\",\"Estimate\"],\n",
    "                                   summary(var_bekk1)$varresult$usc$coefficients[\"usc.l1\",\"Estimate\"],summary(var_bekk1)$varresult$usc$coefficients[\"eurusd.l1\",\"Estimate\"],\n",
    "                                   summary(var_bekk1)$varresult$eurusd$coefficients[\"usc.l1\",\"Estimate\"],summary(var_bekk1)$varresult$eurusd$coefficients[\"eurusd.l1\",\"Estimate\"],\n",
    "                                   bekk1_fit$A[1,1],bekk1_fit$A[1,2],bekk1_fit$A[2,1],bekk1_fit$A[2,2],bekk1_fit$G[1,1],bekk1_fit$G[1,2],bekk1_fit$G[2,1],bekk1_fit$G[2,2]),\n",
    "                   Std_error = c(summary(var_bekk1)$varresult$usc$coefficients[\"const\",\"Std. Error\"],summary(var_bekk1)$varresult$eurusd$coefficients[\"const\",\"Std. Error\"],\n",
    "                                summary(var_bekk1)$varresult$usc$coefficients[\"usc.l1\",\"Std. Error\"],summary(var_bekk1)$varresult$usc$coefficients[\"eurusd.l1\",\"Std. Error\"],\n",
    "                                 summary(var_bekk1)$varresult$eurusd$coefficients[\"usc.l1\",\"Std. Error\"],summary(var_bekk1)$varresult$eurusd$coefficients[\"eurusd.l1\",\"Std. Error\"],\n",
    "                                 bekk1_fit$A_sd[1,1],bekk1_fit$A_sd[1,2],bekk1_fit$A_sd[2,1],bekk1_fit$A_sd[2,2],bekk1_fit$G_sd[1,1],bekk1_fit$G_sd[1,2],bekk1_fit$G_sd[2,1],bekk1_fit$G_sd[2,2]),\n",
    "                   T_value = c(summary(var_bekk1)$varresult$usc$coefficients[\"const\",\"t value\"],summary(var_bekk1)$varresult$eurusd$coefficients[\"const\",\"t value\"],\n",
    "                       summary(var_bekk1)$varresult$usc$coefficients[\"usc.l1\",\"t value\"],summary(var_bekk1)$varresult$usc$coefficients[\"eurusd.l1\",\"t value\"],\n",
    "                               summary(var_bekk1)$varresult$eurusd$coefficients[\"usc.l1\",\"t value\"],summary(var_bekk1)$varresult$eurusd$coefficients[\"eurusd.l1\",\"t value\"],\n",
    "                               bekk1_fit$A_t[1,1],bekk1_fit$A_t[1,2],bekk1_fit$A_t[2,1],bekk1_fit$A_t[2,2],bekk1_fit$G_t[1,1],bekk1_fit$G_t[1,2],bekk1_fit$G_t[2,1],bekk1_fit$G_t[2,2]))\n",
    "bekk1$Significant_at_5p_level[abs(bekk1$T_value) >= 2.58 ] <- \"Stat significant at 1%\"\n",
    "bekk1$Significant_at_5p_level[abs(bekk1$T_value) > 1.96 & abs(bekk1$T_value) < 2.58] <- \"Stat significant at 5%\"\n",
    "bekk1$Significant_at_5p_level[abs(bekk1$T_value) > 1.645 & abs(bekk1$T_value) <= 1.96 ] <- \"Stat significant at 10%\"\n",
    "bekk1$Significant_at_5p_level[abs(bekk1$T_value) <= 1.645] <- \"Not Statistically Significant\"\n",
    "bekk1"
   ]
  },
  {
   "cell_type": "code",
   "execution_count": 28,
   "id": "a6ff3003-032c-41f0-a756-a99fc9eed9ec",
   "metadata": {},
   "outputs": [
    {
     "data": {
      "text/plain": [
       "\n",
       "\tGranger causality H0: usc do not Granger-cause eurusd\n",
       "\n",
       "data:  VAR object var_bekk1\n",
       "F-Test = 1.6581, df1 = 1, df2 = 8342, p-value = 0.1979\n"
      ]
     },
     "metadata": {},
     "output_type": "display_data"
    },
    {
     "data": {
      "text/plain": [
       "\n",
       "\tGranger causality H0: eurusd do not Granger-cause usc\n",
       "\n",
       "data:  VAR object var_bekk1\n",
       "F-Test = 17.927, df1 = 1, df2 = 8342, p-value = 2.319e-05\n"
      ]
     },
     "metadata": {},
     "output_type": "display_data"
    }
   ],
   "source": [
    "causality(var_bekk1,cause = \"usc\")$Granger\n",
    "causality(var_bekk1,cause = \"eurusd\")$Granger"
   ]
  },
  {
   "cell_type": "markdown",
   "id": "65dbe85b-2d52-4649-a41f-90584bb81403",
   "metadata": {},
   "source": [
    "## (b) VAR-BEKK: US Cocoa-GBPUSD"
   ]
  },
  {
   "cell_type": "code",
   "execution_count": 29,
   "id": "78a1666f-8070-4ff3-a38b-6bb5ce7a7bdc",
   "metadata": {},
   "outputs": [
    {
     "data": {
      "text/plain": [
       "                     usc        gbpusd\n",
       "2007-07-06  0.0033026687 -0.0004972527\n",
       "2007-07-09 -0.0108928380  0.0022605055\n",
       "2007-07-10 -0.0378502241  0.0057647029\n",
       "2007-07-11  0.0210431058  0.0027838359\n",
       "2007-07-12  0.0057943185 -0.0009845428\n",
       "2007-07-13 -0.0009633912  0.0019435396"
      ]
     },
     "metadata": {},
     "output_type": "display_data"
    }
   ],
   "source": [
    "bekk2data <- us_d[,c(1,3)]\n",
    "head(bekk2data)"
   ]
  },
  {
   "cell_type": "code",
   "execution_count": 30,
   "id": "c009e198-2e25-4832-9bab-a0a5a08d1472",
   "metadata": {},
   "outputs": [
    {
     "data": {
      "text/html": [
       "<dl>\n",
       "\t<dt>$selection</dt>\n",
       "\t\t<dd><style>\n",
       ".dl-inline {width: auto; margin:0; padding: 0}\n",
       ".dl-inline>dt, .dl-inline>dd {float: none; width: auto; display: inline-block}\n",
       ".dl-inline>dt::after {content: \":\\0020\"; padding-right: .5ex}\n",
       ".dl-inline>dt:not(:first-of-type) {padding-left: .5ex}\n",
       "</style><dl class=dl-inline><dt>AIC(n)</dt><dd>1</dd><dt>HQ(n)</dt><dd>1</dd><dt>SC(n)</dt><dd>1</dd><dt>FPE(n)</dt><dd>1</dd></dl>\n",
       "</dd>\n",
       "\t<dt>$criteria</dt>\n",
       "\t\t<dd><table class=\"dataframe\">\n",
       "<caption>A matrix: 4 × 10 of type dbl</caption>\n",
       "<thead>\n",
       "\t<tr><th></th><th scope=col>1</th><th scope=col>2</th><th scope=col>3</th><th scope=col>4</th><th scope=col>5</th><th scope=col>6</th><th scope=col>7</th><th scope=col>8</th><th scope=col>9</th><th scope=col>10</th></tr>\n",
       "</thead>\n",
       "<tbody>\n",
       "\t<tr><th scope=row>AIC(n)</th><td>-1.831039e+01</td><td>-1.830898e+01</td><td>-1.830797e+01</td><td>-1.830751e+01</td><td>-1.830841e+01</td><td>-1.830766e+01</td><td>-1.830892e+01</td><td>-1.830766e+01</td><td>-1.830594e+01</td><td>-1.830711e+01</td></tr>\n",
       "\t<tr><th scope=row>HQ(n)</th><td>-1.830716e+01</td><td>-1.830360e+01</td><td>-1.830044e+01</td><td>-1.829782e+01</td><td>-1.829658e+01</td><td>-1.829368e+01</td><td>-1.829278e+01</td><td>-1.828937e+01</td><td>-1.828549e+01</td><td>-1.828451e+01</td></tr>\n",
       "\t<tr><th scope=row>SC(n)</th><td>-1.830127e+01</td><td>-1.829377e+01</td><td>-1.828667e+01</td><td>-1.828013e+01</td><td>-1.827495e+01</td><td>-1.826812e+01</td><td>-1.826329e+01</td><td>-1.825595e+01</td><td>-1.824814e+01</td><td>-1.824323e+01</td></tr>\n",
       "\t<tr><th scope=row>FPE(n)</th><td> 1.116602e-08</td><td> 1.118183e-08</td><td> 1.119311e-08</td><td> 1.119827e-08</td><td> 1.118812e-08</td><td> 1.119651e-08</td><td> 1.118250e-08</td><td> 1.119651e-08</td><td> 1.121585e-08</td><td> 1.120271e-08</td></tr>\n",
       "</tbody>\n",
       "</table>\n",
       "</dd>\n",
       "</dl>\n"
      ],
      "text/latex": [
       "\\begin{description}\n",
       "\\item[\\$selection] \\begin{description*}\n",
       "\\item[AIC(n)] 1\n",
       "\\item[HQ(n)] 1\n",
       "\\item[SC(n)] 1\n",
       "\\item[FPE(n)] 1\n",
       "\\end{description*}\n",
       "\n",
       "\\item[\\$criteria] A matrix: 4 × 10 of type dbl\n",
       "\\begin{tabular}{r|llllllllll}\n",
       "  & 1 & 2 & 3 & 4 & 5 & 6 & 7 & 8 & 9 & 10\\\\\n",
       "\\hline\n",
       "\tAIC(n) & -1.831039e+01 & -1.830898e+01 & -1.830797e+01 & -1.830751e+01 & -1.830841e+01 & -1.830766e+01 & -1.830892e+01 & -1.830766e+01 & -1.830594e+01 & -1.830711e+01\\\\\n",
       "\tHQ(n) & -1.830716e+01 & -1.830360e+01 & -1.830044e+01 & -1.829782e+01 & -1.829658e+01 & -1.829368e+01 & -1.829278e+01 & -1.828937e+01 & -1.828549e+01 & -1.828451e+01\\\\\n",
       "\tSC(n) & -1.830127e+01 & -1.829377e+01 & -1.828667e+01 & -1.828013e+01 & -1.827495e+01 & -1.826812e+01 & -1.826329e+01 & -1.825595e+01 & -1.824814e+01 & -1.824323e+01\\\\\n",
       "\tFPE(n) &  1.116602e-08 &  1.118183e-08 &  1.119311e-08 &  1.119827e-08 &  1.118812e-08 &  1.119651e-08 &  1.118250e-08 &  1.119651e-08 &  1.121585e-08 &  1.120271e-08\\\\\n",
       "\\end{tabular}\n",
       "\n",
       "\\end{description}\n"
      ],
      "text/markdown": [
       "$selection\n",
       ":   AIC(n)\n",
       ":   1HQ(n)\n",
       ":   1SC(n)\n",
       ":   1FPE(n)\n",
       ":   1\n",
       "\n",
       "\n",
       "$criteria\n",
       ":   \n",
       "A matrix: 4 × 10 of type dbl\n",
       "\n",
       "| <!--/--> | 1 | 2 | 3 | 4 | 5 | 6 | 7 | 8 | 9 | 10 |\n",
       "|---|---|---|---|---|---|---|---|---|---|---|\n",
       "| AIC(n) | -1.831039e+01 | -1.830898e+01 | -1.830797e+01 | -1.830751e+01 | -1.830841e+01 | -1.830766e+01 | -1.830892e+01 | -1.830766e+01 | -1.830594e+01 | -1.830711e+01 |\n",
       "| HQ(n) | -1.830716e+01 | -1.830360e+01 | -1.830044e+01 | -1.829782e+01 | -1.829658e+01 | -1.829368e+01 | -1.829278e+01 | -1.828937e+01 | -1.828549e+01 | -1.828451e+01 |\n",
       "| SC(n) | -1.830127e+01 | -1.829377e+01 | -1.828667e+01 | -1.828013e+01 | -1.827495e+01 | -1.826812e+01 | -1.826329e+01 | -1.825595e+01 | -1.824814e+01 | -1.824323e+01 |\n",
       "| FPE(n) |  1.116602e-08 |  1.118183e-08 |  1.119311e-08 |  1.119827e-08 |  1.118812e-08 |  1.119651e-08 |  1.118250e-08 |  1.119651e-08 |  1.121585e-08 |  1.120271e-08 |\n",
       "\n",
       "\n",
       "\n",
       "\n"
      ],
      "text/plain": [
       "$selection\n",
       "AIC(n)  HQ(n)  SC(n) FPE(n) \n",
       "     1      1      1      1 \n",
       "\n",
       "$criteria\n",
       "                   1             2             3             4             5\n",
       "AIC(n) -1.831039e+01 -1.830898e+01 -1.830797e+01 -1.830751e+01 -1.830841e+01\n",
       "HQ(n)  -1.830716e+01 -1.830360e+01 -1.830044e+01 -1.829782e+01 -1.829658e+01\n",
       "SC(n)  -1.830127e+01 -1.829377e+01 -1.828667e+01 -1.828013e+01 -1.827495e+01\n",
       "FPE(n)  1.116602e-08  1.118183e-08  1.119311e-08  1.119827e-08  1.118812e-08\n",
       "                   6             7             8             9            10\n",
       "AIC(n) -1.830766e+01 -1.830892e+01 -1.830766e+01 -1.830594e+01 -1.830711e+01\n",
       "HQ(n)  -1.829368e+01 -1.829278e+01 -1.828937e+01 -1.828549e+01 -1.828451e+01\n",
       "SC(n)  -1.826812e+01 -1.826329e+01 -1.825595e+01 -1.824814e+01 -1.824323e+01\n",
       "FPE(n)  1.119651e-08  1.118250e-08  1.119651e-08  1.121585e-08  1.120271e-08\n"
      ]
     },
     "metadata": {},
     "output_type": "display_data"
    }
   ],
   "source": [
    "VARselect(bekk2data,type = \"const\")"
   ]
  },
  {
   "cell_type": "code",
   "execution_count": 31,
   "id": "7168e806-9237-404c-9986-f835f14ad86b",
   "metadata": {},
   "outputs": [],
   "source": [
    "var_bekk2<-VAR(bekk2data,p = 1,type = \"const\")\n",
    "res_bekk2 <- residuals(var_bekk2)\n",
    "res_bekk2 <- as.data.frame(res_bekk2)"
   ]
  },
  {
   "cell_type": "code",
   "execution_count": 32,
   "id": "c2217724-3082-460b-bd99-444e6f6ffa71",
   "metadata": {},
   "outputs": [
    {
     "data": {
      "text/plain": [
       "\n",
       "VAR Estimation Results:\n",
       "========================= \n",
       "Endogenous variables: usc, gbpusd \n",
       "Deterministic variables: const \n",
       "Sample size: 4174 \n",
       "Log Likelihood: 26376.746 \n",
       "Roots of the characteristic polynomial:\n",
       "0.0471 0.01704\n",
       "Call:\n",
       "VAR(y = bekk2data, p = 1, type = \"const\")\n",
       "\n",
       "\n",
       "Estimation results for equation usc: \n",
       "==================================== \n",
       "usc = usc.l1 + gbpusd.l1 + const \n",
       "\n",
       "            Estimate Std. Error t value Pr(>|t|)    \n",
       "usc.l1    -0.0081004  0.0159291  -0.509    0.611    \n",
       "gbpusd.l1  0.1848315  0.0451377   4.095  4.3e-05 ***\n",
       "const      0.0003343  0.0002716   1.231    0.218    \n",
       "---\n",
       "Signif. codes:  0 ‘***’ 0.001 ‘**’ 0.01 ‘*’ 0.05 ‘.’ 0.1 ‘ ’ 1\n",
       "\n",
       "\n",
       "Residual standard error: 0.01754 on 4171 degrees of freedom\n",
       "Multiple R-Squared: 0.004055,\tAdjusted R-squared: 0.003578 \n",
       "F-statistic: 8.492 on 2 and 4171 DF,  p-value: 0.0002087 \n",
       "\n",
       "\n",
       "Estimation results for equation gbpusd: \n",
       "======================================= \n",
       "gbpusd = usc.l1 + gbpusd.l1 + const \n",
       "\n",
       "            Estimate Std. Error t value Pr(>|t|)  \n",
       "usc.l1     2.670e-03  5.616e-03   0.475   0.6345  \n",
       "gbpusd.l1  3.816e-02  1.591e-02   2.398   0.0165 *\n",
       "const     -8.329e-05  9.577e-05  -0.870   0.3845  \n",
       "---\n",
       "Signif. codes:  0 ‘***’ 0.001 ‘**’ 0.01 ‘*’ 0.05 ‘.’ 0.1 ‘ ’ 1\n",
       "\n",
       "\n",
       "Residual standard error: 0.006185 on 4171 degrees of freedom\n",
       "Multiple R-Squared: 0.001649,\tAdjusted R-squared: 0.00117 \n",
       "F-statistic: 3.444 on 2 and 4171 DF,  p-value: 0.03203 \n",
       "\n",
       "\n",
       "\n",
       "Covariance matrix of residuals:\n",
       "             usc    gbpusd\n",
       "usc    3.077e-04 2.521e-05\n",
       "gbpusd 2.521e-05 3.826e-05\n",
       "\n",
       "Correlation matrix of residuals:\n",
       "          usc gbpusd\n",
       "usc    1.0000 0.2323\n",
       "gbpusd 0.2323 1.0000\n",
       "\n"
      ]
     },
     "metadata": {},
     "output_type": "display_data"
    }
   ],
   "source": [
    "summary(var_bekk2)"
   ]
  },
  {
   "cell_type": "code",
   "execution_count": 33,
   "id": "ddff05ac-b4e8-466a-882f-b45ff642ea29",
   "metadata": {},
   "outputs": [
    {
     "name": "stdout",
     "output_type": "stream",
     "text": [
      " Date[1:4174], format: \"2007-07-09\" \"2007-07-10\" \"2007-07-11\" \"2007-07-12\" \"2007-07-13\" ...\n"
     ]
    }
   ],
   "source": [
    "ind_var2 <- index(bekk2data)[-1]\n",
    "str(ind_var2)"
   ]
  },
  {
   "cell_type": "code",
   "execution_count": 34,
   "id": "325525c5-a2ce-4f9c-89dc-0354f8c20493",
   "metadata": {},
   "outputs": [],
   "source": [
    "res_bekk2 <- xts(res_bekk2,order.by = ind_var2)"
   ]
  },
  {
   "cell_type": "code",
   "execution_count": 35,
   "id": "1a2c9ee8-840e-4dc9-96d5-be407778f981",
   "metadata": {},
   "outputs": [],
   "source": [
    "bekk_spec <- bekk_spec(model = list(type = \"bekk\",asymmetric = F))\n",
    "bekk2_fit <- bekk_fit(spec = bekk_spec,data = res_bekk2)"
   ]
  },
  {
   "cell_type": "code",
   "execution_count": 36,
   "id": "89d8678e-1a2b-4aec-adf3-58b15bb81fcd",
   "metadata": {},
   "outputs": [
    {
     "data": {
      "text/html": [
       "<table class=\"dataframe\">\n",
       "<caption>A matrix: 2 × 2 of type dbl</caption>\n",
       "<tbody>\n",
       "\t<tr><td>0.178295600</td><td>-0.0006100222</td></tr>\n",
       "\t<tr><td>0.001677049</td><td> 0.2518386644</td></tr>\n",
       "</tbody>\n",
       "</table>\n"
      ],
      "text/latex": [
       "A matrix: 2 × 2 of type dbl\n",
       "\\begin{tabular}{ll}\n",
       "\t 0.178295600 & -0.0006100222\\\\\n",
       "\t 0.001677049 &  0.2518386644\\\\\n",
       "\\end{tabular}\n"
      ],
      "text/markdown": [
       "\n",
       "A matrix: 2 × 2 of type dbl\n",
       "\n",
       "| 0.178295600 | -0.0006100222 |\n",
       "| 0.001677049 |  0.2518386644 |\n",
       "\n"
      ],
      "text/plain": [
       "     [,1]        [,2]         \n",
       "[1,] 0.178295600 -0.0006100222\n",
       "[2,] 0.001677049  0.2518386644"
      ]
     },
     "metadata": {},
     "output_type": "display_data"
    },
    {
     "data": {
      "text/html": [
       "<table class=\"dataframe\">\n",
       "<caption>A matrix: 2 × 2 of type dbl</caption>\n",
       "<tbody>\n",
       "\t<tr><td>23.95432126</td><td>-0.1514288</td></tr>\n",
       "\t<tr><td> 0.06424511</td><td>34.9826249</td></tr>\n",
       "</tbody>\n",
       "</table>\n"
      ],
      "text/latex": [
       "A matrix: 2 × 2 of type dbl\n",
       "\\begin{tabular}{ll}\n",
       "\t 23.95432126 & -0.1514288\\\\\n",
       "\t  0.06424511 & 34.9826249\\\\\n",
       "\\end{tabular}\n"
      ],
      "text/markdown": [
       "\n",
       "A matrix: 2 × 2 of type dbl\n",
       "\n",
       "| 23.95432126 | -0.1514288 |\n",
       "|  0.06424511 | 34.9826249 |\n",
       "\n"
      ],
      "text/plain": [
       "     [,1]        [,2]      \n",
       "[1,] 23.95432126 -0.1514288\n",
       "[2,]  0.06424511 34.9826249"
      ]
     },
     "metadata": {},
     "output_type": "display_data"
    }
   ],
   "source": [
    "bekk2_fit$A\n",
    "bekk2_fit$A_t"
   ]
  },
  {
   "cell_type": "code",
   "execution_count": 37,
   "id": "57cc79fe-53ca-437c-9107-73bc64351f0e",
   "metadata": {},
   "outputs": [
    {
     "data": {
      "text/html": [
       "<table class=\"dataframe\">\n",
       "<caption>A matrix: 2 × 2 of type dbl</caption>\n",
       "<tbody>\n",
       "\t<tr><td>0.982911050</td><td>0.0006984577</td></tr>\n",
       "\t<tr><td>0.001193039</td><td>0.9606309180</td></tr>\n",
       "</tbody>\n",
       "</table>\n"
      ],
      "text/latex": [
       "A matrix: 2 × 2 of type dbl\n",
       "\\begin{tabular}{ll}\n",
       "\t 0.982911050 & 0.0006984577\\\\\n",
       "\t 0.001193039 & 0.9606309180\\\\\n",
       "\\end{tabular}\n"
      ],
      "text/markdown": [
       "\n",
       "A matrix: 2 × 2 of type dbl\n",
       "\n",
       "| 0.982911050 | 0.0006984577 |\n",
       "| 0.001193039 | 0.9606309180 |\n",
       "\n"
      ],
      "text/plain": [
       "     [,1]        [,2]        \n",
       "[1,] 0.982911050 0.0006984577\n",
       "[2,] 0.001193039 0.9606309180"
      ]
     },
     "metadata": {},
     "output_type": "display_data"
    },
    {
     "data": {
      "text/html": [
       "<table class=\"dataframe\">\n",
       "<caption>A matrix: 2 × 2 of type dbl</caption>\n",
       "<tbody>\n",
       "\t<tr><td>600.0314183</td><td>  0.6276458</td></tr>\n",
       "\t<tr><td>  0.1422559</td><td>300.3741828</td></tr>\n",
       "</tbody>\n",
       "</table>\n"
      ],
      "text/latex": [
       "A matrix: 2 × 2 of type dbl\n",
       "\\begin{tabular}{ll}\n",
       "\t 600.0314183 &   0.6276458\\\\\n",
       "\t   0.1422559 & 300.3741828\\\\\n",
       "\\end{tabular}\n"
      ],
      "text/markdown": [
       "\n",
       "A matrix: 2 × 2 of type dbl\n",
       "\n",
       "| 600.0314183 |   0.6276458 |\n",
       "|   0.1422559 | 300.3741828 |\n",
       "\n"
      ],
      "text/plain": [
       "     [,1]        [,2]       \n",
       "[1,] 600.0314183   0.6276458\n",
       "[2,]   0.1422559 300.3741828"
      ]
     },
     "metadata": {},
     "output_type": "display_data"
    }
   ],
   "source": [
    "bekk2_fit$G\n",
    "bekk2_fit$G_t"
   ]
  },
  {
   "cell_type": "markdown",
   "id": "d3f4fbba-184c-4ce4-b930-aaab6512cbfa",
   "metadata": {},
   "source": [
    "- There is a significant return volatility spillover from GBP to US Cocoa\n",
    "- There are no significant volatility or shock spillovers between GBP and US Cocoa"
   ]
  },
  {
   "cell_type": "markdown",
   "id": "07f0c2d1-c034-4d9b-be7a-61fc7fe45009",
   "metadata": {},
   "source": [
    "### Table summarizing the results of the VAR-BEKK model for US Cocoa - GBPUSD"
   ]
  },
  {
   "cell_type": "code",
   "execution_count": 38,
   "id": "d9496c56-b154-4906-a8ea-28a0e3219e9e",
   "metadata": {},
   "outputs": [
    {
     "data": {
      "text/html": [
       "<table class=\"dataframe\">\n",
       "<caption>A data.frame: 14 × 5</caption>\n",
       "<thead>\n",
       "\t<tr><th scope=col>Parameters</th><th scope=col>Coefficient</th><th scope=col>Std_error</th><th scope=col>T_value</th><th scope=col>Significant_at_5p_level</th></tr>\n",
       "\t<tr><th scope=col>&lt;chr&gt;</th><th scope=col>&lt;dbl&gt;</th><th scope=col>&lt;dbl&gt;</th><th scope=col>&lt;dbl&gt;</th><th scope=col>&lt;chr&gt;</th></tr>\n",
       "</thead>\n",
       "<tbody>\n",
       "\t<tr><td>mu10 </td><td> 3.342929e-04</td><td>0.0002716165</td><td>  1.23075332</td><td>Not Statistically Significant</td></tr>\n",
       "\t<tr><td>mu20 </td><td>-8.328539e-05</td><td>0.0000957667</td><td> -0.86966963</td><td>Not Statistically Significant</td></tr>\n",
       "\t<tr><td>phi11</td><td>-8.100391e-03</td><td>0.0159290887</td><td> -0.50852822</td><td>Not Statistically Significant</td></tr>\n",
       "\t<tr><td>phi12</td><td> 1.848315e-01</td><td>0.0451376758</td><td>  4.09483839</td><td>Stat significant at 1%       </td></tr>\n",
       "\t<tr><td>phi21</td><td> 2.670272e-03</td><td>0.0056162875</td><td>  0.47545150</td><td>Not Statistically Significant</td></tr>\n",
       "\t<tr><td>phi22</td><td> 3.815795e-02</td><td>0.0159146683</td><td>  2.39765920</td><td>Stat significant at 5%       </td></tr>\n",
       "\t<tr><td>a11  </td><td> 1.782956e-01</td><td>0.0074431498</td><td> 23.95432126</td><td>Stat significant at 1%       </td></tr>\n",
       "\t<tr><td>a12  </td><td>-6.100222e-04</td><td>0.0040284411</td><td> -0.15142885</td><td>Not Statistically Significant</td></tr>\n",
       "\t<tr><td>a21  </td><td> 1.677049e-03</td><td>0.0261039156</td><td>  0.06424511</td><td>Not Statistically Significant</td></tr>\n",
       "\t<tr><td>a22  </td><td> 2.518387e-01</td><td>0.0071989642</td><td> 34.98262493</td><td>Stat significant at 1%       </td></tr>\n",
       "\t<tr><td>g11  </td><td> 9.829111e-01</td><td>0.0016380993</td><td>600.03141828</td><td>Stat significant at 1%       </td></tr>\n",
       "\t<tr><td>g12  </td><td> 6.984577e-04</td><td>0.0011128215</td><td>  0.62764575</td><td>Not Statistically Significant</td></tr>\n",
       "\t<tr><td>g21  </td><td> 1.193039e-03</td><td>0.0083865728</td><td>  0.14225586</td><td>Not Statistically Significant</td></tr>\n",
       "\t<tr><td>g22  </td><td> 9.606309e-01</td><td>0.0031981141</td><td>300.37418278</td><td>Stat significant at 1%       </td></tr>\n",
       "</tbody>\n",
       "</table>\n"
      ],
      "text/latex": [
       "A data.frame: 14 × 5\n",
       "\\begin{tabular}{lllll}\n",
       " Parameters & Coefficient & Std\\_error & T\\_value & Significant\\_at\\_5p\\_level\\\\\n",
       " <chr> & <dbl> & <dbl> & <dbl> & <chr>\\\\\n",
       "\\hline\n",
       "\t mu10  &  3.342929e-04 & 0.0002716165 &   1.23075332 & Not Statistically Significant\\\\\n",
       "\t mu20  & -8.328539e-05 & 0.0000957667 &  -0.86966963 & Not Statistically Significant\\\\\n",
       "\t phi11 & -8.100391e-03 & 0.0159290887 &  -0.50852822 & Not Statistically Significant\\\\\n",
       "\t phi12 &  1.848315e-01 & 0.0451376758 &   4.09483839 & Stat significant at 1\\%       \\\\\n",
       "\t phi21 &  2.670272e-03 & 0.0056162875 &   0.47545150 & Not Statistically Significant\\\\\n",
       "\t phi22 &  3.815795e-02 & 0.0159146683 &   2.39765920 & Stat significant at 5\\%       \\\\\n",
       "\t a11   &  1.782956e-01 & 0.0074431498 &  23.95432126 & Stat significant at 1\\%       \\\\\n",
       "\t a12   & -6.100222e-04 & 0.0040284411 &  -0.15142885 & Not Statistically Significant\\\\\n",
       "\t a21   &  1.677049e-03 & 0.0261039156 &   0.06424511 & Not Statistically Significant\\\\\n",
       "\t a22   &  2.518387e-01 & 0.0071989642 &  34.98262493 & Stat significant at 1\\%       \\\\\n",
       "\t g11   &  9.829111e-01 & 0.0016380993 & 600.03141828 & Stat significant at 1\\%       \\\\\n",
       "\t g12   &  6.984577e-04 & 0.0011128215 &   0.62764575 & Not Statistically Significant\\\\\n",
       "\t g21   &  1.193039e-03 & 0.0083865728 &   0.14225586 & Not Statistically Significant\\\\\n",
       "\t g22   &  9.606309e-01 & 0.0031981141 & 300.37418278 & Stat significant at 1\\%       \\\\\n",
       "\\end{tabular}\n"
      ],
      "text/markdown": [
       "\n",
       "A data.frame: 14 × 5\n",
       "\n",
       "| Parameters &lt;chr&gt; | Coefficient &lt;dbl&gt; | Std_error &lt;dbl&gt; | T_value &lt;dbl&gt; | Significant_at_5p_level &lt;chr&gt; |\n",
       "|---|---|---|---|---|\n",
       "| mu10  |  3.342929e-04 | 0.0002716165 |   1.23075332 | Not Statistically Significant |\n",
       "| mu20  | -8.328539e-05 | 0.0000957667 |  -0.86966963 | Not Statistically Significant |\n",
       "| phi11 | -8.100391e-03 | 0.0159290887 |  -0.50852822 | Not Statistically Significant |\n",
       "| phi12 |  1.848315e-01 | 0.0451376758 |   4.09483839 | Stat significant at 1%        |\n",
       "| phi21 |  2.670272e-03 | 0.0056162875 |   0.47545150 | Not Statistically Significant |\n",
       "| phi22 |  3.815795e-02 | 0.0159146683 |   2.39765920 | Stat significant at 5%        |\n",
       "| a11   |  1.782956e-01 | 0.0074431498 |  23.95432126 | Stat significant at 1%        |\n",
       "| a12   | -6.100222e-04 | 0.0040284411 |  -0.15142885 | Not Statistically Significant |\n",
       "| a21   |  1.677049e-03 | 0.0261039156 |   0.06424511 | Not Statistically Significant |\n",
       "| a22   |  2.518387e-01 | 0.0071989642 |  34.98262493 | Stat significant at 1%        |\n",
       "| g11   |  9.829111e-01 | 0.0016380993 | 600.03141828 | Stat significant at 1%        |\n",
       "| g12   |  6.984577e-04 | 0.0011128215 |   0.62764575 | Not Statistically Significant |\n",
       "| g21   |  1.193039e-03 | 0.0083865728 |   0.14225586 | Not Statistically Significant |\n",
       "| g22   |  9.606309e-01 | 0.0031981141 | 300.37418278 | Stat significant at 1%        |\n",
       "\n"
      ],
      "text/plain": [
       "   Parameters Coefficient   Std_error    T_value     \n",
       "1  mu10        3.342929e-04 0.0002716165   1.23075332\n",
       "2  mu20       -8.328539e-05 0.0000957667  -0.86966963\n",
       "3  phi11      -8.100391e-03 0.0159290887  -0.50852822\n",
       "4  phi12       1.848315e-01 0.0451376758   4.09483839\n",
       "5  phi21       2.670272e-03 0.0056162875   0.47545150\n",
       "6  phi22       3.815795e-02 0.0159146683   2.39765920\n",
       "7  a11         1.782956e-01 0.0074431498  23.95432126\n",
       "8  a12        -6.100222e-04 0.0040284411  -0.15142885\n",
       "9  a21         1.677049e-03 0.0261039156   0.06424511\n",
       "10 a22         2.518387e-01 0.0071989642  34.98262493\n",
       "11 g11         9.829111e-01 0.0016380993 600.03141828\n",
       "12 g12         6.984577e-04 0.0011128215   0.62764575\n",
       "13 g21         1.193039e-03 0.0083865728   0.14225586\n",
       "14 g22         9.606309e-01 0.0031981141 300.37418278\n",
       "   Significant_at_5p_level      \n",
       "1  Not Statistically Significant\n",
       "2  Not Statistically Significant\n",
       "3  Not Statistically Significant\n",
       "4  Stat significant at 1%       \n",
       "5  Not Statistically Significant\n",
       "6  Stat significant at 5%       \n",
       "7  Stat significant at 1%       \n",
       "8  Not Statistically Significant\n",
       "9  Not Statistically Significant\n",
       "10 Stat significant at 1%       \n",
       "11 Stat significant at 1%       \n",
       "12 Not Statistically Significant\n",
       "13 Not Statistically Significant\n",
       "14 Stat significant at 1%       "
      ]
     },
     "metadata": {},
     "output_type": "display_data"
    }
   ],
   "source": [
    "bekk2 <- data.frame(Parameters = c(\"mu10\",\"mu20\",\"phi11\",\"phi12\",\"phi21\",\"phi22\",\"a11\",\"a12\",\"a21\",\"a22\",\"g11\",\"g12\",\"g21\",\"g22\"),\n",
    "                   Coefficient = c(summary(var_bekk2)$varresult$usc$coefficients[\"const\",\"Estimate\"],summary(var_bekk2)$varresult$gbpusd$coefficients[\"const\",\"Estimate\"],\n",
    "                       summary(var_bekk2)$varresult$usc$coefficients[\"usc.l1\",\"Estimate\"],summary(var_bekk2)$varresult$usc$coefficients[\"gbpusd.l1\",\"Estimate\"],\n",
    "                                   summary(var_bekk2)$varresult$gbpusd$coefficients[\"usc.l1\",\"Estimate\"],summary(var_bekk2)$varresult$gbpusd$coefficients[\"gbpusd.l1\",\"Estimate\"],\n",
    "                                   bekk2_fit$A[1,1],bekk2_fit$A[1,2],bekk2_fit$A[2,1],bekk2_fit$A[2,2],bekk2_fit$G[1,1],bekk2_fit$G[1,2],bekk2_fit$G[2,1],bekk2_fit$G[2,2]),\n",
    "                   Std_error = c(summary(var_bekk2)$varresult$usc$coefficients[\"const\",\"Std. Error\"],summary(var_bekk2)$varresult$gbpusd$coefficients[\"const\",\"Std. Error\"],\n",
    "                       summary(var_bekk2)$varresult$usc$coefficients[\"usc.l1\",\"Std. Error\"],summary(var_bekk2)$varresult$usc$coefficients[\"gbpusd.l1\",\"Std. Error\"],\n",
    "                                 summary(var_bekk2)$varresult$gbpusd$coefficients[\"usc.l1\",\"Std. Error\"],summary(var_bekk2)$varresult$gbpusd$coefficients[\"gbpusd.l1\",\"Std. Error\"],\n",
    "                                 bekk2_fit$A_sd[1,1],bekk2_fit$A_sd[1,2],bekk2_fit$A_sd[2,1],bekk2_fit$A_sd[2,2],bekk2_fit$G_sd[1,1],bekk2_fit$G_sd[1,2],bekk2_fit$G_sd[2,1],bekk2_fit$G_sd[2,2]),\n",
    "                   T_value = c(summary(var_bekk2)$varresult$usc$coefficients[\"const\",\"t value\"],summary(var_bekk2)$varresult$gbpusd$coefficients[\"const\",\"t value\"],\n",
    "                       summary(var_bekk2)$varresult$usc$coefficients[\"usc.l1\",\"t value\"],summary(var_bekk2)$varresult$usc$coefficients[\"gbpusd.l1\",\"t value\"],\n",
    "                               summary(var_bekk2)$varresult$gbpusd$coefficients[\"usc.l1\",\"t value\"],summary(var_bekk2)$varresult$gbpusd$coefficients[\"gbpusd.l1\",\"t value\"],\n",
    "                               bekk2_fit$A_t[1,1],bekk2_fit$A_t[1,2],bekk2_fit$A_t[2,1],bekk2_fit$A_t[2,2],bekk2_fit$G_t[1,1],bekk2_fit$G_t[1,2],bekk2_fit$G_t[2,1],bekk2_fit$G_t[2,2]))\n",
    "\n",
    "bekk2$Significant_at_5p_level[abs(bekk2$T_value) >= 2.58 ] <- \"Stat significant at 1%\"\n",
    "bekk2$Significant_at_5p_level[abs(bekk2$T_value) > 1.96 & abs(bekk2$T_value) < 2.58] <- \"Stat significant at 5%\"\n",
    "bekk2$Significant_at_5p_level[abs(bekk2$T_value) > 1.645 & abs(bekk2$T_value) <= 1.96 ] <- \"Stat significant at 10%\"\n",
    "bekk2$Significant_at_5p_level[abs(bekk2$T_value) <= 1.645] <- \"Not Statistically Significant\"\n",
    "bekk2"
   ]
  },
  {
   "cell_type": "code",
   "execution_count": 39,
   "id": "1d4190f8-b717-448c-a776-c9d9b5fa6777",
   "metadata": {},
   "outputs": [
    {
     "data": {
      "text/plain": [
       "\n",
       "\tGranger causality H0: usc do not Granger-cause gbpusd\n",
       "\n",
       "data:  VAR object var_bekk2\n",
       "F-Test = 0.22605, df1 = 1, df2 = 8342, p-value = 0.6345\n"
      ]
     },
     "metadata": {},
     "output_type": "display_data"
    },
    {
     "data": {
      "text/plain": [
       "\n",
       "\tGranger causality H0: gbpusd do not Granger-cause usc\n",
       "\n",
       "data:  VAR object var_bekk2\n",
       "F-Test = 16.768, df1 = 1, df2 = 8342, p-value = 4.265e-05\n"
      ]
     },
     "metadata": {},
     "output_type": "display_data"
    }
   ],
   "source": [
    "causality(var_bekk2,cause = \"usc\")$Granger\n",
    "causality(var_bekk2,cause = \"gbpusd\")$Granger"
   ]
  },
  {
   "cell_type": "markdown",
   "id": "ad5e35ec-4bc7-44c2-9657-b7debc985c71",
   "metadata": {},
   "source": [
    "## (c) VAR-BEKK: US Cocoa-CHFUSD"
   ]
  },
  {
   "cell_type": "code",
   "execution_count": 40,
   "id": "bb155ef3-fc3d-4a4e-b908-d1bb576c1ad0",
   "metadata": {},
   "outputs": [
    {
     "data": {
      "text/plain": [
       "                     usc        chfusd\n",
       "2007-07-06  0.0033026687 -0.0003044418\n",
       "2007-07-09 -0.0108928380  0.0012172115\n",
       "2007-07-10 -0.0378502241  0.0115503355\n",
       "2007-07-11  0.0210431058 -0.0029504763\n",
       "2007-07-12  0.0057943185  0.0028903495\n",
       "2007-07-13 -0.0009633912  0.0000000000"
      ]
     },
     "metadata": {},
     "output_type": "display_data"
    }
   ],
   "source": [
    "bekk3data <- us_d[,c(1,4)]\n",
    "head(bekk3data)"
   ]
  },
  {
   "cell_type": "code",
   "execution_count": 41,
   "id": "6e434d85-ba81-4db6-8c5f-9a791ecc28c8",
   "metadata": {},
   "outputs": [
    {
     "data": {
      "text/html": [
       "<dl>\n",
       "\t<dt>$selection</dt>\n",
       "\t\t<dd><style>\n",
       ".dl-inline {width: auto; margin:0; padding: 0}\n",
       ".dl-inline>dt, .dl-inline>dd {float: none; width: auto; display: inline-block}\n",
       ".dl-inline>dt::after {content: \":\\0020\"; padding-right: .5ex}\n",
       ".dl-inline>dt:not(:first-of-type) {padding-left: .5ex}\n",
       "</style><dl class=dl-inline><dt>AIC(n)</dt><dd>1</dd><dt>HQ(n)</dt><dd>1</dd><dt>SC(n)</dt><dd>1</dd><dt>FPE(n)</dt><dd>1</dd></dl>\n",
       "</dd>\n",
       "\t<dt>$criteria</dt>\n",
       "\t\t<dd><table class=\"dataframe\">\n",
       "<caption>A matrix: 4 × 10 of type dbl</caption>\n",
       "<thead>\n",
       "\t<tr><th></th><th scope=col>1</th><th scope=col>2</th><th scope=col>3</th><th scope=col>4</th><th scope=col>5</th><th scope=col>6</th><th scope=col>7</th><th scope=col>8</th><th scope=col>9</th><th scope=col>10</th></tr>\n",
       "</thead>\n",
       "<tbody>\n",
       "\t<tr><th scope=row>AIC(n)</th><td>-1.811350e+01</td><td>-1.811192e+01</td><td>-1.811064e+01</td><td>-1.810946e+01</td><td>-1.810831e+01</td><td>-1.810775e+01</td><td>-1.810728e+01</td><td>-1.810557e+01</td><td>-1.810524e+01</td><td>-1.810475e+01</td></tr>\n",
       "\t<tr><th scope=row>HQ(n)</th><td>-1.811027e+01</td><td>-1.810654e+01</td><td>-1.810311e+01</td><td>-1.809977e+01</td><td>-1.809647e+01</td><td>-1.809376e+01</td><td>-1.809114e+01</td><td>-1.808728e+01</td><td>-1.808479e+01</td><td>-1.808215e+01</td></tr>\n",
       "\t<tr><th scope=row>SC(n)</th><td>-1.810438e+01</td><td>-1.809671e+01</td><td>-1.808934e+01</td><td>-1.808208e+01</td><td>-1.807485e+01</td><td>-1.806820e+01</td><td>-1.806165e+01</td><td>-1.805386e+01</td><td>-1.804744e+01</td><td>-1.804087e+01</td></tr>\n",
       "\t<tr><th scope=row>FPE(n)</th><td> 1.359586e-08</td><td> 1.361736e-08</td><td> 1.363484e-08</td><td> 1.365094e-08</td><td> 1.366664e-08</td><td> 1.367434e-08</td><td> 1.368073e-08</td><td> 1.370405e-08</td><td> 1.370866e-08</td><td> 1.371536e-08</td></tr>\n",
       "</tbody>\n",
       "</table>\n",
       "</dd>\n",
       "</dl>\n"
      ],
      "text/latex": [
       "\\begin{description}\n",
       "\\item[\\$selection] \\begin{description*}\n",
       "\\item[AIC(n)] 1\n",
       "\\item[HQ(n)] 1\n",
       "\\item[SC(n)] 1\n",
       "\\item[FPE(n)] 1\n",
       "\\end{description*}\n",
       "\n",
       "\\item[\\$criteria] A matrix: 4 × 10 of type dbl\n",
       "\\begin{tabular}{r|llllllllll}\n",
       "  & 1 & 2 & 3 & 4 & 5 & 6 & 7 & 8 & 9 & 10\\\\\n",
       "\\hline\n",
       "\tAIC(n) & -1.811350e+01 & -1.811192e+01 & -1.811064e+01 & -1.810946e+01 & -1.810831e+01 & -1.810775e+01 & -1.810728e+01 & -1.810557e+01 & -1.810524e+01 & -1.810475e+01\\\\\n",
       "\tHQ(n) & -1.811027e+01 & -1.810654e+01 & -1.810311e+01 & -1.809977e+01 & -1.809647e+01 & -1.809376e+01 & -1.809114e+01 & -1.808728e+01 & -1.808479e+01 & -1.808215e+01\\\\\n",
       "\tSC(n) & -1.810438e+01 & -1.809671e+01 & -1.808934e+01 & -1.808208e+01 & -1.807485e+01 & -1.806820e+01 & -1.806165e+01 & -1.805386e+01 & -1.804744e+01 & -1.804087e+01\\\\\n",
       "\tFPE(n) &  1.359586e-08 &  1.361736e-08 &  1.363484e-08 &  1.365094e-08 &  1.366664e-08 &  1.367434e-08 &  1.368073e-08 &  1.370405e-08 &  1.370866e-08 &  1.371536e-08\\\\\n",
       "\\end{tabular}\n",
       "\n",
       "\\end{description}\n"
      ],
      "text/markdown": [
       "$selection\n",
       ":   AIC(n)\n",
       ":   1HQ(n)\n",
       ":   1SC(n)\n",
       ":   1FPE(n)\n",
       ":   1\n",
       "\n",
       "\n",
       "$criteria\n",
       ":   \n",
       "A matrix: 4 × 10 of type dbl\n",
       "\n",
       "| <!--/--> | 1 | 2 | 3 | 4 | 5 | 6 | 7 | 8 | 9 | 10 |\n",
       "|---|---|---|---|---|---|---|---|---|---|---|\n",
       "| AIC(n) | -1.811350e+01 | -1.811192e+01 | -1.811064e+01 | -1.810946e+01 | -1.810831e+01 | -1.810775e+01 | -1.810728e+01 | -1.810557e+01 | -1.810524e+01 | -1.810475e+01 |\n",
       "| HQ(n) | -1.811027e+01 | -1.810654e+01 | -1.810311e+01 | -1.809977e+01 | -1.809647e+01 | -1.809376e+01 | -1.809114e+01 | -1.808728e+01 | -1.808479e+01 | -1.808215e+01 |\n",
       "| SC(n) | -1.810438e+01 | -1.809671e+01 | -1.808934e+01 | -1.808208e+01 | -1.807485e+01 | -1.806820e+01 | -1.806165e+01 | -1.805386e+01 | -1.804744e+01 | -1.804087e+01 |\n",
       "| FPE(n) |  1.359586e-08 |  1.361736e-08 |  1.363484e-08 |  1.365094e-08 |  1.366664e-08 |  1.367434e-08 |  1.368073e-08 |  1.370405e-08 |  1.370866e-08 |  1.371536e-08 |\n",
       "\n",
       "\n",
       "\n",
       "\n"
      ],
      "text/plain": [
       "$selection\n",
       "AIC(n)  HQ(n)  SC(n) FPE(n) \n",
       "     1      1      1      1 \n",
       "\n",
       "$criteria\n",
       "                   1             2             3             4             5\n",
       "AIC(n) -1.811350e+01 -1.811192e+01 -1.811064e+01 -1.810946e+01 -1.810831e+01\n",
       "HQ(n)  -1.811027e+01 -1.810654e+01 -1.810311e+01 -1.809977e+01 -1.809647e+01\n",
       "SC(n)  -1.810438e+01 -1.809671e+01 -1.808934e+01 -1.808208e+01 -1.807485e+01\n",
       "FPE(n)  1.359586e-08  1.361736e-08  1.363484e-08  1.365094e-08  1.366664e-08\n",
       "                   6             7             8             9            10\n",
       "AIC(n) -1.810775e+01 -1.810728e+01 -1.810557e+01 -1.810524e+01 -1.810475e+01\n",
       "HQ(n)  -1.809376e+01 -1.809114e+01 -1.808728e+01 -1.808479e+01 -1.808215e+01\n",
       "SC(n)  -1.806820e+01 -1.806165e+01 -1.805386e+01 -1.804744e+01 -1.804087e+01\n",
       "FPE(n)  1.367434e-08  1.368073e-08  1.370405e-08  1.370866e-08  1.371536e-08\n"
      ]
     },
     "metadata": {},
     "output_type": "display_data"
    }
   ],
   "source": [
    "VARselect(bekk3data,type = \"const\")"
   ]
  },
  {
   "cell_type": "code",
   "execution_count": 42,
   "id": "8a93e86f-94a5-4e61-b9d7-d59a8566abd2",
   "metadata": {},
   "outputs": [],
   "source": [
    "var_bekk3<-VAR(bekk3data,p = 1,type = \"const\")\n",
    "res_bekk3 <- residuals(var_bekk3)\n",
    "res_bekk3 <- as.data.frame(res_bekk3)"
   ]
  },
  {
   "cell_type": "code",
   "execution_count": 43,
   "id": "37667665-6887-48b4-8765-f78565559a15",
   "metadata": {},
   "outputs": [
    {
     "data": {
      "text/plain": [
       "\n",
       "VAR Estimation Results:\n",
       "========================= \n",
       "Endogenous variables: usc, chfusd \n",
       "Deterministic variables: const \n",
       "Sample size: 4174 \n",
       "Log Likelihood: 25965.156 \n",
       "Roots of the characteristic polynomial:\n",
       "0.02551 0.02154\n",
       "Call:\n",
       "VAR(y = bekk3data, p = 1, type = \"const\")\n",
       "\n",
       "\n",
       "Estimation results for equation usc: \n",
       "==================================== \n",
       "usc = usc.l1 + chfusd.l1 + const \n",
       "\n",
       "           Estimate Std. Error t value Pr(>|t|)  \n",
       "usc.l1    0.0037354  0.0156214   0.239   0.8110  \n",
       "chfusd.l1 0.0761201  0.0410353   1.855   0.0637 .\n",
       "const     0.0003084  0.0002720   1.134   0.2569  \n",
       "---\n",
       "Signif. codes:  0 ‘***’ 0.001 ‘**’ 0.01 ‘*’ 0.05 ‘.’ 0.1 ‘ ’ 1\n",
       "\n",
       "\n",
       "Residual standard error: 0.01757 on 4171 degrees of freedom\n",
       "Multiple R-Squared: 0.0008757,\tAdjusted R-squared: 0.0003967 \n",
       "F-statistic: 1.828 on 2 and 4171 DF,  p-value: 0.1609 \n",
       "\n",
       "\n",
       "Estimation results for equation chfusd: \n",
       "======================================= \n",
       "chfusd = usc.l1 + chfusd.l1 + const \n",
       "\n",
       "           Estimate Std. Error t value Pr(>|t|)\n",
       "usc.l1    7.229e-03  5.936e-03   1.218    0.223\n",
       "chfusd.l1 2.365e-04  1.559e-02   0.015    0.988\n",
       "const     8.345e-05  1.034e-04   0.807    0.420\n",
       "\n",
       "\n",
       "Residual standard error: 0.006677 on 4171 degrees of freedom\n",
       "Multiple R-Squared: 0.0003617,\tAdjusted R-squared: -0.0001177 \n",
       "F-statistic: 0.7545 on 2 and 4171 DF,  p-value: 0.4703 \n",
       "\n",
       "\n",
       "\n",
       "Covariance matrix of residuals:\n",
       "             usc    chfusd\n",
       "usc    3.087e-04 1.405e-05\n",
       "chfusd 1.405e-05 4.458e-05\n",
       "\n",
       "Correlation matrix of residuals:\n",
       "          usc chfusd\n",
       "usc    1.0000 0.1197\n",
       "chfusd 0.1197 1.0000\n",
       "\n"
      ]
     },
     "metadata": {},
     "output_type": "display_data"
    }
   ],
   "source": [
    "summary(var_bekk3)"
   ]
  },
  {
   "cell_type": "code",
   "execution_count": 44,
   "id": "e95fc76e-e16a-4668-8a27-32412fb8bd4e",
   "metadata": {},
   "outputs": [
    {
     "name": "stdout",
     "output_type": "stream",
     "text": [
      " Date[1:4174], format: \"2007-07-09\" \"2007-07-10\" \"2007-07-11\" \"2007-07-12\" \"2007-07-13\" ...\n"
     ]
    }
   ],
   "source": [
    "ind_var3 <- index(bekk3data)[-1]\n",
    "str(ind_var3)"
   ]
  },
  {
   "cell_type": "code",
   "execution_count": 45,
   "id": "9097f525-9837-4d4e-afe4-48eafe4df23a",
   "metadata": {},
   "outputs": [],
   "source": [
    "res_bekk3 <- xts(res_bekk3,order.by = ind_var3)\n",
    "bekk_spec <- bekk_spec(model = list(type = \"bekk\",asymmetric = F))\n",
    "bekk3_fit <- bekk_fit(spec = bekk_spec,data = res_bekk3)"
   ]
  },
  {
   "cell_type": "code",
   "execution_count": 46,
   "id": "471b7720-cbbb-44ca-93f9-f880465953f5",
   "metadata": {},
   "outputs": [
    {
     "data": {
      "text/html": [
       "<table class=\"dataframe\">\n",
       "<caption>A matrix: 2 × 2 of type dbl</caption>\n",
       "<tbody>\n",
       "\t<tr><td>0.18987810</td><td>-0.003094715</td></tr>\n",
       "\t<tr><td>0.01508719</td><td> 0.199037808</td></tr>\n",
       "</tbody>\n",
       "</table>\n"
      ],
      "text/latex": [
       "A matrix: 2 × 2 of type dbl\n",
       "\\begin{tabular}{ll}\n",
       "\t 0.18987810 & -0.003094715\\\\\n",
       "\t 0.01508719 &  0.199037808\\\\\n",
       "\\end{tabular}\n"
      ],
      "text/markdown": [
       "\n",
       "A matrix: 2 × 2 of type dbl\n",
       "\n",
       "| 0.18987810 | -0.003094715 |\n",
       "| 0.01508719 |  0.199037808 |\n",
       "\n"
      ],
      "text/plain": [
       "     [,1]       [,2]        \n",
       "[1,] 0.18987810 -0.003094715\n",
       "[2,] 0.01508719  0.199037808"
      ]
     },
     "metadata": {},
     "output_type": "display_data"
    },
    {
     "data": {
      "text/html": [
       "<table class=\"dataframe\">\n",
       "<caption>A matrix: 2 × 2 of type dbl</caption>\n",
       "<tbody>\n",
       "\t<tr><td>22.6551449</td><td>-0.4793143</td></tr>\n",
       "\t<tr><td> 0.5922876</td><td>18.2834288</td></tr>\n",
       "</tbody>\n",
       "</table>\n"
      ],
      "text/latex": [
       "A matrix: 2 × 2 of type dbl\n",
       "\\begin{tabular}{ll}\n",
       "\t 22.6551449 & -0.4793143\\\\\n",
       "\t  0.5922876 & 18.2834288\\\\\n",
       "\\end{tabular}\n"
      ],
      "text/markdown": [
       "\n",
       "A matrix: 2 × 2 of type dbl\n",
       "\n",
       "| 22.6551449 | -0.4793143 |\n",
       "|  0.5922876 | 18.2834288 |\n",
       "\n"
      ],
      "text/plain": [
       "     [,1]       [,2]      \n",
       "[1,] 22.6551449 -0.4793143\n",
       "[2,]  0.5922876 18.2834288"
      ]
     },
     "metadata": {},
     "output_type": "display_data"
    }
   ],
   "source": [
    "bekk3_fit$A\n",
    "bekk3_fit$A_t"
   ]
  },
  {
   "cell_type": "code",
   "execution_count": 47,
   "id": "e0479977-208b-4a84-a809-e8546a9d4156",
   "metadata": {},
   "outputs": [
    {
     "data": {
      "text/html": [
       "<table class=\"dataframe\">\n",
       "<caption>A matrix: 2 × 2 of type dbl</caption>\n",
       "<tbody>\n",
       "\t<tr><td>0.980535634</td><td>-0.0001716564</td></tr>\n",
       "\t<tr><td>0.006056191</td><td> 0.9812352429</td></tr>\n",
       "</tbody>\n",
       "</table>\n"
      ],
      "text/latex": [
       "A matrix: 2 × 2 of type dbl\n",
       "\\begin{tabular}{ll}\n",
       "\t 0.980535634 & -0.0001716564\\\\\n",
       "\t 0.006056191 &  0.9812352429\\\\\n",
       "\\end{tabular}\n"
      ],
      "text/markdown": [
       "\n",
       "A matrix: 2 × 2 of type dbl\n",
       "\n",
       "| 0.980535634 | -0.0001716564 |\n",
       "| 0.006056191 |  0.9812352429 |\n",
       "\n"
      ],
      "text/plain": [
       "     [,1]        [,2]         \n",
       "[1,] 0.980535634 -0.0001716564\n",
       "[2,] 0.006056191  0.9812352429"
      ]
     },
     "metadata": {},
     "output_type": "display_data"
    },
    {
     "data": {
      "text/html": [
       "<table class=\"dataframe\">\n",
       "<caption>A matrix: 2 × 2 of type dbl</caption>\n",
       "<tbody>\n",
       "\t<tr><td>549.313694</td><td> -0.1164837</td></tr>\n",
       "\t<tr><td>  1.278309</td><td>390.7364884</td></tr>\n",
       "</tbody>\n",
       "</table>\n"
      ],
      "text/latex": [
       "A matrix: 2 × 2 of type dbl\n",
       "\\begin{tabular}{ll}\n",
       "\t 549.313694 &  -0.1164837\\\\\n",
       "\t   1.278309 & 390.7364884\\\\\n",
       "\\end{tabular}\n"
      ],
      "text/markdown": [
       "\n",
       "A matrix: 2 × 2 of type dbl\n",
       "\n",
       "| 549.313694 |  -0.1164837 |\n",
       "|   1.278309 | 390.7364884 |\n",
       "\n"
      ],
      "text/plain": [
       "     [,1]       [,2]       \n",
       "[1,] 549.313694  -0.1164837\n",
       "[2,]   1.278309 390.7364884"
      ]
     },
     "metadata": {},
     "output_type": "display_data"
    }
   ],
   "source": [
    "bekk3_fit$G\n",
    "bekk3_fit$G_t"
   ]
  },
  {
   "cell_type": "markdown",
   "id": "b8a557c0-c08a-490f-94ce-7eb374d7b7da",
   "metadata": {},
   "source": [
    "- There's significant return spillover from chf to US Cocoa(significant 1st lag of CHFUSD for usc only at 10% level)\n",
    "- No shock or volatility spillover"
   ]
  },
  {
   "cell_type": "markdown",
   "id": "d1aefb74-bb65-41d0-b43a-eb865e0e411d",
   "metadata": {},
   "source": [
    "### Table summarizing the results of the VAR-BEKK model for US Cocoa - CHFUSD"
   ]
  },
  {
   "cell_type": "code",
   "execution_count": 48,
   "id": "79c7f5ec-64dc-4ddf-8cab-f300e78fb04b",
   "metadata": {},
   "outputs": [
    {
     "data": {
      "text/html": [
       "<table class=\"dataframe\">\n",
       "<caption>A data.frame: 14 × 5</caption>\n",
       "<thead>\n",
       "\t<tr><th scope=col>Parameters</th><th scope=col>Coefficient</th><th scope=col>Std_error</th><th scope=col>T_value</th><th scope=col>Significant_at_5p_level</th></tr>\n",
       "\t<tr><th scope=col>&lt;chr&gt;</th><th scope=col>&lt;dbl&gt;</th><th scope=col>&lt;dbl&gt;</th><th scope=col>&lt;dbl&gt;</th><th scope=col>&lt;chr&gt;</th></tr>\n",
       "</thead>\n",
       "<tbody>\n",
       "\t<tr><td>mu10 </td><td> 3.084219e-04</td><td>0.0002720190</td><td>  1.13382490</td><td>Not Statistically Significant</td></tr>\n",
       "\t<tr><td>mu20 </td><td> 8.344983e-05</td><td>0.0001033682</td><td>  0.80730700</td><td>Not Statistically Significant</td></tr>\n",
       "\t<tr><td>phi11</td><td> 3.735370e-03</td><td>0.0156213526</td><td>  0.23911951</td><td>Not Statistically Significant</td></tr>\n",
       "\t<tr><td>phi12</td><td> 7.612008e-02</td><td>0.0410353374</td><td>  1.85498862</td><td>Stat significant at 10%      </td></tr>\n",
       "\t<tr><td>phi21</td><td> 7.228815e-03</td><td>0.0059361677</td><td>  1.21775793</td><td>Not Statistically Significant</td></tr>\n",
       "\t<tr><td>phi22</td><td> 2.364666e-04</td><td>0.0155935692</td><td>  0.01516437</td><td>Not Statistically Significant</td></tr>\n",
       "\t<tr><td>a11  </td><td> 1.898781e-01</td><td>0.0083812354</td><td> 22.65514494</td><td>Stat significant at 1%       </td></tr>\n",
       "\t<tr><td>a12  </td><td>-3.094715e-03</td><td>0.0064565471</td><td> -0.47931431</td><td>Not Statistically Significant</td></tr>\n",
       "\t<tr><td>a21  </td><td> 1.508719e-02</td><td>0.0254727401</td><td>  0.59228764</td><td>Not Statistically Significant</td></tr>\n",
       "\t<tr><td>a22  </td><td> 1.990378e-01</td><td>0.0108862408</td><td> 18.28342884</td><td>Stat significant at 1%       </td></tr>\n",
       "\t<tr><td>g11  </td><td> 9.805356e-01</td><td>0.0017850195</td><td>549.31369445</td><td>Stat significant at 1%       </td></tr>\n",
       "\t<tr><td>g12  </td><td>-1.716564e-04</td><td>0.0014736510</td><td> -0.11648373</td><td>Not Statistically Significant</td></tr>\n",
       "\t<tr><td>g21  </td><td> 6.056191e-03</td><td>0.0047376565</td><td>  1.27830937</td><td>Not Statistically Significant</td></tr>\n",
       "\t<tr><td>g22  </td><td> 9.812352e-01</td><td>0.0025112455</td><td>390.73648839</td><td>Stat significant at 1%       </td></tr>\n",
       "</tbody>\n",
       "</table>\n"
      ],
      "text/latex": [
       "A data.frame: 14 × 5\n",
       "\\begin{tabular}{lllll}\n",
       " Parameters & Coefficient & Std\\_error & T\\_value & Significant\\_at\\_5p\\_level\\\\\n",
       " <chr> & <dbl> & <dbl> & <dbl> & <chr>\\\\\n",
       "\\hline\n",
       "\t mu10  &  3.084219e-04 & 0.0002720190 &   1.13382490 & Not Statistically Significant\\\\\n",
       "\t mu20  &  8.344983e-05 & 0.0001033682 &   0.80730700 & Not Statistically Significant\\\\\n",
       "\t phi11 &  3.735370e-03 & 0.0156213526 &   0.23911951 & Not Statistically Significant\\\\\n",
       "\t phi12 &  7.612008e-02 & 0.0410353374 &   1.85498862 & Stat significant at 10\\%      \\\\\n",
       "\t phi21 &  7.228815e-03 & 0.0059361677 &   1.21775793 & Not Statistically Significant\\\\\n",
       "\t phi22 &  2.364666e-04 & 0.0155935692 &   0.01516437 & Not Statistically Significant\\\\\n",
       "\t a11   &  1.898781e-01 & 0.0083812354 &  22.65514494 & Stat significant at 1\\%       \\\\\n",
       "\t a12   & -3.094715e-03 & 0.0064565471 &  -0.47931431 & Not Statistically Significant\\\\\n",
       "\t a21   &  1.508719e-02 & 0.0254727401 &   0.59228764 & Not Statistically Significant\\\\\n",
       "\t a22   &  1.990378e-01 & 0.0108862408 &  18.28342884 & Stat significant at 1\\%       \\\\\n",
       "\t g11   &  9.805356e-01 & 0.0017850195 & 549.31369445 & Stat significant at 1\\%       \\\\\n",
       "\t g12   & -1.716564e-04 & 0.0014736510 &  -0.11648373 & Not Statistically Significant\\\\\n",
       "\t g21   &  6.056191e-03 & 0.0047376565 &   1.27830937 & Not Statistically Significant\\\\\n",
       "\t g22   &  9.812352e-01 & 0.0025112455 & 390.73648839 & Stat significant at 1\\%       \\\\\n",
       "\\end{tabular}\n"
      ],
      "text/markdown": [
       "\n",
       "A data.frame: 14 × 5\n",
       "\n",
       "| Parameters &lt;chr&gt; | Coefficient &lt;dbl&gt; | Std_error &lt;dbl&gt; | T_value &lt;dbl&gt; | Significant_at_5p_level &lt;chr&gt; |\n",
       "|---|---|---|---|---|\n",
       "| mu10  |  3.084219e-04 | 0.0002720190 |   1.13382490 | Not Statistically Significant |\n",
       "| mu20  |  8.344983e-05 | 0.0001033682 |   0.80730700 | Not Statistically Significant |\n",
       "| phi11 |  3.735370e-03 | 0.0156213526 |   0.23911951 | Not Statistically Significant |\n",
       "| phi12 |  7.612008e-02 | 0.0410353374 |   1.85498862 | Stat significant at 10%       |\n",
       "| phi21 |  7.228815e-03 | 0.0059361677 |   1.21775793 | Not Statistically Significant |\n",
       "| phi22 |  2.364666e-04 | 0.0155935692 |   0.01516437 | Not Statistically Significant |\n",
       "| a11   |  1.898781e-01 | 0.0083812354 |  22.65514494 | Stat significant at 1%        |\n",
       "| a12   | -3.094715e-03 | 0.0064565471 |  -0.47931431 | Not Statistically Significant |\n",
       "| a21   |  1.508719e-02 | 0.0254727401 |   0.59228764 | Not Statistically Significant |\n",
       "| a22   |  1.990378e-01 | 0.0108862408 |  18.28342884 | Stat significant at 1%        |\n",
       "| g11   |  9.805356e-01 | 0.0017850195 | 549.31369445 | Stat significant at 1%        |\n",
       "| g12   | -1.716564e-04 | 0.0014736510 |  -0.11648373 | Not Statistically Significant |\n",
       "| g21   |  6.056191e-03 | 0.0047376565 |   1.27830937 | Not Statistically Significant |\n",
       "| g22   |  9.812352e-01 | 0.0025112455 | 390.73648839 | Stat significant at 1%        |\n",
       "\n"
      ],
      "text/plain": [
       "   Parameters Coefficient   Std_error    T_value     \n",
       "1  mu10        3.084219e-04 0.0002720190   1.13382490\n",
       "2  mu20        8.344983e-05 0.0001033682   0.80730700\n",
       "3  phi11       3.735370e-03 0.0156213526   0.23911951\n",
       "4  phi12       7.612008e-02 0.0410353374   1.85498862\n",
       "5  phi21       7.228815e-03 0.0059361677   1.21775793\n",
       "6  phi22       2.364666e-04 0.0155935692   0.01516437\n",
       "7  a11         1.898781e-01 0.0083812354  22.65514494\n",
       "8  a12        -3.094715e-03 0.0064565471  -0.47931431\n",
       "9  a21         1.508719e-02 0.0254727401   0.59228764\n",
       "10 a22         1.990378e-01 0.0108862408  18.28342884\n",
       "11 g11         9.805356e-01 0.0017850195 549.31369445\n",
       "12 g12        -1.716564e-04 0.0014736510  -0.11648373\n",
       "13 g21         6.056191e-03 0.0047376565   1.27830937\n",
       "14 g22         9.812352e-01 0.0025112455 390.73648839\n",
       "   Significant_at_5p_level      \n",
       "1  Not Statistically Significant\n",
       "2  Not Statistically Significant\n",
       "3  Not Statistically Significant\n",
       "4  Stat significant at 10%      \n",
       "5  Not Statistically Significant\n",
       "6  Not Statistically Significant\n",
       "7  Stat significant at 1%       \n",
       "8  Not Statistically Significant\n",
       "9  Not Statistically Significant\n",
       "10 Stat significant at 1%       \n",
       "11 Stat significant at 1%       \n",
       "12 Not Statistically Significant\n",
       "13 Not Statistically Significant\n",
       "14 Stat significant at 1%       "
      ]
     },
     "metadata": {},
     "output_type": "display_data"
    }
   ],
   "source": [
    "bekk3 <- data.frame(Parameters = c(\"mu10\",\"mu20\",\"phi11\",\"phi12\",\"phi21\",\"phi22\",\"a11\",\"a12\",\"a21\",\"a22\",\"g11\",\"g12\",\"g21\",\"g22\"),\n",
    "                   Coefficient = c(summary(var_bekk3)$varresult$usc$coefficients[\"const\",\"Estimate\"],summary(var_bekk3)$varresult$chfusd$coefficients[\"const\",\"Estimate\"],\n",
    "                       summary(var_bekk3)$varresult$usc$coefficients[\"usc.l1\",\"Estimate\"],summary(var_bekk3)$varresult$usc$coefficients[\"chfusd.l1\",\"Estimate\"],\n",
    "                                   summary(var_bekk3)$varresult$chfusd$coefficients[\"usc.l1\",\"Estimate\"],summary(var_bekk3)$varresult$chfusd$coefficients[\"chfusd.l1\",\"Estimate\"],\n",
    "                                   bekk3_fit$A[1,1],bekk3_fit$A[1,2],bekk3_fit$A[2,1],bekk3_fit$A[2,2],bekk3_fit$G[1,1],bekk3_fit$G[1,2],bekk3_fit$G[2,1],bekk3_fit$G[2,2]),\n",
    "                   Std_error = c(summary(var_bekk3)$varresult$usc$coefficients[\"const\",\"Std. Error\"],summary(var_bekk3)$varresult$chfusd$coefficients[\"const\",\"Std. Error\"],\n",
    "                       summary(var_bekk3)$varresult$usc$coefficients[\"usc.l1\",\"Std. Error\"],summary(var_bekk3)$varresult$usc$coefficients[\"chfusd.l1\",\"Std. Error\"],\n",
    "                                 summary(var_bekk3)$varresult$chfusd$coefficients[\"usc.l1\",\"Std. Error\"],summary(var_bekk3)$varresult$chfusd$coefficients[\"chfusd.l1\",\"Std. Error\"],\n",
    "                                 bekk3_fit$A_sd[1,1],bekk3_fit$A_sd[1,2],bekk3_fit$A_sd[2,1],bekk3_fit$A_sd[2,2],bekk3_fit$G_sd[1,1],bekk3_fit$G_sd[1,2],bekk3_fit$G_sd[2,1],bekk3_fit$G_sd[2,2]),\n",
    "                   T_value = c(summary(var_bekk3)$varresult$usc$coefficients[\"const\",\"t value\"],summary(var_bekk3)$varresult$chfusd$coefficients[\"const\",\"t value\"],\n",
    "                       summary(var_bekk3)$varresult$usc$coefficients[\"usc.l1\",\"t value\"],summary(var_bekk3)$varresult$usc$coefficients[\"chfusd.l1\",\"t value\"],\n",
    "                               summary(var_bekk3)$varresult$chfusd$coefficients[\"usc.l1\",\"t value\"],summary(var_bekk3)$varresult$chfusd$coefficients[\"chfusd.l1\",\"t value\"],\n",
    "                               bekk3_fit$A_t[1,1],bekk3_fit$A_t[1,2],bekk3_fit$A_t[2,1],bekk3_fit$A_t[2,2],bekk3_fit$G_t[1,1],bekk3_fit$G_t[1,2],bekk3_fit$G_t[2,1],bekk3_fit$G_t[2,2]))\n",
    "\n",
    "bekk3$Significant_at_5p_level[abs(bekk3$T_value) >= 2.58 ] <- \"Stat significant at 1%\"\n",
    "bekk3$Significant_at_5p_level[abs(bekk3$T_value) > 1.96 & abs(bekk3$T_value) < 2.58] <- \"Stat significant at 5%\"\n",
    "bekk3$Significant_at_5p_level[abs(bekk3$T_value) > 1.645 & abs(bekk3$T_value) <= 1.96 ] <- \"Stat significant at 10%\"\n",
    "bekk3$Significant_at_5p_level[abs(bekk3$T_value) <= 1.645] <- \"Not Statistically Significant\"\n",
    "bekk3"
   ]
  },
  {
   "cell_type": "code",
   "execution_count": 49,
   "id": "bbf1c3d9-f891-4307-8280-4aeca605318e",
   "metadata": {},
   "outputs": [
    {
     "data": {
      "text/plain": [
       "\n",
       "\tGranger causality H0: usc do not Granger-cause chfusd\n",
       "\n",
       "data:  VAR object var_bekk3\n",
       "F-Test = 1.4829, df1 = 1, df2 = 8342, p-value = 0.2234\n"
      ]
     },
     "metadata": {},
     "output_type": "display_data"
    },
    {
     "data": {
      "text/plain": [
       "\n",
       "\tGranger causality H0: chfusd do not Granger-cause usc\n",
       "\n",
       "data:  VAR object var_bekk3\n",
       "F-Test = 3.441, df1 = 1, df2 = 8342, p-value = 0.06363\n"
      ]
     },
     "metadata": {},
     "output_type": "display_data"
    }
   ],
   "source": [
    "causality(var_bekk3,cause = \"usc\")$Granger\n",
    "causality(var_bekk3,cause = \"chfusd\")$Granger"
   ]
  },
  {
   "cell_type": "markdown",
   "id": "7d49a13d-9902-43c3-bff6-f42d138ac99c",
   "metadata": {},
   "source": [
    "## (d) VAR-BEKK model for US Cocoa - GHSUSD"
   ]
  },
  {
   "cell_type": "code",
   "execution_count": 50,
   "id": "5de59910-8bce-4722-87fa-4c0445d83f80",
   "metadata": {},
   "outputs": [
    {
     "data": {
      "text/plain": [
       "                     usc        ghsusd\n",
       "2007-07-06  0.0033026687 -0.0033264938\n",
       "2007-07-09 -0.0108928380  0.0040086898\n",
       "2007-07-10 -0.0378502241 -0.0002705906\n",
       "2007-07-11  0.0210431058  0.0026887042\n",
       "2007-07-12  0.0057943185  0.0027212691\n",
       "2007-07-13 -0.0009633912 -0.0051426368"
      ]
     },
     "metadata": {},
     "output_type": "display_data"
    },
    {
     "data": {
      "text/plain": [
       "                   usc       ghsusd\n",
       "2024-04-26 -0.01962863 -0.003682821\n",
       "2024-04-29 -0.17075943 -0.004412793\n",
       "2024-04-30  0.03865640 -0.001468434\n",
       "2024-05-01 -0.11385883 -0.002189577\n",
       "2024-05-02 -0.09105801 -0.003637066\n",
       "2024-05-03  0.07413631  0.001449549"
      ]
     },
     "metadata": {},
     "output_type": "display_data"
    }
   ],
   "source": [
    "bekk7data <- na.omit(merge(cr_d[,1],fr_d[,7]))\n",
    "head(bekk7data)\n",
    "tail(bekk7data)"
   ]
  },
  {
   "cell_type": "code",
   "execution_count": 51,
   "id": "ebc54951-007e-4ebe-b61f-7af5e11fcb63",
   "metadata": {},
   "outputs": [
    {
     "data": {
      "text/html": [
       "<dl>\n",
       "\t<dt>$selection</dt>\n",
       "\t\t<dd><style>\n",
       ".dl-inline {width: auto; margin:0; padding: 0}\n",
       ".dl-inline>dt, .dl-inline>dd {float: none; width: auto; display: inline-block}\n",
       ".dl-inline>dt::after {content: \":\\0020\"; padding-right: .5ex}\n",
       ".dl-inline>dt:not(:first-of-type) {padding-left: .5ex}\n",
       "</style><dl class=dl-inline><dt>AIC(n)</dt><dd>3</dd><dt>HQ(n)</dt><dd>3</dd><dt>SC(n)</dt><dd>3</dd><dt>FPE(n)</dt><dd>3</dd></dl>\n",
       "</dd>\n",
       "\t<dt>$criteria</dt>\n",
       "\t\t<dd><table class=\"dataframe\">\n",
       "<caption>A matrix: 4 × 4 of type dbl</caption>\n",
       "<thead>\n",
       "\t<tr><th></th><th scope=col>1</th><th scope=col>2</th><th scope=col>3</th><th scope=col>4</th></tr>\n",
       "</thead>\n",
       "<tbody>\n",
       "\t<tr><th scope=row>AIC(n)</th><td>-1.725174e+01</td><td>-1.725607e+01</td><td>-1.726763e+01</td><td>-1.726666e+01</td></tr>\n",
       "\t<tr><th scope=row>HQ(n)</th><td>-1.724851e+01</td><td>-1.725070e+01</td><td>-1.726011e+01</td><td>-1.725699e+01</td></tr>\n",
       "\t<tr><th scope=row>SC(n)</th><td>-1.724262e+01</td><td>-1.724088e+01</td><td>-1.724637e+01</td><td>-1.723932e+01</td></tr>\n",
       "\t<tr><th scope=row>FPE(n)</th><td> 3.218597e-08</td><td> 3.204661e-08</td><td> 3.167832e-08</td><td> 3.170920e-08</td></tr>\n",
       "</tbody>\n",
       "</table>\n",
       "</dd>\n",
       "</dl>\n"
      ],
      "text/latex": [
       "\\begin{description}\n",
       "\\item[\\$selection] \\begin{description*}\n",
       "\\item[AIC(n)] 3\n",
       "\\item[HQ(n)] 3\n",
       "\\item[SC(n)] 3\n",
       "\\item[FPE(n)] 3\n",
       "\\end{description*}\n",
       "\n",
       "\\item[\\$criteria] A matrix: 4 × 4 of type dbl\n",
       "\\begin{tabular}{r|llll}\n",
       "  & 1 & 2 & 3 & 4\\\\\n",
       "\\hline\n",
       "\tAIC(n) & -1.725174e+01 & -1.725607e+01 & -1.726763e+01 & -1.726666e+01\\\\\n",
       "\tHQ(n) & -1.724851e+01 & -1.725070e+01 & -1.726011e+01 & -1.725699e+01\\\\\n",
       "\tSC(n) & -1.724262e+01 & -1.724088e+01 & -1.724637e+01 & -1.723932e+01\\\\\n",
       "\tFPE(n) &  3.218597e-08 &  3.204661e-08 &  3.167832e-08 &  3.170920e-08\\\\\n",
       "\\end{tabular}\n",
       "\n",
       "\\end{description}\n"
      ],
      "text/markdown": [
       "$selection\n",
       ":   AIC(n)\n",
       ":   3HQ(n)\n",
       ":   3SC(n)\n",
       ":   3FPE(n)\n",
       ":   3\n",
       "\n",
       "\n",
       "$criteria\n",
       ":   \n",
       "A matrix: 4 × 4 of type dbl\n",
       "\n",
       "| <!--/--> | 1 | 2 | 3 | 4 |\n",
       "|---|---|---|---|---|\n",
       "| AIC(n) | -1.725174e+01 | -1.725607e+01 | -1.726763e+01 | -1.726666e+01 |\n",
       "| HQ(n) | -1.724851e+01 | -1.725070e+01 | -1.726011e+01 | -1.725699e+01 |\n",
       "| SC(n) | -1.724262e+01 | -1.724088e+01 | -1.724637e+01 | -1.723932e+01 |\n",
       "| FPE(n) |  3.218597e-08 |  3.204661e-08 |  3.167832e-08 |  3.170920e-08 |\n",
       "\n",
       "\n",
       "\n",
       "\n"
      ],
      "text/plain": [
       "$selection\n",
       "AIC(n)  HQ(n)  SC(n) FPE(n) \n",
       "     3      3      3      3 \n",
       "\n",
       "$criteria\n",
       "                   1             2             3             4\n",
       "AIC(n) -1.725174e+01 -1.725607e+01 -1.726763e+01 -1.726666e+01\n",
       "HQ(n)  -1.724851e+01 -1.725070e+01 -1.726011e+01 -1.725699e+01\n",
       "SC(n)  -1.724262e+01 -1.724088e+01 -1.724637e+01 -1.723932e+01\n",
       "FPE(n)  3.218597e-08  3.204661e-08  3.167832e-08  3.170920e-08\n"
      ]
     },
     "metadata": {},
     "output_type": "display_data"
    }
   ],
   "source": [
    "VARselect(bekk7data,type = \"const\",lag.max = 4)"
   ]
  },
  {
   "cell_type": "code",
   "execution_count": 52,
   "id": "f34cdb69-c487-455a-8ba7-9d3ff3b19b92",
   "metadata": {},
   "outputs": [],
   "source": [
    "var_bekk7<-VAR(bekk7data,p = 3,type = \"const\")\n",
    "res_bekk7 <- residuals(var_bekk7)\n",
    "res_bekk7 <- as.data.frame(res_bekk7)"
   ]
  },
  {
   "cell_type": "code",
   "execution_count": 53,
   "id": "0641b59c-9d46-4c6e-8cb8-e73a9ecea990",
   "metadata": {},
   "outputs": [
    {
     "data": {
      "text/plain": [
       "\n",
       "VAR Estimation Results:\n",
       "========================= \n",
       "Endogenous variables: usc, ghsusd \n",
       "Deterministic variables: const \n",
       "Sample size: 4172 \n",
       "Log Likelihood: 24194.877 \n",
       "Roots of the characteristic polynomial:\n",
       "0.507 0.4745 0.4745 0.2631 0.2461 0.2461\n",
       "Call:\n",
       "VAR(y = bekk7data, p = 3, type = \"const\")\n",
       "\n",
       "\n",
       "Estimation results for equation usc: \n",
       "==================================== \n",
       "usc = usc.l1 + ghsusd.l1 + usc.l2 + ghsusd.l2 + usc.l3 + ghsusd.l3 + const \n",
       "\n",
       "            Estimate Std. Error t value Pr(>|t|)\n",
       "usc.l1     0.0065533  0.0155192   0.422    0.673\n",
       "ghsusd.l1 -0.0095694  0.0267626  -0.358    0.721\n",
       "usc.l2     0.0064668  0.0155687   0.415    0.678\n",
       "ghsusd.l2 -0.0182435  0.0268300  -0.680    0.497\n",
       "usc.l3     0.0161171  0.0156490   1.030    0.303\n",
       "ghsusd.l3  0.0077689  0.0267608   0.290    0.772\n",
       "const      0.0003059  0.0002738   1.117    0.264\n",
       "\n",
       "\n",
       "Residual standard error: 0.01758 on 4165 degrees of freedom\n",
       "Multiple R-Squared: 0.0004985,\tAdjusted R-squared: -0.0009414 \n",
       "F-statistic: 0.3462 on 6 and 4165 DF,  p-value: 0.9124 \n",
       "\n",
       "\n",
       "Estimation results for equation ghsusd: \n",
       "======================================= \n",
       "ghsusd = usc.l1 + ghsusd.l1 + usc.l2 + ghsusd.l2 + usc.l3 + ghsusd.l3 + const \n",
       "\n",
       "            Estimate Std. Error t value Pr(>|t|)    \n",
       "usc.l1     0.0081394  0.0089266   0.912 0.361915    \n",
       "ghsusd.l1 -0.1142169  0.0153937  -7.420 1.41e-13 ***\n",
       "usc.l2    -0.0040661  0.0089550  -0.454 0.649812    \n",
       "ghsusd.l2  0.0896434  0.0154324   5.809 6.76e-09 ***\n",
       "usc.l3     0.0031726  0.0090012   0.352 0.724509    \n",
       "ghsusd.l3  0.1143664  0.0153926   7.430 1.31e-13 ***\n",
       "const     -0.0005566  0.0001575  -3.534 0.000414 ***\n",
       "---\n",
       "Signif. codes:  0 ‘***’ 0.001 ‘**’ 0.01 ‘*’ 0.05 ‘.’ 0.1 ‘ ’ 1\n",
       "\n",
       "\n",
       "Residual standard error: 0.01011 on 4165 degrees of freedom\n",
       "Multiple R-Squared: 0.03212,\tAdjusted R-squared: 0.03072 \n",
       "F-statistic: 23.04 on 6 and 4165 DF,  p-value: < 2.2e-16 \n",
       "\n",
       "\n",
       "\n",
       "Covariance matrix of residuals:\n",
       "              usc     ghsusd\n",
       "usc     3.089e-04 -1.418e-06\n",
       "ghsusd -1.418e-06  1.022e-04\n",
       "\n",
       "Correlation matrix of residuals:\n",
       "             usc    ghsusd\n",
       "usc     1.000000 -0.007979\n",
       "ghsusd -0.007979  1.000000\n",
       "\n"
      ]
     },
     "metadata": {},
     "output_type": "display_data"
    }
   ],
   "source": [
    "summary(var_bekk7)"
   ]
  },
  {
   "cell_type": "code",
   "execution_count": 54,
   "id": "9448968e-c85d-48da-88dc-0235c2c1387e",
   "metadata": {},
   "outputs": [
    {
     "name": "stdout",
     "output_type": "stream",
     "text": [
      " Date[1:4172], format: \"2007-07-11\" \"2007-07-12\" \"2007-07-13\" \"2007-07-16\" \"2007-07-17\" ...\n"
     ]
    }
   ],
   "source": [
    "ind_var7 <- index(bekk7data)[-c(1:3)]\n",
    "str(ind_var7)"
   ]
  },
  {
   "cell_type": "code",
   "execution_count": 55,
   "id": "68d4f825-ce04-41cc-92fb-2c2998fcbc55",
   "metadata": {},
   "outputs": [],
   "source": [
    "res_bekk7 <- xts(res_bekk7,order.by = ind_var7)\n",
    "bekk_spec <- bekk_spec(model = list(type = \"bekk\",asymmetric = F))\n",
    "bekk7_fit <- bekk_fit(spec = bekk_spec,data = res_bekk7)"
   ]
  },
  {
   "cell_type": "code",
   "execution_count": 56,
   "id": "59184389-9919-4cd8-a05a-137c34c1673e",
   "metadata": {},
   "outputs": [
    {
     "data": {
      "text/html": [
       "<table class=\"dataframe\">\n",
       "<caption>A matrix: 2 × 2 of type dbl</caption>\n",
       "<tbody>\n",
       "\t<tr><td>0.17192358</td><td>-0.02014972</td></tr>\n",
       "\t<tr><td>0.01556978</td><td> 0.37403262</td></tr>\n",
       "</tbody>\n",
       "</table>\n"
      ],
      "text/latex": [
       "A matrix: 2 × 2 of type dbl\n",
       "\\begin{tabular}{ll}\n",
       "\t 0.17192358 & -0.02014972\\\\\n",
       "\t 0.01556978 &  0.37403262\\\\\n",
       "\\end{tabular}\n"
      ],
      "text/markdown": [
       "\n",
       "A matrix: 2 × 2 of type dbl\n",
       "\n",
       "| 0.17192358 | -0.02014972 |\n",
       "| 0.01556978 |  0.37403262 |\n",
       "\n"
      ],
      "text/plain": [
       "     [,1]       [,2]       \n",
       "[1,] 0.17192358 -0.02014972\n",
       "[2,] 0.01556978  0.37403262"
      ]
     },
     "metadata": {},
     "output_type": "display_data"
    },
    {
     "data": {
      "text/html": [
       "<table class=\"dataframe\">\n",
       "<caption>A matrix: 2 × 2 of type dbl</caption>\n",
       "<tbody>\n",
       "\t<tr><td>15.917118</td><td>-5.131191</td></tr>\n",
       "\t<tr><td> 1.028552</td><td>52.069073</td></tr>\n",
       "</tbody>\n",
       "</table>\n"
      ],
      "text/latex": [
       "A matrix: 2 × 2 of type dbl\n",
       "\\begin{tabular}{ll}\n",
       "\t 15.917118 & -5.131191\\\\\n",
       "\t  1.028552 & 52.069073\\\\\n",
       "\\end{tabular}\n"
      ],
      "text/markdown": [
       "\n",
       "A matrix: 2 × 2 of type dbl\n",
       "\n",
       "| 15.917118 | -5.131191 |\n",
       "|  1.028552 | 52.069073 |\n",
       "\n"
      ],
      "text/plain": [
       "     [,1]      [,2]     \n",
       "[1,] 15.917118 -5.131191\n",
       "[2,]  1.028552 52.069073"
      ]
     },
     "metadata": {},
     "output_type": "display_data"
    }
   ],
   "source": [
    "bekk7_fit$A\n",
    "bekk7_fit$A_t"
   ]
  },
  {
   "cell_type": "code",
   "execution_count": 57,
   "id": "dbdc6aba-d87f-476d-aad1-c90a68bd182d",
   "metadata": {},
   "outputs": [
    {
     "data": {
      "text/html": [
       "<table class=\"dataframe\">\n",
       "<caption>A matrix: 2 × 2 of type dbl</caption>\n",
       "<tbody>\n",
       "\t<tr><td>0.94919699</td><td>0.01091725</td></tr>\n",
       "\t<tr><td>0.00781821</td><td>0.92672258</td></tr>\n",
       "</tbody>\n",
       "</table>\n"
      ],
      "text/latex": [
       "A matrix: 2 × 2 of type dbl\n",
       "\\begin{tabular}{ll}\n",
       "\t 0.94919699 & 0.01091725\\\\\n",
       "\t 0.00781821 & 0.92672258\\\\\n",
       "\\end{tabular}\n"
      ],
      "text/markdown": [
       "\n",
       "A matrix: 2 × 2 of type dbl\n",
       "\n",
       "| 0.94919699 | 0.01091725 |\n",
       "| 0.00781821 | 0.92672258 |\n",
       "\n"
      ],
      "text/plain": [
       "     [,1]       [,2]      \n",
       "[1,] 0.94919699 0.01091725\n",
       "[2,] 0.00781821 0.92672258"
      ]
     },
     "metadata": {},
     "output_type": "display_data"
    },
    {
     "data": {
      "text/html": [
       "<table class=\"dataframe\">\n",
       "<caption>A matrix: 2 × 2 of type dbl</caption>\n",
       "<tbody>\n",
       "\t<tr><td>138.450485</td><td>  3.078278</td></tr>\n",
       "\t<tr><td>  1.688526</td><td>475.572219</td></tr>\n",
       "</tbody>\n",
       "</table>\n"
      ],
      "text/latex": [
       "A matrix: 2 × 2 of type dbl\n",
       "\\begin{tabular}{ll}\n",
       "\t 138.450485 &   3.078278\\\\\n",
       "\t   1.688526 & 475.572219\\\\\n",
       "\\end{tabular}\n"
      ],
      "text/markdown": [
       "\n",
       "A matrix: 2 × 2 of type dbl\n",
       "\n",
       "| 138.450485 |   3.078278 |\n",
       "|   1.688526 | 475.572219 |\n",
       "\n"
      ],
      "text/plain": [
       "     [,1]       [,2]      \n",
       "[1,] 138.450485   3.078278\n",
       "[2,]   1.688526 475.572219"
      ]
     },
     "metadata": {},
     "output_type": "display_data"
    }
   ],
   "source": [
    "bekk7_fit$G\n",
    "bekk7_fit$G_t"
   ]
  },
  {
   "cell_type": "markdown",
   "id": "f4368ae1-35ed-448c-9fb5-5e79ba62f271",
   "metadata": {},
   "source": [
    "- There is no mean spillover betweeen GHS and US Cocoa\n",
    "- However, there is shock and volatility transmission from US Cocoa to GHS\n"
   ]
  },
  {
   "cell_type": "markdown",
   "id": "eb839f4a-a1eb-415b-88ea-7af72af077f9",
   "metadata": {},
   "source": [
    "### Table summarizing the results of the VAR-BEKK model for US Cocoa - GHSUSD"
   ]
  },
  {
   "cell_type": "code",
   "execution_count": 58,
   "id": "9b3a5234-e661-4028-8720-bc2213c16e97",
   "metadata": {},
   "outputs": [
    {
     "data": {
      "text/html": [
       "<table class=\"dataframe\">\n",
       "<caption>A data.frame: 22 × 5</caption>\n",
       "<thead>\n",
       "\t<tr><th scope=col>Parameters</th><th scope=col>Coefficient</th><th scope=col>Std_error</th><th scope=col>T_value</th><th scope=col>Significant_at_5p_level</th></tr>\n",
       "\t<tr><th scope=col>&lt;chr&gt;</th><th scope=col>&lt;dbl&gt;</th><th scope=col>&lt;dbl&gt;</th><th scope=col>&lt;dbl&gt;</th><th scope=col>&lt;chr&gt;</th></tr>\n",
       "</thead>\n",
       "<tbody>\n",
       "\t<tr><td>mu10 </td><td> 0.0003059434</td><td>0.0002738255</td><td>  1.1172936</td><td>Not Statistically Significant</td></tr>\n",
       "\t<tr><td>mu20 </td><td>-0.0005565867</td><td>0.0001575024</td><td> -3.5338288</td><td>Stat significant at 1%       </td></tr>\n",
       "\t<tr><td>phi11</td><td> 0.0065532621</td><td>0.0155192390</td><td>  0.4222670</td><td>Not Statistically Significant</td></tr>\n",
       "\t<tr><td>phi12</td><td>-0.0095694053</td><td>0.0267626497</td><td> -0.3575657</td><td>Not Statistically Significant</td></tr>\n",
       "\t<tr><td>phi13</td><td> 0.0064667894</td><td>0.0155686586</td><td>  0.4153723</td><td>Not Statistically Significant</td></tr>\n",
       "\t<tr><td>phi14</td><td>-0.0182435042</td><td>0.0268300067</td><td> -0.6799664</td><td>Not Statistically Significant</td></tr>\n",
       "\t<tr><td>phi15</td><td> 0.0161170551</td><td>0.0156490143</td><td>  1.0299086</td><td>Not Statistically Significant</td></tr>\n",
       "\t<tr><td>phi16</td><td> 0.0077689004</td><td>0.0267608395</td><td>  0.2903085</td><td>Not Statistically Significant</td></tr>\n",
       "\t<tr><td>phi21</td><td> 0.0081394356</td><td>0.0089265550</td><td>  0.9118227</td><td>Not Statistically Significant</td></tr>\n",
       "\t<tr><td>phi22</td><td>-0.1142168742</td><td>0.0153936842</td><td> -7.4197231</td><td>Stat significant at 1%       </td></tr>\n",
       "\t<tr><td>phi23</td><td>-0.0040660600</td><td>0.0089549808</td><td> -0.4540557</td><td>Not Statistically Significant</td></tr>\n",
       "\t<tr><td>phi24</td><td> 0.0896433701</td><td>0.0154324275</td><td>  5.8087667</td><td>Stat significant at 1%       </td></tr>\n",
       "\t<tr><td>phi25</td><td> 0.0031725880</td><td>0.0090012008</td><td>  0.3524628</td><td>Not Statistically Significant</td></tr>\n",
       "\t<tr><td>phi26</td><td> 0.1143664401</td><td>0.0153926430</td><td>  7.4299417</td><td>Stat significant at 1%       </td></tr>\n",
       "\t<tr><td>a11  </td><td> 0.1719235794</td><td>0.0108011755</td><td> 15.9171175</td><td>Stat significant at 1%       </td></tr>\n",
       "\t<tr><td>a12  </td><td>-0.0201497237</td><td>0.0039269098</td><td> -5.1311908</td><td>Stat significant at 1%       </td></tr>\n",
       "\t<tr><td>a21  </td><td> 0.0155697831</td><td>0.0151375793</td><td>  1.0285517</td><td>Not Statistically Significant</td></tr>\n",
       "\t<tr><td>a22  </td><td> 0.3740326230</td><td>0.0071833931</td><td> 52.0690735</td><td>Stat significant at 1%       </td></tr>\n",
       "\t<tr><td>g11  </td><td> 0.9491969947</td><td>0.0068558589</td><td>138.4504848</td><td>Stat significant at 1%       </td></tr>\n",
       "\t<tr><td>g12  </td><td> 0.0109172470</td><td>0.0035465439</td><td>  3.0782777</td><td>Stat significant at 1%       </td></tr>\n",
       "\t<tr><td>g21  </td><td> 0.0078182098</td><td>0.0046301988</td><td>  1.6885257</td><td>Stat significant at 10%      </td></tr>\n",
       "\t<tr><td>g22  </td><td> 0.9267225820</td><td>0.0019486474</td><td>475.5722185</td><td>Stat significant at 1%       </td></tr>\n",
       "</tbody>\n",
       "</table>\n"
      ],
      "text/latex": [
       "A data.frame: 22 × 5\n",
       "\\begin{tabular}{lllll}\n",
       " Parameters & Coefficient & Std\\_error & T\\_value & Significant\\_at\\_5p\\_level\\\\\n",
       " <chr> & <dbl> & <dbl> & <dbl> & <chr>\\\\\n",
       "\\hline\n",
       "\t mu10  &  0.0003059434 & 0.0002738255 &   1.1172936 & Not Statistically Significant\\\\\n",
       "\t mu20  & -0.0005565867 & 0.0001575024 &  -3.5338288 & Stat significant at 1\\%       \\\\\n",
       "\t phi11 &  0.0065532621 & 0.0155192390 &   0.4222670 & Not Statistically Significant\\\\\n",
       "\t phi12 & -0.0095694053 & 0.0267626497 &  -0.3575657 & Not Statistically Significant\\\\\n",
       "\t phi13 &  0.0064667894 & 0.0155686586 &   0.4153723 & Not Statistically Significant\\\\\n",
       "\t phi14 & -0.0182435042 & 0.0268300067 &  -0.6799664 & Not Statistically Significant\\\\\n",
       "\t phi15 &  0.0161170551 & 0.0156490143 &   1.0299086 & Not Statistically Significant\\\\\n",
       "\t phi16 &  0.0077689004 & 0.0267608395 &   0.2903085 & Not Statistically Significant\\\\\n",
       "\t phi21 &  0.0081394356 & 0.0089265550 &   0.9118227 & Not Statistically Significant\\\\\n",
       "\t phi22 & -0.1142168742 & 0.0153936842 &  -7.4197231 & Stat significant at 1\\%       \\\\\n",
       "\t phi23 & -0.0040660600 & 0.0089549808 &  -0.4540557 & Not Statistically Significant\\\\\n",
       "\t phi24 &  0.0896433701 & 0.0154324275 &   5.8087667 & Stat significant at 1\\%       \\\\\n",
       "\t phi25 &  0.0031725880 & 0.0090012008 &   0.3524628 & Not Statistically Significant\\\\\n",
       "\t phi26 &  0.1143664401 & 0.0153926430 &   7.4299417 & Stat significant at 1\\%       \\\\\n",
       "\t a11   &  0.1719235794 & 0.0108011755 &  15.9171175 & Stat significant at 1\\%       \\\\\n",
       "\t a12   & -0.0201497237 & 0.0039269098 &  -5.1311908 & Stat significant at 1\\%       \\\\\n",
       "\t a21   &  0.0155697831 & 0.0151375793 &   1.0285517 & Not Statistically Significant\\\\\n",
       "\t a22   &  0.3740326230 & 0.0071833931 &  52.0690735 & Stat significant at 1\\%       \\\\\n",
       "\t g11   &  0.9491969947 & 0.0068558589 & 138.4504848 & Stat significant at 1\\%       \\\\\n",
       "\t g12   &  0.0109172470 & 0.0035465439 &   3.0782777 & Stat significant at 1\\%       \\\\\n",
       "\t g21   &  0.0078182098 & 0.0046301988 &   1.6885257 & Stat significant at 10\\%      \\\\\n",
       "\t g22   &  0.9267225820 & 0.0019486474 & 475.5722185 & Stat significant at 1\\%       \\\\\n",
       "\\end{tabular}\n"
      ],
      "text/markdown": [
       "\n",
       "A data.frame: 22 × 5\n",
       "\n",
       "| Parameters &lt;chr&gt; | Coefficient &lt;dbl&gt; | Std_error &lt;dbl&gt; | T_value &lt;dbl&gt; | Significant_at_5p_level &lt;chr&gt; |\n",
       "|---|---|---|---|---|\n",
       "| mu10  |  0.0003059434 | 0.0002738255 |   1.1172936 | Not Statistically Significant |\n",
       "| mu20  | -0.0005565867 | 0.0001575024 |  -3.5338288 | Stat significant at 1%        |\n",
       "| phi11 |  0.0065532621 | 0.0155192390 |   0.4222670 | Not Statistically Significant |\n",
       "| phi12 | -0.0095694053 | 0.0267626497 |  -0.3575657 | Not Statistically Significant |\n",
       "| phi13 |  0.0064667894 | 0.0155686586 |   0.4153723 | Not Statistically Significant |\n",
       "| phi14 | -0.0182435042 | 0.0268300067 |  -0.6799664 | Not Statistically Significant |\n",
       "| phi15 |  0.0161170551 | 0.0156490143 |   1.0299086 | Not Statistically Significant |\n",
       "| phi16 |  0.0077689004 | 0.0267608395 |   0.2903085 | Not Statistically Significant |\n",
       "| phi21 |  0.0081394356 | 0.0089265550 |   0.9118227 | Not Statistically Significant |\n",
       "| phi22 | -0.1142168742 | 0.0153936842 |  -7.4197231 | Stat significant at 1%        |\n",
       "| phi23 | -0.0040660600 | 0.0089549808 |  -0.4540557 | Not Statistically Significant |\n",
       "| phi24 |  0.0896433701 | 0.0154324275 |   5.8087667 | Stat significant at 1%        |\n",
       "| phi25 |  0.0031725880 | 0.0090012008 |   0.3524628 | Not Statistically Significant |\n",
       "| phi26 |  0.1143664401 | 0.0153926430 |   7.4299417 | Stat significant at 1%        |\n",
       "| a11   |  0.1719235794 | 0.0108011755 |  15.9171175 | Stat significant at 1%        |\n",
       "| a12   | -0.0201497237 | 0.0039269098 |  -5.1311908 | Stat significant at 1%        |\n",
       "| a21   |  0.0155697831 | 0.0151375793 |   1.0285517 | Not Statistically Significant |\n",
       "| a22   |  0.3740326230 | 0.0071833931 |  52.0690735 | Stat significant at 1%        |\n",
       "| g11   |  0.9491969947 | 0.0068558589 | 138.4504848 | Stat significant at 1%        |\n",
       "| g12   |  0.0109172470 | 0.0035465439 |   3.0782777 | Stat significant at 1%        |\n",
       "| g21   |  0.0078182098 | 0.0046301988 |   1.6885257 | Stat significant at 10%       |\n",
       "| g22   |  0.9267225820 | 0.0019486474 | 475.5722185 | Stat significant at 1%        |\n",
       "\n"
      ],
      "text/plain": [
       "   Parameters Coefficient   Std_error    T_value    \n",
       "1  mu10        0.0003059434 0.0002738255   1.1172936\n",
       "2  mu20       -0.0005565867 0.0001575024  -3.5338288\n",
       "3  phi11       0.0065532621 0.0155192390   0.4222670\n",
       "4  phi12      -0.0095694053 0.0267626497  -0.3575657\n",
       "5  phi13       0.0064667894 0.0155686586   0.4153723\n",
       "6  phi14      -0.0182435042 0.0268300067  -0.6799664\n",
       "7  phi15       0.0161170551 0.0156490143   1.0299086\n",
       "8  phi16       0.0077689004 0.0267608395   0.2903085\n",
       "9  phi21       0.0081394356 0.0089265550   0.9118227\n",
       "10 phi22      -0.1142168742 0.0153936842  -7.4197231\n",
       "11 phi23      -0.0040660600 0.0089549808  -0.4540557\n",
       "12 phi24       0.0896433701 0.0154324275   5.8087667\n",
       "13 phi25       0.0031725880 0.0090012008   0.3524628\n",
       "14 phi26       0.1143664401 0.0153926430   7.4299417\n",
       "15 a11         0.1719235794 0.0108011755  15.9171175\n",
       "16 a12        -0.0201497237 0.0039269098  -5.1311908\n",
       "17 a21         0.0155697831 0.0151375793   1.0285517\n",
       "18 a22         0.3740326230 0.0071833931  52.0690735\n",
       "19 g11         0.9491969947 0.0068558589 138.4504848\n",
       "20 g12         0.0109172470 0.0035465439   3.0782777\n",
       "21 g21         0.0078182098 0.0046301988   1.6885257\n",
       "22 g22         0.9267225820 0.0019486474 475.5722185\n",
       "   Significant_at_5p_level      \n",
       "1  Not Statistically Significant\n",
       "2  Stat significant at 1%       \n",
       "3  Not Statistically Significant\n",
       "4  Not Statistically Significant\n",
       "5  Not Statistically Significant\n",
       "6  Not Statistically Significant\n",
       "7  Not Statistically Significant\n",
       "8  Not Statistically Significant\n",
       "9  Not Statistically Significant\n",
       "10 Stat significant at 1%       \n",
       "11 Not Statistically Significant\n",
       "12 Stat significant at 1%       \n",
       "13 Not Statistically Significant\n",
       "14 Stat significant at 1%       \n",
       "15 Stat significant at 1%       \n",
       "16 Stat significant at 1%       \n",
       "17 Not Statistically Significant\n",
       "18 Stat significant at 1%       \n",
       "19 Stat significant at 1%       \n",
       "20 Stat significant at 1%       \n",
       "21 Stat significant at 10%      \n",
       "22 Stat significant at 1%       "
      ]
     },
     "metadata": {},
     "output_type": "display_data"
    }
   ],
   "source": [
    "bekk7 <- data.frame(Parameters = c(\"mu10\",\"mu20\",\"phi11\",\"phi12\",\"phi13\",\"phi14\",\"phi15\",\"phi16\",\"phi21\",\"phi22\",\"phi23\",\"phi24\",\"phi25\",\"phi26\",\"a11\",\"a12\",\"a21\",\"a22\",\"g11\",\"g12\",\"g21\",\"g22\"),\n",
    "                   Coefficient = c(summary(var_bekk7)$varresult$usc$coefficients[\"const\",\"Estimate\"],summary(var_bekk7)$varresult$ghsusd$coefficients[\"const\",\"Estimate\"],\n",
    "                                   summary(var_bekk7)$varresult$usc$coefficients[\"usc.l1\",\"Estimate\"],summary(var_bekk7)$varresult$usc$coefficients[\"ghsusd.l1\",\"Estimate\"],\n",
    "                                   summary(var_bekk7)$varresult$usc$coefficients[\"usc.l2\",\"Estimate\"],summary(var_bekk7)$varresult$usc$coefficients[\"ghsusd.l2\",\"Estimate\"],\n",
    "                                   summary(var_bekk7)$varresult$usc$coefficients[\"usc.l3\",\"Estimate\"],summary(var_bekk7)$varresult$usc$coefficients[\"ghsusd.l3\",\"Estimate\"],\n",
    "                                   summary(var_bekk7)$varresult$ghsusd$coefficients[\"usc.l1\",\"Estimate\"],summary(var_bekk7)$varresult$ghsusd$coefficients[\"ghsusd.l1\",\"Estimate\"],\n",
    "                                   summary(var_bekk7)$varresult$ghsusd$coefficients[\"usc.l2\",\"Estimate\"],summary(var_bekk7)$varresult$ghsusd$coefficients[\"ghsusd.l2\",\"Estimate\"],\n",
    "                                   summary(var_bekk7)$varresult$ghsusd$coefficients[\"usc.l3\",\"Estimate\"],summary(var_bekk7)$varresult$ghsusd$coefficients[\"ghsusd.l3\",\"Estimate\"],\n",
    "                                   bekk7_fit$A[1,1],bekk7_fit$A[1,2],bekk7_fit$A[2,1],bekk7_fit$A[2,2],bekk7_fit$G[1,1],bekk7_fit$G[1,2],bekk7_fit$G[2,1],bekk7_fit$G[2,2]),\n",
    "                   Std_error = c(summary(var_bekk7)$varresult$usc$coefficients[\"const\",\"Std. Error\"],summary(var_bekk7)$varresult$ghsusd$coefficients[\"const\",\"Std. Error\"],\n",
    "                                   summary(var_bekk7)$varresult$usc$coefficients[\"usc.l1\",\"Std. Error\"],summary(var_bekk7)$varresult$usc$coefficients[\"ghsusd.l1\",\"Std. Error\"],\n",
    "                                   summary(var_bekk7)$varresult$usc$coefficients[\"usc.l2\",\"Std. Error\"],summary(var_bekk7)$varresult$usc$coefficients[\"ghsusd.l2\",\"Std. Error\"],\n",
    "                                   summary(var_bekk7)$varresult$usc$coefficients[\"usc.l3\",\"Std. Error\"],summary(var_bekk7)$varresult$usc$coefficients[\"ghsusd.l3\",\"Std. Error\"],\n",
    "                                   summary(var_bekk7)$varresult$ghsusd$coefficients[\"usc.l1\",\"Std. Error\"],summary(var_bekk7)$varresult$ghsusd$coefficients[\"ghsusd.l1\",\"Std. Error\"],\n",
    "                                   summary(var_bekk7)$varresult$ghsusd$coefficients[\"usc.l2\",\"Std. Error\"],summary(var_bekk7)$varresult$ghsusd$coefficients[\"ghsusd.l2\",\"Std. Error\"],\n",
    "                                   summary(var_bekk7)$varresult$ghsusd$coefficients[\"usc.l3\",\"Std. Error\"],summary(var_bekk7)$varresult$ghsusd$coefficients[\"ghsusd.l3\",\"Std. Error\"],\n",
    "                                   bekk7_fit$A_sd[1,1],bekk7_fit$A_sd[1,2],bekk7_fit$A_sd[2,1],bekk7_fit$A_sd[2,2],bekk7_fit$G_sd[1,1],bekk7_fit$G_sd[1,2],bekk7_fit$G_sd[2,1],bekk7_fit$G_sd[2,2]),\n",
    "                   T_value = c(summary(var_bekk7)$varresult$usc$coefficients[\"const\",\"t value\"],summary(var_bekk7)$varresult$ghsusd$coefficients[\"const\",\"t value\"],\n",
    "                                   summary(var_bekk7)$varresult$usc$coefficients[\"usc.l1\",\"t value\"],summary(var_bekk7)$varresult$usc$coefficients[\"ghsusd.l1\",\"t value\"],\n",
    "                                   summary(var_bekk7)$varresult$usc$coefficients[\"usc.l2\",\"t value\"],summary(var_bekk7)$varresult$usc$coefficients[\"ghsusd.l2\",\"t value\"],\n",
    "                                   summary(var_bekk7)$varresult$usc$coefficients[\"usc.l3\",\"t value\"],summary(var_bekk7)$varresult$usc$coefficients[\"ghsusd.l3\",\"t value\"],\n",
    "                                   summary(var_bekk7)$varresult$ghsusd$coefficients[\"usc.l1\",\"t value\"],summary(var_bekk7)$varresult$ghsusd$coefficients[\"ghsusd.l1\",\"t value\"],\n",
    "                                   summary(var_bekk7)$varresult$ghsusd$coefficients[\"usc.l2\",\"t value\"],summary(var_bekk7)$varresult$ghsusd$coefficients[\"ghsusd.l2\",\"t value\"],\n",
    "                                   summary(var_bekk7)$varresult$ghsusd$coefficients[\"usc.l3\",\"t value\"],summary(var_bekk7)$varresult$ghsusd$coefficients[\"ghsusd.l3\",\"t value\"],\n",
    "                                   bekk7_fit$A_t[1,1],bekk7_fit$A_t[1,2],bekk7_fit$A_t[2,1],bekk7_fit$A_t[2,2],bekk7_fit$G_t[1,1],bekk7_fit$G_t[1,2],bekk7_fit$G_t[2,1],bekk7_fit$G_t[2,2]))\n",
    "\n",
    "bekk7$Significant_at_5p_level[abs(bekk7$T_value) >= 2.58 ] <- \"Stat significant at 1%\"\n",
    "bekk7$Significant_at_5p_level[abs(bekk7$T_value) > 1.96 & abs(bekk7$T_value) < 2.58] <- \"Stat significant at 5%\"\n",
    "bekk7$Significant_at_5p_level[abs(bekk7$T_value) > 1.645 & abs(bekk7$T_value) <= 1.96 ] <- \"Stat significant at 10%\"\n",
    "bekk7$Significant_at_5p_level[abs(bekk7$T_value) <= 1.645] <- \"Not Statistically Significant\"\n",
    "bekk7"
   ]
  },
  {
   "cell_type": "code",
   "execution_count": 59,
   "id": "b0d86f15-560e-4c64-9a14-1901dfc7ff8f",
   "metadata": {},
   "outputs": [
    {
     "data": {
      "text/plain": [
       "\n",
       "\tGranger causality H0: usc do not Granger-cause ghsusd\n",
       "\n",
       "data:  VAR object var_bekk7\n",
       "F-Test = 0.38624, df1 = 3, df2 = 8330, p-value = 0.7629\n"
      ]
     },
     "metadata": {},
     "output_type": "display_data"
    },
    {
     "data": {
      "text/plain": [
       "\n",
       "\tGranger causality H0: ghsusd do not Granger-cause usc\n",
       "\n",
       "data:  VAR object var_bekk7\n",
       "F-Test = 0.22013, df1 = 3, df2 = 8330, p-value = 0.8825\n"
      ]
     },
     "metadata": {},
     "output_type": "display_data"
    }
   ],
   "source": [
    "causality(var_bekk7,cause = \"usc\")$Granger\n",
    "causality(var_bekk7,cause = \"ghsusd\")$Granger"
   ]
  },
  {
   "cell_type": "markdown",
   "id": "9f2e3dc6-022e-4544-bf4f-cb91bdef9ce7",
   "metadata": {},
   "source": [
    "## (iii) VAR-BEKK Models for London Cocoa"
   ]
  },
  {
   "cell_type": "code",
   "execution_count": 60,
   "id": "f0fd1551-6196-4c38-9063-1f268edf5e5f",
   "metadata": {},
   "outputs": [
    {
     "name": "stdout",
     "output_type": "stream",
     "text": [
      "An xts object on 2007-07-06 / 2024-05-03 containing: \n",
      "  Data:    double [4175, 4]\n",
      "  Columns: lc, usdgbp, eurgbp, chfgbp\n",
      "  Index:   Date [4175] (TZ: \"UTC\")\n",
      "  xts Attributes:\n",
      "    $ na.action       : 'omit' int [1:216] 37 42 100 101 122 123 124 128 142 162 ...\n",
      "  ..- attr(*, \"index\")= num [1:216] 1.19e+09 1.19e+09 1.20e+09 1.20e+09 1.20e+09 ...\n",
      "    $ ret_type        : chr \"log\"\n",
      "    $ coredata_content: chr \"logReturn\"\n"
     ]
    }
   ],
   "source": [
    "l_d <- na.omit(merge(cr_d[,2],fr_d[,c(4:6)]))\n",
    "str(l_d)"
   ]
  },
  {
   "cell_type": "markdown",
   "id": "b821a89f-ab23-49d0-8092-0cdf9f1bc466",
   "metadata": {},
   "source": [
    "## (a) VAR-BEKK: London Cocoa-USDGBP"
   ]
  },
  {
   "cell_type": "code",
   "execution_count": 61,
   "id": "e3ccd1fb-4802-40a1-8b38-2f618d74b1b4",
   "metadata": {},
   "outputs": [],
   "source": [
    "bekk4data <- l_d[,c(1,2)]"
   ]
  },
  {
   "cell_type": "code",
   "execution_count": 62,
   "id": "34fff6cd-921e-4f0b-91ee-353875be79d3",
   "metadata": {},
   "outputs": [
    {
     "data": {
      "text/html": [
       "<dl>\n",
       "\t<dt>$selection</dt>\n",
       "\t\t<dd><style>\n",
       ".dl-inline {width: auto; margin:0; padding: 0}\n",
       ".dl-inline>dt, .dl-inline>dd {float: none; width: auto; display: inline-block}\n",
       ".dl-inline>dt::after {content: \":\\0020\"; padding-right: .5ex}\n",
       ".dl-inline>dt:not(:first-of-type) {padding-left: .5ex}\n",
       "</style><dl class=dl-inline><dt>AIC(n)</dt><dd>1</dd><dt>HQ(n)</dt><dd>1</dd><dt>SC(n)</dt><dd>1</dd><dt>FPE(n)</dt><dd>1</dd></dl>\n",
       "</dd>\n",
       "\t<dt>$criteria</dt>\n",
       "\t\t<dd><table class=\"dataframe\">\n",
       "<caption>A matrix: 4 × 10 of type dbl</caption>\n",
       "<thead>\n",
       "\t<tr><th></th><th scope=col>1</th><th scope=col>2</th><th scope=col>3</th><th scope=col>4</th><th scope=col>5</th><th scope=col>6</th><th scope=col>7</th><th scope=col>8</th><th scope=col>9</th><th scope=col>10</th></tr>\n",
       "</thead>\n",
       "<tbody>\n",
       "\t<tr><th scope=row>AIC(n)</th><td>-1.855809e+01</td><td>-1.855665e+01</td><td>-1.855564e+01</td><td>-1.855507e+01</td><td>-1.855651e+01</td><td>-1.855494e+01</td><td>-1.855533e+01</td><td>-1.855382e+01</td><td>-1.855223e+01</td><td>-1.855358e+01</td></tr>\n",
       "\t<tr><th scope=row>HQ(n)</th><td>-1.855486e+01</td><td>-1.855127e+01</td><td>-1.854810e+01</td><td>-1.854539e+01</td><td>-1.854467e+01</td><td>-1.854095e+01</td><td>-1.853919e+01</td><td>-1.853553e+01</td><td>-1.853178e+01</td><td>-1.853098e+01</td></tr>\n",
       "\t<tr><th scope=row>SC(n)</th><td>-1.854896e+01</td><td>-1.854144e+01</td><td>-1.853434e+01</td><td>-1.852770e+01</td><td>-1.852305e+01</td><td>-1.851540e+01</td><td>-1.850970e+01</td><td>-1.850211e+01</td><td>-1.849443e+01</td><td>-1.848970e+01</td></tr>\n",
       "\t<tr><th scope=row>FPE(n)</th><td> 8.716168e-09</td><td> 8.728675e-09</td><td> 8.737556e-09</td><td> 8.742469e-09</td><td> 8.729928e-09</td><td> 8.743614e-09</td><td> 8.740248e-09</td><td> 8.753442e-09</td><td> 8.767381e-09</td><td> 8.755525e-09</td></tr>\n",
       "</tbody>\n",
       "</table>\n",
       "</dd>\n",
       "</dl>\n"
      ],
      "text/latex": [
       "\\begin{description}\n",
       "\\item[\\$selection] \\begin{description*}\n",
       "\\item[AIC(n)] 1\n",
       "\\item[HQ(n)] 1\n",
       "\\item[SC(n)] 1\n",
       "\\item[FPE(n)] 1\n",
       "\\end{description*}\n",
       "\n",
       "\\item[\\$criteria] A matrix: 4 × 10 of type dbl\n",
       "\\begin{tabular}{r|llllllllll}\n",
       "  & 1 & 2 & 3 & 4 & 5 & 6 & 7 & 8 & 9 & 10\\\\\n",
       "\\hline\n",
       "\tAIC(n) & -1.855809e+01 & -1.855665e+01 & -1.855564e+01 & -1.855507e+01 & -1.855651e+01 & -1.855494e+01 & -1.855533e+01 & -1.855382e+01 & -1.855223e+01 & -1.855358e+01\\\\\n",
       "\tHQ(n) & -1.855486e+01 & -1.855127e+01 & -1.854810e+01 & -1.854539e+01 & -1.854467e+01 & -1.854095e+01 & -1.853919e+01 & -1.853553e+01 & -1.853178e+01 & -1.853098e+01\\\\\n",
       "\tSC(n) & -1.854896e+01 & -1.854144e+01 & -1.853434e+01 & -1.852770e+01 & -1.852305e+01 & -1.851540e+01 & -1.850970e+01 & -1.850211e+01 & -1.849443e+01 & -1.848970e+01\\\\\n",
       "\tFPE(n) &  8.716168e-09 &  8.728675e-09 &  8.737556e-09 &  8.742469e-09 &  8.729928e-09 &  8.743614e-09 &  8.740248e-09 &  8.753442e-09 &  8.767381e-09 &  8.755525e-09\\\\\n",
       "\\end{tabular}\n",
       "\n",
       "\\end{description}\n"
      ],
      "text/markdown": [
       "$selection\n",
       ":   AIC(n)\n",
       ":   1HQ(n)\n",
       ":   1SC(n)\n",
       ":   1FPE(n)\n",
       ":   1\n",
       "\n",
       "\n",
       "$criteria\n",
       ":   \n",
       "A matrix: 4 × 10 of type dbl\n",
       "\n",
       "| <!--/--> | 1 | 2 | 3 | 4 | 5 | 6 | 7 | 8 | 9 | 10 |\n",
       "|---|---|---|---|---|---|---|---|---|---|---|\n",
       "| AIC(n) | -1.855809e+01 | -1.855665e+01 | -1.855564e+01 | -1.855507e+01 | -1.855651e+01 | -1.855494e+01 | -1.855533e+01 | -1.855382e+01 | -1.855223e+01 | -1.855358e+01 |\n",
       "| HQ(n) | -1.855486e+01 | -1.855127e+01 | -1.854810e+01 | -1.854539e+01 | -1.854467e+01 | -1.854095e+01 | -1.853919e+01 | -1.853553e+01 | -1.853178e+01 | -1.853098e+01 |\n",
       "| SC(n) | -1.854896e+01 | -1.854144e+01 | -1.853434e+01 | -1.852770e+01 | -1.852305e+01 | -1.851540e+01 | -1.850970e+01 | -1.850211e+01 | -1.849443e+01 | -1.848970e+01 |\n",
       "| FPE(n) |  8.716168e-09 |  8.728675e-09 |  8.737556e-09 |  8.742469e-09 |  8.729928e-09 |  8.743614e-09 |  8.740248e-09 |  8.753442e-09 |  8.767381e-09 |  8.755525e-09 |\n",
       "\n",
       "\n",
       "\n",
       "\n"
      ],
      "text/plain": [
       "$selection\n",
       "AIC(n)  HQ(n)  SC(n) FPE(n) \n",
       "     1      1      1      1 \n",
       "\n",
       "$criteria\n",
       "                   1             2             3             4             5\n",
       "AIC(n) -1.855809e+01 -1.855665e+01 -1.855564e+01 -1.855507e+01 -1.855651e+01\n",
       "HQ(n)  -1.855486e+01 -1.855127e+01 -1.854810e+01 -1.854539e+01 -1.854467e+01\n",
       "SC(n)  -1.854896e+01 -1.854144e+01 -1.853434e+01 -1.852770e+01 -1.852305e+01\n",
       "FPE(n)  8.716168e-09  8.728675e-09  8.737556e-09  8.742469e-09  8.729928e-09\n",
       "                   6             7             8             9            10\n",
       "AIC(n) -1.855494e+01 -1.855533e+01 -1.855382e+01 -1.855223e+01 -1.855358e+01\n",
       "HQ(n)  -1.854095e+01 -1.853919e+01 -1.853553e+01 -1.853178e+01 -1.853098e+01\n",
       "SC(n)  -1.851540e+01 -1.850970e+01 -1.850211e+01 -1.849443e+01 -1.848970e+01\n",
       "FPE(n)  8.743614e-09  8.740248e-09  8.753442e-09  8.767381e-09  8.755525e-09\n"
      ]
     },
     "metadata": {},
     "output_type": "display_data"
    }
   ],
   "source": [
    "VARselect(bekk4data,type = \"const\")"
   ]
  },
  {
   "cell_type": "code",
   "execution_count": 63,
   "id": "fe4142a9-8759-45a9-8737-dd1cbaab3a14",
   "metadata": {},
   "outputs": [],
   "source": [
    "var_bekk4<-VAR(bekk4data,p = 1,type = \"const\")\n",
    "res_bekk4 <- residuals(var_bekk4)\n",
    "res_bekk4 <- as.data.frame(res_bekk4)"
   ]
  },
  {
   "cell_type": "code",
   "execution_count": 64,
   "id": "845ddba5-78ef-4c50-819c-d81c2126c379",
   "metadata": {},
   "outputs": [
    {
     "data": {
      "text/plain": [
       "\n",
       "VAR Estimation Results:\n",
       "========================= \n",
       "Endogenous variables: lc, usdgbp \n",
       "Deterministic variables: const \n",
       "Sample size: 4174 \n",
       "Log Likelihood: 26893.265 \n",
       "Roots of the characteristic polynomial:\n",
       "0.04588 0.04588\n",
       "Call:\n",
       "VAR(y = bekk4data, p = 1, type = \"const\")\n",
       "\n",
       "\n",
       "Estimation results for equation lc: \n",
       "=================================== \n",
       "lc = lc.l1 + usdgbp.l1 + const \n",
       "\n",
       "           Estimate Std. Error t value Pr(>|t|)   \n",
       "lc.l1     0.0460288  0.0154941   2.971  0.00299 **\n",
       "usdgbp.l1 0.0527223  0.0377635   1.396  0.16275   \n",
       "const     0.0004132  0.0002336   1.768  0.07707 . \n",
       "---\n",
       "Signif. codes:  0 ‘***’ 0.001 ‘**’ 0.01 ‘*’ 0.05 ‘.’ 0.1 ‘ ’ 1\n",
       "\n",
       "\n",
       "Residual standard error: 0.01509 on 4171 degrees of freedom\n",
       "Multiple R-Squared: 0.002657,\tAdjusted R-squared: 0.002178 \n",
       "F-statistic: 5.555 on 2 and 4171 DF,  p-value: 0.003896 \n",
       "\n",
       "\n",
       "Estimation results for equation usdgbp: \n",
       "======================================= \n",
       "usdgbp = lc.l1 + usdgbp.l1 + const \n",
       "\n",
       "            Estimate Std. Error t value Pr(>|t|)  \n",
       "lc.l1     -5.668e-03  6.352e-03  -0.892   0.3723  \n",
       "usdgbp.l1  3.923e-02  1.548e-02   2.534   0.0113 *\n",
       "const      8.548e-05  9.579e-05   0.892   0.3722  \n",
       "---\n",
       "Signif. codes:  0 ‘***’ 0.001 ‘**’ 0.01 ‘*’ 0.05 ‘.’ 0.1 ‘ ’ 1\n",
       "\n",
       "\n",
       "Residual standard error: 0.006185 on 4171 degrees of freedom\n",
       "Multiple R-Squared: 0.001688,\tAdjusted R-squared: 0.00121 \n",
       "F-statistic: 3.527 on 2 and 4171 DF,  p-value: 0.02948 \n",
       "\n",
       "\n",
       "\n",
       "Covariance matrix of residuals:\n",
       "              lc    usdgbp\n",
       "lc     2.276e-04 3.558e-06\n",
       "usdgbp 3.558e-06 3.826e-05\n",
       "\n",
       "Correlation matrix of residuals:\n",
       "            lc  usdgbp\n",
       "lc     1.00000 0.03813\n",
       "usdgbp 0.03813 1.00000\n",
       "\n"
      ]
     },
     "metadata": {},
     "output_type": "display_data"
    }
   ],
   "source": [
    "summary(var_bekk4)"
   ]
  },
  {
   "cell_type": "code",
   "execution_count": 65,
   "id": "5d7d7351-9fe5-4376-98ba-d226ade09d8e",
   "metadata": {},
   "outputs": [
    {
     "name": "stdout",
     "output_type": "stream",
     "text": [
      " Date[1:4174], format: \"2007-07-09\" \"2007-07-10\" \"2007-07-11\" \"2007-07-12\" \"2007-07-13\" ...\n"
     ]
    }
   ],
   "source": [
    "ind_var4 <- index(bekk4data)[-1]\n",
    "str(ind_var4)"
   ]
  },
  {
   "cell_type": "code",
   "execution_count": 66,
   "id": "a52145c5-f4eb-4e38-8f2a-09b71a753339",
   "metadata": {},
   "outputs": [],
   "source": [
    "res_bekk4 <- xts(res_bekk4,order.by = ind_var4)\n",
    "bekk_spec <- bekk_spec(model = list(type = \"bekk\",asymmetric = F))\n",
    "bekk4_fit <- bekk_fit(spec = bekk_spec,data = res_bekk4)"
   ]
  },
  {
   "cell_type": "code",
   "execution_count": 67,
   "id": "a1af5232-79e0-4cd1-9dfa-ed22651af51c",
   "metadata": {},
   "outputs": [
    {
     "data": {
      "text/html": [
       "<table class=\"dataframe\">\n",
       "<caption>A matrix: 2 × 2 of type dbl</caption>\n",
       "<tbody>\n",
       "\t<tr><td>0.19602362</td><td>0.001161249</td></tr>\n",
       "\t<tr><td>0.05572391</td><td>0.246703248</td></tr>\n",
       "</tbody>\n",
       "</table>\n"
      ],
      "text/latex": [
       "A matrix: 2 × 2 of type dbl\n",
       "\\begin{tabular}{ll}\n",
       "\t 0.19602362 & 0.001161249\\\\\n",
       "\t 0.05572391 & 0.246703248\\\\\n",
       "\\end{tabular}\n"
      ],
      "text/markdown": [
       "\n",
       "A matrix: 2 × 2 of type dbl\n",
       "\n",
       "| 0.19602362 | 0.001161249 |\n",
       "| 0.05572391 | 0.246703248 |\n",
       "\n"
      ],
      "text/plain": [
       "     [,1]       [,2]       \n",
       "[1,] 0.19602362 0.001161249\n",
       "[2,] 0.05572391 0.246703248"
      ]
     },
     "metadata": {},
     "output_type": "display_data"
    },
    {
     "data": {
      "text/html": [
       "<table class=\"dataframe\">\n",
       "<caption>A matrix: 2 × 2 of type dbl</caption>\n",
       "<tbody>\n",
       "\t<tr><td>25.102398</td><td> 0.2572914</td></tr>\n",
       "\t<tr><td> 2.252496</td><td>41.7737680</td></tr>\n",
       "</tbody>\n",
       "</table>\n"
      ],
      "text/latex": [
       "A matrix: 2 × 2 of type dbl\n",
       "\\begin{tabular}{ll}\n",
       "\t 25.102398 &  0.2572914\\\\\n",
       "\t  2.252496 & 41.7737680\\\\\n",
       "\\end{tabular}\n"
      ],
      "text/markdown": [
       "\n",
       "A matrix: 2 × 2 of type dbl\n",
       "\n",
       "| 25.102398 |  0.2572914 |\n",
       "|  2.252496 | 41.7737680 |\n",
       "\n"
      ],
      "text/plain": [
       "     [,1]      [,2]      \n",
       "[1,] 25.102398  0.2572914\n",
       "[2,]  2.252496 41.7737680"
      ]
     },
     "metadata": {},
     "output_type": "display_data"
    }
   ],
   "source": [
    "bekk4_fit$A\n",
    "bekk4_fit$A_t"
   ]
  },
  {
   "cell_type": "code",
   "execution_count": 68,
   "id": "bd63faa1-c1d1-48a7-8a09-c7e9ba1138d3",
   "metadata": {},
   "outputs": [
    {
     "data": {
      "text/html": [
       "<table class=\"dataframe\">\n",
       "<caption>A matrix: 2 × 2 of type dbl</caption>\n",
       "<tbody>\n",
       "\t<tr><td> 0.97810060</td><td>-0.0005130079</td></tr>\n",
       "\t<tr><td>-0.01954752</td><td> 0.9622561266</td></tr>\n",
       "</tbody>\n",
       "</table>\n"
      ],
      "text/latex": [
       "A matrix: 2 × 2 of type dbl\n",
       "\\begin{tabular}{ll}\n",
       "\t  0.97810060 & -0.0005130079\\\\\n",
       "\t -0.01954752 &  0.9622561266\\\\\n",
       "\\end{tabular}\n"
      ],
      "text/markdown": [
       "\n",
       "A matrix: 2 × 2 of type dbl\n",
       "\n",
       "|  0.97810060 | -0.0005130079 |\n",
       "| -0.01954752 |  0.9622561266 |\n",
       "\n"
      ],
      "text/plain": [
       "     [,1]        [,2]         \n",
       "[1,]  0.97810060 -0.0005130079\n",
       "[2,] -0.01954752  0.9622561266"
      ]
     },
     "metadata": {},
     "output_type": "display_data"
    },
    {
     "data": {
      "text/html": [
       "<table class=\"dataframe\">\n",
       "<caption>A matrix: 2 × 2 of type dbl</caption>\n",
       "<tbody>\n",
       "\t<tr><td>527.425755</td><td> -0.3840767</td></tr>\n",
       "\t<tr><td> -2.752008</td><td>341.6926844</td></tr>\n",
       "</tbody>\n",
       "</table>\n"
      ],
      "text/latex": [
       "A matrix: 2 × 2 of type dbl\n",
       "\\begin{tabular}{ll}\n",
       "\t 527.425755 &  -0.3840767\\\\\n",
       "\t  -2.752008 & 341.6926844\\\\\n",
       "\\end{tabular}\n"
      ],
      "text/markdown": [
       "\n",
       "A matrix: 2 × 2 of type dbl\n",
       "\n",
       "| 527.425755 |  -0.3840767 |\n",
       "|  -2.752008 | 341.6926844 |\n",
       "\n"
      ],
      "text/plain": [
       "     [,1]       [,2]       \n",
       "[1,] 527.425755  -0.3840767\n",
       "[2,]  -2.752008 341.6926844"
      ]
     },
     "metadata": {},
     "output_type": "display_data"
    }
   ],
   "source": [
    "bekk4_fit$G\n",
    "bekk4_fit$G_t"
   ]
  },
  {
   "cell_type": "markdown",
   "id": "e601002c-68ca-47c4-b592-f87d87235d54",
   "metadata": {},
   "source": [
    "- There is no significant return spillover from USD to London Cocoa\n",
    "- There both shock and volatility spillovers from USD to Lodnon Cocoa"
   ]
  },
  {
   "cell_type": "markdown",
   "id": "71b84d8c-d9a5-487b-9d29-a5ce4bdfc205",
   "metadata": {},
   "source": [
    "## Table summarizing the results of the VAR-BEKK model for London Cocoa - USDGBP"
   ]
  },
  {
   "cell_type": "code",
   "execution_count": 69,
   "id": "6e255ee4-ae65-4162-8b38-ee9d998e6d04",
   "metadata": {},
   "outputs": [
    {
     "data": {
      "text/html": [
       "<table class=\"dataframe\">\n",
       "<caption>A data.frame: 14 × 5</caption>\n",
       "<thead>\n",
       "\t<tr><th scope=col>Parameters</th><th scope=col>Coefficient</th><th scope=col>Std_error</th><th scope=col>T_value</th><th scope=col>Significant_at_5p_level</th></tr>\n",
       "\t<tr><th scope=col>&lt;chr&gt;</th><th scope=col>&lt;dbl&gt;</th><th scope=col>&lt;dbl&gt;</th><th scope=col>&lt;dbl&gt;</th><th scope=col>&lt;chr&gt;</th></tr>\n",
       "</thead>\n",
       "<tbody>\n",
       "\t<tr><td>mu10 </td><td> 4.131594e-04</td><td>2.336359e-04</td><td>  1.7683900</td><td>Stat significant at 10%      </td></tr>\n",
       "\t<tr><td>mu20 </td><td> 8.547882e-05</td><td>9.578637e-05</td><td>  0.8923902</td><td>Not Statistically Significant</td></tr>\n",
       "\t<tr><td>phi11</td><td> 4.602876e-02</td><td>1.549412e-02</td><td>  2.9707252</td><td>Stat significant at 1%       </td></tr>\n",
       "\t<tr><td>phi12</td><td> 5.272232e-02</td><td>3.776347e-02</td><td>  1.3961195</td><td>Not Statistically Significant</td></tr>\n",
       "\t<tr><td>phi21</td><td>-5.667781e-03</td><td>6.352298e-03</td><td> -0.8922411</td><td>Not Statistically Significant</td></tr>\n",
       "\t<tr><td>phi22</td><td> 3.923287e-02</td><td>1.548232e-02</td><td>  2.5340439</td><td>Stat significant at 5%       </td></tr>\n",
       "\t<tr><td>a11  </td><td> 1.960236e-01</td><td>7.808960e-03</td><td> 25.1023979</td><td>Stat significant at 1%       </td></tr>\n",
       "\t<tr><td>a12  </td><td> 1.161249e-03</td><td>4.513361e-03</td><td>  0.2572914</td><td>Not Statistically Significant</td></tr>\n",
       "\t<tr><td>a21  </td><td> 5.572391e-02</td><td>2.473874e-02</td><td>  2.2524957</td><td>Stat significant at 5%       </td></tr>\n",
       "\t<tr><td>a22  </td><td> 2.467032e-01</td><td>5.905698e-03</td><td> 41.7737680</td><td>Stat significant at 1%       </td></tr>\n",
       "\t<tr><td>g11  </td><td> 9.781006e-01</td><td>1.854480e-03</td><td>527.4257552</td><td>Stat significant at 1%       </td></tr>\n",
       "\t<tr><td>g12  </td><td>-5.130079e-04</td><td>1.335692e-03</td><td> -0.3840767</td><td>Not Statistically Significant</td></tr>\n",
       "\t<tr><td>g21  </td><td>-1.954752e-02</td><td>7.103000e-03</td><td> -2.7520085</td><td>Stat significant at 1%       </td></tr>\n",
       "\t<tr><td>g22  </td><td> 9.622561e-01</td><td>2.816145e-03</td><td>341.6926844</td><td>Stat significant at 1%       </td></tr>\n",
       "</tbody>\n",
       "</table>\n"
      ],
      "text/latex": [
       "A data.frame: 14 × 5\n",
       "\\begin{tabular}{lllll}\n",
       " Parameters & Coefficient & Std\\_error & T\\_value & Significant\\_at\\_5p\\_level\\\\\n",
       " <chr> & <dbl> & <dbl> & <dbl> & <chr>\\\\\n",
       "\\hline\n",
       "\t mu10  &  4.131594e-04 & 2.336359e-04 &   1.7683900 & Stat significant at 10\\%      \\\\\n",
       "\t mu20  &  8.547882e-05 & 9.578637e-05 &   0.8923902 & Not Statistically Significant\\\\\n",
       "\t phi11 &  4.602876e-02 & 1.549412e-02 &   2.9707252 & Stat significant at 1\\%       \\\\\n",
       "\t phi12 &  5.272232e-02 & 3.776347e-02 &   1.3961195 & Not Statistically Significant\\\\\n",
       "\t phi21 & -5.667781e-03 & 6.352298e-03 &  -0.8922411 & Not Statistically Significant\\\\\n",
       "\t phi22 &  3.923287e-02 & 1.548232e-02 &   2.5340439 & Stat significant at 5\\%       \\\\\n",
       "\t a11   &  1.960236e-01 & 7.808960e-03 &  25.1023979 & Stat significant at 1\\%       \\\\\n",
       "\t a12   &  1.161249e-03 & 4.513361e-03 &   0.2572914 & Not Statistically Significant\\\\\n",
       "\t a21   &  5.572391e-02 & 2.473874e-02 &   2.2524957 & Stat significant at 5\\%       \\\\\n",
       "\t a22   &  2.467032e-01 & 5.905698e-03 &  41.7737680 & Stat significant at 1\\%       \\\\\n",
       "\t g11   &  9.781006e-01 & 1.854480e-03 & 527.4257552 & Stat significant at 1\\%       \\\\\n",
       "\t g12   & -5.130079e-04 & 1.335692e-03 &  -0.3840767 & Not Statistically Significant\\\\\n",
       "\t g21   & -1.954752e-02 & 7.103000e-03 &  -2.7520085 & Stat significant at 1\\%       \\\\\n",
       "\t g22   &  9.622561e-01 & 2.816145e-03 & 341.6926844 & Stat significant at 1\\%       \\\\\n",
       "\\end{tabular}\n"
      ],
      "text/markdown": [
       "\n",
       "A data.frame: 14 × 5\n",
       "\n",
       "| Parameters &lt;chr&gt; | Coefficient &lt;dbl&gt; | Std_error &lt;dbl&gt; | T_value &lt;dbl&gt; | Significant_at_5p_level &lt;chr&gt; |\n",
       "|---|---|---|---|---|\n",
       "| mu10  |  4.131594e-04 | 2.336359e-04 |   1.7683900 | Stat significant at 10%       |\n",
       "| mu20  |  8.547882e-05 | 9.578637e-05 |   0.8923902 | Not Statistically Significant |\n",
       "| phi11 |  4.602876e-02 | 1.549412e-02 |   2.9707252 | Stat significant at 1%        |\n",
       "| phi12 |  5.272232e-02 | 3.776347e-02 |   1.3961195 | Not Statistically Significant |\n",
       "| phi21 | -5.667781e-03 | 6.352298e-03 |  -0.8922411 | Not Statistically Significant |\n",
       "| phi22 |  3.923287e-02 | 1.548232e-02 |   2.5340439 | Stat significant at 5%        |\n",
       "| a11   |  1.960236e-01 | 7.808960e-03 |  25.1023979 | Stat significant at 1%        |\n",
       "| a12   |  1.161249e-03 | 4.513361e-03 |   0.2572914 | Not Statistically Significant |\n",
       "| a21   |  5.572391e-02 | 2.473874e-02 |   2.2524957 | Stat significant at 5%        |\n",
       "| a22   |  2.467032e-01 | 5.905698e-03 |  41.7737680 | Stat significant at 1%        |\n",
       "| g11   |  9.781006e-01 | 1.854480e-03 | 527.4257552 | Stat significant at 1%        |\n",
       "| g12   | -5.130079e-04 | 1.335692e-03 |  -0.3840767 | Not Statistically Significant |\n",
       "| g21   | -1.954752e-02 | 7.103000e-03 |  -2.7520085 | Stat significant at 1%        |\n",
       "| g22   |  9.622561e-01 | 2.816145e-03 | 341.6926844 | Stat significant at 1%        |\n",
       "\n"
      ],
      "text/plain": [
       "   Parameters Coefficient   Std_error    T_value    \n",
       "1  mu10        4.131594e-04 2.336359e-04   1.7683900\n",
       "2  mu20        8.547882e-05 9.578637e-05   0.8923902\n",
       "3  phi11       4.602876e-02 1.549412e-02   2.9707252\n",
       "4  phi12       5.272232e-02 3.776347e-02   1.3961195\n",
       "5  phi21      -5.667781e-03 6.352298e-03  -0.8922411\n",
       "6  phi22       3.923287e-02 1.548232e-02   2.5340439\n",
       "7  a11         1.960236e-01 7.808960e-03  25.1023979\n",
       "8  a12         1.161249e-03 4.513361e-03   0.2572914\n",
       "9  a21         5.572391e-02 2.473874e-02   2.2524957\n",
       "10 a22         2.467032e-01 5.905698e-03  41.7737680\n",
       "11 g11         9.781006e-01 1.854480e-03 527.4257552\n",
       "12 g12        -5.130079e-04 1.335692e-03  -0.3840767\n",
       "13 g21        -1.954752e-02 7.103000e-03  -2.7520085\n",
       "14 g22         9.622561e-01 2.816145e-03 341.6926844\n",
       "   Significant_at_5p_level      \n",
       "1  Stat significant at 10%      \n",
       "2  Not Statistically Significant\n",
       "3  Stat significant at 1%       \n",
       "4  Not Statistically Significant\n",
       "5  Not Statistically Significant\n",
       "6  Stat significant at 5%       \n",
       "7  Stat significant at 1%       \n",
       "8  Not Statistically Significant\n",
       "9  Stat significant at 5%       \n",
       "10 Stat significant at 1%       \n",
       "11 Stat significant at 1%       \n",
       "12 Not Statistically Significant\n",
       "13 Stat significant at 1%       \n",
       "14 Stat significant at 1%       "
      ]
     },
     "metadata": {},
     "output_type": "display_data"
    }
   ],
   "source": [
    "bekk4 <- data.frame(Parameters = c(\"mu10\",\"mu20\",\"phi11\",\"phi12\",\"phi21\",\"phi22\",\"a11\",\"a12\",\"a21\",\"a22\",\"g11\",\"g12\",\"g21\",\"g22\"),\n",
    "                   Coefficient = c(summary(var_bekk4)$varresult$lc$coefficients[\"const\",\"Estimate\"],summary(var_bekk4)$varresult$usdgbp$coefficients[\"const\",\"Estimate\"],\n",
    "                                   summary(var_bekk4)$varresult$lc$coefficients[\"lc.l1\",\"Estimate\"],summary(var_bekk4)$varresult$lc$coefficients[\"usdgbp.l1\",\"Estimate\"],\n",
    "                                   summary(var_bekk4)$varresult$usdgbp$coefficients[\"lc.l1\",\"Estimate\"],summary(var_bekk4)$varresult$usdgbp$coefficients[\"usdgbp.l1\",\"Estimate\"],\n",
    "                                   bekk4_fit$A[1,1],bekk4_fit$A[1,2],bekk4_fit$A[2,1],bekk4_fit$A[2,2],bekk4_fit$G[1,1],bekk4_fit$G[1,2],bekk4_fit$G[2,1],bekk4_fit$G[2,2]),\n",
    "                   Std_error = c(summary(var_bekk4)$varresult$lc$coefficients[\"const\",\"Std. Error\"],summary(var_bekk4)$varresult$usdgbp$coefficients[\"const\",\"Std. Error\"],\n",
    "                                   summary(var_bekk4)$varresult$lc$coefficients[\"lc.l1\",\"Std. Error\"],summary(var_bekk4)$varresult$lc$coefficients[\"usdgbp.l1\",\"Std. Error\"],\n",
    "                                   summary(var_bekk4)$varresult$usdgbp$coefficients[\"lc.l1\",\"Std. Error\"],summary(var_bekk4)$varresult$usdgbp$coefficients[\"usdgbp.l1\",\"Std. Error\"],\n",
    "                                   bekk4_fit$A_sd[1,1],bekk4_fit$A_sd[1,2],bekk4_fit$A_sd[2,1],bekk4_fit$A_sd[2,2],bekk4_fit$G_sd[1,1],bekk4_fit$G_sd[1,2],bekk4_fit$G_sd[2,1],bekk4_fit$G_sd[2,2]),\n",
    "                   T_value = c(summary(var_bekk4)$varresult$lc$coefficients[\"const\",\"t value\"],summary(var_bekk4)$varresult$usdgbp$coefficients[\"const\",\"t value\"],\n",
    "                                   summary(var_bekk4)$varresult$lc$coefficients[\"lc.l1\",\"t value\"],summary(var_bekk4)$varresult$lc$coefficients[\"usdgbp.l1\",\"t value\"],\n",
    "                                   summary(var_bekk4)$varresult$usdgbp$coefficients[\"lc.l1\",\"t value\"],summary(var_bekk4)$varresult$usdgbp$coefficients[\"usdgbp.l1\",\"t value\"],\n",
    "                                   bekk4_fit$A_t[1,1],bekk4_fit$A_t[1,2],bekk4_fit$A_t[2,1],bekk4_fit$A_t[2,2],bekk4_fit$G_t[1,1],bekk4_fit$G_t[1,2],bekk4_fit$G_t[2,1],bekk4_fit$G_t[2,2]))\n",
    "\n",
    "bekk4$Significant_at_5p_level[abs(bekk4$T_value) >= 2.58 ] <- \"Stat significant at 1%\"\n",
    "bekk4$Significant_at_5p_level[abs(bekk4$T_value) > 1.96 & abs(bekk4$T_value) < 2.58] <- \"Stat significant at 5%\"\n",
    "bekk4$Significant_at_5p_level[abs(bekk4$T_value) > 1.645 & abs(bekk4$T_value) <= 1.96 ] <- \"Stat significant at 10%\"\n",
    "bekk4$Significant_at_5p_level[abs(bekk4$T_value) <= 1.645] <- \"Not Statistically Significant\"\n",
    "bekk4"
   ]
  },
  {
   "cell_type": "code",
   "execution_count": 70,
   "id": "d60cc7f0-d35e-40f0-8921-7d51c0d006dc",
   "metadata": {},
   "outputs": [
    {
     "data": {
      "text/plain": [
       "\n",
       "\tGranger causality H0: lc do not Granger-cause usdgbp\n",
       "\n",
       "data:  VAR object var_bekk4\n",
       "F-Test = 0.79609, df1 = 1, df2 = 8342, p-value = 0.3723\n"
      ]
     },
     "metadata": {},
     "output_type": "display_data"
    },
    {
     "data": {
      "text/plain": [
       "\n",
       "\tGranger causality H0: usdgbp do not Granger-cause lc\n",
       "\n",
       "data:  VAR object var_bekk4\n",
       "F-Test = 1.9491, df1 = 1, df2 = 8342, p-value = 0.1627\n"
      ]
     },
     "metadata": {},
     "output_type": "display_data"
    }
   ],
   "source": [
    "causality(var_bekk4,cause = \"lc\")$Granger\n",
    "causality(var_bekk4,cause = \"usdgbp\")$Granger"
   ]
  },
  {
   "cell_type": "markdown",
   "id": "410853a0-7c69-4566-8129-9df8cd6c4bb9",
   "metadata": {},
   "source": [
    "## (b) VAR-BEKK: London Cocoa-EURGBP"
   ]
  },
  {
   "cell_type": "code",
   "execution_count": 71,
   "id": "6bcb27c8-84f0-41ed-ac9c-0165c0fc41ba",
   "metadata": {},
   "outputs": [],
   "source": [
    "bekk5data <- l_d[,c(1,3)]"
   ]
  },
  {
   "cell_type": "code",
   "execution_count": 72,
   "id": "64f00b83-fc2b-4cea-b611-2910ec7fb56c",
   "metadata": {},
   "outputs": [
    {
     "data": {
      "text/html": [
       "<dl>\n",
       "\t<dt>$selection</dt>\n",
       "\t\t<dd><style>\n",
       ".dl-inline {width: auto; margin:0; padding: 0}\n",
       ".dl-inline>dt, .dl-inline>dd {float: none; width: auto; display: inline-block}\n",
       ".dl-inline>dt::after {content: \":\\0020\"; padding-right: .5ex}\n",
       ".dl-inline>dt:not(:first-of-type) {padding-left: .5ex}\n",
       "</style><dl class=dl-inline><dt>AIC(n)</dt><dd>1</dd><dt>HQ(n)</dt><dd>1</dd><dt>SC(n)</dt><dd>1</dd><dt>FPE(n)</dt><dd>1</dd></dl>\n",
       "</dd>\n",
       "\t<dt>$criteria</dt>\n",
       "\t\t<dd><table class=\"dataframe\">\n",
       "<caption>A matrix: 4 × 10 of type dbl</caption>\n",
       "<thead>\n",
       "\t<tr><th></th><th scope=col>1</th><th scope=col>2</th><th scope=col>3</th><th scope=col>4</th><th scope=col>5</th><th scope=col>6</th><th scope=col>7</th><th scope=col>8</th><th scope=col>9</th><th scope=col>10</th></tr>\n",
       "</thead>\n",
       "<tbody>\n",
       "\t<tr><th scope=row>AIC(n)</th><td>-1.888253e+01</td><td>-1.888195e+01</td><td>-1.888057e+01</td><td>-1.887965e+01</td><td>-1.887906e+01</td><td>-1.887793e+01</td><td>-1.887784e+01</td><td>-1.887623e+01</td><td>-1.887570e+01</td><td>-1.887526e+01</td></tr>\n",
       "\t<tr><th scope=row>HQ(n)</th><td>-1.887930e+01</td><td>-1.887657e+01</td><td>-1.887303e+01</td><td>-1.886997e+01</td><td>-1.886722e+01</td><td>-1.886394e+01</td><td>-1.886170e+01</td><td>-1.885794e+01</td><td>-1.885526e+01</td><td>-1.885266e+01</td></tr>\n",
       "\t<tr><th scope=row>SC(n)</th><td>-1.887340e+01</td><td>-1.886674e+01</td><td>-1.885927e+01</td><td>-1.885228e+01</td><td>-1.884560e+01</td><td>-1.883839e+01</td><td>-1.883222e+01</td><td>-1.882452e+01</td><td>-1.881791e+01</td><td>-1.881138e+01</td></tr>\n",
       "\t<tr><th scope=row>FPE(n)</th><td> 6.301186e-09</td><td> 6.304811e-09</td><td> 6.313561e-09</td><td> 6.319323e-09</td><td> 6.323091e-09</td><td> 6.330222e-09</td><td> 6.330779e-09</td><td> 6.341001e-09</td><td> 6.344333e-09</td><td> 6.347144e-09</td></tr>\n",
       "</tbody>\n",
       "</table>\n",
       "</dd>\n",
       "</dl>\n"
      ],
      "text/latex": [
       "\\begin{description}\n",
       "\\item[\\$selection] \\begin{description*}\n",
       "\\item[AIC(n)] 1\n",
       "\\item[HQ(n)] 1\n",
       "\\item[SC(n)] 1\n",
       "\\item[FPE(n)] 1\n",
       "\\end{description*}\n",
       "\n",
       "\\item[\\$criteria] A matrix: 4 × 10 of type dbl\n",
       "\\begin{tabular}{r|llllllllll}\n",
       "  & 1 & 2 & 3 & 4 & 5 & 6 & 7 & 8 & 9 & 10\\\\\n",
       "\\hline\n",
       "\tAIC(n) & -1.888253e+01 & -1.888195e+01 & -1.888057e+01 & -1.887965e+01 & -1.887906e+01 & -1.887793e+01 & -1.887784e+01 & -1.887623e+01 & -1.887570e+01 & -1.887526e+01\\\\\n",
       "\tHQ(n) & -1.887930e+01 & -1.887657e+01 & -1.887303e+01 & -1.886997e+01 & -1.886722e+01 & -1.886394e+01 & -1.886170e+01 & -1.885794e+01 & -1.885526e+01 & -1.885266e+01\\\\\n",
       "\tSC(n) & -1.887340e+01 & -1.886674e+01 & -1.885927e+01 & -1.885228e+01 & -1.884560e+01 & -1.883839e+01 & -1.883222e+01 & -1.882452e+01 & -1.881791e+01 & -1.881138e+01\\\\\n",
       "\tFPE(n) &  6.301186e-09 &  6.304811e-09 &  6.313561e-09 &  6.319323e-09 &  6.323091e-09 &  6.330222e-09 &  6.330779e-09 &  6.341001e-09 &  6.344333e-09 &  6.347144e-09\\\\\n",
       "\\end{tabular}\n",
       "\n",
       "\\end{description}\n"
      ],
      "text/markdown": [
       "$selection\n",
       ":   AIC(n)\n",
       ":   1HQ(n)\n",
       ":   1SC(n)\n",
       ":   1FPE(n)\n",
       ":   1\n",
       "\n",
       "\n",
       "$criteria\n",
       ":   \n",
       "A matrix: 4 × 10 of type dbl\n",
       "\n",
       "| <!--/--> | 1 | 2 | 3 | 4 | 5 | 6 | 7 | 8 | 9 | 10 |\n",
       "|---|---|---|---|---|---|---|---|---|---|---|\n",
       "| AIC(n) | -1.888253e+01 | -1.888195e+01 | -1.888057e+01 | -1.887965e+01 | -1.887906e+01 | -1.887793e+01 | -1.887784e+01 | -1.887623e+01 | -1.887570e+01 | -1.887526e+01 |\n",
       "| HQ(n) | -1.887930e+01 | -1.887657e+01 | -1.887303e+01 | -1.886997e+01 | -1.886722e+01 | -1.886394e+01 | -1.886170e+01 | -1.885794e+01 | -1.885526e+01 | -1.885266e+01 |\n",
       "| SC(n) | -1.887340e+01 | -1.886674e+01 | -1.885927e+01 | -1.885228e+01 | -1.884560e+01 | -1.883839e+01 | -1.883222e+01 | -1.882452e+01 | -1.881791e+01 | -1.881138e+01 |\n",
       "| FPE(n) |  6.301186e-09 |  6.304811e-09 |  6.313561e-09 |  6.319323e-09 |  6.323091e-09 |  6.330222e-09 |  6.330779e-09 |  6.341001e-09 |  6.344333e-09 |  6.347144e-09 |\n",
       "\n",
       "\n",
       "\n",
       "\n"
      ],
      "text/plain": [
       "$selection\n",
       "AIC(n)  HQ(n)  SC(n) FPE(n) \n",
       "     1      1      1      1 \n",
       "\n",
       "$criteria\n",
       "                   1             2             3             4             5\n",
       "AIC(n) -1.888253e+01 -1.888195e+01 -1.888057e+01 -1.887965e+01 -1.887906e+01\n",
       "HQ(n)  -1.887930e+01 -1.887657e+01 -1.887303e+01 -1.886997e+01 -1.886722e+01\n",
       "SC(n)  -1.887340e+01 -1.886674e+01 -1.885927e+01 -1.885228e+01 -1.884560e+01\n",
       "FPE(n)  6.301186e-09  6.304811e-09  6.313561e-09  6.319323e-09  6.323091e-09\n",
       "                   6             7             8             9            10\n",
       "AIC(n) -1.887793e+01 -1.887784e+01 -1.887623e+01 -1.887570e+01 -1.887526e+01\n",
       "HQ(n)  -1.886394e+01 -1.886170e+01 -1.885794e+01 -1.885526e+01 -1.885266e+01\n",
       "SC(n)  -1.883839e+01 -1.883222e+01 -1.882452e+01 -1.881791e+01 -1.881138e+01\n",
       "FPE(n)  6.330222e-09  6.330779e-09  6.341001e-09  6.344333e-09  6.347144e-09\n"
      ]
     },
     "metadata": {},
     "output_type": "display_data"
    }
   ],
   "source": [
    "VARselect(bekk5data,type = \"const\")"
   ]
  },
  {
   "cell_type": "code",
   "execution_count": 73,
   "id": "a31cee07-6a2a-4da5-925d-8b90e27bb78c",
   "metadata": {},
   "outputs": [],
   "source": [
    "var_bekk5<-VAR(bekk5data,p = 1,type = \"const\")\n",
    "res_bekk5 <- residuals(var_bekk5)\n",
    "res_bekk5 <- as.data.frame(res_bekk5)"
   ]
  },
  {
   "cell_type": "code",
   "execution_count": 74,
   "id": "143ff208-efd2-4af4-8ff4-18ab01af7d19",
   "metadata": {},
   "outputs": [
    {
     "data": {
      "text/plain": [
       "\n",
       "VAR Estimation Results:\n",
       "========================= \n",
       "Endogenous variables: lc, eurgbp \n",
       "Deterministic variables: const \n",
       "Sample size: 4174 \n",
       "Log Likelihood: 27569.871 \n",
       "Roots of the characteristic polynomial:\n",
       "0.04552 0.03187\n",
       "Call:\n",
       "VAR(y = bekk5data, p = 1, type = \"const\")\n",
       "\n",
       "\n",
       "Estimation results for equation lc: \n",
       "=================================== \n",
       "lc = lc.l1 + eurgbp.l1 + const \n",
       "\n",
       "           Estimate Std. Error t value Pr(>|t|)   \n",
       "lc.l1     0.0441001  0.0155479   2.836  0.00458 **\n",
       "eurgbp.l1 0.0842070  0.0444065   1.896  0.05799 . \n",
       "const     0.0004150  0.0002336   1.777  0.07570 . \n",
       "---\n",
       "Signif. codes:  0 ‘***’ 0.001 ‘**’ 0.01 ‘*’ 0.05 ‘.’ 0.1 ‘ ’ 1\n",
       "\n",
       "\n",
       "Residual standard error: 0.01508 on 4171 degrees of freedom\n",
       "Multiple R-Squared: 0.00305,\tAdjusted R-squared: 0.002572 \n",
       "F-statistic:  6.38 on 2 and 4171 DF,  p-value: 0.001711 \n",
       "\n",
       "\n",
       "Estimation results for equation eurgbp: \n",
       "======================================= \n",
       "eurgbp = lc.l1 + eurgbp.l1 + const \n",
       "\n",
       "           Estimate Std. Error t value Pr(>|t|)  \n",
       "lc.l1     2.069e-04  5.442e-03   0.038   0.9697  \n",
       "eurgbp.l1 3.330e-02  1.554e-02   2.142   0.0322 *\n",
       "const     4.099e-05  8.176e-05   0.501   0.6162  \n",
       "---\n",
       "Signif. codes:  0 ‘***’ 0.001 ‘**’ 0.01 ‘*’ 0.05 ‘.’ 0.1 ‘ ’ 1\n",
       "\n",
       "\n",
       "Residual standard error: 0.00528 on 4171 degrees of freedom\n",
       "Multiple R-Squared: 0.001113,\tAdjusted R-squared: 0.0006336 \n",
       "F-statistic: 2.323 on 2 and 4171 DF,  p-value: 0.09811 \n",
       "\n",
       "\n",
       "\n",
       "Covariance matrix of residuals:\n",
       "              lc    eurgbp\n",
       "lc     2.275e-04 7.401e-06\n",
       "eurgbp 7.401e-06 2.788e-05\n",
       "\n",
       "Correlation matrix of residuals:\n",
       "            lc  eurgbp\n",
       "lc     1.00000 0.09293\n",
       "eurgbp 0.09293 1.00000\n",
       "\n"
      ]
     },
     "metadata": {},
     "output_type": "display_data"
    }
   ],
   "source": [
    "summary(var_bekk5)"
   ]
  },
  {
   "cell_type": "code",
   "execution_count": 75,
   "id": "cd6652f1-8de2-464f-a899-029aad99ebca",
   "metadata": {},
   "outputs": [
    {
     "name": "stdout",
     "output_type": "stream",
     "text": [
      " Date[1:4174], format: \"2007-07-09\" \"2007-07-10\" \"2007-07-11\" \"2007-07-12\" \"2007-07-13\" ...\n"
     ]
    }
   ],
   "source": [
    "ind_var5 <- index(bekk5data)[-1]\n",
    "str(ind_var5)"
   ]
  },
  {
   "cell_type": "code",
   "execution_count": 76,
   "id": "0306f4f9-c43a-464d-be01-482a9c0dd4e1",
   "metadata": {},
   "outputs": [],
   "source": [
    "res_bekk5 <- xts(res_bekk5,order.by = ind_var5)\n",
    "bekk_spec <- bekk_spec(model = list(type = \"bekk\",asymmetric = F))\n",
    "bekk5_fit <- bekk_fit(spec = bekk_spec,data = res_bekk5)"
   ]
  },
  {
   "cell_type": "code",
   "execution_count": 77,
   "id": "393daf30-0aa6-4c90-9ba4-70d15a9e12ad",
   "metadata": {},
   "outputs": [
    {
     "data": {
      "text/html": [
       "<table class=\"dataframe\">\n",
       "<caption>A matrix: 2 × 2 of type dbl</caption>\n",
       "<tbody>\n",
       "\t<tr><td>0.20240784</td><td>-0.005305131</td></tr>\n",
       "\t<tr><td>0.01357797</td><td> 0.216535870</td></tr>\n",
       "</tbody>\n",
       "</table>\n"
      ],
      "text/latex": [
       "A matrix: 2 × 2 of type dbl\n",
       "\\begin{tabular}{ll}\n",
       "\t 0.20240784 & -0.005305131\\\\\n",
       "\t 0.01357797 &  0.216535870\\\\\n",
       "\\end{tabular}\n"
      ],
      "text/markdown": [
       "\n",
       "A matrix: 2 × 2 of type dbl\n",
       "\n",
       "| 0.20240784 | -0.005305131 |\n",
       "| 0.01357797 |  0.216535870 |\n",
       "\n"
      ],
      "text/plain": [
       "     [,1]       [,2]        \n",
       "[1,] 0.20240784 -0.005305131\n",
       "[2,] 0.01357797  0.216535870"
      ]
     },
     "metadata": {},
     "output_type": "display_data"
    },
    {
     "data": {
      "text/html": [
       "<table class=\"dataframe\">\n",
       "<caption>A matrix: 2 × 2 of type dbl</caption>\n",
       "<tbody>\n",
       "\t<tr><td>25.2186252</td><td>-1.663418</td></tr>\n",
       "\t<tr><td> 0.4716455</td><td>26.274679</td></tr>\n",
       "</tbody>\n",
       "</table>\n"
      ],
      "text/latex": [
       "A matrix: 2 × 2 of type dbl\n",
       "\\begin{tabular}{ll}\n",
       "\t 25.2186252 & -1.663418\\\\\n",
       "\t  0.4716455 & 26.274679\\\\\n",
       "\\end{tabular}\n"
      ],
      "text/markdown": [
       "\n",
       "A matrix: 2 × 2 of type dbl\n",
       "\n",
       "| 25.2186252 | -1.663418 |\n",
       "|  0.4716455 | 26.274679 |\n",
       "\n"
      ],
      "text/plain": [
       "     [,1]       [,2]     \n",
       "[1,] 25.2186252 -1.663418\n",
       "[2,]  0.4716455 26.274679"
      ]
     },
     "metadata": {},
     "output_type": "display_data"
    }
   ],
   "source": [
    "bekk5_fit$A\n",
    "bekk5_fit$A_t"
   ]
  },
  {
   "cell_type": "code",
   "execution_count": 78,
   "id": "31338817-9c58-4d8a-9287-db4e7f2899a5",
   "metadata": {},
   "outputs": [
    {
     "data": {
      "text/html": [
       "<table class=\"dataframe\">\n",
       "<caption>A matrix: 2 × 2 of type dbl</caption>\n",
       "<tbody>\n",
       "\t<tr><td> 0.9767375433</td><td>0.001751782</td></tr>\n",
       "\t<tr><td>-0.0003320978</td><td>0.973822251</td></tr>\n",
       "</tbody>\n",
       "</table>\n"
      ],
      "text/latex": [
       "A matrix: 2 × 2 of type dbl\n",
       "\\begin{tabular}{ll}\n",
       "\t  0.9767375433 & 0.001751782\\\\\n",
       "\t -0.0003320978 & 0.973822251\\\\\n",
       "\\end{tabular}\n"
      ],
      "text/markdown": [
       "\n",
       "A matrix: 2 × 2 of type dbl\n",
       "\n",
       "|  0.9767375433 | 0.001751782 |\n",
       "| -0.0003320978 | 0.973822251 |\n",
       "\n"
      ],
      "text/plain": [
       "     [,1]          [,2]       \n",
       "[1,]  0.9767375433 0.001751782\n",
       "[2,] -0.0003320978 0.973822251"
      ]
     },
     "metadata": {},
     "output_type": "display_data"
    },
    {
     "data": {
      "text/html": [
       "<table class=\"dataframe\">\n",
       "<caption>A matrix: 2 × 2 of type dbl</caption>\n",
       "<tbody>\n",
       "\t<tr><td>500.197342</td><td>  2.017374</td></tr>\n",
       "\t<tr><td> -0.044957</td><td>434.055553</td></tr>\n",
       "</tbody>\n",
       "</table>\n"
      ],
      "text/latex": [
       "A matrix: 2 × 2 of type dbl\n",
       "\\begin{tabular}{ll}\n",
       "\t 500.197342 &   2.017374\\\\\n",
       "\t  -0.044957 & 434.055553\\\\\n",
       "\\end{tabular}\n"
      ],
      "text/markdown": [
       "\n",
       "A matrix: 2 × 2 of type dbl\n",
       "\n",
       "| 500.197342 |   2.017374 |\n",
       "|  -0.044957 | 434.055553 |\n",
       "\n"
      ],
      "text/plain": [
       "     [,1]       [,2]      \n",
       "[1,] 500.197342   2.017374\n",
       "[2,]  -0.044957 434.055553"
      ]
     },
     "metadata": {},
     "output_type": "display_data"
    }
   ],
   "source": [
    "bekk5_fit$G\n",
    "bekk5_fit$G_t"
   ]
  },
  {
   "cell_type": "markdown",
   "id": "2cc590d5-ba0c-4975-9112-c6d7d694f821",
   "metadata": {},
   "source": [
    "- There's return spillover from EUR to London Cocoa(only at 10% level)\n",
    "- There is volatility spillover from Lodnon Cocoa to EUR"
   ]
  },
  {
   "cell_type": "markdown",
   "id": "167d17bd-7385-4115-94eb-7abd41bd389d",
   "metadata": {},
   "source": [
    "## Table summarizing the results of the VAR-BEKK model for London Cocoa - EURGBP"
   ]
  },
  {
   "cell_type": "code",
   "execution_count": 79,
   "id": "d0c928cc-47c8-4c61-b8d1-6a1ff90fc2c1",
   "metadata": {},
   "outputs": [
    {
     "data": {
      "text/html": [
       "<table class=\"dataframe\">\n",
       "<caption>A data.frame: 14 × 5</caption>\n",
       "<thead>\n",
       "\t<tr><th scope=col>Parameters</th><th scope=col>Coefficient</th><th scope=col>Std_error</th><th scope=col>T_value</th><th scope=col>Significant_at_5p_level</th></tr>\n",
       "\t<tr><th scope=col>&lt;chr&gt;</th><th scope=col>&lt;dbl&gt;</th><th scope=col>&lt;dbl&gt;</th><th scope=col>&lt;dbl&gt;</th><th scope=col>&lt;chr&gt;</th></tr>\n",
       "</thead>\n",
       "<tbody>\n",
       "\t<tr><td>mu10 </td><td> 4.149824e-04</td><td>2.335737e-04</td><td>  1.77666566</td><td>Stat significant at 10%      </td></tr>\n",
       "\t<tr><td>mu20 </td><td> 4.098632e-05</td><td>8.175751e-05</td><td>  0.50131573</td><td>Not Statistically Significant</td></tr>\n",
       "\t<tr><td>phi11</td><td> 4.410009e-02</td><td>1.554792e-02</td><td>  2.83639728</td><td>Stat significant at 1%       </td></tr>\n",
       "\t<tr><td>phi12</td><td> 8.420705e-02</td><td>4.440654e-02</td><td>  1.89627585</td><td>Stat significant at 10%      </td></tr>\n",
       "\t<tr><td>phi21</td><td> 2.068801e-04</td><td>5.442220e-03</td><td>  0.03801391</td><td>Not Statistically Significant</td></tr>\n",
       "\t<tr><td>phi22</td><td> 3.329521e-02</td><td>1.554356e-02</td><td>  2.14205768</td><td>Stat significant at 5%       </td></tr>\n",
       "\t<tr><td>a11  </td><td> 2.024078e-01</td><td>8.026125e-03</td><td> 25.21862524</td><td>Stat significant at 1%       </td></tr>\n",
       "\t<tr><td>a12  </td><td>-5.305131e-03</td><td>3.189296e-03</td><td> -1.66341768</td><td>Stat significant at 10%      </td></tr>\n",
       "\t<tr><td>a21  </td><td> 1.357797e-02</td><td>2.878851e-02</td><td>  0.47164551</td><td>Not Statistically Significant</td></tr>\n",
       "\t<tr><td>a22  </td><td> 2.165359e-01</td><td>8.241238e-03</td><td> 26.27467851</td><td>Stat significant at 1%       </td></tr>\n",
       "\t<tr><td>g11  </td><td> 9.767375e-01</td><td>1.952704e-03</td><td>500.19734152</td><td>Stat significant at 1%       </td></tr>\n",
       "\t<tr><td>g12  </td><td> 1.751782e-03</td><td>8.683476e-04</td><td>  2.01737426</td><td>Stat significant at 5%       </td></tr>\n",
       "\t<tr><td>g21  </td><td>-3.320978e-04</td><td>7.387010e-03</td><td> -0.04495700</td><td>Not Statistically Significant</td></tr>\n",
       "\t<tr><td>g22  </td><td> 9.738223e-01</td><td>2.243543e-03</td><td>434.05555292</td><td>Stat significant at 1%       </td></tr>\n",
       "</tbody>\n",
       "</table>\n"
      ],
      "text/latex": [
       "A data.frame: 14 × 5\n",
       "\\begin{tabular}{lllll}\n",
       " Parameters & Coefficient & Std\\_error & T\\_value & Significant\\_at\\_5p\\_level\\\\\n",
       " <chr> & <dbl> & <dbl> & <dbl> & <chr>\\\\\n",
       "\\hline\n",
       "\t mu10  &  4.149824e-04 & 2.335737e-04 &   1.77666566 & Stat significant at 10\\%      \\\\\n",
       "\t mu20  &  4.098632e-05 & 8.175751e-05 &   0.50131573 & Not Statistically Significant\\\\\n",
       "\t phi11 &  4.410009e-02 & 1.554792e-02 &   2.83639728 & Stat significant at 1\\%       \\\\\n",
       "\t phi12 &  8.420705e-02 & 4.440654e-02 &   1.89627585 & Stat significant at 10\\%      \\\\\n",
       "\t phi21 &  2.068801e-04 & 5.442220e-03 &   0.03801391 & Not Statistically Significant\\\\\n",
       "\t phi22 &  3.329521e-02 & 1.554356e-02 &   2.14205768 & Stat significant at 5\\%       \\\\\n",
       "\t a11   &  2.024078e-01 & 8.026125e-03 &  25.21862524 & Stat significant at 1\\%       \\\\\n",
       "\t a12   & -5.305131e-03 & 3.189296e-03 &  -1.66341768 & Stat significant at 10\\%      \\\\\n",
       "\t a21   &  1.357797e-02 & 2.878851e-02 &   0.47164551 & Not Statistically Significant\\\\\n",
       "\t a22   &  2.165359e-01 & 8.241238e-03 &  26.27467851 & Stat significant at 1\\%       \\\\\n",
       "\t g11   &  9.767375e-01 & 1.952704e-03 & 500.19734152 & Stat significant at 1\\%       \\\\\n",
       "\t g12   &  1.751782e-03 & 8.683476e-04 &   2.01737426 & Stat significant at 5\\%       \\\\\n",
       "\t g21   & -3.320978e-04 & 7.387010e-03 &  -0.04495700 & Not Statistically Significant\\\\\n",
       "\t g22   &  9.738223e-01 & 2.243543e-03 & 434.05555292 & Stat significant at 1\\%       \\\\\n",
       "\\end{tabular}\n"
      ],
      "text/markdown": [
       "\n",
       "A data.frame: 14 × 5\n",
       "\n",
       "| Parameters &lt;chr&gt; | Coefficient &lt;dbl&gt; | Std_error &lt;dbl&gt; | T_value &lt;dbl&gt; | Significant_at_5p_level &lt;chr&gt; |\n",
       "|---|---|---|---|---|\n",
       "| mu10  |  4.149824e-04 | 2.335737e-04 |   1.77666566 | Stat significant at 10%       |\n",
       "| mu20  |  4.098632e-05 | 8.175751e-05 |   0.50131573 | Not Statistically Significant |\n",
       "| phi11 |  4.410009e-02 | 1.554792e-02 |   2.83639728 | Stat significant at 1%        |\n",
       "| phi12 |  8.420705e-02 | 4.440654e-02 |   1.89627585 | Stat significant at 10%       |\n",
       "| phi21 |  2.068801e-04 | 5.442220e-03 |   0.03801391 | Not Statistically Significant |\n",
       "| phi22 |  3.329521e-02 | 1.554356e-02 |   2.14205768 | Stat significant at 5%        |\n",
       "| a11   |  2.024078e-01 | 8.026125e-03 |  25.21862524 | Stat significant at 1%        |\n",
       "| a12   | -5.305131e-03 | 3.189296e-03 |  -1.66341768 | Stat significant at 10%       |\n",
       "| a21   |  1.357797e-02 | 2.878851e-02 |   0.47164551 | Not Statistically Significant |\n",
       "| a22   |  2.165359e-01 | 8.241238e-03 |  26.27467851 | Stat significant at 1%        |\n",
       "| g11   |  9.767375e-01 | 1.952704e-03 | 500.19734152 | Stat significant at 1%        |\n",
       "| g12   |  1.751782e-03 | 8.683476e-04 |   2.01737426 | Stat significant at 5%        |\n",
       "| g21   | -3.320978e-04 | 7.387010e-03 |  -0.04495700 | Not Statistically Significant |\n",
       "| g22   |  9.738223e-01 | 2.243543e-03 | 434.05555292 | Stat significant at 1%        |\n",
       "\n"
      ],
      "text/plain": [
       "   Parameters Coefficient   Std_error    T_value     \n",
       "1  mu10        4.149824e-04 2.335737e-04   1.77666566\n",
       "2  mu20        4.098632e-05 8.175751e-05   0.50131573\n",
       "3  phi11       4.410009e-02 1.554792e-02   2.83639728\n",
       "4  phi12       8.420705e-02 4.440654e-02   1.89627585\n",
       "5  phi21       2.068801e-04 5.442220e-03   0.03801391\n",
       "6  phi22       3.329521e-02 1.554356e-02   2.14205768\n",
       "7  a11         2.024078e-01 8.026125e-03  25.21862524\n",
       "8  a12        -5.305131e-03 3.189296e-03  -1.66341768\n",
       "9  a21         1.357797e-02 2.878851e-02   0.47164551\n",
       "10 a22         2.165359e-01 8.241238e-03  26.27467851\n",
       "11 g11         9.767375e-01 1.952704e-03 500.19734152\n",
       "12 g12         1.751782e-03 8.683476e-04   2.01737426\n",
       "13 g21        -3.320978e-04 7.387010e-03  -0.04495700\n",
       "14 g22         9.738223e-01 2.243543e-03 434.05555292\n",
       "   Significant_at_5p_level      \n",
       "1  Stat significant at 10%      \n",
       "2  Not Statistically Significant\n",
       "3  Stat significant at 1%       \n",
       "4  Stat significant at 10%      \n",
       "5  Not Statistically Significant\n",
       "6  Stat significant at 5%       \n",
       "7  Stat significant at 1%       \n",
       "8  Stat significant at 10%      \n",
       "9  Not Statistically Significant\n",
       "10 Stat significant at 1%       \n",
       "11 Stat significant at 1%       \n",
       "12 Stat significant at 5%       \n",
       "13 Not Statistically Significant\n",
       "14 Stat significant at 1%       "
      ]
     },
     "metadata": {},
     "output_type": "display_data"
    }
   ],
   "source": [
    "bekk5 <- data.frame(Parameters = c(\"mu10\",\"mu20\",\"phi11\",\"phi12\",\"phi21\",\"phi22\",\"a11\",\"a12\",\"a21\",\"a22\",\"g11\",\"g12\",\"g21\",\"g22\"),\n",
    "                   Coefficient = c(summary(var_bekk5)$varresult$lc$coefficients[\"const\",\"Estimate\"],summary(var_bekk5)$varresult$eurgbp$coefficients[\"const\",\"Estimate\"],\n",
    "                                   summary(var_bekk5)$varresult$lc$coefficients[\"lc.l1\",\"Estimate\"],summary(var_bekk5)$varresult$lc$coefficients[\"eurgbp.l1\",\"Estimate\"],\n",
    "                                   summary(var_bekk5)$varresult$eurgbp$coefficients[\"lc.l1\",\"Estimate\"],summary(var_bekk5)$varresult$eurgbp$coefficients[\"eurgbp.l1\",\"Estimate\"],\n",
    "                                   bekk5_fit$A[1,1],bekk5_fit$A[1,2],bekk5_fit$A[2,1],bekk5_fit$A[2,2],bekk5_fit$G[1,1],bekk5_fit$G[1,2],bekk5_fit$G[2,1],bekk5_fit$G[2,2]),\n",
    "                   Std_error = c(summary(var_bekk5)$varresult$lc$coefficients[\"const\",\"Std. Error\"],summary(var_bekk5)$varresult$eurgbp$coefficients[\"const\",\"Std. Error\"],\n",
    "                                   summary(var_bekk5)$varresult$lc$coefficients[\"lc.l1\",\"Std. Error\"],summary(var_bekk5)$varresult$lc$coefficients[\"eurgbp.l1\",\"Std. Error\"],\n",
    "                                   summary(var_bekk5)$varresult$eurgbp$coefficients[\"lc.l1\",\"Std. Error\"],summary(var_bekk5)$varresult$eurgbp$coefficients[\"eurgbp.l1\",\"Std. Error\"],\n",
    "                                   bekk5_fit$A_sd[1,1],bekk5_fit$A_sd[1,2],bekk5_fit$A_sd[2,1],bekk5_fit$A_sd[2,2],bekk5_fit$G_sd[1,1],bekk5_fit$G_sd[1,2],bekk5_fit$G_sd[2,1],bekk5_fit$G_sd[2,2]),\n",
    "                   T_value = c(summary(var_bekk5)$varresult$lc$coefficients[\"const\",\"t value\"],summary(var_bekk5)$varresult$eurgbp$coefficients[\"const\",\"t value\"],\n",
    "                                   summary(var_bekk5)$varresult$lc$coefficients[\"lc.l1\",\"t value\"],summary(var_bekk5)$varresult$lc$coefficients[\"eurgbp.l1\",\"t value\"],\n",
    "                                   summary(var_bekk5)$varresult$eurgbp$coefficients[\"lc.l1\",\"t value\"],summary(var_bekk5)$varresult$eurgbp$coefficients[\"eurgbp.l1\",\"t value\"],\n",
    "                                   bekk5_fit$A_t[1,1],bekk5_fit$A_t[1,2],bekk5_fit$A_t[2,1],bekk5_fit$A_t[2,2],bekk5_fit$G_t[1,1],bekk5_fit$G_t[1,2],bekk5_fit$G_t[2,1],bekk5_fit$G_t[2,2]))\n",
    "\n",
    "bekk5$Significant_at_5p_level[abs(bekk5$T_value) >= 2.58 ] <- \"Stat significant at 1%\"\n",
    "bekk5$Significant_at_5p_level[abs(bekk5$T_value) > 1.96 & abs(bekk5$T_value) < 2.58] <- \"Stat significant at 5%\"\n",
    "bekk5$Significant_at_5p_level[abs(bekk5$T_value) > 1.645 & abs(bekk5$T_value) <= 1.96 ] <- \"Stat significant at 10%\"\n",
    "bekk5$Significant_at_5p_level[abs(bekk5$T_value) <= 1.645] <- \"Not Statistically Significant\"\n",
    "bekk5"
   ]
  },
  {
   "cell_type": "code",
   "execution_count": 80,
   "id": "dce30e45-e0a6-4853-bded-47b0d805326b",
   "metadata": {},
   "outputs": [
    {
     "data": {
      "text/plain": [
       "\n",
       "\tGranger causality H0: lc do not Granger-cause eurgbp\n",
       "\n",
       "data:  VAR object var_bekk5\n",
       "F-Test = 0.0014451, df1 = 1, df2 = 8342, p-value = 0.9697\n"
      ]
     },
     "metadata": {},
     "output_type": "display_data"
    },
    {
     "data": {
      "text/plain": [
       "\n",
       "\tGranger causality H0: eurgbp do not Granger-cause lc\n",
       "\n",
       "data:  VAR object var_bekk5\n",
       "F-Test = 3.5959, df1 = 1, df2 = 8342, p-value = 0.05796\n"
      ]
     },
     "metadata": {},
     "output_type": "display_data"
    }
   ],
   "source": [
    "causality(var_bekk5,cause = \"lc\")$Granger\n",
    "causality(var_bekk5,cause = \"eurgbp\")$Granger"
   ]
  },
  {
   "cell_type": "markdown",
   "id": "607c7b81-aa74-47f6-b0d9-7bec86c6766f",
   "metadata": {},
   "source": [
    "## (c) VAR-BEKK: London-CHFGBP"
   ]
  },
  {
   "cell_type": "code",
   "execution_count": 81,
   "id": "6b8dcbdd-0c94-4aa5-87b5-6ddc6e715560",
   "metadata": {},
   "outputs": [],
   "source": [
    "bekk6data <- l_d[,c(1,4)]"
   ]
  },
  {
   "cell_type": "code",
   "execution_count": 82,
   "id": "e3097cf3-6f6f-445f-80c3-41d029a6274a",
   "metadata": {},
   "outputs": [
    {
     "data": {
      "text/html": [
       "<dl>\n",
       "\t<dt>$selection</dt>\n",
       "\t\t<dd><style>\n",
       ".dl-inline {width: auto; margin:0; padding: 0}\n",
       ".dl-inline>dt, .dl-inline>dd {float: none; width: auto; display: inline-block}\n",
       ".dl-inline>dt::after {content: \":\\0020\"; padding-right: .5ex}\n",
       ".dl-inline>dt:not(:first-of-type) {padding-left: .5ex}\n",
       "</style><dl class=dl-inline><dt>AIC(n)</dt><dd>1</dd><dt>HQ(n)</dt><dd>1</dd><dt>SC(n)</dt><dd>1</dd><dt>FPE(n)</dt><dd>1</dd></dl>\n",
       "</dd>\n",
       "\t<dt>$criteria</dt>\n",
       "\t\t<dd><table class=\"dataframe\">\n",
       "<caption>A matrix: 4 × 10 of type dbl</caption>\n",
       "<thead>\n",
       "\t<tr><th></th><th scope=col>1</th><th scope=col>2</th><th scope=col>3</th><th scope=col>4</th><th scope=col>5</th><th scope=col>6</th><th scope=col>7</th><th scope=col>8</th><th scope=col>9</th><th scope=col>10</th></tr>\n",
       "</thead>\n",
       "<tbody>\n",
       "\t<tr><th scope=row>AIC(n)</th><td>-1.831365e+01</td><td>-1.831181e+01</td><td>-1.831036e+01</td><td>-1.830887e+01</td><td>-1.830858e+01</td><td>-1.830748e+01</td><td>-1.830713e+01</td><td>-1.830557e+01</td><td>-1.830439e+01</td><td>-1.830513e+01</td></tr>\n",
       "\t<tr><th scope=row>HQ(n)</th><td>-1.831042e+01</td><td>-1.830643e+01</td><td>-1.830283e+01</td><td>-1.829919e+01</td><td>-1.829674e+01</td><td>-1.829349e+01</td><td>-1.829099e+01</td><td>-1.828727e+01</td><td>-1.828394e+01</td><td>-1.828253e+01</td></tr>\n",
       "\t<tr><th scope=row>SC(n)</th><td>-1.830452e+01</td><td>-1.829660e+01</td><td>-1.828907e+01</td><td>-1.828150e+01</td><td>-1.827512e+01</td><td>-1.826793e+01</td><td>-1.826150e+01</td><td>-1.825386e+01</td><td>-1.824659e+01</td><td>-1.824125e+01</td></tr>\n",
       "\t<tr><th scope=row>FPE(n)</th><td> 1.112971e-08</td><td> 1.115017e-08</td><td> 1.116633e-08</td><td> 1.118300e-08</td><td> 1.118628e-08</td><td> 1.119861e-08</td><td> 1.120252e-08</td><td> 1.122002e-08</td><td> 1.123326e-08</td><td> 1.122495e-08</td></tr>\n",
       "</tbody>\n",
       "</table>\n",
       "</dd>\n",
       "</dl>\n"
      ],
      "text/latex": [
       "\\begin{description}\n",
       "\\item[\\$selection] \\begin{description*}\n",
       "\\item[AIC(n)] 1\n",
       "\\item[HQ(n)] 1\n",
       "\\item[SC(n)] 1\n",
       "\\item[FPE(n)] 1\n",
       "\\end{description*}\n",
       "\n",
       "\\item[\\$criteria] A matrix: 4 × 10 of type dbl\n",
       "\\begin{tabular}{r|llllllllll}\n",
       "  & 1 & 2 & 3 & 4 & 5 & 6 & 7 & 8 & 9 & 10\\\\\n",
       "\\hline\n",
       "\tAIC(n) & -1.831365e+01 & -1.831181e+01 & -1.831036e+01 & -1.830887e+01 & -1.830858e+01 & -1.830748e+01 & -1.830713e+01 & -1.830557e+01 & -1.830439e+01 & -1.830513e+01\\\\\n",
       "\tHQ(n) & -1.831042e+01 & -1.830643e+01 & -1.830283e+01 & -1.829919e+01 & -1.829674e+01 & -1.829349e+01 & -1.829099e+01 & -1.828727e+01 & -1.828394e+01 & -1.828253e+01\\\\\n",
       "\tSC(n) & -1.830452e+01 & -1.829660e+01 & -1.828907e+01 & -1.828150e+01 & -1.827512e+01 & -1.826793e+01 & -1.826150e+01 & -1.825386e+01 & -1.824659e+01 & -1.824125e+01\\\\\n",
       "\tFPE(n) &  1.112971e-08 &  1.115017e-08 &  1.116633e-08 &  1.118300e-08 &  1.118628e-08 &  1.119861e-08 &  1.120252e-08 &  1.122002e-08 &  1.123326e-08 &  1.122495e-08\\\\\n",
       "\\end{tabular}\n",
       "\n",
       "\\end{description}\n"
      ],
      "text/markdown": [
       "$selection\n",
       ":   AIC(n)\n",
       ":   1HQ(n)\n",
       ":   1SC(n)\n",
       ":   1FPE(n)\n",
       ":   1\n",
       "\n",
       "\n",
       "$criteria\n",
       ":   \n",
       "A matrix: 4 × 10 of type dbl\n",
       "\n",
       "| <!--/--> | 1 | 2 | 3 | 4 | 5 | 6 | 7 | 8 | 9 | 10 |\n",
       "|---|---|---|---|---|---|---|---|---|---|---|\n",
       "| AIC(n) | -1.831365e+01 | -1.831181e+01 | -1.831036e+01 | -1.830887e+01 | -1.830858e+01 | -1.830748e+01 | -1.830713e+01 | -1.830557e+01 | -1.830439e+01 | -1.830513e+01 |\n",
       "| HQ(n) | -1.831042e+01 | -1.830643e+01 | -1.830283e+01 | -1.829919e+01 | -1.829674e+01 | -1.829349e+01 | -1.829099e+01 | -1.828727e+01 | -1.828394e+01 | -1.828253e+01 |\n",
       "| SC(n) | -1.830452e+01 | -1.829660e+01 | -1.828907e+01 | -1.828150e+01 | -1.827512e+01 | -1.826793e+01 | -1.826150e+01 | -1.825386e+01 | -1.824659e+01 | -1.824125e+01 |\n",
       "| FPE(n) |  1.112971e-08 |  1.115017e-08 |  1.116633e-08 |  1.118300e-08 |  1.118628e-08 |  1.119861e-08 |  1.120252e-08 |  1.122002e-08 |  1.123326e-08 |  1.122495e-08 |\n",
       "\n",
       "\n",
       "\n",
       "\n"
      ],
      "text/plain": [
       "$selection\n",
       "AIC(n)  HQ(n)  SC(n) FPE(n) \n",
       "     1      1      1      1 \n",
       "\n",
       "$criteria\n",
       "                   1             2             3             4             5\n",
       "AIC(n) -1.831365e+01 -1.831181e+01 -1.831036e+01 -1.830887e+01 -1.830858e+01\n",
       "HQ(n)  -1.831042e+01 -1.830643e+01 -1.830283e+01 -1.829919e+01 -1.829674e+01\n",
       "SC(n)  -1.830452e+01 -1.829660e+01 -1.828907e+01 -1.828150e+01 -1.827512e+01\n",
       "FPE(n)  1.112971e-08  1.115017e-08  1.116633e-08  1.118300e-08  1.118628e-08\n",
       "                   6             7             8             9            10\n",
       "AIC(n) -1.830748e+01 -1.830713e+01 -1.830557e+01 -1.830439e+01 -1.830513e+01\n",
       "HQ(n)  -1.829349e+01 -1.829099e+01 -1.828727e+01 -1.828394e+01 -1.828253e+01\n",
       "SC(n)  -1.826793e+01 -1.826150e+01 -1.825386e+01 -1.824659e+01 -1.824125e+01\n",
       "FPE(n)  1.119861e-08  1.120252e-08  1.122002e-08  1.123326e-08  1.122495e-08\n"
      ]
     },
     "metadata": {},
     "output_type": "display_data"
    }
   ],
   "source": [
    "VARselect(bekk6data,type = \"const\")"
   ]
  },
  {
   "cell_type": "code",
   "execution_count": 83,
   "id": "452cadb7-d3b2-4bfa-b1c7-c473471411ed",
   "metadata": {},
   "outputs": [],
   "source": [
    "var_bekk6<-VAR(bekk6data,p = 1,type = \"const\")\n",
    "res_bekk6 <- residuals(var_bekk6)\n",
    "res_bekk6 <- as.data.frame(res_bekk6)"
   ]
  },
  {
   "cell_type": "code",
   "execution_count": 84,
   "id": "ef4283f8-ba63-4cbe-9d00-8ebb8f9b27ff",
   "metadata": {},
   "outputs": [
    {
     "data": {
      "text/plain": [
       "\n",
       "VAR Estimation Results:\n",
       "========================= \n",
       "Endogenous variables: lc, chfgbp \n",
       "Deterministic variables: const \n",
       "Sample size: 4174 \n",
       "Log Likelihood: 26383.018 \n",
       "Roots of the characteristic polynomial:\n",
       "0.04479 0.01434\n",
       "Call:\n",
       "VAR(y = bekk6data, p = 1, type = \"const\")\n",
       "\n",
       "\n",
       "Estimation results for equation lc: \n",
       "=================================== \n",
       "lc = lc.l1 + chfgbp.l1 + const \n",
       "\n",
       "           Estimate Std. Error t value Pr(>|t|)   \n",
       "lc.l1     0.0462975  0.0154925   2.988  0.00282 **\n",
       "chfgbp.l1 0.0367659  0.0334500   1.099  0.27177   \n",
       "const     0.0004114  0.0002337   1.760  0.07842 . \n",
       "---\n",
       "Signif. codes:  0 ‘***’ 0.001 ‘**’ 0.01 ‘*’ 0.05 ‘.’ 0.1 ‘ ’ 1\n",
       "\n",
       "\n",
       "Residual standard error: 0.01509 on 4171 degrees of freedom\n",
       "Multiple R-Squared: 0.002479,\tAdjusted R-squared: 0.002001 \n",
       "F-statistic: 5.184 on 2 and 4171 DF,  p-value: 0.005643 \n",
       "\n",
       "\n",
       "Estimation results for equation chfgbp: \n",
       "======================================= \n",
       "chfgbp = lc.l1 + chfgbp.l1 + const \n",
       "\n",
       "            Estimate Std. Error t value Pr(>|t|)\n",
       "lc.l1     -0.0013098  0.0071751  -0.183    0.855\n",
       "chfgbp.l1  0.0128339  0.0154918   0.828    0.407\n",
       "const      0.0001689  0.0001082   1.561    0.119\n",
       "\n",
       "\n",
       "Residual standard error: 0.006988 on 4171 degrees of freedom\n",
       "Multiple R-Squared: 0.0001703,\tAdjusted R-squared: -0.0003091 \n",
       "F-statistic: 0.3552 on 2 and 4171 DF,  p-value: 0.7011 \n",
       "\n",
       "\n",
       "\n",
       "Covariance matrix of residuals:\n",
       "              lc    chfgbp\n",
       "lc     2.277e-04 3.531e-06\n",
       "chfgbp 3.531e-06 4.883e-05\n",
       "\n",
       "Correlation matrix of residuals:\n",
       "            lc  chfgbp\n",
       "lc     1.00000 0.03349\n",
       "chfgbp 0.03349 1.00000\n",
       "\n"
      ]
     },
     "metadata": {},
     "output_type": "display_data"
    }
   ],
   "source": [
    "summary(var_bekk6)"
   ]
  },
  {
   "cell_type": "code",
   "execution_count": 85,
   "id": "80c4dc38-81a2-4424-89fe-78e68bf0dec3",
   "metadata": {},
   "outputs": [
    {
     "name": "stdout",
     "output_type": "stream",
     "text": [
      " Date[1:4174], format: \"2007-07-09\" \"2007-07-10\" \"2007-07-11\" \"2007-07-12\" \"2007-07-13\" ...\n"
     ]
    }
   ],
   "source": [
    "ind_var6 <- index(bekk6data)[-1]\n",
    "str(ind_var6)"
   ]
  },
  {
   "cell_type": "code",
   "execution_count": 86,
   "id": "24683fd6-f430-484a-b220-5ac112b4ba23",
   "metadata": {},
   "outputs": [],
   "source": [
    "res_bekk6 <- xts(res_bekk6,order.by = ind_var6)\n",
    "bekk_spec <- bekk_spec(model = list(type = \"bekk\",asymmetric = F))\n",
    "bekk6_fit <- bekk_fit(spec = bekk_spec,data = res_bekk6)"
   ]
  },
  {
   "cell_type": "code",
   "execution_count": 87,
   "id": "4e1cd9fb-c178-460d-a1ca-0e6bb801628e",
   "metadata": {},
   "outputs": [
    {
     "data": {
      "text/html": [
       "<table class=\"dataframe\">\n",
       "<caption>A matrix: 2 × 2 of type dbl</caption>\n",
       "<tbody>\n",
       "\t<tr><td>0.20897861</td><td>-0.009019387</td></tr>\n",
       "\t<tr><td>0.01703354</td><td> 0.213859150</td></tr>\n",
       "</tbody>\n",
       "</table>\n"
      ],
      "text/latex": [
       "A matrix: 2 × 2 of type dbl\n",
       "\\begin{tabular}{ll}\n",
       "\t 0.20897861 & -0.009019387\\\\\n",
       "\t 0.01703354 &  0.213859150\\\\\n",
       "\\end{tabular}\n"
      ],
      "text/markdown": [
       "\n",
       "A matrix: 2 × 2 of type dbl\n",
       "\n",
       "| 0.20897861 | -0.009019387 |\n",
       "| 0.01703354 |  0.213859150 |\n",
       "\n"
      ],
      "text/plain": [
       "     [,1]       [,2]        \n",
       "[1,] 0.20897861 -0.009019387\n",
       "[2,] 0.01703354  0.213859150"
      ]
     },
     "metadata": {},
     "output_type": "display_data"
    },
    {
     "data": {
      "text/html": [
       "<table class=\"dataframe\">\n",
       "<caption>A matrix: 2 × 2 of type dbl</caption>\n",
       "<tbody>\n",
       "\t<tr><td>25.2532705</td><td>-1.166457</td></tr>\n",
       "\t<tr><td> 0.6929718</td><td>22.310933</td></tr>\n",
       "</tbody>\n",
       "</table>\n"
      ],
      "text/latex": [
       "A matrix: 2 × 2 of type dbl\n",
       "\\begin{tabular}{ll}\n",
       "\t 25.2532705 & -1.166457\\\\\n",
       "\t  0.6929718 & 22.310933\\\\\n",
       "\\end{tabular}\n"
      ],
      "text/markdown": [
       "\n",
       "A matrix: 2 × 2 of type dbl\n",
       "\n",
       "| 25.2532705 | -1.166457 |\n",
       "|  0.6929718 | 22.310933 |\n",
       "\n"
      ],
      "text/plain": [
       "     [,1]       [,2]     \n",
       "[1,] 25.2532705 -1.166457\n",
       "[2,]  0.6929718 22.310933"
      ]
     },
     "metadata": {},
     "output_type": "display_data"
    }
   ],
   "source": [
    "bekk6_fit$A\n",
    "bekk6_fit$A_t"
   ]
  },
  {
   "cell_type": "code",
   "execution_count": 88,
   "id": "4a13c4f3-b7d0-4420-a291-d76139646075",
   "metadata": {},
   "outputs": [
    {
     "data": {
      "text/html": [
       "<table class=\"dataframe\">\n",
       "<caption>A matrix: 2 × 2 of type dbl</caption>\n",
       "<tbody>\n",
       "\t<tr><td>0.975933026</td><td>0.0009673956</td></tr>\n",
       "\t<tr><td>0.004597904</td><td>0.9493830061</td></tr>\n",
       "</tbody>\n",
       "</table>\n"
      ],
      "text/latex": [
       "A matrix: 2 × 2 of type dbl\n",
       "\\begin{tabular}{ll}\n",
       "\t 0.975933026 & 0.0009673956\\\\\n",
       "\t 0.004597904 & 0.9493830061\\\\\n",
       "\\end{tabular}\n"
      ],
      "text/markdown": [
       "\n",
       "A matrix: 2 × 2 of type dbl\n",
       "\n",
       "| 0.975933026 | 0.0009673956 |\n",
       "| 0.004597904 | 0.9493830061 |\n",
       "\n"
      ],
      "text/plain": [
       "     [,1]        [,2]        \n",
       "[1,] 0.975933026 0.0009673956\n",
       "[2,] 0.004597904 0.9493830061"
      ]
     },
     "metadata": {},
     "output_type": "display_data"
    },
    {
     "data": {
      "text/html": [
       "<table class=\"dataframe\">\n",
       "<caption>A matrix: 2 × 2 of type dbl</caption>\n",
       "<tbody>\n",
       "\t<tr><td>498.3891682</td><td>  0.4171015</td></tr>\n",
       "\t<tr><td>  0.4494223</td><td>189.7885463</td></tr>\n",
       "</tbody>\n",
       "</table>\n"
      ],
      "text/latex": [
       "A matrix: 2 × 2 of type dbl\n",
       "\\begin{tabular}{ll}\n",
       "\t 498.3891682 &   0.4171015\\\\\n",
       "\t   0.4494223 & 189.7885463\\\\\n",
       "\\end{tabular}\n"
      ],
      "text/markdown": [
       "\n",
       "A matrix: 2 × 2 of type dbl\n",
       "\n",
       "| 498.3891682 |   0.4171015 |\n",
       "|   0.4494223 | 189.7885463 |\n",
       "\n"
      ],
      "text/plain": [
       "     [,1]        [,2]       \n",
       "[1,] 498.3891682   0.4171015\n",
       "[2,]   0.4494223 189.7885463"
      ]
     },
     "metadata": {},
     "output_type": "display_data"
    }
   ],
   "source": [
    "bekk6_fit$G\n",
    "bekk6_fit$G_t"
   ]
  },
  {
   "cell_type": "markdown",
   "id": "44424fc2-44fc-449f-93a4-0233d8245527",
   "metadata": {},
   "source": [
    "No transmission between London cocoa and chf whatsoever"
   ]
  },
  {
   "cell_type": "markdown",
   "id": "abead951-3a44-4908-bd10-29bbac3c1e70",
   "metadata": {},
   "source": [
    "## Table summarizing the results of the VAR-BEKK model for London Cocoa - CHFGBP"
   ]
  },
  {
   "cell_type": "code",
   "execution_count": 89,
   "id": "6a050840-384e-4a46-93be-a1ae60ff13ec",
   "metadata": {},
   "outputs": [
    {
     "data": {
      "text/html": [
       "<table class=\"dataframe\">\n",
       "<caption>A data.frame: 14 × 5</caption>\n",
       "<thead>\n",
       "\t<tr><th scope=col>Parameters</th><th scope=col>Coefficient</th><th scope=col>Std_error</th><th scope=col>T_value</th><th scope=col>Significant_at_5p_level</th></tr>\n",
       "\t<tr><th scope=col>&lt;chr&gt;</th><th scope=col>&lt;dbl&gt;</th><th scope=col>&lt;dbl&gt;</th><th scope=col>&lt;dbl&gt;</th><th scope=col>&lt;chr&gt;</th></tr>\n",
       "</thead>\n",
       "<tbody>\n",
       "\t<tr><td>mu10 </td><td> 0.0004113931</td><td>0.0002337007</td><td>  1.7603421</td><td>Stat significant at 10%      </td></tr>\n",
       "\t<tr><td>mu20 </td><td> 0.0001689000</td><td>0.0001082342</td><td>  1.5605043</td><td>Not Statistically Significant</td></tr>\n",
       "\t<tr><td>phi11</td><td> 0.0462975250</td><td>0.0154925055</td><td>  2.9883820</td><td>Stat significant at 1%       </td></tr>\n",
       "\t<tr><td>phi12</td><td> 0.0367658960</td><td>0.0334499871</td><td>  1.0991304</td><td>Not Statistically Significant</td></tr>\n",
       "\t<tr><td>phi21</td><td>-0.0013097675</td><td>0.0071750746</td><td> -0.1825441</td><td>Not Statistically Significant</td></tr>\n",
       "\t<tr><td>phi22</td><td> 0.0128339367</td><td>0.0154917585</td><td>  0.8284364</td><td>Not Statistically Significant</td></tr>\n",
       "\t<tr><td>a11  </td><td> 0.2089786053</td><td>0.0082753085</td><td> 25.2532705</td><td>Stat significant at 1%       </td></tr>\n",
       "\t<tr><td>a12  </td><td>-0.0090193869</td><td>0.0077322946</td><td> -1.1664567</td><td>Not Statistically Significant</td></tr>\n",
       "\t<tr><td>a21  </td><td> 0.0170335373</td><td>0.0245804179</td><td>  0.6929718</td><td>Not Statistically Significant</td></tr>\n",
       "\t<tr><td>a22  </td><td> 0.2138591496</td><td>0.0095853970</td><td> 22.3109330</td><td>Stat significant at 1%       </td></tr>\n",
       "\t<tr><td>g11  </td><td> 0.9759330256</td><td>0.0019581746</td><td>498.3891682</td><td>Stat significant at 1%       </td></tr>\n",
       "\t<tr><td>g12  </td><td> 0.0009673956</td><td>0.0023193288</td><td>  0.4171015</td><td>Not Statistically Significant</td></tr>\n",
       "\t<tr><td>g21  </td><td> 0.0045979045</td><td>0.0102306988</td><td>  0.4494223</td><td>Not Statistically Significant</td></tr>\n",
       "\t<tr><td>g22  </td><td> 0.9493830061</td><td>0.0050023198</td><td>189.7885463</td><td>Stat significant at 1%       </td></tr>\n",
       "</tbody>\n",
       "</table>\n"
      ],
      "text/latex": [
       "A data.frame: 14 × 5\n",
       "\\begin{tabular}{lllll}\n",
       " Parameters & Coefficient & Std\\_error & T\\_value & Significant\\_at\\_5p\\_level\\\\\n",
       " <chr> & <dbl> & <dbl> & <dbl> & <chr>\\\\\n",
       "\\hline\n",
       "\t mu10  &  0.0004113931 & 0.0002337007 &   1.7603421 & Stat significant at 10\\%      \\\\\n",
       "\t mu20  &  0.0001689000 & 0.0001082342 &   1.5605043 & Not Statistically Significant\\\\\n",
       "\t phi11 &  0.0462975250 & 0.0154925055 &   2.9883820 & Stat significant at 1\\%       \\\\\n",
       "\t phi12 &  0.0367658960 & 0.0334499871 &   1.0991304 & Not Statistically Significant\\\\\n",
       "\t phi21 & -0.0013097675 & 0.0071750746 &  -0.1825441 & Not Statistically Significant\\\\\n",
       "\t phi22 &  0.0128339367 & 0.0154917585 &   0.8284364 & Not Statistically Significant\\\\\n",
       "\t a11   &  0.2089786053 & 0.0082753085 &  25.2532705 & Stat significant at 1\\%       \\\\\n",
       "\t a12   & -0.0090193869 & 0.0077322946 &  -1.1664567 & Not Statistically Significant\\\\\n",
       "\t a21   &  0.0170335373 & 0.0245804179 &   0.6929718 & Not Statistically Significant\\\\\n",
       "\t a22   &  0.2138591496 & 0.0095853970 &  22.3109330 & Stat significant at 1\\%       \\\\\n",
       "\t g11   &  0.9759330256 & 0.0019581746 & 498.3891682 & Stat significant at 1\\%       \\\\\n",
       "\t g12   &  0.0009673956 & 0.0023193288 &   0.4171015 & Not Statistically Significant\\\\\n",
       "\t g21   &  0.0045979045 & 0.0102306988 &   0.4494223 & Not Statistically Significant\\\\\n",
       "\t g22   &  0.9493830061 & 0.0050023198 & 189.7885463 & Stat significant at 1\\%       \\\\\n",
       "\\end{tabular}\n"
      ],
      "text/markdown": [
       "\n",
       "A data.frame: 14 × 5\n",
       "\n",
       "| Parameters &lt;chr&gt; | Coefficient &lt;dbl&gt; | Std_error &lt;dbl&gt; | T_value &lt;dbl&gt; | Significant_at_5p_level &lt;chr&gt; |\n",
       "|---|---|---|---|---|\n",
       "| mu10  |  0.0004113931 | 0.0002337007 |   1.7603421 | Stat significant at 10%       |\n",
       "| mu20  |  0.0001689000 | 0.0001082342 |   1.5605043 | Not Statistically Significant |\n",
       "| phi11 |  0.0462975250 | 0.0154925055 |   2.9883820 | Stat significant at 1%        |\n",
       "| phi12 |  0.0367658960 | 0.0334499871 |   1.0991304 | Not Statistically Significant |\n",
       "| phi21 | -0.0013097675 | 0.0071750746 |  -0.1825441 | Not Statistically Significant |\n",
       "| phi22 |  0.0128339367 | 0.0154917585 |   0.8284364 | Not Statistically Significant |\n",
       "| a11   |  0.2089786053 | 0.0082753085 |  25.2532705 | Stat significant at 1%        |\n",
       "| a12   | -0.0090193869 | 0.0077322946 |  -1.1664567 | Not Statistically Significant |\n",
       "| a21   |  0.0170335373 | 0.0245804179 |   0.6929718 | Not Statistically Significant |\n",
       "| a22   |  0.2138591496 | 0.0095853970 |  22.3109330 | Stat significant at 1%        |\n",
       "| g11   |  0.9759330256 | 0.0019581746 | 498.3891682 | Stat significant at 1%        |\n",
       "| g12   |  0.0009673956 | 0.0023193288 |   0.4171015 | Not Statistically Significant |\n",
       "| g21   |  0.0045979045 | 0.0102306988 |   0.4494223 | Not Statistically Significant |\n",
       "| g22   |  0.9493830061 | 0.0050023198 | 189.7885463 | Stat significant at 1%        |\n",
       "\n"
      ],
      "text/plain": [
       "   Parameters Coefficient   Std_error    T_value    \n",
       "1  mu10        0.0004113931 0.0002337007   1.7603421\n",
       "2  mu20        0.0001689000 0.0001082342   1.5605043\n",
       "3  phi11       0.0462975250 0.0154925055   2.9883820\n",
       "4  phi12       0.0367658960 0.0334499871   1.0991304\n",
       "5  phi21      -0.0013097675 0.0071750746  -0.1825441\n",
       "6  phi22       0.0128339367 0.0154917585   0.8284364\n",
       "7  a11         0.2089786053 0.0082753085  25.2532705\n",
       "8  a12        -0.0090193869 0.0077322946  -1.1664567\n",
       "9  a21         0.0170335373 0.0245804179   0.6929718\n",
       "10 a22         0.2138591496 0.0095853970  22.3109330\n",
       "11 g11         0.9759330256 0.0019581746 498.3891682\n",
       "12 g12         0.0009673956 0.0023193288   0.4171015\n",
       "13 g21         0.0045979045 0.0102306988   0.4494223\n",
       "14 g22         0.9493830061 0.0050023198 189.7885463\n",
       "   Significant_at_5p_level      \n",
       "1  Stat significant at 10%      \n",
       "2  Not Statistically Significant\n",
       "3  Stat significant at 1%       \n",
       "4  Not Statistically Significant\n",
       "5  Not Statistically Significant\n",
       "6  Not Statistically Significant\n",
       "7  Stat significant at 1%       \n",
       "8  Not Statistically Significant\n",
       "9  Not Statistically Significant\n",
       "10 Stat significant at 1%       \n",
       "11 Stat significant at 1%       \n",
       "12 Not Statistically Significant\n",
       "13 Not Statistically Significant\n",
       "14 Stat significant at 1%       "
      ]
     },
     "metadata": {},
     "output_type": "display_data"
    }
   ],
   "source": [
    "bekk6 <- data.frame(Parameters = c(\"mu10\",\"mu20\",\"phi11\",\"phi12\",\"phi21\",\"phi22\",\"a11\",\"a12\",\"a21\",\"a22\",\"g11\",\"g12\",\"g21\",\"g22\"),\n",
    "                   Coefficient = c(summary(var_bekk6)$varresult$lc$coefficients[\"const\",\"Estimate\"],summary(var_bekk6)$varresult$chfgbp$coefficients[\"const\",\"Estimate\"],\n",
    "                                   summary(var_bekk6)$varresult$lc$coefficients[\"lc.l1\",\"Estimate\"],summary(var_bekk6)$varresult$lc$coefficients[\"chfgbp.l1\",\"Estimate\"],\n",
    "                                   summary(var_bekk6)$varresult$chfgbp$coefficients[\"lc.l1\",\"Estimate\"],summary(var_bekk6)$varresult$chfgbp$coefficients[\"chfgbp.l1\",\"Estimate\"],\n",
    "                                   bekk6_fit$A[1,1],bekk6_fit$A[1,2],bekk6_fit$A[2,1],bekk6_fit$A[2,2],bekk6_fit$G[1,1],bekk6_fit$G[1,2],bekk6_fit$G[2,1],bekk6_fit$G[2,2]),\n",
    "                   Std_error = c(summary(var_bekk6)$varresult$lc$coefficients[\"const\",\"Std. Error\"],summary(var_bekk6)$varresult$chfgbp$coefficients[\"const\",\"Std. Error\"],\n",
    "                                   summary(var_bekk6)$varresult$lc$coefficients[\"lc.l1\",\"Std. Error\"],summary(var_bekk6)$varresult$lc$coefficients[\"chfgbp.l1\",\"Std. Error\"],\n",
    "                                   summary(var_bekk6)$varresult$chfgbp$coefficients[\"lc.l1\",\"Std. Error\"],summary(var_bekk6)$varresult$chfgbp$coefficients[\"chfgbp.l1\",\"Std. Error\"],\n",
    "                                   bekk6_fit$A_sd[1,1],bekk6_fit$A_sd[1,2],bekk6_fit$A_sd[2,1],bekk6_fit$A_sd[2,2],bekk6_fit$G_sd[1,1],bekk6_fit$G_sd[1,2],bekk6_fit$G_sd[2,1],bekk6_fit$G_sd[2,2]),\n",
    "                   T_value = c(summary(var_bekk6)$varresult$lc$coefficients[\"const\",\"t value\"],summary(var_bekk6)$varresult$chfgbp$coefficients[\"const\",\"t value\"],\n",
    "                                   summary(var_bekk6)$varresult$lc$coefficients[\"lc.l1\",\"t value\"],summary(var_bekk6)$varresult$lc$coefficients[\"chfgbp.l1\",\"t value\"],\n",
    "                                   summary(var_bekk6)$varresult$chfgbp$coefficients[\"lc.l1\",\"t value\"],summary(var_bekk6)$varresult$chfgbp$coefficients[\"chfgbp.l1\",\"t value\"],\n",
    "                                   bekk6_fit$A_t[1,1],bekk6_fit$A_t[1,2],bekk6_fit$A_t[2,1],bekk6_fit$A_t[2,2],bekk6_fit$G_t[1,1],bekk6_fit$G_t[1,2],bekk6_fit$G_t[2,1],bekk6_fit$G_t[2,2]))\n",
    "\n",
    "bekk6$Significant_at_5p_level[abs(bekk6$T_value) >= 2.58 ] <- \"Stat significant at 1%\"\n",
    "bekk6$Significant_at_5p_level[abs(bekk6$T_value) > 1.96 & abs(bekk6$T_value) < 2.58] <- \"Stat significant at 5%\"\n",
    "bekk6$Significant_at_5p_level[abs(bekk6$T_value) > 1.645 & abs(bekk6$T_value) <= 1.96 ] <- \"Stat significant at 10%\"\n",
    "bekk6$Significant_at_5p_level[abs(bekk6$T_value) <= 1.645] <- \"Not Statistically Significant\"\n",
    "bekk6"
   ]
  },
  {
   "cell_type": "code",
   "execution_count": 90,
   "id": "8584e474-69f3-4515-a64c-bcd84a2ed39d",
   "metadata": {},
   "outputs": [
    {
     "data": {
      "text/plain": [
       "\n",
       "\tGranger causality H0: lc do not Granger-cause chfgbp\n",
       "\n",
       "data:  VAR object var_bekk6\n",
       "F-Test = 0.033322, df1 = 1, df2 = 8342, p-value = 0.8552\n"
      ]
     },
     "metadata": {},
     "output_type": "display_data"
    },
    {
     "data": {
      "text/plain": [
       "\n",
       "\tGranger causality H0: chfgbp do not Granger-cause lc\n",
       "\n",
       "data:  VAR object var_bekk6\n",
       "F-Test = 1.2081, df1 = 1, df2 = 8342, p-value = 0.2717\n"
      ]
     },
     "metadata": {},
     "output_type": "display_data"
    }
   ],
   "source": [
    "causality(var_bekk6,cause = \"lc\")$Granger\n",
    "causality(var_bekk6,cause = \"chfgbp\")$Granger"
   ]
  },
  {
   "cell_type": "markdown",
   "id": "9981e6b2-9d01-4d50-b522-b805e856137e",
   "metadata": {},
   "source": [
    "## (d) VAR-BEKK Model for London Cocoa - GHSGBP"
   ]
  },
  {
   "cell_type": "code",
   "execution_count": 91,
   "id": "98f74235-f0aa-40cb-b98a-cf8b90c0e09c",
   "metadata": {},
   "outputs": [],
   "source": [
    "bekk8data <- na.omit(merge(cr_d[,2],fr_d[,8]))"
   ]
  },
  {
   "cell_type": "code",
   "execution_count": 92,
   "id": "52adf45b-e967-41fe-8b48-9e726ccd4fcd",
   "metadata": {},
   "outputs": [
    {
     "data": {
      "text/html": [
       "<dl>\n",
       "\t<dt>$selection</dt>\n",
       "\t\t<dd><style>\n",
       ".dl-inline {width: auto; margin:0; padding: 0}\n",
       ".dl-inline>dt, .dl-inline>dd {float: none; width: auto; display: inline-block}\n",
       ".dl-inline>dt::after {content: \":\\0020\"; padding-right: .5ex}\n",
       ".dl-inline>dt:not(:first-of-type) {padding-left: .5ex}\n",
       "</style><dl class=dl-inline><dt>AIC(n)</dt><dd>3</dd><dt>HQ(n)</dt><dd>3</dd><dt>SC(n)</dt><dd>1</dd><dt>FPE(n)</dt><dd>3</dd></dl>\n",
       "</dd>\n",
       "\t<dt>$criteria</dt>\n",
       "\t\t<dd><table class=\"dataframe\">\n",
       "<caption>A matrix: 4 × 10 of type dbl</caption>\n",
       "<thead>\n",
       "\t<tr><th></th><th scope=col>1</th><th scope=col>2</th><th scope=col>3</th><th scope=col>4</th><th scope=col>5</th><th scope=col>6</th><th scope=col>7</th><th scope=col>8</th><th scope=col>9</th><th scope=col>10</th></tr>\n",
       "</thead>\n",
       "<tbody>\n",
       "\t<tr><th scope=row>AIC(n)</th><td>-1.721693e+01</td><td>-1.721912e+01</td><td>-1.722491e+01</td><td>-1.722465e+01</td><td>-1.722365e+01</td><td>-1.722231e+01</td><td>-1.722152e+01</td><td>-1.722024e+01</td><td>-1.722006e+01</td><td>-1.721945e+01</td></tr>\n",
       "\t<tr><th scope=row>HQ(n)</th><td>-1.721370e+01</td><td>-1.721374e+01</td><td>-1.721738e+01</td><td>-1.721496e+01</td><td>-1.721182e+01</td><td>-1.720833e+01</td><td>-1.720538e+01</td><td>-1.720195e+01</td><td>-1.719962e+01</td><td>-1.719685e+01</td></tr>\n",
       "\t<tr><th scope=row>SC(n)</th><td>-1.720780e+01</td><td>-1.720392e+01</td><td>-1.720362e+01</td><td>-1.719727e+01</td><td>-1.719019e+01</td><td>-1.718277e+01</td><td>-1.717589e+01</td><td>-1.716853e+01</td><td>-1.716227e+01</td><td>-1.715557e+01</td></tr>\n",
       "\t<tr><th scope=row>FPE(n)</th><td> 3.332596e-08</td><td> 3.325288e-08</td><td> 3.306108e-08</td><td> 3.306978e-08</td><td> 3.310268e-08</td><td> 3.314699e-08</td><td> 3.317334e-08</td><td> 3.321576e-08</td><td> 3.322170e-08</td><td> 3.324216e-08</td></tr>\n",
       "</tbody>\n",
       "</table>\n",
       "</dd>\n",
       "</dl>\n"
      ],
      "text/latex": [
       "\\begin{description}\n",
       "\\item[\\$selection] \\begin{description*}\n",
       "\\item[AIC(n)] 3\n",
       "\\item[HQ(n)] 3\n",
       "\\item[SC(n)] 1\n",
       "\\item[FPE(n)] 3\n",
       "\\end{description*}\n",
       "\n",
       "\\item[\\$criteria] A matrix: 4 × 10 of type dbl\n",
       "\\begin{tabular}{r|llllllllll}\n",
       "  & 1 & 2 & 3 & 4 & 5 & 6 & 7 & 8 & 9 & 10\\\\\n",
       "\\hline\n",
       "\tAIC(n) & -1.721693e+01 & -1.721912e+01 & -1.722491e+01 & -1.722465e+01 & -1.722365e+01 & -1.722231e+01 & -1.722152e+01 & -1.722024e+01 & -1.722006e+01 & -1.721945e+01\\\\\n",
       "\tHQ(n) & -1.721370e+01 & -1.721374e+01 & -1.721738e+01 & -1.721496e+01 & -1.721182e+01 & -1.720833e+01 & -1.720538e+01 & -1.720195e+01 & -1.719962e+01 & -1.719685e+01\\\\\n",
       "\tSC(n) & -1.720780e+01 & -1.720392e+01 & -1.720362e+01 & -1.719727e+01 & -1.719019e+01 & -1.718277e+01 & -1.717589e+01 & -1.716853e+01 & -1.716227e+01 & -1.715557e+01\\\\\n",
       "\tFPE(n) &  3.332596e-08 &  3.325288e-08 &  3.306108e-08 &  3.306978e-08 &  3.310268e-08 &  3.314699e-08 &  3.317334e-08 &  3.321576e-08 &  3.322170e-08 &  3.324216e-08\\\\\n",
       "\\end{tabular}\n",
       "\n",
       "\\end{description}\n"
      ],
      "text/markdown": [
       "$selection\n",
       ":   AIC(n)\n",
       ":   3HQ(n)\n",
       ":   3SC(n)\n",
       ":   1FPE(n)\n",
       ":   3\n",
       "\n",
       "\n",
       "$criteria\n",
       ":   \n",
       "A matrix: 4 × 10 of type dbl\n",
       "\n",
       "| <!--/--> | 1 | 2 | 3 | 4 | 5 | 6 | 7 | 8 | 9 | 10 |\n",
       "|---|---|---|---|---|---|---|---|---|---|---|\n",
       "| AIC(n) | -1.721693e+01 | -1.721912e+01 | -1.722491e+01 | -1.722465e+01 | -1.722365e+01 | -1.722231e+01 | -1.722152e+01 | -1.722024e+01 | -1.722006e+01 | -1.721945e+01 |\n",
       "| HQ(n) | -1.721370e+01 | -1.721374e+01 | -1.721738e+01 | -1.721496e+01 | -1.721182e+01 | -1.720833e+01 | -1.720538e+01 | -1.720195e+01 | -1.719962e+01 | -1.719685e+01 |\n",
       "| SC(n) | -1.720780e+01 | -1.720392e+01 | -1.720362e+01 | -1.719727e+01 | -1.719019e+01 | -1.718277e+01 | -1.717589e+01 | -1.716853e+01 | -1.716227e+01 | -1.715557e+01 |\n",
       "| FPE(n) |  3.332596e-08 |  3.325288e-08 |  3.306108e-08 |  3.306978e-08 |  3.310268e-08 |  3.314699e-08 |  3.317334e-08 |  3.321576e-08 |  3.322170e-08 |  3.324216e-08 |\n",
       "\n",
       "\n",
       "\n",
       "\n"
      ],
      "text/plain": [
       "$selection\n",
       "AIC(n)  HQ(n)  SC(n) FPE(n) \n",
       "     3      3      1      3 \n",
       "\n",
       "$criteria\n",
       "                   1             2             3             4             5\n",
       "AIC(n) -1.721693e+01 -1.721912e+01 -1.722491e+01 -1.722465e+01 -1.722365e+01\n",
       "HQ(n)  -1.721370e+01 -1.721374e+01 -1.721738e+01 -1.721496e+01 -1.721182e+01\n",
       "SC(n)  -1.720780e+01 -1.720392e+01 -1.720362e+01 -1.719727e+01 -1.719019e+01\n",
       "FPE(n)  3.332596e-08  3.325288e-08  3.306108e-08  3.306978e-08  3.310268e-08\n",
       "                   6             7             8             9            10\n",
       "AIC(n) -1.722231e+01 -1.722152e+01 -1.722024e+01 -1.722006e+01 -1.721945e+01\n",
       "HQ(n)  -1.720833e+01 -1.720538e+01 -1.720195e+01 -1.719962e+01 -1.719685e+01\n",
       "SC(n)  -1.718277e+01 -1.717589e+01 -1.716853e+01 -1.716227e+01 -1.715557e+01\n",
       "FPE(n)  3.314699e-08  3.317334e-08  3.321576e-08  3.322170e-08  3.324216e-08\n"
      ]
     },
     "metadata": {},
     "output_type": "display_data"
    }
   ],
   "source": [
    "VARselect(bekk8data,type = \"const\")"
   ]
  },
  {
   "cell_type": "code",
   "execution_count": 93,
   "id": "70e10f48-e615-4fbb-b5b4-d6727085758a",
   "metadata": {},
   "outputs": [],
   "source": [
    "var_bekk8<-VAR(bekk8data,p = 3,type = \"const\")\n",
    "res_bekk8 <- residuals(var_bekk8)\n",
    "res_bekk8 <- as.data.frame(res_bekk8)"
   ]
  },
  {
   "cell_type": "code",
   "execution_count": 94,
   "id": "8d4c0949-5d17-48b5-a147-330b69cd365c",
   "metadata": {},
   "outputs": [
    {
     "data": {
      "text/plain": [
       "\n",
       "VAR Estimation Results:\n",
       "========================= \n",
       "Endogenous variables: lc, ghsgbp \n",
       "Deterministic variables: const \n",
       "Sample size: 4172 \n",
       "Log Likelihood: 24110.29 \n",
       "Roots of the characteristic polynomial:\n",
       "0.4628 0.4251 0.4251 0.2798 0.2419 0.2419\n",
       "Call:\n",
       "VAR(y = bekk8data, p = 3, type = \"const\")\n",
       "\n",
       "\n",
       "Estimation results for equation lc: \n",
       "=================================== \n",
       "lc = lc.l1 + ghsgbp.l1 + lc.l2 + ghsgbp.l2 + lc.l3 + ghsgbp.l3 + const \n",
       "\n",
       "            Estimate Std. Error t value Pr(>|t|)   \n",
       "lc.l1      0.0458099  0.0155044   2.955  0.00315 **\n",
       "ghsgbp.l1  0.0104334  0.0193709   0.539  0.59019   \n",
       "lc.l2      0.0064808  0.0156004   0.415  0.67785   \n",
       "ghsgbp.l2 -0.0035311  0.0193735  -0.182  0.85538   \n",
       "lc.l3      0.0148195  0.0156477   0.947  0.34366   \n",
       "ghsgbp.l3  0.0086656  0.0193710   0.447  0.65465   \n",
       "const      0.0004289  0.0002345   1.829  0.06742 . \n",
       "---\n",
       "Signif. codes:  0 ‘***’ 0.001 ‘**’ 0.01 ‘*’ 0.05 ‘.’ 0.1 ‘ ’ 1\n",
       "\n",
       "\n",
       "Residual standard error: 0.01508 on 4165 degrees of freedom\n",
       "Multiple R-Squared: 0.002551,\tAdjusted R-squared: 0.001114 \n",
       "F-statistic: 1.775 on 6 and 4165 DF,  p-value: 0.1 \n",
       "\n",
       "\n",
       "Estimation results for equation ghsgbp: \n",
       "======================================= \n",
       "ghsgbp = lc.l1 + ghsgbp.l1 + lc.l2 + ghsgbp.l2 + lc.l3 + ghsgbp.l3 + const \n",
       "\n",
       "            Estimate Std. Error t value Pr(>|t|)    \n",
       "lc.l1     -0.0057022  0.0123560  -0.461   0.6445    \n",
       "ghsgbp.l1 -0.0702565  0.0154373  -4.551 5.49e-06 ***\n",
       "lc.l2     -0.0061564  0.0124325  -0.495   0.6205    \n",
       "ghsgbp.l2  0.0684552  0.0154394   4.434 9.50e-06 ***\n",
       "lc.l3     -0.0130633  0.0124702  -1.048   0.2949    \n",
       "ghsgbp.l3  0.0847365  0.0154374   5.489 4.28e-08 ***\n",
       "const     -0.0004577  0.0001869  -2.449   0.0144 *  \n",
       "---\n",
       "Signif. codes:  0 ‘***’ 0.001 ‘**’ 0.01 ‘*’ 0.05 ‘.’ 0.1 ‘ ’ 1\n",
       "\n",
       "\n",
       "Residual standard error: 0.01202 on 4165 degrees of freedom\n",
       "Multiple R-Squared: 0.01622,\tAdjusted R-squared: 0.0148 \n",
       "F-statistic: 11.44 on 6 and 4165 DF,  p-value: 9.913e-13 \n",
       "\n",
       "\n",
       "\n",
       "Covariance matrix of residuals:\n",
       "              lc    ghsgbp\n",
       "lc     2.275e-04 1.069e-06\n",
       "ghsgbp 1.069e-06 1.445e-04\n",
       "\n",
       "Correlation matrix of residuals:\n",
       "             lc   ghsgbp\n",
       "lc     1.000000 0.005894\n",
       "ghsgbp 0.005894 1.000000\n",
       "\n"
      ]
     },
     "metadata": {},
     "output_type": "display_data"
    }
   ],
   "source": [
    "summary(var_bekk8)"
   ]
  },
  {
   "cell_type": "code",
   "execution_count": 95,
   "id": "491ddbde-b379-4031-ad2b-89f6e2932841",
   "metadata": {},
   "outputs": [
    {
     "name": "stdout",
     "output_type": "stream",
     "text": [
      " Date[1:4172], format: \"2007-07-11\" \"2007-07-12\" \"2007-07-13\" \"2007-07-16\" \"2007-07-17\" ...\n"
     ]
    }
   ],
   "source": [
    "ind_var8 <- index(bekk8data)[-c(1:3)]\n",
    "str(ind_var8)"
   ]
  },
  {
   "cell_type": "code",
   "execution_count": 96,
   "id": "31d47631-5be0-4f47-a6f7-dc62aaf484f2",
   "metadata": {},
   "outputs": [],
   "source": [
    "res_bekk8 <- xts(res_bekk8,order.by = ind_var8)\n",
    "bekk_spec <- bekk_spec(model = list(type = \"bekk\",asymmetric = F))\n",
    "bekk8_fit <- bekk_fit(spec = bekk_spec,data = res_bekk8)"
   ]
  },
  {
   "cell_type": "code",
   "execution_count": 97,
   "id": "86390cb3-f9c1-4ba9-a0dc-28aa4f202cce",
   "metadata": {},
   "outputs": [
    {
     "data": {
      "text/html": [
       "<table class=\"dataframe\">\n",
       "<caption>A matrix: 2 × 2 of type dbl</caption>\n",
       "<tbody>\n",
       "\t<tr><td> 0.181147400</td><td>0.005401022</td></tr>\n",
       "\t<tr><td>-0.007051672</td><td>0.351102296</td></tr>\n",
       "</tbody>\n",
       "</table>\n"
      ],
      "text/latex": [
       "A matrix: 2 × 2 of type dbl\n",
       "\\begin{tabular}{ll}\n",
       "\t  0.181147400 & 0.005401022\\\\\n",
       "\t -0.007051672 & 0.351102296\\\\\n",
       "\\end{tabular}\n"
      ],
      "text/markdown": [
       "\n",
       "A matrix: 2 × 2 of type dbl\n",
       "\n",
       "|  0.181147400 | 0.005401022 |\n",
       "| -0.007051672 | 0.351102296 |\n",
       "\n"
      ],
      "text/plain": [
       "     [,1]         [,2]       \n",
       "[1,]  0.181147400 0.005401022\n",
       "[2,] -0.007051672 0.351102296"
      ]
     },
     "metadata": {},
     "output_type": "display_data"
    },
    {
     "data": {
      "text/html": [
       "<table class=\"dataframe\">\n",
       "<caption>A matrix: 2 × 2 of type dbl</caption>\n",
       "<tbody>\n",
       "\t<tr><td>27.0454489</td><td> 0.836602</td></tr>\n",
       "\t<tr><td>-0.9777392</td><td>39.455965</td></tr>\n",
       "</tbody>\n",
       "</table>\n"
      ],
      "text/latex": [
       "A matrix: 2 × 2 of type dbl\n",
       "\\begin{tabular}{ll}\n",
       "\t 27.0454489 &  0.836602\\\\\n",
       "\t -0.9777392 & 39.455965\\\\\n",
       "\\end{tabular}\n"
      ],
      "text/markdown": [
       "\n",
       "A matrix: 2 × 2 of type dbl\n",
       "\n",
       "| 27.0454489 |  0.836602 |\n",
       "| -0.9777392 | 39.455965 |\n",
       "\n"
      ],
      "text/plain": [
       "     [,1]       [,2]     \n",
       "[1,] 27.0454489  0.836602\n",
       "[2,] -0.9777392 39.455965"
      ]
     },
     "metadata": {},
     "output_type": "display_data"
    }
   ],
   "source": [
    "bekk8_fit$A\n",
    "bekk8_fit$A_t"
   ]
  },
  {
   "cell_type": "code",
   "execution_count": 98,
   "id": "b207a93c-2d28-4dea-8ca2-5e567734307f",
   "metadata": {},
   "outputs": [
    {
     "data": {
      "text/html": [
       "<table class=\"dataframe\">\n",
       "<caption>A matrix: 2 × 2 of type dbl</caption>\n",
       "<tbody>\n",
       "\t<tr><td>0.981663525</td><td>-0.0009678215</td></tr>\n",
       "\t<tr><td>0.003342895</td><td> 0.9328089008</td></tr>\n",
       "</tbody>\n",
       "</table>\n"
      ],
      "text/latex": [
       "A matrix: 2 × 2 of type dbl\n",
       "\\begin{tabular}{ll}\n",
       "\t 0.981663525 & -0.0009678215\\\\\n",
       "\t 0.003342895 &  0.9328089008\\\\\n",
       "\\end{tabular}\n"
      ],
      "text/markdown": [
       "\n",
       "A matrix: 2 × 2 of type dbl\n",
       "\n",
       "| 0.981663525 | -0.0009678215 |\n",
       "| 0.003342895 |  0.9328089008 |\n",
       "\n"
      ],
      "text/plain": [
       "     [,1]        [,2]         \n",
       "[1,] 0.981663525 -0.0009678215\n",
       "[2,] 0.003342895  0.9328089008"
      ]
     },
     "metadata": {},
     "output_type": "display_data"
    },
    {
     "data": {
      "text/html": [
       "<table class=\"dataframe\">\n",
       "<caption>A matrix: 2 × 2 of type dbl</caption>\n",
       "<tbody>\n",
       "\t<tr><td>663.210560</td><td> -0.4341755</td></tr>\n",
       "\t<tr><td>  1.198589</td><td>328.8071681</td></tr>\n",
       "</tbody>\n",
       "</table>\n"
      ],
      "text/latex": [
       "A matrix: 2 × 2 of type dbl\n",
       "\\begin{tabular}{ll}\n",
       "\t 663.210560 &  -0.4341755\\\\\n",
       "\t   1.198589 & 328.8071681\\\\\n",
       "\\end{tabular}\n"
      ],
      "text/markdown": [
       "\n",
       "A matrix: 2 × 2 of type dbl\n",
       "\n",
       "| 663.210560 |  -0.4341755 |\n",
       "|   1.198589 | 328.8071681 |\n",
       "\n"
      ],
      "text/plain": [
       "     [,1]       [,2]       \n",
       "[1,] 663.210560  -0.4341755\n",
       "[2,]   1.198589 328.8071681"
      ]
     },
     "metadata": {},
     "output_type": "display_data"
    }
   ],
   "source": [
    "bekk8_fit$G\n",
    "bekk8_fit$G_t"
   ]
  },
  {
   "cell_type": "markdown",
   "id": "25c90a66-9149-4de9-a2d9-87a2b1762c69",
   "metadata": {},
   "source": [
    "- No shock and volatility transmission"
   ]
  },
  {
   "cell_type": "markdown",
   "id": "85c34a83-056d-482a-b922-5b1bd786b531",
   "metadata": {},
   "source": [
    "## Table summarizing the results of the VAR-BEKK model for London Cocoa - GHSGBP"
   ]
  },
  {
   "cell_type": "code",
   "execution_count": 99,
   "id": "e0cdda65-c031-48cb-9842-cac03a320678",
   "metadata": {},
   "outputs": [
    {
     "data": {
      "text/html": [
       "<table class=\"dataframe\">\n",
       "<caption>A data.frame: 22 × 5</caption>\n",
       "<thead>\n",
       "\t<tr><th scope=col>Parameters</th><th scope=col>Coefficient</th><th scope=col>Std_error</th><th scope=col>T_value</th><th scope=col>Significant_at_5p_level</th></tr>\n",
       "\t<tr><th scope=col>&lt;chr&gt;</th><th scope=col>&lt;dbl&gt;</th><th scope=col>&lt;dbl&gt;</th><th scope=col>&lt;dbl&gt;</th><th scope=col>&lt;chr&gt;</th></tr>\n",
       "</thead>\n",
       "<tbody>\n",
       "\t<tr><td>mu10 </td><td> 0.0004289453</td><td>0.0002344814</td><td>  1.8293364</td><td>Stat significant at 10%      </td></tr>\n",
       "\t<tr><td>mu20 </td><td>-0.0004576611</td><td>0.0001868663</td><td> -2.4491373</td><td>Stat significant at 5%       </td></tr>\n",
       "\t<tr><td>phi11</td><td> 0.0458099434</td><td>0.0155043935</td><td>  2.9546427</td><td>Stat significant at 1%       </td></tr>\n",
       "\t<tr><td>phi12</td><td> 0.0104333540</td><td>0.0193709112</td><td>  0.5386094</td><td>Not Statistically Significant</td></tr>\n",
       "\t<tr><td>phi13</td><td> 0.0064808069</td><td>0.0156004062</td><td>  0.4154255</td><td>Not Statistically Significant</td></tr>\n",
       "\t<tr><td>phi14</td><td>-0.0035310804</td><td>0.0193735029</td><td> -0.1822634</td><td>Not Statistically Significant</td></tr>\n",
       "\t<tr><td>phi15</td><td> 0.0148195064</td><td>0.0156476556</td><td>  0.9470752</td><td>Not Statistically Significant</td></tr>\n",
       "\t<tr><td>phi16</td><td> 0.0086655818</td><td>0.0193709579</td><td>  0.4473492</td><td>Not Statistically Significant</td></tr>\n",
       "\t<tr><td>phi21</td><td>-0.0057022121</td><td>0.0123559844</td><td> -0.4614940</td><td>Not Statistically Significant</td></tr>\n",
       "\t<tr><td>phi22</td><td>-0.0702564746</td><td>0.0154373454</td><td> -4.5510723</td><td>Stat significant at 1%       </td></tr>\n",
       "\t<tr><td>phi23</td><td>-0.0061563516</td><td>0.0124325003</td><td> -0.4951821</td><td>Not Statistically Significant</td></tr>\n",
       "\t<tr><td>phi24</td><td> 0.0684552166</td><td>0.0154394108</td><td>  4.4337972</td><td>Stat significant at 1%       </td></tr>\n",
       "\t<tr><td>phi25</td><td>-0.0130633322</td><td>0.0124701549</td><td> -1.0475678</td><td>Not Statistically Significant</td></tr>\n",
       "\t<tr><td>phi26</td><td> 0.0847365416</td><td>0.0154373827</td><td>  5.4890485</td><td>Stat significant at 1%       </td></tr>\n",
       "\t<tr><td>a11  </td><td> 0.1811474005</td><td>0.0066978885</td><td> 27.0454489</td><td>Stat significant at 1%       </td></tr>\n",
       "\t<tr><td>a12  </td><td> 0.0054010223</td><td>0.0064559037</td><td>  0.8366020</td><td>Not Statistically Significant</td></tr>\n",
       "\t<tr><td>a21  </td><td>-0.0070516717</td><td>0.0072122213</td><td> -0.9777392</td><td>Not Statistically Significant</td></tr>\n",
       "\t<tr><td>a22  </td><td> 0.3511022964</td><td>0.0088985859</td><td> 39.4559654</td><td>Stat significant at 1%       </td></tr>\n",
       "\t<tr><td>g11  </td><td> 0.9816635250</td><td>0.0014801687</td><td>663.2105598</td><td>Stat significant at 1%       </td></tr>\n",
       "\t<tr><td>g12  </td><td>-0.0009678215</td><td>0.0022291020</td><td> -0.4341755</td><td>Not Statistically Significant</td></tr>\n",
       "\t<tr><td>g21  </td><td> 0.0033428950</td><td>0.0027890261</td><td>  1.1985887</td><td>Not Statistically Significant</td></tr>\n",
       "\t<tr><td>g22  </td><td> 0.9328089008</td><td>0.0028369482</td><td>328.8071681</td><td>Stat significant at 1%       </td></tr>\n",
       "</tbody>\n",
       "</table>\n"
      ],
      "text/latex": [
       "A data.frame: 22 × 5\n",
       "\\begin{tabular}{lllll}\n",
       " Parameters & Coefficient & Std\\_error & T\\_value & Significant\\_at\\_5p\\_level\\\\\n",
       " <chr> & <dbl> & <dbl> & <dbl> & <chr>\\\\\n",
       "\\hline\n",
       "\t mu10  &  0.0004289453 & 0.0002344814 &   1.8293364 & Stat significant at 10\\%      \\\\\n",
       "\t mu20  & -0.0004576611 & 0.0001868663 &  -2.4491373 & Stat significant at 5\\%       \\\\\n",
       "\t phi11 &  0.0458099434 & 0.0155043935 &   2.9546427 & Stat significant at 1\\%       \\\\\n",
       "\t phi12 &  0.0104333540 & 0.0193709112 &   0.5386094 & Not Statistically Significant\\\\\n",
       "\t phi13 &  0.0064808069 & 0.0156004062 &   0.4154255 & Not Statistically Significant\\\\\n",
       "\t phi14 & -0.0035310804 & 0.0193735029 &  -0.1822634 & Not Statistically Significant\\\\\n",
       "\t phi15 &  0.0148195064 & 0.0156476556 &   0.9470752 & Not Statistically Significant\\\\\n",
       "\t phi16 &  0.0086655818 & 0.0193709579 &   0.4473492 & Not Statistically Significant\\\\\n",
       "\t phi21 & -0.0057022121 & 0.0123559844 &  -0.4614940 & Not Statistically Significant\\\\\n",
       "\t phi22 & -0.0702564746 & 0.0154373454 &  -4.5510723 & Stat significant at 1\\%       \\\\\n",
       "\t phi23 & -0.0061563516 & 0.0124325003 &  -0.4951821 & Not Statistically Significant\\\\\n",
       "\t phi24 &  0.0684552166 & 0.0154394108 &   4.4337972 & Stat significant at 1\\%       \\\\\n",
       "\t phi25 & -0.0130633322 & 0.0124701549 &  -1.0475678 & Not Statistically Significant\\\\\n",
       "\t phi26 &  0.0847365416 & 0.0154373827 &   5.4890485 & Stat significant at 1\\%       \\\\\n",
       "\t a11   &  0.1811474005 & 0.0066978885 &  27.0454489 & Stat significant at 1\\%       \\\\\n",
       "\t a12   &  0.0054010223 & 0.0064559037 &   0.8366020 & Not Statistically Significant\\\\\n",
       "\t a21   & -0.0070516717 & 0.0072122213 &  -0.9777392 & Not Statistically Significant\\\\\n",
       "\t a22   &  0.3511022964 & 0.0088985859 &  39.4559654 & Stat significant at 1\\%       \\\\\n",
       "\t g11   &  0.9816635250 & 0.0014801687 & 663.2105598 & Stat significant at 1\\%       \\\\\n",
       "\t g12   & -0.0009678215 & 0.0022291020 &  -0.4341755 & Not Statistically Significant\\\\\n",
       "\t g21   &  0.0033428950 & 0.0027890261 &   1.1985887 & Not Statistically Significant\\\\\n",
       "\t g22   &  0.9328089008 & 0.0028369482 & 328.8071681 & Stat significant at 1\\%       \\\\\n",
       "\\end{tabular}\n"
      ],
      "text/markdown": [
       "\n",
       "A data.frame: 22 × 5\n",
       "\n",
       "| Parameters &lt;chr&gt; | Coefficient &lt;dbl&gt; | Std_error &lt;dbl&gt; | T_value &lt;dbl&gt; | Significant_at_5p_level &lt;chr&gt; |\n",
       "|---|---|---|---|---|\n",
       "| mu10  |  0.0004289453 | 0.0002344814 |   1.8293364 | Stat significant at 10%       |\n",
       "| mu20  | -0.0004576611 | 0.0001868663 |  -2.4491373 | Stat significant at 5%        |\n",
       "| phi11 |  0.0458099434 | 0.0155043935 |   2.9546427 | Stat significant at 1%        |\n",
       "| phi12 |  0.0104333540 | 0.0193709112 |   0.5386094 | Not Statistically Significant |\n",
       "| phi13 |  0.0064808069 | 0.0156004062 |   0.4154255 | Not Statistically Significant |\n",
       "| phi14 | -0.0035310804 | 0.0193735029 |  -0.1822634 | Not Statistically Significant |\n",
       "| phi15 |  0.0148195064 | 0.0156476556 |   0.9470752 | Not Statistically Significant |\n",
       "| phi16 |  0.0086655818 | 0.0193709579 |   0.4473492 | Not Statistically Significant |\n",
       "| phi21 | -0.0057022121 | 0.0123559844 |  -0.4614940 | Not Statistically Significant |\n",
       "| phi22 | -0.0702564746 | 0.0154373454 |  -4.5510723 | Stat significant at 1%        |\n",
       "| phi23 | -0.0061563516 | 0.0124325003 |  -0.4951821 | Not Statistically Significant |\n",
       "| phi24 |  0.0684552166 | 0.0154394108 |   4.4337972 | Stat significant at 1%        |\n",
       "| phi25 | -0.0130633322 | 0.0124701549 |  -1.0475678 | Not Statistically Significant |\n",
       "| phi26 |  0.0847365416 | 0.0154373827 |   5.4890485 | Stat significant at 1%        |\n",
       "| a11   |  0.1811474005 | 0.0066978885 |  27.0454489 | Stat significant at 1%        |\n",
       "| a12   |  0.0054010223 | 0.0064559037 |   0.8366020 | Not Statistically Significant |\n",
       "| a21   | -0.0070516717 | 0.0072122213 |  -0.9777392 | Not Statistically Significant |\n",
       "| a22   |  0.3511022964 | 0.0088985859 |  39.4559654 | Stat significant at 1%        |\n",
       "| g11   |  0.9816635250 | 0.0014801687 | 663.2105598 | Stat significant at 1%        |\n",
       "| g12   | -0.0009678215 | 0.0022291020 |  -0.4341755 | Not Statistically Significant |\n",
       "| g21   |  0.0033428950 | 0.0027890261 |   1.1985887 | Not Statistically Significant |\n",
       "| g22   |  0.9328089008 | 0.0028369482 | 328.8071681 | Stat significant at 1%        |\n",
       "\n"
      ],
      "text/plain": [
       "   Parameters Coefficient   Std_error    T_value    \n",
       "1  mu10        0.0004289453 0.0002344814   1.8293364\n",
       "2  mu20       -0.0004576611 0.0001868663  -2.4491373\n",
       "3  phi11       0.0458099434 0.0155043935   2.9546427\n",
       "4  phi12       0.0104333540 0.0193709112   0.5386094\n",
       "5  phi13       0.0064808069 0.0156004062   0.4154255\n",
       "6  phi14      -0.0035310804 0.0193735029  -0.1822634\n",
       "7  phi15       0.0148195064 0.0156476556   0.9470752\n",
       "8  phi16       0.0086655818 0.0193709579   0.4473492\n",
       "9  phi21      -0.0057022121 0.0123559844  -0.4614940\n",
       "10 phi22      -0.0702564746 0.0154373454  -4.5510723\n",
       "11 phi23      -0.0061563516 0.0124325003  -0.4951821\n",
       "12 phi24       0.0684552166 0.0154394108   4.4337972\n",
       "13 phi25      -0.0130633322 0.0124701549  -1.0475678\n",
       "14 phi26       0.0847365416 0.0154373827   5.4890485\n",
       "15 a11         0.1811474005 0.0066978885  27.0454489\n",
       "16 a12         0.0054010223 0.0064559037   0.8366020\n",
       "17 a21        -0.0070516717 0.0072122213  -0.9777392\n",
       "18 a22         0.3511022964 0.0088985859  39.4559654\n",
       "19 g11         0.9816635250 0.0014801687 663.2105598\n",
       "20 g12        -0.0009678215 0.0022291020  -0.4341755\n",
       "21 g21         0.0033428950 0.0027890261   1.1985887\n",
       "22 g22         0.9328089008 0.0028369482 328.8071681\n",
       "   Significant_at_5p_level      \n",
       "1  Stat significant at 10%      \n",
       "2  Stat significant at 5%       \n",
       "3  Stat significant at 1%       \n",
       "4  Not Statistically Significant\n",
       "5  Not Statistically Significant\n",
       "6  Not Statistically Significant\n",
       "7  Not Statistically Significant\n",
       "8  Not Statistically Significant\n",
       "9  Not Statistically Significant\n",
       "10 Stat significant at 1%       \n",
       "11 Not Statistically Significant\n",
       "12 Stat significant at 1%       \n",
       "13 Not Statistically Significant\n",
       "14 Stat significant at 1%       \n",
       "15 Stat significant at 1%       \n",
       "16 Not Statistically Significant\n",
       "17 Not Statistically Significant\n",
       "18 Stat significant at 1%       \n",
       "19 Stat significant at 1%       \n",
       "20 Not Statistically Significant\n",
       "21 Not Statistically Significant\n",
       "22 Stat significant at 1%       "
      ]
     },
     "metadata": {},
     "output_type": "display_data"
    }
   ],
   "source": [
    "bekk8 <- data.frame(Parameters = c(\"mu10\",\"mu20\",\"phi11\",\"phi12\",\"phi13\",\"phi14\",\"phi15\",\"phi16\",\"phi21\",\"phi22\",\"phi23\",\"phi24\",\"phi25\",\"phi26\",\"a11\",\"a12\",\"a21\",\"a22\",\"g11\",\"g12\",\"g21\",\"g22\"),\n",
    "                   Coefficient = c(summary(var_bekk8)$varresult$lc$coefficients[\"const\",\"Estimate\"],summary(var_bekk8)$varresult$ghsgbp$coefficients[\"const\",\"Estimate\"],\n",
    "                                   summary(var_bekk8)$varresult$lc$coefficients[\"lc.l1\",\"Estimate\"],summary(var_bekk8)$varresult$lc$coefficients[\"ghsgbp.l1\",\"Estimate\"],\n",
    "                                   summary(var_bekk8)$varresult$lc$coefficients[\"lc.l2\",\"Estimate\"],summary(var_bekk8)$varresult$lc$coefficients[\"ghsgbp.l2\",\"Estimate\"],\n",
    "                                   summary(var_bekk8)$varresult$lc$coefficients[\"lc.l3\",\"Estimate\"],summary(var_bekk8)$varresult$lc$coefficients[\"ghsgbp.l3\",\"Estimate\"],\n",
    "                                   summary(var_bekk8)$varresult$ghsgbp$coefficients[\"lc.l1\",\"Estimate\"],summary(var_bekk8)$varresult$ghsgbp$coefficients[\"ghsgbp.l1\",\"Estimate\"],\n",
    "                                   summary(var_bekk8)$varresult$ghsgbp$coefficients[\"lc.l2\",\"Estimate\"],summary(var_bekk8)$varresult$ghsgbp$coefficients[\"ghsgbp.l2\",\"Estimate\"],\n",
    "                                   summary(var_bekk8)$varresult$ghsgbp$coefficients[\"lc.l3\",\"Estimate\"],summary(var_bekk8)$varresult$ghsgbp$coefficients[\"ghsgbp.l3\",\"Estimate\"],\n",
    "                                   bekk8_fit$A[1,1],bekk8_fit$A[1,2],bekk8_fit$A[2,1],bekk8_fit$A[2,2],bekk8_fit$G[1,1],bekk8_fit$G[1,2],bekk8_fit$G[2,1],bekk8_fit$G[2,2]),\n",
    "                   Std_error = c(summary(var_bekk8)$varresult$lc$coefficients[\"const\",\"Std. Error\"],summary(var_bekk8)$varresult$ghsgbp$coefficients[\"const\",\"Std. Error\"],\n",
    "                                   summary(var_bekk8)$varresult$lc$coefficients[\"lc.l1\",\"Std. Error\"],summary(var_bekk8)$varresult$lc$coefficients[\"ghsgbp.l1\",\"Std. Error\"],\n",
    "                                   summary(var_bekk8)$varresult$lc$coefficients[\"lc.l2\",\"Std. Error\"],summary(var_bekk8)$varresult$lc$coefficients[\"ghsgbp.l2\",\"Std. Error\"],\n",
    "                                   summary(var_bekk8)$varresult$lc$coefficients[\"lc.l3\",\"Std. Error\"],summary(var_bekk8)$varresult$lc$coefficients[\"ghsgbp.l3\",\"Std. Error\"],\n",
    "                                   summary(var_bekk8)$varresult$ghsgbp$coefficients[\"lc.l1\",\"Std. Error\"],summary(var_bekk8)$varresult$ghsgbp$coefficients[\"ghsgbp.l1\",\"Std. Error\"],\n",
    "                                   summary(var_bekk8)$varresult$ghsgbp$coefficients[\"lc.l2\",\"Std. Error\"],summary(var_bekk8)$varresult$ghsgbp$coefficients[\"ghsgbp.l2\",\"Std. Error\"],\n",
    "                                   summary(var_bekk8)$varresult$ghsgbp$coefficients[\"lc.l3\",\"Std. Error\"],summary(var_bekk8)$varresult$ghsgbp$coefficients[\"ghsgbp.l3\",\"Std. Error\"],\n",
    "                                   bekk8_fit$A_sd[1,1],bekk8_fit$A_sd[1,2],bekk8_fit$A_sd[2,1],bekk8_fit$A_sd[2,2],bekk8_fit$G_sd[1,1],bekk8_fit$G_sd[1,2],bekk8_fit$G_sd[2,1],bekk8_fit$G_sd[2,2]),\n",
    "                   T_value = c(summary(var_bekk8)$varresult$lc$coefficients[\"const\",\"t value\"],summary(var_bekk8)$varresult$ghsgbp$coefficients[\"const\",\"t value\"],\n",
    "                                   summary(var_bekk8)$varresult$lc$coefficients[\"lc.l1\",\"t value\"],summary(var_bekk8)$varresult$lc$coefficients[\"ghsgbp.l1\",\"t value\"],\n",
    "                                   summary(var_bekk8)$varresult$lc$coefficients[\"lc.l2\",\"t value\"],summary(var_bekk8)$varresult$lc$coefficients[\"ghsgbp.l2\",\"t value\"],\n",
    "                                   summary(var_bekk8)$varresult$lc$coefficients[\"lc.l3\",\"t value\"],summary(var_bekk8)$varresult$lc$coefficients[\"ghsgbp.l3\",\"t value\"],\n",
    "                                   summary(var_bekk8)$varresult$ghsgbp$coefficients[\"lc.l1\",\"t value\"],summary(var_bekk8)$varresult$ghsgbp$coefficients[\"ghsgbp.l1\",\"t value\"],\n",
    "                                   summary(var_bekk8)$varresult$ghsgbp$coefficients[\"lc.l2\",\"t value\"],summary(var_bekk8)$varresult$ghsgbp$coefficients[\"ghsgbp.l2\",\"t value\"],\n",
    "                                   summary(var_bekk8)$varresult$ghsgbp$coefficients[\"lc.l3\",\"t value\"],summary(var_bekk8)$varresult$ghsgbp$coefficients[\"ghsgbp.l3\",\"t value\"],\n",
    "                                   bekk8_fit$A_t[1,1],bekk8_fit$A_t[1,2],bekk8_fit$A_t[2,1],bekk8_fit$A_t[2,2],bekk8_fit$G_t[1,1],bekk8_fit$G_t[1,2],bekk8_fit$G_t[2,1],bekk8_fit$G_t[2,2]))\n",
    "\n",
    "bekk8$Significant_at_5p_level[abs(bekk8$T_value) >= 2.58 ] <- \"Stat significant at 1%\"\n",
    "bekk8$Significant_at_5p_level[abs(bekk8$T_value) > 1.96 & abs(bekk8$T_value) < 2.58] <- \"Stat significant at 5%\"\n",
    "bekk8$Significant_at_5p_level[abs(bekk8$T_value) > 1.645 & abs(bekk8$T_value) <= 1.96 ] <- \"Stat significant at 10%\"\n",
    "bekk8$Significant_at_5p_level[abs(bekk8$T_value) <= 1.645] <- \"Not Statistically Significant\"\n",
    "bekk8"
   ]
  },
  {
   "cell_type": "code",
   "execution_count": 100,
   "id": "fb1223a0-5f53-4b5f-b6b2-0a7cbe5e5fe5",
   "metadata": {},
   "outputs": [
    {
     "data": {
      "text/plain": [
       "\n",
       "\tGranger causality H0: lc do not Granger-cause ghsgbp\n",
       "\n",
       "data:  VAR object var_bekk8\n",
       "F-Test = 0.54737, df1 = 3, df2 = 8330, p-value = 0.6499\n"
      ]
     },
     "metadata": {},
     "output_type": "display_data"
    },
    {
     "data": {
      "text/plain": [
       "\n",
       "\tGranger causality H0: ghsgbp do not Granger-cause lc\n",
       "\n",
       "data:  VAR object var_bekk8\n",
       "F-Test = 0.19535, df1 = 3, df2 = 8330, p-value = 0.8996\n"
      ]
     },
     "metadata": {},
     "output_type": "display_data"
    }
   ],
   "source": [
    "causality(var_bekk8,cause = \"lc\")$Granger\n",
    "causality(var_bekk8,cause = \"ghsgbp\")$Granger"
   ]
  },
  {
   "cell_type": "markdown",
   "id": "3ae5bd2e-c87d-404e-ae9e-28be6ba09326",
   "metadata": {},
   "source": [
    "# Table summarizing all models"
   ]
  },
  {
   "cell_type": "code",
   "execution_count": 101,
   "id": "8323d55a-2383-4a34-81f3-6ecffdda626a",
   "metadata": {},
   "outputs": [],
   "source": [
    "bekk_c <- rep(NA,14)\n",
    "for(i in 1:14){\n",
    "    bekk_c[i] = paste0(round(bekkc[i,2],4),\" (\",round(bekkc[i,3],4),\")\")\n",
    "}\n",
    "\n",
    "bekk_1 <- rep(NA,14)\n",
    "for(i in 1:14){\n",
    "    bekk_1[i] = paste0(round(bekk1[i,2],4),\" (\",round(bekk1[i,3],4),\")\")\n",
    "}\n",
    "\n",
    "bekk_2 <- rep(NA,14)\n",
    "for(i in 1:14){\n",
    "    bekk_2[i] = paste0(round(bekk2[i,2],4),\" (\",round(bekk2[i,3],4),\")\")\n",
    "}\n",
    "\n",
    "bekk_3 <- rep(NA,14)\n",
    "for(i in 1:14){\n",
    "    bekk_3[i] = paste0(round(bekk3[i,2],4),\" (\",round(bekk3[i,3],4),\")\")\n",
    "}\n",
    "\n",
    "bekk_4 <- rep(NA,14)\n",
    "for(i in 1:14){\n",
    "    bekk_4[i] = paste0(round(bekk4[i,2],4),\" (\",round(bekk4[i,3],4),\")\")\n",
    "}\n",
    "\n",
    "bekk_5 <- rep(NA,14)\n",
    "for(i in 1:14){\n",
    "    bekk_5[i] = paste0(round(bekk5[i,2],4),\" (\",round(bekk5[i,3],4),\")\")\n",
    "}\n",
    "\n",
    "bekk_6 <- rep(NA,14)\n",
    "for(i in 1:14){\n",
    "    bekk_6[i] = paste0(round(bekk6[i,2],4),\" (\",round(bekk6[i,3],4),\")\")\n",
    "}\n",
    "\n",
    "bekk_7 <- rep(NA,22)\n",
    "for(i in 1:22){\n",
    "    bekk_7[i] = paste0(round(bekk7[i,2],4),\" (\",round(bekk7[i,3],4),\")\")\n",
    "}\n",
    "\n",
    "\n",
    "bekk_8 <- rep(NA,22)\n",
    "for(i in 1:22){\n",
    "    bekk_8[i] = paste0(round(bekk8[i,2],4),\" (\",round(bekk8[i,3],4),\")\")\n",
    "}\n"
   ]
  },
  {
   "cell_type": "code",
   "execution_count": 102,
   "id": "c6a41f06-78ff-4b80-b46d-7f20b3a1db69",
   "metadata": {},
   "outputs": [],
   "source": [
    "parameters1 = c(\"mu10\",\"mu20\",\"phi11\",\"phi12\",\"phi21\",\"phi22\",\"a11\",\"a12\",\"a21\",\"a22\",\"g11\",\"g12\",\"g21\",\"g22\")\n",
    "parameters2 = c(\"mu10\",\"mu20\",\"phi11\",\"phi12\",\"phi13\",\"phi14\",\"phi15\",\"phi16\",\"phi21\",\"phi22\",\"phi23\",\"phi24\",\"phi25\",\"phi26\",\"a11\",\"a12\",\"a21\",\"a22\",\"g11\",\"g12\",\"g21\",\"g22\")"
   ]
  },
  {
   "cell_type": "code",
   "execution_count": 103,
   "id": "f1b6fd82-b4d2-42fc-bc6b-a36245d6ae46",
   "metadata": {},
   "outputs": [],
   "source": [
    "daily_bekk1 <- data.frame(\"Parameters\" = parameters1,\"BEKKC\" = bekk_c,\"BEKK1\" = bekk_1,\"BEKK2\" = bekk_2,\"BEKK3\" = bekk_3,\"BEKK4\" = bekk_4,\"BEKK5\" = bekk_5,\n",
    "                         \"BEKK6\" = bekk_6)\n",
    "daily_bekk2 <- data.frame(\"Parameters\" = parameters2,\"BEKK7\" = bekk_7,\"BEKK8\" = bekk_8)"
   ]
  },
  {
   "cell_type": "code",
   "execution_count": 104,
   "id": "41aef111-0525-49f6-9257-9bbd4bbecb5a",
   "metadata": {},
   "outputs": [
    {
     "data": {
      "text/html": [
       "<table class=\"dataframe\">\n",
       "<caption>A data.frame: 14 × 8</caption>\n",
       "<thead>\n",
       "\t<tr><th scope=col>Parameters</th><th scope=col>BEKKC</th><th scope=col>BEKK1</th><th scope=col>BEKK2</th><th scope=col>BEKK3</th><th scope=col>BEKK4</th><th scope=col>BEKK5</th><th scope=col>BEKK6</th></tr>\n",
       "\t<tr><th scope=col>&lt;chr&gt;</th><th scope=col>&lt;chr&gt;</th><th scope=col>&lt;chr&gt;</th><th scope=col>&lt;chr&gt;</th><th scope=col>&lt;chr&gt;</th><th scope=col>&lt;chr&gt;</th><th scope=col>&lt;chr&gt;</th><th scope=col>&lt;chr&gt;</th></tr>\n",
       "</thead>\n",
       "<tbody>\n",
       "\t<tr><td>mu10 </td><td>3e-04 (3e-04)   </td><td>3e-04 (3e-04)   </td><td>3e-04 (3e-04)   </td><td>3e-04 (3e-04)   </td><td>4e-04 (2e-04)   </td><td>4e-04 (2e-04)   </td><td>4e-04 (2e-04)   </td></tr>\n",
       "\t<tr><td>mu20 </td><td>4e-04 (2e-04)   </td><td>-1e-04 (1e-04)  </td><td>-1e-04 (1e-04)  </td><td>1e-04 (1e-04)   </td><td>1e-04 (1e-04)   </td><td>0 (1e-04)       </td><td>2e-04 (1e-04)   </td></tr>\n",
       "\t<tr><td>phi11</td><td>-0.0804 (0.0325)</td><td>-0.0067 (0.0158)</td><td>-0.0081 (0.0159)</td><td>0.0037 (0.0156) </td><td>0.046 (0.0155)  </td><td>0.0441 (0.0155) </td><td>0.0463 (0.0155) </td></tr>\n",
       "\t<tr><td>phi12</td><td>0.1159 (0.0378) </td><td>0.2012 (0.0475) </td><td>0.1848 (0.0451) </td><td>0.0761 (0.041)  </td><td>0.0527 (0.0378) </td><td>0.0842 (0.0444) </td><td>0.0368 (0.0334) </td></tr>\n",
       "\t<tr><td>phi21</td><td>-0.0205 (0.0279)</td><td>0.0068 (0.0053) </td><td>0.0027 (0.0056) </td><td>0.0072 (0.0059) </td><td>-0.0057 (0.0064)</td><td>2e-04 (0.0054)  </td><td>-0.0013 (0.0072)</td></tr>\n",
       "\t<tr><td>phi22</td><td>0.0678 (0.0325) </td><td>0 (0.0158)      </td><td>0.0382 (0.0159) </td><td>2e-04 (0.0156)  </td><td>0.0392 (0.0155) </td><td>0.0333 (0.0155) </td><td>0.0128 (0.0155) </td></tr>\n",
       "\t<tr><td>a11  </td><td>0.1704 (0.0147) </td><td>0.1805 (0.0077) </td><td>0.1783 (0.0074) </td><td>0.1899 (0.0084) </td><td>0.196 (0.0078)  </td><td>0.2024 (0.008)  </td><td>0.209 (0.0083)  </td></tr>\n",
       "\t<tr><td>a12  </td><td>-0.0018 (0.0132)</td><td>6e-04 (0.0032)  </td><td>-6e-04 (0.004)  </td><td>-0.0031 (0.0065)</td><td>0.0012 (0.0045) </td><td>-0.0053 (0.0032)</td><td>-0.009 (0.0077) </td></tr>\n",
       "\t<tr><td>a21  </td><td>0.0285 (0.0184) </td><td>-0.0556 (0.0294)</td><td>0.0017 (0.0261) </td><td>0.0151 (0.0255) </td><td>0.0557 (0.0247) </td><td>0.0136 (0.0288) </td><td>0.017 (0.0246)  </td></tr>\n",
       "\t<tr><td>a22  </td><td>0.2135 (0.0156) </td><td>0.186 (0.0091)  </td><td>0.2518 (0.0072) </td><td>0.199 (0.0109)  </td><td>0.2467 (0.0059) </td><td>0.2165 (0.0082) </td><td>0.2139 (0.0096) </td></tr>\n",
       "\t<tr><td>g11  </td><td>0.9722 (0.0032) </td><td>0.9818 (0.0017) </td><td>0.9829 (0.0016) </td><td>0.9805 (0.0018) </td><td>0.9781 (0.0019) </td><td>0.9767 (0.002)  </td><td>0.9759 (0.002)  </td></tr>\n",
       "\t<tr><td>g12  </td><td>-0.0104 (0.0029)</td><td>0 (8e-04)       </td><td>7e-04 (0.0011)  </td><td>-2e-04 (0.0015) </td><td>-5e-04 (0.0013) </td><td>0.0018 (9e-04)  </td><td>0.001 (0.0023)  </td></tr>\n",
       "\t<tr><td>g21  </td><td>0.01 (0.0043)   </td><td>0.013 (0.0066)  </td><td>0.0012 (0.0084) </td><td>0.0061 (0.0047) </td><td>-0.0195 (0.0071)</td><td>-3e-04 (0.0074) </td><td>0.0046 (0.0102) </td></tr>\n",
       "\t<tr><td>g22  </td><td>0.9844 (0.0036) </td><td>0.9805 (0.0018) </td><td>0.9606 (0.0032) </td><td>0.9812 (0.0025) </td><td>0.9623 (0.0028) </td><td>0.9738 (0.0022) </td><td>0.9494 (0.005)  </td></tr>\n",
       "</tbody>\n",
       "</table>\n"
      ],
      "text/latex": [
       "A data.frame: 14 × 8\n",
       "\\begin{tabular}{llllllll}\n",
       " Parameters & BEKKC & BEKK1 & BEKK2 & BEKK3 & BEKK4 & BEKK5 & BEKK6\\\\\n",
       " <chr> & <chr> & <chr> & <chr> & <chr> & <chr> & <chr> & <chr>\\\\\n",
       "\\hline\n",
       "\t mu10  & 3e-04 (3e-04)    & 3e-04 (3e-04)    & 3e-04 (3e-04)    & 3e-04 (3e-04)    & 4e-04 (2e-04)    & 4e-04 (2e-04)    & 4e-04 (2e-04)   \\\\\n",
       "\t mu20  & 4e-04 (2e-04)    & -1e-04 (1e-04)   & -1e-04 (1e-04)   & 1e-04 (1e-04)    & 1e-04 (1e-04)    & 0 (1e-04)        & 2e-04 (1e-04)   \\\\\n",
       "\t phi11 & -0.0804 (0.0325) & -0.0067 (0.0158) & -0.0081 (0.0159) & 0.0037 (0.0156)  & 0.046 (0.0155)   & 0.0441 (0.0155)  & 0.0463 (0.0155) \\\\\n",
       "\t phi12 & 0.1159 (0.0378)  & 0.2012 (0.0475)  & 0.1848 (0.0451)  & 0.0761 (0.041)   & 0.0527 (0.0378)  & 0.0842 (0.0444)  & 0.0368 (0.0334) \\\\\n",
       "\t phi21 & -0.0205 (0.0279) & 0.0068 (0.0053)  & 0.0027 (0.0056)  & 0.0072 (0.0059)  & -0.0057 (0.0064) & 2e-04 (0.0054)   & -0.0013 (0.0072)\\\\\n",
       "\t phi22 & 0.0678 (0.0325)  & 0 (0.0158)       & 0.0382 (0.0159)  & 2e-04 (0.0156)   & 0.0392 (0.0155)  & 0.0333 (0.0155)  & 0.0128 (0.0155) \\\\\n",
       "\t a11   & 0.1704 (0.0147)  & 0.1805 (0.0077)  & 0.1783 (0.0074)  & 0.1899 (0.0084)  & 0.196 (0.0078)   & 0.2024 (0.008)   & 0.209 (0.0083)  \\\\\n",
       "\t a12   & -0.0018 (0.0132) & 6e-04 (0.0032)   & -6e-04 (0.004)   & -0.0031 (0.0065) & 0.0012 (0.0045)  & -0.0053 (0.0032) & -0.009 (0.0077) \\\\\n",
       "\t a21   & 0.0285 (0.0184)  & -0.0556 (0.0294) & 0.0017 (0.0261)  & 0.0151 (0.0255)  & 0.0557 (0.0247)  & 0.0136 (0.0288)  & 0.017 (0.0246)  \\\\\n",
       "\t a22   & 0.2135 (0.0156)  & 0.186 (0.0091)   & 0.2518 (0.0072)  & 0.199 (0.0109)   & 0.2467 (0.0059)  & 0.2165 (0.0082)  & 0.2139 (0.0096) \\\\\n",
       "\t g11   & 0.9722 (0.0032)  & 0.9818 (0.0017)  & 0.9829 (0.0016)  & 0.9805 (0.0018)  & 0.9781 (0.0019)  & 0.9767 (0.002)   & 0.9759 (0.002)  \\\\\n",
       "\t g12   & -0.0104 (0.0029) & 0 (8e-04)        & 7e-04 (0.0011)   & -2e-04 (0.0015)  & -5e-04 (0.0013)  & 0.0018 (9e-04)   & 0.001 (0.0023)  \\\\\n",
       "\t g21   & 0.01 (0.0043)    & 0.013 (0.0066)   & 0.0012 (0.0084)  & 0.0061 (0.0047)  & -0.0195 (0.0071) & -3e-04 (0.0074)  & 0.0046 (0.0102) \\\\\n",
       "\t g22   & 0.9844 (0.0036)  & 0.9805 (0.0018)  & 0.9606 (0.0032)  & 0.9812 (0.0025)  & 0.9623 (0.0028)  & 0.9738 (0.0022)  & 0.9494 (0.005)  \\\\\n",
       "\\end{tabular}\n"
      ],
      "text/markdown": [
       "\n",
       "A data.frame: 14 × 8\n",
       "\n",
       "| Parameters &lt;chr&gt; | BEKKC &lt;chr&gt; | BEKK1 &lt;chr&gt; | BEKK2 &lt;chr&gt; | BEKK3 &lt;chr&gt; | BEKK4 &lt;chr&gt; | BEKK5 &lt;chr&gt; | BEKK6 &lt;chr&gt; |\n",
       "|---|---|---|---|---|---|---|---|\n",
       "| mu10  | 3e-04 (3e-04)    | 3e-04 (3e-04)    | 3e-04 (3e-04)    | 3e-04 (3e-04)    | 4e-04 (2e-04)    | 4e-04 (2e-04)    | 4e-04 (2e-04)    |\n",
       "| mu20  | 4e-04 (2e-04)    | -1e-04 (1e-04)   | -1e-04 (1e-04)   | 1e-04 (1e-04)    | 1e-04 (1e-04)    | 0 (1e-04)        | 2e-04 (1e-04)    |\n",
       "| phi11 | -0.0804 (0.0325) | -0.0067 (0.0158) | -0.0081 (0.0159) | 0.0037 (0.0156)  | 0.046 (0.0155)   | 0.0441 (0.0155)  | 0.0463 (0.0155)  |\n",
       "| phi12 | 0.1159 (0.0378)  | 0.2012 (0.0475)  | 0.1848 (0.0451)  | 0.0761 (0.041)   | 0.0527 (0.0378)  | 0.0842 (0.0444)  | 0.0368 (0.0334)  |\n",
       "| phi21 | -0.0205 (0.0279) | 0.0068 (0.0053)  | 0.0027 (0.0056)  | 0.0072 (0.0059)  | -0.0057 (0.0064) | 2e-04 (0.0054)   | -0.0013 (0.0072) |\n",
       "| phi22 | 0.0678 (0.0325)  | 0 (0.0158)       | 0.0382 (0.0159)  | 2e-04 (0.0156)   | 0.0392 (0.0155)  | 0.0333 (0.0155)  | 0.0128 (0.0155)  |\n",
       "| a11   | 0.1704 (0.0147)  | 0.1805 (0.0077)  | 0.1783 (0.0074)  | 0.1899 (0.0084)  | 0.196 (0.0078)   | 0.2024 (0.008)   | 0.209 (0.0083)   |\n",
       "| a12   | -0.0018 (0.0132) | 6e-04 (0.0032)   | -6e-04 (0.004)   | -0.0031 (0.0065) | 0.0012 (0.0045)  | -0.0053 (0.0032) | -0.009 (0.0077)  |\n",
       "| a21   | 0.0285 (0.0184)  | -0.0556 (0.0294) | 0.0017 (0.0261)  | 0.0151 (0.0255)  | 0.0557 (0.0247)  | 0.0136 (0.0288)  | 0.017 (0.0246)   |\n",
       "| a22   | 0.2135 (0.0156)  | 0.186 (0.0091)   | 0.2518 (0.0072)  | 0.199 (0.0109)   | 0.2467 (0.0059)  | 0.2165 (0.0082)  | 0.2139 (0.0096)  |\n",
       "| g11   | 0.9722 (0.0032)  | 0.9818 (0.0017)  | 0.9829 (0.0016)  | 0.9805 (0.0018)  | 0.9781 (0.0019)  | 0.9767 (0.002)   | 0.9759 (0.002)   |\n",
       "| g12   | -0.0104 (0.0029) | 0 (8e-04)        | 7e-04 (0.0011)   | -2e-04 (0.0015)  | -5e-04 (0.0013)  | 0.0018 (9e-04)   | 0.001 (0.0023)   |\n",
       "| g21   | 0.01 (0.0043)    | 0.013 (0.0066)   | 0.0012 (0.0084)  | 0.0061 (0.0047)  | -0.0195 (0.0071) | -3e-04 (0.0074)  | 0.0046 (0.0102)  |\n",
       "| g22   | 0.9844 (0.0036)  | 0.9805 (0.0018)  | 0.9606 (0.0032)  | 0.9812 (0.0025)  | 0.9623 (0.0028)  | 0.9738 (0.0022)  | 0.9494 (0.005)   |\n",
       "\n"
      ],
      "text/plain": [
       "   Parameters BEKKC            BEKK1            BEKK2           \n",
       "1  mu10       3e-04 (3e-04)    3e-04 (3e-04)    3e-04 (3e-04)   \n",
       "2  mu20       4e-04 (2e-04)    -1e-04 (1e-04)   -1e-04 (1e-04)  \n",
       "3  phi11      -0.0804 (0.0325) -0.0067 (0.0158) -0.0081 (0.0159)\n",
       "4  phi12      0.1159 (0.0378)  0.2012 (0.0475)  0.1848 (0.0451) \n",
       "5  phi21      -0.0205 (0.0279) 0.0068 (0.0053)  0.0027 (0.0056) \n",
       "6  phi22      0.0678 (0.0325)  0 (0.0158)       0.0382 (0.0159) \n",
       "7  a11        0.1704 (0.0147)  0.1805 (0.0077)  0.1783 (0.0074) \n",
       "8  a12        -0.0018 (0.0132) 6e-04 (0.0032)   -6e-04 (0.004)  \n",
       "9  a21        0.0285 (0.0184)  -0.0556 (0.0294) 0.0017 (0.0261) \n",
       "10 a22        0.2135 (0.0156)  0.186 (0.0091)   0.2518 (0.0072) \n",
       "11 g11        0.9722 (0.0032)  0.9818 (0.0017)  0.9829 (0.0016) \n",
       "12 g12        -0.0104 (0.0029) 0 (8e-04)        7e-04 (0.0011)  \n",
       "13 g21        0.01 (0.0043)    0.013 (0.0066)   0.0012 (0.0084) \n",
       "14 g22        0.9844 (0.0036)  0.9805 (0.0018)  0.9606 (0.0032) \n",
       "   BEKK3            BEKK4            BEKK5            BEKK6           \n",
       "1  3e-04 (3e-04)    4e-04 (2e-04)    4e-04 (2e-04)    4e-04 (2e-04)   \n",
       "2  1e-04 (1e-04)    1e-04 (1e-04)    0 (1e-04)        2e-04 (1e-04)   \n",
       "3  0.0037 (0.0156)  0.046 (0.0155)   0.0441 (0.0155)  0.0463 (0.0155) \n",
       "4  0.0761 (0.041)   0.0527 (0.0378)  0.0842 (0.0444)  0.0368 (0.0334) \n",
       "5  0.0072 (0.0059)  -0.0057 (0.0064) 2e-04 (0.0054)   -0.0013 (0.0072)\n",
       "6  2e-04 (0.0156)   0.0392 (0.0155)  0.0333 (0.0155)  0.0128 (0.0155) \n",
       "7  0.1899 (0.0084)  0.196 (0.0078)   0.2024 (0.008)   0.209 (0.0083)  \n",
       "8  -0.0031 (0.0065) 0.0012 (0.0045)  -0.0053 (0.0032) -0.009 (0.0077) \n",
       "9  0.0151 (0.0255)  0.0557 (0.0247)  0.0136 (0.0288)  0.017 (0.0246)  \n",
       "10 0.199 (0.0109)   0.2467 (0.0059)  0.2165 (0.0082)  0.2139 (0.0096) \n",
       "11 0.9805 (0.0018)  0.9781 (0.0019)  0.9767 (0.002)   0.9759 (0.002)  \n",
       "12 -2e-04 (0.0015)  -5e-04 (0.0013)  0.0018 (9e-04)   0.001 (0.0023)  \n",
       "13 0.0061 (0.0047)  -0.0195 (0.0071) -3e-04 (0.0074)  0.0046 (0.0102) \n",
       "14 0.9812 (0.0025)  0.9623 (0.0028)  0.9738 (0.0022)  0.9494 (0.005)  "
      ]
     },
     "metadata": {},
     "output_type": "display_data"
    }
   ],
   "source": [
    "daily_bekk1"
   ]
  },
  {
   "cell_type": "code",
   "execution_count": 105,
   "id": "c3df0163-f2c2-4c35-ad20-4bdcda65fad1",
   "metadata": {},
   "outputs": [
    {
     "data": {
      "text/html": [
       "<table class=\"dataframe\">\n",
       "<caption>A data.frame: 22 × 3</caption>\n",
       "<thead>\n",
       "\t<tr><th scope=col>Parameters</th><th scope=col>BEKK7</th><th scope=col>BEKK8</th></tr>\n",
       "\t<tr><th scope=col>&lt;chr&gt;</th><th scope=col>&lt;chr&gt;</th><th scope=col>&lt;chr&gt;</th></tr>\n",
       "</thead>\n",
       "<tbody>\n",
       "\t<tr><td>mu10 </td><td>3e-04 (3e-04)   </td><td>4e-04 (2e-04)   </td></tr>\n",
       "\t<tr><td>mu20 </td><td>-6e-04 (2e-04)  </td><td>-5e-04 (2e-04)  </td></tr>\n",
       "\t<tr><td>phi11</td><td>0.0066 (0.0155) </td><td>0.0458 (0.0155) </td></tr>\n",
       "\t<tr><td>phi12</td><td>-0.0096 (0.0268)</td><td>0.0104 (0.0194) </td></tr>\n",
       "\t<tr><td>phi13</td><td>0.0065 (0.0156) </td><td>0.0065 (0.0156) </td></tr>\n",
       "\t<tr><td>phi14</td><td>-0.0182 (0.0268)</td><td>-0.0035 (0.0194)</td></tr>\n",
       "\t<tr><td>phi15</td><td>0.0161 (0.0156) </td><td>0.0148 (0.0156) </td></tr>\n",
       "\t<tr><td>phi16</td><td>0.0078 (0.0268) </td><td>0.0087 (0.0194) </td></tr>\n",
       "\t<tr><td>phi21</td><td>0.0081 (0.0089) </td><td>-0.0057 (0.0124)</td></tr>\n",
       "\t<tr><td>phi22</td><td>-0.1142 (0.0154)</td><td>-0.0703 (0.0154)</td></tr>\n",
       "\t<tr><td>phi23</td><td>-0.0041 (0.009) </td><td>-0.0062 (0.0124)</td></tr>\n",
       "\t<tr><td>phi24</td><td>0.0896 (0.0154) </td><td>0.0685 (0.0154) </td></tr>\n",
       "\t<tr><td>phi25</td><td>0.0032 (0.009)  </td><td>-0.0131 (0.0125)</td></tr>\n",
       "\t<tr><td>phi26</td><td>0.1144 (0.0154) </td><td>0.0847 (0.0154) </td></tr>\n",
       "\t<tr><td>a11  </td><td>0.1719 (0.0108) </td><td>0.1811 (0.0067) </td></tr>\n",
       "\t<tr><td>a12  </td><td>-0.0201 (0.0039)</td><td>0.0054 (0.0065) </td></tr>\n",
       "\t<tr><td>a21  </td><td>0.0156 (0.0151) </td><td>-0.0071 (0.0072)</td></tr>\n",
       "\t<tr><td>a22  </td><td>0.374 (0.0072)  </td><td>0.3511 (0.0089) </td></tr>\n",
       "\t<tr><td>g11  </td><td>0.9492 (0.0069) </td><td>0.9817 (0.0015) </td></tr>\n",
       "\t<tr><td>g12  </td><td>0.0109 (0.0035) </td><td>-0.001 (0.0022) </td></tr>\n",
       "\t<tr><td>g21  </td><td>0.0078 (0.0046) </td><td>0.0033 (0.0028) </td></tr>\n",
       "\t<tr><td>g22  </td><td>0.9267 (0.0019) </td><td>0.9328 (0.0028) </td></tr>\n",
       "</tbody>\n",
       "</table>\n"
      ],
      "text/latex": [
       "A data.frame: 22 × 3\n",
       "\\begin{tabular}{lll}\n",
       " Parameters & BEKK7 & BEKK8\\\\\n",
       " <chr> & <chr> & <chr>\\\\\n",
       "\\hline\n",
       "\t mu10  & 3e-04 (3e-04)    & 4e-04 (2e-04)   \\\\\n",
       "\t mu20  & -6e-04 (2e-04)   & -5e-04 (2e-04)  \\\\\n",
       "\t phi11 & 0.0066 (0.0155)  & 0.0458 (0.0155) \\\\\n",
       "\t phi12 & -0.0096 (0.0268) & 0.0104 (0.0194) \\\\\n",
       "\t phi13 & 0.0065 (0.0156)  & 0.0065 (0.0156) \\\\\n",
       "\t phi14 & -0.0182 (0.0268) & -0.0035 (0.0194)\\\\\n",
       "\t phi15 & 0.0161 (0.0156)  & 0.0148 (0.0156) \\\\\n",
       "\t phi16 & 0.0078 (0.0268)  & 0.0087 (0.0194) \\\\\n",
       "\t phi21 & 0.0081 (0.0089)  & -0.0057 (0.0124)\\\\\n",
       "\t phi22 & -0.1142 (0.0154) & -0.0703 (0.0154)\\\\\n",
       "\t phi23 & -0.0041 (0.009)  & -0.0062 (0.0124)\\\\\n",
       "\t phi24 & 0.0896 (0.0154)  & 0.0685 (0.0154) \\\\\n",
       "\t phi25 & 0.0032 (0.009)   & -0.0131 (0.0125)\\\\\n",
       "\t phi26 & 0.1144 (0.0154)  & 0.0847 (0.0154) \\\\\n",
       "\t a11   & 0.1719 (0.0108)  & 0.1811 (0.0067) \\\\\n",
       "\t a12   & -0.0201 (0.0039) & 0.0054 (0.0065) \\\\\n",
       "\t a21   & 0.0156 (0.0151)  & -0.0071 (0.0072)\\\\\n",
       "\t a22   & 0.374 (0.0072)   & 0.3511 (0.0089) \\\\\n",
       "\t g11   & 0.9492 (0.0069)  & 0.9817 (0.0015) \\\\\n",
       "\t g12   & 0.0109 (0.0035)  & -0.001 (0.0022) \\\\\n",
       "\t g21   & 0.0078 (0.0046)  & 0.0033 (0.0028) \\\\\n",
       "\t g22   & 0.9267 (0.0019)  & 0.9328 (0.0028) \\\\\n",
       "\\end{tabular}\n"
      ],
      "text/markdown": [
       "\n",
       "A data.frame: 22 × 3\n",
       "\n",
       "| Parameters &lt;chr&gt; | BEKK7 &lt;chr&gt; | BEKK8 &lt;chr&gt; |\n",
       "|---|---|---|\n",
       "| mu10  | 3e-04 (3e-04)    | 4e-04 (2e-04)    |\n",
       "| mu20  | -6e-04 (2e-04)   | -5e-04 (2e-04)   |\n",
       "| phi11 | 0.0066 (0.0155)  | 0.0458 (0.0155)  |\n",
       "| phi12 | -0.0096 (0.0268) | 0.0104 (0.0194)  |\n",
       "| phi13 | 0.0065 (0.0156)  | 0.0065 (0.0156)  |\n",
       "| phi14 | -0.0182 (0.0268) | -0.0035 (0.0194) |\n",
       "| phi15 | 0.0161 (0.0156)  | 0.0148 (0.0156)  |\n",
       "| phi16 | 0.0078 (0.0268)  | 0.0087 (0.0194)  |\n",
       "| phi21 | 0.0081 (0.0089)  | -0.0057 (0.0124) |\n",
       "| phi22 | -0.1142 (0.0154) | -0.0703 (0.0154) |\n",
       "| phi23 | -0.0041 (0.009)  | -0.0062 (0.0124) |\n",
       "| phi24 | 0.0896 (0.0154)  | 0.0685 (0.0154)  |\n",
       "| phi25 | 0.0032 (0.009)   | -0.0131 (0.0125) |\n",
       "| phi26 | 0.1144 (0.0154)  | 0.0847 (0.0154)  |\n",
       "| a11   | 0.1719 (0.0108)  | 0.1811 (0.0067)  |\n",
       "| a12   | -0.0201 (0.0039) | 0.0054 (0.0065)  |\n",
       "| a21   | 0.0156 (0.0151)  | -0.0071 (0.0072) |\n",
       "| a22   | 0.374 (0.0072)   | 0.3511 (0.0089)  |\n",
       "| g11   | 0.9492 (0.0069)  | 0.9817 (0.0015)  |\n",
       "| g12   | 0.0109 (0.0035)  | -0.001 (0.0022)  |\n",
       "| g21   | 0.0078 (0.0046)  | 0.0033 (0.0028)  |\n",
       "| g22   | 0.9267 (0.0019)  | 0.9328 (0.0028)  |\n",
       "\n"
      ],
      "text/plain": [
       "   Parameters BEKK7            BEKK8           \n",
       "1  mu10       3e-04 (3e-04)    4e-04 (2e-04)   \n",
       "2  mu20       -6e-04 (2e-04)   -5e-04 (2e-04)  \n",
       "3  phi11      0.0066 (0.0155)  0.0458 (0.0155) \n",
       "4  phi12      -0.0096 (0.0268) 0.0104 (0.0194) \n",
       "5  phi13      0.0065 (0.0156)  0.0065 (0.0156) \n",
       "6  phi14      -0.0182 (0.0268) -0.0035 (0.0194)\n",
       "7  phi15      0.0161 (0.0156)  0.0148 (0.0156) \n",
       "8  phi16      0.0078 (0.0268)  0.0087 (0.0194) \n",
       "9  phi21      0.0081 (0.0089)  -0.0057 (0.0124)\n",
       "10 phi22      -0.1142 (0.0154) -0.0703 (0.0154)\n",
       "11 phi23      -0.0041 (0.009)  -0.0062 (0.0124)\n",
       "12 phi24      0.0896 (0.0154)  0.0685 (0.0154) \n",
       "13 phi25      0.0032 (0.009)   -0.0131 (0.0125)\n",
       "14 phi26      0.1144 (0.0154)  0.0847 (0.0154) \n",
       "15 a11        0.1719 (0.0108)  0.1811 (0.0067) \n",
       "16 a12        -0.0201 (0.0039) 0.0054 (0.0065) \n",
       "17 a21        0.0156 (0.0151)  -0.0071 (0.0072)\n",
       "18 a22        0.374 (0.0072)   0.3511 (0.0089) \n",
       "19 g11        0.9492 (0.0069)  0.9817 (0.0015) \n",
       "20 g12        0.0109 (0.0035)  -0.001 (0.0022) \n",
       "21 g21        0.0078 (0.0046)  0.0033 (0.0028) \n",
       "22 g22        0.9267 (0.0019)  0.9328 (0.0028) "
      ]
     },
     "metadata": {},
     "output_type": "display_data"
    }
   ],
   "source": [
    "daily_bekk2"
   ]
  },
  {
   "cell_type": "markdown",
   "id": "69795f9c-77ba-40a6-baad-18041751c71b",
   "metadata": {},
   "source": [
    "# Final VAR-BEKK Table for full sample of daily returns (Table 6.6)"
   ]
  },
  {
   "cell_type": "code",
   "execution_count": 106,
   "id": "790cf786-4080-4ef4-9c3e-8be2587e554e",
   "metadata": {},
   "outputs": [],
   "source": [
    "daily_bekk <- data.frame(\"Parameters\" = c(parameters2,\"Port\"),\n",
    "                         \"BEKKC\"=c(bekk_c[1:4],rep(NA,4),bekk_c[5:6],rep(NA,4),bekk_c[7:14],bekk_fit$Portmanteau.test$statistic),\n",
    "                         \"BEKK1\"=c(bekk_1[1:4],rep(NA,4),bekk_1[5:6],rep(NA,4),bekk_1[7:14],bekk1_fit$Portmanteau.test$statistic),\n",
    "                         \"BEKK2\"=c(bekk_2[1:4],rep(NA,4),bekk_2[5:6],rep(NA,4),bekk_2[7:14],bekk2_fit$Portmanteau.test$statistic),\n",
    "                          \"BEKK3\"=c(bekk_3[1:4],rep(NA,4),bekk_3[5:6],rep(NA,4),bekk_3[7:14],bekk3_fit$Portmanteau.test$statistic),\n",
    "                          \"BEKK4\"=c(bekk_4[1:4],rep(NA,4),bekk_4[5:6],rep(NA,4),bekk_4[7:14],bekk4_fit$Portmanteau.test$statistic),\n",
    "                         \"BEKK5\"=c(bekk_5[1:4],rep(NA,4),bekk_5[5:6],rep(NA,4),bekk_5[7:14],bekk5_fit$Portmanteau.test$statistic),\n",
    "                          \"BEKK6\"=c(bekk_6[1:4],rep(NA,4),bekk_6[5:6],rep(NA,4),bekk_6[7:14],bekk6_fit$Portmanteau.test$statistic),\n",
    "                         \"BEKK7\" = c(bekk_7,bekk7_fit$Portmanteau.test$statistic),\n",
    "                         \"BEKK8\" = c(bekk_8,bekk8_fit$Portmanteau.test$statistic))"
   ]
  },
  {
   "cell_type": "code",
   "execution_count": 107,
   "id": "218f52fe-a038-4373-8b6c-7f4ef32f26f7",
   "metadata": {},
   "outputs": [
    {
     "data": {
      "text/html": [
       "<table class=\"dataframe\">\n",
       "<caption>A data.frame: 23 × 10</caption>\n",
       "<thead>\n",
       "\t<tr><th scope=col>Parameters</th><th scope=col>BEKKC</th><th scope=col>BEKK1</th><th scope=col>BEKK2</th><th scope=col>BEKK3</th><th scope=col>BEKK4</th><th scope=col>BEKK5</th><th scope=col>BEKK6</th><th scope=col>BEKK7</th><th scope=col>BEKK8</th></tr>\n",
       "\t<tr><th scope=col>&lt;chr&gt;</th><th scope=col>&lt;chr&gt;</th><th scope=col>&lt;chr&gt;</th><th scope=col>&lt;chr&gt;</th><th scope=col>&lt;chr&gt;</th><th scope=col>&lt;chr&gt;</th><th scope=col>&lt;chr&gt;</th><th scope=col>&lt;chr&gt;</th><th scope=col>&lt;chr&gt;</th><th scope=col>&lt;chr&gt;</th></tr>\n",
       "</thead>\n",
       "<tbody>\n",
       "\t<tr><td>mu10 </td><td>3e-04 (3e-04)    </td><td>3e-04 (3e-04)    </td><td>3e-04 (3e-04)    </td><td>3e-04 (3e-04)    </td><td>4e-04 (2e-04)    </td><td>4e-04 (2e-04)    </td><td>4e-04 (2e-04)    </td><td>3e-04 (3e-04)    </td><td>4e-04 (2e-04)    </td></tr>\n",
       "\t<tr><td>mu20 </td><td>4e-04 (2e-04)    </td><td>-1e-04 (1e-04)   </td><td>-1e-04 (1e-04)   </td><td>1e-04 (1e-04)    </td><td>1e-04 (1e-04)    </td><td>0 (1e-04)        </td><td>2e-04 (1e-04)    </td><td>-6e-04 (2e-04)   </td><td>-5e-04 (2e-04)   </td></tr>\n",
       "\t<tr><td>phi11</td><td>-0.0804 (0.0325) </td><td>-0.0067 (0.0158) </td><td>-0.0081 (0.0159) </td><td>0.0037 (0.0156)  </td><td>0.046 (0.0155)   </td><td>0.0441 (0.0155)  </td><td>0.0463 (0.0155)  </td><td>0.0066 (0.0155)  </td><td>0.0458 (0.0155)  </td></tr>\n",
       "\t<tr><td>phi12</td><td>0.1159 (0.0378)  </td><td>0.2012 (0.0475)  </td><td>0.1848 (0.0451)  </td><td>0.0761 (0.041)   </td><td>0.0527 (0.0378)  </td><td>0.0842 (0.0444)  </td><td>0.0368 (0.0334)  </td><td>-0.0096 (0.0268) </td><td>0.0104 (0.0194)  </td></tr>\n",
       "\t<tr><td>phi13</td><td>NA               </td><td>NA               </td><td>NA               </td><td>NA               </td><td>NA               </td><td>NA               </td><td>NA               </td><td>0.0065 (0.0156)  </td><td>0.0065 (0.0156)  </td></tr>\n",
       "\t<tr><td>phi14</td><td>NA               </td><td>NA               </td><td>NA               </td><td>NA               </td><td>NA               </td><td>NA               </td><td>NA               </td><td>-0.0182 (0.0268) </td><td>-0.0035 (0.0194) </td></tr>\n",
       "\t<tr><td>phi15</td><td>NA               </td><td>NA               </td><td>NA               </td><td>NA               </td><td>NA               </td><td>NA               </td><td>NA               </td><td>0.0161 (0.0156)  </td><td>0.0148 (0.0156)  </td></tr>\n",
       "\t<tr><td>phi16</td><td>NA               </td><td>NA               </td><td>NA               </td><td>NA               </td><td>NA               </td><td>NA               </td><td>NA               </td><td>0.0078 (0.0268)  </td><td>0.0087 (0.0194)  </td></tr>\n",
       "\t<tr><td>phi21</td><td>-0.0205 (0.0279) </td><td>0.0068 (0.0053)  </td><td>0.0027 (0.0056)  </td><td>0.0072 (0.0059)  </td><td>-0.0057 (0.0064) </td><td>2e-04 (0.0054)   </td><td>-0.0013 (0.0072) </td><td>0.0081 (0.0089)  </td><td>-0.0057 (0.0124) </td></tr>\n",
       "\t<tr><td>phi22</td><td>0.0678 (0.0325)  </td><td>0 (0.0158)       </td><td>0.0382 (0.0159)  </td><td>2e-04 (0.0156)   </td><td>0.0392 (0.0155)  </td><td>0.0333 (0.0155)  </td><td>0.0128 (0.0155)  </td><td>-0.1142 (0.0154) </td><td>-0.0703 (0.0154) </td></tr>\n",
       "\t<tr><td>phi23</td><td>NA               </td><td>NA               </td><td>NA               </td><td>NA               </td><td>NA               </td><td>NA               </td><td>NA               </td><td>-0.0041 (0.009)  </td><td>-0.0062 (0.0124) </td></tr>\n",
       "\t<tr><td>phi24</td><td>NA               </td><td>NA               </td><td>NA               </td><td>NA               </td><td>NA               </td><td>NA               </td><td>NA               </td><td>0.0896 (0.0154)  </td><td>0.0685 (0.0154)  </td></tr>\n",
       "\t<tr><td>phi25</td><td>NA               </td><td>NA               </td><td>NA               </td><td>NA               </td><td>NA               </td><td>NA               </td><td>NA               </td><td>0.0032 (0.009)   </td><td>-0.0131 (0.0125) </td></tr>\n",
       "\t<tr><td>phi26</td><td>NA               </td><td>NA               </td><td>NA               </td><td>NA               </td><td>NA               </td><td>NA               </td><td>NA               </td><td>0.1144 (0.0154)  </td><td>0.0847 (0.0154)  </td></tr>\n",
       "\t<tr><td>a11  </td><td>0.1704 (0.0147)  </td><td>0.1805 (0.0077)  </td><td>0.1783 (0.0074)  </td><td>0.1899 (0.0084)  </td><td>0.196 (0.0078)   </td><td>0.2024 (0.008)   </td><td>0.209 (0.0083)   </td><td>0.1719 (0.0108)  </td><td>0.1811 (0.0067)  </td></tr>\n",
       "\t<tr><td>a12  </td><td>-0.0018 (0.0132) </td><td>6e-04 (0.0032)   </td><td>-6e-04 (0.004)   </td><td>-0.0031 (0.0065) </td><td>0.0012 (0.0045)  </td><td>-0.0053 (0.0032) </td><td>-0.009 (0.0077)  </td><td>-0.0201 (0.0039) </td><td>0.0054 (0.0065)  </td></tr>\n",
       "\t<tr><td>a21  </td><td>0.0285 (0.0184)  </td><td>-0.0556 (0.0294) </td><td>0.0017 (0.0261)  </td><td>0.0151 (0.0255)  </td><td>0.0557 (0.0247)  </td><td>0.0136 (0.0288)  </td><td>0.017 (0.0246)   </td><td>0.0156 (0.0151)  </td><td>-0.0071 (0.0072) </td></tr>\n",
       "\t<tr><td>a22  </td><td>0.2135 (0.0156)  </td><td>0.186 (0.0091)   </td><td>0.2518 (0.0072)  </td><td>0.199 (0.0109)   </td><td>0.2467 (0.0059)  </td><td>0.2165 (0.0082)  </td><td>0.2139 (0.0096)  </td><td>0.374 (0.0072)   </td><td>0.3511 (0.0089)  </td></tr>\n",
       "\t<tr><td>g11  </td><td>0.9722 (0.0032)  </td><td>0.9818 (0.0017)  </td><td>0.9829 (0.0016)  </td><td>0.9805 (0.0018)  </td><td>0.9781 (0.0019)  </td><td>0.9767 (0.002)   </td><td>0.9759 (0.002)   </td><td>0.9492 (0.0069)  </td><td>0.9817 (0.0015)  </td></tr>\n",
       "\t<tr><td>g12  </td><td>-0.0104 (0.0029) </td><td>0 (8e-04)        </td><td>7e-04 (0.0011)   </td><td>-2e-04 (0.0015)  </td><td>-5e-04 (0.0013)  </td><td>0.0018 (9e-04)   </td><td>0.001 (0.0023)   </td><td>0.0109 (0.0035)  </td><td>-0.001 (0.0022)  </td></tr>\n",
       "\t<tr><td>g21  </td><td>0.01 (0.0043)    </td><td>0.013 (0.0066)   </td><td>0.0012 (0.0084)  </td><td>0.0061 (0.0047)  </td><td>-0.0195 (0.0071) </td><td>-3e-04 (0.0074)  </td><td>0.0046 (0.0102)  </td><td>0.0078 (0.0046)  </td><td>0.0033 (0.0028)  </td></tr>\n",
       "\t<tr><td>g22  </td><td>0.9844 (0.0036)  </td><td>0.9805 (0.0018)  </td><td>0.9606 (0.0032)  </td><td>0.9812 (0.0025)  </td><td>0.9623 (0.0028)  </td><td>0.9738 (0.0022)  </td><td>0.9494 (0.005)   </td><td>0.9267 (0.0019)  </td><td>0.9328 (0.0028)  </td></tr>\n",
       "\t<tr><td>Port </td><td>0.483922591562838</td><td>0.842388244076081</td><td>0.665748033987161</td><td>0.372080219140019</td><td>0.588903304591959</td><td>0.638421110853012</td><td>0.304935026837318</td><td>0.526762069512851</td><td>0.595852908417488</td></tr>\n",
       "</tbody>\n",
       "</table>\n"
      ],
      "text/latex": [
       "A data.frame: 23 × 10\n",
       "\\begin{tabular}{llllllllll}\n",
       " Parameters & BEKKC & BEKK1 & BEKK2 & BEKK3 & BEKK4 & BEKK5 & BEKK6 & BEKK7 & BEKK8\\\\\n",
       " <chr> & <chr> & <chr> & <chr> & <chr> & <chr> & <chr> & <chr> & <chr> & <chr>\\\\\n",
       "\\hline\n",
       "\t mu10  & 3e-04 (3e-04)     & 3e-04 (3e-04)     & 3e-04 (3e-04)     & 3e-04 (3e-04)     & 4e-04 (2e-04)     & 4e-04 (2e-04)     & 4e-04 (2e-04)     & 3e-04 (3e-04)     & 4e-04 (2e-04)    \\\\\n",
       "\t mu20  & 4e-04 (2e-04)     & -1e-04 (1e-04)    & -1e-04 (1e-04)    & 1e-04 (1e-04)     & 1e-04 (1e-04)     & 0 (1e-04)         & 2e-04 (1e-04)     & -6e-04 (2e-04)    & -5e-04 (2e-04)   \\\\\n",
       "\t phi11 & -0.0804 (0.0325)  & -0.0067 (0.0158)  & -0.0081 (0.0159)  & 0.0037 (0.0156)   & 0.046 (0.0155)    & 0.0441 (0.0155)   & 0.0463 (0.0155)   & 0.0066 (0.0155)   & 0.0458 (0.0155)  \\\\\n",
       "\t phi12 & 0.1159 (0.0378)   & 0.2012 (0.0475)   & 0.1848 (0.0451)   & 0.0761 (0.041)    & 0.0527 (0.0378)   & 0.0842 (0.0444)   & 0.0368 (0.0334)   & -0.0096 (0.0268)  & 0.0104 (0.0194)  \\\\\n",
       "\t phi13 & NA                & NA                & NA                & NA                & NA                & NA                & NA                & 0.0065 (0.0156)   & 0.0065 (0.0156)  \\\\\n",
       "\t phi14 & NA                & NA                & NA                & NA                & NA                & NA                & NA                & -0.0182 (0.0268)  & -0.0035 (0.0194) \\\\\n",
       "\t phi15 & NA                & NA                & NA                & NA                & NA                & NA                & NA                & 0.0161 (0.0156)   & 0.0148 (0.0156)  \\\\\n",
       "\t phi16 & NA                & NA                & NA                & NA                & NA                & NA                & NA                & 0.0078 (0.0268)   & 0.0087 (0.0194)  \\\\\n",
       "\t phi21 & -0.0205 (0.0279)  & 0.0068 (0.0053)   & 0.0027 (0.0056)   & 0.0072 (0.0059)   & -0.0057 (0.0064)  & 2e-04 (0.0054)    & -0.0013 (0.0072)  & 0.0081 (0.0089)   & -0.0057 (0.0124) \\\\\n",
       "\t phi22 & 0.0678 (0.0325)   & 0 (0.0158)        & 0.0382 (0.0159)   & 2e-04 (0.0156)    & 0.0392 (0.0155)   & 0.0333 (0.0155)   & 0.0128 (0.0155)   & -0.1142 (0.0154)  & -0.0703 (0.0154) \\\\\n",
       "\t phi23 & NA                & NA                & NA                & NA                & NA                & NA                & NA                & -0.0041 (0.009)   & -0.0062 (0.0124) \\\\\n",
       "\t phi24 & NA                & NA                & NA                & NA                & NA                & NA                & NA                & 0.0896 (0.0154)   & 0.0685 (0.0154)  \\\\\n",
       "\t phi25 & NA                & NA                & NA                & NA                & NA                & NA                & NA                & 0.0032 (0.009)    & -0.0131 (0.0125) \\\\\n",
       "\t phi26 & NA                & NA                & NA                & NA                & NA                & NA                & NA                & 0.1144 (0.0154)   & 0.0847 (0.0154)  \\\\\n",
       "\t a11   & 0.1704 (0.0147)   & 0.1805 (0.0077)   & 0.1783 (0.0074)   & 0.1899 (0.0084)   & 0.196 (0.0078)    & 0.2024 (0.008)    & 0.209 (0.0083)    & 0.1719 (0.0108)   & 0.1811 (0.0067)  \\\\\n",
       "\t a12   & -0.0018 (0.0132)  & 6e-04 (0.0032)    & -6e-04 (0.004)    & -0.0031 (0.0065)  & 0.0012 (0.0045)   & -0.0053 (0.0032)  & -0.009 (0.0077)   & -0.0201 (0.0039)  & 0.0054 (0.0065)  \\\\\n",
       "\t a21   & 0.0285 (0.0184)   & -0.0556 (0.0294)  & 0.0017 (0.0261)   & 0.0151 (0.0255)   & 0.0557 (0.0247)   & 0.0136 (0.0288)   & 0.017 (0.0246)    & 0.0156 (0.0151)   & -0.0071 (0.0072) \\\\\n",
       "\t a22   & 0.2135 (0.0156)   & 0.186 (0.0091)    & 0.2518 (0.0072)   & 0.199 (0.0109)    & 0.2467 (0.0059)   & 0.2165 (0.0082)   & 0.2139 (0.0096)   & 0.374 (0.0072)    & 0.3511 (0.0089)  \\\\\n",
       "\t g11   & 0.9722 (0.0032)   & 0.9818 (0.0017)   & 0.9829 (0.0016)   & 0.9805 (0.0018)   & 0.9781 (0.0019)   & 0.9767 (0.002)    & 0.9759 (0.002)    & 0.9492 (0.0069)   & 0.9817 (0.0015)  \\\\\n",
       "\t g12   & -0.0104 (0.0029)  & 0 (8e-04)         & 7e-04 (0.0011)    & -2e-04 (0.0015)   & -5e-04 (0.0013)   & 0.0018 (9e-04)    & 0.001 (0.0023)    & 0.0109 (0.0035)   & -0.001 (0.0022)  \\\\\n",
       "\t g21   & 0.01 (0.0043)     & 0.013 (0.0066)    & 0.0012 (0.0084)   & 0.0061 (0.0047)   & -0.0195 (0.0071)  & -3e-04 (0.0074)   & 0.0046 (0.0102)   & 0.0078 (0.0046)   & 0.0033 (0.0028)  \\\\\n",
       "\t g22   & 0.9844 (0.0036)   & 0.9805 (0.0018)   & 0.9606 (0.0032)   & 0.9812 (0.0025)   & 0.9623 (0.0028)   & 0.9738 (0.0022)   & 0.9494 (0.005)    & 0.9267 (0.0019)   & 0.9328 (0.0028)  \\\\\n",
       "\t Port  & 0.483922591562838 & 0.842388244076081 & 0.665748033987161 & 0.372080219140019 & 0.588903304591959 & 0.638421110853012 & 0.304935026837318 & 0.526762069512851 & 0.595852908417488\\\\\n",
       "\\end{tabular}\n"
      ],
      "text/markdown": [
       "\n",
       "A data.frame: 23 × 10\n",
       "\n",
       "| Parameters &lt;chr&gt; | BEKKC &lt;chr&gt; | BEKK1 &lt;chr&gt; | BEKK2 &lt;chr&gt; | BEKK3 &lt;chr&gt; | BEKK4 &lt;chr&gt; | BEKK5 &lt;chr&gt; | BEKK6 &lt;chr&gt; | BEKK7 &lt;chr&gt; | BEKK8 &lt;chr&gt; |\n",
       "|---|---|---|---|---|---|---|---|---|---|\n",
       "| mu10  | 3e-04 (3e-04)     | 3e-04 (3e-04)     | 3e-04 (3e-04)     | 3e-04 (3e-04)     | 4e-04 (2e-04)     | 4e-04 (2e-04)     | 4e-04 (2e-04)     | 3e-04 (3e-04)     | 4e-04 (2e-04)     |\n",
       "| mu20  | 4e-04 (2e-04)     | -1e-04 (1e-04)    | -1e-04 (1e-04)    | 1e-04 (1e-04)     | 1e-04 (1e-04)     | 0 (1e-04)         | 2e-04 (1e-04)     | -6e-04 (2e-04)    | -5e-04 (2e-04)    |\n",
       "| phi11 | -0.0804 (0.0325)  | -0.0067 (0.0158)  | -0.0081 (0.0159)  | 0.0037 (0.0156)   | 0.046 (0.0155)    | 0.0441 (0.0155)   | 0.0463 (0.0155)   | 0.0066 (0.0155)   | 0.0458 (0.0155)   |\n",
       "| phi12 | 0.1159 (0.0378)   | 0.2012 (0.0475)   | 0.1848 (0.0451)   | 0.0761 (0.041)    | 0.0527 (0.0378)   | 0.0842 (0.0444)   | 0.0368 (0.0334)   | -0.0096 (0.0268)  | 0.0104 (0.0194)   |\n",
       "| phi13 | NA                | NA                | NA                | NA                | NA                | NA                | NA                | 0.0065 (0.0156)   | 0.0065 (0.0156)   |\n",
       "| phi14 | NA                | NA                | NA                | NA                | NA                | NA                | NA                | -0.0182 (0.0268)  | -0.0035 (0.0194)  |\n",
       "| phi15 | NA                | NA                | NA                | NA                | NA                | NA                | NA                | 0.0161 (0.0156)   | 0.0148 (0.0156)   |\n",
       "| phi16 | NA                | NA                | NA                | NA                | NA                | NA                | NA                | 0.0078 (0.0268)   | 0.0087 (0.0194)   |\n",
       "| phi21 | -0.0205 (0.0279)  | 0.0068 (0.0053)   | 0.0027 (0.0056)   | 0.0072 (0.0059)   | -0.0057 (0.0064)  | 2e-04 (0.0054)    | -0.0013 (0.0072)  | 0.0081 (0.0089)   | -0.0057 (0.0124)  |\n",
       "| phi22 | 0.0678 (0.0325)   | 0 (0.0158)        | 0.0382 (0.0159)   | 2e-04 (0.0156)    | 0.0392 (0.0155)   | 0.0333 (0.0155)   | 0.0128 (0.0155)   | -0.1142 (0.0154)  | -0.0703 (0.0154)  |\n",
       "| phi23 | NA                | NA                | NA                | NA                | NA                | NA                | NA                | -0.0041 (0.009)   | -0.0062 (0.0124)  |\n",
       "| phi24 | NA                | NA                | NA                | NA                | NA                | NA                | NA                | 0.0896 (0.0154)   | 0.0685 (0.0154)   |\n",
       "| phi25 | NA                | NA                | NA                | NA                | NA                | NA                | NA                | 0.0032 (0.009)    | -0.0131 (0.0125)  |\n",
       "| phi26 | NA                | NA                | NA                | NA                | NA                | NA                | NA                | 0.1144 (0.0154)   | 0.0847 (0.0154)   |\n",
       "| a11   | 0.1704 (0.0147)   | 0.1805 (0.0077)   | 0.1783 (0.0074)   | 0.1899 (0.0084)   | 0.196 (0.0078)    | 0.2024 (0.008)    | 0.209 (0.0083)    | 0.1719 (0.0108)   | 0.1811 (0.0067)   |\n",
       "| a12   | -0.0018 (0.0132)  | 6e-04 (0.0032)    | -6e-04 (0.004)    | -0.0031 (0.0065)  | 0.0012 (0.0045)   | -0.0053 (0.0032)  | -0.009 (0.0077)   | -0.0201 (0.0039)  | 0.0054 (0.0065)   |\n",
       "| a21   | 0.0285 (0.0184)   | -0.0556 (0.0294)  | 0.0017 (0.0261)   | 0.0151 (0.0255)   | 0.0557 (0.0247)   | 0.0136 (0.0288)   | 0.017 (0.0246)    | 0.0156 (0.0151)   | -0.0071 (0.0072)  |\n",
       "| a22   | 0.2135 (0.0156)   | 0.186 (0.0091)    | 0.2518 (0.0072)   | 0.199 (0.0109)    | 0.2467 (0.0059)   | 0.2165 (0.0082)   | 0.2139 (0.0096)   | 0.374 (0.0072)    | 0.3511 (0.0089)   |\n",
       "| g11   | 0.9722 (0.0032)   | 0.9818 (0.0017)   | 0.9829 (0.0016)   | 0.9805 (0.0018)   | 0.9781 (0.0019)   | 0.9767 (0.002)    | 0.9759 (0.002)    | 0.9492 (0.0069)   | 0.9817 (0.0015)   |\n",
       "| g12   | -0.0104 (0.0029)  | 0 (8e-04)         | 7e-04 (0.0011)    | -2e-04 (0.0015)   | -5e-04 (0.0013)   | 0.0018 (9e-04)    | 0.001 (0.0023)    | 0.0109 (0.0035)   | -0.001 (0.0022)   |\n",
       "| g21   | 0.01 (0.0043)     | 0.013 (0.0066)    | 0.0012 (0.0084)   | 0.0061 (0.0047)   | -0.0195 (0.0071)  | -3e-04 (0.0074)   | 0.0046 (0.0102)   | 0.0078 (0.0046)   | 0.0033 (0.0028)   |\n",
       "| g22   | 0.9844 (0.0036)   | 0.9805 (0.0018)   | 0.9606 (0.0032)   | 0.9812 (0.0025)   | 0.9623 (0.0028)   | 0.9738 (0.0022)   | 0.9494 (0.005)    | 0.9267 (0.0019)   | 0.9328 (0.0028)   |\n",
       "| Port  | 0.483922591562838 | 0.842388244076081 | 0.665748033987161 | 0.372080219140019 | 0.588903304591959 | 0.638421110853012 | 0.304935026837318 | 0.526762069512851 | 0.595852908417488 |\n",
       "\n"
      ],
      "text/plain": [
       "   Parameters BEKKC             BEKK1             BEKK2            \n",
       "1  mu10       3e-04 (3e-04)     3e-04 (3e-04)     3e-04 (3e-04)    \n",
       "2  mu20       4e-04 (2e-04)     -1e-04 (1e-04)    -1e-04 (1e-04)   \n",
       "3  phi11      -0.0804 (0.0325)  -0.0067 (0.0158)  -0.0081 (0.0159) \n",
       "4  phi12      0.1159 (0.0378)   0.2012 (0.0475)   0.1848 (0.0451)  \n",
       "5  phi13      NA                NA                NA               \n",
       "6  phi14      NA                NA                NA               \n",
       "7  phi15      NA                NA                NA               \n",
       "8  phi16      NA                NA                NA               \n",
       "9  phi21      -0.0205 (0.0279)  0.0068 (0.0053)   0.0027 (0.0056)  \n",
       "10 phi22      0.0678 (0.0325)   0 (0.0158)        0.0382 (0.0159)  \n",
       "11 phi23      NA                NA                NA               \n",
       "12 phi24      NA                NA                NA               \n",
       "13 phi25      NA                NA                NA               \n",
       "14 phi26      NA                NA                NA               \n",
       "15 a11        0.1704 (0.0147)   0.1805 (0.0077)   0.1783 (0.0074)  \n",
       "16 a12        -0.0018 (0.0132)  6e-04 (0.0032)    -6e-04 (0.004)   \n",
       "17 a21        0.0285 (0.0184)   -0.0556 (0.0294)  0.0017 (0.0261)  \n",
       "18 a22        0.2135 (0.0156)   0.186 (0.0091)    0.2518 (0.0072)  \n",
       "19 g11        0.9722 (0.0032)   0.9818 (0.0017)   0.9829 (0.0016)  \n",
       "20 g12        -0.0104 (0.0029)  0 (8e-04)         7e-04 (0.0011)   \n",
       "21 g21        0.01 (0.0043)     0.013 (0.0066)    0.0012 (0.0084)  \n",
       "22 g22        0.9844 (0.0036)   0.9805 (0.0018)   0.9606 (0.0032)  \n",
       "23 Port       0.483922591562838 0.842388244076081 0.665748033987161\n",
       "   BEKK3             BEKK4             BEKK5             BEKK6            \n",
       "1  3e-04 (3e-04)     4e-04 (2e-04)     4e-04 (2e-04)     4e-04 (2e-04)    \n",
       "2  1e-04 (1e-04)     1e-04 (1e-04)     0 (1e-04)         2e-04 (1e-04)    \n",
       "3  0.0037 (0.0156)   0.046 (0.0155)    0.0441 (0.0155)   0.0463 (0.0155)  \n",
       "4  0.0761 (0.041)    0.0527 (0.0378)   0.0842 (0.0444)   0.0368 (0.0334)  \n",
       "5  NA                NA                NA                NA               \n",
       "6  NA                NA                NA                NA               \n",
       "7  NA                NA                NA                NA               \n",
       "8  NA                NA                NA                NA               \n",
       "9  0.0072 (0.0059)   -0.0057 (0.0064)  2e-04 (0.0054)    -0.0013 (0.0072) \n",
       "10 2e-04 (0.0156)    0.0392 (0.0155)   0.0333 (0.0155)   0.0128 (0.0155)  \n",
       "11 NA                NA                NA                NA               \n",
       "12 NA                NA                NA                NA               \n",
       "13 NA                NA                NA                NA               \n",
       "14 NA                NA                NA                NA               \n",
       "15 0.1899 (0.0084)   0.196 (0.0078)    0.2024 (0.008)    0.209 (0.0083)   \n",
       "16 -0.0031 (0.0065)  0.0012 (0.0045)   -0.0053 (0.0032)  -0.009 (0.0077)  \n",
       "17 0.0151 (0.0255)   0.0557 (0.0247)   0.0136 (0.0288)   0.017 (0.0246)   \n",
       "18 0.199 (0.0109)    0.2467 (0.0059)   0.2165 (0.0082)   0.2139 (0.0096)  \n",
       "19 0.9805 (0.0018)   0.9781 (0.0019)   0.9767 (0.002)    0.9759 (0.002)   \n",
       "20 -2e-04 (0.0015)   -5e-04 (0.0013)   0.0018 (9e-04)    0.001 (0.0023)   \n",
       "21 0.0061 (0.0047)   -0.0195 (0.0071)  -3e-04 (0.0074)   0.0046 (0.0102)  \n",
       "22 0.9812 (0.0025)   0.9623 (0.0028)   0.9738 (0.0022)   0.9494 (0.005)   \n",
       "23 0.372080219140019 0.588903304591959 0.638421110853012 0.304935026837318\n",
       "   BEKK7             BEKK8            \n",
       "1  3e-04 (3e-04)     4e-04 (2e-04)    \n",
       "2  -6e-04 (2e-04)    -5e-04 (2e-04)   \n",
       "3  0.0066 (0.0155)   0.0458 (0.0155)  \n",
       "4  -0.0096 (0.0268)  0.0104 (0.0194)  \n",
       "5  0.0065 (0.0156)   0.0065 (0.0156)  \n",
       "6  -0.0182 (0.0268)  -0.0035 (0.0194) \n",
       "7  0.0161 (0.0156)   0.0148 (0.0156)  \n",
       "8  0.0078 (0.0268)   0.0087 (0.0194)  \n",
       "9  0.0081 (0.0089)   -0.0057 (0.0124) \n",
       "10 -0.1142 (0.0154)  -0.0703 (0.0154) \n",
       "11 -0.0041 (0.009)   -0.0062 (0.0124) \n",
       "12 0.0896 (0.0154)   0.0685 (0.0154)  \n",
       "13 0.0032 (0.009)    -0.0131 (0.0125) \n",
       "14 0.1144 (0.0154)   0.0847 (0.0154)  \n",
       "15 0.1719 (0.0108)   0.1811 (0.0067)  \n",
       "16 -0.0201 (0.0039)  0.0054 (0.0065)  \n",
       "17 0.0156 (0.0151)   -0.0071 (0.0072) \n",
       "18 0.374 (0.0072)    0.3511 (0.0089)  \n",
       "19 0.9492 (0.0069)   0.9817 (0.0015)  \n",
       "20 0.0109 (0.0035)   -0.001 (0.0022)  \n",
       "21 0.0078 (0.0046)   0.0033 (0.0028)  \n",
       "22 0.9267 (0.0019)   0.9328 (0.0028)  \n",
       "23 0.526762069512851 0.595852908417488"
      ]
     },
     "metadata": {},
     "output_type": "display_data"
    }
   ],
   "source": [
    "daily_bekk"
   ]
  },
  {
   "cell_type": "code",
   "execution_count": null,
   "id": "35766a26-5d21-4016-bbbf-f88f62911489",
   "metadata": {},
   "outputs": [],
   "source": []
  }
 ],
 "metadata": {
  "kernelspec": {
   "display_name": "R",
   "language": "R",
   "name": "ir"
  },
  "language_info": {
   "codemirror_mode": "r",
   "file_extension": ".r",
   "mimetype": "text/x-r-source",
   "name": "R",
   "pygments_lexer": "r",
   "version": "4.3.3"
  }
 },
 "nbformat": 4,
 "nbformat_minor": 5
}
