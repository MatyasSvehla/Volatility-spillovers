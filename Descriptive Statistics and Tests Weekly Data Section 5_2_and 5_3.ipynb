{
 "cells": [
  {
   "cell_type": "markdown",
   "id": "2c7c2e4c-d681-459a-bc93-391dc074268f",
   "metadata": {},
   "source": [
    "# Chapter 5"
   ]
  },
  {
   "cell_type": "markdown",
   "id": "ee07259a-fdd3-47be-9777-cffa03f7876c",
   "metadata": {},
   "source": [
    "# Sections 5.2 and 5.3 (weekly data)"
   ]
  },
  {
   "cell_type": "markdown",
   "id": "7a33061d-bdb7-41d0-944c-96fd885e3984",
   "metadata": {},
   "source": [
    "# Descriptive Statistics and Statistical Tests for weekly data"
   ]
  },
  {
   "cell_type": "code",
   "execution_count": 1,
   "id": "7c291339-f330-493b-a902-6a120da61a22",
   "metadata": {},
   "outputs": [
    {
     "name": "stderr",
     "output_type": "stream",
     "text": [
      "Loading required package: zoo\n",
      "\n",
      "\n",
      "Attaching package: ‘zoo’\n",
      "\n",
      "\n",
      "The following objects are masked from ‘package:base’:\n",
      "\n",
      "    as.Date, as.Date.numeric\n",
      "\n",
      "\n",
      "\n",
      "Please cite as: \n",
      "\n",
      "\n",
      " Hlavac, Marek (2022). stargazer: Well-Formatted Regression and Summary Statistics Tables.\n",
      "\n",
      " R package version 5.2.3. https://CRAN.R-project.org/package=stargazer \n",
      "\n",
      "\n",
      "Registered S3 method overwritten by 'quantmod':\n",
      "  method            from\n",
      "  as.zoo.data.frame zoo \n",
      "\n",
      "Loading required package: parallel\n",
      "\n",
      "\n",
      "Attaching package: ‘rugarch’\n",
      "\n",
      "\n",
      "The following object is masked from ‘package:stats’:\n",
      "\n",
      "    sigma\n",
      "\n",
      "\n",
      "Registered S3 methods overwritten by 'nortsTest':\n",
      "  method      from    \n",
      "  autoplot.ts forecast\n",
      "  fortify.ts  forecast\n",
      "\n"
     ]
    }
   ],
   "source": [
    "library(xts)\n",
    "library(stargazer)\n",
    "library(moments)\n",
    "library(tseries)\n",
    "library(MTS)\n",
    "library(rugarch)\n",
    "library(nortsTest)"
   ]
  },
  {
   "cell_type": "markdown",
   "id": "f53ceb8d-4c76-400a-a89d-9e39bb82eaec",
   "metadata": {},
   "source": [
    "# Dataset preperation"
   ]
  },
  {
   "cell_type": "markdown",
   "id": "5b47b462-03d2-4909-815f-5514674fb849",
   "metadata": {},
   "source": [
    "##### First we construct the dataset by merging all return and price series, missing values have already been treated in the construction process of each series."
   ]
  },
  {
   "cell_type": "code",
   "execution_count": 2,
   "id": "303f6ea5-68e2-474f-81b3-c644221e2378",
   "metadata": {},
   "outputs": [],
   "source": [
    "fr_w <- readRDS(\"fr_w.Rds\")\n",
    "fp_w <- readRDS(\"fp_w.Rds\")\n",
    "cr_w <- readRDS(\"cr_w.Rds\")\n",
    "cp_w <- readRDS(\"cp_w.Rds\")"
   ]
  },
  {
   "cell_type": "code",
   "execution_count": 3,
   "id": "5e383e5b-8390-491a-9b4c-f8c67695eea4",
   "metadata": {},
   "outputs": [
    {
     "name": "stdout",
     "output_type": "stream",
     "text": [
      "An xts object on 2007-07-13 / 2024-05-03 containing: \n",
      "  Data:    double [878, 10]\n",
      "  Columns: US Cocoa, London Cocoa, EURUSD, GBPUSD, CHFUSD ... with 5 more columns\n",
      "  Index:   Date [878] (TZ: \"UTC\")\n",
      "  xts Attributes:\n",
      "    $ ret_type        : chr \"log\"\n",
      "    $ coredata_content: chr \"logReturn\"\n"
     ]
    }
   ],
   "source": [
    "w <- na.omit(merge(cr_w,fr_w))\n",
    "colnames(w) <- c(\"US Cocoa\",\"London Cocoa\",\"EURUSD\",\"GBPUSD\",\"CHFUSD\",\"USDGBP\",\"EURGBP\",\"CHFGBP\",\"GHSUSD\",\"GHSGBP\")\n",
    "str(w)"
   ]
  },
  {
   "cell_type": "code",
   "execution_count": 4,
   "id": "4b408313-05e7-4de4-be23-0c2b36d8288c",
   "metadata": {},
   "outputs": [
    {
     "name": "stdout",
     "output_type": "stream",
     "text": [
      "An xts object on 2007-07-06 / 2024-05-03 containing: \n",
      "  Data:    double [879, 10]\n",
      "  Columns: US Cocoa, London Cocoa, EURUSD, GBPUSD, CHFUSD ... with 5 more columns\n",
      "  Index:   Date [879] (TZ: \"UTC\")\n"
     ]
    }
   ],
   "source": [
    "w_p <- na.omit(merge(cp_w,fp_w))\n",
    "colnames(w_p) <- c(\"US Cocoa\",\"London Cocoa\",\"EURUSD\",\"GBPUSD\",\"CHFUSD\",\"USDGBP\",\"EURGBP\",\"CHFGBP\",\"GHSUSD\",\"GHSGBP\")\n",
    "str(w_p)"
   ]
  },
  {
   "cell_type": "markdown",
   "id": "e320444e-723a-4cea-b19a-20e2af82e144",
   "metadata": {},
   "source": [
    "# Descriptive Statistics for weekly returns (Section 5.2)"
   ]
  },
  {
   "cell_type": "markdown",
   "id": "e00fc366-911b-425c-8c17-5818f1978716",
   "metadata": {},
   "source": [
    "##### In the next step, basic descriptive statistics are computed for returns as %, those are Mean, Standard Deviation, Minimum, Maximum, Skewness, Kurtosis."
   ]
  },
  {
   "cell_type": "code",
   "execution_count": 5,
   "id": "2f4f1fdc-aff7-494d-9982-390566ad0be3",
   "metadata": {
    "scrolled": true
   },
   "outputs": [
    {
     "name": "stdout",
     "output_type": "stream",
     "text": [
      "\n",
      "% Table created by stargazer v.5.2.3 by Marek Hlavac, Social Policy Institute. E-mail: marek.hlavac at gmail.com\n",
      "% Date and time: Thu, Jul 18, 2024 - 14:28:13\n",
      "\\begin{table}[!htbp] \\centering \n",
      "  \\caption{Descriptive Statistics for weekly returns} \n",
      "  \\label{} \n",
      "\\begin{tabular}{@{\\extracolsep{5pt}}lccccc} \n",
      "\\\\[-1.8ex]\\hline \n",
      "\\hline \\\\[-1.8ex] \n",
      "Statistic & \\multicolumn{1}{c}{N} & \\multicolumn{1}{c}{Mean} & \\multicolumn{1}{c}{St. Dev.} & \\multicolumn{1}{c}{Min} & \\multicolumn{1}{c}{Max} \\\\ \n",
      "\\hline \\\\[-1.8ex] \n",
      "US Cocoa & 878 & 0.153 & 3.937 & $-$26.288 & 15.813 \\\\ \n",
      "London Cocoa & 878 & 0.205 & 3.520 & $-$26.525 & 16.733 \\\\ \n",
      "EURUSD & 878 & $-$0.027 & 1.274 & $-$6.033 & 4.966 \\\\ \n",
      "GBPUSD & 878 & $-$0.054 & 1.357 & $-$8.206 & 6.766 \\\\ \n",
      "CHFUSD & 878 & 0.034 & 1.477 & $-$11.433 & 16.785 \\\\ \n",
      "USDGBP & 878 & 0.054 & 1.357 & $-$6.767 & 8.203 \\\\ \n",
      "EURGBP & 878 & 0.027 & 1.169 & $-$7.621 & 5.351 \\\\ \n",
      "CHFGBP & 878 & 0.087 & 1.491 & $-$9.345 & 16.849 \\\\ \n",
      "GHSUSD & 878 & $-$0.306 & 2.276 & $-$20.493 & 35.656 \\\\ \n",
      "GHSGBP & 878 & $-$0.253 & 2.706 & $-$21.672 & 36.595 \\\\ \n",
      "\\hline \\\\[-1.8ex] \n",
      "\\multicolumn{6}{l}{All statistics are for returns as %} \\\\ \n",
      "\\end{tabular} \n",
      "\\end{table} \n"
     ]
    }
   ],
   "source": [
    "stargazer(w*100,summary=T,title = \"Descriptive Statistics for weekly returns\",notes = c(\"All statistics are for returns as %\"),type = \"latex\")"
   ]
  },
  {
   "cell_type": "code",
   "execution_count": 6,
   "id": "ca09ee70-5e75-4c9f-bf32-9e152e839bda",
   "metadata": {},
   "outputs": [
    {
     "data": {
      "text/html": [
       "<style>\n",
       ".dl-inline {width: auto; margin:0; padding: 0}\n",
       ".dl-inline>dt, .dl-inline>dd {float: none; width: auto; display: inline-block}\n",
       ".dl-inline>dt::after {content: \":\\0020\"; padding-right: .5ex}\n",
       ".dl-inline>dt:not(:first-of-type) {padding-left: .5ex}\n",
       "</style><dl class=dl-inline><dt>US Cocoa</dt><dd>-0.347</dd><dt>London Cocoa</dt><dd>-0.084</dd><dt>EURUSD</dt><dd>-0.249</dd><dt>GBPUSD</dt><dd>-0.515</dd><dt>CHFUSD</dt><dd>1.361</dd><dt>USDGBP</dt><dd>0.512</dd><dt>EURGBP</dt><dd>-0.068</dd><dt>CHFGBP</dt><dd>1.444</dd><dt>GHSUSD</dt><dd>3.84</dd><dt>GHSGBP</dt><dd>2.397</dd></dl>\n"
      ],
      "text/latex": [
       "\\begin{description*}\n",
       "\\item[US Cocoa] -0.347\n",
       "\\item[London Cocoa] -0.084\n",
       "\\item[EURUSD] -0.249\n",
       "\\item[GBPUSD] -0.515\n",
       "\\item[CHFUSD] 1.361\n",
       "\\item[USDGBP] 0.512\n",
       "\\item[EURGBP] -0.068\n",
       "\\item[CHFGBP] 1.444\n",
       "\\item[GHSUSD] 3.84\n",
       "\\item[GHSGBP] 2.397\n",
       "\\end{description*}\n"
      ],
      "text/markdown": [
       "US Cocoa\n",
       ":   -0.347London Cocoa\n",
       ":   -0.084EURUSD\n",
       ":   -0.249GBPUSD\n",
       ":   -0.515CHFUSD\n",
       ":   1.361USDGBP\n",
       ":   0.512EURGBP\n",
       ":   -0.068CHFGBP\n",
       ":   1.444GHSUSD\n",
       ":   3.84GHSGBP\n",
       ":   2.397\n",
       "\n"
      ],
      "text/plain": [
       "    US Cocoa London Cocoa       EURUSD       GBPUSD       CHFUSD       USDGBP \n",
       "      -0.347       -0.084       -0.249       -0.515        1.361        0.512 \n",
       "      EURGBP       CHFGBP       GHSUSD       GHSGBP \n",
       "      -0.068        1.444        3.840        2.397 "
      ]
     },
     "metadata": {},
     "output_type": "display_data"
    },
    {
     "data": {
      "text/html": [
       "<style>\n",
       ".dl-inline {width: auto; margin:0; padding: 0}\n",
       ".dl-inline>dt, .dl-inline>dd {float: none; width: auto; display: inline-block}\n",
       ".dl-inline>dt::after {content: \":\\0020\"; padding-right: .5ex}\n",
       ".dl-inline>dt:not(:first-of-type) {padding-left: .5ex}\n",
       "</style><dl class=dl-inline><dt>US Cocoa</dt><dd>6.884</dd><dt>London Cocoa</dt><dd>8.791</dd><dt>EURUSD</dt><dd>4.869</dd><dt>GBPUSD</dt><dd>6.871</dd><dt>CHFUSD</dt><dd>25.651</dd><dt>USDGBP</dt><dd>6.907</dd><dt>EURGBP</dt><dd>7.095</dd><dt>CHFGBP</dt><dd>23.619</dd><dt>GHSUSD</dt><dd>86.102</dd><dt>GHSGBP</dt><dd>48.932</dd></dl>\n"
      ],
      "text/latex": [
       "\\begin{description*}\n",
       "\\item[US Cocoa] 6.884\n",
       "\\item[London Cocoa] 8.791\n",
       "\\item[EURUSD] 4.869\n",
       "\\item[GBPUSD] 6.871\n",
       "\\item[CHFUSD] 25.651\n",
       "\\item[USDGBP] 6.907\n",
       "\\item[EURGBP] 7.095\n",
       "\\item[CHFGBP] 23.619\n",
       "\\item[GHSUSD] 86.102\n",
       "\\item[GHSGBP] 48.932\n",
       "\\end{description*}\n"
      ],
      "text/markdown": [
       "US Cocoa\n",
       ":   6.884London Cocoa\n",
       ":   8.791EURUSD\n",
       ":   4.869GBPUSD\n",
       ":   6.871CHFUSD\n",
       ":   25.651USDGBP\n",
       ":   6.907EURGBP\n",
       ":   7.095CHFGBP\n",
       ":   23.619GHSUSD\n",
       ":   86.102GHSGBP\n",
       ":   48.932\n",
       "\n"
      ],
      "text/plain": [
       "    US Cocoa London Cocoa       EURUSD       GBPUSD       CHFUSD       USDGBP \n",
       "       6.884        8.791        4.869        6.871       25.651        6.907 \n",
       "      EURGBP       CHFGBP       GHSUSD       GHSGBP \n",
       "       7.095       23.619       86.102       48.932 "
      ]
     },
     "metadata": {},
     "output_type": "display_data"
    }
   ],
   "source": [
    "round(skewness(w),3)\n",
    "round(kurtosis(w),3)"
   ]
  },
  {
   "cell_type": "markdown",
   "id": "cef55891-210c-46a4-b7f7-b4c88160aab8",
   "metadata": {},
   "source": [
    "# Statistical Tests"
   ]
  },
  {
   "cell_type": "markdown",
   "id": "e6df96bc-a2e7-4a27-b6f6-c5fda88120ea",
   "metadata": {},
   "source": [
    "##### In this section, statistical tests are performed. We start with unit root tests that will help to determine whether the differenced price series, i.e. log return series, may be assumed to be weakly stationary."
   ]
  },
  {
   "cell_type": "markdown",
   "id": "9c385ee8-b2f3-4f9f-8a3a-f08e7ea86930",
   "metadata": {},
   "source": [
    "- ADF,KPSS,Phillips-Perron for unit root testing\n",
    "- Ljung-Box for tessting of serial correlation \n",
    "- ARCH-LM for ARCH-effects\n",
    "- JARQUE-BERA for the viability of distributional assumption of normality"
   ]
  },
  {
   "cell_type": "markdown",
   "id": "4daeef6b-bce8-4ea5-8a95-81345984412f",
   "metadata": {},
   "source": [
    "## Unit Root Tests"
   ]
  },
  {
   "cell_type": "markdown",
   "id": "c5d9fc4b-406c-4269-b6d2-ec62be991785",
   "metadata": {},
   "source": [
    "### ADF Test"
   ]
  },
  {
   "cell_type": "code",
   "execution_count": 7,
   "id": "06b303c4-2748-4685-b273-d60c20a1620c",
   "metadata": {},
   "outputs": [
    {
     "name": "stderr",
     "output_type": "stream",
     "text": [
      "Warning message in adf.test(w[, i]):\n",
      "“p-value smaller than printed p-value”\n"
     ]
    },
    {
     "name": "stdout",
     "output_type": "stream",
     "text": [
      "\n",
      "\tAugmented Dickey-Fuller Test\n",
      "\n",
      "data:  w[, i]\n",
      "Dickey-Fuller = -8.7556, Lag order = 9, p-value = 0.01\n",
      "alternative hypothesis: stationary\n",
      "\n"
     ]
    },
    {
     "name": "stderr",
     "output_type": "stream",
     "text": [
      "Warning message in adf.test(w[, i]):\n",
      "“p-value smaller than printed p-value”\n"
     ]
    },
    {
     "name": "stdout",
     "output_type": "stream",
     "text": [
      "\n",
      "\tAugmented Dickey-Fuller Test\n",
      "\n",
      "data:  w[, i]\n",
      "Dickey-Fuller = -8.0902, Lag order = 9, p-value = 0.01\n",
      "alternative hypothesis: stationary\n",
      "\n"
     ]
    },
    {
     "name": "stderr",
     "output_type": "stream",
     "text": [
      "Warning message in adf.test(w[, i]):\n",
      "“p-value smaller than printed p-value”\n"
     ]
    },
    {
     "name": "stdout",
     "output_type": "stream",
     "text": [
      "\n",
      "\tAugmented Dickey-Fuller Test\n",
      "\n",
      "data:  w[, i]\n",
      "Dickey-Fuller = -9.7629, Lag order = 9, p-value = 0.01\n",
      "alternative hypothesis: stationary\n",
      "\n"
     ]
    },
    {
     "name": "stderr",
     "output_type": "stream",
     "text": [
      "Warning message in adf.test(w[, i]):\n",
      "“p-value smaller than printed p-value”\n"
     ]
    },
    {
     "name": "stdout",
     "output_type": "stream",
     "text": [
      "\n",
      "\tAugmented Dickey-Fuller Test\n",
      "\n",
      "data:  w[, i]\n",
      "Dickey-Fuller = -8.5152, Lag order = 9, p-value = 0.01\n",
      "alternative hypothesis: stationary\n",
      "\n"
     ]
    },
    {
     "name": "stderr",
     "output_type": "stream",
     "text": [
      "Warning message in adf.test(w[, i]):\n",
      "“p-value smaller than printed p-value”\n"
     ]
    },
    {
     "name": "stdout",
     "output_type": "stream",
     "text": [
      "\n",
      "\tAugmented Dickey-Fuller Test\n",
      "\n",
      "data:  w[, i]\n",
      "Dickey-Fuller = -10.235, Lag order = 9, p-value = 0.01\n",
      "alternative hypothesis: stationary\n",
      "\n"
     ]
    },
    {
     "name": "stderr",
     "output_type": "stream",
     "text": [
      "Warning message in adf.test(w[, i]):\n",
      "“p-value smaller than printed p-value”\n"
     ]
    },
    {
     "name": "stdout",
     "output_type": "stream",
     "text": [
      "\n",
      "\tAugmented Dickey-Fuller Test\n",
      "\n",
      "data:  w[, i]\n",
      "Dickey-Fuller = -8.5127, Lag order = 9, p-value = 0.01\n",
      "alternative hypothesis: stationary\n",
      "\n"
     ]
    },
    {
     "name": "stderr",
     "output_type": "stream",
     "text": [
      "Warning message in adf.test(w[, i]):\n",
      "“p-value smaller than printed p-value”\n"
     ]
    },
    {
     "name": "stdout",
     "output_type": "stream",
     "text": [
      "\n",
      "\tAugmented Dickey-Fuller Test\n",
      "\n",
      "data:  w[, i]\n",
      "Dickey-Fuller = -10.335, Lag order = 9, p-value = 0.01\n",
      "alternative hypothesis: stationary\n",
      "\n"
     ]
    },
    {
     "name": "stderr",
     "output_type": "stream",
     "text": [
      "Warning message in adf.test(w[, i]):\n",
      "“p-value smaller than printed p-value”\n"
     ]
    },
    {
     "name": "stdout",
     "output_type": "stream",
     "text": [
      "\n",
      "\tAugmented Dickey-Fuller Test\n",
      "\n",
      "data:  w[, i]\n",
      "Dickey-Fuller = -9.4805, Lag order = 9, p-value = 0.01\n",
      "alternative hypothesis: stationary\n",
      "\n"
     ]
    },
    {
     "name": "stderr",
     "output_type": "stream",
     "text": [
      "Warning message in adf.test(w[, i]):\n",
      "“p-value smaller than printed p-value”\n"
     ]
    },
    {
     "name": "stdout",
     "output_type": "stream",
     "text": [
      "\n",
      "\tAugmented Dickey-Fuller Test\n",
      "\n",
      "data:  w[, i]\n",
      "Dickey-Fuller = -10.702, Lag order = 9, p-value = 0.01\n",
      "alternative hypothesis: stationary\n",
      "\n"
     ]
    },
    {
     "name": "stderr",
     "output_type": "stream",
     "text": [
      "Warning message in adf.test(w[, i]):\n",
      "“p-value smaller than printed p-value”\n"
     ]
    },
    {
     "name": "stdout",
     "output_type": "stream",
     "text": [
      "\n",
      "\tAugmented Dickey-Fuller Test\n",
      "\n",
      "data:  w[, i]\n",
      "Dickey-Fuller = -10.805, Lag order = 9, p-value = 0.01\n",
      "alternative hypothesis: stationary\n",
      "\n"
     ]
    }
   ],
   "source": [
    "for(i in 1:10){\n",
    "    print(adf.test(w[,i]))}"
   ]
  },
  {
   "cell_type": "code",
   "execution_count": 8,
   "id": "fb5475ce-5a04-400c-aa13-e714d6ec94aa",
   "metadata": {},
   "outputs": [
    {
     "name": "stderr",
     "output_type": "stream",
     "text": [
      "Warning message in adf.test(w[, i]):\n",
      "“p-value smaller than printed p-value”\n",
      "Warning message in adf.test(w[, i]):\n",
      "“p-value smaller than printed p-value”\n",
      "Warning message in adf.test(w[, i]):\n",
      "“p-value smaller than printed p-value”\n",
      "Warning message in adf.test(w[, i]):\n",
      "“p-value smaller than printed p-value”\n",
      "Warning message in adf.test(w[, i]):\n",
      "“p-value smaller than printed p-value”\n",
      "Warning message in adf.test(w[, i]):\n",
      "“p-value smaller than printed p-value”\n",
      "Warning message in adf.test(w[, i]):\n",
      "“p-value smaller than printed p-value”\n",
      "Warning message in adf.test(w[, i]):\n",
      "“p-value smaller than printed p-value”\n",
      "Warning message in adf.test(w[, i]):\n",
      "“p-value smaller than printed p-value”\n",
      "Warning message in adf.test(w[, i]):\n",
      "“p-value smaller than printed p-value”\n"
     ]
    }
   ],
   "source": [
    "adf <- rep(NA,10)\n",
    "for(i in 1:10){\n",
    "    adf[i] = adf.test(w[,i])$statistic\n",
    "}"
   ]
  },
  {
   "cell_type": "markdown",
   "id": "cd0b8d9e-95c9-4a33-9ac6-3ba44efcf2e1",
   "metadata": {},
   "source": [
    "### KPSS"
   ]
  },
  {
   "cell_type": "code",
   "execution_count": 9,
   "id": "c527c376-698e-4e39-8582-d09b36b4d976",
   "metadata": {},
   "outputs": [
    {
     "name": "stderr",
     "output_type": "stream",
     "text": [
      "Warning message in kpss.test(w[, i]):\n",
      "“p-value greater than printed p-value”\n"
     ]
    },
    {
     "name": "stdout",
     "output_type": "stream",
     "text": [
      "\n",
      "\tKPSS Test for Level Stationarity\n",
      "\n",
      "data:  w[, i]\n",
      "KPSS Level = 0.27886, Truncation lag parameter = 6, p-value = 0.1\n",
      "\n"
     ]
    },
    {
     "name": "stderr",
     "output_type": "stream",
     "text": [
      "Warning message in kpss.test(w[, i]):\n",
      "“p-value greater than printed p-value”\n"
     ]
    },
    {
     "name": "stdout",
     "output_type": "stream",
     "text": [
      "\n",
      "\tKPSS Test for Level Stationarity\n",
      "\n",
      "data:  w[, i]\n",
      "KPSS Level = 0.3396, Truncation lag parameter = 6, p-value = 0.1\n",
      "\n"
     ]
    },
    {
     "name": "stderr",
     "output_type": "stream",
     "text": [
      "Warning message in kpss.test(w[, i]):\n",
      "“p-value greater than printed p-value”\n"
     ]
    },
    {
     "name": "stdout",
     "output_type": "stream",
     "text": [
      "\n",
      "\tKPSS Test for Level Stationarity\n",
      "\n",
      "data:  w[, i]\n",
      "KPSS Level = 0.030042, Truncation lag parameter = 6, p-value = 0.1\n",
      "\n"
     ]
    },
    {
     "name": "stderr",
     "output_type": "stream",
     "text": [
      "Warning message in kpss.test(w[, i]):\n",
      "“p-value greater than printed p-value”\n"
     ]
    },
    {
     "name": "stdout",
     "output_type": "stream",
     "text": [
      "\n",
      "\tKPSS Test for Level Stationarity\n",
      "\n",
      "data:  w[, i]\n",
      "KPSS Level = 0.088406, Truncation lag parameter = 6, p-value = 0.1\n",
      "\n"
     ]
    },
    {
     "name": "stderr",
     "output_type": "stream",
     "text": [
      "Warning message in kpss.test(w[, i]):\n",
      "“p-value greater than printed p-value”\n"
     ]
    },
    {
     "name": "stdout",
     "output_type": "stream",
     "text": [
      "\n",
      "\tKPSS Test for Level Stationarity\n",
      "\n",
      "data:  w[, i]\n",
      "KPSS Level = 0.083033, Truncation lag parameter = 6, p-value = 0.1\n",
      "\n"
     ]
    },
    {
     "name": "stderr",
     "output_type": "stream",
     "text": [
      "Warning message in kpss.test(w[, i]):\n",
      "“p-value greater than printed p-value”\n"
     ]
    },
    {
     "name": "stdout",
     "output_type": "stream",
     "text": [
      "\n",
      "\tKPSS Test for Level Stationarity\n",
      "\n",
      "data:  w[, i]\n",
      "KPSS Level = 0.0883, Truncation lag parameter = 6, p-value = 0.1\n",
      "\n"
     ]
    },
    {
     "name": "stderr",
     "output_type": "stream",
     "text": [
      "Warning message in kpss.test(w[, i]):\n",
      "“p-value greater than printed p-value”\n"
     ]
    },
    {
     "name": "stdout",
     "output_type": "stream",
     "text": [
      "\n",
      "\tKPSS Test for Level Stationarity\n",
      "\n",
      "data:  w[, i]\n",
      "KPSS Level = 0.14985, Truncation lag parameter = 6, p-value = 0.1\n",
      "\n"
     ]
    },
    {
     "name": "stderr",
     "output_type": "stream",
     "text": [
      "Warning message in kpss.test(w[, i]):\n",
      "“p-value greater than printed p-value”\n"
     ]
    },
    {
     "name": "stdout",
     "output_type": "stream",
     "text": [
      "\n",
      "\tKPSS Test for Level Stationarity\n",
      "\n",
      "data:  w[, i]\n",
      "KPSS Level = 0.2585, Truncation lag parameter = 6, p-value = 0.1\n",
      "\n"
     ]
    },
    {
     "name": "stderr",
     "output_type": "stream",
     "text": [
      "Warning message in kpss.test(w[, i]):\n",
      "“p-value greater than printed p-value”\n"
     ]
    },
    {
     "name": "stdout",
     "output_type": "stream",
     "text": [
      "\n",
      "\tKPSS Test for Level Stationarity\n",
      "\n",
      "data:  w[, i]\n",
      "KPSS Level = 0.058923, Truncation lag parameter = 6, p-value = 0.1\n",
      "\n"
     ]
    },
    {
     "name": "stderr",
     "output_type": "stream",
     "text": [
      "Warning message in kpss.test(w[, i]):\n",
      "“p-value greater than printed p-value”\n"
     ]
    },
    {
     "name": "stdout",
     "output_type": "stream",
     "text": [
      "\n",
      "\tKPSS Test for Level Stationarity\n",
      "\n",
      "data:  w[, i]\n",
      "KPSS Level = 0.086064, Truncation lag parameter = 6, p-value = 0.1\n",
      "\n"
     ]
    }
   ],
   "source": [
    "for(i in 1:10){\n",
    "    print(kpss.test(w[,i]))}"
   ]
  },
  {
   "cell_type": "code",
   "execution_count": 10,
   "id": "d543ef90-bb90-499f-b978-862cc4da1e9e",
   "metadata": {},
   "outputs": [
    {
     "name": "stderr",
     "output_type": "stream",
     "text": [
      "Warning message in kpss.test(w[, i]):\n",
      "“p-value greater than printed p-value”\n",
      "Warning message in kpss.test(w[, i]):\n",
      "“p-value greater than printed p-value”\n",
      "Warning message in kpss.test(w[, i]):\n",
      "“p-value greater than printed p-value”\n",
      "Warning message in kpss.test(w[, i]):\n",
      "“p-value greater than printed p-value”\n",
      "Warning message in kpss.test(w[, i]):\n",
      "“p-value greater than printed p-value”\n",
      "Warning message in kpss.test(w[, i]):\n",
      "“p-value greater than printed p-value”\n",
      "Warning message in kpss.test(w[, i]):\n",
      "“p-value greater than printed p-value”\n",
      "Warning message in kpss.test(w[, i]):\n",
      "“p-value greater than printed p-value”\n",
      "Warning message in kpss.test(w[, i]):\n",
      "“p-value greater than printed p-value”\n",
      "Warning message in kpss.test(w[, i]):\n",
      "“p-value greater than printed p-value”\n"
     ]
    }
   ],
   "source": [
    "kpss <- rep(NA,10)\n",
    "for(i in 1:10){\n",
    "    kpss[i] = kpss.test(w[,i])$statistic\n",
    "}"
   ]
  },
  {
   "cell_type": "markdown",
   "id": "2a43486a-36c6-4350-aafe-503f165b296e",
   "metadata": {},
   "source": [
    "## Phillips-Perron"
   ]
  },
  {
   "cell_type": "code",
   "execution_count": 11,
   "id": "dcf31871-a28b-47a6-ab7b-a780c811ad18",
   "metadata": {},
   "outputs": [
    {
     "name": "stdout",
     "output_type": "stream",
     "text": [
      "\n",
      "\tPhillips-Perron Unit Root Test\n",
      "\n",
      "data:  w[, i]\n",
      "Dickey-Fuller = -27.561, Truncation lag parameter = 6, p-value = 0.01\n",
      "\n",
      "\n",
      "\tPhillips-Perron Unit Root Test\n",
      "\n",
      "data:  w[, i]\n",
      "Dickey-Fuller = -26.201, Truncation lag parameter = 6, p-value = 0.01\n",
      "\n",
      "\n",
      "\tPhillips-Perron Unit Root Test\n",
      "\n",
      "data:  w[, i]\n",
      "Dickey-Fuller = -29.85, Truncation lag parameter = 6, p-value = 0.01\n",
      "\n",
      "\n",
      "\tPhillips-Perron Unit Root Test\n",
      "\n",
      "data:  w[, i]\n",
      "Dickey-Fuller = -30.618, Truncation lag parameter = 6, p-value = 0.01\n",
      "\n",
      "\n",
      "\tPhillips-Perron Unit Root Test\n",
      "\n",
      "data:  w[, i]\n",
      "Dickey-Fuller = -31.626, Truncation lag parameter = 6, p-value = 0.01\n",
      "\n",
      "\n",
      "\tPhillips-Perron Unit Root Test\n",
      "\n",
      "data:  w[, i]\n",
      "Dickey-Fuller = -30.662, Truncation lag parameter = 6, p-value = 0.01\n",
      "\n",
      "\n",
      "\tPhillips-Perron Unit Root Test\n",
      "\n",
      "data:  w[, i]\n",
      "Dickey-Fuller = -30.922, Truncation lag parameter = 6, p-value = 0.01\n",
      "\n",
      "\n",
      "\tPhillips-Perron Unit Root Test\n",
      "\n",
      "data:  w[, i]\n",
      "Dickey-Fuller = -31.172, Truncation lag parameter = 6, p-value = 0.01\n",
      "\n",
      "\n",
      "\tPhillips-Perron Unit Root Test\n",
      "\n",
      "data:  w[, i]\n",
      "Dickey-Fuller = -27.406, Truncation lag parameter = 6, p-value = 0.01\n",
      "\n",
      "\n",
      "\tPhillips-Perron Unit Root Test\n",
      "\n",
      "data:  w[, i]\n",
      "Dickey-Fuller = -28.178, Truncation lag parameter = 6, p-value = 0.01\n",
      "\n"
     ]
    }
   ],
   "source": [
    "for(i in 1:10){\n",
    "    print(PP.test(w[,i]))}"
   ]
  },
  {
   "cell_type": "code",
   "execution_count": 12,
   "id": "a77928b9-a50b-47b8-8243-ddbe0014d176",
   "metadata": {},
   "outputs": [],
   "source": [
    "pp <- rep(NA,10)\n",
    "for(i in 1:10){\n",
    "    pp[i] = PP.test(w[,i])$statistic\n",
    "}"
   ]
  },
  {
   "cell_type": "markdown",
   "id": "625132fb-aef1-48d8-806a-899f9dbfbff5",
   "metadata": {},
   "source": [
    "# Serial Correlation tests"
   ]
  },
  {
   "cell_type": "markdown",
   "id": "f472fcf9-cfdc-4901-92d4-c612cc503304",
   "metadata": {},
   "source": [
    "##### Tests (Ljung-Box) for serial correlation for 1,5 and 10 lags are conducted, first for plain log returns and second for the squared returns."
   ]
  },
  {
   "cell_type": "markdown",
   "id": "599910e4-189a-4d94-bf85-efd73edb04b5",
   "metadata": {},
   "source": [
    "## Ljung-Box(1)"
   ]
  },
  {
   "cell_type": "code",
   "execution_count": 13,
   "id": "e916d44b-e1cf-4166-a758-bc1e9c127248",
   "metadata": {},
   "outputs": [
    {
     "name": "stdout",
     "output_type": "stream",
     "text": [
      "\n",
      "\tBox-Ljung test\n",
      "\n",
      "data:  w[, i]\n",
      "X-squared = 1.3997, df = 1, p-value = 0.2368\n",
      "\n",
      "\n",
      "\tBox-Ljung test\n",
      "\n",
      "data:  w[, i]\n",
      "X-squared = 5.4644, df = 1, p-value = 0.01941\n",
      "\n",
      "\n",
      "\tBox-Ljung test\n",
      "\n",
      "data:  w[, i]\n",
      "X-squared = 0.07664, df = 1, p-value = 0.7819\n",
      "\n",
      "\n",
      "\tBox-Ljung test\n",
      "\n",
      "data:  w[, i]\n",
      "X-squared = 0.97001, df = 1, p-value = 0.3247\n",
      "\n",
      "\n",
      "\tBox-Ljung test\n",
      "\n",
      "data:  w[, i]\n",
      "X-squared = 3.2748, df = 1, p-value = 0.07035\n",
      "\n",
      "\n",
      "\tBox-Ljung test\n",
      "\n",
      "data:  w[, i]\n",
      "X-squared = 1.0547, df = 1, p-value = 0.3044\n",
      "\n",
      "\n",
      "\tBox-Ljung test\n",
      "\n",
      "data:  w[, i]\n",
      "X-squared = 1.4408, df = 1, p-value = 0.23\n",
      "\n",
      "\n",
      "\tBox-Ljung test\n",
      "\n",
      "data:  w[, i]\n",
      "X-squared = 1.4711, df = 1, p-value = 0.2252\n",
      "\n",
      "\n",
      "\tBox-Ljung test\n",
      "\n",
      "data:  w[, i]\n",
      "X-squared = 4.7419, df = 1, p-value = 0.02944\n",
      "\n",
      "\n",
      "\tBox-Ljung test\n",
      "\n",
      "data:  w[, i]\n",
      "X-squared = 2.0421, df = 1, p-value = 0.153\n",
      "\n"
     ]
    }
   ],
   "source": [
    "for(i in 1:10){\n",
    "    print(Box.test(x = w[,i],lag = 1,type = \"Ljung-Box\"))\n",
    "}"
   ]
  },
  {
   "cell_type": "code",
   "execution_count": 14,
   "id": "df9c2c49-29fa-4b33-8516-91fbec26a838",
   "metadata": {},
   "outputs": [],
   "source": [
    "lbox1 <- rep(NA,10)\n",
    "for(i in 1:10){\n",
    "    lbox1[i] = Box.test(x = w[,i],lag = 1,type = \"Ljung-Box\")$statistic\n",
    "}"
   ]
  },
  {
   "cell_type": "markdown",
   "id": "2b547d81-df50-4e6d-a7ee-25c2b6ab9899",
   "metadata": {},
   "source": [
    "## Ljung-Box(5)"
   ]
  },
  {
   "cell_type": "code",
   "execution_count": 15,
   "id": "799097d4-527a-491b-b882-8512c95c351e",
   "metadata": {},
   "outputs": [
    {
     "name": "stdout",
     "output_type": "stream",
     "text": [
      "\n",
      "\tBox-Ljung test\n",
      "\n",
      "data:  w[, i]\n",
      "X-squared = 3.4725, df = 5, p-value = 0.6276\n",
      "\n",
      "\n",
      "\tBox-Ljung test\n",
      "\n",
      "data:  w[, i]\n",
      "X-squared = 5.9243, df = 5, p-value = 0.3137\n",
      "\n",
      "\n",
      "\tBox-Ljung test\n",
      "\n",
      "data:  w[, i]\n",
      "X-squared = 1.7668, df = 5, p-value = 0.8804\n",
      "\n",
      "\n",
      "\tBox-Ljung test\n",
      "\n",
      "data:  w[, i]\n",
      "X-squared = 13.106, df = 5, p-value = 0.0224\n",
      "\n",
      "\n",
      "\tBox-Ljung test\n",
      "\n",
      "data:  w[, i]\n",
      "X-squared = 12.739, df = 5, p-value = 0.02596\n",
      "\n",
      "\n",
      "\tBox-Ljung test\n",
      "\n",
      "data:  w[, i]\n",
      "X-squared = 13.513, df = 5, p-value = 0.01902\n",
      "\n",
      "\n",
      "\tBox-Ljung test\n",
      "\n",
      "data:  w[, i]\n",
      "X-squared = 11.889, df = 5, p-value = 0.03635\n",
      "\n",
      "\n",
      "\tBox-Ljung test\n",
      "\n",
      "data:  w[, i]\n",
      "X-squared = 10.859, df = 5, p-value = 0.05426\n",
      "\n",
      "\n",
      "\tBox-Ljung test\n",
      "\n",
      "data:  w[, i]\n",
      "X-squared = 38.195, df = 5, p-value = 3.448e-07\n",
      "\n",
      "\n",
      "\tBox-Ljung test\n",
      "\n",
      "data:  w[, i]\n",
      "X-squared = 27.181, df = 5, p-value = 5.259e-05\n",
      "\n"
     ]
    }
   ],
   "source": [
    "for(i in 1:10){\n",
    "    print(Box.test(x = w[,i],lag = 5,type = \"Ljung-Box\"))\n",
    "}"
   ]
  },
  {
   "cell_type": "code",
   "execution_count": 16,
   "id": "bf48405e-8474-470d-b8fa-a1e8eb8018dd",
   "metadata": {},
   "outputs": [],
   "source": [
    "lbox5 <- rep(NA,10)\n",
    "for(i in 1:10){\n",
    "    lbox5[i] = Box.test(x = w[,i],lag = 5,type = \"Ljung-Box\")$statistic\n",
    "}"
   ]
  },
  {
   "cell_type": "markdown",
   "id": "a41f8443-03d4-48dd-9794-2d7166f982d7",
   "metadata": {},
   "source": [
    "## Ljung-Box(10)"
   ]
  },
  {
   "cell_type": "code",
   "execution_count": 17,
   "id": "dfecc4ac-0fc0-4fc1-b69f-17ad83ba1903",
   "metadata": {},
   "outputs": [
    {
     "name": "stdout",
     "output_type": "stream",
     "text": [
      "\n",
      "\tBox-Ljung test\n",
      "\n",
      "data:  w[, i]\n",
      "X-squared = 9.9781, df = 10, p-value = 0.4424\n",
      "\n",
      "\n",
      "\tBox-Ljung test\n",
      "\n",
      "data:  w[, i]\n",
      "X-squared = 16.659, df = 10, p-value = 0.08227\n",
      "\n",
      "\n",
      "\tBox-Ljung test\n",
      "\n",
      "data:  w[, i]\n",
      "X-squared = 8.056, df = 10, p-value = 0.6234\n",
      "\n",
      "\n",
      "\tBox-Ljung test\n",
      "\n",
      "data:  w[, i]\n",
      "X-squared = 21.378, df = 10, p-value = 0.01861\n",
      "\n",
      "\n",
      "\tBox-Ljung test\n",
      "\n",
      "data:  w[, i]\n",
      "X-squared = 18.497, df = 10, p-value = 0.04714\n",
      "\n",
      "\n",
      "\tBox-Ljung test\n",
      "\n",
      "data:  w[, i]\n",
      "X-squared = 22.019, df = 10, p-value = 0.01501\n",
      "\n",
      "\n",
      "\tBox-Ljung test\n",
      "\n",
      "data:  w[, i]\n",
      "X-squared = 15.571, df = 10, p-value = 0.1126\n",
      "\n",
      "\n",
      "\tBox-Ljung test\n",
      "\n",
      "data:  w[, i]\n",
      "X-squared = 17.976, df = 10, p-value = 0.05537\n",
      "\n",
      "\n",
      "\tBox-Ljung test\n",
      "\n",
      "data:  w[, i]\n",
      "X-squared = 58.772, df = 10, p-value = 6.185e-09\n",
      "\n",
      "\n",
      "\tBox-Ljung test\n",
      "\n",
      "data:  w[, i]\n",
      "X-squared = 41.987, df = 10, p-value = 7.538e-06\n",
      "\n"
     ]
    }
   ],
   "source": [
    "for(i in 1:10){\n",
    "    print(Box.test(x = w[,i],lag = 10,type = \"Ljung-Box\"))\n",
    "}"
   ]
  },
  {
   "cell_type": "code",
   "execution_count": 18,
   "id": "c03a47b0-71b6-479a-95a0-d2a28a7147c8",
   "metadata": {},
   "outputs": [],
   "source": [
    "lbox10 <- rep(NA,10)\n",
    "for(i in 1:10){\n",
    "    lbox10[i] = Box.test(x = w[,i],lag = 10,type = \"Ljung-Box\")$statistic\n",
    "}"
   ]
  },
  {
   "cell_type": "markdown",
   "id": "8a0045ce-903a-44d2-b8ee-34ef12536a1d",
   "metadata": {},
   "source": [
    "## Ljung-Box for squared weekly returns"
   ]
  },
  {
   "cell_type": "markdown",
   "id": "f6bcd633-0458-42be-af37-9f0f72353f96",
   "metadata": {},
   "source": [
    "## LB(1)^2"
   ]
  },
  {
   "cell_type": "code",
   "execution_count": 19,
   "id": "191d20f4-5159-4b28-8e42-6958304af564",
   "metadata": {},
   "outputs": [
    {
     "name": "stdout",
     "output_type": "stream",
     "text": [
      "\n",
      "\tBox-Ljung test\n",
      "\n",
      "data:  w[, i]^2\n",
      "X-squared = 10.573, df = 1, p-value = 0.001148\n",
      "\n",
      "\n",
      "\tBox-Ljung test\n",
      "\n",
      "data:  w[, i]^2\n",
      "X-squared = 22.978, df = 1, p-value = 1.639e-06\n",
      "\n",
      "\n",
      "\tBox-Ljung test\n",
      "\n",
      "data:  w[, i]^2\n",
      "X-squared = 26.02, df = 1, p-value = 3.378e-07\n",
      "\n",
      "\n",
      "\tBox-Ljung test\n",
      "\n",
      "data:  w[, i]^2\n",
      "X-squared = 58.409, df = 1, p-value = 2.132e-14\n",
      "\n",
      "\n",
      "\tBox-Ljung test\n",
      "\n",
      "data:  w[, i]^2\n",
      "X-squared = 0.85732, df = 1, p-value = 0.3545\n",
      "\n",
      "\n",
      "\tBox-Ljung test\n",
      "\n",
      "data:  w[, i]^2\n",
      "X-squared = 60.124, df = 1, p-value = 8.882e-15\n",
      "\n",
      "\n",
      "\tBox-Ljung test\n",
      "\n",
      "data:  w[, i]^2\n",
      "X-squared = 30.114, df = 1, p-value = 4.073e-08\n",
      "\n",
      "\n",
      "\tBox-Ljung test\n",
      "\n",
      "data:  w[, i]^2\n",
      "X-squared = 0.74328, df = 1, p-value = 0.3886\n",
      "\n",
      "\n",
      "\tBox-Ljung test\n",
      "\n",
      "data:  w[, i]^2\n",
      "X-squared = 14.987, df = 1, p-value = 0.0001082\n",
      "\n",
      "\n",
      "\tBox-Ljung test\n",
      "\n",
      "data:  w[, i]^2\n",
      "X-squared = 12.092, df = 1, p-value = 0.0005064\n",
      "\n"
     ]
    }
   ],
   "source": [
    "for(i in 1:10){\n",
    "    print(Box.test(x = w[,i]^2,lag = 1,type = \"Ljung-Box\"))\n",
    "}"
   ]
  },
  {
   "cell_type": "code",
   "execution_count": 20,
   "id": "9885e7ab-79f4-4fb1-837a-5b892ffd4c2c",
   "metadata": {},
   "outputs": [],
   "source": [
    "lboxsq1 <- rep(NA,10)\n",
    "for(i in 1:10){\n",
    "    lboxsq1[i] = Box.test(x = w[,i]^2,lag = 1,type = \"Ljung-Box\")$statistic\n",
    "}"
   ]
  },
  {
   "cell_type": "markdown",
   "id": "ba4306e6-7327-4eff-b2c5-bc097c28466f",
   "metadata": {},
   "source": [
    "## LB(5)^2"
   ]
  },
  {
   "cell_type": "code",
   "execution_count": 21,
   "id": "8f6f6833-aafa-4a13-b062-2d89027cc6d5",
   "metadata": {},
   "outputs": [
    {
     "name": "stdout",
     "output_type": "stream",
     "text": [
      "\n",
      "\tBox-Ljung test\n",
      "\n",
      "data:  w[, i]^2\n",
      "X-squared = 97.343, df = 5, p-value < 2.2e-16\n",
      "\n",
      "\n",
      "\tBox-Ljung test\n",
      "\n",
      "data:  w[, i]^2\n",
      "X-squared = 174.83, df = 5, p-value < 2.2e-16\n",
      "\n",
      "\n",
      "\tBox-Ljung test\n",
      "\n",
      "data:  w[, i]^2\n",
      "X-squared = 68.582, df = 5, p-value = 2.022e-13\n",
      "\n",
      "\n",
      "\tBox-Ljung test\n",
      "\n",
      "data:  w[, i]^2\n",
      "X-squared = 199.2, df = 5, p-value < 2.2e-16\n",
      "\n",
      "\n",
      "\tBox-Ljung test\n",
      "\n",
      "data:  w[, i]^2\n",
      "X-squared = 6.6568, df = 5, p-value = 0.2474\n",
      "\n",
      "\n",
      "\tBox-Ljung test\n",
      "\n",
      "data:  w[, i]^2\n",
      "X-squared = 201.53, df = 5, p-value < 2.2e-16\n",
      "\n",
      "\n",
      "\tBox-Ljung test\n",
      "\n",
      "data:  w[, i]^2\n",
      "X-squared = 344.54, df = 5, p-value < 2.2e-16\n",
      "\n",
      "\n",
      "\tBox-Ljung test\n",
      "\n",
      "data:  w[, i]^2\n",
      "X-squared = 12.571, df = 5, p-value = 0.02775\n",
      "\n",
      "\n",
      "\tBox-Ljung test\n",
      "\n",
      "data:  w[, i]^2\n",
      "X-squared = 29.233, df = 5, p-value = 2.087e-05\n",
      "\n",
      "\n",
      "\tBox-Ljung test\n",
      "\n",
      "data:  w[, i]^2\n",
      "X-squared = 30.938, df = 5, p-value = 9.635e-06\n",
      "\n"
     ]
    }
   ],
   "source": [
    "for(i in 1:10){\n",
    "    print(Box.test(x = w[,i]^2,lag = 5,type = \"Ljung-Box\"))\n",
    "}"
   ]
  },
  {
   "cell_type": "code",
   "execution_count": 22,
   "id": "bca4cb7a-13c4-442a-a644-579b6dced637",
   "metadata": {},
   "outputs": [],
   "source": [
    "lboxsq5 <- rep(NA,10)\n",
    "for(i in 1:10){\n",
    "    lboxsq5[i] = Box.test(x = w[,i]^2,lag = 5,type = \"Ljung-Box\")$statistic\n",
    "}"
   ]
  },
  {
   "cell_type": "markdown",
   "id": "b310dfcb-42ec-42d0-8d27-e865eb516993",
   "metadata": {},
   "source": [
    "## LB(10)^2"
   ]
  },
  {
   "cell_type": "code",
   "execution_count": 23,
   "id": "d674b1df-92ae-4756-aa57-83a1fb2d6aab",
   "metadata": {},
   "outputs": [
    {
     "name": "stdout",
     "output_type": "stream",
     "text": [
      "\n",
      "\tBox-Ljung test\n",
      "\n",
      "data:  w[, i]^2\n",
      "X-squared = 182.12, df = 10, p-value < 2.2e-16\n",
      "\n",
      "\n",
      "\tBox-Ljung test\n",
      "\n",
      "data:  w[, i]^2\n",
      "X-squared = 321.14, df = 10, p-value < 2.2e-16\n",
      "\n",
      "\n",
      "\tBox-Ljung test\n",
      "\n",
      "data:  w[, i]^2\n",
      "X-squared = 161.57, df = 10, p-value < 2.2e-16\n",
      "\n",
      "\n",
      "\tBox-Ljung test\n",
      "\n",
      "data:  w[, i]^2\n",
      "X-squared = 275.98, df = 10, p-value < 2.2e-16\n",
      "\n",
      "\n",
      "\tBox-Ljung test\n",
      "\n",
      "data:  w[, i]^2\n",
      "X-squared = 8.7204, df = 10, p-value = 0.5588\n",
      "\n",
      "\n",
      "\tBox-Ljung test\n",
      "\n",
      "data:  w[, i]^2\n",
      "X-squared = 280.53, df = 10, p-value < 2.2e-16\n",
      "\n",
      "\n",
      "\tBox-Ljung test\n",
      "\n",
      "data:  w[, i]^2\n",
      "X-squared = 478.81, df = 10, p-value < 2.2e-16\n",
      "\n",
      "\n",
      "\tBox-Ljung test\n",
      "\n",
      "data:  w[, i]^2\n",
      "X-squared = 14.75, df = 10, p-value = 0.1414\n",
      "\n",
      "\n",
      "\tBox-Ljung test\n",
      "\n",
      "data:  w[, i]^2\n",
      "X-squared = 99.35, df = 10, p-value < 2.2e-16\n",
      "\n",
      "\n",
      "\tBox-Ljung test\n",
      "\n",
      "data:  w[, i]^2\n",
      "X-squared = 107.68, df = 10, p-value < 2.2e-16\n",
      "\n"
     ]
    }
   ],
   "source": [
    "for(i in 1:10){\n",
    "    print(Box.test(x = w[,i]^2,lag = 10,type = \"Ljung-Box\"))\n",
    "}"
   ]
  },
  {
   "cell_type": "code",
   "execution_count": 24,
   "id": "4ed85a02-ec2d-4057-8b17-b2352628e259",
   "metadata": {},
   "outputs": [],
   "source": [
    "lboxsq10 <- rep(NA,10)\n",
    "for(i in 1:10){\n",
    "    lboxsq10[i] = Box.test(x = w[,i]^2,lag = 10,type = \"Ljung-Box\")$statistic\n",
    "}"
   ]
  },
  {
   "cell_type": "markdown",
   "id": "342945e7-50a2-4525-a1f8-8258d0d53c6b",
   "metadata": {},
   "source": [
    "## ARCH - LM"
   ]
  },
  {
   "cell_type": "code",
   "execution_count": 25,
   "id": "d0d62398-f477-49a1-8ec6-ef9cade8116b",
   "metadata": {},
   "outputs": [
    {
     "name": "stdout",
     "output_type": "stream",
     "text": [
      "\n",
      "\tLagrange Multiplier test\n",
      "\n",
      "data:  y\n",
      "LM = 1848, df = 1, p-value < 2.2e-16\n",
      "alternative hypothesis: y is heteroscedastic\n",
      "\n",
      "\n",
      "\tLagrange Multiplier test\n",
      "\n",
      "data:  y\n",
      "LM = 2027, df = 1, p-value < 2.2e-16\n",
      "alternative hypothesis: y is heteroscedastic\n",
      "\n",
      "\n",
      "\tLagrange Multiplier test\n",
      "\n",
      "data:  y\n",
      "LM = 1086.8, df = 1, p-value < 2.2e-16\n",
      "alternative hypothesis: y is heteroscedastic\n",
      "\n",
      "\n",
      "\tLagrange Multiplier test\n",
      "\n",
      "data:  y\n",
      "LM = 1424.4, df = 1, p-value < 2.2e-16\n",
      "alternative hypothesis: y is heteroscedastic\n",
      "\n",
      "\n",
      "\tLagrange Multiplier test\n",
      "\n",
      "data:  y\n",
      "LM = 10119, df = 1, p-value < 2.2e-16\n",
      "alternative hypothesis: y is heteroscedastic\n",
      "\n",
      "\n",
      "\tLagrange Multiplier test\n",
      "\n",
      "data:  y\n",
      "LM = 1416.9, df = 1, p-value < 2.2e-16\n",
      "alternative hypothesis: y is heteroscedastic\n",
      "\n",
      "\n",
      "\tLagrange Multiplier test\n",
      "\n",
      "data:  y\n",
      "LM = 1759.5, df = 1, p-value < 2.2e-16\n",
      "alternative hypothesis: y is heteroscedastic\n",
      "\n",
      "\n",
      "\tLagrange Multiplier test\n",
      "\n",
      "data:  y\n",
      "LM = 9322.5, df = 1, p-value < 2.2e-16\n",
      "alternative hypothesis: y is heteroscedastic\n",
      "\n",
      "\n",
      "\tLagrange Multiplier test\n",
      "\n",
      "data:  y\n",
      "LM = 14361, df = 1, p-value < 2.2e-16\n",
      "alternative hypothesis: y is heteroscedastic\n",
      "\n",
      "\n",
      "\tLagrange Multiplier test\n",
      "\n",
      "data:  y\n",
      "LM = 11907, df = 1, p-value < 2.2e-16\n",
      "alternative hypothesis: y is heteroscedastic\n",
      "\n"
     ]
    }
   ],
   "source": [
    "for(i in 1:10){\n",
    "    print(arch.test(w[,i],arch = c(\"Lm\")))}"
   ]
  },
  {
   "cell_type": "code",
   "execution_count": 26,
   "id": "142ff715-b906-4605-a543-92eeecad2449",
   "metadata": {},
   "outputs": [],
   "source": [
    "ArchLm <- rep(NA,10)\n",
    "for(i in 1:10){\n",
    "    ArchLm[i] = arch.test((w[,i]),arch = c(\"Lm\"),)$statistic\n",
    "}"
   ]
  },
  {
   "cell_type": "markdown",
   "id": "557b6d70-f114-475d-ae0d-c0783eb0ff90",
   "metadata": {},
   "source": [
    "## Jarque Bera Test"
   ]
  },
  {
   "cell_type": "code",
   "execution_count": 27,
   "id": "14b0528c-0816-469f-a6cc-87cb40573866",
   "metadata": {},
   "outputs": [
    {
     "name": "stdout",
     "output_type": "stream",
     "text": [
      "\n",
      "\tJarque Bera Test\n",
      "\n",
      "data:  w[, i]\n",
      "X-squared = 569.45, df = 2, p-value < 2.2e-16\n",
      "\n",
      "\n",
      "\tJarque Bera Test\n",
      "\n",
      "data:  w[, i]\n",
      "X-squared = 1227.8, df = 2, p-value < 2.2e-16\n",
      "\n",
      "\n",
      "\tJarque Bera Test\n",
      "\n",
      "data:  w[, i]\n",
      "X-squared = 136.86, df = 2, p-value < 2.2e-16\n",
      "\n",
      "\n",
      "\tJarque Bera Test\n",
      "\n",
      "data:  w[, i]\n",
      "X-squared = 586.94, df = 2, p-value < 2.2e-16\n",
      "\n",
      "\n",
      "\tJarque Bera Test\n",
      "\n",
      "data:  w[, i]\n",
      "X-squared = 19040, df = 2, p-value < 2.2e-16\n",
      "\n",
      "\n",
      "\tJarque Bera Test\n",
      "\n",
      "data:  w[, i]\n",
      "X-squared = 596.63, df = 2, p-value < 2.2e-16\n",
      "\n",
      "\n",
      "\tJarque Bera Test\n",
      "\n",
      "data:  w[, i]\n",
      "X-squared = 614.07, df = 2, p-value < 2.2e-16\n",
      "\n",
      "\n",
      "\tJarque Bera Test\n",
      "\n",
      "data:  w[, i]\n",
      "X-squared = 15858, df = 2, p-value < 2.2e-16\n",
      "\n",
      "\n",
      "\tJarque Bera Test\n",
      "\n",
      "data:  w[, i]\n",
      "X-squared = 254802, df = 2, p-value < 2.2e-16\n",
      "\n",
      "\n",
      "\tJarque Bera Test\n",
      "\n",
      "data:  w[, i]\n",
      "X-squared = 78023, df = 2, p-value < 2.2e-16\n",
      "\n"
     ]
    }
   ],
   "source": [
    "for(i in 1:10){\n",
    "    print(jarque.bera.test(w[,i]))}"
   ]
  },
  {
   "cell_type": "code",
   "execution_count": 28,
   "id": "27f2840d-0b75-436c-9f52-46044330cb27",
   "metadata": {},
   "outputs": [],
   "source": [
    "jb <- rep(NA,10)\n",
    "for(i in 1:10){\n",
    "    jb[i] = jarque.bera.test(w[,i])$statistic\n",
    "}"
   ]
  },
  {
   "cell_type": "markdown",
   "id": "41058419-6360-4a0a-ba42-14f27463eef6",
   "metadata": {},
   "source": [
    "#  Tests Table for serial correlation tests and ARCH-LM test (Table 5.7)"
   ]
  },
  {
   "cell_type": "code",
   "execution_count": 29,
   "id": "e921cb1d-5f85-4339-accf-4dcd9f6edcca",
   "metadata": {},
   "outputs": [],
   "source": [
    "ACTests <- data.frame(Variable = c(\n",
    "'US Cocoa','London Cocoa','EURUSD','GBPUSD','CHFUSD','USDGBP','EURGBP','CHFGBP','GHSUSD','GHSGBP'),`Ljung-Box(1)` = lbox1,\n",
    "                    `Ljung-Box(5)` = lbox5,`Ljung-Box(10)` = lbox10, `Ljung-Box^2(1)` = lboxsq1,`Ljung-Box^2(5)` = lboxsq5,\n",
    "                    `Ljung-Box^2(10)` = lboxsq10,`ARCH LM` = ArchLm)"
   ]
  },
  {
   "cell_type": "code",
   "execution_count": 30,
   "id": "c71bbb2d-40ba-45f7-87fd-ebaef50b3c06",
   "metadata": {},
   "outputs": [
    {
     "data": {
      "text/html": [
       "<table class=\"dataframe\">\n",
       "<caption>A data.frame: 10 × 8</caption>\n",
       "<thead>\n",
       "\t<tr><th scope=col>Variable</th><th scope=col>Ljung.Box.1.</th><th scope=col>Ljung.Box.5.</th><th scope=col>Ljung.Box.10.</th><th scope=col>Ljung.Box.2.1.</th><th scope=col>Ljung.Box.2.5.</th><th scope=col>Ljung.Box.2.10.</th><th scope=col>ARCH.LM</th></tr>\n",
       "\t<tr><th scope=col>&lt;chr&gt;</th><th scope=col>&lt;dbl&gt;</th><th scope=col>&lt;dbl&gt;</th><th scope=col>&lt;dbl&gt;</th><th scope=col>&lt;dbl&gt;</th><th scope=col>&lt;dbl&gt;</th><th scope=col>&lt;dbl&gt;</th><th scope=col>&lt;dbl&gt;</th></tr>\n",
       "</thead>\n",
       "<tbody>\n",
       "\t<tr><td>US Cocoa    </td><td>1.39966305</td><td> 3.472461</td><td> 9.978143</td><td>10.5725257</td><td> 97.343129</td><td>182.12418</td><td> 1847.980</td></tr>\n",
       "\t<tr><td>London Cocoa</td><td>5.46436126</td><td> 5.924330</td><td>16.658578</td><td>22.9775731</td><td>174.834639</td><td>321.14256</td><td> 2026.953</td></tr>\n",
       "\t<tr><td>EURUSD      </td><td>0.07663996</td><td> 1.766833</td><td> 8.056003</td><td>26.0204779</td><td> 68.581885</td><td>161.57434</td><td> 1086.763</td></tr>\n",
       "\t<tr><td>GBPUSD      </td><td>0.97000820</td><td>13.106298</td><td>21.377689</td><td>58.4092032</td><td>199.195723</td><td>275.97701</td><td> 1424.370</td></tr>\n",
       "\t<tr><td>CHFUSD      </td><td>3.27478845</td><td>12.738613</td><td>18.496651</td><td> 0.8573192</td><td>  6.656782</td><td>  8.72039</td><td>10119.036</td></tr>\n",
       "\t<tr><td>USDGBP      </td><td>1.05466523</td><td>13.512788</td><td>22.018978</td><td>60.1240290</td><td>201.532601</td><td>280.52717</td><td> 1416.932</td></tr>\n",
       "\t<tr><td>EURGBP      </td><td>1.44082589</td><td>11.888597</td><td>15.571364</td><td>30.1141602</td><td>344.538700</td><td>478.80890</td><td> 1759.520</td></tr>\n",
       "\t<tr><td>CHFGBP      </td><td>1.47105870</td><td>10.858624</td><td>17.976114</td><td> 0.7432844</td><td> 12.570612</td><td> 14.74996</td><td> 9322.515</td></tr>\n",
       "\t<tr><td>GHSUSD      </td><td>4.74189419</td><td>38.194921</td><td>58.771605</td><td>14.9871556</td><td> 29.232651</td><td> 99.35001</td><td>14360.996</td></tr>\n",
       "\t<tr><td>GHSGBP      </td><td>2.04207626</td><td>27.181035</td><td>41.987192</td><td>12.0917956</td><td> 30.938050</td><td>107.67721</td><td>11907.079</td></tr>\n",
       "</tbody>\n",
       "</table>\n"
      ],
      "text/latex": [
       "A data.frame: 10 × 8\n",
       "\\begin{tabular}{llllllll}\n",
       " Variable & Ljung.Box.1. & Ljung.Box.5. & Ljung.Box.10. & Ljung.Box.2.1. & Ljung.Box.2.5. & Ljung.Box.2.10. & ARCH.LM\\\\\n",
       " <chr> & <dbl> & <dbl> & <dbl> & <dbl> & <dbl> & <dbl> & <dbl>\\\\\n",
       "\\hline\n",
       "\t US Cocoa     & 1.39966305 &  3.472461 &  9.978143 & 10.5725257 &  97.343129 & 182.12418 &  1847.980\\\\\n",
       "\t London Cocoa & 5.46436126 &  5.924330 & 16.658578 & 22.9775731 & 174.834639 & 321.14256 &  2026.953\\\\\n",
       "\t EURUSD       & 0.07663996 &  1.766833 &  8.056003 & 26.0204779 &  68.581885 & 161.57434 &  1086.763\\\\\n",
       "\t GBPUSD       & 0.97000820 & 13.106298 & 21.377689 & 58.4092032 & 199.195723 & 275.97701 &  1424.370\\\\\n",
       "\t CHFUSD       & 3.27478845 & 12.738613 & 18.496651 &  0.8573192 &   6.656782 &   8.72039 & 10119.036\\\\\n",
       "\t USDGBP       & 1.05466523 & 13.512788 & 22.018978 & 60.1240290 & 201.532601 & 280.52717 &  1416.932\\\\\n",
       "\t EURGBP       & 1.44082589 & 11.888597 & 15.571364 & 30.1141602 & 344.538700 & 478.80890 &  1759.520\\\\\n",
       "\t CHFGBP       & 1.47105870 & 10.858624 & 17.976114 &  0.7432844 &  12.570612 &  14.74996 &  9322.515\\\\\n",
       "\t GHSUSD       & 4.74189419 & 38.194921 & 58.771605 & 14.9871556 &  29.232651 &  99.35001 & 14360.996\\\\\n",
       "\t GHSGBP       & 2.04207626 & 27.181035 & 41.987192 & 12.0917956 &  30.938050 & 107.67721 & 11907.079\\\\\n",
       "\\end{tabular}\n"
      ],
      "text/markdown": [
       "\n",
       "A data.frame: 10 × 8\n",
       "\n",
       "| Variable &lt;chr&gt; | Ljung.Box.1. &lt;dbl&gt; | Ljung.Box.5. &lt;dbl&gt; | Ljung.Box.10. &lt;dbl&gt; | Ljung.Box.2.1. &lt;dbl&gt; | Ljung.Box.2.5. &lt;dbl&gt; | Ljung.Box.2.10. &lt;dbl&gt; | ARCH.LM &lt;dbl&gt; |\n",
       "|---|---|---|---|---|---|---|---|\n",
       "| US Cocoa     | 1.39966305 |  3.472461 |  9.978143 | 10.5725257 |  97.343129 | 182.12418 |  1847.980 |\n",
       "| London Cocoa | 5.46436126 |  5.924330 | 16.658578 | 22.9775731 | 174.834639 | 321.14256 |  2026.953 |\n",
       "| EURUSD       | 0.07663996 |  1.766833 |  8.056003 | 26.0204779 |  68.581885 | 161.57434 |  1086.763 |\n",
       "| GBPUSD       | 0.97000820 | 13.106298 | 21.377689 | 58.4092032 | 199.195723 | 275.97701 |  1424.370 |\n",
       "| CHFUSD       | 3.27478845 | 12.738613 | 18.496651 |  0.8573192 |   6.656782 |   8.72039 | 10119.036 |\n",
       "| USDGBP       | 1.05466523 | 13.512788 | 22.018978 | 60.1240290 | 201.532601 | 280.52717 |  1416.932 |\n",
       "| EURGBP       | 1.44082589 | 11.888597 | 15.571364 | 30.1141602 | 344.538700 | 478.80890 |  1759.520 |\n",
       "| CHFGBP       | 1.47105870 | 10.858624 | 17.976114 |  0.7432844 |  12.570612 |  14.74996 |  9322.515 |\n",
       "| GHSUSD       | 4.74189419 | 38.194921 | 58.771605 | 14.9871556 |  29.232651 |  99.35001 | 14360.996 |\n",
       "| GHSGBP       | 2.04207626 | 27.181035 | 41.987192 | 12.0917956 |  30.938050 | 107.67721 | 11907.079 |\n",
       "\n"
      ],
      "text/plain": [
       "   Variable     Ljung.Box.1. Ljung.Box.5. Ljung.Box.10. Ljung.Box.2.1.\n",
       "1  US Cocoa     1.39966305    3.472461     9.978143     10.5725257    \n",
       "2  London Cocoa 5.46436126    5.924330    16.658578     22.9775731    \n",
       "3  EURUSD       0.07663996    1.766833     8.056003     26.0204779    \n",
       "4  GBPUSD       0.97000820   13.106298    21.377689     58.4092032    \n",
       "5  CHFUSD       3.27478845   12.738613    18.496651      0.8573192    \n",
       "6  USDGBP       1.05466523   13.512788    22.018978     60.1240290    \n",
       "7  EURGBP       1.44082589   11.888597    15.571364     30.1141602    \n",
       "8  CHFGBP       1.47105870   10.858624    17.976114      0.7432844    \n",
       "9  GHSUSD       4.74189419   38.194921    58.771605     14.9871556    \n",
       "10 GHSGBP       2.04207626   27.181035    41.987192     12.0917956    \n",
       "   Ljung.Box.2.5. Ljung.Box.2.10. ARCH.LM  \n",
       "1   97.343129     182.12418        1847.980\n",
       "2  174.834639     321.14256        2026.953\n",
       "3   68.581885     161.57434        1086.763\n",
       "4  199.195723     275.97701        1424.370\n",
       "5    6.656782       8.72039       10119.036\n",
       "6  201.532601     280.52717        1416.932\n",
       "7  344.538700     478.80890        1759.520\n",
       "8   12.570612      14.74996        9322.515\n",
       "9   29.232651      99.35001       14360.996\n",
       "10  30.938050     107.67721       11907.079"
      ]
     },
     "metadata": {},
     "output_type": "display_data"
    }
   ],
   "source": [
    "ACTests"
   ]
  },
  {
   "cell_type": "markdown",
   "id": "bfff32c6-5f7c-4b44-b18b-d542ac10f05c",
   "metadata": {},
   "source": [
    "# Table with unit root tests and Jarque-Bera test (Table 5.8)"
   ]
  },
  {
   "cell_type": "code",
   "execution_count": 31,
   "id": "dfaec605-7841-420f-ae55-79816ddef996",
   "metadata": {},
   "outputs": [],
   "source": [
    "URTests <- data.frame(Variable = c(\n",
    "'US Cocoa','London Cocoa','EURUSD','GBPUSD','CHFUSD','USDGBP','EURGBP','CHFGBP','GHSUSD','GHSGBP'),`Phillip-Peron` = pp,KPSS = kpss,ADF = adf,JB = jb)"
   ]
  },
  {
   "cell_type": "code",
   "execution_count": 32,
   "id": "d7d831c9-8664-416a-a886-3b0ce7ed5f0f",
   "metadata": {},
   "outputs": [
    {
     "data": {
      "text/html": [
       "<table class=\"dataframe\">\n",
       "<caption>A data.frame: 10 × 5</caption>\n",
       "<thead>\n",
       "\t<tr><th scope=col>Variable</th><th scope=col>Phillip.Peron</th><th scope=col>KPSS</th><th scope=col>ADF</th><th scope=col>JB</th></tr>\n",
       "\t<tr><th scope=col>&lt;chr&gt;</th><th scope=col>&lt;dbl&gt;</th><th scope=col>&lt;dbl&gt;</th><th scope=col>&lt;dbl&gt;</th><th scope=col>&lt;dbl&gt;</th></tr>\n",
       "</thead>\n",
       "<tbody>\n",
       "\t<tr><td>US Cocoa    </td><td>-27.56134</td><td>0.27886265</td><td> -8.755564</td><td>   569.4481</td></tr>\n",
       "\t<tr><td>London Cocoa</td><td>-26.20136</td><td>0.33959806</td><td> -8.090190</td><td>  1227.8296</td></tr>\n",
       "\t<tr><td>EURUSD      </td><td>-29.84966</td><td>0.03004161</td><td> -9.762928</td><td>   136.8647</td></tr>\n",
       "\t<tr><td>GBPUSD      </td><td>-30.61774</td><td>0.08840570</td><td> -8.515232</td><td>   586.9438</td></tr>\n",
       "\t<tr><td>CHFUSD      </td><td>-31.62577</td><td>0.08303302</td><td>-10.235230</td><td> 19040.4719</td></tr>\n",
       "\t<tr><td>USDGBP      </td><td>-30.66211</td><td>0.08829986</td><td> -8.512710</td><td>   596.6323</td></tr>\n",
       "\t<tr><td>EURGBP      </td><td>-30.92199</td><td>0.14985173</td><td>-10.334789</td><td>   614.0749</td></tr>\n",
       "\t<tr><td>CHFGBP      </td><td>-31.17201</td><td>0.25850232</td><td> -9.480520</td><td> 15858.0868</td></tr>\n",
       "\t<tr><td>GHSUSD      </td><td>-27.40559</td><td>0.05892312</td><td>-10.702426</td><td>254802.0294</td></tr>\n",
       "\t<tr><td>GHSGBP      </td><td>-28.17817</td><td>0.08606354</td><td>-10.805099</td><td> 78023.1327</td></tr>\n",
       "</tbody>\n",
       "</table>\n"
      ],
      "text/latex": [
       "A data.frame: 10 × 5\n",
       "\\begin{tabular}{lllll}\n",
       " Variable & Phillip.Peron & KPSS & ADF & JB\\\\\n",
       " <chr> & <dbl> & <dbl> & <dbl> & <dbl>\\\\\n",
       "\\hline\n",
       "\t US Cocoa     & -27.56134 & 0.27886265 &  -8.755564 &    569.4481\\\\\n",
       "\t London Cocoa & -26.20136 & 0.33959806 &  -8.090190 &   1227.8296\\\\\n",
       "\t EURUSD       & -29.84966 & 0.03004161 &  -9.762928 &    136.8647\\\\\n",
       "\t GBPUSD       & -30.61774 & 0.08840570 &  -8.515232 &    586.9438\\\\\n",
       "\t CHFUSD       & -31.62577 & 0.08303302 & -10.235230 &  19040.4719\\\\\n",
       "\t USDGBP       & -30.66211 & 0.08829986 &  -8.512710 &    596.6323\\\\\n",
       "\t EURGBP       & -30.92199 & 0.14985173 & -10.334789 &    614.0749\\\\\n",
       "\t CHFGBP       & -31.17201 & 0.25850232 &  -9.480520 &  15858.0868\\\\\n",
       "\t GHSUSD       & -27.40559 & 0.05892312 & -10.702426 & 254802.0294\\\\\n",
       "\t GHSGBP       & -28.17817 & 0.08606354 & -10.805099 &  78023.1327\\\\\n",
       "\\end{tabular}\n"
      ],
      "text/markdown": [
       "\n",
       "A data.frame: 10 × 5\n",
       "\n",
       "| Variable &lt;chr&gt; | Phillip.Peron &lt;dbl&gt; | KPSS &lt;dbl&gt; | ADF &lt;dbl&gt; | JB &lt;dbl&gt; |\n",
       "|---|---|---|---|---|\n",
       "| US Cocoa     | -27.56134 | 0.27886265 |  -8.755564 |    569.4481 |\n",
       "| London Cocoa | -26.20136 | 0.33959806 |  -8.090190 |   1227.8296 |\n",
       "| EURUSD       | -29.84966 | 0.03004161 |  -9.762928 |    136.8647 |\n",
       "| GBPUSD       | -30.61774 | 0.08840570 |  -8.515232 |    586.9438 |\n",
       "| CHFUSD       | -31.62577 | 0.08303302 | -10.235230 |  19040.4719 |\n",
       "| USDGBP       | -30.66211 | 0.08829986 |  -8.512710 |    596.6323 |\n",
       "| EURGBP       | -30.92199 | 0.14985173 | -10.334789 |    614.0749 |\n",
       "| CHFGBP       | -31.17201 | 0.25850232 |  -9.480520 |  15858.0868 |\n",
       "| GHSUSD       | -27.40559 | 0.05892312 | -10.702426 | 254802.0294 |\n",
       "| GHSGBP       | -28.17817 | 0.08606354 | -10.805099 |  78023.1327 |\n",
       "\n"
      ],
      "text/plain": [
       "   Variable     Phillip.Peron KPSS       ADF        JB         \n",
       "1  US Cocoa     -27.56134     0.27886265  -8.755564    569.4481\n",
       "2  London Cocoa -26.20136     0.33959806  -8.090190   1227.8296\n",
       "3  EURUSD       -29.84966     0.03004161  -9.762928    136.8647\n",
       "4  GBPUSD       -30.61774     0.08840570  -8.515232    586.9438\n",
       "5  CHFUSD       -31.62577     0.08303302 -10.235230  19040.4719\n",
       "6  USDGBP       -30.66211     0.08829986  -8.512710    596.6323\n",
       "7  EURGBP       -30.92199     0.14985173 -10.334789    614.0749\n",
       "8  CHFGBP       -31.17201     0.25850232  -9.480520  15858.0868\n",
       "9  GHSUSD       -27.40559     0.05892312 -10.702426 254802.0294\n",
       "10 GHSGBP       -28.17817     0.08606354 -10.805099  78023.1327"
      ]
     },
     "metadata": {},
     "output_type": "display_data"
    }
   ],
   "source": [
    "URTests"
   ]
  },
  {
   "cell_type": "markdown",
   "id": "fa2cb241-1f18-4ba7-8024-09f268d86ff7",
   "metadata": {},
   "source": [
    "# Correlation matrix for weekly returns (Table 5.4)"
   ]
  },
  {
   "cell_type": "code",
   "execution_count": 33,
   "id": "f191c021-058b-40ff-b731-10249a394d50",
   "metadata": {},
   "outputs": [],
   "source": [
    "corstarsl <- function(x){ \n",
    "  require(Hmisc) \n",
    "x <- as.matrix(x) \n",
    "R <- rcorr(x)$r \n",
    "p <- rcorr(x)$P \n",
    "## define notions for significance levels; spacing is important.\n",
    "mystars <- ifelse(p < .001, \"***\", ifelse(p < .01, \"** \", ifelse(p < .05, \"* \", \" \")))\n",
    "## trunctuate the matrix that holds the correlations to two decimal\n",
    "R <- format(round(cbind(rep(-1.11, ncol(x)), R), 2))[,-1] \n",
    "## build a new matrix that includes the correlations with their apropriate stars \n",
    "Rnew <- matrix(paste(R, mystars, sep=\"\"), ncol=ncol(x)) \n",
    "  diag(Rnew) <- paste(diag(R), \" \", sep=\"\") \n",
    "  rownames(Rnew) <- colnames(x) \n",
    "  colnames(Rnew) <- paste(colnames(x), \"\", sep=\"\") \n",
    "## remove upper triangle\n",
    "Rnew <- as.matrix(Rnew)\n",
    "Rnew[upper.tri(Rnew, diag = TRUE)] <- \"\"\n",
    "Rnew <- as.data.frame(Rnew) \n",
    "## remove last column and return the matrix (which is now a data frame)\n",
    "Rnew <- cbind(Rnew[1:length(Rnew)-1])\n",
    "return(Rnew) \n",
    "}"
   ]
  },
  {
   "cell_type": "code",
   "execution_count": 34,
   "id": "b2423931-78d5-42b9-b777-55fa0d23c740",
   "metadata": {},
   "outputs": [
    {
     "name": "stderr",
     "output_type": "stream",
     "text": [
      "Loading required package: Hmisc\n",
      "\n",
      "\n",
      "Attaching package: ‘Hmisc’\n",
      "\n",
      "\n",
      "The following objects are masked from ‘package:base’:\n",
      "\n",
      "    format.pval, units\n",
      "\n",
      "\n"
     ]
    },
    {
     "name": "stdout",
     "output_type": "stream",
     "text": [
      "\n",
      "% Table created by stargazer v.5.2.3 by Marek Hlavac, Social Policy Institute. E-mail: marek.hlavac at gmail.com\n",
      "% Date and time: Thu, Jul 18, 2024 - 14:28:15\n",
      "\\begin{table}[!htbp] \\centering \n",
      "  \\caption{} \n",
      "  \\label{} \n",
      "\\begin{tabular}{@{\\extracolsep{5pt}} cccccccccc} \n",
      "\\\\[-1.8ex]\\hline \n",
      "\\hline \\\\[-1.8ex] \n",
      " & US Cocoa & London Cocoa & EURUSD & GBPUSD & CHFUSD & USDGBP & EURGBP & CHFGBP & GHSUSD \\\\ \n",
      "\\hline \\\\[-1.8ex] \n",
      "US Cocoa &  &  &  &  &  &  &  &  &  \\\\ \n",
      "London Cocoa &  0.90\\textasteriskcentered \\textasteriskcentered \\textasteriskcentered  &  &  &  &  &  &  &  &  \\\\ \n",
      "EURUSD &  0.29\\textasteriskcentered \\textasteriskcentered \\textasteriskcentered  &  0.08\\textasteriskcentered   &  &  &  &  &  &  &  \\\\ \n",
      "GBPUSD &  0.27\\textasteriskcentered \\textasteriskcentered \\textasteriskcentered  & -0.05  &  0.60\\textasteriskcentered \\textasteriskcentered \\textasteriskcentered  &  &  &  &  &  &  \\\\ \n",
      "CHFUSD &  0.19\\textasteriskcentered \\textasteriskcentered \\textasteriskcentered  &  0.03  &  0.70\\textasteriskcentered \\textasteriskcentered \\textasteriskcentered  &  0.45\\textasteriskcentered \\textasteriskcentered \\textasteriskcentered  &  &  &  &  &  \\\\ \n",
      "USDGBP & -0.27\\textasteriskcentered \\textasteriskcentered \\textasteriskcentered  &  0.05  & -0.60\\textasteriskcentered \\textasteriskcentered \\textasteriskcentered  & -1.00\\textasteriskcentered \\textasteriskcentered \\textasteriskcentered  & -0.45\\textasteriskcentered \\textasteriskcentered \\textasteriskcentered  &  &  &  &  \\\\ \n",
      "EURGBP &  0.01  &  0.15\\textasteriskcentered \\textasteriskcentered \\textasteriskcentered  &  0.39\\textasteriskcentered \\textasteriskcentered \\textasteriskcentered  & -0.50\\textasteriskcentered \\textasteriskcentered \\textasteriskcentered  &  0.24\\textasteriskcentered \\textasteriskcentered \\textasteriskcentered  &  0.50\\textasteriskcentered \\textasteriskcentered \\textasteriskcentered  &  &  &  \\\\ \n",
      "CHFGBP & -0.05  &  0.08\\textasteriskcentered   &  0.14\\textasteriskcentered \\textasteriskcentered \\textasteriskcentered  & -0.47\\textasteriskcentered \\textasteriskcentered \\textasteriskcentered  &  0.58\\textasteriskcentered \\textasteriskcentered \\textasteriskcentered  &  0.46\\textasteriskcentered \\textasteriskcentered \\textasteriskcentered  &  0.69\\textasteriskcentered \\textasteriskcentered \\textasteriskcentered  &  &  \\\\ \n",
      "GHSUSD &  0.00  & -0.02  & -0.03  & -0.05  & -0.01  &  0.05  &  0.02  &  0.03  &  \\\\ \n",
      "GHSGBP & -0.13\\textasteriskcentered \\textasteriskcentered \\textasteriskcentered  &  0.01  & -0.33\\textasteriskcentered \\textasteriskcentered \\textasteriskcentered  & -0.54\\textasteriskcentered \\textasteriskcentered \\textasteriskcentered  & -0.24\\textasteriskcentered \\textasteriskcentered \\textasteriskcentered  &  0.54\\textasteriskcentered \\textasteriskcentered \\textasteriskcentered  &  0.27\\textasteriskcentered \\textasteriskcentered \\textasteriskcentered  &  0.26\\textasteriskcentered \\textasteriskcentered \\textasteriskcentered  &  0.87\\textasteriskcentered \\textasteriskcentered \\textasteriskcentered  \\\\ \n",
      "\\hline \\\\[-1.8ex] \n",
      "\\end{tabular} \n",
      "\\end{table} \n"
     ]
    }
   ],
   "source": [
    "stargazer(corstarsl(w),summary = F)"
   ]
  },
  {
   "cell_type": "code",
   "execution_count": null,
   "id": "8f010da4-d63a-4dc6-b123-78a6211961b2",
   "metadata": {},
   "outputs": [],
   "source": []
  }
 ],
 "metadata": {
  "kernelspec": {
   "display_name": "R",
   "language": "R",
   "name": "ir"
  },
  "language_info": {
   "codemirror_mode": "r",
   "file_extension": ".r",
   "mimetype": "text/x-r-source",
   "name": "R",
   "pygments_lexer": "r",
   "version": "4.3.3"
  }
 },
 "nbformat": 4,
 "nbformat_minor": 5
}
