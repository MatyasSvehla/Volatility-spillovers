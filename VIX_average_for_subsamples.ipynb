{
 "cells": [
  {
   "cell_type": "markdown",
   "id": "6c6f9a35-c605-4467-8915-c76a172dd630",
   "metadata": {},
   "source": [
    "# Average VIX values for individual subsample periods (used in Section 5.4) from the analysis conducted in Section 6.3.2"
   ]
  },
  {
   "cell_type": "code",
   "execution_count": 1,
   "id": "45fa8523-4c05-4868-a361-0c71e5749011",
   "metadata": {},
   "outputs": [
    {
     "name": "stderr",
     "output_type": "stream",
     "text": [
      "Loading required package: zoo\n",
      "\n",
      "\n",
      "Attaching package: ‘zoo’\n",
      "\n",
      "\n",
      "The following objects are masked from ‘package:base’:\n",
      "\n",
      "    as.Date, as.Date.numeric\n",
      "\n",
      "\n",
      "\n",
      "Attaching package: ‘MTS’\n",
      "\n",
      "\n",
      "The following object is masked from ‘package:BEKKs’:\n",
      "\n",
      "    backtest\n",
      "\n",
      "\n",
      "Loading required package: MASS\n",
      "\n",
      "Loading required package: strucchange\n",
      "\n",
      "Loading required package: sandwich\n",
      "\n",
      "Loading required package: urca\n",
      "\n",
      "Loading required package: lmtest\n",
      "\n",
      "\n",
      "Attaching package: ‘vars’\n",
      "\n",
      "\n",
      "The following object is masked from ‘package:MTS’:\n",
      "\n",
      "    VAR\n",
      "\n",
      "\n",
      "\n",
      "Please cite as: \n",
      "\n",
      "\n",
      " Hlavac, Marek (2022). stargazer: Well-Formatted Regression and Summary Statistics Tables.\n",
      "\n",
      " R package version 5.2.3. https://CRAN.R-project.org/package=stargazer \n",
      "\n",
      "\n",
      "── \u001b[1mAttaching core tidyverse packages\u001b[22m ──────────────────────── tidyverse 2.0.0 ──\n",
      "\u001b[32m✔\u001b[39m \u001b[34mdplyr    \u001b[39m 1.1.3     \u001b[32m✔\u001b[39m \u001b[34mreadr    \u001b[39m 2.1.4\n",
      "\u001b[32m✔\u001b[39m \u001b[34mforcats  \u001b[39m 1.0.0     \u001b[32m✔\u001b[39m \u001b[34mstringr  \u001b[39m 1.5.0\n",
      "\u001b[32m✔\u001b[39m \u001b[34mggplot2  \u001b[39m 3.4.4     \u001b[32m✔\u001b[39m \u001b[34mtibble   \u001b[39m 3.2.1\n",
      "\u001b[32m✔\u001b[39m \u001b[34mlubridate\u001b[39m 1.9.2     \u001b[32m✔\u001b[39m \u001b[34mtidyr    \u001b[39m 1.3.0\n",
      "\u001b[32m✔\u001b[39m \u001b[34mpurrr    \u001b[39m 1.0.2     \n",
      "── \u001b[1mConflicts\u001b[22m ────────────────────────────────────────── tidyverse_conflicts() ──\n",
      "\u001b[31m✖\u001b[39m \u001b[34mstringr\u001b[39m::\u001b[32mboundary()\u001b[39m masks \u001b[34mstrucchange\u001b[39m::boundary()\n",
      "\u001b[31m✖\u001b[39m \u001b[34mdplyr\u001b[39m::\u001b[32mfilter()\u001b[39m     masks \u001b[34mstats\u001b[39m::filter()\n",
      "\u001b[31m✖\u001b[39m \u001b[34mdplyr\u001b[39m::\u001b[32mfirst()\u001b[39m      masks \u001b[34mxts\u001b[39m::first()\n",
      "\u001b[31m✖\u001b[39m \u001b[34mdplyr\u001b[39m::\u001b[32mlag()\u001b[39m        masks \u001b[34mstats\u001b[39m::lag()\n",
      "\u001b[31m✖\u001b[39m \u001b[34mdplyr\u001b[39m::\u001b[32mlast()\u001b[39m       masks \u001b[34mxts\u001b[39m::last()\n",
      "\u001b[31m✖\u001b[39m \u001b[34mdplyr\u001b[39m::\u001b[32mselect()\u001b[39m     masks \u001b[34mMASS\u001b[39m::select()\n",
      "\u001b[36mℹ\u001b[39m Use the conflicted package (\u001b[3m\u001b[34m<http://conflicted.r-lib.org/>\u001b[39m\u001b[23m) to force all conflicts to become errors\n"
     ]
    }
   ],
   "source": [
    "library(xts)\n",
    "library(BEKKs)\n",
    "library(MTS)\n",
    "library(vars)\n",
    "library(stargazer)\n",
    "library(tidyverse)"
   ]
  },
  {
   "cell_type": "markdown",
   "id": "ffacd99d-01d4-4b29-a60c-2de32b8fa3bb",
   "metadata": {},
   "source": [
    "# VIX data preperation"
   ]
  },
  {
   "cell_type": "code",
   "execution_count": 2,
   "id": "92e76e5a-c8a9-4d17-a4d4-81a5df056533",
   "metadata": {},
   "outputs": [
    {
     "name": "stderr",
     "output_type": "stream",
     "text": [
      "\u001b[1mRows: \u001b[22m\u001b[34m8671\u001b[39m \u001b[1mColumns: \u001b[22m\u001b[34m5\u001b[39m\n",
      "\u001b[36m──\u001b[39m \u001b[1mColumn specification\u001b[22m \u001b[36m────────────────────────────────────────────────────────\u001b[39m\n",
      "\u001b[1mDelimiter:\u001b[22m \",\"\n",
      "\u001b[31mchr\u001b[39m (1): DATE\n",
      "\u001b[32mdbl\u001b[39m (4): OPEN, HIGH, LOW, CLOSE\n",
      "\n",
      "\u001b[36mℹ\u001b[39m Use `spec()` to retrieve the full column specification for this data.\n",
      "\u001b[36mℹ\u001b[39m Specify the column types or set `show_col_types = FALSE` to quiet this message.\n"
     ]
    },
    {
     "data": {
      "text/html": [
       "<table class=\"dataframe\">\n",
       "<caption>A tibble: 6 × 5</caption>\n",
       "<thead>\n",
       "\t<tr><th scope=col>DATE</th><th scope=col>OPEN</th><th scope=col>HIGH</th><th scope=col>LOW</th><th scope=col>CLOSE</th></tr>\n",
       "\t<tr><th scope=col>&lt;chr&gt;</th><th scope=col>&lt;dbl&gt;</th><th scope=col>&lt;dbl&gt;</th><th scope=col>&lt;dbl&gt;</th><th scope=col>&lt;dbl&gt;</th></tr>\n",
       "</thead>\n",
       "<tbody>\n",
       "\t<tr><td>01/02/1990</td><td>17.24</td><td>17.24</td><td>17.24</td><td>17.24</td></tr>\n",
       "\t<tr><td>01/03/1990</td><td>18.19</td><td>18.19</td><td>18.19</td><td>18.19</td></tr>\n",
       "\t<tr><td>01/04/1990</td><td>19.22</td><td>19.22</td><td>19.22</td><td>19.22</td></tr>\n",
       "\t<tr><td>01/05/1990</td><td>20.11</td><td>20.11</td><td>20.11</td><td>20.11</td></tr>\n",
       "\t<tr><td>01/08/1990</td><td>20.26</td><td>20.26</td><td>20.26</td><td>20.26</td></tr>\n",
       "\t<tr><td>01/09/1990</td><td>22.20</td><td>22.20</td><td>22.20</td><td>22.20</td></tr>\n",
       "</tbody>\n",
       "</table>\n"
      ],
      "text/latex": [
       "A tibble: 6 × 5\n",
       "\\begin{tabular}{lllll}\n",
       " DATE & OPEN & HIGH & LOW & CLOSE\\\\\n",
       " <chr> & <dbl> & <dbl> & <dbl> & <dbl>\\\\\n",
       "\\hline\n",
       "\t 01/02/1990 & 17.24 & 17.24 & 17.24 & 17.24\\\\\n",
       "\t 01/03/1990 & 18.19 & 18.19 & 18.19 & 18.19\\\\\n",
       "\t 01/04/1990 & 19.22 & 19.22 & 19.22 & 19.22\\\\\n",
       "\t 01/05/1990 & 20.11 & 20.11 & 20.11 & 20.11\\\\\n",
       "\t 01/08/1990 & 20.26 & 20.26 & 20.26 & 20.26\\\\\n",
       "\t 01/09/1990 & 22.20 & 22.20 & 22.20 & 22.20\\\\\n",
       "\\end{tabular}\n"
      ],
      "text/markdown": [
       "\n",
       "A tibble: 6 × 5\n",
       "\n",
       "| DATE &lt;chr&gt; | OPEN &lt;dbl&gt; | HIGH &lt;dbl&gt; | LOW &lt;dbl&gt; | CLOSE &lt;dbl&gt; |\n",
       "|---|---|---|---|---|\n",
       "| 01/02/1990 | 17.24 | 17.24 | 17.24 | 17.24 |\n",
       "| 01/03/1990 | 18.19 | 18.19 | 18.19 | 18.19 |\n",
       "| 01/04/1990 | 19.22 | 19.22 | 19.22 | 19.22 |\n",
       "| 01/05/1990 | 20.11 | 20.11 | 20.11 | 20.11 |\n",
       "| 01/08/1990 | 20.26 | 20.26 | 20.26 | 20.26 |\n",
       "| 01/09/1990 | 22.20 | 22.20 | 22.20 | 22.20 |\n",
       "\n"
      ],
      "text/plain": [
       "  DATE       OPEN  HIGH  LOW   CLOSE\n",
       "1 01/02/1990 17.24 17.24 17.24 17.24\n",
       "2 01/03/1990 18.19 18.19 18.19 18.19\n",
       "3 01/04/1990 19.22 19.22 19.22 19.22\n",
       "4 01/05/1990 20.11 20.11 20.11 20.11\n",
       "5 01/08/1990 20.26 20.26 20.26 20.26\n",
       "6 01/09/1990 22.20 22.20 22.20 22.20"
      ]
     },
     "metadata": {},
     "output_type": "display_data"
    },
    {
     "data": {
      "text/plain": [
       "            [,1]\n",
       "1990-01-02 17.24\n",
       "1990-01-03 18.19\n",
       "1990-01-04 19.22\n",
       "1990-01-05 20.11\n",
       "1990-01-08 20.26\n",
       "1990-01-09 22.20"
      ]
     },
     "metadata": {},
     "output_type": "display_data"
    },
    {
     "data": {
      "text/plain": [
       "            [,1]\n",
       "2024-05-10 12.55\n",
       "2024-05-13 13.60\n",
       "2024-05-14 13.42\n",
       "2024-05-15 12.45\n",
       "2024-05-16 12.42\n",
       "2024-05-17 11.99"
      ]
     },
     "metadata": {},
     "output_type": "display_data"
    }
   ],
   "source": [
    "vix_hist <- read_csv(\"VIX_History.csv\")\n",
    "head(vix_hist)\n",
    "vix_hist$DATE <- mdy(vix_hist$DATE)\n",
    "vix_daily <- xts(vix_hist$CLOSE,order.by = vix_hist$DATE)\n",
    "head(vix_daily)\n",
    "tail(vix_daily)"
   ]
  },
  {
   "cell_type": "markdown",
   "id": "21e82ba1-a4e9-4d7f-9a01-a3ab3eb06a29",
   "metadata": {},
   "source": [
    "# Calculation of average VIX value for each sample period used in the subsample analysis (Section 6.3.2)"
   ]
  },
  {
   "cell_type": "markdown",
   "id": "0cd26186-46b3-48b6-a20f-03c67fb75cc6",
   "metadata": {},
   "source": [
    "## Period 1"
   ]
  },
  {
   "cell_type": "code",
   "execution_count": 3,
   "id": "c635393f-0b6a-4dea-974c-024dcad56778",
   "metadata": {},
   "outputs": [],
   "source": [
    "vix_hist_1 <- vix_daily[\"2007-07-06/2011-09-30\"]"
   ]
  },
  {
   "cell_type": "code",
   "execution_count": 4,
   "id": "1c13011a-0d43-4360-8219-9b86111cfe67",
   "metadata": {},
   "outputs": [
    {
     "data": {
      "text/plain": [
       "            [,1]\n",
       "2007-07-06 14.72\n",
       "2007-07-09 15.16\n",
       "2007-07-10 17.57\n",
       "2007-07-11 16.64\n",
       "2007-07-12 15.54\n",
       "2007-07-13 15.15"
      ]
     },
     "metadata": {},
     "output_type": "display_data"
    }
   ],
   "source": [
    "head(vix_hist_1)"
   ]
  },
  {
   "cell_type": "code",
   "execution_count": 5,
   "id": "9423346d-e608-487f-ad3f-0c0f144fbed2",
   "metadata": {},
   "outputs": [
    {
     "data": {
      "text/html": [
       "26.94"
      ],
      "text/latex": [
       "26.94"
      ],
      "text/markdown": [
       "26.94"
      ],
      "text/plain": [
       "[1] 26.94"
      ]
     },
     "metadata": {},
     "output_type": "display_data"
    }
   ],
   "source": [
    "round(mean(vix_hist_1),2)"
   ]
  },
  {
   "cell_type": "markdown",
   "id": "9e67e5b7-d4f6-45f2-889d-8afa1e816035",
   "metadata": {},
   "source": [
    "## Period 2"
   ]
  },
  {
   "cell_type": "code",
   "execution_count": 6,
   "id": "cf5516b0-a34e-4754-b72a-1c7d1d0d821e",
   "metadata": {},
   "outputs": [],
   "source": [
    "vix_hist_2 <- vix_daily[\"2011-10-03/2015-11-30\"]"
   ]
  },
  {
   "cell_type": "code",
   "execution_count": 7,
   "id": "bdea4873-b232-492d-a259-a3a559fbf861",
   "metadata": {},
   "outputs": [
    {
     "data": {
      "text/plain": [
       "            [,1]\n",
       "2011-10-03 45.45\n",
       "2011-10-04 40.82\n",
       "2011-10-05 37.81\n",
       "2011-10-06 36.27\n",
       "2011-10-07 36.20\n",
       "2011-10-10 33.02"
      ]
     },
     "metadata": {},
     "output_type": "display_data"
    },
    {
     "data": {
      "text/plain": [
       "            [,1]\n",
       "2015-11-20 15.47\n",
       "2015-11-23 15.62\n",
       "2015-11-24 15.93\n",
       "2015-11-25 15.19\n",
       "2015-11-27 15.12\n",
       "2015-11-30 16.13"
      ]
     },
     "metadata": {},
     "output_type": "display_data"
    }
   ],
   "source": [
    "head(vix_hist_2)\n",
    "tail(vix_hist_2)"
   ]
  },
  {
   "cell_type": "code",
   "execution_count": 8,
   "id": "4114f810-264b-4724-9d3c-c20cc66bd00d",
   "metadata": {},
   "outputs": [
    {
     "data": {
      "text/html": [
       "16.52"
      ],
      "text/latex": [
       "16.52"
      ],
      "text/markdown": [
       "16.52"
      ],
      "text/plain": [
       "[1] 16.52"
      ]
     },
     "metadata": {},
     "output_type": "display_data"
    }
   ],
   "source": [
    "round(mean(vix_hist_2),2)"
   ]
  },
  {
   "cell_type": "markdown",
   "id": "4fe52015-e902-4e1f-ad12-a2801d9ecfa7",
   "metadata": {},
   "source": [
    "## Period 3"
   ]
  },
  {
   "cell_type": "code",
   "execution_count": 9,
   "id": "af573623-6893-4bc1-bace-1fa3b9553e51",
   "metadata": {},
   "outputs": [
    {
     "data": {
      "text/plain": [
       "            [,1]\n",
       "2015-12-01 14.67\n",
       "2015-12-02 15.91\n",
       "2015-12-03 18.11\n",
       "2015-12-04 14.81\n",
       "2015-12-07 15.84\n",
       "2015-12-08 17.60"
      ]
     },
     "metadata": {},
     "output_type": "display_data"
    },
    {
     "data": {
      "text/plain": [
       "            [,1]\n",
       "2020-01-24 14.56\n",
       "2020-01-27 18.23\n",
       "2020-01-28 16.28\n",
       "2020-01-29 16.39\n",
       "2020-01-30 15.49\n",
       "2020-01-31 18.84"
      ]
     },
     "metadata": {},
     "output_type": "display_data"
    }
   ],
   "source": [
    "vix_hist_3 <- vix_daily[\"2015-12-01/2020-01-31\"]\n",
    "head(vix_hist_3)\n",
    "tail(vix_hist_3)"
   ]
  },
  {
   "cell_type": "code",
   "execution_count": 10,
   "id": "1d1645e0-8d6d-4c21-9255-f873eed9cde9",
   "metadata": {
    "scrolled": true
   },
   "outputs": [
    {
     "data": {
      "text/html": [
       "14.79"
      ],
      "text/latex": [
       "14.79"
      ],
      "text/markdown": [
       "14.79"
      ],
      "text/plain": [
       "[1] 14.79"
      ]
     },
     "metadata": {},
     "output_type": "display_data"
    }
   ],
   "source": [
    "round(mean(vix_hist_3),2)"
   ]
  },
  {
   "cell_type": "markdown",
   "id": "55673958-b32d-4095-9342-cc5081f2d15c",
   "metadata": {},
   "source": [
    "## Period 4"
   ]
  },
  {
   "cell_type": "code",
   "execution_count": 11,
   "id": "869c5f03-e63e-451c-a29a-ead424b5ddd7",
   "metadata": {},
   "outputs": [
    {
     "data": {
      "text/plain": [
       "            [,1]\n",
       "2020-02-03 17.97\n",
       "2020-02-04 16.05\n",
       "2020-02-05 15.15\n",
       "2020-02-06 14.96\n",
       "2020-02-07 15.47\n",
       "2020-02-10 15.04"
      ]
     },
     "metadata": {},
     "output_type": "display_data"
    },
    {
     "data": {
      "text/plain": [
       "            [,1]\n",
       "2024-04-26 15.03\n",
       "2024-04-29 14.67\n",
       "2024-04-30 15.65\n",
       "2024-05-01 15.39\n",
       "2024-05-02 14.68\n",
       "2024-05-03 13.49"
      ]
     },
     "metadata": {},
     "output_type": "display_data"
    }
   ],
   "source": [
    "vix_hist_4 <- vix_daily[\"2020-02-03/2024-05-03\"]\n",
    "head(vix_hist_4)\n",
    "tail(vix_hist_4)"
   ]
  },
  {
   "cell_type": "code",
   "execution_count": 12,
   "id": "a1840601-aa7d-49a1-b17b-60ac1769902d",
   "metadata": {},
   "outputs": [
    {
     "data": {
      "text/html": [
       "22.32"
      ],
      "text/latex": [
       "22.32"
      ],
      "text/markdown": [
       "22.32"
      ],
      "text/plain": [
       "[1] 22.32"
      ]
     },
     "metadata": {},
     "output_type": "display_data"
    }
   ],
   "source": [
    "round(mean(vix_hist_4),2)"
   ]
  },
  {
   "cell_type": "code",
   "execution_count": null,
   "id": "35a43b32-ec8b-4e8d-af23-94fc84a57c28",
   "metadata": {},
   "outputs": [],
   "source": []
  }
 ],
 "metadata": {
  "kernelspec": {
   "display_name": "R",
   "language": "R",
   "name": "ir"
  },
  "language_info": {
   "codemirror_mode": "r",
   "file_extension": ".r",
   "mimetype": "text/x-r-source",
   "name": "R",
   "pygments_lexer": "r",
   "version": "4.3.3"
  }
 },
 "nbformat": 4,
 "nbformat_minor": 5
}
