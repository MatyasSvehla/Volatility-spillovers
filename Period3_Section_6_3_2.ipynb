{
 "cells": [
  {
   "cell_type": "markdown",
   "id": "a16602e2-8f67-4209-9c82-f0bd51df3dd9",
   "metadata": {},
   "source": [
    "# Chapter 6"
   ]
  },
  {
   "cell_type": "markdown",
   "id": "1e9f7f26-a514-4303-a319-6f9e22500031",
   "metadata": {},
   "source": [
    "# Section 6.3.2 Subsample Analysis"
   ]
  },
  {
   "cell_type": "markdown",
   "id": "194da47a-cb2c-4bd2-99b3-d1838616615c",
   "metadata": {},
   "source": [
    "# VAR-BEKK-GARCH model for Period 3 (2015/12 - 2020/1) (Section 6.3.2)"
   ]
  },
  {
   "cell_type": "code",
   "execution_count": 1,
   "id": "0e129965-8450-4fcc-b9dd-85575d0a8c75",
   "metadata": {},
   "outputs": [
    {
     "name": "stderr",
     "output_type": "stream",
     "text": [
      "Loading required package: zoo\n",
      "\n",
      "\n",
      "Attaching package: ‘zoo’\n",
      "\n",
      "\n",
      "The following objects are masked from ‘package:base’:\n",
      "\n",
      "    as.Date, as.Date.numeric\n",
      "\n",
      "\n",
      "\n",
      "Attaching package: ‘MTS’\n",
      "\n",
      "\n",
      "The following object is masked from ‘package:BEKKs’:\n",
      "\n",
      "    backtest\n",
      "\n",
      "\n",
      "Loading required package: MASS\n",
      "\n",
      "Loading required package: strucchange\n",
      "\n",
      "Loading required package: sandwich\n",
      "\n",
      "Loading required package: urca\n",
      "\n",
      "Loading required package: lmtest\n",
      "\n",
      "\n",
      "Attaching package: ‘vars’\n",
      "\n",
      "\n",
      "The following object is masked from ‘package:MTS’:\n",
      "\n",
      "    VAR\n",
      "\n",
      "\n",
      "\n",
      "Please cite as: \n",
      "\n",
      "\n",
      " Hlavac, Marek (2022). stargazer: Well-Formatted Regression and Summary Statistics Tables.\n",
      "\n",
      " R package version 5.2.3. https://CRAN.R-project.org/package=stargazer \n",
      "\n",
      "\n"
     ]
    }
   ],
   "source": [
    "library(xts)\n",
    "library(BEKKs)\n",
    "library(MTS)\n",
    "library(vars)\n",
    "library(stargazer)"
   ]
  },
  {
   "cell_type": "markdown",
   "id": "3c718578-7cfa-4d00-afa2-0810c6a322c2",
   "metadata": {},
   "source": [
    "# Dataset Preperation"
   ]
  },
  {
   "cell_type": "code",
   "execution_count": 2,
   "id": "e1a5004b-691c-4b72-9d92-55654b14af8e",
   "metadata": {},
   "outputs": [
    {
     "data": {
      "text/plain": [
       "                     usc           lc\n",
       "2007-07-06  0.0033026687  0.005272420\n",
       "2007-07-09 -0.0108928380 -0.013233541\n",
       "2007-07-10 -0.0378502241 -0.040784991\n",
       "2007-07-11  0.0210431058  0.019240172\n",
       "2007-07-12  0.0057943185  0.004526943\n",
       "2007-07-13 -0.0009633912 -0.004526943"
      ]
     },
     "metadata": {},
     "output_type": "display_data"
    },
    {
     "data": {
      "text/plain": [
       "                  eurusd        gbpusd        chfusd        usdgbp       eurgbp\n",
       "2007-07-06  2.240547e-03 -0.0004972527 -0.0003044418  0.0007037652  0.002659380\n",
       "2007-07-09  7.337565e-05  0.0022605055  0.0012172115 -0.0025157246 -0.001993871\n",
       "2007-07-10  8.584371e-03  0.0057647029  0.0115503355 -0.0056582954  0.002805051\n",
       "2007-07-11 -7.274844e-05  0.0027838359 -0.0029504763 -0.0026379885 -0.002952903\n",
       "2007-07-12  3.485969e-03 -0.0009845428  0.0028903495  0.0008124302  0.004573291\n",
       "2007-07-13 -7.252421e-04  0.0019435396  0.0000000000 -0.0020323145 -0.003391083\n",
       "                  chfgbp        ghsusd        ghsgbp\n",
       "2007-07-06  0.0001273483 -0.0033264938 -2.614079e-03\n",
       "2007-07-09 -0.0009873737  0.0040086898  1.236683e-03\n",
       "2007-07-10  0.0059364761 -0.0002705906 -5.801912e-03\n",
       "2007-07-11 -0.0057330414  0.0026887042  4.994937e-05\n",
       "2007-07-12  0.0037670817  0.0027212691  3.716576e-03\n",
       "2007-07-13 -0.0020261005 -0.0051426368 -7.210559e-03"
      ]
     },
     "metadata": {},
     "output_type": "display_data"
    }
   ],
   "source": [
    "fr_d <- readRDS(\"fr_d.Rds\")\n",
    "fp_d <- readRDS(\"fp_d.Rds\")\n",
    "cr_d <- readRDS(\"cr_d.Rds\")\n",
    "cp_d <- readRDS(\"cp_d.Rds\")\n",
    "head(cr_d)\n",
    "head(fr_d)\n",
    "us_d <- cr_d[,1]\n",
    "l_d <- cr_d[,2]"
   ]
  },
  {
   "cell_type": "code",
   "execution_count": 3,
   "id": "7d62fb25-7fc5-4b65-afb0-5c8aac6c5f60",
   "metadata": {},
   "outputs": [],
   "source": [
    "d <- na.omit(merge(cr_d,fr_d))\n",
    "colnames(d) <- c(\"US Cocoa\",\"London Cocoa\",\"EURUSD\",\"GBPUSD\",\"CHFUSD\",\"USDGBP\",\"EURGBP\",\"CHFGBP\",\"GHSUSD\",\"GHSGBP\")"
   ]
  },
  {
   "cell_type": "code",
   "execution_count": 4,
   "id": "c53d7f0f-5ff5-423e-adf7-52f9b5b6b1bf",
   "metadata": {},
   "outputs": [],
   "source": [
    "d_p <- na.omit(merge(cp_d,fp_d))\n",
    "colnames(d_p) <- c(\"US Cocoa\",\"London Cocoa\",\"EURUSD\",\"GBPUSD\",\"CHFUSD\",\"USDGBP\",\"EURGBP\",\"CHFGBP\",\"GHSUSD\",\"GHSGBP\")"
   ]
  },
  {
   "cell_type": "markdown",
   "id": "a2a5f69b-8900-4fe5-a0a8-60d8a0a9d4d2",
   "metadata": {},
   "source": [
    "# Period 3 2015/12 - 2020/1 Data"
   ]
  },
  {
   "cell_type": "code",
   "execution_count": 5,
   "id": "1b2abf95-4720-476e-93f8-02824fe698a4",
   "metadata": {},
   "outputs": [
    {
     "name": "stdout",
     "output_type": "stream",
     "text": [
      "An xts object on 2015-12-01 / 2020-01-31 containing: \n",
      "  Data:    double [1039, 10]\n",
      "  Columns: US Cocoa, London Cocoa, EURUSD, GBPUSD, CHFUSD ... with 5 more columns\n",
      "  Index:   Date [1039] (TZ: \"UTC\")\n",
      "  xts Attributes:\n",
      "    $ na.action       : 'omit' int [1:216] 37 42 100 101 122 123 124 128 142 162 ...\n",
      "  ..- attr(*, \"index\")= num [1:216] 1.19e+09 1.19e+09 1.20e+09 1.20e+09 1.20e+09 ...\n",
      "    $ ret_type        : chr \"log\"\n",
      "    $ coredata_content: chr \"logReturn\"\n"
     ]
    },
    {
     "data": {
      "text/plain": [
       "                US Cocoa London Cocoa       EURUSD       GBPUSD       CHFUSD\n",
       "2015-12-01 -0.0005991612 -0.000877193  0.006321969  0.001625882  0.002722348\n",
       "2015-12-02 -0.0011994004  0.007431728 -0.001553197 -0.008624044  0.007359363\n",
       "2015-12-03  0.0157764844  0.005646052  0.030294804  0.012891829  0.024842875\n",
       "2015-12-04  0.0011806377  0.001730853 -0.005039410 -0.002181242 -0.003532781\n",
       "2015-12-07  0.0079330517  0.005604671 -0.004695709 -0.003944909 -0.003295225\n",
       "2015-12-08 -0.0300037359 -0.019536111  0.005338500 -0.002993915  0.008267391\n",
       "                 USDGBP        EURGBP        CHFGBP        GHSUSD        GHSGBP\n",
       "2015-12-01 -0.001732907  4.759377e-03  0.0010835914 -0.0009211267 -0.0025456561\n",
       "2015-12-02  0.008709418  6.216905e-03  0.0160384054  0.0012889628  0.0099212308\n",
       "2015-12-03 -0.012789822  1.717679e-02  0.0119562529 -0.0073730523 -0.0201777897\n",
       "2015-12-04  0.002042284 -2.772965e-03 -0.0014302385  0.0113934382  0.0134894260\n",
       "2015-12-07  0.003996838 -6.942275e-05  0.0006777364 -0.0043882219 -0.0004514615\n",
       "2015-12-08  0.002930901  7.538854e-03  0.0111540626 -0.0096534483 -0.0066621131"
      ]
     },
     "metadata": {},
     "output_type": "display_data"
    },
    {
     "data": {
      "text/plain": [
       "                US Cocoa London Cocoa        EURUSD        GBPUSD        CHFUSD\n",
       "2020-01-24 -0.0115358165 -0.004590674 -0.0026269321 -0.0034732197 -0.0023766229\n",
       "2020-01-27  0.0003625159  0.001532567 -0.0006351223 -0.0017219941  0.0016496850\n",
       "2020-01-28 -0.0105666860 -0.004092077  0.0003629764 -0.0020703147 -0.0034966769\n",
       "2020-01-29  0.0087527911  0.005112486 -0.0009985023 -0.0005374487 -0.0002432794\n",
       "2020-01-30  0.0272223113  0.019692633  0.0019053674  0.0057052210  0.0038369119\n",
       "2020-01-31 -0.0103002154 -0.015113638  0.0056042811  0.0080239246  0.0065228652\n",
       "                  USDGBP        EURGBP        CHFGBP        GHSUSD       GHSGBP\n",
       "2020-01-24  0.0035370444  0.0010679325  0.0010801539 -1.018738e-03  0.002464379\n",
       "2020-01-27  0.0016985697  0.0009483168  0.0033600691  5.026346e-05  0.001733125\n",
       "2020-01-28  0.0020214542  0.0024850613 -0.0013933754  2.312178e-03  0.004415901\n",
       "2020-01-29  0.0005210029 -0.0005911214  0.0003168467  2.848696e-03  0.003384184\n",
       "2020-01-30 -0.0056805350 -0.0035540850 -0.0019025881  9.232890e-03  0.003531378\n",
       "2020-01-31 -0.0080205545 -0.0028523908 -0.0015246811  3.445617e-03 -0.004588158"
      ]
     },
     "metadata": {},
     "output_type": "display_data"
    }
   ],
   "source": [
    "d <- d[\"2015-12/2020-1\"]\n",
    "str(d)\n",
    "head(d)\n",
    "tail(d)"
   ]
  },
  {
   "cell_type": "markdown",
   "id": "b3e07107-64cf-443a-85ce-dd7f5790034f",
   "metadata": {},
   "source": [
    "# VAR-BEKK Models for the subsample"
   ]
  },
  {
   "cell_type": "markdown",
   "id": "47aa458e-c2a0-4a7e-930d-46197ec456d6",
   "metadata": {},
   "source": [
    "#### The estimation of the VAR-BEKK model is conducted in two stages, VAR model is the model specification for the mean equation (first stage) and BEKK is the specification for the variance equation (second stage)."
   ]
  },
  {
   "cell_type": "markdown",
   "id": "464092e3-2cd2-44db-bf82-a134da424b4d",
   "metadata": {},
   "source": [
    "## (i) Spillover between US Cocoa and London Cocoa"
   ]
  },
  {
   "cell_type": "code",
   "execution_count": 6,
   "id": "34a824e9-880b-4084-82a5-8c3e43a2d282",
   "metadata": {},
   "outputs": [
    {
     "name": "stdout",
     "output_type": "stream",
     "text": [
      "An xts object on 2015-12-01 / 2020-01-31 containing: \n",
      "  Data:    double [1039, 2]\n",
      "  Columns: usc, lc\n",
      "  Index:   Date [1039] (TZ: \"UTC\")\n",
      "  xts Attributes:\n",
      "    $ na.action       : 'omit' int [1:159] 37 42 100 101 122 123 140 160 184 214 ...\n",
      "  ..- attr(*, \"index\")= num [1:159] 1.19e+09 1.19e+09 1.20e+09 1.20e+09 1.20e+09 ...\n",
      "    $ ret_type        : chr \"log\"\n",
      "    $ coredata_content: chr \"logReturn\"\n"
     ]
    }
   ],
   "source": [
    "cr_d <- cr_d[\"2015-12/2020-1\"]\n",
    "str(cr_d)"
   ]
  },
  {
   "cell_type": "code",
   "execution_count": 7,
   "id": "f4757acf-50bf-40c4-a147-c215e21a4926",
   "metadata": {},
   "outputs": [
    {
     "data": {
      "text/html": [
       "<dl>\n",
       "\t<dt>$selection</dt>\n",
       "\t\t<dd><style>\n",
       ".dl-inline {width: auto; margin:0; padding: 0}\n",
       ".dl-inline>dt, .dl-inline>dd {float: none; width: auto; display: inline-block}\n",
       ".dl-inline>dt::after {content: \":\\0020\"; padding-right: .5ex}\n",
       ".dl-inline>dt:not(:first-of-type) {padding-left: .5ex}\n",
       "</style><dl class=dl-inline><dt>AIC(n)</dt><dd>1</dd><dt>HQ(n)</dt><dd>1</dd><dt>SC(n)</dt><dd>1</dd><dt>FPE(n)</dt><dd>1</dd></dl>\n",
       "</dd>\n",
       "\t<dt>$criteria</dt>\n",
       "\t\t<dd><table class=\"dataframe\">\n",
       "<caption>A matrix: 4 × 10 of type dbl</caption>\n",
       "<thead>\n",
       "\t<tr><th></th><th scope=col>1</th><th scope=col>2</th><th scope=col>3</th><th scope=col>4</th><th scope=col>5</th><th scope=col>6</th><th scope=col>7</th><th scope=col>8</th><th scope=col>9</th><th scope=col>10</th></tr>\n",
       "</thead>\n",
       "<tbody>\n",
       "\t<tr><th scope=row>AIC(n)</th><td>-1.809433e+01</td><td>-1.808863e+01</td><td>-1.808520e+01</td><td>-1.808334e+01</td><td>-1.808093e+01</td><td>-1.807903e+01</td><td>-1.807539e+01</td><td>-1.807030e+01</td><td>-1.806392e+01</td><td>-1.805900e+01</td></tr>\n",
       "\t<tr><th scope=row>HQ(n)</th><td>-1.808340e+01</td><td>-1.807043e+01</td><td>-1.805971e+01</td><td>-1.805056e+01</td><td>-1.804087e+01</td><td>-1.803169e+01</td><td>-1.802077e+01</td><td>-1.800839e+01</td><td>-1.799473e+01</td><td>-1.798253e+01</td></tr>\n",
       "\t<tr><th scope=row>SC(n)</th><td>-1.806554e+01</td><td>-1.804066e+01</td><td>-1.801804e+01</td><td>-1.799699e+01</td><td>-1.797539e+01</td><td>-1.795430e+01</td><td>-1.793147e+01</td><td>-1.790719e+01</td><td>-1.788163e+01</td><td>-1.785751e+01</td></tr>\n",
       "\t<tr><th scope=row>FPE(n)</th><td> 1.385905e-08</td><td> 1.393820e-08</td><td> 1.398610e-08</td><td> 1.401224e-08</td><td> 1.404601e-08</td><td> 1.407269e-08</td><td> 1.412409e-08</td><td> 1.419619e-08</td><td> 1.428702e-08</td><td> 1.435759e-08</td></tr>\n",
       "</tbody>\n",
       "</table>\n",
       "</dd>\n",
       "</dl>\n"
      ],
      "text/latex": [
       "\\begin{description}\n",
       "\\item[\\$selection] \\begin{description*}\n",
       "\\item[AIC(n)] 1\n",
       "\\item[HQ(n)] 1\n",
       "\\item[SC(n)] 1\n",
       "\\item[FPE(n)] 1\n",
       "\\end{description*}\n",
       "\n",
       "\\item[\\$criteria] A matrix: 4 × 10 of type dbl\n",
       "\\begin{tabular}{r|llllllllll}\n",
       "  & 1 & 2 & 3 & 4 & 5 & 6 & 7 & 8 & 9 & 10\\\\\n",
       "\\hline\n",
       "\tAIC(n) & -1.809433e+01 & -1.808863e+01 & -1.808520e+01 & -1.808334e+01 & -1.808093e+01 & -1.807903e+01 & -1.807539e+01 & -1.807030e+01 & -1.806392e+01 & -1.805900e+01\\\\\n",
       "\tHQ(n) & -1.808340e+01 & -1.807043e+01 & -1.805971e+01 & -1.805056e+01 & -1.804087e+01 & -1.803169e+01 & -1.802077e+01 & -1.800839e+01 & -1.799473e+01 & -1.798253e+01\\\\\n",
       "\tSC(n) & -1.806554e+01 & -1.804066e+01 & -1.801804e+01 & -1.799699e+01 & -1.797539e+01 & -1.795430e+01 & -1.793147e+01 & -1.790719e+01 & -1.788163e+01 & -1.785751e+01\\\\\n",
       "\tFPE(n) &  1.385905e-08 &  1.393820e-08 &  1.398610e-08 &  1.401224e-08 &  1.404601e-08 &  1.407269e-08 &  1.412409e-08 &  1.419619e-08 &  1.428702e-08 &  1.435759e-08\\\\\n",
       "\\end{tabular}\n",
       "\n",
       "\\end{description}\n"
      ],
      "text/markdown": [
       "$selection\n",
       ":   AIC(n)\n",
       ":   1HQ(n)\n",
       ":   1SC(n)\n",
       ":   1FPE(n)\n",
       ":   1\n",
       "\n",
       "\n",
       "$criteria\n",
       ":   \n",
       "A matrix: 4 × 10 of type dbl\n",
       "\n",
       "| <!--/--> | 1 | 2 | 3 | 4 | 5 | 6 | 7 | 8 | 9 | 10 |\n",
       "|---|---|---|---|---|---|---|---|---|---|---|\n",
       "| AIC(n) | -1.809433e+01 | -1.808863e+01 | -1.808520e+01 | -1.808334e+01 | -1.808093e+01 | -1.807903e+01 | -1.807539e+01 | -1.807030e+01 | -1.806392e+01 | -1.805900e+01 |\n",
       "| HQ(n) | -1.808340e+01 | -1.807043e+01 | -1.805971e+01 | -1.805056e+01 | -1.804087e+01 | -1.803169e+01 | -1.802077e+01 | -1.800839e+01 | -1.799473e+01 | -1.798253e+01 |\n",
       "| SC(n) | -1.806554e+01 | -1.804066e+01 | -1.801804e+01 | -1.799699e+01 | -1.797539e+01 | -1.795430e+01 | -1.793147e+01 | -1.790719e+01 | -1.788163e+01 | -1.785751e+01 |\n",
       "| FPE(n) |  1.385905e-08 |  1.393820e-08 |  1.398610e-08 |  1.401224e-08 |  1.404601e-08 |  1.407269e-08 |  1.412409e-08 |  1.419619e-08 |  1.428702e-08 |  1.435759e-08 |\n",
       "\n",
       "\n",
       "\n",
       "\n"
      ],
      "text/plain": [
       "$selection\n",
       "AIC(n)  HQ(n)  SC(n) FPE(n) \n",
       "     1      1      1      1 \n",
       "\n",
       "$criteria\n",
       "                   1             2             3             4             5\n",
       "AIC(n) -1.809433e+01 -1.808863e+01 -1.808520e+01 -1.808334e+01 -1.808093e+01\n",
       "HQ(n)  -1.808340e+01 -1.807043e+01 -1.805971e+01 -1.805056e+01 -1.804087e+01\n",
       "SC(n)  -1.806554e+01 -1.804066e+01 -1.801804e+01 -1.799699e+01 -1.797539e+01\n",
       "FPE(n)  1.385905e-08  1.393820e-08  1.398610e-08  1.401224e-08  1.404601e-08\n",
       "                   6             7             8             9            10\n",
       "AIC(n) -1.807903e+01 -1.807539e+01 -1.807030e+01 -1.806392e+01 -1.805900e+01\n",
       "HQ(n)  -1.803169e+01 -1.802077e+01 -1.800839e+01 -1.799473e+01 -1.798253e+01\n",
       "SC(n)  -1.795430e+01 -1.793147e+01 -1.790719e+01 -1.788163e+01 -1.785751e+01\n",
       "FPE(n)  1.407269e-08  1.412409e-08  1.419619e-08  1.428702e-08  1.435759e-08\n"
      ]
     },
     "metadata": {},
     "output_type": "display_data"
    }
   ],
   "source": [
    "VARselect(cr_d)"
   ]
  },
  {
   "cell_type": "code",
   "execution_count": 8,
   "id": "2b311dbf-9824-4697-9385-cca9725750df",
   "metadata": {},
   "outputs": [
    {
     "data": {
      "text/plain": [
       "\n",
       "VAR Estimation Results:\n",
       "========================= \n",
       "Endogenous variables: usc, lc \n",
       "Deterministic variables: const \n",
       "Sample size: 1038 \n",
       "Log Likelihood: 6455.758 \n",
       "Roots of the characteristic polynomial:\n",
       "0.04301 0.006106\n",
       "Call:\n",
       "VAR(y = cr_d, p = 1, type = \"const\")\n",
       "\n",
       "\n",
       "Estimation results for equation usc: \n",
       "==================================== \n",
       "usc = usc.l1 + lc.l1 + const \n",
       "\n",
       "         Estimate Std. Error t value Pr(>|t|)\n",
       "usc.l1 -0.0682652  0.0646708  -1.056    0.291\n",
       "lc.l1   0.0507101  0.0770207   0.658    0.510\n",
       "const  -0.0002048  0.0005282  -0.388    0.698\n",
       "\n",
       "\n",
       "Residual standard error: 0.01701 on 1035 degrees of freedom\n",
       "Multiple R-Squared: 0.001374,\tAdjusted R-squared: -0.0005557 \n",
       "F-statistic: 0.712 on 2 and 1035 DF,  p-value: 0.4909 \n",
       "\n",
       "\n",
       "Estimation results for equation lc: \n",
       "=================================== \n",
       "lc = usc.l1 + lc.l1 + const \n",
       "\n",
       "         Estimate Std. Error t value Pr(>|t|)\n",
       "usc.l1 -0.0370330  0.0543444  -0.681    0.496\n",
       "lc.l1   0.0313572  0.0647224   0.484    0.628\n",
       "const  -0.0001333  0.0004438  -0.300    0.764\n",
       "\n",
       "\n",
       "Residual standard error: 0.0143 on 1035 degrees of freedom\n",
       "Multiple R-Squared: 0.000502,\tAdjusted R-squared: -0.001429 \n",
       "F-statistic: 0.2599 on 2 and 1035 DF,  p-value: 0.7711 \n",
       "\n",
       "\n",
       "\n",
       "Covariance matrix of residuals:\n",
       "          usc        lc\n",
       "usc 0.0002895 0.0002134\n",
       "lc  0.0002134 0.0002044\n",
       "\n",
       "Correlation matrix of residuals:\n",
       "      usc    lc\n",
       "usc 1.000 0.877\n",
       "lc  0.877 1.000\n",
       "\n"
      ]
     },
     "metadata": {},
     "output_type": "display_data"
    }
   ],
   "source": [
    "var_cr<-VAR(cr_d,p = 1,type = \"const\")\n",
    "summary(var_cr)\n",
    "res_cr <- residuals(var_cr)\n",
    "res_cr <- as.data.frame(res_cr)"
   ]
  },
  {
   "cell_type": "code",
   "execution_count": 9,
   "id": "61b96bea-0bd9-405e-b7e3-59f3985cc07b",
   "metadata": {},
   "outputs": [
    {
     "name": "stdout",
     "output_type": "stream",
     "text": [
      " Date[1:1038], format: \"2015-12-02\" \"2015-12-03\" \"2015-12-04\" \"2015-12-07\" \"2015-12-08\" ...\n"
     ]
    }
   ],
   "source": [
    "ind_var <- index(cr_d)[-1]\n",
    "str(ind_var)"
   ]
  },
  {
   "cell_type": "code",
   "execution_count": 10,
   "id": "649f5b66-f812-46c9-ba52-80cb3e1ed4bc",
   "metadata": {},
   "outputs": [
    {
     "name": "stdout",
     "output_type": "stream",
     "text": [
      "An xts object on 2015-12-02 / 2020-01-31 containing: \n",
      "  Data:    double [1038, 2]\n",
      "  Columns: usc, lc\n",
      "  Index:   Date [1038] (TZ: \"UTC\")\n"
     ]
    },
    {
     "data": {
      "text/plain": [
       "                    usc           lc\n",
       "2015-12-02 -0.000990973  0.007570316\n",
       "2015-12-03  0.015522590  0.005501867\n",
       "2015-12-04  0.002176158  0.002271329\n",
       "2015-12-07  0.008130723  0.005727389\n",
       "2015-12-08 -0.029541551 -0.019284803\n",
       "2015-12-09  0.015597512  0.004881802"
      ]
     },
     "metadata": {},
     "output_type": "display_data"
    }
   ],
   "source": [
    "res_cr <- xts(res_cr,order.by = ind_var)\n",
    "str(res_cr)\n",
    "head(res_cr)"
   ]
  },
  {
   "cell_type": "code",
   "execution_count": 11,
   "id": "4784d28b-7f77-4e39-bfce-1f4c3b499eee",
   "metadata": {},
   "outputs": [],
   "source": [
    "bekk_spec <- bekk_spec(model = list(type = \"bekk\",asymmetric = F))\n",
    "bekk_fit <- bekk_fit(spec = bekk_spec,data = res_cr)"
   ]
  },
  {
   "cell_type": "code",
   "execution_count": 12,
   "id": "69cc36a6-6e30-4527-9b19-38866766e72c",
   "metadata": {},
   "outputs": [
    {
     "data": {
      "text/html": [
       "<table class=\"dataframe\">\n",
       "<caption>A matrix: 2 × 2 of type dbl</caption>\n",
       "<tbody>\n",
       "\t<tr><td>0.10911555</td><td>-0.1914859</td></tr>\n",
       "\t<tr><td>0.07974417</td><td> 0.3807527</td></tr>\n",
       "</tbody>\n",
       "</table>\n"
      ],
      "text/latex": [
       "A matrix: 2 × 2 of type dbl\n",
       "\\begin{tabular}{ll}\n",
       "\t 0.10911555 & -0.1914859\\\\\n",
       "\t 0.07974417 &  0.3807527\\\\\n",
       "\\end{tabular}\n"
      ],
      "text/markdown": [
       "\n",
       "A matrix: 2 × 2 of type dbl\n",
       "\n",
       "| 0.10911555 | -0.1914859 |\n",
       "| 0.07974417 |  0.3807527 |\n",
       "\n"
      ],
      "text/plain": [
       "     [,1]       [,2]      \n",
       "[1,] 0.10911555 -0.1914859\n",
       "[2,] 0.07974417  0.3807527"
      ]
     },
     "metadata": {},
     "output_type": "display_data"
    },
    {
     "data": {
      "text/html": [
       "<table class=\"dataframe\">\n",
       "<caption>A matrix: 2 × 2 of type dbl</caption>\n",
       "<tbody>\n",
       "\t<tr><td>1.3379129</td><td>-2.721746</td></tr>\n",
       "\t<tr><td>0.8879919</td><td> 4.756689</td></tr>\n",
       "</tbody>\n",
       "</table>\n"
      ],
      "text/latex": [
       "A matrix: 2 × 2 of type dbl\n",
       "\\begin{tabular}{ll}\n",
       "\t 1.3379129 & -2.721746\\\\\n",
       "\t 0.8879919 &  4.756689\\\\\n",
       "\\end{tabular}\n"
      ],
      "text/markdown": [
       "\n",
       "A matrix: 2 × 2 of type dbl\n",
       "\n",
       "| 1.3379129 | -2.721746 |\n",
       "| 0.8879919 |  4.756689 |\n",
       "\n"
      ],
      "text/plain": [
       "     [,1]      [,2]     \n",
       "[1,] 1.3379129 -2.721746\n",
       "[2,] 0.8879919  4.756689"
      ]
     },
     "metadata": {},
     "output_type": "display_data"
    },
    {
     "data": {
      "text/html": [
       "<table class=\"dataframe\">\n",
       "<caption>A matrix: 2 × 2 of type dbl</caption>\n",
       "<tbody>\n",
       "\t<tr><td> 1.01635070</td><td>0.1480469</td></tr>\n",
       "\t<tr><td>-0.04622508</td><td>0.8098921</td></tr>\n",
       "</tbody>\n",
       "</table>\n"
      ],
      "text/latex": [
       "A matrix: 2 × 2 of type dbl\n",
       "\\begin{tabular}{ll}\n",
       "\t  1.01635070 & 0.1480469\\\\\n",
       "\t -0.04622508 & 0.8098921\\\\\n",
       "\\end{tabular}\n"
      ],
      "text/markdown": [
       "\n",
       "A matrix: 2 × 2 of type dbl\n",
       "\n",
       "|  1.01635070 | 0.1480469 |\n",
       "| -0.04622508 | 0.8098921 |\n",
       "\n"
      ],
      "text/plain": [
       "     [,1]        [,2]     \n",
       "[1,]  1.01635070 0.1480469\n",
       "[2,] -0.04622508 0.8098921"
      ]
     },
     "metadata": {},
     "output_type": "display_data"
    },
    {
     "data": {
      "text/html": [
       "<table class=\"dataframe\">\n",
       "<caption>A matrix: 2 × 2 of type dbl</caption>\n",
       "<tbody>\n",
       "\t<tr><td>21.1745957</td><td> 3.197701</td></tr>\n",
       "\t<tr><td>-0.8642078</td><td>15.914779</td></tr>\n",
       "</tbody>\n",
       "</table>\n"
      ],
      "text/latex": [
       "A matrix: 2 × 2 of type dbl\n",
       "\\begin{tabular}{ll}\n",
       "\t 21.1745957 &  3.197701\\\\\n",
       "\t -0.8642078 & 15.914779\\\\\n",
       "\\end{tabular}\n"
      ],
      "text/markdown": [
       "\n",
       "A matrix: 2 × 2 of type dbl\n",
       "\n",
       "| 21.1745957 |  3.197701 |\n",
       "| -0.8642078 | 15.914779 |\n",
       "\n"
      ],
      "text/plain": [
       "     [,1]       [,2]     \n",
       "[1,] 21.1745957  3.197701\n",
       "[2,] -0.8642078 15.914779"
      ]
     },
     "metadata": {},
     "output_type": "display_data"
    }
   ],
   "source": [
    "bekk_fit$A\n",
    "bekk_fit$A_t\n",
    "bekk_fit$G\n",
    "bekk_fit$G_t"
   ]
  },
  {
   "cell_type": "markdown",
   "id": "99d80659-e526-4a5c-9fe0-43e9855d99dc",
   "metadata": {},
   "source": [
    "### VAR-BEKK Model Table for US Cocoa - London Cocoa"
   ]
  },
  {
   "cell_type": "code",
   "execution_count": 13,
   "id": "2de667e3-3850-49c5-aef3-0d46dc40cdda",
   "metadata": {},
   "outputs": [
    {
     "data": {
      "text/html": [
       "<table class=\"dataframe\">\n",
       "<caption>A data.frame: 14 × 5</caption>\n",
       "<thead>\n",
       "\t<tr><th scope=col>Parameters</th><th scope=col>Coefficient</th><th scope=col>Std_error</th><th scope=col>T_value</th><th scope=col>Significant_at_5p_level</th></tr>\n",
       "\t<tr><th scope=col>&lt;chr&gt;</th><th scope=col>&lt;dbl&gt;</th><th scope=col>&lt;dbl&gt;</th><th scope=col>&lt;dbl&gt;</th><th scope=col>&lt;chr&gt;</th></tr>\n",
       "</thead>\n",
       "<tbody>\n",
       "\t<tr><td>mu10 </td><td>-0.0002048468</td><td>0.0005281541</td><td>-0.3878541</td><td>Not Statistically Significant</td></tr>\n",
       "\t<tr><td>mu20 </td><td>-0.0001332705</td><td>0.0004438204</td><td>-0.3002802</td><td>Not Statistically Significant</td></tr>\n",
       "\t<tr><td>phi11</td><td>-0.0682652464</td><td>0.0646708464</td><td>-1.0555799</td><td>Not Statistically Significant</td></tr>\n",
       "\t<tr><td>phi12</td><td> 0.0507101070</td><td>0.0770207435</td><td> 0.6583954</td><td>Not Statistically Significant</td></tr>\n",
       "\t<tr><td>phi21</td><td>-0.0370329676</td><td>0.0543444421</td><td>-0.6814490</td><td>Not Statistically Significant</td></tr>\n",
       "\t<tr><td>phi22</td><td> 0.0313572067</td><td>0.0647223528</td><td> 0.4844881</td><td>Not Statistically Significant</td></tr>\n",
       "\t<tr><td>a11  </td><td> 0.1091155514</td><td>0.0815565453</td><td> 1.3379129</td><td>Not Statistically Significant</td></tr>\n",
       "\t<tr><td>a12  </td><td>-0.1914858789</td><td>0.0703540482</td><td>-2.7217464</td><td>Stat significant at 1%       </td></tr>\n",
       "\t<tr><td>a21  </td><td> 0.0797441693</td><td>0.0898028075</td><td> 0.8879919</td><td>Not Statistically Significant</td></tr>\n",
       "\t<tr><td>a22  </td><td> 0.3807526627</td><td>0.0800457391</td><td> 4.7566887</td><td>Stat significant at 1%       </td></tr>\n",
       "\t<tr><td>g11  </td><td> 1.0163506966</td><td>0.0479985880</td><td>21.1745957</td><td>Stat significant at 1%       </td></tr>\n",
       "\t<tr><td>g12  </td><td> 0.1480468726</td><td>0.0462979165</td><td> 3.1977005</td><td>Stat significant at 1%       </td></tr>\n",
       "\t<tr><td>g21  </td><td>-0.0462250829</td><td>0.0534883880</td><td>-0.8642078</td><td>Not Statistically Significant</td></tr>\n",
       "\t<tr><td>g22  </td><td> 0.8098920788</td><td>0.0508893075</td><td>15.9147789</td><td>Stat significant at 1%       </td></tr>\n",
       "</tbody>\n",
       "</table>\n"
      ],
      "text/latex": [
       "A data.frame: 14 × 5\n",
       "\\begin{tabular}{lllll}\n",
       " Parameters & Coefficient & Std\\_error & T\\_value & Significant\\_at\\_5p\\_level\\\\\n",
       " <chr> & <dbl> & <dbl> & <dbl> & <chr>\\\\\n",
       "\\hline\n",
       "\t mu10  & -0.0002048468 & 0.0005281541 & -0.3878541 & Not Statistically Significant\\\\\n",
       "\t mu20  & -0.0001332705 & 0.0004438204 & -0.3002802 & Not Statistically Significant\\\\\n",
       "\t phi11 & -0.0682652464 & 0.0646708464 & -1.0555799 & Not Statistically Significant\\\\\n",
       "\t phi12 &  0.0507101070 & 0.0770207435 &  0.6583954 & Not Statistically Significant\\\\\n",
       "\t phi21 & -0.0370329676 & 0.0543444421 & -0.6814490 & Not Statistically Significant\\\\\n",
       "\t phi22 &  0.0313572067 & 0.0647223528 &  0.4844881 & Not Statistically Significant\\\\\n",
       "\t a11   &  0.1091155514 & 0.0815565453 &  1.3379129 & Not Statistically Significant\\\\\n",
       "\t a12   & -0.1914858789 & 0.0703540482 & -2.7217464 & Stat significant at 1\\%       \\\\\n",
       "\t a21   &  0.0797441693 & 0.0898028075 &  0.8879919 & Not Statistically Significant\\\\\n",
       "\t a22   &  0.3807526627 & 0.0800457391 &  4.7566887 & Stat significant at 1\\%       \\\\\n",
       "\t g11   &  1.0163506966 & 0.0479985880 & 21.1745957 & Stat significant at 1\\%       \\\\\n",
       "\t g12   &  0.1480468726 & 0.0462979165 &  3.1977005 & Stat significant at 1\\%       \\\\\n",
       "\t g21   & -0.0462250829 & 0.0534883880 & -0.8642078 & Not Statistically Significant\\\\\n",
       "\t g22   &  0.8098920788 & 0.0508893075 & 15.9147789 & Stat significant at 1\\%       \\\\\n",
       "\\end{tabular}\n"
      ],
      "text/markdown": [
       "\n",
       "A data.frame: 14 × 5\n",
       "\n",
       "| Parameters &lt;chr&gt; | Coefficient &lt;dbl&gt; | Std_error &lt;dbl&gt; | T_value &lt;dbl&gt; | Significant_at_5p_level &lt;chr&gt; |\n",
       "|---|---|---|---|---|\n",
       "| mu10  | -0.0002048468 | 0.0005281541 | -0.3878541 | Not Statistically Significant |\n",
       "| mu20  | -0.0001332705 | 0.0004438204 | -0.3002802 | Not Statistically Significant |\n",
       "| phi11 | -0.0682652464 | 0.0646708464 | -1.0555799 | Not Statistically Significant |\n",
       "| phi12 |  0.0507101070 | 0.0770207435 |  0.6583954 | Not Statistically Significant |\n",
       "| phi21 | -0.0370329676 | 0.0543444421 | -0.6814490 | Not Statistically Significant |\n",
       "| phi22 |  0.0313572067 | 0.0647223528 |  0.4844881 | Not Statistically Significant |\n",
       "| a11   |  0.1091155514 | 0.0815565453 |  1.3379129 | Not Statistically Significant |\n",
       "| a12   | -0.1914858789 | 0.0703540482 | -2.7217464 | Stat significant at 1%        |\n",
       "| a21   |  0.0797441693 | 0.0898028075 |  0.8879919 | Not Statistically Significant |\n",
       "| a22   |  0.3807526627 | 0.0800457391 |  4.7566887 | Stat significant at 1%        |\n",
       "| g11   |  1.0163506966 | 0.0479985880 | 21.1745957 | Stat significant at 1%        |\n",
       "| g12   |  0.1480468726 | 0.0462979165 |  3.1977005 | Stat significant at 1%        |\n",
       "| g21   | -0.0462250829 | 0.0534883880 | -0.8642078 | Not Statistically Significant |\n",
       "| g22   |  0.8098920788 | 0.0508893075 | 15.9147789 | Stat significant at 1%        |\n",
       "\n"
      ],
      "text/plain": [
       "   Parameters Coefficient   Std_error    T_value   \n",
       "1  mu10       -0.0002048468 0.0005281541 -0.3878541\n",
       "2  mu20       -0.0001332705 0.0004438204 -0.3002802\n",
       "3  phi11      -0.0682652464 0.0646708464 -1.0555799\n",
       "4  phi12       0.0507101070 0.0770207435  0.6583954\n",
       "5  phi21      -0.0370329676 0.0543444421 -0.6814490\n",
       "6  phi22       0.0313572067 0.0647223528  0.4844881\n",
       "7  a11         0.1091155514 0.0815565453  1.3379129\n",
       "8  a12        -0.1914858789 0.0703540482 -2.7217464\n",
       "9  a21         0.0797441693 0.0898028075  0.8879919\n",
       "10 a22         0.3807526627 0.0800457391  4.7566887\n",
       "11 g11         1.0163506966 0.0479985880 21.1745957\n",
       "12 g12         0.1480468726 0.0462979165  3.1977005\n",
       "13 g21        -0.0462250829 0.0534883880 -0.8642078\n",
       "14 g22         0.8098920788 0.0508893075 15.9147789\n",
       "   Significant_at_5p_level      \n",
       "1  Not Statistically Significant\n",
       "2  Not Statistically Significant\n",
       "3  Not Statistically Significant\n",
       "4  Not Statistically Significant\n",
       "5  Not Statistically Significant\n",
       "6  Not Statistically Significant\n",
       "7  Not Statistically Significant\n",
       "8  Stat significant at 1%       \n",
       "9  Not Statistically Significant\n",
       "10 Stat significant at 1%       \n",
       "11 Stat significant at 1%       \n",
       "12 Stat significant at 1%       \n",
       "13 Not Statistically Significant\n",
       "14 Stat significant at 1%       "
      ]
     },
     "metadata": {},
     "output_type": "display_data"
    }
   ],
   "source": [
    "bekkc <- data.frame(Parameters = c(\"mu10\",\"mu20\",\"phi11\",\"phi12\",\"phi21\",\"phi22\",\"a11\",\"a12\",\"a21\",\"a22\",\"g11\",\"g12\",\"g21\",\"g22\"),\n",
    "                   Coefficient = c(summary(var_cr)$varresult$usc$coefficients[\"const\",\"Estimate\"],summary(var_cr)$varresult$lc$coefficients[\"const\",\"Estimate\"],\n",
    "                                   summary(var_cr)$varresult$usc$coefficients[\"usc.l1\",\"Estimate\"],summary(var_cr)$varresult$usc$coefficients[\"lc.l1\",\"Estimate\"],\n",
    "                                   summary(var_cr)$varresult$lc$coefficients[\"usc.l1\",\"Estimate\"],summary(var_cr)$varresult$lc$coefficients[\"lc.l1\",\"Estimate\"],\n",
    "                                   bekk_fit$A[1,1],bekk_fit$A[1,2],bekk_fit$A[2,1],bekk_fit$A[2,2],bekk_fit$G[1,1],bekk_fit$G[1,2],bekk_fit$G[2,1],bekk_fit$G[2,2]),\n",
    "                   Std_error = c(summary(var_cr)$varresult$usc$coefficients[\"const\",\"Std. Error\"],summary(var_cr)$varresult$lc$coefficients[\"const\",\"Std. Error\"],\n",
    "                               summary(var_cr)$varresult$usc$coefficients[\"usc.l1\",\"Std. Error\"],summary(var_cr)$varresult$usc$coefficients[\"lc.l1\",\"Std. Error\"],\n",
    "                                 summary(var_cr)$varresult$lc$coefficients[\"usc.l1\",\"Std. Error\"],summary(var_cr)$varresult$lc$coefficients[\"lc.l1\",\"Std. Error\"],\n",
    "                                 bekk_fit$A_sd[1,1],bekk_fit$A_sd[1,2],bekk_fit$A_sd[2,1],bekk_fit$A_sd[2,2],bekk_fit$G_sd[1,1],bekk_fit$G_sd[1,2],bekk_fit$G_sd[2,1],bekk_fit$G_sd[2,2]),\n",
    "                   T_value = c(summary(var_cr)$varresult$usc$coefficients[\"const\",\"t value\"],summary(var_cr)$varresult$lc$coefficients[\"const\",\"t value\"],\n",
    "                               summary(var_cr)$varresult$usc$coefficients[\"usc.l1\",\"t value\"],summary(var_cr)$varresult$usc$coefficients[\"lc.l1\",\"t value\"],\n",
    "                               summary(var_cr)$varresult$lc$coefficients[\"usc.l1\",\"t value\"],summary(var_cr)$varresult$lc$coefficients[\"lc.l1\",\"t value\"],\n",
    "                               bekk_fit$A_t[1,1],bekk_fit$A_t[1,2],bekk_fit$A_t[2,1],bekk_fit$A_t[2,2],bekk_fit$G_t[1,1],bekk_fit$G_t[1,2],\n",
    "                                 bekk_fit$G_t[2,1],bekk_fit$G_t[2,2]))\n",
    "\n",
    "bekkc$Significant_at_5p_level[abs(bekkc$T_value) >= 2.58 ] <- \"Stat significant at 1%\"\n",
    "bekkc$Significant_at_5p_level[abs(bekkc$T_value) > 1.96 & abs(bekkc$T_value) < 2.58] <- \"Stat significant at 5%\"\n",
    "bekkc$Significant_at_5p_level[abs(bekkc$T_value) > 1.645 & abs(bekkc$T_value) <= 1.96 ] <- \"Stat significant at 10%\"\n",
    "bekkc$Significant_at_5p_level[abs(bekkc$T_value) <= 1.645] <- \"Not Statistically Significant\"\n",
    "bekkc"
   ]
  },
  {
   "cell_type": "code",
   "execution_count": 14,
   "id": "ad511aa3-a4a8-4725-8b3d-05a92b9d8cc9",
   "metadata": {},
   "outputs": [
    {
     "data": {
      "text/plain": [
       "\n",
       "\tGranger causality H0: usc do not Granger-cause lc\n",
       "\n",
       "data:  VAR object var_cr\n",
       "F-Test = 0.46437, df1 = 1, df2 = 2070, p-value = 0.4957\n"
      ]
     },
     "metadata": {},
     "output_type": "display_data"
    },
    {
     "data": {
      "text/plain": [
       "\n",
       "\tGranger causality H0: lc do not Granger-cause usc\n",
       "\n",
       "data:  VAR object var_cr\n",
       "F-Test = 0.43348, df1 = 1, df2 = 2070, p-value = 0.5104\n"
      ]
     },
     "metadata": {},
     "output_type": "display_data"
    }
   ],
   "source": [
    "causality(var_cr,cause = \"usc\")$Granger\n",
    "causality(var_cr,cause = \"lc\")$Granger"
   ]
  },
  {
   "cell_type": "markdown",
   "id": "94eb116d-321f-4de1-8967-6c4db75a0063",
   "metadata": {},
   "source": [
    "## (ii) VAR-BEKK Models for US Cocoa"
   ]
  },
  {
   "cell_type": "code",
   "execution_count": 15,
   "id": "607c3ec6-2407-400c-a041-ab0d83f9be69",
   "metadata": {},
   "outputs": [
    {
     "name": "stdout",
     "output_type": "stream",
     "text": [
      "An xts object on 2015-12-01 / 2020-01-31 containing: \n",
      "  Data:    double [1039, 9]\n",
      "  Columns: usc, eurusd, gbpusd, chfusd, usdgbp ... with 4 more columns\n",
      "  Index:   Date [1039] (TZ: \"UTC\")\n",
      "  xts Attributes:\n",
      "    $ na.action       : 'omit' int [1:3352] 1 2 3 4 5 6 7 8 9 10 ...\n",
      "  ..- attr(*, \"index\")= num [1:3352] 1.18e+09 1.18e+09 1.18e+09 1.18e+09 1.18e+09 ...\n",
      "    $ ret_type        : chr \"log\"\n",
      "    $ coredata_content: chr \"logReturn\"\n"
     ]
    },
    {
     "data": {
      "text/plain": [
       "                     usc       eurusd       gbpusd       chfusd       usdgbp\n",
       "2015-12-01 -0.0005991612  0.006321969  0.001625882  0.002722348 -0.001732907\n",
       "2015-12-02 -0.0011994004 -0.001553197 -0.008624044  0.007359363  0.008709418\n",
       "2015-12-03  0.0157764844  0.030294804  0.012891829  0.024842875 -0.012789822\n",
       "2015-12-04  0.0011806377 -0.005039410 -0.002181242 -0.003532781  0.002042284\n",
       "2015-12-07  0.0079330517 -0.004695709 -0.003944909 -0.003295225  0.003996838\n",
       "2015-12-08 -0.0300037359  0.005338500 -0.002993915  0.008267391  0.002930901\n",
       "                  eurgbp        chfgbp        ghsusd        ghsgbp\n",
       "2015-12-01  4.759377e-03  0.0010835914 -0.0009211267 -0.0025456561\n",
       "2015-12-02  6.216905e-03  0.0160384054  0.0012889628  0.0099212308\n",
       "2015-12-03  1.717679e-02  0.0119562529 -0.0073730523 -0.0201777897\n",
       "2015-12-04 -2.772965e-03 -0.0014302385  0.0113934382  0.0134894260\n",
       "2015-12-07 -6.942275e-05  0.0006777364 -0.0043882219 -0.0004514615\n",
       "2015-12-08  7.538854e-03  0.0111540626 -0.0096534483 -0.0066621131"
      ]
     },
     "metadata": {},
     "output_type": "display_data"
    },
    {
     "data": {
      "text/plain": [
       "                     usc        eurusd        gbpusd        chfusd\n",
       "2020-01-24 -0.0115358165 -0.0026269321 -0.0034732197 -0.0023766229\n",
       "2020-01-27  0.0003625159 -0.0006351223 -0.0017219941  0.0016496850\n",
       "2020-01-28 -0.0105666860  0.0003629764 -0.0020703147 -0.0034966769\n",
       "2020-01-29  0.0087527911 -0.0009985023 -0.0005374487 -0.0002432794\n",
       "2020-01-30  0.0272223113  0.0019053674  0.0057052210  0.0038369119\n",
       "2020-01-31 -0.0103002154  0.0056042811  0.0080239246  0.0065228652\n",
       "                  usdgbp        eurgbp        chfgbp        ghsusd       ghsgbp\n",
       "2020-01-24  0.0035370444  0.0010679325  0.0010801539 -1.018738e-03  0.002464379\n",
       "2020-01-27  0.0016985697  0.0009483168  0.0033600691  5.026346e-05  0.001733125\n",
       "2020-01-28  0.0020214542  0.0024850613 -0.0013933754  2.312178e-03  0.004415901\n",
       "2020-01-29  0.0005210029 -0.0005911214  0.0003168467  2.848696e-03  0.003384184\n",
       "2020-01-30 -0.0056805350 -0.0035540850 -0.0019025881  9.232890e-03  0.003531378\n",
       "2020-01-31 -0.0080205545 -0.0028523908 -0.0015246811  3.445617e-03 -0.004588158"
      ]
     },
     "metadata": {},
     "output_type": "display_data"
    }
   ],
   "source": [
    "us_d <- na.omit(merge(cr_d[,1],fr_d))\n",
    "str(us_d)\n",
    "head(us_d)\n",
    "tail(us_d)"
   ]
  },
  {
   "cell_type": "markdown",
   "id": "45a18108-984d-4403-bc0c-f7dcf2badcad",
   "metadata": {},
   "source": [
    "## (a) US Cocoa - EURUSD"
   ]
  },
  {
   "cell_type": "code",
   "execution_count": 16,
   "id": "7565652c-9868-4d3b-aa1a-9b6e2b2937a1",
   "metadata": {},
   "outputs": [
    {
     "data": {
      "text/plain": [
       "                     usc       eurusd\n",
       "2015-12-01 -0.0005991612  0.006321969\n",
       "2015-12-02 -0.0011994004 -0.001553197\n",
       "2015-12-03  0.0157764844  0.030294804\n",
       "2015-12-04  0.0011806377 -0.005039410\n",
       "2015-12-07  0.0079330517 -0.004695709\n",
       "2015-12-08 -0.0300037359  0.005338500"
      ]
     },
     "metadata": {},
     "output_type": "display_data"
    },
    {
     "data": {
      "text/plain": [
       "                     usc        eurusd\n",
       "2020-01-24 -0.0115358165 -0.0026269321\n",
       "2020-01-27  0.0003625159 -0.0006351223\n",
       "2020-01-28 -0.0105666860  0.0003629764\n",
       "2020-01-29  0.0087527911 -0.0009985023\n",
       "2020-01-30  0.0272223113  0.0019053674\n",
       "2020-01-31 -0.0103002154  0.0056042811"
      ]
     },
     "metadata": {},
     "output_type": "display_data"
    },
    {
     "data": {
      "text/html": [
       "<dl>\n",
       "\t<dt>$selection</dt>\n",
       "\t\t<dd><style>\n",
       ".dl-inline {width: auto; margin:0; padding: 0}\n",
       ".dl-inline>dt, .dl-inline>dd {float: none; width: auto; display: inline-block}\n",
       ".dl-inline>dt::after {content: \":\\0020\"; padding-right: .5ex}\n",
       ".dl-inline>dt:not(:first-of-type) {padding-left: .5ex}\n",
       "</style><dl class=dl-inline><dt>AIC(n)</dt><dd>1</dd><dt>HQ(n)</dt><dd>1</dd><dt>SC(n)</dt><dd>1</dd><dt>FPE(n)</dt><dd>1</dd></dl>\n",
       "</dd>\n",
       "\t<dt>$criteria</dt>\n",
       "\t\t<dd><table class=\"dataframe\">\n",
       "<caption>A matrix: 4 × 10 of type dbl</caption>\n",
       "<thead>\n",
       "\t<tr><th></th><th scope=col>1</th><th scope=col>2</th><th scope=col>3</th><th scope=col>4</th><th scope=col>5</th><th scope=col>6</th><th scope=col>7</th><th scope=col>8</th><th scope=col>9</th><th scope=col>10</th></tr>\n",
       "</thead>\n",
       "<tbody>\n",
       "\t<tr><th scope=row>AIC(n)</th><td>-1.901054e+01</td><td>-1.900633e+01</td><td>-1.900109e+01</td><td>-1.899874e+01</td><td>-1.899454e+01</td><td>-1.898820e+01</td><td>-1.898485e+01</td><td>-1.897788e+01</td><td>-1.897649e+01</td><td>-1.897228e+01</td></tr>\n",
       "\t<tr><th scope=row>HQ(n)</th><td>-1.899962e+01</td><td>-1.898812e+01</td><td>-1.897560e+01</td><td>-1.896597e+01</td><td>-1.895449e+01</td><td>-1.894086e+01</td><td>-1.893023e+01</td><td>-1.891597e+01</td><td>-1.890730e+01</td><td>-1.889580e+01</td></tr>\n",
       "\t<tr><th scope=row>SC(n)</th><td>-1.898176e+01</td><td>-1.895836e+01</td><td>-1.893393e+01</td><td>-1.891239e+01</td><td>-1.888900e+01</td><td>-1.886348e+01</td><td>-1.884094e+01</td><td>-1.881477e+01</td><td>-1.879420e+01</td><td>-1.877079e+01</td></tr>\n",
       "\t<tr><th scope=row>FPE(n)</th><td> 5.544042e-09</td><td> 5.567453e-09</td><td> 5.596708e-09</td><td> 5.609844e-09</td><td> 5.633466e-09</td><td> 5.669300e-09</td><td> 5.688333e-09</td><td> 5.728172e-09</td><td> 5.736117e-09</td><td> 5.760368e-09</td></tr>\n",
       "</tbody>\n",
       "</table>\n",
       "</dd>\n",
       "</dl>\n"
      ],
      "text/latex": [
       "\\begin{description}\n",
       "\\item[\\$selection] \\begin{description*}\n",
       "\\item[AIC(n)] 1\n",
       "\\item[HQ(n)] 1\n",
       "\\item[SC(n)] 1\n",
       "\\item[FPE(n)] 1\n",
       "\\end{description*}\n",
       "\n",
       "\\item[\\$criteria] A matrix: 4 × 10 of type dbl\n",
       "\\begin{tabular}{r|llllllllll}\n",
       "  & 1 & 2 & 3 & 4 & 5 & 6 & 7 & 8 & 9 & 10\\\\\n",
       "\\hline\n",
       "\tAIC(n) & -1.901054e+01 & -1.900633e+01 & -1.900109e+01 & -1.899874e+01 & -1.899454e+01 & -1.898820e+01 & -1.898485e+01 & -1.897788e+01 & -1.897649e+01 & -1.897228e+01\\\\\n",
       "\tHQ(n) & -1.899962e+01 & -1.898812e+01 & -1.897560e+01 & -1.896597e+01 & -1.895449e+01 & -1.894086e+01 & -1.893023e+01 & -1.891597e+01 & -1.890730e+01 & -1.889580e+01\\\\\n",
       "\tSC(n) & -1.898176e+01 & -1.895836e+01 & -1.893393e+01 & -1.891239e+01 & -1.888900e+01 & -1.886348e+01 & -1.884094e+01 & -1.881477e+01 & -1.879420e+01 & -1.877079e+01\\\\\n",
       "\tFPE(n) &  5.544042e-09 &  5.567453e-09 &  5.596708e-09 &  5.609844e-09 &  5.633466e-09 &  5.669300e-09 &  5.688333e-09 &  5.728172e-09 &  5.736117e-09 &  5.760368e-09\\\\\n",
       "\\end{tabular}\n",
       "\n",
       "\\end{description}\n"
      ],
      "text/markdown": [
       "$selection\n",
       ":   AIC(n)\n",
       ":   1HQ(n)\n",
       ":   1SC(n)\n",
       ":   1FPE(n)\n",
       ":   1\n",
       "\n",
       "\n",
       "$criteria\n",
       ":   \n",
       "A matrix: 4 × 10 of type dbl\n",
       "\n",
       "| <!--/--> | 1 | 2 | 3 | 4 | 5 | 6 | 7 | 8 | 9 | 10 |\n",
       "|---|---|---|---|---|---|---|---|---|---|---|\n",
       "| AIC(n) | -1.901054e+01 | -1.900633e+01 | -1.900109e+01 | -1.899874e+01 | -1.899454e+01 | -1.898820e+01 | -1.898485e+01 | -1.897788e+01 | -1.897649e+01 | -1.897228e+01 |\n",
       "| HQ(n) | -1.899962e+01 | -1.898812e+01 | -1.897560e+01 | -1.896597e+01 | -1.895449e+01 | -1.894086e+01 | -1.893023e+01 | -1.891597e+01 | -1.890730e+01 | -1.889580e+01 |\n",
       "| SC(n) | -1.898176e+01 | -1.895836e+01 | -1.893393e+01 | -1.891239e+01 | -1.888900e+01 | -1.886348e+01 | -1.884094e+01 | -1.881477e+01 | -1.879420e+01 | -1.877079e+01 |\n",
       "| FPE(n) |  5.544042e-09 |  5.567453e-09 |  5.596708e-09 |  5.609844e-09 |  5.633466e-09 |  5.669300e-09 |  5.688333e-09 |  5.728172e-09 |  5.736117e-09 |  5.760368e-09 |\n",
       "\n",
       "\n",
       "\n",
       "\n"
      ],
      "text/plain": [
       "$selection\n",
       "AIC(n)  HQ(n)  SC(n) FPE(n) \n",
       "     1      1      1      1 \n",
       "\n",
       "$criteria\n",
       "                   1             2             3             4             5\n",
       "AIC(n) -1.901054e+01 -1.900633e+01 -1.900109e+01 -1.899874e+01 -1.899454e+01\n",
       "HQ(n)  -1.899962e+01 -1.898812e+01 -1.897560e+01 -1.896597e+01 -1.895449e+01\n",
       "SC(n)  -1.898176e+01 -1.895836e+01 -1.893393e+01 -1.891239e+01 -1.888900e+01\n",
       "FPE(n)  5.544042e-09  5.567453e-09  5.596708e-09  5.609844e-09  5.633466e-09\n",
       "                   6             7             8             9            10\n",
       "AIC(n) -1.898820e+01 -1.898485e+01 -1.897788e+01 -1.897649e+01 -1.897228e+01\n",
       "HQ(n)  -1.894086e+01 -1.893023e+01 -1.891597e+01 -1.890730e+01 -1.889580e+01\n",
       "SC(n)  -1.886348e+01 -1.884094e+01 -1.881477e+01 -1.879420e+01 -1.877079e+01\n",
       "FPE(n)  5.669300e-09  5.688333e-09  5.728172e-09  5.736117e-09  5.760368e-09\n"
      ]
     },
     "metadata": {},
     "output_type": "display_data"
    }
   ],
   "source": [
    "bekk1data <- us_d[,c(1:2)]\n",
    "head(bekk1data)\n",
    "tail(bekk1data)\n",
    "VARselect(bekk1data,type = \"const\")"
   ]
  },
  {
   "cell_type": "code",
   "execution_count": 17,
   "id": "5db7f69a-4f32-4aa0-af1b-011b44f1301e",
   "metadata": {},
   "outputs": [],
   "source": [
    "var_bekk1<-VAR(bekk1data,p = 1,type = \"const\")\n",
    "res_bekk1 <- residuals(var_bekk1)\n",
    "res_bekk1 <- as.data.frame(res_bekk1)"
   ]
  },
  {
   "cell_type": "code",
   "execution_count": 18,
   "id": "07202ce0-b966-4087-b3d7-6cd49c61269b",
   "metadata": {},
   "outputs": [
    {
     "data": {
      "text/plain": [
       "\n",
       "VAR Estimation Results:\n",
       "========================= \n",
       "Endogenous variables: usc, eurusd \n",
       "Deterministic variables: const \n",
       "Sample size: 1038 \n",
       "Log Likelihood: 6902.965 \n",
       "Roots of the characteristic polynomial:\n",
       "0.09648 0.006121\n",
       "Call:\n",
       "VAR(y = bekk1data, p = 1, type = \"const\")\n",
       "\n",
       "\n",
       "Estimation results for equation usc: \n",
       "==================================== \n",
       "usc = usc.l1 + eurusd.l1 + const \n",
       "\n",
       "            Estimate Std. Error t value Pr(>|t|)\n",
       "usc.l1    -0.0379224  0.0313982  -1.208    0.227\n",
       "eurusd.l1  0.1747507  0.1178735   1.483    0.139\n",
       "const     -0.0002120  0.0005277  -0.402    0.688\n",
       "\n",
       "\n",
       "Residual standard error: 0.017 on 1035 degrees of freedom\n",
       "Multiple R-Squared: 0.003073,\tAdjusted R-squared: 0.001146 \n",
       "F-statistic: 1.595 on 2 and 1035 DF,  p-value: 0.2034 \n",
       "\n",
       "\n",
       "Estimation results for equation eurusd: \n",
       "======================================= \n",
       "eurusd = usc.l1 + eurusd.l1 + const \n",
       "\n",
       "            Estimate Std. Error t value Pr(>|t|)  \n",
       "usc.l1     1.476e-02  8.353e-03   1.767   0.0775 .\n",
       "eurusd.l1 -5.244e-02  3.136e-02  -1.672   0.0948 .\n",
       "const      4.384e-05  1.404e-04   0.312   0.7549  \n",
       "---\n",
       "Signif. codes:  0 ‘***’ 0.001 ‘**’ 0.01 ‘*’ 0.05 ‘.’ 0.1 ‘ ’ 1\n",
       "\n",
       "\n",
       "Residual standard error: 0.004523 on 1035 degrees of freedom\n",
       "Multiple R-Squared: 0.004947,\tAdjusted R-squared: 0.003024 \n",
       "F-statistic: 2.573 on 2 and 1035 DF,  p-value: 0.0768 \n",
       "\n",
       "\n",
       "\n",
       "Covariance matrix of residuals:\n",
       "             usc    eurusd\n",
       "usc    2.890e-04 1.186e-05\n",
       "eurusd 1.186e-05 2.045e-05\n",
       "\n",
       "Correlation matrix of residuals:\n",
       "          usc eurusd\n",
       "usc    1.0000 0.1542\n",
       "eurusd 0.1542 1.0000\n",
       "\n"
      ]
     },
     "metadata": {},
     "output_type": "display_data"
    }
   ],
   "source": [
    "summary(var_bekk1)"
   ]
  },
  {
   "cell_type": "code",
   "execution_count": 19,
   "id": "2b8a57d9-6f25-42e5-9e44-03cfebbab8e3",
   "metadata": {},
   "outputs": [
    {
     "name": "stdout",
     "output_type": "stream",
     "text": [
      " Date[1:1038], format: \"2015-12-02\" \"2015-12-03\" \"2015-12-04\" \"2015-12-07\" \"2015-12-08\" ...\n"
     ]
    }
   ],
   "source": [
    "ind_var1 <- index(bekk1data)[-1]\n",
    "str(ind_var1)"
   ]
  },
  {
   "cell_type": "code",
   "execution_count": 20,
   "id": "f4c8c1f6-ece6-4fa4-a44b-eca81f65c847",
   "metadata": {},
   "outputs": [],
   "source": [
    "res_bekk1 <- xts(res_bekk1,order.by = ind_var1)"
   ]
  },
  {
   "cell_type": "code",
   "execution_count": 21,
   "id": "d99ac35d-d4e3-47a7-8ef7-64ca30e7bb03",
   "metadata": {},
   "outputs": [],
   "source": [
    "bekk_spec <- bekk_spec(model = list(type = \"bekk\",asymmetric = F))\n",
    "bekk1_fit <- bekk_fit(spec = bekk_spec,data = res_bekk1)"
   ]
  },
  {
   "cell_type": "code",
   "execution_count": 22,
   "id": "65fe10f3-32e6-4ad4-aeb1-612f8cc3bd90",
   "metadata": {},
   "outputs": [
    {
     "data": {
      "text/html": [
       "<table class=\"dataframe\">\n",
       "<caption>A matrix: 2 × 2 of type dbl</caption>\n",
       "<tbody>\n",
       "\t<tr><td>0.1486179</td><td>0.03675437</td></tr>\n",
       "\t<tr><td>0.4707366</td><td>0.10755231</td></tr>\n",
       "</tbody>\n",
       "</table>\n"
      ],
      "text/latex": [
       "A matrix: 2 × 2 of type dbl\n",
       "\\begin{tabular}{ll}\n",
       "\t 0.1486179 & 0.03675437\\\\\n",
       "\t 0.4707366 & 0.10755231\\\\\n",
       "\\end{tabular}\n"
      ],
      "text/markdown": [
       "\n",
       "A matrix: 2 × 2 of type dbl\n",
       "\n",
       "| 0.1486179 | 0.03675437 |\n",
       "| 0.4707366 | 0.10755231 |\n",
       "\n"
      ],
      "text/plain": [
       "     [,1]      [,2]      \n",
       "[1,] 0.1486179 0.03675437\n",
       "[2,] 0.4707366 0.10755231"
      ]
     },
     "metadata": {},
     "output_type": "display_data"
    },
    {
     "data": {
      "text/html": [
       "<table class=\"dataframe\">\n",
       "<caption>A matrix: 2 × 2 of type dbl</caption>\n",
       "<tbody>\n",
       "\t<tr><td>6.508308</td><td>3.381406</td></tr>\n",
       "\t<tr><td>6.008415</td><td>3.146561</td></tr>\n",
       "</tbody>\n",
       "</table>\n"
      ],
      "text/latex": [
       "A matrix: 2 × 2 of type dbl\n",
       "\\begin{tabular}{ll}\n",
       "\t 6.508308 & 3.381406\\\\\n",
       "\t 6.008415 & 3.146561\\\\\n",
       "\\end{tabular}\n"
      ],
      "text/markdown": [
       "\n",
       "A matrix: 2 × 2 of type dbl\n",
       "\n",
       "| 6.508308 | 3.381406 |\n",
       "| 6.008415 | 3.146561 |\n",
       "\n"
      ],
      "text/plain": [
       "     [,1]     [,2]    \n",
       "[1,] 6.508308 3.381406\n",
       "[2,] 6.008415 3.146561"
      ]
     },
     "metadata": {},
     "output_type": "display_data"
    },
    {
     "data": {
      "text/html": [
       "<table class=\"dataframe\">\n",
       "<caption>A matrix: 2 × 2 of type dbl</caption>\n",
       "<tbody>\n",
       "\t<tr><td> 0.9191873</td><td>-0.03115894</td></tr>\n",
       "\t<tr><td>-0.0789905</td><td> 0.95797919</td></tr>\n",
       "</tbody>\n",
       "</table>\n"
      ],
      "text/latex": [
       "A matrix: 2 × 2 of type dbl\n",
       "\\begin{tabular}{ll}\n",
       "\t  0.9191873 & -0.03115894\\\\\n",
       "\t -0.0789905 &  0.95797919\\\\\n",
       "\\end{tabular}\n"
      ],
      "text/markdown": [
       "\n",
       "A matrix: 2 × 2 of type dbl\n",
       "\n",
       "|  0.9191873 | -0.03115894 |\n",
       "| -0.0789905 |  0.95797919 |\n",
       "\n"
      ],
      "text/plain": [
       "     [,1]       [,2]       \n",
       "[1,]  0.9191873 -0.03115894\n",
       "[2,] -0.0789905  0.95797919"
      ]
     },
     "metadata": {},
     "output_type": "display_data"
    },
    {
     "data": {
      "text/html": [
       "<table class=\"dataframe\">\n",
       "<caption>A matrix: 2 × 2 of type dbl</caption>\n",
       "<tbody>\n",
       "\t<tr><td>43.898307</td><td>-3.648638</td></tr>\n",
       "\t<tr><td>-1.460835</td><td>44.092120</td></tr>\n",
       "</tbody>\n",
       "</table>\n"
      ],
      "text/latex": [
       "A matrix: 2 × 2 of type dbl\n",
       "\\begin{tabular}{ll}\n",
       "\t 43.898307 & -3.648638\\\\\n",
       "\t -1.460835 & 44.092120\\\\\n",
       "\\end{tabular}\n"
      ],
      "text/markdown": [
       "\n",
       "A matrix: 2 × 2 of type dbl\n",
       "\n",
       "| 43.898307 | -3.648638 |\n",
       "| -1.460835 | 44.092120 |\n",
       "\n"
      ],
      "text/plain": [
       "     [,1]      [,2]     \n",
       "[1,] 43.898307 -3.648638\n",
       "[2,] -1.460835 44.092120"
      ]
     },
     "metadata": {},
     "output_type": "display_data"
    }
   ],
   "source": [
    "bekk1_fit$A\n",
    "bekk1_fit$A_t\n",
    "bekk1_fit$G\n",
    "bekk1_fit$G_t"
   ]
  },
  {
   "cell_type": "markdown",
   "id": "320610b2-4dc3-447a-ac19-8a5280735191",
   "metadata": {},
   "source": [
    "### VAR-BEKK Model Table for US Cocoa - EURUSD"
   ]
  },
  {
   "cell_type": "code",
   "execution_count": 23,
   "id": "5a73fa39-40bb-4248-917a-3e66fd28971c",
   "metadata": {},
   "outputs": [
    {
     "data": {
      "text/html": [
       "<table class=\"dataframe\">\n",
       "<caption>A data.frame: 14 × 5</caption>\n",
       "<thead>\n",
       "\t<tr><th scope=col>Parameters</th><th scope=col>Coefficient</th><th scope=col>Std_error</th><th scope=col>T_value</th><th scope=col>Significant_at_5p_level</th></tr>\n",
       "\t<tr><th scope=col>&lt;chr&gt;</th><th scope=col>&lt;dbl&gt;</th><th scope=col>&lt;dbl&gt;</th><th scope=col>&lt;dbl&gt;</th><th scope=col>&lt;chr&gt;</th></tr>\n",
       "</thead>\n",
       "<tbody>\n",
       "\t<tr><td>mu10 </td><td>-0.0002119523</td><td>0.0005277312</td><td>-0.4016292</td><td>Not Statistically Significant</td></tr>\n",
       "\t<tr><td>mu20 </td><td> 0.0000438417</td><td>0.0001403884</td><td> 0.3122885</td><td>Not Statistically Significant</td></tr>\n",
       "\t<tr><td>phi11</td><td>-0.0379223979</td><td>0.0313981521</td><td>-1.2077908</td><td>Not Statistically Significant</td></tr>\n",
       "\t<tr><td>phi12</td><td> 0.1747506919</td><td>0.1178735187</td><td> 1.4825272</td><td>Not Statistically Significant</td></tr>\n",
       "\t<tr><td>phi21</td><td> 0.0147582855</td><td>0.0083526189</td><td> 1.7669052</td><td>Stat significant at 10%      </td></tr>\n",
       "\t<tr><td>phi22</td><td>-0.0524359043</td><td>0.0313570232</td><td>-1.6722220</td><td>Stat significant at 10%      </td></tr>\n",
       "\t<tr><td>a11  </td><td> 0.1486179097</td><td>0.0228351082</td><td> 6.5083077</td><td>Stat significant at 1%       </td></tr>\n",
       "\t<tr><td>a12  </td><td> 0.0367543714</td><td>0.0108695533</td><td> 3.3814059</td><td>Stat significant at 1%       </td></tr>\n",
       "\t<tr><td>a21  </td><td> 0.4707365886</td><td>0.0783462219</td><td> 6.0084147</td><td>Stat significant at 1%       </td></tr>\n",
       "\t<tr><td>a22  </td><td> 0.1075523141</td><td>0.0341809048</td><td> 3.1465614</td><td>Stat significant at 1%       </td></tr>\n",
       "\t<tr><td>g11  </td><td> 0.9191873110</td><td>0.0209390150</td><td>43.8983071</td><td>Stat significant at 1%       </td></tr>\n",
       "\t<tr><td>g12  </td><td>-0.0311589376</td><td>0.0085398829</td><td>-3.6486376</td><td>Stat significant at 1%       </td></tr>\n",
       "\t<tr><td>g21  </td><td>-0.0789905013</td><td>0.0540721605</td><td>-1.4608349</td><td>Not Statistically Significant</td></tr>\n",
       "\t<tr><td>g22  </td><td> 0.9579791930</td><td>0.0217267663</td><td>44.0921203</td><td>Stat significant at 1%       </td></tr>\n",
       "</tbody>\n",
       "</table>\n"
      ],
      "text/latex": [
       "A data.frame: 14 × 5\n",
       "\\begin{tabular}{lllll}\n",
       " Parameters & Coefficient & Std\\_error & T\\_value & Significant\\_at\\_5p\\_level\\\\\n",
       " <chr> & <dbl> & <dbl> & <dbl> & <chr>\\\\\n",
       "\\hline\n",
       "\t mu10  & -0.0002119523 & 0.0005277312 & -0.4016292 & Not Statistically Significant\\\\\n",
       "\t mu20  &  0.0000438417 & 0.0001403884 &  0.3122885 & Not Statistically Significant\\\\\n",
       "\t phi11 & -0.0379223979 & 0.0313981521 & -1.2077908 & Not Statistically Significant\\\\\n",
       "\t phi12 &  0.1747506919 & 0.1178735187 &  1.4825272 & Not Statistically Significant\\\\\n",
       "\t phi21 &  0.0147582855 & 0.0083526189 &  1.7669052 & Stat significant at 10\\%      \\\\\n",
       "\t phi22 & -0.0524359043 & 0.0313570232 & -1.6722220 & Stat significant at 10\\%      \\\\\n",
       "\t a11   &  0.1486179097 & 0.0228351082 &  6.5083077 & Stat significant at 1\\%       \\\\\n",
       "\t a12   &  0.0367543714 & 0.0108695533 &  3.3814059 & Stat significant at 1\\%       \\\\\n",
       "\t a21   &  0.4707365886 & 0.0783462219 &  6.0084147 & Stat significant at 1\\%       \\\\\n",
       "\t a22   &  0.1075523141 & 0.0341809048 &  3.1465614 & Stat significant at 1\\%       \\\\\n",
       "\t g11   &  0.9191873110 & 0.0209390150 & 43.8983071 & Stat significant at 1\\%       \\\\\n",
       "\t g12   & -0.0311589376 & 0.0085398829 & -3.6486376 & Stat significant at 1\\%       \\\\\n",
       "\t g21   & -0.0789905013 & 0.0540721605 & -1.4608349 & Not Statistically Significant\\\\\n",
       "\t g22   &  0.9579791930 & 0.0217267663 & 44.0921203 & Stat significant at 1\\%       \\\\\n",
       "\\end{tabular}\n"
      ],
      "text/markdown": [
       "\n",
       "A data.frame: 14 × 5\n",
       "\n",
       "| Parameters &lt;chr&gt; | Coefficient &lt;dbl&gt; | Std_error &lt;dbl&gt; | T_value &lt;dbl&gt; | Significant_at_5p_level &lt;chr&gt; |\n",
       "|---|---|---|---|---|\n",
       "| mu10  | -0.0002119523 | 0.0005277312 | -0.4016292 | Not Statistically Significant |\n",
       "| mu20  |  0.0000438417 | 0.0001403884 |  0.3122885 | Not Statistically Significant |\n",
       "| phi11 | -0.0379223979 | 0.0313981521 | -1.2077908 | Not Statistically Significant |\n",
       "| phi12 |  0.1747506919 | 0.1178735187 |  1.4825272 | Not Statistically Significant |\n",
       "| phi21 |  0.0147582855 | 0.0083526189 |  1.7669052 | Stat significant at 10%       |\n",
       "| phi22 | -0.0524359043 | 0.0313570232 | -1.6722220 | Stat significant at 10%       |\n",
       "| a11   |  0.1486179097 | 0.0228351082 |  6.5083077 | Stat significant at 1%        |\n",
       "| a12   |  0.0367543714 | 0.0108695533 |  3.3814059 | Stat significant at 1%        |\n",
       "| a21   |  0.4707365886 | 0.0783462219 |  6.0084147 | Stat significant at 1%        |\n",
       "| a22   |  0.1075523141 | 0.0341809048 |  3.1465614 | Stat significant at 1%        |\n",
       "| g11   |  0.9191873110 | 0.0209390150 | 43.8983071 | Stat significant at 1%        |\n",
       "| g12   | -0.0311589376 | 0.0085398829 | -3.6486376 | Stat significant at 1%        |\n",
       "| g21   | -0.0789905013 | 0.0540721605 | -1.4608349 | Not Statistically Significant |\n",
       "| g22   |  0.9579791930 | 0.0217267663 | 44.0921203 | Stat significant at 1%        |\n",
       "\n"
      ],
      "text/plain": [
       "   Parameters Coefficient   Std_error    T_value   \n",
       "1  mu10       -0.0002119523 0.0005277312 -0.4016292\n",
       "2  mu20        0.0000438417 0.0001403884  0.3122885\n",
       "3  phi11      -0.0379223979 0.0313981521 -1.2077908\n",
       "4  phi12       0.1747506919 0.1178735187  1.4825272\n",
       "5  phi21       0.0147582855 0.0083526189  1.7669052\n",
       "6  phi22      -0.0524359043 0.0313570232 -1.6722220\n",
       "7  a11         0.1486179097 0.0228351082  6.5083077\n",
       "8  a12         0.0367543714 0.0108695533  3.3814059\n",
       "9  a21         0.4707365886 0.0783462219  6.0084147\n",
       "10 a22         0.1075523141 0.0341809048  3.1465614\n",
       "11 g11         0.9191873110 0.0209390150 43.8983071\n",
       "12 g12        -0.0311589376 0.0085398829 -3.6486376\n",
       "13 g21        -0.0789905013 0.0540721605 -1.4608349\n",
       "14 g22         0.9579791930 0.0217267663 44.0921203\n",
       "   Significant_at_5p_level      \n",
       "1  Not Statistically Significant\n",
       "2  Not Statistically Significant\n",
       "3  Not Statistically Significant\n",
       "4  Not Statistically Significant\n",
       "5  Stat significant at 10%      \n",
       "6  Stat significant at 10%      \n",
       "7  Stat significant at 1%       \n",
       "8  Stat significant at 1%       \n",
       "9  Stat significant at 1%       \n",
       "10 Stat significant at 1%       \n",
       "11 Stat significant at 1%       \n",
       "12 Stat significant at 1%       \n",
       "13 Not Statistically Significant\n",
       "14 Stat significant at 1%       "
      ]
     },
     "metadata": {},
     "output_type": "display_data"
    }
   ],
   "source": [
    "bekk1 <- data.frame(Parameters = c(\"mu10\",\"mu20\",\"phi11\",\"phi12\",\"phi21\",\"phi22\",\"a11\",\"a12\",\"a21\",\"a22\",\"g11\",\"g12\",\"g21\",\"g22\"),\n",
    "                   Coefficient = c(summary(var_bekk1)$varresult$usc$coefficients[\"const\",\"Estimate\"],summary(var_bekk1)$varresult$eurusd$coefficients[\"const\",\"Estimate\"],\n",
    "                                   summary(var_bekk1)$varresult$usc$coefficients[\"usc.l1\",\"Estimate\"],summary(var_bekk1)$varresult$usc$coefficients[\"eurusd.l1\",\"Estimate\"],\n",
    "                                   summary(var_bekk1)$varresult$eurusd$coefficients[\"usc.l1\",\"Estimate\"],summary(var_bekk1)$varresult$eurusd$coefficients[\"eurusd.l1\",\"Estimate\"],\n",
    "                                   bekk1_fit$A[1,1],bekk1_fit$A[1,2],bekk1_fit$A[2,1],bekk1_fit$A[2,2],bekk1_fit$G[1,1],bekk1_fit$G[1,2],bekk1_fit$G[2,1],bekk1_fit$G[2,2]),\n",
    "                   Std_error = c(summary(var_bekk1)$varresult$usc$coefficients[\"const\",\"Std. Error\"],summary(var_bekk1)$varresult$eurusd$coefficients[\"const\",\"Std. Error\"],\n",
    "                                summary(var_bekk1)$varresult$usc$coefficients[\"usc.l1\",\"Std. Error\"],summary(var_bekk1)$varresult$usc$coefficients[\"eurusd.l1\",\"Std. Error\"],\n",
    "                                 summary(var_bekk1)$varresult$eurusd$coefficients[\"usc.l1\",\"Std. Error\"],summary(var_bekk1)$varresult$eurusd$coefficients[\"eurusd.l1\",\"Std. Error\"],\n",
    "                                 bekk1_fit$A_sd[1,1],bekk1_fit$A_sd[1,2],bekk1_fit$A_sd[2,1],bekk1_fit$A_sd[2,2],bekk1_fit$G_sd[1,1],bekk1_fit$G_sd[1,2],bekk1_fit$G_sd[2,1],bekk1_fit$G_sd[2,2]),\n",
    "                   T_value = c(summary(var_bekk1)$varresult$usc$coefficients[\"const\",\"t value\"],summary(var_bekk1)$varresult$eurusd$coefficients[\"const\",\"t value\"],\n",
    "                       summary(var_bekk1)$varresult$usc$coefficients[\"usc.l1\",\"t value\"],summary(var_bekk1)$varresult$usc$coefficients[\"eurusd.l1\",\"t value\"],\n",
    "                               summary(var_bekk1)$varresult$eurusd$coefficients[\"usc.l1\",\"t value\"],summary(var_bekk1)$varresult$eurusd$coefficients[\"eurusd.l1\",\"t value\"],\n",
    "                               bekk1_fit$A_t[1,1],bekk1_fit$A_t[1,2],bekk1_fit$A_t[2,1],bekk1_fit$A_t[2,2],bekk1_fit$G_t[1,1],bekk1_fit$G_t[1,2],bekk1_fit$G_t[2,1],bekk1_fit$G_t[2,2]))\n",
    "\n",
    "bekk1$Significant_at_5p_level[abs(bekk1$T_value) >= 2.58 ] <- \"Stat significant at 1%\"\n",
    "bekk1$Significant_at_5p_level[abs(bekk1$T_value) > 1.96 & abs(bekk1$T_value) < 2.58] <- \"Stat significant at 5%\"\n",
    "bekk1$Significant_at_5p_level[abs(bekk1$T_value) > 1.645 & abs(bekk1$T_value) <= 1.96 ] <- \"Stat significant at 10%\"\n",
    "bekk1$Significant_at_5p_level[abs(bekk1$T_value) <= 1.645] <- \"Not Statistically Significant\"\n",
    "bekk1"
   ]
  },
  {
   "cell_type": "code",
   "execution_count": 24,
   "id": "1a9f4b7d-a45e-4826-b1f9-bd040eb9b860",
   "metadata": {},
   "outputs": [
    {
     "data": {
      "text/plain": [
       "\n",
       "\tGranger causality H0: usc do not Granger-cause eurusd\n",
       "\n",
       "data:  VAR object var_bekk1\n",
       "F-Test = 3.122, df1 = 1, df2 = 2070, p-value = 0.07739\n"
      ]
     },
     "metadata": {},
     "output_type": "display_data"
    },
    {
     "data": {
      "text/plain": [
       "\n",
       "\tGranger causality H0: eurusd do not Granger-cause usc\n",
       "\n",
       "data:  VAR object var_bekk1\n",
       "F-Test = 2.1979, df1 = 1, df2 = 2070, p-value = 0.1384\n"
      ]
     },
     "metadata": {},
     "output_type": "display_data"
    }
   ],
   "source": [
    "causality(var_bekk1,cause = \"usc\")$Granger\n",
    "causality(var_bekk1,cause = \"eurusd\")$Granger"
   ]
  },
  {
   "cell_type": "markdown",
   "id": "9b9da0b2-0e2e-4693-93fd-ffa2c60b77d9",
   "metadata": {},
   "source": [
    "## (b) VAR-BEKK: US Cocoa-GBPUSD"
   ]
  },
  {
   "cell_type": "code",
   "execution_count": 25,
   "id": "6a7c7f59-6c3b-46fb-9dc1-30280ffede78",
   "metadata": {},
   "outputs": [
    {
     "data": {
      "text/plain": [
       "                     usc       gbpusd\n",
       "2015-12-01 -0.0005991612  0.001625882\n",
       "2015-12-02 -0.0011994004 -0.008624044\n",
       "2015-12-03  0.0157764844  0.012891829\n",
       "2015-12-04  0.0011806377 -0.002181242\n",
       "2015-12-07  0.0079330517 -0.003944909\n",
       "2015-12-08 -0.0300037359 -0.002993915"
      ]
     },
     "metadata": {},
     "output_type": "display_data"
    },
    {
     "data": {
      "text/plain": [
       "                     usc        gbpusd\n",
       "2020-01-24 -0.0115358165 -0.0034732197\n",
       "2020-01-27  0.0003625159 -0.0017219941\n",
       "2020-01-28 -0.0105666860 -0.0020703147\n",
       "2020-01-29  0.0087527911 -0.0005374487\n",
       "2020-01-30  0.0272223113  0.0057052210\n",
       "2020-01-31 -0.0103002154  0.0080239246"
      ]
     },
     "metadata": {},
     "output_type": "display_data"
    }
   ],
   "source": [
    "bekk2data <- us_d[,c(1,3)]\n",
    "head(bekk2data)\n",
    "tail(bekk2data)"
   ]
  },
  {
   "cell_type": "code",
   "execution_count": 26,
   "id": "8af6f08a-0743-480f-824f-261aa82b5d41",
   "metadata": {},
   "outputs": [
    {
     "data": {
      "text/html": [
       "<dl>\n",
       "\t<dt>$selection</dt>\n",
       "\t\t<dd><style>\n",
       ".dl-inline {width: auto; margin:0; padding: 0}\n",
       ".dl-inline>dt, .dl-inline>dd {float: none; width: auto; display: inline-block}\n",
       ".dl-inline>dt::after {content: \":\\0020\"; padding-right: .5ex}\n",
       ".dl-inline>dt:not(:first-of-type) {padding-left: .5ex}\n",
       "</style><dl class=dl-inline><dt>AIC(n)</dt><dd>1</dd><dt>HQ(n)</dt><dd>1</dd><dt>SC(n)</dt><dd>1</dd><dt>FPE(n)</dt><dd>1</dd></dl>\n",
       "</dd>\n",
       "\t<dt>$criteria</dt>\n",
       "\t\t<dd><table class=\"dataframe\">\n",
       "<caption>A matrix: 4 × 10 of type dbl</caption>\n",
       "<thead>\n",
       "\t<tr><th></th><th scope=col>1</th><th scope=col>2</th><th scope=col>3</th><th scope=col>4</th><th scope=col>5</th><th scope=col>6</th><th scope=col>7</th><th scope=col>8</th><th scope=col>9</th><th scope=col>10</th></tr>\n",
       "</thead>\n",
       "<tbody>\n",
       "\t<tr><th scope=row>AIC(n)</th><td>-1.830155e+01</td><td>-1.829492e+01</td><td>-1.828985e+01</td><td>-1.828743e+01</td><td>-1.828368e+01</td><td>-1.828088e+01</td><td>-1.827926e+01</td><td>-1.827428e+01</td><td>-1.826682e+01</td><td>-1.825977e+01</td></tr>\n",
       "\t<tr><th scope=row>HQ(n)</th><td>-1.829062e+01</td><td>-1.827671e+01</td><td>-1.826436e+01</td><td>-1.825465e+01</td><td>-1.824362e+01</td><td>-1.823354e+01</td><td>-1.822464e+01</td><td>-1.821238e+01</td><td>-1.819764e+01</td><td>-1.818330e+01</td></tr>\n",
       "\t<tr><th scope=row>SC(n)</th><td>-1.827276e+01</td><td>-1.824694e+01</td><td>-1.822269e+01</td><td>-1.820108e+01</td><td>-1.817814e+01</td><td>-1.815615e+01</td><td>-1.813535e+01</td><td>-1.811118e+01</td><td>-1.808453e+01</td><td>-1.805829e+01</td></tr>\n",
       "\t<tr><th scope=row>FPE(n)</th><td> 1.126522e-08</td><td> 1.134016e-08</td><td> 1.139778e-08</td><td> 1.142541e-08</td><td> 1.146835e-08</td><td> 1.150051e-08</td><td> 1.151910e-08</td><td> 1.157662e-08</td><td> 1.166333e-08</td><td> 1.174592e-08</td></tr>\n",
       "</tbody>\n",
       "</table>\n",
       "</dd>\n",
       "</dl>\n"
      ],
      "text/latex": [
       "\\begin{description}\n",
       "\\item[\\$selection] \\begin{description*}\n",
       "\\item[AIC(n)] 1\n",
       "\\item[HQ(n)] 1\n",
       "\\item[SC(n)] 1\n",
       "\\item[FPE(n)] 1\n",
       "\\end{description*}\n",
       "\n",
       "\\item[\\$criteria] A matrix: 4 × 10 of type dbl\n",
       "\\begin{tabular}{r|llllllllll}\n",
       "  & 1 & 2 & 3 & 4 & 5 & 6 & 7 & 8 & 9 & 10\\\\\n",
       "\\hline\n",
       "\tAIC(n) & -1.830155e+01 & -1.829492e+01 & -1.828985e+01 & -1.828743e+01 & -1.828368e+01 & -1.828088e+01 & -1.827926e+01 & -1.827428e+01 & -1.826682e+01 & -1.825977e+01\\\\\n",
       "\tHQ(n) & -1.829062e+01 & -1.827671e+01 & -1.826436e+01 & -1.825465e+01 & -1.824362e+01 & -1.823354e+01 & -1.822464e+01 & -1.821238e+01 & -1.819764e+01 & -1.818330e+01\\\\\n",
       "\tSC(n) & -1.827276e+01 & -1.824694e+01 & -1.822269e+01 & -1.820108e+01 & -1.817814e+01 & -1.815615e+01 & -1.813535e+01 & -1.811118e+01 & -1.808453e+01 & -1.805829e+01\\\\\n",
       "\tFPE(n) &  1.126522e-08 &  1.134016e-08 &  1.139778e-08 &  1.142541e-08 &  1.146835e-08 &  1.150051e-08 &  1.151910e-08 &  1.157662e-08 &  1.166333e-08 &  1.174592e-08\\\\\n",
       "\\end{tabular}\n",
       "\n",
       "\\end{description}\n"
      ],
      "text/markdown": [
       "$selection\n",
       ":   AIC(n)\n",
       ":   1HQ(n)\n",
       ":   1SC(n)\n",
       ":   1FPE(n)\n",
       ":   1\n",
       "\n",
       "\n",
       "$criteria\n",
       ":   \n",
       "A matrix: 4 × 10 of type dbl\n",
       "\n",
       "| <!--/--> | 1 | 2 | 3 | 4 | 5 | 6 | 7 | 8 | 9 | 10 |\n",
       "|---|---|---|---|---|---|---|---|---|---|---|\n",
       "| AIC(n) | -1.830155e+01 | -1.829492e+01 | -1.828985e+01 | -1.828743e+01 | -1.828368e+01 | -1.828088e+01 | -1.827926e+01 | -1.827428e+01 | -1.826682e+01 | -1.825977e+01 |\n",
       "| HQ(n) | -1.829062e+01 | -1.827671e+01 | -1.826436e+01 | -1.825465e+01 | -1.824362e+01 | -1.823354e+01 | -1.822464e+01 | -1.821238e+01 | -1.819764e+01 | -1.818330e+01 |\n",
       "| SC(n) | -1.827276e+01 | -1.824694e+01 | -1.822269e+01 | -1.820108e+01 | -1.817814e+01 | -1.815615e+01 | -1.813535e+01 | -1.811118e+01 | -1.808453e+01 | -1.805829e+01 |\n",
       "| FPE(n) |  1.126522e-08 |  1.134016e-08 |  1.139778e-08 |  1.142541e-08 |  1.146835e-08 |  1.150051e-08 |  1.151910e-08 |  1.157662e-08 |  1.166333e-08 |  1.174592e-08 |\n",
       "\n",
       "\n",
       "\n",
       "\n"
      ],
      "text/plain": [
       "$selection\n",
       "AIC(n)  HQ(n)  SC(n) FPE(n) \n",
       "     1      1      1      1 \n",
       "\n",
       "$criteria\n",
       "                   1             2             3             4             5\n",
       "AIC(n) -1.830155e+01 -1.829492e+01 -1.828985e+01 -1.828743e+01 -1.828368e+01\n",
       "HQ(n)  -1.829062e+01 -1.827671e+01 -1.826436e+01 -1.825465e+01 -1.824362e+01\n",
       "SC(n)  -1.827276e+01 -1.824694e+01 -1.822269e+01 -1.820108e+01 -1.817814e+01\n",
       "FPE(n)  1.126522e-08  1.134016e-08  1.139778e-08  1.142541e-08  1.146835e-08\n",
       "                   6             7             8             9            10\n",
       "AIC(n) -1.828088e+01 -1.827926e+01 -1.827428e+01 -1.826682e+01 -1.825977e+01\n",
       "HQ(n)  -1.823354e+01 -1.822464e+01 -1.821238e+01 -1.819764e+01 -1.818330e+01\n",
       "SC(n)  -1.815615e+01 -1.813535e+01 -1.811118e+01 -1.808453e+01 -1.805829e+01\n",
       "FPE(n)  1.150051e-08  1.151910e-08  1.157662e-08  1.166333e-08  1.174592e-08\n"
      ]
     },
     "metadata": {},
     "output_type": "display_data"
    }
   ],
   "source": [
    "VARselect(bekk2data,type = \"const\")"
   ]
  },
  {
   "cell_type": "code",
   "execution_count": 27,
   "id": "79e92968-22cd-49c1-a0e7-57e87e94ecd0",
   "metadata": {},
   "outputs": [],
   "source": [
    "var_bekk2<-VAR(bekk2data,p = 1,type = \"const\")\n",
    "res_bekk2 <- residuals(var_bekk2)\n",
    "res_bekk2 <- as.data.frame(res_bekk2)"
   ]
  },
  {
   "cell_type": "code",
   "execution_count": 28,
   "id": "8b9aac1e-a7d0-471f-a0fa-fa22eb4c31bc",
   "metadata": {},
   "outputs": [
    {
     "data": {
      "text/plain": [
       "\n",
       "VAR Estimation Results:\n",
       "========================= \n",
       "Endogenous variables: usc, gbpusd \n",
       "Deterministic variables: const \n",
       "Sample size: 1038 \n",
       "Log Likelihood: 6560.008 \n",
       "Roots of the characteristic polynomial:\n",
       "0.04772 0.0241\n",
       "Call:\n",
       "VAR(y = bekk2data, p = 1, type = \"const\")\n",
       "\n",
       "\n",
       "Estimation results for equation usc: \n",
       "==================================== \n",
       "usc = usc.l1 + gbpusd.l1 + const \n",
       "\n",
       "            Estimate Std. Error t value Pr(>|t|)\n",
       "usc.l1    -0.0404596  0.0317142  -1.276    0.202\n",
       "gbpusd.l1  0.1248657  0.0850507   1.468    0.142\n",
       "const     -0.0001897  0.0005278  -0.359    0.719\n",
       "\n",
       "\n",
       "Residual standard error: 0.017 on 1035 degrees of freedom\n",
       "Multiple R-Squared: 0.003032,\tAdjusted R-squared: 0.001105 \n",
       "F-statistic: 1.574 on 2 and 1035 DF,  p-value: 0.2077 \n",
       "\n",
       "\n",
       "Estimation results for equation gbpusd: \n",
       "======================================= \n",
       "gbpusd = usc.l1 + gbpusd.l1 + const \n",
       "\n",
       "            Estimate Std. Error t value Pr(>|t|)\n",
       "usc.l1     0.0037541  0.0118481   0.317    0.751\n",
       "gbpusd.l1  0.0168386  0.0317739   0.530    0.596\n",
       "const     -0.0001175  0.0001972  -0.596    0.551\n",
       "\n",
       "\n",
       "Residual standard error: 0.006351 on 1035 degrees of freedom\n",
       "Multiple R-Squared: 0.0004537,\tAdjusted R-squared: -0.001478 \n",
       "F-statistic: 0.2349 on 2 and 1035 DF,  p-value: 0.7907 \n",
       "\n",
       "\n",
       "\n",
       "Covariance matrix of residuals:\n",
       "             usc    gbpusd\n",
       "usc    2.890e-04 2.202e-05\n",
       "gbpusd 2.202e-05 4.034e-05\n",
       "\n",
       "Correlation matrix of residuals:\n",
       "         usc gbpusd\n",
       "usc    1.000  0.204\n",
       "gbpusd 0.204  1.000\n",
       "\n"
      ]
     },
     "metadata": {},
     "output_type": "display_data"
    }
   ],
   "source": [
    "summary(var_bekk2)"
   ]
  },
  {
   "cell_type": "code",
   "execution_count": 29,
   "id": "308a52a1-5763-4542-8089-12ddce1dee0c",
   "metadata": {},
   "outputs": [
    {
     "name": "stdout",
     "output_type": "stream",
     "text": [
      " Date[1:1038], format: \"2015-12-02\" \"2015-12-03\" \"2015-12-04\" \"2015-12-07\" \"2015-12-08\" ...\n"
     ]
    }
   ],
   "source": [
    "ind_var2 <- index(bekk2data)[-1]\n",
    "str(ind_var2)"
   ]
  },
  {
   "cell_type": "code",
   "execution_count": 30,
   "id": "f607d3f0-c0c4-497c-b34d-ed2cc5720e78",
   "metadata": {},
   "outputs": [],
   "source": [
    "res_bekk2 <- xts(res_bekk2,order.by = ind_var2)"
   ]
  },
  {
   "cell_type": "code",
   "execution_count": 31,
   "id": "4896606b-e37f-4c49-9cfe-9011ea8f5d60",
   "metadata": {},
   "outputs": [],
   "source": [
    "bekk_spec <- bekk_spec(model = list(type = \"bekk\",asymmetric = F))\n",
    "bekk2_fit <- bekk_fit(spec = bekk_spec,data = res_bekk2)"
   ]
  },
  {
   "cell_type": "code",
   "execution_count": 32,
   "id": "8168ead2-9837-40b7-b5e6-bc4edb939331",
   "metadata": {},
   "outputs": [
    {
     "data": {
      "text/html": [
       "<table class=\"dataframe\">\n",
       "<caption>A matrix: 2 × 2 of type dbl</caption>\n",
       "<tbody>\n",
       "\t<tr><td>0.1268478</td><td>-0.01210763</td></tr>\n",
       "\t<tr><td>0.1723284</td><td> 0.37634284</td></tr>\n",
       "</tbody>\n",
       "</table>\n"
      ],
      "text/latex": [
       "A matrix: 2 × 2 of type dbl\n",
       "\\begin{tabular}{ll}\n",
       "\t 0.1268478 & -0.01210763\\\\\n",
       "\t 0.1723284 &  0.37634284\\\\\n",
       "\\end{tabular}\n"
      ],
      "text/markdown": [
       "\n",
       "A matrix: 2 × 2 of type dbl\n",
       "\n",
       "| 0.1268478 | -0.01210763 |\n",
       "| 0.1723284 |  0.37634284 |\n",
       "\n"
      ],
      "text/plain": [
       "     [,1]      [,2]       \n",
       "[1,] 0.1268478 -0.01210763\n",
       "[2,] 0.1723284  0.37634284"
      ]
     },
     "metadata": {},
     "output_type": "display_data"
    },
    {
     "data": {
      "text/html": [
       "<table class=\"dataframe\">\n",
       "<caption>A matrix: 2 × 2 of type dbl</caption>\n",
       "<tbody>\n",
       "\t<tr><td>4.289399</td><td>-0.8774239</td></tr>\n",
       "\t<tr><td>2.211297</td><td>10.3335857</td></tr>\n",
       "</tbody>\n",
       "</table>\n"
      ],
      "text/latex": [
       "A matrix: 2 × 2 of type dbl\n",
       "\\begin{tabular}{ll}\n",
       "\t 4.289399 & -0.8774239\\\\\n",
       "\t 2.211297 & 10.3335857\\\\\n",
       "\\end{tabular}\n"
      ],
      "text/markdown": [
       "\n",
       "A matrix: 2 × 2 of type dbl\n",
       "\n",
       "| 4.289399 | -0.8774239 |\n",
       "| 2.211297 | 10.3335857 |\n",
       "\n"
      ],
      "text/plain": [
       "     [,1]     [,2]      \n",
       "[1,] 4.289399 -0.8774239\n",
       "[2,] 2.211297 10.3335857"
      ]
     },
     "metadata": {},
     "output_type": "display_data"
    },
    {
     "data": {
      "text/html": [
       "<table class=\"dataframe\">\n",
       "<caption>A matrix: 2 × 2 of type dbl</caption>\n",
       "<tbody>\n",
       "\t<tr><td> 0.98654733</td><td>0.0007575778</td></tr>\n",
       "\t<tr><td>-0.08819942</td><td>0.8790096319</td></tr>\n",
       "</tbody>\n",
       "</table>\n"
      ],
      "text/latex": [
       "A matrix: 2 × 2 of type dbl\n",
       "\\begin{tabular}{ll}\n",
       "\t  0.98654733 & 0.0007575778\\\\\n",
       "\t -0.08819942 & 0.8790096319\\\\\n",
       "\\end{tabular}\n"
      ],
      "text/markdown": [
       "\n",
       "A matrix: 2 × 2 of type dbl\n",
       "\n",
       "|  0.98654733 | 0.0007575778 |\n",
       "| -0.08819942 | 0.8790096319 |\n",
       "\n"
      ],
      "text/plain": [
       "     [,1]        [,2]        \n",
       "[1,]  0.98654733 0.0007575778\n",
       "[2,] -0.08819942 0.8790096319"
      ]
     },
     "metadata": {},
     "output_type": "display_data"
    },
    {
     "data": {
      "text/html": [
       "<table class=\"dataframe\">\n",
       "<caption>A matrix: 2 × 2 of type dbl</caption>\n",
       "<tbody>\n",
       "\t<tr><td>110.292306</td><td> 0.1022019</td></tr>\n",
       "\t<tr><td> -2.138394</td><td>30.2388884</td></tr>\n",
       "</tbody>\n",
       "</table>\n"
      ],
      "text/latex": [
       "A matrix: 2 × 2 of type dbl\n",
       "\\begin{tabular}{ll}\n",
       "\t 110.292306 &  0.1022019\\\\\n",
       "\t  -2.138394 & 30.2388884\\\\\n",
       "\\end{tabular}\n"
      ],
      "text/markdown": [
       "\n",
       "A matrix: 2 × 2 of type dbl\n",
       "\n",
       "| 110.292306 |  0.1022019 |\n",
       "|  -2.138394 | 30.2388884 |\n",
       "\n"
      ],
      "text/plain": [
       "     [,1]       [,2]      \n",
       "[1,] 110.292306  0.1022019\n",
       "[2,]  -2.138394 30.2388884"
      ]
     },
     "metadata": {},
     "output_type": "display_data"
    }
   ],
   "source": [
    "bekk2_fit$A\n",
    "bekk2_fit$A_t\n",
    "bekk2_fit$G\n",
    "bekk2_fit$G_t"
   ]
  },
  {
   "cell_type": "markdown",
   "id": "21e64081-2125-4178-a5e5-cdd810550ddc",
   "metadata": {},
   "source": [
    "### VAR-BEKK Model Table for US Cocoa - GBPUSD"
   ]
  },
  {
   "cell_type": "code",
   "execution_count": 33,
   "id": "2c116357-9b1e-4c2d-9bb7-cb0f247d5e3c",
   "metadata": {},
   "outputs": [
    {
     "data": {
      "text/html": [
       "<table class=\"dataframe\">\n",
       "<caption>A data.frame: 14 × 5</caption>\n",
       "<thead>\n",
       "\t<tr><th scope=col>Parameters</th><th scope=col>Coefficient</th><th scope=col>Std_error</th><th scope=col>T_value</th><th scope=col>Significant_at_5p_level</th></tr>\n",
       "\t<tr><th scope=col>&lt;chr&gt;</th><th scope=col>&lt;dbl&gt;</th><th scope=col>&lt;dbl&gt;</th><th scope=col>&lt;dbl&gt;</th><th scope=col>&lt;chr&gt;</th></tr>\n",
       "</thead>\n",
       "<tbody>\n",
       "\t<tr><td>mu10 </td><td>-0.0001897064</td><td>0.0005277987</td><td> -0.3594294</td><td>Not Statistically Significant</td></tr>\n",
       "\t<tr><td>mu20 </td><td>-0.0001174690</td><td>0.0001971793</td><td> -0.5957470</td><td>Not Statistically Significant</td></tr>\n",
       "\t<tr><td>phi11</td><td>-0.0404596339</td><td>0.0317142307</td><td> -1.2757564</td><td>Not Statistically Significant</td></tr>\n",
       "\t<tr><td>phi12</td><td> 0.1248656825</td><td>0.0850506620</td><td>  1.4681330</td><td>Not Statistically Significant</td></tr>\n",
       "\t<tr><td>phi21</td><td> 0.0037540736</td><td>0.0118480567</td><td>  0.3168514</td><td>Not Statistically Significant</td></tr>\n",
       "\t<tr><td>phi22</td><td> 0.0168386034</td><td>0.0317739086</td><td>  0.5299506</td><td>Not Statistically Significant</td></tr>\n",
       "\t<tr><td>a11  </td><td> 0.1268477521</td><td>0.0295723852</td><td>  4.2893987</td><td>Stat significant at 1%       </td></tr>\n",
       "\t<tr><td>a12  </td><td>-0.0121076256</td><td>0.0137990605</td><td> -0.8774239</td><td>Not Statistically Significant</td></tr>\n",
       "\t<tr><td>a21  </td><td> 0.1723284274</td><td>0.0779309388</td><td>  2.2112967</td><td>Stat significant at 5%       </td></tr>\n",
       "\t<tr><td>a22  </td><td> 0.3763428450</td><td>0.0364193859</td><td> 10.3335857</td><td>Stat significant at 1%       </td></tr>\n",
       "\t<tr><td>g11  </td><td> 0.9865473261</td><td>0.0089448426</td><td>110.2923064</td><td>Stat significant at 1%       </td></tr>\n",
       "\t<tr><td>g12  </td><td> 0.0007575778</td><td>0.0074125575</td><td>  0.1022019</td><td>Not Statistically Significant</td></tr>\n",
       "\t<tr><td>g21  </td><td>-0.0881994211</td><td>0.0412456457</td><td> -2.1383935</td><td>Stat significant at 5%       </td></tr>\n",
       "\t<tr><td>g22  </td><td> 0.8790096319</td><td>0.0290688474</td><td> 30.2388884</td><td>Stat significant at 1%       </td></tr>\n",
       "</tbody>\n",
       "</table>\n"
      ],
      "text/latex": [
       "A data.frame: 14 × 5\n",
       "\\begin{tabular}{lllll}\n",
       " Parameters & Coefficient & Std\\_error & T\\_value & Significant\\_at\\_5p\\_level\\\\\n",
       " <chr> & <dbl> & <dbl> & <dbl> & <chr>\\\\\n",
       "\\hline\n",
       "\t mu10  & -0.0001897064 & 0.0005277987 &  -0.3594294 & Not Statistically Significant\\\\\n",
       "\t mu20  & -0.0001174690 & 0.0001971793 &  -0.5957470 & Not Statistically Significant\\\\\n",
       "\t phi11 & -0.0404596339 & 0.0317142307 &  -1.2757564 & Not Statistically Significant\\\\\n",
       "\t phi12 &  0.1248656825 & 0.0850506620 &   1.4681330 & Not Statistically Significant\\\\\n",
       "\t phi21 &  0.0037540736 & 0.0118480567 &   0.3168514 & Not Statistically Significant\\\\\n",
       "\t phi22 &  0.0168386034 & 0.0317739086 &   0.5299506 & Not Statistically Significant\\\\\n",
       "\t a11   &  0.1268477521 & 0.0295723852 &   4.2893987 & Stat significant at 1\\%       \\\\\n",
       "\t a12   & -0.0121076256 & 0.0137990605 &  -0.8774239 & Not Statistically Significant\\\\\n",
       "\t a21   &  0.1723284274 & 0.0779309388 &   2.2112967 & Stat significant at 5\\%       \\\\\n",
       "\t a22   &  0.3763428450 & 0.0364193859 &  10.3335857 & Stat significant at 1\\%       \\\\\n",
       "\t g11   &  0.9865473261 & 0.0089448426 & 110.2923064 & Stat significant at 1\\%       \\\\\n",
       "\t g12   &  0.0007575778 & 0.0074125575 &   0.1022019 & Not Statistically Significant\\\\\n",
       "\t g21   & -0.0881994211 & 0.0412456457 &  -2.1383935 & Stat significant at 5\\%       \\\\\n",
       "\t g22   &  0.8790096319 & 0.0290688474 &  30.2388884 & Stat significant at 1\\%       \\\\\n",
       "\\end{tabular}\n"
      ],
      "text/markdown": [
       "\n",
       "A data.frame: 14 × 5\n",
       "\n",
       "| Parameters &lt;chr&gt; | Coefficient &lt;dbl&gt; | Std_error &lt;dbl&gt; | T_value &lt;dbl&gt; | Significant_at_5p_level &lt;chr&gt; |\n",
       "|---|---|---|---|---|\n",
       "| mu10  | -0.0001897064 | 0.0005277987 |  -0.3594294 | Not Statistically Significant |\n",
       "| mu20  | -0.0001174690 | 0.0001971793 |  -0.5957470 | Not Statistically Significant |\n",
       "| phi11 | -0.0404596339 | 0.0317142307 |  -1.2757564 | Not Statistically Significant |\n",
       "| phi12 |  0.1248656825 | 0.0850506620 |   1.4681330 | Not Statistically Significant |\n",
       "| phi21 |  0.0037540736 | 0.0118480567 |   0.3168514 | Not Statistically Significant |\n",
       "| phi22 |  0.0168386034 | 0.0317739086 |   0.5299506 | Not Statistically Significant |\n",
       "| a11   |  0.1268477521 | 0.0295723852 |   4.2893987 | Stat significant at 1%        |\n",
       "| a12   | -0.0121076256 | 0.0137990605 |  -0.8774239 | Not Statistically Significant |\n",
       "| a21   |  0.1723284274 | 0.0779309388 |   2.2112967 | Stat significant at 5%        |\n",
       "| a22   |  0.3763428450 | 0.0364193859 |  10.3335857 | Stat significant at 1%        |\n",
       "| g11   |  0.9865473261 | 0.0089448426 | 110.2923064 | Stat significant at 1%        |\n",
       "| g12   |  0.0007575778 | 0.0074125575 |   0.1022019 | Not Statistically Significant |\n",
       "| g21   | -0.0881994211 | 0.0412456457 |  -2.1383935 | Stat significant at 5%        |\n",
       "| g22   |  0.8790096319 | 0.0290688474 |  30.2388884 | Stat significant at 1%        |\n",
       "\n"
      ],
      "text/plain": [
       "   Parameters Coefficient   Std_error    T_value    \n",
       "1  mu10       -0.0001897064 0.0005277987  -0.3594294\n",
       "2  mu20       -0.0001174690 0.0001971793  -0.5957470\n",
       "3  phi11      -0.0404596339 0.0317142307  -1.2757564\n",
       "4  phi12       0.1248656825 0.0850506620   1.4681330\n",
       "5  phi21       0.0037540736 0.0118480567   0.3168514\n",
       "6  phi22       0.0168386034 0.0317739086   0.5299506\n",
       "7  a11         0.1268477521 0.0295723852   4.2893987\n",
       "8  a12        -0.0121076256 0.0137990605  -0.8774239\n",
       "9  a21         0.1723284274 0.0779309388   2.2112967\n",
       "10 a22         0.3763428450 0.0364193859  10.3335857\n",
       "11 g11         0.9865473261 0.0089448426 110.2923064\n",
       "12 g12         0.0007575778 0.0074125575   0.1022019\n",
       "13 g21        -0.0881994211 0.0412456457  -2.1383935\n",
       "14 g22         0.8790096319 0.0290688474  30.2388884\n",
       "   Significant_at_5p_level      \n",
       "1  Not Statistically Significant\n",
       "2  Not Statistically Significant\n",
       "3  Not Statistically Significant\n",
       "4  Not Statistically Significant\n",
       "5  Not Statistically Significant\n",
       "6  Not Statistically Significant\n",
       "7  Stat significant at 1%       \n",
       "8  Not Statistically Significant\n",
       "9  Stat significant at 5%       \n",
       "10 Stat significant at 1%       \n",
       "11 Stat significant at 1%       \n",
       "12 Not Statistically Significant\n",
       "13 Stat significant at 5%       \n",
       "14 Stat significant at 1%       "
      ]
     },
     "metadata": {},
     "output_type": "display_data"
    }
   ],
   "source": [
    "bekk2 <- data.frame(Parameters = c(\"mu10\",\"mu20\",\"phi11\",\"phi12\",\"phi21\",\"phi22\",\"a11\",\"a12\",\"a21\",\"a22\",\"g11\",\"g12\",\"g21\",\"g22\"),\n",
    "                   Coefficient = c(summary(var_bekk2)$varresult$usc$coefficients[\"const\",\"Estimate\"],summary(var_bekk2)$varresult$gbpusd$coefficients[\"const\",\"Estimate\"],\n",
    "                       summary(var_bekk2)$varresult$usc$coefficients[\"usc.l1\",\"Estimate\"],summary(var_bekk2)$varresult$usc$coefficients[\"gbpusd.l1\",\"Estimate\"],\n",
    "                                   summary(var_bekk2)$varresult$gbpusd$coefficients[\"usc.l1\",\"Estimate\"],summary(var_bekk2)$varresult$gbpusd$coefficients[\"gbpusd.l1\",\"Estimate\"],\n",
    "                                   bekk2_fit$A[1,1],bekk2_fit$A[1,2],bekk2_fit$A[2,1],bekk2_fit$A[2,2],bekk2_fit$G[1,1],bekk2_fit$G[1,2],bekk2_fit$G[2,1],bekk2_fit$G[2,2]),\n",
    "                   Std_error = c(summary(var_bekk2)$varresult$usc$coefficients[\"const\",\"Std. Error\"],summary(var_bekk2)$varresult$gbpusd$coefficients[\"const\",\"Std. Error\"],\n",
    "                       summary(var_bekk2)$varresult$usc$coefficients[\"usc.l1\",\"Std. Error\"],summary(var_bekk2)$varresult$usc$coefficients[\"gbpusd.l1\",\"Std. Error\"],\n",
    "                                 summary(var_bekk2)$varresult$gbpusd$coefficients[\"usc.l1\",\"Std. Error\"],summary(var_bekk2)$varresult$gbpusd$coefficients[\"gbpusd.l1\",\"Std. Error\"],\n",
    "                                 bekk2_fit$A_sd[1,1],bekk2_fit$A_sd[1,2],bekk2_fit$A_sd[2,1],bekk2_fit$A_sd[2,2],bekk2_fit$G_sd[1,1],bekk2_fit$G_sd[1,2],bekk2_fit$G_sd[2,1],bekk2_fit$G_sd[2,2]),\n",
    "                   T_value = c(summary(var_bekk2)$varresult$usc$coefficients[\"const\",\"t value\"],summary(var_bekk2)$varresult$gbpusd$coefficients[\"const\",\"t value\"],\n",
    "                       summary(var_bekk2)$varresult$usc$coefficients[\"usc.l1\",\"t value\"],summary(var_bekk2)$varresult$usc$coefficients[\"gbpusd.l1\",\"t value\"],\n",
    "                               summary(var_bekk2)$varresult$gbpusd$coefficients[\"usc.l1\",\"t value\"],summary(var_bekk2)$varresult$gbpusd$coefficients[\"gbpusd.l1\",\"t value\"],\n",
    "                               bekk2_fit$A_t[1,1],bekk2_fit$A_t[1,2],bekk2_fit$A_t[2,1],bekk2_fit$A_t[2,2],bekk2_fit$G_t[1,1],bekk2_fit$G_t[1,2],bekk2_fit$G_t[2,1],bekk2_fit$G_t[2,2]))\n",
    "\n",
    "bekk2$Significant_at_5p_level[abs(bekk2$T_value) >= 2.58 ] <- \"Stat significant at 1%\"\n",
    "bekk2$Significant_at_5p_level[abs(bekk2$T_value) > 1.96 & abs(bekk2$T_value) < 2.58] <- \"Stat significant at 5%\"\n",
    "bekk2$Significant_at_5p_level[abs(bekk2$T_value) > 1.645 & abs(bekk2$T_value) <= 1.96 ] <- \"Stat significant at 10%\"\n",
    "bekk2$Significant_at_5p_level[abs(bekk2$T_value) <= 1.645] <- \"Not Statistically Significant\"\n",
    "bekk2"
   ]
  },
  {
   "cell_type": "code",
   "execution_count": 34,
   "id": "f472e7b6-444c-4b45-a692-acce54d5fec1",
   "metadata": {},
   "outputs": [
    {
     "data": {
      "text/plain": [
       "\n",
       "\tGranger causality H0: usc do not Granger-cause gbpusd\n",
       "\n",
       "data:  VAR object var_bekk2\n",
       "F-Test = 0.10039, df1 = 1, df2 = 2070, p-value = 0.7514\n"
      ]
     },
     "metadata": {},
     "output_type": "display_data"
    },
    {
     "data": {
      "text/plain": [
       "\n",
       "\tGranger causality H0: gbpusd do not Granger-cause usc\n",
       "\n",
       "data:  VAR object var_bekk2\n",
       "F-Test = 2.1554, df1 = 1, df2 = 2070, p-value = 0.1422\n"
      ]
     },
     "metadata": {},
     "output_type": "display_data"
    }
   ],
   "source": [
    "causality(var_bekk2,cause = \"usc\")$Granger\n",
    "causality(var_bekk2,cause = \"gbpusd\")$Granger"
   ]
  },
  {
   "cell_type": "markdown",
   "id": "fb2f80ab-e599-4687-bbd7-7dfa0134e799",
   "metadata": {},
   "source": [
    "## (c) VAR-BEKK: US Cocoa-CHFUSD"
   ]
  },
  {
   "cell_type": "code",
   "execution_count": 35,
   "id": "4b8619ac-add2-4581-9d88-c4c7c636c74b",
   "metadata": {},
   "outputs": [
    {
     "data": {
      "text/plain": [
       "                     usc       chfusd\n",
       "2015-12-01 -0.0005991612  0.002722348\n",
       "2015-12-02 -0.0011994004  0.007359363\n",
       "2015-12-03  0.0157764844  0.024842875\n",
       "2015-12-04  0.0011806377 -0.003532781\n",
       "2015-12-07  0.0079330517 -0.003295225\n",
       "2015-12-08 -0.0300037359  0.008267391"
      ]
     },
     "metadata": {},
     "output_type": "display_data"
    },
    {
     "data": {
      "text/plain": [
       "                     usc        chfusd\n",
       "2020-01-24 -0.0115358165 -0.0023766229\n",
       "2020-01-27  0.0003625159  0.0016496850\n",
       "2020-01-28 -0.0105666860 -0.0034966769\n",
       "2020-01-29  0.0087527911 -0.0002432794\n",
       "2020-01-30  0.0272223113  0.0038369119\n",
       "2020-01-31 -0.0103002154  0.0065228652"
      ]
     },
     "metadata": {},
     "output_type": "display_data"
    }
   ],
   "source": [
    "bekk3data <- us_d[,c(1,4)]\n",
    "head(bekk3data)\n",
    "tail(bekk3data)"
   ]
  },
  {
   "cell_type": "code",
   "execution_count": 36,
   "id": "dd4f01fe-f954-4441-9a92-271d8293eff0",
   "metadata": {},
   "outputs": [
    {
     "data": {
      "text/html": [
       "<dl>\n",
       "\t<dt>$selection</dt>\n",
       "\t\t<dd><style>\n",
       ".dl-inline {width: auto; margin:0; padding: 0}\n",
       ".dl-inline>dt, .dl-inline>dd {float: none; width: auto; display: inline-block}\n",
       ".dl-inline>dt::after {content: \":\\0020\"; padding-right: .5ex}\n",
       ".dl-inline>dt:not(:first-of-type) {padding-left: .5ex}\n",
       "</style><dl class=dl-inline><dt>AIC(n)</dt><dd>1</dd><dt>HQ(n)</dt><dd>1</dd><dt>SC(n)</dt><dd>1</dd><dt>FPE(n)</dt><dd>1</dd></dl>\n",
       "</dd>\n",
       "\t<dt>$criteria</dt>\n",
       "\t\t<dd><table class=\"dataframe\">\n",
       "<caption>A matrix: 4 × 10 of type dbl</caption>\n",
       "<thead>\n",
       "\t<tr><th></th><th scope=col>1</th><th scope=col>2</th><th scope=col>3</th><th scope=col>4</th><th scope=col>5</th><th scope=col>6</th><th scope=col>7</th><th scope=col>8</th><th scope=col>9</th><th scope=col>10</th></tr>\n",
       "</thead>\n",
       "<tbody>\n",
       "\t<tr><th scope=row>AIC(n)</th><td>-1.905417e+01</td><td>-1.905170e+01</td><td>-1.905318e+01</td><td>-1.905156e+01</td><td>-1.904814e+01</td><td>-1.904307e+01</td><td>-1.904058e+01</td><td>-1.903825e+01</td><td>-1.903585e+01</td><td>-1.903082e+01</td></tr>\n",
       "\t<tr><th scope=row>HQ(n)</th><td>-1.904324e+01</td><td>-1.903349e+01</td><td>-1.902769e+01</td><td>-1.901879e+01</td><td>-1.900809e+01</td><td>-1.899573e+01</td><td>-1.898596e+01</td><td>-1.897634e+01</td><td>-1.896666e+01</td><td>-1.895435e+01</td></tr>\n",
       "\t<tr><th scope=row>SC(n)</th><td>-1.902538e+01</td><td>-1.900373e+01</td><td>-1.898602e+01</td><td>-1.896521e+01</td><td>-1.894261e+01</td><td>-1.891834e+01</td><td>-1.889667e+01</td><td>-1.887514e+01</td><td>-1.885356e+01</td><td>-1.882934e+01</td></tr>\n",
       "\t<tr><th scope=row>FPE(n)</th><td> 5.307391e-09</td><td> 5.320499e-09</td><td> 5.312631e-09</td><td> 5.321233e-09</td><td> 5.339451e-09</td><td> 5.366624e-09</td><td> 5.379996e-09</td><td> 5.392592e-09</td><td> 5.405537e-09</td><td> 5.432795e-09</td></tr>\n",
       "</tbody>\n",
       "</table>\n",
       "</dd>\n",
       "</dl>\n"
      ],
      "text/latex": [
       "\\begin{description}\n",
       "\\item[\\$selection] \\begin{description*}\n",
       "\\item[AIC(n)] 1\n",
       "\\item[HQ(n)] 1\n",
       "\\item[SC(n)] 1\n",
       "\\item[FPE(n)] 1\n",
       "\\end{description*}\n",
       "\n",
       "\\item[\\$criteria] A matrix: 4 × 10 of type dbl\n",
       "\\begin{tabular}{r|llllllllll}\n",
       "  & 1 & 2 & 3 & 4 & 5 & 6 & 7 & 8 & 9 & 10\\\\\n",
       "\\hline\n",
       "\tAIC(n) & -1.905417e+01 & -1.905170e+01 & -1.905318e+01 & -1.905156e+01 & -1.904814e+01 & -1.904307e+01 & -1.904058e+01 & -1.903825e+01 & -1.903585e+01 & -1.903082e+01\\\\\n",
       "\tHQ(n) & -1.904324e+01 & -1.903349e+01 & -1.902769e+01 & -1.901879e+01 & -1.900809e+01 & -1.899573e+01 & -1.898596e+01 & -1.897634e+01 & -1.896666e+01 & -1.895435e+01\\\\\n",
       "\tSC(n) & -1.902538e+01 & -1.900373e+01 & -1.898602e+01 & -1.896521e+01 & -1.894261e+01 & -1.891834e+01 & -1.889667e+01 & -1.887514e+01 & -1.885356e+01 & -1.882934e+01\\\\\n",
       "\tFPE(n) &  5.307391e-09 &  5.320499e-09 &  5.312631e-09 &  5.321233e-09 &  5.339451e-09 &  5.366624e-09 &  5.379996e-09 &  5.392592e-09 &  5.405537e-09 &  5.432795e-09\\\\\n",
       "\\end{tabular}\n",
       "\n",
       "\\end{description}\n"
      ],
      "text/markdown": [
       "$selection\n",
       ":   AIC(n)\n",
       ":   1HQ(n)\n",
       ":   1SC(n)\n",
       ":   1FPE(n)\n",
       ":   1\n",
       "\n",
       "\n",
       "$criteria\n",
       ":   \n",
       "A matrix: 4 × 10 of type dbl\n",
       "\n",
       "| <!--/--> | 1 | 2 | 3 | 4 | 5 | 6 | 7 | 8 | 9 | 10 |\n",
       "|---|---|---|---|---|---|---|---|---|---|---|\n",
       "| AIC(n) | -1.905417e+01 | -1.905170e+01 | -1.905318e+01 | -1.905156e+01 | -1.904814e+01 | -1.904307e+01 | -1.904058e+01 | -1.903825e+01 | -1.903585e+01 | -1.903082e+01 |\n",
       "| HQ(n) | -1.904324e+01 | -1.903349e+01 | -1.902769e+01 | -1.901879e+01 | -1.900809e+01 | -1.899573e+01 | -1.898596e+01 | -1.897634e+01 | -1.896666e+01 | -1.895435e+01 |\n",
       "| SC(n) | -1.902538e+01 | -1.900373e+01 | -1.898602e+01 | -1.896521e+01 | -1.894261e+01 | -1.891834e+01 | -1.889667e+01 | -1.887514e+01 | -1.885356e+01 | -1.882934e+01 |\n",
       "| FPE(n) |  5.307391e-09 |  5.320499e-09 |  5.312631e-09 |  5.321233e-09 |  5.339451e-09 |  5.366624e-09 |  5.379996e-09 |  5.392592e-09 |  5.405537e-09 |  5.432795e-09 |\n",
       "\n",
       "\n",
       "\n",
       "\n"
      ],
      "text/plain": [
       "$selection\n",
       "AIC(n)  HQ(n)  SC(n) FPE(n) \n",
       "     1      1      1      1 \n",
       "\n",
       "$criteria\n",
       "                   1             2             3             4             5\n",
       "AIC(n) -1.905417e+01 -1.905170e+01 -1.905318e+01 -1.905156e+01 -1.904814e+01\n",
       "HQ(n)  -1.904324e+01 -1.903349e+01 -1.902769e+01 -1.901879e+01 -1.900809e+01\n",
       "SC(n)  -1.902538e+01 -1.900373e+01 -1.898602e+01 -1.896521e+01 -1.894261e+01\n",
       "FPE(n)  5.307391e-09  5.320499e-09  5.312631e-09  5.321233e-09  5.339451e-09\n",
       "                   6             7             8             9            10\n",
       "AIC(n) -1.904307e+01 -1.904058e+01 -1.903825e+01 -1.903585e+01 -1.903082e+01\n",
       "HQ(n)  -1.899573e+01 -1.898596e+01 -1.897634e+01 -1.896666e+01 -1.895435e+01\n",
       "SC(n)  -1.891834e+01 -1.889667e+01 -1.887514e+01 -1.885356e+01 -1.882934e+01\n",
       "FPE(n)  5.366624e-09  5.379996e-09  5.392592e-09  5.405537e-09  5.432795e-09\n"
      ]
     },
     "metadata": {},
     "output_type": "display_data"
    }
   ],
   "source": [
    "VARselect(bekk3data,type = \"const\")"
   ]
  },
  {
   "cell_type": "code",
   "execution_count": 37,
   "id": "94bfd914-b96a-418c-99ae-634971ebafe1",
   "metadata": {},
   "outputs": [],
   "source": [
    "var_bekk3<-VAR(bekk3data,p = 1,type = \"const\")\n",
    "res_bekk3 <- residuals(var_bekk3)\n",
    "res_bekk3 <- as.data.frame(res_bekk3)\n"
   ]
  },
  {
   "cell_type": "code",
   "execution_count": 38,
   "id": "6a6dff01-866a-4dfc-89a9-3d1273cfea24",
   "metadata": {},
   "outputs": [
    {
     "name": "stdout",
     "output_type": "stream",
     "text": [
      " Date[1:1038], format: \"2015-12-02\" \"2015-12-03\" \"2015-12-04\" \"2015-12-07\" \"2015-12-08\" ...\n"
     ]
    }
   ],
   "source": [
    "ind_var3 <- index(bekk3data)[-1]\n",
    "str(ind_var3)"
   ]
  },
  {
   "cell_type": "code",
   "execution_count": 39,
   "id": "c36ba3e5-b14e-4754-af70-e0dc6c5c8ea4",
   "metadata": {},
   "outputs": [],
   "source": [
    "res_bekk3 <- xts(res_bekk3,order.by = ind_var3)\n",
    "bekk_spec <- bekk_spec(model = list(type = \"bekk\",asymmetric = F))\n",
    "bekk3_fit <- bekk_fit(spec = bekk_spec,data = res_bekk3)"
   ]
  },
  {
   "cell_type": "code",
   "execution_count": 40,
   "id": "85f7f63b-24d7-42a3-82b2-453d86d86eeb",
   "metadata": {},
   "outputs": [
    {
     "data": {
      "text/html": [
       "<table class=\"dataframe\">\n",
       "<caption>A matrix: 2 × 2 of type dbl</caption>\n",
       "<tbody>\n",
       "\t<tr><td>0.1810719</td><td>0.02832126</td></tr>\n",
       "\t<tr><td>0.4812738</td><td>0.18224912</td></tr>\n",
       "</tbody>\n",
       "</table>\n"
      ],
      "text/latex": [
       "A matrix: 2 × 2 of type dbl\n",
       "\\begin{tabular}{ll}\n",
       "\t 0.1810719 & 0.02832126\\\\\n",
       "\t 0.4812738 & 0.18224912\\\\\n",
       "\\end{tabular}\n"
      ],
      "text/markdown": [
       "\n",
       "A matrix: 2 × 2 of type dbl\n",
       "\n",
       "| 0.1810719 | 0.02832126 |\n",
       "| 0.4812738 | 0.18224912 |\n",
       "\n"
      ],
      "text/plain": [
       "     [,1]      [,2]      \n",
       "[1,] 0.1810719 0.02832126\n",
       "[2,] 0.4812738 0.18224912"
      ]
     },
     "metadata": {},
     "output_type": "display_data"
    },
    {
     "data": {
      "text/html": [
       "<table class=\"dataframe\">\n",
       "<caption>A matrix: 2 × 2 of type dbl</caption>\n",
       "<tbody>\n",
       "\t<tr><td>4.612696</td><td>1.78682</td></tr>\n",
       "\t<tr><td>3.114373</td><td>2.89646</td></tr>\n",
       "</tbody>\n",
       "</table>\n"
      ],
      "text/latex": [
       "A matrix: 2 × 2 of type dbl\n",
       "\\begin{tabular}{ll}\n",
       "\t 4.612696 & 1.78682\\\\\n",
       "\t 3.114373 & 2.89646\\\\\n",
       "\\end{tabular}\n"
      ],
      "text/markdown": [
       "\n",
       "A matrix: 2 × 2 of type dbl\n",
       "\n",
       "| 4.612696 | 1.78682 |\n",
       "| 3.114373 | 2.89646 |\n",
       "\n"
      ],
      "text/plain": [
       "     [,1]     [,2]   \n",
       "[1,] 4.612696 1.78682\n",
       "[2,] 3.114373 2.89646"
      ]
     },
     "metadata": {},
     "output_type": "display_data"
    },
    {
     "data": {
      "text/html": [
       "<table class=\"dataframe\">\n",
       "<caption>A matrix: 2 × 2 of type dbl</caption>\n",
       "<tbody>\n",
       "\t<tr><td> 0.9361388</td><td>-0.02373348</td></tr>\n",
       "\t<tr><td>-0.3411660</td><td> 0.82974313</td></tr>\n",
       "</tbody>\n",
       "</table>\n"
      ],
      "text/latex": [
       "A matrix: 2 × 2 of type dbl\n",
       "\\begin{tabular}{ll}\n",
       "\t  0.9361388 & -0.02373348\\\\\n",
       "\t -0.3411660 &  0.82974313\\\\\n",
       "\\end{tabular}\n"
      ],
      "text/markdown": [
       "\n",
       "A matrix: 2 × 2 of type dbl\n",
       "\n",
       "|  0.9361388 | -0.02373348 |\n",
       "| -0.3411660 |  0.82974313 |\n",
       "\n"
      ],
      "text/plain": [
       "     [,1]       [,2]       \n",
       "[1,]  0.9361388 -0.02373348\n",
       "[2,] -0.3411660  0.82974313"
      ]
     },
     "metadata": {},
     "output_type": "display_data"
    },
    {
     "data": {
      "text/html": [
       "<table class=\"dataframe\">\n",
       "<caption>A matrix: 2 × 2 of type dbl</caption>\n",
       "<tbody>\n",
       "\t<tr><td>30.290464</td><td>-1.732457</td></tr>\n",
       "\t<tr><td>-1.754248</td><td>18.232282</td></tr>\n",
       "</tbody>\n",
       "</table>\n"
      ],
      "text/latex": [
       "A matrix: 2 × 2 of type dbl\n",
       "\\begin{tabular}{ll}\n",
       "\t 30.290464 & -1.732457\\\\\n",
       "\t -1.754248 & 18.232282\\\\\n",
       "\\end{tabular}\n"
      ],
      "text/markdown": [
       "\n",
       "A matrix: 2 × 2 of type dbl\n",
       "\n",
       "| 30.290464 | -1.732457 |\n",
       "| -1.754248 | 18.232282 |\n",
       "\n"
      ],
      "text/plain": [
       "     [,1]      [,2]     \n",
       "[1,] 30.290464 -1.732457\n",
       "[2,] -1.754248 18.232282"
      ]
     },
     "metadata": {},
     "output_type": "display_data"
    }
   ],
   "source": [
    "bekk3_fit$A\n",
    "bekk3_fit$A_t\n",
    "bekk3_fit$G\n",
    "bekk3_fit$G_t"
   ]
  },
  {
   "cell_type": "markdown",
   "id": "632e4175-da13-426e-8901-18e283d96a68",
   "metadata": {},
   "source": [
    "### VAR-BEKK Model Table for US Cocoa - CHFUSD"
   ]
  },
  {
   "cell_type": "code",
   "execution_count": 41,
   "id": "9278d53f-3b5c-4fca-959b-65dc13b5a50d",
   "metadata": {},
   "outputs": [
    {
     "data": {
      "text/html": [
       "<table class=\"dataframe\">\n",
       "<caption>A data.frame: 14 × 5</caption>\n",
       "<thead>\n",
       "\t<tr><th scope=col>Parameters</th><th scope=col>Coefficient</th><th scope=col>Std_error</th><th scope=col>T_value</th><th scope=col>Significant_at_5p_level</th></tr>\n",
       "\t<tr><th scope=col>&lt;chr&gt;</th><th scope=col>&lt;dbl&gt;</th><th scope=col>&lt;dbl&gt;</th><th scope=col>&lt;dbl&gt;</th><th scope=col>&lt;chr&gt;</th></tr>\n",
       "</thead>\n",
       "<tbody>\n",
       "\t<tr><td>mu10 </td><td>-2.233498e-04</td><td>0.0005272743</td><td>-0.42359324</td><td>Not Statistically Significant</td></tr>\n",
       "\t<tr><td>mu20 </td><td> 7.888269e-05</td><td>0.0001354403</td><td> 0.58241678</td><td>Not Statistically Significant</td></tr>\n",
       "\t<tr><td>phi11</td><td>-3.620364e-02</td><td>0.0311170986</td><td>-1.16346460</td><td>Not Statistically Significant</td></tr>\n",
       "\t<tr><td>phi12</td><td> 2.496969e-01</td><td>0.1215167223</td><td> 2.05483589</td><td>Stat significant at 5%       </td></tr>\n",
       "\t<tr><td>phi21</td><td> 3.805156e-03</td><td>0.0079930086</td><td> 0.47606056</td><td>Not Statistically Significant</td></tr>\n",
       "\t<tr><td>phi22</td><td> 2.715651e-03</td><td>0.0312138423</td><td> 0.08700148</td><td>Not Statistically Significant</td></tr>\n",
       "\t<tr><td>a11  </td><td> 1.810719e-01</td><td>0.0392551053</td><td> 4.61269563</td><td>Stat significant at 1%       </td></tr>\n",
       "\t<tr><td>a12  </td><td> 2.832126e-02</td><td>0.0158500883</td><td> 1.78682027</td><td>Stat significant at 10%      </td></tr>\n",
       "\t<tr><td>a21  </td><td> 4.812738e-01</td><td>0.1545331352</td><td> 3.11437307</td><td>Stat significant at 1%       </td></tr>\n",
       "\t<tr><td>a22  </td><td> 1.822491e-01</td><td>0.0629213237</td><td> 2.89646034</td><td>Stat significant at 1%       </td></tr>\n",
       "\t<tr><td>g11  </td><td> 9.361388e-01</td><td>0.0309053961</td><td>30.29046449</td><td>Stat significant at 1%       </td></tr>\n",
       "\t<tr><td>g12  </td><td>-2.373348e-02</td><td>0.0136993189</td><td>-1.73245685</td><td>Stat significant at 10%      </td></tr>\n",
       "\t<tr><td>g21  </td><td>-3.411660e-01</td><td>0.1944799843</td><td>-1.75424761</td><td>Stat significant at 10%      </td></tr>\n",
       "\t<tr><td>g22  </td><td> 8.297431e-01</td><td>0.0455095609</td><td>18.23228155</td><td>Stat significant at 1%       </td></tr>\n",
       "</tbody>\n",
       "</table>\n"
      ],
      "text/latex": [
       "A data.frame: 14 × 5\n",
       "\\begin{tabular}{lllll}\n",
       " Parameters & Coefficient & Std\\_error & T\\_value & Significant\\_at\\_5p\\_level\\\\\n",
       " <chr> & <dbl> & <dbl> & <dbl> & <chr>\\\\\n",
       "\\hline\n",
       "\t mu10  & -2.233498e-04 & 0.0005272743 & -0.42359324 & Not Statistically Significant\\\\\n",
       "\t mu20  &  7.888269e-05 & 0.0001354403 &  0.58241678 & Not Statistically Significant\\\\\n",
       "\t phi11 & -3.620364e-02 & 0.0311170986 & -1.16346460 & Not Statistically Significant\\\\\n",
       "\t phi12 &  2.496969e-01 & 0.1215167223 &  2.05483589 & Stat significant at 5\\%       \\\\\n",
       "\t phi21 &  3.805156e-03 & 0.0079930086 &  0.47606056 & Not Statistically Significant\\\\\n",
       "\t phi22 &  2.715651e-03 & 0.0312138423 &  0.08700148 & Not Statistically Significant\\\\\n",
       "\t a11   &  1.810719e-01 & 0.0392551053 &  4.61269563 & Stat significant at 1\\%       \\\\\n",
       "\t a12   &  2.832126e-02 & 0.0158500883 &  1.78682027 & Stat significant at 10\\%      \\\\\n",
       "\t a21   &  4.812738e-01 & 0.1545331352 &  3.11437307 & Stat significant at 1\\%       \\\\\n",
       "\t a22   &  1.822491e-01 & 0.0629213237 &  2.89646034 & Stat significant at 1\\%       \\\\\n",
       "\t g11   &  9.361388e-01 & 0.0309053961 & 30.29046449 & Stat significant at 1\\%       \\\\\n",
       "\t g12   & -2.373348e-02 & 0.0136993189 & -1.73245685 & Stat significant at 10\\%      \\\\\n",
       "\t g21   & -3.411660e-01 & 0.1944799843 & -1.75424761 & Stat significant at 10\\%      \\\\\n",
       "\t g22   &  8.297431e-01 & 0.0455095609 & 18.23228155 & Stat significant at 1\\%       \\\\\n",
       "\\end{tabular}\n"
      ],
      "text/markdown": [
       "\n",
       "A data.frame: 14 × 5\n",
       "\n",
       "| Parameters &lt;chr&gt; | Coefficient &lt;dbl&gt; | Std_error &lt;dbl&gt; | T_value &lt;dbl&gt; | Significant_at_5p_level &lt;chr&gt; |\n",
       "|---|---|---|---|---|\n",
       "| mu10  | -2.233498e-04 | 0.0005272743 | -0.42359324 | Not Statistically Significant |\n",
       "| mu20  |  7.888269e-05 | 0.0001354403 |  0.58241678 | Not Statistically Significant |\n",
       "| phi11 | -3.620364e-02 | 0.0311170986 | -1.16346460 | Not Statistically Significant |\n",
       "| phi12 |  2.496969e-01 | 0.1215167223 |  2.05483589 | Stat significant at 5%        |\n",
       "| phi21 |  3.805156e-03 | 0.0079930086 |  0.47606056 | Not Statistically Significant |\n",
       "| phi22 |  2.715651e-03 | 0.0312138423 |  0.08700148 | Not Statistically Significant |\n",
       "| a11   |  1.810719e-01 | 0.0392551053 |  4.61269563 | Stat significant at 1%        |\n",
       "| a12   |  2.832126e-02 | 0.0158500883 |  1.78682027 | Stat significant at 10%       |\n",
       "| a21   |  4.812738e-01 | 0.1545331352 |  3.11437307 | Stat significant at 1%        |\n",
       "| a22   |  1.822491e-01 | 0.0629213237 |  2.89646034 | Stat significant at 1%        |\n",
       "| g11   |  9.361388e-01 | 0.0309053961 | 30.29046449 | Stat significant at 1%        |\n",
       "| g12   | -2.373348e-02 | 0.0136993189 | -1.73245685 | Stat significant at 10%       |\n",
       "| g21   | -3.411660e-01 | 0.1944799843 | -1.75424761 | Stat significant at 10%       |\n",
       "| g22   |  8.297431e-01 | 0.0455095609 | 18.23228155 | Stat significant at 1%        |\n",
       "\n"
      ],
      "text/plain": [
       "   Parameters Coefficient   Std_error    T_value    \n",
       "1  mu10       -2.233498e-04 0.0005272743 -0.42359324\n",
       "2  mu20        7.888269e-05 0.0001354403  0.58241678\n",
       "3  phi11      -3.620364e-02 0.0311170986 -1.16346460\n",
       "4  phi12       2.496969e-01 0.1215167223  2.05483589\n",
       "5  phi21       3.805156e-03 0.0079930086  0.47606056\n",
       "6  phi22       2.715651e-03 0.0312138423  0.08700148\n",
       "7  a11         1.810719e-01 0.0392551053  4.61269563\n",
       "8  a12         2.832126e-02 0.0158500883  1.78682027\n",
       "9  a21         4.812738e-01 0.1545331352  3.11437307\n",
       "10 a22         1.822491e-01 0.0629213237  2.89646034\n",
       "11 g11         9.361388e-01 0.0309053961 30.29046449\n",
       "12 g12        -2.373348e-02 0.0136993189 -1.73245685\n",
       "13 g21        -3.411660e-01 0.1944799843 -1.75424761\n",
       "14 g22         8.297431e-01 0.0455095609 18.23228155\n",
       "   Significant_at_5p_level      \n",
       "1  Not Statistically Significant\n",
       "2  Not Statistically Significant\n",
       "3  Not Statistically Significant\n",
       "4  Stat significant at 5%       \n",
       "5  Not Statistically Significant\n",
       "6  Not Statistically Significant\n",
       "7  Stat significant at 1%       \n",
       "8  Stat significant at 10%      \n",
       "9  Stat significant at 1%       \n",
       "10 Stat significant at 1%       \n",
       "11 Stat significant at 1%       \n",
       "12 Stat significant at 10%      \n",
       "13 Stat significant at 10%      \n",
       "14 Stat significant at 1%       "
      ]
     },
     "metadata": {},
     "output_type": "display_data"
    }
   ],
   "source": [
    "bekk3 <- data.frame(Parameters = c(\"mu10\",\"mu20\",\"phi11\",\"phi12\",\"phi21\",\"phi22\",\"a11\",\"a12\",\"a21\",\"a22\",\"g11\",\"g12\",\"g21\",\"g22\"),\n",
    "                   Coefficient = c(summary(var_bekk3)$varresult$usc$coefficients[\"const\",\"Estimate\"],summary(var_bekk3)$varresult$chfusd$coefficients[\"const\",\"Estimate\"],\n",
    "                       summary(var_bekk3)$varresult$usc$coefficients[\"usc.l1\",\"Estimate\"],summary(var_bekk3)$varresult$usc$coefficients[\"chfusd.l1\",\"Estimate\"],\n",
    "                                   summary(var_bekk3)$varresult$chfusd$coefficients[\"usc.l1\",\"Estimate\"],summary(var_bekk3)$varresult$chfusd$coefficients[\"chfusd.l1\",\"Estimate\"],\n",
    "                                   bekk3_fit$A[1,1],bekk3_fit$A[1,2],bekk3_fit$A[2,1],bekk3_fit$A[2,2],bekk3_fit$G[1,1],bekk3_fit$G[1,2],bekk3_fit$G[2,1],bekk3_fit$G[2,2]),\n",
    "                   Std_error = c(summary(var_bekk3)$varresult$usc$coefficients[\"const\",\"Std. Error\"],summary(var_bekk3)$varresult$chfusd$coefficients[\"const\",\"Std. Error\"],\n",
    "                       summary(var_bekk3)$varresult$usc$coefficients[\"usc.l1\",\"Std. Error\"],summary(var_bekk3)$varresult$usc$coefficients[\"chfusd.l1\",\"Std. Error\"],\n",
    "                                 summary(var_bekk3)$varresult$chfusd$coefficients[\"usc.l1\",\"Std. Error\"],summary(var_bekk3)$varresult$chfusd$coefficients[\"chfusd.l1\",\"Std. Error\"],\n",
    "                                 bekk3_fit$A_sd[1,1],bekk3_fit$A_sd[1,2],bekk3_fit$A_sd[2,1],bekk3_fit$A_sd[2,2],bekk3_fit$G_sd[1,1],bekk3_fit$G_sd[1,2],bekk3_fit$G_sd[2,1],bekk3_fit$G_sd[2,2]),\n",
    "                   T_value = c(summary(var_bekk3)$varresult$usc$coefficients[\"const\",\"t value\"],summary(var_bekk3)$varresult$chfusd$coefficients[\"const\",\"t value\"],\n",
    "                       summary(var_bekk3)$varresult$usc$coefficients[\"usc.l1\",\"t value\"],summary(var_bekk3)$varresult$usc$coefficients[\"chfusd.l1\",\"t value\"],\n",
    "                               summary(var_bekk3)$varresult$chfusd$coefficients[\"usc.l1\",\"t value\"],summary(var_bekk3)$varresult$chfusd$coefficients[\"chfusd.l1\",\"t value\"],\n",
    "                               bekk3_fit$A_t[1,1],bekk3_fit$A_t[1,2],bekk3_fit$A_t[2,1],bekk3_fit$A_t[2,2],bekk3_fit$G_t[1,1],bekk3_fit$G_t[1,2],bekk3_fit$G_t[2,1],bekk3_fit$G_t[2,2]))\n",
    "\n",
    "bekk3$Significant_at_5p_level[abs(bekk3$T_value) >= 2.58 ] <- \"Stat significant at 1%\"\n",
    "bekk3$Significant_at_5p_level[abs(bekk3$T_value) > 1.96 & abs(bekk3$T_value) < 2.58] <- \"Stat significant at 5%\"\n",
    "bekk3$Significant_at_5p_level[abs(bekk3$T_value) > 1.645 & abs(bekk3$T_value) <= 1.96 ] <- \"Stat significant at 10%\"\n",
    "bekk3$Significant_at_5p_level[abs(bekk3$T_value) <= 1.645] <- \"Not Statistically Significant\"\n",
    "bekk3"
   ]
  },
  {
   "cell_type": "code",
   "execution_count": 42,
   "id": "5467435e-2498-4ccf-a323-53361fd3d4fc",
   "metadata": {},
   "outputs": [
    {
     "data": {
      "text/plain": [
       "\n",
       "\tGranger causality H0: usc do not Granger-cause chfusd\n",
       "\n",
       "data:  VAR object var_bekk3\n",
       "F-Test = 0.22663, df1 = 1, df2 = 2070, p-value = 0.6341\n"
      ]
     },
     "metadata": {},
     "output_type": "display_data"
    },
    {
     "data": {
      "text/plain": [
       "\n",
       "\tGranger causality H0: chfusd do not Granger-cause usc\n",
       "\n",
       "data:  VAR object var_bekk3\n",
       "F-Test = 4.2224, df1 = 1, df2 = 2070, p-value = 0.04002\n"
      ]
     },
     "metadata": {},
     "output_type": "display_data"
    }
   ],
   "source": [
    "causality(var_bekk3,cause = \"usc\")$Granger\n",
    "causality(var_bekk3,cause = \"chfusd\")$Granger"
   ]
  },
  {
   "cell_type": "markdown",
   "id": "8a7dcabe-b991-4b5c-9665-548d6b39aad1",
   "metadata": {},
   "source": [
    "## (d) VAR-BEKK model for US Cocoa - GHSUSD"
   ]
  },
  {
   "cell_type": "code",
   "execution_count": 43,
   "id": "bdf354b7-a039-44d9-99eb-842e3d4440af",
   "metadata": {},
   "outputs": [
    {
     "data": {
      "text/plain": [
       "                     usc        ghsusd\n",
       "2015-12-01 -0.0005991612 -0.0009211267\n",
       "2015-12-02 -0.0011994004  0.0012889628\n",
       "2015-12-03  0.0157764844 -0.0073730523\n",
       "2015-12-04  0.0011806377  0.0113934382\n",
       "2015-12-07  0.0079330517 -0.0043882219\n",
       "2015-12-08 -0.0300037359 -0.0096534483"
      ]
     },
     "metadata": {},
     "output_type": "display_data"
    },
    {
     "data": {
      "text/plain": [
       "                     usc        ghsusd\n",
       "2020-01-24 -0.0115358165 -1.018738e-03\n",
       "2020-01-27  0.0003625159  5.026346e-05\n",
       "2020-01-28 -0.0105666860  2.312178e-03\n",
       "2020-01-29  0.0087527911  2.848696e-03\n",
       "2020-01-30  0.0272223113  9.232890e-03\n",
       "2020-01-31 -0.0103002154  3.445617e-03"
      ]
     },
     "metadata": {},
     "output_type": "display_data"
    }
   ],
   "source": [
    "bekk7data <- na.omit(merge(cr_d[,1],fr_d[,7]))\n",
    "head(bekk7data)\n",
    "tail(bekk7data)"
   ]
  },
  {
   "cell_type": "code",
   "execution_count": 44,
   "id": "bb9098a7-39d0-40ad-a62f-210f19e4ea1c",
   "metadata": {},
   "outputs": [
    {
     "data": {
      "text/html": [
       "<dl>\n",
       "\t<dt>$selection</dt>\n",
       "\t\t<dd><style>\n",
       ".dl-inline {width: auto; margin:0; padding: 0}\n",
       ".dl-inline>dt, .dl-inline>dd {float: none; width: auto; display: inline-block}\n",
       ".dl-inline>dt::after {content: \":\\0020\"; padding-right: .5ex}\n",
       ".dl-inline>dt:not(:first-of-type) {padding-left: .5ex}\n",
       "</style><dl class=dl-inline><dt>AIC(n)</dt><dd>1</dd><dt>HQ(n)</dt><dd>1</dd><dt>SC(n)</dt><dd>1</dd><dt>FPE(n)</dt><dd>1</dd></dl>\n",
       "</dd>\n",
       "\t<dt>$criteria</dt>\n",
       "\t\t<dd><table class=\"dataframe\">\n",
       "<caption>A matrix: 4 × 10 of type dbl</caption>\n",
       "<thead>\n",
       "\t<tr><th></th><th scope=col>1</th><th scope=col>2</th><th scope=col>3</th><th scope=col>4</th><th scope=col>5</th><th scope=col>6</th><th scope=col>7</th><th scope=col>8</th><th scope=col>9</th><th scope=col>10</th></tr>\n",
       "</thead>\n",
       "<tbody>\n",
       "\t<tr><th scope=row>AIC(n)</th><td>-1.765576e+01</td><td>-1.765187e+01</td><td>-1.764769e+01</td><td>-1.764199e+01</td><td>-1.763881e+01</td><td>-1.763422e+01</td><td>-1.763252e+01</td><td>-1.762693e+01</td><td>-1.762290e+01</td><td>-1.761814e+01</td></tr>\n",
       "\t<tr><th scope=row>HQ(n)</th><td>-1.764484e+01</td><td>-1.763366e+01</td><td>-1.762220e+01</td><td>-1.760922e+01</td><td>-1.759875e+01</td><td>-1.758688e+01</td><td>-1.757790e+01</td><td>-1.756502e+01</td><td>-1.755371e+01</td><td>-1.754167e+01</td></tr>\n",
       "\t<tr><th scope=row>SC(n)</th><td>-1.762698e+01</td><td>-1.760390e+01</td><td>-1.758052e+01</td><td>-1.755564e+01</td><td>-1.753327e+01</td><td>-1.750949e+01</td><td>-1.748861e+01</td><td>-1.746382e+01</td><td>-1.744061e+01</td><td>-1.741666e+01</td></tr>\n",
       "\t<tr><th scope=row>FPE(n)</th><td> 2.148814e-08</td><td> 2.157195e-08</td><td> 2.166245e-08</td><td> 2.178622e-08</td><td> 2.185560e-08</td><td> 2.195621e-08</td><td> 2.199350e-08</td><td> 2.211692e-08</td><td> 2.220620e-08</td><td> 2.231225e-08</td></tr>\n",
       "</tbody>\n",
       "</table>\n",
       "</dd>\n",
       "</dl>\n"
      ],
      "text/latex": [
       "\\begin{description}\n",
       "\\item[\\$selection] \\begin{description*}\n",
       "\\item[AIC(n)] 1\n",
       "\\item[HQ(n)] 1\n",
       "\\item[SC(n)] 1\n",
       "\\item[FPE(n)] 1\n",
       "\\end{description*}\n",
       "\n",
       "\\item[\\$criteria] A matrix: 4 × 10 of type dbl\n",
       "\\begin{tabular}{r|llllllllll}\n",
       "  & 1 & 2 & 3 & 4 & 5 & 6 & 7 & 8 & 9 & 10\\\\\n",
       "\\hline\n",
       "\tAIC(n) & -1.765576e+01 & -1.765187e+01 & -1.764769e+01 & -1.764199e+01 & -1.763881e+01 & -1.763422e+01 & -1.763252e+01 & -1.762693e+01 & -1.762290e+01 & -1.761814e+01\\\\\n",
       "\tHQ(n) & -1.764484e+01 & -1.763366e+01 & -1.762220e+01 & -1.760922e+01 & -1.759875e+01 & -1.758688e+01 & -1.757790e+01 & -1.756502e+01 & -1.755371e+01 & -1.754167e+01\\\\\n",
       "\tSC(n) & -1.762698e+01 & -1.760390e+01 & -1.758052e+01 & -1.755564e+01 & -1.753327e+01 & -1.750949e+01 & -1.748861e+01 & -1.746382e+01 & -1.744061e+01 & -1.741666e+01\\\\\n",
       "\tFPE(n) &  2.148814e-08 &  2.157195e-08 &  2.166245e-08 &  2.178622e-08 &  2.185560e-08 &  2.195621e-08 &  2.199350e-08 &  2.211692e-08 &  2.220620e-08 &  2.231225e-08\\\\\n",
       "\\end{tabular}\n",
       "\n",
       "\\end{description}\n"
      ],
      "text/markdown": [
       "$selection\n",
       ":   AIC(n)\n",
       ":   1HQ(n)\n",
       ":   1SC(n)\n",
       ":   1FPE(n)\n",
       ":   1\n",
       "\n",
       "\n",
       "$criteria\n",
       ":   \n",
       "A matrix: 4 × 10 of type dbl\n",
       "\n",
       "| <!--/--> | 1 | 2 | 3 | 4 | 5 | 6 | 7 | 8 | 9 | 10 |\n",
       "|---|---|---|---|---|---|---|---|---|---|---|\n",
       "| AIC(n) | -1.765576e+01 | -1.765187e+01 | -1.764769e+01 | -1.764199e+01 | -1.763881e+01 | -1.763422e+01 | -1.763252e+01 | -1.762693e+01 | -1.762290e+01 | -1.761814e+01 |\n",
       "| HQ(n) | -1.764484e+01 | -1.763366e+01 | -1.762220e+01 | -1.760922e+01 | -1.759875e+01 | -1.758688e+01 | -1.757790e+01 | -1.756502e+01 | -1.755371e+01 | -1.754167e+01 |\n",
       "| SC(n) | -1.762698e+01 | -1.760390e+01 | -1.758052e+01 | -1.755564e+01 | -1.753327e+01 | -1.750949e+01 | -1.748861e+01 | -1.746382e+01 | -1.744061e+01 | -1.741666e+01 |\n",
       "| FPE(n) |  2.148814e-08 |  2.157195e-08 |  2.166245e-08 |  2.178622e-08 |  2.185560e-08 |  2.195621e-08 |  2.199350e-08 |  2.211692e-08 |  2.220620e-08 |  2.231225e-08 |\n",
       "\n",
       "\n",
       "\n",
       "\n"
      ],
      "text/plain": [
       "$selection\n",
       "AIC(n)  HQ(n)  SC(n) FPE(n) \n",
       "     1      1      1      1 \n",
       "\n",
       "$criteria\n",
       "                   1             2             3             4             5\n",
       "AIC(n) -1.765576e+01 -1.765187e+01 -1.764769e+01 -1.764199e+01 -1.763881e+01\n",
       "HQ(n)  -1.764484e+01 -1.763366e+01 -1.762220e+01 -1.760922e+01 -1.759875e+01\n",
       "SC(n)  -1.762698e+01 -1.760390e+01 -1.758052e+01 -1.755564e+01 -1.753327e+01\n",
       "FPE(n)  2.148814e-08  2.157195e-08  2.166245e-08  2.178622e-08  2.185560e-08\n",
       "                   6             7             8             9            10\n",
       "AIC(n) -1.763422e+01 -1.763252e+01 -1.762693e+01 -1.762290e+01 -1.761814e+01\n",
       "HQ(n)  -1.758688e+01 -1.757790e+01 -1.756502e+01 -1.755371e+01 -1.754167e+01\n",
       "SC(n)  -1.750949e+01 -1.748861e+01 -1.746382e+01 -1.744061e+01 -1.741666e+01\n",
       "FPE(n)  2.195621e-08  2.199350e-08  2.211692e-08  2.220620e-08  2.231225e-08\n"
      ]
     },
     "metadata": {},
     "output_type": "display_data"
    }
   ],
   "source": [
    "VARselect(bekk7data,type = \"const\")"
   ]
  },
  {
   "cell_type": "code",
   "execution_count": 45,
   "id": "2fce6ea0-5825-4c39-b25b-ec2b6cbe5e1f",
   "metadata": {},
   "outputs": [],
   "source": [
    "var_bekk7<-VAR(bekk7data,p = 1,type = \"const\")\n",
    "res_bekk7 <- residuals(var_bekk7)\n",
    "res_bekk7 <- as.data.frame(res_bekk7)"
   ]
  },
  {
   "cell_type": "code",
   "execution_count": 46,
   "id": "e31c10bc-19a1-4a18-9d86-a2a05f2d85f2",
   "metadata": {},
   "outputs": [
    {
     "data": {
      "text/plain": [
       "\n",
       "VAR Estimation Results:\n",
       "========================= \n",
       "Endogenous variables: usc, ghsusd \n",
       "Deterministic variables: const \n",
       "Sample size: 1038 \n",
       "Log Likelihood: 6225.706 \n",
       "Roots of the characteristic polynomial:\n",
       "0.3835 0.02973\n",
       "Call:\n",
       "VAR(y = bekk7data, p = 1, type = \"const\")\n",
       "\n",
       "\n",
       "Estimation results for equation usc: \n",
       "==================================== \n",
       "usc = usc.l1 + ghsusd.l1 + const \n",
       "\n",
       "            Estimate Std. Error t value Pr(>|t|)\n",
       "usc.l1    -0.0311082  0.0310785  -1.001    0.317\n",
       "ghsusd.l1  0.0174659  0.0569626   0.307    0.759\n",
       "const     -0.0001988  0.0005285  -0.376    0.707\n",
       "\n",
       "\n",
       "Residual standard error: 0.01702 on 1035 degrees of freedom\n",
       "Multiple R-Squared: 0.001047,\tAdjusted R-squared: -0.0008838 \n",
       "F-statistic: 0.5422 on 2 and 1035 DF,  p-value: 0.5817 \n",
       "\n",
       "\n",
       "Estimation results for equation ghsusd: \n",
       "======================================= \n",
       "ghsusd = usc.l1 + ghsusd.l1 + const \n",
       "\n",
       "            Estimate Std. Error t value Pr(>|t|)    \n",
       "usc.l1     0.0278664  0.0156597   1.779   0.0755 .  \n",
       "ghsusd.l1 -0.3820885  0.0287021 -13.312   <2e-16 ***\n",
       "const     -0.0003793  0.0002663  -1.425   0.1546    \n",
       "---\n",
       "Signif. codes:  0 ‘***’ 0.001 ‘**’ 0.01 ‘*’ 0.05 ‘.’ 0.1 ‘ ’ 1\n",
       "\n",
       "\n",
       "Residual standard error: 0.008575 on 1035 degrees of freedom\n",
       "Multiple R-Squared: 0.1478,\tAdjusted R-squared: 0.1462 \n",
       "F-statistic: 89.76 on 2 and 1035 DF,  p-value: < 2.2e-16 \n",
       "\n",
       "\n",
       "\n",
       "Covariance matrix of residuals:\n",
       "             usc    ghsusd\n",
       "usc    2.896e-04 3.854e-06\n",
       "ghsusd 3.854e-06 7.353e-05\n",
       "\n",
       "Correlation matrix of residuals:\n",
       "           usc  ghsusd\n",
       "usc    1.00000 0.02641\n",
       "ghsusd 0.02641 1.00000\n",
       "\n"
      ]
     },
     "metadata": {},
     "output_type": "display_data"
    }
   ],
   "source": [
    "summary(var_bekk7)"
   ]
  },
  {
   "cell_type": "code",
   "execution_count": 47,
   "id": "a66c07ea-1ea0-43e9-aa1b-3a7fc58c1538",
   "metadata": {},
   "outputs": [
    {
     "name": "stdout",
     "output_type": "stream",
     "text": [
      " Date[1:1038], format: \"2015-12-02\" \"2015-12-03\" \"2015-12-04\" \"2015-12-07\" \"2015-12-08\" ...\n"
     ]
    }
   ],
   "source": [
    "ind_var7 <- index(bekk7data)[-1]\n",
    "str(ind_var7)"
   ]
  },
  {
   "cell_type": "code",
   "execution_count": 48,
   "id": "56fbda3f-ce7a-4c1e-b88a-d8c875a433a6",
   "metadata": {},
   "outputs": [],
   "source": [
    "res_bekk7 <- xts(res_bekk7,order.by = ind_var7)\n",
    "bekk_spec <- bekk_spec(model = list(type = \"bekk\",asymmetric = F))\n",
    "bekk7_fit <- bekk_fit(spec = bekk_spec,data = res_bekk7)"
   ]
  },
  {
   "cell_type": "code",
   "execution_count": 49,
   "id": "07c0e34d-5ee1-426f-8c4a-4a36bf14acf6",
   "metadata": {},
   "outputs": [
    {
     "data": {
      "text/html": [
       "<table class=\"dataframe\">\n",
       "<caption>A matrix: 2 × 2 of type dbl</caption>\n",
       "<tbody>\n",
       "\t<tr><td> 0.11089403</td><td>-0.01779038</td></tr>\n",
       "\t<tr><td>-0.03388237</td><td> 0.40015733</td></tr>\n",
       "</tbody>\n",
       "</table>\n"
      ],
      "text/latex": [
       "A matrix: 2 × 2 of type dbl\n",
       "\\begin{tabular}{ll}\n",
       "\t  0.11089403 & -0.01779038\\\\\n",
       "\t -0.03388237 &  0.40015733\\\\\n",
       "\\end{tabular}\n"
      ],
      "text/markdown": [
       "\n",
       "A matrix: 2 × 2 of type dbl\n",
       "\n",
       "|  0.11089403 | -0.01779038 |\n",
       "| -0.03388237 |  0.40015733 |\n",
       "\n"
      ],
      "text/plain": [
       "     [,1]        [,2]       \n",
       "[1,]  0.11089403 -0.01779038\n",
       "[2,] -0.03388237  0.40015733"
      ]
     },
     "metadata": {},
     "output_type": "display_data"
    },
    {
     "data": {
      "text/html": [
       "<table class=\"dataframe\">\n",
       "<caption>A matrix: 2 × 2 of type dbl</caption>\n",
       "<tbody>\n",
       "\t<tr><td> 4.5559544</td><td>-1.796756</td></tr>\n",
       "\t<tr><td>-0.8000931</td><td>17.961708</td></tr>\n",
       "</tbody>\n",
       "</table>\n"
      ],
      "text/latex": [
       "A matrix: 2 × 2 of type dbl\n",
       "\\begin{tabular}{ll}\n",
       "\t  4.5559544 & -1.796756\\\\\n",
       "\t -0.8000931 & 17.961708\\\\\n",
       "\\end{tabular}\n"
      ],
      "text/markdown": [
       "\n",
       "A matrix: 2 × 2 of type dbl\n",
       "\n",
       "|  4.5559544 | -1.796756 |\n",
       "| -0.8000931 | 17.961708 |\n",
       "\n"
      ],
      "text/plain": [
       "     [,1]       [,2]     \n",
       "[1,]  4.5559544 -1.796756\n",
       "[2,] -0.8000931 17.961708"
      ]
     },
     "metadata": {},
     "output_type": "display_data"
    },
    {
     "data": {
      "text/html": [
       "<table class=\"dataframe\">\n",
       "<caption>A matrix: 2 × 2 of type dbl</caption>\n",
       "<tbody>\n",
       "\t<tr><td>0.989050204</td><td>0.000681222</td></tr>\n",
       "\t<tr><td>0.007781085</td><td>0.905998115</td></tr>\n",
       "</tbody>\n",
       "</table>\n"
      ],
      "text/latex": [
       "A matrix: 2 × 2 of type dbl\n",
       "\\begin{tabular}{ll}\n",
       "\t 0.989050204 & 0.000681222\\\\\n",
       "\t 0.007781085 & 0.905998115\\\\\n",
       "\\end{tabular}\n"
      ],
      "text/markdown": [
       "\n",
       "A matrix: 2 × 2 of type dbl\n",
       "\n",
       "| 0.989050204 | 0.000681222 |\n",
       "| 0.007781085 | 0.905998115 |\n",
       "\n"
      ],
      "text/plain": [
       "     [,1]        [,2]       \n",
       "[1,] 0.989050204 0.000681222\n",
       "[2,] 0.007781085 0.905998115"
      ]
     },
     "metadata": {},
     "output_type": "display_data"
    },
    {
     "data": {
      "text/html": [
       "<table class=\"dataframe\">\n",
       "<caption>A matrix: 2 × 2 of type dbl</caption>\n",
       "<tbody>\n",
       "\t<tr><td>145.5949703</td><td>  0.08261115</td></tr>\n",
       "\t<tr><td>  0.4056989</td><td>107.05134849</td></tr>\n",
       "</tbody>\n",
       "</table>\n"
      ],
      "text/latex": [
       "A matrix: 2 × 2 of type dbl\n",
       "\\begin{tabular}{ll}\n",
       "\t 145.5949703 &   0.08261115\\\\\n",
       "\t   0.4056989 & 107.05134849\\\\\n",
       "\\end{tabular}\n"
      ],
      "text/markdown": [
       "\n",
       "A matrix: 2 × 2 of type dbl\n",
       "\n",
       "| 145.5949703 |   0.08261115 |\n",
       "|   0.4056989 | 107.05134849 |\n",
       "\n"
      ],
      "text/plain": [
       "     [,1]        [,2]        \n",
       "[1,] 145.5949703   0.08261115\n",
       "[2,]   0.4056989 107.05134849"
      ]
     },
     "metadata": {},
     "output_type": "display_data"
    }
   ],
   "source": [
    "bekk7_fit$A\n",
    "bekk7_fit$A_t\n",
    "bekk7_fit$G\n",
    "bekk7_fit$G_t"
   ]
  },
  {
   "cell_type": "markdown",
   "id": "169f2a32-a5e4-4768-bb14-2bbe15d4d9a0",
   "metadata": {},
   "source": [
    "### VAR-BEKK Model Table for US Cocoa - GHSUSD"
   ]
  },
  {
   "cell_type": "code",
   "execution_count": 50,
   "id": "1280683d-bd0b-4d36-832e-fd0cbb1eb331",
   "metadata": {},
   "outputs": [
    {
     "data": {
      "text/html": [
       "<table class=\"dataframe\">\n",
       "<caption>A data.frame: 14 × 5</caption>\n",
       "<thead>\n",
       "\t<tr><th scope=col>Parameters</th><th scope=col>Coefficient</th><th scope=col>Std_error</th><th scope=col>T_value</th><th scope=col>Significant_at_5p_level</th></tr>\n",
       "\t<tr><th scope=col>&lt;chr&gt;</th><th scope=col>&lt;dbl&gt;</th><th scope=col>&lt;dbl&gt;</th><th scope=col>&lt;dbl&gt;</th><th scope=col>&lt;chr&gt;</th></tr>\n",
       "</thead>\n",
       "<tbody>\n",
       "\t<tr><td>mu10 </td><td>-0.0001988219</td><td>0.0005284774</td><td> -0.37621647</td><td>Not Statistically Significant</td></tr>\n",
       "\t<tr><td>mu20 </td><td>-0.0003793294</td><td>0.0002662874</td><td> -1.42451125</td><td>Not Statistically Significant</td></tr>\n",
       "\t<tr><td>phi11</td><td>-0.0311081651</td><td>0.0310784881</td><td> -1.00095491</td><td>Not Statistically Significant</td></tr>\n",
       "\t<tr><td>phi12</td><td> 0.0174659052</td><td>0.0569625699</td><td>  0.30662074</td><td>Not Statistically Significant</td></tr>\n",
       "\t<tr><td>phi21</td><td> 0.0278664387</td><td>0.0156597247</td><td>  1.77949736</td><td>Stat significant at 10%      </td></tr>\n",
       "\t<tr><td>phi22</td><td>-0.3820885366</td><td>0.0287021093</td><td>-13.31221107</td><td>Stat significant at 1%       </td></tr>\n",
       "\t<tr><td>a11  </td><td> 0.1108940332</td><td>0.0243404618</td><td>  4.55595436</td><td>Stat significant at 1%       </td></tr>\n",
       "\t<tr><td>a12  </td><td>-0.0177903815</td><td>0.0099013873</td><td> -1.79675644</td><td>Stat significant at 10%      </td></tr>\n",
       "\t<tr><td>a21  </td><td>-0.0338823681</td><td>0.0423480335</td><td> -0.80009307</td><td>Not Statistically Significant</td></tr>\n",
       "\t<tr><td>a22  </td><td> 0.4001573304</td><td>0.0222783566</td><td> 17.96170779</td><td>Stat significant at 1%       </td></tr>\n",
       "\t<tr><td>g11  </td><td> 0.9890502035</td><td>0.0067931619</td><td>145.59497035</td><td>Stat significant at 1%       </td></tr>\n",
       "\t<tr><td>g12  </td><td> 0.0006812220</td><td>0.0082461267</td><td>  0.08261115</td><td>Not Statistically Significant</td></tr>\n",
       "\t<tr><td>g21  </td><td> 0.0077810846</td><td>0.0191794569</td><td>  0.40569890</td><td>Not Statistically Significant</td></tr>\n",
       "\t<tr><td>g22  </td><td> 0.9059981148</td><td>0.0084632107</td><td>107.05134849</td><td>Stat significant at 1%       </td></tr>\n",
       "</tbody>\n",
       "</table>\n"
      ],
      "text/latex": [
       "A data.frame: 14 × 5\n",
       "\\begin{tabular}{lllll}\n",
       " Parameters & Coefficient & Std\\_error & T\\_value & Significant\\_at\\_5p\\_level\\\\\n",
       " <chr> & <dbl> & <dbl> & <dbl> & <chr>\\\\\n",
       "\\hline\n",
       "\t mu10  & -0.0001988219 & 0.0005284774 &  -0.37621647 & Not Statistically Significant\\\\\n",
       "\t mu20  & -0.0003793294 & 0.0002662874 &  -1.42451125 & Not Statistically Significant\\\\\n",
       "\t phi11 & -0.0311081651 & 0.0310784881 &  -1.00095491 & Not Statistically Significant\\\\\n",
       "\t phi12 &  0.0174659052 & 0.0569625699 &   0.30662074 & Not Statistically Significant\\\\\n",
       "\t phi21 &  0.0278664387 & 0.0156597247 &   1.77949736 & Stat significant at 10\\%      \\\\\n",
       "\t phi22 & -0.3820885366 & 0.0287021093 & -13.31221107 & Stat significant at 1\\%       \\\\\n",
       "\t a11   &  0.1108940332 & 0.0243404618 &   4.55595436 & Stat significant at 1\\%       \\\\\n",
       "\t a12   & -0.0177903815 & 0.0099013873 &  -1.79675644 & Stat significant at 10\\%      \\\\\n",
       "\t a21   & -0.0338823681 & 0.0423480335 &  -0.80009307 & Not Statistically Significant\\\\\n",
       "\t a22   &  0.4001573304 & 0.0222783566 &  17.96170779 & Stat significant at 1\\%       \\\\\n",
       "\t g11   &  0.9890502035 & 0.0067931619 & 145.59497035 & Stat significant at 1\\%       \\\\\n",
       "\t g12   &  0.0006812220 & 0.0082461267 &   0.08261115 & Not Statistically Significant\\\\\n",
       "\t g21   &  0.0077810846 & 0.0191794569 &   0.40569890 & Not Statistically Significant\\\\\n",
       "\t g22   &  0.9059981148 & 0.0084632107 & 107.05134849 & Stat significant at 1\\%       \\\\\n",
       "\\end{tabular}\n"
      ],
      "text/markdown": [
       "\n",
       "A data.frame: 14 × 5\n",
       "\n",
       "| Parameters &lt;chr&gt; | Coefficient &lt;dbl&gt; | Std_error &lt;dbl&gt; | T_value &lt;dbl&gt; | Significant_at_5p_level &lt;chr&gt; |\n",
       "|---|---|---|---|---|\n",
       "| mu10  | -0.0001988219 | 0.0005284774 |  -0.37621647 | Not Statistically Significant |\n",
       "| mu20  | -0.0003793294 | 0.0002662874 |  -1.42451125 | Not Statistically Significant |\n",
       "| phi11 | -0.0311081651 | 0.0310784881 |  -1.00095491 | Not Statistically Significant |\n",
       "| phi12 |  0.0174659052 | 0.0569625699 |   0.30662074 | Not Statistically Significant |\n",
       "| phi21 |  0.0278664387 | 0.0156597247 |   1.77949736 | Stat significant at 10%       |\n",
       "| phi22 | -0.3820885366 | 0.0287021093 | -13.31221107 | Stat significant at 1%        |\n",
       "| a11   |  0.1108940332 | 0.0243404618 |   4.55595436 | Stat significant at 1%        |\n",
       "| a12   | -0.0177903815 | 0.0099013873 |  -1.79675644 | Stat significant at 10%       |\n",
       "| a21   | -0.0338823681 | 0.0423480335 |  -0.80009307 | Not Statistically Significant |\n",
       "| a22   |  0.4001573304 | 0.0222783566 |  17.96170779 | Stat significant at 1%        |\n",
       "| g11   |  0.9890502035 | 0.0067931619 | 145.59497035 | Stat significant at 1%        |\n",
       "| g12   |  0.0006812220 | 0.0082461267 |   0.08261115 | Not Statistically Significant |\n",
       "| g21   |  0.0077810846 | 0.0191794569 |   0.40569890 | Not Statistically Significant |\n",
       "| g22   |  0.9059981148 | 0.0084632107 | 107.05134849 | Stat significant at 1%        |\n",
       "\n"
      ],
      "text/plain": [
       "   Parameters Coefficient   Std_error    T_value     \n",
       "1  mu10       -0.0001988219 0.0005284774  -0.37621647\n",
       "2  mu20       -0.0003793294 0.0002662874  -1.42451125\n",
       "3  phi11      -0.0311081651 0.0310784881  -1.00095491\n",
       "4  phi12       0.0174659052 0.0569625699   0.30662074\n",
       "5  phi21       0.0278664387 0.0156597247   1.77949736\n",
       "6  phi22      -0.3820885366 0.0287021093 -13.31221107\n",
       "7  a11         0.1108940332 0.0243404618   4.55595436\n",
       "8  a12        -0.0177903815 0.0099013873  -1.79675644\n",
       "9  a21        -0.0338823681 0.0423480335  -0.80009307\n",
       "10 a22         0.4001573304 0.0222783566  17.96170779\n",
       "11 g11         0.9890502035 0.0067931619 145.59497035\n",
       "12 g12         0.0006812220 0.0082461267   0.08261115\n",
       "13 g21         0.0077810846 0.0191794569   0.40569890\n",
       "14 g22         0.9059981148 0.0084632107 107.05134849\n",
       "   Significant_at_5p_level      \n",
       "1  Not Statistically Significant\n",
       "2  Not Statistically Significant\n",
       "3  Not Statistically Significant\n",
       "4  Not Statistically Significant\n",
       "5  Stat significant at 10%      \n",
       "6  Stat significant at 1%       \n",
       "7  Stat significant at 1%       \n",
       "8  Stat significant at 10%      \n",
       "9  Not Statistically Significant\n",
       "10 Stat significant at 1%       \n",
       "11 Stat significant at 1%       \n",
       "12 Not Statistically Significant\n",
       "13 Not Statistically Significant\n",
       "14 Stat significant at 1%       "
      ]
     },
     "metadata": {},
     "output_type": "display_data"
    }
   ],
   "source": [
    "bekk7 <- data.frame(Parameters = c(\"mu10\",\"mu20\",\"phi11\",\"phi12\",\"phi21\",\"phi22\",\"a11\",\"a12\",\"a21\",\"a22\",\"g11\",\"g12\",\"g21\",\"g22\"),\n",
    "                   Coefficient = c(summary(var_bekk7)$varresult$usc$coefficients[\"const\",\"Estimate\"],summary(var_bekk7)$varresult$ghsusd$coefficients[\"const\",\"Estimate\"],\n",
    "                                   summary(var_bekk7)$varresult$usc$coefficients[\"usc.l1\",\"Estimate\"],summary(var_bekk7)$varresult$usc$coefficients[\"ghsusd.l1\",\"Estimate\"],\n",
    "                                   summary(var_bekk7)$varresult$ghsusd$coefficients[\"usc.l1\",\"Estimate\"],summary(var_bekk7)$varresult$ghsusd$coefficients[\"ghsusd.l1\",\"Estimate\"],\n",
    "                                   bekk7_fit$A[1,1],bekk7_fit$A[1,2],bekk7_fit$A[2,1],bekk7_fit$A[2,2],bekk7_fit$G[1,1],bekk7_fit$G[1,2],bekk7_fit$G[2,1],bekk7_fit$G[2,2]),\n",
    "                   Std_error = c(summary(var_bekk7)$varresult$usc$coefficients[\"const\",\"Std. Error\"],summary(var_bekk7)$varresult$ghsusd$coefficients[\"const\",\"Std. Error\"],\n",
    "                                   summary(var_bekk7)$varresult$usc$coefficients[\"usc.l1\",\"Std. Error\"],summary(var_bekk7)$varresult$usc$coefficients[\"ghsusd.l1\",\"Std. Error\"],\n",
    "                                   summary(var_bekk7)$varresult$ghsusd$coefficients[\"usc.l1\",\"Std. Error\"],summary(var_bekk7)$varresult$ghsusd$coefficients[\"ghsusd.l1\",\"Std. Error\"],\n",
    "                                   bekk7_fit$A_sd[1,1],bekk7_fit$A_sd[1,2],bekk7_fit$A_sd[2,1],bekk7_fit$A_sd[2,2],bekk7_fit$G_sd[1,1],bekk7_fit$G_sd[1,2],bekk7_fit$G_sd[2,1],bekk7_fit$G_sd[2,2]),\n",
    "                   T_value = c(summary(var_bekk7)$varresult$usc$coefficients[\"const\",\"t value\"],summary(var_bekk7)$varresult$ghsusd$coefficients[\"const\",\"t value\"],\n",
    "                                   summary(var_bekk7)$varresult$usc$coefficients[\"usc.l1\",\"t value\"],summary(var_bekk7)$varresult$usc$coefficients[\"ghsusd.l1\",\"t value\"],\n",
    "                                   summary(var_bekk7)$varresult$ghsusd$coefficients[\"usc.l1\",\"t value\"],summary(var_bekk7)$varresult$ghsusd$coefficients[\"ghsusd.l1\",\"t value\"],\n",
    "                                   bekk7_fit$A_t[1,1],bekk7_fit$A_t[1,2],bekk7_fit$A_t[2,1],bekk7_fit$A_t[2,2],bekk7_fit$G_t[1,1],bekk7_fit$G_t[1,2],bekk7_fit$G_t[2,1],bekk7_fit$G_t[2,2]))\n",
    "\n",
    "bekk7$Significant_at_5p_level[abs(bekk7$T_value) >= 2.58 ] <- \"Stat significant at 1%\"\n",
    "bekk7$Significant_at_5p_level[abs(bekk7$T_value) > 1.96 & abs(bekk7$T_value) < 2.58] <- \"Stat significant at 5%\"\n",
    "bekk7$Significant_at_5p_level[abs(bekk7$T_value) > 1.645 & abs(bekk7$T_value) <= 1.96 ] <- \"Stat significant at 10%\"\n",
    "bekk7$Significant_at_5p_level[abs(bekk7$T_value) <= 1.645] <- \"Not Statistically Significant\"\n",
    "bekk7"
   ]
  },
  {
   "cell_type": "code",
   "execution_count": 51,
   "id": "ec046d60-e772-4612-b30a-afda1af0dd43",
   "metadata": {},
   "outputs": [
    {
     "data": {
      "text/plain": [
       "\n",
       "\tGranger causality H0: usc do not Granger-cause ghsusd\n",
       "\n",
       "data:  VAR object var_bekk7\n",
       "F-Test = 3.1666, df1 = 1, df2 = 2070, p-value = 0.0753\n"
      ]
     },
     "metadata": {},
     "output_type": "display_data"
    },
    {
     "data": {
      "text/plain": [
       "\n",
       "\tGranger causality H0: ghsusd do not Granger-cause usc\n",
       "\n",
       "data:  VAR object var_bekk7\n",
       "F-Test = 0.094016, df1 = 1, df2 = 2070, p-value = 0.7592\n"
      ]
     },
     "metadata": {},
     "output_type": "display_data"
    }
   ],
   "source": [
    "causality(var_bekk7,cause = \"usc\")$Granger\n",
    "causality(var_bekk7,cause = \"ghsusd\")$Granger"
   ]
  },
  {
   "cell_type": "markdown",
   "id": "530acd59-3ea0-4376-9259-08000fc81626",
   "metadata": {},
   "source": [
    "## (iii) VAR-BEKK Models for London Cocoa"
   ]
  },
  {
   "cell_type": "code",
   "execution_count": 52,
   "id": "c73125ed-6838-4e21-a568-44466464e149",
   "metadata": {},
   "outputs": [
    {
     "name": "stdout",
     "output_type": "stream",
     "text": [
      "An xts object on 2015-12-01 / 2020-01-31 containing: \n",
      "  Data:    double [1039, 4]\n",
      "  Columns: lc, usdgbp, eurgbp, chfgbp\n",
      "  Index:   Date [1039] (TZ: \"UTC\")\n",
      "  xts Attributes:\n",
      "    $ na.action       : 'omit' int [1:3352] 1 2 3 4 5 6 7 8 9 10 ...\n",
      "  ..- attr(*, \"index\")= num [1:3352] 1.18e+09 1.18e+09 1.18e+09 1.18e+09 1.18e+09 ...\n",
      "    $ ret_type        : chr \"log\"\n",
      "    $ coredata_content: chr \"logReturn\"\n"
     ]
    },
    {
     "data": {
      "text/plain": [
       "                     lc       usdgbp        eurgbp        chfgbp\n",
       "2015-12-01 -0.000877193 -0.001732907  4.759377e-03  0.0010835914\n",
       "2015-12-02  0.007431728  0.008709418  6.216905e-03  0.0160384054\n",
       "2015-12-03  0.005646052 -0.012789822  1.717679e-02  0.0119562529\n",
       "2015-12-04  0.001730853  0.002042284 -2.772965e-03 -0.0014302385\n",
       "2015-12-07  0.005604671  0.003996838 -6.942275e-05  0.0006777364\n",
       "2015-12-08 -0.019536111  0.002930901  7.538854e-03  0.0111540626"
      ]
     },
     "metadata": {},
     "output_type": "display_data"
    },
    {
     "data": {
      "text/plain": [
       "                     lc        usdgbp        eurgbp        chfgbp\n",
       "2020-01-24 -0.004590674  0.0035370444  0.0010679325  0.0010801539\n",
       "2020-01-27  0.001532567  0.0016985697  0.0009483168  0.0033600691\n",
       "2020-01-28 -0.004092077  0.0020214542  0.0024850613 -0.0013933754\n",
       "2020-01-29  0.005112486  0.0005210029 -0.0005911214  0.0003168467\n",
       "2020-01-30  0.019692633 -0.0056805350 -0.0035540850 -0.0019025881\n",
       "2020-01-31 -0.015113638 -0.0080205545 -0.0028523908 -0.0015246811"
      ]
     },
     "metadata": {},
     "output_type": "display_data"
    }
   ],
   "source": [
    "l_d <- na.omit(merge(cr_d[,2],fr_d[,c(4:6)]))\n",
    "str(l_d)\n",
    "head(l_d)\n",
    "tail(l_d)"
   ]
  },
  {
   "cell_type": "markdown",
   "id": "f78485fc-f235-4238-8011-f4910d50d6d9",
   "metadata": {},
   "source": [
    "## (a) VAR-BEKK: London-USDGBP"
   ]
  },
  {
   "cell_type": "code",
   "execution_count": 53,
   "id": "05b46913-60cc-496f-af47-a61376614399",
   "metadata": {},
   "outputs": [
    {
     "data": {
      "text/plain": [
       "                     lc       usdgbp\n",
       "2015-12-01 -0.000877193 -0.001732907\n",
       "2015-12-02  0.007431728  0.008709418\n",
       "2015-12-03  0.005646052 -0.012789822\n",
       "2015-12-04  0.001730853  0.002042284\n",
       "2015-12-07  0.005604671  0.003996838\n",
       "2015-12-08 -0.019536111  0.002930901"
      ]
     },
     "metadata": {},
     "output_type": "display_data"
    },
    {
     "data": {
      "text/plain": [
       "                     lc        usdgbp\n",
       "2020-01-24 -0.004590674  0.0035370444\n",
       "2020-01-27  0.001532567  0.0016985697\n",
       "2020-01-28 -0.004092077  0.0020214542\n",
       "2020-01-29  0.005112486  0.0005210029\n",
       "2020-01-30  0.019692633 -0.0056805350\n",
       "2020-01-31 -0.015113638 -0.0080205545"
      ]
     },
     "metadata": {},
     "output_type": "display_data"
    }
   ],
   "source": [
    "bekk4data <- l_d[,c(1,2)]\n",
    "head(bekk4data)\n",
    "tail(bekk4data)"
   ]
  },
  {
   "cell_type": "code",
   "execution_count": 54,
   "id": "ee32cba3-5775-4e5f-980a-2df26baeac0c",
   "metadata": {},
   "outputs": [
    {
     "data": {
      "text/html": [
       "<dl>\n",
       "\t<dt>$selection</dt>\n",
       "\t\t<dd><style>\n",
       ".dl-inline {width: auto; margin:0; padding: 0}\n",
       ".dl-inline>dt, .dl-inline>dd {float: none; width: auto; display: inline-block}\n",
       ".dl-inline>dt::after {content: \":\\0020\"; padding-right: .5ex}\n",
       ".dl-inline>dt:not(:first-of-type) {padding-left: .5ex}\n",
       "</style><dl class=dl-inline><dt>AIC(n)</dt><dd>1</dd><dt>HQ(n)</dt><dd>1</dd><dt>SC(n)</dt><dd>1</dd><dt>FPE(n)</dt><dd>1</dd></dl>\n",
       "</dd>\n",
       "\t<dt>$criteria</dt>\n",
       "\t\t<dd><table class=\"dataframe\">\n",
       "<caption>A matrix: 4 × 10 of type dbl</caption>\n",
       "<thead>\n",
       "\t<tr><th></th><th scope=col>1</th><th scope=col>2</th><th scope=col>3</th><th scope=col>4</th><th scope=col>5</th><th scope=col>6</th><th scope=col>7</th><th scope=col>8</th><th scope=col>9</th><th scope=col>10</th></tr>\n",
       "</thead>\n",
       "<tbody>\n",
       "\t<tr><th scope=row>AIC(n)</th><td>-1.861441e+01</td><td>-1.860735e+01</td><td>-1.860285e+01</td><td>-1.859968e+01</td><td>-1.859523e+01</td><td>-1.859297e+01</td><td>-1.858787e+01</td><td>-1.858210e+01</td><td>-1.857466e+01</td><td>-1.856819e+01</td></tr>\n",
       "\t<tr><th scope=row>HQ(n)</th><td>-1.860349e+01</td><td>-1.858914e+01</td><td>-1.857736e+01</td><td>-1.856690e+01</td><td>-1.855517e+01</td><td>-1.854563e+01</td><td>-1.853324e+01</td><td>-1.852019e+01</td><td>-1.850547e+01</td><td>-1.849172e+01</td></tr>\n",
       "\t<tr><th scope=row>SC(n)</th><td>-1.858563e+01</td><td>-1.855937e+01</td><td>-1.853569e+01</td><td>-1.851333e+01</td><td>-1.848969e+01</td><td>-1.846825e+01</td><td>-1.844395e+01</td><td>-1.841899e+01</td><td>-1.839237e+01</td><td>-1.836671e+01</td></tr>\n",
       "\t<tr><th scope=row>FPE(n)</th><td> 8.238800e-09</td><td> 8.297212e-09</td><td> 8.334634e-09</td><td> 8.361097e-09</td><td> 8.398361e-09</td><td> 8.417353e-09</td><td> 8.460453e-09</td><td> 8.509403e-09</td><td> 8.572959e-09</td><td> 8.628647e-09</td></tr>\n",
       "</tbody>\n",
       "</table>\n",
       "</dd>\n",
       "</dl>\n"
      ],
      "text/latex": [
       "\\begin{description}\n",
       "\\item[\\$selection] \\begin{description*}\n",
       "\\item[AIC(n)] 1\n",
       "\\item[HQ(n)] 1\n",
       "\\item[SC(n)] 1\n",
       "\\item[FPE(n)] 1\n",
       "\\end{description*}\n",
       "\n",
       "\\item[\\$criteria] A matrix: 4 × 10 of type dbl\n",
       "\\begin{tabular}{r|llllllllll}\n",
       "  & 1 & 2 & 3 & 4 & 5 & 6 & 7 & 8 & 9 & 10\\\\\n",
       "\\hline\n",
       "\tAIC(n) & -1.861441e+01 & -1.860735e+01 & -1.860285e+01 & -1.859968e+01 & -1.859523e+01 & -1.859297e+01 & -1.858787e+01 & -1.858210e+01 & -1.857466e+01 & -1.856819e+01\\\\\n",
       "\tHQ(n) & -1.860349e+01 & -1.858914e+01 & -1.857736e+01 & -1.856690e+01 & -1.855517e+01 & -1.854563e+01 & -1.853324e+01 & -1.852019e+01 & -1.850547e+01 & -1.849172e+01\\\\\n",
       "\tSC(n) & -1.858563e+01 & -1.855937e+01 & -1.853569e+01 & -1.851333e+01 & -1.848969e+01 & -1.846825e+01 & -1.844395e+01 & -1.841899e+01 & -1.839237e+01 & -1.836671e+01\\\\\n",
       "\tFPE(n) &  8.238800e-09 &  8.297212e-09 &  8.334634e-09 &  8.361097e-09 &  8.398361e-09 &  8.417353e-09 &  8.460453e-09 &  8.509403e-09 &  8.572959e-09 &  8.628647e-09\\\\\n",
       "\\end{tabular}\n",
       "\n",
       "\\end{description}\n"
      ],
      "text/markdown": [
       "$selection\n",
       ":   AIC(n)\n",
       ":   1HQ(n)\n",
       ":   1SC(n)\n",
       ":   1FPE(n)\n",
       ":   1\n",
       "\n",
       "\n",
       "$criteria\n",
       ":   \n",
       "A matrix: 4 × 10 of type dbl\n",
       "\n",
       "| <!--/--> | 1 | 2 | 3 | 4 | 5 | 6 | 7 | 8 | 9 | 10 |\n",
       "|---|---|---|---|---|---|---|---|---|---|---|\n",
       "| AIC(n) | -1.861441e+01 | -1.860735e+01 | -1.860285e+01 | -1.859968e+01 | -1.859523e+01 | -1.859297e+01 | -1.858787e+01 | -1.858210e+01 | -1.857466e+01 | -1.856819e+01 |\n",
       "| HQ(n) | -1.860349e+01 | -1.858914e+01 | -1.857736e+01 | -1.856690e+01 | -1.855517e+01 | -1.854563e+01 | -1.853324e+01 | -1.852019e+01 | -1.850547e+01 | -1.849172e+01 |\n",
       "| SC(n) | -1.858563e+01 | -1.855937e+01 | -1.853569e+01 | -1.851333e+01 | -1.848969e+01 | -1.846825e+01 | -1.844395e+01 | -1.841899e+01 | -1.839237e+01 | -1.836671e+01 |\n",
       "| FPE(n) |  8.238800e-09 |  8.297212e-09 |  8.334634e-09 |  8.361097e-09 |  8.398361e-09 |  8.417353e-09 |  8.460453e-09 |  8.509403e-09 |  8.572959e-09 |  8.628647e-09 |\n",
       "\n",
       "\n",
       "\n",
       "\n"
      ],
      "text/plain": [
       "$selection\n",
       "AIC(n)  HQ(n)  SC(n) FPE(n) \n",
       "     1      1      1      1 \n",
       "\n",
       "$criteria\n",
       "                   1             2             3             4             5\n",
       "AIC(n) -1.861441e+01 -1.860735e+01 -1.860285e+01 -1.859968e+01 -1.859523e+01\n",
       "HQ(n)  -1.860349e+01 -1.858914e+01 -1.857736e+01 -1.856690e+01 -1.855517e+01\n",
       "SC(n)  -1.858563e+01 -1.855937e+01 -1.853569e+01 -1.851333e+01 -1.848969e+01\n",
       "FPE(n)  8.238800e-09  8.297212e-09  8.334634e-09  8.361097e-09  8.398361e-09\n",
       "                   6             7             8             9            10\n",
       "AIC(n) -1.859297e+01 -1.858787e+01 -1.858210e+01 -1.857466e+01 -1.856819e+01\n",
       "HQ(n)  -1.854563e+01 -1.853324e+01 -1.852019e+01 -1.850547e+01 -1.849172e+01\n",
       "SC(n)  -1.846825e+01 -1.844395e+01 -1.841899e+01 -1.839237e+01 -1.836671e+01\n",
       "FPE(n)  8.417353e-09  8.460453e-09  8.509403e-09  8.572959e-09  8.628647e-09\n"
      ]
     },
     "metadata": {},
     "output_type": "display_data"
    }
   ],
   "source": [
    "VARselect(bekk4data,type = \"const\")"
   ]
  },
  {
   "cell_type": "code",
   "execution_count": 55,
   "id": "5abeb126-eda0-4063-9f81-5ce103787a0e",
   "metadata": {},
   "outputs": [],
   "source": [
    "var_bekk4<-VAR(bekk4data,p = 1,type = \"const\")\n",
    "res_bekk4 <- residuals(var_bekk4)\n",
    "res_bekk4 <- as.data.frame(res_bekk4)"
   ]
  },
  {
   "cell_type": "code",
   "execution_count": 56,
   "id": "bfbe55b1-b408-4ac2-b0a5-195ff4148439",
   "metadata": {},
   "outputs": [
    {
     "data": {
      "text/plain": [
       "\n",
       "VAR Estimation Results:\n",
       "========================= \n",
       "Endogenous variables: lc, usdgbp \n",
       "Deterministic variables: const \n",
       "Sample size: 1038 \n",
       "Log Likelihood: 6722.881 \n",
       "Roots of the characteristic polynomial:\n",
       "0.01114 0.003661\n",
       "Call:\n",
       "VAR(y = bekk4data, p = 1, type = \"const\")\n",
       "\n",
       "\n",
       "Estimation results for equation lc: \n",
       "=================================== \n",
       "lc = lc.l1 + usdgbp.l1 + const \n",
       "\n",
       "            Estimate Std. Error t value Pr(>|t|)\n",
       "lc.l1     -0.0107516  0.0312103  -0.344    0.731\n",
       "usdgbp.l1  0.0838294  0.0702998   1.192    0.233\n",
       "const     -0.0001417  0.0004437  -0.319    0.749\n",
       "\n",
       "\n",
       "Residual standard error: 0.01429 on 1035 degrees of freedom\n",
       "Multiple R-Squared: 0.001426,\tAdjusted R-squared: -0.0005041 \n",
       "F-statistic: 0.7388 on 2 and 1035 DF,  p-value: 0.478 \n",
       "\n",
       "\n",
       "Estimation results for equation usdgbp: \n",
       "======================================= \n",
       "usdgbp = lc.l1 + usdgbp.l1 + const \n",
       "\n",
       "            Estimate Std. Error t value Pr(>|t|)\n",
       "lc.l1     -0.0018515  0.0138668  -0.134    0.894\n",
       "usdgbp.l1  0.0182278  0.0312344   0.584    0.560\n",
       "const      0.0001171  0.0001971   0.594    0.553\n",
       "\n",
       "\n",
       "Residual standard error: 0.00635 on 1035 degrees of freedom\n",
       "Multiple R-Squared: 0.0003351,\tAdjusted R-squared: -0.001597 \n",
       "F-statistic: 0.1735 on 2 and 1035 DF,  p-value: 0.8407 \n",
       "\n",
       "\n",
       "\n",
       "Covariance matrix of residuals:\n",
       "              lc    usdgbp\n",
       "lc     2.042e-04 8.405e-06\n",
       "usdgbp 8.405e-06 4.032e-05\n",
       "\n",
       "Correlation matrix of residuals:\n",
       "            lc  usdgbp\n",
       "lc     1.00000 0.09262\n",
       "usdgbp 0.09262 1.00000\n",
       "\n"
      ]
     },
     "metadata": {},
     "output_type": "display_data"
    }
   ],
   "source": [
    "summary(var_bekk4)"
   ]
  },
  {
   "cell_type": "code",
   "execution_count": 57,
   "id": "504a1c7b-4517-416d-a137-75222aaa8ab3",
   "metadata": {},
   "outputs": [
    {
     "name": "stdout",
     "output_type": "stream",
     "text": [
      " Date[1:1038], format: \"2015-12-02\" \"2015-12-03\" \"2015-12-04\" \"2015-12-07\" \"2015-12-08\" ...\n"
     ]
    }
   ],
   "source": [
    "ind_var4 <- index(bekk4data)[-1]\n",
    "str(ind_var4)"
   ]
  },
  {
   "cell_type": "code",
   "execution_count": 58,
   "id": "c161a605-ae81-463a-b348-fd4338887ce6",
   "metadata": {},
   "outputs": [],
   "source": [
    "res_bekk4 <- xts(res_bekk4,order.by = ind_var4)\n",
    "bekk_spec <- bekk_spec(model = list(type = \"bekk\",asymmetric = F))\n",
    "bekk4_fit <- bekk_fit(spec = bekk_spec,data = res_bekk4)"
   ]
  },
  {
   "cell_type": "code",
   "execution_count": 59,
   "id": "480f8c26-7e0b-4d70-baf0-9391f8ab93c0",
   "metadata": {},
   "outputs": [
    {
     "data": {
      "text/html": [
       "<table class=\"dataframe\">\n",
       "<caption>A matrix: 2 × 2 of type dbl</caption>\n",
       "<tbody>\n",
       "\t<tr><td>0.17012317</td><td>0.0001041963</td></tr>\n",
       "\t<tr><td>0.02507592</td><td>0.3669277581</td></tr>\n",
       "</tbody>\n",
       "</table>\n"
      ],
      "text/latex": [
       "A matrix: 2 × 2 of type dbl\n",
       "\\begin{tabular}{ll}\n",
       "\t 0.17012317 & 0.0001041963\\\\\n",
       "\t 0.02507592 & 0.3669277581\\\\\n",
       "\\end{tabular}\n"
      ],
      "text/markdown": [
       "\n",
       "A matrix: 2 × 2 of type dbl\n",
       "\n",
       "| 0.17012317 | 0.0001041963 |\n",
       "| 0.02507592 | 0.3669277581 |\n",
       "\n"
      ],
      "text/plain": [
       "     [,1]       [,2]        \n",
       "[1,] 0.17012317 0.0001041963\n",
       "[2,] 0.02507592 0.3669277581"
      ]
     },
     "metadata": {},
     "output_type": "display_data"
    },
    {
     "data": {
      "text/html": [
       "<table class=\"dataframe\">\n",
       "<caption>A matrix: 2 × 2 of type dbl</caption>\n",
       "<tbody>\n",
       "\t<tr><td>5.5851502</td><td> 0.006110939</td></tr>\n",
       "\t<tr><td>0.3068789</td><td>12.854606608</td></tr>\n",
       "</tbody>\n",
       "</table>\n"
      ],
      "text/latex": [
       "A matrix: 2 × 2 of type dbl\n",
       "\\begin{tabular}{ll}\n",
       "\t 5.5851502 &  0.006110939\\\\\n",
       "\t 0.3068789 & 12.854606608\\\\\n",
       "\\end{tabular}\n"
      ],
      "text/markdown": [
       "\n",
       "A matrix: 2 × 2 of type dbl\n",
       "\n",
       "| 5.5851502 |  0.006110939 |\n",
       "| 0.3068789 | 12.854606608 |\n",
       "\n"
      ],
      "text/plain": [
       "     [,1]      [,2]        \n",
       "[1,] 5.5851502  0.006110939\n",
       "[2,] 0.3068789 12.854606608"
      ]
     },
     "metadata": {},
     "output_type": "display_data"
    },
    {
     "data": {
      "text/html": [
       "<table class=\"dataframe\">\n",
       "<caption>A matrix: 2 × 2 of type dbl</caption>\n",
       "<tbody>\n",
       "\t<tr><td>0.974258170</td><td>0.002516031</td></tr>\n",
       "\t<tr><td>0.007762627</td><td>0.875523812</td></tr>\n",
       "</tbody>\n",
       "</table>\n"
      ],
      "text/latex": [
       "A matrix: 2 × 2 of type dbl\n",
       "\\begin{tabular}{ll}\n",
       "\t 0.974258170 & 0.002516031\\\\\n",
       "\t 0.007762627 & 0.875523812\\\\\n",
       "\\end{tabular}\n"
      ],
      "text/markdown": [
       "\n",
       "A matrix: 2 × 2 of type dbl\n",
       "\n",
       "| 0.974258170 | 0.002516031 |\n",
       "| 0.007762627 | 0.875523812 |\n",
       "\n"
      ],
      "text/plain": [
       "     [,1]        [,2]       \n",
       "[1,] 0.974258170 0.002516031\n",
       "[2,] 0.007762627 0.875523812"
      ]
     },
     "metadata": {},
     "output_type": "display_data"
    },
    {
     "data": {
      "text/html": [
       "<table class=\"dataframe\">\n",
       "<caption>A matrix: 2 × 2 of type dbl</caption>\n",
       "<tbody>\n",
       "\t<tr><td>89.9161661</td><td> 0.2967775</td></tr>\n",
       "\t<tr><td> 0.2127717</td><td>34.0888395</td></tr>\n",
       "</tbody>\n",
       "</table>\n"
      ],
      "text/latex": [
       "A matrix: 2 × 2 of type dbl\n",
       "\\begin{tabular}{ll}\n",
       "\t 89.9161661 &  0.2967775\\\\\n",
       "\t  0.2127717 & 34.0888395\\\\\n",
       "\\end{tabular}\n"
      ],
      "text/markdown": [
       "\n",
       "A matrix: 2 × 2 of type dbl\n",
       "\n",
       "| 89.9161661 |  0.2967775 |\n",
       "|  0.2127717 | 34.0888395 |\n",
       "\n"
      ],
      "text/plain": [
       "     [,1]       [,2]      \n",
       "[1,] 89.9161661  0.2967775\n",
       "[2,]  0.2127717 34.0888395"
      ]
     },
     "metadata": {},
     "output_type": "display_data"
    }
   ],
   "source": [
    "bekk4_fit$A\n",
    "bekk4_fit$A_t\n",
    "bekk4_fit$G\n",
    "bekk4_fit$G_t"
   ]
  },
  {
   "cell_type": "markdown",
   "id": "56a7aaca-bf2e-454b-b382-dfaecad0d682",
   "metadata": {},
   "source": [
    "### VAR-BEKK Model Table for London Cocoa - USDGBP"
   ]
  },
  {
   "cell_type": "code",
   "execution_count": 60,
   "id": "c6673412-98ca-4af4-ba59-07ada7254b82",
   "metadata": {},
   "outputs": [
    {
     "data": {
      "text/html": [
       "<table class=\"dataframe\">\n",
       "<caption>A data.frame: 14 × 5</caption>\n",
       "<thead>\n",
       "\t<tr><th scope=col>Parameters</th><th scope=col>Coefficient</th><th scope=col>Std_error</th><th scope=col>T_value</th><th scope=col>Significant_at_5p_level</th></tr>\n",
       "\t<tr><th scope=col>&lt;chr&gt;</th><th scope=col>&lt;dbl&gt;</th><th scope=col>&lt;dbl&gt;</th><th scope=col>&lt;dbl&gt;</th><th scope=col>&lt;chr&gt;</th></tr>\n",
       "</thead>\n",
       "<tbody>\n",
       "\t<tr><td>mu10 </td><td>-0.0001417143</td><td>0.0004436950</td><td>-0.319395732</td><td>Not Statistically Significant</td></tr>\n",
       "\t<tr><td>mu20 </td><td> 0.0001170693</td><td>0.0001971347</td><td> 0.593854350</td><td>Not Statistically Significant</td></tr>\n",
       "\t<tr><td>phi11</td><td>-0.0107516470</td><td>0.0312103423</td><td>-0.344489876</td><td>Not Statistically Significant</td></tr>\n",
       "\t<tr><td>phi12</td><td> 0.0838293585</td><td>0.0702998295</td><td> 1.192454648</td><td>Not Statistically Significant</td></tr>\n",
       "\t<tr><td>phi21</td><td>-0.0018514870</td><td>0.0138668241</td><td>-0.133519180</td><td>Not Statistically Significant</td></tr>\n",
       "\t<tr><td>phi22</td><td> 0.0182277749</td><td>0.0312343697</td><td> 0.583580686</td><td>Not Statistically Significant</td></tr>\n",
       "\t<tr><td>a11  </td><td> 0.1701231705</td><td>0.0304599095</td><td> 5.585150229</td><td>Stat significant at 1%       </td></tr>\n",
       "\t<tr><td>a12  </td><td> 0.0001041963</td><td>0.0170507901</td><td> 0.006110939</td><td>Not Statistically Significant</td></tr>\n",
       "\t<tr><td>a21  </td><td> 0.0250759178</td><td>0.0817127575</td><td> 0.306878858</td><td>Not Statistically Significant</td></tr>\n",
       "\t<tr><td>a22  </td><td> 0.3669277581</td><td>0.0285444564</td><td>12.854606608</td><td>Stat significant at 1%       </td></tr>\n",
       "\t<tr><td>g11  </td><td> 0.9742581696</td><td>0.0108351836</td><td>89.916166143</td><td>Stat significant at 1%       </td></tr>\n",
       "\t<tr><td>g12  </td><td> 0.0025160306</td><td>0.0084778362</td><td> 0.296777451</td><td>Not Statistically Significant</td></tr>\n",
       "\t<tr><td>g21  </td><td> 0.0077626267</td><td>0.0364833599</td><td> 0.212771705</td><td>Not Statistically Significant</td></tr>\n",
       "\t<tr><td>g22  </td><td> 0.8755238121</td><td>0.0256835910</td><td>34.088839520</td><td>Stat significant at 1%       </td></tr>\n",
       "</tbody>\n",
       "</table>\n"
      ],
      "text/latex": [
       "A data.frame: 14 × 5\n",
       "\\begin{tabular}{lllll}\n",
       " Parameters & Coefficient & Std\\_error & T\\_value & Significant\\_at\\_5p\\_level\\\\\n",
       " <chr> & <dbl> & <dbl> & <dbl> & <chr>\\\\\n",
       "\\hline\n",
       "\t mu10  & -0.0001417143 & 0.0004436950 & -0.319395732 & Not Statistically Significant\\\\\n",
       "\t mu20  &  0.0001170693 & 0.0001971347 &  0.593854350 & Not Statistically Significant\\\\\n",
       "\t phi11 & -0.0107516470 & 0.0312103423 & -0.344489876 & Not Statistically Significant\\\\\n",
       "\t phi12 &  0.0838293585 & 0.0702998295 &  1.192454648 & Not Statistically Significant\\\\\n",
       "\t phi21 & -0.0018514870 & 0.0138668241 & -0.133519180 & Not Statistically Significant\\\\\n",
       "\t phi22 &  0.0182277749 & 0.0312343697 &  0.583580686 & Not Statistically Significant\\\\\n",
       "\t a11   &  0.1701231705 & 0.0304599095 &  5.585150229 & Stat significant at 1\\%       \\\\\n",
       "\t a12   &  0.0001041963 & 0.0170507901 &  0.006110939 & Not Statistically Significant\\\\\n",
       "\t a21   &  0.0250759178 & 0.0817127575 &  0.306878858 & Not Statistically Significant\\\\\n",
       "\t a22   &  0.3669277581 & 0.0285444564 & 12.854606608 & Stat significant at 1\\%       \\\\\n",
       "\t g11   &  0.9742581696 & 0.0108351836 & 89.916166143 & Stat significant at 1\\%       \\\\\n",
       "\t g12   &  0.0025160306 & 0.0084778362 &  0.296777451 & Not Statistically Significant\\\\\n",
       "\t g21   &  0.0077626267 & 0.0364833599 &  0.212771705 & Not Statistically Significant\\\\\n",
       "\t g22   &  0.8755238121 & 0.0256835910 & 34.088839520 & Stat significant at 1\\%       \\\\\n",
       "\\end{tabular}\n"
      ],
      "text/markdown": [
       "\n",
       "A data.frame: 14 × 5\n",
       "\n",
       "| Parameters &lt;chr&gt; | Coefficient &lt;dbl&gt; | Std_error &lt;dbl&gt; | T_value &lt;dbl&gt; | Significant_at_5p_level &lt;chr&gt; |\n",
       "|---|---|---|---|---|\n",
       "| mu10  | -0.0001417143 | 0.0004436950 | -0.319395732 | Not Statistically Significant |\n",
       "| mu20  |  0.0001170693 | 0.0001971347 |  0.593854350 | Not Statistically Significant |\n",
       "| phi11 | -0.0107516470 | 0.0312103423 | -0.344489876 | Not Statistically Significant |\n",
       "| phi12 |  0.0838293585 | 0.0702998295 |  1.192454648 | Not Statistically Significant |\n",
       "| phi21 | -0.0018514870 | 0.0138668241 | -0.133519180 | Not Statistically Significant |\n",
       "| phi22 |  0.0182277749 | 0.0312343697 |  0.583580686 | Not Statistically Significant |\n",
       "| a11   |  0.1701231705 | 0.0304599095 |  5.585150229 | Stat significant at 1%        |\n",
       "| a12   |  0.0001041963 | 0.0170507901 |  0.006110939 | Not Statistically Significant |\n",
       "| a21   |  0.0250759178 | 0.0817127575 |  0.306878858 | Not Statistically Significant |\n",
       "| a22   |  0.3669277581 | 0.0285444564 | 12.854606608 | Stat significant at 1%        |\n",
       "| g11   |  0.9742581696 | 0.0108351836 | 89.916166143 | Stat significant at 1%        |\n",
       "| g12   |  0.0025160306 | 0.0084778362 |  0.296777451 | Not Statistically Significant |\n",
       "| g21   |  0.0077626267 | 0.0364833599 |  0.212771705 | Not Statistically Significant |\n",
       "| g22   |  0.8755238121 | 0.0256835910 | 34.088839520 | Stat significant at 1%        |\n",
       "\n"
      ],
      "text/plain": [
       "   Parameters Coefficient   Std_error    T_value     \n",
       "1  mu10       -0.0001417143 0.0004436950 -0.319395732\n",
       "2  mu20        0.0001170693 0.0001971347  0.593854350\n",
       "3  phi11      -0.0107516470 0.0312103423 -0.344489876\n",
       "4  phi12       0.0838293585 0.0702998295  1.192454648\n",
       "5  phi21      -0.0018514870 0.0138668241 -0.133519180\n",
       "6  phi22       0.0182277749 0.0312343697  0.583580686\n",
       "7  a11         0.1701231705 0.0304599095  5.585150229\n",
       "8  a12         0.0001041963 0.0170507901  0.006110939\n",
       "9  a21         0.0250759178 0.0817127575  0.306878858\n",
       "10 a22         0.3669277581 0.0285444564 12.854606608\n",
       "11 g11         0.9742581696 0.0108351836 89.916166143\n",
       "12 g12         0.0025160306 0.0084778362  0.296777451\n",
       "13 g21         0.0077626267 0.0364833599  0.212771705\n",
       "14 g22         0.8755238121 0.0256835910 34.088839520\n",
       "   Significant_at_5p_level      \n",
       "1  Not Statistically Significant\n",
       "2  Not Statistically Significant\n",
       "3  Not Statistically Significant\n",
       "4  Not Statistically Significant\n",
       "5  Not Statistically Significant\n",
       "6  Not Statistically Significant\n",
       "7  Stat significant at 1%       \n",
       "8  Not Statistically Significant\n",
       "9  Not Statistically Significant\n",
       "10 Stat significant at 1%       \n",
       "11 Stat significant at 1%       \n",
       "12 Not Statistically Significant\n",
       "13 Not Statistically Significant\n",
       "14 Stat significant at 1%       "
      ]
     },
     "metadata": {},
     "output_type": "display_data"
    }
   ],
   "source": [
    "bekk4 <- data.frame(Parameters = c(\"mu10\",\"mu20\",\"phi11\",\"phi12\",\"phi21\",\"phi22\",\"a11\",\"a12\",\"a21\",\"a22\",\"g11\",\"g12\",\"g21\",\"g22\"),\n",
    "                   Coefficient = c(summary(var_bekk4)$varresult$lc$coefficients[\"const\",\"Estimate\"],summary(var_bekk4)$varresult$usdgbp$coefficients[\"const\",\"Estimate\"],\n",
    "                                   summary(var_bekk4)$varresult$lc$coefficients[\"lc.l1\",\"Estimate\"],summary(var_bekk4)$varresult$lc$coefficients[\"usdgbp.l1\",\"Estimate\"],\n",
    "                                   summary(var_bekk4)$varresult$usdgbp$coefficients[\"lc.l1\",\"Estimate\"],summary(var_bekk4)$varresult$usdgbp$coefficients[\"usdgbp.l1\",\"Estimate\"],\n",
    "                                   bekk4_fit$A[1,1],bekk4_fit$A[1,2],bekk4_fit$A[2,1],bekk4_fit$A[2,2],bekk4_fit$G[1,1],bekk4_fit$G[1,2],bekk4_fit$G[2,1],bekk4_fit$G[2,2]),\n",
    "                   Std_error = c(summary(var_bekk4)$varresult$lc$coefficients[\"const\",\"Std. Error\"],summary(var_bekk4)$varresult$usdgbp$coefficients[\"const\",\"Std. Error\"],\n",
    "                                   summary(var_bekk4)$varresult$lc$coefficients[\"lc.l1\",\"Std. Error\"],summary(var_bekk4)$varresult$lc$coefficients[\"usdgbp.l1\",\"Std. Error\"],\n",
    "                                   summary(var_bekk4)$varresult$usdgbp$coefficients[\"lc.l1\",\"Std. Error\"],summary(var_bekk4)$varresult$usdgbp$coefficients[\"usdgbp.l1\",\"Std. Error\"],\n",
    "                                   bekk4_fit$A_sd[1,1],bekk4_fit$A_sd[1,2],bekk4_fit$A_sd[2,1],bekk4_fit$A_sd[2,2],bekk4_fit$G_sd[1,1],bekk4_fit$G_sd[1,2],bekk4_fit$G_sd[2,1],bekk4_fit$G_sd[2,2]),\n",
    "                   T_value = c(summary(var_bekk4)$varresult$lc$coefficients[\"const\",\"t value\"],summary(var_bekk4)$varresult$usdgbp$coefficients[\"const\",\"t value\"],\n",
    "                                   summary(var_bekk4)$varresult$lc$coefficients[\"lc.l1\",\"t value\"],summary(var_bekk4)$varresult$lc$coefficients[\"usdgbp.l1\",\"t value\"],\n",
    "                                   summary(var_bekk4)$varresult$usdgbp$coefficients[\"lc.l1\",\"t value\"],summary(var_bekk4)$varresult$usdgbp$coefficients[\"usdgbp.l1\",\"t value\"],\n",
    "                                   bekk4_fit$A_t[1,1],bekk4_fit$A_t[1,2],bekk4_fit$A_t[2,1],bekk4_fit$A_t[2,2],bekk4_fit$G_t[1,1],bekk4_fit$G_t[1,2],bekk4_fit$G_t[2,1],bekk4_fit$G_t[2,2]))\n",
    "\n",
    "bekk4$Significant_at_5p_level[abs(bekk4$T_value) >= 2.58 ] <- \"Stat significant at 1%\"\n",
    "bekk4$Significant_at_5p_level[abs(bekk4$T_value) > 1.96 & abs(bekk4$T_value) < 2.58] <- \"Stat significant at 5%\"\n",
    "bekk4$Significant_at_5p_level[abs(bekk4$T_value) > 1.645 & abs(bekk4$T_value) <= 1.96 ] <- \"Stat significant at 10%\"\n",
    "bekk4$Significant_at_5p_level[abs(bekk4$T_value) <= 1.645] <- \"Not Statistically Significant\"\n",
    "bekk4"
   ]
  },
  {
   "cell_type": "code",
   "execution_count": 61,
   "id": "ef4b366e-6ae0-4763-9332-7e5b9277cf68",
   "metadata": {},
   "outputs": [
    {
     "data": {
      "text/plain": [
       "\n",
       "\tGranger causality H0: lc do not Granger-cause usdgbp\n",
       "\n",
       "data:  VAR object var_bekk4\n",
       "F-Test = 0.017827, df1 = 1, df2 = 2070, p-value = 0.8938\n"
      ]
     },
     "metadata": {},
     "output_type": "display_data"
    },
    {
     "data": {
      "text/plain": [
       "\n",
       "\tGranger causality H0: usdgbp do not Granger-cause lc\n",
       "\n",
       "data:  VAR object var_bekk4\n",
       "F-Test = 1.4219, df1 = 1, df2 = 2070, p-value = 0.2332\n"
      ]
     },
     "metadata": {},
     "output_type": "display_data"
    }
   ],
   "source": [
    "causality(var_bekk4,cause = \"lc\")$Granger\n",
    "causality(var_bekk4,cause = \"usdgbp\")$Granger"
   ]
  },
  {
   "cell_type": "markdown",
   "id": "2cebefa4-de4a-4e09-b9a7-6305392a4707",
   "metadata": {},
   "source": [
    "## (b) VAR-BEKK: London Cocoa-EURGBP"
   ]
  },
  {
   "cell_type": "code",
   "execution_count": 62,
   "id": "89377b2e-74ad-41ac-9607-6e77cd94f783",
   "metadata": {},
   "outputs": [
    {
     "data": {
      "text/plain": [
       "                     lc        eurgbp\n",
       "2015-12-01 -0.000877193  4.759377e-03\n",
       "2015-12-02  0.007431728  6.216905e-03\n",
       "2015-12-03  0.005646052  1.717679e-02\n",
       "2015-12-04  0.001730853 -2.772965e-03\n",
       "2015-12-07  0.005604671 -6.942275e-05\n",
       "2015-12-08 -0.019536111  7.538854e-03"
      ]
     },
     "metadata": {},
     "output_type": "display_data"
    }
   ],
   "source": [
    "bekk5data <- l_d[,c(1,3)]\n",
    "head(bekk5data)"
   ]
  },
  {
   "cell_type": "code",
   "execution_count": 63,
   "id": "6921bbdf-2b96-4e73-9d29-e6affa29176f",
   "metadata": {},
   "outputs": [
    {
     "data": {
      "text/html": [
       "<dl>\n",
       "\t<dt>$selection</dt>\n",
       "\t\t<dd><style>\n",
       ".dl-inline {width: auto; margin:0; padding: 0}\n",
       ".dl-inline>dt, .dl-inline>dd {float: none; width: auto; display: inline-block}\n",
       ".dl-inline>dt::after {content: \":\\0020\"; padding-right: .5ex}\n",
       ".dl-inline>dt:not(:first-of-type) {padding-left: .5ex}\n",
       "</style><dl class=dl-inline><dt>AIC(n)</dt><dd>1</dd><dt>HQ(n)</dt><dd>1</dd><dt>SC(n)</dt><dd>1</dd><dt>FPE(n)</dt><dd>1</dd></dl>\n",
       "</dd>\n",
       "\t<dt>$criteria</dt>\n",
       "\t\t<dd><table class=\"dataframe\">\n",
       "<caption>A matrix: 4 × 10 of type dbl</caption>\n",
       "<thead>\n",
       "\t<tr><th></th><th scope=col>1</th><th scope=col>2</th><th scope=col>3</th><th scope=col>4</th><th scope=col>5</th><th scope=col>6</th><th scope=col>7</th><th scope=col>8</th><th scope=col>9</th><th scope=col>10</th></tr>\n",
       "</thead>\n",
       "<tbody>\n",
       "\t<tr><th scope=row>AIC(n)</th><td>-1.893668e+01</td><td>-1.892916e+01</td><td>-1.892392e+01</td><td>-1.891716e+01</td><td>-1.891106e+01</td><td>-1.890844e+01</td><td>-1.890494e+01</td><td>-1.890064e+01</td><td>-1.889347e+01</td><td>-1.888787e+01</td></tr>\n",
       "\t<tr><th scope=row>HQ(n)</th><td>-1.892576e+01</td><td>-1.891095e+01</td><td>-1.889843e+01</td><td>-1.888438e+01</td><td>-1.887101e+01</td><td>-1.886110e+01</td><td>-1.885032e+01</td><td>-1.883873e+01</td><td>-1.882429e+01</td><td>-1.881140e+01</td></tr>\n",
       "\t<tr><th scope=row>SC(n)</th><td>-1.890790e+01</td><td>-1.888118e+01</td><td>-1.885676e+01</td><td>-1.883081e+01</td><td>-1.880553e+01</td><td>-1.878371e+01</td><td>-1.876103e+01</td><td>-1.873753e+01</td><td>-1.871118e+01</td><td>-1.868638e+01</td></tr>\n",
       "\t<tr><th scope=row>FPE(n)</th><td> 5.969009e-09</td><td> 6.014113e-09</td><td> 6.045672e-09</td><td> 6.086719e-09</td><td> 6.123922e-09</td><td> 6.140044e-09</td><td> 6.161534e-09</td><td> 6.188147e-09</td><td> 6.232641e-09</td><td> 6.267707e-09</td></tr>\n",
       "</tbody>\n",
       "</table>\n",
       "</dd>\n",
       "</dl>\n"
      ],
      "text/latex": [
       "\\begin{description}\n",
       "\\item[\\$selection] \\begin{description*}\n",
       "\\item[AIC(n)] 1\n",
       "\\item[HQ(n)] 1\n",
       "\\item[SC(n)] 1\n",
       "\\item[FPE(n)] 1\n",
       "\\end{description*}\n",
       "\n",
       "\\item[\\$criteria] A matrix: 4 × 10 of type dbl\n",
       "\\begin{tabular}{r|llllllllll}\n",
       "  & 1 & 2 & 3 & 4 & 5 & 6 & 7 & 8 & 9 & 10\\\\\n",
       "\\hline\n",
       "\tAIC(n) & -1.893668e+01 & -1.892916e+01 & -1.892392e+01 & -1.891716e+01 & -1.891106e+01 & -1.890844e+01 & -1.890494e+01 & -1.890064e+01 & -1.889347e+01 & -1.888787e+01\\\\\n",
       "\tHQ(n) & -1.892576e+01 & -1.891095e+01 & -1.889843e+01 & -1.888438e+01 & -1.887101e+01 & -1.886110e+01 & -1.885032e+01 & -1.883873e+01 & -1.882429e+01 & -1.881140e+01\\\\\n",
       "\tSC(n) & -1.890790e+01 & -1.888118e+01 & -1.885676e+01 & -1.883081e+01 & -1.880553e+01 & -1.878371e+01 & -1.876103e+01 & -1.873753e+01 & -1.871118e+01 & -1.868638e+01\\\\\n",
       "\tFPE(n) &  5.969009e-09 &  6.014113e-09 &  6.045672e-09 &  6.086719e-09 &  6.123922e-09 &  6.140044e-09 &  6.161534e-09 &  6.188147e-09 &  6.232641e-09 &  6.267707e-09\\\\\n",
       "\\end{tabular}\n",
       "\n",
       "\\end{description}\n"
      ],
      "text/markdown": [
       "$selection\n",
       ":   AIC(n)\n",
       ":   1HQ(n)\n",
       ":   1SC(n)\n",
       ":   1FPE(n)\n",
       ":   1\n",
       "\n",
       "\n",
       "$criteria\n",
       ":   \n",
       "A matrix: 4 × 10 of type dbl\n",
       "\n",
       "| <!--/--> | 1 | 2 | 3 | 4 | 5 | 6 | 7 | 8 | 9 | 10 |\n",
       "|---|---|---|---|---|---|---|---|---|---|---|\n",
       "| AIC(n) | -1.893668e+01 | -1.892916e+01 | -1.892392e+01 | -1.891716e+01 | -1.891106e+01 | -1.890844e+01 | -1.890494e+01 | -1.890064e+01 | -1.889347e+01 | -1.888787e+01 |\n",
       "| HQ(n) | -1.892576e+01 | -1.891095e+01 | -1.889843e+01 | -1.888438e+01 | -1.887101e+01 | -1.886110e+01 | -1.885032e+01 | -1.883873e+01 | -1.882429e+01 | -1.881140e+01 |\n",
       "| SC(n) | -1.890790e+01 | -1.888118e+01 | -1.885676e+01 | -1.883081e+01 | -1.880553e+01 | -1.878371e+01 | -1.876103e+01 | -1.873753e+01 | -1.871118e+01 | -1.868638e+01 |\n",
       "| FPE(n) |  5.969009e-09 |  6.014113e-09 |  6.045672e-09 |  6.086719e-09 |  6.123922e-09 |  6.140044e-09 |  6.161534e-09 |  6.188147e-09 |  6.232641e-09 |  6.267707e-09 |\n",
       "\n",
       "\n",
       "\n",
       "\n"
      ],
      "text/plain": [
       "$selection\n",
       "AIC(n)  HQ(n)  SC(n) FPE(n) \n",
       "     1      1      1      1 \n",
       "\n",
       "$criteria\n",
       "                   1             2             3             4             5\n",
       "AIC(n) -1.893668e+01 -1.892916e+01 -1.892392e+01 -1.891716e+01 -1.891106e+01\n",
       "HQ(n)  -1.892576e+01 -1.891095e+01 -1.889843e+01 -1.888438e+01 -1.887101e+01\n",
       "SC(n)  -1.890790e+01 -1.888118e+01 -1.885676e+01 -1.883081e+01 -1.880553e+01\n",
       "FPE(n)  5.969009e-09  6.014113e-09  6.045672e-09  6.086719e-09  6.123922e-09\n",
       "                   6             7             8             9            10\n",
       "AIC(n) -1.890844e+01 -1.890494e+01 -1.890064e+01 -1.889347e+01 -1.888787e+01\n",
       "HQ(n)  -1.886110e+01 -1.885032e+01 -1.883873e+01 -1.882429e+01 -1.881140e+01\n",
       "SC(n)  -1.878371e+01 -1.876103e+01 -1.873753e+01 -1.871118e+01 -1.868638e+01\n",
       "FPE(n)  6.140044e-09  6.161534e-09  6.188147e-09  6.232641e-09  6.267707e-09\n"
      ]
     },
     "metadata": {},
     "output_type": "display_data"
    }
   ],
   "source": [
    "VARselect(bekk5data,type = \"const\")"
   ]
  },
  {
   "cell_type": "code",
   "execution_count": 64,
   "id": "d4d6d006-ad09-4500-a9af-5c339bc10ea6",
   "metadata": {},
   "outputs": [],
   "source": [
    "var_bekk5<-VAR(bekk5data,p = 1,type = \"const\")\n",
    "res_bekk5 <- residuals(var_bekk5)\n",
    "res_bekk5 <- as.data.frame(res_bekk5)"
   ]
  },
  {
   "cell_type": "code",
   "execution_count": 65,
   "id": "884e863d-890c-4d37-b74f-42b6de37dd83",
   "metadata": {},
   "outputs": [
    {
     "data": {
      "text/plain": [
       "\n",
       "VAR Estimation Results:\n",
       "========================= \n",
       "Endogenous variables: lc, eurgbp \n",
       "Deterministic variables: const \n",
       "Sample size: 1038 \n",
       "Log Likelihood: 6888.327 \n",
       "Roots of the characteristic polynomial:\n",
       "0.05144 0.03136\n",
       "Call:\n",
       "VAR(y = bekk5data, p = 1, type = \"const\")\n",
       "\n",
       "\n",
       "Estimation results for equation lc: \n",
       "=================================== \n",
       "lc = lc.l1 + eurgbp.l1 + const \n",
       "\n",
       "            Estimate Std. Error t value Pr(>|t|)\n",
       "lc.l1     -0.0116334  0.0312781  -0.372    0.710\n",
       "eurgbp.l1  0.1001052  0.0822888   1.217    0.224\n",
       "const     -0.0001491  0.0004438  -0.336    0.737\n",
       "\n",
       "\n",
       "Residual standard error: 0.01429 on 1035 degrees of freedom\n",
       "Multiple R-Squared: 0.001481,\tAdjusted R-squared: -0.0004482 \n",
       "F-statistic: 0.7677 on 2 and 1035 DF,  p-value: 0.4643 \n",
       "\n",
       "\n",
       "Estimation results for equation eurgbp: \n",
       "======================================= \n",
       "eurgbp = lc.l1 + eurgbp.l1 + const \n",
       "\n",
       "           Estimate Std. Error t value Pr(>|t|)\n",
       "lc.l1     0.0124271  0.0118753   1.046    0.296\n",
       "eurgbp.l1 0.0317106  0.0312424   1.015    0.310\n",
       "const     0.0001661  0.0001685   0.986    0.324\n",
       "\n",
       "\n",
       "Residual standard error: 0.005426 on 1035 degrees of freedom\n",
       "Multiple R-Squared: 0.00231,\tAdjusted R-squared: 0.0003822 \n",
       "F-statistic: 1.198 on 2 and 1035 DF,  p-value: 0.3021 \n",
       "\n",
       "\n",
       "\n",
       "Covariance matrix of residuals:\n",
       "              lc    eurgbp\n",
       "lc     2.042e-04 8.769e-06\n",
       "eurgbp 8.769e-06 2.944e-05\n",
       "\n",
       "Correlation matrix of residuals:\n",
       "           lc eurgbp\n",
       "lc     1.0000 0.1131\n",
       "eurgbp 0.1131 1.0000\n",
       "\n"
      ]
     },
     "metadata": {},
     "output_type": "display_data"
    }
   ],
   "source": [
    "summary(var_bekk5)"
   ]
  },
  {
   "cell_type": "code",
   "execution_count": 66,
   "id": "57b47b76-0a05-4fa3-8e20-56cef48bba25",
   "metadata": {},
   "outputs": [
    {
     "name": "stdout",
     "output_type": "stream",
     "text": [
      " Date[1:1038], format: \"2015-12-02\" \"2015-12-03\" \"2015-12-04\" \"2015-12-07\" \"2015-12-08\" ...\n"
     ]
    }
   ],
   "source": [
    "ind_var5 <- index(bekk5data)[-1]\n",
    "str(ind_var5)"
   ]
  },
  {
   "cell_type": "code",
   "execution_count": 67,
   "id": "6f44a6be-0d95-4bcb-a879-44c416c75b58",
   "metadata": {},
   "outputs": [],
   "source": [
    "res_bekk5 <- xts(res_bekk5,order.by = ind_var5)\n",
    "bekk_spec <- bekk_spec(model = list(type = \"bekk\",asymmetric = F))\n",
    "bekk5_fit <- bekk_fit(spec = bekk_spec,data = res_bekk5)"
   ]
  },
  {
   "cell_type": "code",
   "execution_count": 68,
   "id": "9b13f2a2-eba2-4dca-9968-cdfa9d3c7167",
   "metadata": {},
   "outputs": [
    {
     "data": {
      "text/html": [
       "<table class=\"dataframe\">\n",
       "<caption>A matrix: 2 × 2 of type dbl</caption>\n",
       "<tbody>\n",
       "\t<tr><td>0.1718022</td><td>0.005009541</td></tr>\n",
       "\t<tr><td>0.0403958</td><td>0.288542333</td></tr>\n",
       "</tbody>\n",
       "</table>\n"
      ],
      "text/latex": [
       "A matrix: 2 × 2 of type dbl\n",
       "\\begin{tabular}{ll}\n",
       "\t 0.1718022 & 0.005009541\\\\\n",
       "\t 0.0403958 & 0.288542333\\\\\n",
       "\\end{tabular}\n"
      ],
      "text/markdown": [
       "\n",
       "A matrix: 2 × 2 of type dbl\n",
       "\n",
       "| 0.1718022 | 0.005009541 |\n",
       "| 0.0403958 | 0.288542333 |\n",
       "\n"
      ],
      "text/plain": [
       "     [,1]      [,2]       \n",
       "[1,] 0.1718022 0.005009541\n",
       "[2,] 0.0403958 0.288542333"
      ]
     },
     "metadata": {},
     "output_type": "display_data"
    },
    {
     "data": {
      "text/html": [
       "<table class=\"dataframe\">\n",
       "<caption>A matrix: 2 × 2 of type dbl</caption>\n",
       "<tbody>\n",
       "\t<tr><td>5.312287</td><td> 0.3455693</td></tr>\n",
       "\t<tr><td>0.446414</td><td>10.5612721</td></tr>\n",
       "</tbody>\n",
       "</table>\n"
      ],
      "text/latex": [
       "A matrix: 2 × 2 of type dbl\n",
       "\\begin{tabular}{ll}\n",
       "\t 5.312287 &  0.3455693\\\\\n",
       "\t 0.446414 & 10.5612721\\\\\n",
       "\\end{tabular}\n"
      ],
      "text/markdown": [
       "\n",
       "A matrix: 2 × 2 of type dbl\n",
       "\n",
       "| 5.312287 |  0.3455693 |\n",
       "| 0.446414 | 10.5612721 |\n",
       "\n"
      ],
      "text/plain": [
       "     [,1]     [,2]      \n",
       "[1,] 5.312287  0.3455693\n",
       "[2,] 0.446414 10.5612721"
      ]
     },
     "metadata": {},
     "output_type": "display_data"
    },
    {
     "data": {
      "text/html": [
       "<table class=\"dataframe\">\n",
       "<caption>A matrix: 2 × 2 of type dbl</caption>\n",
       "<tbody>\n",
       "\t<tr><td>0.97190120</td><td>0.001462234</td></tr>\n",
       "\t<tr><td>0.00514429</td><td>0.937896418</td></tr>\n",
       "</tbody>\n",
       "</table>\n"
      ],
      "text/latex": [
       "A matrix: 2 × 2 of type dbl\n",
       "\\begin{tabular}{ll}\n",
       "\t 0.97190120 & 0.001462234\\\\\n",
       "\t 0.00514429 & 0.937896418\\\\\n",
       "\\end{tabular}\n"
      ],
      "text/markdown": [
       "\n",
       "A matrix: 2 × 2 of type dbl\n",
       "\n",
       "| 0.97190120 | 0.001462234 |\n",
       "| 0.00514429 | 0.937896418 |\n",
       "\n"
      ],
      "text/plain": [
       "     [,1]       [,2]       \n",
       "[1,] 0.97190120 0.001462234\n",
       "[2,] 0.00514429 0.937896418"
      ]
     },
     "metadata": {},
     "output_type": "display_data"
    },
    {
     "data": {
      "text/html": [
       "<table class=\"dataframe\">\n",
       "<caption>A matrix: 2 × 2 of type dbl</caption>\n",
       "<tbody>\n",
       "\t<tr><td>76.7648522</td><td> 0.2164404</td></tr>\n",
       "\t<tr><td> 0.1542304</td><td>70.7669322</td></tr>\n",
       "</tbody>\n",
       "</table>\n"
      ],
      "text/latex": [
       "A matrix: 2 × 2 of type dbl\n",
       "\\begin{tabular}{ll}\n",
       "\t 76.7648522 &  0.2164404\\\\\n",
       "\t  0.1542304 & 70.7669322\\\\\n",
       "\\end{tabular}\n"
      ],
      "text/markdown": [
       "\n",
       "A matrix: 2 × 2 of type dbl\n",
       "\n",
       "| 76.7648522 |  0.2164404 |\n",
       "|  0.1542304 | 70.7669322 |\n",
       "\n"
      ],
      "text/plain": [
       "     [,1]       [,2]      \n",
       "[1,] 76.7648522  0.2164404\n",
       "[2,]  0.1542304 70.7669322"
      ]
     },
     "metadata": {},
     "output_type": "display_data"
    }
   ],
   "source": [
    "bekk5_fit$A\n",
    "bekk5_fit$A_t\n",
    "bekk5_fit$G\n",
    "bekk5_fit$G_t"
   ]
  },
  {
   "cell_type": "markdown",
   "id": "d13c34d7-0f6e-4d70-8c5b-15e2ce35f717",
   "metadata": {},
   "source": [
    "### VAR-BEKK Model Table for London-EURGBP"
   ]
  },
  {
   "cell_type": "code",
   "execution_count": 69,
   "id": "694d360e-a949-4d5d-8166-e13f0116ebc2",
   "metadata": {},
   "outputs": [
    {
     "data": {
      "text/html": [
       "<table class=\"dataframe\">\n",
       "<caption>A data.frame: 14 × 5</caption>\n",
       "<thead>\n",
       "\t<tr><th scope=col>Parameters</th><th scope=col>Coefficient</th><th scope=col>Std_error</th><th scope=col>T_value</th><th scope=col>Significant_at_5p_level</th></tr>\n",
       "\t<tr><th scope=col>&lt;chr&gt;</th><th scope=col>&lt;dbl&gt;</th><th scope=col>&lt;dbl&gt;</th><th scope=col>&lt;dbl&gt;</th><th scope=col>&lt;chr&gt;</th></tr>\n",
       "</thead>\n",
       "<tbody>\n",
       "\t<tr><td>mu10 </td><td>-0.0001490710</td><td>0.0004438426</td><td>-0.3358646</td><td>Not Statistically Significant</td></tr>\n",
       "\t<tr><td>mu20 </td><td> 0.0001661489</td><td>0.0001685130</td><td> 0.9859708</td><td>Not Statistically Significant</td></tr>\n",
       "\t<tr><td>phi11</td><td>-0.0116334050</td><td>0.0312780532</td><td>-0.3719351</td><td>Not Statistically Significant</td></tr>\n",
       "\t<tr><td>phi12</td><td> 0.1001051931</td><td>0.0822887670</td><td> 1.2165110</td><td>Not Statistically Significant</td></tr>\n",
       "\t<tr><td>phi21</td><td> 0.0124271472</td><td>0.0118752882</td><td> 1.0464712</td><td>Not Statistically Significant</td></tr>\n",
       "\t<tr><td>phi22</td><td> 0.0317106202</td><td>0.0312424440</td><td> 1.0149853</td><td>Not Statistically Significant</td></tr>\n",
       "\t<tr><td>a11  </td><td> 0.1718021798</td><td>0.0323405318</td><td> 5.3122868</td><td>Stat significant at 1%       </td></tr>\n",
       "\t<tr><td>a12  </td><td> 0.0050095413</td><td>0.0144964899</td><td> 0.3455693</td><td>Not Statistically Significant</td></tr>\n",
       "\t<tr><td>a21  </td><td> 0.0403958038</td><td>0.0904895449</td><td> 0.4464140</td><td>Not Statistically Significant</td></tr>\n",
       "\t<tr><td>a22  </td><td> 0.2885423334</td><td>0.0273207934</td><td>10.5612721</td><td>Stat significant at 1%       </td></tr>\n",
       "\t<tr><td>g11  </td><td> 0.9719011984</td><td>0.0126607578</td><td>76.7648522</td><td>Stat significant at 1%       </td></tr>\n",
       "\t<tr><td>g12  </td><td> 0.0014622337</td><td>0.0067558271</td><td> 0.2164404</td><td>Not Statistically Significant</td></tr>\n",
       "\t<tr><td>g21  </td><td> 0.0051442898</td><td>0.0333545798</td><td> 0.1542304</td><td>Not Statistically Significant</td></tr>\n",
       "\t<tr><td>g22  </td><td> 0.9378964182</td><td>0.0132533146</td><td>70.7669322</td><td>Stat significant at 1%       </td></tr>\n",
       "</tbody>\n",
       "</table>\n"
      ],
      "text/latex": [
       "A data.frame: 14 × 5\n",
       "\\begin{tabular}{lllll}\n",
       " Parameters & Coefficient & Std\\_error & T\\_value & Significant\\_at\\_5p\\_level\\\\\n",
       " <chr> & <dbl> & <dbl> & <dbl> & <chr>\\\\\n",
       "\\hline\n",
       "\t mu10  & -0.0001490710 & 0.0004438426 & -0.3358646 & Not Statistically Significant\\\\\n",
       "\t mu20  &  0.0001661489 & 0.0001685130 &  0.9859708 & Not Statistically Significant\\\\\n",
       "\t phi11 & -0.0116334050 & 0.0312780532 & -0.3719351 & Not Statistically Significant\\\\\n",
       "\t phi12 &  0.1001051931 & 0.0822887670 &  1.2165110 & Not Statistically Significant\\\\\n",
       "\t phi21 &  0.0124271472 & 0.0118752882 &  1.0464712 & Not Statistically Significant\\\\\n",
       "\t phi22 &  0.0317106202 & 0.0312424440 &  1.0149853 & Not Statistically Significant\\\\\n",
       "\t a11   &  0.1718021798 & 0.0323405318 &  5.3122868 & Stat significant at 1\\%       \\\\\n",
       "\t a12   &  0.0050095413 & 0.0144964899 &  0.3455693 & Not Statistically Significant\\\\\n",
       "\t a21   &  0.0403958038 & 0.0904895449 &  0.4464140 & Not Statistically Significant\\\\\n",
       "\t a22   &  0.2885423334 & 0.0273207934 & 10.5612721 & Stat significant at 1\\%       \\\\\n",
       "\t g11   &  0.9719011984 & 0.0126607578 & 76.7648522 & Stat significant at 1\\%       \\\\\n",
       "\t g12   &  0.0014622337 & 0.0067558271 &  0.2164404 & Not Statistically Significant\\\\\n",
       "\t g21   &  0.0051442898 & 0.0333545798 &  0.1542304 & Not Statistically Significant\\\\\n",
       "\t g22   &  0.9378964182 & 0.0132533146 & 70.7669322 & Stat significant at 1\\%       \\\\\n",
       "\\end{tabular}\n"
      ],
      "text/markdown": [
       "\n",
       "A data.frame: 14 × 5\n",
       "\n",
       "| Parameters &lt;chr&gt; | Coefficient &lt;dbl&gt; | Std_error &lt;dbl&gt; | T_value &lt;dbl&gt; | Significant_at_5p_level &lt;chr&gt; |\n",
       "|---|---|---|---|---|\n",
       "| mu10  | -0.0001490710 | 0.0004438426 | -0.3358646 | Not Statistically Significant |\n",
       "| mu20  |  0.0001661489 | 0.0001685130 |  0.9859708 | Not Statistically Significant |\n",
       "| phi11 | -0.0116334050 | 0.0312780532 | -0.3719351 | Not Statistically Significant |\n",
       "| phi12 |  0.1001051931 | 0.0822887670 |  1.2165110 | Not Statistically Significant |\n",
       "| phi21 |  0.0124271472 | 0.0118752882 |  1.0464712 | Not Statistically Significant |\n",
       "| phi22 |  0.0317106202 | 0.0312424440 |  1.0149853 | Not Statistically Significant |\n",
       "| a11   |  0.1718021798 | 0.0323405318 |  5.3122868 | Stat significant at 1%        |\n",
       "| a12   |  0.0050095413 | 0.0144964899 |  0.3455693 | Not Statistically Significant |\n",
       "| a21   |  0.0403958038 | 0.0904895449 |  0.4464140 | Not Statistically Significant |\n",
       "| a22   |  0.2885423334 | 0.0273207934 | 10.5612721 | Stat significant at 1%        |\n",
       "| g11   |  0.9719011984 | 0.0126607578 | 76.7648522 | Stat significant at 1%        |\n",
       "| g12   |  0.0014622337 | 0.0067558271 |  0.2164404 | Not Statistically Significant |\n",
       "| g21   |  0.0051442898 | 0.0333545798 |  0.1542304 | Not Statistically Significant |\n",
       "| g22   |  0.9378964182 | 0.0132533146 | 70.7669322 | Stat significant at 1%        |\n",
       "\n"
      ],
      "text/plain": [
       "   Parameters Coefficient   Std_error    T_value   \n",
       "1  mu10       -0.0001490710 0.0004438426 -0.3358646\n",
       "2  mu20        0.0001661489 0.0001685130  0.9859708\n",
       "3  phi11      -0.0116334050 0.0312780532 -0.3719351\n",
       "4  phi12       0.1001051931 0.0822887670  1.2165110\n",
       "5  phi21       0.0124271472 0.0118752882  1.0464712\n",
       "6  phi22       0.0317106202 0.0312424440  1.0149853\n",
       "7  a11         0.1718021798 0.0323405318  5.3122868\n",
       "8  a12         0.0050095413 0.0144964899  0.3455693\n",
       "9  a21         0.0403958038 0.0904895449  0.4464140\n",
       "10 a22         0.2885423334 0.0273207934 10.5612721\n",
       "11 g11         0.9719011984 0.0126607578 76.7648522\n",
       "12 g12         0.0014622337 0.0067558271  0.2164404\n",
       "13 g21         0.0051442898 0.0333545798  0.1542304\n",
       "14 g22         0.9378964182 0.0132533146 70.7669322\n",
       "   Significant_at_5p_level      \n",
       "1  Not Statistically Significant\n",
       "2  Not Statistically Significant\n",
       "3  Not Statistically Significant\n",
       "4  Not Statistically Significant\n",
       "5  Not Statistically Significant\n",
       "6  Not Statistically Significant\n",
       "7  Stat significant at 1%       \n",
       "8  Not Statistically Significant\n",
       "9  Not Statistically Significant\n",
       "10 Stat significant at 1%       \n",
       "11 Stat significant at 1%       \n",
       "12 Not Statistically Significant\n",
       "13 Not Statistically Significant\n",
       "14 Stat significant at 1%       "
      ]
     },
     "metadata": {},
     "output_type": "display_data"
    }
   ],
   "source": [
    "bekk5 <- data.frame(Parameters = c(\"mu10\",\"mu20\",\"phi11\",\"phi12\",\"phi21\",\"phi22\",\"a11\",\"a12\",\"a21\",\"a22\",\"g11\",\"g12\",\"g21\",\"g22\"),\n",
    "                   Coefficient = c(summary(var_bekk5)$varresult$lc$coefficients[\"const\",\"Estimate\"],summary(var_bekk5)$varresult$eurgbp$coefficients[\"const\",\"Estimate\"],\n",
    "                                   summary(var_bekk5)$varresult$lc$coefficients[\"lc.l1\",\"Estimate\"],summary(var_bekk5)$varresult$lc$coefficients[\"eurgbp.l1\",\"Estimate\"],\n",
    "                                   summary(var_bekk5)$varresult$eurgbp$coefficients[\"lc.l1\",\"Estimate\"],summary(var_bekk5)$varresult$eurgbp$coefficients[\"eurgbp.l1\",\"Estimate\"],\n",
    "                                   bekk5_fit$A[1,1],bekk5_fit$A[1,2],bekk5_fit$A[2,1],bekk5_fit$A[2,2],bekk5_fit$G[1,1],bekk5_fit$G[1,2],bekk5_fit$G[2,1],bekk5_fit$G[2,2]),\n",
    "                   Std_error = c(summary(var_bekk5)$varresult$lc$coefficients[\"const\",\"Std. Error\"],summary(var_bekk5)$varresult$eurgbp$coefficients[\"const\",\"Std. Error\"],\n",
    "                                   summary(var_bekk5)$varresult$lc$coefficients[\"lc.l1\",\"Std. Error\"],summary(var_bekk5)$varresult$lc$coefficients[\"eurgbp.l1\",\"Std. Error\"],\n",
    "                                   summary(var_bekk5)$varresult$eurgbp$coefficients[\"lc.l1\",\"Std. Error\"],summary(var_bekk5)$varresult$eurgbp$coefficients[\"eurgbp.l1\",\"Std. Error\"],\n",
    "                                   bekk5_fit$A_sd[1,1],bekk5_fit$A_sd[1,2],bekk5_fit$A_sd[2,1],bekk5_fit$A_sd[2,2],bekk5_fit$G_sd[1,1],bekk5_fit$G_sd[1,2],bekk5_fit$G_sd[2,1],bekk5_fit$G_sd[2,2]),\n",
    "                   T_value = c(summary(var_bekk5)$varresult$lc$coefficients[\"const\",\"t value\"],summary(var_bekk5)$varresult$eurgbp$coefficients[\"const\",\"t value\"],\n",
    "                                   summary(var_bekk5)$varresult$lc$coefficients[\"lc.l1\",\"t value\"],summary(var_bekk5)$varresult$lc$coefficients[\"eurgbp.l1\",\"t value\"],\n",
    "                                   summary(var_bekk5)$varresult$eurgbp$coefficients[\"lc.l1\",\"t value\"],summary(var_bekk5)$varresult$eurgbp$coefficients[\"eurgbp.l1\",\"t value\"],\n",
    "                                   bekk5_fit$A_t[1,1],bekk5_fit$A_t[1,2],bekk5_fit$A_t[2,1],bekk5_fit$A_t[2,2],bekk5_fit$G_t[1,1],bekk5_fit$G_t[1,2],bekk5_fit$G_t[2,1],bekk5_fit$G_t[2,2]))\n",
    "\n",
    "bekk5$Significant_at_5p_level[abs(bekk5$T_value) >= 2.58 ] <- \"Stat significant at 1%\"\n",
    "bekk5$Significant_at_5p_level[abs(bekk5$T_value) > 1.96 & abs(bekk5$T_value) < 2.58] <- \"Stat significant at 5%\"\n",
    "bekk5$Significant_at_5p_level[abs(bekk5$T_value) > 1.645 & abs(bekk5$T_value) <= 1.96 ] <- \"Stat significant at 10%\"\n",
    "bekk5$Significant_at_5p_level[abs(bekk5$T_value) <= 1.645] <- \"Not Statistically Significant\"\n",
    "bekk5"
   ]
  },
  {
   "cell_type": "code",
   "execution_count": 70,
   "id": "ea05215e-8b30-4e7e-bf65-fafe5dfdbbe5",
   "metadata": {},
   "outputs": [
    {
     "data": {
      "text/plain": [
       "\n",
       "\tGranger causality H0: lc do not Granger-cause eurgbp\n",
       "\n",
       "data:  VAR object var_bekk5\n",
       "F-Test = 1.0951, df1 = 1, df2 = 2070, p-value = 0.2955\n"
      ]
     },
     "metadata": {},
     "output_type": "display_data"
    },
    {
     "data": {
      "text/plain": [
       "\n",
       "\tGranger causality H0: eurgbp do not Granger-cause lc\n",
       "\n",
       "data:  VAR object var_bekk5\n",
       "F-Test = 1.4799, df1 = 1, df2 = 2070, p-value = 0.2239\n"
      ]
     },
     "metadata": {},
     "output_type": "display_data"
    }
   ],
   "source": [
    "causality(var_bekk5,cause = \"lc\")$Granger\n",
    "causality(var_bekk5,cause = \"eurgbp\")$Granger"
   ]
  },
  {
   "cell_type": "markdown",
   "id": "0cad37fd-47a5-4b0a-bf1c-226c3175a08b",
   "metadata": {},
   "source": [
    "## (c) VAR-BEKK: London-CHFGBP"
   ]
  },
  {
   "cell_type": "code",
   "execution_count": 71,
   "id": "7d7326f4-3f34-4908-b1d8-0fbd79f8771d",
   "metadata": {},
   "outputs": [
    {
     "data": {
      "text/plain": [
       "                     lc        chfgbp\n",
       "2015-12-01 -0.000877193  0.0010835914\n",
       "2015-12-02  0.007431728  0.0160384054\n",
       "2015-12-03  0.005646052  0.0119562529\n",
       "2015-12-04  0.001730853 -0.0014302385\n",
       "2015-12-07  0.005604671  0.0006777364\n",
       "2015-12-08 -0.019536111  0.0111540626"
      ]
     },
     "metadata": {},
     "output_type": "display_data"
    },
    {
     "data": {
      "text/plain": [
       "                     lc        chfgbp\n",
       "2020-01-24 -0.004590674  0.0010801539\n",
       "2020-01-27  0.001532567  0.0033600691\n",
       "2020-01-28 -0.004092077 -0.0013933754\n",
       "2020-01-29  0.005112486  0.0003168467\n",
       "2020-01-30  0.019692633 -0.0019025881\n",
       "2020-01-31 -0.015113638 -0.0015246811"
      ]
     },
     "metadata": {},
     "output_type": "display_data"
    }
   ],
   "source": [
    "bekk6data <- l_d[,c(1,4)]\n",
    "head(bekk6data)\n",
    "tail(bekk6data)"
   ]
  },
  {
   "cell_type": "code",
   "execution_count": 72,
   "id": "c0577b04-3e4c-4e0b-83fa-e3fec4c00224",
   "metadata": {},
   "outputs": [
    {
     "data": {
      "text/html": [
       "<dl>\n",
       "\t<dt>$selection</dt>\n",
       "\t\t<dd><style>\n",
       ".dl-inline {width: auto; margin:0; padding: 0}\n",
       ".dl-inline>dt, .dl-inline>dd {float: none; width: auto; display: inline-block}\n",
       ".dl-inline>dt::after {content: \":\\0020\"; padding-right: .5ex}\n",
       ".dl-inline>dt:not(:first-of-type) {padding-left: .5ex}\n",
       "</style><dl class=dl-inline><dt>AIC(n)</dt><dd>1</dd><dt>HQ(n)</dt><dd>1</dd><dt>SC(n)</dt><dd>1</dd><dt>FPE(n)</dt><dd>1</dd></dl>\n",
       "</dd>\n",
       "\t<dt>$criteria</dt>\n",
       "\t\t<dd><table class=\"dataframe\">\n",
       "<caption>A matrix: 4 × 10 of type dbl</caption>\n",
       "<thead>\n",
       "\t<tr><th></th><th scope=col>1</th><th scope=col>2</th><th scope=col>3</th><th scope=col>4</th><th scope=col>5</th><th scope=col>6</th><th scope=col>7</th><th scope=col>8</th><th scope=col>9</th><th scope=col>10</th></tr>\n",
       "</thead>\n",
       "<tbody>\n",
       "\t<tr><th scope=row>AIC(n)</th><td>-1.872323e+01</td><td>-1.871636e+01</td><td>-1.871067e+01</td><td>-1.870472e+01</td><td>-1.869931e+01</td><td>-1.869726e+01</td><td>-1.869152e+01</td><td>-1.868484e+01</td><td>-1.867717e+01</td><td>-1.867240e+01</td></tr>\n",
       "\t<tr><th scope=row>HQ(n)</th><td>-1.871231e+01</td><td>-1.869815e+01</td><td>-1.868518e+01</td><td>-1.867195e+01</td><td>-1.865925e+01</td><td>-1.864992e+01</td><td>-1.863690e+01</td><td>-1.862294e+01</td><td>-1.860798e+01</td><td>-1.859593e+01</td></tr>\n",
       "\t<tr><th scope=row>SC(n)</th><td>-1.869445e+01</td><td>-1.866839e+01</td><td>-1.864351e+01</td><td>-1.861837e+01</td><td>-1.859377e+01</td><td>-1.857254e+01</td><td>-1.854760e+01</td><td>-1.852174e+01</td><td>-1.849488e+01</td><td>-1.847091e+01</td></tr>\n",
       "\t<tr><th scope=row>FPE(n)</th><td> 7.389316e-09</td><td> 7.440261e-09</td><td> 7.482694e-09</td><td> 7.527360e-09</td><td> 7.568231e-09</td><td> 7.583725e-09</td><td> 7.627416e-09</td><td> 7.678524e-09</td><td> 7.737695e-09</td><td> 7.774741e-09</td></tr>\n",
       "</tbody>\n",
       "</table>\n",
       "</dd>\n",
       "</dl>\n"
      ],
      "text/latex": [
       "\\begin{description}\n",
       "\\item[\\$selection] \\begin{description*}\n",
       "\\item[AIC(n)] 1\n",
       "\\item[HQ(n)] 1\n",
       "\\item[SC(n)] 1\n",
       "\\item[FPE(n)] 1\n",
       "\\end{description*}\n",
       "\n",
       "\\item[\\$criteria] A matrix: 4 × 10 of type dbl\n",
       "\\begin{tabular}{r|llllllllll}\n",
       "  & 1 & 2 & 3 & 4 & 5 & 6 & 7 & 8 & 9 & 10\\\\\n",
       "\\hline\n",
       "\tAIC(n) & -1.872323e+01 & -1.871636e+01 & -1.871067e+01 & -1.870472e+01 & -1.869931e+01 & -1.869726e+01 & -1.869152e+01 & -1.868484e+01 & -1.867717e+01 & -1.867240e+01\\\\\n",
       "\tHQ(n) & -1.871231e+01 & -1.869815e+01 & -1.868518e+01 & -1.867195e+01 & -1.865925e+01 & -1.864992e+01 & -1.863690e+01 & -1.862294e+01 & -1.860798e+01 & -1.859593e+01\\\\\n",
       "\tSC(n) & -1.869445e+01 & -1.866839e+01 & -1.864351e+01 & -1.861837e+01 & -1.859377e+01 & -1.857254e+01 & -1.854760e+01 & -1.852174e+01 & -1.849488e+01 & -1.847091e+01\\\\\n",
       "\tFPE(n) &  7.389316e-09 &  7.440261e-09 &  7.482694e-09 &  7.527360e-09 &  7.568231e-09 &  7.583725e-09 &  7.627416e-09 &  7.678524e-09 &  7.737695e-09 &  7.774741e-09\\\\\n",
       "\\end{tabular}\n",
       "\n",
       "\\end{description}\n"
      ],
      "text/markdown": [
       "$selection\n",
       ":   AIC(n)\n",
       ":   1HQ(n)\n",
       ":   1SC(n)\n",
       ":   1FPE(n)\n",
       ":   1\n",
       "\n",
       "\n",
       "$criteria\n",
       ":   \n",
       "A matrix: 4 × 10 of type dbl\n",
       "\n",
       "| <!--/--> | 1 | 2 | 3 | 4 | 5 | 6 | 7 | 8 | 9 | 10 |\n",
       "|---|---|---|---|---|---|---|---|---|---|---|\n",
       "| AIC(n) | -1.872323e+01 | -1.871636e+01 | -1.871067e+01 | -1.870472e+01 | -1.869931e+01 | -1.869726e+01 | -1.869152e+01 | -1.868484e+01 | -1.867717e+01 | -1.867240e+01 |\n",
       "| HQ(n) | -1.871231e+01 | -1.869815e+01 | -1.868518e+01 | -1.867195e+01 | -1.865925e+01 | -1.864992e+01 | -1.863690e+01 | -1.862294e+01 | -1.860798e+01 | -1.859593e+01 |\n",
       "| SC(n) | -1.869445e+01 | -1.866839e+01 | -1.864351e+01 | -1.861837e+01 | -1.859377e+01 | -1.857254e+01 | -1.854760e+01 | -1.852174e+01 | -1.849488e+01 | -1.847091e+01 |\n",
       "| FPE(n) |  7.389316e-09 |  7.440261e-09 |  7.482694e-09 |  7.527360e-09 |  7.568231e-09 |  7.583725e-09 |  7.627416e-09 |  7.678524e-09 |  7.737695e-09 |  7.774741e-09 |\n",
       "\n",
       "\n",
       "\n",
       "\n"
      ],
      "text/plain": [
       "$selection\n",
       "AIC(n)  HQ(n)  SC(n) FPE(n) \n",
       "     1      1      1      1 \n",
       "\n",
       "$criteria\n",
       "                   1             2             3             4             5\n",
       "AIC(n) -1.872323e+01 -1.871636e+01 -1.871067e+01 -1.870472e+01 -1.869931e+01\n",
       "HQ(n)  -1.871231e+01 -1.869815e+01 -1.868518e+01 -1.867195e+01 -1.865925e+01\n",
       "SC(n)  -1.869445e+01 -1.866839e+01 -1.864351e+01 -1.861837e+01 -1.859377e+01\n",
       "FPE(n)  7.389316e-09  7.440261e-09  7.482694e-09  7.527360e-09  7.568231e-09\n",
       "                   6             7             8             9            10\n",
       "AIC(n) -1.869726e+01 -1.869152e+01 -1.868484e+01 -1.867717e+01 -1.867240e+01\n",
       "HQ(n)  -1.864992e+01 -1.863690e+01 -1.862294e+01 -1.860798e+01 -1.859593e+01\n",
       "SC(n)  -1.857254e+01 -1.854760e+01 -1.852174e+01 -1.849488e+01 -1.847091e+01\n",
       "FPE(n)  7.583725e-09  7.627416e-09  7.678524e-09  7.737695e-09  7.774741e-09\n"
      ]
     },
     "metadata": {},
     "output_type": "display_data"
    }
   ],
   "source": [
    "VARselect(bekk6data,type = \"const\")"
   ]
  },
  {
   "cell_type": "code",
   "execution_count": 73,
   "id": "b2471430-fb76-49ab-ba7c-aead0fe38f3a",
   "metadata": {},
   "outputs": [],
   "source": [
    "var_bekk6<-VAR(bekk6data,p = 1,type = \"const\")\n",
    "res_bekk6 <- residuals(var_bekk6)\n",
    "res_bekk6 <- as.data.frame(res_bekk6)"
   ]
  },
  {
   "cell_type": "code",
   "execution_count": 74,
   "id": "22410795-3686-4833-9391-fa904b22a366",
   "metadata": {},
   "outputs": [
    {
     "data": {
      "text/plain": [
       "\n",
       "VAR Estimation Results:\n",
       "========================= \n",
       "Endogenous variables: lc, chfgbp \n",
       "Deterministic variables: const \n",
       "Sample size: 1038 \n",
       "Log Likelihood: 6777.723 \n",
       "Roots of the characteristic polynomial:\n",
       "0.0317 0.01445\n",
       "Call:\n",
       "VAR(y = bekk6data, p = 1, type = \"const\")\n",
       "\n",
       "\n",
       "Estimation results for equation lc: \n",
       "=================================== \n",
       "lc = lc.l1 + chfgbp.l1 + const \n",
       "\n",
       "            Estimate Std. Error t value Pr(>|t|)\n",
       "lc.l1     -0.0106410  0.0311866  -0.341    0.733\n",
       "chfgbp.l1  0.0932514  0.0740389   1.259    0.208\n",
       "const     -0.0001498  0.0004438  -0.338    0.736\n",
       "\n",
       "\n",
       "Residual standard error: 0.01429 on 1035 degrees of freedom\n",
       "Multiple R-Squared: 0.001584,\tAdjusted R-squared: -0.0003455 \n",
       "F-statistic: 0.8209 on 2 and 1035 DF,  p-value: 0.4403 \n",
       "\n",
       "\n",
       "Estimation results for equation chfgbp: \n",
       "======================================= \n",
       "chfgbp = lc.l1 + chfgbp.l1 + const \n",
       "\n",
       "           Estimate Std. Error t value Pr(>|t|)\n",
       "lc.l1     0.0017298  0.0131349   0.132    0.895\n",
       "chfgbp.l1 0.0278947  0.0311830   0.895    0.371\n",
       "const     0.0001922  0.0001869   1.028    0.304\n",
       "\n",
       "\n",
       "Residual standard error: 0.006019 on 1035 degrees of freedom\n",
       "Multiple R-Squared: 0.0008143,\tAdjusted R-squared: -0.001117 \n",
       "F-statistic: 0.4217 on 2 and 1035 DF,  p-value: 0.656 \n",
       "\n",
       "\n",
       "\n",
       "Covariance matrix of residuals:\n",
       "              lc    chfgbp\n",
       "lc     2.042e-04 7.201e-06\n",
       "chfgbp 7.201e-06 3.622e-05\n",
       "\n",
       "Correlation matrix of residuals:\n",
       "            lc  chfgbp\n",
       "lc     1.00000 0.08373\n",
       "chfgbp 0.08373 1.00000\n",
       "\n"
      ]
     },
     "metadata": {},
     "output_type": "display_data"
    }
   ],
   "source": [
    "summary(var_bekk6)"
   ]
  },
  {
   "cell_type": "code",
   "execution_count": 75,
   "id": "40dcd790-9e9f-4af1-ae99-a372895e1f35",
   "metadata": {},
   "outputs": [
    {
     "name": "stdout",
     "output_type": "stream",
     "text": [
      " Date[1:1038], format: \"2015-12-02\" \"2015-12-03\" \"2015-12-04\" \"2015-12-07\" \"2015-12-08\" ...\n"
     ]
    }
   ],
   "source": [
    "ind_var6 <- index(bekk6data)[-1]\n",
    "str(ind_var6)"
   ]
  },
  {
   "cell_type": "code",
   "execution_count": 76,
   "id": "835b186b-1be9-4136-85a9-8f6227656f35",
   "metadata": {},
   "outputs": [],
   "source": [
    "res_bekk6 <- xts(res_bekk6,order.by = ind_var6)\n",
    "bekk_spec <- bekk_spec(model = list(type = \"bekk\",asymmetric = F))\n",
    "bekk6_fit <- bekk_fit(spec = bekk_spec,data = res_bekk6)"
   ]
  },
  {
   "cell_type": "code",
   "execution_count": 77,
   "id": "26e59dd5-92b1-47ac-9357-d9e26a54d42a",
   "metadata": {},
   "outputs": [
    {
     "data": {
      "text/html": [
       "<table class=\"dataframe\">\n",
       "<caption>A matrix: 2 × 2 of type dbl</caption>\n",
       "<tbody>\n",
       "\t<tr><td>0.16408630</td><td>0.02526927</td></tr>\n",
       "\t<tr><td>0.03049935</td><td>0.37759282</td></tr>\n",
       "</tbody>\n",
       "</table>\n"
      ],
      "text/latex": [
       "A matrix: 2 × 2 of type dbl\n",
       "\\begin{tabular}{ll}\n",
       "\t 0.16408630 & 0.02526927\\\\\n",
       "\t 0.03049935 & 0.37759282\\\\\n",
       "\\end{tabular}\n"
      ],
      "text/markdown": [
       "\n",
       "A matrix: 2 × 2 of type dbl\n",
       "\n",
       "| 0.16408630 | 0.02526927 |\n",
       "| 0.03049935 | 0.37759282 |\n",
       "\n"
      ],
      "text/plain": [
       "     [,1]       [,2]      \n",
       "[1,] 0.16408630 0.02526927\n",
       "[2,] 0.03049935 0.37759282"
      ]
     },
     "metadata": {},
     "output_type": "display_data"
    },
    {
     "data": {
      "text/html": [
       "<table class=\"dataframe\">\n",
       "<caption>A matrix: 2 × 2 of type dbl</caption>\n",
       "<tbody>\n",
       "\t<tr><td>5.9807949</td><td> 1.632192</td></tr>\n",
       "\t<tr><td>0.4008725</td><td>12.287750</td></tr>\n",
       "</tbody>\n",
       "</table>\n"
      ],
      "text/latex": [
       "A matrix: 2 × 2 of type dbl\n",
       "\\begin{tabular}{ll}\n",
       "\t 5.9807949 &  1.632192\\\\\n",
       "\t 0.4008725 & 12.287750\\\\\n",
       "\\end{tabular}\n"
      ],
      "text/markdown": [
       "\n",
       "A matrix: 2 × 2 of type dbl\n",
       "\n",
       "| 5.9807949 |  1.632192 |\n",
       "| 0.4008725 | 12.287750 |\n",
       "\n"
      ],
      "text/plain": [
       "     [,1]      [,2]     \n",
       "[1,] 5.9807949  1.632192\n",
       "[2,] 0.4008725 12.287750"
      ]
     },
     "metadata": {},
     "output_type": "display_data"
    },
    {
     "data": {
      "text/html": [
       "<table class=\"dataframe\">\n",
       "<caption>A matrix: 2 × 2 of type dbl</caption>\n",
       "<tbody>\n",
       "\t<tr><td>0.976013296</td><td>-0.006099318</td></tr>\n",
       "\t<tr><td>0.006261844</td><td> 0.887154300</td></tr>\n",
       "</tbody>\n",
       "</table>\n"
      ],
      "text/latex": [
       "A matrix: 2 × 2 of type dbl\n",
       "\\begin{tabular}{ll}\n",
       "\t 0.976013296 & -0.006099318\\\\\n",
       "\t 0.006261844 &  0.887154300\\\\\n",
       "\\end{tabular}\n"
      ],
      "text/markdown": [
       "\n",
       "A matrix: 2 × 2 of type dbl\n",
       "\n",
       "| 0.976013296 | -0.006099318 |\n",
       "| 0.006261844 |  0.887154300 |\n",
       "\n"
      ],
      "text/plain": [
       "     [,1]        [,2]        \n",
       "[1,] 0.976013296 -0.006099318\n",
       "[2,] 0.006261844  0.887154300"
      ]
     },
     "metadata": {},
     "output_type": "display_data"
    },
    {
     "data": {
      "text/html": [
       "<table class=\"dataframe\">\n",
       "<caption>A matrix: 2 × 2 of type dbl</caption>\n",
       "<tbody>\n",
       "\t<tr><td>100.7548576</td><td>-0.7089993</td></tr>\n",
       "\t<tr><td>  0.2088587</td><td>41.2113063</td></tr>\n",
       "</tbody>\n",
       "</table>\n"
      ],
      "text/latex": [
       "A matrix: 2 × 2 of type dbl\n",
       "\\begin{tabular}{ll}\n",
       "\t 100.7548576 & -0.7089993\\\\\n",
       "\t   0.2088587 & 41.2113063\\\\\n",
       "\\end{tabular}\n"
      ],
      "text/markdown": [
       "\n",
       "A matrix: 2 × 2 of type dbl\n",
       "\n",
       "| 100.7548576 | -0.7089993 |\n",
       "|   0.2088587 | 41.2113063 |\n",
       "\n"
      ],
      "text/plain": [
       "     [,1]        [,2]      \n",
       "[1,] 100.7548576 -0.7089993\n",
       "[2,]   0.2088587 41.2113063"
      ]
     },
     "metadata": {},
     "output_type": "display_data"
    }
   ],
   "source": [
    "bekk6_fit$A\n",
    "bekk6_fit$A_t\n",
    "bekk6_fit$G\n",
    "bekk6_fit$G_t"
   ]
  },
  {
   "cell_type": "markdown",
   "id": "dd433934-fbe2-4946-b184-df7ab366c664",
   "metadata": {},
   "source": [
    "### VAR-BEKK Model Table for London-CHFGBP"
   ]
  },
  {
   "cell_type": "code",
   "execution_count": 78,
   "id": "6b827b30-f3aa-48c9-be42-445bffc463b1",
   "metadata": {},
   "outputs": [
    {
     "data": {
      "text/html": [
       "<table class=\"dataframe\">\n",
       "<caption>A data.frame: 14 × 5</caption>\n",
       "<thead>\n",
       "\t<tr><th scope=col>Parameters</th><th scope=col>Coefficient</th><th scope=col>Std_error</th><th scope=col>T_value</th><th scope=col>Significant_at_5p_level</th></tr>\n",
       "\t<tr><th scope=col>&lt;chr&gt;</th><th scope=col>&lt;dbl&gt;</th><th scope=col>&lt;dbl&gt;</th><th scope=col>&lt;dbl&gt;</th><th scope=col>&lt;chr&gt;</th></tr>\n",
       "</thead>\n",
       "<tbody>\n",
       "\t<tr><td>mu10 </td><td>-0.0001498321</td><td>0.0004438229</td><td> -0.3375942</td><td>Not Statistically Significant</td></tr>\n",
       "\t<tr><td>mu20 </td><td> 0.0001922343</td><td>0.0001869253</td><td>  1.0284017</td><td>Not Statistically Significant</td></tr>\n",
       "\t<tr><td>phi11</td><td>-0.0106409769</td><td>0.0311866387</td><td> -0.3412031</td><td>Not Statistically Significant</td></tr>\n",
       "\t<tr><td>phi12</td><td> 0.0932513518</td><td>0.0740389300</td><td>  1.2594908</td><td>Not Statistically Significant</td></tr>\n",
       "\t<tr><td>phi21</td><td> 0.0017297882</td><td>0.0131349050</td><td>  0.1316940</td><td>Not Statistically Significant</td></tr>\n",
       "\t<tr><td>phi22</td><td> 0.0278946885</td><td>0.0311830435</td><td>  0.8945467</td><td>Not Statistically Significant</td></tr>\n",
       "\t<tr><td>a11  </td><td> 0.1640862981</td><td>0.0274355332</td><td>  5.9807949</td><td>Stat significant at 1%       </td></tr>\n",
       "\t<tr><td>a12  </td><td> 0.0252692708</td><td>0.0154817965</td><td>  1.6321924</td><td>Not Statistically Significant</td></tr>\n",
       "\t<tr><td>a21  </td><td> 0.0304993505</td><td>0.0760824265</td><td>  0.4008725</td><td>Not Statistically Significant</td></tr>\n",
       "\t<tr><td>a22  </td><td> 0.3775928239</td><td>0.0307292080</td><td> 12.2877500</td><td>Stat significant at 1%       </td></tr>\n",
       "\t<tr><td>g11  </td><td> 0.9760132959</td><td>0.0096870098</td><td>100.7548576</td><td>Stat significant at 1%       </td></tr>\n",
       "\t<tr><td>g12  </td><td>-0.0060993181</td><td>0.0086027137</td><td> -0.7089993</td><td>Not Statistically Significant</td></tr>\n",
       "\t<tr><td>g21  </td><td> 0.0062618444</td><td>0.0299812505</td><td>  0.2088587</td><td>Not Statistically Significant</td></tr>\n",
       "\t<tr><td>g22  </td><td> 0.8871543004</td><td>0.0215269638</td><td> 41.2113063</td><td>Stat significant at 1%       </td></tr>\n",
       "</tbody>\n",
       "</table>\n"
      ],
      "text/latex": [
       "A data.frame: 14 × 5\n",
       "\\begin{tabular}{lllll}\n",
       " Parameters & Coefficient & Std\\_error & T\\_value & Significant\\_at\\_5p\\_level\\\\\n",
       " <chr> & <dbl> & <dbl> & <dbl> & <chr>\\\\\n",
       "\\hline\n",
       "\t mu10  & -0.0001498321 & 0.0004438229 &  -0.3375942 & Not Statistically Significant\\\\\n",
       "\t mu20  &  0.0001922343 & 0.0001869253 &   1.0284017 & Not Statistically Significant\\\\\n",
       "\t phi11 & -0.0106409769 & 0.0311866387 &  -0.3412031 & Not Statistically Significant\\\\\n",
       "\t phi12 &  0.0932513518 & 0.0740389300 &   1.2594908 & Not Statistically Significant\\\\\n",
       "\t phi21 &  0.0017297882 & 0.0131349050 &   0.1316940 & Not Statistically Significant\\\\\n",
       "\t phi22 &  0.0278946885 & 0.0311830435 &   0.8945467 & Not Statistically Significant\\\\\n",
       "\t a11   &  0.1640862981 & 0.0274355332 &   5.9807949 & Stat significant at 1\\%       \\\\\n",
       "\t a12   &  0.0252692708 & 0.0154817965 &   1.6321924 & Not Statistically Significant\\\\\n",
       "\t a21   &  0.0304993505 & 0.0760824265 &   0.4008725 & Not Statistically Significant\\\\\n",
       "\t a22   &  0.3775928239 & 0.0307292080 &  12.2877500 & Stat significant at 1\\%       \\\\\n",
       "\t g11   &  0.9760132959 & 0.0096870098 & 100.7548576 & Stat significant at 1\\%       \\\\\n",
       "\t g12   & -0.0060993181 & 0.0086027137 &  -0.7089993 & Not Statistically Significant\\\\\n",
       "\t g21   &  0.0062618444 & 0.0299812505 &   0.2088587 & Not Statistically Significant\\\\\n",
       "\t g22   &  0.8871543004 & 0.0215269638 &  41.2113063 & Stat significant at 1\\%       \\\\\n",
       "\\end{tabular}\n"
      ],
      "text/markdown": [
       "\n",
       "A data.frame: 14 × 5\n",
       "\n",
       "| Parameters &lt;chr&gt; | Coefficient &lt;dbl&gt; | Std_error &lt;dbl&gt; | T_value &lt;dbl&gt; | Significant_at_5p_level &lt;chr&gt; |\n",
       "|---|---|---|---|---|\n",
       "| mu10  | -0.0001498321 | 0.0004438229 |  -0.3375942 | Not Statistically Significant |\n",
       "| mu20  |  0.0001922343 | 0.0001869253 |   1.0284017 | Not Statistically Significant |\n",
       "| phi11 | -0.0106409769 | 0.0311866387 |  -0.3412031 | Not Statistically Significant |\n",
       "| phi12 |  0.0932513518 | 0.0740389300 |   1.2594908 | Not Statistically Significant |\n",
       "| phi21 |  0.0017297882 | 0.0131349050 |   0.1316940 | Not Statistically Significant |\n",
       "| phi22 |  0.0278946885 | 0.0311830435 |   0.8945467 | Not Statistically Significant |\n",
       "| a11   |  0.1640862981 | 0.0274355332 |   5.9807949 | Stat significant at 1%        |\n",
       "| a12   |  0.0252692708 | 0.0154817965 |   1.6321924 | Not Statistically Significant |\n",
       "| a21   |  0.0304993505 | 0.0760824265 |   0.4008725 | Not Statistically Significant |\n",
       "| a22   |  0.3775928239 | 0.0307292080 |  12.2877500 | Stat significant at 1%        |\n",
       "| g11   |  0.9760132959 | 0.0096870098 | 100.7548576 | Stat significant at 1%        |\n",
       "| g12   | -0.0060993181 | 0.0086027137 |  -0.7089993 | Not Statistically Significant |\n",
       "| g21   |  0.0062618444 | 0.0299812505 |   0.2088587 | Not Statistically Significant |\n",
       "| g22   |  0.8871543004 | 0.0215269638 |  41.2113063 | Stat significant at 1%        |\n",
       "\n"
      ],
      "text/plain": [
       "   Parameters Coefficient   Std_error    T_value    \n",
       "1  mu10       -0.0001498321 0.0004438229  -0.3375942\n",
       "2  mu20        0.0001922343 0.0001869253   1.0284017\n",
       "3  phi11      -0.0106409769 0.0311866387  -0.3412031\n",
       "4  phi12       0.0932513518 0.0740389300   1.2594908\n",
       "5  phi21       0.0017297882 0.0131349050   0.1316940\n",
       "6  phi22       0.0278946885 0.0311830435   0.8945467\n",
       "7  a11         0.1640862981 0.0274355332   5.9807949\n",
       "8  a12         0.0252692708 0.0154817965   1.6321924\n",
       "9  a21         0.0304993505 0.0760824265   0.4008725\n",
       "10 a22         0.3775928239 0.0307292080  12.2877500\n",
       "11 g11         0.9760132959 0.0096870098 100.7548576\n",
       "12 g12        -0.0060993181 0.0086027137  -0.7089993\n",
       "13 g21         0.0062618444 0.0299812505   0.2088587\n",
       "14 g22         0.8871543004 0.0215269638  41.2113063\n",
       "   Significant_at_5p_level      \n",
       "1  Not Statistically Significant\n",
       "2  Not Statistically Significant\n",
       "3  Not Statistically Significant\n",
       "4  Not Statistically Significant\n",
       "5  Not Statistically Significant\n",
       "6  Not Statistically Significant\n",
       "7  Stat significant at 1%       \n",
       "8  Not Statistically Significant\n",
       "9  Not Statistically Significant\n",
       "10 Stat significant at 1%       \n",
       "11 Stat significant at 1%       \n",
       "12 Not Statistically Significant\n",
       "13 Not Statistically Significant\n",
       "14 Stat significant at 1%       "
      ]
     },
     "metadata": {},
     "output_type": "display_data"
    }
   ],
   "source": [
    "bekk6 <- data.frame(Parameters = c(\"mu10\",\"mu20\",\"phi11\",\"phi12\",\"phi21\",\"phi22\",\"a11\",\"a12\",\"a21\",\"a22\",\"g11\",\"g12\",\"g21\",\"g22\"),\n",
    "                   Coefficient = c(summary(var_bekk6)$varresult$lc$coefficients[\"const\",\"Estimate\"],summary(var_bekk6)$varresult$chfgbp$coefficients[\"const\",\"Estimate\"],\n",
    "                                   summary(var_bekk6)$varresult$lc$coefficients[\"lc.l1\",\"Estimate\"],summary(var_bekk6)$varresult$lc$coefficients[\"chfgbp.l1\",\"Estimate\"],\n",
    "                                   summary(var_bekk6)$varresult$chfgbp$coefficients[\"lc.l1\",\"Estimate\"],summary(var_bekk6)$varresult$chfgbp$coefficients[\"chfgbp.l1\",\"Estimate\"],\n",
    "                                   bekk6_fit$A[1,1],bekk6_fit$A[1,2],bekk6_fit$A[2,1],bekk6_fit$A[2,2],bekk6_fit$G[1,1],bekk6_fit$G[1,2],bekk6_fit$G[2,1],bekk6_fit$G[2,2]),\n",
    "                   Std_error = c(summary(var_bekk6)$varresult$lc$coefficients[\"const\",\"Std. Error\"],summary(var_bekk6)$varresult$chfgbp$coefficients[\"const\",\"Std. Error\"],\n",
    "                                   summary(var_bekk6)$varresult$lc$coefficients[\"lc.l1\",\"Std. Error\"],summary(var_bekk6)$varresult$lc$coefficients[\"chfgbp.l1\",\"Std. Error\"],\n",
    "                                   summary(var_bekk6)$varresult$chfgbp$coefficients[\"lc.l1\",\"Std. Error\"],summary(var_bekk6)$varresult$chfgbp$coefficients[\"chfgbp.l1\",\"Std. Error\"],\n",
    "                                   bekk6_fit$A_sd[1,1],bekk6_fit$A_sd[1,2],bekk6_fit$A_sd[2,1],bekk6_fit$A_sd[2,2],bekk6_fit$G_sd[1,1],bekk6_fit$G_sd[1,2],bekk6_fit$G_sd[2,1],bekk6_fit$G_sd[2,2]),\n",
    "                   T_value = c(summary(var_bekk6)$varresult$lc$coefficients[\"const\",\"t value\"],summary(var_bekk6)$varresult$chfgbp$coefficients[\"const\",\"t value\"],\n",
    "                                   summary(var_bekk6)$varresult$lc$coefficients[\"lc.l1\",\"t value\"],summary(var_bekk6)$varresult$lc$coefficients[\"chfgbp.l1\",\"t value\"],\n",
    "                                   summary(var_bekk6)$varresult$chfgbp$coefficients[\"lc.l1\",\"t value\"],summary(var_bekk6)$varresult$chfgbp$coefficients[\"chfgbp.l1\",\"t value\"],\n",
    "                                   bekk6_fit$A_t[1,1],bekk6_fit$A_t[1,2],bekk6_fit$A_t[2,1],bekk6_fit$A_t[2,2],bekk6_fit$G_t[1,1],bekk6_fit$G_t[1,2],bekk6_fit$G_t[2,1],bekk6_fit$G_t[2,2]))\n",
    "\n",
    "bekk6$Significant_at_5p_level[abs(bekk6$T_value) >= 2.58 ] <- \"Stat significant at 1%\"\n",
    "bekk6$Significant_at_5p_level[abs(bekk6$T_value) > 1.96 & abs(bekk6$T_value) < 2.58] <- \"Stat significant at 5%\"\n",
    "bekk6$Significant_at_5p_level[abs(bekk6$T_value) > 1.645 & abs(bekk6$T_value) <= 1.96 ] <- \"Stat significant at 10%\"\n",
    "bekk6$Significant_at_5p_level[abs(bekk6$T_value) <= 1.645] <- \"Not Statistically Significant\"\n",
    "bekk6"
   ]
  },
  {
   "cell_type": "code",
   "execution_count": 79,
   "id": "ba0d7314-bb16-414e-84b6-f44fbe71ebe9",
   "metadata": {},
   "outputs": [
    {
     "data": {
      "text/plain": [
       "\n",
       "\tGranger causality H0: lc do not Granger-cause chfgbp\n",
       "\n",
       "data:  VAR object var_bekk6\n",
       "F-Test = 0.017343, df1 = 1, df2 = 2070, p-value = 0.8952\n"
      ]
     },
     "metadata": {},
     "output_type": "display_data"
    },
    {
     "data": {
      "text/plain": [
       "\n",
       "\tGranger causality H0: chfgbp do not Granger-cause lc\n",
       "\n",
       "data:  VAR object var_bekk6\n",
       "F-Test = 1.5863, df1 = 1, df2 = 2070, p-value = 0.208\n"
      ]
     },
     "metadata": {},
     "output_type": "display_data"
    }
   ],
   "source": [
    "causality(var_bekk6,cause = \"lc\")$Granger\n",
    "causality(var_bekk6,cause = \"chfgbp\")$Granger"
   ]
  },
  {
   "cell_type": "markdown",
   "id": "3d481dcf-4482-45a0-8a93-29e9b9682062",
   "metadata": {},
   "source": [
    "## (d) VAR-BEKK Model for London Cocoa - GHSGBP"
   ]
  },
  {
   "cell_type": "code",
   "execution_count": 80,
   "id": "3dfbd1a5-7ed0-4c0f-abe4-1aad9122c991",
   "metadata": {},
   "outputs": [
    {
     "data": {
      "text/plain": [
       "                     lc        ghsgbp\n",
       "2015-12-01 -0.000877193 -0.0025456561\n",
       "2015-12-02  0.007431728  0.0099212308\n",
       "2015-12-03  0.005646052 -0.0201777897\n",
       "2015-12-04  0.001730853  0.0134894260\n",
       "2015-12-07  0.005604671 -0.0004514615\n",
       "2015-12-08 -0.019536111 -0.0066621131"
      ]
     },
     "metadata": {},
     "output_type": "display_data"
    },
    {
     "data": {
      "text/plain": [
       "                     lc       ghsgbp\n",
       "2020-01-24 -0.004590674  0.002464379\n",
       "2020-01-27  0.001532567  0.001733125\n",
       "2020-01-28 -0.004092077  0.004415901\n",
       "2020-01-29  0.005112486  0.003384184\n",
       "2020-01-30  0.019692633  0.003531378\n",
       "2020-01-31 -0.015113638 -0.004588158"
      ]
     },
     "metadata": {},
     "output_type": "display_data"
    }
   ],
   "source": [
    "bekk8data <- na.omit(merge(cr_d[,2],fr_d[,8]))\n",
    "head(bekk8data)\n",
    "tail(bekk8data)"
   ]
  },
  {
   "cell_type": "code",
   "execution_count": 81,
   "id": "33b3f625-3809-4814-a04f-1044043d8529",
   "metadata": {},
   "outputs": [
    {
     "data": {
      "text/html": [
       "<dl>\n",
       "\t<dt>$selection</dt>\n",
       "\t\t<dd><style>\n",
       ".dl-inline {width: auto; margin:0; padding: 0}\n",
       ".dl-inline>dt, .dl-inline>dd {float: none; width: auto; display: inline-block}\n",
       ".dl-inline>dt::after {content: \":\\0020\"; padding-right: .5ex}\n",
       ".dl-inline>dt:not(:first-of-type) {padding-left: .5ex}\n",
       "</style><dl class=dl-inline><dt>AIC(n)</dt><dd>1</dd><dt>HQ(n)</dt><dd>1</dd><dt>SC(n)</dt><dd>1</dd><dt>FPE(n)</dt><dd>1</dd></dl>\n",
       "</dd>\n",
       "\t<dt>$criteria</dt>\n",
       "\t\t<dd><table class=\"dataframe\">\n",
       "<caption>A matrix: 4 × 10 of type dbl</caption>\n",
       "<thead>\n",
       "\t<tr><th></th><th scope=col>1</th><th scope=col>2</th><th scope=col>3</th><th scope=col>4</th><th scope=col>5</th><th scope=col>6</th><th scope=col>7</th><th scope=col>8</th><th scope=col>9</th><th scope=col>10</th></tr>\n",
       "</thead>\n",
       "<tbody>\n",
       "\t<tr><th scope=row>AIC(n)</th><td>-1.752230e+01</td><td>-1.751593e+01</td><td>-1.751058e+01</td><td>-1.751137e+01</td><td>-1.750772e+01</td><td>-1.750222e+01</td><td>-1.749956e+01</td><td>-1.749306e+01</td><td>-1.748761e+01</td><td>-1.748142e+01</td></tr>\n",
       "\t<tr><th scope=row>HQ(n)</th><td>-1.751138e+01</td><td>-1.749772e+01</td><td>-1.748509e+01</td><td>-1.747860e+01</td><td>-1.746766e+01</td><td>-1.745488e+01</td><td>-1.744494e+01</td><td>-1.743116e+01</td><td>-1.741842e+01</td><td>-1.740495e+01</td></tr>\n",
       "\t<tr><th scope=row>SC(n)</th><td>-1.749352e+01</td><td>-1.746795e+01</td><td>-1.744342e+01</td><td>-1.742502e+01</td><td>-1.740218e+01</td><td>-1.737749e+01</td><td>-1.735565e+01</td><td>-1.732996e+01</td><td>-1.730532e+01</td><td>-1.727994e+01</td></tr>\n",
       "\t<tr><th scope=row>FPE(n)</th><td> 2.455620e-08</td><td> 2.471328e-08</td><td> 2.484580e-08</td><td> 2.482608e-08</td><td> 2.491698e-08</td><td> 2.505436e-08</td><td> 2.512108e-08</td><td> 2.528490e-08</td><td> 2.542323e-08</td><td> 2.558118e-08</td></tr>\n",
       "</tbody>\n",
       "</table>\n",
       "</dd>\n",
       "</dl>\n"
      ],
      "text/latex": [
       "\\begin{description}\n",
       "\\item[\\$selection] \\begin{description*}\n",
       "\\item[AIC(n)] 1\n",
       "\\item[HQ(n)] 1\n",
       "\\item[SC(n)] 1\n",
       "\\item[FPE(n)] 1\n",
       "\\end{description*}\n",
       "\n",
       "\\item[\\$criteria] A matrix: 4 × 10 of type dbl\n",
       "\\begin{tabular}{r|llllllllll}\n",
       "  & 1 & 2 & 3 & 4 & 5 & 6 & 7 & 8 & 9 & 10\\\\\n",
       "\\hline\n",
       "\tAIC(n) & -1.752230e+01 & -1.751593e+01 & -1.751058e+01 & -1.751137e+01 & -1.750772e+01 & -1.750222e+01 & -1.749956e+01 & -1.749306e+01 & -1.748761e+01 & -1.748142e+01\\\\\n",
       "\tHQ(n) & -1.751138e+01 & -1.749772e+01 & -1.748509e+01 & -1.747860e+01 & -1.746766e+01 & -1.745488e+01 & -1.744494e+01 & -1.743116e+01 & -1.741842e+01 & -1.740495e+01\\\\\n",
       "\tSC(n) & -1.749352e+01 & -1.746795e+01 & -1.744342e+01 & -1.742502e+01 & -1.740218e+01 & -1.737749e+01 & -1.735565e+01 & -1.732996e+01 & -1.730532e+01 & -1.727994e+01\\\\\n",
       "\tFPE(n) &  2.455620e-08 &  2.471328e-08 &  2.484580e-08 &  2.482608e-08 &  2.491698e-08 &  2.505436e-08 &  2.512108e-08 &  2.528490e-08 &  2.542323e-08 &  2.558118e-08\\\\\n",
       "\\end{tabular}\n",
       "\n",
       "\\end{description}\n"
      ],
      "text/markdown": [
       "$selection\n",
       ":   AIC(n)\n",
       ":   1HQ(n)\n",
       ":   1SC(n)\n",
       ":   1FPE(n)\n",
       ":   1\n",
       "\n",
       "\n",
       "$criteria\n",
       ":   \n",
       "A matrix: 4 × 10 of type dbl\n",
       "\n",
       "| <!--/--> | 1 | 2 | 3 | 4 | 5 | 6 | 7 | 8 | 9 | 10 |\n",
       "|---|---|---|---|---|---|---|---|---|---|---|\n",
       "| AIC(n) | -1.752230e+01 | -1.751593e+01 | -1.751058e+01 | -1.751137e+01 | -1.750772e+01 | -1.750222e+01 | -1.749956e+01 | -1.749306e+01 | -1.748761e+01 | -1.748142e+01 |\n",
       "| HQ(n) | -1.751138e+01 | -1.749772e+01 | -1.748509e+01 | -1.747860e+01 | -1.746766e+01 | -1.745488e+01 | -1.744494e+01 | -1.743116e+01 | -1.741842e+01 | -1.740495e+01 |\n",
       "| SC(n) | -1.749352e+01 | -1.746795e+01 | -1.744342e+01 | -1.742502e+01 | -1.740218e+01 | -1.737749e+01 | -1.735565e+01 | -1.732996e+01 | -1.730532e+01 | -1.727994e+01 |\n",
       "| FPE(n) |  2.455620e-08 |  2.471328e-08 |  2.484580e-08 |  2.482608e-08 |  2.491698e-08 |  2.505436e-08 |  2.512108e-08 |  2.528490e-08 |  2.542323e-08 |  2.558118e-08 |\n",
       "\n",
       "\n",
       "\n",
       "\n"
      ],
      "text/plain": [
       "$selection\n",
       "AIC(n)  HQ(n)  SC(n) FPE(n) \n",
       "     1      1      1      1 \n",
       "\n",
       "$criteria\n",
       "                   1             2             3             4             5\n",
       "AIC(n) -1.752230e+01 -1.751593e+01 -1.751058e+01 -1.751137e+01 -1.750772e+01\n",
       "HQ(n)  -1.751138e+01 -1.749772e+01 -1.748509e+01 -1.747860e+01 -1.746766e+01\n",
       "SC(n)  -1.749352e+01 -1.746795e+01 -1.744342e+01 -1.742502e+01 -1.740218e+01\n",
       "FPE(n)  2.455620e-08  2.471328e-08  2.484580e-08  2.482608e-08  2.491698e-08\n",
       "                   6             7             8             9            10\n",
       "AIC(n) -1.750222e+01 -1.749956e+01 -1.749306e+01 -1.748761e+01 -1.748142e+01\n",
       "HQ(n)  -1.745488e+01 -1.744494e+01 -1.743116e+01 -1.741842e+01 -1.740495e+01\n",
       "SC(n)  -1.737749e+01 -1.735565e+01 -1.732996e+01 -1.730532e+01 -1.727994e+01\n",
       "FPE(n)  2.505436e-08  2.512108e-08  2.528490e-08  2.542323e-08  2.558118e-08\n"
      ]
     },
     "metadata": {},
     "output_type": "display_data"
    }
   ],
   "source": [
    "VARselect(bekk8data,type = \"const\")"
   ]
  },
  {
   "cell_type": "code",
   "execution_count": 82,
   "id": "dd0ebb86-a078-46f3-8764-68125db699a9",
   "metadata": {},
   "outputs": [],
   "source": [
    "var_bekk8<-VAR(bekk8data,p = 1,type = \"const\")\n",
    "res_bekk8 <- residuals(var_bekk8)\n",
    "res_bekk8 <- as.data.frame(res_bekk8)"
   ]
  },
  {
   "cell_type": "code",
   "execution_count": 83,
   "id": "a58f35a7-c6a6-49ee-9961-e1b3335de521",
   "metadata": {},
   "outputs": [
    {
     "data": {
      "text/plain": [
       "\n",
       "VAR Estimation Results:\n",
       "========================= \n",
       "Endogenous variables: lc, ghsgbp \n",
       "Deterministic variables: const \n",
       "Sample size: 1038 \n",
       "Log Likelihood: 6158.023 \n",
       "Roots of the characteristic polynomial:\n",
       "0.2756 0.005368\n",
       "Call:\n",
       "VAR(y = bekk8data, p = 1, type = \"const\")\n",
       "\n",
       "\n",
       "Estimation results for equation lc: \n",
       "=================================== \n",
       "lc = lc.l1 + ghsgbp.l1 + const \n",
       "\n",
       "            Estimate Std. Error t value Pr(>|t|)\n",
       "lc.l1     -0.0087915  0.0311440  -0.282    0.778\n",
       "ghsgbp.l1  0.0312662  0.0392391   0.797    0.426\n",
       "const     -0.0001261  0.0004438  -0.284    0.776\n",
       "\n",
       "\n",
       "Residual standard error: 0.0143 on 1035 degrees of freedom\n",
       "Multiple R-Squared: 0.0006666,\tAdjusted R-squared: -0.001264 \n",
       "F-statistic: 0.3452 on 2 and 1035 DF,  p-value: 0.7082 \n",
       "\n",
       "\n",
       "Estimation results for equation ghsgbp: \n",
       "======================================= \n",
       "ghsgbp = lc.l1 + ghsgbp.l1 + const \n",
       "\n",
       "            Estimate Std. Error t value Pr(>|t|)    \n",
       "lc.l1      0.0292071  0.0237805   1.228    0.220    \n",
       "ghsgbp.l1 -0.2721377  0.0299616  -9.083   <2e-16 ***\n",
       "const     -0.0001965  0.0003389  -0.580    0.562    \n",
       "---\n",
       "Signif. codes:  0 ‘***’ 0.001 ‘**’ 0.01 ‘*’ 0.05 ‘.’ 0.1 ‘ ’ 1\n",
       "\n",
       "\n",
       "Residual standard error: 0.01092 on 1035 degrees of freedom\n",
       "Multiple R-Squared: 0.07422,\tAdjusted R-squared: 0.07243 \n",
       "F-statistic: 41.49 on 2 and 1035 DF,  p-value: < 2.2e-16 \n",
       "\n",
       "\n",
       "\n",
       "Covariance matrix of residuals:\n",
       "              lc    ghsgbp\n",
       "lc     2.044e-04 1.076e-05\n",
       "ghsgbp 1.076e-05 1.192e-04\n",
       "\n",
       "Correlation matrix of residuals:\n",
       "            lc  ghsgbp\n",
       "lc     1.00000 0.06894\n",
       "ghsgbp 0.06894 1.00000\n",
       "\n"
      ]
     },
     "metadata": {},
     "output_type": "display_data"
    }
   ],
   "source": [
    "summary(var_bekk8)"
   ]
  },
  {
   "cell_type": "code",
   "execution_count": 84,
   "id": "195ec2e1-86c7-40e5-bd21-eb5ecedfdb75",
   "metadata": {},
   "outputs": [
    {
     "name": "stdout",
     "output_type": "stream",
     "text": [
      " Date[1:1038], format: \"2015-12-02\" \"2015-12-03\" \"2015-12-04\" \"2015-12-07\" \"2015-12-08\" ...\n"
     ]
    }
   ],
   "source": [
    "ind_var8 <- index(bekk8data)[-1]\n",
    "str(ind_var8)"
   ]
  },
  {
   "cell_type": "code",
   "execution_count": 85,
   "id": "e019b62f-30e5-4817-a895-ad5647ede54f",
   "metadata": {},
   "outputs": [],
   "source": [
    "res_bekk8 <- xts(res_bekk8,order.by = ind_var8)\n",
    "bekk_spec <- bekk_spec(model = list(type = \"bekk\",asymmetric = F))\n",
    "bekk8_fit <- bekk_fit(spec = bekk_spec,data = res_bekk8)"
   ]
  },
  {
   "cell_type": "code",
   "execution_count": 86,
   "id": "db12d067-300f-4c7a-92dd-2a97b0233970",
   "metadata": {},
   "outputs": [
    {
     "data": {
      "text/html": [
       "<table class=\"dataframe\">\n",
       "<caption>A matrix: 2 × 2 of type dbl</caption>\n",
       "<tbody>\n",
       "\t<tr><td> 0.16181746</td><td>0.08088821</td></tr>\n",
       "\t<tr><td>-0.01618575</td><td>0.39774999</td></tr>\n",
       "</tbody>\n",
       "</table>\n"
      ],
      "text/latex": [
       "A matrix: 2 × 2 of type dbl\n",
       "\\begin{tabular}{ll}\n",
       "\t  0.16181746 & 0.08088821\\\\\n",
       "\t -0.01618575 & 0.39774999\\\\\n",
       "\\end{tabular}\n"
      ],
      "text/markdown": [
       "\n",
       "A matrix: 2 × 2 of type dbl\n",
       "\n",
       "|  0.16181746 | 0.08088821 |\n",
       "| -0.01618575 | 0.39774999 |\n",
       "\n"
      ],
      "text/plain": [
       "     [,1]        [,2]      \n",
       "[1,]  0.16181746 0.08088821\n",
       "[2,] -0.01618575 0.39774999"
      ]
     },
     "metadata": {},
     "output_type": "display_data"
    },
    {
     "data": {
      "text/html": [
       "<table class=\"dataframe\">\n",
       "<caption>A matrix: 2 × 2 of type dbl</caption>\n",
       "<tbody>\n",
       "\t<tr><td> 5.3479359</td><td> 3.988333</td></tr>\n",
       "\t<tr><td>-0.4587112</td><td>16.207945</td></tr>\n",
       "</tbody>\n",
       "</table>\n"
      ],
      "text/latex": [
       "A matrix: 2 × 2 of type dbl\n",
       "\\begin{tabular}{ll}\n",
       "\t  5.3479359 &  3.988333\\\\\n",
       "\t -0.4587112 & 16.207945\\\\\n",
       "\\end{tabular}\n"
      ],
      "text/markdown": [
       "\n",
       "A matrix: 2 × 2 of type dbl\n",
       "\n",
       "|  5.3479359 |  3.988333 |\n",
       "| -0.4587112 | 16.207945 |\n",
       "\n"
      ],
      "text/plain": [
       "     [,1]       [,2]     \n",
       "[1,]  5.3479359  3.988333\n",
       "[2,] -0.4587112 16.207945"
      ]
     },
     "metadata": {},
     "output_type": "display_data"
    },
    {
     "data": {
      "text/html": [
       "<table class=\"dataframe\">\n",
       "<caption>A matrix: 2 × 2 of type dbl</caption>\n",
       "<tbody>\n",
       "\t<tr><td> 0.974735198</td><td>-0.01257916</td></tr>\n",
       "\t<tr><td>-0.003215805</td><td> 0.89499767</td></tr>\n",
       "</tbody>\n",
       "</table>\n"
      ],
      "text/latex": [
       "A matrix: 2 × 2 of type dbl\n",
       "\\begin{tabular}{ll}\n",
       "\t  0.974735198 & -0.01257916\\\\\n",
       "\t -0.003215805 &  0.89499767\\\\\n",
       "\\end{tabular}\n"
      ],
      "text/markdown": [
       "\n",
       "A matrix: 2 × 2 of type dbl\n",
       "\n",
       "|  0.974735198 | -0.01257916 |\n",
       "| -0.003215805 |  0.89499767 |\n",
       "\n"
      ],
      "text/plain": [
       "     [,1]         [,2]       \n",
       "[1,]  0.974735198 -0.01257916\n",
       "[2,] -0.003215805  0.89499767"
      ]
     },
     "metadata": {},
     "output_type": "display_data"
    },
    {
     "data": {
      "text/html": [
       "<table class=\"dataframe\">\n",
       "<caption>A matrix: 2 × 2 of type dbl</caption>\n",
       "<tbody>\n",
       "\t<tr><td>89.3073457</td><td>-0.8833952</td></tr>\n",
       "\t<tr><td>-0.1777962</td><td>68.7900815</td></tr>\n",
       "</tbody>\n",
       "</table>\n"
      ],
      "text/latex": [
       "A matrix: 2 × 2 of type dbl\n",
       "\\begin{tabular}{ll}\n",
       "\t 89.3073457 & -0.8833952\\\\\n",
       "\t -0.1777962 & 68.7900815\\\\\n",
       "\\end{tabular}\n"
      ],
      "text/markdown": [
       "\n",
       "A matrix: 2 × 2 of type dbl\n",
       "\n",
       "| 89.3073457 | -0.8833952 |\n",
       "| -0.1777962 | 68.7900815 |\n",
       "\n"
      ],
      "text/plain": [
       "     [,1]       [,2]      \n",
       "[1,] 89.3073457 -0.8833952\n",
       "[2,] -0.1777962 68.7900815"
      ]
     },
     "metadata": {},
     "output_type": "display_data"
    }
   ],
   "source": [
    "bekk8_fit$A\n",
    "bekk8_fit$A_t\n",
    "bekk8_fit$G\n",
    "bekk8_fit$G_t"
   ]
  },
  {
   "cell_type": "markdown",
   "id": "9f1194e1-a4b6-4a1a-9cce-7a15ce04bb3d",
   "metadata": {},
   "source": [
    "### VAR-BEKK Model Table for London Cocoa - GHSGBP"
   ]
  },
  {
   "cell_type": "code",
   "execution_count": 87,
   "id": "46f3b2a4-7466-494c-a9c7-cef6a5c9d083",
   "metadata": {},
   "outputs": [
    {
     "data": {
      "text/html": [
       "<table class=\"dataframe\">\n",
       "<caption>A data.frame: 14 × 5</caption>\n",
       "<thead>\n",
       "\t<tr><th scope=col>Parameters</th><th scope=col>Coefficient</th><th scope=col>Std_error</th><th scope=col>T_value</th><th scope=col>Significant_at_5p_level</th></tr>\n",
       "\t<tr><th scope=col>&lt;chr&gt;</th><th scope=col>&lt;dbl&gt;</th><th scope=col>&lt;dbl&gt;</th><th scope=col>&lt;dbl&gt;</th><th scope=col>&lt;chr&gt;</th></tr>\n",
       "</thead>\n",
       "<tbody>\n",
       "\t<tr><td>mu10 </td><td>-0.0001260913</td><td>0.0004438080</td><td>-0.2841122</td><td>Not Statistically Significant</td></tr>\n",
       "\t<tr><td>mu20 </td><td>-0.0001964596</td><td>0.0003388764</td><td>-0.5797383</td><td>Not Statistically Significant</td></tr>\n",
       "\t<tr><td>phi11</td><td>-0.0087914776</td><td>0.0311440053</td><td>-0.2822847</td><td>Not Statistically Significant</td></tr>\n",
       "\t<tr><td>phi12</td><td> 0.0312662142</td><td>0.0392391144</td><td> 0.7968124</td><td>Not Statistically Significant</td></tr>\n",
       "\t<tr><td>phi21</td><td> 0.0292070711</td><td>0.0237804815</td><td> 1.2281951</td><td>Not Statistically Significant</td></tr>\n",
       "\t<tr><td>phi22</td><td>-0.2721377420</td><td>0.0299616259</td><td>-9.0828763</td><td>Stat significant at 1%       </td></tr>\n",
       "\t<tr><td>a11  </td><td> 0.1618174569</td><td>0.0302579273</td><td> 5.3479359</td><td>Stat significant at 1%       </td></tr>\n",
       "\t<tr><td>a12  </td><td> 0.0808882097</td><td>0.0202812065</td><td> 3.9883332</td><td>Stat significant at 1%       </td></tr>\n",
       "\t<tr><td>a21  </td><td>-0.0161857539</td><td>0.0352852849</td><td>-0.4587112</td><td>Not Statistically Significant</td></tr>\n",
       "\t<tr><td>a22  </td><td> 0.3977499921</td><td>0.0245404328</td><td>16.2079453</td><td>Stat significant at 1%       </td></tr>\n",
       "\t<tr><td>g11  </td><td> 0.9747351981</td><td>0.0109143900</td><td>89.3073457</td><td>Stat significant at 1%       </td></tr>\n",
       "\t<tr><td>g12  </td><td>-0.0125791585</td><td>0.0142395597</td><td>-0.8833952</td><td>Not Statistically Significant</td></tr>\n",
       "\t<tr><td>g21  </td><td>-0.0032158053</td><td>0.0180870308</td><td>-0.1777962</td><td>Not Statistically Significant</td></tr>\n",
       "\t<tr><td>g22  </td><td> 0.8949976727</td><td>0.0130105628</td><td>68.7900815</td><td>Stat significant at 1%       </td></tr>\n",
       "</tbody>\n",
       "</table>\n"
      ],
      "text/latex": [
       "A data.frame: 14 × 5\n",
       "\\begin{tabular}{lllll}\n",
       " Parameters & Coefficient & Std\\_error & T\\_value & Significant\\_at\\_5p\\_level\\\\\n",
       " <chr> & <dbl> & <dbl> & <dbl> & <chr>\\\\\n",
       "\\hline\n",
       "\t mu10  & -0.0001260913 & 0.0004438080 & -0.2841122 & Not Statistically Significant\\\\\n",
       "\t mu20  & -0.0001964596 & 0.0003388764 & -0.5797383 & Not Statistically Significant\\\\\n",
       "\t phi11 & -0.0087914776 & 0.0311440053 & -0.2822847 & Not Statistically Significant\\\\\n",
       "\t phi12 &  0.0312662142 & 0.0392391144 &  0.7968124 & Not Statistically Significant\\\\\n",
       "\t phi21 &  0.0292070711 & 0.0237804815 &  1.2281951 & Not Statistically Significant\\\\\n",
       "\t phi22 & -0.2721377420 & 0.0299616259 & -9.0828763 & Stat significant at 1\\%       \\\\\n",
       "\t a11   &  0.1618174569 & 0.0302579273 &  5.3479359 & Stat significant at 1\\%       \\\\\n",
       "\t a12   &  0.0808882097 & 0.0202812065 &  3.9883332 & Stat significant at 1\\%       \\\\\n",
       "\t a21   & -0.0161857539 & 0.0352852849 & -0.4587112 & Not Statistically Significant\\\\\n",
       "\t a22   &  0.3977499921 & 0.0245404328 & 16.2079453 & Stat significant at 1\\%       \\\\\n",
       "\t g11   &  0.9747351981 & 0.0109143900 & 89.3073457 & Stat significant at 1\\%       \\\\\n",
       "\t g12   & -0.0125791585 & 0.0142395597 & -0.8833952 & Not Statistically Significant\\\\\n",
       "\t g21   & -0.0032158053 & 0.0180870308 & -0.1777962 & Not Statistically Significant\\\\\n",
       "\t g22   &  0.8949976727 & 0.0130105628 & 68.7900815 & Stat significant at 1\\%       \\\\\n",
       "\\end{tabular}\n"
      ],
      "text/markdown": [
       "\n",
       "A data.frame: 14 × 5\n",
       "\n",
       "| Parameters &lt;chr&gt; | Coefficient &lt;dbl&gt; | Std_error &lt;dbl&gt; | T_value &lt;dbl&gt; | Significant_at_5p_level &lt;chr&gt; |\n",
       "|---|---|---|---|---|\n",
       "| mu10  | -0.0001260913 | 0.0004438080 | -0.2841122 | Not Statistically Significant |\n",
       "| mu20  | -0.0001964596 | 0.0003388764 | -0.5797383 | Not Statistically Significant |\n",
       "| phi11 | -0.0087914776 | 0.0311440053 | -0.2822847 | Not Statistically Significant |\n",
       "| phi12 |  0.0312662142 | 0.0392391144 |  0.7968124 | Not Statistically Significant |\n",
       "| phi21 |  0.0292070711 | 0.0237804815 |  1.2281951 | Not Statistically Significant |\n",
       "| phi22 | -0.2721377420 | 0.0299616259 | -9.0828763 | Stat significant at 1%        |\n",
       "| a11   |  0.1618174569 | 0.0302579273 |  5.3479359 | Stat significant at 1%        |\n",
       "| a12   |  0.0808882097 | 0.0202812065 |  3.9883332 | Stat significant at 1%        |\n",
       "| a21   | -0.0161857539 | 0.0352852849 | -0.4587112 | Not Statistically Significant |\n",
       "| a22   |  0.3977499921 | 0.0245404328 | 16.2079453 | Stat significant at 1%        |\n",
       "| g11   |  0.9747351981 | 0.0109143900 | 89.3073457 | Stat significant at 1%        |\n",
       "| g12   | -0.0125791585 | 0.0142395597 | -0.8833952 | Not Statistically Significant |\n",
       "| g21   | -0.0032158053 | 0.0180870308 | -0.1777962 | Not Statistically Significant |\n",
       "| g22   |  0.8949976727 | 0.0130105628 | 68.7900815 | Stat significant at 1%        |\n",
       "\n"
      ],
      "text/plain": [
       "   Parameters Coefficient   Std_error    T_value   \n",
       "1  mu10       -0.0001260913 0.0004438080 -0.2841122\n",
       "2  mu20       -0.0001964596 0.0003388764 -0.5797383\n",
       "3  phi11      -0.0087914776 0.0311440053 -0.2822847\n",
       "4  phi12       0.0312662142 0.0392391144  0.7968124\n",
       "5  phi21       0.0292070711 0.0237804815  1.2281951\n",
       "6  phi22      -0.2721377420 0.0299616259 -9.0828763\n",
       "7  a11         0.1618174569 0.0302579273  5.3479359\n",
       "8  a12         0.0808882097 0.0202812065  3.9883332\n",
       "9  a21        -0.0161857539 0.0352852849 -0.4587112\n",
       "10 a22         0.3977499921 0.0245404328 16.2079453\n",
       "11 g11         0.9747351981 0.0109143900 89.3073457\n",
       "12 g12        -0.0125791585 0.0142395597 -0.8833952\n",
       "13 g21        -0.0032158053 0.0180870308 -0.1777962\n",
       "14 g22         0.8949976727 0.0130105628 68.7900815\n",
       "   Significant_at_5p_level      \n",
       "1  Not Statistically Significant\n",
       "2  Not Statistically Significant\n",
       "3  Not Statistically Significant\n",
       "4  Not Statistically Significant\n",
       "5  Not Statistically Significant\n",
       "6  Stat significant at 1%       \n",
       "7  Stat significant at 1%       \n",
       "8  Stat significant at 1%       \n",
       "9  Not Statistically Significant\n",
       "10 Stat significant at 1%       \n",
       "11 Stat significant at 1%       \n",
       "12 Not Statistically Significant\n",
       "13 Not Statistically Significant\n",
       "14 Stat significant at 1%       "
      ]
     },
     "metadata": {},
     "output_type": "display_data"
    }
   ],
   "source": [
    "bekk8 <- data.frame(Parameters = c(\"mu10\",\"mu20\",\"phi11\",\"phi12\",\"phi21\",\"phi22\",\"a11\",\"a12\",\"a21\",\"a22\",\"g11\",\"g12\",\"g21\",\"g22\"),\n",
    "                   Coefficient = c(summary(var_bekk8)$varresult$lc$coefficients[\"const\",\"Estimate\"],summary(var_bekk8)$varresult$ghsgbp$coefficients[\"const\",\"Estimate\"],\n",
    "                                   summary(var_bekk8)$varresult$lc$coefficients[\"lc.l1\",\"Estimate\"],summary(var_bekk8)$varresult$lc$coefficients[\"ghsgbp.l1\",\"Estimate\"],\n",
    "                                   summary(var_bekk8)$varresult$ghsgbp$coefficients[\"lc.l1\",\"Estimate\"],summary(var_bekk8)$varresult$ghsgbp$coefficients[\"ghsgbp.l1\",\"Estimate\"],\n",
    "                                   bekk8_fit$A[1,1],bekk8_fit$A[1,2],bekk8_fit$A[2,1],bekk8_fit$A[2,2],bekk8_fit$G[1,1],bekk8_fit$G[1,2],bekk8_fit$G[2,1],bekk8_fit$G[2,2]),\n",
    "                   Std_error = c(summary(var_bekk8)$varresult$lc$coefficients[\"const\",\"Std. Error\"],summary(var_bekk8)$varresult$ghsgbp$coefficients[\"const\",\"Std. Error\"],\n",
    "                                   summary(var_bekk8)$varresult$lc$coefficients[\"lc.l1\",\"Std. Error\"],summary(var_bekk8)$varresult$lc$coefficients[\"ghsgbp.l1\",\"Std. Error\"],\n",
    "                                   summary(var_bekk8)$varresult$ghsgbp$coefficients[\"lc.l1\",\"Std. Error\"],summary(var_bekk8)$varresult$ghsgbp$coefficients[\"ghsgbp.l1\",\"Std. Error\"],\n",
    "                                   bekk8_fit$A_sd[1,1],bekk8_fit$A_sd[1,2],bekk8_fit$A_sd[2,1],bekk8_fit$A_sd[2,2],bekk8_fit$G_sd[1,1],bekk8_fit$G_sd[1,2],bekk8_fit$G_sd[2,1],bekk8_fit$G_sd[2,2]),\n",
    "                   T_value = c(summary(var_bekk8)$varresult$lc$coefficients[\"const\",\"t value\"],summary(var_bekk8)$varresult$ghsgbp$coefficients[\"const\",\"t value\"],\n",
    "                                   summary(var_bekk8)$varresult$lc$coefficients[\"lc.l1\",\"t value\"],summary(var_bekk8)$varresult$lc$coefficients[\"ghsgbp.l1\",\"t value\"],\n",
    "                                   summary(var_bekk8)$varresult$ghsgbp$coefficients[\"lc.l1\",\"t value\"],summary(var_bekk8)$varresult$ghsgbp$coefficients[\"ghsgbp.l1\",\"t value\"],\n",
    "                                   bekk8_fit$A_t[1,1],bekk8_fit$A_t[1,2],bekk8_fit$A_t[2,1],bekk8_fit$A_t[2,2],bekk8_fit$G_t[1,1],bekk8_fit$G_t[1,2],bekk8_fit$G_t[2,1],bekk8_fit$G_t[2,2]))\n",
    "\n",
    "bekk8$Significant_at_5p_level[abs(bekk8$T_value) >= 2.58 ] <- \"Stat significant at 1%\"\n",
    "bekk8$Significant_at_5p_level[abs(bekk8$T_value) > 1.96 & abs(bekk8$T_value) < 2.58] <- \"Stat significant at 5%\"\n",
    "bekk8$Significant_at_5p_level[abs(bekk8$T_value) > 1.645 & abs(bekk8$T_value) <= 1.96 ] <- \"Stat significant at 10%\"\n",
    "bekk8$Significant_at_5p_level[abs(bekk8$T_value) <= 1.645] <- \"Not Statistically Significant\"\n",
    "bekk8"
   ]
  },
  {
   "cell_type": "code",
   "execution_count": 88,
   "id": "67d0f9cc-4232-4af1-91a3-c8672fa92f34",
   "metadata": {},
   "outputs": [
    {
     "data": {
      "text/plain": [
       "\n",
       "\tGranger causality H0: lc do not Granger-cause ghsgbp\n",
       "\n",
       "data:  VAR object var_bekk8\n",
       "F-Test = 1.5085, df1 = 1, df2 = 2070, p-value = 0.2195\n"
      ]
     },
     "metadata": {},
     "output_type": "display_data"
    },
    {
     "data": {
      "text/plain": [
       "\n",
       "\tGranger causality H0: ghsgbp do not Granger-cause lc\n",
       "\n",
       "data:  VAR object var_bekk8\n",
       "F-Test = 0.63491, df1 = 1, df2 = 2070, p-value = 0.4257\n"
      ]
     },
     "metadata": {},
     "output_type": "display_data"
    }
   ],
   "source": [
    "causality(var_bekk8,cause = \"lc\")$Granger\n",
    "causality(var_bekk8,cause = \"ghsgbp\")$Granger"
   ]
  },
  {
   "cell_type": "markdown",
   "id": "c17a98ef-e4f1-429b-a63b-ab409c50bdd0",
   "metadata": {},
   "source": [
    "# Summary of Period 3 models"
   ]
  },
  {
   "cell_type": "code",
   "execution_count": 89,
   "id": "617b82b4-abf1-4658-bb2b-10e4e6433897",
   "metadata": {},
   "outputs": [],
   "source": [
    "bekk_c <- rep(NA,14)\n",
    "for(i in 1:14){\n",
    "    bekk_c[i] = paste0(round(bekkc[i,2],4),\" (\",round(bekkc[i,3],4),\")\")\n",
    "}\n",
    "\n",
    "bekk_1 <- rep(NA,14)\n",
    "for(i in 1:14){\n",
    "    bekk_1[i] = paste0(round(bekk1[i,2],4),\" (\",round(bekk1[i,3],4),\")\")\n",
    "}\n",
    "\n",
    "bekk_2 <- rep(NA,14)\n",
    "for(i in 1:14){\n",
    "    bekk_2[i] = paste0(round(bekk2[i,2],4),\" (\",round(bekk2[i,3],4),\")\")\n",
    "}\n",
    "\n",
    "bekk_3 <- rep(NA,14)\n",
    "for(i in 1:14){\n",
    "    bekk_3[i] = paste0(round(bekk3[i,2],4),\" (\",round(bekk3[i,3],4),\")\")\n",
    "}\n",
    "\n",
    "bekk_4 <- rep(NA,14)\n",
    "for(i in 1:14){\n",
    "    bekk_4[i] = paste0(round(bekk4[i,2],4),\" (\",round(bekk4[i,3],4),\")\")\n",
    "}\n",
    "\n",
    "bekk_5 <- rep(NA,14)\n",
    "for(i in 1:14){\n",
    "    bekk_5[i] = paste0(round(bekk5[i,2],4),\" (\",round(bekk5[i,3],4),\")\")\n",
    "}\n",
    "\n",
    "bekk_6 <- rep(NA,14)\n",
    "for(i in 1:14){\n",
    "    bekk_6[i] = paste0(round(bekk6[i,2],4),\" (\",round(bekk6[i,3],4),\")\")\n",
    "}\n",
    "\n",
    "bekk_7 <- rep(NA,14)\n",
    "for(i in 1:14){\n",
    "    bekk_7[i] = paste0(round(bekk7[i,2],4),\" (\",round(bekk7[i,3],4),\")\")\n",
    "}\n",
    "\n",
    "\n",
    "bekk_8 <- rep(NA,14)\n",
    "for(i in 1:14){\n",
    "    bekk_8[i] = paste0(round(bekk8[i,2],4),\" (\",round(bekk8[i,3],4),\")\")\n",
    "}"
   ]
  },
  {
   "cell_type": "code",
   "execution_count": 90,
   "id": "e21329df-465d-47c5-9f76-0c9d05d7af6a",
   "metadata": {},
   "outputs": [
    {
     "data": {
      "text/html": [
       "<table class=\"dataframe\">\n",
       "<caption>A data.frame: 14 × 10</caption>\n",
       "<thead>\n",
       "\t<tr><th scope=col>Parameters</th><th scope=col>BEKKC</th><th scope=col>BEKK1</th><th scope=col>BEKK2</th><th scope=col>BEKK3</th><th scope=col>BEKK4</th><th scope=col>BEKK5</th><th scope=col>BEKK6</th><th scope=col>BEKK7</th><th scope=col>BEKK8</th></tr>\n",
       "\t<tr><th scope=col>&lt;chr&gt;</th><th scope=col>&lt;chr&gt;</th><th scope=col>&lt;chr&gt;</th><th scope=col>&lt;chr&gt;</th><th scope=col>&lt;chr&gt;</th><th scope=col>&lt;chr&gt;</th><th scope=col>&lt;chr&gt;</th><th scope=col>&lt;chr&gt;</th><th scope=col>&lt;chr&gt;</th><th scope=col>&lt;chr&gt;</th></tr>\n",
       "</thead>\n",
       "<tbody>\n",
       "\t<tr><td>mu10 </td><td>-2e-04 (5e-04)  </td><td>-2e-04 (5e-04)  </td><td>-2e-04 (5e-04)  </td><td>-2e-04 (5e-04)  </td><td>-1e-04 (4e-04)  </td><td>-1e-04 (4e-04)  </td><td>-1e-04 (4e-04)  </td><td>-2e-04 (5e-04)  </td><td>-1e-04 (4e-04)  </td></tr>\n",
       "\t<tr><td>mu20 </td><td>-1e-04 (4e-04)  </td><td>0 (1e-04)       </td><td>-1e-04 (2e-04)  </td><td>1e-04 (1e-04)   </td><td>1e-04 (2e-04)   </td><td>2e-04 (2e-04)   </td><td>2e-04 (2e-04)   </td><td>-4e-04 (3e-04)  </td><td>-2e-04 (3e-04)  </td></tr>\n",
       "\t<tr><td>phi11</td><td>-0.0683 (0.0647)</td><td>-0.0379 (0.0314)</td><td>-0.0405 (0.0317)</td><td>-0.0362 (0.0311)</td><td>-0.0108 (0.0312)</td><td>-0.0116 (0.0313)</td><td>-0.0106 (0.0312)</td><td>-0.0311 (0.0311)</td><td>-0.0088 (0.0311)</td></tr>\n",
       "\t<tr><td>phi12</td><td>0.0507 (0.077)  </td><td>0.1748 (0.1179) </td><td>0.1249 (0.0851) </td><td>0.2497 (0.1215) </td><td>0.0838 (0.0703) </td><td>0.1001 (0.0823) </td><td>0.0933 (0.074)  </td><td>0.0175 (0.057)  </td><td>0.0313 (0.0392) </td></tr>\n",
       "\t<tr><td>phi21</td><td>-0.037 (0.0543) </td><td>0.0148 (0.0084) </td><td>0.0038 (0.0118) </td><td>0.0038 (0.008)  </td><td>-0.0019 (0.0139)</td><td>0.0124 (0.0119) </td><td>0.0017 (0.0131) </td><td>0.0279 (0.0157) </td><td>0.0292 (0.0238) </td></tr>\n",
       "\t<tr><td>phi22</td><td>0.0314 (0.0647) </td><td>-0.0524 (0.0314)</td><td>0.0168 (0.0318) </td><td>0.0027 (0.0312) </td><td>0.0182 (0.0312) </td><td>0.0317 (0.0312) </td><td>0.0279 (0.0312) </td><td>-0.3821 (0.0287)</td><td>-0.2721 (0.03)  </td></tr>\n",
       "\t<tr><td>a11  </td><td>0.1091 (0.0816) </td><td>0.1486 (0.0228) </td><td>0.1268 (0.0296) </td><td>0.1811 (0.0393) </td><td>0.1701 (0.0305) </td><td>0.1718 (0.0323) </td><td>0.1641 (0.0274) </td><td>0.1109 (0.0243) </td><td>0.1618 (0.0303) </td></tr>\n",
       "\t<tr><td>a12  </td><td>-0.1915 (0.0704)</td><td>0.0368 (0.0109) </td><td>-0.0121 (0.0138)</td><td>0.0283 (0.0159) </td><td>1e-04 (0.0171)  </td><td>0.005 (0.0145)  </td><td>0.0253 (0.0155) </td><td>-0.0178 (0.0099)</td><td>0.0809 (0.0203) </td></tr>\n",
       "\t<tr><td>a21  </td><td>0.0797 (0.0898) </td><td>0.4707 (0.0783) </td><td>0.1723 (0.0779) </td><td>0.4813 (0.1545) </td><td>0.0251 (0.0817) </td><td>0.0404 (0.0905) </td><td>0.0305 (0.0761) </td><td>-0.0339 (0.0423)</td><td>-0.0162 (0.0353)</td></tr>\n",
       "\t<tr><td>a22  </td><td>0.3808 (0.08)   </td><td>0.1076 (0.0342) </td><td>0.3763 (0.0364) </td><td>0.1822 (0.0629) </td><td>0.3669 (0.0285) </td><td>0.2885 (0.0273) </td><td>0.3776 (0.0307) </td><td>0.4002 (0.0223) </td><td>0.3977 (0.0245) </td></tr>\n",
       "\t<tr><td>g11  </td><td>1.0164 (0.048)  </td><td>0.9192 (0.0209) </td><td>0.9865 (0.0089) </td><td>0.9361 (0.0309) </td><td>0.9743 (0.0108) </td><td>0.9719 (0.0127) </td><td>0.976 (0.0097)  </td><td>0.9891 (0.0068) </td><td>0.9747 (0.0109) </td></tr>\n",
       "\t<tr><td>g12  </td><td>0.148 (0.0463)  </td><td>-0.0312 (0.0085)</td><td>8e-04 (0.0074)  </td><td>-0.0237 (0.0137)</td><td>0.0025 (0.0085) </td><td>0.0015 (0.0068) </td><td>-0.0061 (0.0086)</td><td>7e-04 (0.0082)  </td><td>-0.0126 (0.0142)</td></tr>\n",
       "\t<tr><td>g21  </td><td>-0.0462 (0.0535)</td><td>-0.079 (0.0541) </td><td>-0.0882 (0.0412)</td><td>-0.3412 (0.1945)</td><td>0.0078 (0.0365) </td><td>0.0051 (0.0334) </td><td>0.0063 (0.03)   </td><td>0.0078 (0.0192) </td><td>-0.0032 (0.0181)</td></tr>\n",
       "\t<tr><td>g22  </td><td>0.8099 (0.0509) </td><td>0.958 (0.0217)  </td><td>0.879 (0.0291)  </td><td>0.8297 (0.0455) </td><td>0.8755 (0.0257) </td><td>0.9379 (0.0133) </td><td>0.8872 (0.0215) </td><td>0.906 (0.0085)  </td><td>0.895 (0.013)   </td></tr>\n",
       "</tbody>\n",
       "</table>\n"
      ],
      "text/latex": [
       "A data.frame: 14 × 10\n",
       "\\begin{tabular}{llllllllll}\n",
       " Parameters & BEKKC & BEKK1 & BEKK2 & BEKK3 & BEKK4 & BEKK5 & BEKK6 & BEKK7 & BEKK8\\\\\n",
       " <chr> & <chr> & <chr> & <chr> & <chr> & <chr> & <chr> & <chr> & <chr> & <chr>\\\\\n",
       "\\hline\n",
       "\t mu10  & -2e-04 (5e-04)   & -2e-04 (5e-04)   & -2e-04 (5e-04)   & -2e-04 (5e-04)   & -1e-04 (4e-04)   & -1e-04 (4e-04)   & -1e-04 (4e-04)   & -2e-04 (5e-04)   & -1e-04 (4e-04)  \\\\\n",
       "\t mu20  & -1e-04 (4e-04)   & 0 (1e-04)        & -1e-04 (2e-04)   & 1e-04 (1e-04)    & 1e-04 (2e-04)    & 2e-04 (2e-04)    & 2e-04 (2e-04)    & -4e-04 (3e-04)   & -2e-04 (3e-04)  \\\\\n",
       "\t phi11 & -0.0683 (0.0647) & -0.0379 (0.0314) & -0.0405 (0.0317) & -0.0362 (0.0311) & -0.0108 (0.0312) & -0.0116 (0.0313) & -0.0106 (0.0312) & -0.0311 (0.0311) & -0.0088 (0.0311)\\\\\n",
       "\t phi12 & 0.0507 (0.077)   & 0.1748 (0.1179)  & 0.1249 (0.0851)  & 0.2497 (0.1215)  & 0.0838 (0.0703)  & 0.1001 (0.0823)  & 0.0933 (0.074)   & 0.0175 (0.057)   & 0.0313 (0.0392) \\\\\n",
       "\t phi21 & -0.037 (0.0543)  & 0.0148 (0.0084)  & 0.0038 (0.0118)  & 0.0038 (0.008)   & -0.0019 (0.0139) & 0.0124 (0.0119)  & 0.0017 (0.0131)  & 0.0279 (0.0157)  & 0.0292 (0.0238) \\\\\n",
       "\t phi22 & 0.0314 (0.0647)  & -0.0524 (0.0314) & 0.0168 (0.0318)  & 0.0027 (0.0312)  & 0.0182 (0.0312)  & 0.0317 (0.0312)  & 0.0279 (0.0312)  & -0.3821 (0.0287) & -0.2721 (0.03)  \\\\\n",
       "\t a11   & 0.1091 (0.0816)  & 0.1486 (0.0228)  & 0.1268 (0.0296)  & 0.1811 (0.0393)  & 0.1701 (0.0305)  & 0.1718 (0.0323)  & 0.1641 (0.0274)  & 0.1109 (0.0243)  & 0.1618 (0.0303) \\\\\n",
       "\t a12   & -0.1915 (0.0704) & 0.0368 (0.0109)  & -0.0121 (0.0138) & 0.0283 (0.0159)  & 1e-04 (0.0171)   & 0.005 (0.0145)   & 0.0253 (0.0155)  & -0.0178 (0.0099) & 0.0809 (0.0203) \\\\\n",
       "\t a21   & 0.0797 (0.0898)  & 0.4707 (0.0783)  & 0.1723 (0.0779)  & 0.4813 (0.1545)  & 0.0251 (0.0817)  & 0.0404 (0.0905)  & 0.0305 (0.0761)  & -0.0339 (0.0423) & -0.0162 (0.0353)\\\\\n",
       "\t a22   & 0.3808 (0.08)    & 0.1076 (0.0342)  & 0.3763 (0.0364)  & 0.1822 (0.0629)  & 0.3669 (0.0285)  & 0.2885 (0.0273)  & 0.3776 (0.0307)  & 0.4002 (0.0223)  & 0.3977 (0.0245) \\\\\n",
       "\t g11   & 1.0164 (0.048)   & 0.9192 (0.0209)  & 0.9865 (0.0089)  & 0.9361 (0.0309)  & 0.9743 (0.0108)  & 0.9719 (0.0127)  & 0.976 (0.0097)   & 0.9891 (0.0068)  & 0.9747 (0.0109) \\\\\n",
       "\t g12   & 0.148 (0.0463)   & -0.0312 (0.0085) & 8e-04 (0.0074)   & -0.0237 (0.0137) & 0.0025 (0.0085)  & 0.0015 (0.0068)  & -0.0061 (0.0086) & 7e-04 (0.0082)   & -0.0126 (0.0142)\\\\\n",
       "\t g21   & -0.0462 (0.0535) & -0.079 (0.0541)  & -0.0882 (0.0412) & -0.3412 (0.1945) & 0.0078 (0.0365)  & 0.0051 (0.0334)  & 0.0063 (0.03)    & 0.0078 (0.0192)  & -0.0032 (0.0181)\\\\\n",
       "\t g22   & 0.8099 (0.0509)  & 0.958 (0.0217)   & 0.879 (0.0291)   & 0.8297 (0.0455)  & 0.8755 (0.0257)  & 0.9379 (0.0133)  & 0.8872 (0.0215)  & 0.906 (0.0085)   & 0.895 (0.013)   \\\\\n",
       "\\end{tabular}\n"
      ],
      "text/markdown": [
       "\n",
       "A data.frame: 14 × 10\n",
       "\n",
       "| Parameters &lt;chr&gt; | BEKKC &lt;chr&gt; | BEKK1 &lt;chr&gt; | BEKK2 &lt;chr&gt; | BEKK3 &lt;chr&gt; | BEKK4 &lt;chr&gt; | BEKK5 &lt;chr&gt; | BEKK6 &lt;chr&gt; | BEKK7 &lt;chr&gt; | BEKK8 &lt;chr&gt; |\n",
       "|---|---|---|---|---|---|---|---|---|---|\n",
       "| mu10  | -2e-04 (5e-04)   | -2e-04 (5e-04)   | -2e-04 (5e-04)   | -2e-04 (5e-04)   | -1e-04 (4e-04)   | -1e-04 (4e-04)   | -1e-04 (4e-04)   | -2e-04 (5e-04)   | -1e-04 (4e-04)   |\n",
       "| mu20  | -1e-04 (4e-04)   | 0 (1e-04)        | -1e-04 (2e-04)   | 1e-04 (1e-04)    | 1e-04 (2e-04)    | 2e-04 (2e-04)    | 2e-04 (2e-04)    | -4e-04 (3e-04)   | -2e-04 (3e-04)   |\n",
       "| phi11 | -0.0683 (0.0647) | -0.0379 (0.0314) | -0.0405 (0.0317) | -0.0362 (0.0311) | -0.0108 (0.0312) | -0.0116 (0.0313) | -0.0106 (0.0312) | -0.0311 (0.0311) | -0.0088 (0.0311) |\n",
       "| phi12 | 0.0507 (0.077)   | 0.1748 (0.1179)  | 0.1249 (0.0851)  | 0.2497 (0.1215)  | 0.0838 (0.0703)  | 0.1001 (0.0823)  | 0.0933 (0.074)   | 0.0175 (0.057)   | 0.0313 (0.0392)  |\n",
       "| phi21 | -0.037 (0.0543)  | 0.0148 (0.0084)  | 0.0038 (0.0118)  | 0.0038 (0.008)   | -0.0019 (0.0139) | 0.0124 (0.0119)  | 0.0017 (0.0131)  | 0.0279 (0.0157)  | 0.0292 (0.0238)  |\n",
       "| phi22 | 0.0314 (0.0647)  | -0.0524 (0.0314) | 0.0168 (0.0318)  | 0.0027 (0.0312)  | 0.0182 (0.0312)  | 0.0317 (0.0312)  | 0.0279 (0.0312)  | -0.3821 (0.0287) | -0.2721 (0.03)   |\n",
       "| a11   | 0.1091 (0.0816)  | 0.1486 (0.0228)  | 0.1268 (0.0296)  | 0.1811 (0.0393)  | 0.1701 (0.0305)  | 0.1718 (0.0323)  | 0.1641 (0.0274)  | 0.1109 (0.0243)  | 0.1618 (0.0303)  |\n",
       "| a12   | -0.1915 (0.0704) | 0.0368 (0.0109)  | -0.0121 (0.0138) | 0.0283 (0.0159)  | 1e-04 (0.0171)   | 0.005 (0.0145)   | 0.0253 (0.0155)  | -0.0178 (0.0099) | 0.0809 (0.0203)  |\n",
       "| a21   | 0.0797 (0.0898)  | 0.4707 (0.0783)  | 0.1723 (0.0779)  | 0.4813 (0.1545)  | 0.0251 (0.0817)  | 0.0404 (0.0905)  | 0.0305 (0.0761)  | -0.0339 (0.0423) | -0.0162 (0.0353) |\n",
       "| a22   | 0.3808 (0.08)    | 0.1076 (0.0342)  | 0.3763 (0.0364)  | 0.1822 (0.0629)  | 0.3669 (0.0285)  | 0.2885 (0.0273)  | 0.3776 (0.0307)  | 0.4002 (0.0223)  | 0.3977 (0.0245)  |\n",
       "| g11   | 1.0164 (0.048)   | 0.9192 (0.0209)  | 0.9865 (0.0089)  | 0.9361 (0.0309)  | 0.9743 (0.0108)  | 0.9719 (0.0127)  | 0.976 (0.0097)   | 0.9891 (0.0068)  | 0.9747 (0.0109)  |\n",
       "| g12   | 0.148 (0.0463)   | -0.0312 (0.0085) | 8e-04 (0.0074)   | -0.0237 (0.0137) | 0.0025 (0.0085)  | 0.0015 (0.0068)  | -0.0061 (0.0086) | 7e-04 (0.0082)   | -0.0126 (0.0142) |\n",
       "| g21   | -0.0462 (0.0535) | -0.079 (0.0541)  | -0.0882 (0.0412) | -0.3412 (0.1945) | 0.0078 (0.0365)  | 0.0051 (0.0334)  | 0.0063 (0.03)    | 0.0078 (0.0192)  | -0.0032 (0.0181) |\n",
       "| g22   | 0.8099 (0.0509)  | 0.958 (0.0217)   | 0.879 (0.0291)   | 0.8297 (0.0455)  | 0.8755 (0.0257)  | 0.9379 (0.0133)  | 0.8872 (0.0215)  | 0.906 (0.0085)   | 0.895 (0.013)    |\n",
       "\n"
      ],
      "text/plain": [
       "   Parameters BEKKC            BEKK1            BEKK2           \n",
       "1  mu10       -2e-04 (5e-04)   -2e-04 (5e-04)   -2e-04 (5e-04)  \n",
       "2  mu20       -1e-04 (4e-04)   0 (1e-04)        -1e-04 (2e-04)  \n",
       "3  phi11      -0.0683 (0.0647) -0.0379 (0.0314) -0.0405 (0.0317)\n",
       "4  phi12      0.0507 (0.077)   0.1748 (0.1179)  0.1249 (0.0851) \n",
       "5  phi21      -0.037 (0.0543)  0.0148 (0.0084)  0.0038 (0.0118) \n",
       "6  phi22      0.0314 (0.0647)  -0.0524 (0.0314) 0.0168 (0.0318) \n",
       "7  a11        0.1091 (0.0816)  0.1486 (0.0228)  0.1268 (0.0296) \n",
       "8  a12        -0.1915 (0.0704) 0.0368 (0.0109)  -0.0121 (0.0138)\n",
       "9  a21        0.0797 (0.0898)  0.4707 (0.0783)  0.1723 (0.0779) \n",
       "10 a22        0.3808 (0.08)    0.1076 (0.0342)  0.3763 (0.0364) \n",
       "11 g11        1.0164 (0.048)   0.9192 (0.0209)  0.9865 (0.0089) \n",
       "12 g12        0.148 (0.0463)   -0.0312 (0.0085) 8e-04 (0.0074)  \n",
       "13 g21        -0.0462 (0.0535) -0.079 (0.0541)  -0.0882 (0.0412)\n",
       "14 g22        0.8099 (0.0509)  0.958 (0.0217)   0.879 (0.0291)  \n",
       "   BEKK3            BEKK4            BEKK5            BEKK6           \n",
       "1  -2e-04 (5e-04)   -1e-04 (4e-04)   -1e-04 (4e-04)   -1e-04 (4e-04)  \n",
       "2  1e-04 (1e-04)    1e-04 (2e-04)    2e-04 (2e-04)    2e-04 (2e-04)   \n",
       "3  -0.0362 (0.0311) -0.0108 (0.0312) -0.0116 (0.0313) -0.0106 (0.0312)\n",
       "4  0.2497 (0.1215)  0.0838 (0.0703)  0.1001 (0.0823)  0.0933 (0.074)  \n",
       "5  0.0038 (0.008)   -0.0019 (0.0139) 0.0124 (0.0119)  0.0017 (0.0131) \n",
       "6  0.0027 (0.0312)  0.0182 (0.0312)  0.0317 (0.0312)  0.0279 (0.0312) \n",
       "7  0.1811 (0.0393)  0.1701 (0.0305)  0.1718 (0.0323)  0.1641 (0.0274) \n",
       "8  0.0283 (0.0159)  1e-04 (0.0171)   0.005 (0.0145)   0.0253 (0.0155) \n",
       "9  0.4813 (0.1545)  0.0251 (0.0817)  0.0404 (0.0905)  0.0305 (0.0761) \n",
       "10 0.1822 (0.0629)  0.3669 (0.0285)  0.2885 (0.0273)  0.3776 (0.0307) \n",
       "11 0.9361 (0.0309)  0.9743 (0.0108)  0.9719 (0.0127)  0.976 (0.0097)  \n",
       "12 -0.0237 (0.0137) 0.0025 (0.0085)  0.0015 (0.0068)  -0.0061 (0.0086)\n",
       "13 -0.3412 (0.1945) 0.0078 (0.0365)  0.0051 (0.0334)  0.0063 (0.03)   \n",
       "14 0.8297 (0.0455)  0.8755 (0.0257)  0.9379 (0.0133)  0.8872 (0.0215) \n",
       "   BEKK7            BEKK8           \n",
       "1  -2e-04 (5e-04)   -1e-04 (4e-04)  \n",
       "2  -4e-04 (3e-04)   -2e-04 (3e-04)  \n",
       "3  -0.0311 (0.0311) -0.0088 (0.0311)\n",
       "4  0.0175 (0.057)   0.0313 (0.0392) \n",
       "5  0.0279 (0.0157)  0.0292 (0.0238) \n",
       "6  -0.3821 (0.0287) -0.2721 (0.03)  \n",
       "7  0.1109 (0.0243)  0.1618 (0.0303) \n",
       "8  -0.0178 (0.0099) 0.0809 (0.0203) \n",
       "9  -0.0339 (0.0423) -0.0162 (0.0353)\n",
       "10 0.4002 (0.0223)  0.3977 (0.0245) \n",
       "11 0.9891 (0.0068)  0.9747 (0.0109) \n",
       "12 7e-04 (0.0082)   -0.0126 (0.0142)\n",
       "13 0.0078 (0.0192)  -0.0032 (0.0181)\n",
       "14 0.906 (0.0085)   0.895 (0.013)   "
      ]
     },
     "metadata": {},
     "output_type": "display_data"
    }
   ],
   "source": [
    "parameters1 = c(\"mu10\",\"mu20\",\"phi11\",\"phi12\",\"phi21\",\"phi22\",\"a11\",\"a12\",\"a21\",\"a22\",\"g11\",\"g12\",\"g21\",\"g22\")\n",
    "daily_bekk1 <- data.frame(\"Parameters\" = parameters1,\"BEKKC\" = bekk_c,\"BEKK1\" = bekk_1,\"BEKK2\" = bekk_2,\"BEKK3\" = bekk_3,\"BEKK4\" = bekk_4,\"BEKK5\" = bekk_5,\n",
    "                         \"BEKK6\" = bekk_6,\"BEKK7\" = bekk_7,\"BEKK8\" = bekk_8)\n",
    "daily_bekk1\n"
   ]
  },
  {
   "cell_type": "markdown",
   "id": "a520519f-81a8-43ff-97d5-acf5233496a0",
   "metadata": {},
   "source": [
    "# Final VAR-BEKK Table for Period 2 (Table A.4)"
   ]
  },
  {
   "cell_type": "code",
   "execution_count": 91,
   "id": "f73cfaae-41a3-4a91-ba6e-d8dbe90e0188",
   "metadata": {},
   "outputs": [
    {
     "data": {
      "text/html": [
       "<table class=\"dataframe\">\n",
       "<caption>A data.frame: 14 × 10</caption>\n",
       "<thead>\n",
       "\t<tr><th scope=col>Parameters</th><th scope=col>BEKKC</th><th scope=col>BEKK1</th><th scope=col>BEKK2</th><th scope=col>BEKK3</th><th scope=col>BEKK4</th><th scope=col>BEKK5</th><th scope=col>BEKK6</th><th scope=col>BEKK7</th><th scope=col>BEKK8</th></tr>\n",
       "\t<tr><th scope=col>&lt;chr&gt;</th><th scope=col>&lt;chr&gt;</th><th scope=col>&lt;chr&gt;</th><th scope=col>&lt;chr&gt;</th><th scope=col>&lt;chr&gt;</th><th scope=col>&lt;chr&gt;</th><th scope=col>&lt;chr&gt;</th><th scope=col>&lt;chr&gt;</th><th scope=col>&lt;chr&gt;</th><th scope=col>&lt;chr&gt;</th></tr>\n",
       "</thead>\n",
       "<tbody>\n",
       "\t<tr><td>mu10 </td><td>-2e-04 (5e-04)  </td><td>-2e-04 (5e-04)  </td><td>-2e-04 (5e-04)  </td><td>-2e-04 (5e-04)  </td><td>-1e-04 (4e-04)  </td><td>-1e-04 (4e-04)  </td><td>-1e-04 (4e-04)  </td><td>-2e-04 (5e-04)  </td><td>-1e-04 (4e-04)  </td></tr>\n",
       "\t<tr><td>mu20 </td><td>-1e-04 (4e-04)  </td><td>0 (1e-04)       </td><td>-1e-04 (2e-04)  </td><td>1e-04 (1e-04)   </td><td>1e-04 (2e-04)   </td><td>2e-04 (2e-04)   </td><td>2e-04 (2e-04)   </td><td>-4e-04 (3e-04)  </td><td>-2e-04 (3e-04)  </td></tr>\n",
       "\t<tr><td>phi11</td><td>-0.0683 (0.0647)</td><td>-0.0379 (0.0314)</td><td>-0.0405 (0.0317)</td><td>-0.0362 (0.0311)</td><td>-0.0108 (0.0312)</td><td>-0.0116 (0.0313)</td><td>-0.0106 (0.0312)</td><td>-0.0311 (0.0311)</td><td>-0.0088 (0.0311)</td></tr>\n",
       "\t<tr><td>phi12</td><td>0.0507 (0.077)  </td><td>0.1748 (0.1179) </td><td>0.1249 (0.0851) </td><td>0.2497 (0.1215) </td><td>0.0838 (0.0703) </td><td>0.1001 (0.0823) </td><td>0.0933 (0.074)  </td><td>0.0175 (0.057)  </td><td>0.0313 (0.0392) </td></tr>\n",
       "\t<tr><td>phi21</td><td>-0.037 (0.0543) </td><td>0.0148 (0.0084) </td><td>0.0038 (0.0118) </td><td>0.0038 (0.008)  </td><td>-0.0019 (0.0139)</td><td>0.0124 (0.0119) </td><td>0.0017 (0.0131) </td><td>0.0279 (0.0157) </td><td>0.0292 (0.0238) </td></tr>\n",
       "\t<tr><td>phi22</td><td>0.0314 (0.0647) </td><td>-0.0524 (0.0314)</td><td>0.0168 (0.0318) </td><td>0.0027 (0.0312) </td><td>0.0182 (0.0312) </td><td>0.0317 (0.0312) </td><td>0.0279 (0.0312) </td><td>-0.3821 (0.0287)</td><td>-0.2721 (0.03)  </td></tr>\n",
       "\t<tr><td>a11  </td><td>0.1091 (0.0816) </td><td>0.1486 (0.0228) </td><td>0.1268 (0.0296) </td><td>0.1811 (0.0393) </td><td>0.1701 (0.0305) </td><td>0.1718 (0.0323) </td><td>0.1641 (0.0274) </td><td>0.1109 (0.0243) </td><td>0.1618 (0.0303) </td></tr>\n",
       "\t<tr><td>a12  </td><td>-0.1915 (0.0704)</td><td>0.0368 (0.0109) </td><td>-0.0121 (0.0138)</td><td>0.0283 (0.0159) </td><td>1e-04 (0.0171)  </td><td>0.005 (0.0145)  </td><td>0.0253 (0.0155) </td><td>-0.0178 (0.0099)</td><td>0.0809 (0.0203) </td></tr>\n",
       "\t<tr><td>a21  </td><td>0.0797 (0.0898) </td><td>0.4707 (0.0783) </td><td>0.1723 (0.0779) </td><td>0.4813 (0.1545) </td><td>0.0251 (0.0817) </td><td>0.0404 (0.0905) </td><td>0.0305 (0.0761) </td><td>-0.0339 (0.0423)</td><td>-0.0162 (0.0353)</td></tr>\n",
       "\t<tr><td>a22  </td><td>0.3808 (0.08)   </td><td>0.1076 (0.0342) </td><td>0.3763 (0.0364) </td><td>0.1822 (0.0629) </td><td>0.3669 (0.0285) </td><td>0.2885 (0.0273) </td><td>0.3776 (0.0307) </td><td>0.4002 (0.0223) </td><td>0.3977 (0.0245) </td></tr>\n",
       "\t<tr><td>g11  </td><td>1.0164 (0.048)  </td><td>0.9192 (0.0209) </td><td>0.9865 (0.0089) </td><td>0.9361 (0.0309) </td><td>0.9743 (0.0108) </td><td>0.9719 (0.0127) </td><td>0.976 (0.0097)  </td><td>0.9891 (0.0068) </td><td>0.9747 (0.0109) </td></tr>\n",
       "\t<tr><td>g12  </td><td>0.148 (0.0463)  </td><td>-0.0312 (0.0085)</td><td>8e-04 (0.0074)  </td><td>-0.0237 (0.0137)</td><td>0.0025 (0.0085) </td><td>0.0015 (0.0068) </td><td>-0.0061 (0.0086)</td><td>7e-04 (0.0082)  </td><td>-0.0126 (0.0142)</td></tr>\n",
       "\t<tr><td>g21  </td><td>-0.0462 (0.0535)</td><td>-0.079 (0.0541) </td><td>-0.0882 (0.0412)</td><td>-0.3412 (0.1945)</td><td>0.0078 (0.0365) </td><td>0.0051 (0.0334) </td><td>0.0063 (0.03)   </td><td>0.0078 (0.0192) </td><td>-0.0032 (0.0181)</td></tr>\n",
       "\t<tr><td>g22  </td><td>0.8099 (0.0509) </td><td>0.958 (0.0217)  </td><td>0.879 (0.0291)  </td><td>0.8297 (0.0455) </td><td>0.8755 (0.0257) </td><td>0.9379 (0.0133) </td><td>0.8872 (0.0215) </td><td>0.906 (0.0085)  </td><td>0.895 (0.013)   </td></tr>\n",
       "</tbody>\n",
       "</table>\n"
      ],
      "text/latex": [
       "A data.frame: 14 × 10\n",
       "\\begin{tabular}{llllllllll}\n",
       " Parameters & BEKKC & BEKK1 & BEKK2 & BEKK3 & BEKK4 & BEKK5 & BEKK6 & BEKK7 & BEKK8\\\\\n",
       " <chr> & <chr> & <chr> & <chr> & <chr> & <chr> & <chr> & <chr> & <chr> & <chr>\\\\\n",
       "\\hline\n",
       "\t mu10  & -2e-04 (5e-04)   & -2e-04 (5e-04)   & -2e-04 (5e-04)   & -2e-04 (5e-04)   & -1e-04 (4e-04)   & -1e-04 (4e-04)   & -1e-04 (4e-04)   & -2e-04 (5e-04)   & -1e-04 (4e-04)  \\\\\n",
       "\t mu20  & -1e-04 (4e-04)   & 0 (1e-04)        & -1e-04 (2e-04)   & 1e-04 (1e-04)    & 1e-04 (2e-04)    & 2e-04 (2e-04)    & 2e-04 (2e-04)    & -4e-04 (3e-04)   & -2e-04 (3e-04)  \\\\\n",
       "\t phi11 & -0.0683 (0.0647) & -0.0379 (0.0314) & -0.0405 (0.0317) & -0.0362 (0.0311) & -0.0108 (0.0312) & -0.0116 (0.0313) & -0.0106 (0.0312) & -0.0311 (0.0311) & -0.0088 (0.0311)\\\\\n",
       "\t phi12 & 0.0507 (0.077)   & 0.1748 (0.1179)  & 0.1249 (0.0851)  & 0.2497 (0.1215)  & 0.0838 (0.0703)  & 0.1001 (0.0823)  & 0.0933 (0.074)   & 0.0175 (0.057)   & 0.0313 (0.0392) \\\\\n",
       "\t phi21 & -0.037 (0.0543)  & 0.0148 (0.0084)  & 0.0038 (0.0118)  & 0.0038 (0.008)   & -0.0019 (0.0139) & 0.0124 (0.0119)  & 0.0017 (0.0131)  & 0.0279 (0.0157)  & 0.0292 (0.0238) \\\\\n",
       "\t phi22 & 0.0314 (0.0647)  & -0.0524 (0.0314) & 0.0168 (0.0318)  & 0.0027 (0.0312)  & 0.0182 (0.0312)  & 0.0317 (0.0312)  & 0.0279 (0.0312)  & -0.3821 (0.0287) & -0.2721 (0.03)  \\\\\n",
       "\t a11   & 0.1091 (0.0816)  & 0.1486 (0.0228)  & 0.1268 (0.0296)  & 0.1811 (0.0393)  & 0.1701 (0.0305)  & 0.1718 (0.0323)  & 0.1641 (0.0274)  & 0.1109 (0.0243)  & 0.1618 (0.0303) \\\\\n",
       "\t a12   & -0.1915 (0.0704) & 0.0368 (0.0109)  & -0.0121 (0.0138) & 0.0283 (0.0159)  & 1e-04 (0.0171)   & 0.005 (0.0145)   & 0.0253 (0.0155)  & -0.0178 (0.0099) & 0.0809 (0.0203) \\\\\n",
       "\t a21   & 0.0797 (0.0898)  & 0.4707 (0.0783)  & 0.1723 (0.0779)  & 0.4813 (0.1545)  & 0.0251 (0.0817)  & 0.0404 (0.0905)  & 0.0305 (0.0761)  & -0.0339 (0.0423) & -0.0162 (0.0353)\\\\\n",
       "\t a22   & 0.3808 (0.08)    & 0.1076 (0.0342)  & 0.3763 (0.0364)  & 0.1822 (0.0629)  & 0.3669 (0.0285)  & 0.2885 (0.0273)  & 0.3776 (0.0307)  & 0.4002 (0.0223)  & 0.3977 (0.0245) \\\\\n",
       "\t g11   & 1.0164 (0.048)   & 0.9192 (0.0209)  & 0.9865 (0.0089)  & 0.9361 (0.0309)  & 0.9743 (0.0108)  & 0.9719 (0.0127)  & 0.976 (0.0097)   & 0.9891 (0.0068)  & 0.9747 (0.0109) \\\\\n",
       "\t g12   & 0.148 (0.0463)   & -0.0312 (0.0085) & 8e-04 (0.0074)   & -0.0237 (0.0137) & 0.0025 (0.0085)  & 0.0015 (0.0068)  & -0.0061 (0.0086) & 7e-04 (0.0082)   & -0.0126 (0.0142)\\\\\n",
       "\t g21   & -0.0462 (0.0535) & -0.079 (0.0541)  & -0.0882 (0.0412) & -0.3412 (0.1945) & 0.0078 (0.0365)  & 0.0051 (0.0334)  & 0.0063 (0.03)    & 0.0078 (0.0192)  & -0.0032 (0.0181)\\\\\n",
       "\t g22   & 0.8099 (0.0509)  & 0.958 (0.0217)   & 0.879 (0.0291)   & 0.8297 (0.0455)  & 0.8755 (0.0257)  & 0.9379 (0.0133)  & 0.8872 (0.0215)  & 0.906 (0.0085)   & 0.895 (0.013)   \\\\\n",
       "\\end{tabular}\n"
      ],
      "text/markdown": [
       "\n",
       "A data.frame: 14 × 10\n",
       "\n",
       "| Parameters &lt;chr&gt; | BEKKC &lt;chr&gt; | BEKK1 &lt;chr&gt; | BEKK2 &lt;chr&gt; | BEKK3 &lt;chr&gt; | BEKK4 &lt;chr&gt; | BEKK5 &lt;chr&gt; | BEKK6 &lt;chr&gt; | BEKK7 &lt;chr&gt; | BEKK8 &lt;chr&gt; |\n",
       "|---|---|---|---|---|---|---|---|---|---|\n",
       "| mu10  | -2e-04 (5e-04)   | -2e-04 (5e-04)   | -2e-04 (5e-04)   | -2e-04 (5e-04)   | -1e-04 (4e-04)   | -1e-04 (4e-04)   | -1e-04 (4e-04)   | -2e-04 (5e-04)   | -1e-04 (4e-04)   |\n",
       "| mu20  | -1e-04 (4e-04)   | 0 (1e-04)        | -1e-04 (2e-04)   | 1e-04 (1e-04)    | 1e-04 (2e-04)    | 2e-04 (2e-04)    | 2e-04 (2e-04)    | -4e-04 (3e-04)   | -2e-04 (3e-04)   |\n",
       "| phi11 | -0.0683 (0.0647) | -0.0379 (0.0314) | -0.0405 (0.0317) | -0.0362 (0.0311) | -0.0108 (0.0312) | -0.0116 (0.0313) | -0.0106 (0.0312) | -0.0311 (0.0311) | -0.0088 (0.0311) |\n",
       "| phi12 | 0.0507 (0.077)   | 0.1748 (0.1179)  | 0.1249 (0.0851)  | 0.2497 (0.1215)  | 0.0838 (0.0703)  | 0.1001 (0.0823)  | 0.0933 (0.074)   | 0.0175 (0.057)   | 0.0313 (0.0392)  |\n",
       "| phi21 | -0.037 (0.0543)  | 0.0148 (0.0084)  | 0.0038 (0.0118)  | 0.0038 (0.008)   | -0.0019 (0.0139) | 0.0124 (0.0119)  | 0.0017 (0.0131)  | 0.0279 (0.0157)  | 0.0292 (0.0238)  |\n",
       "| phi22 | 0.0314 (0.0647)  | -0.0524 (0.0314) | 0.0168 (0.0318)  | 0.0027 (0.0312)  | 0.0182 (0.0312)  | 0.0317 (0.0312)  | 0.0279 (0.0312)  | -0.3821 (0.0287) | -0.2721 (0.03)   |\n",
       "| a11   | 0.1091 (0.0816)  | 0.1486 (0.0228)  | 0.1268 (0.0296)  | 0.1811 (0.0393)  | 0.1701 (0.0305)  | 0.1718 (0.0323)  | 0.1641 (0.0274)  | 0.1109 (0.0243)  | 0.1618 (0.0303)  |\n",
       "| a12   | -0.1915 (0.0704) | 0.0368 (0.0109)  | -0.0121 (0.0138) | 0.0283 (0.0159)  | 1e-04 (0.0171)   | 0.005 (0.0145)   | 0.0253 (0.0155)  | -0.0178 (0.0099) | 0.0809 (0.0203)  |\n",
       "| a21   | 0.0797 (0.0898)  | 0.4707 (0.0783)  | 0.1723 (0.0779)  | 0.4813 (0.1545)  | 0.0251 (0.0817)  | 0.0404 (0.0905)  | 0.0305 (0.0761)  | -0.0339 (0.0423) | -0.0162 (0.0353) |\n",
       "| a22   | 0.3808 (0.08)    | 0.1076 (0.0342)  | 0.3763 (0.0364)  | 0.1822 (0.0629)  | 0.3669 (0.0285)  | 0.2885 (0.0273)  | 0.3776 (0.0307)  | 0.4002 (0.0223)  | 0.3977 (0.0245)  |\n",
       "| g11   | 1.0164 (0.048)   | 0.9192 (0.0209)  | 0.9865 (0.0089)  | 0.9361 (0.0309)  | 0.9743 (0.0108)  | 0.9719 (0.0127)  | 0.976 (0.0097)   | 0.9891 (0.0068)  | 0.9747 (0.0109)  |\n",
       "| g12   | 0.148 (0.0463)   | -0.0312 (0.0085) | 8e-04 (0.0074)   | -0.0237 (0.0137) | 0.0025 (0.0085)  | 0.0015 (0.0068)  | -0.0061 (0.0086) | 7e-04 (0.0082)   | -0.0126 (0.0142) |\n",
       "| g21   | -0.0462 (0.0535) | -0.079 (0.0541)  | -0.0882 (0.0412) | -0.3412 (0.1945) | 0.0078 (0.0365)  | 0.0051 (0.0334)  | 0.0063 (0.03)    | 0.0078 (0.0192)  | -0.0032 (0.0181) |\n",
       "| g22   | 0.8099 (0.0509)  | 0.958 (0.0217)   | 0.879 (0.0291)   | 0.8297 (0.0455)  | 0.8755 (0.0257)  | 0.9379 (0.0133)  | 0.8872 (0.0215)  | 0.906 (0.0085)   | 0.895 (0.013)    |\n",
       "\n"
      ],
      "text/plain": [
       "   Parameters BEKKC            BEKK1            BEKK2           \n",
       "1  mu10       -2e-04 (5e-04)   -2e-04 (5e-04)   -2e-04 (5e-04)  \n",
       "2  mu20       -1e-04 (4e-04)   0 (1e-04)        -1e-04 (2e-04)  \n",
       "3  phi11      -0.0683 (0.0647) -0.0379 (0.0314) -0.0405 (0.0317)\n",
       "4  phi12      0.0507 (0.077)   0.1748 (0.1179)  0.1249 (0.0851) \n",
       "5  phi21      -0.037 (0.0543)  0.0148 (0.0084)  0.0038 (0.0118) \n",
       "6  phi22      0.0314 (0.0647)  -0.0524 (0.0314) 0.0168 (0.0318) \n",
       "7  a11        0.1091 (0.0816)  0.1486 (0.0228)  0.1268 (0.0296) \n",
       "8  a12        -0.1915 (0.0704) 0.0368 (0.0109)  -0.0121 (0.0138)\n",
       "9  a21        0.0797 (0.0898)  0.4707 (0.0783)  0.1723 (0.0779) \n",
       "10 a22        0.3808 (0.08)    0.1076 (0.0342)  0.3763 (0.0364) \n",
       "11 g11        1.0164 (0.048)   0.9192 (0.0209)  0.9865 (0.0089) \n",
       "12 g12        0.148 (0.0463)   -0.0312 (0.0085) 8e-04 (0.0074)  \n",
       "13 g21        -0.0462 (0.0535) -0.079 (0.0541)  -0.0882 (0.0412)\n",
       "14 g22        0.8099 (0.0509)  0.958 (0.0217)   0.879 (0.0291)  \n",
       "   BEKK3            BEKK4            BEKK5            BEKK6           \n",
       "1  -2e-04 (5e-04)   -1e-04 (4e-04)   -1e-04 (4e-04)   -1e-04 (4e-04)  \n",
       "2  1e-04 (1e-04)    1e-04 (2e-04)    2e-04 (2e-04)    2e-04 (2e-04)   \n",
       "3  -0.0362 (0.0311) -0.0108 (0.0312) -0.0116 (0.0313) -0.0106 (0.0312)\n",
       "4  0.2497 (0.1215)  0.0838 (0.0703)  0.1001 (0.0823)  0.0933 (0.074)  \n",
       "5  0.0038 (0.008)   -0.0019 (0.0139) 0.0124 (0.0119)  0.0017 (0.0131) \n",
       "6  0.0027 (0.0312)  0.0182 (0.0312)  0.0317 (0.0312)  0.0279 (0.0312) \n",
       "7  0.1811 (0.0393)  0.1701 (0.0305)  0.1718 (0.0323)  0.1641 (0.0274) \n",
       "8  0.0283 (0.0159)  1e-04 (0.0171)   0.005 (0.0145)   0.0253 (0.0155) \n",
       "9  0.4813 (0.1545)  0.0251 (0.0817)  0.0404 (0.0905)  0.0305 (0.0761) \n",
       "10 0.1822 (0.0629)  0.3669 (0.0285)  0.2885 (0.0273)  0.3776 (0.0307) \n",
       "11 0.9361 (0.0309)  0.9743 (0.0108)  0.9719 (0.0127)  0.976 (0.0097)  \n",
       "12 -0.0237 (0.0137) 0.0025 (0.0085)  0.0015 (0.0068)  -0.0061 (0.0086)\n",
       "13 -0.3412 (0.1945) 0.0078 (0.0365)  0.0051 (0.0334)  0.0063 (0.03)   \n",
       "14 0.8297 (0.0455)  0.8755 (0.0257)  0.9379 (0.0133)  0.8872 (0.0215) \n",
       "   BEKK7            BEKK8           \n",
       "1  -2e-04 (5e-04)   -1e-04 (4e-04)  \n",
       "2  -4e-04 (3e-04)   -2e-04 (3e-04)  \n",
       "3  -0.0311 (0.0311) -0.0088 (0.0311)\n",
       "4  0.0175 (0.057)   0.0313 (0.0392) \n",
       "5  0.0279 (0.0157)  0.0292 (0.0238) \n",
       "6  -0.3821 (0.0287) -0.2721 (0.03)  \n",
       "7  0.1109 (0.0243)  0.1618 (0.0303) \n",
       "8  -0.0178 (0.0099) 0.0809 (0.0203) \n",
       "9  -0.0339 (0.0423) -0.0162 (0.0353)\n",
       "10 0.4002 (0.0223)  0.3977 (0.0245) \n",
       "11 0.9891 (0.0068)  0.9747 (0.0109) \n",
       "12 7e-04 (0.0082)   -0.0126 (0.0142)\n",
       "13 0.0078 (0.0192)  -0.0032 (0.0181)\n",
       "14 0.906 (0.0085)   0.895 (0.013)   "
      ]
     },
     "metadata": {},
     "output_type": "display_data"
    }
   ],
   "source": [
    "daily_bekk <- data.frame(\"Parameters\" = parameters1,\n",
    "                         \"BEKKC\"=bekk_c,\n",
    "                         \"BEKK1\"=bekk_1,\n",
    "                         \"BEKK2\"=bekk_2,\n",
    "                          \"BEKK3\"=bekk_3,\n",
    "                          \"BEKK4\"=bekk_4,\n",
    "                         \"BEKK5\"=bekk_5,\n",
    "                          \"BEKK6\"=bekk_6,\n",
    "                         \"BEKK7\" = bekk_7,\n",
    "                         \"BEKK8\" = bekk_8)\n",
    "daily_bekk"
   ]
  },
  {
   "cell_type": "code",
   "execution_count": null,
   "id": "895ef7b3-a41c-4335-b3ed-768ab4f775b9",
   "metadata": {},
   "outputs": [],
   "source": []
  }
 ],
 "metadata": {
  "kernelspec": {
   "display_name": "R",
   "language": "R",
   "name": "ir"
  },
  "language_info": {
   "codemirror_mode": "r",
   "file_extension": ".r",
   "mimetype": "text/x-r-source",
   "name": "R",
   "pygments_lexer": "r",
   "version": "4.3.3"
  }
 },
 "nbformat": 4,
 "nbformat_minor": 5
}
