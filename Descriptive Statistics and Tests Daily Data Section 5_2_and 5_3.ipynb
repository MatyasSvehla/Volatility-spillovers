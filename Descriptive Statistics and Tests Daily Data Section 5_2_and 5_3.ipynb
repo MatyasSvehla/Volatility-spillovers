{
 "cells": [
  {
   "cell_type": "markdown",
   "id": "80a355bb-bd35-43cd-94e4-d22f00296573",
   "metadata": {},
   "source": [
    "# Chapter 5"
   ]
  },
  {
   "cell_type": "markdown",
   "id": "e1a1002d-aaec-46e6-bb27-d3f0947e91ba",
   "metadata": {},
   "source": [
    "# Sections 5.2 and 5.3 (daily data)"
   ]
  },
  {
   "cell_type": "markdown",
   "id": "bda0f5cf-c1fd-4365-9469-255fd6270d62",
   "metadata": {},
   "source": [
    "# Descriptive Statistics and Statistical Tests for daily data"
   ]
  },
  {
   "cell_type": "code",
   "execution_count": 1,
   "id": "82761c51-2243-4ccf-bac1-d098ba84de7c",
   "metadata": {},
   "outputs": [
    {
     "name": "stderr",
     "output_type": "stream",
     "text": [
      "\n",
      "Attaching package: ‘Hmisc’\n",
      "\n",
      "\n",
      "The following objects are masked from ‘package:xtable’:\n",
      "\n",
      "    label, label<-\n",
      "\n",
      "\n",
      "The following objects are masked from ‘package:base’:\n",
      "\n",
      "    format.pval, units\n",
      "\n",
      "\n",
      "Loading required package: zoo\n",
      "\n",
      "\n",
      "Attaching package: ‘zoo’\n",
      "\n",
      "\n",
      "The following objects are masked from ‘package:base’:\n",
      "\n",
      "    as.Date, as.Date.numeric\n",
      "\n",
      "\n",
      "\n",
      "Please cite as: \n",
      "\n",
      "\n",
      " Hlavac, Marek (2022). stargazer: Well-Formatted Regression and Summary Statistics Tables.\n",
      "\n",
      " R package version 5.2.3. https://CRAN.R-project.org/package=stargazer \n",
      "\n",
      "\n",
      "Registered S3 method overwritten by 'quantmod':\n",
      "  method            from\n",
      "  as.zoo.data.frame zoo \n",
      "\n",
      "Loading required package: parallel\n",
      "\n",
      "\n",
      "Attaching package: ‘rugarch’\n",
      "\n",
      "\n",
      "The following object is masked from ‘package:stats’:\n",
      "\n",
      "    sigma\n",
      "\n",
      "\n",
      "Registered S3 methods overwritten by 'nortsTest':\n",
      "  method      from    \n",
      "  autoplot.ts forecast\n",
      "  fortify.ts  forecast\n",
      "\n"
     ]
    }
   ],
   "source": [
    "library(xtable)\n",
    "library(Hmisc)\n",
    "library(xts)\n",
    "library(stargazer)\n",
    "library(moments)\n",
    "library(tseries)\n",
    "library(MTS)\n",
    "library(rugarch)\n",
    "library(nortsTest)"
   ]
  },
  {
   "cell_type": "markdown",
   "id": "a9faf8ff-ccd6-4863-9e3e-53cd2cd3687b",
   "metadata": {},
   "source": [
    "# Preparation of the dataset"
   ]
  },
  {
   "cell_type": "markdown",
   "id": "4778940d-d732-48c5-9a7d-7f606513eaab",
   "metadata": {},
   "source": [
    "##### First we construct the dataset by merging all return and price series, missing values have already been treated in the construction process of each series."
   ]
  },
  {
   "cell_type": "code",
   "execution_count": 2,
   "id": "a72d9884-4593-49a0-afe3-2c79f188f378",
   "metadata": {},
   "outputs": [],
   "source": [
    "cr_d <- readRDS(\"cr_d.Rds\")\n",
    "cp_d <- readRDS(\"cp_d.Rds\")\n",
    "fr_d <- readRDS(\"fr_d.Rds\")\n",
    "fp_d <- readRDS(\"fp_d.Rds\")"
   ]
  },
  {
   "cell_type": "code",
   "execution_count": 3,
   "id": "710f1dfc-9eb7-4ca6-9ca9-6dd53df1da34",
   "metadata": {},
   "outputs": [],
   "source": [
    "d <- na.omit(merge(cr_d,fr_d))\n",
    "colnames(d) <- c(\"US Cocoa\",\"London Cocoa\",\"EURUSD\",\"GBPUSD\",\"CHFUSD\",\"USDGBP\",\"EURGBP\",\"CHFGBP\",\"GHSUSD\",\"GHSGBP\")"
   ]
  },
  {
   "cell_type": "code",
   "execution_count": 4,
   "id": "6b0e6f8c-8e7b-40cf-b566-170bbfc19848",
   "metadata": {},
   "outputs": [
    {
     "data": {
      "text/plain": [
       "           US Cocoa London Cocoa  EURUSD  GBPUSD  CHFUSD  USDGBP  EURGBP\n",
       "2007-07-05     2116         1135 1.35975 2.01155 0.82130 0.49715 0.67595\n",
       "2007-07-06     2123         1141 1.36280 2.01055 0.82105 0.49750 0.67775\n",
       "2007-07-09     2100         1126 1.36290 2.01510 0.82205 0.49625 0.67640\n",
       "2007-07-10     2022         1081 1.37465 2.02675 0.83160 0.49345 0.67830\n",
       "2007-07-11     2065         1102 1.37455 2.03240 0.82915 0.49215 0.67630\n",
       "2007-07-12     2077         1107 1.37935 2.03040 0.83155 0.49255 0.67940\n",
       "             CHFGBP   GHSUSD    GHSGBP\n",
       "2007-07-05 0.408303 1.074838 0.5343465\n",
       "2007-07-06 0.408355 1.071268 0.5329515\n",
       "2007-07-09 0.407952 1.075571 0.5336110\n",
       "2007-07-10 0.410381 1.075280 0.5305240\n",
       "2007-07-11 0.408035 1.078175 0.5305505\n",
       "2007-07-12 0.409575 1.081113 0.5325260"
      ]
     },
     "metadata": {},
     "output_type": "display_data"
    },
    {
     "data": {
      "text/plain": [
       "           US Cocoa London Cocoa  EURUSD  GBPUSD  CHFUSD  USDGBP EURGBP  CHFGBP\n",
       "2024-04-26    10594         8979 1.06940 1.24910 1.09385 0.80055 0.8561 0.87570\n",
       "2024-04-29     8931         7678 1.07210 1.25630 1.09830 0.79600 0.8534 0.87425\n",
       "2024-04-30     9283         7929 1.06655 1.24910 1.08765 0.80055 0.8538 0.87070\n",
       "2024-05-01     8284         7250 1.07110 1.25270 1.09215 0.79830 0.8554 0.87190\n",
       "2024-05-02     7563         6555 1.07270 1.25340 1.09820 0.79780 0.8555 0.87620\n",
       "2024-05-03     8145         6887 1.07600 1.25465 1.10425 0.79705 0.8577 0.88010\n",
       "              GHSUSD    GHSGBP\n",
       "2024-04-26 0.0735850 0.0589105\n",
       "2024-04-29 0.0732610 0.0583150\n",
       "2024-04-30 0.0731535 0.0585630\n",
       "2024-05-01 0.0729935 0.0582690\n",
       "2024-05-02 0.0727285 0.0580250\n",
       "2024-05-03 0.0728340 0.0580515"
      ]
     },
     "metadata": {},
     "output_type": "display_data"
    },
    {
     "name": "stdout",
     "output_type": "stream",
     "text": [
      "An xts object on 2007-07-05 / 2024-05-03 containing: \n",
      "  Data:    double [4176, 10]\n",
      "  Columns: US Cocoa, London Cocoa, EURUSD, GBPUSD, CHFUSD ... with 5 more columns\n",
      "  Index:   Date [4176] (TZ: \"UTC\")\n",
      "  xts Attributes:\n",
      "    $ na.action: 'omit' int [1:216] 38 43 101 102 123 124 125 129 143 163 ...\n",
      "  ..- attr(*, \"index\")= num [1:216] 1.19e+09 1.19e+09 1.20e+09 1.20e+09 1.20e+09 ...\n"
     ]
    }
   ],
   "source": [
    "d_p <- na.omit(merge(cp_d,fp_d))\n",
    "colnames(d_p) <- c(\"US Cocoa\",\"London Cocoa\",\"EURUSD\",\"GBPUSD\",\"CHFUSD\",\"USDGBP\",\"EURGBP\",\"CHFGBP\",\"GHSUSD\",\"GHSGBP\")\n",
    "head(d_p)\n",
    "tail(d_p)\n",
    "str(d_p)"
   ]
  },
  {
   "cell_type": "markdown",
   "id": "445ac5b0-2277-4a53-b8e5-e6c90caac0df",
   "metadata": {},
   "source": [
    "# Descriptive Statistics for daily returns (Section 5.2)"
   ]
  },
  {
   "cell_type": "markdown",
   "id": "4532faab-8594-42c2-8e65-66b6c2db67bb",
   "metadata": {},
   "source": [
    "##### In the next step, basic descriptive statistics are computed for returns as %, those are Mean, Standard Deviation, Minimum, Maximum, Skewness, Kurtosis."
   ]
  },
  {
   "cell_type": "code",
   "execution_count": 5,
   "id": "32081c1b-0a87-4e70-bca3-117b3cb75d62",
   "metadata": {},
   "outputs": [
    {
     "name": "stdout",
     "output_type": "stream",
     "text": [
      "\n",
      "% Table created by stargazer v.5.2.3 by Marek Hlavac, Social Policy Institute. E-mail: marek.hlavac at gmail.com\n",
      "% Date and time: Thu, Jul 18, 2024 - 14:25:23\n",
      "\\begin{table}[!htbp] \\centering \n",
      "  \\caption{Descriptive Statistics for daily returns} \n",
      "  \\label{} \n",
      "\\begin{tabular}{@{\\extracolsep{5pt}}lccccc} \n",
      "\\\\[-1.8ex]\\hline \n",
      "\\hline \\\\[-1.8ex] \n",
      "Statistic & \\multicolumn{1}{c}{N} & \\multicolumn{1}{c}{Mean} & \\multicolumn{1}{c}{St. Dev.} & \\multicolumn{1}{c}{Min} & \\multicolumn{1}{c}{Max} \\\\ \n",
      "\\hline \\\\[-1.8ex] \n",
      "US Cocoa & 4,175 & 0.032 & 1.757 & $-$17.076 & 9.191 \\\\ \n",
      "London Cocoa & 4,175 & 0.044 & 1.510 & $-$15.653 & 9.640 \\\\ \n",
      "EURUSD & 4,175 & $-$0.005 & 0.584 & $-$2.785 & 3.733 \\\\ \n",
      "GBPUSD & 4,175 & $-$0.009 & 0.619 & $-$8.402 & 3.090 \\\\ \n",
      "CHFUSD & 4,175 & 0.009 & 0.668 & $-$9.090 & 17.141 \\\\ \n",
      "USDGBP & 4,175 & 0.009 & 0.619 & $-$3.086 & 8.408 \\\\ \n",
      "EURGBP & 4,175 & 0.004 & 0.528 & $-$3.142 & 6.003 \\\\ \n",
      "CHFGBP & 4,175 & 0.017 & 0.699 & $-$8.015 & 17.456 \\\\ \n",
      "GHSUSD & 4,175 & $-$0.061 & 1.027 & $-$15.338 & 15.954 \\\\ \n",
      "GHSGBP & 4,175 & $-$0.051 & 1.211 & $-$15.233 & 15.413 \\\\ \n",
      "\\hline \\\\[-1.8ex] \n",
      "\\multicolumn{6}{l}{All statistics are for returns as %} \\\\ \n",
      "\\end{tabular} \n",
      "\\end{table} \n"
     ]
    }
   ],
   "source": [
    "stargazer(d*100,summary=T,title = \"Descriptive Statistics for daily returns\",notes = c(\"All statistics are for returns as %\"),type = \"latex\")"
   ]
  },
  {
   "cell_type": "code",
   "execution_count": 6,
   "id": "9872de10-baa4-4d28-b0e2-805aaf65ee7b",
   "metadata": {},
   "outputs": [
    {
     "data": {
      "text/html": [
       "<style>\n",
       ".dl-inline {width: auto; margin:0; padding: 0}\n",
       ".dl-inline>dt, .dl-inline>dd {float: none; width: auto; display: inline-block}\n",
       ".dl-inline>dt::after {content: \":\\0020\"; padding-right: .5ex}\n",
       ".dl-inline>dt:not(:first-of-type) {padding-left: .5ex}\n",
       "</style><dl class=dl-inline><dt>US Cocoa</dt><dd>-0.38</dd><dt>London Cocoa</dt><dd>-0.251</dd><dt>EURUSD</dt><dd>0.087</dd><dt>GBPUSD</dt><dd>-0.85</dd><dt>CHFUSD</dt><dd>3.59</dd><dt>USDGBP</dt><dd>0.845</dd><dt>EURGBP</dt><dd>0.505</dd><dt>CHFGBP</dt><dd>3.684</dd><dt>GHSUSD</dt><dd>0.336</dd><dt>GHSGBP</dt><dd>0.414</dd></dl>\n"
      ],
      "text/latex": [
       "\\begin{description*}\n",
       "\\item[US Cocoa] -0.38\n",
       "\\item[London Cocoa] -0.251\n",
       "\\item[EURUSD] 0.087\n",
       "\\item[GBPUSD] -0.85\n",
       "\\item[CHFUSD] 3.59\n",
       "\\item[USDGBP] 0.845\n",
       "\\item[EURGBP] 0.505\n",
       "\\item[CHFGBP] 3.684\n",
       "\\item[GHSUSD] 0.336\n",
       "\\item[GHSGBP] 0.414\n",
       "\\end{description*}\n"
      ],
      "text/markdown": [
       "US Cocoa\n",
       ":   -0.38London Cocoa\n",
       ":   -0.251EURUSD\n",
       ":   0.087GBPUSD\n",
       ":   -0.85CHFUSD\n",
       ":   3.59USDGBP\n",
       ":   0.845EURGBP\n",
       ":   0.505CHFGBP\n",
       ":   3.684GHSUSD\n",
       ":   0.336GHSGBP\n",
       ":   0.414\n",
       "\n"
      ],
      "text/plain": [
       "    US Cocoa London Cocoa       EURUSD       GBPUSD       CHFUSD       USDGBP \n",
       "      -0.380       -0.251        0.087       -0.850        3.590        0.845 \n",
       "      EURGBP       CHFGBP       GHSUSD       GHSGBP \n",
       "       0.505        3.684        0.336        0.414 "
      ]
     },
     "metadata": {},
     "output_type": "display_data"
    },
    {
     "data": {
      "text/html": [
       "<style>\n",
       ".dl-inline {width: auto; margin:0; padding: 0}\n",
       ".dl-inline>dt, .dl-inline>dd {float: none; width: auto; display: inline-block}\n",
       ".dl-inline>dt::after {content: \":\\0020\"; padding-right: .5ex}\n",
       ".dl-inline>dt:not(:first-of-type) {padding-left: .5ex}\n",
       "</style><dl class=dl-inline><dt>US Cocoa</dt><dd>7.601</dd><dt>London Cocoa</dt><dd>9.134</dd><dt>EURUSD</dt><dd>5.362</dd><dt>GBPUSD</dt><dd>13.862</dd><dt>CHFUSD</dt><dd>116.803</dd><dt>USDGBP</dt><dd>13.836</dd><dt>EURGBP</dt><dd>9.364</dd><dt>CHFGBP</dt><dd>104.962</dd><dt>GHSUSD</dt><dd>47.385</dd><dt>GHSGBP</dt><dd>27.666</dd></dl>\n"
      ],
      "text/latex": [
       "\\begin{description*}\n",
       "\\item[US Cocoa] 7.601\n",
       "\\item[London Cocoa] 9.134\n",
       "\\item[EURUSD] 5.362\n",
       "\\item[GBPUSD] 13.862\n",
       "\\item[CHFUSD] 116.803\n",
       "\\item[USDGBP] 13.836\n",
       "\\item[EURGBP] 9.364\n",
       "\\item[CHFGBP] 104.962\n",
       "\\item[GHSUSD] 47.385\n",
       "\\item[GHSGBP] 27.666\n",
       "\\end{description*}\n"
      ],
      "text/markdown": [
       "US Cocoa\n",
       ":   7.601London Cocoa\n",
       ":   9.134EURUSD\n",
       ":   5.362GBPUSD\n",
       ":   13.862CHFUSD\n",
       ":   116.803USDGBP\n",
       ":   13.836EURGBP\n",
       ":   9.364CHFGBP\n",
       ":   104.962GHSUSD\n",
       ":   47.385GHSGBP\n",
       ":   27.666\n",
       "\n"
      ],
      "text/plain": [
       "    US Cocoa London Cocoa       EURUSD       GBPUSD       CHFUSD       USDGBP \n",
       "       7.601        9.134        5.362       13.862      116.803       13.836 \n",
       "      EURGBP       CHFGBP       GHSUSD       GHSGBP \n",
       "       9.364      104.962       47.385       27.666 "
      ]
     },
     "metadata": {},
     "output_type": "display_data"
    }
   ],
   "source": [
    "round(skewness(d),3)\n",
    "round(kurtosis(d),3)"
   ]
  },
  {
   "cell_type": "markdown",
   "id": "129b8fe9-7485-4f92-bbe4-d3c51a5df9fb",
   "metadata": {},
   "source": [
    "#### When did maximum and minimum values for cocoa futures contracts occur?"
   ]
  },
  {
   "cell_type": "code",
   "execution_count": 7,
   "id": "e0675842-20fa-436e-85bd-4ea4ed13294c",
   "metadata": {},
   "outputs": [
    {
     "data": {
      "text/html": [
       "0.0919086313545314"
      ],
      "text/latex": [
       "0.0919086313545314"
      ],
      "text/markdown": [
       "0.0919086313545314"
      ],
      "text/plain": [
       "[1] 0.09190863"
      ]
     },
     "metadata": {},
     "output_type": "display_data"
    },
    {
     "data": {
      "text/html": [
       "4164"
      ],
      "text/latex": [
       "4164"
      ],
      "text/markdown": [
       "4164"
      ],
      "text/plain": [
       "[1] 4164"
      ]
     },
     "metadata": {},
     "output_type": "display_data"
    },
    {
     "data": {
      "text/html": [
       "0.0964029450085508"
      ],
      "text/latex": [
       "0.0964029450085508"
      ],
      "text/markdown": [
       "0.0964029450085508"
      ],
      "text/plain": [
       "[1] 0.09640295"
      ]
     },
     "metadata": {},
     "output_type": "display_data"
    },
    {
     "data": {
      "text/html": [
       "4148"
      ],
      "text/latex": [
       "4148"
      ],
      "text/markdown": [
       "4148"
      ],
      "text/plain": [
       "[1] 4148"
      ]
     },
     "metadata": {},
     "output_type": "display_data"
    }
   ],
   "source": [
    "#Maximum\n",
    "max(d[,1])\n",
    "which.max(d[,1])\n",
    "max(d[,2])\n",
    "which.max(d[,2])"
   ]
  },
  {
   "cell_type": "code",
   "execution_count": 8,
   "id": "6892c138-bb91-42db-b7f8-7e84f7b3b45a",
   "metadata": {},
   "outputs": [
    {
     "data": {
      "text/plain": [
       "             US Cocoa London Cocoa       EURUSD        GBPUSD       CHFUSD\n",
       "2024-04-18 0.09190863   0.09260626 -0.002720835 -0.0009644752 -0.001640764\n",
       "                USDGBP       EURGBP        CHFGBP GHSUSD      GHSGBP\n",
       "2024-04-18 0.001493373 -0.001401296 -0.0001701597      0 0.001439487"
      ]
     },
     "metadata": {},
     "output_type": "display_data"
    },
    {
     "data": {
      "text/plain": [
       "             US Cocoa London Cocoa     EURUSD      GBPUSD       CHFUSD\n",
       "2024-03-25 0.08074076   0.09640295 0.00281827 0.002654571 -0.001797188\n",
       "                 USDGBP        EURGBP       CHFGBP      GHSUSD      GHSGBP\n",
       "2024-03-25 -0.002650178 -0.0001748812 -0.004422779 0.003835801 0.001183461"
      ]
     },
     "metadata": {},
     "output_type": "display_data"
    }
   ],
   "source": [
    "#Maximum for US Cocoa:\n",
    "d[4164,]\n",
    "#Maximum for London Cocoa:\n",
    "d[4148,]"
   ]
  },
  {
   "cell_type": "markdown",
   "id": "e8a782f8-a224-4e04-ba0d-89cca61f3c38",
   "metadata": {},
   "source": [
    "##### Maximum daily returns occurred on 18/4/2024 for US Cocoa and on 25/3/2024 for London Cocoa. "
   ]
  },
  {
   "cell_type": "code",
   "execution_count": 9,
   "id": "d75f9775-d967-40e1-84a0-bd718cb2d46d",
   "metadata": {},
   "outputs": [
    {
     "data": {
      "text/html": [
       "-0.170759432420585"
      ],
      "text/latex": [
       "-0.170759432420585"
      ],
      "text/markdown": [
       "-0.170759432420585"
      ],
      "text/plain": [
       "[1] -0.1707594"
      ]
     },
     "metadata": {},
     "output_type": "display_data"
    },
    {
     "data": {
      "text/html": [
       "4171"
      ],
      "text/latex": [
       "4171"
      ],
      "text/markdown": [
       "4171"
      ],
      "text/plain": [
       "[1] 4171"
      ]
     },
     "metadata": {},
     "output_type": "display_data"
    },
    {
     "data": {
      "text/html": [
       "-0.156529420960066"
      ],
      "text/latex": [
       "-0.156529420960066"
      ],
      "text/markdown": [
       "-0.156529420960066"
      ],
      "text/plain": [
       "[1] -0.1565294"
      ]
     },
     "metadata": {},
     "output_type": "display_data"
    },
    {
     "data": {
      "text/html": [
       "4171"
      ],
      "text/latex": [
       "4171"
      ],
      "text/markdown": [
       "4171"
      ],
      "text/plain": [
       "[1] 4171"
      ]
     },
     "metadata": {},
     "output_type": "display_data"
    }
   ],
   "source": [
    "#Minimum\n",
    "min(d[,1])\n",
    "which.min(d[,1])\n",
    "min(d[,2])\n",
    "which.min(d[,2])"
   ]
  },
  {
   "cell_type": "code",
   "execution_count": 10,
   "id": "881fe005-0db9-4833-b8a1-5e08b9b68e0c",
   "metadata": {},
   "outputs": [
    {
     "data": {
      "text/plain": [
       "             US Cocoa London Cocoa      EURUSD      GBPUSD      CHFUSD\n",
       "2024-04-29 -0.1707594   -0.1565294 0.002521598 0.005747601 0.004059947\n",
       "                 USDGBP       EURGBP       CHFGBP       GHSUSD      GHSGBP\n",
       "2024-04-29 -0.005699806 -0.003158821 -0.001657191 -0.004412793 -0.01015999"
      ]
     },
     "metadata": {},
     "output_type": "display_data"
    }
   ],
   "source": [
    "d[4171,]"
   ]
  },
  {
   "cell_type": "markdown",
   "id": "7eaaec3e-5787-46a0-8cf0-848fecf5fe1a",
   "metadata": {},
   "source": [
    "##### The minimum returns for both contracts occurred on 29/4/2024"
   ]
  },
  {
   "cell_type": "markdown",
   "id": "39a25ceb-2007-401c-aa7b-26b677d78d75",
   "metadata": {},
   "source": [
    "# Statistical Tests - Daily returns (Section 5.3)"
   ]
  },
  {
   "cell_type": "markdown",
   "id": "ebb3001e-d80a-4f9f-ad70-c439a12f06f2",
   "metadata": {},
   "source": [
    "##### In this section, statistical tests are performed. We start with unit root tests that will help to determine whether the differenced price series, i.e. log return series, may be assumed to be weakly stationary."
   ]
  },
  {
   "cell_type": "markdown",
   "id": "20962910-9224-4058-9ecb-ca77db19030c",
   "metadata": {},
   "source": [
    "- ADF,KPSS,Phillips-Perron for unit root testing\n",
    "- Ljung-Box for testing of serial correlation \n",
    "- ARCH-LM for ARCH-effects\n",
    "- JARQUE-BERA for the viability of distributional assumption of normality"
   ]
  },
  {
   "cell_type": "markdown",
   "id": "0444d2b9-df43-4af4-ac90-820c160c96e2",
   "metadata": {},
   "source": [
    "## ADF Test"
   ]
  },
  {
   "cell_type": "code",
   "execution_count": 11,
   "id": "41cdba50-3e37-4603-b2b2-bd6560165d92",
   "metadata": {},
   "outputs": [
    {
     "name": "stderr",
     "output_type": "stream",
     "text": [
      "Warning message in adf.test(d[, i]):\n",
      "“p-value smaller than printed p-value”\n"
     ]
    },
    {
     "name": "stdout",
     "output_type": "stream",
     "text": [
      "\n",
      "\tAugmented Dickey-Fuller Test\n",
      "\n",
      "data:  d[, i]\n",
      "Dickey-Fuller = -15.382, Lag order = 16, p-value = 0.01\n",
      "alternative hypothesis: stationary\n",
      "\n"
     ]
    },
    {
     "name": "stderr",
     "output_type": "stream",
     "text": [
      "Warning message in adf.test(d[, i]):\n",
      "“p-value smaller than printed p-value”\n"
     ]
    },
    {
     "name": "stdout",
     "output_type": "stream",
     "text": [
      "\n",
      "\tAugmented Dickey-Fuller Test\n",
      "\n",
      "data:  d[, i]\n",
      "Dickey-Fuller = -14.623, Lag order = 16, p-value = 0.01\n",
      "alternative hypothesis: stationary\n",
      "\n"
     ]
    },
    {
     "name": "stderr",
     "output_type": "stream",
     "text": [
      "Warning message in adf.test(d[, i]):\n",
      "“p-value smaller than printed p-value”\n"
     ]
    },
    {
     "name": "stdout",
     "output_type": "stream",
     "text": [
      "\n",
      "\tAugmented Dickey-Fuller Test\n",
      "\n",
      "data:  d[, i]\n",
      "Dickey-Fuller = -15.499, Lag order = 16, p-value = 0.01\n",
      "alternative hypothesis: stationary\n",
      "\n"
     ]
    },
    {
     "name": "stderr",
     "output_type": "stream",
     "text": [
      "Warning message in adf.test(d[, i]):\n",
      "“p-value smaller than printed p-value”\n"
     ]
    },
    {
     "name": "stdout",
     "output_type": "stream",
     "text": [
      "\n",
      "\tAugmented Dickey-Fuller Test\n",
      "\n",
      "data:  d[, i]\n",
      "Dickey-Fuller = -15.819, Lag order = 16, p-value = 0.01\n",
      "alternative hypothesis: stationary\n",
      "\n"
     ]
    },
    {
     "name": "stderr",
     "output_type": "stream",
     "text": [
      "Warning message in adf.test(d[, i]):\n",
      "“p-value smaller than printed p-value”\n"
     ]
    },
    {
     "name": "stdout",
     "output_type": "stream",
     "text": [
      "\n",
      "\tAugmented Dickey-Fuller Test\n",
      "\n",
      "data:  d[, i]\n",
      "Dickey-Fuller = -16.352, Lag order = 16, p-value = 0.01\n",
      "alternative hypothesis: stationary\n",
      "\n"
     ]
    },
    {
     "name": "stderr",
     "output_type": "stream",
     "text": [
      "Warning message in adf.test(d[, i]):\n",
      "“p-value smaller than printed p-value”\n"
     ]
    },
    {
     "name": "stdout",
     "output_type": "stream",
     "text": [
      "\n",
      "\tAugmented Dickey-Fuller Test\n",
      "\n",
      "data:  d[, i]\n",
      "Dickey-Fuller = -15.811, Lag order = 16, p-value = 0.01\n",
      "alternative hypothesis: stationary\n",
      "\n"
     ]
    },
    {
     "name": "stderr",
     "output_type": "stream",
     "text": [
      "Warning message in adf.test(d[, i]):\n",
      "“p-value smaller than printed p-value”\n"
     ]
    },
    {
     "name": "stdout",
     "output_type": "stream",
     "text": [
      "\n",
      "\tAugmented Dickey-Fuller Test\n",
      "\n",
      "data:  d[, i]\n",
      "Dickey-Fuller = -16.168, Lag order = 16, p-value = 0.01\n",
      "alternative hypothesis: stationary\n",
      "\n"
     ]
    },
    {
     "name": "stderr",
     "output_type": "stream",
     "text": [
      "Warning message in adf.test(d[, i]):\n",
      "“p-value smaller than printed p-value”\n"
     ]
    },
    {
     "name": "stdout",
     "output_type": "stream",
     "text": [
      "\n",
      "\tAugmented Dickey-Fuller Test\n",
      "\n",
      "data:  d[, i]\n",
      "Dickey-Fuller = -16.132, Lag order = 16, p-value = 0.01\n",
      "alternative hypothesis: stationary\n",
      "\n"
     ]
    },
    {
     "name": "stderr",
     "output_type": "stream",
     "text": [
      "Warning message in adf.test(d[, i]):\n",
      "“p-value smaller than printed p-value”\n"
     ]
    },
    {
     "name": "stdout",
     "output_type": "stream",
     "text": [
      "\n",
      "\tAugmented Dickey-Fuller Test\n",
      "\n",
      "data:  d[, i]\n",
      "Dickey-Fuller = -16.395, Lag order = 16, p-value = 0.01\n",
      "alternative hypothesis: stationary\n",
      "\n"
     ]
    },
    {
     "name": "stderr",
     "output_type": "stream",
     "text": [
      "Warning message in adf.test(d[, i]):\n",
      "“p-value smaller than printed p-value”\n"
     ]
    },
    {
     "name": "stdout",
     "output_type": "stream",
     "text": [
      "\n",
      "\tAugmented Dickey-Fuller Test\n",
      "\n",
      "data:  d[, i]\n",
      "Dickey-Fuller = -16.717, Lag order = 16, p-value = 0.01\n",
      "alternative hypothesis: stationary\n",
      "\n"
     ]
    }
   ],
   "source": [
    "for(i in 1:10){\n",
    "    print(adf.test(d[,i]))}"
   ]
  },
  {
   "cell_type": "code",
   "execution_count": 12,
   "id": "a23bf75a-9795-4c0a-bd0b-3363df0d3168",
   "metadata": {},
   "outputs": [
    {
     "name": "stderr",
     "output_type": "stream",
     "text": [
      "Warning message in adf.test(d[, i]):\n",
      "“p-value smaller than printed p-value”\n",
      "Warning message in adf.test(d[, i]):\n",
      "“p-value smaller than printed p-value”\n",
      "Warning message in adf.test(d[, i]):\n",
      "“p-value smaller than printed p-value”\n",
      "Warning message in adf.test(d[, i]):\n",
      "“p-value smaller than printed p-value”\n",
      "Warning message in adf.test(d[, i]):\n",
      "“p-value smaller than printed p-value”\n",
      "Warning message in adf.test(d[, i]):\n",
      "“p-value smaller than printed p-value”\n",
      "Warning message in adf.test(d[, i]):\n",
      "“p-value smaller than printed p-value”\n",
      "Warning message in adf.test(d[, i]):\n",
      "“p-value smaller than printed p-value”\n",
      "Warning message in adf.test(d[, i]):\n",
      "“p-value smaller than printed p-value”\n",
      "Warning message in adf.test(d[, i]):\n",
      "“p-value smaller than printed p-value”\n"
     ]
    }
   ],
   "source": [
    "adf <- rep(NA,10)\n",
    "for(i in 1:10){\n",
    "    adf[i] = adf.test(d[,i])$statistic\n",
    "}"
   ]
  },
  {
   "cell_type": "markdown",
   "id": "38237019-523a-4122-8d5c-f12e6fae05f0",
   "metadata": {},
   "source": [
    "## KPSS"
   ]
  },
  {
   "cell_type": "code",
   "execution_count": 13,
   "id": "c23c6991-2f4d-49a3-891e-40a951df473e",
   "metadata": {},
   "outputs": [
    {
     "name": "stderr",
     "output_type": "stream",
     "text": [
      "Warning message in kpss.test(d[, i]):\n",
      "“p-value greater than printed p-value”\n"
     ]
    },
    {
     "name": "stdout",
     "output_type": "stream",
     "text": [
      "\n",
      "\tKPSS Test for Level Stationarity\n",
      "\n",
      "data:  d[, i]\n",
      "KPSS Level = 0.28933, Truncation lag parameter = 10, p-value = 0.1\n",
      "\n"
     ]
    },
    {
     "name": "stderr",
     "output_type": "stream",
     "text": [
      "Warning message in kpss.test(d[, i]):\n",
      "“p-value greater than printed p-value”\n"
     ]
    },
    {
     "name": "stdout",
     "output_type": "stream",
     "text": [
      "\n",
      "\tKPSS Test for Level Stationarity\n",
      "\n",
      "data:  d[, i]\n",
      "KPSS Level = 0.3103, Truncation lag parameter = 10, p-value = 0.1\n",
      "\n"
     ]
    },
    {
     "name": "stderr",
     "output_type": "stream",
     "text": [
      "Warning message in kpss.test(d[, i]):\n",
      "“p-value greater than printed p-value”\n"
     ]
    },
    {
     "name": "stdout",
     "output_type": "stream",
     "text": [
      "\n",
      "\tKPSS Test for Level Stationarity\n",
      "\n",
      "data:  d[, i]\n",
      "KPSS Level = 0.034222, Truncation lag parameter = 10, p-value = 0.1\n",
      "\n"
     ]
    },
    {
     "name": "stderr",
     "output_type": "stream",
     "text": [
      "Warning message in kpss.test(d[, i]):\n",
      "“p-value greater than printed p-value”\n"
     ]
    },
    {
     "name": "stdout",
     "output_type": "stream",
     "text": [
      "\n",
      "\tKPSS Test for Level Stationarity\n",
      "\n",
      "data:  d[, i]\n",
      "KPSS Level = 0.063289, Truncation lag parameter = 10, p-value = 0.1\n",
      "\n"
     ]
    },
    {
     "name": "stderr",
     "output_type": "stream",
     "text": [
      "Warning message in kpss.test(d[, i]):\n",
      "“p-value greater than printed p-value”\n"
     ]
    },
    {
     "name": "stdout",
     "output_type": "stream",
     "text": [
      "\n",
      "\tKPSS Test for Level Stationarity\n",
      "\n",
      "data:  d[, i]\n",
      "KPSS Level = 0.062784, Truncation lag parameter = 10, p-value = 0.1\n",
      "\n"
     ]
    },
    {
     "name": "stderr",
     "output_type": "stream",
     "text": [
      "Warning message in kpss.test(d[, i]):\n",
      "“p-value greater than printed p-value”\n"
     ]
    },
    {
     "name": "stdout",
     "output_type": "stream",
     "text": [
      "\n",
      "\tKPSS Test for Level Stationarity\n",
      "\n",
      "data:  d[, i]\n",
      "KPSS Level = 0.064193, Truncation lag parameter = 10, p-value = 0.1\n",
      "\n"
     ]
    },
    {
     "name": "stderr",
     "output_type": "stream",
     "text": [
      "Warning message in kpss.test(d[, i]):\n",
      "“p-value greater than printed p-value”\n"
     ]
    },
    {
     "name": "stdout",
     "output_type": "stream",
     "text": [
      "\n",
      "\tKPSS Test for Level Stationarity\n",
      "\n",
      "data:  d[, i]\n",
      "KPSS Level = 0.12193, Truncation lag parameter = 10, p-value = 0.1\n",
      "\n"
     ]
    },
    {
     "name": "stderr",
     "output_type": "stream",
     "text": [
      "Warning message in kpss.test(d[, i]):\n",
      "“p-value greater than printed p-value”\n"
     ]
    },
    {
     "name": "stdout",
     "output_type": "stream",
     "text": [
      "\n",
      "\tKPSS Test for Level Stationarity\n",
      "\n",
      "data:  d[, i]\n",
      "KPSS Level = 0.15306, Truncation lag parameter = 10, p-value = 0.1\n",
      "\n"
     ]
    },
    {
     "name": "stderr",
     "output_type": "stream",
     "text": [
      "Warning message in kpss.test(d[, i]):\n",
      "“p-value greater than printed p-value”\n"
     ]
    },
    {
     "name": "stdout",
     "output_type": "stream",
     "text": [
      "\n",
      "\tKPSS Test for Level Stationarity\n",
      "\n",
      "data:  d[, i]\n",
      "KPSS Level = 0.077411, Truncation lag parameter = 10, p-value = 0.1\n",
      "\n"
     ]
    },
    {
     "name": "stderr",
     "output_type": "stream",
     "text": [
      "Warning message in kpss.test(d[, i]):\n",
      "“p-value greater than printed p-value”\n"
     ]
    },
    {
     "name": "stdout",
     "output_type": "stream",
     "text": [
      "\n",
      "\tKPSS Test for Level Stationarity\n",
      "\n",
      "data:  d[, i]\n",
      "KPSS Level = 0.097462, Truncation lag parameter = 10, p-value = 0.1\n",
      "\n"
     ]
    }
   ],
   "source": [
    "for(i in 1:10){\n",
    "    print(kpss.test(d[,i]))}"
   ]
  },
  {
   "cell_type": "code",
   "execution_count": 14,
   "id": "181cebc1-d134-4cda-8cb0-c6444f823320",
   "metadata": {},
   "outputs": [
    {
     "name": "stderr",
     "output_type": "stream",
     "text": [
      "Warning message in kpss.test(d[, i]):\n",
      "“p-value greater than printed p-value”\n",
      "Warning message in kpss.test(d[, i]):\n",
      "“p-value greater than printed p-value”\n",
      "Warning message in kpss.test(d[, i]):\n",
      "“p-value greater than printed p-value”\n",
      "Warning message in kpss.test(d[, i]):\n",
      "“p-value greater than printed p-value”\n",
      "Warning message in kpss.test(d[, i]):\n",
      "“p-value greater than printed p-value”\n",
      "Warning message in kpss.test(d[, i]):\n",
      "“p-value greater than printed p-value”\n",
      "Warning message in kpss.test(d[, i]):\n",
      "“p-value greater than printed p-value”\n",
      "Warning message in kpss.test(d[, i]):\n",
      "“p-value greater than printed p-value”\n",
      "Warning message in kpss.test(d[, i]):\n",
      "“p-value greater than printed p-value”\n",
      "Warning message in kpss.test(d[, i]):\n",
      "“p-value greater than printed p-value”\n"
     ]
    }
   ],
   "source": [
    "kpss <- rep(NA,10)\n",
    "for(i in 1:10){\n",
    "    kpss[i] = kpss.test(d[,i])$statistic\n",
    "}"
   ]
  },
  {
   "cell_type": "markdown",
   "id": "9cc8fe15-fe19-4490-8c41-fbd6fec9bf1e",
   "metadata": {},
   "source": [
    "## Phillips-Perron"
   ]
  },
  {
   "cell_type": "code",
   "execution_count": 15,
   "id": "0039758e-c997-4413-b1f5-1f6812f8fd15",
   "metadata": {},
   "outputs": [
    {
     "name": "stdout",
     "output_type": "stream",
     "text": [
      "\n",
      "\tPhillips-Perron Unit Root Test\n",
      "\n",
      "data:  d[, i]\n",
      "Dickey-Fuller = -64.033, Truncation lag parameter = 10, p-value = 0.01\n",
      "\n",
      "\n",
      "\tPhillips-Perron Unit Root Test\n",
      "\n",
      "data:  d[, i]\n",
      "Dickey-Fuller = -61.742, Truncation lag parameter = 10, p-value = 0.01\n",
      "\n",
      "\n",
      "\tPhillips-Perron Unit Root Test\n",
      "\n",
      "data:  d[, i]\n",
      "Dickey-Fuller = -64.311, Truncation lag parameter = 10, p-value = 0.01\n",
      "\n",
      "\n",
      "\tPhillips-Perron Unit Root Test\n",
      "\n",
      "data:  d[, i]\n",
      "Dickey-Fuller = -62.02, Truncation lag parameter = 10, p-value = 0.01\n",
      "\n",
      "\n",
      "\tPhillips-Perron Unit Root Test\n",
      "\n",
      "data:  d[, i]\n",
      "Dickey-Fuller = -64.434, Truncation lag parameter = 10, p-value = 0.01\n",
      "\n",
      "\n",
      "\tPhillips-Perron Unit Root Test\n",
      "\n",
      "data:  d[, i]\n",
      "Dickey-Fuller = -62.099, Truncation lag parameter = 10, p-value = 0.01\n",
      "\n",
      "\n",
      "\tPhillips-Perron Unit Root Test\n",
      "\n",
      "data:  d[, i]\n",
      "Dickey-Fuller = -62.455, Truncation lag parameter = 10, p-value = 0.01\n",
      "\n",
      "\n",
      "\tPhillips-Perron Unit Root Test\n",
      "\n",
      "data:  d[, i]\n",
      "Dickey-Fuller = -63.834, Truncation lag parameter = 10, p-value = 0.01\n",
      "\n",
      "\n",
      "\tPhillips-Perron Unit Root Test\n",
      "\n",
      "data:  d[, i]\n",
      "Dickey-Fuller = -72.137, Truncation lag parameter = 10, p-value = 0.01\n",
      "\n",
      "\n",
      "\tPhillips-Perron Unit Root Test\n",
      "\n",
      "data:  d[, i]\n",
      "Dickey-Fuller = -69.145, Truncation lag parameter = 10, p-value = 0.01\n",
      "\n"
     ]
    }
   ],
   "source": [
    "for(i in 1:10){\n",
    "    print(PP.test(d[,i]))}"
   ]
  },
  {
   "cell_type": "code",
   "execution_count": 16,
   "id": "fb4e431d-2183-45df-b6c3-ab5013c38125",
   "metadata": {},
   "outputs": [],
   "source": [
    "pp <- rep(NA,10)\n",
    "for(i in 1:10){\n",
    "    pp[i] = PP.test(d[,i])$statistic\n",
    "}"
   ]
  },
  {
   "cell_type": "markdown",
   "id": "cba12cdf-e80a-4b3e-922f-8f4f1df50c9c",
   "metadata": {},
   "source": [
    "# Serial Correlation tests"
   ]
  },
  {
   "cell_type": "markdown",
   "id": "5723783f-e1da-4a1f-bb18-e55960cf83c3",
   "metadata": {},
   "source": [
    "#### Tests (Ljung-Box) for serial correlation for 1,5 and 10 lags, first for plain log returns and second for the squared returns"
   ]
  },
  {
   "cell_type": "markdown",
   "id": "489d6627-68ff-44a7-bf92-cea47a9ce0e1",
   "metadata": {},
   "source": [
    "## Ljung-Box(1)"
   ]
  },
  {
   "cell_type": "code",
   "execution_count": 17,
   "id": "7a5942fc-040c-45ba-a4e7-6104691e809b",
   "metadata": {},
   "outputs": [
    {
     "name": "stdout",
     "output_type": "stream",
     "text": [
      "\n",
      "\tBox-Ljung test\n",
      "\n",
      "data:  d[, i]\n",
      "X-squared = 0.21422, df = 1, p-value = 0.6435\n",
      "\n",
      "\n",
      "\tBox-Ljung test\n",
      "\n",
      "data:  d[, i]\n",
      "X-squared = 9.1287, df = 1, p-value = 0.002516\n",
      "\n",
      "\n",
      "\tBox-Ljung test\n",
      "\n",
      "data:  d[, i]\n",
      "X-squared = 0.07538, df = 1, p-value = 0.7837\n",
      "\n",
      "\n",
      "\tBox-Ljung test\n",
      "\n",
      "data:  d[, i]\n",
      "X-squared = 6.6619, df = 1, p-value = 0.009849\n",
      "\n",
      "\n",
      "\tBox-Ljung test\n",
      "\n",
      "data:  d[, i]\n",
      "X-squared = 0.026124, df = 1, p-value = 0.8716\n",
      "\n",
      "\n",
      "\tBox-Ljung test\n",
      "\n",
      "data:  d[, i]\n",
      "X-squared = 6.2576, df = 1, p-value = 0.01237\n",
      "\n",
      "\n",
      "\tBox-Ljung test\n",
      "\n",
      "data:  d[, i]\n",
      "X-squared = 4.6465, df = 1, p-value = 0.03112\n",
      "\n",
      "\n",
      "\tBox-Ljung test\n",
      "\n",
      "data:  d[, i]\n",
      "X-squared = 0.67803, df = 1, p-value = 0.4103\n",
      "\n",
      "\n",
      "\tBox-Ljung test\n",
      "\n",
      "data:  d[, i]\n",
      "X-squared = 54.762, df = 1, p-value = 1.36e-13\n",
      "\n",
      "\n",
      "\tBox-Ljung test\n",
      "\n",
      "data:  d[, i]\n",
      "X-squared = 19.981, df = 1, p-value = 7.82e-06\n",
      "\n"
     ]
    }
   ],
   "source": [
    "for(i in 1:10){\n",
    "    print(Box.test(x = d[,i],lag = 1,type = \"Ljung-Box\"))\n",
    "}"
   ]
  },
  {
   "cell_type": "code",
   "execution_count": 18,
   "id": "dc54a42b-a8f6-4ee8-ae23-6dfb622e82f9",
   "metadata": {},
   "outputs": [],
   "source": [
    "lbox1 <- rep(NA,10)\n",
    "for(i in 1:10){\n",
    "    lbox1[i] = Box.test(x = d[,i],lag = 1,type = \"Ljung-Box\")$statistic\n",
    "}"
   ]
  },
  {
   "cell_type": "markdown",
   "id": "41213f96-2b2b-405a-96f7-3bc1dfaee928",
   "metadata": {},
   "source": [
    "## Ljung-Box(5)"
   ]
  },
  {
   "cell_type": "code",
   "execution_count": 19,
   "id": "f6db352f-0812-4f8f-a4dc-a1f39cb0be01",
   "metadata": {},
   "outputs": [
    {
     "name": "stdout",
     "output_type": "stream",
     "text": [
      "\n",
      "\tBox-Ljung test\n",
      "\n",
      "data:  d[, i]\n",
      "X-squared = 1.9591, df = 5, p-value = 0.8548\n",
      "\n",
      "\n",
      "\tBox-Ljung test\n",
      "\n",
      "data:  d[, i]\n",
      "X-squared = 13.921, df = 5, p-value = 0.01612\n",
      "\n",
      "\n",
      "\tBox-Ljung test\n",
      "\n",
      "data:  d[, i]\n",
      "X-squared = 8.6869, df = 5, p-value = 0.1222\n",
      "\n",
      "\n",
      "\tBox-Ljung test\n",
      "\n",
      "data:  d[, i]\n",
      "X-squared = 19.504, df = 5, p-value = 0.001548\n",
      "\n",
      "\n",
      "\tBox-Ljung test\n",
      "\n",
      "data:  d[, i]\n",
      "X-squared = 1.3819, df = 5, p-value = 0.9263\n",
      "\n",
      "\n",
      "\tBox-Ljung test\n",
      "\n",
      "data:  d[, i]\n",
      "X-squared = 18.798, df = 5, p-value = 0.002096\n",
      "\n",
      "\n",
      "\tBox-Ljung test\n",
      "\n",
      "data:  d[, i]\n",
      "X-squared = 13.585, df = 5, p-value = 0.01847\n",
      "\n",
      "\n",
      "\tBox-Ljung test\n",
      "\n",
      "data:  d[, i]\n",
      "X-squared = 5.0538, df = 5, p-value = 0.4093\n",
      "\n",
      "\n",
      "\tBox-Ljung test\n",
      "\n",
      "data:  d[, i]\n",
      "X-squared = 141.11, df = 5, p-value < 2.2e-16\n",
      "\n",
      "\n",
      "\tBox-Ljung test\n",
      "\n",
      "data:  d[, i]\n",
      "X-squared = 65.965, df = 5, p-value = 7.065e-13\n",
      "\n"
     ]
    }
   ],
   "source": [
    "for(i in 1:10){\n",
    "    print(Box.test(x = d[,i],lag = 5,type = \"Ljung-Box\"))\n",
    "}"
   ]
  },
  {
   "cell_type": "code",
   "execution_count": 20,
   "id": "79401f22-9655-43ab-a35f-e0a0432201bc",
   "metadata": {},
   "outputs": [],
   "source": [
    "lbox5 <- rep(NA,10)\n",
    "for(i in 1:10){\n",
    "    lbox5[i] = Box.test(x = d[,i],lag = 5,type = \"Ljung-Box\")$statistic\n",
    "}"
   ]
  },
  {
   "cell_type": "markdown",
   "id": "606cce47-6511-43fb-976b-fdbe84d7712d",
   "metadata": {},
   "source": [
    "## Ljung-Box(10)"
   ]
  },
  {
   "cell_type": "code",
   "execution_count": 21,
   "id": "431780b2-3c99-452b-8957-60e141389947",
   "metadata": {},
   "outputs": [
    {
     "name": "stdout",
     "output_type": "stream",
     "text": [
      "\n",
      "\tBox-Ljung test\n",
      "\n",
      "data:  d[, i]\n",
      "X-squared = 9.3277, df = 10, p-value = 0.5013\n",
      "\n",
      "\n",
      "\tBox-Ljung test\n",
      "\n",
      "data:  d[, i]\n",
      "X-squared = 19.502, df = 10, p-value = 0.03434\n",
      "\n",
      "\n",
      "\tBox-Ljung test\n",
      "\n",
      "data:  d[, i]\n",
      "X-squared = 26.765, df = 10, p-value = 0.002836\n",
      "\n",
      "\n",
      "\tBox-Ljung test\n",
      "\n",
      "data:  d[, i]\n",
      "X-squared = 32.659, df = 10, p-value = 0.0003108\n",
      "\n",
      "\n",
      "\tBox-Ljung test\n",
      "\n",
      "data:  d[, i]\n",
      "X-squared = 15.266, df = 10, p-value = 0.1227\n",
      "\n",
      "\n",
      "\tBox-Ljung test\n",
      "\n",
      "data:  d[, i]\n",
      "X-squared = 31.882, df = 10, p-value = 0.000419\n",
      "\n",
      "\n",
      "\tBox-Ljung test\n",
      "\n",
      "data:  d[, i]\n",
      "X-squared = 21.042, df = 10, p-value = 0.02081\n",
      "\n",
      "\n",
      "\tBox-Ljung test\n",
      "\n",
      "data:  d[, i]\n",
      "X-squared = 18.503, df = 10, p-value = 0.04704\n",
      "\n",
      "\n",
      "\tBox-Ljung test\n",
      "\n",
      "data:  d[, i]\n",
      "X-squared = 163.24, df = 10, p-value < 2.2e-16\n",
      "\n",
      "\n",
      "\tBox-Ljung test\n",
      "\n",
      "data:  d[, i]\n",
      "X-squared = 74.682, df = 10, p-value = 5.487e-12\n",
      "\n"
     ]
    }
   ],
   "source": [
    "for(i in 1:10){\n",
    "    print(Box.test(x = d[,i],lag = 10,type = \"Ljung-Box\"))\n",
    "}"
   ]
  },
  {
   "cell_type": "code",
   "execution_count": 22,
   "id": "b73c53c1-ee0a-48cd-8508-fe93ff5c8f33",
   "metadata": {},
   "outputs": [],
   "source": [
    "lbox10 <- rep(NA,10)\n",
    "for(i in 1:10){\n",
    "    lbox10[i] = Box.test(x = d[,i],lag = 10,type = \"Ljung-Box\")$statistic\n",
    "}"
   ]
  },
  {
   "cell_type": "markdown",
   "id": "2c367ad3-e46b-42e3-8e96-a1e05dc79472",
   "metadata": {},
   "source": [
    "# Ljung-Box tests for squared returns"
   ]
  },
  {
   "cell_type": "markdown",
   "id": "4d50c1ce-d12d-4e3f-a3c0-97953635aac2",
   "metadata": {},
   "source": [
    "## LB(1)^2"
   ]
  },
  {
   "cell_type": "code",
   "execution_count": 23,
   "id": "916b4c64-997e-4009-bed2-ae5effa73cf7",
   "metadata": {},
   "outputs": [
    {
     "name": "stdout",
     "output_type": "stream",
     "text": [
      "\n",
      "\tBox-Ljung test\n",
      "\n",
      "data:  d[, i]^2\n",
      "X-squared = 88.956, df = 1, p-value < 2.2e-16\n",
      "\n",
      "\n",
      "\tBox-Ljung test\n",
      "\n",
      "data:  d[, i]^2\n",
      "X-squared = 133.93, df = 1, p-value < 2.2e-16\n",
      "\n",
      "\n",
      "\tBox-Ljung test\n",
      "\n",
      "data:  d[, i]^2\n",
      "X-squared = 108.84, df = 1, p-value < 2.2e-16\n",
      "\n",
      "\n",
      "\tBox-Ljung test\n",
      "\n",
      "data:  d[, i]^2\n",
      "X-squared = 129.84, df = 1, p-value < 2.2e-16\n",
      "\n",
      "\n",
      "\tBox-Ljung test\n",
      "\n",
      "data:  d[, i]^2\n",
      "X-squared = 0.070108, df = 1, p-value = 0.7912\n",
      "\n",
      "\n",
      "\tBox-Ljung test\n",
      "\n",
      "data:  d[, i]^2\n",
      "X-squared = 126.37, df = 1, p-value < 2.2e-16\n",
      "\n",
      "\n",
      "\tBox-Ljung test\n",
      "\n",
      "data:  d[, i]^2\n",
      "X-squared = 181.04, df = 1, p-value < 2.2e-16\n",
      "\n",
      "\n",
      "\tBox-Ljung test\n",
      "\n",
      "data:  d[, i]^2\n",
      "X-squared = 0.44746, df = 1, p-value = 0.5035\n",
      "\n",
      "\n",
      "\tBox-Ljung test\n",
      "\n",
      "data:  d[, i]^2\n",
      "X-squared = 687.12, df = 1, p-value < 2.2e-16\n",
      "\n",
      "\n",
      "\tBox-Ljung test\n",
      "\n",
      "data:  d[, i]^2\n",
      "X-squared = 672.64, df = 1, p-value < 2.2e-16\n",
      "\n"
     ]
    }
   ],
   "source": [
    "for(i in 1:10){\n",
    "    print(Box.test(x = d[,i]^2,lag = 1,type = \"Ljung-Box\"))\n",
    "}"
   ]
  },
  {
   "cell_type": "code",
   "execution_count": 24,
   "id": "22769ecc-4aff-4792-b83b-718e5fa6b229",
   "metadata": {},
   "outputs": [],
   "source": [
    "lboxsq1 <- rep(NA,10)\n",
    "for(i in 1:10){\n",
    "    lboxsq1[i] = Box.test(x = d[,i]^2,lag = 1,type = \"Ljung-Box\")$statistic\n",
    "}"
   ]
  },
  {
   "cell_type": "markdown",
   "id": "efa669eb-d4c1-437f-9108-2bb76ea912b0",
   "metadata": {},
   "source": [
    "## LB(5)^2"
   ]
  },
  {
   "cell_type": "code",
   "execution_count": 25,
   "id": "8c442043-3f5b-44b0-a708-6568f16ea2e8",
   "metadata": {},
   "outputs": [
    {
     "name": "stdout",
     "output_type": "stream",
     "text": [
      "\n",
      "\tBox-Ljung test\n",
      "\n",
      "data:  d[, i]^2\n",
      "X-squared = 665.52, df = 5, p-value < 2.2e-16\n",
      "\n",
      "\n",
      "\tBox-Ljung test\n",
      "\n",
      "data:  d[, i]^2\n",
      "X-squared = 746.94, df = 5, p-value < 2.2e-16\n",
      "\n",
      "\n",
      "\tBox-Ljung test\n",
      "\n",
      "data:  d[, i]^2\n",
      "X-squared = 517.83, df = 5, p-value < 2.2e-16\n",
      "\n",
      "\n",
      "\tBox-Ljung test\n",
      "\n",
      "data:  d[, i]^2\n",
      "X-squared = 260.56, df = 5, p-value < 2.2e-16\n",
      "\n",
      "\n",
      "\tBox-Ljung test\n",
      "\n",
      "data:  d[, i]^2\n",
      "X-squared = 1.8191, df = 5, p-value = 0.8736\n",
      "\n",
      "\n",
      "\tBox-Ljung test\n",
      "\n",
      "data:  d[, i]^2\n",
      "X-squared = 258.74, df = 5, p-value < 2.2e-16\n",
      "\n",
      "\n",
      "\tBox-Ljung test\n",
      "\n",
      "data:  d[, i]^2\n",
      "X-squared = 310.31, df = 5, p-value < 2.2e-16\n",
      "\n",
      "\n",
      "\tBox-Ljung test\n",
      "\n",
      "data:  d[, i]^2\n",
      "X-squared = 3.1449, df = 5, p-value = 0.6777\n",
      "\n",
      "\n",
      "\tBox-Ljung test\n",
      "\n",
      "data:  d[, i]^2\n",
      "X-squared = 1092.8, df = 5, p-value < 2.2e-16\n",
      "\n",
      "\n",
      "\tBox-Ljung test\n",
      "\n",
      "data:  d[, i]^2\n",
      "X-squared = 994.35, df = 5, p-value < 2.2e-16\n",
      "\n"
     ]
    }
   ],
   "source": [
    "for(i in 1:10){\n",
    "    print(Box.test(x = d[,i]^2,lag = 5,type = \"Ljung-Box\"))\n",
    "}"
   ]
  },
  {
   "cell_type": "code",
   "execution_count": 26,
   "id": "8e899c72-731e-42f0-b38b-010210d0363d",
   "metadata": {},
   "outputs": [],
   "source": [
    "lboxsq5 <- rep(NA,10)\n",
    "for(i in 1:10){\n",
    "    lboxsq5[i] = Box.test(x = d[,i]^2,lag = 5,type = \"Ljung-Box\")$statistic\n",
    "}"
   ]
  },
  {
   "cell_type": "markdown",
   "id": "a84414fc-0e68-46e1-a41a-c7b0a0ab1c3c",
   "metadata": {},
   "source": [
    "## LB(10)^2"
   ]
  },
  {
   "cell_type": "code",
   "execution_count": 27,
   "id": "11e66f6f-5309-4307-a2d9-df7a551be35f",
   "metadata": {},
   "outputs": [
    {
     "name": "stdout",
     "output_type": "stream",
     "text": [
      "\n",
      "\tBox-Ljung test\n",
      "\n",
      "data:  d[, i]^2\n",
      "X-squared = 943.69, df = 10, p-value < 2.2e-16\n",
      "\n",
      "\n",
      "\tBox-Ljung test\n",
      "\n",
      "data:  d[, i]^2\n",
      "X-squared = 1170.4, df = 10, p-value < 2.2e-16\n",
      "\n",
      "\n",
      "\tBox-Ljung test\n",
      "\n",
      "data:  d[, i]^2\n",
      "X-squared = 968.88, df = 10, p-value < 2.2e-16\n",
      "\n",
      "\n",
      "\tBox-Ljung test\n",
      "\n",
      "data:  d[, i]^2\n",
      "X-squared = 364.56, df = 10, p-value < 2.2e-16\n",
      "\n",
      "\n",
      "\tBox-Ljung test\n",
      "\n",
      "data:  d[, i]^2\n",
      "X-squared = 4.4067, df = 10, p-value = 0.9271\n",
      "\n",
      "\n",
      "\tBox-Ljung test\n",
      "\n",
      "data:  d[, i]^2\n",
      "X-squared = 365.04, df = 10, p-value < 2.2e-16\n",
      "\n",
      "\n",
      "\tBox-Ljung test\n",
      "\n",
      "data:  d[, i]^2\n",
      "X-squared = 447.02, df = 10, p-value < 2.2e-16\n",
      "\n",
      "\n",
      "\tBox-Ljung test\n",
      "\n",
      "data:  d[, i]^2\n",
      "X-squared = 8.5, df = 10, p-value = 0.5801\n",
      "\n",
      "\n",
      "\tBox-Ljung test\n",
      "\n",
      "data:  d[, i]^2\n",
      "X-squared = 1223.2, df = 10, p-value < 2.2e-16\n",
      "\n",
      "\n",
      "\tBox-Ljung test\n",
      "\n",
      "data:  d[, i]^2\n",
      "X-squared = 1127, df = 10, p-value < 2.2e-16\n",
      "\n"
     ]
    }
   ],
   "source": [
    "for(i in 1:10){\n",
    "    print(Box.test(x = d[,i]^2,lag = 10,type = \"Ljung-Box\"))\n",
    "}"
   ]
  },
  {
   "cell_type": "code",
   "execution_count": 28,
   "id": "340c5a44-0e76-4929-9568-df89e6e848f3",
   "metadata": {},
   "outputs": [],
   "source": [
    "lboxsq10 <- rep(NA,10)\n",
    "for(i in 1:10){\n",
    "    lboxsq10[i] = Box.test(x = d[,i]^2,lag = 10,type = \"Ljung-Box\")$statistic\n",
    "}"
   ]
  },
  {
   "cell_type": "markdown",
   "id": "57f3b1a0-5e84-4b32-b370-c2ed91bea114",
   "metadata": {},
   "source": [
    "## ARCH-LM Test"
   ]
  },
  {
   "cell_type": "code",
   "execution_count": 29,
   "id": "c06d4547-49c4-40e4-bb9a-5c1db4de48d9",
   "metadata": {},
   "outputs": [
    {
     "name": "stdout",
     "output_type": "stream",
     "text": [
      "\n",
      "\tLagrange Multiplier test\n",
      "\n",
      "data:  y\n",
      "LM = 9915.7, df = 1, p-value < 2.2e-16\n",
      "alternative hypothesis: y is heteroscedastic\n",
      "\n",
      "\n",
      "\tLagrange Multiplier test\n",
      "\n",
      "data:  y\n",
      "LM = 11305, df = 1, p-value < 2.2e-16\n",
      "alternative hypothesis: y is heteroscedastic\n",
      "\n",
      "\n",
      "\tLagrange Multiplier test\n",
      "\n",
      "data:  y\n",
      "LM = 6074.4, df = 1, p-value < 2.2e-16\n",
      "alternative hypothesis: y is heteroscedastic\n",
      "\n",
      "\n",
      "\tLagrange Multiplier test\n",
      "\n",
      "data:  y\n",
      "LM = 17116, df = 1, p-value < 2.2e-16\n",
      "alternative hypothesis: y is heteroscedastic\n",
      "\n",
      "\n",
      "\tLagrange Multiplier test\n",
      "\n",
      "data:  y\n",
      "LM = 239143, df = 1, p-value < 2.2e-16\n",
      "alternative hypothesis: y is heteroscedastic\n",
      "\n",
      "\n",
      "\tLagrange Multiplier test\n",
      "\n",
      "data:  y\n",
      "LM = 17236, df = 1, p-value < 2.2e-16\n",
      "alternative hypothesis: y is heteroscedastic\n",
      "\n",
      "\n",
      "\tLagrange Multiplier test\n",
      "\n",
      "data:  y\n",
      "LM = 10731, df = 1, p-value < 2.2e-16\n",
      "alternative hypothesis: y is heteroscedastic\n",
      "\n",
      "\n",
      "\tLagrange Multiplier test\n",
      "\n",
      "data:  y\n",
      "LM = 212722, df = 1, p-value < 2.2e-16\n",
      "alternative hypothesis: y is heteroscedastic\n",
      "\n",
      "\n",
      "\tLagrange Multiplier test\n",
      "\n",
      "data:  y\n",
      "LM = 9112.2, df = 1, p-value < 2.2e-16\n",
      "alternative hypothesis: y is heteroscedastic\n",
      "\n",
      "\n",
      "\tLagrange Multiplier test\n",
      "\n",
      "data:  y\n",
      "LM = 8406.5, df = 1, p-value < 2.2e-16\n",
      "alternative hypothesis: y is heteroscedastic\n",
      "\n"
     ]
    }
   ],
   "source": [
    "for(i in 1:10){\n",
    "    print(arch.test(d[,i],arch = c(\"Lm\")))}"
   ]
  },
  {
   "cell_type": "code",
   "execution_count": 30,
   "id": "773b4531-db89-4d11-885d-b0ab2642b6ea",
   "metadata": {},
   "outputs": [],
   "source": [
    "ArchLm <- rep(NA,10)\n",
    "for(i in 1:10){\n",
    "    ArchLm[i] = arch.test((d[,i]),arch = c(\"Lm\"),)$statistic\n",
    "}"
   ]
  },
  {
   "cell_type": "markdown",
   "id": "0d6386f7-8667-4d7b-9baa-37bf61cd19c1",
   "metadata": {},
   "source": [
    "## Jarque Bera Test"
   ]
  },
  {
   "cell_type": "code",
   "execution_count": 31,
   "id": "a4fa94ff-dbf6-498c-a1ca-40e21b697050",
   "metadata": {},
   "outputs": [],
   "source": [
    "jb <- rep(NA,10)\n",
    "for(i in 1:10){\n",
    "    jb[i] = jarque.bera.test(d[,i])$statistic\n",
    "}"
   ]
  },
  {
   "cell_type": "markdown",
   "id": "3e81c884-2481-49bd-ba47-9698cccee9fa",
   "metadata": {},
   "source": [
    "# Tests Table for serial correlation tests and ARCH test (Table 5.6)"
   ]
  },
  {
   "cell_type": "code",
   "execution_count": 32,
   "id": "8d730222-2972-4f0c-b945-965f19f23ce0",
   "metadata": {},
   "outputs": [],
   "source": [
    "ACTests <- data.frame(Variable = c(\n",
    "'US Cocoa','London Cocoa','EURUSD','GBPUSD','CHFUSD','USDGBP','EURGBP','CHFGBP','GHSUSD','GHSGBP'),`Ljung-Box(1)` = lbox1,\n",
    "                    `Ljung-Box(5)` = lbox5,`Ljung-Box(10)` = lbox10, `Ljung-Box^2(1)` = lboxsq1,`Ljung-Box^2(5)` = lboxsq5,\n",
    "                    `Ljung-Box^2(10)` = lboxsq10,`ARCH LM` = ArchLm)"
   ]
  },
  {
   "cell_type": "code",
   "execution_count": 33,
   "id": "9ef30651-aabf-4c9c-b4f3-ab3a9afc8674",
   "metadata": {},
   "outputs": [
    {
     "data": {
      "text/html": [
       "<table class=\"dataframe\">\n",
       "<caption>A data.frame: 10 × 8</caption>\n",
       "<thead>\n",
       "\t<tr><th scope=col>Variable</th><th scope=col>Ljung.Box.1.</th><th scope=col>Ljung.Box.5.</th><th scope=col>Ljung.Box.10.</th><th scope=col>Ljung.Box.2.1.</th><th scope=col>Ljung.Box.2.5.</th><th scope=col>Ljung.Box.2.10.</th><th scope=col>ARCH.LM</th></tr>\n",
       "\t<tr><th scope=col>&lt;chr&gt;</th><th scope=col>&lt;dbl&gt;</th><th scope=col>&lt;dbl&gt;</th><th scope=col>&lt;dbl&gt;</th><th scope=col>&lt;dbl&gt;</th><th scope=col>&lt;dbl&gt;</th><th scope=col>&lt;dbl&gt;</th><th scope=col>&lt;dbl&gt;</th></tr>\n",
       "</thead>\n",
       "<tbody>\n",
       "\t<tr><td>US Cocoa    </td><td> 0.21422357</td><td>  1.959105</td><td>  9.327738</td><td> 88.95619031</td><td> 665.517763</td><td> 943.690951</td><td>  9915.669</td></tr>\n",
       "\t<tr><td>London Cocoa</td><td> 9.12874876</td><td> 13.921042</td><td> 19.501598</td><td>133.92910450</td><td> 746.941356</td><td>1170.416705</td><td> 11305.084</td></tr>\n",
       "\t<tr><td>EURUSD      </td><td> 0.07538001</td><td>  8.686928</td><td> 26.765247</td><td>108.83525890</td><td> 517.833593</td><td> 968.884669</td><td>  6074.445</td></tr>\n",
       "\t<tr><td>GBPUSD      </td><td> 6.66193504</td><td> 19.504167</td><td> 32.658741</td><td>129.84125600</td><td> 260.559501</td><td> 364.562229</td><td> 17116.077</td></tr>\n",
       "\t<tr><td>CHFUSD      </td><td> 0.02612417</td><td>  1.381901</td><td> 15.265669</td><td>  0.07010843</td><td>   1.819106</td><td>   4.406708</td><td>239142.871</td></tr>\n",
       "\t<tr><td>USDGBP      </td><td> 6.25761226</td><td> 18.797692</td><td> 31.882143</td><td>126.37251713</td><td> 258.739980</td><td> 365.044773</td><td> 17235.840</td></tr>\n",
       "\t<tr><td>EURGBP      </td><td> 4.64651538</td><td> 13.584847</td><td> 21.041596</td><td>181.03584037</td><td> 310.310236</td><td> 447.023439</td><td> 10731.308</td></tr>\n",
       "\t<tr><td>CHFGBP      </td><td> 0.67802870</td><td>  5.053823</td><td> 18.503429</td><td>  0.44745862</td><td>   3.144891</td><td>   8.500036</td><td>212721.905</td></tr>\n",
       "\t<tr><td>GHSUSD      </td><td>54.76189587</td><td>141.108393</td><td>163.241809</td><td>687.11843130</td><td>1092.841110</td><td>1223.193734</td><td>  9112.155</td></tr>\n",
       "\t<tr><td>GHSGBP      </td><td>19.98128122</td><td> 65.965488</td><td> 74.681945</td><td>672.64175942</td><td> 994.346245</td><td>1127.049820</td><td>  8406.508</td></tr>\n",
       "</tbody>\n",
       "</table>\n"
      ],
      "text/latex": [
       "A data.frame: 10 × 8\n",
       "\\begin{tabular}{llllllll}\n",
       " Variable & Ljung.Box.1. & Ljung.Box.5. & Ljung.Box.10. & Ljung.Box.2.1. & Ljung.Box.2.5. & Ljung.Box.2.10. & ARCH.LM\\\\\n",
       " <chr> & <dbl> & <dbl> & <dbl> & <dbl> & <dbl> & <dbl> & <dbl>\\\\\n",
       "\\hline\n",
       "\t US Cocoa     &  0.21422357 &   1.959105 &   9.327738 &  88.95619031 &  665.517763 &  943.690951 &   9915.669\\\\\n",
       "\t London Cocoa &  9.12874876 &  13.921042 &  19.501598 & 133.92910450 &  746.941356 & 1170.416705 &  11305.084\\\\\n",
       "\t EURUSD       &  0.07538001 &   8.686928 &  26.765247 & 108.83525890 &  517.833593 &  968.884669 &   6074.445\\\\\n",
       "\t GBPUSD       &  6.66193504 &  19.504167 &  32.658741 & 129.84125600 &  260.559501 &  364.562229 &  17116.077\\\\\n",
       "\t CHFUSD       &  0.02612417 &   1.381901 &  15.265669 &   0.07010843 &    1.819106 &    4.406708 & 239142.871\\\\\n",
       "\t USDGBP       &  6.25761226 &  18.797692 &  31.882143 & 126.37251713 &  258.739980 &  365.044773 &  17235.840\\\\\n",
       "\t EURGBP       &  4.64651538 &  13.584847 &  21.041596 & 181.03584037 &  310.310236 &  447.023439 &  10731.308\\\\\n",
       "\t CHFGBP       &  0.67802870 &   5.053823 &  18.503429 &   0.44745862 &    3.144891 &    8.500036 & 212721.905\\\\\n",
       "\t GHSUSD       & 54.76189587 & 141.108393 & 163.241809 & 687.11843130 & 1092.841110 & 1223.193734 &   9112.155\\\\\n",
       "\t GHSGBP       & 19.98128122 &  65.965488 &  74.681945 & 672.64175942 &  994.346245 & 1127.049820 &   8406.508\\\\\n",
       "\\end{tabular}\n"
      ],
      "text/markdown": [
       "\n",
       "A data.frame: 10 × 8\n",
       "\n",
       "| Variable &lt;chr&gt; | Ljung.Box.1. &lt;dbl&gt; | Ljung.Box.5. &lt;dbl&gt; | Ljung.Box.10. &lt;dbl&gt; | Ljung.Box.2.1. &lt;dbl&gt; | Ljung.Box.2.5. &lt;dbl&gt; | Ljung.Box.2.10. &lt;dbl&gt; | ARCH.LM &lt;dbl&gt; |\n",
       "|---|---|---|---|---|---|---|---|\n",
       "| US Cocoa     |  0.21422357 |   1.959105 |   9.327738 |  88.95619031 |  665.517763 |  943.690951 |   9915.669 |\n",
       "| London Cocoa |  9.12874876 |  13.921042 |  19.501598 | 133.92910450 |  746.941356 | 1170.416705 |  11305.084 |\n",
       "| EURUSD       |  0.07538001 |   8.686928 |  26.765247 | 108.83525890 |  517.833593 |  968.884669 |   6074.445 |\n",
       "| GBPUSD       |  6.66193504 |  19.504167 |  32.658741 | 129.84125600 |  260.559501 |  364.562229 |  17116.077 |\n",
       "| CHFUSD       |  0.02612417 |   1.381901 |  15.265669 |   0.07010843 |    1.819106 |    4.406708 | 239142.871 |\n",
       "| USDGBP       |  6.25761226 |  18.797692 |  31.882143 | 126.37251713 |  258.739980 |  365.044773 |  17235.840 |\n",
       "| EURGBP       |  4.64651538 |  13.584847 |  21.041596 | 181.03584037 |  310.310236 |  447.023439 |  10731.308 |\n",
       "| CHFGBP       |  0.67802870 |   5.053823 |  18.503429 |   0.44745862 |    3.144891 |    8.500036 | 212721.905 |\n",
       "| GHSUSD       | 54.76189587 | 141.108393 | 163.241809 | 687.11843130 | 1092.841110 | 1223.193734 |   9112.155 |\n",
       "| GHSGBP       | 19.98128122 |  65.965488 |  74.681945 | 672.64175942 |  994.346245 | 1127.049820 |   8406.508 |\n",
       "\n"
      ],
      "text/plain": [
       "   Variable     Ljung.Box.1. Ljung.Box.5. Ljung.Box.10. Ljung.Box.2.1.\n",
       "1  US Cocoa      0.21422357    1.959105     9.327738     88.95619031  \n",
       "2  London Cocoa  9.12874876   13.921042    19.501598    133.92910450  \n",
       "3  EURUSD        0.07538001    8.686928    26.765247    108.83525890  \n",
       "4  GBPUSD        6.66193504   19.504167    32.658741    129.84125600  \n",
       "5  CHFUSD        0.02612417    1.381901    15.265669      0.07010843  \n",
       "6  USDGBP        6.25761226   18.797692    31.882143    126.37251713  \n",
       "7  EURGBP        4.64651538   13.584847    21.041596    181.03584037  \n",
       "8  CHFGBP        0.67802870    5.053823    18.503429      0.44745862  \n",
       "9  GHSUSD       54.76189587  141.108393   163.241809    687.11843130  \n",
       "10 GHSGBP       19.98128122   65.965488    74.681945    672.64175942  \n",
       "   Ljung.Box.2.5. Ljung.Box.2.10. ARCH.LM   \n",
       "1   665.517763     943.690951       9915.669\n",
       "2   746.941356    1170.416705      11305.084\n",
       "3   517.833593     968.884669       6074.445\n",
       "4   260.559501     364.562229      17116.077\n",
       "5     1.819106       4.406708     239142.871\n",
       "6   258.739980     365.044773      17235.840\n",
       "7   310.310236     447.023439      10731.308\n",
       "8     3.144891       8.500036     212721.905\n",
       "9  1092.841110    1223.193734       9112.155\n",
       "10  994.346245    1127.049820       8406.508"
      ]
     },
     "metadata": {},
     "output_type": "display_data"
    }
   ],
   "source": [
    "ACTests"
   ]
  },
  {
   "cell_type": "markdown",
   "id": "2e11b976-3d51-40da-8662-39acccbd15e9",
   "metadata": {},
   "source": [
    "# Tests for the presence if unit root and the distributional assumption of normality (Table 5.5)"
   ]
  },
  {
   "cell_type": "code",
   "execution_count": 34,
   "id": "1e2f1971-7c2d-46d4-8621-42f26f79ffdd",
   "metadata": {},
   "outputs": [],
   "source": [
    "URTests <- data.frame(Variable = c(\n",
    "'US Cocoa','London Cocoa','EURUSD','GBPUSD','CHFUSD','USDGBP','EURGBP','CHFGBP','GHSUSD','GHSGBP'),`Phillip-Peron` = pp,KPSS = kpss,ADF = adf,JB = jb)"
   ]
  },
  {
   "cell_type": "code",
   "execution_count": 35,
   "id": "a0aea6ff-fe2a-4cd7-b732-058038eb0abc",
   "metadata": {},
   "outputs": [
    {
     "data": {
      "text/html": [
       "<table class=\"dataframe\">\n",
       "<caption>A data.frame: 10 × 5</caption>\n",
       "<thead>\n",
       "\t<tr><th scope=col>Variable</th><th scope=col>Phillip.Peron</th><th scope=col>KPSS</th><th scope=col>ADF</th><th scope=col>JB</th></tr>\n",
       "\t<tr><th scope=col>&lt;chr&gt;</th><th scope=col>&lt;dbl&gt;</th><th scope=col>&lt;dbl&gt;</th><th scope=col>&lt;dbl&gt;</th><th scope=col>&lt;dbl&gt;</th></tr>\n",
       "</thead>\n",
       "<tbody>\n",
       "\t<tr><td>US Cocoa    </td><td>-64.03342</td><td>0.28932941</td><td>-15.38155</td><td>   3783.0598</td></tr>\n",
       "\t<tr><td>London Cocoa</td><td>-61.74210</td><td>0.31029706</td><td>-14.62295</td><td>   6589.1893</td></tr>\n",
       "\t<tr><td>EURUSD      </td><td>-64.31085</td><td>0.03422224</td><td>-15.49883</td><td>    975.6238</td></tr>\n",
       "\t<tr><td>GBPUSD      </td><td>-62.01959</td><td>0.06328934</td><td>-15.81945</td><td>  21026.7573</td></tr>\n",
       "\t<tr><td>CHFUSD      </td><td>-64.43374</td><td>0.06278362</td><td>-16.35157</td><td>2261930.4242</td></tr>\n",
       "\t<tr><td>USDGBP      </td><td>-62.09909</td><td>0.06419280</td><td>-15.81108</td><td>  20921.6969</td></tr>\n",
       "\t<tr><td>EURGBP      </td><td>-62.45536</td><td>0.12192685</td><td>-16.16844</td><td>   7223.2222</td></tr>\n",
       "\t<tr><td>CHFGBP      </td><td>-63.83401</td><td>0.15306434</td><td>-16.13170</td><td>1817945.9852</td></tr>\n",
       "\t<tr><td>GHSUSD      </td><td>-72.13708</td><td>0.07741107</td><td>-16.39456</td><td> 342776.4699</td></tr>\n",
       "\t<tr><td>GHSGBP      </td><td>-69.14470</td><td>0.09746189</td><td>-16.71721</td><td> 105956.3884</td></tr>\n",
       "</tbody>\n",
       "</table>\n"
      ],
      "text/latex": [
       "A data.frame: 10 × 5\n",
       "\\begin{tabular}{lllll}\n",
       " Variable & Phillip.Peron & KPSS & ADF & JB\\\\\n",
       " <chr> & <dbl> & <dbl> & <dbl> & <dbl>\\\\\n",
       "\\hline\n",
       "\t US Cocoa     & -64.03342 & 0.28932941 & -15.38155 &    3783.0598\\\\\n",
       "\t London Cocoa & -61.74210 & 0.31029706 & -14.62295 &    6589.1893\\\\\n",
       "\t EURUSD       & -64.31085 & 0.03422224 & -15.49883 &     975.6238\\\\\n",
       "\t GBPUSD       & -62.01959 & 0.06328934 & -15.81945 &   21026.7573\\\\\n",
       "\t CHFUSD       & -64.43374 & 0.06278362 & -16.35157 & 2261930.4242\\\\\n",
       "\t USDGBP       & -62.09909 & 0.06419280 & -15.81108 &   20921.6969\\\\\n",
       "\t EURGBP       & -62.45536 & 0.12192685 & -16.16844 &    7223.2222\\\\\n",
       "\t CHFGBP       & -63.83401 & 0.15306434 & -16.13170 & 1817945.9852\\\\\n",
       "\t GHSUSD       & -72.13708 & 0.07741107 & -16.39456 &  342776.4699\\\\\n",
       "\t GHSGBP       & -69.14470 & 0.09746189 & -16.71721 &  105956.3884\\\\\n",
       "\\end{tabular}\n"
      ],
      "text/markdown": [
       "\n",
       "A data.frame: 10 × 5\n",
       "\n",
       "| Variable &lt;chr&gt; | Phillip.Peron &lt;dbl&gt; | KPSS &lt;dbl&gt; | ADF &lt;dbl&gt; | JB &lt;dbl&gt; |\n",
       "|---|---|---|---|---|\n",
       "| US Cocoa     | -64.03342 | 0.28932941 | -15.38155 |    3783.0598 |\n",
       "| London Cocoa | -61.74210 | 0.31029706 | -14.62295 |    6589.1893 |\n",
       "| EURUSD       | -64.31085 | 0.03422224 | -15.49883 |     975.6238 |\n",
       "| GBPUSD       | -62.01959 | 0.06328934 | -15.81945 |   21026.7573 |\n",
       "| CHFUSD       | -64.43374 | 0.06278362 | -16.35157 | 2261930.4242 |\n",
       "| USDGBP       | -62.09909 | 0.06419280 | -15.81108 |   20921.6969 |\n",
       "| EURGBP       | -62.45536 | 0.12192685 | -16.16844 |    7223.2222 |\n",
       "| CHFGBP       | -63.83401 | 0.15306434 | -16.13170 | 1817945.9852 |\n",
       "| GHSUSD       | -72.13708 | 0.07741107 | -16.39456 |  342776.4699 |\n",
       "| GHSGBP       | -69.14470 | 0.09746189 | -16.71721 |  105956.3884 |\n",
       "\n"
      ],
      "text/plain": [
       "   Variable     Phillip.Peron KPSS       ADF       JB          \n",
       "1  US Cocoa     -64.03342     0.28932941 -15.38155    3783.0598\n",
       "2  London Cocoa -61.74210     0.31029706 -14.62295    6589.1893\n",
       "3  EURUSD       -64.31085     0.03422224 -15.49883     975.6238\n",
       "4  GBPUSD       -62.01959     0.06328934 -15.81945   21026.7573\n",
       "5  CHFUSD       -64.43374     0.06278362 -16.35157 2261930.4242\n",
       "6  USDGBP       -62.09909     0.06419280 -15.81108   20921.6969\n",
       "7  EURGBP       -62.45536     0.12192685 -16.16844    7223.2222\n",
       "8  CHFGBP       -63.83401     0.15306434 -16.13170 1817945.9852\n",
       "9  GHSUSD       -72.13708     0.07741107 -16.39456  342776.4699\n",
       "10 GHSGBP       -69.14470     0.09746189 -16.71721  105956.3884"
      ]
     },
     "metadata": {},
     "output_type": "display_data"
    }
   ],
   "source": [
    "URTests"
   ]
  },
  {
   "cell_type": "markdown",
   "id": "b4a5c04d-78a2-495c-aaed-f5975ccd2ec2",
   "metadata": {},
   "source": [
    "# Correlation Matrix for daily data (Table 5.3)"
   ]
  },
  {
   "cell_type": "code",
   "execution_count": 36,
   "id": "09fb9774-dafa-4247-8592-2a543daba37c",
   "metadata": {},
   "outputs": [],
   "source": [
    "corstarsl <- function(x){ \n",
    "  require(Hmisc) \n",
    "x <- as.matrix(x) \n",
    "R <- rcorr(x)$r \n",
    "p <- rcorr(x)$P \n",
    "mystars <- ifelse(p < .001, \"***\", ifelse(p < .01, \"** \", ifelse(p < .05, \"* \", \" \")))\n",
    "R <- format(round(cbind(rep(-1.11, ncol(x)), R), 2))[,-1] \n",
    "Rnew <- matrix(paste(R, mystars, sep=\"\"), ncol=ncol(x)) \n",
    "  diag(Rnew) <- paste(diag(R), \" \", sep=\"\") \n",
    "  rownames(Rnew) <- colnames(x) \n",
    "  colnames(Rnew) <- paste(colnames(x), \"\", sep=\"\") \n",
    "Rnew <- as.matrix(Rnew)\n",
    "Rnew[upper.tri(Rnew, diag = TRUE)] <- \"\"\n",
    "Rnew <- as.data.frame(Rnew) \n",
    "Rnew <- cbind(Rnew[1:length(Rnew)-1])\n",
    "return(Rnew) \n",
    "}"
   ]
  },
  {
   "cell_type": "code",
   "execution_count": 37,
   "id": "db746565-1a93-41b4-81f8-ec4407210a47",
   "metadata": {},
   "outputs": [
    {
     "name": "stdout",
     "output_type": "stream",
     "text": [
      "\n",
      "% Table created by stargazer v.5.2.3 by Marek Hlavac, Social Policy Institute. E-mail: marek.hlavac at gmail.com\n",
      "% Date and time: Thu, Jul 18, 2024 - 14:25:26\n",
      "\\begin{table}[!htbp] \\centering \n",
      "  \\caption{} \n",
      "  \\label{} \n",
      "\\begin{tabular}{@{\\extracolsep{5pt}} cccccccccc} \n",
      "\\\\[-1.8ex]\\hline \n",
      "\\hline \\\\[-1.8ex] \n",
      " & US Cocoa & London Cocoa & EURUSD & GBPUSD & CHFUSD & USDGBP & EURGBP & CHFGBP & GHSUSD \\\\ \n",
      "\\hline \\\\[-1.8ex] \n",
      "US Cocoa &  &  &  &  &  &  &  &  &  \\\\ \n",
      "London Cocoa &  0.88\\textasteriskcentered \\textasteriskcentered \\textasteriskcentered  &  &  &  &  &  &  &  &  \\\\ \n",
      "EURUSD &  0.21\\textasteriskcentered \\textasteriskcentered \\textasteriskcentered  &  0.04\\textasteriskcentered \\textasteriskcentered   &  &  &  &  &  &  &  \\\\ \n",
      "GBPUSD &  0.23\\textasteriskcentered \\textasteriskcentered \\textasteriskcentered  & -0.04\\textasteriskcentered   &  0.61\\textasteriskcentered \\textasteriskcentered \\textasteriskcentered  &  &  &  &  &  &  \\\\ \n",
      "CHFUSD &  0.12\\textasteriskcentered \\textasteriskcentered \\textasteriskcentered  &  0.00  &  0.67\\textasteriskcentered \\textasteriskcentered \\textasteriskcentered  &  0.41\\textasteriskcentered \\textasteriskcentered \\textasteriskcentered  &  &  &  &  &  \\\\ \n",
      "USDGBP & -0.23\\textasteriskcentered \\textasteriskcentered \\textasteriskcentered  &  0.04\\textasteriskcentered   & -0.62\\textasteriskcentered \\textasteriskcentered \\textasteriskcentered  & -1.00\\textasteriskcentered \\textasteriskcentered \\textasteriskcentered  & -0.41\\textasteriskcentered \\textasteriskcentered \\textasteriskcentered  &  &  &  &  \\\\ \n",
      "EURGBP & -0.04\\textasteriskcentered \\textasteriskcentered   &  0.09\\textasteriskcentered \\textasteriskcentered \\textasteriskcentered  &  0.38\\textasteriskcentered \\textasteriskcentered \\textasteriskcentered  & -0.49\\textasteriskcentered \\textasteriskcentered \\textasteriskcentered  &  0.25\\textasteriskcentered \\textasteriskcentered \\textasteriskcentered  &  0.49\\textasteriskcentered \\textasteriskcentered \\textasteriskcentered  &  &  &  \\\\ \n",
      "CHFGBP & -0.09\\textasteriskcentered \\textasteriskcentered \\textasteriskcentered  &  0.03\\textasteriskcentered   &  0.09\\textasteriskcentered \\textasteriskcentered \\textasteriskcentered  & -0.49\\textasteriskcentered \\textasteriskcentered \\textasteriskcentered  &  0.59\\textasteriskcentered \\textasteriskcentered \\textasteriskcentered  &  0.49\\textasteriskcentered \\textasteriskcentered \\textasteriskcentered  &  0.68\\textasteriskcentered \\textasteriskcentered \\textasteriskcentered  &  &  \\\\ \n",
      "GHSUSD & -0.01  & -0.02  & -0.01  & -0.01  &  0.02  &  0.01  &  0.00  &  0.02  &  \\\\ \n",
      "GHSGBP & -0.12\\textasteriskcentered \\textasteriskcentered \\textasteriskcentered  &  0.01  & -0.32\\textasteriskcentered \\textasteriskcentered \\textasteriskcentered  & -0.52\\textasteriskcentered \\textasteriskcentered \\textasteriskcentered  & -0.20\\textasteriskcentered \\textasteriskcentered \\textasteriskcentered  &  0.52\\textasteriskcentered \\textasteriskcentered \\textasteriskcentered  &  0.25\\textasteriskcentered \\textasteriskcentered \\textasteriskcentered  &  0.27\\textasteriskcentered \\textasteriskcentered \\textasteriskcentered  &  0.84\\textasteriskcentered \\textasteriskcentered \\textasteriskcentered  \\\\ \n",
      "\\hline \\\\[-1.8ex] \n",
      "\\end{tabular} \n",
      "\\end{table} \n"
     ]
    }
   ],
   "source": [
    "stargazer(corstarsl(d),summary = F)"
   ]
  },
  {
   "cell_type": "code",
   "execution_count": null,
   "id": "c3496e06-4376-4cb7-acec-115a07bb14a3",
   "metadata": {},
   "outputs": [],
   "source": []
  }
 ],
 "metadata": {
  "kernelspec": {
   "display_name": "R",
   "language": "R",
   "name": "ir"
  },
  "language_info": {
   "codemirror_mode": "r",
   "file_extension": ".r",
   "mimetype": "text/x-r-source",
   "name": "R",
   "pygments_lexer": "r",
   "version": "4.3.3"
  }
 },
 "nbformat": 4,
 "nbformat_minor": 5
}
