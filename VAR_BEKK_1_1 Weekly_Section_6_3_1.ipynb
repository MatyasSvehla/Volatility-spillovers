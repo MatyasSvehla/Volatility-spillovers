{
 "cells": [
  {
   "cell_type": "markdown",
   "id": "405d2c9a-b124-48b0-a904-9d589a08d3ee",
   "metadata": {},
   "source": [
    "# Chapter 6"
   ]
  },
  {
   "cell_type": "markdown",
   "id": "0dfb3df5-f0f1-44f5-8eda-f7f76ec03bce",
   "metadata": {},
   "source": [
    "# Section 6.3.2: Full Sample Analysis (weekly data)"
   ]
  },
  {
   "cell_type": "markdown",
   "id": "9796d2f5-4969-4b1e-83ab-fa0efcbb6901",
   "metadata": {},
   "source": [
    "# VAR-BEKK Model for weekly data (Section 6.3.1)"
   ]
  },
  {
   "cell_type": "code",
   "execution_count": 1,
   "id": "0a2f5c35-20aa-4bdf-9aef-b1fab7982f41",
   "metadata": {},
   "outputs": [
    {
     "name": "stderr",
     "output_type": "stream",
     "text": [
      "Loading required package: zoo\n",
      "\n",
      "\n",
      "Attaching package: ‘zoo’\n",
      "\n",
      "\n",
      "The following objects are masked from ‘package:base’:\n",
      "\n",
      "    as.Date, as.Date.numeric\n",
      "\n",
      "\n",
      "\n",
      "Attaching package: ‘MTS’\n",
      "\n",
      "\n",
      "The following object is masked from ‘package:BEKKs’:\n",
      "\n",
      "    backtest\n",
      "\n",
      "\n",
      "Loading required package: MASS\n",
      "\n",
      "Loading required package: strucchange\n",
      "\n",
      "Loading required package: sandwich\n",
      "\n",
      "Loading required package: urca\n",
      "\n",
      "Loading required package: lmtest\n",
      "\n",
      "\n",
      "Attaching package: ‘vars’\n",
      "\n",
      "\n",
      "The following object is masked from ‘package:MTS’:\n",
      "\n",
      "    VAR\n",
      "\n",
      "\n",
      "\n",
      "Please cite as: \n",
      "\n",
      "\n",
      " Hlavac, Marek (2022). stargazer: Well-Formatted Regression and Summary Statistics Tables.\n",
      "\n",
      " R package version 5.2.3. https://CRAN.R-project.org/package=stargazer \n",
      "\n",
      "\n"
     ]
    }
   ],
   "source": [
    "library(xts)\n",
    "library(BEKKs)\n",
    "library(MTS)\n",
    "library(vars)\n",
    "library(stargazer)"
   ]
  },
  {
   "cell_type": "markdown",
   "id": "c3697a1e-45a1-44c2-bc5c-34b167073093",
   "metadata": {},
   "source": [
    "# Weekly Data preparation for the analysis"
   ]
  },
  {
   "cell_type": "code",
   "execution_count": 2,
   "id": "df957112-cf9d-4946-8c34-1cb74c4c3079",
   "metadata": {},
   "outputs": [
    {
     "data": {
      "text/plain": [
       "                 eurusd       gbpusd       chfusd       usdgbp        eurgbp\n",
       "2007-07-13  0.011345725  0.011768041  0.012707420 -0.012031893 -0.0009595159\n",
       "2007-07-20  0.003150978  0.010561671  0.001682187 -0.010223993 -0.0067425143\n",
       "2007-07-27 -0.014056529 -0.015439970 -0.006685362  0.015297055  0.0008917293\n",
       "2007-08-03  0.010216084  0.007480166  0.014875514 -0.007721262  0.0031888492\n",
       "2007-08-10 -0.005898004 -0.007776587 -0.006690586  0.007822461  0.0022187717\n",
       "2007-08-17 -0.016011531 -0.021627054 -0.007943236  0.021424385  0.0050110643\n",
       "                  chfgbp       ghsusd       ghsgbp\n",
       "2007-07-13  0.0009570421  0.004005436 -0.008009262\n",
       "2007-07-20 -0.0088982748  0.002202455 -0.008376197\n",
       "2007-07-27  0.0087979629 -0.003802426  0.011804209\n",
       "2007-08-03  0.0074008865 -0.002685547 -0.009823491\n",
       "2007-08-10  0.0010801929 -0.004550623  0.002725996\n",
       "2007-08-17  0.0136908894  0.007384225  0.028262443"
      ]
     },
     "metadata": {},
     "output_type": "display_data"
    },
    {
     "data": {
      "text/plain": [
       "                 eurusd       gbpusd        chfusd       usdgbp       eurgbp\n",
       "2024-03-29 -0.001111008  0.001744094 -0.0047696275 -0.001639758 -0.003269503\n",
       "2024-04-05  0.003883141  0.001029173  0.0005411012 -0.001136794  0.002803085\n",
       "2024-04-12 -0.018063806 -0.014867051 -0.0138903731  0.014927523 -0.003037031\n",
       "2024-04-19  0.001173792 -0.006324418  0.0043785703  0.006268057  0.007691449\n",
       "2024-04-26  0.003606646  0.009491706 -0.0043785703 -0.009510561 -0.006171781\n",
       "2024-05-03  0.006152718  0.004433357  0.0094627884 -0.004381579  0.001867196\n",
       "                  chfgbp       ghsusd       ghsgbp\n",
       "2024-03-29 -0.0064137348 -0.015207144 -0.016876113\n",
       "2024-04-05 -0.0005126015 -0.007520957 -0.008626210\n",
       "2024-04-12  0.0009680267 -0.007463621  0.007446289\n",
       "2024-04-19  0.0106995275  0.000000000  0.006285208\n",
       "2024-04-26 -0.0138918686 -0.010349197 -0.019840737\n",
       "2024-05-03  0.0050119709 -0.010258321 -0.014688795"
      ]
     },
     "metadata": {},
     "output_type": "display_data"
    },
    {
     "data": {
      "text/plain": [
       "                   usc           lc\n",
       "2007-07-13 -0.02286903 -0.034778360\n",
       "2007-07-20  0.02522142  0.003623192\n",
       "2007-07-27 -0.07969033 -0.061529190\n",
       "2007-08-03 -0.01849051 -0.036225204\n",
       "2007-08-10 -0.03965627 -0.027288202\n",
       "2007-08-17 -0.04129406 -0.023847683"
      ]
     },
     "metadata": {},
     "output_type": "display_data"
    },
    {
     "data": {
      "text/plain": [
       "                     usc          lc\n",
       "2024-03-29  0.1057665488  0.12489565\n",
       "2024-04-05  0.0006445376 -0.01368545\n",
       "2024-04-12  0.1176875748  0.12562621\n",
       "2024-04-19  0.0899585017  0.12954487\n",
       "2024-04-26 -0.0786621644 -0.09105893\n",
       "2024-05-03 -0.2628835611 -0.26525294"
      ]
     },
     "metadata": {},
     "output_type": "display_data"
    }
   ],
   "source": [
    "fr_w <- readRDS(\"fr_w.Rds\")\n",
    "fp_w <- readRDS(\"fp_w.Rds\")\n",
    "cr_w <- readRDS(\"cr_w.Rds\")\n",
    "cp_w <- readRDS(\"cp_w.Rds\")\n",
    "head(fr_w)\n",
    "tail(fr_w)\n",
    "head(cr_w)\n",
    "tail(cr_w)"
   ]
  },
  {
   "cell_type": "markdown",
   "id": "b174bb3e-f4e9-4d6a-877a-8c1d723483ee",
   "metadata": {},
   "source": [
    "# VAR-BEKK model estimation"
   ]
  },
  {
   "cell_type": "markdown",
   "id": "ecff52ec-d4b3-407c-af9b-885faa9fdd63",
   "metadata": {},
   "source": [
    "#### The estimation is conducted in two stages. Since the VAR model is used as the mean equation, it consitutes the first stage of the estimation process. The variance specification is the BEKK model, therefore, it is used as the second stage of the model. This procedure is followed in each case."
   ]
  },
  {
   "cell_type": "markdown",
   "id": "d460ad4c-8d9d-4441-a415-a7d24b1629c4",
   "metadata": {},
   "source": [
    "# (i) Spillover between US Cocoa and London Cocoa"
   ]
  },
  {
   "cell_type": "markdown",
   "id": "1f60418a-a6a2-4bb0-a26a-86fa5934ef0b",
   "metadata": {},
   "source": [
    "## VAR"
   ]
  },
  {
   "cell_type": "code",
   "execution_count": 3,
   "id": "d8e437dc-a09c-4b85-9def-7549eab2f9b2",
   "metadata": {},
   "outputs": [
    {
     "data": {
      "text/html": [
       "<dl>\n",
       "\t<dt>$selection</dt>\n",
       "\t\t<dd><style>\n",
       ".dl-inline {width: auto; margin:0; padding: 0}\n",
       ".dl-inline>dt, .dl-inline>dd {float: none; width: auto; display: inline-block}\n",
       ".dl-inline>dt::after {content: \":\\0020\"; padding-right: .5ex}\n",
       ".dl-inline>dt:not(:first-of-type) {padding-left: .5ex}\n",
       "</style><dl class=dl-inline><dt>AIC(n)</dt><dd>1</dd><dt>HQ(n)</dt><dd>1</dd><dt>SC(n)</dt><dd>1</dd><dt>FPE(n)</dt><dd>1</dd></dl>\n",
       "</dd>\n",
       "\t<dt>$criteria</dt>\n",
       "\t\t<dd><table class=\"dataframe\">\n",
       "<caption>A matrix: 4 × 10 of type dbl</caption>\n",
       "<thead>\n",
       "\t<tr><th></th><th scope=col>1</th><th scope=col>2</th><th scope=col>3</th><th scope=col>4</th><th scope=col>5</th><th scope=col>6</th><th scope=col>7</th><th scope=col>8</th><th scope=col>9</th><th scope=col>10</th></tr>\n",
       "</thead>\n",
       "<tbody>\n",
       "\t<tr><th scope=row>AIC(n)</th><td>-1.484548e+01</td><td>-1.483818e+01</td><td>-1.483208e+01</td><td>-1.482400e+01</td><td>-1.481934e+01</td><td>-1.481394e+01</td><td>-1.481237e+01</td><td>-1.481206e+01</td><td>-1.481529e+01</td><td>-1.480736e+01</td></tr>\n",
       "\t<tr><th scope=row>HQ(n)</th><td>-1.483287e+01</td><td>-1.481717e+01</td><td>-1.480266e+01</td><td>-1.478618e+01</td><td>-1.477311e+01</td><td>-1.475931e+01</td><td>-1.474933e+01</td><td>-1.474062e+01</td><td>-1.473545e+01</td><td>-1.471911e+01</td></tr>\n",
       "\t<tr><th scope=row>SC(n)</th><td>-1.481253e+01</td><td>-1.478327e+01</td><td>-1.475520e+01</td><td>-1.472516e+01</td><td>-1.469853e+01</td><td>-1.467117e+01</td><td>-1.464764e+01</td><td>-1.462536e+01</td><td>-1.460664e+01</td><td>-1.457674e+01</td></tr>\n",
       "\t<tr><th scope=row>FPE(n)</th><td> 3.570179e-07</td><td> 3.596344e-07</td><td> 3.618362e-07</td><td> 3.647702e-07</td><td> 3.664761e-07</td><td> 3.684603e-07</td><td> 3.690393e-07</td><td> 3.691551e-07</td><td> 3.679643e-07</td><td> 3.708960e-07</td></tr>\n",
       "</tbody>\n",
       "</table>\n",
       "</dd>\n",
       "</dl>\n"
      ],
      "text/latex": [
       "\\begin{description}\n",
       "\\item[\\$selection] \\begin{description*}\n",
       "\\item[AIC(n)] 1\n",
       "\\item[HQ(n)] 1\n",
       "\\item[SC(n)] 1\n",
       "\\item[FPE(n)] 1\n",
       "\\end{description*}\n",
       "\n",
       "\\item[\\$criteria] A matrix: 4 × 10 of type dbl\n",
       "\\begin{tabular}{r|llllllllll}\n",
       "  & 1 & 2 & 3 & 4 & 5 & 6 & 7 & 8 & 9 & 10\\\\\n",
       "\\hline\n",
       "\tAIC(n) & -1.484548e+01 & -1.483818e+01 & -1.483208e+01 & -1.482400e+01 & -1.481934e+01 & -1.481394e+01 & -1.481237e+01 & -1.481206e+01 & -1.481529e+01 & -1.480736e+01\\\\\n",
       "\tHQ(n) & -1.483287e+01 & -1.481717e+01 & -1.480266e+01 & -1.478618e+01 & -1.477311e+01 & -1.475931e+01 & -1.474933e+01 & -1.474062e+01 & -1.473545e+01 & -1.471911e+01\\\\\n",
       "\tSC(n) & -1.481253e+01 & -1.478327e+01 & -1.475520e+01 & -1.472516e+01 & -1.469853e+01 & -1.467117e+01 & -1.464764e+01 & -1.462536e+01 & -1.460664e+01 & -1.457674e+01\\\\\n",
       "\tFPE(n) &  3.570179e-07 &  3.596344e-07 &  3.618362e-07 &  3.647702e-07 &  3.664761e-07 &  3.684603e-07 &  3.690393e-07 &  3.691551e-07 &  3.679643e-07 &  3.708960e-07\\\\\n",
       "\\end{tabular}\n",
       "\n",
       "\\end{description}\n"
      ],
      "text/markdown": [
       "$selection\n",
       ":   AIC(n)\n",
       ":   1HQ(n)\n",
       ":   1SC(n)\n",
       ":   1FPE(n)\n",
       ":   1\n",
       "\n",
       "\n",
       "$criteria\n",
       ":   \n",
       "A matrix: 4 × 10 of type dbl\n",
       "\n",
       "| <!--/--> | 1 | 2 | 3 | 4 | 5 | 6 | 7 | 8 | 9 | 10 |\n",
       "|---|---|---|---|---|---|---|---|---|---|---|\n",
       "| AIC(n) | -1.484548e+01 | -1.483818e+01 | -1.483208e+01 | -1.482400e+01 | -1.481934e+01 | -1.481394e+01 | -1.481237e+01 | -1.481206e+01 | -1.481529e+01 | -1.480736e+01 |\n",
       "| HQ(n) | -1.483287e+01 | -1.481717e+01 | -1.480266e+01 | -1.478618e+01 | -1.477311e+01 | -1.475931e+01 | -1.474933e+01 | -1.474062e+01 | -1.473545e+01 | -1.471911e+01 |\n",
       "| SC(n) | -1.481253e+01 | -1.478327e+01 | -1.475520e+01 | -1.472516e+01 | -1.469853e+01 | -1.467117e+01 | -1.464764e+01 | -1.462536e+01 | -1.460664e+01 | -1.457674e+01 |\n",
       "| FPE(n) |  3.570179e-07 |  3.596344e-07 |  3.618362e-07 |  3.647702e-07 |  3.664761e-07 |  3.684603e-07 |  3.690393e-07 |  3.691551e-07 |  3.679643e-07 |  3.708960e-07 |\n",
       "\n",
       "\n",
       "\n",
       "\n"
      ],
      "text/plain": [
       "$selection\n",
       "AIC(n)  HQ(n)  SC(n) FPE(n) \n",
       "     1      1      1      1 \n",
       "\n",
       "$criteria\n",
       "                   1             2             3             4             5\n",
       "AIC(n) -1.484548e+01 -1.483818e+01 -1.483208e+01 -1.482400e+01 -1.481934e+01\n",
       "HQ(n)  -1.483287e+01 -1.481717e+01 -1.480266e+01 -1.478618e+01 -1.477311e+01\n",
       "SC(n)  -1.481253e+01 -1.478327e+01 -1.475520e+01 -1.472516e+01 -1.469853e+01\n",
       "FPE(n)  3.570179e-07  3.596344e-07  3.618362e-07  3.647702e-07  3.664761e-07\n",
       "                   6             7             8             9            10\n",
       "AIC(n) -1.481394e+01 -1.481237e+01 -1.481206e+01 -1.481529e+01 -1.480736e+01\n",
       "HQ(n)  -1.475931e+01 -1.474933e+01 -1.474062e+01 -1.473545e+01 -1.471911e+01\n",
       "SC(n)  -1.467117e+01 -1.464764e+01 -1.462536e+01 -1.460664e+01 -1.457674e+01\n",
       "FPE(n)  3.684603e-07  3.690393e-07  3.691551e-07  3.679643e-07  3.708960e-07\n"
      ]
     },
     "metadata": {},
     "output_type": "display_data"
    }
   ],
   "source": [
    "VARselect(cr_w,type = \"const\")"
   ]
  },
  {
   "cell_type": "code",
   "execution_count": 4,
   "id": "a3473994-37d5-4b35-bef8-424fe2b7d622",
   "metadata": {},
   "outputs": [
    {
     "data": {
      "text/plain": [
       "\n",
       "VAR Estimation Results:\n",
       "========================= \n",
       "Endogenous variables: usc, lc \n",
       "Deterministic variables: const \n",
       "Sample size: 877 \n",
       "Log Likelihood: 4029.845 \n",
       "Roots of the characteristic polynomial:\n",
       "0.08176 0.07899\n",
       "Call:\n",
       "VAR(y = cr_w, p = 1, type = \"const\")\n",
       "\n",
       "\n",
       "Estimation results for equation usc: \n",
       "==================================== \n",
       "usc = usc.l1 + lc.l1 + const \n",
       "\n",
       "        Estimate Std. Error t value Pr(>|t|)   \n",
       "usc.l1 -0.155331   0.078167  -1.987   0.0472 * \n",
       "lc.l1   0.247906   0.088087   2.814   0.0050 **\n",
       "const   0.001261   0.001328   0.949   0.3427   \n",
       "---\n",
       "Signif. codes:  0 ‘***’ 0.001 ‘**’ 0.01 ‘*’ 0.05 ‘.’ 0.1 ‘ ’ 1\n",
       "\n",
       "\n",
       "Residual standard error: 0.03922 on 874 degrees of freedom\n",
       "Multiple R-Squared: 0.01064,\tAdjusted R-squared: 0.008377 \n",
       "F-statistic:   4.7 on 2 and 874 DF,  p-value: 0.009325 \n",
       "\n",
       "\n",
       "Estimation results for equation lc: \n",
       "=================================== \n",
       "lc = usc.l1 + lc.l1 + const \n",
       "\n",
       "        Estimate Std. Error t value Pr(>|t|)  \n",
       "usc.l1 -0.073007   0.069963  -1.044   0.2970  \n",
       "lc.l1   0.158099   0.078842   2.005   0.0452 *\n",
       "const   0.001851   0.001189   1.558   0.1197  \n",
       "---\n",
       "Signif. codes:  0 ‘***’ 0.001 ‘**’ 0.01 ‘*’ 0.05 ‘.’ 0.1 ‘ ’ 1\n",
       "\n",
       "\n",
       "Residual standard error: 0.0351 on 874 degrees of freedom\n",
       "Multiple R-Squared: 0.007882,\tAdjusted R-squared: 0.005612 \n",
       "F-statistic: 3.472 on 2 and 874 DF,  p-value: 0.03149 \n",
       "\n",
       "\n",
       "\n",
       "Covariance matrix of residuals:\n",
       "         usc       lc\n",
       "usc 0.001538 0.001242\n",
       "lc  0.001242 0.001232\n",
       "\n",
       "Correlation matrix of residuals:\n",
       "       usc     lc\n",
       "usc 1.0000 0.9023\n",
       "lc  0.9023 1.0000\n",
       "\n"
      ]
     },
     "metadata": {},
     "output_type": "display_data"
    }
   ],
   "source": [
    "var_cr<-VAR(cr_w,p = 1,type = \"const\")\n",
    "summary(var_cr)\n",
    "res_cr <- residuals(var_cr)\n",
    "res_cr <- as.data.frame(res_cr)"
   ]
  },
  {
   "cell_type": "code",
   "execution_count": 5,
   "id": "4268e7f1-f8d1-4027-9c7f-4df6b92c3b75",
   "metadata": {},
   "outputs": [
    {
     "name": "stdout",
     "output_type": "stream",
     "text": [
      " Date[1:877], format: \"2007-07-20\" \"2007-07-27\" \"2007-08-03\" \"2007-08-10\" \"2007-08-17\" ...\n"
     ]
    }
   ],
   "source": [
    "ind_var <- index(cr_w)[-1]\n",
    "str(ind_var)"
   ]
  },
  {
   "cell_type": "code",
   "execution_count": 6,
   "id": "2afe8e6a-573e-45a5-9de4-ce9e77c6f446",
   "metadata": {},
   "outputs": [
    {
     "name": "stdout",
     "output_type": "stream",
     "text": [
      "An xts object on 2007-07-20 / 2024-05-03 containing: \n",
      "  Data:    double [877, 2]\n",
      "  Columns: usc, lc\n",
      "  Index:   Date [877] (TZ: \"UTC\")\n"
     ]
    },
    {
     "data": {
      "text/plain": [
       "                    usc           lc\n",
       "2007-07-20  0.029030123  0.005600569\n",
       "2007-07-27 -0.077931646 -0.062112097\n",
       "2007-08-03 -0.016876237 -0.034166929\n",
       "2007-08-10 -0.034808760 -0.024762416\n",
       "2007-08-17 -0.041949789 -0.024280087\n",
       "2007-08-24  0.008860472 -0.006356319"
      ]
     },
     "metadata": {},
     "output_type": "display_data"
    }
   ],
   "source": [
    "res_cr <- xts(res_cr,order.by = ind_var)\n",
    "str(res_cr)\n",
    "head(res_cr)"
   ]
  },
  {
   "cell_type": "code",
   "execution_count": 7,
   "id": "9203a4f4-f639-4459-8a92-e2fc02474409",
   "metadata": {},
   "outputs": [
    {
     "name": "stdout",
     "output_type": "stream",
     "text": [
      "List of 25\n",
      " $ C0                         : num [1:2, 1:2] 0.005945 0.004418 0 0.000605\n",
      " $ A                          : num [1:2, 1:2] 0.0284 0.2969 -0.1379 0.4491\n",
      " $ G                          : num [1:2, 1:2] 0.9614 -0.0171 -0.0194 0.9636\n",
      " $ C0_t                       : num [1:2, 1:2] 4.575 4.004 0 0.692\n",
      " $ A_t                        : num [1:2, 1:2] 0.501 5.656 -2.74 8.661\n",
      " $ G_t                        : num [1:2, 1:2] 43.499 -0.83 -0.952 51.295\n",
      " $ C0_sd                      : num [1:2, 1:2] 0.001299 0.001103 0 0.000874\n",
      " $ A_sd                       : num [1:2, 1:2] 0.0566 0.0525 0.0503 0.0519\n",
      " $ G_sd                       : num [1:2, 1:2] 0.0221 0.0206 0.0204 0.0188\n",
      " $ theta                      : num [1:11, 1] 0.005945 0.004418 0.000605 0.028365 0.29687 ...\n",
      " $ log_likelihood             : num 4175\n",
      " $ BEKK_valid                 : logi TRUE\n",
      " $ sigma_t                    :An xts object on 2007-07-20 / 2024-05-03 containing: \n",
      "  Data:    double [877, 3]\n",
      "  Columns: Conditional standard deviation of \n",
      " usc, Conditional correlation of \n",
      " usc  and  lc, Conditional standard deviation of \n",
      " lc\n",
      "  Index:   Date [877] (TZ: \"UTC\")\n",
      " $ H_t                        :An xts object on 2007-07-20 / 2024-05-03 containing: \n",
      "  Data:    double [877, 4]\n",
      "  Index:   Date [877] (TZ: \"UTC\")\n",
      " $ e_t                        :An xts object on 2007-07-20 / 2024-05-03 containing: \n",
      "  Data:    double [877, 2]\n",
      "  Index:   Date [877] (TZ: \"UTC\")\n",
      " $ Second_moments_of_residuals: num [1:2, 1:2] 0.9857 -0.0113 -0.0113 1.0181\n",
      " $ iter                       : int 24\n",
      " $ likelihood_iter            : num [1:25] 3886 3886 4043 4090 4109 ...\n",
      " $ asymmetric                 : logi FALSE\n",
      " $ data                       :An xts object on 2007-07-20 / 2024-05-03 containing: \n",
      "  Data:    double [877, 2]\n",
      "  Columns: usc, lc\n",
      "  Index:   Date [877] (TZ: \"UTC\")\n",
      " $ spec                       :List of 4\n",
      "  ..$ model      :List of 2\n",
      "  .. ..$ type      : chr \"bekk\"\n",
      "  .. ..$ asymmetric: logi FALSE\n",
      "  ..$ init_values: NULL\n",
      "  ..$ signs      : NULL\n",
      "  ..$ N          : NULL\n",
      "  ..- attr(*, \"class\")= chr [1:2] \"bekkSpec\" \"bekk\"\n",
      " $ QML_t_ratios               : logi FALSE\n",
      " $ AIC                        : num -8332\n",
      " $ BIC                        : num -8327\n",
      " $ Portmanteau.test           :List of 5\n",
      "  ..$ statistic: Named num 0.745\n",
      "  .. ..- attr(*, \"names\")= chr \"statistic\"\n",
      "  ..$ parameter: Named num 12\n",
      "  .. ..- attr(*, \"names\")= chr \"df\"\n",
      "  ..$ p.value  : Named num 1\n",
      "  .. ..- attr(*, \"names\")= chr \"p.value\"\n",
      "  ..$ data.name: chr \"Residuals of estimated BEKK process\"\n",
      "  ..$ method   : chr \"Portmanteau Test (Lags = 5)\"\n",
      "  ..- attr(*, \"class\")= chr \"htest\"\n",
      " - attr(*, \"class\")= chr [1:2] \"bekkFit\" \"bekk\"\n"
     ]
    }
   ],
   "source": [
    "bekk_spec <- bekk_spec(model = list(type = \"bekk\",asymmetric = F))\n",
    "bekk_fit <- bekk_fit(spec = bekk_spec,data = res_cr)\n",
    "str(bekk_fit)"
   ]
  },
  {
   "cell_type": "code",
   "execution_count": 8,
   "id": "96641e9e-1c29-46c9-831b-700037465c4d",
   "metadata": {
    "scrolled": true
   },
   "outputs": [
    {
     "data": {
      "text/html": [
       "<table class=\"dataframe\">\n",
       "<caption>A matrix: 2 × 2 of type dbl</caption>\n",
       "<tbody>\n",
       "\t<tr><td>0.02836459</td><td>-0.1378523</td></tr>\n",
       "\t<tr><td>0.29686971</td><td> 0.4490872</td></tr>\n",
       "</tbody>\n",
       "</table>\n"
      ],
      "text/latex": [
       "A matrix: 2 × 2 of type dbl\n",
       "\\begin{tabular}{ll}\n",
       "\t 0.02836459 & -0.1378523\\\\\n",
       "\t 0.29686971 &  0.4490872\\\\\n",
       "\\end{tabular}\n"
      ],
      "text/markdown": [
       "\n",
       "A matrix: 2 × 2 of type dbl\n",
       "\n",
       "| 0.02836459 | -0.1378523 |\n",
       "| 0.29686971 |  0.4490872 |\n",
       "\n"
      ],
      "text/plain": [
       "     [,1]       [,2]      \n",
       "[1,] 0.02836459 -0.1378523\n",
       "[2,] 0.29686971  0.4490872"
      ]
     },
     "metadata": {},
     "output_type": "display_data"
    },
    {
     "data": {
      "text/html": [
       "<table class=\"dataframe\">\n",
       "<caption>A matrix: 2 × 2 of type dbl</caption>\n",
       "<tbody>\n",
       "\t<tr><td>0.5011374</td><td>-2.740430</td></tr>\n",
       "\t<tr><td>5.6560361</td><td> 8.660893</td></tr>\n",
       "</tbody>\n",
       "</table>\n"
      ],
      "text/latex": [
       "A matrix: 2 × 2 of type dbl\n",
       "\\begin{tabular}{ll}\n",
       "\t 0.5011374 & -2.740430\\\\\n",
       "\t 5.6560361 &  8.660893\\\\\n",
       "\\end{tabular}\n"
      ],
      "text/markdown": [
       "\n",
       "A matrix: 2 × 2 of type dbl\n",
       "\n",
       "| 0.5011374 | -2.740430 |\n",
       "| 5.6560361 |  8.660893 |\n",
       "\n"
      ],
      "text/plain": [
       "     [,1]      [,2]     \n",
       "[1,] 0.5011374 -2.740430\n",
       "[2,] 5.6560361  8.660893"
      ]
     },
     "metadata": {},
     "output_type": "display_data"
    }
   ],
   "source": [
    "bekk_fit$A\n",
    "bekk_fit$A_t"
   ]
  },
  {
   "cell_type": "code",
   "execution_count": 9,
   "id": "b103f060-de27-42a1-a8f1-44abd9c0ff2f",
   "metadata": {},
   "outputs": [
    {
     "data": {
      "text/html": [
       "<table class=\"dataframe\">\n",
       "<caption>A matrix: 2 × 2 of type dbl</caption>\n",
       "<tbody>\n",
       "\t<tr><td> 0.96135263</td><td>-0.01940285</td></tr>\n",
       "\t<tr><td>-0.01714422</td><td> 0.96364192</td></tr>\n",
       "</tbody>\n",
       "</table>\n"
      ],
      "text/latex": [
       "A matrix: 2 × 2 of type dbl\n",
       "\\begin{tabular}{ll}\n",
       "\t  0.96135263 & -0.01940285\\\\\n",
       "\t -0.01714422 &  0.96364192\\\\\n",
       "\\end{tabular}\n"
      ],
      "text/markdown": [
       "\n",
       "A matrix: 2 × 2 of type dbl\n",
       "\n",
       "|  0.96135263 | -0.01940285 |\n",
       "| -0.01714422 |  0.96364192 |\n",
       "\n"
      ],
      "text/plain": [
       "     [,1]        [,2]       \n",
       "[1,]  0.96135263 -0.01940285\n",
       "[2,] -0.01714422  0.96364192"
      ]
     },
     "metadata": {},
     "output_type": "display_data"
    },
    {
     "data": {
      "text/html": [
       "<table class=\"dataframe\">\n",
       "<caption>A matrix: 2 × 2 of type dbl</caption>\n",
       "<tbody>\n",
       "\t<tr><td>43.4994900</td><td>-0.9516857</td></tr>\n",
       "\t<tr><td>-0.8304669</td><td>51.2946311</td></tr>\n",
       "</tbody>\n",
       "</table>\n"
      ],
      "text/latex": [
       "A matrix: 2 × 2 of type dbl\n",
       "\\begin{tabular}{ll}\n",
       "\t 43.4994900 & -0.9516857\\\\\n",
       "\t -0.8304669 & 51.2946311\\\\\n",
       "\\end{tabular}\n"
      ],
      "text/markdown": [
       "\n",
       "A matrix: 2 × 2 of type dbl\n",
       "\n",
       "| 43.4994900 | -0.9516857 |\n",
       "| -0.8304669 | 51.2946311 |\n",
       "\n"
      ],
      "text/plain": [
       "     [,1]       [,2]      \n",
       "[1,] 43.4994900 -0.9516857\n",
       "[2,] -0.8304669 51.2946311"
      ]
     },
     "metadata": {},
     "output_type": "display_data"
    }
   ],
   "source": [
    "bekk_fit$G\n",
    "bekk_fit$G_t"
   ]
  },
  {
   "cell_type": "markdown",
   "id": "9f7911dc-819f-4569-ae58-d32abdb08c6a",
   "metadata": {},
   "source": [
    "### VAR-BEKK Model Table for US Cocoa - London Cocoa"
   ]
  },
  {
   "cell_type": "code",
   "execution_count": 10,
   "id": "aa348061-135b-4f81-a0f3-714dccb49347",
   "metadata": {},
   "outputs": [
    {
     "data": {
      "text/html": [
       "<table class=\"dataframe\">\n",
       "<caption>A data.frame: 14 × 5</caption>\n",
       "<thead>\n",
       "\t<tr><th scope=col>Parameters</th><th scope=col>Coefficient</th><th scope=col>Std_error</th><th scope=col>T_value</th><th scope=col>Significant_at_5p_level</th></tr>\n",
       "\t<tr><th scope=col>&lt;chr&gt;</th><th scope=col>&lt;dbl&gt;</th><th scope=col>&lt;dbl&gt;</th><th scope=col>&lt;dbl&gt;</th><th scope=col>&lt;chr&gt;</th></tr>\n",
       "</thead>\n",
       "<tbody>\n",
       "\t<tr><td>mu10 </td><td> 0.001260782</td><td>0.001328108</td><td> 0.9493065</td><td>Not Statistically Significant</td></tr>\n",
       "\t<tr><td>mu20 </td><td> 0.001851436</td><td>0.001188718</td><td> 1.5575065</td><td>Not Statistically Significant</td></tr>\n",
       "\t<tr><td>phi11</td><td>-0.155331179</td><td>0.078167228</td><td>-1.9871650</td><td>Stat significant at 5%       </td></tr>\n",
       "\t<tr><td>phi12</td><td> 0.247905884</td><td>0.088087112</td><td> 2.8143264</td><td>Stat significant at 1%       </td></tr>\n",
       "\t<tr><td>phi21</td><td>-0.073007499</td><td>0.069963278</td><td>-1.0435117</td><td>Not Statistically Significant</td></tr>\n",
       "\t<tr><td>phi22</td><td> 0.158098996</td><td>0.078842033</td><td> 2.0052628</td><td>Stat significant at 5%       </td></tr>\n",
       "\t<tr><td>a11  </td><td> 0.028364588</td><td>0.056600426</td><td> 0.5011374</td><td>Not Statistically Significant</td></tr>\n",
       "\t<tr><td>a12  </td><td>-0.137852276</td><td>0.050303159</td><td>-2.7404298</td><td>Stat significant at 1%       </td></tr>\n",
       "\t<tr><td>a21  </td><td> 0.296869706</td><td>0.052487237</td><td> 5.6560361</td><td>Stat significant at 1%       </td></tr>\n",
       "\t<tr><td>a22  </td><td> 0.449087222</td><td>0.051852298</td><td> 8.6608933</td><td>Stat significant at 1%       </td></tr>\n",
       "\t<tr><td>g11  </td><td> 0.961352627</td><td>0.022100319</td><td>43.4994900</td><td>Stat significant at 1%       </td></tr>\n",
       "\t<tr><td>g12  </td><td>-0.019402847</td><td>0.020387874</td><td>-0.9516857</td><td>Not Statistically Significant</td></tr>\n",
       "\t<tr><td>g21  </td><td>-0.017144222</td><td>0.020644075</td><td>-0.8304669</td><td>Not Statistically Significant</td></tr>\n",
       "\t<tr><td>g22  </td><td> 0.963641916</td><td>0.018786409</td><td>51.2946311</td><td>Stat significant at 1%       </td></tr>\n",
       "</tbody>\n",
       "</table>\n"
      ],
      "text/latex": [
       "A data.frame: 14 × 5\n",
       "\\begin{tabular}{lllll}\n",
       " Parameters & Coefficient & Std\\_error & T\\_value & Significant\\_at\\_5p\\_level\\\\\n",
       " <chr> & <dbl> & <dbl> & <dbl> & <chr>\\\\\n",
       "\\hline\n",
       "\t mu10  &  0.001260782 & 0.001328108 &  0.9493065 & Not Statistically Significant\\\\\n",
       "\t mu20  &  0.001851436 & 0.001188718 &  1.5575065 & Not Statistically Significant\\\\\n",
       "\t phi11 & -0.155331179 & 0.078167228 & -1.9871650 & Stat significant at 5\\%       \\\\\n",
       "\t phi12 &  0.247905884 & 0.088087112 &  2.8143264 & Stat significant at 1\\%       \\\\\n",
       "\t phi21 & -0.073007499 & 0.069963278 & -1.0435117 & Not Statistically Significant\\\\\n",
       "\t phi22 &  0.158098996 & 0.078842033 &  2.0052628 & Stat significant at 5\\%       \\\\\n",
       "\t a11   &  0.028364588 & 0.056600426 &  0.5011374 & Not Statistically Significant\\\\\n",
       "\t a12   & -0.137852276 & 0.050303159 & -2.7404298 & Stat significant at 1\\%       \\\\\n",
       "\t a21   &  0.296869706 & 0.052487237 &  5.6560361 & Stat significant at 1\\%       \\\\\n",
       "\t a22   &  0.449087222 & 0.051852298 &  8.6608933 & Stat significant at 1\\%       \\\\\n",
       "\t g11   &  0.961352627 & 0.022100319 & 43.4994900 & Stat significant at 1\\%       \\\\\n",
       "\t g12   & -0.019402847 & 0.020387874 & -0.9516857 & Not Statistically Significant\\\\\n",
       "\t g21   & -0.017144222 & 0.020644075 & -0.8304669 & Not Statistically Significant\\\\\n",
       "\t g22   &  0.963641916 & 0.018786409 & 51.2946311 & Stat significant at 1\\%       \\\\\n",
       "\\end{tabular}\n"
      ],
      "text/markdown": [
       "\n",
       "A data.frame: 14 × 5\n",
       "\n",
       "| Parameters &lt;chr&gt; | Coefficient &lt;dbl&gt; | Std_error &lt;dbl&gt; | T_value &lt;dbl&gt; | Significant_at_5p_level &lt;chr&gt; |\n",
       "|---|---|---|---|---|\n",
       "| mu10  |  0.001260782 | 0.001328108 |  0.9493065 | Not Statistically Significant |\n",
       "| mu20  |  0.001851436 | 0.001188718 |  1.5575065 | Not Statistically Significant |\n",
       "| phi11 | -0.155331179 | 0.078167228 | -1.9871650 | Stat significant at 5%        |\n",
       "| phi12 |  0.247905884 | 0.088087112 |  2.8143264 | Stat significant at 1%        |\n",
       "| phi21 | -0.073007499 | 0.069963278 | -1.0435117 | Not Statistically Significant |\n",
       "| phi22 |  0.158098996 | 0.078842033 |  2.0052628 | Stat significant at 5%        |\n",
       "| a11   |  0.028364588 | 0.056600426 |  0.5011374 | Not Statistically Significant |\n",
       "| a12   | -0.137852276 | 0.050303159 | -2.7404298 | Stat significant at 1%        |\n",
       "| a21   |  0.296869706 | 0.052487237 |  5.6560361 | Stat significant at 1%        |\n",
       "| a22   |  0.449087222 | 0.051852298 |  8.6608933 | Stat significant at 1%        |\n",
       "| g11   |  0.961352627 | 0.022100319 | 43.4994900 | Stat significant at 1%        |\n",
       "| g12   | -0.019402847 | 0.020387874 | -0.9516857 | Not Statistically Significant |\n",
       "| g21   | -0.017144222 | 0.020644075 | -0.8304669 | Not Statistically Significant |\n",
       "| g22   |  0.963641916 | 0.018786409 | 51.2946311 | Stat significant at 1%        |\n",
       "\n"
      ],
      "text/plain": [
       "   Parameters Coefficient  Std_error   T_value    Significant_at_5p_level      \n",
       "1  mu10        0.001260782 0.001328108  0.9493065 Not Statistically Significant\n",
       "2  mu20        0.001851436 0.001188718  1.5575065 Not Statistically Significant\n",
       "3  phi11      -0.155331179 0.078167228 -1.9871650 Stat significant at 5%       \n",
       "4  phi12       0.247905884 0.088087112  2.8143264 Stat significant at 1%       \n",
       "5  phi21      -0.073007499 0.069963278 -1.0435117 Not Statistically Significant\n",
       "6  phi22       0.158098996 0.078842033  2.0052628 Stat significant at 5%       \n",
       "7  a11         0.028364588 0.056600426  0.5011374 Not Statistically Significant\n",
       "8  a12        -0.137852276 0.050303159 -2.7404298 Stat significant at 1%       \n",
       "9  a21         0.296869706 0.052487237  5.6560361 Stat significant at 1%       \n",
       "10 a22         0.449087222 0.051852298  8.6608933 Stat significant at 1%       \n",
       "11 g11         0.961352627 0.022100319 43.4994900 Stat significant at 1%       \n",
       "12 g12        -0.019402847 0.020387874 -0.9516857 Not Statistically Significant\n",
       "13 g21        -0.017144222 0.020644075 -0.8304669 Not Statistically Significant\n",
       "14 g22         0.963641916 0.018786409 51.2946311 Stat significant at 1%       "
      ]
     },
     "metadata": {},
     "output_type": "display_data"
    }
   ],
   "source": [
    "bekkc <- data.frame(Parameters = c(\"mu10\",\"mu20\",\"phi11\",\"phi12\",\"phi21\",\"phi22\",\"a11\",\"a12\",\"a21\",\"a22\",\"g11\",\"g12\",\"g21\",\"g22\"),\n",
    "                   Coefficient = c(summary(var_cr)$varresult$usc$coefficients[\"const\",\"Estimate\"],summary(var_cr)$varresult$lc$coefficients[\"const\",\"Estimate\"],\n",
    "                                   summary(var_cr)$varresult$usc$coefficients[\"usc.l1\",\"Estimate\"],summary(var_cr)$varresult$usc$coefficients[\"lc.l1\",\"Estimate\"],\n",
    "                                   summary(var_cr)$varresult$lc$coefficients[\"usc.l1\",\"Estimate\"],summary(var_cr)$varresult$lc$coefficients[\"lc.l1\",\"Estimate\"],\n",
    "                                   bekk_fit$A[1,1],bekk_fit$A[1,2],bekk_fit$A[2,1],bekk_fit$A[2,2],bekk_fit$G[1,1],bekk_fit$G[1,2],bekk_fit$G[2,1],bekk_fit$G[2,2]),\n",
    "                   Std_error = c(summary(var_cr)$varresult$usc$coefficients[\"const\",\"Std. Error\"],summary(var_cr)$varresult$lc$coefficients[\"const\",\"Std. Error\"],\n",
    "                               summary(var_cr)$varresult$usc$coefficients[\"usc.l1\",\"Std. Error\"],summary(var_cr)$varresult$usc$coefficients[\"lc.l1\",\"Std. Error\"],\n",
    "                                 summary(var_cr)$varresult$lc$coefficients[\"usc.l1\",\"Std. Error\"],summary(var_cr)$varresult$lc$coefficients[\"lc.l1\",\"Std. Error\"],\n",
    "                                 bekk_fit$A_sd[1,1],bekk_fit$A_sd[1,2],bekk_fit$A_sd[2,1],bekk_fit$A_sd[2,2],bekk_fit$G_sd[1,1],bekk_fit$G_sd[1,2],bekk_fit$G_sd[2,1],bekk_fit$G_sd[2,2]),\n",
    "                   T_value = c(summary(var_cr)$varresult$usc$coefficients[\"const\",\"t value\"],summary(var_cr)$varresult$lc$coefficients[\"const\",\"t value\"],\n",
    "                               summary(var_cr)$varresult$usc$coefficients[\"usc.l1\",\"t value\"],summary(var_cr)$varresult$usc$coefficients[\"lc.l1\",\"t value\"],\n",
    "                               summary(var_cr)$varresult$lc$coefficients[\"usc.l1\",\"t value\"],summary(var_cr)$varresult$lc$coefficients[\"lc.l1\",\"t value\"],\n",
    "                               bekk_fit$A_t[1,1],bekk_fit$A_t[1,2],bekk_fit$A_t[2,1],bekk_fit$A_t[2,2],bekk_fit$G_t[1,1],bekk_fit$G_t[1,2],\n",
    "                                 bekk_fit$G_t[2,1],bekk_fit$G_t[2,2]))\n",
    "\n",
    "bekkc$Significant_at_5p_level[abs(bekkc$T_value) >= 2.58 ] <- \"Stat significant at 1%\"\n",
    "bekkc$Significant_at_5p_level[abs(bekkc$T_value) > 1.96 & abs(bekkc$T_value) < 2.58] <- \"Stat significant at 5%\"\n",
    "bekkc$Significant_at_5p_level[abs(bekkc$T_value) > 1.645 & abs(bekkc$T_value) <= 1.96 ] <- \"Stat significant at 10%\"\n",
    "bekkc$Significant_at_5p_level[abs(bekkc$T_value) <= 1.645] <- \"Not Statistically Significant\"\n",
    "bekkc"
   ]
  },
  {
   "cell_type": "markdown",
   "id": "bfce9f79-aee3-4ac3-a47d-ea73e0c77e02",
   "metadata": {},
   "source": [
    "- mean spillover from London Cocoa to US Cocoa\n",
    "-  shock spillover works in both ways\n",
    "- no volatility spillover"
   ]
  },
  {
   "cell_type": "code",
   "execution_count": 11,
   "id": "43ce9004-2149-4a5e-9c9d-a0f284109ee1",
   "metadata": {},
   "outputs": [
    {
     "data": {
      "text/html": [
       "0.1581"
      ],
      "text/latex": [
       "0.1581"
      ],
      "text/markdown": [
       "0.1581"
      ],
      "text/plain": [
       "[1] 0.1581"
      ]
     },
     "metadata": {},
     "output_type": "display_data"
    }
   ],
   "source": [
    "round(0.158098996,4)"
   ]
  },
  {
   "cell_type": "code",
   "execution_count": 12,
   "id": "fea4f155-7658-4c43-b30e-20f9011f7ea9",
   "metadata": {},
   "outputs": [
    {
     "data": {
      "text/plain": [
       "\n",
       "\tGranger causality H0: usc do not Granger-cause lc\n",
       "\n",
       "data:  VAR object var_cr\n",
       "F-Test = 1.0889, df1 = 1, df2 = 1748, p-value = 0.2969\n"
      ]
     },
     "metadata": {},
     "output_type": "display_data"
    },
    {
     "data": {
      "text/plain": [
       "\n",
       "\tGranger causality H0: lc do not Granger-cause usc\n",
       "\n",
       "data:  VAR object var_cr\n",
       "F-Test = 7.9204, df1 = 1, df2 = 1748, p-value = 0.004943\n"
      ]
     },
     "metadata": {},
     "output_type": "display_data"
    }
   ],
   "source": [
    "causality(var_cr,cause = \"usc\")$Granger\n",
    "causality(var_cr,cause = \"lc\")$Granger"
   ]
  },
  {
   "cell_type": "markdown",
   "id": "53c9fe67-86c6-4af0-98ca-9d22f69ac53d",
   "metadata": {},
   "source": [
    "# (ii) VAR-BEKK Models for US Cocoa"
   ]
  },
  {
   "cell_type": "code",
   "execution_count": 13,
   "id": "adf6a86f-43c9-4b76-af58-5b66441ed6ff",
   "metadata": {},
   "outputs": [
    {
     "data": {
      "text/plain": [
       "                   usc           lc\n",
       "2007-07-13 -0.02286903 -0.034778360\n",
       "2007-07-20  0.02522142  0.003623192\n",
       "2007-07-27 -0.07969033 -0.061529190\n",
       "2007-08-03 -0.01849051 -0.036225204\n",
       "2007-08-10 -0.03965627 -0.027288202\n",
       "2007-08-17 -0.04129406 -0.023847683"
      ]
     },
     "metadata": {},
     "output_type": "display_data"
    },
    {
     "data": {
      "text/plain": [
       "                 eurusd       gbpusd       chfusd       usdgbp        eurgbp\n",
       "2007-07-13  0.011345725  0.011768041  0.012707420 -0.012031893 -0.0009595159\n",
       "2007-07-20  0.003150978  0.010561671  0.001682187 -0.010223993 -0.0067425143\n",
       "2007-07-27 -0.014056529 -0.015439970 -0.006685362  0.015297055  0.0008917293\n",
       "2007-08-03  0.010216084  0.007480166  0.014875514 -0.007721262  0.0031888492\n",
       "2007-08-10 -0.005898004 -0.007776587 -0.006690586  0.007822461  0.0022187717\n",
       "2007-08-17 -0.016011531 -0.021627054 -0.007943236  0.021424385  0.0050110643\n",
       "                  chfgbp       ghsusd       ghsgbp\n",
       "2007-07-13  0.0009570421  0.004005436 -0.008009262\n",
       "2007-07-20 -0.0088982748  0.002202455 -0.008376197\n",
       "2007-07-27  0.0087979629 -0.003802426  0.011804209\n",
       "2007-08-03  0.0074008865 -0.002685547 -0.009823491\n",
       "2007-08-10  0.0010801929 -0.004550623  0.002725996\n",
       "2007-08-17  0.0136908894  0.007384225  0.028262443"
      ]
     },
     "metadata": {},
     "output_type": "display_data"
    }
   ],
   "source": [
    "head(cr_w)\n",
    "head(fr_w)"
   ]
  },
  {
   "cell_type": "code",
   "execution_count": 14,
   "id": "7f16169f-29a5-4e4a-8d44-81e0a29fda75",
   "metadata": {},
   "outputs": [
    {
     "name": "stdout",
     "output_type": "stream",
     "text": [
      "An xts object on 2007-07-13 / 2024-05-03 containing: \n",
      "  Data:    double [878, 9]\n",
      "  Columns: usc, eurusd, gbpusd, chfusd, usdgbp ... with 4 more columns\n",
      "  Index:   Date [878] (TZ: \"UTC\")\n",
      "  xts Attributes:\n",
      "    $ ret_type        : chr \"log\"\n",
      "    $ coredata_content: chr \"logReturn\"\n"
     ]
    },
    {
     "data": {
      "text/plain": [
       "                   usc       eurusd       gbpusd       chfusd       usdgbp\n",
       "2007-07-13 -0.02286903  0.011345725  0.011768041  0.012707420 -0.012031893\n",
       "2007-07-20  0.02522142  0.003150978  0.010561671  0.001682187 -0.010223993\n",
       "2007-07-27 -0.07969033 -0.014056529 -0.015439970 -0.006685362  0.015297055\n",
       "2007-08-03 -0.01849051  0.010216084  0.007480166  0.014875514 -0.007721262\n",
       "2007-08-10 -0.03965627 -0.005898004 -0.007776587 -0.006690586  0.007822461\n",
       "2007-08-17 -0.04129406 -0.016011531 -0.021627054 -0.007943236  0.021424385\n",
       "                  eurgbp        chfgbp       ghsusd       ghsgbp\n",
       "2007-07-13 -0.0009595159  0.0009570421  0.004005436 -0.008009262\n",
       "2007-07-20 -0.0067425143 -0.0088982748  0.002202455 -0.008376197\n",
       "2007-07-27  0.0008917293  0.0087979629 -0.003802426  0.011804209\n",
       "2007-08-03  0.0031888492  0.0074008865 -0.002685547 -0.009823491\n",
       "2007-08-10  0.0022187717  0.0010801929 -0.004550623  0.002725996\n",
       "2007-08-17  0.0050110643  0.0136908894  0.007384225  0.028262443"
      ]
     },
     "metadata": {},
     "output_type": "display_data"
    }
   ],
   "source": [
    "us_w <- na.omit(merge(cr_w[,1],fr_w))\n",
    "str(us_w)\n",
    "head(us_w)"
   ]
  },
  {
   "cell_type": "markdown",
   "id": "40b0185d-f24b-48c0-8b4e-b09ce92bddea",
   "metadata": {},
   "source": [
    "## (a) US Cocoa - EURUSD"
   ]
  },
  {
   "cell_type": "code",
   "execution_count": 15,
   "id": "a78965db-be2b-4734-b9a7-8102afe2ac97",
   "metadata": {},
   "outputs": [
    {
     "data": {
      "text/plain": [
       "                   usc       eurusd\n",
       "2007-07-13 -0.02286903  0.011345725\n",
       "2007-07-20  0.02522142  0.003150978\n",
       "2007-07-27 -0.07969033 -0.014056529\n",
       "2007-08-03 -0.01849051  0.010216084\n",
       "2007-08-10 -0.03965627 -0.005898004\n",
       "2007-08-17 -0.04129406 -0.016011531"
      ]
     },
     "metadata": {},
     "output_type": "display_data"
    }
   ],
   "source": [
    "bekk1data <- us_w[,c(1:2)]\n",
    "head(bekk1data)"
   ]
  },
  {
   "cell_type": "code",
   "execution_count": 16,
   "id": "05b91686-3632-4426-b8db-877aaa775e80",
   "metadata": {},
   "outputs": [
    {
     "data": {
      "text/html": [
       "<dl>\n",
       "\t<dt>$selection</dt>\n",
       "\t\t<dd><style>\n",
       ".dl-inline {width: auto; margin:0; padding: 0}\n",
       ".dl-inline>dt, .dl-inline>dd {float: none; width: auto; display: inline-block}\n",
       ".dl-inline>dt::after {content: \":\\0020\"; padding-right: .5ex}\n",
       ".dl-inline>dt:not(:first-of-type) {padding-left: .5ex}\n",
       "</style><dl class=dl-inline><dt>AIC(n)</dt><dd>1</dd><dt>HQ(n)</dt><dd>1</dd><dt>SC(n)</dt><dd>1</dd><dt>FPE(n)</dt><dd>1</dd></dl>\n",
       "</dd>\n",
       "\t<dt>$criteria</dt>\n",
       "\t\t<dd><table class=\"dataframe\">\n",
       "<caption>A matrix: 4 × 10 of type dbl</caption>\n",
       "<thead>\n",
       "\t<tr><th></th><th scope=col>1</th><th scope=col>2</th><th scope=col>3</th><th scope=col>4</th><th scope=col>5</th><th scope=col>6</th><th scope=col>7</th><th scope=col>8</th><th scope=col>9</th><th scope=col>10</th></tr>\n",
       "</thead>\n",
       "<tbody>\n",
       "\t<tr><th scope=row>AIC(n)</th><td>-1.526901e+01</td><td>-1.526377e+01</td><td>-1.525540e+01</td><td>-1.524817e+01</td><td>-1.524367e+01</td><td>-1.524095e+01</td><td>-1.523333e+01</td><td>-1.523340e+01</td><td>-1.523504e+01</td><td>-1.522646e+01</td></tr>\n",
       "\t<tr><th scope=row>HQ(n)</th><td>-1.525640e+01</td><td>-1.524276e+01</td><td>-1.522598e+01</td><td>-1.521035e+01</td><td>-1.519744e+01</td><td>-1.518632e+01</td><td>-1.517029e+01</td><td>-1.516196e+01</td><td>-1.515520e+01</td><td>-1.513821e+01</td></tr>\n",
       "\t<tr><th scope=row>SC(n)</th><td>-1.523606e+01</td><td>-1.520886e+01</td><td>-1.517852e+01</td><td>-1.514933e+01</td><td>-1.512287e+01</td><td>-1.509818e+01</td><td>-1.506860e+01</td><td>-1.504671e+01</td><td>-1.502639e+01</td><td>-1.499584e+01</td></tr>\n",
       "\t<tr><th scope=row>FPE(n)</th><td> 2.337509e-07</td><td> 2.349790e-07</td><td> 2.369549e-07</td><td> 2.386739e-07</td><td> 2.397502e-07</td><td> 2.404039e-07</td><td> 2.422435e-07</td><td> 2.422259e-07</td><td> 2.418300e-07</td><td> 2.439156e-07</td></tr>\n",
       "</tbody>\n",
       "</table>\n",
       "</dd>\n",
       "</dl>\n"
      ],
      "text/latex": [
       "\\begin{description}\n",
       "\\item[\\$selection] \\begin{description*}\n",
       "\\item[AIC(n)] 1\n",
       "\\item[HQ(n)] 1\n",
       "\\item[SC(n)] 1\n",
       "\\item[FPE(n)] 1\n",
       "\\end{description*}\n",
       "\n",
       "\\item[\\$criteria] A matrix: 4 × 10 of type dbl\n",
       "\\begin{tabular}{r|llllllllll}\n",
       "  & 1 & 2 & 3 & 4 & 5 & 6 & 7 & 8 & 9 & 10\\\\\n",
       "\\hline\n",
       "\tAIC(n) & -1.526901e+01 & -1.526377e+01 & -1.525540e+01 & -1.524817e+01 & -1.524367e+01 & -1.524095e+01 & -1.523333e+01 & -1.523340e+01 & -1.523504e+01 & -1.522646e+01\\\\\n",
       "\tHQ(n) & -1.525640e+01 & -1.524276e+01 & -1.522598e+01 & -1.521035e+01 & -1.519744e+01 & -1.518632e+01 & -1.517029e+01 & -1.516196e+01 & -1.515520e+01 & -1.513821e+01\\\\\n",
       "\tSC(n) & -1.523606e+01 & -1.520886e+01 & -1.517852e+01 & -1.514933e+01 & -1.512287e+01 & -1.509818e+01 & -1.506860e+01 & -1.504671e+01 & -1.502639e+01 & -1.499584e+01\\\\\n",
       "\tFPE(n) &  2.337509e-07 &  2.349790e-07 &  2.369549e-07 &  2.386739e-07 &  2.397502e-07 &  2.404039e-07 &  2.422435e-07 &  2.422259e-07 &  2.418300e-07 &  2.439156e-07\\\\\n",
       "\\end{tabular}\n",
       "\n",
       "\\end{description}\n"
      ],
      "text/markdown": [
       "$selection\n",
       ":   AIC(n)\n",
       ":   1HQ(n)\n",
       ":   1SC(n)\n",
       ":   1FPE(n)\n",
       ":   1\n",
       "\n",
       "\n",
       "$criteria\n",
       ":   \n",
       "A matrix: 4 × 10 of type dbl\n",
       "\n",
       "| <!--/--> | 1 | 2 | 3 | 4 | 5 | 6 | 7 | 8 | 9 | 10 |\n",
       "|---|---|---|---|---|---|---|---|---|---|---|\n",
       "| AIC(n) | -1.526901e+01 | -1.526377e+01 | -1.525540e+01 | -1.524817e+01 | -1.524367e+01 | -1.524095e+01 | -1.523333e+01 | -1.523340e+01 | -1.523504e+01 | -1.522646e+01 |\n",
       "| HQ(n) | -1.525640e+01 | -1.524276e+01 | -1.522598e+01 | -1.521035e+01 | -1.519744e+01 | -1.518632e+01 | -1.517029e+01 | -1.516196e+01 | -1.515520e+01 | -1.513821e+01 |\n",
       "| SC(n) | -1.523606e+01 | -1.520886e+01 | -1.517852e+01 | -1.514933e+01 | -1.512287e+01 | -1.509818e+01 | -1.506860e+01 | -1.504671e+01 | -1.502639e+01 | -1.499584e+01 |\n",
       "| FPE(n) |  2.337509e-07 |  2.349790e-07 |  2.369549e-07 |  2.386739e-07 |  2.397502e-07 |  2.404039e-07 |  2.422435e-07 |  2.422259e-07 |  2.418300e-07 |  2.439156e-07 |\n",
       "\n",
       "\n",
       "\n",
       "\n"
      ],
      "text/plain": [
       "$selection\n",
       "AIC(n)  HQ(n)  SC(n) FPE(n) \n",
       "     1      1      1      1 \n",
       "\n",
       "$criteria\n",
       "                   1             2             3             4             5\n",
       "AIC(n) -1.526901e+01 -1.526377e+01 -1.525540e+01 -1.524817e+01 -1.524367e+01\n",
       "HQ(n)  -1.525640e+01 -1.524276e+01 -1.522598e+01 -1.521035e+01 -1.519744e+01\n",
       "SC(n)  -1.523606e+01 -1.520886e+01 -1.517852e+01 -1.514933e+01 -1.512287e+01\n",
       "FPE(n)  2.337509e-07  2.349790e-07  2.369549e-07  2.386739e-07  2.397502e-07\n",
       "                   6             7             8             9            10\n",
       "AIC(n) -1.524095e+01 -1.523333e+01 -1.523340e+01 -1.523504e+01 -1.522646e+01\n",
       "HQ(n)  -1.518632e+01 -1.517029e+01 -1.516196e+01 -1.515520e+01 -1.513821e+01\n",
       "SC(n)  -1.509818e+01 -1.506860e+01 -1.504671e+01 -1.502639e+01 -1.499584e+01\n",
       "FPE(n)  2.404039e-07  2.422435e-07  2.422259e-07  2.418300e-07  2.439156e-07\n"
      ]
     },
     "metadata": {},
     "output_type": "display_data"
    },
    {
     "data": {
      "text/plain": [
       "\n",
       "VAR Estimation Results:\n",
       "========================= \n",
       "Endogenous variables: usc, eurusd \n",
       "Deterministic variables: const \n",
       "Sample size: 877 \n",
       "Log Likelihood: 4215.722 \n",
       "Roots of the characteristic polynomial:\n",
       "0.05075 0.007778\n",
       "Call:\n",
       "VAR(y = bekk1data, p = 1, type = \"const\")\n",
       "\n",
       "\n",
       "Estimation results for equation usc: \n",
       "==================================== \n",
       "usc = usc.l1 + eurusd.l1 + const \n",
       "\n",
       "           Estimate Std. Error t value Pr(>|t|)\n",
       "usc.l1     0.045756   0.036398   1.257    0.209\n",
       "eurusd.l1 -0.037212   0.109600  -0.340    0.734\n",
       "const      0.001465   0.001333   1.099    0.272\n",
       "\n",
       "\n",
       "Residual standard error: 0.03939 on 874 degrees of freedom\n",
       "Multiple R-Squared: 0.001807,\tAdjusted R-squared: -0.0004773 \n",
       "F-statistic: 0.791 on 2 and 874 DF,  p-value: 0.4537 \n",
       "\n",
       "\n",
       "Estimation results for equation eurusd: \n",
       "======================================= \n",
       "eurusd = usc.l1 + eurusd.l1 + const \n",
       "\n",
       "            Estimate Std. Error t value Pr(>|t|)\n",
       "usc.l1    -0.0071890  0.0117790  -0.610    0.542\n",
       "eurusd.l1 -0.0027811  0.0354678  -0.078    0.938\n",
       "const     -0.0002700  0.0004313  -0.626    0.531\n",
       "\n",
       "\n",
       "Residual standard error: 0.01275 on 874 degrees of freedom\n",
       "Multiple R-Squared: 0.0005131,\tAdjusted R-squared: -0.001774 \n",
       "F-statistic: 0.2243 on 2 and 874 DF,  p-value: 0.7991 \n",
       "\n",
       "\n",
       "\n",
       "Covariance matrix of residuals:\n",
       "            usc    eurusd\n",
       "usc    0.001552 0.0001470\n",
       "eurusd 0.000147 0.0001625\n",
       "\n",
       "Correlation matrix of residuals:\n",
       "          usc eurusd\n",
       "usc    1.0000 0.2928\n",
       "eurusd 0.2928 1.0000\n",
       "\n"
      ]
     },
     "metadata": {},
     "output_type": "display_data"
    },
    {
     "name": "stdout",
     "output_type": "stream",
     "text": [
      " Date[1:877], format: \"2007-07-20\" \"2007-07-27\" \"2007-08-03\" \"2007-08-10\" \"2007-08-17\" ...\n"
     ]
    }
   ],
   "source": [
    "VARselect(bekk1data,type = \"const\")\n",
    "var_bekk1<-VAR(bekk1data,p = 1,type = \"const\")\n",
    "res_bekk1 <- residuals(var_bekk1)\n",
    "res_bekk1 <- as.data.frame(res_bekk1)\n",
    "summary(var_bekk1)\n",
    "ind_var1 <- index(bekk1data)[-1]\n",
    "str(ind_var1)"
   ]
  },
  {
   "cell_type": "code",
   "execution_count": 17,
   "id": "1161217e-deb1-4fdd-b5ab-33e0fae349ac",
   "metadata": {},
   "outputs": [
    {
     "data": {
      "text/html": [
       "<table class=\"dataframe\">\n",
       "<caption>A matrix: 2 × 2 of type dbl</caption>\n",
       "<tbody>\n",
       "\t<tr><td>0.30355934</td><td>-0.008215322</td></tr>\n",
       "\t<tr><td>0.03576806</td><td> 0.278101120</td></tr>\n",
       "</tbody>\n",
       "</table>\n"
      ],
      "text/latex": [
       "A matrix: 2 × 2 of type dbl\n",
       "\\begin{tabular}{ll}\n",
       "\t 0.30355934 & -0.008215322\\\\\n",
       "\t 0.03576806 &  0.278101120\\\\\n",
       "\\end{tabular}\n"
      ],
      "text/markdown": [
       "\n",
       "A matrix: 2 × 2 of type dbl\n",
       "\n",
       "| 0.30355934 | -0.008215322 |\n",
       "| 0.03576806 |  0.278101120 |\n",
       "\n"
      ],
      "text/plain": [
       "     [,1]       [,2]        \n",
       "[1,] 0.30355934 -0.008215322\n",
       "[2,] 0.03576806  0.278101120"
      ]
     },
     "metadata": {},
     "output_type": "display_data"
    },
    {
     "data": {
      "text/html": [
       "<table class=\"dataframe\">\n",
       "<caption>A matrix: 2 × 2 of type dbl</caption>\n",
       "<tbody>\n",
       "\t<tr><td>11.2128659</td><td>-0.784881</td></tr>\n",
       "\t<tr><td> 0.4043397</td><td> 9.804262</td></tr>\n",
       "</tbody>\n",
       "</table>\n"
      ],
      "text/latex": [
       "A matrix: 2 × 2 of type dbl\n",
       "\\begin{tabular}{ll}\n",
       "\t 11.2128659 & -0.784881\\\\\n",
       "\t  0.4043397 &  9.804262\\\\\n",
       "\\end{tabular}\n"
      ],
      "text/markdown": [
       "\n",
       "A matrix: 2 × 2 of type dbl\n",
       "\n",
       "| 11.2128659 | -0.784881 |\n",
       "|  0.4043397 |  9.804262 |\n",
       "\n"
      ],
      "text/plain": [
       "     [,1]       [,2]     \n",
       "[1,] 11.2128659 -0.784881\n",
       "[2,]  0.4043397  9.804262"
      ]
     },
     "metadata": {},
     "output_type": "display_data"
    },
    {
     "data": {
      "text/html": [
       "<table class=\"dataframe\">\n",
       "<caption>A matrix: 2 × 2 of type dbl</caption>\n",
       "<tbody>\n",
       "\t<tr><td>0.933837983</td><td>0.0070885</td></tr>\n",
       "\t<tr><td>0.001637461</td><td>0.9434765</td></tr>\n",
       "</tbody>\n",
       "</table>\n"
      ],
      "text/latex": [
       "A matrix: 2 × 2 of type dbl\n",
       "\\begin{tabular}{ll}\n",
       "\t 0.933837983 & 0.0070885\\\\\n",
       "\t 0.001637461 & 0.9434765\\\\\n",
       "\\end{tabular}\n"
      ],
      "text/markdown": [
       "\n",
       "A matrix: 2 × 2 of type dbl\n",
       "\n",
       "| 0.933837983 | 0.0070885 |\n",
       "| 0.001637461 | 0.9434765 |\n",
       "\n"
      ],
      "text/plain": [
       "     [,1]        [,2]     \n",
       "[1,] 0.933837983 0.0070885\n",
       "[2,] 0.001637461 0.9434765"
      ]
     },
     "metadata": {},
     "output_type": "display_data"
    },
    {
     "data": {
      "text/html": [
       "<table class=\"dataframe\">\n",
       "<caption>A matrix: 2 × 2 of type dbl</caption>\n",
       "<tbody>\n",
       "\t<tr><td>56.337633</td><td> 1.303809</td></tr>\n",
       "\t<tr><td> 0.033929</td><td>75.000933</td></tr>\n",
       "</tbody>\n",
       "</table>\n"
      ],
      "text/latex": [
       "A matrix: 2 × 2 of type dbl\n",
       "\\begin{tabular}{ll}\n",
       "\t 56.337633 &  1.303809\\\\\n",
       "\t  0.033929 & 75.000933\\\\\n",
       "\\end{tabular}\n"
      ],
      "text/markdown": [
       "\n",
       "A matrix: 2 × 2 of type dbl\n",
       "\n",
       "| 56.337633 |  1.303809 |\n",
       "|  0.033929 | 75.000933 |\n",
       "\n"
      ],
      "text/plain": [
       "     [,1]      [,2]     \n",
       "[1,] 56.337633  1.303809\n",
       "[2,]  0.033929 75.000933"
      ]
     },
     "metadata": {},
     "output_type": "display_data"
    }
   ],
   "source": [
    "res_bekk1 <- xts(res_bekk1,order.by = ind_var1)\n",
    "bekk_spec <- bekk_spec(model = list(type = \"bekk\",asymmetric = F))\n",
    "bekk1_fit <- bekk_fit(spec = bekk_spec,data = res_bekk1)\n",
    "bekk1_fit$A\n",
    "bekk1_fit$A_t\n",
    "bekk1_fit$G\n",
    "bekk1_fit$G_t"
   ]
  },
  {
   "cell_type": "markdown",
   "id": "a89b64aa-bfce-4a4a-b367-43f8953332d2",
   "metadata": {},
   "source": [
    "### VAR-BEKK Model Table for US Cocoa - EURUSD"
   ]
  },
  {
   "cell_type": "code",
   "execution_count": 18,
   "id": "8f713a5a-b31b-4119-bad9-82ca9f4cb869",
   "metadata": {},
   "outputs": [
    {
     "data": {
      "text/html": [
       "<table class=\"dataframe\">\n",
       "<caption>A data.frame: 14 × 5</caption>\n",
       "<thead>\n",
       "\t<tr><th scope=col>Parameters</th><th scope=col>Coefficient</th><th scope=col>Std_error</th><th scope=col>T_value</th><th scope=col>Significant_at_5p_level</th></tr>\n",
       "\t<tr><th scope=col>&lt;chr&gt;</th><th scope=col>&lt;dbl&gt;</th><th scope=col>&lt;dbl&gt;</th><th scope=col>&lt;dbl&gt;</th><th scope=col>&lt;chr&gt;</th></tr>\n",
       "</thead>\n",
       "<tbody>\n",
       "\t<tr><td>mu10 </td><td> 0.001465075</td><td>0.0013326381</td><td> 1.09937941</td><td>Not Statistically Significant</td></tr>\n",
       "\t<tr><td>mu20 </td><td>-0.000269960</td><td>0.0004312581</td><td>-0.62598233</td><td>Not Statistically Significant</td></tr>\n",
       "\t<tr><td>phi11</td><td> 0.045755848</td><td>0.0363983528</td><td> 1.25708567</td><td>Not Statistically Significant</td></tr>\n",
       "\t<tr><td>phi12</td><td>-0.037212136</td><td>0.1095997523</td><td>-0.33952756</td><td>Not Statistically Significant</td></tr>\n",
       "\t<tr><td>phi21</td><td>-0.007189014</td><td>0.0117789566</td><td>-0.61032687</td><td>Not Statistically Significant</td></tr>\n",
       "\t<tr><td>phi22</td><td>-0.002781125</td><td>0.0354678337</td><td>-0.07841259</td><td>Not Statistically Significant</td></tr>\n",
       "\t<tr><td>a11  </td><td> 0.303559340</td><td>0.0270724134</td><td>11.21286588</td><td>Stat significant at 1%       </td></tr>\n",
       "\t<tr><td>a12  </td><td>-0.008215322</td><td>0.0104669657</td><td>-0.78488097</td><td>Not Statistically Significant</td></tr>\n",
       "\t<tr><td>a21  </td><td> 0.035768064</td><td>0.0884604409</td><td> 0.40433966</td><td>Not Statistically Significant</td></tr>\n",
       "\t<tr><td>a22  </td><td> 0.278101120</td><td>0.0283653300</td><td> 9.80426173</td><td>Stat significant at 1%       </td></tr>\n",
       "\t<tr><td>g11  </td><td> 0.933837983</td><td>0.0165757405</td><td>56.33763285</td><td>Stat significant at 1%       </td></tr>\n",
       "\t<tr><td>g12  </td><td> 0.007088500</td><td>0.0054367650</td><td> 1.30380851</td><td>Not Statistically Significant</td></tr>\n",
       "\t<tr><td>g21  </td><td> 0.001637461</td><td>0.0482614053</td><td> 0.03392900</td><td>Not Statistically Significant</td></tr>\n",
       "\t<tr><td>g22  </td><td> 0.943476517</td><td>0.0125795305</td><td>75.00093255</td><td>Stat significant at 1%       </td></tr>\n",
       "</tbody>\n",
       "</table>\n"
      ],
      "text/latex": [
       "A data.frame: 14 × 5\n",
       "\\begin{tabular}{lllll}\n",
       " Parameters & Coefficient & Std\\_error & T\\_value & Significant\\_at\\_5p\\_level\\\\\n",
       " <chr> & <dbl> & <dbl> & <dbl> & <chr>\\\\\n",
       "\\hline\n",
       "\t mu10  &  0.001465075 & 0.0013326381 &  1.09937941 & Not Statistically Significant\\\\\n",
       "\t mu20  & -0.000269960 & 0.0004312581 & -0.62598233 & Not Statistically Significant\\\\\n",
       "\t phi11 &  0.045755848 & 0.0363983528 &  1.25708567 & Not Statistically Significant\\\\\n",
       "\t phi12 & -0.037212136 & 0.1095997523 & -0.33952756 & Not Statistically Significant\\\\\n",
       "\t phi21 & -0.007189014 & 0.0117789566 & -0.61032687 & Not Statistically Significant\\\\\n",
       "\t phi22 & -0.002781125 & 0.0354678337 & -0.07841259 & Not Statistically Significant\\\\\n",
       "\t a11   &  0.303559340 & 0.0270724134 & 11.21286588 & Stat significant at 1\\%       \\\\\n",
       "\t a12   & -0.008215322 & 0.0104669657 & -0.78488097 & Not Statistically Significant\\\\\n",
       "\t a21   &  0.035768064 & 0.0884604409 &  0.40433966 & Not Statistically Significant\\\\\n",
       "\t a22   &  0.278101120 & 0.0283653300 &  9.80426173 & Stat significant at 1\\%       \\\\\n",
       "\t g11   &  0.933837983 & 0.0165757405 & 56.33763285 & Stat significant at 1\\%       \\\\\n",
       "\t g12   &  0.007088500 & 0.0054367650 &  1.30380851 & Not Statistically Significant\\\\\n",
       "\t g21   &  0.001637461 & 0.0482614053 &  0.03392900 & Not Statistically Significant\\\\\n",
       "\t g22   &  0.943476517 & 0.0125795305 & 75.00093255 & Stat significant at 1\\%       \\\\\n",
       "\\end{tabular}\n"
      ],
      "text/markdown": [
       "\n",
       "A data.frame: 14 × 5\n",
       "\n",
       "| Parameters &lt;chr&gt; | Coefficient &lt;dbl&gt; | Std_error &lt;dbl&gt; | T_value &lt;dbl&gt; | Significant_at_5p_level &lt;chr&gt; |\n",
       "|---|---|---|---|---|\n",
       "| mu10  |  0.001465075 | 0.0013326381 |  1.09937941 | Not Statistically Significant |\n",
       "| mu20  | -0.000269960 | 0.0004312581 | -0.62598233 | Not Statistically Significant |\n",
       "| phi11 |  0.045755848 | 0.0363983528 |  1.25708567 | Not Statistically Significant |\n",
       "| phi12 | -0.037212136 | 0.1095997523 | -0.33952756 | Not Statistically Significant |\n",
       "| phi21 | -0.007189014 | 0.0117789566 | -0.61032687 | Not Statistically Significant |\n",
       "| phi22 | -0.002781125 | 0.0354678337 | -0.07841259 | Not Statistically Significant |\n",
       "| a11   |  0.303559340 | 0.0270724134 | 11.21286588 | Stat significant at 1%        |\n",
       "| a12   | -0.008215322 | 0.0104669657 | -0.78488097 | Not Statistically Significant |\n",
       "| a21   |  0.035768064 | 0.0884604409 |  0.40433966 | Not Statistically Significant |\n",
       "| a22   |  0.278101120 | 0.0283653300 |  9.80426173 | Stat significant at 1%        |\n",
       "| g11   |  0.933837983 | 0.0165757405 | 56.33763285 | Stat significant at 1%        |\n",
       "| g12   |  0.007088500 | 0.0054367650 |  1.30380851 | Not Statistically Significant |\n",
       "| g21   |  0.001637461 | 0.0482614053 |  0.03392900 | Not Statistically Significant |\n",
       "| g22   |  0.943476517 | 0.0125795305 | 75.00093255 | Stat significant at 1%        |\n",
       "\n"
      ],
      "text/plain": [
       "   Parameters Coefficient  Std_error    T_value    \n",
       "1  mu10        0.001465075 0.0013326381  1.09937941\n",
       "2  mu20       -0.000269960 0.0004312581 -0.62598233\n",
       "3  phi11       0.045755848 0.0363983528  1.25708567\n",
       "4  phi12      -0.037212136 0.1095997523 -0.33952756\n",
       "5  phi21      -0.007189014 0.0117789566 -0.61032687\n",
       "6  phi22      -0.002781125 0.0354678337 -0.07841259\n",
       "7  a11         0.303559340 0.0270724134 11.21286588\n",
       "8  a12        -0.008215322 0.0104669657 -0.78488097\n",
       "9  a21         0.035768064 0.0884604409  0.40433966\n",
       "10 a22         0.278101120 0.0283653300  9.80426173\n",
       "11 g11         0.933837983 0.0165757405 56.33763285\n",
       "12 g12         0.007088500 0.0054367650  1.30380851\n",
       "13 g21         0.001637461 0.0482614053  0.03392900\n",
       "14 g22         0.943476517 0.0125795305 75.00093255\n",
       "   Significant_at_5p_level      \n",
       "1  Not Statistically Significant\n",
       "2  Not Statistically Significant\n",
       "3  Not Statistically Significant\n",
       "4  Not Statistically Significant\n",
       "5  Not Statistically Significant\n",
       "6  Not Statistically Significant\n",
       "7  Stat significant at 1%       \n",
       "8  Not Statistically Significant\n",
       "9  Not Statistically Significant\n",
       "10 Stat significant at 1%       \n",
       "11 Stat significant at 1%       \n",
       "12 Not Statistically Significant\n",
       "13 Not Statistically Significant\n",
       "14 Stat significant at 1%       "
      ]
     },
     "metadata": {},
     "output_type": "display_data"
    }
   ],
   "source": [
    "bekk1 <- data.frame(Parameters = c(\"mu10\",\"mu20\",\"phi11\",\"phi12\",\"phi21\",\"phi22\",\"a11\",\"a12\",\"a21\",\"a22\",\"g11\",\"g12\",\"g21\",\"g22\"),\n",
    "                   Coefficient = c(summary(var_bekk1)$varresult$usc$coefficients[\"const\",\"Estimate\"],summary(var_bekk1)$varresult$eurusd$coefficients[\"const\",\"Estimate\"],\n",
    "                                   summary(var_bekk1)$varresult$usc$coefficients[\"usc.l1\",\"Estimate\"],summary(var_bekk1)$varresult$usc$coefficients[\"eurusd.l1\",\"Estimate\"],\n",
    "                                   summary(var_bekk1)$varresult$eurusd$coefficients[\"usc.l1\",\"Estimate\"],summary(var_bekk1)$varresult$eurusd$coefficients[\"eurusd.l1\",\"Estimate\"],\n",
    "                                   bekk1_fit$A[1,1],bekk1_fit$A[1,2],bekk1_fit$A[2,1],bekk1_fit$A[2,2],bekk1_fit$G[1,1],bekk1_fit$G[1,2],bekk1_fit$G[2,1],bekk1_fit$G[2,2]),\n",
    "                   Std_error = c(summary(var_bekk1)$varresult$usc$coefficients[\"const\",\"Std. Error\"],summary(var_bekk1)$varresult$eurusd$coefficients[\"const\",\"Std. Error\"],\n",
    "                                summary(var_bekk1)$varresult$usc$coefficients[\"usc.l1\",\"Std. Error\"],summary(var_bekk1)$varresult$usc$coefficients[\"eurusd.l1\",\"Std. Error\"],\n",
    "                                 summary(var_bekk1)$varresult$eurusd$coefficients[\"usc.l1\",\"Std. Error\"],summary(var_bekk1)$varresult$eurusd$coefficients[\"eurusd.l1\",\"Std. Error\"],\n",
    "                                 bekk1_fit$A_sd[1,1],bekk1_fit$A_sd[1,2],bekk1_fit$A_sd[2,1],bekk1_fit$A_sd[2,2],bekk1_fit$G_sd[1,1],bekk1_fit$G_sd[1,2],bekk1_fit$G_sd[2,1],bekk1_fit$G_sd[2,2]),\n",
    "                   T_value = c(summary(var_bekk1)$varresult$usc$coefficients[\"const\",\"t value\"],summary(var_bekk1)$varresult$eurusd$coefficients[\"const\",\"t value\"],\n",
    "                       summary(var_bekk1)$varresult$usc$coefficients[\"usc.l1\",\"t value\"],summary(var_bekk1)$varresult$usc$coefficients[\"eurusd.l1\",\"t value\"],\n",
    "                               summary(var_bekk1)$varresult$eurusd$coefficients[\"usc.l1\",\"t value\"],summary(var_bekk1)$varresult$eurusd$coefficients[\"eurusd.l1\",\"t value\"],\n",
    "                               bekk1_fit$A_t[1,1],bekk1_fit$A_t[1,2],bekk1_fit$A_t[2,1],bekk1_fit$A_t[2,2],bekk1_fit$G_t[1,1],bekk1_fit$G_t[1,2],bekk1_fit$G_t[2,1],bekk1_fit$G_t[2,2]))\n",
    "\n",
    "bekk1$Significant_at_5p_level[abs(bekk1$T_value) >= 2.58 ] <- \"Stat significant at 1%\"\n",
    "bekk1$Significant_at_5p_level[abs(bekk1$T_value) > 1.96 & abs(bekk1$T_value) < 2.58] <- \"Stat significant at 5%\"\n",
    "bekk1$Significant_at_5p_level[abs(bekk1$T_value) > 1.645 & abs(bekk1$T_value) <= 1.96 ] <- \"Stat significant at 10%\"\n",
    "bekk1$Significant_at_5p_level[abs(bekk1$T_value) <= 1.645] <- \"Not Statistically Significant\"\n",
    "bekk1"
   ]
  },
  {
   "cell_type": "markdown",
   "id": "840608cf-b690-4169-babd-6a345afdbfbf",
   "metadata": {},
   "source": [
    "- no transmission found whatsoever"
   ]
  },
  {
   "cell_type": "code",
   "execution_count": 19,
   "id": "c97f3d42-2aab-4b77-bf16-501b5b33aea6",
   "metadata": {},
   "outputs": [
    {
     "data": {
      "text/plain": [
       "\n",
       "\tGranger causality H0: usc do not Granger-cause eurusd\n",
       "\n",
       "data:  VAR object var_bekk1\n",
       "F-Test = 0.3725, df1 = 1, df2 = 1748, p-value = 0.5417\n"
      ]
     },
     "metadata": {},
     "output_type": "display_data"
    },
    {
     "data": {
      "text/plain": [
       "\n",
       "\tGranger causality H0: eurusd do not Granger-cause usc\n",
       "\n",
       "data:  VAR object var_bekk1\n",
       "F-Test = 0.11528, df1 = 1, df2 = 1748, p-value = 0.7343\n"
      ]
     },
     "metadata": {},
     "output_type": "display_data"
    }
   ],
   "source": [
    "causality(var_bekk1,cause = \"usc\")$Granger\n",
    "causality(var_bekk1,cause = \"eurusd\")$Granger"
   ]
  },
  {
   "cell_type": "markdown",
   "id": "b4217e1f-19e6-4776-a03d-f1b6fc7f908a",
   "metadata": {},
   "source": [
    "## (b) VAR-BEKK: US Cocoa-GBPUSD"
   ]
  },
  {
   "cell_type": "code",
   "execution_count": 20,
   "id": "eb910ce0-2955-44c4-bfe0-0ab969d6b0d6",
   "metadata": {},
   "outputs": [
    {
     "data": {
      "text/plain": [
       "                   usc       gbpusd\n",
       "2007-07-13 -0.02286903  0.011768041\n",
       "2007-07-20  0.02522142  0.010561671\n",
       "2007-07-27 -0.07969033 -0.015439970\n",
       "2007-08-03 -0.01849051  0.007480166\n",
       "2007-08-10 -0.03965627 -0.007776587\n",
       "2007-08-17 -0.04129406 -0.021627054"
      ]
     },
     "metadata": {},
     "output_type": "display_data"
    }
   ],
   "source": [
    "bekk2data <- us_w[,c(1,3)]\n",
    "head(bekk2data)"
   ]
  },
  {
   "cell_type": "code",
   "execution_count": 21,
   "id": "81020c87-9c1b-4148-9a99-d4aafc16e3ab",
   "metadata": {},
   "outputs": [
    {
     "data": {
      "text/html": [
       "<dl>\n",
       "\t<dt>$selection</dt>\n",
       "\t\t<dd><style>\n",
       ".dl-inline {width: auto; margin:0; padding: 0}\n",
       ".dl-inline>dt, .dl-inline>dd {float: none; width: auto; display: inline-block}\n",
       ".dl-inline>dt::after {content: \":\\0020\"; padding-right: .5ex}\n",
       ".dl-inline>dt:not(:first-of-type) {padding-left: .5ex}\n",
       "</style><dl class=dl-inline><dt>AIC(n)</dt><dd>1</dd><dt>HQ(n)</dt><dd>1</dd><dt>SC(n)</dt><dd>1</dd><dt>FPE(n)</dt><dd>1</dd></dl>\n",
       "</dd>\n",
       "\t<dt>$criteria</dt>\n",
       "\t\t<dd><table class=\"dataframe\">\n",
       "<caption>A matrix: 4 × 10 of type dbl</caption>\n",
       "<thead>\n",
       "\t<tr><th></th><th scope=col>1</th><th scope=col>2</th><th scope=col>3</th><th scope=col>4</th><th scope=col>5</th><th scope=col>6</th><th scope=col>7</th><th scope=col>8</th><th scope=col>9</th><th scope=col>10</th></tr>\n",
       "</thead>\n",
       "<tbody>\n",
       "\t<tr><th scope=row>AIC(n)</th><td>-1.513043e+01</td><td>-1.512928e+01</td><td>-1.512602e+01</td><td>-1.511778e+01</td><td>-1.511250e+01</td><td>-1.510989e+01</td><td>-1.510441e+01</td><td>-1.510530e+01</td><td>-1.510499e+01</td><td>-1.509990e+01</td></tr>\n",
       "\t<tr><th scope=row>HQ(n)</th><td>-1.511783e+01</td><td>-1.510827e+01</td><td>-1.509660e+01</td><td>-1.507996e+01</td><td>-1.506627e+01</td><td>-1.505526e+01</td><td>-1.504138e+01</td><td>-1.503385e+01</td><td>-1.502514e+01</td><td>-1.501165e+01</td></tr>\n",
       "\t<tr><th scope=row>SC(n)</th><td>-1.509749e+01</td><td>-1.507437e+01</td><td>-1.504914e+01</td><td>-1.501894e+01</td><td>-1.499169e+01</td><td>-1.496712e+01</td><td>-1.493968e+01</td><td>-1.491860e+01</td><td>-1.489633e+01</td><td>-1.486928e+01</td></tr>\n",
       "\t<tr><th scope=row>FPE(n)</th><td> 2.684952e-07</td><td> 2.688055e-07</td><td> 2.696839e-07</td><td> 2.719142e-07</td><td> 2.733552e-07</td><td> 2.740698e-07</td><td> 2.755747e-07</td><td> 2.753326e-07</td><td> 2.754185e-07</td><td> 2.768255e-07</td></tr>\n",
       "</tbody>\n",
       "</table>\n",
       "</dd>\n",
       "</dl>\n"
      ],
      "text/latex": [
       "\\begin{description}\n",
       "\\item[\\$selection] \\begin{description*}\n",
       "\\item[AIC(n)] 1\n",
       "\\item[HQ(n)] 1\n",
       "\\item[SC(n)] 1\n",
       "\\item[FPE(n)] 1\n",
       "\\end{description*}\n",
       "\n",
       "\\item[\\$criteria] A matrix: 4 × 10 of type dbl\n",
       "\\begin{tabular}{r|llllllllll}\n",
       "  & 1 & 2 & 3 & 4 & 5 & 6 & 7 & 8 & 9 & 10\\\\\n",
       "\\hline\n",
       "\tAIC(n) & -1.513043e+01 & -1.512928e+01 & -1.512602e+01 & -1.511778e+01 & -1.511250e+01 & -1.510989e+01 & -1.510441e+01 & -1.510530e+01 & -1.510499e+01 & -1.509990e+01\\\\\n",
       "\tHQ(n) & -1.511783e+01 & -1.510827e+01 & -1.509660e+01 & -1.507996e+01 & -1.506627e+01 & -1.505526e+01 & -1.504138e+01 & -1.503385e+01 & -1.502514e+01 & -1.501165e+01\\\\\n",
       "\tSC(n) & -1.509749e+01 & -1.507437e+01 & -1.504914e+01 & -1.501894e+01 & -1.499169e+01 & -1.496712e+01 & -1.493968e+01 & -1.491860e+01 & -1.489633e+01 & -1.486928e+01\\\\\n",
       "\tFPE(n) &  2.684952e-07 &  2.688055e-07 &  2.696839e-07 &  2.719142e-07 &  2.733552e-07 &  2.740698e-07 &  2.755747e-07 &  2.753326e-07 &  2.754185e-07 &  2.768255e-07\\\\\n",
       "\\end{tabular}\n",
       "\n",
       "\\end{description}\n"
      ],
      "text/markdown": [
       "$selection\n",
       ":   AIC(n)\n",
       ":   1HQ(n)\n",
       ":   1SC(n)\n",
       ":   1FPE(n)\n",
       ":   1\n",
       "\n",
       "\n",
       "$criteria\n",
       ":   \n",
       "A matrix: 4 × 10 of type dbl\n",
       "\n",
       "| <!--/--> | 1 | 2 | 3 | 4 | 5 | 6 | 7 | 8 | 9 | 10 |\n",
       "|---|---|---|---|---|---|---|---|---|---|---|\n",
       "| AIC(n) | -1.513043e+01 | -1.512928e+01 | -1.512602e+01 | -1.511778e+01 | -1.511250e+01 | -1.510989e+01 | -1.510441e+01 | -1.510530e+01 | -1.510499e+01 | -1.509990e+01 |\n",
       "| HQ(n) | -1.511783e+01 | -1.510827e+01 | -1.509660e+01 | -1.507996e+01 | -1.506627e+01 | -1.505526e+01 | -1.504138e+01 | -1.503385e+01 | -1.502514e+01 | -1.501165e+01 |\n",
       "| SC(n) | -1.509749e+01 | -1.507437e+01 | -1.504914e+01 | -1.501894e+01 | -1.499169e+01 | -1.496712e+01 | -1.493968e+01 | -1.491860e+01 | -1.489633e+01 | -1.486928e+01 |\n",
       "| FPE(n) |  2.684952e-07 |  2.688055e-07 |  2.696839e-07 |  2.719142e-07 |  2.733552e-07 |  2.740698e-07 |  2.755747e-07 |  2.753326e-07 |  2.754185e-07 |  2.768255e-07 |\n",
       "\n",
       "\n",
       "\n",
       "\n"
      ],
      "text/plain": [
       "$selection\n",
       "AIC(n)  HQ(n)  SC(n) FPE(n) \n",
       "     1      1      1      1 \n",
       "\n",
       "$criteria\n",
       "                   1             2             3             4             5\n",
       "AIC(n) -1.513043e+01 -1.512928e+01 -1.512602e+01 -1.511778e+01 -1.511250e+01\n",
       "HQ(n)  -1.511783e+01 -1.510827e+01 -1.509660e+01 -1.507996e+01 -1.506627e+01\n",
       "SC(n)  -1.509749e+01 -1.507437e+01 -1.504914e+01 -1.501894e+01 -1.499169e+01\n",
       "FPE(n)  2.684952e-07  2.688055e-07  2.696839e-07  2.719142e-07  2.733552e-07\n",
       "                   6             7             8             9            10\n",
       "AIC(n) -1.510989e+01 -1.510441e+01 -1.510530e+01 -1.510499e+01 -1.509990e+01\n",
       "HQ(n)  -1.505526e+01 -1.504138e+01 -1.503385e+01 -1.502514e+01 -1.501165e+01\n",
       "SC(n)  -1.496712e+01 -1.493968e+01 -1.491860e+01 -1.489633e+01 -1.486928e+01\n",
       "FPE(n)  2.740698e-07  2.755747e-07  2.753326e-07  2.754185e-07  2.768255e-07\n"
      ]
     },
     "metadata": {},
     "output_type": "display_data"
    },
    {
     "data": {
      "text/plain": [
       "\n",
       "VAR Estimation Results:\n",
       "========================= \n",
       "Endogenous variables: usc, gbpusd \n",
       "Deterministic variables: const \n",
       "Sample size: 877 \n",
       "Log Likelihood: 4154.461 \n",
       "Roots of the characteristic polynomial:\n",
       "0.02985 0.01823\n",
       "Call:\n",
       "VAR(y = bekk2data, p = 1, type = \"const\")\n",
       "\n",
       "\n",
       "Estimation results for equation usc: \n",
       "==================================== \n",
       "usc = usc.l1 + gbpusd.l1 + const \n",
       "\n",
       "           Estimate Std. Error t value Pr(>|t|)\n",
       "usc.l1     0.055511   0.036062   1.539    0.124\n",
       "gbpusd.l1 -0.138041   0.101913  -1.355    0.176\n",
       "const      0.001383   0.001332   1.038    0.300\n",
       "\n",
       "\n",
       "Residual standard error: 0.03935 on 874 degrees of freedom\n",
       "Multiple R-Squared: 0.003767,\tAdjusted R-squared: 0.001487 \n",
       "F-statistic: 1.652 on 2 and 874 DF,  p-value: 0.1922 \n",
       "\n",
       "\n",
       "Estimation results for equation gbpusd: \n",
       "======================================= \n",
       "gbpusd = usc.l1 + gbpusd.l1 + const \n",
       "\n",
       "            Estimate Std. Error t value Pr(>|t|)\n",
       "usc.l1     0.0137075  0.0124335   1.102    0.271\n",
       "gbpusd.l1 -0.0438890  0.0351376  -1.249    0.212\n",
       "const     -0.0006001  0.0004594  -1.306    0.192\n",
       "\n",
       "\n",
       "Residual standard error: 0.01357 on 874 degrees of freedom\n",
       "Multiple R-Squared: 0.002489,\tAdjusted R-squared: 0.0002068 \n",
       "F-statistic: 1.091 on 2 and 874 DF,  p-value: 0.3365 \n",
       "\n",
       "\n",
       "\n",
       "Covariance matrix of residuals:\n",
       "             usc    gbpusd\n",
       "usc    0.0015487 0.0001414\n",
       "gbpusd 0.0001414 0.0001841\n",
       "\n",
       "Correlation matrix of residuals:\n",
       "          usc gbpusd\n",
       "usc    1.0000 0.2649\n",
       "gbpusd 0.2649 1.0000\n",
       "\n"
      ]
     },
     "metadata": {},
     "output_type": "display_data"
    }
   ],
   "source": [
    "VARselect(bekk2data,type = \"const\")\n",
    "var_bekk2<-VAR(bekk2data,p = 1,type = \"const\")\n",
    "res_bekk2 <- residuals(var_bekk2)\n",
    "res_bekk2 <- as.data.frame(res_bekk2)\n",
    "summary(var_bekk2)"
   ]
  },
  {
   "cell_type": "code",
   "execution_count": 22,
   "id": "228ec3c0-e3fe-4782-9ee6-3ab907004127",
   "metadata": {},
   "outputs": [
    {
     "name": "stdout",
     "output_type": "stream",
     "text": [
      " Date[1:877], format: \"2007-07-20\" \"2007-07-27\" \"2007-08-03\" \"2007-08-10\" \"2007-08-17\" ...\n"
     ]
    },
    {
     "data": {
      "text/html": [
       "<table class=\"dataframe\">\n",
       "<caption>A matrix: 2 × 2 of type dbl</caption>\n",
       "<tbody>\n",
       "\t<tr><td> 0.30098712</td><td>-0.003236516</td></tr>\n",
       "\t<tr><td>-0.02065668</td><td> 0.306207721</td></tr>\n",
       "</tbody>\n",
       "</table>\n"
      ],
      "text/latex": [
       "A matrix: 2 × 2 of type dbl\n",
       "\\begin{tabular}{ll}\n",
       "\t  0.30098712 & -0.003236516\\\\\n",
       "\t -0.02065668 &  0.306207721\\\\\n",
       "\\end{tabular}\n"
      ],
      "text/markdown": [
       "\n",
       "A matrix: 2 × 2 of type dbl\n",
       "\n",
       "|  0.30098712 | -0.003236516 |\n",
       "| -0.02065668 |  0.306207721 |\n",
       "\n"
      ],
      "text/plain": [
       "     [,1]        [,2]        \n",
       "[1,]  0.30098712 -0.003236516\n",
       "[2,] -0.02065668  0.306207721"
      ]
     },
     "metadata": {},
     "output_type": "display_data"
    },
    {
     "data": {
      "text/html": [
       "<table class=\"dataframe\">\n",
       "<caption>A matrix: 2 × 2 of type dbl</caption>\n",
       "<tbody>\n",
       "\t<tr><td>15.0571444</td><td>-0.3419945</td></tr>\n",
       "\t<tr><td>-0.2507182</td><td>11.8617640</td></tr>\n",
       "</tbody>\n",
       "</table>\n"
      ],
      "text/latex": [
       "A matrix: 2 × 2 of type dbl\n",
       "\\begin{tabular}{ll}\n",
       "\t 15.0571444 & -0.3419945\\\\\n",
       "\t -0.2507182 & 11.8617640\\\\\n",
       "\\end{tabular}\n"
      ],
      "text/markdown": [
       "\n",
       "A matrix: 2 × 2 of type dbl\n",
       "\n",
       "| 15.0571444 | -0.3419945 |\n",
       "| -0.2507182 | 11.8617640 |\n",
       "\n"
      ],
      "text/plain": [
       "     [,1]       [,2]      \n",
       "[1,] 15.0571444 -0.3419945\n",
       "[2,] -0.2507182 11.8617640"
      ]
     },
     "metadata": {},
     "output_type": "display_data"
    },
    {
     "data": {
      "text/html": [
       "<table class=\"dataframe\">\n",
       "<caption>A matrix: 2 × 2 of type dbl</caption>\n",
       "<tbody>\n",
       "\t<tr><td> 0.94587603</td><td>0.002904426</td></tr>\n",
       "\t<tr><td>-0.06204918</td><td>0.931384983</td></tr>\n",
       "</tbody>\n",
       "</table>\n"
      ],
      "text/latex": [
       "A matrix: 2 × 2 of type dbl\n",
       "\\begin{tabular}{ll}\n",
       "\t  0.94587603 & 0.002904426\\\\\n",
       "\t -0.06204918 & 0.931384983\\\\\n",
       "\\end{tabular}\n"
      ],
      "text/markdown": [
       "\n",
       "A matrix: 2 × 2 of type dbl\n",
       "\n",
       "|  0.94587603 | 0.002904426 |\n",
       "| -0.06204918 | 0.931384983 |\n",
       "\n"
      ],
      "text/plain": [
       "     [,1]        [,2]       \n",
       "[1,]  0.94587603 0.002904426\n",
       "[2,] -0.06204918 0.931384983"
      ]
     },
     "metadata": {},
     "output_type": "display_data"
    },
    {
     "data": {
      "text/html": [
       "<table class=\"dataframe\">\n",
       "<caption>A matrix: 2 × 2 of type dbl</caption>\n",
       "<tbody>\n",
       "\t<tr><td>91.191326</td><td> 0.7000524</td></tr>\n",
       "\t<tr><td>-1.554008</td><td>80.1275258</td></tr>\n",
       "</tbody>\n",
       "</table>\n"
      ],
      "text/latex": [
       "A matrix: 2 × 2 of type dbl\n",
       "\\begin{tabular}{ll}\n",
       "\t 91.191326 &  0.7000524\\\\\n",
       "\t -1.554008 & 80.1275258\\\\\n",
       "\\end{tabular}\n"
      ],
      "text/markdown": [
       "\n",
       "A matrix: 2 × 2 of type dbl\n",
       "\n",
       "| 91.191326 |  0.7000524 |\n",
       "| -1.554008 | 80.1275258 |\n",
       "\n"
      ],
      "text/plain": [
       "     [,1]      [,2]      \n",
       "[1,] 91.191326  0.7000524\n",
       "[2,] -1.554008 80.1275258"
      ]
     },
     "metadata": {},
     "output_type": "display_data"
    }
   ],
   "source": [
    "ind_var2 <- index(bekk2data)[-1]\n",
    "str(ind_var2)\n",
    "res_bekk2 <- xts(res_bekk2,order.by = ind_var2)\n",
    "bekk_spec <- bekk_spec(model = list(type = \"bekk\",asymmetric = F))\n",
    "bekk2_fit <- bekk_fit(spec = bekk_spec,data = res_bekk2)\n",
    "bekk2_fit$A\n",
    "bekk2_fit$A_t\n",
    "bekk2_fit$G\n",
    "bekk2_fit$G_t"
   ]
  },
  {
   "cell_type": "markdown",
   "id": "43ee7edd-a4e6-4036-a8a3-a5e0f833799a",
   "metadata": {},
   "source": [
    "### VAR-BEKK Model Table for US Cocoa - GBPUSD"
   ]
  },
  {
   "cell_type": "code",
   "execution_count": 23,
   "id": "e5fc78e7-e845-470f-83fe-fd316426771a",
   "metadata": {},
   "outputs": [
    {
     "data": {
      "text/html": [
       "<table class=\"dataframe\">\n",
       "<caption>A data.frame: 14 × 5</caption>\n",
       "<thead>\n",
       "\t<tr><th scope=col>Parameters</th><th scope=col>Coefficient</th><th scope=col>Std_error</th><th scope=col>T_value</th><th scope=col>Significant_at_5p_level</th></tr>\n",
       "\t<tr><th scope=col>&lt;chr&gt;</th><th scope=col>&lt;dbl&gt;</th><th scope=col>&lt;dbl&gt;</th><th scope=col>&lt;dbl&gt;</th><th scope=col>&lt;chr&gt;</th></tr>\n",
       "</thead>\n",
       "<tbody>\n",
       "\t<tr><td>mu10 </td><td> 0.0013825608</td><td>0.0013324066</td><td> 1.0376418</td><td>Not Statistically Significant</td></tr>\n",
       "\t<tr><td>mu20 </td><td>-0.0006000506</td><td>0.0004593885</td><td>-1.3061942</td><td>Not Statistically Significant</td></tr>\n",
       "\t<tr><td>phi11</td><td> 0.0555112141</td><td>0.0360619560</td><td> 1.5393290</td><td>Not Statistically Significant</td></tr>\n",
       "\t<tr><td>phi12</td><td>-0.1380407768</td><td>0.1019126965</td><td>-1.3545003</td><td>Not Statistically Significant</td></tr>\n",
       "\t<tr><td>phi21</td><td> 0.0137074622</td><td>0.0124334784</td><td> 1.1024640</td><td>Not Statistically Significant</td></tr>\n",
       "\t<tr><td>phi22</td><td>-0.0438890285</td><td>0.0351375646</td><td>-1.2490629</td><td>Not Statistically Significant</td></tr>\n",
       "\t<tr><td>a11  </td><td> 0.3009871177</td><td>0.0199896548</td><td>15.0571444</td><td>Stat significant at 1%       </td></tr>\n",
       "\t<tr><td>a12  </td><td>-0.0032365156</td><td>0.0094636477</td><td>-0.3419945</td><td>Not Statistically Significant</td></tr>\n",
       "\t<tr><td>a21  </td><td>-0.0206566844</td><td>0.0823900458</td><td>-0.2507182</td><td>Not Statistically Significant</td></tr>\n",
       "\t<tr><td>a22  </td><td> 0.3062077211</td><td>0.0258146867</td><td>11.8617640</td><td>Stat significant at 1%       </td></tr>\n",
       "\t<tr><td>g11  </td><td> 0.9458760260</td><td>0.0103724342</td><td>91.1913258</td><td>Stat significant at 1%       </td></tr>\n",
       "\t<tr><td>g12  </td><td> 0.0029044263</td><td>0.0041488697</td><td> 0.7000524</td><td>Not Statistically Significant</td></tr>\n",
       "\t<tr><td>g21  </td><td>-0.0620491756</td><td>0.0399284702</td><td>-1.5540083</td><td>Not Statistically Significant</td></tr>\n",
       "\t<tr><td>g22  </td><td> 0.9313849832</td><td>0.0116237831</td><td>80.1275258</td><td>Stat significant at 1%       </td></tr>\n",
       "</tbody>\n",
       "</table>\n"
      ],
      "text/latex": [
       "A data.frame: 14 × 5\n",
       "\\begin{tabular}{lllll}\n",
       " Parameters & Coefficient & Std\\_error & T\\_value & Significant\\_at\\_5p\\_level\\\\\n",
       " <chr> & <dbl> & <dbl> & <dbl> & <chr>\\\\\n",
       "\\hline\n",
       "\t mu10  &  0.0013825608 & 0.0013324066 &  1.0376418 & Not Statistically Significant\\\\\n",
       "\t mu20  & -0.0006000506 & 0.0004593885 & -1.3061942 & Not Statistically Significant\\\\\n",
       "\t phi11 &  0.0555112141 & 0.0360619560 &  1.5393290 & Not Statistically Significant\\\\\n",
       "\t phi12 & -0.1380407768 & 0.1019126965 & -1.3545003 & Not Statistically Significant\\\\\n",
       "\t phi21 &  0.0137074622 & 0.0124334784 &  1.1024640 & Not Statistically Significant\\\\\n",
       "\t phi22 & -0.0438890285 & 0.0351375646 & -1.2490629 & Not Statistically Significant\\\\\n",
       "\t a11   &  0.3009871177 & 0.0199896548 & 15.0571444 & Stat significant at 1\\%       \\\\\n",
       "\t a12   & -0.0032365156 & 0.0094636477 & -0.3419945 & Not Statistically Significant\\\\\n",
       "\t a21   & -0.0206566844 & 0.0823900458 & -0.2507182 & Not Statistically Significant\\\\\n",
       "\t a22   &  0.3062077211 & 0.0258146867 & 11.8617640 & Stat significant at 1\\%       \\\\\n",
       "\t g11   &  0.9458760260 & 0.0103724342 & 91.1913258 & Stat significant at 1\\%       \\\\\n",
       "\t g12   &  0.0029044263 & 0.0041488697 &  0.7000524 & Not Statistically Significant\\\\\n",
       "\t g21   & -0.0620491756 & 0.0399284702 & -1.5540083 & Not Statistically Significant\\\\\n",
       "\t g22   &  0.9313849832 & 0.0116237831 & 80.1275258 & Stat significant at 1\\%       \\\\\n",
       "\\end{tabular}\n"
      ],
      "text/markdown": [
       "\n",
       "A data.frame: 14 × 5\n",
       "\n",
       "| Parameters &lt;chr&gt; | Coefficient &lt;dbl&gt; | Std_error &lt;dbl&gt; | T_value &lt;dbl&gt; | Significant_at_5p_level &lt;chr&gt; |\n",
       "|---|---|---|---|---|\n",
       "| mu10  |  0.0013825608 | 0.0013324066 |  1.0376418 | Not Statistically Significant |\n",
       "| mu20  | -0.0006000506 | 0.0004593885 | -1.3061942 | Not Statistically Significant |\n",
       "| phi11 |  0.0555112141 | 0.0360619560 |  1.5393290 | Not Statistically Significant |\n",
       "| phi12 | -0.1380407768 | 0.1019126965 | -1.3545003 | Not Statistically Significant |\n",
       "| phi21 |  0.0137074622 | 0.0124334784 |  1.1024640 | Not Statistically Significant |\n",
       "| phi22 | -0.0438890285 | 0.0351375646 | -1.2490629 | Not Statistically Significant |\n",
       "| a11   |  0.3009871177 | 0.0199896548 | 15.0571444 | Stat significant at 1%        |\n",
       "| a12   | -0.0032365156 | 0.0094636477 | -0.3419945 | Not Statistically Significant |\n",
       "| a21   | -0.0206566844 | 0.0823900458 | -0.2507182 | Not Statistically Significant |\n",
       "| a22   |  0.3062077211 | 0.0258146867 | 11.8617640 | Stat significant at 1%        |\n",
       "| g11   |  0.9458760260 | 0.0103724342 | 91.1913258 | Stat significant at 1%        |\n",
       "| g12   |  0.0029044263 | 0.0041488697 |  0.7000524 | Not Statistically Significant |\n",
       "| g21   | -0.0620491756 | 0.0399284702 | -1.5540083 | Not Statistically Significant |\n",
       "| g22   |  0.9313849832 | 0.0116237831 | 80.1275258 | Stat significant at 1%        |\n",
       "\n"
      ],
      "text/plain": [
       "   Parameters Coefficient   Std_error    T_value   \n",
       "1  mu10        0.0013825608 0.0013324066  1.0376418\n",
       "2  mu20       -0.0006000506 0.0004593885 -1.3061942\n",
       "3  phi11       0.0555112141 0.0360619560  1.5393290\n",
       "4  phi12      -0.1380407768 0.1019126965 -1.3545003\n",
       "5  phi21       0.0137074622 0.0124334784  1.1024640\n",
       "6  phi22      -0.0438890285 0.0351375646 -1.2490629\n",
       "7  a11         0.3009871177 0.0199896548 15.0571444\n",
       "8  a12        -0.0032365156 0.0094636477 -0.3419945\n",
       "9  a21        -0.0206566844 0.0823900458 -0.2507182\n",
       "10 a22         0.3062077211 0.0258146867 11.8617640\n",
       "11 g11         0.9458760260 0.0103724342 91.1913258\n",
       "12 g12         0.0029044263 0.0041488697  0.7000524\n",
       "13 g21        -0.0620491756 0.0399284702 -1.5540083\n",
       "14 g22         0.9313849832 0.0116237831 80.1275258\n",
       "   Significant_at_5p_level      \n",
       "1  Not Statistically Significant\n",
       "2  Not Statistically Significant\n",
       "3  Not Statistically Significant\n",
       "4  Not Statistically Significant\n",
       "5  Not Statistically Significant\n",
       "6  Not Statistically Significant\n",
       "7  Stat significant at 1%       \n",
       "8  Not Statistically Significant\n",
       "9  Not Statistically Significant\n",
       "10 Stat significant at 1%       \n",
       "11 Stat significant at 1%       \n",
       "12 Not Statistically Significant\n",
       "13 Not Statistically Significant\n",
       "14 Stat significant at 1%       "
      ]
     },
     "metadata": {},
     "output_type": "display_data"
    }
   ],
   "source": [
    "bekk2 <- data.frame(Parameters = c(\"mu10\",\"mu20\",\"phi11\",\"phi12\",\"phi21\",\"phi22\",\"a11\",\"a12\",\"a21\",\"a22\",\"g11\",\"g12\",\"g21\",\"g22\"),\n",
    "                   Coefficient = c(summary(var_bekk2)$varresult$usc$coefficients[\"const\",\"Estimate\"],summary(var_bekk2)$varresult$gbpusd$coefficients[\"const\",\"Estimate\"],\n",
    "                       summary(var_bekk2)$varresult$usc$coefficients[\"usc.l1\",\"Estimate\"],summary(var_bekk2)$varresult$usc$coefficients[\"gbpusd.l1\",\"Estimate\"],\n",
    "                                   summary(var_bekk2)$varresult$gbpusd$coefficients[\"usc.l1\",\"Estimate\"],summary(var_bekk2)$varresult$gbpusd$coefficients[\"gbpusd.l1\",\"Estimate\"],\n",
    "                                   bekk2_fit$A[1,1],bekk2_fit$A[1,2],bekk2_fit$A[2,1],bekk2_fit$A[2,2],bekk2_fit$G[1,1],bekk2_fit$G[1,2],bekk2_fit$G[2,1],bekk2_fit$G[2,2]),\n",
    "                   Std_error = c(summary(var_bekk2)$varresult$usc$coefficients[\"const\",\"Std. Error\"],summary(var_bekk2)$varresult$gbpusd$coefficients[\"const\",\"Std. Error\"],\n",
    "                       summary(var_bekk2)$varresult$usc$coefficients[\"usc.l1\",\"Std. Error\"],summary(var_bekk2)$varresult$usc$coefficients[\"gbpusd.l1\",\"Std. Error\"],\n",
    "                                 summary(var_bekk2)$varresult$gbpusd$coefficients[\"usc.l1\",\"Std. Error\"],summary(var_bekk2)$varresult$gbpusd$coefficients[\"gbpusd.l1\",\"Std. Error\"],\n",
    "                                 bekk2_fit$A_sd[1,1],bekk2_fit$A_sd[1,2],bekk2_fit$A_sd[2,1],bekk2_fit$A_sd[2,2],bekk2_fit$G_sd[1,1],bekk2_fit$G_sd[1,2],bekk2_fit$G_sd[2,1],bekk2_fit$G_sd[2,2]),\n",
    "                   T_value = c(summary(var_bekk2)$varresult$usc$coefficients[\"const\",\"t value\"],summary(var_bekk2)$varresult$gbpusd$coefficients[\"const\",\"t value\"],\n",
    "                       summary(var_bekk2)$varresult$usc$coefficients[\"usc.l1\",\"t value\"],summary(var_bekk2)$varresult$usc$coefficients[\"gbpusd.l1\",\"t value\"],\n",
    "                               summary(var_bekk2)$varresult$gbpusd$coefficients[\"usc.l1\",\"t value\"],summary(var_bekk2)$varresult$gbpusd$coefficients[\"gbpusd.l1\",\"t value\"],\n",
    "                               bekk2_fit$A_t[1,1],bekk2_fit$A_t[1,2],bekk2_fit$A_t[2,1],bekk2_fit$A_t[2,2],bekk2_fit$G_t[1,1],bekk2_fit$G_t[1,2],bekk2_fit$G_t[2,1],bekk2_fit$G_t[2,2]))\n",
    "\n",
    "bekk2$Significant_at_5p_level[abs(bekk2$T_value) >= 2.58 ] <- \"Stat significant at 1%\"\n",
    "bekk2$Significant_at_5p_level[abs(bekk2$T_value) > 1.96 & abs(bekk2$T_value) < 2.58] <- \"Stat significant at 5%\"\n",
    "bekk2$Significant_at_5p_level[abs(bekk2$T_value) > 1.645 & abs(bekk2$T_value) <= 1.96 ] <- \"Stat significant at 10%\"\n",
    "bekk2$Significant_at_5p_level[abs(bekk2$T_value) <= 1.645] <- \"Not Statistically Significant\"\n",
    "bekk2"
   ]
  },
  {
   "cell_type": "markdown",
   "id": "9a4037c3-c93d-46ec-843e-eddf686bd32d",
   "metadata": {},
   "source": [
    "- no transmission"
   ]
  },
  {
   "cell_type": "code",
   "execution_count": 24,
   "id": "d6fd6d9a-f674-4b9e-ba3b-f0142f0a7742",
   "metadata": {},
   "outputs": [
    {
     "data": {
      "text/plain": [
       "\n",
       "\tGranger causality H0: usc do not Granger-cause gbpusd\n",
       "\n",
       "data:  VAR object var_bekk2\n",
       "F-Test = 1.2154, df1 = 1, df2 = 1748, p-value = 0.2704\n"
      ]
     },
     "metadata": {},
     "output_type": "display_data"
    },
    {
     "data": {
      "text/plain": [
       "\n",
       "\tGranger causality H0: gbpusd do not Granger-cause usc\n",
       "\n",
       "data:  VAR object var_bekk2\n",
       "F-Test = 1.8347, df1 = 1, df2 = 1748, p-value = 0.1758\n"
      ]
     },
     "metadata": {},
     "output_type": "display_data"
    }
   ],
   "source": [
    "causality(var_bekk2,cause = \"usc\")$Granger\n",
    "causality(var_bekk2,cause = \"gbpusd\")$Granger"
   ]
  },
  {
   "cell_type": "markdown",
   "id": "910591f5-240f-444b-813d-54161cd85881",
   "metadata": {},
   "source": [
    "## (c) VAR-BEKK: US Cocoa-CHFUSD"
   ]
  },
  {
   "cell_type": "code",
   "execution_count": 25,
   "id": "58b51274-d3be-420a-bd8a-aed84aa3470b",
   "metadata": {},
   "outputs": [
    {
     "data": {
      "text/plain": [
       "                   usc       chfusd\n",
       "2007-07-13 -0.02286903  0.012707420\n",
       "2007-07-20  0.02522142  0.001682187\n",
       "2007-07-27 -0.07969033 -0.006685362\n",
       "2007-08-03 -0.01849051  0.014875514\n",
       "2007-08-10 -0.03965627 -0.006690586\n",
       "2007-08-17 -0.04129406 -0.007943236"
      ]
     },
     "metadata": {},
     "output_type": "display_data"
    }
   ],
   "source": [
    "bekk3data <- us_w[,c(1,4)]\n",
    "head(bekk3data)"
   ]
  },
  {
   "cell_type": "code",
   "execution_count": 26,
   "id": "424290f0-3892-44c7-aae1-0d83817bc1aa",
   "metadata": {},
   "outputs": [
    {
     "data": {
      "text/html": [
       "<dl>\n",
       "\t<dt>$selection</dt>\n",
       "\t\t<dd><style>\n",
       ".dl-inline {width: auto; margin:0; padding: 0}\n",
       ".dl-inline>dt, .dl-inline>dd {float: none; width: auto; display: inline-block}\n",
       ".dl-inline>dt::after {content: \":\\0020\"; padding-right: .5ex}\n",
       ".dl-inline>dt:not(:first-of-type) {padding-left: .5ex}\n",
       "</style><dl class=dl-inline><dt>AIC(n)</dt><dd>1</dd><dt>HQ(n)</dt><dd>1</dd><dt>SC(n)</dt><dd>1</dd><dt>FPE(n)</dt><dd>1</dd></dl>\n",
       "</dd>\n",
       "\t<dt>$criteria</dt>\n",
       "\t\t<dd><table class=\"dataframe\">\n",
       "<caption>A matrix: 4 × 10 of type dbl</caption>\n",
       "<thead>\n",
       "\t<tr><th></th><th scope=col>1</th><th scope=col>2</th><th scope=col>3</th><th scope=col>4</th><th scope=col>5</th><th scope=col>6</th><th scope=col>7</th><th scope=col>8</th><th scope=col>9</th><th scope=col>10</th></tr>\n",
       "</thead>\n",
       "<tbody>\n",
       "\t<tr><th scope=row>AIC(n)</th><td>-1.492517e+01</td><td>-1.491755e+01</td><td>-1.491405e+01</td><td>-1.491055e+01</td><td>-1.491077e+01</td><td>-1.491396e+01</td><td>-1.490812e+01</td><td>-1.490493e+01</td><td>-1.490834e+01</td><td>-1.489981e+01</td></tr>\n",
       "\t<tr><th scope=row>HQ(n)</th><td>-1.491256e+01</td><td>-1.489653e+01</td><td>-1.488464e+01</td><td>-1.487273e+01</td><td>-1.486455e+01</td><td>-1.485933e+01</td><td>-1.484508e+01</td><td>-1.483349e+01</td><td>-1.482849e+01</td><td>-1.481156e+01</td></tr>\n",
       "\t<tr><th scope=row>SC(n)</th><td>-1.489222e+01</td><td>-1.486264e+01</td><td>-1.483718e+01</td><td>-1.481171e+01</td><td>-1.478997e+01</td><td>-1.477119e+01</td><td>-1.474339e+01</td><td>-1.471824e+01</td><td>-1.469968e+01</td><td>-1.466919e+01</td></tr>\n",
       "\t<tr><th scope=row>FPE(n)</th><td> 3.296727e-07</td><td> 3.321945e-07</td><td> 3.333568e-07</td><td> 3.345259e-07</td><td> 3.344522e-07</td><td> 3.333898e-07</td><td> 3.353421e-07</td><td> 3.364144e-07</td><td> 3.352723e-07</td><td> 3.381434e-07</td></tr>\n",
       "</tbody>\n",
       "</table>\n",
       "</dd>\n",
       "</dl>\n"
      ],
      "text/latex": [
       "\\begin{description}\n",
       "\\item[\\$selection] \\begin{description*}\n",
       "\\item[AIC(n)] 1\n",
       "\\item[HQ(n)] 1\n",
       "\\item[SC(n)] 1\n",
       "\\item[FPE(n)] 1\n",
       "\\end{description*}\n",
       "\n",
       "\\item[\\$criteria] A matrix: 4 × 10 of type dbl\n",
       "\\begin{tabular}{r|llllllllll}\n",
       "  & 1 & 2 & 3 & 4 & 5 & 6 & 7 & 8 & 9 & 10\\\\\n",
       "\\hline\n",
       "\tAIC(n) & -1.492517e+01 & -1.491755e+01 & -1.491405e+01 & -1.491055e+01 & -1.491077e+01 & -1.491396e+01 & -1.490812e+01 & -1.490493e+01 & -1.490834e+01 & -1.489981e+01\\\\\n",
       "\tHQ(n) & -1.491256e+01 & -1.489653e+01 & -1.488464e+01 & -1.487273e+01 & -1.486455e+01 & -1.485933e+01 & -1.484508e+01 & -1.483349e+01 & -1.482849e+01 & -1.481156e+01\\\\\n",
       "\tSC(n) & -1.489222e+01 & -1.486264e+01 & -1.483718e+01 & -1.481171e+01 & -1.478997e+01 & -1.477119e+01 & -1.474339e+01 & -1.471824e+01 & -1.469968e+01 & -1.466919e+01\\\\\n",
       "\tFPE(n) &  3.296727e-07 &  3.321945e-07 &  3.333568e-07 &  3.345259e-07 &  3.344522e-07 &  3.333898e-07 &  3.353421e-07 &  3.364144e-07 &  3.352723e-07 &  3.381434e-07\\\\\n",
       "\\end{tabular}\n",
       "\n",
       "\\end{description}\n"
      ],
      "text/markdown": [
       "$selection\n",
       ":   AIC(n)\n",
       ":   1HQ(n)\n",
       ":   1SC(n)\n",
       ":   1FPE(n)\n",
       ":   1\n",
       "\n",
       "\n",
       "$criteria\n",
       ":   \n",
       "A matrix: 4 × 10 of type dbl\n",
       "\n",
       "| <!--/--> | 1 | 2 | 3 | 4 | 5 | 6 | 7 | 8 | 9 | 10 |\n",
       "|---|---|---|---|---|---|---|---|---|---|---|\n",
       "| AIC(n) | -1.492517e+01 | -1.491755e+01 | -1.491405e+01 | -1.491055e+01 | -1.491077e+01 | -1.491396e+01 | -1.490812e+01 | -1.490493e+01 | -1.490834e+01 | -1.489981e+01 |\n",
       "| HQ(n) | -1.491256e+01 | -1.489653e+01 | -1.488464e+01 | -1.487273e+01 | -1.486455e+01 | -1.485933e+01 | -1.484508e+01 | -1.483349e+01 | -1.482849e+01 | -1.481156e+01 |\n",
       "| SC(n) | -1.489222e+01 | -1.486264e+01 | -1.483718e+01 | -1.481171e+01 | -1.478997e+01 | -1.477119e+01 | -1.474339e+01 | -1.471824e+01 | -1.469968e+01 | -1.466919e+01 |\n",
       "| FPE(n) |  3.296727e-07 |  3.321945e-07 |  3.333568e-07 |  3.345259e-07 |  3.344522e-07 |  3.333898e-07 |  3.353421e-07 |  3.364144e-07 |  3.352723e-07 |  3.381434e-07 |\n",
       "\n",
       "\n",
       "\n",
       "\n"
      ],
      "text/plain": [
       "$selection\n",
       "AIC(n)  HQ(n)  SC(n) FPE(n) \n",
       "     1      1      1      1 \n",
       "\n",
       "$criteria\n",
       "                   1             2             3             4             5\n",
       "AIC(n) -1.492517e+01 -1.491755e+01 -1.491405e+01 -1.491055e+01 -1.491077e+01\n",
       "HQ(n)  -1.491256e+01 -1.489653e+01 -1.488464e+01 -1.487273e+01 -1.486455e+01\n",
       "SC(n)  -1.489222e+01 -1.486264e+01 -1.483718e+01 -1.481171e+01 -1.478997e+01\n",
       "FPE(n)  3.296727e-07  3.321945e-07  3.333568e-07  3.345259e-07  3.344522e-07\n",
       "                   6             7             8             9            10\n",
       "AIC(n) -1.491396e+01 -1.490812e+01 -1.490493e+01 -1.490834e+01 -1.489981e+01\n",
       "HQ(n)  -1.485933e+01 -1.484508e+01 -1.483349e+01 -1.482849e+01 -1.481156e+01\n",
       "SC(n)  -1.477119e+01 -1.474339e+01 -1.471824e+01 -1.469968e+01 -1.466919e+01\n",
       "FPE(n)  3.333898e-07  3.353421e-07  3.364144e-07  3.352723e-07  3.381434e-07\n"
      ]
     },
     "metadata": {},
     "output_type": "display_data"
    },
    {
     "data": {
      "text/plain": [
       "\n",
       "VAR Estimation Results:\n",
       "========================= \n",
       "Endogenous variables: usc, chfusd \n",
       "Deterministic variables: const \n",
       "Sample size: 877 \n",
       "Log Likelihood: 4065.808 \n",
       "Roots of the characteristic polynomial:\n",
       "0.06394 0.06097\n",
       "Call:\n",
       "VAR(y = bekk3data, p = 1, type = \"const\")\n",
       "\n",
       "\n",
       "Estimation results for equation usc: \n",
       "==================================== \n",
       "usc = usc.l1 + chfusd.l1 + const \n",
       "\n",
       "           Estimate Std. Error t value Pr(>|t|)  \n",
       "usc.l1     0.056521   0.035342   1.599   0.1101  \n",
       "chfusd.l1 -0.186344   0.091745  -2.031   0.0425 *\n",
       "const      0.001517   0.001329   1.141   0.2540  \n",
       "---\n",
       "Signif. codes:  0 ‘***’ 0.001 ‘**’ 0.01 ‘*’ 0.05 ‘.’ 0.1 ‘ ’ 1\n",
       "\n",
       "\n",
       "Residual standard error: 0.0393 on 874 degrees of freedom\n",
       "Multiple R-Squared: 0.006365,\tAdjusted R-squared: 0.004092 \n",
       "F-statistic: 2.799 on 2 and 874 DF,  p-value: 0.06139 \n",
       "\n",
       "\n",
       "Estimation results for equation chfusd: \n",
       "======================================= \n",
       "chfusd = usc.l1 + chfusd.l1 + const \n",
       "\n",
       "            Estimate Std. Error t value Pr(>|t|)  \n",
       "usc.l1    -0.0028787  0.0132772  -0.217   0.8284  \n",
       "chfusd.l1 -0.0594854  0.0344664  -1.726   0.0847 .\n",
       "const      0.0003481  0.0004992   0.697   0.4857  \n",
       "---\n",
       "Signif. codes:  0 ‘***’ 0.001 ‘**’ 0.01 ‘*’ 0.05 ‘.’ 0.1 ‘ ’ 1\n",
       "\n",
       "\n",
       "Residual standard error: 0.01476 on 874 degrees of freedom\n",
       "Multiple R-Squared: 0.003775,\tAdjusted R-squared: 0.001496 \n",
       "F-statistic: 1.656 on 2 and 874 DF,  p-value: 0.1915 \n",
       "\n",
       "\n",
       "\n",
       "Covariance matrix of residuals:\n",
       "             usc    chfusd\n",
       "usc    0.0015446 0.0001105\n",
       "chfusd 0.0001105 0.0002180\n",
       "\n",
       "Correlation matrix of residuals:\n",
       "          usc chfusd\n",
       "usc    1.0000 0.1905\n",
       "chfusd 0.1905 1.0000\n",
       "\n"
      ]
     },
     "metadata": {},
     "output_type": "display_data"
    }
   ],
   "source": [
    "VARselect(bekk3data,type = \"const\")\n",
    "var_bekk3<-VAR(bekk3data,p = 1,type = \"const\")\n",
    "res_bekk3 <- residuals(var_bekk3)\n",
    "res_bekk3 <- as.data.frame(res_bekk3)\n",
    "summary(var_bekk3)"
   ]
  },
  {
   "cell_type": "code",
   "execution_count": 27,
   "id": "0a2737d0-e91b-4bca-bace-2ab81272e681",
   "metadata": {},
   "outputs": [
    {
     "name": "stdout",
     "output_type": "stream",
     "text": [
      " Date[1:877], format: \"2007-07-20\" \"2007-07-27\" \"2007-08-03\" \"2007-08-10\" \"2007-08-17\" ...\n"
     ]
    },
    {
     "data": {
      "text/html": [
       "<table class=\"dataframe\">\n",
       "<caption>A matrix: 2 × 2 of type dbl</caption>\n",
       "<tbody>\n",
       "\t<tr><td>0.2691389</td><td>-0.02662968</td></tr>\n",
       "\t<tr><td>0.1831795</td><td> 0.43666331</td></tr>\n",
       "</tbody>\n",
       "</table>\n"
      ],
      "text/latex": [
       "A matrix: 2 × 2 of type dbl\n",
       "\\begin{tabular}{ll}\n",
       "\t 0.2691389 & -0.02662968\\\\\n",
       "\t 0.1831795 &  0.43666331\\\\\n",
       "\\end{tabular}\n"
      ],
      "text/markdown": [
       "\n",
       "A matrix: 2 × 2 of type dbl\n",
       "\n",
       "| 0.2691389 | -0.02662968 |\n",
       "| 0.1831795 |  0.43666331 |\n",
       "\n"
      ],
      "text/plain": [
       "     [,1]      [,2]       \n",
       "[1,] 0.2691389 -0.02662968\n",
       "[2,] 0.1831795  0.43666331"
      ]
     },
     "metadata": {},
     "output_type": "display_data"
    },
    {
     "data": {
      "text/html": [
       "<table class=\"dataframe\">\n",
       "<caption>A matrix: 2 × 2 of type dbl</caption>\n",
       "<tbody>\n",
       "\t<tr><td>10.621786</td><td>-1.986508</td></tr>\n",
       "\t<tr><td> 2.134578</td><td>17.068002</td></tr>\n",
       "</tbody>\n",
       "</table>\n"
      ],
      "text/latex": [
       "A matrix: 2 × 2 of type dbl\n",
       "\\begin{tabular}{ll}\n",
       "\t 10.621786 & -1.986508\\\\\n",
       "\t  2.134578 & 17.068002\\\\\n",
       "\\end{tabular}\n"
      ],
      "text/markdown": [
       "\n",
       "A matrix: 2 × 2 of type dbl\n",
       "\n",
       "| 10.621786 | -1.986508 |\n",
       "|  2.134578 | 17.068002 |\n",
       "\n"
      ],
      "text/plain": [
       "     [,1]      [,2]     \n",
       "[1,] 10.621786 -1.986508\n",
       "[2,]  2.134578 17.068002"
      ]
     },
     "metadata": {},
     "output_type": "display_data"
    },
    {
     "data": {
      "text/html": [
       "<table class=\"dataframe\">\n",
       "<caption>A matrix: 2 × 2 of type dbl</caption>\n",
       "<tbody>\n",
       "\t<tr><td> 0.95230986</td><td>0.01466669</td></tr>\n",
       "\t<tr><td>-0.04728132</td><td>0.86075012</td></tr>\n",
       "</tbody>\n",
       "</table>\n"
      ],
      "text/latex": [
       "A matrix: 2 × 2 of type dbl\n",
       "\\begin{tabular}{ll}\n",
       "\t  0.95230986 & 0.01466669\\\\\n",
       "\t -0.04728132 & 0.86075012\\\\\n",
       "\\end{tabular}\n"
      ],
      "text/markdown": [
       "\n",
       "A matrix: 2 × 2 of type dbl\n",
       "\n",
       "|  0.95230986 | 0.01466669 |\n",
       "| -0.04728132 | 0.86075012 |\n",
       "\n"
      ],
      "text/plain": [
       "     [,1]        [,2]      \n",
       "[1,]  0.95230986 0.01466669\n",
       "[2,] -0.04728132 0.86075012"
      ]
     },
     "metadata": {},
     "output_type": "display_data"
    },
    {
     "data": {
      "text/html": [
       "<table class=\"dataframe\">\n",
       "<caption>A matrix: 2 × 2 of type dbl</caption>\n",
       "<tbody>\n",
       "\t<tr><td>72.9033751</td><td> 1.93139</td></tr>\n",
       "\t<tr><td>-0.8555522</td><td>38.16946</td></tr>\n",
       "</tbody>\n",
       "</table>\n"
      ],
      "text/latex": [
       "A matrix: 2 × 2 of type dbl\n",
       "\\begin{tabular}{ll}\n",
       "\t 72.9033751 &  1.93139\\\\\n",
       "\t -0.8555522 & 38.16946\\\\\n",
       "\\end{tabular}\n"
      ],
      "text/markdown": [
       "\n",
       "A matrix: 2 × 2 of type dbl\n",
       "\n",
       "| 72.9033751 |  1.93139 |\n",
       "| -0.8555522 | 38.16946 |\n",
       "\n"
      ],
      "text/plain": [
       "     [,1]       [,2]    \n",
       "[1,] 72.9033751  1.93139\n",
       "[2,] -0.8555522 38.16946"
      ]
     },
     "metadata": {},
     "output_type": "display_data"
    }
   ],
   "source": [
    "ind_var3 <- index(bekk3data)[-1]\n",
    "str(ind_var3)\n",
    "res_bekk3 <- xts(res_bekk3,order.by = ind_var3)\n",
    "bekk_spec <- bekk_spec(model = list(type = \"bekk\",asymmetric = F))\n",
    "bekk3_fit <- bekk_fit(spec = bekk_spec,data = res_bekk3)\n",
    "bekk3_fit$A\n",
    "bekk3_fit$A_t\n",
    "bekk3_fit$G\n",
    "bekk3_fit$G_t"
   ]
  },
  {
   "cell_type": "markdown",
   "id": "bfe315ec-f8e6-466b-976c-c0d040ae9aab",
   "metadata": {},
   "source": [
    "### VAR-BEKK Model Table for US Cocoa - CHFUSD"
   ]
  },
  {
   "cell_type": "code",
   "execution_count": 28,
   "id": "421aeefc-118f-4fa8-85ef-b6df83339abc",
   "metadata": {},
   "outputs": [
    {
     "data": {
      "text/html": [
       "<table class=\"dataframe\">\n",
       "<caption>A data.frame: 14 × 5</caption>\n",
       "<thead>\n",
       "\t<tr><th scope=col>Parameters</th><th scope=col>Coefficient</th><th scope=col>Std_error</th><th scope=col>T_value</th><th scope=col>Significant_at_5p_level</th></tr>\n",
       "\t<tr><th scope=col>&lt;chr&gt;</th><th scope=col>&lt;dbl&gt;</th><th scope=col>&lt;dbl&gt;</th><th scope=col>&lt;dbl&gt;</th><th scope=col>&lt;chr&gt;</th></tr>\n",
       "</thead>\n",
       "<tbody>\n",
       "\t<tr><td>mu10 </td><td> 0.0015165844</td><td>0.0013287452</td><td> 1.1413659</td><td>Not Statistically Significant</td></tr>\n",
       "\t<tr><td>mu20 </td><td> 0.0003481443</td><td>0.0004991762</td><td> 0.6974377</td><td>Not Statistically Significant</td></tr>\n",
       "\t<tr><td>phi11</td><td> 0.0565214826</td><td>0.0353422700</td><td> 1.5992601</td><td>Not Statistically Significant</td></tr>\n",
       "\t<tr><td>phi12</td><td>-0.1863436435</td><td>0.0917451659</td><td>-2.0311004</td><td>Stat significant at 5%       </td></tr>\n",
       "\t<tr><td>phi21</td><td>-0.0028787372</td><td>0.0132772030</td><td>-0.2168180</td><td>Not Statistically Significant</td></tr>\n",
       "\t<tr><td>phi22</td><td>-0.0594853925</td><td>0.0344663540</td><td>-1.7258975</td><td>Stat significant at 10%      </td></tr>\n",
       "\t<tr><td>a11  </td><td> 0.2691388891</td><td>0.0253383840</td><td>10.6217859</td><td>Stat significant at 1%       </td></tr>\n",
       "\t<tr><td>a12  </td><td>-0.0266296779</td><td>0.0134052738</td><td>-1.9865076</td><td>Stat significant at 5%       </td></tr>\n",
       "\t<tr><td>a21  </td><td> 0.1831795056</td><td>0.0858153227</td><td> 2.1345781</td><td>Stat significant at 5%       </td></tr>\n",
       "\t<tr><td>a22  </td><td> 0.4366633069</td><td>0.0255837395</td><td>17.0680016</td><td>Stat significant at 1%       </td></tr>\n",
       "\t<tr><td>g11  </td><td> 0.9523098600</td><td>0.0130626306</td><td>72.9033751</td><td>Stat significant at 1%       </td></tr>\n",
       "\t<tr><td>g12  </td><td> 0.0146666880</td><td>0.0075938526</td><td> 1.9313896</td><td>Stat significant at 10%      </td></tr>\n",
       "\t<tr><td>g21  </td><td>-0.0472813224</td><td>0.0552641023</td><td>-0.8555522</td><td>Not Statistically Significant</td></tr>\n",
       "\t<tr><td>g22  </td><td> 0.8607501197</td><td>0.0225507515</td><td>38.1694650</td><td>Stat significant at 1%       </td></tr>\n",
       "</tbody>\n",
       "</table>\n"
      ],
      "text/latex": [
       "A data.frame: 14 × 5\n",
       "\\begin{tabular}{lllll}\n",
       " Parameters & Coefficient & Std\\_error & T\\_value & Significant\\_at\\_5p\\_level\\\\\n",
       " <chr> & <dbl> & <dbl> & <dbl> & <chr>\\\\\n",
       "\\hline\n",
       "\t mu10  &  0.0015165844 & 0.0013287452 &  1.1413659 & Not Statistically Significant\\\\\n",
       "\t mu20  &  0.0003481443 & 0.0004991762 &  0.6974377 & Not Statistically Significant\\\\\n",
       "\t phi11 &  0.0565214826 & 0.0353422700 &  1.5992601 & Not Statistically Significant\\\\\n",
       "\t phi12 & -0.1863436435 & 0.0917451659 & -2.0311004 & Stat significant at 5\\%       \\\\\n",
       "\t phi21 & -0.0028787372 & 0.0132772030 & -0.2168180 & Not Statistically Significant\\\\\n",
       "\t phi22 & -0.0594853925 & 0.0344663540 & -1.7258975 & Stat significant at 10\\%      \\\\\n",
       "\t a11   &  0.2691388891 & 0.0253383840 & 10.6217859 & Stat significant at 1\\%       \\\\\n",
       "\t a12   & -0.0266296779 & 0.0134052738 & -1.9865076 & Stat significant at 5\\%       \\\\\n",
       "\t a21   &  0.1831795056 & 0.0858153227 &  2.1345781 & Stat significant at 5\\%       \\\\\n",
       "\t a22   &  0.4366633069 & 0.0255837395 & 17.0680016 & Stat significant at 1\\%       \\\\\n",
       "\t g11   &  0.9523098600 & 0.0130626306 & 72.9033751 & Stat significant at 1\\%       \\\\\n",
       "\t g12   &  0.0146666880 & 0.0075938526 &  1.9313896 & Stat significant at 10\\%      \\\\\n",
       "\t g21   & -0.0472813224 & 0.0552641023 & -0.8555522 & Not Statistically Significant\\\\\n",
       "\t g22   &  0.8607501197 & 0.0225507515 & 38.1694650 & Stat significant at 1\\%       \\\\\n",
       "\\end{tabular}\n"
      ],
      "text/markdown": [
       "\n",
       "A data.frame: 14 × 5\n",
       "\n",
       "| Parameters &lt;chr&gt; | Coefficient &lt;dbl&gt; | Std_error &lt;dbl&gt; | T_value &lt;dbl&gt; | Significant_at_5p_level &lt;chr&gt; |\n",
       "|---|---|---|---|---|\n",
       "| mu10  |  0.0015165844 | 0.0013287452 |  1.1413659 | Not Statistically Significant |\n",
       "| mu20  |  0.0003481443 | 0.0004991762 |  0.6974377 | Not Statistically Significant |\n",
       "| phi11 |  0.0565214826 | 0.0353422700 |  1.5992601 | Not Statistically Significant |\n",
       "| phi12 | -0.1863436435 | 0.0917451659 | -2.0311004 | Stat significant at 5%        |\n",
       "| phi21 | -0.0028787372 | 0.0132772030 | -0.2168180 | Not Statistically Significant |\n",
       "| phi22 | -0.0594853925 | 0.0344663540 | -1.7258975 | Stat significant at 10%       |\n",
       "| a11   |  0.2691388891 | 0.0253383840 | 10.6217859 | Stat significant at 1%        |\n",
       "| a12   | -0.0266296779 | 0.0134052738 | -1.9865076 | Stat significant at 5%        |\n",
       "| a21   |  0.1831795056 | 0.0858153227 |  2.1345781 | Stat significant at 5%        |\n",
       "| a22   |  0.4366633069 | 0.0255837395 | 17.0680016 | Stat significant at 1%        |\n",
       "| g11   |  0.9523098600 | 0.0130626306 | 72.9033751 | Stat significant at 1%        |\n",
       "| g12   |  0.0146666880 | 0.0075938526 |  1.9313896 | Stat significant at 10%       |\n",
       "| g21   | -0.0472813224 | 0.0552641023 | -0.8555522 | Not Statistically Significant |\n",
       "| g22   |  0.8607501197 | 0.0225507515 | 38.1694650 | Stat significant at 1%        |\n",
       "\n"
      ],
      "text/plain": [
       "   Parameters Coefficient   Std_error    T_value   \n",
       "1  mu10        0.0015165844 0.0013287452  1.1413659\n",
       "2  mu20        0.0003481443 0.0004991762  0.6974377\n",
       "3  phi11       0.0565214826 0.0353422700  1.5992601\n",
       "4  phi12      -0.1863436435 0.0917451659 -2.0311004\n",
       "5  phi21      -0.0028787372 0.0132772030 -0.2168180\n",
       "6  phi22      -0.0594853925 0.0344663540 -1.7258975\n",
       "7  a11         0.2691388891 0.0253383840 10.6217859\n",
       "8  a12        -0.0266296779 0.0134052738 -1.9865076\n",
       "9  a21         0.1831795056 0.0858153227  2.1345781\n",
       "10 a22         0.4366633069 0.0255837395 17.0680016\n",
       "11 g11         0.9523098600 0.0130626306 72.9033751\n",
       "12 g12         0.0146666880 0.0075938526  1.9313896\n",
       "13 g21        -0.0472813224 0.0552641023 -0.8555522\n",
       "14 g22         0.8607501197 0.0225507515 38.1694650\n",
       "   Significant_at_5p_level      \n",
       "1  Not Statistically Significant\n",
       "2  Not Statistically Significant\n",
       "3  Not Statistically Significant\n",
       "4  Stat significant at 5%       \n",
       "5  Not Statistically Significant\n",
       "6  Stat significant at 10%      \n",
       "7  Stat significant at 1%       \n",
       "8  Stat significant at 5%       \n",
       "9  Stat significant at 5%       \n",
       "10 Stat significant at 1%       \n",
       "11 Stat significant at 1%       \n",
       "12 Stat significant at 10%      \n",
       "13 Not Statistically Significant\n",
       "14 Stat significant at 1%       "
      ]
     },
     "metadata": {},
     "output_type": "display_data"
    }
   ],
   "source": [
    "bekk3 <- data.frame(Parameters = c(\"mu10\",\"mu20\",\"phi11\",\"phi12\",\"phi21\",\"phi22\",\"a11\",\"a12\",\"a21\",\"a22\",\"g11\",\"g12\",\"g21\",\"g22\"),\n",
    "                   Coefficient = c(summary(var_bekk3)$varresult$usc$coefficients[\"const\",\"Estimate\"],summary(var_bekk3)$varresult$chfusd$coefficients[\"const\",\"Estimate\"],\n",
    "                       summary(var_bekk3)$varresult$usc$coefficients[\"usc.l1\",\"Estimate\"],summary(var_bekk3)$varresult$usc$coefficients[\"chfusd.l1\",\"Estimate\"],\n",
    "                                   summary(var_bekk3)$varresult$chfusd$coefficients[\"usc.l1\",\"Estimate\"],summary(var_bekk3)$varresult$chfusd$coefficients[\"chfusd.l1\",\"Estimate\"],\n",
    "                                   bekk3_fit$A[1,1],bekk3_fit$A[1,2],bekk3_fit$A[2,1],bekk3_fit$A[2,2],bekk3_fit$G[1,1],bekk3_fit$G[1,2],bekk3_fit$G[2,1],bekk3_fit$G[2,2]),\n",
    "                   Std_error = c(summary(var_bekk3)$varresult$usc$coefficients[\"const\",\"Std. Error\"],summary(var_bekk3)$varresult$chfusd$coefficients[\"const\",\"Std. Error\"],\n",
    "                       summary(var_bekk3)$varresult$usc$coefficients[\"usc.l1\",\"Std. Error\"],summary(var_bekk3)$varresult$usc$coefficients[\"chfusd.l1\",\"Std. Error\"],\n",
    "                                 summary(var_bekk3)$varresult$chfusd$coefficients[\"usc.l1\",\"Std. Error\"],summary(var_bekk3)$varresult$chfusd$coefficients[\"chfusd.l1\",\"Std. Error\"],\n",
    "                                 bekk3_fit$A_sd[1,1],bekk3_fit$A_sd[1,2],bekk3_fit$A_sd[2,1],bekk3_fit$A_sd[2,2],bekk3_fit$G_sd[1,1],bekk3_fit$G_sd[1,2],bekk3_fit$G_sd[2,1],bekk3_fit$G_sd[2,2]),\n",
    "                   T_value = c(summary(var_bekk3)$varresult$usc$coefficients[\"const\",\"t value\"],summary(var_bekk3)$varresult$chfusd$coefficients[\"const\",\"t value\"],\n",
    "                       summary(var_bekk3)$varresult$usc$coefficients[\"usc.l1\",\"t value\"],summary(var_bekk3)$varresult$usc$coefficients[\"chfusd.l1\",\"t value\"],\n",
    "                               summary(var_bekk3)$varresult$chfusd$coefficients[\"usc.l1\",\"t value\"],summary(var_bekk3)$varresult$chfusd$coefficients[\"chfusd.l1\",\"t value\"],\n",
    "                               bekk3_fit$A_t[1,1],bekk3_fit$A_t[1,2],bekk3_fit$A_t[2,1],bekk3_fit$A_t[2,2],bekk3_fit$G_t[1,1],bekk3_fit$G_t[1,2],bekk3_fit$G_t[2,1],bekk3_fit$G_t[2,2]))\n",
    "\n",
    "bekk3$Significant_at_5p_level[abs(bekk3$T_value) >= 2.58 ] <- \"Stat significant at 1%\"\n",
    "bekk3$Significant_at_5p_level[abs(bekk3$T_value) > 1.96 & abs(bekk3$T_value) < 2.58] <- \"Stat significant at 5%\"\n",
    "bekk3$Significant_at_5p_level[abs(bekk3$T_value) > 1.645 & abs(bekk3$T_value) <= 1.96 ] <- \"Stat significant at 10%\"\n",
    "bekk3$Significant_at_5p_level[abs(bekk3$T_value) <= 1.645] <- \"Not Statistically Significant\"\n",
    "bekk3"
   ]
  },
  {
   "cell_type": "markdown",
   "id": "c158e53e-75f8-47eb-8061-32467ed5a4f9",
   "metadata": {},
   "source": [
    "- mean transmission from CHF to US Cocoa\n",
    "- shock spillovers work in both ways"
   ]
  },
  {
   "cell_type": "code",
   "execution_count": 29,
   "id": "5cf51be6-2398-4940-80e5-fe4febea4352",
   "metadata": {},
   "outputs": [
    {
     "data": {
      "text/plain": [
       "\n",
       "\tGranger causality H0: usc do not Granger-cause chfusd\n",
       "\n",
       "data:  VAR object var_bekk3\n",
       "F-Test = 0.04701, df1 = 1, df2 = 1748, p-value = 0.8284\n"
      ]
     },
     "metadata": {},
     "output_type": "display_data"
    },
    {
     "data": {
      "text/plain": [
       "\n",
       "\tGranger causality H0: chfusd do not Granger-cause usc\n",
       "\n",
       "data:  VAR object var_bekk3\n",
       "F-Test = 4.1254, df1 = 1, df2 = 1748, p-value = 0.0424\n"
      ]
     },
     "metadata": {},
     "output_type": "display_data"
    }
   ],
   "source": [
    "causality(var_bekk3,cause = \"usc\")$Granger\n",
    "causality(var_bekk3,cause = \"chfusd\")$Granger"
   ]
  },
  {
   "cell_type": "markdown",
   "id": "a41e9087-5ece-456b-8625-353fa8c447c4",
   "metadata": {},
   "source": [
    "## (d) VAR-BEKK model for US Cocoa - GHSUSD"
   ]
  },
  {
   "cell_type": "code",
   "execution_count": 30,
   "id": "d8d558ea-73fa-43ae-9470-d64b557ede96",
   "metadata": {},
   "outputs": [
    {
     "data": {
      "text/plain": [
       "                 eurusd       gbpusd       chfusd       usdgbp        eurgbp\n",
       "2007-07-13  0.011345725  0.011768041  0.012707420 -0.012031893 -0.0009595159\n",
       "2007-07-20  0.003150978  0.010561671  0.001682187 -0.010223993 -0.0067425143\n",
       "2007-07-27 -0.014056529 -0.015439970 -0.006685362  0.015297055  0.0008917293\n",
       "2007-08-03  0.010216084  0.007480166  0.014875514 -0.007721262  0.0031888492\n",
       "2007-08-10 -0.005898004 -0.007776587 -0.006690586  0.007822461  0.0022187717\n",
       "2007-08-17 -0.016011531 -0.021627054 -0.007943236  0.021424385  0.0050110643\n",
       "                  chfgbp       ghsusd       ghsgbp\n",
       "2007-07-13  0.0009570421  0.004005436 -0.008009262\n",
       "2007-07-20 -0.0088982748  0.002202455 -0.008376197\n",
       "2007-07-27  0.0087979629 -0.003802426  0.011804209\n",
       "2007-08-03  0.0074008865 -0.002685547 -0.009823491\n",
       "2007-08-10  0.0010801929 -0.004550623  0.002725996\n",
       "2007-08-17  0.0136908894  0.007384225  0.028262443"
      ]
     },
     "metadata": {},
     "output_type": "display_data"
    },
    {
     "data": {
      "text/plain": [
       "                   usc           lc\n",
       "2007-07-13 -0.02286903 -0.034778360\n",
       "2007-07-20  0.02522142  0.003623192\n",
       "2007-07-27 -0.07969033 -0.061529190\n",
       "2007-08-03 -0.01849051 -0.036225204\n",
       "2007-08-10 -0.03965627 -0.027288202\n",
       "2007-08-17 -0.04129406 -0.023847683"
      ]
     },
     "metadata": {},
     "output_type": "display_data"
    }
   ],
   "source": [
    "head(fr_w)\n",
    "head(cr_w)"
   ]
  },
  {
   "cell_type": "code",
   "execution_count": 31,
   "id": "a4bc554a-7093-40ee-90c9-5253dd52a3ba",
   "metadata": {},
   "outputs": [
    {
     "data": {
      "text/plain": [
       "                   usc       ghsusd\n",
       "2007-07-13 -0.02286903  0.004005436\n",
       "2007-07-20  0.02522142  0.002202455\n",
       "2007-07-27 -0.07969033 -0.003802426\n",
       "2007-08-03 -0.01849051 -0.002685547\n",
       "2007-08-10 -0.03965627 -0.004550623\n",
       "2007-08-17 -0.04129406  0.007384225"
      ]
     },
     "metadata": {},
     "output_type": "display_data"
    }
   ],
   "source": [
    "bekk7data <- na.omit(merge(cr_w[,1],fr_w[,7]))\n",
    "head(bekk7data)"
   ]
  },
  {
   "cell_type": "code",
   "execution_count": 32,
   "id": "00571b71-f60e-40e6-9c44-77471ecf3908",
   "metadata": {},
   "outputs": [
    {
     "data": {
      "text/html": [
       "<dl>\n",
       "\t<dt>$selection</dt>\n",
       "\t\t<dd><style>\n",
       ".dl-inline {width: auto; margin:0; padding: 0}\n",
       ".dl-inline>dt, .dl-inline>dd {float: none; width: auto; display: inline-block}\n",
       ".dl-inline>dt::after {content: \":\\0020\"; padding-right: .5ex}\n",
       ".dl-inline>dt:not(:first-of-type) {padding-left: .5ex}\n",
       "</style><dl class=dl-inline><dt>AIC(n)</dt><dd>4</dd><dt>HQ(n)</dt><dd>1</dd><dt>SC(n)</dt><dd>1</dd><dt>FPE(n)</dt><dd>4</dd></dl>\n",
       "</dd>\n",
       "\t<dt>$criteria</dt>\n",
       "\t\t<dd><table class=\"dataframe\">\n",
       "<caption>A matrix: 4 × 4 of type dbl</caption>\n",
       "<thead>\n",
       "\t<tr><th></th><th scope=col>1</th><th scope=col>2</th><th scope=col>3</th><th scope=col>4</th></tr>\n",
       "</thead>\n",
       "<tbody>\n",
       "\t<tr><th scope=row>AIC(n)</th><td>-1.403072e+01</td><td>-1.403096e+01</td><td>-1.402719e+01</td><td>-1.403985e+01</td></tr>\n",
       "\t<tr><th scope=row>HQ(n)</th><td>-1.401819e+01</td><td>-1.401007e+01</td><td>-1.399794e+01</td><td>-1.400225e+01</td></tr>\n",
       "\t<tr><th scope=row>SC(n)</th><td>-1.399796e+01</td><td>-1.397635e+01</td><td>-1.395073e+01</td><td>-1.394155e+01</td></tr>\n",
       "\t<tr><th scope=row>FPE(n)</th><td> 8.063686e-07</td><td> 8.061794e-07</td><td> 8.092252e-07</td><td> 7.990419e-07</td></tr>\n",
       "</tbody>\n",
       "</table>\n",
       "</dd>\n",
       "</dl>\n"
      ],
      "text/latex": [
       "\\begin{description}\n",
       "\\item[\\$selection] \\begin{description*}\n",
       "\\item[AIC(n)] 4\n",
       "\\item[HQ(n)] 1\n",
       "\\item[SC(n)] 1\n",
       "\\item[FPE(n)] 4\n",
       "\\end{description*}\n",
       "\n",
       "\\item[\\$criteria] A matrix: 4 × 4 of type dbl\n",
       "\\begin{tabular}{r|llll}\n",
       "  & 1 & 2 & 3 & 4\\\\\n",
       "\\hline\n",
       "\tAIC(n) & -1.403072e+01 & -1.403096e+01 & -1.402719e+01 & -1.403985e+01\\\\\n",
       "\tHQ(n) & -1.401819e+01 & -1.401007e+01 & -1.399794e+01 & -1.400225e+01\\\\\n",
       "\tSC(n) & -1.399796e+01 & -1.397635e+01 & -1.395073e+01 & -1.394155e+01\\\\\n",
       "\tFPE(n) &  8.063686e-07 &  8.061794e-07 &  8.092252e-07 &  7.990419e-07\\\\\n",
       "\\end{tabular}\n",
       "\n",
       "\\end{description}\n"
      ],
      "text/markdown": [
       "$selection\n",
       ":   AIC(n)\n",
       ":   4HQ(n)\n",
       ":   1SC(n)\n",
       ":   1FPE(n)\n",
       ":   4\n",
       "\n",
       "\n",
       "$criteria\n",
       ":   \n",
       "A matrix: 4 × 4 of type dbl\n",
       "\n",
       "| <!--/--> | 1 | 2 | 3 | 4 |\n",
       "|---|---|---|---|---|\n",
       "| AIC(n) | -1.403072e+01 | -1.403096e+01 | -1.402719e+01 | -1.403985e+01 |\n",
       "| HQ(n) | -1.401819e+01 | -1.401007e+01 | -1.399794e+01 | -1.400225e+01 |\n",
       "| SC(n) | -1.399796e+01 | -1.397635e+01 | -1.395073e+01 | -1.394155e+01 |\n",
       "| FPE(n) |  8.063686e-07 |  8.061794e-07 |  8.092252e-07 |  7.990419e-07 |\n",
       "\n",
       "\n",
       "\n",
       "\n"
      ],
      "text/plain": [
       "$selection\n",
       "AIC(n)  HQ(n)  SC(n) FPE(n) \n",
       "     4      1      1      4 \n",
       "\n",
       "$criteria\n",
       "                   1             2             3             4\n",
       "AIC(n) -1.403072e+01 -1.403096e+01 -1.402719e+01 -1.403985e+01\n",
       "HQ(n)  -1.401819e+01 -1.401007e+01 -1.399794e+01 -1.400225e+01\n",
       "SC(n)  -1.399796e+01 -1.397635e+01 -1.395073e+01 -1.394155e+01\n",
       "FPE(n)  8.063686e-07  8.061794e-07  8.092252e-07  7.990419e-07\n"
      ]
     },
     "metadata": {},
     "output_type": "display_data"
    }
   ],
   "source": [
    "VARselect(bekk7data,type = \"const\",lag.max = 4)"
   ]
  },
  {
   "cell_type": "code",
   "execution_count": 33,
   "id": "372f3259-905f-44dd-ad93-f3f6501ec7d1",
   "metadata": {},
   "outputs": [
    {
     "data": {
      "text/plain": [
       "\n",
       "VAR Estimation Results:\n",
       "========================= \n",
       "Endogenous variables: usc, ghsusd \n",
       "Deterministic variables: const \n",
       "Sample size: 874 \n",
       "Log Likelihood: 3673.112 \n",
       "Roots of the characteristic polynomial:\n",
       "0.6517 0.6517 0.5837 0.5837 0.3623 0.3623 0.3214 0.3214\n",
       "Call:\n",
       "VAR(y = bekk7data, p = 4, type = \"const\")\n",
       "\n",
       "\n",
       "Estimation results for equation usc: \n",
       "==================================== \n",
       "usc = usc.l1 + ghsusd.l1 + usc.l2 + ghsusd.l2 + usc.l3 + ghsusd.l3 + usc.l4 + ghsusd.l4 + const \n",
       "\n",
       "           Estimate Std. Error t value Pr(>|t|)\n",
       "usc.l1     0.044454   0.034887   1.274    0.203\n",
       "ghsusd.l1  0.087055   0.058971   1.476    0.140\n",
       "usc.l2    -0.016276   0.034873  -0.467    0.641\n",
       "ghsusd.l2 -0.045643   0.059094  -0.772    0.440\n",
       "usc.l3    -0.013705   0.034960  -0.392    0.695\n",
       "ghsusd.l3 -0.073783   0.059096  -1.249    0.212\n",
       "usc.l4    -0.012121   0.035092  -0.345    0.730\n",
       "ghsusd.l4  0.022628   0.059088   0.383    0.702\n",
       "const      0.001610   0.001379   1.168    0.243\n",
       "\n",
       "\n",
       "Residual standard error: 0.03938 on 865 degrees of freedom\n",
       "Multiple R-Squared: 0.00697,\tAdjusted R-squared: -0.002214 \n",
       "F-statistic: 0.7589 on 8 and 865 DF,  p-value: 0.6393 \n",
       "\n",
       "\n",
       "Estimation results for equation ghsusd: \n",
       "======================================= \n",
       "ghsusd = usc.l1 + ghsusd.l1 + usc.l2 + ghsusd.l2 + usc.l3 + ghsusd.l3 + usc.l4 + ghsusd.l4 + const \n",
       "\n",
       "            Estimate Std. Error t value Pr(>|t|)    \n",
       "usc.l1     0.0084541  0.0199009   0.425  0.67108    \n",
       "ghsusd.l1  0.0632711  0.0336397   1.881  0.06033 .  \n",
       "usc.l2     0.0049146  0.0198931   0.247  0.80493    \n",
       "ghsusd.l2  0.1086151  0.0337098   3.222  0.00132 ** \n",
       "usc.l3     0.0009096  0.0199428   0.046  0.96363    \n",
       "ghsusd.l3 -0.0476566  0.0337112  -1.414  0.15782    \n",
       "usc.l4    -0.0086908  0.0200179  -0.434  0.66429    \n",
       "ghsusd.l4 -0.1456047  0.0337064  -4.320 1.74e-05 ***\n",
       "const     -0.0031509  0.0007865  -4.006 6.70e-05 ***\n",
       "---\n",
       "Signif. codes:  0 ‘***’ 0.001 ‘**’ 0.01 ‘*’ 0.05 ‘.’ 0.1 ‘ ’ 1\n",
       "\n",
       "\n",
       "Residual standard error: 0.02247 on 865 degrees of freedom\n",
       "Multiple R-Squared: 0.03856,\tAdjusted R-squared: 0.02967 \n",
       "F-statistic: 4.337 on 8 and 865 DF,  p-value: 3.845e-05 \n",
       "\n",
       "\n",
       "\n",
       "Covariance matrix of residuals:\n",
       "              usc     ghsusd\n",
       "usc     1.551e-03 -3.492e-06\n",
       "ghsusd -3.492e-06  5.047e-04\n",
       "\n",
       "Correlation matrix of residuals:\n",
       "             usc    ghsusd\n",
       "usc     1.000000 -0.003946\n",
       "ghsusd -0.003946  1.000000\n",
       "\n"
      ]
     },
     "metadata": {},
     "output_type": "display_data"
    }
   ],
   "source": [
    "var_bekk7<-VAR(bekk7data,p = 4,type = \"const\")\n",
    "summary(var_bekk7)"
   ]
  },
  {
   "cell_type": "code",
   "execution_count": 34,
   "id": "ac360d69-7a51-4110-8b7d-a593119d7522",
   "metadata": {},
   "outputs": [],
   "source": [
    "res_bekk7 <- residuals(var_bekk7)\n",
    "res_bekk7 <- as.data.frame(res_bekk7)"
   ]
  },
  {
   "cell_type": "code",
   "execution_count": 35,
   "id": "6978a826-0eaa-4b51-9280-98e61e4a7a2d",
   "metadata": {},
   "outputs": [],
   "source": [
    "ind_var7 <- index(bekk7data)[-c(1:4)]"
   ]
  },
  {
   "cell_type": "code",
   "execution_count": 36,
   "id": "fe9c502e-d994-4942-9168-8e30cc26e5ed",
   "metadata": {},
   "outputs": [
    {
     "data": {
      "text/html": [
       "<table class=\"dataframe\">\n",
       "<caption>A matrix: 2 × 2 of type dbl</caption>\n",
       "<tbody>\n",
       "\t<tr><td>0.25690732</td><td>-0.02768364</td></tr>\n",
       "\t<tr><td>0.02877185</td><td> 0.68035627</td></tr>\n",
       "</tbody>\n",
       "</table>\n"
      ],
      "text/latex": [
       "A matrix: 2 × 2 of type dbl\n",
       "\\begin{tabular}{ll}\n",
       "\t 0.25690732 & -0.02768364\\\\\n",
       "\t 0.02877185 &  0.68035627\\\\\n",
       "\\end{tabular}\n"
      ],
      "text/markdown": [
       "\n",
       "A matrix: 2 × 2 of type dbl\n",
       "\n",
       "| 0.25690732 | -0.02768364 |\n",
       "| 0.02877185 |  0.68035627 |\n",
       "\n"
      ],
      "text/plain": [
       "     [,1]       [,2]       \n",
       "[1,] 0.25690732 -0.02768364\n",
       "[2,] 0.02877185  0.68035627"
      ]
     },
     "metadata": {},
     "output_type": "display_data"
    },
    {
     "data": {
      "text/html": [
       "<table class=\"dataframe\">\n",
       "<caption>A matrix: 2 × 2 of type dbl</caption>\n",
       "<tbody>\n",
       "\t<tr><td>12.865982</td><td>-2.976606</td></tr>\n",
       "\t<tr><td> 0.525831</td><td>40.481189</td></tr>\n",
       "</tbody>\n",
       "</table>\n"
      ],
      "text/latex": [
       "A matrix: 2 × 2 of type dbl\n",
       "\\begin{tabular}{ll}\n",
       "\t 12.865982 & -2.976606\\\\\n",
       "\t  0.525831 & 40.481189\\\\\n",
       "\\end{tabular}\n"
      ],
      "text/markdown": [
       "\n",
       "A matrix: 2 × 2 of type dbl\n",
       "\n",
       "| 12.865982 | -2.976606 |\n",
       "|  0.525831 | 40.481189 |\n",
       "\n"
      ],
      "text/plain": [
       "     [,1]      [,2]     \n",
       "[1,] 12.865982 -2.976606\n",
       "[2,]  0.525831 40.481189"
      ]
     },
     "metadata": {},
     "output_type": "display_data"
    },
    {
     "data": {
      "text/html": [
       "<table class=\"dataframe\">\n",
       "<caption>A matrix: 2 × 2 of type dbl</caption>\n",
       "<tbody>\n",
       "\t<tr><td> 0.9556232347</td><td>0.00688827</td></tr>\n",
       "\t<tr><td>-0.0001395951</td><td>0.73575589</td></tr>\n",
       "</tbody>\n",
       "</table>\n"
      ],
      "text/latex": [
       "A matrix: 2 × 2 of type dbl\n",
       "\\begin{tabular}{ll}\n",
       "\t  0.9556232347 & 0.00688827\\\\\n",
       "\t -0.0001395951 & 0.73575589\\\\\n",
       "\\end{tabular}\n"
      ],
      "text/markdown": [
       "\n",
       "A matrix: 2 × 2 of type dbl\n",
       "\n",
       "|  0.9556232347 | 0.00688827 |\n",
       "| -0.0001395951 | 0.73575589 |\n",
       "\n"
      ],
      "text/plain": [
       "     [,1]          [,2]      \n",
       "[1,]  0.9556232347 0.00688827\n",
       "[2,] -0.0001395951 0.73575589"
      ]
     },
     "metadata": {},
     "output_type": "display_data"
    },
    {
     "data": {
      "text/html": [
       "<table class=\"dataframe\">\n",
       "<caption>A matrix: 2 × 2 of type dbl</caption>\n",
       "<tbody>\n",
       "\t<tr><td>96.310494649</td><td> 1.018124</td></tr>\n",
       "\t<tr><td>-0.004012118</td><td>50.087061</td></tr>\n",
       "</tbody>\n",
       "</table>\n"
      ],
      "text/latex": [
       "A matrix: 2 × 2 of type dbl\n",
       "\\begin{tabular}{ll}\n",
       "\t 96.310494649 &  1.018124\\\\\n",
       "\t -0.004012118 & 50.087061\\\\\n",
       "\\end{tabular}\n"
      ],
      "text/markdown": [
       "\n",
       "A matrix: 2 × 2 of type dbl\n",
       "\n",
       "| 96.310494649 |  1.018124 |\n",
       "| -0.004012118 | 50.087061 |\n",
       "\n"
      ],
      "text/plain": [
       "     [,1]         [,2]     \n",
       "[1,] 96.310494649  1.018124\n",
       "[2,] -0.004012118 50.087061"
      ]
     },
     "metadata": {},
     "output_type": "display_data"
    }
   ],
   "source": [
    "res_bekk7 <- xts(res_bekk7,order.by = ind_var7)\n",
    "bekk_spec <- bekk_spec(model = list(type = \"bekk\",asymmetric = F))\n",
    "bekk7_fit <- bekk_fit(spec = bekk_spec,data = res_bekk7)\n",
    "bekk7_fit$A\n",
    "bekk7_fit$A_t\n",
    "bekk7_fit$G\n",
    "bekk7_fit$G_t"
   ]
  },
  {
   "cell_type": "markdown",
   "id": "6827ca74-6e8a-4e24-b86a-c9776652897c",
   "metadata": {},
   "source": [
    "### VAR-BEKK Model Table for US Cocoa - GHSUSD"
   ]
  },
  {
   "cell_type": "code",
   "execution_count": 37,
   "id": "c283ca69-67b1-4df2-949a-18c12e059a8e",
   "metadata": {},
   "outputs": [
    {
     "data": {
      "text/html": [
       "<table class=\"dataframe\">\n",
       "<caption>A data.frame: 26 × 5</caption>\n",
       "<thead>\n",
       "\t<tr><th scope=col>Parameters</th><th scope=col>Coefficient</th><th scope=col>Std_error</th><th scope=col>T_value</th><th scope=col>Significant_at_5p_level</th></tr>\n",
       "\t<tr><th scope=col>&lt;chr&gt;</th><th scope=col>&lt;dbl&gt;</th><th scope=col>&lt;dbl&gt;</th><th scope=col>&lt;dbl&gt;</th><th scope=col>&lt;chr&gt;</th></tr>\n",
       "</thead>\n",
       "<tbody>\n",
       "\t<tr><td>mu10 </td><td> 0.0016102848</td><td>0.001378765</td><td> 1.167917868</td><td>Not Statistically Significant</td></tr>\n",
       "\t<tr><td>mu20 </td><td>-0.0031509437</td><td>0.000786509</td><td>-4.006239789</td><td>Stat significant at 1%       </td></tr>\n",
       "\t<tr><td>phi11</td><td> 0.0444541187</td><td>0.034886740</td><td> 1.274241111</td><td>Not Statistically Significant</td></tr>\n",
       "\t<tr><td>phi12</td><td> 0.0870554164</td><td>0.058971111</td><td> 1.476238358</td><td>Not Statistically Significant</td></tr>\n",
       "\t<tr><td>phi13</td><td>-0.0162759419</td><td>0.034872999</td><td>-0.466720458</td><td>Not Statistically Significant</td></tr>\n",
       "\t<tr><td>phi14</td><td>-0.0456429371</td><td>0.059093960</td><td>-0.772379058</td><td>Not Statistically Significant</td></tr>\n",
       "\t<tr><td>phi15</td><td>-0.0137046237</td><td>0.034960046</td><td>-0.392008174</td><td>Not Statistically Significant</td></tr>\n",
       "\t<tr><td>phi16</td><td>-0.0737833578</td><td>0.059096411</td><td>-1.248525196</td><td>Not Statistically Significant</td></tr>\n",
       "\t<tr><td>phi17</td><td>-0.0121206382</td><td>0.035091702</td><td>-0.345398979</td><td>Not Statistically Significant</td></tr>\n",
       "\t<tr><td>phi18</td><td> 0.0226275773</td><td>0.059088009</td><td> 0.382947028</td><td>Not Statistically Significant</td></tr>\n",
       "\t<tr><td>phi21</td><td> 0.0084540917</td><td>0.019900945</td><td> 0.424808543</td><td>Not Statistically Significant</td></tr>\n",
       "\t<tr><td>phi22</td><td> 0.0632710880</td><td>0.033639740</td><td> 1.880843556</td><td>Stat significant at 10%      </td></tr>\n",
       "\t<tr><td>phi23</td><td> 0.0049145536</td><td>0.019893107</td><td> 0.247048072</td><td>Not Statistically Significant</td></tr>\n",
       "\t<tr><td>phi24</td><td> 0.1086151074</td><td>0.033709818</td><td> 3.222061492</td><td>Stat significant at 1%       </td></tr>\n",
       "\t<tr><td>phi25</td><td> 0.0009096331</td><td>0.019942762</td><td> 0.045612194</td><td>Not Statistically Significant</td></tr>\n",
       "\t<tr><td>phi26</td><td>-0.0476565926</td><td>0.033711216</td><td>-1.413671704</td><td>Not Statistically Significant</td></tr>\n",
       "\t<tr><td>phi27</td><td>-0.0086907621</td><td>0.020017865</td><td>-0.434150301</td><td>Not Statistically Significant</td></tr>\n",
       "\t<tr><td>phi28</td><td>-0.1456046636</td><td>0.033706423</td><td>-4.319789793</td><td>Stat significant at 1%       </td></tr>\n",
       "\t<tr><td>a11  </td><td> 0.2569073215</td><td>0.019967953</td><td>12.865982146</td><td>Stat significant at 1%       </td></tr>\n",
       "\t<tr><td>a12  </td><td>-0.0276836415</td><td>0.009300405</td><td>-2.976606149</td><td>Stat significant at 1%       </td></tr>\n",
       "\t<tr><td>a21  </td><td> 0.0287718464</td><td>0.054716912</td><td> 0.525830959</td><td>Not Statistically Significant</td></tr>\n",
       "\t<tr><td>a22  </td><td> 0.6803562700</td><td>0.016806727</td><td>40.481188579</td><td>Stat significant at 1%       </td></tr>\n",
       "\t<tr><td>g11  </td><td> 0.9556232347</td><td>0.009922317</td><td>96.310494649</td><td>Stat significant at 1%       </td></tr>\n",
       "\t<tr><td>g12  </td><td> 0.0068882699</td><td>0.006765647</td><td> 1.018124318</td><td>Not Statistically Significant</td></tr>\n",
       "\t<tr><td>g21  </td><td>-0.0001395951</td><td>0.034793365</td><td>-0.004012118</td><td>Not Statistically Significant</td></tr>\n",
       "\t<tr><td>g22  </td><td> 0.7357558856</td><td>0.014689540</td><td>50.087060694</td><td>Stat significant at 1%       </td></tr>\n",
       "</tbody>\n",
       "</table>\n"
      ],
      "text/latex": [
       "A data.frame: 26 × 5\n",
       "\\begin{tabular}{lllll}\n",
       " Parameters & Coefficient & Std\\_error & T\\_value & Significant\\_at\\_5p\\_level\\\\\n",
       " <chr> & <dbl> & <dbl> & <dbl> & <chr>\\\\\n",
       "\\hline\n",
       "\t mu10  &  0.0016102848 & 0.001378765 &  1.167917868 & Not Statistically Significant\\\\\n",
       "\t mu20  & -0.0031509437 & 0.000786509 & -4.006239789 & Stat significant at 1\\%       \\\\\n",
       "\t phi11 &  0.0444541187 & 0.034886740 &  1.274241111 & Not Statistically Significant\\\\\n",
       "\t phi12 &  0.0870554164 & 0.058971111 &  1.476238358 & Not Statistically Significant\\\\\n",
       "\t phi13 & -0.0162759419 & 0.034872999 & -0.466720458 & Not Statistically Significant\\\\\n",
       "\t phi14 & -0.0456429371 & 0.059093960 & -0.772379058 & Not Statistically Significant\\\\\n",
       "\t phi15 & -0.0137046237 & 0.034960046 & -0.392008174 & Not Statistically Significant\\\\\n",
       "\t phi16 & -0.0737833578 & 0.059096411 & -1.248525196 & Not Statistically Significant\\\\\n",
       "\t phi17 & -0.0121206382 & 0.035091702 & -0.345398979 & Not Statistically Significant\\\\\n",
       "\t phi18 &  0.0226275773 & 0.059088009 &  0.382947028 & Not Statistically Significant\\\\\n",
       "\t phi21 &  0.0084540917 & 0.019900945 &  0.424808543 & Not Statistically Significant\\\\\n",
       "\t phi22 &  0.0632710880 & 0.033639740 &  1.880843556 & Stat significant at 10\\%      \\\\\n",
       "\t phi23 &  0.0049145536 & 0.019893107 &  0.247048072 & Not Statistically Significant\\\\\n",
       "\t phi24 &  0.1086151074 & 0.033709818 &  3.222061492 & Stat significant at 1\\%       \\\\\n",
       "\t phi25 &  0.0009096331 & 0.019942762 &  0.045612194 & Not Statistically Significant\\\\\n",
       "\t phi26 & -0.0476565926 & 0.033711216 & -1.413671704 & Not Statistically Significant\\\\\n",
       "\t phi27 & -0.0086907621 & 0.020017865 & -0.434150301 & Not Statistically Significant\\\\\n",
       "\t phi28 & -0.1456046636 & 0.033706423 & -4.319789793 & Stat significant at 1\\%       \\\\\n",
       "\t a11   &  0.2569073215 & 0.019967953 & 12.865982146 & Stat significant at 1\\%       \\\\\n",
       "\t a12   & -0.0276836415 & 0.009300405 & -2.976606149 & Stat significant at 1\\%       \\\\\n",
       "\t a21   &  0.0287718464 & 0.054716912 &  0.525830959 & Not Statistically Significant\\\\\n",
       "\t a22   &  0.6803562700 & 0.016806727 & 40.481188579 & Stat significant at 1\\%       \\\\\n",
       "\t g11   &  0.9556232347 & 0.009922317 & 96.310494649 & Stat significant at 1\\%       \\\\\n",
       "\t g12   &  0.0068882699 & 0.006765647 &  1.018124318 & Not Statistically Significant\\\\\n",
       "\t g21   & -0.0001395951 & 0.034793365 & -0.004012118 & Not Statistically Significant\\\\\n",
       "\t g22   &  0.7357558856 & 0.014689540 & 50.087060694 & Stat significant at 1\\%       \\\\\n",
       "\\end{tabular}\n"
      ],
      "text/markdown": [
       "\n",
       "A data.frame: 26 × 5\n",
       "\n",
       "| Parameters &lt;chr&gt; | Coefficient &lt;dbl&gt; | Std_error &lt;dbl&gt; | T_value &lt;dbl&gt; | Significant_at_5p_level &lt;chr&gt; |\n",
       "|---|---|---|---|---|\n",
       "| mu10  |  0.0016102848 | 0.001378765 |  1.167917868 | Not Statistically Significant |\n",
       "| mu20  | -0.0031509437 | 0.000786509 | -4.006239789 | Stat significant at 1%        |\n",
       "| phi11 |  0.0444541187 | 0.034886740 |  1.274241111 | Not Statistically Significant |\n",
       "| phi12 |  0.0870554164 | 0.058971111 |  1.476238358 | Not Statistically Significant |\n",
       "| phi13 | -0.0162759419 | 0.034872999 | -0.466720458 | Not Statistically Significant |\n",
       "| phi14 | -0.0456429371 | 0.059093960 | -0.772379058 | Not Statistically Significant |\n",
       "| phi15 | -0.0137046237 | 0.034960046 | -0.392008174 | Not Statistically Significant |\n",
       "| phi16 | -0.0737833578 | 0.059096411 | -1.248525196 | Not Statistically Significant |\n",
       "| phi17 | -0.0121206382 | 0.035091702 | -0.345398979 | Not Statistically Significant |\n",
       "| phi18 |  0.0226275773 | 0.059088009 |  0.382947028 | Not Statistically Significant |\n",
       "| phi21 |  0.0084540917 | 0.019900945 |  0.424808543 | Not Statistically Significant |\n",
       "| phi22 |  0.0632710880 | 0.033639740 |  1.880843556 | Stat significant at 10%       |\n",
       "| phi23 |  0.0049145536 | 0.019893107 |  0.247048072 | Not Statistically Significant |\n",
       "| phi24 |  0.1086151074 | 0.033709818 |  3.222061492 | Stat significant at 1%        |\n",
       "| phi25 |  0.0009096331 | 0.019942762 |  0.045612194 | Not Statistically Significant |\n",
       "| phi26 | -0.0476565926 | 0.033711216 | -1.413671704 | Not Statistically Significant |\n",
       "| phi27 | -0.0086907621 | 0.020017865 | -0.434150301 | Not Statistically Significant |\n",
       "| phi28 | -0.1456046636 | 0.033706423 | -4.319789793 | Stat significant at 1%        |\n",
       "| a11   |  0.2569073215 | 0.019967953 | 12.865982146 | Stat significant at 1%        |\n",
       "| a12   | -0.0276836415 | 0.009300405 | -2.976606149 | Stat significant at 1%        |\n",
       "| a21   |  0.0287718464 | 0.054716912 |  0.525830959 | Not Statistically Significant |\n",
       "| a22   |  0.6803562700 | 0.016806727 | 40.481188579 | Stat significant at 1%        |\n",
       "| g11   |  0.9556232347 | 0.009922317 | 96.310494649 | Stat significant at 1%        |\n",
       "| g12   |  0.0068882699 | 0.006765647 |  1.018124318 | Not Statistically Significant |\n",
       "| g21   | -0.0001395951 | 0.034793365 | -0.004012118 | Not Statistically Significant |\n",
       "| g22   |  0.7357558856 | 0.014689540 | 50.087060694 | Stat significant at 1%        |\n",
       "\n"
      ],
      "text/plain": [
       "   Parameters Coefficient   Std_error   T_value     \n",
       "1  mu10        0.0016102848 0.001378765  1.167917868\n",
       "2  mu20       -0.0031509437 0.000786509 -4.006239789\n",
       "3  phi11       0.0444541187 0.034886740  1.274241111\n",
       "4  phi12       0.0870554164 0.058971111  1.476238358\n",
       "5  phi13      -0.0162759419 0.034872999 -0.466720458\n",
       "6  phi14      -0.0456429371 0.059093960 -0.772379058\n",
       "7  phi15      -0.0137046237 0.034960046 -0.392008174\n",
       "8  phi16      -0.0737833578 0.059096411 -1.248525196\n",
       "9  phi17      -0.0121206382 0.035091702 -0.345398979\n",
       "10 phi18       0.0226275773 0.059088009  0.382947028\n",
       "11 phi21       0.0084540917 0.019900945  0.424808543\n",
       "12 phi22       0.0632710880 0.033639740  1.880843556\n",
       "13 phi23       0.0049145536 0.019893107  0.247048072\n",
       "14 phi24       0.1086151074 0.033709818  3.222061492\n",
       "15 phi25       0.0009096331 0.019942762  0.045612194\n",
       "16 phi26      -0.0476565926 0.033711216 -1.413671704\n",
       "17 phi27      -0.0086907621 0.020017865 -0.434150301\n",
       "18 phi28      -0.1456046636 0.033706423 -4.319789793\n",
       "19 a11         0.2569073215 0.019967953 12.865982146\n",
       "20 a12        -0.0276836415 0.009300405 -2.976606149\n",
       "21 a21         0.0287718464 0.054716912  0.525830959\n",
       "22 a22         0.6803562700 0.016806727 40.481188579\n",
       "23 g11         0.9556232347 0.009922317 96.310494649\n",
       "24 g12         0.0068882699 0.006765647  1.018124318\n",
       "25 g21        -0.0001395951 0.034793365 -0.004012118\n",
       "26 g22         0.7357558856 0.014689540 50.087060694\n",
       "   Significant_at_5p_level      \n",
       "1  Not Statistically Significant\n",
       "2  Stat significant at 1%       \n",
       "3  Not Statistically Significant\n",
       "4  Not Statistically Significant\n",
       "5  Not Statistically Significant\n",
       "6  Not Statistically Significant\n",
       "7  Not Statistically Significant\n",
       "8  Not Statistically Significant\n",
       "9  Not Statistically Significant\n",
       "10 Not Statistically Significant\n",
       "11 Not Statistically Significant\n",
       "12 Stat significant at 10%      \n",
       "13 Not Statistically Significant\n",
       "14 Stat significant at 1%       \n",
       "15 Not Statistically Significant\n",
       "16 Not Statistically Significant\n",
       "17 Not Statistically Significant\n",
       "18 Stat significant at 1%       \n",
       "19 Stat significant at 1%       \n",
       "20 Stat significant at 1%       \n",
       "21 Not Statistically Significant\n",
       "22 Stat significant at 1%       \n",
       "23 Stat significant at 1%       \n",
       "24 Not Statistically Significant\n",
       "25 Not Statistically Significant\n",
       "26 Stat significant at 1%       "
      ]
     },
     "metadata": {},
     "output_type": "display_data"
    }
   ],
   "source": [
    "bekk7 <- data.frame(Parameters = c(\"mu10\",\"mu20\",\"phi11\",\"phi12\",\"phi13\",\"phi14\",\"phi15\",\"phi16\",\"phi17\",\"phi18\",\"phi21\",\"phi22\",\"phi23\",\"phi24\",\"phi25\",\"phi26\",\"phi27\",\"phi28\",\"a11\",\"a12\",\"a21\",\"a22\",\"g11\",\"g12\",\"g21\",\"g22\"),\n",
    "                   Coefficient = c(summary(var_bekk7)$varresult$usc$coefficients[\"const\",\"Estimate\"],summary(var_bekk7)$varresult$ghsusd$coefficients[\"const\",\"Estimate\"],\n",
    "                                   summary(var_bekk7)$varresult$usc$coefficients[\"usc.l1\",\"Estimate\"],summary(var_bekk7)$varresult$usc$coefficients[\"ghsusd.l1\",\"Estimate\"],\n",
    "                                   summary(var_bekk7)$varresult$usc$coefficients[\"usc.l2\",\"Estimate\"],summary(var_bekk7)$varresult$usc$coefficients[\"ghsusd.l2\",\"Estimate\"],\n",
    "                                   summary(var_bekk7)$varresult$usc$coefficients[\"usc.l3\",\"Estimate\"],summary(var_bekk7)$varresult$usc$coefficients[\"ghsusd.l3\",\"Estimate\"],\n",
    "                                   summary(var_bekk7)$varresult$usc$coefficients[\"usc.l4\",\"Estimate\"],summary(var_bekk7)$varresult$usc$coefficients[\"ghsusd.l4\",\"Estimate\"],\n",
    "                                   summary(var_bekk7)$varresult$ghsusd$coefficients[\"usc.l1\",\"Estimate\"],summary(var_bekk7)$varresult$ghsusd$coefficients[\"ghsusd.l1\",\"Estimate\"],\n",
    "                                   summary(var_bekk7)$varresult$ghsusd$coefficients[\"usc.l2\",\"Estimate\"],summary(var_bekk7)$varresult$ghsusd$coefficients[\"ghsusd.l2\",\"Estimate\"],\n",
    "                                   summary(var_bekk7)$varresult$ghsusd$coefficients[\"usc.l3\",\"Estimate\"],summary(var_bekk7)$varresult$ghsusd$coefficients[\"ghsusd.l3\",\"Estimate\"],\n",
    "                                   summary(var_bekk7)$varresult$ghsusd$coefficients[\"usc.l4\",\"Estimate\"],summary(var_bekk7)$varresult$ghsusd$coefficients[\"ghsusd.l4\",\"Estimate\"],\n",
    "                                   bekk7_fit$A[1,1],bekk7_fit$A[1,2],bekk7_fit$A[2,1],bekk7_fit$A[2,2],bekk7_fit$G[1,1],bekk7_fit$G[1,2],bekk7_fit$G[2,1],bekk7_fit$G[2,2]),\n",
    "                   Std_error = c(summary(var_bekk7)$varresult$usc$coefficients[\"const\",\"Std. Error\"],summary(var_bekk7)$varresult$ghsusd$coefficients[\"const\",\"Std. Error\"],\n",
    "                                   summary(var_bekk7)$varresult$usc$coefficients[\"usc.l1\",\"Std. Error\"],summary(var_bekk7)$varresult$usc$coefficients[\"ghsusd.l1\",\"Std. Error\"],\n",
    "                                   summary(var_bekk7)$varresult$usc$coefficients[\"usc.l2\",\"Std. Error\"],summary(var_bekk7)$varresult$usc$coefficients[\"ghsusd.l2\",\"Std. Error\"],\n",
    "                                   summary(var_bekk7)$varresult$usc$coefficients[\"usc.l3\",\"Std. Error\"],summary(var_bekk7)$varresult$usc$coefficients[\"ghsusd.l3\",\"Std. Error\"],\n",
    "                                   summary(var_bekk7)$varresult$usc$coefficients[\"usc.l4\",\"Std. Error\"],summary(var_bekk7)$varresult$usc$coefficients[\"ghsusd.l4\",\"Std. Error\"],\n",
    "                                   summary(var_bekk7)$varresult$ghsusd$coefficients[\"usc.l1\",\"Std. Error\"],summary(var_bekk7)$varresult$ghsusd$coefficients[\"ghsusd.l1\",\"Std. Error\"],\n",
    "                                   summary(var_bekk7)$varresult$ghsusd$coefficients[\"usc.l2\",\"Std. Error\"],summary(var_bekk7)$varresult$ghsusd$coefficients[\"ghsusd.l2\",\"Std. Error\"],\n",
    "                                   summary(var_bekk7)$varresult$ghsusd$coefficients[\"usc.l3\",\"Std. Error\"],summary(var_bekk7)$varresult$ghsusd$coefficients[\"ghsusd.l3\",\"Std. Error\"],\n",
    "                                   summary(var_bekk7)$varresult$ghsusd$coefficients[\"usc.l4\",\"Std. Error\"],summary(var_bekk7)$varresult$ghsusd$coefficients[\"ghsusd.l4\",\"Std. Error\"],\n",
    "                                   bekk7_fit$A_sd[1,1],bekk7_fit$A_sd[1,2],bekk7_fit$A_sd[2,1],bekk7_fit$A_sd[2,2],bekk7_fit$G_sd[1,1],bekk7_fit$G_sd[1,2],bekk7_fit$G_sd[2,1],bekk7_fit$G_sd[2,2]),\n",
    "                   T_value = c(summary(var_bekk7)$varresult$usc$coefficients[\"const\",\"t value\"],summary(var_bekk7)$varresult$ghsusd$coefficients[\"const\",\"t value\"],\n",
    "                                   summary(var_bekk7)$varresult$usc$coefficients[\"usc.l1\",\"t value\"],summary(var_bekk7)$varresult$usc$coefficients[\"ghsusd.l1\",\"t value\"],\n",
    "                                   summary(var_bekk7)$varresult$usc$coefficients[\"usc.l2\",\"t value\"],summary(var_bekk7)$varresult$usc$coefficients[\"ghsusd.l2\",\"t value\"],\n",
    "                                   summary(var_bekk7)$varresult$usc$coefficients[\"usc.l3\",\"t value\"],summary(var_bekk7)$varresult$usc$coefficients[\"ghsusd.l3\",\"t value\"],\n",
    "                                   summary(var_bekk7)$varresult$usc$coefficients[\"usc.l4\",\"t value\"],summary(var_bekk7)$varresult$usc$coefficients[\"ghsusd.l4\",\"t value\"],\n",
    "                                   summary(var_bekk7)$varresult$ghsusd$coefficients[\"usc.l1\",\"t value\"],summary(var_bekk7)$varresult$ghsusd$coefficients[\"ghsusd.l1\",\"t value\"],\n",
    "                                   summary(var_bekk7)$varresult$ghsusd$coefficients[\"usc.l2\",\"t value\"],summary(var_bekk7)$varresult$ghsusd$coefficients[\"ghsusd.l2\",\"t value\"],\n",
    "                                   summary(var_bekk7)$varresult$ghsusd$coefficients[\"usc.l3\",\"t value\"],summary(var_bekk7)$varresult$ghsusd$coefficients[\"ghsusd.l3\",\"t value\"],\n",
    "                                   summary(var_bekk7)$varresult$ghsusd$coefficients[\"usc.l4\",\"t value\"],summary(var_bekk7)$varresult$ghsusd$coefficients[\"ghsusd.l4\",\"t value\"],\n",
    "                                   bekk7_fit$A_t[1,1],bekk7_fit$A_t[1,2],bekk7_fit$A_t[2,1],bekk7_fit$A_t[2,2],bekk7_fit$G_t[1,1],bekk7_fit$G_t[1,2],bekk7_fit$G_t[2,1],bekk7_fit$G_t[2,2]))\n",
    "\n",
    "bekk7$Significant_at_5p_level[abs(bekk7$T_value) >= 2.58 ] <- \"Stat significant at 1%\"\n",
    "bekk7$Significant_at_5p_level[abs(bekk7$T_value) > 1.96 & abs(bekk7$T_value) < 2.58] <- \"Stat significant at 5%\"\n",
    "bekk7$Significant_at_5p_level[abs(bekk7$T_value) > 1.645 & abs(bekk7$T_value) <= 1.96 ] <- \"Stat significant at 10%\"\n",
    "bekk7$Significant_at_5p_level[abs(bekk7$T_value) <= 1.645] <- \"Not Statistically Significant\"\n",
    "bekk7"
   ]
  },
  {
   "cell_type": "code",
   "execution_count": 38,
   "id": "95a571a1-8676-40a6-af6e-4573222cd5ca",
   "metadata": {},
   "outputs": [
    {
     "data": {
      "text/plain": [
       "\n",
       "\tGranger causality H0: usc do not Granger-cause ghsusd\n",
       "\n",
       "data:  VAR object var_bekk7\n",
       "F-Test = 0.10809, df1 = 4, df2 = 1730, p-value = 0.9797\n"
      ]
     },
     "metadata": {},
     "output_type": "display_data"
    },
    {
     "data": {
      "text/plain": [
       "\n",
       "\tGranger causality H0: ghsusd do not Granger-cause usc\n",
       "\n",
       "data:  VAR object var_bekk7\n",
       "F-Test = 0.99979, df1 = 4, df2 = 1730, p-value = 0.4064\n"
      ]
     },
     "metadata": {},
     "output_type": "display_data"
    }
   ],
   "source": [
    "causality(var_bekk7,cause = \"usc\")$Granger\n",
    "causality(var_bekk7,cause = \"ghsusd\")$Granger"
   ]
  },
  {
   "cell_type": "markdown",
   "id": "deb19031-1f51-487c-b547-de014d364c57",
   "metadata": {},
   "source": [
    "# (iii) VAR-BEKK Models for London Cocoa"
   ]
  },
  {
   "cell_type": "code",
   "execution_count": 39,
   "id": "397082c9-0c99-48aa-9438-a015087cf425",
   "metadata": {},
   "outputs": [
    {
     "name": "stdout",
     "output_type": "stream",
     "text": [
      "An xts object on 2007-07-13 / 2024-05-03 containing: \n",
      "  Data:    double [878, 4]\n",
      "  Columns: lc, usdgbp, eurgbp, chfgbp\n",
      "  Index:   Date [878] (TZ: \"UTC\")\n",
      "  xts Attributes:\n",
      "    $ ret_type        : chr \"log\"\n",
      "    $ coredata_content: chr \"logReturn\"\n"
     ]
    },
    {
     "data": {
      "text/plain": [
       "                     lc       usdgbp        eurgbp        chfgbp\n",
       "2007-07-13 -0.034778360 -0.012031893 -0.0009595159  0.0009570421\n",
       "2007-07-20  0.003623192 -0.010223993 -0.0067425143 -0.0088982748\n",
       "2007-07-27 -0.061529190  0.015297055  0.0008917293  0.0087979629\n",
       "2007-08-03 -0.036225204 -0.007721262  0.0031888492  0.0074008865\n",
       "2007-08-10 -0.027288202  0.007822461  0.0022187717  0.0010801929\n",
       "2007-08-17 -0.023847683  0.021424385  0.0050110643  0.0136908894"
      ]
     },
     "metadata": {},
     "output_type": "display_data"
    }
   ],
   "source": [
    "l_w <- na.omit(merge(cr_w[,2],fr_w[,c(4:6)]))\n",
    "str(l_w)\n",
    "head(l_w)"
   ]
  },
  {
   "cell_type": "markdown",
   "id": "e7fd3348-b753-4f49-8dac-27e13d0598e4",
   "metadata": {},
   "source": [
    "## (a) VAR-BEKK: London Cocoa-USDGBP"
   ]
  },
  {
   "cell_type": "code",
   "execution_count": 40,
   "id": "03d95b20-e475-40d5-8a44-0f731929cf06",
   "metadata": {},
   "outputs": [
    {
     "data": {
      "text/plain": [
       "                     lc       usdgbp\n",
       "2007-07-13 -0.034778360 -0.012031893\n",
       "2007-07-20  0.003623192 -0.010223993\n",
       "2007-07-27 -0.061529190  0.015297055\n",
       "2007-08-03 -0.036225204 -0.007721262\n",
       "2007-08-10 -0.027288202  0.007822461\n",
       "2007-08-17 -0.023847683  0.021424385"
      ]
     },
     "metadata": {},
     "output_type": "display_data"
    }
   ],
   "source": [
    "bekk4data <- l_w[,c(1,2)]\n",
    "head(bekk4data)"
   ]
  },
  {
   "cell_type": "code",
   "execution_count": 41,
   "id": "de0d5b4e-888b-44e0-9776-b55e65a504a8",
   "metadata": {},
   "outputs": [
    {
     "data": {
      "text/html": [
       "<dl>\n",
       "\t<dt>$selection</dt>\n",
       "\t\t<dd><style>\n",
       ".dl-inline {width: auto; margin:0; padding: 0}\n",
       ".dl-inline>dt, .dl-inline>dd {float: none; width: auto; display: inline-block}\n",
       ".dl-inline>dt::after {content: \":\\0020\"; padding-right: .5ex}\n",
       ".dl-inline>dt:not(:first-of-type) {padding-left: .5ex}\n",
       "</style><dl class=dl-inline><dt>AIC(n)</dt><dd>1</dd><dt>HQ(n)</dt><dd>1</dd><dt>SC(n)</dt><dd>1</dd><dt>FPE(n)</dt><dd>1</dd></dl>\n",
       "</dd>\n",
       "\t<dt>$criteria</dt>\n",
       "\t\t<dd><table class=\"dataframe\">\n",
       "<caption>A matrix: 4 × 10 of type dbl</caption>\n",
       "<thead>\n",
       "\t<tr><th></th><th scope=col>1</th><th scope=col>2</th><th scope=col>3</th><th scope=col>4</th><th scope=col>5</th><th scope=col>6</th><th scope=col>7</th><th scope=col>8</th><th scope=col>9</th><th scope=col>10</th></tr>\n",
       "</thead>\n",
       "<tbody>\n",
       "\t<tr><th scope=row>AIC(n)</th><td>-1.528940e+01</td><td>-1.528683e+01</td><td>-1.528314e+01</td><td>-1.527590e+01</td><td>-1.526970e+01</td><td>-1.526725e+01</td><td>-1.526265e+01</td><td>-1.526297e+01</td><td>-1.526541e+01</td><td>-1.526027e+01</td></tr>\n",
       "\t<tr><th scope=row>HQ(n)</th><td>-1.527679e+01</td><td>-1.526582e+01</td><td>-1.525372e+01</td><td>-1.523808e+01</td><td>-1.522347e+01</td><td>-1.521262e+01</td><td>-1.519961e+01</td><td>-1.519153e+01</td><td>-1.518556e+01</td><td>-1.517202e+01</td></tr>\n",
       "\t<tr><th scope=row>SC(n)</th><td>-1.525645e+01</td><td>-1.523192e+01</td><td>-1.520626e+01</td><td>-1.517707e+01</td><td>-1.514889e+01</td><td>-1.512448e+01</td><td>-1.509791e+01</td><td>-1.507627e+01</td><td>-1.505675e+01</td><td>-1.502965e+01</td></tr>\n",
       "\t<tr><th scope=row>FPE(n)</th><td> 2.290330e-07</td><td> 2.296226e-07</td><td> 2.304723e-07</td><td> 2.321454e-07</td><td> 2.335910e-07</td><td> 2.341642e-07</td><td> 2.352450e-07</td><td> 2.351696e-07</td><td> 2.345981e-07</td><td> 2.358073e-07</td></tr>\n",
       "</tbody>\n",
       "</table>\n",
       "</dd>\n",
       "</dl>\n"
      ],
      "text/latex": [
       "\\begin{description}\n",
       "\\item[\\$selection] \\begin{description*}\n",
       "\\item[AIC(n)] 1\n",
       "\\item[HQ(n)] 1\n",
       "\\item[SC(n)] 1\n",
       "\\item[FPE(n)] 1\n",
       "\\end{description*}\n",
       "\n",
       "\\item[\\$criteria] A matrix: 4 × 10 of type dbl\n",
       "\\begin{tabular}{r|llllllllll}\n",
       "  & 1 & 2 & 3 & 4 & 5 & 6 & 7 & 8 & 9 & 10\\\\\n",
       "\\hline\n",
       "\tAIC(n) & -1.528940e+01 & -1.528683e+01 & -1.528314e+01 & -1.527590e+01 & -1.526970e+01 & -1.526725e+01 & -1.526265e+01 & -1.526297e+01 & -1.526541e+01 & -1.526027e+01\\\\\n",
       "\tHQ(n) & -1.527679e+01 & -1.526582e+01 & -1.525372e+01 & -1.523808e+01 & -1.522347e+01 & -1.521262e+01 & -1.519961e+01 & -1.519153e+01 & -1.518556e+01 & -1.517202e+01\\\\\n",
       "\tSC(n) & -1.525645e+01 & -1.523192e+01 & -1.520626e+01 & -1.517707e+01 & -1.514889e+01 & -1.512448e+01 & -1.509791e+01 & -1.507627e+01 & -1.505675e+01 & -1.502965e+01\\\\\n",
       "\tFPE(n) &  2.290330e-07 &  2.296226e-07 &  2.304723e-07 &  2.321454e-07 &  2.335910e-07 &  2.341642e-07 &  2.352450e-07 &  2.351696e-07 &  2.345981e-07 &  2.358073e-07\\\\\n",
       "\\end{tabular}\n",
       "\n",
       "\\end{description}\n"
      ],
      "text/markdown": [
       "$selection\n",
       ":   AIC(n)\n",
       ":   1HQ(n)\n",
       ":   1SC(n)\n",
       ":   1FPE(n)\n",
       ":   1\n",
       "\n",
       "\n",
       "$criteria\n",
       ":   \n",
       "A matrix: 4 × 10 of type dbl\n",
       "\n",
       "| <!--/--> | 1 | 2 | 3 | 4 | 5 | 6 | 7 | 8 | 9 | 10 |\n",
       "|---|---|---|---|---|---|---|---|---|---|---|\n",
       "| AIC(n) | -1.528940e+01 | -1.528683e+01 | -1.528314e+01 | -1.527590e+01 | -1.526970e+01 | -1.526725e+01 | -1.526265e+01 | -1.526297e+01 | -1.526541e+01 | -1.526027e+01 |\n",
       "| HQ(n) | -1.527679e+01 | -1.526582e+01 | -1.525372e+01 | -1.523808e+01 | -1.522347e+01 | -1.521262e+01 | -1.519961e+01 | -1.519153e+01 | -1.518556e+01 | -1.517202e+01 |\n",
       "| SC(n) | -1.525645e+01 | -1.523192e+01 | -1.520626e+01 | -1.517707e+01 | -1.514889e+01 | -1.512448e+01 | -1.509791e+01 | -1.507627e+01 | -1.505675e+01 | -1.502965e+01 |\n",
       "| FPE(n) |  2.290330e-07 |  2.296226e-07 |  2.304723e-07 |  2.321454e-07 |  2.335910e-07 |  2.341642e-07 |  2.352450e-07 |  2.351696e-07 |  2.345981e-07 |  2.358073e-07 |\n",
       "\n",
       "\n",
       "\n",
       "\n"
      ],
      "text/plain": [
       "$selection\n",
       "AIC(n)  HQ(n)  SC(n) FPE(n) \n",
       "     1      1      1      1 \n",
       "\n",
       "$criteria\n",
       "                   1             2             3             4             5\n",
       "AIC(n) -1.528940e+01 -1.528683e+01 -1.528314e+01 -1.527590e+01 -1.526970e+01\n",
       "HQ(n)  -1.527679e+01 -1.526582e+01 -1.525372e+01 -1.523808e+01 -1.522347e+01\n",
       "SC(n)  -1.525645e+01 -1.523192e+01 -1.520626e+01 -1.517707e+01 -1.514889e+01\n",
       "FPE(n)  2.290330e-07  2.296226e-07  2.304723e-07  2.321454e-07  2.335910e-07\n",
       "                   6             7             8             9            10\n",
       "AIC(n) -1.526725e+01 -1.526265e+01 -1.526297e+01 -1.526541e+01 -1.526027e+01\n",
       "HQ(n)  -1.521262e+01 -1.519961e+01 -1.519153e+01 -1.518556e+01 -1.517202e+01\n",
       "SC(n)  -1.512448e+01 -1.509791e+01 -1.507627e+01 -1.505675e+01 -1.502965e+01\n",
       "FPE(n)  2.341642e-07  2.352450e-07  2.351696e-07  2.345981e-07  2.358073e-07\n"
      ]
     },
     "metadata": {},
     "output_type": "display_data"
    }
   ],
   "source": [
    "VARselect(bekk4data,type = \"const\")"
   ]
  },
  {
   "cell_type": "code",
   "execution_count": 42,
   "id": "0adfe7f9-0dc6-4e25-b2b9-283949118d78",
   "metadata": {},
   "outputs": [],
   "source": [
    "var_bekk4<-VAR(bekk4data,p = 1,type = \"const\")\n",
    "res_bekk4 <- residuals(var_bekk4)\n",
    "res_bekk4 <- as.data.frame(res_bekk4)"
   ]
  },
  {
   "cell_type": "code",
   "execution_count": 43,
   "id": "cded4317-5ecc-4117-b402-0753f51ecacc",
   "metadata": {},
   "outputs": [
    {
     "name": "stdout",
     "output_type": "stream",
     "text": [
      " Date[1:877], format: \"2007-07-20\" \"2007-07-27\" \"2007-08-03\" \"2007-08-10\" \"2007-08-17\" ...\n"
     ]
    }
   ],
   "source": [
    "ind_var4 <- index(bekk4data)[-1]\n",
    "str(ind_var4)"
   ]
  },
  {
   "cell_type": "code",
   "execution_count": 44,
   "id": "cad137a7-39c8-4a51-a4e5-bf4c8bd69b3d",
   "metadata": {},
   "outputs": [],
   "source": [
    "res_bekk4 <- xts(res_bekk4,order.by = ind_var4)\n",
    "bekk_spec <- bekk_spec(model = list(type = \"bekk\",asymmetric = F))\n",
    "bekk4_fit <- bekk_fit(spec = bekk_spec,data = res_bekk4)"
   ]
  },
  {
   "cell_type": "code",
   "execution_count": 45,
   "id": "ae682b2c-891b-4af3-98ef-923bdbd59bba",
   "metadata": {},
   "outputs": [
    {
     "data": {
      "text/html": [
       "<table class=\"dataframe\">\n",
       "<caption>A matrix: 2 × 2 of type dbl</caption>\n",
       "<tbody>\n",
       "\t<tr><td>0.30148954</td><td>-0.0002374186</td></tr>\n",
       "\t<tr><td>0.06221208</td><td> 0.3024651071</td></tr>\n",
       "</tbody>\n",
       "</table>\n"
      ],
      "text/latex": [
       "A matrix: 2 × 2 of type dbl\n",
       "\\begin{tabular}{ll}\n",
       "\t 0.30148954 & -0.0002374186\\\\\n",
       "\t 0.06221208 &  0.3024651071\\\\\n",
       "\\end{tabular}\n"
      ],
      "text/markdown": [
       "\n",
       "A matrix: 2 × 2 of type dbl\n",
       "\n",
       "| 0.30148954 | -0.0002374186 |\n",
       "| 0.06221208 |  0.3024651071 |\n",
       "\n"
      ],
      "text/plain": [
       "     [,1]       [,2]         \n",
       "[1,] 0.30148954 -0.0002374186\n",
       "[2,] 0.06221208  0.3024651071"
      ]
     },
     "metadata": {},
     "output_type": "display_data"
    },
    {
     "data": {
      "text/html": [
       "<table class=\"dataframe\">\n",
       "<caption>A matrix: 2 × 2 of type dbl</caption>\n",
       "<tbody>\n",
       "\t<tr><td>12.9062706</td><td>-0.02206638</td></tr>\n",
       "\t<tr><td> 0.9448622</td><td>12.43010630</td></tr>\n",
       "</tbody>\n",
       "</table>\n"
      ],
      "text/latex": [
       "A matrix: 2 × 2 of type dbl\n",
       "\\begin{tabular}{ll}\n",
       "\t 12.9062706 & -0.02206638\\\\\n",
       "\t  0.9448622 & 12.43010630\\\\\n",
       "\\end{tabular}\n"
      ],
      "text/markdown": [
       "\n",
       "A matrix: 2 × 2 of type dbl\n",
       "\n",
       "| 12.9062706 | -0.02206638 |\n",
       "|  0.9448622 | 12.43010630 |\n",
       "\n"
      ],
      "text/plain": [
       "     [,1]       [,2]       \n",
       "[1,] 12.9062706 -0.02206638\n",
       "[2,]  0.9448622 12.43010630"
      ]
     },
     "metadata": {},
     "output_type": "display_data"
    },
    {
     "data": {
      "text/html": [
       "<table class=\"dataframe\">\n",
       "<caption>A matrix: 2 × 2 of type dbl</caption>\n",
       "<tbody>\n",
       "\t<tr><td>0.94504651</td><td>-0.001332668</td></tr>\n",
       "\t<tr><td>0.03593896</td><td> 0.933662631</td></tr>\n",
       "</tbody>\n",
       "</table>\n"
      ],
      "text/latex": [
       "A matrix: 2 × 2 of type dbl\n",
       "\\begin{tabular}{ll}\n",
       "\t 0.94504651 & -0.001332668\\\\\n",
       "\t 0.03593896 &  0.933662631\\\\\n",
       "\\end{tabular}\n"
      ],
      "text/markdown": [
       "\n",
       "A matrix: 2 × 2 of type dbl\n",
       "\n",
       "| 0.94504651 | -0.001332668 |\n",
       "| 0.03593896 |  0.933662631 |\n",
       "\n"
      ],
      "text/plain": [
       "     [,1]       [,2]        \n",
       "[1,] 0.94504651 -0.001332668\n",
       "[2,] 0.03593896  0.933662631"
      ]
     },
     "metadata": {},
     "output_type": "display_data"
    },
    {
     "data": {
      "text/html": [
       "<table class=\"dataframe\">\n",
       "<caption>A matrix: 2 × 2 of type dbl</caption>\n",
       "<tbody>\n",
       "\t<tr><td>87.795603</td><td>-0.2853983</td></tr>\n",
       "\t<tr><td> 1.033471</td><td>77.7366779</td></tr>\n",
       "</tbody>\n",
       "</table>\n"
      ],
      "text/latex": [
       "A matrix: 2 × 2 of type dbl\n",
       "\\begin{tabular}{ll}\n",
       "\t 87.795603 & -0.2853983\\\\\n",
       "\t  1.033471 & 77.7366779\\\\\n",
       "\\end{tabular}\n"
      ],
      "text/markdown": [
       "\n",
       "A matrix: 2 × 2 of type dbl\n",
       "\n",
       "| 87.795603 | -0.2853983 |\n",
       "|  1.033471 | 77.7366779 |\n",
       "\n"
      ],
      "text/plain": [
       "     [,1]      [,2]      \n",
       "[1,] 87.795603 -0.2853983\n",
       "[2,]  1.033471 77.7366779"
      ]
     },
     "metadata": {},
     "output_type": "display_data"
    }
   ],
   "source": [
    "bekk4_fit$A\n",
    "bekk4_fit$A_t\n",
    "bekk4_fit$G\n",
    "bekk4_fit$G_t"
   ]
  },
  {
   "cell_type": "markdown",
   "id": "e022dca1-2d67-4d4e-bcaf-8dd603134b66",
   "metadata": {},
   "source": [
    "### VAR-BEKK Model Table for London Cocoa - USDGBP"
   ]
  },
  {
   "cell_type": "code",
   "execution_count": 46,
   "id": "39674b1f-b2dc-49db-8bbb-c956aa8a8147",
   "metadata": {},
   "outputs": [
    {
     "data": {
      "text/html": [
       "<table class=\"dataframe\">\n",
       "<caption>A data.frame: 14 × 5</caption>\n",
       "<thead>\n",
       "\t<tr><th scope=col>Parameters</th><th scope=col>Coefficient</th><th scope=col>Std_error</th><th scope=col>T_value</th><th scope=col>Significant_at_5p_level</th></tr>\n",
       "\t<tr><th scope=col>&lt;chr&gt;</th><th scope=col>&lt;dbl&gt;</th><th scope=col>&lt;dbl&gt;</th><th scope=col>&lt;dbl&gt;</th><th scope=col>&lt;chr&gt;</th></tr>\n",
       "</thead>\n",
       "<tbody>\n",
       "\t<tr><td>mu10 </td><td> 0.0018514327</td><td>0.0011890602</td><td> 1.55705548</td><td>Not Statistically Significant</td></tr>\n",
       "\t<tr><td>mu20 </td><td> 0.0006089563</td><td>0.0004596221</td><td> 1.32490631</td><td>Not Statistically Significant</td></tr>\n",
       "\t<tr><td>phi11</td><td> 0.0826751669</td><td>0.0348861830</td><td> 2.36985419</td><td>Stat significant at 5%       </td></tr>\n",
       "\t<tr><td>phi12</td><td> 0.0803964216</td><td>0.0874503048</td><td> 0.91933838</td><td>Not Statistically Significant</td></tr>\n",
       "\t<tr><td>phi21</td><td>-0.0170955183</td><td>0.0134849869</td><td>-1.26774452</td><td>Not Statistically Significant</td></tr>\n",
       "\t<tr><td>phi22</td><td>-0.0324427214</td><td>0.0338032457</td><td>-0.95975167</td><td>Not Statistically Significant</td></tr>\n",
       "\t<tr><td>a11  </td><td> 0.3014895368</td><td>0.0233599268</td><td>12.90627061</td><td>Stat significant at 1%       </td></tr>\n",
       "\t<tr><td>a12  </td><td>-0.0002374186</td><td>0.0107592905</td><td>-0.02206638</td><td>Not Statistically Significant</td></tr>\n",
       "\t<tr><td>a21  </td><td> 0.0622120833</td><td>0.0658424902</td><td> 0.94486225</td><td>Not Statistically Significant</td></tr>\n",
       "\t<tr><td>a22  </td><td> 0.3024651071</td><td>0.0243332679</td><td>12.43010630</td><td>Stat significant at 1%       </td></tr>\n",
       "\t<tr><td>g11  </td><td> 0.9450465100</td><td>0.0107641668</td><td>87.79560263</td><td>Stat significant at 1%       </td></tr>\n",
       "\t<tr><td>g12  </td><td>-0.0013326681</td><td>0.0046695024</td><td>-0.28539832</td><td>Not Statistically Significant</td></tr>\n",
       "\t<tr><td>g21  </td><td> 0.0359389562</td><td>0.0347749950</td><td> 1.03347121</td><td>Not Statistically Significant</td></tr>\n",
       "\t<tr><td>g22  </td><td> 0.9336626312</td><td>0.0120105805</td><td>77.73667793</td><td>Stat significant at 1%       </td></tr>\n",
       "</tbody>\n",
       "</table>\n"
      ],
      "text/latex": [
       "A data.frame: 14 × 5\n",
       "\\begin{tabular}{lllll}\n",
       " Parameters & Coefficient & Std\\_error & T\\_value & Significant\\_at\\_5p\\_level\\\\\n",
       " <chr> & <dbl> & <dbl> & <dbl> & <chr>\\\\\n",
       "\\hline\n",
       "\t mu10  &  0.0018514327 & 0.0011890602 &  1.55705548 & Not Statistically Significant\\\\\n",
       "\t mu20  &  0.0006089563 & 0.0004596221 &  1.32490631 & Not Statistically Significant\\\\\n",
       "\t phi11 &  0.0826751669 & 0.0348861830 &  2.36985419 & Stat significant at 5\\%       \\\\\n",
       "\t phi12 &  0.0803964216 & 0.0874503048 &  0.91933838 & Not Statistically Significant\\\\\n",
       "\t phi21 & -0.0170955183 & 0.0134849869 & -1.26774452 & Not Statistically Significant\\\\\n",
       "\t phi22 & -0.0324427214 & 0.0338032457 & -0.95975167 & Not Statistically Significant\\\\\n",
       "\t a11   &  0.3014895368 & 0.0233599268 & 12.90627061 & Stat significant at 1\\%       \\\\\n",
       "\t a12   & -0.0002374186 & 0.0107592905 & -0.02206638 & Not Statistically Significant\\\\\n",
       "\t a21   &  0.0622120833 & 0.0658424902 &  0.94486225 & Not Statistically Significant\\\\\n",
       "\t a22   &  0.3024651071 & 0.0243332679 & 12.43010630 & Stat significant at 1\\%       \\\\\n",
       "\t g11   &  0.9450465100 & 0.0107641668 & 87.79560263 & Stat significant at 1\\%       \\\\\n",
       "\t g12   & -0.0013326681 & 0.0046695024 & -0.28539832 & Not Statistically Significant\\\\\n",
       "\t g21   &  0.0359389562 & 0.0347749950 &  1.03347121 & Not Statistically Significant\\\\\n",
       "\t g22   &  0.9336626312 & 0.0120105805 & 77.73667793 & Stat significant at 1\\%       \\\\\n",
       "\\end{tabular}\n"
      ],
      "text/markdown": [
       "\n",
       "A data.frame: 14 × 5\n",
       "\n",
       "| Parameters &lt;chr&gt; | Coefficient &lt;dbl&gt; | Std_error &lt;dbl&gt; | T_value &lt;dbl&gt; | Significant_at_5p_level &lt;chr&gt; |\n",
       "|---|---|---|---|---|\n",
       "| mu10  |  0.0018514327 | 0.0011890602 |  1.55705548 | Not Statistically Significant |\n",
       "| mu20  |  0.0006089563 | 0.0004596221 |  1.32490631 | Not Statistically Significant |\n",
       "| phi11 |  0.0826751669 | 0.0348861830 |  2.36985419 | Stat significant at 5%        |\n",
       "| phi12 |  0.0803964216 | 0.0874503048 |  0.91933838 | Not Statistically Significant |\n",
       "| phi21 | -0.0170955183 | 0.0134849869 | -1.26774452 | Not Statistically Significant |\n",
       "| phi22 | -0.0324427214 | 0.0338032457 | -0.95975167 | Not Statistically Significant |\n",
       "| a11   |  0.3014895368 | 0.0233599268 | 12.90627061 | Stat significant at 1%        |\n",
       "| a12   | -0.0002374186 | 0.0107592905 | -0.02206638 | Not Statistically Significant |\n",
       "| a21   |  0.0622120833 | 0.0658424902 |  0.94486225 | Not Statistically Significant |\n",
       "| a22   |  0.3024651071 | 0.0243332679 | 12.43010630 | Stat significant at 1%        |\n",
       "| g11   |  0.9450465100 | 0.0107641668 | 87.79560263 | Stat significant at 1%        |\n",
       "| g12   | -0.0013326681 | 0.0046695024 | -0.28539832 | Not Statistically Significant |\n",
       "| g21   |  0.0359389562 | 0.0347749950 |  1.03347121 | Not Statistically Significant |\n",
       "| g22   |  0.9336626312 | 0.0120105805 | 77.73667793 | Stat significant at 1%        |\n",
       "\n"
      ],
      "text/plain": [
       "   Parameters Coefficient   Std_error    T_value    \n",
       "1  mu10        0.0018514327 0.0011890602  1.55705548\n",
       "2  mu20        0.0006089563 0.0004596221  1.32490631\n",
       "3  phi11       0.0826751669 0.0348861830  2.36985419\n",
       "4  phi12       0.0803964216 0.0874503048  0.91933838\n",
       "5  phi21      -0.0170955183 0.0134849869 -1.26774452\n",
       "6  phi22      -0.0324427214 0.0338032457 -0.95975167\n",
       "7  a11         0.3014895368 0.0233599268 12.90627061\n",
       "8  a12        -0.0002374186 0.0107592905 -0.02206638\n",
       "9  a21         0.0622120833 0.0658424902  0.94486225\n",
       "10 a22         0.3024651071 0.0243332679 12.43010630\n",
       "11 g11         0.9450465100 0.0107641668 87.79560263\n",
       "12 g12        -0.0013326681 0.0046695024 -0.28539832\n",
       "13 g21         0.0359389562 0.0347749950  1.03347121\n",
       "14 g22         0.9336626312 0.0120105805 77.73667793\n",
       "   Significant_at_5p_level      \n",
       "1  Not Statistically Significant\n",
       "2  Not Statistically Significant\n",
       "3  Stat significant at 5%       \n",
       "4  Not Statistically Significant\n",
       "5  Not Statistically Significant\n",
       "6  Not Statistically Significant\n",
       "7  Stat significant at 1%       \n",
       "8  Not Statistically Significant\n",
       "9  Not Statistically Significant\n",
       "10 Stat significant at 1%       \n",
       "11 Stat significant at 1%       \n",
       "12 Not Statistically Significant\n",
       "13 Not Statistically Significant\n",
       "14 Stat significant at 1%       "
      ]
     },
     "metadata": {},
     "output_type": "display_data"
    }
   ],
   "source": [
    "bekk4 <- data.frame(Parameters = c(\"mu10\",\"mu20\",\"phi11\",\"phi12\",\"phi21\",\"phi22\",\"a11\",\"a12\",\"a21\",\"a22\",\"g11\",\"g12\",\"g21\",\"g22\"),\n",
    "                   Coefficient = c(summary(var_bekk4)$varresult$lc$coefficients[\"const\",\"Estimate\"],summary(var_bekk4)$varresult$usdgbp$coefficients[\"const\",\"Estimate\"],\n",
    "                                   summary(var_bekk4)$varresult$lc$coefficients[\"lc.l1\",\"Estimate\"],summary(var_bekk4)$varresult$lc$coefficients[\"usdgbp.l1\",\"Estimate\"],\n",
    "                                   summary(var_bekk4)$varresult$usdgbp$coefficients[\"lc.l1\",\"Estimate\"],summary(var_bekk4)$varresult$usdgbp$coefficients[\"usdgbp.l1\",\"Estimate\"],\n",
    "                                   bekk4_fit$A[1,1],bekk4_fit$A[1,2],bekk4_fit$A[2,1],bekk4_fit$A[2,2],bekk4_fit$G[1,1],bekk4_fit$G[1,2],bekk4_fit$G[2,1],bekk4_fit$G[2,2]),\n",
    "                   Std_error = c(summary(var_bekk4)$varresult$lc$coefficients[\"const\",\"Std. Error\"],summary(var_bekk4)$varresult$usdgbp$coefficients[\"const\",\"Std. Error\"],\n",
    "                                   summary(var_bekk4)$varresult$lc$coefficients[\"lc.l1\",\"Std. Error\"],summary(var_bekk4)$varresult$lc$coefficients[\"usdgbp.l1\",\"Std. Error\"],\n",
    "                                   summary(var_bekk4)$varresult$usdgbp$coefficients[\"lc.l1\",\"Std. Error\"],summary(var_bekk4)$varresult$usdgbp$coefficients[\"usdgbp.l1\",\"Std. Error\"],\n",
    "                                   bekk4_fit$A_sd[1,1],bekk4_fit$A_sd[1,2],bekk4_fit$A_sd[2,1],bekk4_fit$A_sd[2,2],bekk4_fit$G_sd[1,1],bekk4_fit$G_sd[1,2],bekk4_fit$G_sd[2,1],bekk4_fit$G_sd[2,2]),\n",
    "                   T_value = c(summary(var_bekk4)$varresult$lc$coefficients[\"const\",\"t value\"],summary(var_bekk4)$varresult$usdgbp$coefficients[\"const\",\"t value\"],\n",
    "                                   summary(var_bekk4)$varresult$lc$coefficients[\"lc.l1\",\"t value\"],summary(var_bekk4)$varresult$lc$coefficients[\"usdgbp.l1\",\"t value\"],\n",
    "                                   summary(var_bekk4)$varresult$usdgbp$coefficients[\"lc.l1\",\"t value\"],summary(var_bekk4)$varresult$usdgbp$coefficients[\"usdgbp.l1\",\"t value\"],\n",
    "                                   bekk4_fit$A_t[1,1],bekk4_fit$A_t[1,2],bekk4_fit$A_t[2,1],bekk4_fit$A_t[2,2],bekk4_fit$G_t[1,1],bekk4_fit$G_t[1,2],bekk4_fit$G_t[2,1],bekk4_fit$G_t[2,2]))\n",
    "\n",
    "bekk4$Significant_at_5p_level[abs(bekk4$T_value) >= 2.58 ] <- \"Stat significant at 1%\"\n",
    "bekk4$Significant_at_5p_level[abs(bekk4$T_value) > 1.96 & abs(bekk4$T_value) < 2.58] <- \"Stat significant at 5%\"\n",
    "bekk4$Significant_at_5p_level[abs(bekk4$T_value) > 1.645 & abs(bekk4$T_value) <= 1.96 ] <- \"Stat significant at 10%\"\n",
    "bekk4$Significant_at_5p_level[abs(bekk4$T_value) <= 1.645] <- \"Not Statistically Significant\"\n",
    "bekk4"
   ]
  },
  {
   "cell_type": "code",
   "execution_count": 47,
   "id": "b762e4e2-0792-4a44-9ba1-d1f8a1fc8e48",
   "metadata": {},
   "outputs": [
    {
     "data": {
      "text/plain": [
       "\n",
       "\tGranger causality H0: lc do not Granger-cause usdgbp\n",
       "\n",
       "data:  VAR object var_bekk4\n",
       "F-Test = 1.6072, df1 = 1, df2 = 1748, p-value = 0.2051\n"
      ]
     },
     "metadata": {},
     "output_type": "display_data"
    },
    {
     "data": {
      "text/plain": [
       "\n",
       "\tGranger causality H0: usdgbp do not Granger-cause lc\n",
       "\n",
       "data:  VAR object var_bekk4\n",
       "F-Test = 0.84518, df1 = 1, df2 = 1748, p-value = 0.358\n"
      ]
     },
     "metadata": {},
     "output_type": "display_data"
    }
   ],
   "source": [
    "causality(var_bekk4,cause = \"lc\")$Granger\n",
    "causality(var_bekk4,cause = \"usdgbp\")$Granger"
   ]
  },
  {
   "cell_type": "markdown",
   "id": "22413671-1a79-4907-b4cf-12cff81fc256",
   "metadata": {},
   "source": [
    "## (b) VAR-BEKK: London Cocoa-EURGBP"
   ]
  },
  {
   "cell_type": "code",
   "execution_count": 48,
   "id": "40356edf-8967-4803-9a26-9271a4a052e9",
   "metadata": {},
   "outputs": [
    {
     "data": {
      "text/plain": [
       "                     lc        eurgbp\n",
       "2007-07-13 -0.034778360 -0.0009595159\n",
       "2007-07-20  0.003623192 -0.0067425143\n",
       "2007-07-27 -0.061529190  0.0008917293\n",
       "2007-08-03 -0.036225204  0.0031888492\n",
       "2007-08-10 -0.027288202  0.0022187717\n",
       "2007-08-17 -0.023847683  0.0050110643"
      ]
     },
     "metadata": {},
     "output_type": "display_data"
    }
   ],
   "source": [
    "bekk5data <- l_w[,c(1,3)]\n",
    "head(bekk5data)\n"
   ]
  },
  {
   "cell_type": "code",
   "execution_count": 49,
   "id": "43a2f546-e40d-438b-a52d-1ca23d78263c",
   "metadata": {},
   "outputs": [
    {
     "data": {
      "text/html": [
       "<dl>\n",
       "\t<dt>$selection</dt>\n",
       "\t\t<dd><style>\n",
       ".dl-inline {width: auto; margin:0; padding: 0}\n",
       ".dl-inline>dt, .dl-inline>dd {float: none; width: auto; display: inline-block}\n",
       ".dl-inline>dt::after {content: \":\\0020\"; padding-right: .5ex}\n",
       ".dl-inline>dt:not(:first-of-type) {padding-left: .5ex}\n",
       "</style><dl class=dl-inline><dt>AIC(n)</dt><dd>1</dd><dt>HQ(n)</dt><dd>1</dd><dt>SC(n)</dt><dd>1</dd><dt>FPE(n)</dt><dd>1</dd></dl>\n",
       "</dd>\n",
       "\t<dt>$criteria</dt>\n",
       "\t\t<dd><table class=\"dataframe\">\n",
       "<caption>A matrix: 4 × 10 of type dbl</caption>\n",
       "<thead>\n",
       "\t<tr><th></th><th scope=col>1</th><th scope=col>2</th><th scope=col>3</th><th scope=col>4</th><th scope=col>5</th><th scope=col>6</th><th scope=col>7</th><th scope=col>8</th><th scope=col>9</th><th scope=col>10</th></tr>\n",
       "</thead>\n",
       "<tbody>\n",
       "\t<tr><th scope=row>AIC(n)</th><td>-1.560420e+01</td><td>-1.560158e+01</td><td>-1.559629e+01</td><td>-1.558989e+01</td><td>-1.558761e+01</td><td>-1.558186e+01</td><td>-1.557732e+01</td><td>-1.557749e+01</td><td>-1.557370e+01</td><td>-1.556661e+01</td></tr>\n",
       "\t<tr><th scope=row>HQ(n)</th><td>-1.559159e+01</td><td>-1.558057e+01</td><td>-1.556687e+01</td><td>-1.555207e+01</td><td>-1.554139e+01</td><td>-1.552723e+01</td><td>-1.551429e+01</td><td>-1.550605e+01</td><td>-1.549385e+01</td><td>-1.547836e+01</td></tr>\n",
       "\t<tr><th scope=row>SC(n)</th><td>-1.557125e+01</td><td>-1.554667e+01</td><td>-1.551942e+01</td><td>-1.549105e+01</td><td>-1.546681e+01</td><td>-1.543909e+01</td><td>-1.541259e+01</td><td>-1.539080e+01</td><td>-1.536504e+01</td><td>-1.533599e+01</td></tr>\n",
       "\t<tr><th scope=row>FPE(n)</th><td> 1.671797e-07</td><td> 1.676181e-07</td><td> 1.685070e-07</td><td> 1.695889e-07</td><td> 1.699758e-07</td><td> 1.709566e-07</td><td> 1.717346e-07</td><td> 1.717057e-07</td><td> 1.723591e-07</td><td> 1.735859e-07</td></tr>\n",
       "</tbody>\n",
       "</table>\n",
       "</dd>\n",
       "</dl>\n"
      ],
      "text/latex": [
       "\\begin{description}\n",
       "\\item[\\$selection] \\begin{description*}\n",
       "\\item[AIC(n)] 1\n",
       "\\item[HQ(n)] 1\n",
       "\\item[SC(n)] 1\n",
       "\\item[FPE(n)] 1\n",
       "\\end{description*}\n",
       "\n",
       "\\item[\\$criteria] A matrix: 4 × 10 of type dbl\n",
       "\\begin{tabular}{r|llllllllll}\n",
       "  & 1 & 2 & 3 & 4 & 5 & 6 & 7 & 8 & 9 & 10\\\\\n",
       "\\hline\n",
       "\tAIC(n) & -1.560420e+01 & -1.560158e+01 & -1.559629e+01 & -1.558989e+01 & -1.558761e+01 & -1.558186e+01 & -1.557732e+01 & -1.557749e+01 & -1.557370e+01 & -1.556661e+01\\\\\n",
       "\tHQ(n) & -1.559159e+01 & -1.558057e+01 & -1.556687e+01 & -1.555207e+01 & -1.554139e+01 & -1.552723e+01 & -1.551429e+01 & -1.550605e+01 & -1.549385e+01 & -1.547836e+01\\\\\n",
       "\tSC(n) & -1.557125e+01 & -1.554667e+01 & -1.551942e+01 & -1.549105e+01 & -1.546681e+01 & -1.543909e+01 & -1.541259e+01 & -1.539080e+01 & -1.536504e+01 & -1.533599e+01\\\\\n",
       "\tFPE(n) &  1.671797e-07 &  1.676181e-07 &  1.685070e-07 &  1.695889e-07 &  1.699758e-07 &  1.709566e-07 &  1.717346e-07 &  1.717057e-07 &  1.723591e-07 &  1.735859e-07\\\\\n",
       "\\end{tabular}\n",
       "\n",
       "\\end{description}\n"
      ],
      "text/markdown": [
       "$selection\n",
       ":   AIC(n)\n",
       ":   1HQ(n)\n",
       ":   1SC(n)\n",
       ":   1FPE(n)\n",
       ":   1\n",
       "\n",
       "\n",
       "$criteria\n",
       ":   \n",
       "A matrix: 4 × 10 of type dbl\n",
       "\n",
       "| <!--/--> | 1 | 2 | 3 | 4 | 5 | 6 | 7 | 8 | 9 | 10 |\n",
       "|---|---|---|---|---|---|---|---|---|---|---|\n",
       "| AIC(n) | -1.560420e+01 | -1.560158e+01 | -1.559629e+01 | -1.558989e+01 | -1.558761e+01 | -1.558186e+01 | -1.557732e+01 | -1.557749e+01 | -1.557370e+01 | -1.556661e+01 |\n",
       "| HQ(n) | -1.559159e+01 | -1.558057e+01 | -1.556687e+01 | -1.555207e+01 | -1.554139e+01 | -1.552723e+01 | -1.551429e+01 | -1.550605e+01 | -1.549385e+01 | -1.547836e+01 |\n",
       "| SC(n) | -1.557125e+01 | -1.554667e+01 | -1.551942e+01 | -1.549105e+01 | -1.546681e+01 | -1.543909e+01 | -1.541259e+01 | -1.539080e+01 | -1.536504e+01 | -1.533599e+01 |\n",
       "| FPE(n) |  1.671797e-07 |  1.676181e-07 |  1.685070e-07 |  1.695889e-07 |  1.699758e-07 |  1.709566e-07 |  1.717346e-07 |  1.717057e-07 |  1.723591e-07 |  1.735859e-07 |\n",
       "\n",
       "\n",
       "\n",
       "\n"
      ],
      "text/plain": [
       "$selection\n",
       "AIC(n)  HQ(n)  SC(n) FPE(n) \n",
       "     1      1      1      1 \n",
       "\n",
       "$criteria\n",
       "                   1             2             3             4             5\n",
       "AIC(n) -1.560420e+01 -1.560158e+01 -1.559629e+01 -1.558989e+01 -1.558761e+01\n",
       "HQ(n)  -1.559159e+01 -1.558057e+01 -1.556687e+01 -1.555207e+01 -1.554139e+01\n",
       "SC(n)  -1.557125e+01 -1.554667e+01 -1.551942e+01 -1.549105e+01 -1.546681e+01\n",
       "FPE(n)  1.671797e-07  1.676181e-07  1.685070e-07  1.695889e-07  1.699758e-07\n",
       "                   6             7             8             9            10\n",
       "AIC(n) -1.558186e+01 -1.557732e+01 -1.557749e+01 -1.557370e+01 -1.556661e+01\n",
       "HQ(n)  -1.552723e+01 -1.551429e+01 -1.550605e+01 -1.549385e+01 -1.547836e+01\n",
       "SC(n)  -1.543909e+01 -1.541259e+01 -1.539080e+01 -1.536504e+01 -1.533599e+01\n",
       "FPE(n)  1.709566e-07  1.717346e-07  1.717057e-07  1.723591e-07  1.735859e-07\n"
      ]
     },
     "metadata": {},
     "output_type": "display_data"
    }
   ],
   "source": [
    "VARselect(bekk5data,type = \"const\")"
   ]
  },
  {
   "cell_type": "code",
   "execution_count": 50,
   "id": "97a4f132-42d7-4792-a30a-41ca8971a385",
   "metadata": {},
   "outputs": [],
   "source": [
    "var_bekk5<-VAR(bekk5data,p = 1,type = \"const\")\n",
    "res_bekk5 <- residuals(var_bekk5)\n",
    "res_bekk5 <- as.data.frame(res_bekk5)"
   ]
  },
  {
   "cell_type": "code",
   "execution_count": 51,
   "id": "69e151fd-059f-411a-a022-6c0f211b00cf",
   "metadata": {},
   "outputs": [],
   "source": [
    "ind_var5 <- index(bekk5data)[-1]"
   ]
  },
  {
   "cell_type": "code",
   "execution_count": 52,
   "id": "66cd54fc-8549-4b2f-9d69-db563b4a5226",
   "metadata": {},
   "outputs": [
    {
     "data": {
      "text/html": [
       "<table class=\"dataframe\">\n",
       "<caption>A matrix: 2 × 2 of type dbl</caption>\n",
       "<tbody>\n",
       "\t<tr><td>0.3104282</td><td>-0.0001425747</td></tr>\n",
       "\t<tr><td>0.1016647</td><td> 0.2648040380</td></tr>\n",
       "</tbody>\n",
       "</table>\n"
      ],
      "text/latex": [
       "A matrix: 2 × 2 of type dbl\n",
       "\\begin{tabular}{ll}\n",
       "\t 0.3104282 & -0.0001425747\\\\\n",
       "\t 0.1016647 &  0.2648040380\\\\\n",
       "\\end{tabular}\n"
      ],
      "text/markdown": [
       "\n",
       "A matrix: 2 × 2 of type dbl\n",
       "\n",
       "| 0.3104282 | -0.0001425747 |\n",
       "| 0.1016647 |  0.2648040380 |\n",
       "\n"
      ],
      "text/plain": [
       "     [,1]      [,2]         \n",
       "[1,] 0.3104282 -0.0001425747\n",
       "[2,] 0.1016647  0.2648040380"
      ]
     },
     "metadata": {},
     "output_type": "display_data"
    },
    {
     "data": {
      "text/html": [
       "<table class=\"dataframe\">\n",
       "<caption>A matrix: 2 × 2 of type dbl</caption>\n",
       "<tbody>\n",
       "\t<tr><td>12.954530</td><td>-0.01581247</td></tr>\n",
       "\t<tr><td> 1.389303</td><td>13.33279233</td></tr>\n",
       "</tbody>\n",
       "</table>\n"
      ],
      "text/latex": [
       "A matrix: 2 × 2 of type dbl\n",
       "\\begin{tabular}{ll}\n",
       "\t 12.954530 & -0.01581247\\\\\n",
       "\t  1.389303 & 13.33279233\\\\\n",
       "\\end{tabular}\n"
      ],
      "text/markdown": [
       "\n",
       "A matrix: 2 × 2 of type dbl\n",
       "\n",
       "| 12.954530 | -0.01581247 |\n",
       "|  1.389303 | 13.33279233 |\n",
       "\n"
      ],
      "text/plain": [
       "     [,1]      [,2]       \n",
       "[1,] 12.954530 -0.01581247\n",
       "[2,]  1.389303 13.33279233"
      ]
     },
     "metadata": {},
     "output_type": "display_data"
    },
    {
     "data": {
      "text/html": [
       "<table class=\"dataframe\">\n",
       "<caption>A matrix: 2 × 2 of type dbl</caption>\n",
       "<tbody>\n",
       "\t<tr><td> 0.94045862</td><td>0.0009128379</td></tr>\n",
       "\t<tr><td>-0.00383866</td><td>0.9520306034</td></tr>\n",
       "</tbody>\n",
       "</table>\n"
      ],
      "text/latex": [
       "A matrix: 2 × 2 of type dbl\n",
       "\\begin{tabular}{ll}\n",
       "\t  0.94045862 & 0.0009128379\\\\\n",
       "\t -0.00383866 & 0.9520306034\\\\\n",
       "\\end{tabular}\n"
      ],
      "text/markdown": [
       "\n",
       "A matrix: 2 × 2 of type dbl\n",
       "\n",
       "|  0.94045862 | 0.0009128379 |\n",
       "| -0.00383866 | 0.9520306034 |\n",
       "\n"
      ],
      "text/plain": [
       "     [,1]        [,2]        \n",
       "[1,]  0.94045862 0.0009128379\n",
       "[2,] -0.00383866 0.9520306034"
      ]
     },
     "metadata": {},
     "output_type": "display_data"
    },
    {
     "data": {
      "text/html": [
       "<table class=\"dataframe\">\n",
       "<caption>A matrix: 2 × 2 of type dbl</caption>\n",
       "<tbody>\n",
       "\t<tr><td>79.9663263</td><td>  0.2303922</td></tr>\n",
       "\t<tr><td>-0.1085734</td><td>117.8423083</td></tr>\n",
       "</tbody>\n",
       "</table>\n"
      ],
      "text/latex": [
       "A matrix: 2 × 2 of type dbl\n",
       "\\begin{tabular}{ll}\n",
       "\t 79.9663263 &   0.2303922\\\\\n",
       "\t -0.1085734 & 117.8423083\\\\\n",
       "\\end{tabular}\n"
      ],
      "text/markdown": [
       "\n",
       "A matrix: 2 × 2 of type dbl\n",
       "\n",
       "| 79.9663263 |   0.2303922 |\n",
       "| -0.1085734 | 117.8423083 |\n",
       "\n"
      ],
      "text/plain": [
       "     [,1]       [,2]       \n",
       "[1,] 79.9663263   0.2303922\n",
       "[2,] -0.1085734 117.8423083"
      ]
     },
     "metadata": {},
     "output_type": "display_data"
    }
   ],
   "source": [
    "res_bekk5 <- xts(res_bekk5,order.by = ind_var5)\n",
    "bekk_spec <- bekk_spec(model = list(type = \"bekk\",asymmetric = F))\n",
    "bekk5_fit <- bekk_fit(spec = bekk_spec,data = res_bekk5)\n",
    "bekk5_fit$A\n",
    "bekk5_fit$A_t\n",
    "bekk5_fit$G\n",
    "bekk5_fit$G_t"
   ]
  },
  {
   "cell_type": "markdown",
   "id": "cfdf3c99-2527-4483-a0a4-6db005c7f211",
   "metadata": {},
   "source": [
    "### VAR-BEKK Model Table for London Cocoa-EURGBP"
   ]
  },
  {
   "cell_type": "code",
   "execution_count": 53,
   "id": "97e5e17b-d63f-49f2-95e1-992bd6350af5",
   "metadata": {},
   "outputs": [
    {
     "data": {
      "text/html": [
       "<table class=\"dataframe\">\n",
       "<caption>A data.frame: 14 × 5</caption>\n",
       "<thead>\n",
       "\t<tr><th scope=col>Parameters</th><th scope=col>Coefficient</th><th scope=col>Std_error</th><th scope=col>T_value</th><th scope=col>Significant_at_5p_level</th></tr>\n",
       "\t<tr><th scope=col>&lt;chr&gt;</th><th scope=col>&lt;dbl&gt;</th><th scope=col>&lt;dbl&gt;</th><th scope=col>&lt;dbl&gt;</th><th scope=col>&lt;chr&gt;</th></tr>\n",
       "</thead>\n",
       "<tbody>\n",
       "\t<tr><td>mu10 </td><td> 0.0018863400</td><td>0.0011888569</td><td>  1.58668387</td><td>Not Statistically Significant</td></tr>\n",
       "\t<tr><td>mu20 </td><td> 0.0003241925</td><td>0.0003955541</td><td>  0.81959085</td><td>Not Statistically Significant</td></tr>\n",
       "\t<tr><td>phi11</td><td> 0.0824471731</td><td>0.0352821785</td><td>  2.33679372</td><td>Stat significant at 5%       </td></tr>\n",
       "\t<tr><td>phi12</td><td> 0.0346797733</td><td>0.1026584211</td><td>  0.33781713</td><td>Not Statistically Significant</td></tr>\n",
       "\t<tr><td>phi21</td><td>-0.0196322795</td><td>0.0117390170</td><td> -1.67239552</td><td>Stat significant at 10%      </td></tr>\n",
       "\t<tr><td>phi22</td><td>-0.0315928913</td><td>0.0341563080</td><td> -0.92495042</td><td>Not Statistically Significant</td></tr>\n",
       "\t<tr><td>a11  </td><td> 0.3104282273</td><td>0.0239629090</td><td> 12.95453017</td><td>Stat significant at 1%       </td></tr>\n",
       "\t<tr><td>a12  </td><td>-0.0001425747</td><td>0.0090166029</td><td> -0.01581247</td><td>Not Statistically Significant</td></tr>\n",
       "\t<tr><td>a21  </td><td> 0.1016647122</td><td>0.0731767635</td><td>  1.38930321</td><td>Not Statistically Significant</td></tr>\n",
       "\t<tr><td>a22  </td><td> 0.2648040380</td><td>0.0198611087</td><td> 13.33279233</td><td>Stat significant at 1%       </td></tr>\n",
       "\t<tr><td>g11  </td><td> 0.9404586249</td><td>0.0117606831</td><td> 79.96632630</td><td>Stat significant at 1%       </td></tr>\n",
       "\t<tr><td>g12  </td><td> 0.0009128379</td><td>0.0039621042</td><td>  0.23039221</td><td>Not Statistically Significant</td></tr>\n",
       "\t<tr><td>g21  </td><td>-0.0038386596</td><td>0.0353554320</td><td> -0.10857340</td><td>Not Statistically Significant</td></tr>\n",
       "\t<tr><td>g22  </td><td> 0.9520306034</td><td>0.0080788523</td><td>117.84230830</td><td>Stat significant at 1%       </td></tr>\n",
       "</tbody>\n",
       "</table>\n"
      ],
      "text/latex": [
       "A data.frame: 14 × 5\n",
       "\\begin{tabular}{lllll}\n",
       " Parameters & Coefficient & Std\\_error & T\\_value & Significant\\_at\\_5p\\_level\\\\\n",
       " <chr> & <dbl> & <dbl> & <dbl> & <chr>\\\\\n",
       "\\hline\n",
       "\t mu10  &  0.0018863400 & 0.0011888569 &   1.58668387 & Not Statistically Significant\\\\\n",
       "\t mu20  &  0.0003241925 & 0.0003955541 &   0.81959085 & Not Statistically Significant\\\\\n",
       "\t phi11 &  0.0824471731 & 0.0352821785 &   2.33679372 & Stat significant at 5\\%       \\\\\n",
       "\t phi12 &  0.0346797733 & 0.1026584211 &   0.33781713 & Not Statistically Significant\\\\\n",
       "\t phi21 & -0.0196322795 & 0.0117390170 &  -1.67239552 & Stat significant at 10\\%      \\\\\n",
       "\t phi22 & -0.0315928913 & 0.0341563080 &  -0.92495042 & Not Statistically Significant\\\\\n",
       "\t a11   &  0.3104282273 & 0.0239629090 &  12.95453017 & Stat significant at 1\\%       \\\\\n",
       "\t a12   & -0.0001425747 & 0.0090166029 &  -0.01581247 & Not Statistically Significant\\\\\n",
       "\t a21   &  0.1016647122 & 0.0731767635 &   1.38930321 & Not Statistically Significant\\\\\n",
       "\t a22   &  0.2648040380 & 0.0198611087 &  13.33279233 & Stat significant at 1\\%       \\\\\n",
       "\t g11   &  0.9404586249 & 0.0117606831 &  79.96632630 & Stat significant at 1\\%       \\\\\n",
       "\t g12   &  0.0009128379 & 0.0039621042 &   0.23039221 & Not Statistically Significant\\\\\n",
       "\t g21   & -0.0038386596 & 0.0353554320 &  -0.10857340 & Not Statistically Significant\\\\\n",
       "\t g22   &  0.9520306034 & 0.0080788523 & 117.84230830 & Stat significant at 1\\%       \\\\\n",
       "\\end{tabular}\n"
      ],
      "text/markdown": [
       "\n",
       "A data.frame: 14 × 5\n",
       "\n",
       "| Parameters &lt;chr&gt; | Coefficient &lt;dbl&gt; | Std_error &lt;dbl&gt; | T_value &lt;dbl&gt; | Significant_at_5p_level &lt;chr&gt; |\n",
       "|---|---|---|---|---|\n",
       "| mu10  |  0.0018863400 | 0.0011888569 |   1.58668387 | Not Statistically Significant |\n",
       "| mu20  |  0.0003241925 | 0.0003955541 |   0.81959085 | Not Statistically Significant |\n",
       "| phi11 |  0.0824471731 | 0.0352821785 |   2.33679372 | Stat significant at 5%        |\n",
       "| phi12 |  0.0346797733 | 0.1026584211 |   0.33781713 | Not Statistically Significant |\n",
       "| phi21 | -0.0196322795 | 0.0117390170 |  -1.67239552 | Stat significant at 10%       |\n",
       "| phi22 | -0.0315928913 | 0.0341563080 |  -0.92495042 | Not Statistically Significant |\n",
       "| a11   |  0.3104282273 | 0.0239629090 |  12.95453017 | Stat significant at 1%        |\n",
       "| a12   | -0.0001425747 | 0.0090166029 |  -0.01581247 | Not Statistically Significant |\n",
       "| a21   |  0.1016647122 | 0.0731767635 |   1.38930321 | Not Statistically Significant |\n",
       "| a22   |  0.2648040380 | 0.0198611087 |  13.33279233 | Stat significant at 1%        |\n",
       "| g11   |  0.9404586249 | 0.0117606831 |  79.96632630 | Stat significant at 1%        |\n",
       "| g12   |  0.0009128379 | 0.0039621042 |   0.23039221 | Not Statistically Significant |\n",
       "| g21   | -0.0038386596 | 0.0353554320 |  -0.10857340 | Not Statistically Significant |\n",
       "| g22   |  0.9520306034 | 0.0080788523 | 117.84230830 | Stat significant at 1%        |\n",
       "\n"
      ],
      "text/plain": [
       "   Parameters Coefficient   Std_error    T_value     \n",
       "1  mu10        0.0018863400 0.0011888569   1.58668387\n",
       "2  mu20        0.0003241925 0.0003955541   0.81959085\n",
       "3  phi11       0.0824471731 0.0352821785   2.33679372\n",
       "4  phi12       0.0346797733 0.1026584211   0.33781713\n",
       "5  phi21      -0.0196322795 0.0117390170  -1.67239552\n",
       "6  phi22      -0.0315928913 0.0341563080  -0.92495042\n",
       "7  a11         0.3104282273 0.0239629090  12.95453017\n",
       "8  a12        -0.0001425747 0.0090166029  -0.01581247\n",
       "9  a21         0.1016647122 0.0731767635   1.38930321\n",
       "10 a22         0.2648040380 0.0198611087  13.33279233\n",
       "11 g11         0.9404586249 0.0117606831  79.96632630\n",
       "12 g12         0.0009128379 0.0039621042   0.23039221\n",
       "13 g21        -0.0038386596 0.0353554320  -0.10857340\n",
       "14 g22         0.9520306034 0.0080788523 117.84230830\n",
       "   Significant_at_5p_level      \n",
       "1  Not Statistically Significant\n",
       "2  Not Statistically Significant\n",
       "3  Stat significant at 5%       \n",
       "4  Not Statistically Significant\n",
       "5  Stat significant at 10%      \n",
       "6  Not Statistically Significant\n",
       "7  Stat significant at 1%       \n",
       "8  Not Statistically Significant\n",
       "9  Not Statistically Significant\n",
       "10 Stat significant at 1%       \n",
       "11 Stat significant at 1%       \n",
       "12 Not Statistically Significant\n",
       "13 Not Statistically Significant\n",
       "14 Stat significant at 1%       "
      ]
     },
     "metadata": {},
     "output_type": "display_data"
    }
   ],
   "source": [
    "bekk5 <- data.frame(Parameters = c(\"mu10\",\"mu20\",\"phi11\",\"phi12\",\"phi21\",\"phi22\",\"a11\",\"a12\",\"a21\",\"a22\",\"g11\",\"g12\",\"g21\",\"g22\"),\n",
    "                   Coefficient = c(summary(var_bekk5)$varresult$lc$coefficients[\"const\",\"Estimate\"],summary(var_bekk5)$varresult$eurgbp$coefficients[\"const\",\"Estimate\"],\n",
    "                                   summary(var_bekk5)$varresult$lc$coefficients[\"lc.l1\",\"Estimate\"],summary(var_bekk5)$varresult$lc$coefficients[\"eurgbp.l1\",\"Estimate\"],\n",
    "                                   summary(var_bekk5)$varresult$eurgbp$coefficients[\"lc.l1\",\"Estimate\"],summary(var_bekk5)$varresult$eurgbp$coefficients[\"eurgbp.l1\",\"Estimate\"],\n",
    "                                   bekk5_fit$A[1,1],bekk5_fit$A[1,2],bekk5_fit$A[2,1],bekk5_fit$A[2,2],bekk5_fit$G[1,1],bekk5_fit$G[1,2],bekk5_fit$G[2,1],bekk5_fit$G[2,2]),\n",
    "                   Std_error = c(summary(var_bekk5)$varresult$lc$coefficients[\"const\",\"Std. Error\"],summary(var_bekk5)$varresult$eurgbp$coefficients[\"const\",\"Std. Error\"],\n",
    "                                   summary(var_bekk5)$varresult$lc$coefficients[\"lc.l1\",\"Std. Error\"],summary(var_bekk5)$varresult$lc$coefficients[\"eurgbp.l1\",\"Std. Error\"],\n",
    "                                   summary(var_bekk5)$varresult$eurgbp$coefficients[\"lc.l1\",\"Std. Error\"],summary(var_bekk5)$varresult$eurgbp$coefficients[\"eurgbp.l1\",\"Std. Error\"],\n",
    "                                   bekk5_fit$A_sd[1,1],bekk5_fit$A_sd[1,2],bekk5_fit$A_sd[2,1],bekk5_fit$A_sd[2,2],bekk5_fit$G_sd[1,1],bekk5_fit$G_sd[1,2],bekk5_fit$G_sd[2,1],bekk5_fit$G_sd[2,2]),\n",
    "                   T_value = c(summary(var_bekk5)$varresult$lc$coefficients[\"const\",\"t value\"],summary(var_bekk5)$varresult$eurgbp$coefficients[\"const\",\"t value\"],\n",
    "                                   summary(var_bekk5)$varresult$lc$coefficients[\"lc.l1\",\"t value\"],summary(var_bekk5)$varresult$lc$coefficients[\"eurgbp.l1\",\"t value\"],\n",
    "                                   summary(var_bekk5)$varresult$eurgbp$coefficients[\"lc.l1\",\"t value\"],summary(var_bekk5)$varresult$eurgbp$coefficients[\"eurgbp.l1\",\"t value\"],\n",
    "                                   bekk5_fit$A_t[1,1],bekk5_fit$A_t[1,2],bekk5_fit$A_t[2,1],bekk5_fit$A_t[2,2],bekk5_fit$G_t[1,1],bekk5_fit$G_t[1,2],bekk5_fit$G_t[2,1],bekk5_fit$G_t[2,2]))\n",
    "\n",
    "bekk5$Significant_at_5p_level[abs(bekk5$T_value) >= 2.58 ] <- \"Stat significant at 1%\"\n",
    "bekk5$Significant_at_5p_level[abs(bekk5$T_value) > 1.96 & abs(bekk5$T_value) < 2.58] <- \"Stat significant at 5%\"\n",
    "bekk5$Significant_at_5p_level[abs(bekk5$T_value) > 1.645 & abs(bekk5$T_value) <= 1.96 ] <- \"Stat significant at 10%\"\n",
    "bekk5$Significant_at_5p_level[abs(bekk5$T_value) <= 1.645] <- \"Not Statistically Significant\"\n",
    "bekk5"
   ]
  },
  {
   "cell_type": "code",
   "execution_count": 54,
   "id": "940e3bb6-5345-4833-bacb-487a46bffadb",
   "metadata": {},
   "outputs": [
    {
     "data": {
      "text/plain": [
       "\n",
       "\tGranger causality H0: lc do not Granger-cause eurgbp\n",
       "\n",
       "data:  VAR object var_bekk5\n",
       "F-Test = 2.7969, df1 = 1, df2 = 1748, p-value = 0.09463\n"
      ]
     },
     "metadata": {},
     "output_type": "display_data"
    },
    {
     "data": {
      "text/plain": [
       "\n",
       "\tGranger causality H0: eurgbp do not Granger-cause lc\n",
       "\n",
       "data:  VAR object var_bekk5\n",
       "F-Test = 0.11412, df1 = 1, df2 = 1748, p-value = 0.7355\n"
      ]
     },
     "metadata": {},
     "output_type": "display_data"
    }
   ],
   "source": [
    "causality(var_bekk5,cause = \"lc\")$Granger\n",
    "causality(var_bekk5,cause = \"eurgbp\")$Granger"
   ]
  },
  {
   "cell_type": "markdown",
   "id": "e0ea5c8d-21dc-4060-9b20-5e061ab609e3",
   "metadata": {},
   "source": [
    "## (c) VAR-BEKK: London Cocoa-CHFGBP"
   ]
  },
  {
   "cell_type": "code",
   "execution_count": 55,
   "id": "3ccde272-5620-4b4f-b5e5-0e0b48b0f70a",
   "metadata": {},
   "outputs": [
    {
     "data": {
      "text/plain": [
       "                     lc        chfgbp\n",
       "2007-07-13 -0.034778360  0.0009570421\n",
       "2007-07-20  0.003623192 -0.0088982748\n",
       "2007-07-27 -0.061529190  0.0087979629\n",
       "2007-08-03 -0.036225204  0.0074008865\n",
       "2007-08-10 -0.027288202  0.0010801929\n",
       "2007-08-17 -0.023847683  0.0136908894"
      ]
     },
     "metadata": {},
     "output_type": "display_data"
    }
   ],
   "source": [
    "bekk6data <- l_w[,c(1,4)]\n",
    "head(bekk6data)"
   ]
  },
  {
   "cell_type": "code",
   "execution_count": 56,
   "id": "9d9d9db6-77c0-4aaf-8ea0-ff4aa775383c",
   "metadata": {},
   "outputs": [
    {
     "data": {
      "text/html": [
       "<dl>\n",
       "\t<dt>$selection</dt>\n",
       "\t\t<dd><style>\n",
       ".dl-inline {width: auto; margin:0; padding: 0}\n",
       ".dl-inline>dt, .dl-inline>dd {float: none; width: auto; display: inline-block}\n",
       ".dl-inline>dt::after {content: \":\\0020\"; padding-right: .5ex}\n",
       ".dl-inline>dt:not(:first-of-type) {padding-left: .5ex}\n",
       "</style><dl class=dl-inline><dt>AIC(n)</dt><dd>1</dd><dt>HQ(n)</dt><dd>1</dd><dt>SC(n)</dt><dd>1</dd><dt>FPE(n)</dt><dd>1</dd></dl>\n",
       "</dd>\n",
       "\t<dt>$criteria</dt>\n",
       "\t\t<dd><table class=\"dataframe\">\n",
       "<caption>A matrix: 4 × 10 of type dbl</caption>\n",
       "<thead>\n",
       "\t<tr><th></th><th scope=col>1</th><th scope=col>2</th><th scope=col>3</th><th scope=col>4</th><th scope=col>5</th><th scope=col>6</th><th scope=col>7</th><th scope=col>8</th><th scope=col>9</th><th scope=col>10</th></tr>\n",
       "</thead>\n",
       "<tbody>\n",
       "\t<tr><th scope=row>AIC(n)</th><td>-1.509909e+01</td><td>-1.509445e+01</td><td>-1.509008e+01</td><td>-1.508388e+01</td><td>-1.508318e+01</td><td>-1.507823e+01</td><td>-1.507704e+01</td><td>-1.507692e+01</td><td>-1.507372e+01</td><td>-1.507039e+01</td></tr>\n",
       "\t<tr><th scope=row>HQ(n)</th><td>-1.508648e+01</td><td>-1.507344e+01</td><td>-1.506067e+01</td><td>-1.504606e+01</td><td>-1.503695e+01</td><td>-1.502360e+01</td><td>-1.501400e+01</td><td>-1.500548e+01</td><td>-1.499387e+01</td><td>-1.498214e+01</td></tr>\n",
       "\t<tr><th scope=row>SC(n)</th><td>-1.506614e+01</td><td>-1.503954e+01</td><td>-1.501321e+01</td><td>-1.498504e+01</td><td>-1.496237e+01</td><td>-1.493546e+01</td><td>-1.491231e+01</td><td>-1.489023e+01</td><td>-1.486506e+01</td><td>-1.483977e+01</td></tr>\n",
       "\t<tr><th scope=row>FPE(n)</th><td> 2.770439e-07</td><td> 2.783323e-07</td><td> 2.795503e-07</td><td> 2.812904e-07</td><td> 2.814888e-07</td><td> 2.828848e-07</td><td> 2.832224e-07</td><td> 2.832566e-07</td><td> 2.841674e-07</td><td> 2.851161e-07</td></tr>\n",
       "</tbody>\n",
       "</table>\n",
       "</dd>\n",
       "</dl>\n"
      ],
      "text/latex": [
       "\\begin{description}\n",
       "\\item[\\$selection] \\begin{description*}\n",
       "\\item[AIC(n)] 1\n",
       "\\item[HQ(n)] 1\n",
       "\\item[SC(n)] 1\n",
       "\\item[FPE(n)] 1\n",
       "\\end{description*}\n",
       "\n",
       "\\item[\\$criteria] A matrix: 4 × 10 of type dbl\n",
       "\\begin{tabular}{r|llllllllll}\n",
       "  & 1 & 2 & 3 & 4 & 5 & 6 & 7 & 8 & 9 & 10\\\\\n",
       "\\hline\n",
       "\tAIC(n) & -1.509909e+01 & -1.509445e+01 & -1.509008e+01 & -1.508388e+01 & -1.508318e+01 & -1.507823e+01 & -1.507704e+01 & -1.507692e+01 & -1.507372e+01 & -1.507039e+01\\\\\n",
       "\tHQ(n) & -1.508648e+01 & -1.507344e+01 & -1.506067e+01 & -1.504606e+01 & -1.503695e+01 & -1.502360e+01 & -1.501400e+01 & -1.500548e+01 & -1.499387e+01 & -1.498214e+01\\\\\n",
       "\tSC(n) & -1.506614e+01 & -1.503954e+01 & -1.501321e+01 & -1.498504e+01 & -1.496237e+01 & -1.493546e+01 & -1.491231e+01 & -1.489023e+01 & -1.486506e+01 & -1.483977e+01\\\\\n",
       "\tFPE(n) &  2.770439e-07 &  2.783323e-07 &  2.795503e-07 &  2.812904e-07 &  2.814888e-07 &  2.828848e-07 &  2.832224e-07 &  2.832566e-07 &  2.841674e-07 &  2.851161e-07\\\\\n",
       "\\end{tabular}\n",
       "\n",
       "\\end{description}\n"
      ],
      "text/markdown": [
       "$selection\n",
       ":   AIC(n)\n",
       ":   1HQ(n)\n",
       ":   1SC(n)\n",
       ":   1FPE(n)\n",
       ":   1\n",
       "\n",
       "\n",
       "$criteria\n",
       ":   \n",
       "A matrix: 4 × 10 of type dbl\n",
       "\n",
       "| <!--/--> | 1 | 2 | 3 | 4 | 5 | 6 | 7 | 8 | 9 | 10 |\n",
       "|---|---|---|---|---|---|---|---|---|---|---|\n",
       "| AIC(n) | -1.509909e+01 | -1.509445e+01 | -1.509008e+01 | -1.508388e+01 | -1.508318e+01 | -1.507823e+01 | -1.507704e+01 | -1.507692e+01 | -1.507372e+01 | -1.507039e+01 |\n",
       "| HQ(n) | -1.508648e+01 | -1.507344e+01 | -1.506067e+01 | -1.504606e+01 | -1.503695e+01 | -1.502360e+01 | -1.501400e+01 | -1.500548e+01 | -1.499387e+01 | -1.498214e+01 |\n",
       "| SC(n) | -1.506614e+01 | -1.503954e+01 | -1.501321e+01 | -1.498504e+01 | -1.496237e+01 | -1.493546e+01 | -1.491231e+01 | -1.489023e+01 | -1.486506e+01 | -1.483977e+01 |\n",
       "| FPE(n) |  2.770439e-07 |  2.783323e-07 |  2.795503e-07 |  2.812904e-07 |  2.814888e-07 |  2.828848e-07 |  2.832224e-07 |  2.832566e-07 |  2.841674e-07 |  2.851161e-07 |\n",
       "\n",
       "\n",
       "\n",
       "\n"
      ],
      "text/plain": [
       "$selection\n",
       "AIC(n)  HQ(n)  SC(n) FPE(n) \n",
       "     1      1      1      1 \n",
       "\n",
       "$criteria\n",
       "                   1             2             3             4             5\n",
       "AIC(n) -1.509909e+01 -1.509445e+01 -1.509008e+01 -1.508388e+01 -1.508318e+01\n",
       "HQ(n)  -1.508648e+01 -1.507344e+01 -1.506067e+01 -1.504606e+01 -1.503695e+01\n",
       "SC(n)  -1.506614e+01 -1.503954e+01 -1.501321e+01 -1.498504e+01 -1.496237e+01\n",
       "FPE(n)  2.770439e-07  2.783323e-07  2.795503e-07  2.812904e-07  2.814888e-07\n",
       "                   6             7             8             9            10\n",
       "AIC(n) -1.507823e+01 -1.507704e+01 -1.507692e+01 -1.507372e+01 -1.507039e+01\n",
       "HQ(n)  -1.502360e+01 -1.501400e+01 -1.500548e+01 -1.499387e+01 -1.498214e+01\n",
       "SC(n)  -1.493546e+01 -1.491231e+01 -1.489023e+01 -1.486506e+01 -1.483977e+01\n",
       "FPE(n)  2.828848e-07  2.832224e-07  2.832566e-07  2.841674e-07  2.851161e-07\n"
      ]
     },
     "metadata": {},
     "output_type": "display_data"
    }
   ],
   "source": [
    "VARselect(bekk6data,type = \"const\")"
   ]
  },
  {
   "cell_type": "code",
   "execution_count": 57,
   "id": "6ee2ed6b-55a9-4140-b888-c5648a4b06bf",
   "metadata": {},
   "outputs": [],
   "source": [
    "var_bekk6<-VAR(bekk6data,p = 1,type = \"const\")\n",
    "res_bekk6 <- residuals(var_bekk6)\n",
    "res_bekk6 <- as.data.frame(res_bekk6)"
   ]
  },
  {
   "cell_type": "code",
   "execution_count": 58,
   "id": "d3103192-5844-4034-ac14-24c576640c53",
   "metadata": {},
   "outputs": [],
   "source": [
    "ind_var6 <- index(bekk6data)[-1]"
   ]
  },
  {
   "cell_type": "code",
   "execution_count": 59,
   "id": "2278383f-4f2a-4440-a7ae-bb268ad9a486",
   "metadata": {},
   "outputs": [
    {
     "data": {
      "text/html": [
       "<table class=\"dataframe\">\n",
       "<caption>A matrix: 2 × 2 of type dbl</caption>\n",
       "<tbody>\n",
       "\t<tr><td>0.3234650</td><td>-0.02278619</td></tr>\n",
       "\t<tr><td>0.1553224</td><td> 0.26616786</td></tr>\n",
       "</tbody>\n",
       "</table>\n"
      ],
      "text/latex": [
       "A matrix: 2 × 2 of type dbl\n",
       "\\begin{tabular}{ll}\n",
       "\t 0.3234650 & -0.02278619\\\\\n",
       "\t 0.1553224 &  0.26616786\\\\\n",
       "\\end{tabular}\n"
      ],
      "text/markdown": [
       "\n",
       "A matrix: 2 × 2 of type dbl\n",
       "\n",
       "| 0.3234650 | -0.02278619 |\n",
       "| 0.1553224 |  0.26616786 |\n",
       "\n"
      ],
      "text/plain": [
       "     [,1]      [,2]       \n",
       "[1,] 0.3234650 -0.02278619\n",
       "[2,] 0.1553224  0.26616786"
      ]
     },
     "metadata": {},
     "output_type": "display_data"
    },
    {
     "data": {
      "text/html": [
       "<table class=\"dataframe\">\n",
       "<caption>A matrix: 2 × 2 of type dbl</caption>\n",
       "<tbody>\n",
       "\t<tr><td>12.741920</td><td>-1.178076</td></tr>\n",
       "\t<tr><td> 2.113982</td><td> 6.868999</td></tr>\n",
       "</tbody>\n",
       "</table>\n"
      ],
      "text/latex": [
       "A matrix: 2 × 2 of type dbl\n",
       "\\begin{tabular}{ll}\n",
       "\t 12.741920 & -1.178076\\\\\n",
       "\t  2.113982 &  6.868999\\\\\n",
       "\\end{tabular}\n"
      ],
      "text/markdown": [
       "\n",
       "A matrix: 2 × 2 of type dbl\n",
       "\n",
       "| 12.741920 | -1.178076 |\n",
       "|  2.113982 |  6.868999 |\n",
       "\n"
      ],
      "text/plain": [
       "     [,1]      [,2]     \n",
       "[1,] 12.741920 -1.178076\n",
       "[2,]  2.113982  6.868999"
      ]
     },
     "metadata": {},
     "output_type": "display_data"
    },
    {
     "data": {
      "text/html": [
       "<table class=\"dataframe\">\n",
       "<caption>A matrix: 2 × 2 of type dbl</caption>\n",
       "<tbody>\n",
       "\t<tr><td> 0.93855209</td><td>0.005093478</td></tr>\n",
       "\t<tr><td>-0.05496428</td><td>0.874862465</td></tr>\n",
       "</tbody>\n",
       "</table>\n"
      ],
      "text/latex": [
       "A matrix: 2 × 2 of type dbl\n",
       "\\begin{tabular}{ll}\n",
       "\t  0.93855209 & 0.005093478\\\\\n",
       "\t -0.05496428 & 0.874862465\\\\\n",
       "\\end{tabular}\n"
      ],
      "text/markdown": [
       "\n",
       "A matrix: 2 × 2 of type dbl\n",
       "\n",
       "|  0.93855209 | 0.005093478 |\n",
       "| -0.05496428 | 0.874862465 |\n",
       "\n"
      ],
      "text/plain": [
       "     [,1]        [,2]       \n",
       "[1,]  0.93855209 0.005093478\n",
       "[2,] -0.05496428 0.874862465"
      ]
     },
     "metadata": {},
     "output_type": "display_data"
    },
    {
     "data": {
      "text/html": [
       "<table class=\"dataframe\">\n",
       "<caption>A matrix: 2 × 2 of type dbl</caption>\n",
       "<tbody>\n",
       "\t<tr><td>75.9138626</td><td> 0.5256057</td></tr>\n",
       "\t<tr><td>-0.7749542</td><td>17.6054693</td></tr>\n",
       "</tbody>\n",
       "</table>\n"
      ],
      "text/latex": [
       "A matrix: 2 × 2 of type dbl\n",
       "\\begin{tabular}{ll}\n",
       "\t 75.9138626 &  0.5256057\\\\\n",
       "\t -0.7749542 & 17.6054693\\\\\n",
       "\\end{tabular}\n"
      ],
      "text/markdown": [
       "\n",
       "A matrix: 2 × 2 of type dbl\n",
       "\n",
       "| 75.9138626 |  0.5256057 |\n",
       "| -0.7749542 | 17.6054693 |\n",
       "\n"
      ],
      "text/plain": [
       "     [,1]       [,2]      \n",
       "[1,] 75.9138626  0.5256057\n",
       "[2,] -0.7749542 17.6054693"
      ]
     },
     "metadata": {},
     "output_type": "display_data"
    }
   ],
   "source": [
    "res_bekk6 <- xts(res_bekk6,order.by = ind_var6)\n",
    "bekk_spec <- bekk_spec(model = list(type = \"bekk\",asymmetric = F))\n",
    "bekk6_fit <- bekk_fit(spec = bekk_spec,data = res_bekk6)\n",
    "bekk6_fit$A\n",
    "bekk6_fit$A_t\n",
    "bekk6_fit$G\n",
    "bekk6_fit$G_t"
   ]
  },
  {
   "cell_type": "markdown",
   "id": "a99b07e4-add5-404d-a0cd-136cecbc1bca",
   "metadata": {},
   "source": [
    "### VAR-BEKK Model Table for London Cocoa-CHFGBP"
   ]
  },
  {
   "cell_type": "code",
   "execution_count": 60,
   "id": "0ed928fa-acbd-40ad-a8b5-e2e523fca48f",
   "metadata": {},
   "outputs": [
    {
     "data": {
      "text/html": [
       "<table class=\"dataframe\">\n",
       "<caption>A data.frame: 14 × 5</caption>\n",
       "<thead>\n",
       "\t<tr><th scope=col>Parameters</th><th scope=col>Coefficient</th><th scope=col>Std_error</th><th scope=col>T_value</th><th scope=col>Significant_at_5p_level</th></tr>\n",
       "\t<tr><th scope=col>&lt;chr&gt;</th><th scope=col>&lt;dbl&gt;</th><th scope=col>&lt;dbl&gt;</th><th scope=col>&lt;dbl&gt;</th><th scope=col>&lt;chr&gt;</th></tr>\n",
       "</thead>\n",
       "<tbody>\n",
       "\t<tr><td>mu10 </td><td> 0.0019363986</td><td>0.0011901400</td><td> 1.6270343</td><td>Not Statistically Significant</td></tr>\n",
       "\t<tr><td>mu20 </td><td> 0.0009500008</td><td>0.0005055014</td><td> 1.8793238</td><td>Stat significant at 10%      </td></tr>\n",
       "\t<tr><td>phi11</td><td> 0.0863778175</td><td>0.0349677743</td><td> 2.4702120</td><td>Stat significant at 5%       </td></tr>\n",
       "\t<tr><td>phi12</td><td>-0.0575559726</td><td>0.0797790081</td><td>-0.7214426</td><td>Not Statistically Significant</td></tr>\n",
       "\t<tr><td>phi21</td><td>-0.0182540848</td><td>0.0148522516</td><td>-1.2290449</td><td>Not Statistically Significant</td></tr>\n",
       "\t<tr><td>phi22</td><td>-0.0374252051</td><td>0.0338854252</td><td>-1.1044632</td><td>Not Statistically Significant</td></tr>\n",
       "\t<tr><td>a11  </td><td> 0.3234649720</td><td>0.0253858891</td><td>12.7419201</td><td>Stat significant at 1%       </td></tr>\n",
       "\t<tr><td>a12  </td><td>-0.0227861873</td><td>0.0193418612</td><td>-1.1780762</td><td>Not Statistically Significant</td></tr>\n",
       "\t<tr><td>a21  </td><td> 0.1553224018</td><td>0.0734738532</td><td> 2.1139820</td><td>Stat significant at 5%       </td></tr>\n",
       "\t<tr><td>a22  </td><td> 0.2661678596</td><td>0.0387491477</td><td> 6.8689991</td><td>Stat significant at 1%       </td></tr>\n",
       "\t<tr><td>g11  </td><td> 0.9385520946</td><td>0.0123633822</td><td>75.9138626</td><td>Stat significant at 1%       </td></tr>\n",
       "\t<tr><td>g12  </td><td> 0.0050934785</td><td>0.0096906839</td><td> 0.5256057</td><td>Not Statistically Significant</td></tr>\n",
       "\t<tr><td>g21  </td><td>-0.0549642824</td><td>0.0709258489</td><td>-0.7749542</td><td>Not Statistically Significant</td></tr>\n",
       "\t<tr><td>g22  </td><td> 0.8748624653</td><td>0.0496926523</td><td>17.6054693</td><td>Stat significant at 1%       </td></tr>\n",
       "</tbody>\n",
       "</table>\n"
      ],
      "text/latex": [
       "A data.frame: 14 × 5\n",
       "\\begin{tabular}{lllll}\n",
       " Parameters & Coefficient & Std\\_error & T\\_value & Significant\\_at\\_5p\\_level\\\\\n",
       " <chr> & <dbl> & <dbl> & <dbl> & <chr>\\\\\n",
       "\\hline\n",
       "\t mu10  &  0.0019363986 & 0.0011901400 &  1.6270343 & Not Statistically Significant\\\\\n",
       "\t mu20  &  0.0009500008 & 0.0005055014 &  1.8793238 & Stat significant at 10\\%      \\\\\n",
       "\t phi11 &  0.0863778175 & 0.0349677743 &  2.4702120 & Stat significant at 5\\%       \\\\\n",
       "\t phi12 & -0.0575559726 & 0.0797790081 & -0.7214426 & Not Statistically Significant\\\\\n",
       "\t phi21 & -0.0182540848 & 0.0148522516 & -1.2290449 & Not Statistically Significant\\\\\n",
       "\t phi22 & -0.0374252051 & 0.0338854252 & -1.1044632 & Not Statistically Significant\\\\\n",
       "\t a11   &  0.3234649720 & 0.0253858891 & 12.7419201 & Stat significant at 1\\%       \\\\\n",
       "\t a12   & -0.0227861873 & 0.0193418612 & -1.1780762 & Not Statistically Significant\\\\\n",
       "\t a21   &  0.1553224018 & 0.0734738532 &  2.1139820 & Stat significant at 5\\%       \\\\\n",
       "\t a22   &  0.2661678596 & 0.0387491477 &  6.8689991 & Stat significant at 1\\%       \\\\\n",
       "\t g11   &  0.9385520946 & 0.0123633822 & 75.9138626 & Stat significant at 1\\%       \\\\\n",
       "\t g12   &  0.0050934785 & 0.0096906839 &  0.5256057 & Not Statistically Significant\\\\\n",
       "\t g21   & -0.0549642824 & 0.0709258489 & -0.7749542 & Not Statistically Significant\\\\\n",
       "\t g22   &  0.8748624653 & 0.0496926523 & 17.6054693 & Stat significant at 1\\%       \\\\\n",
       "\\end{tabular}\n"
      ],
      "text/markdown": [
       "\n",
       "A data.frame: 14 × 5\n",
       "\n",
       "| Parameters &lt;chr&gt; | Coefficient &lt;dbl&gt; | Std_error &lt;dbl&gt; | T_value &lt;dbl&gt; | Significant_at_5p_level &lt;chr&gt; |\n",
       "|---|---|---|---|---|\n",
       "| mu10  |  0.0019363986 | 0.0011901400 |  1.6270343 | Not Statistically Significant |\n",
       "| mu20  |  0.0009500008 | 0.0005055014 |  1.8793238 | Stat significant at 10%       |\n",
       "| phi11 |  0.0863778175 | 0.0349677743 |  2.4702120 | Stat significant at 5%        |\n",
       "| phi12 | -0.0575559726 | 0.0797790081 | -0.7214426 | Not Statistically Significant |\n",
       "| phi21 | -0.0182540848 | 0.0148522516 | -1.2290449 | Not Statistically Significant |\n",
       "| phi22 | -0.0374252051 | 0.0338854252 | -1.1044632 | Not Statistically Significant |\n",
       "| a11   |  0.3234649720 | 0.0253858891 | 12.7419201 | Stat significant at 1%        |\n",
       "| a12   | -0.0227861873 | 0.0193418612 | -1.1780762 | Not Statistically Significant |\n",
       "| a21   |  0.1553224018 | 0.0734738532 |  2.1139820 | Stat significant at 5%        |\n",
       "| a22   |  0.2661678596 | 0.0387491477 |  6.8689991 | Stat significant at 1%        |\n",
       "| g11   |  0.9385520946 | 0.0123633822 | 75.9138626 | Stat significant at 1%        |\n",
       "| g12   |  0.0050934785 | 0.0096906839 |  0.5256057 | Not Statistically Significant |\n",
       "| g21   | -0.0549642824 | 0.0709258489 | -0.7749542 | Not Statistically Significant |\n",
       "| g22   |  0.8748624653 | 0.0496926523 | 17.6054693 | Stat significant at 1%        |\n",
       "\n"
      ],
      "text/plain": [
       "   Parameters Coefficient   Std_error    T_value   \n",
       "1  mu10        0.0019363986 0.0011901400  1.6270343\n",
       "2  mu20        0.0009500008 0.0005055014  1.8793238\n",
       "3  phi11       0.0863778175 0.0349677743  2.4702120\n",
       "4  phi12      -0.0575559726 0.0797790081 -0.7214426\n",
       "5  phi21      -0.0182540848 0.0148522516 -1.2290449\n",
       "6  phi22      -0.0374252051 0.0338854252 -1.1044632\n",
       "7  a11         0.3234649720 0.0253858891 12.7419201\n",
       "8  a12        -0.0227861873 0.0193418612 -1.1780762\n",
       "9  a21         0.1553224018 0.0734738532  2.1139820\n",
       "10 a22         0.2661678596 0.0387491477  6.8689991\n",
       "11 g11         0.9385520946 0.0123633822 75.9138626\n",
       "12 g12         0.0050934785 0.0096906839  0.5256057\n",
       "13 g21        -0.0549642824 0.0709258489 -0.7749542\n",
       "14 g22         0.8748624653 0.0496926523 17.6054693\n",
       "   Significant_at_5p_level      \n",
       "1  Not Statistically Significant\n",
       "2  Stat significant at 10%      \n",
       "3  Stat significant at 5%       \n",
       "4  Not Statistically Significant\n",
       "5  Not Statistically Significant\n",
       "6  Not Statistically Significant\n",
       "7  Stat significant at 1%       \n",
       "8  Not Statistically Significant\n",
       "9  Stat significant at 5%       \n",
       "10 Stat significant at 1%       \n",
       "11 Stat significant at 1%       \n",
       "12 Not Statistically Significant\n",
       "13 Not Statistically Significant\n",
       "14 Stat significant at 1%       "
      ]
     },
     "metadata": {},
     "output_type": "display_data"
    }
   ],
   "source": [
    "bekk6 <- data.frame(Parameters = c(\"mu10\",\"mu20\",\"phi11\",\"phi12\",\"phi21\",\"phi22\",\"a11\",\"a12\",\"a21\",\"a22\",\"g11\",\"g12\",\"g21\",\"g22\"),\n",
    "                   Coefficient = c(summary(var_bekk6)$varresult$lc$coefficients[\"const\",\"Estimate\"],summary(var_bekk6)$varresult$chfgbp$coefficients[\"const\",\"Estimate\"],\n",
    "                                   summary(var_bekk6)$varresult$lc$coefficients[\"lc.l1\",\"Estimate\"],summary(var_bekk6)$varresult$lc$coefficients[\"chfgbp.l1\",\"Estimate\"],\n",
    "                                   summary(var_bekk6)$varresult$chfgbp$coefficients[\"lc.l1\",\"Estimate\"],summary(var_bekk6)$varresult$chfgbp$coefficients[\"chfgbp.l1\",\"Estimate\"],\n",
    "                                   bekk6_fit$A[1,1],bekk6_fit$A[1,2],bekk6_fit$A[2,1],bekk6_fit$A[2,2],bekk6_fit$G[1,1],bekk6_fit$G[1,2],bekk6_fit$G[2,1],bekk6_fit$G[2,2]),\n",
    "                   Std_error = c(summary(var_bekk6)$varresult$lc$coefficients[\"const\",\"Std. Error\"],summary(var_bekk6)$varresult$chfgbp$coefficients[\"const\",\"Std. Error\"],\n",
    "                                   summary(var_bekk6)$varresult$lc$coefficients[\"lc.l1\",\"Std. Error\"],summary(var_bekk6)$varresult$lc$coefficients[\"chfgbp.l1\",\"Std. Error\"],\n",
    "                                   summary(var_bekk6)$varresult$chfgbp$coefficients[\"lc.l1\",\"Std. Error\"],summary(var_bekk6)$varresult$chfgbp$coefficients[\"chfgbp.l1\",\"Std. Error\"],\n",
    "                                   bekk6_fit$A_sd[1,1],bekk6_fit$A_sd[1,2],bekk6_fit$A_sd[2,1],bekk6_fit$A_sd[2,2],bekk6_fit$G_sd[1,1],bekk6_fit$G_sd[1,2],bekk6_fit$G_sd[2,1],bekk6_fit$G_sd[2,2]),\n",
    "                   T_value = c(summary(var_bekk6)$varresult$lc$coefficients[\"const\",\"t value\"],summary(var_bekk6)$varresult$chfgbp$coefficients[\"const\",\"t value\"],\n",
    "                                   summary(var_bekk6)$varresult$lc$coefficients[\"lc.l1\",\"t value\"],summary(var_bekk6)$varresult$lc$coefficients[\"chfgbp.l1\",\"t value\"],\n",
    "                                   summary(var_bekk6)$varresult$chfgbp$coefficients[\"lc.l1\",\"t value\"],summary(var_bekk6)$varresult$chfgbp$coefficients[\"chfgbp.l1\",\"t value\"],\n",
    "                                   bekk6_fit$A_t[1,1],bekk6_fit$A_t[1,2],bekk6_fit$A_t[2,1],bekk6_fit$A_t[2,2],bekk6_fit$G_t[1,1],bekk6_fit$G_t[1,2],bekk6_fit$G_t[2,1],bekk6_fit$G_t[2,2]))\n",
    "\n",
    "bekk6$Significant_at_5p_level[abs(bekk6$T_value) >= 2.58 ] <- \"Stat significant at 1%\"\n",
    "bekk6$Significant_at_5p_level[abs(bekk6$T_value) > 1.96 & abs(bekk6$T_value) < 2.58] <- \"Stat significant at 5%\"\n",
    "bekk6$Significant_at_5p_level[abs(bekk6$T_value) > 1.645 & abs(bekk6$T_value) <= 1.96 ] <- \"Stat significant at 10%\"\n",
    "bekk6$Significant_at_5p_level[abs(bekk6$T_value) <= 1.645] <- \"Not Statistically Significant\"\n",
    "bekk6"
   ]
  },
  {
   "cell_type": "code",
   "execution_count": 61,
   "id": "bc03b1da-a659-4b93-8d0c-4aac2b195f76",
   "metadata": {},
   "outputs": [
    {
     "data": {
      "text/plain": [
       "\n",
       "\tGranger causality H0: lc do not Granger-cause chfgbp\n",
       "\n",
       "data:  VAR object var_bekk6\n",
       "F-Test = 1.5106, df1 = 1, df2 = 1748, p-value = 0.2192\n"
      ]
     },
     "metadata": {},
     "output_type": "display_data"
    },
    {
     "data": {
      "text/plain": [
       "\n",
       "\tGranger causality H0: chfgbp do not Granger-cause lc\n",
       "\n",
       "data:  VAR object var_bekk6\n",
       "F-Test = 0.52048, df1 = 1, df2 = 1748, p-value = 0.4707\n"
      ]
     },
     "metadata": {},
     "output_type": "display_data"
    }
   ],
   "source": [
    "causality(var_bekk6,cause = \"lc\")$Granger\n",
    "causality(var_bekk6,cause = \"chfgbp\")$Granger"
   ]
  },
  {
   "cell_type": "markdown",
   "id": "19baf828-7e3a-4f35-9240-f4b1d733aa26",
   "metadata": {},
   "source": [
    "## (d) VAR-BEKK Model for London Cocoa - GHSGBP"
   ]
  },
  {
   "cell_type": "code",
   "execution_count": 62,
   "id": "dbf8cc5e-d65c-4ce2-979a-2337bc636a3f",
   "metadata": {},
   "outputs": [
    {
     "data": {
      "text/plain": [
       "                     lc       ghsgbp\n",
       "2007-07-13 -0.034778360 -0.008009262\n",
       "2007-07-20  0.003623192 -0.008376197\n",
       "2007-07-27 -0.061529190  0.011804209\n",
       "2007-08-03 -0.036225204 -0.009823491\n",
       "2007-08-10 -0.027288202  0.002725996\n",
       "2007-08-17 -0.023847683  0.028262443"
      ]
     },
     "metadata": {},
     "output_type": "display_data"
    }
   ],
   "source": [
    "bekk8data <- na.omit(merge(cr_w[,2],fr_w[,8]))\n",
    "head(bekk8data)"
   ]
  },
  {
   "cell_type": "code",
   "execution_count": 63,
   "id": "8a11430c-53d2-4893-833e-494a0903229d",
   "metadata": {},
   "outputs": [
    {
     "data": {
      "text/html": [
       "<dl>\n",
       "\t<dt>$selection</dt>\n",
       "\t\t<dd><style>\n",
       ".dl-inline {width: auto; margin:0; padding: 0}\n",
       ".dl-inline>dt, .dl-inline>dd {float: none; width: auto; display: inline-block}\n",
       ".dl-inline>dt::after {content: \":\\0020\"; padding-right: .5ex}\n",
       ".dl-inline>dt:not(:first-of-type) {padding-left: .5ex}\n",
       "</style><dl class=dl-inline><dt>AIC(n)</dt><dd>1</dd><dt>HQ(n)</dt><dd>1</dd><dt>SC(n)</dt><dd>1</dd><dt>FPE(n)</dt><dd>1</dd></dl>\n",
       "</dd>\n",
       "\t<dt>$criteria</dt>\n",
       "\t\t<dd><table class=\"dataframe\">\n",
       "<caption>A matrix: 4 × 4 of type dbl</caption>\n",
       "<thead>\n",
       "\t<tr><th></th><th scope=col>1</th><th scope=col>2</th><th scope=col>3</th><th scope=col>4</th></tr>\n",
       "</thead>\n",
       "<tbody>\n",
       "\t<tr><th scope=row>AIC(n)</th><td>-1.391223e+01</td><td>-1.390688e+01</td><td>-1.390022e+01</td><td>-1.390954e+01</td></tr>\n",
       "\t<tr><th scope=row>HQ(n)</th><td>-1.389969e+01</td><td>-1.388599e+01</td><td>-1.387097e+01</td><td>-1.387193e+01</td></tr>\n",
       "\t<tr><th scope=row>SC(n)</th><td>-1.387946e+01</td><td>-1.385227e+01</td><td>-1.382376e+01</td><td>-1.381124e+01</td></tr>\n",
       "\t<tr><th scope=row>FPE(n)</th><td> 9.078124e-07</td><td> 9.126797e-07</td><td> 9.187800e-07</td><td> 9.102604e-07</td></tr>\n",
       "</tbody>\n",
       "</table>\n",
       "</dd>\n",
       "</dl>\n"
      ],
      "text/latex": [
       "\\begin{description}\n",
       "\\item[\\$selection] \\begin{description*}\n",
       "\\item[AIC(n)] 1\n",
       "\\item[HQ(n)] 1\n",
       "\\item[SC(n)] 1\n",
       "\\item[FPE(n)] 1\n",
       "\\end{description*}\n",
       "\n",
       "\\item[\\$criteria] A matrix: 4 × 4 of type dbl\n",
       "\\begin{tabular}{r|llll}\n",
       "  & 1 & 2 & 3 & 4\\\\\n",
       "\\hline\n",
       "\tAIC(n) & -1.391223e+01 & -1.390688e+01 & -1.390022e+01 & -1.390954e+01\\\\\n",
       "\tHQ(n) & -1.389969e+01 & -1.388599e+01 & -1.387097e+01 & -1.387193e+01\\\\\n",
       "\tSC(n) & -1.387946e+01 & -1.385227e+01 & -1.382376e+01 & -1.381124e+01\\\\\n",
       "\tFPE(n) &  9.078124e-07 &  9.126797e-07 &  9.187800e-07 &  9.102604e-07\\\\\n",
       "\\end{tabular}\n",
       "\n",
       "\\end{description}\n"
      ],
      "text/markdown": [
       "$selection\n",
       ":   AIC(n)\n",
       ":   1HQ(n)\n",
       ":   1SC(n)\n",
       ":   1FPE(n)\n",
       ":   1\n",
       "\n",
       "\n",
       "$criteria\n",
       ":   \n",
       "A matrix: 4 × 4 of type dbl\n",
       "\n",
       "| <!--/--> | 1 | 2 | 3 | 4 |\n",
       "|---|---|---|---|---|\n",
       "| AIC(n) | -1.391223e+01 | -1.390688e+01 | -1.390022e+01 | -1.390954e+01 |\n",
       "| HQ(n) | -1.389969e+01 | -1.388599e+01 | -1.387097e+01 | -1.387193e+01 |\n",
       "| SC(n) | -1.387946e+01 | -1.385227e+01 | -1.382376e+01 | -1.381124e+01 |\n",
       "| FPE(n) |  9.078124e-07 |  9.126797e-07 |  9.187800e-07 |  9.102604e-07 |\n",
       "\n",
       "\n",
       "\n",
       "\n"
      ],
      "text/plain": [
       "$selection\n",
       "AIC(n)  HQ(n)  SC(n) FPE(n) \n",
       "     1      1      1      1 \n",
       "\n",
       "$criteria\n",
       "                   1             2             3             4\n",
       "AIC(n) -1.391223e+01 -1.390688e+01 -1.390022e+01 -1.390954e+01\n",
       "HQ(n)  -1.389969e+01 -1.388599e+01 -1.387097e+01 -1.387193e+01\n",
       "SC(n)  -1.387946e+01 -1.385227e+01 -1.382376e+01 -1.381124e+01\n",
       "FPE(n)  9.078124e-07  9.126797e-07  9.187800e-07  9.102604e-07\n"
      ]
     },
     "metadata": {},
     "output_type": "display_data"
    }
   ],
   "source": [
    "VARselect(bekk8data,type = \"const\",lag.max = 4)"
   ]
  },
  {
   "cell_type": "code",
   "execution_count": 64,
   "id": "123f8c81-62a1-4361-b714-4df57d387c71",
   "metadata": {},
   "outputs": [
    {
     "data": {
      "text/plain": [
       "\n",
       "VAR Estimation Results:\n",
       "========================= \n",
       "Endogenous variables: lc, ghsgbp \n",
       "Deterministic variables: const \n",
       "Sample size: 877 \n",
       "Log Likelihood: 3618.355 \n",
       "Roots of the characteristic polynomial:\n",
       "0.07147 0.07147\n",
       "Call:\n",
       "VAR(y = bekk8data, p = 1, type = \"const\")\n",
       "\n",
       "\n",
       "Estimation results for equation lc: \n",
       "=================================== \n",
       "lc = lc.l1 + ghsgbp.l1 + const \n",
       "\n",
       "          Estimate Std. Error t value Pr(>|t|)  \n",
       "lc.l1     0.083684   0.034791   2.405   0.0164 *\n",
       "ghsgbp.l1 0.081355   0.043751   1.859   0.0633 .\n",
       "const     0.002097   0.001192   1.760   0.0788 .\n",
       "---\n",
       "Signif. codes:  0 ‘***’ 0.001 ‘**’ 0.01 ‘*’ 0.05 ‘.’ 0.1 ‘ ’ 1\n",
       "\n",
       "\n",
       "Residual standard error: 0.03505 on 874 degrees of freedom\n",
       "Multiple R-Squared: 0.01056,\tAdjusted R-squared: 0.008296 \n",
       "F-statistic: 4.664 on 2 and 874 DF,  p-value: 0.009663 \n",
       "\n",
       "\n",
       "Estimation results for equation ghsgbp: \n",
       "======================================= \n",
       "ghsgbp = lc.l1 + ghsgbp.l1 + const \n",
       "\n",
       "            Estimate Std. Error t value Pr(>|t|)  \n",
       "lc.l1     -0.0130876  0.0268671  -0.487   0.6263  \n",
       "ghsgbp.l1  0.0483105  0.0337863   1.430   0.1531  \n",
       "const     -0.0023668  0.0009202  -2.572   0.0103 *\n",
       "---\n",
       "Signif. codes:  0 ‘***’ 0.001 ‘**’ 0.01 ‘*’ 0.05 ‘.’ 0.1 ‘ ’ 1\n",
       "\n",
       "\n",
       "Residual standard error: 0.02707 on 874 degrees of freedom\n",
       "Multiple R-Squared: 0.002589,\tAdjusted R-squared: 0.0003069 \n",
       "F-statistic: 1.134 on 2 and 874 DF,  p-value: 0.3221 \n",
       "\n",
       "\n",
       "\n",
       "Covariance matrix of residuals:\n",
       "              lc    ghsgbp\n",
       "lc     1.229e-03 1.055e-05\n",
       "ghsgbp 1.055e-05 7.328e-04\n",
       "\n",
       "Correlation matrix of residuals:\n",
       "            lc  ghsgbp\n",
       "lc     1.00000 0.01112\n",
       "ghsgbp 0.01112 1.00000\n",
       "\n"
      ]
     },
     "metadata": {},
     "output_type": "display_data"
    }
   ],
   "source": [
    "var_bekk8<-VAR(bekk8data,p = 1,type = \"const\")\n",
    "res_bekk8 <- residuals(var_bekk8)\n",
    "res_bekk8 <- as.data.frame(res_bekk8)\n",
    "summary(var_bekk8)"
   ]
  },
  {
   "cell_type": "code",
   "execution_count": 65,
   "id": "2aef57a4-4182-4eb0-aab6-ee58746fd531",
   "metadata": {},
   "outputs": [],
   "source": [
    "ind_var8 <- index(bekk8data)[-1]"
   ]
  },
  {
   "cell_type": "code",
   "execution_count": 66,
   "id": "5567c9d9-1c13-493d-ba29-88dc5c0b2317",
   "metadata": {},
   "outputs": [
    {
     "data": {
      "text/html": [
       "<table class=\"dataframe\">\n",
       "<caption>A matrix: 2 × 2 of type dbl</caption>\n",
       "<tbody>\n",
       "\t<tr><td>0.266110679</td><td>-0.02001824</td></tr>\n",
       "\t<tr><td>0.005395679</td><td> 0.64796087</td></tr>\n",
       "</tbody>\n",
       "</table>\n"
      ],
      "text/latex": [
       "A matrix: 2 × 2 of type dbl\n",
       "\\begin{tabular}{ll}\n",
       "\t 0.266110679 & -0.02001824\\\\\n",
       "\t 0.005395679 &  0.64796087\\\\\n",
       "\\end{tabular}\n"
      ],
      "text/markdown": [
       "\n",
       "A matrix: 2 × 2 of type dbl\n",
       "\n",
       "| 0.266110679 | -0.02001824 |\n",
       "| 0.005395679 |  0.64796087 |\n",
       "\n"
      ],
      "text/plain": [
       "     [,1]        [,2]       \n",
       "[1,] 0.266110679 -0.02001824\n",
       "[2,] 0.005395679  0.64796087"
      ]
     },
     "metadata": {},
     "output_type": "display_data"
    },
    {
     "data": {
      "text/html": [
       "<table class=\"dataframe\">\n",
       "<caption>A matrix: 2 × 2 of type dbl</caption>\n",
       "<tbody>\n",
       "\t<tr><td>13.2121534</td><td>-1.133803</td></tr>\n",
       "\t<tr><td> 0.1152528</td><td>26.687812</td></tr>\n",
       "</tbody>\n",
       "</table>\n"
      ],
      "text/latex": [
       "A matrix: 2 × 2 of type dbl\n",
       "\\begin{tabular}{ll}\n",
       "\t 13.2121534 & -1.133803\\\\\n",
       "\t  0.1152528 & 26.687812\\\\\n",
       "\\end{tabular}\n"
      ],
      "text/markdown": [
       "\n",
       "A matrix: 2 × 2 of type dbl\n",
       "\n",
       "| 13.2121534 | -1.133803 |\n",
       "|  0.1152528 | 26.687812 |\n",
       "\n"
      ],
      "text/plain": [
       "     [,1]       [,2]     \n",
       "[1,] 13.2121534 -1.133803\n",
       "[2,]  0.1152528 26.687812"
      ]
     },
     "metadata": {},
     "output_type": "display_data"
    },
    {
     "data": {
      "text/html": [
       "<table class=\"dataframe\">\n",
       "<caption>A matrix: 2 × 2 of type dbl</caption>\n",
       "<tbody>\n",
       "\t<tr><td>0.956478154</td><td>0.005139544</td></tr>\n",
       "\t<tr><td>0.001962402</td><td>0.754858797</td></tr>\n",
       "</tbody>\n",
       "</table>\n"
      ],
      "text/latex": [
       "A matrix: 2 × 2 of type dbl\n",
       "\\begin{tabular}{ll}\n",
       "\t 0.956478154 & 0.005139544\\\\\n",
       "\t 0.001962402 & 0.754858797\\\\\n",
       "\\end{tabular}\n"
      ],
      "text/markdown": [
       "\n",
       "A matrix: 2 × 2 of type dbl\n",
       "\n",
       "| 0.956478154 | 0.005139544 |\n",
       "| 0.001962402 | 0.754858797 |\n",
       "\n"
      ],
      "text/plain": [
       "     [,1]        [,2]       \n",
       "[1,] 0.956478154 0.005139544\n",
       "[2,] 0.001962402 0.754858797"
      ]
     },
     "metadata": {},
     "output_type": "display_data"
    },
    {
     "data": {
      "text/html": [
       "<table class=\"dataframe\">\n",
       "<caption>A matrix: 2 × 2 of type dbl</caption>\n",
       "<tbody>\n",
       "\t<tr><td>110.16416748</td><td> 0.3619349</td></tr>\n",
       "\t<tr><td>  0.06344733</td><td>32.4602781</td></tr>\n",
       "</tbody>\n",
       "</table>\n"
      ],
      "text/latex": [
       "A matrix: 2 × 2 of type dbl\n",
       "\\begin{tabular}{ll}\n",
       "\t 110.16416748 &  0.3619349\\\\\n",
       "\t   0.06344733 & 32.4602781\\\\\n",
       "\\end{tabular}\n"
      ],
      "text/markdown": [
       "\n",
       "A matrix: 2 × 2 of type dbl\n",
       "\n",
       "| 110.16416748 |  0.3619349 |\n",
       "|   0.06344733 | 32.4602781 |\n",
       "\n"
      ],
      "text/plain": [
       "     [,1]         [,2]      \n",
       "[1,] 110.16416748  0.3619349\n",
       "[2,]   0.06344733 32.4602781"
      ]
     },
     "metadata": {},
     "output_type": "display_data"
    }
   ],
   "source": [
    "res_bekk8 <- xts(res_bekk8,order.by = ind_var8)\n",
    "bekk_spec <- bekk_spec(model = list(type = \"bekk\",asymmetric = F))\n",
    "bekk8_fit <- bekk_fit(spec = bekk_spec,data = res_bekk8)\n",
    "bekk8_fit$A\n",
    "bekk8_fit$A_t\n",
    "bekk8_fit$G\n",
    "bekk8_fit$G_t"
   ]
  },
  {
   "cell_type": "markdown",
   "id": "f8f05fc0-3a5e-47df-bac5-9a821292a855",
   "metadata": {},
   "source": [
    "### VAR-BEKK Model Table for London Cocoa - GHSGBP"
   ]
  },
  {
   "cell_type": "code",
   "execution_count": 67,
   "id": "e4757d29-a918-4bbe-8b80-3286874c7bff",
   "metadata": {},
   "outputs": [
    {
     "data": {
      "text/html": [
       "<table class=\"dataframe\">\n",
       "<caption>A data.frame: 14 × 5</caption>\n",
       "<thead>\n",
       "\t<tr><th scope=col>Parameters</th><th scope=col>Coefficient</th><th scope=col>Std_error</th><th scope=col>T_value</th><th scope=col>Significant_at_5p_level</th></tr>\n",
       "\t<tr><th scope=col>&lt;chr&gt;</th><th scope=col>&lt;dbl&gt;</th><th scope=col>&lt;dbl&gt;</th><th scope=col>&lt;dbl&gt;</th><th scope=col>&lt;chr&gt;</th></tr>\n",
       "</thead>\n",
       "<tbody>\n",
       "\t<tr><td>mu10 </td><td> 0.002096975</td><td>0.0011916491</td><td>  1.75972543</td><td>Stat significant at 10%      </td></tr>\n",
       "\t<tr><td>mu20 </td><td>-0.002366809</td><td>0.0009202323</td><td> -2.57196915</td><td>Stat significant at 5%       </td></tr>\n",
       "\t<tr><td>phi11</td><td> 0.083684469</td><td>0.0347913792</td><td>  2.40532197</td><td>Stat significant at 5%       </td></tr>\n",
       "\t<tr><td>phi12</td><td> 0.081355452</td><td>0.0437513415</td><td>  1.85949618</td><td>Stat significant at 10%      </td></tr>\n",
       "\t<tr><td>phi21</td><td>-0.013087609</td><td>0.0268670953</td><td> -0.48712406</td><td>Not Statistically Significant</td></tr>\n",
       "\t<tr><td>phi22</td><td> 0.048310468</td><td>0.0337862853</td><td>  1.42988399</td><td>Not Statistically Significant</td></tr>\n",
       "\t<tr><td>a11  </td><td> 0.266110679</td><td>0.0201413555</td><td> 13.21215339</td><td>Stat significant at 1%       </td></tr>\n",
       "\t<tr><td>a12  </td><td>-0.020018243</td><td>0.0176558314</td><td> -1.13380347</td><td>Not Statistically Significant</td></tr>\n",
       "\t<tr><td>a21  </td><td> 0.005395679</td><td>0.0468160412</td><td>  0.11525278</td><td>Not Statistically Significant</td></tr>\n",
       "\t<tr><td>a22  </td><td> 0.647960866</td><td>0.0242792803</td><td> 26.68781191</td><td>Stat significant at 1%       </td></tr>\n",
       "\t<tr><td>g11  </td><td> 0.956478154</td><td>0.0086822982</td><td>110.16416748</td><td>Stat significant at 1%       </td></tr>\n",
       "\t<tr><td>g12  </td><td> 0.005139544</td><td>0.0142001878</td><td>  0.36193494</td><td>Not Statistically Significant</td></tr>\n",
       "\t<tr><td>g21  </td><td> 0.001962402</td><td>0.0309296281</td><td>  0.06344733</td><td>Not Statistically Significant</td></tr>\n",
       "\t<tr><td>g22  </td><td> 0.754858797</td><td>0.0232548469</td><td> 32.46027814</td><td>Stat significant at 1%       </td></tr>\n",
       "</tbody>\n",
       "</table>\n"
      ],
      "text/latex": [
       "A data.frame: 14 × 5\n",
       "\\begin{tabular}{lllll}\n",
       " Parameters & Coefficient & Std\\_error & T\\_value & Significant\\_at\\_5p\\_level\\\\\n",
       " <chr> & <dbl> & <dbl> & <dbl> & <chr>\\\\\n",
       "\\hline\n",
       "\t mu10  &  0.002096975 & 0.0011916491 &   1.75972543 & Stat significant at 10\\%      \\\\\n",
       "\t mu20  & -0.002366809 & 0.0009202323 &  -2.57196915 & Stat significant at 5\\%       \\\\\n",
       "\t phi11 &  0.083684469 & 0.0347913792 &   2.40532197 & Stat significant at 5\\%       \\\\\n",
       "\t phi12 &  0.081355452 & 0.0437513415 &   1.85949618 & Stat significant at 10\\%      \\\\\n",
       "\t phi21 & -0.013087609 & 0.0268670953 &  -0.48712406 & Not Statistically Significant\\\\\n",
       "\t phi22 &  0.048310468 & 0.0337862853 &   1.42988399 & Not Statistically Significant\\\\\n",
       "\t a11   &  0.266110679 & 0.0201413555 &  13.21215339 & Stat significant at 1\\%       \\\\\n",
       "\t a12   & -0.020018243 & 0.0176558314 &  -1.13380347 & Not Statistically Significant\\\\\n",
       "\t a21   &  0.005395679 & 0.0468160412 &   0.11525278 & Not Statistically Significant\\\\\n",
       "\t a22   &  0.647960866 & 0.0242792803 &  26.68781191 & Stat significant at 1\\%       \\\\\n",
       "\t g11   &  0.956478154 & 0.0086822982 & 110.16416748 & Stat significant at 1\\%       \\\\\n",
       "\t g12   &  0.005139544 & 0.0142001878 &   0.36193494 & Not Statistically Significant\\\\\n",
       "\t g21   &  0.001962402 & 0.0309296281 &   0.06344733 & Not Statistically Significant\\\\\n",
       "\t g22   &  0.754858797 & 0.0232548469 &  32.46027814 & Stat significant at 1\\%       \\\\\n",
       "\\end{tabular}\n"
      ],
      "text/markdown": [
       "\n",
       "A data.frame: 14 × 5\n",
       "\n",
       "| Parameters &lt;chr&gt; | Coefficient &lt;dbl&gt; | Std_error &lt;dbl&gt; | T_value &lt;dbl&gt; | Significant_at_5p_level &lt;chr&gt; |\n",
       "|---|---|---|---|---|\n",
       "| mu10  |  0.002096975 | 0.0011916491 |   1.75972543 | Stat significant at 10%       |\n",
       "| mu20  | -0.002366809 | 0.0009202323 |  -2.57196915 | Stat significant at 5%        |\n",
       "| phi11 |  0.083684469 | 0.0347913792 |   2.40532197 | Stat significant at 5%        |\n",
       "| phi12 |  0.081355452 | 0.0437513415 |   1.85949618 | Stat significant at 10%       |\n",
       "| phi21 | -0.013087609 | 0.0268670953 |  -0.48712406 | Not Statistically Significant |\n",
       "| phi22 |  0.048310468 | 0.0337862853 |   1.42988399 | Not Statistically Significant |\n",
       "| a11   |  0.266110679 | 0.0201413555 |  13.21215339 | Stat significant at 1%        |\n",
       "| a12   | -0.020018243 | 0.0176558314 |  -1.13380347 | Not Statistically Significant |\n",
       "| a21   |  0.005395679 | 0.0468160412 |   0.11525278 | Not Statistically Significant |\n",
       "| a22   |  0.647960866 | 0.0242792803 |  26.68781191 | Stat significant at 1%        |\n",
       "| g11   |  0.956478154 | 0.0086822982 | 110.16416748 | Stat significant at 1%        |\n",
       "| g12   |  0.005139544 | 0.0142001878 |   0.36193494 | Not Statistically Significant |\n",
       "| g21   |  0.001962402 | 0.0309296281 |   0.06344733 | Not Statistically Significant |\n",
       "| g22   |  0.754858797 | 0.0232548469 |  32.46027814 | Stat significant at 1%        |\n",
       "\n"
      ],
      "text/plain": [
       "   Parameters Coefficient  Std_error    T_value     \n",
       "1  mu10        0.002096975 0.0011916491   1.75972543\n",
       "2  mu20       -0.002366809 0.0009202323  -2.57196915\n",
       "3  phi11       0.083684469 0.0347913792   2.40532197\n",
       "4  phi12       0.081355452 0.0437513415   1.85949618\n",
       "5  phi21      -0.013087609 0.0268670953  -0.48712406\n",
       "6  phi22       0.048310468 0.0337862853   1.42988399\n",
       "7  a11         0.266110679 0.0201413555  13.21215339\n",
       "8  a12        -0.020018243 0.0176558314  -1.13380347\n",
       "9  a21         0.005395679 0.0468160412   0.11525278\n",
       "10 a22         0.647960866 0.0242792803  26.68781191\n",
       "11 g11         0.956478154 0.0086822982 110.16416748\n",
       "12 g12         0.005139544 0.0142001878   0.36193494\n",
       "13 g21         0.001962402 0.0309296281   0.06344733\n",
       "14 g22         0.754858797 0.0232548469  32.46027814\n",
       "   Significant_at_5p_level      \n",
       "1  Stat significant at 10%      \n",
       "2  Stat significant at 5%       \n",
       "3  Stat significant at 5%       \n",
       "4  Stat significant at 10%      \n",
       "5  Not Statistically Significant\n",
       "6  Not Statistically Significant\n",
       "7  Stat significant at 1%       \n",
       "8  Not Statistically Significant\n",
       "9  Not Statistically Significant\n",
       "10 Stat significant at 1%       \n",
       "11 Stat significant at 1%       \n",
       "12 Not Statistically Significant\n",
       "13 Not Statistically Significant\n",
       "14 Stat significant at 1%       "
      ]
     },
     "metadata": {},
     "output_type": "display_data"
    }
   ],
   "source": [
    "bekk8 <- data.frame(Parameters = c(\"mu10\",\"mu20\",\"phi11\",\"phi12\",\"phi21\",\"phi22\",\"a11\",\"a12\",\"a21\",\"a22\",\"g11\",\"g12\",\"g21\",\"g22\"),\n",
    "                   Coefficient = c(summary(var_bekk8)$varresult$lc$coefficients[\"const\",\"Estimate\"],summary(var_bekk8)$varresult$ghsgbp$coefficients[\"const\",\"Estimate\"],\n",
    "                                   summary(var_bekk8)$varresult$lc$coefficients[\"lc.l1\",\"Estimate\"],summary(var_bekk8)$varresult$lc$coefficients[\"ghsgbp.l1\",\"Estimate\"],\n",
    "                                   summary(var_bekk8)$varresult$ghsgbp$coefficients[\"lc.l1\",\"Estimate\"],summary(var_bekk8)$varresult$ghsgbp$coefficients[\"ghsgbp.l1\",\"Estimate\"],\n",
    "                                   bekk8_fit$A[1,1],bekk8_fit$A[1,2],bekk8_fit$A[2,1],bekk8_fit$A[2,2],bekk8_fit$G[1,1],bekk8_fit$G[1,2],bekk8_fit$G[2,1],bekk8_fit$G[2,2]),\n",
    "                   Std_error = c(summary(var_bekk8)$varresult$lc$coefficients[\"const\",\"Std. Error\"],summary(var_bekk8)$varresult$ghsgbp$coefficients[\"const\",\"Std. Error\"],\n",
    "                                   summary(var_bekk8)$varresult$lc$coefficients[\"lc.l1\",\"Std. Error\"],summary(var_bekk8)$varresult$lc$coefficients[\"ghsgbp.l1\",\"Std. Error\"],\n",
    "                                   summary(var_bekk8)$varresult$ghsgbp$coefficients[\"lc.l1\",\"Std. Error\"],summary(var_bekk8)$varresult$ghsgbp$coefficients[\"ghsgbp.l1\",\"Std. Error\"],\n",
    "                                   bekk8_fit$A_sd[1,1],bekk8_fit$A_sd[1,2],bekk8_fit$A_sd[2,1],bekk8_fit$A_sd[2,2],bekk8_fit$G_sd[1,1],bekk8_fit$G_sd[1,2],bekk8_fit$G_sd[2,1],bekk8_fit$G_sd[2,2]),\n",
    "                   T_value = c(summary(var_bekk8)$varresult$lc$coefficients[\"const\",\"t value\"],summary(var_bekk8)$varresult$ghsgbp$coefficients[\"const\",\"t value\"],\n",
    "                                   summary(var_bekk8)$varresult$lc$coefficients[\"lc.l1\",\"t value\"],summary(var_bekk8)$varresult$lc$coefficients[\"ghsgbp.l1\",\"t value\"],\n",
    "                                   summary(var_bekk8)$varresult$ghsgbp$coefficients[\"lc.l1\",\"t value\"],summary(var_bekk8)$varresult$ghsgbp$coefficients[\"ghsgbp.l1\",\"t value\"],\n",
    "                                   bekk8_fit$A_t[1,1],bekk8_fit$A_t[1,2],bekk8_fit$A_t[2,1],bekk8_fit$A_t[2,2],bekk8_fit$G_t[1,1],bekk8_fit$G_t[1,2],bekk8_fit$G_t[2,1],bekk8_fit$G_t[2,2]))\n",
    "\n",
    "bekk8$Significant_at_5p_level[abs(bekk8$T_value) >= 2.58 ] <- \"Stat significant at 1%\"\n",
    "bekk8$Significant_at_5p_level[abs(bekk8$T_value) > 1.96 & abs(bekk8$T_value) < 2.58] <- \"Stat significant at 5%\"\n",
    "bekk8$Significant_at_5p_level[abs(bekk8$T_value) > 1.645 & abs(bekk8$T_value) <= 1.96 ] <- \"Stat significant at 10%\"\n",
    "bekk8$Significant_at_5p_level[abs(bekk8$T_value) <= 1.645] <- \"Not Statistically Significant\"\n",
    "bekk8"
   ]
  },
  {
   "cell_type": "code",
   "execution_count": 68,
   "id": "7992e521-2686-492a-832e-ee2637dc87df",
   "metadata": {},
   "outputs": [
    {
     "data": {
      "text/plain": [
       "\n",
       "\tGranger causality H0: lc do not Granger-cause ghsgbp\n",
       "\n",
       "data:  VAR object var_bekk8\n",
       "F-Test = 0.23729, df1 = 1, df2 = 1748, p-value = 0.6262\n"
      ]
     },
     "metadata": {},
     "output_type": "display_data"
    },
    {
     "data": {
      "text/plain": [
       "\n",
       "\tGranger causality H0: ghsgbp do not Granger-cause lc\n",
       "\n",
       "data:  VAR object var_bekk8\n",
       "F-Test = 3.4577, df1 = 1, df2 = 1748, p-value = 0.06312\n"
      ]
     },
     "metadata": {},
     "output_type": "display_data"
    }
   ],
   "source": [
    "causality(var_bekk8,cause = \"lc\")$Granger\n",
    "causality(var_bekk8,cause = \"ghsgbp\")$Granger"
   ]
  },
  {
   "cell_type": "markdown",
   "id": "79a651d6-c2da-4867-a14b-a16fcd524aae",
   "metadata": {},
   "source": [
    "# Summary of  spillovers for the weekly VAR-BEKK model"
   ]
  },
  {
   "cell_type": "code",
   "execution_count": 69,
   "id": "aafe6395-b51a-41a8-8ca1-755be8c3336d",
   "metadata": {},
   "outputs": [],
   "source": [
    "bekk_c <- rep(NA,14)\n",
    "for(i in 1:14){\n",
    "    bekk_c[i] = paste0(round(bekkc[i,2],4),\" (\",round(bekkc[i,3],4),\")\")\n",
    "}\n",
    "\n",
    "bekk_1 <- rep(NA,14)\n",
    "for(i in 1:14){\n",
    "    bekk_1[i] = paste0(round(bekk1[i,2],4),\" (\",round(bekk1[i,3],4),\")\")\n",
    "}\n",
    "\n",
    "bekk_2 <- rep(NA,14)\n",
    "for(i in 1:14){\n",
    "    bekk_2[i] = paste0(round(bekk2[i,2],4),\" (\",round(bekk2[i,3],4),\")\")\n",
    "}\n",
    "\n",
    "bekk_3 <- rep(NA,14)\n",
    "for(i in 1:14){\n",
    "    bekk_3[i] = paste0(round(bekk3[i,2],4),\" (\",round(bekk3[i,3],4),\")\")\n",
    "}\n",
    "\n",
    "bekk_4 <- rep(NA,14)\n",
    "for(i in 1:14){\n",
    "    bekk_4[i] = paste0(round(bekk4[i,2],4),\" (\",round(bekk4[i,3],4),\")\")\n",
    "}\n",
    "\n",
    "bekk_5 <- rep(NA,14)\n",
    "for(i in 1:14){\n",
    "    bekk_5[i] = paste0(round(bekk5[i,2],4),\" (\",round(bekk5[i,3],4),\")\")\n",
    "}\n",
    "\n",
    "bekk_6 <- rep(NA,14)\n",
    "for(i in 1:14){\n",
    "    bekk_6[i] = paste0(round(bekk6[i,2],4),\" (\",round(bekk6[i,3],4),\")\")\n",
    "}\n",
    "\n",
    "bekk_7 <- rep(NA,26)\n",
    "for(i in 1:26){\n",
    "    bekk_7[i] = paste0(round(bekk7[i,2],4),\" (\",round(bekk7[i,3],4),\")\")\n",
    "}\n",
    "\n",
    "\n",
    "bekk_8 <- rep(NA,14)\n",
    "for(i in 1:14){\n",
    "    bekk_8[i] = paste0(round(bekk8[i,2],4),\" (\",round(bekk8[i,3],4),\")\")\n",
    "}"
   ]
  },
  {
   "cell_type": "code",
   "execution_count": 70,
   "id": "021a40e6-ad29-4ca1-8cb0-f56468ef0083",
   "metadata": {},
   "outputs": [],
   "source": [
    "parameters = c(\"mu10\",\"mu20\",\"phi11\",\"phi12\",\"phi21\",\"phi22\",\"a11\",\"a12\",\"a21\",\"a22\",\"g11\",\"g12\",\"g21\",\"g22\")\n",
    "parameters2 = c(\"mu10\",\"mu20\",\"phi11\",\"phi12\",\"phi13\",\"phi14\",\"phi15\",\"phi16\",\"phi17\",\"phi18\",\"phi21\",\"phi22\",\"phi23\",\"phi24\",\"phi25\",\"phi26\",\"phi27\",\"phi28\",\"a11\",\"a12\",\"a21\",\"a22\",\"g11\",\"g12\",\"g21\",\"g22\")"
   ]
  },
  {
   "cell_type": "code",
   "execution_count": 71,
   "id": "69eb84b2-7a5d-4373-a59a-6108be709102",
   "metadata": {},
   "outputs": [],
   "source": [
    "weekly_bekk1 <- data.frame(\"Parameters\" = parameters,\"BEKKC\" = bekk_c,\"BEKK1\" = bekk_1,\"BEKK2\" = bekk_2,\"BEKK3\" = bekk_3,\"BEKK4\" = bekk_4,\"BEKK5\" = bekk_5,\n",
    "                         \"BEKK6\" = bekk_6,\"BEKK8\" = bekk_8)\n",
    "weekly_bekk2 <- data.frame(\"Parameters\" = parameters2,\"BEKK7\" = bekk_7)"
   ]
  },
  {
   "cell_type": "code",
   "execution_count": 72,
   "id": "f3147b94-57b5-4a91-a384-3ced0838f884",
   "metadata": {},
   "outputs": [
    {
     "data": {
      "text/html": [
       "<table class=\"dataframe\">\n",
       "<caption>A data.frame: 14 × 9</caption>\n",
       "<thead>\n",
       "\t<tr><th scope=col>Parameters</th><th scope=col>BEKKC</th><th scope=col>BEKK1</th><th scope=col>BEKK2</th><th scope=col>BEKK3</th><th scope=col>BEKK4</th><th scope=col>BEKK5</th><th scope=col>BEKK6</th><th scope=col>BEKK8</th></tr>\n",
       "\t<tr><th scope=col>&lt;chr&gt;</th><th scope=col>&lt;chr&gt;</th><th scope=col>&lt;chr&gt;</th><th scope=col>&lt;chr&gt;</th><th scope=col>&lt;chr&gt;</th><th scope=col>&lt;chr&gt;</th><th scope=col>&lt;chr&gt;</th><th scope=col>&lt;chr&gt;</th><th scope=col>&lt;chr&gt;</th></tr>\n",
       "</thead>\n",
       "<tbody>\n",
       "\t<tr><td>mu10 </td><td>0.0013 (0.0013) </td><td>0.0015 (0.0013) </td><td>0.0014 (0.0013) </td><td>0.0015 (0.0013) </td><td>0.0019 (0.0012) </td><td>0.0019 (0.0012) </td><td>0.0019 (0.0012) </td><td>0.0021 (0.0012) </td></tr>\n",
       "\t<tr><td>mu20 </td><td>0.0019 (0.0012) </td><td>-3e-04 (4e-04)  </td><td>-6e-04 (5e-04)  </td><td>3e-04 (5e-04)   </td><td>6e-04 (5e-04)   </td><td>3e-04 (4e-04)   </td><td>0.001 (5e-04)   </td><td>-0.0024 (9e-04) </td></tr>\n",
       "\t<tr><td>phi11</td><td>-0.1553 (0.0782)</td><td>0.0458 (0.0364) </td><td>0.0555 (0.0361) </td><td>0.0565 (0.0353) </td><td>0.0827 (0.0349) </td><td>0.0824 (0.0353) </td><td>0.0864 (0.035)  </td><td>0.0837 (0.0348) </td></tr>\n",
       "\t<tr><td>phi12</td><td>0.2479 (0.0881) </td><td>-0.0372 (0.1096)</td><td>-0.138 (0.1019) </td><td>-0.1863 (0.0917)</td><td>0.0804 (0.0875) </td><td>0.0347 (0.1027) </td><td>-0.0576 (0.0798)</td><td>0.0814 (0.0438) </td></tr>\n",
       "\t<tr><td>phi21</td><td>-0.073 (0.07)   </td><td>-0.0072 (0.0118)</td><td>0.0137 (0.0124) </td><td>-0.0029 (0.0133)</td><td>-0.0171 (0.0135)</td><td>-0.0196 (0.0117)</td><td>-0.0183 (0.0149)</td><td>-0.0131 (0.0269)</td></tr>\n",
       "\t<tr><td>phi22</td><td>0.1581 (0.0788) </td><td>-0.0028 (0.0355)</td><td>-0.0439 (0.0351)</td><td>-0.0595 (0.0345)</td><td>-0.0324 (0.0338)</td><td>-0.0316 (0.0342)</td><td>-0.0374 (0.0339)</td><td>0.0483 (0.0338) </td></tr>\n",
       "\t<tr><td>a11  </td><td>0.0284 (0.0566) </td><td>0.3036 (0.0271) </td><td>0.301 (0.02)    </td><td>0.2691 (0.0253) </td><td>0.3015 (0.0234) </td><td>0.3104 (0.024)  </td><td>0.3235 (0.0254) </td><td>0.2661 (0.0201) </td></tr>\n",
       "\t<tr><td>a12  </td><td>-0.1379 (0.0503)</td><td>-0.0082 (0.0105)</td><td>-0.0032 (0.0095)</td><td>-0.0266 (0.0134)</td><td>-2e-04 (0.0108) </td><td>-1e-04 (0.009)  </td><td>-0.0228 (0.0193)</td><td>-0.02 (0.0177)  </td></tr>\n",
       "\t<tr><td>a21  </td><td>0.2969 (0.0525) </td><td>0.0358 (0.0885) </td><td>-0.0207 (0.0824)</td><td>0.1832 (0.0858) </td><td>0.0622 (0.0658) </td><td>0.1017 (0.0732) </td><td>0.1553 (0.0735) </td><td>0.0054 (0.0468) </td></tr>\n",
       "\t<tr><td>a22  </td><td>0.4491 (0.0519) </td><td>0.2781 (0.0284) </td><td>0.3062 (0.0258) </td><td>0.4367 (0.0256) </td><td>0.3025 (0.0243) </td><td>0.2648 (0.0199) </td><td>0.2662 (0.0387) </td><td>0.648 (0.0243)  </td></tr>\n",
       "\t<tr><td>g11  </td><td>0.9614 (0.0221) </td><td>0.9338 (0.0166) </td><td>0.9459 (0.0104) </td><td>0.9523 (0.0131) </td><td>0.945 (0.0108)  </td><td>0.9405 (0.0118) </td><td>0.9386 (0.0124) </td><td>0.9565 (0.0087) </td></tr>\n",
       "\t<tr><td>g12  </td><td>-0.0194 (0.0204)</td><td>0.0071 (0.0054) </td><td>0.0029 (0.0041) </td><td>0.0147 (0.0076) </td><td>-0.0013 (0.0047)</td><td>9e-04 (0.004)   </td><td>0.0051 (0.0097) </td><td>0.0051 (0.0142) </td></tr>\n",
       "\t<tr><td>g21  </td><td>-0.0171 (0.0206)</td><td>0.0016 (0.0483) </td><td>-0.062 (0.0399) </td><td>-0.0473 (0.0553)</td><td>0.0359 (0.0348) </td><td>-0.0038 (0.0354)</td><td>-0.055 (0.0709) </td><td>0.002 (0.0309)  </td></tr>\n",
       "\t<tr><td>g22  </td><td>0.9636 (0.0188) </td><td>0.9435 (0.0126) </td><td>0.9314 (0.0116) </td><td>0.8608 (0.0226) </td><td>0.9337 (0.012)  </td><td>0.952 (0.0081)  </td><td>0.8749 (0.0497) </td><td>0.7549 (0.0233) </td></tr>\n",
       "</tbody>\n",
       "</table>\n"
      ],
      "text/latex": [
       "A data.frame: 14 × 9\n",
       "\\begin{tabular}{lllllllll}\n",
       " Parameters & BEKKC & BEKK1 & BEKK2 & BEKK3 & BEKK4 & BEKK5 & BEKK6 & BEKK8\\\\\n",
       " <chr> & <chr> & <chr> & <chr> & <chr> & <chr> & <chr> & <chr> & <chr>\\\\\n",
       "\\hline\n",
       "\t mu10  & 0.0013 (0.0013)  & 0.0015 (0.0013)  & 0.0014 (0.0013)  & 0.0015 (0.0013)  & 0.0019 (0.0012)  & 0.0019 (0.0012)  & 0.0019 (0.0012)  & 0.0021 (0.0012) \\\\\n",
       "\t mu20  & 0.0019 (0.0012)  & -3e-04 (4e-04)   & -6e-04 (5e-04)   & 3e-04 (5e-04)    & 6e-04 (5e-04)    & 3e-04 (4e-04)    & 0.001 (5e-04)    & -0.0024 (9e-04) \\\\\n",
       "\t phi11 & -0.1553 (0.0782) & 0.0458 (0.0364)  & 0.0555 (0.0361)  & 0.0565 (0.0353)  & 0.0827 (0.0349)  & 0.0824 (0.0353)  & 0.0864 (0.035)   & 0.0837 (0.0348) \\\\\n",
       "\t phi12 & 0.2479 (0.0881)  & -0.0372 (0.1096) & -0.138 (0.1019)  & -0.1863 (0.0917) & 0.0804 (0.0875)  & 0.0347 (0.1027)  & -0.0576 (0.0798) & 0.0814 (0.0438) \\\\\n",
       "\t phi21 & -0.073 (0.07)    & -0.0072 (0.0118) & 0.0137 (0.0124)  & -0.0029 (0.0133) & -0.0171 (0.0135) & -0.0196 (0.0117) & -0.0183 (0.0149) & -0.0131 (0.0269)\\\\\n",
       "\t phi22 & 0.1581 (0.0788)  & -0.0028 (0.0355) & -0.0439 (0.0351) & -0.0595 (0.0345) & -0.0324 (0.0338) & -0.0316 (0.0342) & -0.0374 (0.0339) & 0.0483 (0.0338) \\\\\n",
       "\t a11   & 0.0284 (0.0566)  & 0.3036 (0.0271)  & 0.301 (0.02)     & 0.2691 (0.0253)  & 0.3015 (0.0234)  & 0.3104 (0.024)   & 0.3235 (0.0254)  & 0.2661 (0.0201) \\\\\n",
       "\t a12   & -0.1379 (0.0503) & -0.0082 (0.0105) & -0.0032 (0.0095) & -0.0266 (0.0134) & -2e-04 (0.0108)  & -1e-04 (0.009)   & -0.0228 (0.0193) & -0.02 (0.0177)  \\\\\n",
       "\t a21   & 0.2969 (0.0525)  & 0.0358 (0.0885)  & -0.0207 (0.0824) & 0.1832 (0.0858)  & 0.0622 (0.0658)  & 0.1017 (0.0732)  & 0.1553 (0.0735)  & 0.0054 (0.0468) \\\\\n",
       "\t a22   & 0.4491 (0.0519)  & 0.2781 (0.0284)  & 0.3062 (0.0258)  & 0.4367 (0.0256)  & 0.3025 (0.0243)  & 0.2648 (0.0199)  & 0.2662 (0.0387)  & 0.648 (0.0243)  \\\\\n",
       "\t g11   & 0.9614 (0.0221)  & 0.9338 (0.0166)  & 0.9459 (0.0104)  & 0.9523 (0.0131)  & 0.945 (0.0108)   & 0.9405 (0.0118)  & 0.9386 (0.0124)  & 0.9565 (0.0087) \\\\\n",
       "\t g12   & -0.0194 (0.0204) & 0.0071 (0.0054)  & 0.0029 (0.0041)  & 0.0147 (0.0076)  & -0.0013 (0.0047) & 9e-04 (0.004)    & 0.0051 (0.0097)  & 0.0051 (0.0142) \\\\\n",
       "\t g21   & -0.0171 (0.0206) & 0.0016 (0.0483)  & -0.062 (0.0399)  & -0.0473 (0.0553) & 0.0359 (0.0348)  & -0.0038 (0.0354) & -0.055 (0.0709)  & 0.002 (0.0309)  \\\\\n",
       "\t g22   & 0.9636 (0.0188)  & 0.9435 (0.0126)  & 0.9314 (0.0116)  & 0.8608 (0.0226)  & 0.9337 (0.012)   & 0.952 (0.0081)   & 0.8749 (0.0497)  & 0.7549 (0.0233) \\\\\n",
       "\\end{tabular}\n"
      ],
      "text/markdown": [
       "\n",
       "A data.frame: 14 × 9\n",
       "\n",
       "| Parameters &lt;chr&gt; | BEKKC &lt;chr&gt; | BEKK1 &lt;chr&gt; | BEKK2 &lt;chr&gt; | BEKK3 &lt;chr&gt; | BEKK4 &lt;chr&gt; | BEKK5 &lt;chr&gt; | BEKK6 &lt;chr&gt; | BEKK8 &lt;chr&gt; |\n",
       "|---|---|---|---|---|---|---|---|---|\n",
       "| mu10  | 0.0013 (0.0013)  | 0.0015 (0.0013)  | 0.0014 (0.0013)  | 0.0015 (0.0013)  | 0.0019 (0.0012)  | 0.0019 (0.0012)  | 0.0019 (0.0012)  | 0.0021 (0.0012)  |\n",
       "| mu20  | 0.0019 (0.0012)  | -3e-04 (4e-04)   | -6e-04 (5e-04)   | 3e-04 (5e-04)    | 6e-04 (5e-04)    | 3e-04 (4e-04)    | 0.001 (5e-04)    | -0.0024 (9e-04)  |\n",
       "| phi11 | -0.1553 (0.0782) | 0.0458 (0.0364)  | 0.0555 (0.0361)  | 0.0565 (0.0353)  | 0.0827 (0.0349)  | 0.0824 (0.0353)  | 0.0864 (0.035)   | 0.0837 (0.0348)  |\n",
       "| phi12 | 0.2479 (0.0881)  | -0.0372 (0.1096) | -0.138 (0.1019)  | -0.1863 (0.0917) | 0.0804 (0.0875)  | 0.0347 (0.1027)  | -0.0576 (0.0798) | 0.0814 (0.0438)  |\n",
       "| phi21 | -0.073 (0.07)    | -0.0072 (0.0118) | 0.0137 (0.0124)  | -0.0029 (0.0133) | -0.0171 (0.0135) | -0.0196 (0.0117) | -0.0183 (0.0149) | -0.0131 (0.0269) |\n",
       "| phi22 | 0.1581 (0.0788)  | -0.0028 (0.0355) | -0.0439 (0.0351) | -0.0595 (0.0345) | -0.0324 (0.0338) | -0.0316 (0.0342) | -0.0374 (0.0339) | 0.0483 (0.0338)  |\n",
       "| a11   | 0.0284 (0.0566)  | 0.3036 (0.0271)  | 0.301 (0.02)     | 0.2691 (0.0253)  | 0.3015 (0.0234)  | 0.3104 (0.024)   | 0.3235 (0.0254)  | 0.2661 (0.0201)  |\n",
       "| a12   | -0.1379 (0.0503) | -0.0082 (0.0105) | -0.0032 (0.0095) | -0.0266 (0.0134) | -2e-04 (0.0108)  | -1e-04 (0.009)   | -0.0228 (0.0193) | -0.02 (0.0177)   |\n",
       "| a21   | 0.2969 (0.0525)  | 0.0358 (0.0885)  | -0.0207 (0.0824) | 0.1832 (0.0858)  | 0.0622 (0.0658)  | 0.1017 (0.0732)  | 0.1553 (0.0735)  | 0.0054 (0.0468)  |\n",
       "| a22   | 0.4491 (0.0519)  | 0.2781 (0.0284)  | 0.3062 (0.0258)  | 0.4367 (0.0256)  | 0.3025 (0.0243)  | 0.2648 (0.0199)  | 0.2662 (0.0387)  | 0.648 (0.0243)   |\n",
       "| g11   | 0.9614 (0.0221)  | 0.9338 (0.0166)  | 0.9459 (0.0104)  | 0.9523 (0.0131)  | 0.945 (0.0108)   | 0.9405 (0.0118)  | 0.9386 (0.0124)  | 0.9565 (0.0087)  |\n",
       "| g12   | -0.0194 (0.0204) | 0.0071 (0.0054)  | 0.0029 (0.0041)  | 0.0147 (0.0076)  | -0.0013 (0.0047) | 9e-04 (0.004)    | 0.0051 (0.0097)  | 0.0051 (0.0142)  |\n",
       "| g21   | -0.0171 (0.0206) | 0.0016 (0.0483)  | -0.062 (0.0399)  | -0.0473 (0.0553) | 0.0359 (0.0348)  | -0.0038 (0.0354) | -0.055 (0.0709)  | 0.002 (0.0309)   |\n",
       "| g22   | 0.9636 (0.0188)  | 0.9435 (0.0126)  | 0.9314 (0.0116)  | 0.8608 (0.0226)  | 0.9337 (0.012)   | 0.952 (0.0081)   | 0.8749 (0.0497)  | 0.7549 (0.0233)  |\n",
       "\n"
      ],
      "text/plain": [
       "   Parameters BEKKC            BEKK1            BEKK2           \n",
       "1  mu10       0.0013 (0.0013)  0.0015 (0.0013)  0.0014 (0.0013) \n",
       "2  mu20       0.0019 (0.0012)  -3e-04 (4e-04)   -6e-04 (5e-04)  \n",
       "3  phi11      -0.1553 (0.0782) 0.0458 (0.0364)  0.0555 (0.0361) \n",
       "4  phi12      0.2479 (0.0881)  -0.0372 (0.1096) -0.138 (0.1019) \n",
       "5  phi21      -0.073 (0.07)    -0.0072 (0.0118) 0.0137 (0.0124) \n",
       "6  phi22      0.1581 (0.0788)  -0.0028 (0.0355) -0.0439 (0.0351)\n",
       "7  a11        0.0284 (0.0566)  0.3036 (0.0271)  0.301 (0.02)    \n",
       "8  a12        -0.1379 (0.0503) -0.0082 (0.0105) -0.0032 (0.0095)\n",
       "9  a21        0.2969 (0.0525)  0.0358 (0.0885)  -0.0207 (0.0824)\n",
       "10 a22        0.4491 (0.0519)  0.2781 (0.0284)  0.3062 (0.0258) \n",
       "11 g11        0.9614 (0.0221)  0.9338 (0.0166)  0.9459 (0.0104) \n",
       "12 g12        -0.0194 (0.0204) 0.0071 (0.0054)  0.0029 (0.0041) \n",
       "13 g21        -0.0171 (0.0206) 0.0016 (0.0483)  -0.062 (0.0399) \n",
       "14 g22        0.9636 (0.0188)  0.9435 (0.0126)  0.9314 (0.0116) \n",
       "   BEKK3            BEKK4            BEKK5            BEKK6           \n",
       "1  0.0015 (0.0013)  0.0019 (0.0012)  0.0019 (0.0012)  0.0019 (0.0012) \n",
       "2  3e-04 (5e-04)    6e-04 (5e-04)    3e-04 (4e-04)    0.001 (5e-04)   \n",
       "3  0.0565 (0.0353)  0.0827 (0.0349)  0.0824 (0.0353)  0.0864 (0.035)  \n",
       "4  -0.1863 (0.0917) 0.0804 (0.0875)  0.0347 (0.1027)  -0.0576 (0.0798)\n",
       "5  -0.0029 (0.0133) -0.0171 (0.0135) -0.0196 (0.0117) -0.0183 (0.0149)\n",
       "6  -0.0595 (0.0345) -0.0324 (0.0338) -0.0316 (0.0342) -0.0374 (0.0339)\n",
       "7  0.2691 (0.0253)  0.3015 (0.0234)  0.3104 (0.024)   0.3235 (0.0254) \n",
       "8  -0.0266 (0.0134) -2e-04 (0.0108)  -1e-04 (0.009)   -0.0228 (0.0193)\n",
       "9  0.1832 (0.0858)  0.0622 (0.0658)  0.1017 (0.0732)  0.1553 (0.0735) \n",
       "10 0.4367 (0.0256)  0.3025 (0.0243)  0.2648 (0.0199)  0.2662 (0.0387) \n",
       "11 0.9523 (0.0131)  0.945 (0.0108)   0.9405 (0.0118)  0.9386 (0.0124) \n",
       "12 0.0147 (0.0076)  -0.0013 (0.0047) 9e-04 (0.004)    0.0051 (0.0097) \n",
       "13 -0.0473 (0.0553) 0.0359 (0.0348)  -0.0038 (0.0354) -0.055 (0.0709) \n",
       "14 0.8608 (0.0226)  0.9337 (0.012)   0.952 (0.0081)   0.8749 (0.0497) \n",
       "   BEKK8           \n",
       "1  0.0021 (0.0012) \n",
       "2  -0.0024 (9e-04) \n",
       "3  0.0837 (0.0348) \n",
       "4  0.0814 (0.0438) \n",
       "5  -0.0131 (0.0269)\n",
       "6  0.0483 (0.0338) \n",
       "7  0.2661 (0.0201) \n",
       "8  -0.02 (0.0177)  \n",
       "9  0.0054 (0.0468) \n",
       "10 0.648 (0.0243)  \n",
       "11 0.9565 (0.0087) \n",
       "12 0.0051 (0.0142) \n",
       "13 0.002 (0.0309)  \n",
       "14 0.7549 (0.0233) "
      ]
     },
     "metadata": {},
     "output_type": "display_data"
    }
   ],
   "source": [
    "weekly_bekk1"
   ]
  },
  {
   "cell_type": "code",
   "execution_count": 73,
   "id": "7bf515b6-04e4-4a1f-9097-1f4e4e764acb",
   "metadata": {},
   "outputs": [
    {
     "data": {
      "text/html": [
       "<table class=\"dataframe\">\n",
       "<caption>A data.frame: 26 × 2</caption>\n",
       "<thead>\n",
       "\t<tr><th scope=col>Parameters</th><th scope=col>BEKK7</th></tr>\n",
       "\t<tr><th scope=col>&lt;chr&gt;</th><th scope=col>&lt;chr&gt;</th></tr>\n",
       "</thead>\n",
       "<tbody>\n",
       "\t<tr><td>mu10 </td><td>0.0016 (0.0014) </td></tr>\n",
       "\t<tr><td>mu20 </td><td>-0.0032 (8e-04) </td></tr>\n",
       "\t<tr><td>phi11</td><td>0.0445 (0.0349) </td></tr>\n",
       "\t<tr><td>phi12</td><td>0.0871 (0.059)  </td></tr>\n",
       "\t<tr><td>phi13</td><td>-0.0163 (0.0349)</td></tr>\n",
       "\t<tr><td>phi14</td><td>-0.0456 (0.0591)</td></tr>\n",
       "\t<tr><td>phi15</td><td>-0.0137 (0.035) </td></tr>\n",
       "\t<tr><td>phi16</td><td>-0.0738 (0.0591)</td></tr>\n",
       "\t<tr><td>phi17</td><td>-0.0121 (0.0351)</td></tr>\n",
       "\t<tr><td>phi18</td><td>0.0226 (0.0591) </td></tr>\n",
       "\t<tr><td>phi21</td><td>0.0085 (0.0199) </td></tr>\n",
       "\t<tr><td>phi22</td><td>0.0633 (0.0336) </td></tr>\n",
       "\t<tr><td>phi23</td><td>0.0049 (0.0199) </td></tr>\n",
       "\t<tr><td>phi24</td><td>0.1086 (0.0337) </td></tr>\n",
       "\t<tr><td>phi25</td><td>9e-04 (0.0199)  </td></tr>\n",
       "\t<tr><td>phi26</td><td>-0.0477 (0.0337)</td></tr>\n",
       "\t<tr><td>phi27</td><td>-0.0087 (0.02)  </td></tr>\n",
       "\t<tr><td>phi28</td><td>-0.1456 (0.0337)</td></tr>\n",
       "\t<tr><td>a11  </td><td>0.2569 (0.02)   </td></tr>\n",
       "\t<tr><td>a12  </td><td>-0.0277 (0.0093)</td></tr>\n",
       "\t<tr><td>a21  </td><td>0.0288 (0.0547) </td></tr>\n",
       "\t<tr><td>a22  </td><td>0.6804 (0.0168) </td></tr>\n",
       "\t<tr><td>g11  </td><td>0.9556 (0.0099) </td></tr>\n",
       "\t<tr><td>g12  </td><td>0.0069 (0.0068) </td></tr>\n",
       "\t<tr><td>g21  </td><td>-1e-04 (0.0348) </td></tr>\n",
       "\t<tr><td>g22  </td><td>0.7358 (0.0147) </td></tr>\n",
       "</tbody>\n",
       "</table>\n"
      ],
      "text/latex": [
       "A data.frame: 26 × 2\n",
       "\\begin{tabular}{ll}\n",
       " Parameters & BEKK7\\\\\n",
       " <chr> & <chr>\\\\\n",
       "\\hline\n",
       "\t mu10  & 0.0016 (0.0014) \\\\\n",
       "\t mu20  & -0.0032 (8e-04) \\\\\n",
       "\t phi11 & 0.0445 (0.0349) \\\\\n",
       "\t phi12 & 0.0871 (0.059)  \\\\\n",
       "\t phi13 & -0.0163 (0.0349)\\\\\n",
       "\t phi14 & -0.0456 (0.0591)\\\\\n",
       "\t phi15 & -0.0137 (0.035) \\\\\n",
       "\t phi16 & -0.0738 (0.0591)\\\\\n",
       "\t phi17 & -0.0121 (0.0351)\\\\\n",
       "\t phi18 & 0.0226 (0.0591) \\\\\n",
       "\t phi21 & 0.0085 (0.0199) \\\\\n",
       "\t phi22 & 0.0633 (0.0336) \\\\\n",
       "\t phi23 & 0.0049 (0.0199) \\\\\n",
       "\t phi24 & 0.1086 (0.0337) \\\\\n",
       "\t phi25 & 9e-04 (0.0199)  \\\\\n",
       "\t phi26 & -0.0477 (0.0337)\\\\\n",
       "\t phi27 & -0.0087 (0.02)  \\\\\n",
       "\t phi28 & -0.1456 (0.0337)\\\\\n",
       "\t a11   & 0.2569 (0.02)   \\\\\n",
       "\t a12   & -0.0277 (0.0093)\\\\\n",
       "\t a21   & 0.0288 (0.0547) \\\\\n",
       "\t a22   & 0.6804 (0.0168) \\\\\n",
       "\t g11   & 0.9556 (0.0099) \\\\\n",
       "\t g12   & 0.0069 (0.0068) \\\\\n",
       "\t g21   & -1e-04 (0.0348) \\\\\n",
       "\t g22   & 0.7358 (0.0147) \\\\\n",
       "\\end{tabular}\n"
      ],
      "text/markdown": [
       "\n",
       "A data.frame: 26 × 2\n",
       "\n",
       "| Parameters &lt;chr&gt; | BEKK7 &lt;chr&gt; |\n",
       "|---|---|\n",
       "| mu10  | 0.0016 (0.0014)  |\n",
       "| mu20  | -0.0032 (8e-04)  |\n",
       "| phi11 | 0.0445 (0.0349)  |\n",
       "| phi12 | 0.0871 (0.059)   |\n",
       "| phi13 | -0.0163 (0.0349) |\n",
       "| phi14 | -0.0456 (0.0591) |\n",
       "| phi15 | -0.0137 (0.035)  |\n",
       "| phi16 | -0.0738 (0.0591) |\n",
       "| phi17 | -0.0121 (0.0351) |\n",
       "| phi18 | 0.0226 (0.0591)  |\n",
       "| phi21 | 0.0085 (0.0199)  |\n",
       "| phi22 | 0.0633 (0.0336)  |\n",
       "| phi23 | 0.0049 (0.0199)  |\n",
       "| phi24 | 0.1086 (0.0337)  |\n",
       "| phi25 | 9e-04 (0.0199)   |\n",
       "| phi26 | -0.0477 (0.0337) |\n",
       "| phi27 | -0.0087 (0.02)   |\n",
       "| phi28 | -0.1456 (0.0337) |\n",
       "| a11   | 0.2569 (0.02)    |\n",
       "| a12   | -0.0277 (0.0093) |\n",
       "| a21   | 0.0288 (0.0547)  |\n",
       "| a22   | 0.6804 (0.0168)  |\n",
       "| g11   | 0.9556 (0.0099)  |\n",
       "| g12   | 0.0069 (0.0068)  |\n",
       "| g21   | -1e-04 (0.0348)  |\n",
       "| g22   | 0.7358 (0.0147)  |\n",
       "\n"
      ],
      "text/plain": [
       "   Parameters BEKK7           \n",
       "1  mu10       0.0016 (0.0014) \n",
       "2  mu20       -0.0032 (8e-04) \n",
       "3  phi11      0.0445 (0.0349) \n",
       "4  phi12      0.0871 (0.059)  \n",
       "5  phi13      -0.0163 (0.0349)\n",
       "6  phi14      -0.0456 (0.0591)\n",
       "7  phi15      -0.0137 (0.035) \n",
       "8  phi16      -0.0738 (0.0591)\n",
       "9  phi17      -0.0121 (0.0351)\n",
       "10 phi18      0.0226 (0.0591) \n",
       "11 phi21      0.0085 (0.0199) \n",
       "12 phi22      0.0633 (0.0336) \n",
       "13 phi23      0.0049 (0.0199) \n",
       "14 phi24      0.1086 (0.0337) \n",
       "15 phi25      9e-04 (0.0199)  \n",
       "16 phi26      -0.0477 (0.0337)\n",
       "17 phi27      -0.0087 (0.02)  \n",
       "18 phi28      -0.1456 (0.0337)\n",
       "19 a11        0.2569 (0.02)   \n",
       "20 a12        -0.0277 (0.0093)\n",
       "21 a21        0.0288 (0.0547) \n",
       "22 a22        0.6804 (0.0168) \n",
       "23 g11        0.9556 (0.0099) \n",
       "24 g12        0.0069 (0.0068) \n",
       "25 g21        -1e-04 (0.0348) \n",
       "26 g22        0.7358 (0.0147) "
      ]
     },
     "metadata": {},
     "output_type": "display_data"
    }
   ],
   "source": [
    "weekly_bekk2"
   ]
  },
  {
   "cell_type": "markdown",
   "id": "9f383cd2-98fb-4e21-8c5b-6c25a8daf546",
   "metadata": {},
   "source": [
    "# Final VAR-BEKK Table for weekly data (Table 6.7)"
   ]
  },
  {
   "cell_type": "code",
   "execution_count": 74,
   "id": "4b781019-4b21-4bad-a5a8-f78fd765cbee",
   "metadata": {},
   "outputs": [],
   "source": [
    "weekly_bekk <- data.frame(\"Parameters\" = parameters2,\n",
    "                         \"BEKKC\"=c(bekk_c[1:4],rep(NA,6),bekk_c[5:6],rep(NA,6),bekk_c[7:14]),\n",
    "                         \"BEKK1\"=c(bekk_1[1:4],rep(NA,6),bekk_1[5:6],rep(NA,6),bekk_1[7:14]),\n",
    "                         \"BEKK2\"=c(bekk_2[1:4],rep(NA,6),bekk_2[5:6],rep(NA,6),bekk_2[7:14]),\n",
    "                          \"BEKK3\"=c(bekk_3[1:4],rep(NA,6),bekk_3[5:6],rep(NA,6),bekk_3[7:14]),\n",
    "                          \"BEKK4\"=c(bekk_4[1:4],rep(NA,6),bekk_4[5:6],rep(NA,6),bekk_4[7:14]),\n",
    "                         \"BEKK5\"=c(bekk_5[1:4],rep(NA,6),bekk_5[5:6],rep(NA,6),bekk_5[7:14]),\n",
    "                          \"BEKK6\"=c(bekk_6[1:4],rep(NA,6),bekk_6[5:6],rep(NA,6),bekk_6[7:14]),\n",
    "                         \"BEKK7\" = bekk_7,\n",
    "                         \"BEKK8\" = c(bekk_8[1:4],rep(NA,6),bekk_8[5:6],rep(NA,6),bekk_8[7:14]))"
   ]
  },
  {
   "cell_type": "code",
   "execution_count": 75,
   "id": "628b6f29-7f5a-4246-84d4-2ca3c714f2fc",
   "metadata": {},
   "outputs": [
    {
     "data": {
      "text/html": [
       "<table class=\"dataframe\">\n",
       "<caption>A data.frame: 26 × 10</caption>\n",
       "<thead>\n",
       "\t<tr><th scope=col>Parameters</th><th scope=col>BEKKC</th><th scope=col>BEKK1</th><th scope=col>BEKK2</th><th scope=col>BEKK3</th><th scope=col>BEKK4</th><th scope=col>BEKK5</th><th scope=col>BEKK6</th><th scope=col>BEKK7</th><th scope=col>BEKK8</th></tr>\n",
       "\t<tr><th scope=col>&lt;chr&gt;</th><th scope=col>&lt;chr&gt;</th><th scope=col>&lt;chr&gt;</th><th scope=col>&lt;chr&gt;</th><th scope=col>&lt;chr&gt;</th><th scope=col>&lt;chr&gt;</th><th scope=col>&lt;chr&gt;</th><th scope=col>&lt;chr&gt;</th><th scope=col>&lt;chr&gt;</th><th scope=col>&lt;chr&gt;</th></tr>\n",
       "</thead>\n",
       "<tbody>\n",
       "\t<tr><td>mu10 </td><td>0.0013 (0.0013) </td><td>0.0015 (0.0013) </td><td>0.0014 (0.0013) </td><td>0.0015 (0.0013) </td><td>0.0019 (0.0012) </td><td>0.0019 (0.0012) </td><td>0.0019 (0.0012) </td><td>0.0016 (0.0014) </td><td>0.0021 (0.0012) </td></tr>\n",
       "\t<tr><td>mu20 </td><td>0.0019 (0.0012) </td><td>-3e-04 (4e-04)  </td><td>-6e-04 (5e-04)  </td><td>3e-04 (5e-04)   </td><td>6e-04 (5e-04)   </td><td>3e-04 (4e-04)   </td><td>0.001 (5e-04)   </td><td>-0.0032 (8e-04) </td><td>-0.0024 (9e-04) </td></tr>\n",
       "\t<tr><td>phi11</td><td>-0.1553 (0.0782)</td><td>0.0458 (0.0364) </td><td>0.0555 (0.0361) </td><td>0.0565 (0.0353) </td><td>0.0827 (0.0349) </td><td>0.0824 (0.0353) </td><td>0.0864 (0.035)  </td><td>0.0445 (0.0349) </td><td>0.0837 (0.0348) </td></tr>\n",
       "\t<tr><td>phi12</td><td>0.2479 (0.0881) </td><td>-0.0372 (0.1096)</td><td>-0.138 (0.1019) </td><td>-0.1863 (0.0917)</td><td>0.0804 (0.0875) </td><td>0.0347 (0.1027) </td><td>-0.0576 (0.0798)</td><td>0.0871 (0.059)  </td><td>0.0814 (0.0438) </td></tr>\n",
       "\t<tr><td>phi13</td><td>NA              </td><td>NA              </td><td>NA              </td><td>NA              </td><td>NA              </td><td>NA              </td><td>NA              </td><td>-0.0163 (0.0349)</td><td>NA              </td></tr>\n",
       "\t<tr><td>phi14</td><td>NA              </td><td>NA              </td><td>NA              </td><td>NA              </td><td>NA              </td><td>NA              </td><td>NA              </td><td>-0.0456 (0.0591)</td><td>NA              </td></tr>\n",
       "\t<tr><td>phi15</td><td>NA              </td><td>NA              </td><td>NA              </td><td>NA              </td><td>NA              </td><td>NA              </td><td>NA              </td><td>-0.0137 (0.035) </td><td>NA              </td></tr>\n",
       "\t<tr><td>phi16</td><td>NA              </td><td>NA              </td><td>NA              </td><td>NA              </td><td>NA              </td><td>NA              </td><td>NA              </td><td>-0.0738 (0.0591)</td><td>NA              </td></tr>\n",
       "\t<tr><td>phi17</td><td>NA              </td><td>NA              </td><td>NA              </td><td>NA              </td><td>NA              </td><td>NA              </td><td>NA              </td><td>-0.0121 (0.0351)</td><td>NA              </td></tr>\n",
       "\t<tr><td>phi18</td><td>NA              </td><td>NA              </td><td>NA              </td><td>NA              </td><td>NA              </td><td>NA              </td><td>NA              </td><td>0.0226 (0.0591) </td><td>NA              </td></tr>\n",
       "\t<tr><td>phi21</td><td>-0.073 (0.07)   </td><td>-0.0072 (0.0118)</td><td>0.0137 (0.0124) </td><td>-0.0029 (0.0133)</td><td>-0.0171 (0.0135)</td><td>-0.0196 (0.0117)</td><td>-0.0183 (0.0149)</td><td>0.0085 (0.0199) </td><td>-0.0131 (0.0269)</td></tr>\n",
       "\t<tr><td>phi22</td><td>0.1581 (0.0788) </td><td>-0.0028 (0.0355)</td><td>-0.0439 (0.0351)</td><td>-0.0595 (0.0345)</td><td>-0.0324 (0.0338)</td><td>-0.0316 (0.0342)</td><td>-0.0374 (0.0339)</td><td>0.0633 (0.0336) </td><td>0.0483 (0.0338) </td></tr>\n",
       "\t<tr><td>phi23</td><td>NA              </td><td>NA              </td><td>NA              </td><td>NA              </td><td>NA              </td><td>NA              </td><td>NA              </td><td>0.0049 (0.0199) </td><td>NA              </td></tr>\n",
       "\t<tr><td>phi24</td><td>NA              </td><td>NA              </td><td>NA              </td><td>NA              </td><td>NA              </td><td>NA              </td><td>NA              </td><td>0.1086 (0.0337) </td><td>NA              </td></tr>\n",
       "\t<tr><td>phi25</td><td>NA              </td><td>NA              </td><td>NA              </td><td>NA              </td><td>NA              </td><td>NA              </td><td>NA              </td><td>9e-04 (0.0199)  </td><td>NA              </td></tr>\n",
       "\t<tr><td>phi26</td><td>NA              </td><td>NA              </td><td>NA              </td><td>NA              </td><td>NA              </td><td>NA              </td><td>NA              </td><td>-0.0477 (0.0337)</td><td>NA              </td></tr>\n",
       "\t<tr><td>phi27</td><td>NA              </td><td>NA              </td><td>NA              </td><td>NA              </td><td>NA              </td><td>NA              </td><td>NA              </td><td>-0.0087 (0.02)  </td><td>NA              </td></tr>\n",
       "\t<tr><td>phi28</td><td>NA              </td><td>NA              </td><td>NA              </td><td>NA              </td><td>NA              </td><td>NA              </td><td>NA              </td><td>-0.1456 (0.0337)</td><td>NA              </td></tr>\n",
       "\t<tr><td>a11  </td><td>0.0284 (0.0566) </td><td>0.3036 (0.0271) </td><td>0.301 (0.02)    </td><td>0.2691 (0.0253) </td><td>0.3015 (0.0234) </td><td>0.3104 (0.024)  </td><td>0.3235 (0.0254) </td><td>0.2569 (0.02)   </td><td>0.2661 (0.0201) </td></tr>\n",
       "\t<tr><td>a12  </td><td>-0.1379 (0.0503)</td><td>-0.0082 (0.0105)</td><td>-0.0032 (0.0095)</td><td>-0.0266 (0.0134)</td><td>-2e-04 (0.0108) </td><td>-1e-04 (0.009)  </td><td>-0.0228 (0.0193)</td><td>-0.0277 (0.0093)</td><td>-0.02 (0.0177)  </td></tr>\n",
       "\t<tr><td>a21  </td><td>0.2969 (0.0525) </td><td>0.0358 (0.0885) </td><td>-0.0207 (0.0824)</td><td>0.1832 (0.0858) </td><td>0.0622 (0.0658) </td><td>0.1017 (0.0732) </td><td>0.1553 (0.0735) </td><td>0.0288 (0.0547) </td><td>0.0054 (0.0468) </td></tr>\n",
       "\t<tr><td>a22  </td><td>0.4491 (0.0519) </td><td>0.2781 (0.0284) </td><td>0.3062 (0.0258) </td><td>0.4367 (0.0256) </td><td>0.3025 (0.0243) </td><td>0.2648 (0.0199) </td><td>0.2662 (0.0387) </td><td>0.6804 (0.0168) </td><td>0.648 (0.0243)  </td></tr>\n",
       "\t<tr><td>g11  </td><td>0.9614 (0.0221) </td><td>0.9338 (0.0166) </td><td>0.9459 (0.0104) </td><td>0.9523 (0.0131) </td><td>0.945 (0.0108)  </td><td>0.9405 (0.0118) </td><td>0.9386 (0.0124) </td><td>0.9556 (0.0099) </td><td>0.9565 (0.0087) </td></tr>\n",
       "\t<tr><td>g12  </td><td>-0.0194 (0.0204)</td><td>0.0071 (0.0054) </td><td>0.0029 (0.0041) </td><td>0.0147 (0.0076) </td><td>-0.0013 (0.0047)</td><td>9e-04 (0.004)   </td><td>0.0051 (0.0097) </td><td>0.0069 (0.0068) </td><td>0.0051 (0.0142) </td></tr>\n",
       "\t<tr><td>g21  </td><td>-0.0171 (0.0206)</td><td>0.0016 (0.0483) </td><td>-0.062 (0.0399) </td><td>-0.0473 (0.0553)</td><td>0.0359 (0.0348) </td><td>-0.0038 (0.0354)</td><td>-0.055 (0.0709) </td><td>-1e-04 (0.0348) </td><td>0.002 (0.0309)  </td></tr>\n",
       "\t<tr><td>g22  </td><td>0.9636 (0.0188) </td><td>0.9435 (0.0126) </td><td>0.9314 (0.0116) </td><td>0.8608 (0.0226) </td><td>0.9337 (0.012)  </td><td>0.952 (0.0081)  </td><td>0.8749 (0.0497) </td><td>0.7358 (0.0147) </td><td>0.7549 (0.0233) </td></tr>\n",
       "</tbody>\n",
       "</table>\n"
      ],
      "text/latex": [
       "A data.frame: 26 × 10\n",
       "\\begin{tabular}{llllllllll}\n",
       " Parameters & BEKKC & BEKK1 & BEKK2 & BEKK3 & BEKK4 & BEKK5 & BEKK6 & BEKK7 & BEKK8\\\\\n",
       " <chr> & <chr> & <chr> & <chr> & <chr> & <chr> & <chr> & <chr> & <chr> & <chr>\\\\\n",
       "\\hline\n",
       "\t mu10  & 0.0013 (0.0013)  & 0.0015 (0.0013)  & 0.0014 (0.0013)  & 0.0015 (0.0013)  & 0.0019 (0.0012)  & 0.0019 (0.0012)  & 0.0019 (0.0012)  & 0.0016 (0.0014)  & 0.0021 (0.0012) \\\\\n",
       "\t mu20  & 0.0019 (0.0012)  & -3e-04 (4e-04)   & -6e-04 (5e-04)   & 3e-04 (5e-04)    & 6e-04 (5e-04)    & 3e-04 (4e-04)    & 0.001 (5e-04)    & -0.0032 (8e-04)  & -0.0024 (9e-04) \\\\\n",
       "\t phi11 & -0.1553 (0.0782) & 0.0458 (0.0364)  & 0.0555 (0.0361)  & 0.0565 (0.0353)  & 0.0827 (0.0349)  & 0.0824 (0.0353)  & 0.0864 (0.035)   & 0.0445 (0.0349)  & 0.0837 (0.0348) \\\\\n",
       "\t phi12 & 0.2479 (0.0881)  & -0.0372 (0.1096) & -0.138 (0.1019)  & -0.1863 (0.0917) & 0.0804 (0.0875)  & 0.0347 (0.1027)  & -0.0576 (0.0798) & 0.0871 (0.059)   & 0.0814 (0.0438) \\\\\n",
       "\t phi13 & NA               & NA               & NA               & NA               & NA               & NA               & NA               & -0.0163 (0.0349) & NA              \\\\\n",
       "\t phi14 & NA               & NA               & NA               & NA               & NA               & NA               & NA               & -0.0456 (0.0591) & NA              \\\\\n",
       "\t phi15 & NA               & NA               & NA               & NA               & NA               & NA               & NA               & -0.0137 (0.035)  & NA              \\\\\n",
       "\t phi16 & NA               & NA               & NA               & NA               & NA               & NA               & NA               & -0.0738 (0.0591) & NA              \\\\\n",
       "\t phi17 & NA               & NA               & NA               & NA               & NA               & NA               & NA               & -0.0121 (0.0351) & NA              \\\\\n",
       "\t phi18 & NA               & NA               & NA               & NA               & NA               & NA               & NA               & 0.0226 (0.0591)  & NA              \\\\\n",
       "\t phi21 & -0.073 (0.07)    & -0.0072 (0.0118) & 0.0137 (0.0124)  & -0.0029 (0.0133) & -0.0171 (0.0135) & -0.0196 (0.0117) & -0.0183 (0.0149) & 0.0085 (0.0199)  & -0.0131 (0.0269)\\\\\n",
       "\t phi22 & 0.1581 (0.0788)  & -0.0028 (0.0355) & -0.0439 (0.0351) & -0.0595 (0.0345) & -0.0324 (0.0338) & -0.0316 (0.0342) & -0.0374 (0.0339) & 0.0633 (0.0336)  & 0.0483 (0.0338) \\\\\n",
       "\t phi23 & NA               & NA               & NA               & NA               & NA               & NA               & NA               & 0.0049 (0.0199)  & NA              \\\\\n",
       "\t phi24 & NA               & NA               & NA               & NA               & NA               & NA               & NA               & 0.1086 (0.0337)  & NA              \\\\\n",
       "\t phi25 & NA               & NA               & NA               & NA               & NA               & NA               & NA               & 9e-04 (0.0199)   & NA              \\\\\n",
       "\t phi26 & NA               & NA               & NA               & NA               & NA               & NA               & NA               & -0.0477 (0.0337) & NA              \\\\\n",
       "\t phi27 & NA               & NA               & NA               & NA               & NA               & NA               & NA               & -0.0087 (0.02)   & NA              \\\\\n",
       "\t phi28 & NA               & NA               & NA               & NA               & NA               & NA               & NA               & -0.1456 (0.0337) & NA              \\\\\n",
       "\t a11   & 0.0284 (0.0566)  & 0.3036 (0.0271)  & 0.301 (0.02)     & 0.2691 (0.0253)  & 0.3015 (0.0234)  & 0.3104 (0.024)   & 0.3235 (0.0254)  & 0.2569 (0.02)    & 0.2661 (0.0201) \\\\\n",
       "\t a12   & -0.1379 (0.0503) & -0.0082 (0.0105) & -0.0032 (0.0095) & -0.0266 (0.0134) & -2e-04 (0.0108)  & -1e-04 (0.009)   & -0.0228 (0.0193) & -0.0277 (0.0093) & -0.02 (0.0177)  \\\\\n",
       "\t a21   & 0.2969 (0.0525)  & 0.0358 (0.0885)  & -0.0207 (0.0824) & 0.1832 (0.0858)  & 0.0622 (0.0658)  & 0.1017 (0.0732)  & 0.1553 (0.0735)  & 0.0288 (0.0547)  & 0.0054 (0.0468) \\\\\n",
       "\t a22   & 0.4491 (0.0519)  & 0.2781 (0.0284)  & 0.3062 (0.0258)  & 0.4367 (0.0256)  & 0.3025 (0.0243)  & 0.2648 (0.0199)  & 0.2662 (0.0387)  & 0.6804 (0.0168)  & 0.648 (0.0243)  \\\\\n",
       "\t g11   & 0.9614 (0.0221)  & 0.9338 (0.0166)  & 0.9459 (0.0104)  & 0.9523 (0.0131)  & 0.945 (0.0108)   & 0.9405 (0.0118)  & 0.9386 (0.0124)  & 0.9556 (0.0099)  & 0.9565 (0.0087) \\\\\n",
       "\t g12   & -0.0194 (0.0204) & 0.0071 (0.0054)  & 0.0029 (0.0041)  & 0.0147 (0.0076)  & -0.0013 (0.0047) & 9e-04 (0.004)    & 0.0051 (0.0097)  & 0.0069 (0.0068)  & 0.0051 (0.0142) \\\\\n",
       "\t g21   & -0.0171 (0.0206) & 0.0016 (0.0483)  & -0.062 (0.0399)  & -0.0473 (0.0553) & 0.0359 (0.0348)  & -0.0038 (0.0354) & -0.055 (0.0709)  & -1e-04 (0.0348)  & 0.002 (0.0309)  \\\\\n",
       "\t g22   & 0.9636 (0.0188)  & 0.9435 (0.0126)  & 0.9314 (0.0116)  & 0.8608 (0.0226)  & 0.9337 (0.012)   & 0.952 (0.0081)   & 0.8749 (0.0497)  & 0.7358 (0.0147)  & 0.7549 (0.0233) \\\\\n",
       "\\end{tabular}\n"
      ],
      "text/markdown": [
       "\n",
       "A data.frame: 26 × 10\n",
       "\n",
       "| Parameters &lt;chr&gt; | BEKKC &lt;chr&gt; | BEKK1 &lt;chr&gt; | BEKK2 &lt;chr&gt; | BEKK3 &lt;chr&gt; | BEKK4 &lt;chr&gt; | BEKK5 &lt;chr&gt; | BEKK6 &lt;chr&gt; | BEKK7 &lt;chr&gt; | BEKK8 &lt;chr&gt; |\n",
       "|---|---|---|---|---|---|---|---|---|---|\n",
       "| mu10  | 0.0013 (0.0013)  | 0.0015 (0.0013)  | 0.0014 (0.0013)  | 0.0015 (0.0013)  | 0.0019 (0.0012)  | 0.0019 (0.0012)  | 0.0019 (0.0012)  | 0.0016 (0.0014)  | 0.0021 (0.0012)  |\n",
       "| mu20  | 0.0019 (0.0012)  | -3e-04 (4e-04)   | -6e-04 (5e-04)   | 3e-04 (5e-04)    | 6e-04 (5e-04)    | 3e-04 (4e-04)    | 0.001 (5e-04)    | -0.0032 (8e-04)  | -0.0024 (9e-04)  |\n",
       "| phi11 | -0.1553 (0.0782) | 0.0458 (0.0364)  | 0.0555 (0.0361)  | 0.0565 (0.0353)  | 0.0827 (0.0349)  | 0.0824 (0.0353)  | 0.0864 (0.035)   | 0.0445 (0.0349)  | 0.0837 (0.0348)  |\n",
       "| phi12 | 0.2479 (0.0881)  | -0.0372 (0.1096) | -0.138 (0.1019)  | -0.1863 (0.0917) | 0.0804 (0.0875)  | 0.0347 (0.1027)  | -0.0576 (0.0798) | 0.0871 (0.059)   | 0.0814 (0.0438)  |\n",
       "| phi13 | NA               | NA               | NA               | NA               | NA               | NA               | NA               | -0.0163 (0.0349) | NA               |\n",
       "| phi14 | NA               | NA               | NA               | NA               | NA               | NA               | NA               | -0.0456 (0.0591) | NA               |\n",
       "| phi15 | NA               | NA               | NA               | NA               | NA               | NA               | NA               | -0.0137 (0.035)  | NA               |\n",
       "| phi16 | NA               | NA               | NA               | NA               | NA               | NA               | NA               | -0.0738 (0.0591) | NA               |\n",
       "| phi17 | NA               | NA               | NA               | NA               | NA               | NA               | NA               | -0.0121 (0.0351) | NA               |\n",
       "| phi18 | NA               | NA               | NA               | NA               | NA               | NA               | NA               | 0.0226 (0.0591)  | NA               |\n",
       "| phi21 | -0.073 (0.07)    | -0.0072 (0.0118) | 0.0137 (0.0124)  | -0.0029 (0.0133) | -0.0171 (0.0135) | -0.0196 (0.0117) | -0.0183 (0.0149) | 0.0085 (0.0199)  | -0.0131 (0.0269) |\n",
       "| phi22 | 0.1581 (0.0788)  | -0.0028 (0.0355) | -0.0439 (0.0351) | -0.0595 (0.0345) | -0.0324 (0.0338) | -0.0316 (0.0342) | -0.0374 (0.0339) | 0.0633 (0.0336)  | 0.0483 (0.0338)  |\n",
       "| phi23 | NA               | NA               | NA               | NA               | NA               | NA               | NA               | 0.0049 (0.0199)  | NA               |\n",
       "| phi24 | NA               | NA               | NA               | NA               | NA               | NA               | NA               | 0.1086 (0.0337)  | NA               |\n",
       "| phi25 | NA               | NA               | NA               | NA               | NA               | NA               | NA               | 9e-04 (0.0199)   | NA               |\n",
       "| phi26 | NA               | NA               | NA               | NA               | NA               | NA               | NA               | -0.0477 (0.0337) | NA               |\n",
       "| phi27 | NA               | NA               | NA               | NA               | NA               | NA               | NA               | -0.0087 (0.02)   | NA               |\n",
       "| phi28 | NA               | NA               | NA               | NA               | NA               | NA               | NA               | -0.1456 (0.0337) | NA               |\n",
       "| a11   | 0.0284 (0.0566)  | 0.3036 (0.0271)  | 0.301 (0.02)     | 0.2691 (0.0253)  | 0.3015 (0.0234)  | 0.3104 (0.024)   | 0.3235 (0.0254)  | 0.2569 (0.02)    | 0.2661 (0.0201)  |\n",
       "| a12   | -0.1379 (0.0503) | -0.0082 (0.0105) | -0.0032 (0.0095) | -0.0266 (0.0134) | -2e-04 (0.0108)  | -1e-04 (0.009)   | -0.0228 (0.0193) | -0.0277 (0.0093) | -0.02 (0.0177)   |\n",
       "| a21   | 0.2969 (0.0525)  | 0.0358 (0.0885)  | -0.0207 (0.0824) | 0.1832 (0.0858)  | 0.0622 (0.0658)  | 0.1017 (0.0732)  | 0.1553 (0.0735)  | 0.0288 (0.0547)  | 0.0054 (0.0468)  |\n",
       "| a22   | 0.4491 (0.0519)  | 0.2781 (0.0284)  | 0.3062 (0.0258)  | 0.4367 (0.0256)  | 0.3025 (0.0243)  | 0.2648 (0.0199)  | 0.2662 (0.0387)  | 0.6804 (0.0168)  | 0.648 (0.0243)   |\n",
       "| g11   | 0.9614 (0.0221)  | 0.9338 (0.0166)  | 0.9459 (0.0104)  | 0.9523 (0.0131)  | 0.945 (0.0108)   | 0.9405 (0.0118)  | 0.9386 (0.0124)  | 0.9556 (0.0099)  | 0.9565 (0.0087)  |\n",
       "| g12   | -0.0194 (0.0204) | 0.0071 (0.0054)  | 0.0029 (0.0041)  | 0.0147 (0.0076)  | -0.0013 (0.0047) | 9e-04 (0.004)    | 0.0051 (0.0097)  | 0.0069 (0.0068)  | 0.0051 (0.0142)  |\n",
       "| g21   | -0.0171 (0.0206) | 0.0016 (0.0483)  | -0.062 (0.0399)  | -0.0473 (0.0553) | 0.0359 (0.0348)  | -0.0038 (0.0354) | -0.055 (0.0709)  | -1e-04 (0.0348)  | 0.002 (0.0309)   |\n",
       "| g22   | 0.9636 (0.0188)  | 0.9435 (0.0126)  | 0.9314 (0.0116)  | 0.8608 (0.0226)  | 0.9337 (0.012)   | 0.952 (0.0081)   | 0.8749 (0.0497)  | 0.7358 (0.0147)  | 0.7549 (0.0233)  |\n",
       "\n"
      ],
      "text/plain": [
       "   Parameters BEKKC            BEKK1            BEKK2           \n",
       "1  mu10       0.0013 (0.0013)  0.0015 (0.0013)  0.0014 (0.0013) \n",
       "2  mu20       0.0019 (0.0012)  -3e-04 (4e-04)   -6e-04 (5e-04)  \n",
       "3  phi11      -0.1553 (0.0782) 0.0458 (0.0364)  0.0555 (0.0361) \n",
       "4  phi12      0.2479 (0.0881)  -0.0372 (0.1096) -0.138 (0.1019) \n",
       "5  phi13      NA               NA               NA              \n",
       "6  phi14      NA               NA               NA              \n",
       "7  phi15      NA               NA               NA              \n",
       "8  phi16      NA               NA               NA              \n",
       "9  phi17      NA               NA               NA              \n",
       "10 phi18      NA               NA               NA              \n",
       "11 phi21      -0.073 (0.07)    -0.0072 (0.0118) 0.0137 (0.0124) \n",
       "12 phi22      0.1581 (0.0788)  -0.0028 (0.0355) -0.0439 (0.0351)\n",
       "13 phi23      NA               NA               NA              \n",
       "14 phi24      NA               NA               NA              \n",
       "15 phi25      NA               NA               NA              \n",
       "16 phi26      NA               NA               NA              \n",
       "17 phi27      NA               NA               NA              \n",
       "18 phi28      NA               NA               NA              \n",
       "19 a11        0.0284 (0.0566)  0.3036 (0.0271)  0.301 (0.02)    \n",
       "20 a12        -0.1379 (0.0503) -0.0082 (0.0105) -0.0032 (0.0095)\n",
       "21 a21        0.2969 (0.0525)  0.0358 (0.0885)  -0.0207 (0.0824)\n",
       "22 a22        0.4491 (0.0519)  0.2781 (0.0284)  0.3062 (0.0258) \n",
       "23 g11        0.9614 (0.0221)  0.9338 (0.0166)  0.9459 (0.0104) \n",
       "24 g12        -0.0194 (0.0204) 0.0071 (0.0054)  0.0029 (0.0041) \n",
       "25 g21        -0.0171 (0.0206) 0.0016 (0.0483)  -0.062 (0.0399) \n",
       "26 g22        0.9636 (0.0188)  0.9435 (0.0126)  0.9314 (0.0116) \n",
       "   BEKK3            BEKK4            BEKK5            BEKK6           \n",
       "1  0.0015 (0.0013)  0.0019 (0.0012)  0.0019 (0.0012)  0.0019 (0.0012) \n",
       "2  3e-04 (5e-04)    6e-04 (5e-04)    3e-04 (4e-04)    0.001 (5e-04)   \n",
       "3  0.0565 (0.0353)  0.0827 (0.0349)  0.0824 (0.0353)  0.0864 (0.035)  \n",
       "4  -0.1863 (0.0917) 0.0804 (0.0875)  0.0347 (0.1027)  -0.0576 (0.0798)\n",
       "5  NA               NA               NA               NA              \n",
       "6  NA               NA               NA               NA              \n",
       "7  NA               NA               NA               NA              \n",
       "8  NA               NA               NA               NA              \n",
       "9  NA               NA               NA               NA              \n",
       "10 NA               NA               NA               NA              \n",
       "11 -0.0029 (0.0133) -0.0171 (0.0135) -0.0196 (0.0117) -0.0183 (0.0149)\n",
       "12 -0.0595 (0.0345) -0.0324 (0.0338) -0.0316 (0.0342) -0.0374 (0.0339)\n",
       "13 NA               NA               NA               NA              \n",
       "14 NA               NA               NA               NA              \n",
       "15 NA               NA               NA               NA              \n",
       "16 NA               NA               NA               NA              \n",
       "17 NA               NA               NA               NA              \n",
       "18 NA               NA               NA               NA              \n",
       "19 0.2691 (0.0253)  0.3015 (0.0234)  0.3104 (0.024)   0.3235 (0.0254) \n",
       "20 -0.0266 (0.0134) -2e-04 (0.0108)  -1e-04 (0.009)   -0.0228 (0.0193)\n",
       "21 0.1832 (0.0858)  0.0622 (0.0658)  0.1017 (0.0732)  0.1553 (0.0735) \n",
       "22 0.4367 (0.0256)  0.3025 (0.0243)  0.2648 (0.0199)  0.2662 (0.0387) \n",
       "23 0.9523 (0.0131)  0.945 (0.0108)   0.9405 (0.0118)  0.9386 (0.0124) \n",
       "24 0.0147 (0.0076)  -0.0013 (0.0047) 9e-04 (0.004)    0.0051 (0.0097) \n",
       "25 -0.0473 (0.0553) 0.0359 (0.0348)  -0.0038 (0.0354) -0.055 (0.0709) \n",
       "26 0.8608 (0.0226)  0.9337 (0.012)   0.952 (0.0081)   0.8749 (0.0497) \n",
       "   BEKK7            BEKK8           \n",
       "1  0.0016 (0.0014)  0.0021 (0.0012) \n",
       "2  -0.0032 (8e-04)  -0.0024 (9e-04) \n",
       "3  0.0445 (0.0349)  0.0837 (0.0348) \n",
       "4  0.0871 (0.059)   0.0814 (0.0438) \n",
       "5  -0.0163 (0.0349) NA              \n",
       "6  -0.0456 (0.0591) NA              \n",
       "7  -0.0137 (0.035)  NA              \n",
       "8  -0.0738 (0.0591) NA              \n",
       "9  -0.0121 (0.0351) NA              \n",
       "10 0.0226 (0.0591)  NA              \n",
       "11 0.0085 (0.0199)  -0.0131 (0.0269)\n",
       "12 0.0633 (0.0336)  0.0483 (0.0338) \n",
       "13 0.0049 (0.0199)  NA              \n",
       "14 0.1086 (0.0337)  NA              \n",
       "15 9e-04 (0.0199)   NA              \n",
       "16 -0.0477 (0.0337) NA              \n",
       "17 -0.0087 (0.02)   NA              \n",
       "18 -0.1456 (0.0337) NA              \n",
       "19 0.2569 (0.02)    0.2661 (0.0201) \n",
       "20 -0.0277 (0.0093) -0.02 (0.0177)  \n",
       "21 0.0288 (0.0547)  0.0054 (0.0468) \n",
       "22 0.6804 (0.0168)  0.648 (0.0243)  \n",
       "23 0.9556 (0.0099)  0.9565 (0.0087) \n",
       "24 0.0069 (0.0068)  0.0051 (0.0142) \n",
       "25 -1e-04 (0.0348)  0.002 (0.0309)  \n",
       "26 0.7358 (0.0147)  0.7549 (0.0233) "
      ]
     },
     "metadata": {},
     "output_type": "display_data"
    }
   ],
   "source": [
    "weekly_bekk"
   ]
  },
  {
   "cell_type": "code",
   "execution_count": null,
   "id": "69dbfd44-1353-4885-bcbf-39166a459bbd",
   "metadata": {},
   "outputs": [],
   "source": []
  }
 ],
 "metadata": {
  "kernelspec": {
   "display_name": "R",
   "language": "R",
   "name": "ir"
  },
  "language_info": {
   "codemirror_mode": "r",
   "file_extension": ".r",
   "mimetype": "text/x-r-source",
   "name": "R",
   "pygments_lexer": "r",
   "version": "4.3.3"
  }
 },
 "nbformat": 4,
 "nbformat_minor": 5
}
